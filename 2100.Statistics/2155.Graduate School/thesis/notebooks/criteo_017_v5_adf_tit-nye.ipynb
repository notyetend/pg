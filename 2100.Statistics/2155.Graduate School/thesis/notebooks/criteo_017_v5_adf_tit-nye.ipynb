{
 "cells": [
  {
   "cell_type": "markdown",
   "metadata": {},
   "source": [
    "# 빅데이터 분석을 위한 실시간 로지스틱 회귀모형에 관현 연구\n",
    "## : 베이지안 접근법을 중심으로"
   ]
  },
  {
   "cell_type": "markdown",
   "metadata": {},
   "source": [
    "---"
   ]
  },
  {
   "cell_type": "markdown",
   "metadata": {},
   "source": [
    "## 1. 배경"
   ]
  },
  {
   "cell_type": "markdown",
   "metadata": {},
   "source": []
  },
  {
   "cell_type": "markdown",
   "metadata": {},
   "source": [
    "## 2. 해싱을 이용한 가변수 코딩(Feature Hashing)"
   ]
  },
  {
   "cell_type": "markdown",
   "metadata": {},
   "source": []
  },
  {
   "cell_type": "markdown",
   "metadata": {},
   "source": [
    "## 3. 온라인 최적화 알고리즘"
   ]
  },
  {
   "cell_type": "markdown",
   "metadata": {},
   "source": []
  },
  {
   "cell_type": "markdown",
   "metadata": {},
   "source": [
    "### 3.1. 확률적 경사 하강법(Stochastic Gradient Descent)"
   ]
  },
  {
   "cell_type": "markdown",
   "metadata": {
    "collapsed": true
   },
   "source": [
    "> 최적화(optimization) 알고리즘의 하나인 경사하강법(Gradient descent)에서는 전체 샘플 데이터를 스캔 할 때마다 회귀 계수 추정치를 갱신해 나간다. 비용함수(cost function)를 $J(w) = \\frac{1}{2} \\sum_{i}(target^{(i)} - output^{(i)})^{2}$ 라 할때 길이가 j인 계수 벡터(weight vector) $w_i$를 $w_{i+1}=w_{i}+\\Delta w$로 갱신하는 매 반복에서 $j$개의 모수 추정치($w$)를 얼마만큼 줄일지 혹은 늘릴지 $\\Delta w$ 값을 결정해야 한다. 여기에서 $\\Delta w$는 아래와 같다.\n",
    "\\begin{eqnarray}\n",
    "\\Delta w_{j} \t&=& -\\alpha \\frac{\\delta J}{\\delta w_{j}} \\\\\n",
    "\t\t\t\t\t\t\t&=& -\\alpha \\sum_{i}(target^{(i)} - output^{(i)})(-x^{(i)_{j}}) \\\\\n",
    "\t\t\t\t\t\t\t&=& \\alpha \\sum_{i}(target^{(i)} - output^{(i)})(x^{(i)_{j}})\n",
    "\\end{eqnarray}\n",
    "즉 비용함수(cost function)의 경사도가 크면 그만큼 많이 $w$값을 수정하게 되는데, 학습 계수(learning rate, step size) $\\alpha$에 비례하여 수정치가 결정된다.\n",
    "\n",
    "> 경사하강법에서는 한번 $w$값을 수정하기 위하여 전체 샘플 데이터를 스캔하게 된다. 그런데 이런 방식은 샘플의 수가 많은 경우 \n",
    "비용함수 $J(w)$를 최소로 하는 $w$값을 찾기 까지 그 처리 시간이 길어 지게 된다. 모수에 대한 학습(learning)이나 추론(inference)를 진행할 때 데이터의 크기가 작거나 데이터의 수집으로부터 예측까지 시간적 여유가 있을 경우 데이터 전체를 한꺼번에 활용하는 일괄 처리(batch processing) 방식을 사용한다. 반면 데이터를 한꺼번에 처리하기에 그 크기가 지나치게 크거나 스트리밍(streaming)으로 유입되는 데이터에 대해서 실시간으로 예측을 처리해야 하는 경우 온라인 학습(online learning)을 사용해야 할 필요성이 있다.\n",
    "\n",
    "> 이처럼 매 갱신에서 전체 샘플 데이터를 사용하는 대신 샘플 하나 혹은 일부분만을 사용하여 $w$ 값을 갱신해 가는 경사하강법을 확률적 경사 하강법(Stochastic Gradient Descent, Online Gradient Descent)이라 하며, 확률적 이라는 단어에서 알 수 있듯이 $J(w)$를 최소로 하는 $w$값을 확률적 근사방법으로 찾아가는 것이다. 하나의 샘플만을 이용해 $w$의 갱신 방향과 크기를 결정하기 때문에 경사하강법과는 달리 $J(w)$값이 커지는 경우도 있으나 샘플 수가 충분할 경우 $J(w)$의 전역 최소값으로 수렴하는 $w$를 찾을 수 있는 것으로 알려져 있다."
   ]
  },
  {
   "cell_type": "markdown",
   "metadata": {},
   "source": [
    "> - 본 연구에서는 전체 파라미터 벡터에 동일한 step size 초기값을 설정하고, iteration이 증가하면서 각 hashed-feature가 등장하는 횟수로 step size를 나눈다.  \n",
    "> - 즉 특정 hashed-feature가 많이 등장할 수록 해당 회귀 모수에 대한 step-size가 감소하게 되고, 자주 등장하지 않는 hashed-feature의 경우 비교적 큰 step-size를 갖게 된다."
   ]
  },
  {
   "cell_type": "markdown",
   "metadata": {},
   "source": [
    "###### [알고리즘]"
   ]
  },
  {
   "cell_type": "code",
   "execution_count": 2,
   "metadata": {
    "collapsed": false
   },
   "outputs": [
    {
     "ename": "NameError",
     "evalue": "name 'fi_titanic' is not defined",
     "output_type": "error",
     "traceback": [
      "\u001b[1;31m---------------------------------------------------------------------------\u001b[0m",
      "\u001b[1;31mNameError\u001b[0m                                 Traceback (most recent call last)",
      "\u001b[1;32m<ipython-input-2-911b9639ded6>\u001b[0m in \u001b[0;36m<module>\u001b[1;34m()\u001b[0m\n\u001b[0;32m      1\u001b[0m \u001b[1;31m# simplified version of SGD\u001b[0m\u001b[1;33m\u001b[0m\u001b[1;33m\u001b[0m\u001b[0m\n\u001b[1;32m----> 2\u001b[1;33m \u001b[0mc_fi\u001b[0m \u001b[1;33m=\u001b[0m \u001b[0mfi_titanic\u001b[0m\u001b[1;33m\u001b[0m\u001b[0m\n\u001b[0m\u001b[0;32m      3\u001b[0m \u001b[1;33m\u001b[0m\u001b[0m\n\u001b[0;32m      4\u001b[0m \u001b[0mD\u001b[0m \u001b[1;33m=\u001b[0m \u001b[1;36m2\u001b[0m \u001b[1;33m**\u001b[0m \u001b[1;36m20\u001b[0m\u001b[1;33m\u001b[0m\u001b[0m\n\u001b[0;32m      5\u001b[0m \u001b[0malpha\u001b[0m \u001b[1;33m=\u001b[0m \u001b[1;36m0.92000539999999997\u001b[0m \u001b[1;31m# initial value for setp size alpha\u001b[0m\u001b[1;33m\u001b[0m\u001b[0m\n",
      "\u001b[1;31mNameError\u001b[0m: name 'fi_titanic' is not defined"
     ]
    }
   ],
   "source": [
    "# simplified version of SGD\n",
    "c_fi = fi_titanic\n",
    "\n",
    "D = 2 ** 20\n",
    "alpha = 0.92000539999999997 # initial value for setp size alpha\n",
    "w = [0.] * D  # feature vector\n",
    "n = np.array([0.] * (D))\n",
    "\n",
    "f = open(c_fi.file_path)\n",
    "for t, row in enumerate(DictReader(f, fieldnames=c_fi.l_header_names, delimiter=c_fi.seperator)):  # for titanic(comma seperated)\n",
    "    if t == 0:\n",
    "        continue\n",
    "    del row['PassengerId']\n",
    "    \n",
    "    y = 1. if row[c_fi.ylab] == '1' else 0.\n",
    "    del row[c_fi.ylab]\n",
    "    \n",
    "    x = get_x_mmh3(row, D)\n",
    "    p = get_p(x, w)\n",
    "    w, n = update_w_withn(w, n, x, p, y, alpha)\n",
    "f.close()"
   ]
  },
  {
   "cell_type": "code",
   "execution_count": 3,
   "metadata": {
    "collapsed": true
   },
   "outputs": [],
   "source": [
    "def update_w_withn(w, n, x, p, y, alpha):\n",
    "    for i in x:\n",
    "        w[i] -= (p - y) * alpha / (sqrt(n[i]) + 1.)\n",
    "        n[i] += 1.\n",
    "    return w, n"
   ]
  },
  {
   "cell_type": "markdown",
   "metadata": {},
   "source": [
    "### 3.2. 추정된 밀도 필터링(Assumed Density Filtering)"
   ]
  },
  {
   "cell_type": "markdown",
   "metadata": {},
   "source": [
    "###### 추정된 밀도 필터링(Assumed-density filtering, ADF) 이란?"
   ]
  },
  {
   "cell_type": "markdown",
   "metadata": {},
   "source": [
    "> 추정된 밀도 필터링(Assumed-density filtering, ADF)는 베이지안 네트워크 혹은 여타의 통계 모형에서 사후분포를 근사적으로 계산하는 방법으로서 통계학에는 Lauritzen, 1992이 제안. 분야에 따라 달리 불림\n",
    " \n",
    " > - 추정된 밀도 필터링(Assumed-density filtering)  \n",
    " > - 온라인 베이지안 학습(On-line Bayesian learning)  \n",
    " > - 적률 대응(Moment matching)  \n",
    " > - 약한 주변화(Weak marginalization)  "
   ]
  },
  {
   "cell_type": "markdown",
   "metadata": {},
   "source": [
    ">  ADF에서는 사후분포를 가우시안과 같은 특정 분포로 근사하는 방법으로서 예측-갱신-투영(predict-update-project)과정을 반복한다. \n",
    " \n",
    "> - 예측(predict): 모수 $\\theta$에 대한 $t-1$ 시점의 사전분포, $q_{t-1}(\\theta_{t-1})$와 $t$시점의 관측치를 이용하여 이후 시점 $t$에서의 $\\theta$에 대한 사후예측분포, $q_{t|t-1}(\\theta_{t})$를 구함\n",
    "> - 갱신(update): 앞서 구한 사전분포와 사후예측분포를 이용하여 $\\theta$에 대한 사후분포, $\\hat{p}(\\theta_t)$를 구함 \n",
    "> - 투영(project): 마지막으로 이 사후 분포가 다루기 쉬운 형태가 아닌 경우가 빈번하기 때문에 다루기 쉬운 분포로 투영(project)ㅡ"
   ]
  },
  {
   "cell_type": "markdown",
   "metadata": {},
   "source": [
    "> - 근사 사전분포: \n",
    "$$q_{t-1}(\\theta_{t-1}) \\approx p(\\theta_{t-1}|y_{1:t-1})$$\n",
    "<br>\n",
    "- 1단계 사후예측분포: \n",
    "$$q_{t|t-1}(\\theta_t) = \\int p(\\theta_t | \\theta_{t-1}) q_{t-1}(\\theta_{t-1}) d\\theta_{t-1}$$\n",
    "<br>\n",
    "- 사후분포:\n",
    "$$\\hat{p}(\\theta_t) = \\frac{1}{Z_t}p(y_t | \\theta_t)q_{t|t-1}(\\theta_t)$$\n",
    "<br>\n",
    "- 정규화 상수(normalizing constant):\n",
    "$$Z_t = \\int p(y_t | \\theta_{t-1})q_{t|t-1}(\\theta_{t})d\\theta_{t}$$\n",
    "<br>\n",
    "- 근사 사후분포:\n",
    "$$q(\\theta_t) = \\arg\\min_{q \\in Q} \\mathrm{KL}(\\hat{p}(\\theta_t || q(\\theta_t)) $$"
   ]
  },
  {
   "cell_type": "markdown",
   "metadata": {},
   "source": [
    "###### 지수족에서의 추정된 밀도 필터링(Assumed-density filtering, ADF) "
   ]
  },
  {
   "cell_type": "markdown",
   "metadata": {},
   "source": [
    "> 투영하려는 분포 $q$가 지수족에 속할 경우 단순히 적률 대응(moment matching)만으로 $q(\\theta_t)$를 구할수 있다. 따라서 일반화 선형모형에 적률 대응을 적용."
   ]
  },
  {
   "cell_type": "markdown",
   "metadata": {},
   "source": [
    "> 편의를 위해 설명변수와 회귀계수의 선형식(systematic component)을 $s_t=\\theta_t^T x_t$라 하고, 만약 $\\theta_t$에 대한 1단계 사후예측분포, $q_{t|t-1}(\\theta_t)$가$\\prod_i N(\\theta_{t,i};\\mu_{t|t-1,i},\\sigma^2_{t|t-1,i})$라면 $s_t$의 사후 예측분포, $q_{t|t-1}(s_t)$ 는 아래와 같다.\n",
    "\n",
    "> \\begin{eqnarray}\n",
    "   q_{t|t-1}(s_{t}) &\\equiv& N(s_t;m_{t|t-1}, {v}_{t|t-1})\n",
    "\\\\ m_{t|t-1} &=& \\sum^N_{i=1}x_{t,i}\\mu_{t|t-1,i}\n",
    "\\\\ {v}_{t|t-1} &=& \\sum^N_{i=1}x^2_{t,i}{\\sigma}^2_{t|t-1,i}\n",
    "\\end{eqnarray}\n",
    "\n",
    "> 이때 $s_t$의 사후분포, $q_t(s_t)$는 아래와 같다.\n",
    "\n",
    "> \\begin{eqnarray}\n",
    " q_t(s_t) &\\equiv& N(s_t; m_t, v_t)\n",
    " \\\\ m_t &=& \\int s_t \\frac{1}{z_t} f(y_t|s_t) q_{t|t-1}(s_t)ds_t\n",
    " \\\\ v_t &=& \\int s^2_t \\frac{1}{z_t} f(y_t|s_t) q_{t|t-1}(s_t) ds_t - m_t^2  \n",
    "\\\\ z_t &=& \\int f(y_t|s_t) q_{t|t-1}(s_t)ds_t\n",
    "\\\\ f(y_t|s_t) &\\equiv& Ber(y_t;\\pi = sigmoid(s_t))\n",
    "\\\\ & =& \\pi^{y_t} (1-\\pi)^{(1-y_t)}, \\quad y_t \\in \\{0,1\\}\n",
    "\\end{eqnarray}"
   ]
  },
  {
   "cell_type": "markdown",
   "metadata": {},
   "source": [
    "> 가우시안 구적법(Gaussian quadrature)을 이용해 위 적분식 근사\n",
    "$$\\int^b_a W(x)f(x)dx \\approx \\sum^N_{j=1}w_j f(x_j)$$\n",
    "$$\\chi=\\chi'\\sqrt{2}\\sigma_{s_t}+\\mu_{s_t}$$ \n",
    "$$\\omega_i = \\frac{\\omega'}{\\sqrt{\\pi}}$$\n",
    "\n",
    "> \\begin{eqnarray}\n",
    "q_t(s_t) &=& N(s_t; \\tilde{m}_t, \\tilde{v}_t)\n",
    "\\\\ \\tilde{m}_t &=& \\frac{1}{\\tilde{z}_t} \\sum_i \\chi_i f(y_t; \\chi_i ) \\omega_i\n",
    "\\\\ \\tilde{v}_t &=& \\frac{1}{\\tilde{z}_t} \\sum_i \\chi^2_i f(y_t; \\chi_i ) \\omega_i - \\tilde{m}^2_t\n",
    "\\\\ \\tilde{z}_t &=& \\sum_i f(y_t; \\chi_i ) \\omega_i\n",
    "\\end{eqnarray}"
   ]
  },
  {
   "cell_type": "markdown",
   "metadata": {},
   "source": [
    "###### 알고리즘"
   ]
  },
  {
   "cell_type": "code",
   "execution_count": 4,
   "metadata": {
    "collapsed": false
   },
   "outputs": [
    {
     "ename": "NameError",
     "evalue": "name 'np' is not defined",
     "output_type": "error",
     "traceback": [
      "\u001b[1;31m---------------------------------------------------------------------------\u001b[0m",
      "\u001b[1;31mNameError\u001b[0m                                 Traceback (most recent call last)",
      "\u001b[1;32m<ipython-input-4-f1169350cd7b>\u001b[0m in \u001b[0;36m<module>\u001b[1;34m()\u001b[0m\n\u001b[0;32m      1\u001b[0m \u001b[0minit_v\u001b[0m \u001b[1;33m=\u001b[0m \u001b[1;36m0.52007399999999993\u001b[0m \u001b[1;31m# best for titanic\u001b[0m\u001b[1;33m\u001b[0m\u001b[0m\n\u001b[0;32m      2\u001b[0m \u001b[1;33m\u001b[0m\u001b[0m\n\u001b[1;32m----> 3\u001b[1;33m \u001b[0mtheta_t_m\u001b[0m \u001b[1;33m=\u001b[0m \u001b[0mnp\u001b[0m\u001b[1;33m.\u001b[0m\u001b[0marray\u001b[0m\u001b[1;33m(\u001b[0m\u001b[1;33m[\u001b[0m\u001b[1;36m0.\u001b[0m\u001b[1;33m]\u001b[0m \u001b[1;33m*\u001b[0m \u001b[1;33m(\u001b[0m\u001b[0mD\u001b[0m\u001b[1;33m)\u001b[0m\u001b[1;33m)\u001b[0m \u001b[1;31m# mean of thetas at t\u001b[0m\u001b[1;33m\u001b[0m\u001b[0m\n\u001b[0m\u001b[0;32m      4\u001b[0m \u001b[0mtheta_t_v\u001b[0m \u001b[1;33m=\u001b[0m \u001b[0mnp\u001b[0m\u001b[1;33m.\u001b[0m\u001b[0marray\u001b[0m\u001b[1;33m(\u001b[0m\u001b[1;33m[\u001b[0m\u001b[0minit_v\u001b[0m\u001b[1;33m]\u001b[0m \u001b[1;33m*\u001b[0m \u001b[1;33m(\u001b[0m\u001b[0mD\u001b[0m\u001b[1;33m)\u001b[0m\u001b[1;33m)\u001b[0m \u001b[1;31m# variance of thetas at t\u001b[0m\u001b[1;33m\u001b[0m\u001b[0m\n\u001b[0;32m      5\u001b[0m \u001b[0mn\u001b[0m \u001b[1;33m=\u001b[0m \u001b[0mnp\u001b[0m\u001b[1;33m.\u001b[0m\u001b[0marray\u001b[0m\u001b[1;33m(\u001b[0m\u001b[1;33m[\u001b[0m\u001b[1;36m0.\u001b[0m\u001b[1;33m]\u001b[0m \u001b[1;33m*\u001b[0m \u001b[0mD\u001b[0m\u001b[1;33m)\u001b[0m\u001b[1;33m\u001b[0m\u001b[0m\n",
      "\u001b[1;31mNameError\u001b[0m: name 'np' is not defined"
     ]
    }
   ],
   "source": [
    "init_v = 0.52007399999999993 # best for titanic\n",
    "\n",
    "theta_t_m = np.array([0.] * (D)) # mean of thetas at t\n",
    "theta_t_v = np.array([init_v] * (D)) # variance of thetas at t\n",
    "n = np.array([0.] * D)\n",
    "\n",
    "f = open(c_fi.file_path)\n",
    "for t, row in enumerate(DictReader(f, fieldnames=c_fi.l_header_names, delimiter=c_fi.seperator)):\n",
    "\n",
    "    if t == 0:\n",
    "        continue\n",
    "    del row['PassengerId']\n",
    "    \n",
    "    y = 1. if row[c_fi.ylab] == '1' else 0.\n",
    "    del row[c_fi.ylab]\n",
    "\n",
    "    x = get_x_mmh3(row, D)\n",
    "\n",
    "    # Predictive distribution for s_t ~ N(s_t_m_old, s_t_v_old)\n",
    "    s_t_m_old = sum(theta_t_m[x])\n",
    "    s_t_v_old = sum(theta_t_v[x])\n",
    "\n",
    "    # Posterior distribution for s_t\n",
    "    s_t_m, s_t_v = get_s_t_new(y, s_t_m_old, s_t_v_old)\n",
    "\n",
    "    # Changes in s_t\n",
    "    delta_m = s_t_m - s_t_m_old\n",
    "    delta_v = s_t_v - s_t_v_old\n",
    "\n",
    "    # Updating theta\n",
    "    update_theta_cat(x, theta_t_m, theta_t_v, delta_m, delta_v, t, n)\n",
    "\n",
    "    #p = get_p_cat(x, theta_t_m)\n",
    "\n",
    "f.close()"
   ]
  },
  {
   "cell_type": "code",
   "execution_count": 5,
   "metadata": {
    "collapsed": true
   },
   "outputs": [],
   "source": [
    "# s_t_m_old and s_t_v_old must be numpy ndarray\n",
    "def get_s_t_new(y, s_t_m_old, s_t_v_old):\n",
    "\n",
    "    wi = wwi / np.sqrt(np.pi)\n",
    "    xi = xxi * np.sqrt(2) * np.sqrt(s_t_v_old) + s_t_m_old\n",
    "    \n",
    "    fw = 0.\n",
    "    if(y==1):\n",
    "        fw = (1. / (1. + np.exp(-xi))) * wi\n",
    "    else:\n",
    "        fw = ((np.exp(-xi)) / (1. + np.exp(-xi))) * wi\n",
    "\n",
    "    z_t = sum(fw)\n",
    "    s_t_m_new = 1. / z_t * sum(xi * fw)\n",
    "    s_t_v_new = 1. / z_t * sum((xi**2) * fw) - s_t_m_new**2\n",
    "        \n",
    "    return (s_t_m_new, s_t_v_new)"
   ]
  },
  {
   "cell_type": "code",
   "execution_count": 6,
   "metadata": {
    "collapsed": true
   },
   "outputs": [],
   "source": [
    "def update_theta_cat(x, theta_t_m, theta_t_v, delta_m, delta_v, n_iter, n):\n",
    "    a_i = get_a_i_cat(x, theta_t_v)\n",
    "    theta_t_m[x] += (a_i * delta_m)\n",
    "    theta_t_v[x] += ((a_i**2) * delta_v)\n",
    "    n[x] += 1."
   ]
  },
  {
   "cell_type": "code",
   "execution_count": 7,
   "metadata": {
    "collapsed": true
   },
   "outputs": [],
   "source": [
    "# theta_t_v must be numpy ndarray\n",
    "def get_a_i_cat(x, theta_t_v):\n",
    "    return theta_t_v[x] / sum(theta_t_v[x])"
   ]
  },
  {
   "cell_type": "markdown",
   "metadata": {},
   "source": [
    "## 4. 실험"
   ]
  },
  {
   "cell_type": "markdown",
   "metadata": {},
   "source": [
    "### 4.1. 실험(타이타닉 데이터)"
   ]
  },
  {
   "cell_type": "markdown",
   "metadata": {},
   "source": [
    "###### 개요"
   ]
  },
  {
   "cell_type": "markdown",
   "metadata": {
    "collapsed": true
   },
   "source": [
    "> - 소규모 데이터를 이용한 실험을 위해 891건의 타이타닉 생존자 데이터를 이용  \n",
    "> - 데이터는 생존여부(0, 1)를 나타내는 'Survived'와 탑승자의 특성을 나타내는 8가지 변수로 구성됨.\n",
    "> - 초기 800건을 훈련 데이터, 나머지 91건을 테스트 데이터로 사용"
   ]
  },
  {
   "cell_type": "markdown",
   "metadata": {},
   "source": [
    "###### 최적 초기값"
   ]
  },
  {
   "cell_type": "markdown",
   "metadata": {},
   "source": [
    "> SGD는 step size의 초기값($\\alpha_{init}$)에, ADF는 회귀 계수 분포의 초기 분산값($V_{init}$)에 큰 영향을 받음.  \n",
    "> 주어진 데이터에 최적인 $\\alpha_{init}$과 $V_{init}$를 찾기 위해 각 값을 변화시키면서, 훈련 데이터와 테스트 데이터에 대한 log-loss를 관찰함"
   ]
  },
  {
   "cell_type": "markdown",
   "metadata": {},
   "source": [
    "> $logloss = -\\frac{1}{N}\\sum_{i=1}^N {(y_i\\log(p_i) + (1 - y_i)\\log(1 - p_i))}$"
   ]
  },
  {
   "cell_type": "markdown",
   "metadata": {},
   "source": [
    "<center>**Stochastic Gadient Descent**</center>"
   ]
  },
  {
   "cell_type": "markdown",
   "metadata": {},
   "source": [
    " ![Local image](./images/best_param_sgd_T.png \"Tooltip for local image\")"
   ]
  },
  {
   "cell_type": "markdown",
   "metadata": {},
   "source": [
    "|          | Index     | $\\alpha$          |  log-loss |\n",
    "|----------|:-------:|:--------------:|\n",
    "| AUC      | 11 | 0.11000779999999999 | 0.46879230769345764"
   ]
  },
  {
   "cell_type": "markdown",
   "metadata": {},
   "source": [
    ">  테스트 데이터에 최소 log-loss를 갖는 $\\alpha$값은 0.11000779999999999"
   ]
  },
  {
   "cell_type": "markdown",
   "metadata": {},
   "source": [
    "<center>**Assumed Density Filtering**</center>"
   ]
  },
  {
   "cell_type": "markdown",
   "metadata": {},
   "source": [
    " ![Local image](./images/best_param_adf_T.png \"Tooltip for local image\")"
   ]
  },
  {
   "cell_type": "markdown",
   "metadata": {},
   "source": [
    "|          | Index     | $\\alpha$          |  log-loss |\n",
    "|----------|:-------:|:--------------:|\n",
    "| AUC      | 13 | 0.52007399999999993 | 0.39539652671035114\n",
    "\n",
    "> 테스트 데이터에 최소 log-loss를 갖는 분산값은 0.52007399999999993"
   ]
  },
  {
   "cell_type": "markdown",
   "metadata": {},
   "source": [
    "###### 훈련 데이터 크기에 따른 log-loss 비교"
   ]
  },
  {
   "cell_type": "markdown",
   "metadata": {},
   "source": [
    "> 16건의 훈련 데이터를 더 사용할 때마다 그때의 회귀 계수 벡터를 이용하여 91건의 테스트 데이터에 대한 log-loss 추이를 두 방법론(SGD, ADF)에 대해 비교한다."
   ]
  },
  {
   "cell_type": "markdown",
   "metadata": {},
   "source": [
    " ![Local image](./images/step_vali_comparison_T.png \"Tooltip for local image\")"
   ]
  },
  {
   "cell_type": "markdown",
   "metadata": {},
   "source": [
    "> 전반적으로 ADF에 비해 SGD의 log-loss가 낮음."
   ]
  },
  {
   "cell_type": "markdown",
   "metadata": {},
   "source": [
    " ![Local image](./images/step_vali_roc_T.png \"Tooltip for local image\")"
   ]
  },
  {
   "cell_type": "markdown",
   "metadata": {},
   "source": [
    "|          | SGD     | ADF          |\n",
    "|----------|:-------:|:--------------:|\n",
    "| AUC      |0.90041279669762642 | 0.88802889576883381  |"
   ]
  },
  {
   "cell_type": "markdown",
   "metadata": {},
   "source": [
    "### 4.2. 실험(온라인 광고 데이터)"
   ]
  },
  {
   "cell_type": "markdown",
   "metadata": {},
   "source": [
    "###### 개요"
   ]
  },
  {
   "cell_type": "markdown",
   "metadata": {},
   "source": [
    "> Criteo에서 'Kaggle 대회'를 위해 공개한 4천 5백만건 상당의 온라인 광고 데이터를 사용하였다. 데이터는 웹사이트 방문자가 해당 광고를 클릭 했으냐 혹은 하지 않았느냐를 나타내는 이항 반응변수 Label과 39개의 설명변수로 구성되어 있다. 그리고 각 설명변수는 범주형으로서 범주는 500개 이상으로 실제 데이터의 경우 훈련 데이터에 없던 범주가 새롭게 등장 할 수도 있는 특성을 갖는다. 이러한 데이터를 일괄처리(batch) 방식으로 처리한다면 대략 $19,500 \\times 45,000,000$ 크기의 매트릭스 연산을 수행해야 한다."
   ]
  },
  {
   "cell_type": "markdown",
   "metadata": {},
   "source": [
    "###### 최적 초기값"
   ]
  },
  {
   "cell_type": "markdown",
   "metadata": {},
   "source": [
    "<center>**Stochastic Gadient Descent**</center>"
   ]
  },
  {
   "cell_type": "markdown",
   "metadata": {
    "collapsed": true
   },
   "source": [
    " ![Local image](./images/best_param_sgd_C.png \"Tooltip for local image\")"
   ]
  },
  {
   "cell_type": "markdown",
   "metadata": {},
   "source": []
  },
  {
   "cell_type": "markdown",
   "metadata": {},
   "source": [
    "<center>**Assumed Density Filtering**</center>"
   ]
  },
  {
   "cell_type": "markdown",
   "metadata": {},
   "source": [
    " ![Local image](./images/best_param_adf_C.png \"Tooltip for local image\")"
   ]
  },
  {
   "cell_type": "markdown",
   "metadata": {},
   "source": []
  },
  {
   "cell_type": "markdown",
   "metadata": {},
   "source": [
    "###### 훈련 데이터 크기에 따른 log-loss 비교"
   ]
  },
  {
   "cell_type": "markdown",
   "metadata": {},
   "source": [
    " ![Local image](./images/step_vali_comparison_C.png \"Tooltip for local image\")"
   ]
  },
  {
   "cell_type": "markdown",
   "metadata": {},
   "source": [
    " ![Local image](./images/step_vali_roc_C.png \"Tooltip for local image\")"
   ]
  },
  {
   "cell_type": "markdown",
   "metadata": {},
   "source": [
    "|          | SGD     | ADF          |\n",
    "|----------|:-------:|:--------------:|\n",
    "| AUC      | 0.75874125874125875 | 0.75699300699300698 |"
   ]
  },
  {
   "cell_type": "markdown",
   "metadata": {},
   "source": [
    "## 5. 맺음말"
   ]
  },
  {
   "cell_type": "code",
   "execution_count": null,
   "metadata": {
    "collapsed": true
   },
   "outputs": [],
   "source": []
  },
  {
   "cell_type": "code",
   "execution_count": null,
   "metadata": {
    "collapsed": true
   },
   "outputs": [],
   "source": []
  },
  {
   "cell_type": "markdown",
   "metadata": {},
   "source": [
    "# [부록 - 구현]"
   ]
  },
  {
   "cell_type": "markdown",
   "metadata": {},
   "source": [
    "### Simulation SGD for titanic data"
   ]
  },
  {
   "cell_type": "code",
   "execution_count": 8,
   "metadata": {
    "collapsed": true
   },
   "outputs": [],
   "source": [
    "from datetime import datetime\n",
    "from csv import DictReader\n",
    "from math import exp, log, sqrt\n",
    "import numpy as np\n",
    "import mmh3\n",
    "import time\n",
    "from spooky import hash128, hash64, hash32\n",
    "\n",
    "from sklearn.metrics import roc_curve, auc\n",
    "import scipy.stats as stats\n",
    "import matplotlib.pyplot as plt\n",
    "import matplotlib as mpl\n",
    "\n",
    "%matplotlib inline"
   ]
  },
  {
   "cell_type": "markdown",
   "metadata": {},
   "source": [
    "###### Parameters"
   ]
  },
  {
   "cell_type": "code",
   "execution_count": 9,
   "metadata": {
    "collapsed": false
   },
   "outputs": [],
   "source": [
    "D = 2 ** 20\n",
    "rand_seed = 1004\n",
    "\n",
    "num_poly = 10\n",
    "xxi, wwi = np.polynomial.hermite.hermgauss(num_poly)"
   ]
  },
  {
   "cell_type": "code",
   "execution_count": 10,
   "metadata": {
    "collapsed": true
   },
   "outputs": [],
   "source": [
    "class DataSize:\n",
    "    def __init__(self\n",
    "                 , num_metric_check_point\n",
    "                 , num_status_check_point\n",
    "                 , num_train_data_start\n",
    "                 , num_train_data_size\n",
    "                 , num_test_data_start\n",
    "                 , num_test_data_size):\n",
    "        \n",
    "        self.num_metric_check_point = num_metric_check_point\n",
    "        self.num_status_check_point = num_status_check_point\n",
    "        \n",
    "        self.num_train_data_start = num_train_data_start\n",
    "        self.num_train_data_end = self.num_train_data_start + num_train_data_size - 1 # fixed\n",
    "        \n",
    "        self.num_test_data_start = num_test_data_start\n",
    "        self.num_test_data_end = self.num_test_data_start + num_test_data_size - 1 # fixed\n",
    "        \n",
    "    def display(self):\n",
    "        print(\"num_metric_check_point: %s\" %(self.num_metric_check_point))\n",
    "        print(\"num_status_check_point: %s\" %(self.num_status_check_point))\n",
    "        print(\"num_train_data_start  : %s\" %(self.num_train_data_start))\n",
    "        print(\"num_train_data_end    : %s\" %(self.num_train_data_end))\n",
    "        print(\"num_train_data_size   : %s\" %(self.num_train_data_end - self.num_train_data_start + 1))\n",
    "        print(\"num_test_data_start   : %s\" %(self.num_test_data_start))\n",
    "        print(\"num_test_data_end     : %s\" %(self.num_test_data_end))\n",
    "        print(\"num_test_data_size    : %s\" %(self.num_test_data_end - self.num_test_data_start + 1))"
   ]
  },
  {
   "cell_type": "code",
   "execution_count": 11,
   "metadata": {
    "collapsed": true
   },
   "outputs": [],
   "source": [
    "class FileInfo:\n",
    "    def __init__(self\n",
    "                , _file_path\n",
    "                , _f_having_header\n",
    "                , _l_header_names\n",
    "                , _seperator\n",
    "                , _l_skip_columns\n",
    "                , _ylab):\n",
    "        self.file_path = _file_path\n",
    "        self.f_having_header = _f_having_header\n",
    "        self.l_header_names = _l_header_names\n",
    "        self.seperator = _seperator\n",
    "        self.l_skip_columns = _l_skip_columns\n",
    "        self.ylab = _ylab\n",
    "    "
   ]
  },
  {
   "cell_type": "code",
   "execution_count": 12,
   "metadata": {
    "collapsed": true
   },
   "outputs": [],
   "source": [
    "fi_titanic = FileInfo(\n",
    "                r'C:/My/Playground/Git/2016_Thesis/100_Simulation/data/train.csv' # _file_path\n",
    "                , True # _f_having_header\n",
    "                , ['PassengerId', 'Survived', 'Pclass', 'Name', 'Sex'\n",
    "                   , 'Age', 'SibSp', 'Parch', 'Ticket', 'Fare', 'Cabin' , 'Embarked'] # _l_header_names\n",
    "                , ',' # _seperator\n",
    "                , ['PassengerId']# _l_skip_columns\n",
    "                , 'Survived'# _ylab\n",
    "                )\n",
    "\n",
    "fi_criteo = FileInfo(\n",
    "                r'C:\\Temp\\dac.tar\\train.txt' # _file_path\n",
    "                , False # _f_having_header\n",
    "                , ['Label'] + [ 'I' + str(i) for i in list(range(1,14))] + [ 'C' + str(i) for i in list(range(1,27))] # _l_header_names\n",
    "                , '\\t' # _seperator\n",
    "                , []# _l_skip_columns\n",
    "                , 'Label'# _ylab\n",
    "                )"
   ]
  },
  {
   "cell_type": "markdown",
   "metadata": {},
   "source": [
    "###### Functions"
   ]
  },
  {
   "cell_type": "code",
   "execution_count": 13,
   "metadata": {
    "collapsed": true
   },
   "outputs": [],
   "source": [
    "# csv_row must be dict\n",
    "def get_x_mmh3(csv_row, D):\n",
    "    x = [0]\n",
    "    for key, value in csv_row.items():\n",
    "        index = mmh3.hash128(str(key) + str(value), seed=rand_seed, x64arch=True) % D\n",
    "        x.append(index)\n",
    "    return x"
   ]
  },
  {
   "cell_type": "code",
   "execution_count": 14,
   "metadata": {
    "collapsed": true
   },
   "outputs": [],
   "source": [
    "# csv_row must be dict\n",
    "def get_x_spooky(csv_row, D):\n",
    "    x = [0]\n",
    "    for key, value in csv_row.items():\n",
    "        index = hash32(str(key) + str(value)) % D\n",
    "        x.append(index)\n",
    "    return x"
   ]
  },
  {
   "cell_type": "code",
   "execution_count": 15,
   "metadata": {
    "collapsed": true
   },
   "outputs": [],
   "source": [
    "def get_p(x, w):\n",
    "    wTx = 0.\n",
    "    for i in x:  # do wTx\n",
    "        wTx += w[i] * 1.  # w[i] * x[i], but if i in x we got x[i] = 1.\n",
    "    return 1. / (1. + exp(-max(min(wTx, 20.), -20.)))  # bounded sigmoid"
   ]
  },
  {
   "cell_type": "code",
   "execution_count": 16,
   "metadata": {
    "collapsed": true
   },
   "outputs": [],
   "source": [
    "# w must be numpy ndarray\n",
    "def get_p_cat(x, w):\n",
    "    wTx = sum(w[x])\n",
    "    return 1. / (1. + exp(-max(min(wTx, 20.), -20.)))  # bounded sigmoid"
   ]
  },
  {
   "cell_type": "code",
   "execution_count": 17,
   "metadata": {
    "collapsed": true
   },
   "outputs": [],
   "source": [
    "def logloss(p, y):\n",
    "    p = max(min(p, 1. - 10e-12), 10e-12)\n",
    "    return -log(p) if y == 1. else -log(1. - p)"
   ]
  },
  {
   "cell_type": "code",
   "execution_count": 18,
   "metadata": {
    "collapsed": false
   },
   "outputs": [],
   "source": [
    "def get_validation_metrics(c_fi,start, end, wlen, w, f_debug):\n",
    "    \n",
    "    log_loss = 0.\n",
    "    arr_y = []\n",
    "    arr_p = []\n",
    "        \n",
    "    f = open(c_fi.file_path)\n",
    "    for t, row in enumerate(DictReader(f, fieldnames=c_fi.l_header_names, delimiter=c_fi.seperator)):\n",
    "        if t == 0:\n",
    "            continue # just for titanic\n",
    "        \n",
    "        if t < start: # fixed\n",
    "            continue;\n",
    "\n",
    "        y = 1. if row[c_fi.ylab] == '1' else 0.\n",
    "        del row[c_fi.ylab]\n",
    "        arr_y.append(y)\n",
    "        \n",
    "        if(len(c_fi.l_skip_columns) > 0):\n",
    "            for i in range(len(c_fi.l_skip_columns)):\n",
    "                del row[(c_fi.l_skip_columns)[i]] # for titanic\n",
    "        \n",
    "        x = get_x_mmh3(row, wlen)\n",
    "        \n",
    "        p = 0\n",
    "        if(isinstance(w, list)):\n",
    "            p = get_p(x, w)\n",
    "        else:\n",
    "            p = get_p_cat(x, w)\n",
    "        arr_p.append(p)\n",
    "        \n",
    "        log_loss += logloss(p, y)   \n",
    "        \n",
    "        if f_debug:\n",
    "            if t >= 1:  # fixed\n",
    "                print(' [get_validation_metrics] %s\\tencountered: %d\\t y=%d: %f, loss:%f' % (\n",
    "                    datetime.now(), (t), y, p, log_loss/t))\n",
    "\n",
    "        # End of ...\n",
    "        if t >= end: # fixed\n",
    "            break;\n",
    "    \n",
    "    f.close()\n",
    "    \n",
    "    return(log_loss, arr_y, arr_p)\n",
    "\n",
    "#fn = ['Label'] + [ 'I' + str(i) for i in list(range(1,14))] + [ 'C' + str(i) for i in list(range(1,27))]\n",
    "#get_validation_metrics(train, fn, '\\t', 'Label', num_test_data_start, num_test_data_end, D, w)"
   ]
  },
  {
   "cell_type": "code",
   "execution_count": 19,
   "metadata": {
    "collapsed": true
   },
   "outputs": [],
   "source": [
    "def plot_log_loss(arr_log_loss):\n",
    "    plt.figure(num=None, figsize=(13, 6), dpi=80, facecolor='w', edgecolor='k')\n",
    "    x = range(len(arr_log_loss))\n",
    "    plt.plot(x, arr_log_loss, label='log_loss', marker='o')"
   ]
  },
  {
   "cell_type": "markdown",
   "metadata": {},
   "source": [
    "# SGD"
   ]
  },
  {
   "cell_type": "markdown",
   "metadata": {},
   "source": [
    "###### Functions"
   ]
  },
  {
   "cell_type": "code",
   "execution_count": 20,
   "metadata": {
    "collapsed": true
   },
   "outputs": [],
   "source": [
    "def update_w_withn(w, n, x, p, y, alpha):\n",
    "    for i in x:\n",
    "        w[i] -= (p - y) * alpha / (sqrt(n[i]) + 1.)\n",
    "        n[i] += 1.\n",
    "    return w, n"
   ]
  },
  {
   "cell_type": "code",
   "execution_count": 21,
   "metadata": {
    "collapsed": true
   },
   "outputs": [],
   "source": [
    "def update_w(w, n, x, p, y, alpha):\n",
    "    for i in x:\n",
    "        w[i] -= (p - y) * alpha\n",
    "        n[i] += 1.\n",
    "    return w, n"
   ]
  },
  {
   "cell_type": "markdown",
   "metadata": {
    "collapsed": true
   },
   "source": [
    "###### Training function"
   ]
  },
  {
   "cell_type": "code",
   "execution_count": 22,
   "metadata": {
    "collapsed": false
   },
   "outputs": [],
   "source": [
    "def sgd_training(alpha, D, f_debug, f_step_validation, f_validation, c_ds, c_fi):\n",
    "    w = [0.] * D  # weights\n",
    "    n = np.array([0.] * (D))\n",
    "\n",
    "    start_time = time.time()\n",
    "\n",
    "    log_loss_sgd_training = 0.\n",
    "    arr_log_loss_sgd_test = []\n",
    "    \n",
    "    f = open(c_fi.file_path)\n",
    "    fn = c_fi.l_header_names\n",
    "    \n",
    "    for t, row in enumerate(DictReader(f, fieldnames=fn, delimiter=c_fi.seperator)):  # for titanic(comma seperated)\n",
    "        \n",
    "        if len(c_fi.l_skip_columns) > 0 :\n",
    "            for i in range(len(c_fi.l_skip_columns)):\n",
    "                del row[(c_fi.l_skip_columns)[i]] # for titanic\n",
    "        \n",
    "        if t == 0 & c_fi.f_having_header:\n",
    "            continue\n",
    "        \n",
    "        if t < c_ds.num_train_data_start:\n",
    "            continue\n",
    "        # Start of ...\n",
    "        \n",
    "        y = 1. if row[c_fi.ylab] == '1' else 0.\n",
    "        del row[c_fi.ylab]\n",
    "\n",
    "        x = get_x_mmh3(row, D)\n",
    "        p = get_p(x, w)\n",
    "        w, n = update_w_withn(w, n, x, p, y, alpha)\n",
    "\n",
    "        p = get_p(x, w)\n",
    "        log_loss_sgd_training += logloss(p, y)\n",
    "        \n",
    "        if f_debug:\n",
    "            if t % c_ds.num_status_check_point == 0 and t >= 1:  # for titanic\n",
    "                print('%s\\tencountered: %d\\t y=%d: %f, loss:%f' % (\n",
    "                    datetime.now(), (t), y, p, log_loss_sgd_training/t))\n",
    "        if f_step_validation:\n",
    "            if t % c_ds.num_metric_check_point == 0 and t > 1:\n",
    "                rt_log_loss, arr_y, arr_p = get_validation_metrics(\n",
    "                        c_fi\n",
    "                        , c_ds.num_test_data_start\n",
    "                        , c_ds.num_test_data_end\n",
    "                        , D\n",
    "                        , w\n",
    "                        , f_debug)\n",
    "\n",
    "                arr_log_loss_sgd_test.append(rt_log_loss / (c_ds.num_test_data_end - c_ds.num_test_data_start))\n",
    "                \n",
    "        if t >= c_ds.num_train_data_end:\n",
    "            break\n",
    "    f.close()\n",
    "\n",
    "    if f_debug:\n",
    "        print(\"---Total execution time: %s seconds ---\" % (time.time() - start_time))\n",
    "\n",
    "    # Return different variables as mode selected.\n",
    "    if f_step_validation:\n",
    "        return(arr_log_loss_sgd_test)\n",
    "    elif f_validation:\n",
    "        rt_log_loss_sgd_training = log_loss_sgd_training / (c_ds.num_train_data_end - c_ds.num_train_data_start)\n",
    "        \n",
    "        rt_log_loss_sgd_test, arr_y, arr_p = get_validation_metrics(\n",
    "                        c_fi\n",
    "                        , c_ds.num_test_data_start\n",
    "                        , c_ds.num_test_data_end\n",
    "                        , D\n",
    "                        , w\n",
    "                        , f_debug)\n",
    "        \n",
    "        rt_log_loss_sgd_test = rt_log_loss_sgd_test / (c_ds.num_test_data_end - c_ds.num_test_data_start)\n",
    "        \n",
    "        return((w, arr_y, arr_p, rt_log_loss_sgd_training, rt_log_loss_sgd_test))\n",
    "   "
   ]
  },
  {
   "cell_type": "markdown",
   "metadata": {},
   "source": [
    "# ADF"
   ]
  },
  {
   "cell_type": "markdown",
   "metadata": {},
   "source": [
    "###### Functions"
   ]
  },
  {
   "cell_type": "code",
   "execution_count": 23,
   "metadata": {
    "collapsed": true
   },
   "outputs": [],
   "source": [
    "# s_t_m_old and s_t_v_old must be numpy ndarray\n",
    "def get_s_t_new(y, s_t_m_old, s_t_v_old):\n",
    "\n",
    "    wi = wwi / np.sqrt(np.pi)\n",
    "    xi = xxi * np.sqrt(2) * np.sqrt(s_t_v_old) + s_t_m_old\n",
    "    \n",
    "    fw = 0.\n",
    "    if(y==1):\n",
    "        fw = (1. / (1. + np.exp(-xi))) * wi\n",
    "    else:\n",
    "        fw = ((np.exp(-xi)) / (1. + np.exp(-xi))) * wi\n",
    "\n",
    "    z_t = sum(fw)\n",
    "    s_t_m_new = 1. / z_t * sum(xi * fw)\n",
    "    s_t_v_new = 1. / z_t * sum((xi**2) * fw) - s_t_m_new**2\n",
    "        \n",
    "    return (s_t_m_new, s_t_v_new)"
   ]
  },
  {
   "cell_type": "code",
   "execution_count": 24,
   "metadata": {
    "collapsed": true
   },
   "outputs": [],
   "source": [
    "# theta_t_v must be numpy ndarray\n",
    "def get_a_i_cat(x, theta_t_v):\n",
    "    return theta_t_v[x] / sum(theta_t_v[x])"
   ]
  },
  {
   "cell_type": "code",
   "execution_count": 25,
   "metadata": {
    "collapsed": true
   },
   "outputs": [],
   "source": [
    "def update_theta_cat(x, theta_t_m, theta_t_v, delta_m, delta_v, n_iter, n):\n",
    "    a_i = get_a_i_cat(x, theta_t_v)\n",
    "    theta_t_m[x] += (a_i * delta_m)\n",
    "    theta_t_v[x] += ((a_i**2) * delta_v)\n",
    "    #theta_t_v[x] += ((a_i**2) * delta_v) + abs(theta_t_m[x])/min((n_iter+1.), 3000.)\n",
    "    #theta_t_v[x] += ((a_i**2) * delta_v) + abs(theta_t_m[x])/(n_iter+1.)\n",
    "    #theta_t_v[x] += ((a_i**2) * delta_v / np.sqrt(n[x] + 1.))\n",
    "    #theta_t_v[x] += ((a_i**2) * delta_v) + 1. / np.sqrt(n[x] + 1.)\n",
    "    #theta_t_v[x] += ((a_i**2) * delta_v) + abs(theta_t_m[x])/np.sqrt(n[x] + 1.)\n",
    "    n[x] += 1."
   ]
  },
  {
   "cell_type": "markdown",
   "metadata": {},
   "source": [
    "###### Trainning function"
   ]
  },
  {
   "cell_type": "code",
   "execution_count": 26,
   "metadata": {
    "collapsed": true
   },
   "outputs": [],
   "source": [
    "def adf_training(variance, D, f_debug, f_step_validation, f_validation, c_ds, c_fi):\n",
    "    theta_t_m = np.array([0.] * (D)) # mean of thetas at t\n",
    "    theta_t_v = np.array([variance] * (D)) # variance of thetas at t\n",
    "    n = np.array([0.] * D)\n",
    "\n",
    "    start_time = time.time()\n",
    "    \n",
    "    log_loss_adf_training = 0.\n",
    "    arr_log_loss_adf_test = []\n",
    "    \n",
    "    f = open(c_fi.file_path)\n",
    "    fn = c_fi.l_header_names\n",
    "    \n",
    "    for t, row in enumerate(DictReader(f, fieldnames=fn, delimiter=c_fi.seperator)):\n",
    "    \n",
    "        if len(c_fi.l_skip_columns) > 0 :\n",
    "            for i in range(len(c_fi.l_skip_columns)):\n",
    "                del row[(c_fi.l_skip_columns)[i]] # for titanic\n",
    "        \n",
    "        if t == 0 & c_fi.f_having_header:\n",
    "            continue\n",
    "            \n",
    "        if t < c_ds.num_train_data_start:\n",
    "            continue\n",
    "        # Start of ...\n",
    "\n",
    "\n",
    "        y = 1. if row[c_fi.ylab] == '1' else 0.\n",
    "        del row[c_fi.ylab]\n",
    "        \n",
    "        x = get_x_mmh3(row, D)\n",
    "\n",
    "        # Predictive distribution for s_t ~ N(s_t_m_old, s_t_v_old)\n",
    "        s_t_m_old = sum(theta_t_m[x])\n",
    "        s_t_v_old = sum(theta_t_v[x])\n",
    "\n",
    "        # Posterior distribution for s_t\n",
    "        s_t_m, s_t_v = get_s_t_new(y, s_t_m_old, s_t_v_old)\n",
    "\n",
    "        # Changes in s_t\n",
    "        delta_m = s_t_m - s_t_m_old\n",
    "        delta_v = s_t_v - s_t_v_old\n",
    "\n",
    "        # Updating theta\n",
    "        update_theta_cat(x, theta_t_m, theta_t_v, delta_m, delta_v, t, n)\n",
    "\n",
    "        p = get_p_cat(x, theta_t_m)\n",
    "\n",
    "        log_loss_adf_training += logloss(p, y)\n",
    "        \n",
    "        if f_debug:\n",
    "            if y == 1.:\n",
    "                print('%s\\tencountered: %d\\t y=%d: %f, loss:%f' % (\n",
    "                    datetime.now(), (t), y, p, log_loss_adf_training/t))\n",
    "            if t % c_ds.num_status_check_point == 0 and t > 1:\n",
    "                print('%s\\tencountered: %d\\t y=%d: %f, loss:%f' % (\n",
    "                    datetime.now(), (t), y, p, log_loss_adf_training/t))\n",
    "\n",
    "        if f_step_validation:\n",
    "            if t % c_ds.num_metric_check_point == 0 and t > 1:\n",
    "                rt_log_loss, arr_y, arr_p = get_validation_metrics(\n",
    "                        c_fi\n",
    "                        , c_ds.num_test_data_start\n",
    "                        , c_ds.num_test_data_end\n",
    "                        , D\n",
    "                        , theta_t_m\n",
    "                        , f_debug)\n",
    "                \n",
    "                arr_log_loss_adf_test.append(rt_log_loss / (c_ds.num_test_data_end - c_ds.num_test_data_start))\n",
    "\n",
    "        # End of ...\n",
    "        if t >= c_ds.num_train_data_end:\n",
    "            break\n",
    "    f.close()\n",
    "    \n",
    "    if f_debug:\n",
    "        print(\"---Total execution time: %s seconds ---\" % (time.time() - start_time))\n",
    "    \n",
    "    if f_step_validation:\n",
    "        return(arr_log_loss_adf_test)\n",
    "    \n",
    "    if f_validation:\n",
    "        rt_log_loss_adf_training = log_loss_adf_training / (c_ds.num_train_data_end - c_ds.num_train_data_start)\n",
    "        \n",
    "        rt_log_loss_adf_test, arr_y, arr_p = get_validation_metrics(\n",
    "                        c_fi\n",
    "                        , c_ds.num_test_data_start\n",
    "                        , c_ds.num_test_data_end\n",
    "                        , D\n",
    "                        , theta_t_m\n",
    "                        , f_debug)\n",
    "        rt_log_loss_adf_test = rt_log_loss_adf_test / (c_ds.num_test_data_end - c_ds.num_test_data_start)\n",
    "        \n",
    "        return((theta_t_m, arr_y, arr_p, rt_log_loss_adf_training, rt_log_loss_adf_test))\n"
   ]
  },
  {
   "cell_type": "markdown",
   "metadata": {},
   "source": [
    "###### Choose Data-set to simulate"
   ]
  },
  {
   "cell_type": "code",
   "execution_count": 27,
   "metadata": {
    "collapsed": true
   },
   "outputs": [],
   "source": [
    "TEST_DATA = 'C'"
   ]
  },
  {
   "cell_type": "markdown",
   "metadata": {},
   "source": [
    "# Validation"
   ]
  },
  {
   "cell_type": "markdown",
   "metadata": {},
   "source": [
    "# Let's find best parameters.(validation)"
   ]
  },
  {
   "cell_type": "code",
   "execution_count": 28,
   "metadata": {
    "collapsed": false
   },
   "outputs": [],
   "source": [
    "ds_best_param_titanic = DataSize(10      # num_metric_check_point\n",
    "                         , 1      # num_status_check_point\n",
    "                         , 1, 700        #train_start, train_size\n",
    "                         , 701, 191)    #test_start, test_size\n",
    "\n",
    "ds_best_param_criteo = DataSize(10      # num_metric_check_point\n",
    "                         , 1      # num_status_check_point\n",
    "                         , 1, 3000        #train_start, train_size\n",
    "                         , 3001, 1000)    #test_start, test_size\n",
    "\n",
    "ds_best_param_criteo = DataSize(10      # num_metric_check_point\n",
    "                         , 1      # num_status_check_point\n",
    "                         , 1, 10000        #train_start, train_size\n",
    "                         , 10001, 5000)    #test_start, test_size"
   ]
  },
  {
   "cell_type": "markdown",
   "metadata": {},
   "source": [
    "###### SGD : alpha"
   ]
  },
  {
   "cell_type": "code",
   "execution_count": 29,
   "metadata": {
    "collapsed": false
   },
   "outputs": [
    {
     "name": "stdout",
     "output_type": "stream",
     "text": [
      "2016-05-15 19:18:15.851399, i:0, param:1e-05, log-loss(tr:0.6918403588996792, te:0.6912976563543055)\n",
      "2016-05-15 19:18:18.494041, i:1, param:0.0100098, log-loss(tr:0.49044689711343914, te:0.5055813437416765)\n",
      "2016-05-15 19:18:21.112887, i:2, param:0.0200096, log-loss(tr:0.4625502985876282, te:0.49180951214842233)\n",
      "2016-05-15 19:18:23.712671, i:3, param:0.0300094, log-loss(tr:0.44138048512224426, te:0.4837358400077645)\n",
      "2016-05-15 19:18:26.382024, i:4, param:0.0400092, log-loss(tr:0.4233142604535997, te:0.47862909631204886)\n",
      "2016-05-15 19:18:29.044417, i:5, param:0.050009, log-loss(tr:0.40717346369673746, te:0.4752195053322043)\n",
      "2016-05-15 19:18:31.566666, i:6, param:0.0600088, log-loss(tr:0.3923736244975191, te:0.47287194628291773)\n",
      "2016-05-15 19:18:34.133071, i:7, param:0.0700086, log-loss(tr:0.3785815800374904, te:0.47124089392561797)\n",
      "2016-05-15 19:18:36.640006, i:8, param:0.0800084, log-loss(tr:0.36559179485708765, te:0.47012396943873586)\n",
      "2016-05-15 19:18:39.157443, i:9, param:0.0900082, log-loss(tr:0.3532698982022108, te:0.46939481878264167)\n",
      "2016-05-15 19:18:41.673066, i:10, param:0.100008, log-loss(tr:0.3415237640053782, te:0.46897011568823593)\n",
      "2016-05-15 19:18:44.171208, i:11, param:0.1100078, log-loss(tr:0.330287578703691, te:0.46879230769345764)\n",
      "2016-05-15 19:18:46.674601, i:12, param:0.1200076, log-loss(tr:0.3195125758479837, te:0.46882008080032556)\n",
      "2016-05-15 19:18:49.184297, i:13, param:0.1300074, log-loss(tr:0.3091614062033541, te:0.4690228179381882)\n",
      "2016-05-15 19:18:51.701074, i:14, param:0.1400072, log-loss(tr:0.2992045875913354, te:0.4693772271776464)\n",
      "2016-05-15 19:18:54.194337, i:15, param:0.150007, log-loss(tr:0.2896181932169808, te:0.4698652027445778)\n",
      "2016-05-15 19:18:56.748217, i:16, param:0.1600068, log-loss(tr:0.28038230352815396, te:0.47047241613373536)\n",
      "2016-05-15 19:18:59.237173, i:17, param:0.1700066, log-loss(tr:0.2714799433760288, te:0.4711873565088992)\n",
      "2016-05-15 19:19:01.713008, i:18, param:0.1800064, log-loss(tr:0.2628963361706617, te:0.47200065750751335)\n",
      "2016-05-15 19:19:04.186371, i:19, param:0.1900062, log-loss(tr:0.2546183703151998, te:0.4729046125938326)\n",
      "2016-05-15 19:19:06.672514, i:20, param:0.200006, log-loss(tr:0.24663421112116876, te:0.4738928182218612)\n",
      "2016-05-15 19:19:09.145519, i:21, param:0.2100058, log-loss(tr:0.23893301462408548, te:0.4749599059567152)\n",
      "2016-05-15 19:19:11.612134, i:22, param:0.2200056, log-loss(tr:0.23150471426198582, te:0.4761013380067676)\n",
      "2016-05-15 19:19:14.094299, i:23, param:0.2300054, log-loss(tr:0.22433986067117703, te:0.47731324893388943)\n",
      "2016-05-15 19:19:16.612013, i:24, param:0.2400052, log-loss(tr:0.21742950089289978, te:0.4785923216397808)\n",
      "2016-05-15 19:19:19.117585, i:25, param:0.250005, log-loss(tr:0.21076508727172683, te:0.4799356892239319)\n",
      "2016-05-15 19:19:21.650227, i:26, param:0.2600048, log-loss(tr:0.20433840899850772, te:0.48134085665308646)\n",
      "2016-05-15 19:19:24.138814, i:27, param:0.2700046, log-loss(tr:0.19814154107014398, te:0.4828056377856724)\n",
      "2016-05-15 19:19:26.622807, i:28, param:0.2800044, log-loss(tr:0.19216680670073683, te:0.4843281044137536)\n",
      "2016-05-15 19:19:29.069105, i:29, param:0.2900042, log-loss(tr:0.1864067501148142, te:0.4859065447822367)\n",
      "2016-05-15 19:19:31.536516, i:30, param:0.300004, log-loss(tr:0.18085411730767686, te:0.4875394296251108)\n",
      "2016-05-15 19:19:33.996924, i:31, param:0.3100038, log-loss(tr:0.17550184285153478, te:0.4892253841900739)\n",
      "2016-05-15 19:19:36.498372, i:32, param:0.3200036, log-loss(tr:0.17034304121095803, te:0.4909631650512117)\n",
      "2016-05-15 19:19:38.983521, i:33, param:0.3300034, log-loss(tr:0.16537100134042287, te:0.4927516407642083)\n",
      "2016-05-15 19:19:41.460634, i:34, param:0.3400032, log-loss(tr:0.16057918359063408, te:0.49458977562008194)\n",
      "2016-05-15 19:19:43.913118, i:35, param:0.350003, log-loss(tr:0.15596121816132288, te:0.4964766159142293)\n",
      "2016-05-15 19:19:46.395698, i:36, param:0.3600028, log-loss(tr:0.15151090451377108, te:0.49841127827692966)\n",
      "2016-05-15 19:19:48.901747, i:37, param:0.3700026, log-loss(tr:0.14722221130140406, te:0.5003929397144914)\n",
      "2016-05-15 19:19:51.453383, i:38, param:0.3800024, log-loss(tr:0.14308927649482833, te:0.5024208290918044)\n",
      "2016-05-15 19:19:53.949050, i:39, param:0.3900022, log-loss(tr:0.1391064074719948, te:0.5044942198494059)\n",
      "2016-05-15 19:19:56.593939, i:40, param:0.400002, log-loss(tr:0.13526808091785408, te:0.5066124237948179)\n",
      "2016-05-15 19:19:59.208022, i:41, param:0.4100018, log-loss(tr:0.13156894243392878, te:0.5087747858405954)\n",
      "2016-05-15 19:20:01.845362, i:42, param:0.4200016, log-loss(tr:0.12800380580008303, te:0.5109806795835485)\n",
      "2016-05-15 19:20:04.499336, i:43, param:0.4300014, log-loss(tr:0.12456765186107348, te:0.5132295036328436)\n",
      "2016-05-15 19:20:07.128090, i:44, param:0.4400012, log-loss(tr:0.12125562703205937, te:0.5155206786022419)\n",
      "2016-05-15 19:20:09.839833, i:45, param:0.450001, log-loss(tr:0.11806304143224787, te:0.5178536446855276)\n",
      "2016-05-15 19:20:12.373601, i:46, param:0.4600008, log-loss(tr:0.11498536666598914, te:0.5202278597363633)\n",
      "2016-05-15 19:20:14.901587, i:47, param:0.4700006, log-loss(tr:0.11201823327733958, te:0.5226427977757333)\n",
      "2016-05-15 19:20:17.388313, i:48, param:0.4800004, log-loss(tr:0.10915742790822434, te:0.5250979478529979)\n",
      "2016-05-15 19:20:20.357713, i:49, param:0.4900002, log-loss(tr:0.10639889019269375, te:0.527592813190649)\n",
      "---Total execution time: 127.17217421531677 seconds ---\n"
     ]
    }
   ],
   "source": [
    "start_time = time.time()\n",
    "\n",
    "\n",
    "if(TEST_DATA == 'T'):\n",
    "    arr_alpha = list(np.linspace(.00001, 2., 50, endpoint=False))\n",
    "    \n",
    "    arr_log_loss_sgd_train_best_alpha = [0]*len(arr_alpha)\n",
    "    arr_log_loss_sgd_test_best_alpha = [0]*len(arr_alpha)\n",
    "    \n",
    "    for i in range(0,len(arr_alpha)):\n",
    "        param, arr_y, arr_p, arr_log_loss_sgd_train_best_alpha[i], arr_log_loss_sgd_test_best_alpha[i] = sgd_training(alpha =\n",
    "                 arr_alpha[i]\n",
    "                 , D = 2**20\n",
    "                 , f_debug = False\n",
    "                 , f_step_validation = False\n",
    "                 , f_validation = True\n",
    "                 , c_ds = ds_best_param_titanic\n",
    "                 , c_fi = fi_titanic)\n",
    "\n",
    "        print('%s, i:%s, param:%s, log-loss(tr:%s, te:%s)' %(datetime.now(), i, arr_alpha[i]\n",
    "                                                         , arr_log_loss_sgd_train_best_alpha[i]\n",
    "                                                         , arr_log_loss_sgd_test_best_alpha[i]))\n",
    "elif(TEST_DATA == 'C'):\n",
    "    arr_alpha = list(np.linspace(.00001, .5, 50, endpoint=False))\n",
    "    \n",
    "    arr_log_loss_sgd_train_best_alpha = [0]*len(arr_alpha)\n",
    "    arr_log_loss_sgd_test_best_alpha = [0]*len(arr_alpha)\n",
    "\n",
    "    for i in range(0,len(arr_alpha)):\n",
    "        param, arr_y, arr_p, arr_log_loss_sgd_train_best_alpha[i], arr_log_loss_sgd_test_best_alpha[i] = sgd_training(alpha =\n",
    "                 arr_alpha[i]\n",
    "                 , D = 2**20\n",
    "                 , f_debug = False\n",
    "                 , f_step_validation = False\n",
    "                 , f_validation = True\n",
    "                 , c_ds = ds_best_param_criteo\n",
    "                 , c_fi = fi_criteo)\n",
    "\n",
    "        print('%s, i:%s, param:%s, log-loss(tr:%s, te:%s)' %(datetime.now(), i, arr_alpha[i]\n",
    "                                                         , arr_log_loss_sgd_train_best_alpha[i]\n",
    "                                                         , arr_log_loss_sgd_test_best_alpha[i]))\n",
    "\n",
    "print(\"---Total execution time: %s seconds ---\" % (time.time() - start_time))"
   ]
  },
  {
   "cell_type": "code",
   "execution_count": 30,
   "metadata": {
    "collapsed": false,
    "scrolled": false
   },
   "outputs": [
    {
     "name": "stdout",
     "output_type": "stream",
     "text": [
      "(11, 0.11000779999999999, 0.46879230769345764)\n"
     ]
    },
    {
     "data": {
      "image/png": "[encoded data removed]",
      "text/plain": [
       "<matplotlib.figure.Figure at 0x79fc6d8>"
      ]
     },
     "metadata": {},
     "output_type": "display_data"
    }
   ],
   "source": [
    "plt.figure(num=None, figsize=(13, 6), dpi=80, facecolor='w', edgecolor='k')\n",
    "plt.plot(arr_alpha, arr_log_loss_sgd_train_best_alpha, marker='o', color='r', label='training data')\n",
    "plt.plot(arr_alpha, arr_log_loss_sgd_test_best_alpha, marker='o', color='b', label='test data')\n",
    "plt.legend(loc=\"upper right\")\n",
    "plt.xlabel('alpha')\n",
    "plt.ylabel('log-loss per iteration')\n",
    "plt.title('Best alpha')\n",
    "\n",
    "ndarr_test = np.array(arr_log_loss_sgd_test_best_alpha)\n",
    "print((ndarr_test.argmin(), arr_alpha[ndarr_test.argmin()], arr_log_loss_sgd_test_best_alpha[ndarr_test.argmin()]))\n",
    "\n",
    "plt.axvline(arr_alpha[ndarr_test.argmin()], color = 'g')\n",
    "\n",
    "if(TEST_DATA == 'T'):\n",
    "    plt.savefig('./images/best_param_sgd_T.png')\n",
    "elif(TEST_DATA == 'C'):\n",
    "    plt.savefig('./images/best_param_sgd_C.png')"
   ]
  },
  {
   "cell_type": "markdown",
   "metadata": {},
   "source": [
    "###### ADF : variance"
   ]
  },
  {
   "cell_type": "code",
   "execution_count": 31,
   "metadata": {
    "collapsed": false
   },
   "outputs": [
    {
     "name": "stdout",
     "output_type": "stream",
     "text": [
      "2016-05-15 19:20:24.258864, i:0, param:0.0001, log-loss(tr:0.5637217661946521, te:0.5307532042866816)\n",
      "2016-05-15 19:20:27.771373, i:1, param:0.004098, log-loss(tr:0.46689164684935613, te:0.48115927079326976)\n",
      "2016-05-15 19:20:31.266933, i:2, param:0.008096, log-loss(tr:0.445533737645424, te:0.4747430327845542)\n",
      "2016-05-15 19:20:34.740558, i:3, param:0.012094, log-loss(tr:0.4301030735201744, te:0.4721619233148739)\n",
      "2016-05-15 19:20:38.226082, i:4, param:0.016092, log-loss(tr:0.4173842836044793, te:0.4709694139349793)\n",
      "2016-05-15 19:20:41.699137, i:5, param:0.02009, log-loss(tr:0.40631207028069116, te:0.4704763098444929)\n",
      "2016-05-15 19:20:45.188574, i:6, param:0.024088, log-loss(tr:0.39638550121913496, te:0.470400456729436)\n",
      "2016-05-15 19:20:48.678943, i:7, param:0.028086, log-loss(tr:0.3873222840303443, te:0.47060058997511406)\n",
      "2016-05-15 19:20:52.170037, i:8, param:0.032084, log-loss(tr:0.37894435757683514, te:0.4709962557435091)\n",
      "2016-05-15 19:20:55.626155, i:9, param:0.036082, log-loss(tr:0.3711303974374177, te:0.4715373364566711)\n",
      "2016-05-15 19:20:59.111580, i:10, param:0.04008, log-loss(tr:0.3637929745511456, te:0.4721904954325076)\n",
      "2016-05-15 19:21:02.556638, i:11, param:0.044078, log-loss(tr:0.3568663589052846, te:0.4729324262274616)\n",
      "2016-05-15 19:21:06.040187, i:12, param:0.048076, log-loss(tr:0.35029947395238337, te:0.473746188654403)\n",
      "2016-05-15 19:21:09.504786, i:13, param:0.052074, log-loss(tr:0.3440515680937664, te:0.4746190806935298)\n",
      "2016-05-15 19:21:12.971294, i:14, param:0.056072, log-loss(tr:0.33808942041398166, te:0.47554133305843715)\n",
      "2016-05-15 19:21:16.437357, i:15, param:0.06007, log-loss(tr:0.33238546190535784, te:0.47650527165976475)\n",
      "2016-05-15 19:21:19.905849, i:16, param:0.064068, log-loss(tr:0.3269164684984574, te:0.4775047597885141)\n",
      "2016-05-15 19:21:23.455439, i:17, param:0.068066, log-loss(tr:0.3216626252400433, te:0.4785348146833069)\n",
      "2016-05-15 19:21:26.963486, i:18, param:0.072064, log-loss(tr:0.3166068394155937, te:0.4795913367641386)\n",
      "2016-05-15 19:21:30.410144, i:19, param:0.076062, log-loss(tr:0.31173422545066, te:0.4806709139278776)\n",
      "2016-05-15 19:21:33.853347, i:20, param:0.08006, log-loss(tr:0.3070317113106935, te:0.48177067720242306)\n",
      "2016-05-15 19:21:37.342972, i:21, param:0.084058, log-loss(tr:0.30248773272404456, te:0.48288819237024594)\n",
      "2016-05-15 19:21:40.828997, i:22, param:0.088056, log-loss(tr:0.2980919921202278, te:0.4840213773061542)\n",
      "2016-05-15 19:21:44.277501, i:23, param:0.092054, log-loss(tr:0.29383526608085425, te:0.48516843803627413)\n",
      "2016-05-15 19:21:47.733888, i:24, param:0.096052, log-loss(tr:0.2897092497211826, te:0.48632781865071634)\n",
      "2016-05-15 19:21:51.218437, i:25, param:0.10005, log-loss(tr:0.2857064295777301, te:0.48749816161905923)\n",
      "2016-05-15 19:21:54.667410, i:26, param:0.104048, log-loss(tr:0.28181997877732956, te:0.4886782760213139)\n",
      "2016-05-15 19:21:58.138656, i:27, param:0.108046, log-loss(tr:0.27804366982226636, te:0.4898671118744436)\n",
      "2016-05-15 19:22:01.614402, i:28, param:0.112044, log-loss(tr:0.27437180144884316, te:0.4910637392046821)\n",
      "2016-05-15 19:22:05.076941, i:29, param:0.116042, log-loss(tr:0.2707991368372623, te:0.492267330852009)\n",
      "2016-05-15 19:22:08.539569, i:30, param:0.12004, log-loss(tr:0.2673208510578796, te:0.49347714823685784)\n",
      "2016-05-15 19:22:12.013810, i:31, param:0.124038, log-loss(tr:0.26393248609418846, te:0.4946925294981622)\n",
      "2016-05-15 19:22:15.489362, i:32, param:0.128036, log-loss(tr:0.2606299121278021, te:0.49591287954472585)\n",
      "2016-05-15 19:22:18.951238, i:33, param:0.132034, log-loss(tr:0.25740929403499346, te:0.4971376616617791)\n",
      "2016-05-15 19:22:22.428446, i:34, param:0.136032, log-loss(tr:0.25426706224865464, te:0.4983663903903729)\n",
      "2016-05-15 19:22:25.966940, i:35, param:0.14003, log-loss(tr:0.2511998872990525, te:0.4995986254551162)\n",
      "2016-05-15 19:22:29.449886, i:36, param:0.144028, log-loss(tr:0.24820465747223838, te:0.5008339665607097)\n",
      "2016-05-15 19:22:32.988042, i:37, param:0.148026, log-loss(tr:0.24527845912454577, te:0.5020720489124274)\n",
      "2016-05-15 19:22:36.485105, i:38, param:0.152024, log-loss(tr:0.24241855927113568, te:0.5033125393431558)\n",
      "2016-05-15 19:22:39.950072, i:39, param:0.156022, log-loss(tr:0.23962239013059247, te:0.5045551329511846)\n",
      "2016-05-15 19:22:43.440689, i:40, param:0.16002, log-loss(tr:0.2368875353594199, te:0.5057995501700578)\n",
      "2016-05-15 19:22:46.909658, i:41, param:0.164018, log-loss(tr:0.2342117177525089, te:0.5070455342056748)\n",
      "2016-05-15 19:22:50.398607, i:42, param:0.168016, log-loss(tr:0.23159278822034302, te:0.5082928487867648)\n",
      "2016-05-15 19:22:53.861929, i:43, param:0.172014, log-loss(tr:0.22902871588217408, te:0.509541276183964)\n",
      "2016-05-15 19:22:57.316025, i:44, param:0.176012, log-loss(tr:0.22651757913813678, te:0.5107906154599018)\n",
      "2016-05-15 19:23:00.769991, i:45, param:0.18001, log-loss(tr:0.2240575576028691, te:0.5120406809188)\n",
      "2016-05-15 19:23:04.219845, i:46, param:0.184008, log-loss(tr:0.2216469247997548, te:0.5132913007288648)\n",
      "2016-05-15 19:23:07.672859, i:47, param:0.188006, log-loss(tr:0.2192840415286861, te:0.514542315694976)\n",
      "2016-05-15 19:23:11.145391, i:48, param:0.192004, log-loss(tr:0.21696734983194516, te:0.51579357816236)\n",
      "2016-05-15 19:23:14.601891, i:49, param:0.196002, log-loss(tr:0.21469536749268522, te:0.5170449510349308)\n",
      "---Total execution time: 173.89910197257996 seconds ---\n"
     ]
    }
   ],
   "source": [
    "start_time = time.time()\n",
    "\n",
    "if(TEST_DATA == 'T'):\n",
    "    arr_var = list(np.linspace(.0001, 2., 50, endpoint=False))\n",
    "    arr_log_loss_adf_train_best_var = [0]*len(arr_var)\n",
    "    arr_log_loss_adf_test_best_var = [0]*len(arr_var)\n",
    "\n",
    "    for i in range(0,len(arr_var)):\n",
    "        param, arr_y, arr_p, arr_log_loss_adf_train_best_var[i], arr_log_loss_adf_test_best_var[i] = adf_training(variance = arr_var[i]\n",
    "                 , D = 2**20\n",
    "                 , f_debug = False\n",
    "                 , f_step_validation = False\n",
    "                 , f_validation = True\n",
    "                 , c_ds = ds_best_param_titanic\n",
    "                 , c_fi = fi_titanic)\n",
    "\n",
    "        print('%s, i:%s, param:%s, log-loss(tr:%s, te:%s)' %(datetime.now(), i, arr_var[i]\n",
    "                                                         , arr_log_loss_adf_train_best_var[i]\n",
    "                                                         , arr_log_loss_adf_test_best_var[i]))\n",
    "\n",
    "elif(TEST_DATA == 'C'):\n",
    "    arr_var = list(np.linspace(.0001, .2, 50, endpoint=False))\n",
    "    arr_log_loss_adf_train_best_var = [0]*len(arr_var)\n",
    "    arr_log_loss_adf_test_best_var = [0]*len(arr_var)\n",
    "    \n",
    "    for i in range(0,len(arr_var)):\n",
    "        param, arr_y, arr_p, arr_log_loss_adf_train_best_var[i], arr_log_loss_adf_test_best_var[i] = adf_training(variance = arr_var[i]\n",
    "                 , D = 2**20\n",
    "                 , f_debug = False\n",
    "                 , f_step_validation = False\n",
    "                 , f_validation = True\n",
    "                 , c_ds = ds_best_param_criteo\n",
    "                 , c_fi = fi_criteo)\n",
    "        print('%s, i:%s, param:%s, log-loss(tr:%s, te:%s)' %(datetime.now(), i, arr_var[i]\n",
    "                                                         , arr_log_loss_adf_train_best_var[i]\n",
    "                                                         , arr_log_loss_adf_test_best_var[i]))\n",
    "    \n",
    "print(\"---Total execution time: %s seconds ---\" % (time.time() - start_time))"
   ]
  },
  {
   "cell_type": "code",
   "execution_count": 32,
   "metadata": {
    "collapsed": false
   },
   "outputs": [
    {
     "name": "stdout",
     "output_type": "stream",
     "text": [
      "(6, 0.024088000000000002, 0.470400456729436)\n"
     ]
    },
    {
     "data": {
      "image/png": "[encoded data removed]",
      "text/plain": [
       "<matplotlib.figure.Figure at 0x8ed7208>"
      ]
     },
     "metadata": {},
     "output_type": "display_data"
    }
   ],
   "source": [
    "plt.figure(num=None, figsize=(13, 6), dpi=80, facecolor='w', edgecolor='k')\n",
    "plt.plot(arr_var, arr_log_loss_adf_train_best_var, marker='o', color= 'r', label='training data')\n",
    "plt.plot(arr_var, arr_log_loss_adf_test_best_var, marker='o', color= 'b', label='test data')\n",
    "plt.legend(loc=\"upper right\")\n",
    "plt.xlabel('variance')\n",
    "plt.ylabel('log-loss per iteration')\n",
    "plt.title('Best variance')\n",
    "\n",
    "ndarr_test = np.array(arr_log_loss_adf_test_best_var)\n",
    "print((ndarr_test.argmin(), arr_var[ndarr_test.argmin()], arr_log_loss_adf_test_best_var[ndarr_test.argmin()]))\n",
    "\n",
    "plt.axvline(arr_var[ndarr_test.argmin()], color = 'g')\n",
    "\n",
    "if(TEST_DATA == 'T'):\n",
    "    plt.savefig('./images/best_param_adf_T.png')\n",
    "elif(TEST_DATA == 'C'):\n",
    "    plt.savefig('./images/best_param_adf_C.png')"
   ]
  },
  {
   "cell_type": "markdown",
   "metadata": {
    "collapsed": true
   },
   "source": [
    "# Tracing log-loss as the number of sample grows(step_validation)"
   ]
  },
  {
   "cell_type": "code",
   "execution_count": 54,
   "metadata": {
    "collapsed": false,
    "scrolled": false
   },
   "outputs": [
    {
     "name": "stdout",
     "output_type": "stream",
     "text": [
      "num_metric_check_point: 16.0\n",
      "num_status_check_point: 1\n",
      "num_train_data_start  : 1\n",
      "num_train_data_end    : 800\n",
      "num_train_data_size   : 800\n",
      "num_test_data_start   : 801\n",
      "num_test_data_end     : 891\n",
      "num_test_data_size    : 91\n",
      "num_metric_check_point: 20000.0\n",
      "num_status_check_point: 1\n",
      "num_train_data_start  : 1\n",
      "num_train_data_end    : 10000000\n",
      "num_train_data_size   : 10000000\n",
      "num_test_data_start   : 10000001\n",
      "num_test_data_end     : 10100000\n",
      "num_test_data_size    : 100000\n"
     ]
    }
   ],
   "source": [
    "ds_step_vali_titanic = DataSize(np.round(800/50)      # num_metric_check_point\n",
    "                         , 1      # num_status_check_point\n",
    "                         , 1, 800        #train_start, train_size\n",
    "                         , 801, 91)    #test_start, test_size\n",
    "\n",
    "ds_step_vali_criteo = DataSize(np.round(1000/50)      # num_metric_check_point\n",
    "                         , 1      # num_status_check_point\n",
    "                         , 1, 1000        #train_start, train_size\n",
    "                         , 1001, 100)    #test_start, test_size\n",
    "\n",
    "ds_step_vali_criteo = DataSize(np.round(10000/50)      # num_metric_check_point\n",
    "                         , 1      # num_status_check_point\n",
    "                         , 1, 10000        #train_start, train_size\n",
    "                         , 10001, 1000)    #test_start, test_size\n",
    "ds_step_vali_criteo = DataSize(np.round(1000000/50)      # num_metric_check_point\n",
    "                         , 1      # num_status_check_point\n",
    "                         , 1, 10000000        #train_start, train_size\n",
    "                         , 10000001, 100000)    #test_start, test_size\n",
    "\n",
    "ds_step_vali_titanic.display()\n",
    "ds_step_vali_criteo.display()"
   ]
  },
  {
   "cell_type": "markdown",
   "metadata": {},
   "source": [
    "###### SGD "
   ]
  },
  {
   "cell_type": "code",
   "execution_count": 55,
   "metadata": {
    "collapsed": false,
    "scrolled": false
   },
   "outputs": [
    {
     "name": "stdout",
     "output_type": "stream",
     "text": [
      "---Total execution time: 81738.79210209846 seconds ---\n"
     ]
    }
   ],
   "source": [
    "start_time = time.time()\n",
    "\n",
    "if(TEST_DATA == 'T'):\n",
    "    alpha = 0.92000539999999997 # best for titanic\n",
    "    arr_log_loss_sgd_test = sgd_training(alpha = alpha\n",
    "                                             , D = 2**20\n",
    "                                             , f_debug = False\n",
    "                                             , f_step_validation = True\n",
    "                                             , f_validation = False\n",
    "                                             , c_ds = ds_step_vali_titanic\n",
    "                                             #, c_ds = ds_step_vali_criteo\n",
    "                                             , c_fi = fi_titanic)\n",
    "                                             #, c_fi = fi_criteo)\n",
    "elif(TEST_DATA == 'C'):\n",
    "    alpha = 0.100008 # best for criteo\n",
    "    alpha = 0.11000779999999999\n",
    "    arr_log_loss_sgd_test = sgd_training(alpha = alpha\n",
    "                                             , D = 2**20\n",
    "                                             , f_debug = False\n",
    "                                             , f_step_validation = True\n",
    "                                             , f_validation = False\n",
    "                                             #, c_ds = ds_step_vali_titanic\n",
    "                                             , c_ds = ds_step_vali_criteo\n",
    "                                             #, c_fi = fi_titanic)\n",
    "                                             , c_fi = fi_criteo)\n",
    "    \n",
    "print(\"---Total execution time: %s seconds ---\" % (time.time() - start_time))"
   ]
  },
  {
   "cell_type": "code",
   "execution_count": 56,
   "metadata": {
    "collapsed": false
   },
   "outputs": [
    {
     "data": {
      "image/png": "[encoded data removed]",
      "text/plain": [
       "<matplotlib.figure.Figure at 0x9ed4c50>"
      ]
     },
     "metadata": {},
     "output_type": "display_data"
    }
   ],
   "source": [
    "plot_log_loss(arr_log_loss_sgd_test)\n",
    "\n",
    "ndarr_log_loss_sgd_test = np.array(arr_log_loss_sgd_test)\n",
    "(ndarr_log_loss_sgd_test.argmin(), arr_log_loss_sgd_test[ndarr_log_loss_sgd_test.argmin()])\n",
    "\n",
    "\n",
    "if(TEST_DATA == 'T'):\n",
    "    plt.savefig('./images/step_vali_sgd_T.png')\n",
    "elif(TEST_DATA == 'C'):\n",
    "    plt.savefig('./images/step_vali_sgd_C.png')"
   ]
  },
  {
   "cell_type": "markdown",
   "metadata": {},
   "source": [
    "###### ADF"
   ]
  },
  {
   "cell_type": "code",
   "execution_count": 36,
   "metadata": {
    "collapsed": false,
    "scrolled": true
   },
   "outputs": [
    {
     "name": "stdout",
     "output_type": "stream",
     "text": [
      "---Total execution time: 1596.8921689987183 seconds ---\n"
     ]
    }
   ],
   "source": [
    "start_time = time.time()\n",
    "\n",
    "if(TEST_DATA == 'T'):\n",
    "    init_v = 0.52007399999999993 # best for titanic\n",
    "    arr_log_loss_adf_test = adf_training(variance = init_v\n",
    "                                             , D = 2**20\n",
    "                                             , f_debug = False\n",
    "                                             , f_step_validation = True\n",
    "                                             , f_validation = False\n",
    "                                             , c_ds = ds_step_vali_titanic\n",
    "                                             #, c_ds = ds_step_vali_criteo\n",
    "                                             , c_fi = fi_titanic)\n",
    "                                             #, c_fi = fi_criteo)\n",
    "elif(TEST_DATA == 'C'):\n",
    "    init_v = 0.024088000000000002 # best for criteo\n",
    "    arr_log_loss_adf_test = adf_training(variance = init_v\n",
    "                                             , D = 2**20\n",
    "                                             , f_debug = False\n",
    "                                             , f_step_validation = True\n",
    "                                             , f_validation = False\n",
    "                                             #, c_ds = ds_step_vali_titanic\n",
    "                                             , c_ds = ds_step_vali_criteo\n",
    "                                             #, c_fi = fi_titanic)\n",
    "                                             , c_fi = fi_criteo)\n",
    "\n",
    "print(\"---Total execution time: %s seconds ---\" % (time.time() - start_time))\n"
   ]
  },
  {
   "cell_type": "code",
   "execution_count": 1,
   "metadata": {
    "collapsed": false,
    "scrolled": false
   },
   "outputs": [
    {
     "ename": "NameError",
     "evalue": "name 'plot_log_loss' is not defined",
     "output_type": "error",
     "traceback": [
      "\u001b[1;31m---------------------------------------------------------------------------\u001b[0m",
      "\u001b[1;31mNameError\u001b[0m                                 Traceback (most recent call last)",
      "\u001b[1;32m<ipython-input-1-a2984bd84b03>\u001b[0m in \u001b[0;36m<module>\u001b[1;34m()\u001b[0m\n\u001b[1;32m----> 1\u001b[1;33m \u001b[0mplot_log_loss\u001b[0m\u001b[1;33m(\u001b[0m\u001b[0marr_log_loss_adf_test\u001b[0m\u001b[1;33m)\u001b[0m\u001b[1;33m\u001b[0m\u001b[0m\n\u001b[0m\u001b[0;32m      2\u001b[0m \u001b[1;33m\u001b[0m\u001b[0m\n\u001b[0;32m      3\u001b[0m \u001b[0mndarr_log_loss_adf_test\u001b[0m \u001b[1;33m=\u001b[0m \u001b[0mnp\u001b[0m\u001b[1;33m.\u001b[0m\u001b[0marray\u001b[0m\u001b[1;33m(\u001b[0m\u001b[0marr_log_loss_adf_test\u001b[0m\u001b[1;33m)\u001b[0m\u001b[1;33m\u001b[0m\u001b[0m\n\u001b[0;32m      4\u001b[0m \u001b[1;33m(\u001b[0m\u001b[0mndarr_log_loss_adf_test\u001b[0m\u001b[1;33m.\u001b[0m\u001b[0margmin\u001b[0m\u001b[1;33m(\u001b[0m\u001b[1;33m)\u001b[0m\u001b[1;33m,\u001b[0m \u001b[0marr_log_loss_adf_test\u001b[0m\u001b[1;33m[\u001b[0m\u001b[0mndarr_log_loss_adf_test\u001b[0m\u001b[1;33m.\u001b[0m\u001b[0margmin\u001b[0m\u001b[1;33m(\u001b[0m\u001b[1;33m)\u001b[0m\u001b[1;33m]\u001b[0m\u001b[1;33m)\u001b[0m\u001b[1;33m\u001b[0m\u001b[0m\n\u001b[0;32m      5\u001b[0m \u001b[1;33m\u001b[0m\u001b[0m\n",
      "\u001b[1;31mNameError\u001b[0m: name 'plot_log_loss' is not defined"
     ]
    }
   ],
   "source": [
    "plot_log_loss(arr_log_loss_adf_test)\n",
    "\n",
    "ndarr_log_loss_adf_test = np.array(arr_log_loss_adf_test)\n",
    "(ndarr_log_loss_adf_test.argmin(), arr_log_loss_adf_test[ndarr_log_loss_adf_test.argmin()])\n",
    "\n",
    "\n",
    "if(TEST_DATA == 'T'):\n",
    "    plt.savefig('./images/step_vali_adf_T.png')\n",
    "elif(TEST_DATA == 'C'):\n",
    "    plt.savefig('./images/step_vali_adf_C.png')"
   ]
  },
  {
   "cell_type": "code",
   "execution_count": 57,
   "metadata": {
    "collapsed": false,
    "scrolled": true
   },
   "outputs": [
    {
     "data": {
      "image/png": "[encoded data removed]",
      "text/plain": [
       "<matplotlib.figure.Figure at 0x9ef0048>"
      ]
     },
     "metadata": {},
     "output_type": "display_data"
    }
   ],
   "source": [
    "plt.figure(num=None, figsize=(13, 6), dpi=80, facecolor='w', edgecolor='k')\n",
    "\n",
    "x1 = range(len(arr_log_loss_adf_test))\n",
    "plt.plot(x1, arr_log_loss_adf_test, marker='o', color = 'r', label='ADF')\n",
    "x2 = range(len(arr_log_loss_sgd_test))\n",
    "plt.plot(x2, arr_log_loss_sgd_test, marker='o', color = 'b', label='SGD')\n",
    "plt.legend(loc=\"upper right\")\n",
    "plt.xlabel('Check points')\n",
    "plt.ylabel('log-loss per iteration')\n",
    "plt.title('Comparison')\n",
    "\n",
    "\n",
    "if(TEST_DATA == 'T'):\n",
    "    plt.savefig('./images/step_vali_comparison_T.png')\n",
    "elif(TEST_DATA == 'C'):\n",
    "    plt.savefig('./images/step_vali_comparison_C.png')"
   ]
  },
  {
   "cell_type": "markdown",
   "metadata": {
    "collapsed": true
   },
   "source": [
    "# ?"
   ]
  },
  {
   "cell_type": "code",
   "execution_count": 49,
   "metadata": {
    "collapsed": false
   },
   "outputs": [],
   "source": [
    "ds_more_vali_titanic = DataSize(np.round(800/50)      # num_metric_check_point\n",
    "                         , 1      # num_status_check_point\n",
    "                         , 1, 800        #train_start, train_size\n",
    "                         , 801, 91)    #test_start, test_size\n",
    "\n",
    "ds_more_vali_criteo = DataSize(np.round(1000/50)      # num_metric_check_point\n",
    "                         , 1      # num_status_check_point\n",
    "                         , 1, 1000        #train_start, train_size\n",
    "                         , 1001, 100)    #test_start, test_size\n",
    "\n",
    "ds_more_vali_criteo = DataSize(np.round(1000/50)      # num_metric_check_point\n",
    "                         , 1      # num_status_check_point\n",
    "                         , 1, 1000000        #train_start, train_size\n",
    "                         , 1000001, 100000)    #test_start, test_size\n"
   ]
  },
  {
   "cell_type": "markdown",
   "metadata": {},
   "source": [
    "###### SGD"
   ]
  },
  {
   "cell_type": "code",
   "execution_count": 50,
   "metadata": {
    "collapsed": false,
    "scrolled": false
   },
   "outputs": [
    {
     "name": "stdout",
     "output_type": "stream",
     "text": [
      "---Total execution time: 170.86889100074768 seconds ---\n"
     ]
    }
   ],
   "source": [
    "start_time = time.time()\n",
    "\n",
    "\n",
    "if(TEST_DATA == 'T'):\n",
    "    alpha = 0.92000539999999997 # best for titanic\n",
    "    param_w, arr_sgd_y, arr_sgd_p, log_loss_sgd_train, log_loss_sgd_test = sgd_training(alpha = alpha\n",
    "                                             , D = 2**20\n",
    "                                             , f_debug = False\n",
    "                                             , f_step_validation = False\n",
    "                                             , f_validation = True\n",
    "                                             , c_ds = ds_more_vali_titanic\n",
    "                                             , c_fi = fi_titanic)\n",
    "elif(TEST_DATA == 'C'):\n",
    "    alpha = 0.100008 # best for criteo\n",
    "    param_w, arr_sgd_y, arr_sgd_p, log_loss_sgd_train, log_loss_sgd_test = sgd_training(alpha = alpha\n",
    "                                             , D = 2**20\n",
    "                                             , f_debug = False\n",
    "                                             , f_step_validation = False\n",
    "                                             , f_validation = True\n",
    "                                             , c_ds = ds_more_vali_criteo\n",
    "                                             , c_fi = fi_criteo)\n",
    "    \n",
    "print(\"---Total execution time: %s seconds ---\" % (time.time() - start_time))\n"
   ]
  },
  {
   "cell_type": "markdown",
   "metadata": {},
   "source": [
    "###### ADF"
   ]
  },
  {
   "cell_type": "code",
   "execution_count": 51,
   "metadata": {
    "collapsed": false
   },
   "outputs": [
    {
     "name": "stdout",
     "output_type": "stream",
     "text": [
      "---Total execution time: 276.404109954834 seconds ---\n"
     ]
    }
   ],
   "source": [
    "\n",
    "\n",
    "\n",
    "start_time = time.time()\n",
    "\n",
    "if(TEST_DATA == 'T'):\n",
    "    init_v = 0.52007399999999993 # best for titanic\n",
    "    #init_v = 0.0052007399999999993 # best for titanic\n",
    "    param_theta, arr_adf_y, arr_adf_p, log_loss_adf_train, log_loss_adf_test = adf_training(variance = init_v\n",
    "                                             , D = 2**20\n",
    "                                             , f_debug = False\n",
    "                                             , f_step_validation = False\n",
    "                                             , f_validation = True\n",
    "                                             , c_ds = ds_more_vali_titanic\n",
    "                                             , c_fi = fi_titanic)\n",
    "elif(TEST_DATA == 'C'):\n",
    "    init_v = 0.024088000000000002 # best for criteo\n",
    "    param_theta, arr_adf_y, arr_adf_p, log_loss_adf_train, log_loss_adf_test = adf_training(variance = init_v\n",
    "                                             , D = 2**20\n",
    "                                             , f_debug = False\n",
    "                                             , f_step_validation = False\n",
    "                                             , f_validation = True\n",
    "                                             , c_ds = ds_more_vali_criteo\n",
    "                                             , c_fi = fi_criteo)\n",
    "\n",
    "\n",
    "print(\"---Total execution time: %s seconds ---\" % (time.time() - start_time))\n"
   ]
  },
  {
   "cell_type": "markdown",
   "metadata": {},
   "source": [
    "###### Comparison"
   ]
  },
  {
   "cell_type": "code",
   "execution_count": 52,
   "metadata": {
    "collapsed": false
   },
   "outputs": [
    {
     "data": {
      "image/png": "[encoded data removed]",
      "text/plain": [
       "<matplotlib.figure.Figure at 0x9ef5e10>"
      ]
     },
     "metadata": {},
     "output_type": "display_data"
    }
   ],
   "source": [
    "#fpr_sgd = dict()\n",
    "#tpr_sgd = dict()\n",
    "#roc_auc_sgd = dict()\n",
    "\n",
    "fpr_sgd, tpr_sgd, _ = roc_curve(arr_sgd_y, arr_sgd_p)\n",
    "roc_auc_sgd = auc(fpr_sgd, tpr_sgd) #auc\n",
    "\n",
    "fpr_adf, tpr_adf, _ = roc_curve(arr_adf_y, arr_adf_p)\n",
    "roc_auc_adf = auc(fpr_adf, tpr_adf) #auc\n",
    "\n",
    "plt.figure()\n",
    "plt.plot(fpr_sgd, tpr_sgd, label='SGD', color='b')\n",
    "plt.plot(fpr_adf, tpr_adf, label='ADF', color='r')\n",
    "\n",
    "\n",
    "plt.xlabel('False Positive Rate')\n",
    "plt.ylabel('True Positive Rate')\n",
    "plt.title('ROC Curve')\n",
    "plt.legend(loc=\"lower right\")\n",
    "#plt.show() # or use command %matplotlib inline\n",
    "\n",
    "if(TEST_DATA == 'T'):\n",
    "    plt.savefig('./images/step_vali_roc_T.png')\n",
    "elif(TEST_DATA == 'C'):\n",
    "    plt.savefig('./images/step_vali_roc_C.png')"
   ]
  },
  {
   "cell_type": "code",
   "execution_count": 53,
   "metadata": {
    "collapsed": false
   },
   "outputs": [
    {
     "data": {
      "text/plain": [
       "(0.78110714529429526, 0.78198942683050354)"
      ]
     },
     "execution_count": 53,
     "metadata": {},
     "output_type": "execute_result"
    }
   ],
   "source": [
    "(roc_auc_sgd, roc_auc_adf)"
   ]
  },
  {
   "cell_type": "code",
   "execution_count": null,
   "metadata": {
    "collapsed": true
   },
   "outputs": [],
   "source": []
  },
  {
   "cell_type": "code",
   "execution_count": null,
   "metadata": {
    "collapsed": true
   },
   "outputs": [],
   "source": []
  },
  {
   "cell_type": "code",
   "execution_count": null,
   "metadata": {
    "collapsed": true
   },
   "outputs": [],
   "source": []
  },
  {
   "cell_type": "code",
   "execution_count": null,
   "metadata": {
    "collapsed": true
   },
   "outputs": [],
   "source": []
  },
  {
   "cell_type": "code",
   "execution_count": null,
   "metadata": {
    "collapsed": true
   },
   "outputs": [],
   "source": []
  },
  {
   "cell_type": "code",
   "execution_count": null,
   "metadata": {
    "collapsed": true
   },
   "outputs": [],
   "source": []
  },
  {
   "cell_type": "code",
   "execution_count": null,
   "metadata": {
    "collapsed": true
   },
   "outputs": [],
   "source": []
  }
 ],
 "metadata": {
  "kernelspec": {
   "display_name": "Python 2",
   "language": "python",
   "name": "python2"
  },
  "language_info": {
   "codemirror_mode": {
    "name": "ipython",
    "version": 2
   },
   "file_extension": ".py",
   "mimetype": "text/x-python",
   "name": "python",
   "nbconvert_exporter": "python",
   "pygments_lexer": "ipython2",
   "version": "2.7.11"
  }
 },
 "nbformat": 4,
 "nbformat_minor": 0
}
