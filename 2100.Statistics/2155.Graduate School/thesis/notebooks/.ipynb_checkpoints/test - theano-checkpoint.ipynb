{
 "cells": [
  {
   "cell_type": "markdown",
   "metadata": {},
   "source": [
    "### Testing theano"
   ]
  },
  {
   "cell_type": "code",
   "execution_count": 2,
   "metadata": {
    "collapsed": false
   },
   "outputs": [
    {
     "name": "stdout",
     "output_type": "stream",
     "text": [
      "NP time: 0.169096[s], theano time: 0.117066[s] (times should be close when run on CPU!)\n",
      "Result difference: 0.020264\n"
     ]
    }
   ],
   "source": [
    "import numpy as np\n",
    "import time\n",
    "import theano\n",
    "theano.config.compute_test_value = 'off'\n",
    "\n",
    "A = np.random.rand(1000,10000).astype(theano.config.floatX)\n",
    "B = np.random.rand(10000,1000).astype(theano.config.floatX)\n",
    "np_start = time.time()\n",
    "AB = A.dot(B)\n",
    "np_end = time.time()\n",
    "X,Y = theano.tensor.matrices('XY')\n",
    "mf = theano.function([X,Y],X.dot(Y))\n",
    "t_start = time.time()\n",
    "tAB = mf(A,B)\n",
    "t_end = time.time()\n",
    "print(\"NP time: %f[s], theano time: %f[s] (times should be close when run on CPU!)\" %(\n",
    "                                           np_end-np_start, t_end-t_start))\n",
    "print (\"Result difference: %f\" % (np.abs(AB-tAB).max(), ))"
   ]
  },
  {
   "cell_type": "markdown",
   "metadata": {},
   "source": [
    "### Testing openBlas?"
   ]
  },
  {
   "cell_type": "code",
   "execution_count": 3,
   "metadata": {
    "collapsed": false,
    "scrolled": true
   },
   "outputs": [
    {
     "name": "stdout",
     "output_type": "stream",
     "text": [
      "[GpuElemwise{exp,no_inplace}(<CudaNdarrayType(float32, vector)>), HostFromGpu(GpuElemwise{exp,no_inplace}.0)]\n",
      "Looping 1000 times took 0.750429 seconds\n",
      "Result is [ 1.23178029  1.61879349  1.52278066 ...,  2.20771813  2.29967761\n",
      "  1.62323296]\n",
      "Used the gpu\n"
     ]
    }
   ],
   "source": [
    "from theano import function, config, shared, sandbox\n",
    "import theano.tensor as T\n",
    "import numpy\n",
    "import time\n",
    "\n",
    "vlen = 10 * 30 * 768  # 10 x #cores x # threads per core\n",
    "iters = 1000\n",
    "\n",
    "rng = numpy.random.RandomState(22)\n",
    "x = shared(numpy.asarray(rng.rand(vlen), config.floatX))\n",
    "f = function([], T.exp(x))\n",
    "print(f.maker.fgraph.toposort())\n",
    "t0 = time.time()\n",
    "for i in range(iters):\n",
    "    r = f()\n",
    "t1 = time.time()\n",
    "print(\"Looping %d times took %f seconds\" % (iters, t1 - t0))\n",
    "print(\"Result is %s\" % (r,))\n",
    "if numpy.any([isinstance(x.op, T.Elemwise) for x in f.maker.fgraph.toposort()]):\n",
    "    print('Used the cpu')\n",
    "else:\n",
    "    print('Used the gpu')"
   ]
  },
  {
   "cell_type": "markdown",
   "metadata": {},
   "source": [
    "theano의 설정값을 아래와 같이 확인할 수 있다."
   ]
  },
  {
   "cell_type": "code",
   "execution_count": 4,
   "metadata": {
    "collapsed": false
   },
   "outputs": [
    {
     "name": "stdout",
     "output_type": "stream",
     "text": [
      "floatX (('float64', 'float32', 'float16')) \n",
      "    Doc:  Default floating-point precision for python casts.\n",
      "\n",
      "Note: float16 support is experimental, use at your own risk.\n",
      "    Value:  float32\n",
      "\n",
      "warn_float64 (('ignore', 'warn', 'raise', 'pdb')) \n",
      "    Doc:  Do an action when a tensor variable with float64 dtype is created. They can't be run on the GPU with the current(old) gpu back-end and are slow with gamer GPUs.\n",
      "    Value:  ignore\n",
      "\n",
      "cast_policy (('custom', 'numpy+floatX')) \n",
      "    Doc:  Rules for implicit type casting\n",
      "    Value:  custom\n",
      "\n",
      "int_division (('int', 'raise', 'floatX')) \n",
      "    Doc:  What to do when one computes x / y, where both x and y are of integer types\n",
      "    Value:  int\n",
      "\n",
      "device (cpu, gpu*, opencl*, cuda*) \n",
      "    Doc:  Default device for computations. If gpu*, change the default to try to move computation to it and to put shared variable of float32 on it. Do not use upper case letters, only lower case even if NVIDIA use capital letters.\n",
      "    Value:  gpu\n",
      "\n",
      "init_gpu_device (, gpu*, opencl*, cuda*) \n",
      "    Doc:  Initialize the gpu device to use, works only if device=cpu. Unlike 'device', setting this option will NOT move computations, nor shared variables, to the specified GPU. It can be used to run GPU-specific tests on a particular GPU.\n",
      "    Value:  \n",
      "\n",
      "force_device (<function BoolParam.<locals>.booltype at 0x00000000058DF950>) \n",
      "    Doc:  Raise an error if we can't use the specified device\n",
      "    Value:  False\n",
      "\n",
      "<theano.configdefaults.ContextsParam object at 0x00000000058DB748>\n",
      "    Doc:  \n",
      "    Context map for multi-gpu operation. Format is a\n",
      "    semicolon-separated list of names and device names in the\n",
      "    'name->dev_name' format. An example that would map name 'test' to\n",
      "    device 'cuda0' and name 'test2' to device 'opencl0:0' follows:\n",
      "    \"test->cuda0;test2->opencl0:0\".\n",
      "\n",
      "    Invalid context names are 'cpu', 'cuda*' and 'opencl*'\n",
      "    \n",
      "    Value:  \n",
      "\n",
      "print_active_device (<function BoolParam.<locals>.booltype at 0x00000000058DFBF8>) \n",
      "    Doc:  Print active device at when the GPU device is initialized.\n",
      "    Value:  True\n",
      "\n",
      "cuda.root (<class 'str'>) \n",
      "    Doc:  directory with bin/, lib/, include/ for cuda utilities.\n",
      "       This directory is included via -L and -rpath when linking\n",
      "       dynamically compiled modules.  If AUTO and nvcc is in the\n",
      "       path, it will use one of nvcc parent directory.  Otherwise\n",
      "       /usr/local/cuda will be used.  Leave empty to prevent extra\n",
      "       linker directives.  Default: environment variable \"CUDA_ROOT\"\n",
      "       or else \"AUTO\".\n",
      "       \n",
      "    Value:  \n",
      "\n",
      "<theano.configparser.ConfigParam object at 0x00000000058DB898>\n",
      "    Doc:  Extra compiler flags for nvcc\n",
      "    Value:  \n",
      "\n",
      "nvcc.compiler_bindir (<class 'str'>) \n",
      "    Doc:  If defined, nvcc compiler driver will seek g++ and gcc in this directory\n",
      "    Value:  C:\\Program Files (x86)\\Microsoft Visual Studio 12.0\\VC\\bin\\cl.exe\n",
      "\n",
      "nvcc.fastmath (<function BoolParam.<locals>.booltype at 0x00000000058E2048>) \n",
      "    Doc:  \n",
      "    Value:  True\n",
      "\n",
      "gpuarray.sync (<function BoolParam.<locals>.booltype at 0x00000000058E21E0>) \n",
      "    Doc:  If True, every op will make sure its work is done before\n",
      "                returning.  Setting this to True will slow down execution,\n",
      "                but give much more accurate results in profiling.\n",
      "    Value:  False\n",
      "\n",
      "dnn.conv.workmem (('',)) \n",
      "    Doc:  This flag is deprecated; use dnn.conv.algo_fwd.\n",
      "    Value:  \n",
      "\n",
      "dnn.conv.workmem_bwd (('',)) \n",
      "    Doc:  This flag is deprecated; use dnn.conv.algo_bwd.\n",
      "    Value:  \n",
      "\n",
      "dnn.conv.algo_fwd (('small', 'none', 'large', 'fft', 'guess_once', 'guess_on_shape_change', 'time_once', 'time_on_shape_change')) \n",
      "    Doc:  Default implementation to use for CuDNN forward convolution.\n",
      "    Value:  small\n",
      "\n",
      "dnn.conv.algo_bwd (('none', 'deterministic', 'fft', 'guess_once', 'guess_on_shape_change', 'time_once', 'time_on_shape_change')) \n",
      "    Doc:  Default implementation to use for CuDNN backward convolution.\n",
      "    Value:  none\n",
      "\n",
      "dnn.include_path (<class 'str'>) \n",
      "    Doc:  Location of the cudnn header (defaults to the cuda root)\n",
      "    Value:  \n",
      "\n",
      "dnn.library_path (<class 'str'>) \n",
      "    Doc:  Location of the cudnn header (defaults to the cuda root)\n",
      "    Value:  \n",
      "\n",
      "assert_no_cpu_op (('ignore', 'warn', 'raise', 'pdb')) \n",
      "    Doc:  Raise an error/warning if there is a CPU op in the computational graph.\n",
      "    Value:  ignore\n",
      "\n",
      "mode (('Mode', 'ProfileMode', 'DebugMode', 'FAST_RUN', 'NanGuardMode', 'FAST_COMPILE', 'PROFILE_MODE', 'DEBUG_MODE')) \n",
      "    Doc:  Default compilation mode\n",
      "    Value:  Mode\n",
      "\n",
      "cxx (<class 'str'>) \n",
      "    Doc:  The C++ compiler to use. Currently only g++ is supported, but supporting additional compilers should not be too difficult. If it is empty, no C++ code is compiled.\n",
      "    Value:  C:\\Anaconda3\\Scripts\\g++.bat\n",
      "\n",
      "linker (('cvm', 'c|py', 'py', 'c', 'c|py_nogc', 'vm', 'vm_nogc', 'cvm_nogc')) \n",
      "    Doc:  Default linker used if the theano flags mode is Mode or ProfileMode(deprecated)\n",
      "    Value:  cvm\n",
      "\n",
      "allow_gc (<function BoolParam.<locals>.booltype at 0x00000000058ED378>) \n",
      "    Doc:  Do we default to delete intermediate results during Theano function calls? Doing so lowers the memory requirement, but asks that we reallocate memory at the next function call. This is implemented for the default linker, but may not work for all linkers.\n",
      "    Value:  True\n",
      "\n",
      "optimizer (('fast_run', 'merge', 'fast_compile', 'None')) \n",
      "    Doc:  Default optimizer. If not None, will use this linker with the Mode object (not ProfileMode(deprecated) or DebugMode)\n",
      "    Value:  fast_run\n",
      "\n",
      "optimizer_verbose (<function BoolParam.<locals>.booltype at 0x00000000058ED598>) \n",
      "    Doc:  If True, we print all optimization being applied\n",
      "    Value:  False\n",
      "\n",
      "on_opt_error (('warn', 'raise', 'pdb', 'ignore')) \n",
      "    Doc:  What to do when an optimization crashes: warn and skip it, raise the exception, or fall into the pdb debugger.\n",
      "    Value:  warn\n",
      "\n",
      "<theano.configparser.ConfigParam object at 0x00000000058E62B0>\n",
      "    Doc:  This config option was removed in 0.5: do not use it!\n",
      "    Value:  True\n",
      "\n",
      "nocleanup (<function BoolParam.<locals>.booltype at 0x00000000058ED840>) \n",
      "    Doc:  Suppress the deletion of code files that did not compile cleanly\n",
      "    Value:  False\n",
      "\n",
      "on_unused_input (('raise', 'warn', 'ignore')) \n",
      "    Doc:  What to do if a variable in the 'inputs' list of  theano.function() is not used in the graph.\n",
      "    Value:  raise\n",
      "\n",
      "tensor.cmp_sloppy (<class 'int'>) \n",
      "    Doc:  Relax tensor._allclose (0) not at all, (1) a bit, (2) more\n",
      "    Value:  0\n",
      "\n",
      "tensor.local_elemwise_fusion (<function BoolParam.<locals>.booltype at 0x00000000058EDB70>) \n",
      "    Doc:  Enable or not in fast_run mode(fast_run optimization) the elemwise fusion optimization\n",
      "    Value:  True\n",
      "\n",
      "gpu.local_elemwise_fusion (<function BoolParam.<locals>.booltype at 0x00000000058EDD08>) \n",
      "    Doc:  Enable or not in fast_run mode(fast_run optimization) the gpu elemwise fusion optimization\n",
      "    Value:  True\n",
      "\n",
      "lib.amdlibm (<function BoolParam.<locals>.booltype at 0x00000000058EDEA0>) \n",
      "    Doc:  Use amd's amdlibm numerical library\n",
      "    Value:  False\n",
      "\n",
      "gpuelemwise.sync (<function BoolParam.<locals>.booltype at 0x00000000058E80D0>) \n",
      "    Doc:  when true, wait that the gpu fct finished and check it error code.\n",
      "    Value:  True\n",
      "\n",
      "traceback.limit (<class 'int'>) \n",
      "    Doc:  The number of stack to trace. -1 mean all.\n",
      "    Value:  8\n",
      "\n",
      "experimental.mrg (<function BoolParam.<locals>.booltype at 0x00000000058E82F0>) \n",
      "    Doc:  Another random number generator that work on the gpu\n",
      "    Value:  False\n",
      "\n",
      "experimental.unpickle_gpu_on_cpu (<function BoolParam.<locals>.booltype at 0x00000000058E8488>) \n",
      "    Doc:  Allow unpickling of pickled CudaNdarrays as numpy.ndarrays.This is useful, if you want to open a CudaNdarray without having cuda installed.If you have cuda installed, this will force unpickling tobe done on the cpu to numpy.ndarray.Please be aware that this may get you access to the data,however, trying to unpicke gpu functions will not succeed.This flag is experimental and may be removed any time, whengpu<>cpu transparency is solved.\n",
      "    Value:  False\n",
      "\n",
      "numpy.seterr_all (('ignore', 'warn', 'raise', 'call', 'print', 'log', 'None')) \n",
      "    Doc:  (\"Sets numpy's behaviour for floating-point errors, \", \"see numpy.seterr. 'None' means not to change numpy's default, which can be different for different numpy releases. This flag sets the default behaviour for all kinds of floating-point errors, its effect can be overriden for specific errors by the following flags: seterr_divide, seterr_over, seterr_under and seterr_invalid.\")\n",
      "    Value:  ignore\n",
      "\n",
      "numpy.seterr_divide (('None', 'ignore', 'warn', 'raise', 'call', 'print', 'log')) \n",
      "    Doc:  Sets numpy's behavior for division by zero, see numpy.seterr. 'None' means using the default, defined by numpy.seterr_all.\n",
      "    Value:  None\n",
      "\n",
      "numpy.seterr_over (('None', 'ignore', 'warn', 'raise', 'call', 'print', 'log')) \n",
      "    Doc:  Sets numpy's behavior for floating-point overflow, see numpy.seterr. 'None' means using the default, defined by numpy.seterr_all.\n",
      "    Value:  None\n",
      "\n",
      "numpy.seterr_under (('None', 'ignore', 'warn', 'raise', 'call', 'print', 'log')) \n",
      "    Doc:  Sets numpy's behavior for floating-point underflow, see numpy.seterr. 'None' means using the default, defined by numpy.seterr_all.\n",
      "    Value:  None\n",
      "\n",
      "numpy.seterr_invalid (('None', 'ignore', 'warn', 'raise', 'call', 'print', 'log')) \n",
      "    Doc:  Sets numpy's behavior for invalid floating-point operation, see numpy.seterr. 'None' means using the default, defined by numpy.seterr_all.\n",
      "    Value:  None\n",
      "\n",
      "warn.ignore_bug_before (('0.6', 'None', 'all', '0.3', '0.4', '0.4.1', '0.5', '0.7')) \n",
      "    Doc:  If 'None', we warn about all Theano bugs found by default. If 'all', we don't warn about Theano bugs found by default. If a version, we print only the warnings relative to Theano bugs found after that version. Warning for specific bugs can be configured with specific [warn] flags.\n",
      "    Value:  0.6\n",
      "\n",
      "warn.argmax_pushdown_bug (<function BoolParam.<locals>.booltype at 0x00000000058E89D8>) \n",
      "    Doc:  Warn if in past version of Theano we generated a bug with the theano.tensor.nnet.nnet.local_argmax_pushdown optimization. Was fixed 27 may 2010\n",
      "    Value:  False\n",
      "\n",
      "warn.gpusum_01_011_0111_bug (<function BoolParam.<locals>.booltype at 0x00000000058E8B70>) \n",
      "    Doc:  Warn if we are in a case where old version of Theano had a silent bug with GpuSum pattern 01,011 and 0111 when the first dimensions was bigger then 4096. Was fixed 31 may 2010\n",
      "    Value:  False\n",
      "\n",
      "warn.sum_sum_bug (<function BoolParam.<locals>.booltype at 0x00000000058E8D08>) \n",
      "    Doc:  Warn if we are in a case where Theano version between version 9923a40c7b7a and the 2 august 2010 (fixed date), generated an error in that case. This happens when there are 2 consecutive sums in the graph, bad code was generated. Was fixed 2 August 2010\n",
      "    Value:  False\n",
      "\n",
      "warn.sum_div_dimshuffle_bug (<function BoolParam.<locals>.booltype at 0x00000000058E8EA0>) \n",
      "    Doc:  Warn if previous versions of Theano (between rev. 3bd9b789f5e8, 2010-06-16, and cfc6322e5ad4, 2010-08-03) would have given incorrect result. This bug was triggered by sum of division of dimshuffled tensors.\n",
      "    Value:  False\n",
      "\n",
      "warn.subtensor_merge_bug (<function BoolParam.<locals>.booltype at 0x00000000058F20D0>) \n",
      "    Doc:  Warn if previous versions of Theano (before 0.5rc2) could have given incorrect results when indexing into a subtensor with negative stride (for instance, for instance, x[a:b:-1][c]).\n",
      "    Value:  False\n",
      "\n",
      "warn.gpu_set_subtensor1 (<function BoolParam.<locals>.booltype at 0x00000000058F2268>) \n",
      "    Doc:  Warn if previous versions of Theano (before 0.6) could have given incorrect results when moving to the gpu set_subtensor(x[int vector], new_value)\n",
      "    Value:  False\n",
      "\n",
      "warn.vm_gc_bug (<function BoolParam.<locals>.booltype at 0x00000000058F2400>) \n",
      "    Doc:  There was a bug that existed in the default Theano configuration, only in the development version between July 5th 2012 and July 30th 2012. This was not in a released version. If your code was affected by this bug, a warning will be printed during the code execution if you use the `linker=vm,vm.lazy=True,warn.vm_gc_bug=True` Theano flags. This warning is disabled by default as the bug was not released.\n",
      "    Value:  False\n",
      "\n",
      "warn.signal_conv2d_interface (<function BoolParam.<locals>.booltype at 0x00000000058F2598>) \n",
      "    Doc:  Warn we use the new signal.conv2d() when its interface changed mid June 2014\n",
      "    Value:  True\n",
      "\n",
      "warn.reduce_join (<function BoolParam.<locals>.booltype at 0x00000000058F2730>) \n",
      "    Doc:  Your current code is fine, but Theano versions prior to 0.7 (or this development version) might have given an incorrect result. To disable this warning, set the Theano flag warn.reduce_join to False. The problem was an optimization, that modified the pattern \"Reduce{scalar.op}(Join(axis=0, a, b), axis=0)\", did not check the reduction axis. So if the reduction axis was not 0, you got a wrong answer.\n",
      "    Value:  True\n",
      "\n",
      "warn.inc_set_subtensor1 (<function BoolParam.<locals>.booltype at 0x00000000058F28C8>) \n",
      "    Doc:  Warn if previous versions of Theano (before 0.7) could have given incorrect results for inc_subtensor and set_subtensor when using some patterns of advanced indexing (indexing with one vector or matrix of ints).\n",
      "    Value:  True\n",
      "\n",
      "compute_test_value (('off', 'ignore', 'warn', 'raise', 'pdb')) \n",
      "    Doc:  If 'True', Theano will run each op at graph build time, using Constants, SharedVariables and the tag 'test_value' as inputs to the function. This helps the user track down problems in the graph before it gets optimized.\n",
      "    Value:  off\n",
      "\n",
      "compute_test_value_opt (('off', 'ignore', 'warn', 'raise', 'pdb')) \n",
      "    Doc:  For debugging Theano optimization only. Same as compute_test_value, but is used during Theano optimization\n",
      "    Value:  off\n",
      "\n",
      "unpickle_function (<function BoolParam.<locals>.booltype at 0x00000000058F2B70>) \n",
      "    Doc:  Replace unpickled Theano functions with None. This is useful to unpickle old graphs that pickled them when it shouldn't\n",
      "    Value:  True\n",
      "\n",
      "reoptimize_unpickled_function (<function BoolParam.<locals>.booltype at 0x00000000058F2D08>) \n",
      "    Doc:  Re-optimize the graph when a theano function is unpickled from the disk.\n",
      "    Value:  False\n",
      "\n",
      "exception_verbosity (('low', 'high')) \n",
      "    Doc:  If 'low', the text of exceptions will generally refer to apply nodes with short names such as Elemwise{add_no_inplace}. If 'high', some exceptions will also refer to apply nodes with long descriptions  like:\n",
      "    A. Elemwise{add_no_inplace}\n",
      "            B. log_likelihood_v_given_h\n",
      "            C. log_likelihood_h\n",
      "    Value:  high\n",
      "\n",
      "openmp (<function BoolParam.<locals>.booltype at 0x00000000058F2F28>) \n",
      "    Doc:  Allow (or not) parallel computation on the CPU with OpenMP. This is the default value used when creating an Op that supports OpenMP parallelization. It is preferable to define it via the Theano configuration file ~/.theanorc or with the environment variable THEANO_FLAGS. Parallelization is only done for some operations that implement it, and even for operations that implement parallelism, each operation is free to respect this flag or not. You can control the number of threads used with the environment variable OMP_NUM_THREADS. If it is set to 1, we disable openmp in Theano by default.\n",
      "    Value:  False\n",
      "\n",
      "openmp_elemwise_minsize (<class 'int'>) \n",
      "    Doc:  If OpenMP is enabled, this is the minimum size of vectors for which the openmp parallelization is enabled in element wise ops.\n",
      "    Value:  200000\n",
      "\n",
      "check_input (<function BoolParam.<locals>.booltype at 0x00000000058F41E0>) \n",
      "    Doc:  Specify if types should check their input in their C code. It can be used to speed up compilation, reduce overhead (particularly for scalars) and reduce the number of generated C files.\n",
      "    Value:  True\n",
      "\n",
      "cache_optimizations (<function BoolParam.<locals>.booltype at 0x00000000058F4378>) \n",
      "    Doc:  WARNING: work in progress, does not work yet. Specify if the optimization cache should be used. This cache will any optimized graph and its optimization. Actually slow downs a lot the first optimization, and could possibly still contains some bugs. Use at your own risks.\n",
      "    Value:  False\n",
      "\n",
      "compile.wait (<class 'int'>) \n",
      "    Doc:  Time to wait before retrying to aquire the compile lock.\n",
      "    Value:  5\n",
      "\n",
      "compile.timeout (<class 'int'>) \n",
      "    Doc:  In seconds, time that a process will wait before deciding to\n",
      "override an existing lock. An override only happens when the existing\n",
      "lock is held by the same owner *and* has not been 'refreshed' by this\n",
      "owner for more than this period. Refreshes are done every half timeout\n",
      "period for running processes.\n",
      "    Value:  120\n",
      "\n",
      "compiledir_format (<class 'str'>) \n",
      "    Doc:  Format string for platform-dependent compiled module subdirectory\n",
      "(relative to base_compiledir). Available keys: gxx_version, hostname,\n",
      "numpy_version, platform, processor, python_bitwidth,\n",
      "python_int_bitwidth, python_version, short_platform, theano_version.\n",
      "Defaults to 'compiledir_%(short_platform)s-%(processor)s-%(python_vers\n",
      "ion)s-%(python_bitwidth)s'.\n",
      "    Value:  compiledir_%(short_platform)s-%(processor)s-%(python_version)s-%(python_bitwidth)s\n",
      "\n",
      "<theano.configparser.ConfigParam object at 0x0000000005E68BA8>\n",
      "    Doc:  platform-independent root directory for compiled modules\n",
      "    Value:  C:\\Users\\NYE\\AppData\\Local\\Theano\n",
      "\n",
      "<theano.configparser.ConfigParam object at 0x0000000005E68C18>\n",
      "    Doc:  platform-dependent cache directory for compiled modules\n",
      "    Value:  C:\\Users\\NYE\\AppData\\Local\\Theano\\compiledir_Windows-8-6.2.9200-Intel64_Family_6_Model_58_Stepping_9_GenuineIntel-3.4.3-64\n",
      "\n",
      "cmodule.mac_framework_link (<function BoolParam.<locals>.booltype at 0x0000000005DCED90>) \n",
      "    Doc:  If set to True, breaks certain MacOS installations with the infamous Bus Error\n",
      "    Value:  False\n",
      "\n",
      "cmodule.warn_no_version (<function BoolParam.<locals>.booltype at 0x0000000005E70D90>) \n",
      "    Doc:  If True, will print a warning when compiling one or more Op with C code that can't be cached because there is no c_code_cache_version() function associated to at least one of those Ops.\n",
      "    Value:  False\n",
      "\n",
      "cmodule.remove_gxx_opt (<function BoolParam.<locals>.booltype at 0x0000000005E70F28>) \n",
      "    Doc:  If True, will remove the -O* parameter passed to g++.This is useful to debug in gdb modules compiled by Theano.The parameter -g is passed by default to g++\n",
      "    Value:  False\n",
      "\n",
      "cmodule.compilation_warning (<function BoolParam.<locals>.booltype at 0x0000000005ED1158>) \n",
      "    Doc:  If True, will print compilation warnings.\n",
      "    Value:  False\n",
      "\n",
      "cmodule.preload_cache (<function BoolParam.<locals>.booltype at 0x0000000005ED12F0>) \n",
      "    Doc:  If set to True, will preload the C module cache at import time\n",
      "    Value:  False\n",
      "\n",
      "gcc.cxxflags (<class 'str'>) \n",
      "    Doc:  Extra compiler flags for gcc\n",
      "    Value:  \n",
      "\n",
      "metaopt.verbose (<function BoolParam.<locals>.booltype at 0x0000000005F25B70>) \n",
      "    Doc:  Enable verbose output for meta optimizers\n",
      "    Value:  False\n",
      "\n",
      "optdb.position_cutoff (<class 'float'>) \n",
      "    Doc:  Where to stop eariler during optimization. It represent the position of the optimizer where to stop.\n",
      "    Value:  inf\n",
      "\n",
      "optdb.max_use_ratio (<class 'float'>) \n",
      "    Doc:  A ratio that prevent infinite loop in EquilibriumOptimizer.\n",
      "    Value:  5.0\n",
      "\n",
      "profile (<function BoolParam.<locals>.booltype at 0x0000000005F50840>) \n",
      "    Doc:  If VM should collect profile information\n",
      "    Value:  False\n",
      "\n",
      "profile_optimizer (<function BoolParam.<locals>.booltype at 0x0000000005F509D8>) \n",
      "    Doc:  If VM should collect optimizer profile information\n",
      "    Value:  False\n",
      "\n",
      "profile_memory (<function BoolParam.<locals>.booltype at 0x0000000005F50B70>) \n",
      "    Doc:  If VM should collect memory profile information and print it\n",
      "    Value:  False\n",
      "\n",
      "<theano.configparser.ConfigParam object at 0x0000000005F644E0>\n",
      "    Doc:  Useful only for the vm linkers. When lazy is None, auto detect if lazy evaluation is needed and use the apropriate version. If lazy is True/False, force the version used between Loop/LoopGC and Stack.\n",
      "    Value:  None\n",
      "\n",
      "optimizer_excluding (<class 'str'>) \n",
      "    Doc:  When using the default mode, we will remove optimizer with these tags. Separate tags with ':'.\n",
      "    Value:  \n",
      "\n",
      "optimizer_including (<class 'str'>) \n",
      "    Doc:  When using the default mode, we will add optimizer with these tags. Separate tags with ':'.\n",
      "    Value:  \n",
      "\n",
      "optimizer_requiring (<class 'str'>) \n",
      "    Doc:  When using the default mode, we will require optimizer with these tags. Separate tags with ':'.\n",
      "    Value:  \n",
      "\n",
      "DebugMode.patience (<class 'int'>) \n",
      "    Doc:  Optimize graph this many times to detect inconsistency\n",
      "    Value:  10\n",
      "\n",
      "DebugMode.check_c (<function BoolParam.<locals>.booltype at 0x0000000005FA9D90>) \n",
      "    Doc:  Run C implementations where possible\n",
      "    Value:  True\n",
      "\n",
      "DebugMode.check_py (<function BoolParam.<locals>.booltype at 0x0000000005FA9F28>) \n",
      "    Doc:  Run Python implementations where possible\n",
      "    Value:  True\n",
      "\n",
      "DebugMode.check_finite (<function BoolParam.<locals>.booltype at 0x0000000005FC4158>) \n",
      "    Doc:  True -> complain about NaN/Inf results\n",
      "    Value:  True\n",
      "\n",
      "DebugMode.check_strides (<class 'int'>) \n",
      "    Doc:  Check that Python- and C-produced ndarrays have same strides. On difference: (0) - ignore, (1) warn, or (2) raise error\n",
      "    Value:  0\n",
      "\n",
      "DebugMode.warn_input_not_reused (<function BoolParam.<locals>.booltype at 0x0000000005FC4400>) \n",
      "    Doc:  Generate a warning when destroy_map or view_map says that an op works inplace, but the op did not reuse the input for its output.\n",
      "    Value:  True\n",
      "\n",
      "DebugMode.check_preallocated_output (<class 'str'>) \n",
      "    Doc:  Test thunks with pre-allocated memory as output storage. This is a list of strings separated by \":\". Valid values are: \"initial\" (initial storage in storage map, happens with Scan),\"previous\" (previously-returned memory), \"c_contiguous\", \"f_contiguous\", \"strided\" (positive and negative strides), \"wrong_size\" (larger and smaller dimensions), and \"ALL\" (all of the above).\n",
      "    Value:  \n",
      "\n",
      "DebugMode.check_preallocated_output_ndim (<class 'int'>) \n",
      "    Doc:  When testing with \"strided\" preallocated output memory, test all combinations of strides over that number of (inner-most) dimensions. You may want to reduce that number to reduce memory or time usage, but it is advised to keep a minimum of 2.\n",
      "    Value:  4\n",
      "\n",
      "profiling.time_thunks (<function BoolParam.<locals>.booltype at 0x0000000005FCB6A8>) \n",
      "    Doc:  Time individual thunks when profiling\n",
      "    Value:  True\n",
      "\n",
      "profiling.n_apply (<class 'int'>) \n",
      "    Doc:  Number of Apply instances to print by default\n",
      "    Value:  20\n",
      "\n",
      "profiling.n_ops (<class 'int'>) \n",
      "    Doc:  Number of Ops to print by default\n",
      "    Value:  20\n",
      "\n",
      "profiling.output_line_width (<class 'int'>) \n",
      "    Doc:  Max line width for the profiling output\n",
      "    Value:  512\n",
      "\n",
      "profiling.min_memory_size (<class 'int'>) \n",
      "    Doc:  For the memory profile, do not print Apply nodes if the size\n",
      "             of their outputs (in bytes) is lower than this threshold\n",
      "    Value:  1024\n",
      "\n",
      "profiling.min_peak_memory (<function BoolParam.<locals>.booltype at 0x0000000005FCBF28>) \n",
      "    Doc:  The min peak memory usage of the order\n",
      "    Value:  False\n",
      "\n",
      "profiling.destination (<class 'str'>) \n",
      "    Doc:  \n",
      "             File destination of the profiling output\n",
      "             \n",
      "    Value:  stderr\n",
      "\n",
      "profiling.debugprint (<function BoolParam.<locals>.booltype at 0x00000000066BF1E0>) \n",
      "    Doc:  \n",
      "             Do a debugprint of the profiled functions\n",
      "             \n",
      "    Value:  False\n",
      "\n",
      "ProfileMode.n_apply_to_print (<class 'int'>) \n",
      "    Doc:  Number of apply instances to print by default\n",
      "    Value:  15\n",
      "\n",
      "ProfileMode.n_ops_to_print (<class 'int'>) \n",
      "    Doc:  Number of ops to print by default\n",
      "    Value:  20\n",
      "\n",
      "ProfileMode.min_memory_size (<class 'int'>) \n",
      "    Doc:  For the memory profile, do not print apply nodes if the size of their outputs (in bytes) is lower then this threshold\n",
      "    Value:  1024\n",
      "\n",
      "ProfileMode.profile_memory (<function BoolParam.<locals>.booltype at 0x00000000066C4488>) \n",
      "    Doc:  Enable profiling of memory used by Theano functions\n",
      "    Value:  False\n",
      "\n",
      "on_shape_error (('warn', 'raise')) \n",
      "    Doc:  warn: print a warning and use the default value. raise: raise an error\n",
      "    Value:  warn\n",
      "\n",
      "tensor.insert_inplace_optimizer_validate_nb (<class 'int'>) \n",
      "    Doc:  -1: auto, if graph have less then 500 nodes 1, else 10\n",
      "    Value:  -1\n",
      "\n",
      "experimental.local_alloc_elemwise (<function BoolParam.<locals>.booltype at 0x0000000007CF9D08>) \n",
      "    Doc:  DEPRECATED: If True, enable the experimental optimization local_alloc_elemwise. Generates error if not True. Use optimizer_excluding=local_alloc_elemwise to dsiable.\n",
      "    Value:  True\n",
      "\n",
      "experimental.local_alloc_elemwise_assert (<function BoolParam.<locals>.booltype at 0x0000000007CF9D90>) \n",
      "    Doc:  When the local_alloc_elemwise is applied, add an assert to highlight shape errors.\n",
      "    Value:  True\n",
      "\n",
      "blas.ldflags (<class 'str'>) \n",
      "    Doc:  lib[s] to include for [Fortran] level-3 blas implementation\n",
      "    Value:  -LC:/openblas -lopenblas\n",
      "\n",
      "warn.identify_1pexp_bug (<function BoolParam.<locals>.booltype at 0x0000000007DA3AE8>) \n",
      "    Doc:  Warn if Theano versions prior to 7987b51 (2011-12-18) could have yielded a wrong result due to a bug in the is_1pexp function\n",
      "    Value:  False\n",
      "\n",
      "scan.allow_gc (<function BoolParam.<locals>.booltype at 0x0000000007ECDD08>) \n",
      "    Doc:  Allow/disallow gc inside of Scan (default: False)\n",
      "    Value:  False\n",
      "\n",
      "scan.allow_output_prealloc (<function BoolParam.<locals>.booltype at 0x0000000007F076A8>) \n",
      "    Doc:  Allow/disallow memory preallocation for outputs inside of scan (default: True)\n",
      "    Value:  True\n",
      "\n",
      "pycuda.init (<function BoolParam.<locals>.booltype at 0x0000000007F242F0>) \n",
      "    Doc:  If True, always initialize PyCUDA when Theano want to\n",
      "           initilize the GPU.  Currently, we must always initialize\n",
      "           PyCUDA before Theano do it.  Setting this flag to True,\n",
      "           ensure that, but always import PyCUDA.  It can be done\n",
      "           manually by importing theano.misc.pycuda_init before theano\n",
      "           initialize the GPU device.\n",
      "             \n",
      "    Value:  False\n",
      "\n",
      "cublas.lib (<class 'str'>) \n",
      "    Doc:  Name of the cuda blas library for the linker.\n",
      "    Value:  cublas\n",
      "\n",
      "lib.cnmem (<class 'float'>) \n",
      "    Doc:  Do we enable CNMeM or not (a faster CUDA memory allocator).\n",
      "\n",
      "             The parameter represent the start size (in MB or % of\n",
      "             total GPU memory) of the memory pool.\n",
      "\n",
      "             0: not enabled.\n",
      "             0 < N <= 1: % of the total GPU memory (clipped to .985 for driver memory)\n",
      "             > 0: use that number of MB of memory.\n",
      "\n",
      "             \n",
      "    Value:  0.0\n",
      "\n",
      "\n"
     ]
    }
   ],
   "source": [
    "import theano\n",
    "print(theano.config)"
   ]
  },
  {
   "cell_type": "markdown",
   "metadata": {},
   "source": [
    "theano의 compute_test_value이 raise로 되어 있어 error가 발생하는 경우가 있고, 이 설정을 시스템적으로 off로 바꾸려 해도 잘 동작하지 않는 경우가 있다. 이때 아래와 같이 명시적으로 compute_test_value 값을 지정할 수 있다."
   ]
  },
  {
   "cell_type": "code",
   "execution_count": 5,
   "metadata": {
    "collapsed": false
   },
   "outputs": [
    {
     "name": "stdout",
     "output_type": "stream",
     "text": [
      "off\n",
      "off\n"
     ]
    }
   ],
   "source": [
    "import theano\n",
    "\n",
    "print (theano.config.compute_test_value)\n",
    "\n",
    "theano.config.compute_test_value = 'off'\n",
    "\n",
    "print (theano.config.compute_test_value)\n"
   ]
  },
  {
   "cell_type": "markdown",
   "metadata": {},
   "source": [
    "### Theano tensor\n",
    "\n",
    "그럼 theano tensor에 대해서 살짝? 알아보자.\n",
    "\n",
    "> - [http://deeplearning.net/software/theano/tutorial/adding.html]   \n",
    "> - [http://deeplearning.net/software/theano/library/tensor/basic.html]"
   ]
  },
  {
   "cell_type": "markdown",
   "metadata": {},
   "source": [
    "f matrix : float(float32) matrix"
   ]
  },
  {
   "cell_type": "code",
   "execution_count": 6,
   "metadata": {
    "collapsed": false
   },
   "outputs": [
    {
     "name": "stdout",
     "output_type": "stream",
     "text": [
      "<class 'theano.tensor.var.TensorVariable'>\n",
      "TensorType(float32, matrix)\n"
     ]
    }
   ],
   "source": [
    "import theano.tensor as T\n",
    "x = T.fmatrix()\n",
    "print(type(x))\n",
    "print(x.type)\n"
   ]
  },
  {
   "cell_type": "markdown",
   "metadata": {},
   "source": [
    "X_imp의 type이 \n",
    "\n",
    "`TensorType(int64, vector)`   \n",
    "`<class 'theano.tensor.var.TensorVariable'>`   \n",
    "위와 같으므로 뭔가 비슷한데??\n",
    "\n"
   ]
  },
  {
   "cell_type": "markdown",
   "metadata": {},
   "source": [
    "Scalar type을 살펴보자.\n",
    "\n",
    "d scalar : double(float64) scalar"
   ]
  },
  {
   "cell_type": "code",
   "execution_count": 7,
   "metadata": {
    "collapsed": false
   },
   "outputs": [
    {
     "name": "stdout",
     "output_type": "stream",
     "text": [
      "TensorType(float64, scalar)\n",
      "<class 'theano.tensor.var.TensorVariable'>\n"
     ]
    },
    {
     "data": {
      "text/plain": [
       "True"
      ]
     },
     "execution_count": 7,
     "metadata": {},
     "output_type": "execute_result"
    }
   ],
   "source": [
    "x = T.dscalar('x')\n",
    "print( x.type)\n",
    "print(type(x))\n",
    "\n",
    "x.type is T.dscalar"
   ]
  },
  {
   "cell_type": "markdown",
   "metadata": {},
   "source": [
    "- 아래와 같이 각각의 operand(a, b)를 선언한다.\n",
    "- 그리고나서 operand를 이용한 operation을 out으로 정의한다. \n",
    "- theano.function을 이용하여 input과 output(+operation)을 함수 f로 정의한다."
   ]
  },
  {
   "cell_type": "code",
   "execution_count": 8,
   "metadata": {
    "collapsed": false
   },
   "outputs": [
    {
     "name": "stdout",
     "output_type": "stream",
     "text": [
      "[  4.  16.  36.]\n",
      "<class 'numpy.ndarray'>\n"
     ]
    }
   ],
   "source": [
    "import theano\n",
    "a = theano.tensor.vector() # declare variable\n",
    "b = theano.tensor.vector() # declare variable\n",
    "out = a**2 + b**2 + 2*a*b               # build symbolic expression\n",
    "f = theano.function([a,b], out)   # compile function\n",
    "out = f([0, 1, 2],[2,3,4])\n",
    "print(out)\n",
    "print(type(out))\n",
    "\n"
   ]
  },
  {
   "cell_type": "markdown",
   "metadata": {},
   "source": [
    "**How to use test value?**\n",
    "\n",
    "theano.config.compute_test_value 이 값이 warn이나 raise일 경우 test_value가 없이 evaluate하려하면, error가 발생한다.\n",
    "\n",
    "> reference\n",
    "> - [http://stackoverflow.com/questions/17445280/theano-print-value-of-tensorvariable]\n",
    "> - Using test Values of [http://deeplearning.net/software/theano/tutorial/debug_faq.html#using-test-values]"
   ]
  },
  {
   "cell_type": "code",
   "execution_count": 9,
   "metadata": {
    "collapsed": false
   },
   "outputs": [
    {
     "name": "stdout",
     "output_type": "stream",
     "text": [
      "off\n"
     ]
    }
   ],
   "source": [
    "import theano\n",
    "from theano import tensor as T\n",
    "\n",
    "print (theano.config.compute_test_value)"
   ]
  },
  {
   "cell_type": "code",
   "execution_count": 10,
   "metadata": {
    "collapsed": false,
    "scrolled": false
   },
   "outputs": [
    {
     "name": "stdout",
     "output_type": "stream",
     "text": [
      "[  4.  16.  36.]\n",
      "<class 'numpy.ndarray'>\n"
     ]
    }
   ],
   "source": [
    "a = theano.tensor.vector() # declare variable\n",
    "b = theano.tensor.vector() # declare variable\n",
    "\n",
    "a.tag.test_value = [1,2]\n",
    "b.tag.test_value = [3,4]\n",
    "\n",
    "out = a**2 + b**2 + 2*a*b               # build symbolic expression\n",
    "f = theano.function([a,b], out)   # compile function\n",
    "out = f([0, 1, 2],[2,3,4])\n",
    "print(out)\n",
    "print(type(out))\n",
    "\n"
   ]
  },
  {
   "cell_type": "code",
   "execution_count": 11,
   "metadata": {
    "collapsed": false
   },
   "outputs": [
    {
     "data": {
      "text/plain": [
       "[1, 2]"
      ]
     },
     "execution_count": 11,
     "metadata": {},
     "output_type": "execute_result"
    }
   ],
   "source": [
    "import theano\n",
    "import numpy as np\n",
    "import pymc3 as pm\n",
    "\n",
    "a = theano.tensor.vector() # declare variable\n",
    "a.tag.test_value = [1,2]\n",
    "#y = pm.dot(a,a)\n",
    "\n",
    "a.tag.test_value\n",
    "\n"
   ]
  },
  {
   "cell_type": "code",
   "execution_count": 12,
   "metadata": {
    "collapsed": false
   },
   "outputs": [
    {
     "name": "stdout",
     "output_type": "stream",
     "text": [
      "Shape.0\n",
      "TensorType(int64, matrix)\n",
      "<class 'theano.tensor.var.TensorVariable'>\n"
     ]
    }
   ],
   "source": [
    "x = T.lmatrix('x')\n",
    "x.tag.test_value = [[1,2], [3,4]]\n",
    "\n",
    "print(x.shape)\n",
    "print(x.type)\n",
    "print(type(x))"
   ]
  },
  {
   "cell_type": "markdown",
   "metadata": {},
   "source": [
    "**Tensor type multiplication**\n",
    "\n",
    "```Python\n",
    "x.tag.test_value=np.array([[1.,2.,3.]], dtype='float32')\n",
    "```\n",
    "위에서 [1.,2.,3.]를 []로 한번 더 감싸줘야 함.\n",
    "\n",
    "<u>x가 matrix인 경우임..</u>"
   ]
  },
  {
   "cell_type": "code",
   "execution_count": 55,
   "metadata": {
    "collapsed": false
   },
   "outputs": [
    {
     "name": "stdout",
     "output_type": "stream",
     "text": [
      "-------------------\n",
      "itself: beta\n",
      ".type: TensorType(float32, scalar)\n",
      "type(): <class 'theano.tensor.var.TensorVariable'>\n",
      "shape: Shape.0\n",
      "-------------------\n",
      "-------------------\n",
      "itself: Elemwise{add,no_inplace}.0\n",
      ".type: TensorType(float32, matrix)\n",
      "type(): <class 'theano.tensor.var.TensorVariable'>\n",
      "shape: Shape.0\n",
      "-------------------\n",
      "-------------------\n",
      "itself: [[  6.  11.  16.]]\n",
      ".type: no type attribute\n",
      "type(): <class 'numpy.ndarray'>\n",
      "shape: (1, 3)\n",
      "-------------------\n"
     ]
    },
    {
     "name": "stderr",
     "output_type": "stream",
     "text": [
      "DEBUG: nvcc STDOUT mod.cu\r\n",
      "   Creating library C:/Users/NYE/AppData/Local/Theano/compiledir_Windows-8-6.2.9200-Intel64_Family_6_Model_58_Stepping_9_GenuineIntel-3.4.3-64/tmpyaenmox4/mcb8fbd5d93b9e5bd109795e0282036c4.lib and object C:/Users/NYE/AppData/Local/Theano/compiledir_Windows-8-6.2.9200-Intel64_Family_6_Model_58_Stepping_9_GenuineIntel-3.4.3-64/tmpyaenmox4/mcb8fbd5d93b9e5bd109795e0282036c4.exp\r\n",
      "\n"
     ]
    }
   ],
   "source": [
    "import theano\n",
    "import theano.tensor as T\n",
    "import numpy as np\n",
    "import pymc3 as pm\n",
    "\n",
    "\n",
    "alpha = T.fscalar('alpha')\n",
    "alpha.tag.test_value=1\n",
    "\n",
    "beta = T.fscalar('beta')\n",
    "beta.tag.test_value=3\n",
    "\n",
    "x = T.fmatrix('x')\n",
    "x.tag.test_value=np.array([[1.,2.,3.]], dtype='float32')\n",
    "\n",
    "mu = alpha + beta*x\n",
    "#mu = pm.dot(beta, x) #Same with above\n",
    "\n",
    "\n",
    "f = theano.function([alpha, beta,x,], mu)   # compile function\n",
    "out = f(1, 5,[[1,2,3]])\n",
    "\n",
    "cv(beta)\n",
    "cv(mu)\n",
    "cv(out)"
   ]
  },
  {
   "cell_type": "markdown",
   "metadata": {},
   "source": [
    "<u>x가 vector인 경우는?</u>\n",
    "\n",
    "```Python\n",
    "x.tag.test_value=np.array([1.,2.,3.], dtype='float32')\n",
    "```\n",
    "위와 같이 [1.,2.,3.] 이렇게 입력!\n"
   ]
  },
  {
   "cell_type": "code",
   "execution_count": 58,
   "metadata": {
    "collapsed": false
   },
   "outputs": [
    {
     "name": "stderr",
     "output_type": "stream",
     "text": [
      "DEBUG: nvcc STDOUT mod.cu\r\n",
      "   Creating library C:/Users/NYE/AppData/Local/Theano/compiledir_Windows-8-6.2.9200-Intel64_Family_6_Model_58_Stepping_9_GenuineIntel-3.4.3-64/tmplbe9qc6i/me3142c03982398987a357ceeea1c99bf.lib and object C:/Users/NYE/AppData/Local/Theano/compiledir_Windows-8-6.2.9200-Intel64_Family_6_Model_58_Stepping_9_GenuineIntel-3.4.3-64/tmplbe9qc6i/me3142c03982398987a357ceeea1c99bf.exp\r\n",
      "\n",
      "DEBUG: nvcc STDOUT"
     ]
    },
    {
     "name": "stdout",
     "output_type": "stream",
     "text": [
      "-------------------\n",
      "itself: beta\n",
      ".type: TensorType(float32, scalar)\n",
      "type(): <class 'theano.tensor.var.TensorVariable'>\n",
      "shape: Shape.0\n",
      "-------------------\n",
      "-------------------\n",
      "itself: Elemwise{add,no_inplace}.0\n",
      ".type: TensorType(float32, vector)\n",
      "type(): <class 'theano.tensor.var.TensorVariable'>\n",
      "shape: Shape.0\n",
      "-------------------\n",
      "-------------------\n",
      "itself: [  6.  11.  16.]\n",
      ".type: no type attribute\n",
      "type(): <class 'numpy.ndarray'>\n",
      "shape: (3,)\n",
      "-------------------\n"
     ]
    },
    {
     "name": "stderr",
     "output_type": "stream",
     "text": [
      " mod.cu\r\n",
      "   Creating library C:/Users/NYE/AppData/Local/Theano/compiledir_Windows-8-6.2.9200-Intel64_Family_6_Model_58_Stepping_9_GenuineIntel-3.4.3-64/tmpcyug7y7k/m3af35de6cf7c176e8c2fbb67492f794c.lib and object C:/Users/NYE/AppData/Local/Theano/compiledir_Windows-8-6.2.9200-Intel64_Family_6_Model_58_Stepping_9_GenuineIntel-3.4.3-64/tmpcyug7y7k/m3af35de6cf7c176e8c2fbb67492f794c.exp\r\n",
      "\n"
     ]
    }
   ],
   "source": [
    "import theano\n",
    "import theano.tensor as T\n",
    "import numpy as np\n",
    "import pymc3 as pm\n",
    "\n",
    "\n",
    "alpha = T.fscalar('alpha')\n",
    "alpha.tag.test_value=1\n",
    "\n",
    "beta = T.fscalar('beta')\n",
    "beta.tag.test_value=3\n",
    "\n",
    "x = T.fvector('x')\n",
    "x.tag.test_value=np.array([1.,2.,3.], dtype='float32')\n",
    "\n",
    "mu = alpha + beta*x\n",
    "#mu = pm.dot(beta, x) #Same with above\n",
    "\n",
    "\n",
    "f = theano.function([alpha, beta,x,], mu)   # compile function\n",
    "out = f(1, 5,[1,2,3])\n",
    "\n",
    "cv(beta)\n",
    "cv(mu)\n",
    "cv(out)"
   ]
  },
  {
   "cell_type": "markdown",
   "metadata": {},
   "source": [
    "How to switch theano.tensor to numpy.array?\n",
    "\n",
    "> reference\n",
    "> - [http://stackoverflow.com/questions/23643850/how-to-swich-theano-tensor-to-numpy-array]"
   ]
  },
  {
   "cell_type": "code",
   "execution_count": 5,
   "metadata": {
    "collapsed": false
   },
   "outputs": [
    {
     "data": {
      "text/plain": [
       "array(10.0, dtype=float32)"
      ]
     },
     "execution_count": 5,
     "metadata": {},
     "output_type": "execute_result"
    }
   ],
   "source": [
    "import theano\n",
    "import theano.tensor as T\n",
    "import numpy as np\n",
    "\n",
    "class testxx(object):\n",
    "    def __init__(self, input):\n",
    "        self.input = input\n",
    "        self.output = T.sum(input)\n",
    "\n",
    "b = T.matrix(dtype=theano.config.floatX) #Defining theano.tensor variable\n",
    "b.tag.test_value = [[1]] #Setting test value for theano.tensor type\n",
    "\n",
    "classfier = testxx(b) #Creating class instance\n",
    "\n",
    "f = theano.function([b], classfier.output)\n",
    "f_a1 = f([[1,2,3,4]])\n",
    "f_a1\n"
   ]
  }
 ],
 "metadata": {
  "kernelspec": {
   "display_name": "Python 3",
   "language": "python",
   "name": "python3"
  },
  "language_info": {
   "codemirror_mode": {
    "name": "ipython",
    "version": 3
   },
   "file_extension": ".py",
   "mimetype": "text/x-python",
   "name": "python",
   "nbconvert_exporter": "python",
   "pygments_lexer": "ipython3",
   "version": "3.4.3"
  }
 },
 "nbformat": 4,
 "nbformat_minor": 0
}
