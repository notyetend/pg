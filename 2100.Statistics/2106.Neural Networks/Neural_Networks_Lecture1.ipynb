{
 "cells": [
  {
   "cell_type": "markdown",
   "metadata": {},
   "source": [
    "Coursera의 Neural Networks for Machine Learning 강의를 정리한 내용임.   \n",
    "2016.10.17. by Dongwan Kim"
   ]
  },
  {
   "cell_type": "markdown",
   "metadata": {},
   "source": [
    "# Week1. Introduction to the course - machine learning and neural nets"
   ]
  },
  {
   "cell_type": "markdown",
   "metadata": {},
   "source": [
    "1주차에는 우선 Machine Learning이 무엇인지, 왜 필요한지에 대해 알아본다."
   ]
  },
  {
   "cell_type": "markdown",
   "metadata": {},
   "source": [
    "### Lecture 1a. Why do we need machine learning?"
   ]
  },
  {
   "cell_type": "markdown",
   "metadata": {
    "collapsed": true
   },
   "source": [
    "> 변화하는 상황에 맞는 개개의 프로그램을 작성하는 것은 쉽지 않음.    \n",
    "데이터에 기반하여 상황에 맞는 알고리즘이 생성되도록 하는 접근이 필요함."
   ]
  },
  {
   "cell_type": "markdown",
   "metadata": {},
   "source": [
    "> 패턴 인식, 부정탐지, 예측 등에 이용됨"
   ]
  },
  {
   "cell_type": "markdown",
   "metadata": {
    "collapsed": true
   },
   "source": [
    "> 가장 대표적인 예로 숫자 손글씨를 해당하는 숫자로 분류 하는 문제가 있음(**MNIST**/엠니스트)    \n",
    "> (http://yann.lecun.com/exdb/mnist/)"
   ]
  },
  {
   "cell_type": "markdown",
   "metadata": {},
   "source": [
    "<img  src=\"./_images/01_minist.PNG\"/>"
   ]
  },
  {
   "cell_type": "markdown",
   "metadata": {},
   "source": [
    "> MNIST 보다 어려운 것으로 **ImageNet** 테스크가 있음"
   ]
  },
  {
   "cell_type": "markdown",
   "metadata": {},
   "source": [
    "<img  src=\"./_images/01_imageNet.PNG\"/>"
   ]
  },
  {
   "cell_type": "markdown",
   "metadata": {},
   "source": [
    "### Lecture 1b. What are neural networks?"
   ]
  },
  {
   "cell_type": "markdown",
   "metadata": {
    "collapsed": true
   },
   "source": [
    "###### Reason to study neural computation"
   ]
  },
  {
   "cell_type": "markdown",
   "metadata": {},
   "source": [
    "> - 뇌가 어떻게 동작하는지 알고 싶어서\n",
    "> - 뉴런에서 일어나는 것과 같은 adaptive한 병렬 컴퓨팅에 대해 이해하려고\n",
    "> - 뇌가 동작하는 방식을 이용하여 실질적인 문제들을 풀기 위해서(<u>이 강의에서 다루려는 것~!</u>)"
   ]
  },
  {
   "cell_type": "markdown",
   "metadata": {},
   "source": [
    "###### A typical cortical neuron(피질 뉴런)"
   ]
  },
  {
   "cell_type": "markdown",
   "metadata": {},
   "source": [
    "> Axon hillock(축삭둔덕)에서 생성된 spike가    \n",
    "Axon terminal(축삭발단)에서 Synapse(시넵스)를 통해  \n",
    "다른 neuron의 dendrite(수상돌기)로 전달된다.  "
   ]
  },
  {
   "cell_type": "markdown",
   "metadata": {},
   "source": [
    "<img  src=\"./_images/01_neuron3.PNG\"/>\n",
    "<h6 align='right'>https://en.wikipedia.org/wiki/Dendrite</h6>\n"
   ]
  },
  {
   "cell_type": "markdown",
   "metadata": {},
   "source": [
    "> 시넵시스에서의 신호 전달 특성은 Synaptic vesicle(연접소포)와 Receptor(수용체)의 수에 따라 달라진다."
   ]
  },
  {
   "cell_type": "markdown",
   "metadata": {},
   "source": [
    "<img  src=\"./_images/01_synapse.PNG\"/>\n",
    "<h6 align='right'>https://en.wikipedia.org/wiki/Synapse</h6>"
   ]
  },
  {
   "cell_type": "markdown",
   "metadata": {},
   "source": [
    "> 뉴런에서의 신호 전달 특성을 요약해 보면..\n",
    "> - 어떤 뉴런들은 여러개의 뉴런과 연결되어 있다.\n",
    "> - 피질 뉴런은 (전기적) spike를 사용하여 신호를 전달한다.\n",
    "> - 신호 전달의 강도는 synaptic weight(연접소포와 수용체의 수)에 따라 달라진다.\n",
    "> - synaptic weight은 전체 시스템이 어떤 유용한 연산을 잘 하도록 적절히 조절된다.\n",
    "> - 인간의 뇌에는 대략 $10^{11}$개의 뉴런이 있고 $10^4$개의 weight들이 존재한다.\n",
    "> - 빠른 병렬 연산과 기능상 유연한 특성을 갖는다."
   ]
  },
  {
   "cell_type": "markdown",
   "metadata": {},
   "source": [
    "### Lecture 1c. Some simple models of neurons"
   ]
  },
  {
   "cell_type": "markdown",
   "metadata": {
    "collapsed": true
   },
   "source": [
    "> 뉴런을 단순화 하여 input을 받아 output을 내놓는 단위(unit)으로 생각해 볼 수 있다.\n",
    "\n",
    "\n",
    "> 또한 input을 받아 어떤 output을 내 놓을지에 관해서도 생각해 볼 수 있다.    \n",
    "> - 가령 input $x$를 받아 그대로 $y=x$를 내 놓을 수도 있고\n",
    "> - 몇개의 input들 $(x_1, x_2, x_3)$을 받아 $y=x_1 + x_2 + x_3$을 내 놓을 수도 있다.\n",
    "> - 혹은 input들 $(x_1, x_2, x_3)$의 합이 어떤 값 이상일 경우 $y=1$을 그렇지 않을 경우 $y=0$을 내 놓을 수도 있을 것이다."
   ]
  },
  {
   "cell_type": "markdown",
   "metadata": {},
   "source": [
    "###### Linear neurons"
   ]
  },
  {
   "cell_type": "markdown",
   "metadata": {},
   "source": [
    "> 받은 input들을 더하고 여기에 약간의 bias(b)를 더해서 출력\n",
    "\n",
    "\n",
    "> $$y = b + \\sum_{i} x_i w_i$$  "
   ]
  },
  {
   "cell_type": "markdown",
   "metadata": {},
   "source": [
    "<img  src=\"./_images/01_linear_neurons1.PNG\"/>"
   ]
  },
  {
   "cell_type": "markdown",
   "metadata": {},
   "source": [
    "###### Binary threshold neurons"
   ]
  },
  {
   "cell_type": "markdown",
   "metadata": {},
   "source": [
    "> 받은 입력값의 합이 임계치(threshold, $\\theta$)를 넘을 경우 1을 출력함\n",
    "\n",
    "> $$z = \\sum_{i} x_i w_i$$   \n",
    "$$y = \\begin{cases} 1 & \\rm{if} ~ z \\geq \\theta \\\\ 0 & \\rm{otherwise}\n",
    "\\end{cases}$$"
   ]
  },
  {
   "cell_type": "markdown",
   "metadata": {},
   "source": [
    "<img  src=\"./_images/01_binary_threshold_neurons1.PNG\"/>"
   ]
  },
  {
   "cell_type": "markdown",
   "metadata": {},
   "source": [
    "> 혹은 임계치를 bias로 바꿔서 표현할 수 도 있다.($\\theta = -b$)    \n",
    "> $$z = b + \\sum_{i} x_i w_i$$   \n",
    "$$y = \\begin{cases} 1 & \\rm{if} ~ z \\geq 0 \\\\ 0 & \\rm{otherwise}\n",
    "\\end{cases}$$\n"
   ]
  },
  {
   "cell_type": "markdown",
   "metadata": {},
   "source": [
    "###### Rectified Linear Neurons"
   ]
  },
  {
   "cell_type": "markdown",
   "metadata": {},
   "source": [
    "> 일정치 이상의 weighted sum에서만 linear output을 출력하는 형태\n",
    "\n",
    "> $$z = b + \\sum_{i} x_i w_i$$   \n",
    "$$y = \\begin{cases} z & \\rm{if} ~ z \\geq 0 \\\\ 0 & \\rm{otherwise}\n",
    "\\end{cases}$$\n"
   ]
  },
  {
   "cell_type": "markdown",
   "metadata": {},
   "source": [
    "<img  src=\"./_images/01_rectified_neurons1.PNG\"/>"
   ]
  },
  {
   "cell_type": "markdown",
   "metadata": {},
   "source": [
    "###### Sigmoid neurons"
   ]
  },
  {
   "cell_type": "markdown",
   "metadata": {},
   "source": [
    "> Binary threshold neurons와 유사하지만, 좀더 smooth한 결과를 출력함,       \n",
    "\n",
    "> 보통 logistic function을 사용하며, 미분결과가 알려져 있다는 아주 좋은 특성을 갖고 있음\n",
    "\n",
    "> $$z = b + \\sum_{i} x_i w_i~, ~~~y = \\frac{1}{1 + e^{-z}}$$\n",
    "\n",
    "> $$\\frac{dy}{dx} = [1-y(x)] y(x) = \\frac{e^x}{(1+e^x )^2}$$"
   ]
  },
  {
   "cell_type": "markdown",
   "metadata": {},
   "source": [
    "<img  src=\"./_images/01_sigmoid_neurons1.PNG\"/>"
   ]
  },
  {
   "cell_type": "markdown",
   "metadata": {},
   "source": [
    "###### Stochastic binary neurons"
   ]
  },
  {
   "cell_type": "markdown",
   "metadata": {},
   "source": [
    "> Sigmoid neurons과 유사하며, \n",
    "\n",
    "> 출력값을 확률값으로 해석하는 차이가 있음\n",
    "\n",
    "$$z = b + \\sum_{i} x_i w_i$$\n",
    "$$p(s=1) = \\frac{1}{1 + e^{-z}}$$"
   ]
  },
  {
   "cell_type": "markdown",
   "metadata": {},
   "source": [
    "<img  src=\"./_images/01_stochastic_binary_neurons1.PNG\"/>"
   ]
  },
  {
   "cell_type": "markdown",
   "metadata": {},
   "source": [
    "### Lecture 1d. A simple example of learning"
   ]
  },
  {
   "cell_type": "markdown",
   "metadata": {
    "collapsed": true
   },
   "source": [
    "> MNIST(Modified National Institute of Standards and Technology) dataset은 방대한(60,000) 손글씨 데이터로서     \n",
    "해당 이미지가 나타내는 숫자를 판별해 내는 것이 목표~!\n",
    "\n",
    "\n",
    "> 이 강의에서는 layer가 단 2개인 neural network를 예로 제시함.(input layer & output layer)    \n",
    "> 각 이미지는 28x28 pixel로서 길이가 784(=28x28)인 feature vector를 갖게 됨."
   ]
  },
  {
   "cell_type": "markdown",
   "metadata": {},
   "source": [
    "<img  src=\"./_images/01_temp_fig_mnist_groundtruth.png\"/>\n",
    "<h6 align='right'>https://ml4a.github.io/ml4a/neural_networks/</h6>"
   ]
  },
  {
   "cell_type": "markdown",
   "metadata": {},
   "source": [
    "> 하나의 이미지가 입력으로 들어왔을 때, 각 pixel은 0부터 9까지의 숫자중 다수에 투표를 하게 되고,    \n",
    "> 투표는 각 output shape(0~9)에 서로 다른 weight을 갖을 수 있음,   \n",
    "> 결국 가장 높은 투표를 받은 output shape(0~9)을 입력 이미지의 숫자로 결정함"
   ]
  },
  {
   "cell_type": "markdown",
   "metadata": {},
   "source": [
    "<img  src=\"./_images/01_temp_fig_mnist.png\"/>\n",
    "<h6 align='right'>https://ml4a.github.io/ml4a/neural_networks/</h6>"
   ]
  },
  {
   "cell_type": "markdown",
   "metadata": {},
   "source": [
    "> 각 pixel은 10개의 output shape과 각각 연결되는데, 각 shape마다 서로 다른 weight을 갖을 수 있다.      \n",
    "즉 각 pixel마다 10가지의 weight이 존재한다.\n",
    "\n",
    "> 28 x 28 pixel의 weight들을 0부터 9에 각 숫자별로, weight의 크기와 부호를 이미지로 나타내면 아래와 같다.    \n",
    "초기에는 random한 weight이므로 별다른 의미를 발견할 수 없으나,    \n",
    "training이 계속 될 수록 해당하는 숫자 모양으로 변해감을 알 수 있다.\n",
    "\n",
    "> 그런데 이런 2 layer network로는 다양한 모양을 잘 식별하지 못함.\n",
    "\n",
    "> 자세한 알고리즘은 나중에 배우게 됨."
   ]
  },
  {
   "cell_type": "markdown",
   "metadata": {},
   "source": [
    "<img  src=\"./_images/01_mnist_weight1.PNG\"/>"
   ]
  },
  {
   "cell_type": "markdown",
   "metadata": {},
   "source": [
    "<img  src=\"./_images/01_mnist_weight2.PNG\"/>"
   ]
  },
  {
   "cell_type": "markdown",
   "metadata": {},
   "source": [
    "### Lecture 1e. Three types of learning"
   ]
  },
  {
   "cell_type": "markdown",
   "metadata": {
    "collapsed": true
   },
   "source": [
    "###### Supervised learning\n"
   ]
  },
  {
   "cell_type": "markdown",
   "metadata": {},
   "source": [
    "> 지도 학습\n",
    "\n",
    "> 입력과 입력에 대한 정답이 주어지고, 모형을 fitting한 후, 정답이 주어지지 않은 입력에 대한 출력을 예측함\n",
    "\n",
    "> Regression, Classification"
   ]
  },
  {
   "cell_type": "markdown",
   "metadata": {},
   "source": [
    "<img  src=\"./_images/01_father_son.gif\"/>\n",
    "<h6 align='right'>http://www.scc.ms.unimelb.edu.au/whatisstatistics/faso.html</h6>"
   ]
  },
  {
   "cell_type": "markdown",
   "metadata": {
    "collapsed": true
   },
   "source": [
    "###### Reinforcement learning"
   ]
  },
  {
   "cell_type": "markdown",
   "metadata": {},
   "source": [
    "> 강화학습\n",
    "\n",
    "> 목표로 하는 output을 극대화하는 action을 하도록 학습함."
   ]
  },
  {
   "cell_type": "markdown",
   "metadata": {},
   "source": [
    "<img  src=\"./_images/01_atari_RL.gif\"/>\n",
    "<h6 align='right'>https://www.youtube.com/playlist?list=PLgOp827qARy0qNyZq5Y6S6vRJO3tb1WcW</h6>"
   ]
  },
  {
   "cell_type": "markdown",
   "metadata": {
    "collapsed": true
   },
   "source": [
    "###### Unsupervised learning"
   ]
  },
  {
   "cell_type": "markdown",
   "metadata": {
    "collapsed": true
   },
   "source": [
    "> 비-지도학습\n",
    "\n",
    "> 정답이 주어지지 않은 입력들에 대하여, 입력 값들 사이의 관계/구조를 파악함\n",
    "\n",
    "> Clustering, Principal Components Analysis(PCA)"
   ]
  },
  {
   "cell_type": "markdown",
   "metadata": {},
   "source": [
    "<img  src=\"./_images/01_iris.png\"/>\n",
    "<h6 align='right'>https://en.wikipedia.org/wiki/Iris_flower_data_set</h6>"
   ]
  }
 ],
 "metadata": {
  "anaconda-cloud": {},
  "kernelspec": {
   "display_name": "Octave",
   "language": "octave",
   "name": "octave"
  },
  "language_info": {
   "file_extension": ".m",
   "help_links": [
    {
     "text": "MetaKernel Magics",
     "url": "https://github.com/calysto/metakernel/blob/master/metakernel/magics/README.md"
    }
   ],
   "mimetype": "text/x-octave",
   "name": "octave",
   "version": "0.16.1"
  }
 },
 "nbformat": 4,
 "nbformat_minor": 1
}
