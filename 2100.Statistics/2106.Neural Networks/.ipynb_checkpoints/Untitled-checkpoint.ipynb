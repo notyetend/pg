{
 "cells": [
  {
   "cell_type": "markdown",
   "metadata": {},
   "source": [
    "[https://www.coursera.org/learn/neural-networks/exam/3duQ2/programming-assignment-1-the-perceptron-learning-algorithm]"
   ]
  },
  {
   "cell_type": "markdown",
   "metadata": {},
   "source": [
    "###### Change working directory to .."
   ]
  },
  {
   "cell_type": "code",
   "execution_count": 1,
   "metadata": {
    "collapsed": true
   },
   "outputs": [],
   "source": [
    "cd /home/sparkuser/work/jupyter/Neural_Networks/_octave"
   ]
  },
  {
   "cell_type": "code",
   "execution_count": 2,
   "metadata": {
    "collapsed": false
   },
   "outputs": [
    {
     "name": "stdout",
     "output_type": "stream",
     "text": [
      "dataset1.mat  dataset3.mat  learn_perceptron.m\tplot_perceptron.m\n",
      "dataset2.mat  dataset4.mat  octave-workspace\n"
     ]
    }
   ],
   "source": [
    "ls"
   ]
  },
  {
   "cell_type": "markdown",
   "metadata": {},
   "source": [
    "###### Loading dataset"
   ]
  },
  {
   "cell_type": "code",
   "execution_count": 3,
   "metadata": {
    "collapsed": true
   },
   "outputs": [],
   "source": [
    "#Loading dataset\n",
    "load dataset1"
   ]
  },
  {
   "cell_type": "code",
   "execution_count": 4,
   "metadata": {
    "collapsed": false
   },
   "outputs": [
    {
     "name": "stdout",
     "output_type": "stream",
     "text": [
      "Variables in the current scope:\n",
      "\n",
      "_figHandles          pos_examples_nobias  w_init\n",
      "neg_examples_nobias  w_gen_feas\n",
      "\n"
     ]
    }
   ],
   "source": [
    "#Show current variables\n",
    "who"
   ]
  },
  {
   "cell_type": "code",
   "execution_count": 5,
   "metadata": {
    "collapsed": false
   },
   "outputs": [
    {
     "name": "stdout",
     "output_type": "stream",
     "text": [
      "neg_examples_nobias =\n",
      "\n",
      "  -0.80857   0.83721\n",
      "   0.35714   0.85050\n",
      "  -0.75143  -0.73090\n",
      "  -0.30000   0.12625\n",
      "\n"
     ]
    }
   ],
   "source": [
    "#The matrix containing the examples belonging to class 0.\n",
    "neg_examples_nobias"
   ]
  },
  {
   "cell_type": "code",
   "execution_count": 6,
   "metadata": {
    "collapsed": false
   },
   "outputs": [
    {
     "name": "stdout",
     "output_type": "stream",
     "text": [
      "pos_examples_nobias =\n",
      "\n",
      "   0.871429   0.624585\n",
      "  -0.020000  -0.923588\n",
      "   0.362857  -0.318937\n",
      "   0.888571  -0.870432\n",
      "\n"
     ]
    }
   ],
   "source": [
    "#The matrix containing the examples belonging to class 1.\n",
    "pos_examples_nobias"
   ]
  },
  {
   "cell_type": "code",
   "execution_count": 7,
   "metadata": {
    "collapsed": false
   },
   "outputs": [
    {
     "name": "stdout",
     "output_type": "stream",
     "text": [
      "w_init =\n",
      "\n",
      "  -0.62170\n",
      "   0.76092\n",
      "   0.77187\n",
      "\n"
     ]
    }
   ],
   "source": [
    "#Some initial weight vector.\n",
    "w_init"
   ]
  },
  {
   "cell_type": "code",
   "execution_count": 8,
   "metadata": {
    "collapsed": false
   },
   "outputs": [
    {
     "name": "stdout",
     "output_type": "stream",
     "text": [
      "w_gen_feas =\n",
      "\n",
      "   4.34965\n",
      "  -2.60997\n",
      "  -0.69415\n",
      "\n"
     ]
    }
   ],
   "source": [
    "#A generously feasible weight vector (empty if one doesn't exist).\n",
    "w_gen_feas"
   ]
  },
  {
   "cell_type": "markdown",
   "metadata": {},
   "source": [
    "Running function"
   ]
  },
  {
   "cell_type": "code",
   "execution_count": 10,
   "metadata": {
    "collapsed": false
   },
   "outputs": [
    {
     "name": "stdout",
     "output_type": "stream",
     "text": [
      "ans =  4\r\n"
     ]
    }
   ],
   "source": [
    "size(neg_examples_nobias, 1)"
   ]
  },
  {
   "cell_type": "code",
   "execution_count": 12,
   "metadata": {
    "collapsed": false
   },
   "outputs": [
    {
     "name": "stdout",
     "output_type": "stream",
     "text": [
      "neg_examples_nobias =\n",
      "\n",
      "  -0.80857   0.83721\n",
      "   0.35714   0.85050\n",
      "  -0.75143  -0.73090\n",
      "  -0.30000   0.12625\n",
      "\n"
     ]
    }
   ],
   "source": [
    "neg_examples_nobias"
   ]
  },
  {
   "cell_type": "code",
   "execution_count": 13,
   "metadata": {
    "collapsed": false
   },
   "outputs": [
    {
     "name": "stdout",
     "output_type": "stream",
     "text": [
      "x =\n",
      "\n",
      "  -0.80857   0.83721\n",
      "\n"
     ]
    }
   ],
   "source": [
    "x = neg_examples_nobias(1,:)"
   ]
  },
  {
   "cell_type": "code",
   "execution_count": 14,
   "metadata": {
    "collapsed": false
   },
   "outputs": [
    {
     "name": "stdout",
     "output_type": "stream",
     "text": [
      "ans =\n",
      "\n",
      "  -0.80857\n",
      "   0.83721\n",
      "\n"
     ]
    }
   ],
   "source": [
    "x'"
   ]
  },
  {
   "cell_type": "code",
   "execution_count": 15,
   "metadata": {
    "collapsed": false
   },
   "outputs": [
    {
     "name": "stdout",
     "output_type": "stream",
     "text": [
      "ts_w =\n",
      "\n",
      "   1   2\n",
      "\n"
     ]
    }
   ],
   "source": [
    "ts_w = [1, 2]"
   ]
  },
  {
   "cell_type": "code",
   "execution_count": 16,
   "metadata": {
    "collapsed": false
   },
   "outputs": [
    {
     "name": "stdout",
     "output_type": "stream",
     "text": [
      "ts_w =\n",
      "\n",
      "   2   3\n",
      "\n"
     ]
    }
   ],
   "source": [
    "ts_w = ts_w + [1, 1]"
   ]
  },
  {
   "cell_type": "code",
   "execution_count": null,
   "metadata": {
    "collapsed": true
   },
   "outputs": [],
   "source": []
  }
 ],
 "metadata": {
  "kernelspec": {
   "display_name": "Octave",
   "language": "octave",
   "name": "octave"
  },
  "language_info": {
   "file_extension": ".m",
   "help_links": [
    {
     "text": "MetaKernel Magics",
     "url": "https://github.com/calysto/metakernel/blob/master/metakernel/magics/README.md"
    }
   ],
   "mimetype": "text/x-octave",
   "name": "octave",
   "version": "0.16.1"
  }
 },
 "nbformat": 4,
 "nbformat_minor": 1
}
