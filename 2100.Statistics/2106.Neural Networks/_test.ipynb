{
 "cells": [
  {
   "cell_type": "code",
   "execution_count": 2,
   "metadata": {
    "code_folding": [],
    "collapsed": false
   },
   "outputs": [
    {
     "name": "stdout",
     "output_type": "stream",
     "text": [
      "> Feature matrix, X: \n",
      "[[ 1  5]\n",
      " [-2 -3]\n",
      " [ 3  1]]\n",
      "> True output vector, y: \n",
      "[1 0 1]\n"
     ]
    },
    {
     "data": {
      "image/png": "[encoded data removed]",
      "text/plain": [
       "<matplotlib.figure.Figure at 0x7fde71278b00>"
      ]
     },
     "metadata": {},
     "output_type": "display_data"
    }
   ],
   "source": [
    "import numpy as np\n",
    "import matplotlib.pyplot as plt\n",
    "\n",
    "X_input = np.array([(1, 5), (-2, -3), (3, 1)]); print('> Feature matrix, X: \\n{}'.format(X_input))\n",
    "y_true = np.array([1, 0, 1]); print('> True output vector, y: \\n{}'.format(y_true))\n",
    "\n",
    "rotation_angle = -1 * np.pi / 2\n",
    "rotation_mat = np.array([(np.cos(rotation_angle), -1 * np.sin(rotation_angle)), (np.sin(rotation_angle), np.cos(rotation_angle))]).round()\n",
    "X_input_vertical =np.dot(X_input, rotation_mat) * 3\n",
    "\n",
    "AB = X_input[:2]\n",
    "CD = X_input_vertical[:2]\n",
    "plt.figure(figsize=(6,6))\n",
    "ax = plt.gca()\n",
    "ax.set_aspect('equal')\n",
    "ax.quiver(0, 0, AB[:, 0], AB[:, 1], angles='xy', scale_units='xy', scale=1, color='b')\n",
    "#ax.quiver(-1 * CD[:, 0], -1 * CD[:, 1], CD[:, 0], CD[:, 1], angles='xy', scale_units='xy', scale=1, color='k')\n",
    "ax.plot([-1 * CD[:, 0], CD[:, 0]], [-1 * CD[:, 1], CD[:, 1]], color='k')\n",
    "ax.set_xlim([-10,10])\n",
    "ax.set_ylim([-10,10])\n",
    "plt.grid()\n",
    "plt.draw()\n",
    "plt.show()"
   ]
  },
  {
   "cell_type": "code",
   "execution_count": 45,
   "metadata": {
    "collapsed": true
   },
   "outputs": [],
   "source": [
    "import numpy as np\n",
    "def sigmoid(z):\n",
    "    return 1 / (1 + np.exp(-z))\n",
    "\n",
    "def deriv_sigmoid(z):\n",
    "    return sigmoid(z) * (1 - sigmoid(z))"
   ]
  },
  {
   "cell_type": "code",
   "execution_count": 84,
   "metadata": {
    "collapsed": false
   },
   "outputs": [],
   "source": [
    "w_xh = 0.5\n",
    "w_hh = -1\n",
    "w_hy = -0.7\n",
    "h_bias = -1\n",
    "y_bias = 0\n",
    "x = [9, 4, -2]"
   ]
  },
  {
   "cell_type": "code",
   "execution_count": 85,
   "metadata": {
    "collapsed": false
   },
   "outputs": [
    {
     "data": {
      "text/plain": [
       "-0.35512927312785325"
      ]
     },
     "execution_count": 85,
     "metadata": {},
     "output_type": "execute_result"
    }
   ],
   "source": [
    "a_h0 = sigmoid(x[0] * w_xh + h_bias); a_h0\n",
    "y_0 = w_hy * a_h0 + y_bias; y_0\n",
    "a_h1 = sigmoid(x[1] * w_xh + h_bias + w_hh * a_h0); a_h1\n",
    "y_1 = w_hy * a_h1 + y_bias; y_1"
   ]
  },
  {
   "cell_type": "code",
   "execution_count": 23,
   "metadata": {
    "collapsed": false,
    "scrolled": true
   },
   "outputs": [
    {
     "data": {
      "text/plain": [
       "0.13676323546596592"
      ]
     },
     "execution_count": 23,
     "metadata": {},
     "output_type": "execute_result"
    }
   ],
   "source": [
    "sigmoid(sigmoid(9 * w_xh + h_bias) * w_hh + 4 * w_xh + h_bias) * w_hy"
   ]
  },
  {
   "cell_type": "code",
   "execution_count": 30,
   "metadata": {
    "collapsed": true
   },
   "outputs": [],
   "source": [
    "w_xh = -0.1\n",
    "w_hh = 0.5\n",
    "w_hy = 0.25\n",
    "h_bias = 0.4\n",
    "y_bias = 0.0\n",
    "x = [18, 9, -8]"
   ]
  },
  {
   "cell_type": "code",
   "execution_count": 31,
   "metadata": {
    "collapsed": false
   },
   "outputs": [
    {
     "data": {
      "text/plain": [
       "0.19781611144141825"
      ]
     },
     "execution_count": 31,
     "metadata": {},
     "output_type": "execute_result"
    }
   ],
   "source": [
    "a_h0 = sigmoid(x[0] * w_xh + h_bias); a_h0"
   ]
  },
  {
   "cell_type": "code",
   "execution_count": 32,
   "metadata": {
    "collapsed": false
   },
   "outputs": [
    {
     "data": {
      "text/plain": [
       "0.049454027860354563"
      ]
     },
     "execution_count": 32,
     "metadata": {},
     "output_type": "execute_result"
    }
   ],
   "source": [
    "y_0 = w_hy * a_h0 + y_bias; y_0"
   ]
  },
  {
   "cell_type": "code",
   "execution_count": 37,
   "metadata": {
    "collapsed": false
   },
   "outputs": [
    {
     "data": {
      "text/plain": [
       "0.40105001683506847"
      ]
     },
     "execution_count": 37,
     "metadata": {},
     "output_type": "execute_result"
    }
   ],
   "source": [
    "a_h1 = sigmoid(x[1] * w_xh + h_bias + w_hh * a_h0); a_h1"
   ]
  },
  {
   "cell_type": "code",
   "execution_count": 38,
   "metadata": {
    "collapsed": false
   },
   "outputs": [
    {
     "data": {
      "text/plain": [
       "0.10026250420876712"
      ]
     },
     "execution_count": 38,
     "metadata": {},
     "output_type": "execute_result"
    }
   ],
   "source": [
    "y_1 = w_hy * a_h1 + y_bias; y_1"
   ]
  },
  {
   "cell_type": "code",
   "execution_count": 39,
   "metadata": {
    "collapsed": false
   },
   "outputs": [
    {
     "data": {
      "text/plain": [
       "0.80226718624848703"
      ]
     },
     "execution_count": 39,
     "metadata": {},
     "output_type": "execute_result"
    }
   ],
   "source": [
    "a_h2 = sigmoid(x[2] * w_xh + h_bias + w_hh * a_h1); a_h2"
   ]
  },
  {
   "cell_type": "code",
   "execution_count": 40,
   "metadata": {
    "collapsed": false
   },
   "outputs": [
    {
     "data": {
      "text/plain": [
       "0.20056679656212176"
      ]
     },
     "execution_count": 40,
     "metadata": {},
     "output_type": "execute_result"
    }
   ],
   "source": [
    "y_2 = w_hy * a_h2 + y_bias; y_2"
   ]
  },
  {
   "cell_type": "code",
   "execution_count": 42,
   "metadata": {
    "collapsed": false
   },
   "outputs": [
    {
     "data": {
      "text/plain": [
       "0.015863454811742245"
      ]
     },
     "execution_count": 42,
     "metadata": {},
     "output_type": "execute_result"
    }
   ],
   "source": [
    "a_h2 * (1 - a_h2) * w_hy * -1 * (-0.2 - 0.2)"
   ]
  },
  {
   "cell_type": "markdown",
   "metadata": {},
   "source": [
    "$$\\frac{\\partial E}{\\partial Z_2} = \\frac{\\partial h_2}{\\partial z_2} \\frac{\\partial y_2}{\\partial h_2} \\frac{\\partial E_2}{\\partial y_2}$$"
   ]
  },
  {
   "cell_type": "code",
   "execution_count": 86,
   "metadata": {
    "collapsed": false
   },
   "outputs": [
    {
     "data": {
      "text/plain": [
       "-0.012337296430610201"
      ]
     },
     "execution_count": 86,
     "metadata": {},
     "output_type": "execute_result"
    }
   ],
   "source": [
    "w_hh = -2\n",
    "dh_1 = deriv_sigmoid(1)\n",
    "dh_2 = deriv_sigmoid(sigmoid(1) * w_hh)\n",
    "dh_3 = deriv_sigmoid(sigmoid(sigmoid(1) * w_hh) * w_hh)\n",
    "dh_4 = deriv_sigmoid(sigmoid(sigmoid(sigmoid(1)*w_hh) * w_hh) * w_hh)\n",
    "dh_4 * w_hh * dh_3 * w_hh * dh_2 * w_hh * dh_1"
   ]
  },
  {
   "cell_type": "code",
   "execution_count": 80,
   "metadata": {
    "collapsed": false
   },
   "outputs": [
    {
     "data": {
      "text/plain": [
       "1073741824"
      ]
     },
     "execution_count": 80,
     "metadata": {},
     "output_type": "execute_result"
    }
   ],
   "source": [
    "np.power(2, 30)"
   ]
  },
  {
   "cell_type": "code",
   "execution_count": null,
   "metadata": {
    "collapsed": true
   },
   "outputs": [],
   "source": []
  }
 ],
 "metadata": {
  "anaconda-cloud": {},
  "kernelspec": {
   "display_name": "Python [default]",
   "language": "python",
   "name": "python3"
  },
  "language_info": {
   "codemirror_mode": {
    "name": "ipython",
    "version": 3
   },
   "file_extension": ".py",
   "mimetype": "text/x-python",
   "name": "python",
   "nbconvert_exporter": "python",
   "pygments_lexer": "ipython3",
   "version": "3.5.2"
  }
 },
 "nbformat": 4,
 "nbformat_minor": 1
}
