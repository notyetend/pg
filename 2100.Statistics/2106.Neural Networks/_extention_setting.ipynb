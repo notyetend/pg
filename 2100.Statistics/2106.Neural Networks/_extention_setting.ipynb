{
 "cells": [
  {
   "cell_type": "code",
   "execution_count": 1,
   "metadata": {
    "collapsed": false,
    "scrolled": true
   },
   "outputs": [
    {
     "data": {
      "text/plain": [
       "True"
      ]
     },
     "execution_count": 1,
     "metadata": {},
     "output_type": "execute_result"
    }
   ],
   "source": [
    "from notebook.nbextensions import check_nbextension\n",
    "check_nbextension('dragdrop', user=True)\n",
    "check_nbextension('dragdrop/main.js', user=True)"
   ]
  },
  {
   "cell_type": "code",
   "execution_count": 2,
   "metadata": {
    "collapsed": false
   },
   "outputs": [
    {
     "name": "stdout",
     "output_type": "stream",
     "text": [
      "False\n"
     ]
    }
   ],
   "source": [
    "ext_require_path = 'dragdrop/main'\n",
    "try:  # notebook >= 4.2.0\n",
    "    from notebook.nbextensions import enable_nbextension\n",
    "    print(enable_nbextension('notebook', ext_require_path))\n",
    "except ImportError:\n",
    "    from notebook.nbextensions import EnableNBExtensionApp\n",
    "    EnableNBExtensionApp().enable_nbextension(ext_require_path)"
   ]
  },
  {
   "cell_type": "code",
   "execution_count": null,
   "metadata": {
    "collapsed": true
   },
   "outputs": [],
   "source": []
  }
 ],
 "metadata": {
  "anaconda-cloud": {},
  "kernelspec": {
   "display_name": "Python [conda root]",
   "language": "python",
   "name": "conda-root-py"
  },
  "language_info": {
   "codemirror_mode": {
    "name": "ipython",
    "version": 3
   },
   "file_extension": ".py",
   "mimetype": "text/x-python",
   "name": "python",
   "nbconvert_exporter": "python",
   "pygments_lexer": "ipython3",
   "version": "3.5.2"
  }
 },
 "nbformat": 4,
 "nbformat_minor": 1
}
