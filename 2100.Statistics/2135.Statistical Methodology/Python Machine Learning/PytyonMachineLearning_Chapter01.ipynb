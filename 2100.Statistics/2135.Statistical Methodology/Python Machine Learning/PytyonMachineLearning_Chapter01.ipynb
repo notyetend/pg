{
 "cells": [
  {
   "cell_type": "markdown",
   "metadata": {},
   "source": [
    "# Chapter 1. Giving Computers the Ability to Learn from Data"
   ]
  },
  {
   "cell_type": "markdown",
   "metadata": {},
   "source": [
    "이 장에서 다룰 내용은...\n",
    "- machine learning의 일반적인 개념\n",
    "- 3가지 종류의 Learning과 기본적인 용어\n",
    "- 좋은 machine learning system을 design 하기 위한 building blocks.\n",
    "- python setting up"
   ]
  },
  {
   "cell_type": "markdown",
   "metadata": {},
   "source": [
    "### The three different types of machine learning"
   ]
  },
  {
   "cell_type": "markdown",
   "metadata": {},
   "source": [
    "Machine learning에서는 데이터를 이용해 하려는 일을 크게 아래 3가지로 나눌 수 있다."
   ]
  },
  {
   "cell_type": "markdown",
   "metadata": {},
   "source": [
    "<img  src=\"./_images/01_01.png\"/>"
   ]
  },
  {
   "cell_type": "markdown",
   "metadata": {},
   "source": [
    "###### (1) Supervised Learning(지도 학습)"
   ]
  },
  {
   "cell_type": "markdown",
   "metadata": {},
   "source": [
    "> <span style=\"font-size:2em\">Supervised learning is the machine learning task of inferring a function from labeled training data. </span> - wikipedia"
   ]
  },
  {
   "cell_type": "markdown",
   "metadata": {},
   "source": [
    "즉 label이 있는 데이터가 주어졌을 때    \n",
    "label과 나머지 변수들간의 관계를 알아내는 것     \n",
    "(그 관계를 표현할 수 있는 function을 알아내는 것)    \n",
    "\n",
    "여기에서 label은 dependent variable(종속변수), outcome(결과)을 의미하여, 보통 변수 $y$로 표시함"
   ]
  },
  {
   "cell_type": "markdown",
   "metadata": {},
   "source": [
    "$$y = f(x_1, x_2, \\dots , x_p)$$"
   ]
  },
  {
   "cell_type": "code",
   "execution_count": 3,
   "metadata": {
    "collapsed": false,
    "scrolled": true
   },
   "outputs": [
    {
     "data": {
      "text/html": [
       "<div>\n",
       "<table border=\"1\" class=\"dataframe\">\n",
       "  <thead>\n",
       "    <tr style=\"text-align: right;\">\n",
       "      <th></th>\n",
       "      <th>Family</th>\n",
       "      <th>Father</th>\n",
       "      <th>Mother</th>\n",
       "      <th>Gender</th>\n",
       "      <th>Height</th>\n",
       "      <th>Kids</th>\n",
       "    </tr>\n",
       "  </thead>\n",
       "  <tbody>\n",
       "    <tr>\n",
       "      <th>0</th>\n",
       "      <td>1</td>\n",
       "      <td>78.5</td>\n",
       "      <td>67.0</td>\n",
       "      <td>M</td>\n",
       "      <td>73.2</td>\n",
       "      <td>4</td>\n",
       "    </tr>\n",
       "    <tr>\n",
       "      <th>1</th>\n",
       "      <td>1</td>\n",
       "      <td>78.5</td>\n",
       "      <td>67.0</td>\n",
       "      <td>F</td>\n",
       "      <td>69.2</td>\n",
       "      <td>4</td>\n",
       "    </tr>\n",
       "    <tr>\n",
       "      <th>2</th>\n",
       "      <td>1</td>\n",
       "      <td>78.5</td>\n",
       "      <td>67.0</td>\n",
       "      <td>F</td>\n",
       "      <td>69.0</td>\n",
       "      <td>4</td>\n",
       "    </tr>\n",
       "    <tr>\n",
       "      <th>3</th>\n",
       "      <td>1</td>\n",
       "      <td>78.5</td>\n",
       "      <td>67.0</td>\n",
       "      <td>F</td>\n",
       "      <td>69.0</td>\n",
       "      <td>4</td>\n",
       "    </tr>\n",
       "    <tr>\n",
       "      <th>4</th>\n",
       "      <td>2</td>\n",
       "      <td>75.5</td>\n",
       "      <td>66.5</td>\n",
       "      <td>M</td>\n",
       "      <td>73.5</td>\n",
       "      <td>4</td>\n",
       "    </tr>\n",
       "  </tbody>\n",
       "</table>\n",
       "</div>"
      ],
      "text/plain": [
       "  Family  Father  Mother Gender  Height  Kids\n",
       "0      1    78.5    67.0      M    73.2     4\n",
       "1      1    78.5    67.0      F    69.2     4\n",
       "2      1    78.5    67.0      F    69.0     4\n",
       "3      1    78.5    67.0      F    69.0     4\n",
       "4      2    75.5    66.5      M    73.5     4"
      ]
     },
     "execution_count": 3,
     "metadata": {},
     "output_type": "execute_result"
    }
   ],
   "source": [
    "import pandas as pd\n",
    "import numpy as np\n",
    "df = pd.read_csv('http://www.math.uah.edu/stat/data/Galton.csv')\n",
    "df.head()"
   ]
  },
  {
   "cell_type": "code",
   "execution_count": 2,
   "metadata": {
    "collapsed": false,
    "scrolled": true
   },
   "outputs": [
    {
     "data": {
      "image/png": "[encoded data removed]",
      "text/plain": [
       "<matplotlib.figure.Figure at 0x1ee813bf5c0>"
      ]
     },
     "metadata": {},
     "output_type": "display_data"
    }
   ],
   "source": [
    "import matplotlib.pyplot as plt\n",
    "import numpy as np\n",
    "x_father = df.iloc[:, 1].values\n",
    "x_father = df.iloc[:, 2].values\n",
    "y = df.iloc[:,4].values\n",
    "plt.scatter(x_father, y, color='red')\n",
    "plt.show()"
   ]
  },
  {
   "cell_type": "markdown",
   "metadata": {},
   "source": [
    "예를들어 위와 같은 데이터가 주어졌다고 해 보자.    \n",
    "(자녀의 키와 부모의 키에 관한 Francis Galton의 1885년 연구 데이터)      \n",
    "\n",
    "데이터는 [가족번호, 아버지의 키, 어머니의 키, 자녀의 성별, 자녀의 키, 가족의 자녀 수]의 6개 컬럼으로 구성되어 있다.      \n",
    "만약 우리의 관심사가 '아버지의 키가 자녀의 키(성인이 된 후)에 어떤 영향을 미지는지'라면        \n",
    "이 문제를 풀 수 있는 방법론은 무수히 많다.(Regression, SVM, Neural net, Decision Tree, ... 등등)   \n",
    "\n",
    "\n",
    "아주 간단한 예로 아래와 같은 모형을 만들고   \n",
    "[자녀의 키] = $w_0$ + $w_1 \\times$[아버지의 키]       \n",
    "\n",
    "$w_0$과 $w_1$를 알아내서       \n",
    "independent variable([아버지의 키])과 dependent variable([자녀의 키]) 사이의       \n",
    "관련성에 대한 (정확하지는 않지만) 지식을 얻을 수 있을 것이다.     \n",
    "\n",
    "또한 이런 지식이 만들어지면 기존 데이터에 없던 새로운 [아버지의 키]가 주어졌을 때    \n",
    "자녀의 키를 예측해 볼 수 있을 것이다."
   ]
  },
  {
   "cell_type": "markdown",
   "metadata": {},
   "source": [
    "<u>Classification</u>"
   ]
  },
  {
   "cell_type": "markdown",
   "metadata": {},
   "source": [
    "Supervised Learning은 정답(taret, label, 종속변수, dependent variable, y)의 값이 연속형 값이냐 혹은 범주형 값이냐에 따라 방법론이 크게 두가지로 나뉜다.\n",
    "\n",
    "우선 그 값이 범주형(불연속, 예를들어 성별과 같이 남자/여자)인 경우, 이런 문제를 Classification(분류) problem이라 부른다. "
   ]
  },
  {
   "cell_type": "markdown",
   "metadata": {},
   "source": [
    "<u>Regression</u>"
   ]
  },
  {
   "cell_type": "markdown",
   "metadata": {},
   "source": [
    "반면 그 값이 연속형(키, 나이 등)인 경우 이런 문제를 Regression 문제라고도 부른다."
   ]
  },
  {
   "cell_type": "markdown",
   "metadata": {},
   "source": [
    "###### (2) Reinforcement Learning(강화 학습)"
   ]
  },
  {
   "cell_type": "markdown",
   "metadata": {},
   "source": [
    "> <span style=\"font-size:2em\">Reinforcement learning is an area of machine learning inspired by behaviorist psychology, concerned with how software agents ought to take actions in an environment so as to maximize some notion of cumulative reward.</span> - wikipedia\n"
   ]
  },
  {
   "cell_type": "markdown",
   "metadata": {},
   "source": [
    "Reinforcement Learning은 어떤 목표값을 더 잘 달성하도록 모형의 상태값이나 파라미터를 바꾸도록 하는 시스템을 의미하는데,     \n",
    "예를들어 레이싱 게임내에서 여러 환경적 상황(장애물, 다른 레이싱 카 등)을 겪는 순간 순간 어떤 위치적 판단을 해야      \n",
    "어느 정도 시간 후 좋은 상태(완주 하거나, 계속 달리고 있거나, 코인을 많이 획득 했거나)의 총계가 최대가 될지를 학습 것과 같이\n",
    "\n",
    "현재의 상태와 현재의 환경이 주어졌을 때        \n",
    "누적된 보상(reward)이 최대가 되도록        \n",
    "다음 상태를 결정하는 어떤 정책을 학습하는 방법론    \n",
    "\n",
    "아래와 같이 게임플레이를 학습하는 것도 가능    \n",
    "(<a href='https://arxiv.org/abs/1312.5602'>Playing Atari with Deep Reinforcement Learning</a>)"
   ]
  },
  {
   "cell_type": "code",
   "execution_count": 5,
   "metadata": {
    "collapsed": false
   },
   "outputs": [
    {
     "data": {
      "image/jpeg": "[encoded data removed]",
      "text/html": [
       "\n",
       "        <iframe\n",
       "            width=\"400\"\n",
       "            height=\"300\"\n",
       "            src=\"https://www.youtube.com/embed/iqXKQf2BOSE\"\n",
       "            frameborder=\"0\"\n",
       "            allowfullscreen\n",
       "        ></iframe>\n",
       "        "
      ],
      "text/plain": [
       "<IPython.lib.display.YouTubeVideo at 0x1ee81eefb00>"
      ]
     },
     "execution_count": 5,
     "metadata": {},
     "output_type": "execute_result"
    }
   ],
   "source": [
    "from IPython.display import YouTubeVideo\n",
    "# a talk about IPython at Sage Days at U. Washington, Seattle.\n",
    "# Video credit: William Stein.\n",
    "YouTubeVideo('iqXKQf2BOSE')"
   ]
  },
  {
   "cell_type": "markdown",
   "metadata": {},
   "source": [
    "###### (3) Unsupervised Learning(비지도 학습)"
   ]
  },
  {
   "cell_type": "markdown",
   "metadata": {},
   "source": [
    "> **Unsupervised machine learning** is the machine learning task of <u>inferring a function</u> to describe hidden structure <u>from unlabeled data.</u> - wikipedia\n"
   ]
  },
  {
   "cell_type": "markdown",
   "metadata": {},
   "source": [
    "<u>Discovering hidden structures with unsupervised learning<u>"
   ]
  },
  {
   "cell_type": "markdown",
   "metadata": {},
   "source": [
    "Unsupervised learning은 정해진 정답(target)이 없는 데이터에서 어떤 유의미한 지식(군집 혹은 보상 등)을 찾는 방법론들을 의미한다."
   ]
  },
  {
   "cell_type": "markdown",
   "metadata": {},
   "source": [
    "<u>Finding subgroups with clustering<u>"
   ]
  },
  {
   "cell_type": "markdown",
   "metadata": {},
   "source": [
    "<u>Dimensionality reduction for data compression<u>"
   ]
  },
  {
   "cell_type": "markdown",
   "metadata": {},
   "source": [
    "."
   ]
  },
  {
   "cell_type": "markdown",
   "metadata": {},
   "source": [
    "."
   ]
  },
  {
   "cell_type": "markdown",
   "metadata": {},
   "source": [
    "."
   ]
  },
  {
   "cell_type": "markdown",
   "metadata": {},
   "source": [
    "."
   ]
  },
  {
   "cell_type": "markdown",
   "metadata": {},
   "source": [
    "."
   ]
  },
  {
   "cell_type": "markdown",
   "metadata": {},
   "source": [
    "."
   ]
  },
  {
   "cell_type": "markdown",
   "metadata": {},
   "source": [
    "."
   ]
  },
  {
   "cell_type": "markdown",
   "metadata": {},
   "source": [
    "."
   ]
  }
 ],
 "metadata": {
  "anaconda-cloud": {},
  "kernelspec": {
   "display_name": "Python [conda root]",
   "language": "python",
   "name": "conda-root-py"
  },
  "language_info": {
   "codemirror_mode": {
    "name": "ipython",
    "version": 3
   },
   "file_extension": ".py",
   "mimetype": "text/x-python",
   "name": "python",
   "nbconvert_exporter": "python",
   "pygments_lexer": "ipython3",
   "version": "3.5.2"
  }
 },
 "nbformat": 4,
 "nbformat_minor": 2
}
