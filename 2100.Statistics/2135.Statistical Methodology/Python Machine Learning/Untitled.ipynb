{
 "cells": [
  {
   "cell_type": "markdown",
   "metadata": {},
   "source": [
    "# TensorFlow - Guides - Turorials"
   ]
  },
  {
   "cell_type": "markdown",
   "metadata": {},
   "source": [
    "### tf.contrib.learn Quickstart\n",
    "https://www.tensorflow.org/tutorials/tflearn/"
   ]
  },
  {
   "cell_type": "code",
   "execution_count": 1,
   "metadata": {
    "collapsed": true
   },
   "outputs": [],
   "source": [
    "from __future__ import absolute_import\n",
    "from __future__ import division\n",
    "from __future__ import print_function\n",
    "\n",
    "import tensorflow as tf\n",
    "import numpy as np\n",
    "\n",
    "# Data sets\n",
    "IRIS_TRAINING = \"./_data/iris_training.csv\"\n",
    "IRIS_TEST = \"./_data/iris_test.csv\"\n",
    "\n",
    "# Load datasets.\n",
    "training_set = tf.contrib.learn.datasets.base.load_csv_with_header(\n",
    "    filename=IRIS_TRAINING,\n",
    "    target_dtype=np.int,\n",
    "    features_dtype=np.float32)\n",
    "test_set = tf.contrib.learn.datasets.base.load_csv_with_header(\n",
    "    filename=IRIS_TEST,\n",
    "    target_dtype=np.int,\n",
    "    features_dtype=np.float32)\n",
    "\n",
    "# Specify that all features have real-value data\n",
    "feature_columns = [tf.contrib.layers.real_valued_column(\"\", dimension=4)]\n",
    "\n",
    "# Build 3 layer DNN with 10, 20, 10 units respectively.\n",
    "classifier = tf.contrib.learn.DNNClassifier(feature_columns=feature_columns,\n",
    "                                            hidden_units=[10, 20, 10],\n",
    "                                            n_classes=3,\n",
    "                                            model_dir=\"/tmp/iris_model\")\n",
    "\n",
    "# Fit model.\n",
    "classifier.fit(x=training_set.data,\n",
    "               y=training_set.target,\n",
    "               steps=2000)\n",
    "\n",
    "# Evaluate accuracy.\n",
    "accuracy_score = classifier.evaluate(x=test_set.data,\n",
    "                                     y=test_set.target)[\"accuracy\"]\n",
    "print('Accuracy: {0:f}'.format(accuracy_score))\n",
    "\n",
    "# Classify two new flower samples.\n",
    "new_samples = np.array(\n",
    "    [[6.4, 3.2, 4.5, 1.5], [5.8, 3.1, 5.0, 1.7]], dtype=float)\n",
    "y = list(classifier.predict(new_samples, as_iterable=True))\n",
    "print('Predictions: {}'.format(str(y)))"
   ]
  },
  {
   "cell_type": "markdown",
   "metadata": {},
   "source": [
    "### Perceptrons(single layer NN)\n",
    "https://medium.com/@jaschaephraim/elementary-neural-networks-with-tensorflow-c2593ad3d60b#.4bd4upaov"
   ]
  },
  {
   "cell_type": "code",
   "execution_count": 8,
   "metadata": {
    "collapsed": false
   },
   "outputs": [
    {
     "data": {
      "text/plain": [
       "<bound method Tensor.eval of <tf.Tensor 'random_normal_2:0' shape=(3, 1) dtype=float32>>"
      ]
     },
     "execution_count": 8,
     "metadata": {},
     "output_type": "execute_result"
    }
   ],
   "source": [
    "ts = tf.random_normal([3,1])\n",
    "ts.eval"
   ]
  },
  {
   "cell_type": "code",
   "execution_count": null,
   "metadata": {
    "collapsed": true
   },
   "outputs": [],
   "source": [
    "import tensorflow as tf\n",
    "T, F = 1., -1.\n",
    "bias = 1.\n",
    "train_in = [\n",
    "    [T, T, bias],\n",
    "    [T, F, bias],\n",
    "    [F, T, bias],\n",
    "    [F, F, bias],\n",
    "]\n",
    "train_out = [\n",
    "    [T],\n",
    "    [F],\n",
    "    [F],\n",
    "    [F],\n",
    "]\n",
    "\n",
    "w = tf.Variable(tf.random_normal([3, 1]))\n",
    "\n",
    "# step(x) = { 1 if x > 0; -1 otherwise }\n",
    "def step(x):\n",
    "    is_greater = tf.greater(x, 0)\n",
    "    as_float = tf.to_float(is_greater)\n",
    "    doubled = tf.mul(as_float, 2)\n",
    "    return tf.sub(doubled, 1)\n",
    "\n",
    "output = step(tf.matmul(train_in, w))\n",
    "error = tf.sub(train_out, output)\n",
    "mse = tf.reduce_mean(tf.square(error))\n",
    "\n",
    "delta = tf.matmul(train_in, error, transpose_a=True)\n",
    "train = tf.assign(w, tf.add(w, delta))\n",
    "\n",
    "sess = tf.Session()\n",
    "sess.run(tf.initialize_all_variables())\n",
    "\n",
    "err, target = 1, 0\n",
    "epoch, max_epochs = 0, 10\n",
    "while err > target and epoch < max_epochs:\n",
    "    epoch += 1\n",
    "    err, _ = sess.run([mse, train])\n",
    "    print('epoch:', epoch, 'mse:', err)"
   ]
  },
  {
   "cell_type": "markdown",
   "metadata": {},
   "source": [
    "https://www.packtpub.com/books/content/implementing-artificial-neural-networks-tensorflow"
   ]
  },
  {
   "cell_type": "code",
   "execution_count": null,
   "metadata": {
    "collapsed": true
   },
   "outputs": [],
   "source": [
    "import input_data\n",
    "\n",
    "import tensorflow as tf\n",
    "\n",
    "import matplotlib.pyplot as plt\n",
    "mnist = input_data.read_data_sets(\"/tmp/data/\", one_hot=True)\n",
    "\n",
    "learning_rate = 0.01\n",
    "\n",
    "batch_size = 100\n",
    "\n",
    "display_step = 1\n",
    "\n",
    "x = tf.placeholder(\"float\", [None, 784])\n",
    "y = tf.placeholder(\"float\", [None, 10])\n",
    "W = tf.Variable(tf.zeros([784, 10]))\n",
    "evidence = tf.matmul(x, W)\n",
    "evidence = tf.matmul(x, W) + b\n",
    "b = tf.Variable(tf.zeros([10]))\n",
    "activation = tf.nn.softmax(tf.matmul(x, W) + b)\n",
    "cross_entropy = y*tf.lg(activation)\n",
    "\n",
    "cost = tf.reduce_mean(-tf.reduce_sum(cross_entropy, reduction_indices=1))\n",
    "optimizer = tf.train.GradientDescentOptimizer(learning_rate).minimize(cost)\n",
    "\n",
    "\n",
    "avg_set = []\n",
    "\n",
    "epoch_set=[]\n",
    "\n",
    "\n",
    "init = tf.initialize_all_variables()\n",
    "\n",
    "with tf.Session() as sess:\n",
    "\n",
    "sess.run(init)\n",
    "\n",
    "\n",
    "for epoch in range(training_epochs):\n",
    "    avg_cost = 0.\n",
    "\n",
    "    total_batch = int(mnist.train.num_examples/batch_size)\n",
    "\n",
    "    for i in range(total_batch):\n",
    "\n",
    "    batch_xs, batch_ys = mnist.train.next_batch(batch_size)\n",
    "    \n",
    "    sess.run(optimizer, feed_dict={x: batch_xs, y: batch_ys})\n",
    "    \n",
    "    avg_cost += sess.run(cost, feed_dict={x: batch_xs, y: batch_ys})/total_batch\n",
    "    \n",
    "    if epoch % display_step == 0:\n",
    "        print \"Epoch:\",%04d' % (epoch+1),\"cost=\",\"{:.9f}\".format(avg_cost)\n",
    "\n",
    "        print \" Training phase finished\"\n",
    " \n",
    "\n",
    "correct_prediction = tf.equal(tf.argmax(activation, 1), tf.argmax(y, 1))\n",
    "\n",
    " \n",
    "\n",
    "    accuracy = tf.reduce_mean\\\n",
    "\n",
    "                       (tf.cast(correct_prediction, \"float\"))\n",
    "\n",
    "   print \"MODEL accuracy:\", accuracy.eval({x: mnist.test.images,\\\n",
    "\n",
    "                                      y: mnist.test.labels})"
   ]
  }
 ],
 "metadata": {
  "anaconda-cloud": {},
  "kernelspec": {
   "display_name": "Python [conda root]",
   "language": "python",
   "name": "conda-root-py"
  },
  "language_info": {
   "codemirror_mode": {
    "name": "ipython",
    "version": 3
   },
   "file_extension": ".py",
   "mimetype": "text/x-python",
   "name": "python",
   "nbconvert_exporter": "python",
   "pygments_lexer": "ipython3",
   "version": "3.5.2"
  }
 },
 "nbformat": 4,
 "nbformat_minor": 0
}
