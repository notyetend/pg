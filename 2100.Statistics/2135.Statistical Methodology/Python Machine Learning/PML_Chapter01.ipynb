{
 "cells": [
  {
   "cell_type": "markdown",
   "metadata": {},
   "source": [
    "# Chapter 1. Giving Computers the Ability to Learn from Data"
   ]
  },
  {
   "cell_type": "markdown",
   "metadata": {},
   "source": [
    "이 장에서 다룰 내용은...\n",
    "- machine learning의 일반적인 개념\n",
    "- 3가지 종류의 Learning과 기본적인 용어\n",
    "- 좋은 machine learning system을 design 하기 위한 building blocks.\n",
    "- python setting up"
   ]
  },
  {
   "cell_type": "markdown",
   "metadata": {},
   "source": [
    "### The three different types of machine learning"
   ]
  },
  {
   "cell_type": "markdown",
   "metadata": {},
   "source": [
    "데이터를 이용해 하려는 일을 크게 아래 3가지로 나눌 수 있다."
   ]
  },
  {
   "cell_type": "markdown",
   "metadata": {},
   "source": [
    "<img  src=\"./_images/01_01.png\"/>"
   ]
  },
  {
   "cell_type": "markdown",
   "metadata": {},
   "source": [
    "###### (1) Supervised Learning(지도 학습)"
   ]
  },
  {
   "cell_type": "markdown",
   "metadata": {},
   "source": [
    "<u>Making predictions about the future with supervised learning</u>"
   ]
  },
  {
   "cell_type": "markdown",
   "metadata": {},
   "source": [
    "Supervised learning은 정답이 있는 데이터(labeled data)를 이용한 방법론을 예기하는 것인데, 예를 들어 spam mail filtering 문제를 생각해보면 이 문제를 machine learning 기법으로 풀어볼 수 있을 것이고, 이를 위한 데이터에는 mail의 여러 특성들과 그 mail이 spam인지 아닌지를 나타내는 label이 있을 것이다."
   ]
  },
  {
   "cell_type": "markdown",
   "metadata": {},
   "source": [
    "<u>Classification for predicting class labels</u>"
   ]
  },
  {
   "cell_type": "markdown",
   "metadata": {},
   "source": [
    "Supervised Learning은 정답(taret, label, 종속변수, dependent variable, y)의 값이 연속형 값이냐 혹은 범주형 값이냐에 따라 방법론이 크게 두가지로 나뉜다.\n",
    "\n",
    "우선 그 값이 범주형(불연속, 예를들어 성별과 같이 남자/여자)인 경우, 이런 문제를 Classification(분류) problem이라 부른다. "
   ]
  },
  {
   "cell_type": "markdown",
   "metadata": {},
   "source": [
    "<u>Regression for predicting continuous outcomes</u>"
   ]
  },
  {
   "cell_type": "markdown",
   "metadata": {},
   "source": [
    "반면 그 값이 연속형(키, 나이 등)인 경우 이런 문제를 Regression 문제라고도 부른다."
   ]
  },
  {
   "cell_type": "markdown",
   "metadata": {},
   "source": [
    "###### (2) Reinforcement Learning(강화 학습)"
   ]
  },
  {
   "cell_type": "markdown",
   "metadata": {},
   "source": [
    "<u>Solving interactive problems with reinforcement learning<u>"
   ]
  },
  {
   "cell_type": "markdown",
   "metadata": {},
   "source": [
    "Reinforcement Learning은 어떤 목표값을 더 잘 달성하도록 모형의 상태값이나 파라미터를 바꾸도록 하는 시스템을 의미하는데, 예를들어 게임내 크리티컬 값들을 모델링하는 모형이 있고 이 수치들이 변경됐을 때 게임의 재미를 나타내는 어떤 수치가 증가했다면 +의 reward를 모형에 반영하고 반대로 재미가 반감되었다면 -의 reward 를 모델에 반영하는 모델이라 할 수 있다."
   ]
  },
  {
   "cell_type": "markdown",
   "metadata": {},
   "source": [
    "###### (3) Unsupervised Learning(비지도 학습)"
   ]
  },
  {
   "cell_type": "markdown",
   "metadata": {},
   "source": [
    "<u>Discovering hidden structures with unsupervised learning<u>"
   ]
  },
  {
   "cell_type": "markdown",
   "metadata": {},
   "source": [
    "Unsupervised learning은 정해진 정답(target)이 없는 데이터에서 어떤 유의미한 지식(군집 혹은 보상 등)을 찾는 방법론들을 의미한다."
   ]
  },
  {
   "cell_type": "markdown",
   "metadata": {},
   "source": [
    "<u>Finding subgroups with clustering<u>"
   ]
  },
  {
   "cell_type": "markdown",
   "metadata": {},
   "source": [
    "<u>Dimensionality reduction for data compression<u>"
   ]
  },
  {
   "cell_type": "markdown",
   "metadata": {},
   "source": [
    "."
   ]
  },
  {
   "cell_type": "markdown",
   "metadata": {},
   "source": [
    "."
   ]
  },
  {
   "cell_type": "markdown",
   "metadata": {},
   "source": [
    "."
   ]
  },
  {
   "cell_type": "markdown",
   "metadata": {},
   "source": [
    "."
   ]
  },
  {
   "cell_type": "markdown",
   "metadata": {},
   "source": [
    "."
   ]
  },
  {
   "cell_type": "markdown",
   "metadata": {},
   "source": [
    "."
   ]
  },
  {
   "cell_type": "markdown",
   "metadata": {},
   "source": [
    "."
   ]
  },
  {
   "cell_type": "markdown",
   "metadata": {},
   "source": [
    "."
   ]
  }
 ],
 "metadata": {
  "kernelspec": {
   "display_name": "Python [Root]",
   "language": "python",
   "name": "Python [Root]"
  },
  "language_info": {
   "codemirror_mode": {
    "name": "ipython",
    "version": 3
   },
   "file_extension": ".py",
   "mimetype": "text/x-python",
   "name": "python",
   "nbconvert_exporter": "python",
   "pygments_lexer": "ipython3",
   "version": "3.5.2"
  }
 },
 "nbformat": 4,
 "nbformat_minor": 2
}
