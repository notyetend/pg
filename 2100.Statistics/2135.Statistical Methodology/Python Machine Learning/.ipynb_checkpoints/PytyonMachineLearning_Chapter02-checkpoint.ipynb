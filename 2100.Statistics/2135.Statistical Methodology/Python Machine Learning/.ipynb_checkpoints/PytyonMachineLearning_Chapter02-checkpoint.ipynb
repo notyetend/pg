{
 "cells": [
  {
   "cell_type": "markdown",
   "metadata": {},
   "source": [
    "# Chapter 2. Training Machine Learning algorithms for Classification"
   ]
  },
  {
   "cell_type": "markdown",
   "metadata": {},
   "source": [
    "앞서 supervised learning을 설명하면서      \n",
    "label이 범주형변수일 경우 classification problem이고,      \n",
    "label이 연속일 경우 regression problem이라고 했었다.\n",
    "\n",
    "Chapter2에서는 classification 알고리즘 중 (아주)고전이라고 할 수 있는      \n",
    "**Perceptrons**과 **Adaptive linear neurans**에 관한 이론과 구현,     \n",
    "그리고 기본적인 최적화(optimization) 기법에 대해서도 알아보자.    \n",
    "(Classification problem에 대한 연결주의자(Connectionist) 관점에서의 접근)"
   ]
  },
  {
   "cell_type": "markdown",
   "metadata": {},
   "source": [
    "### Artificial neurons"
   ]
  },
  {
   "cell_type": "markdown",
   "metadata": {},
   "source": [
    "An **artificial neuron** is a <u>mathematical function conceived as a model of biological neurons.</u> Artificial neurons are the constitutive units in an artificial neural network.    \n",
    "Depending on the specific model used they may be called a <u>semi-linear unit, Nv neuron, binary neuron, linear threshold function, or McCulloch–Pitts (MCP) neuron.</u>\n",
    "<div align=\"right\">Reference: https://en.wikipedia.org/wiki/Artificial_neuron</div>"
   ]
  },
  {
   "cell_type": "markdown",
   "metadata": {},
   "source": [
    "'어떤 입력들이 들어오고 이들을 종합하여 어떤 출력을 내놓는 것'을 표현할 수 있는 다양한 방법이 있다. 우선 수학적으로는 y = f(x1, x2, ..., xp)와 같은 함수를 생각해볼 수 있다.\n",
    "인공지능과 뇌과학 분야에서는 두뇌에서 일어나는 연산/판단 과정을 알아내기 위해 다양한 시도를 했는데, 뉴런을 어떤 수학적 함수로 표현하는 하는 것도 그런 시도들 중 하나였다.\n",
    "대표적으로 Artificial neuron이 있는데, warren mccullock and walter pits가 고안한 것으로 mcculloch-pits neuron이라고도 부른다.(멕컬릭 엔 핏츠 뉴런)\n",
    "\n",
    "아티피셜 뉴런에 대한 기본 아이디어는 뉴런이 여러 다양한입력을 받아 어떤 계산을 하고 그 계산의 합이 어떤 임계치보다 크면 어떤 일정한 출력을 내보내고, 임계치보다 작을 경우 출력을 내보내지 않겠다는 것이다.\n",
    "\n",
    "이것을 수학적으로 표현하면 하나의 뉴런에 들어오는 다양한 입력 각각을 x1, x2, ... xm이라 하고 이들의 연산이 단순히 가중합(weighted sum)이라 가정하면 그 연산 합은 아래와 같다.\n",
    "z = x1w1 + x2w2 + ...\n",
    "이때 z가 임계치를 넘느냐 넘지 않느냐에 따라 아래와 같이 표현할 수 있다.\n",
    "이를 그래프로 아래와 같이 나타낼 수 있다.\n",
    "이런 판단을 하는 함수를 activation function이라 부름, 수학적으로는 unit setp function이라 부름.\n",
    "\n",
    "위 함수의 입력과 출력과의 관계는 어떤 w들이 정해져 있을 때,\n",
    "어떤 입력(x들)에는 1을 출력하고, 어떤 다른 입력들에는 -1을 출력하고 있다. 즉 입력들을 두개의 그룹으로 나누고 있다는 것을 알 수 있다.\n",
    "예를들어 입력 엑스가 두개만 있다고 했을 때 그때의 함수 w1x1 + x2x2 > theta는 어떤 직선으로서 입력들을 (아래 그림과 같이) 두개로 나누는 직선일 수도 있고 혹은 그 위치(w값에 따라)에 따라 나누지 못할수도 있다.  그렇다면 어떻게 적절한 w값을 찾을 수 있을까? (결국 모델을 학습시킨다는 것은 (물론 다른 것들도 더 알아야 하지만..) 이 w들을 찾는 것이다.)\n",
    "\n",
    "어떻게 찾을 수 있을까?\n",
    "문제를 간단하게 만들기 위해 단지\n",
    "- 해석적 접근(analytic solution)"
   ]
  },
  {
   "cell_type": "code",
   "execution_count": null,
   "metadata": {
    "collapsed": true
   },
   "outputs": [],
   "source": []
  }
 ],
 "metadata": {
  "anaconda-cloud": {},
  "kernelspec": {
   "display_name": "Python [Root]",
   "language": "python",
   "name": "Python [Root]"
  },
  "language_info": {
   "codemirror_mode": {
    "name": "ipython",
    "version": 3
   },
   "file_extension": ".py",
   "mimetype": "text/x-python",
   "name": "python",
   "nbconvert_exporter": "python",
   "pygments_lexer": "ipython3",
   "version": "3.5.2"
  }
 },
 "nbformat": 4,
 "nbformat_minor": 0
}
