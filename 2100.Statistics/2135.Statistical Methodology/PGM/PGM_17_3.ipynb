{
 "cells": [
  {
   "cell_type": "markdown",
   "metadata": {},
   "source": [
    "### 17.3 Bayesian Parameter Estimation"
   ]
  },
  {
   "cell_type": "markdown",
   "metadata": {},
   "source": [
    "#### 17.3.1 The Thumbtack Example Revisited"
   ]
  },
  {
   "cell_type": "markdown",
   "metadata": {},
   "source": [
    "MLE를 통합 접근이 그럴듯해 보이기는 하지만, 많은 경우 문제를 지나치게 단순화하는 경향이 있다.      \n",
    "\n",
    "앞서 다뤘던 압정(thumbtack)던지기 문제에서 10번 중 3번 head가 나왔었다. 이 경우 head가 나올 확률($\\theta$)을 0.3이라고 하는 것은 일반적으로 합당하다. 그런데 만약 fair coin을 10번 던저 앞면이 3번 나왔다면, 이때에도 단순히 동전의 앞면이 나올 확률이 0.3이라고 할 수 있을까? 이 경우 누구나 그 확률이 0.3이라고 쉽게 결론 내리지 못 한다. 이것은 (보통의) 동전 던지기에 대한 많은 경험을 통해 앞면과 뒷면의 나올 확률이 비슷하다는 일종의 사전지식(prior knowledge)를 갖고 있다는 점 때문이다. 물론 사전 지식이 어떤 결론을 내리는 절대적 기준은 아니겠으나, 어떤 결론을 내리기 위한 합리적인 가이드 혹은 시작점이 되어줄 수는 것이고, fair coin을 10번 던저 3번 앞면이 나왔다면 사전지식을 통해 이 결과가 일반적인 것은 아니라는 것을 짐작하게 된다.     \n",
    "\n",
    "그런데 10번이 아니라 3,000,000번 동전을 던졌고 1,000,000번 앞면이 나왔다면,    \n",
    "이는 어떤 드문 경우가 나왔다기 보다는 fair coin이 아니라는 판단을 하고      \n",
    "이 동전을 던져 앞면이 나올 확률이 0.3이라고 결론 내리게 된다.\n",
    "\n",
    "Maximum likelihood는 앞서 10번 던저 3번 앞면이 나온 경우와 3,000,000번 던저 1,000,000번 앞면이 나오는 경우를 달리 취급하지 않는다. 그냥 $\\theta=0.3$이라는 결론을 내릴 뿐이다. 두 경우의 차이를 표현할 수 있는 방법이 바로 베이지안(Bayesian) 접근법이라 할 수 있다."
   ]
  },
  {
   "cell_type": "markdown",
   "metadata": {},
   "source": [
    "###### 17.3.1.1 Joint Probabilistic Model"
   ]
  },
  {
   "cell_type": "markdown",
   "metadata": {},
   "source": [
    "베이지안 접근법에서는 우리가 $\\theta$에 대해 갖고 있는 사전지식, 즉 어떤 $\\theta$값이 더 그럴듯 한지를 확률 분포로 표현한다. 이렇게 $\\theta$에 대한 확률 분포가 결정되면 $\\theta$와 관측 데이터($X[1], \\dots, X[M]$)의 결합 확률분포를 만들 수 있고, 이는 ...?"
   ]
  },
  {
   "cell_type": "markdown",
   "metadata": {},
   "source": [
    "가정들을 살펴보면, 우선 압정던지기의 각 시행은 서로 독립이다. 하지만 이 가정은 $\\theta$가 어떤 값으로 고정되어 있을 때에만 성립한다. 만약 우리가 $\\theta$를 모른다면 ($\\theta$가 확률변수라면) 각 시행은 주변 독립(marginally independent)이 아니다. 즉 각 시행은 $\\theta$에 대한 추가 정보와 다음 시행에 대한 정보도 주게 된다.\n",
    "\n",
    "그런데 $\\theta$ 값을 알고 있다면, (이미 다 알고 있으므로) 각 시행의 결과가 다음 시행의 확률에 대한 추가적인 정보를 주지 않는다. 따라서 $\\theta$가 주어졌을 때 각 시행은 서로 조건부 독립(conditionally independent)이라고 가정할수 있다. 이런 가정을 아래 그림(figure 17.3)과 같이 표현할 수 있다."
   ]
  },
  {
   "cell_type": "markdown",
   "metadata": {},
   "source": [
    "<img  src=\"./_images/fig_17_3.PNG\"/>"
   ]
  },
  {
   "cell_type": "markdown",
   "metadata": {},
   "source": [
    "위와 같은 모형에서 을 가정 했을 때, $m$번째 시행에 대한 확률 분포를 아래와 같이 표현할 수 있다.\n",
    "\n",
    "$$P(x[m] ~|~ \\theta) = \\begin{cases}\n",
    "\\theta & \\mathrm{if} ~ x[m] = x^1 \\\\\n",
    "1-\\theta & \\mathrm{if} ~ x[m] = x^0\n",
    "\\end{cases}$$\n",
    "\n",
    "(이제부터 $\\theta$를 확률변수로 취급할 것이기 때문에 $\\theta$앞에 $:$ 대신 $|$를 사용하고 있다.)"
   ]
  },
  {
   "cell_type": "markdown",
   "metadata": {},
   "source": [
    "확률 분포 $P(\\theta)$는 $\\theta$에 대한 사전분포(prior distribution)으로서, 압정던지기 예에서는 $\\theta$ 값은 구간 [0, 1]의 값이다. 다양한 확률 분포 어떤 사전 분포를 선택할 것인지에 대해 논하기 전에 사전 분포를 어떻게 사용할지 살펴보자."
   ]
  },
  {
   "cell_type": "markdown",
   "metadata": {},
   "source": [
    "Figure 17.3의 네트워크 구조에서 알 수 있는 것과 같이 $\\theta$와 관측 데이터($X[1], \\dots, X[M]$)의 결합 확률 분포는 아래와 같이 factorize된다.\n",
    "\n",
    "$$\n",
    "\\begin{align}\n",
    "P(x[1], \\dots, x[m], \\theta) &= P(x[1], \\dots, x[M] ~|~ \\theta) ~ P(\\theta)\\\\\n",
    "&= P(\\theta) ~ \\prod^M_{m=1} P(x[m] ~|~ \\theta)\\\\\n",
    "&= P(\\theta) ~ \\theta^{M[1]} ~ (1-\\theta)^{M[0]}\\\\\n",
    "\\end{align}\n",
    "$$\n",
    "위 식에서 $M[1]$은 시행 데이터에서 앞면(head)이 나온 횟수 이고, $M[0]$은 뒷면(tail)이 나온 횟수이다. 또한 $P(x[1], \\dots, x[M] ~|~ \\theta)$는 우도함수(likelihood function) $L(\\theta:D)$이다. "
   ]
  },
  {
   "cell_type": "markdown",
   "metadata": {},
   "source": [
    "."
   ]
  },
  {
   "cell_type": "markdown",
   "metadata": {},
   "source": [
    "17.3.1.2 Prediction"
   ]
  },
  {
   "cell_type": "markdown",
   "metadata": {},
   "source": [
    "."
   ]
  },
  {
   "cell_type": "markdown",
   "metadata": {},
   "source": [
    "17.3.1.3 Priors"
   ]
  },
  {
   "cell_type": "markdown",
   "metadata": {},
   "source": [
    "."
   ]
  },
  {
   "cell_type": "markdown",
   "metadata": {},
   "source": [
    "17.3.2 Priors and Posterios"
   ]
  },
  {
   "cell_type": "markdown",
   "metadata": {},
   "source": [
    "."
   ]
  },
  {
   "cell_type": "markdown",
   "metadata": {},
   "source": [
    "."
   ]
  },
  {
   "cell_type": "markdown",
   "metadata": {},
   "source": [
    "."
   ]
  },
  {
   "cell_type": "markdown",
   "metadata": {},
   "source": [
    "17.4 Bayesian Prarmeter Estimation in Bayesian Networks"
   ]
  },
  {
   "cell_type": "markdown",
   "metadata": {},
   "source": [
    "."
   ]
  },
  {
   "cell_type": "markdown",
   "metadata": {},
   "source": [
    "17.4.1 Parameter Independnce and Global Decomposition"
   ]
  },
  {
   "cell_type": "markdown",
   "metadata": {},
   "source": [
    "."
   ]
  },
  {
   "cell_type": "markdown",
   "metadata": {},
   "source": [
    "17.4.1.1 A Simple Example"
   ]
  },
  {
   "cell_type": "markdown",
   "metadata": {},
   "source": [
    "."
   ]
  },
  {
   "cell_type": "markdown",
   "metadata": {},
   "source": [
    "17.4.1.2 General Networks"
   ]
  },
  {
   "cell_type": "markdown",
   "metadata": {},
   "source": [
    "."
   ]
  },
  {
   "cell_type": "markdown",
   "metadata": {},
   "source": [
    "."
   ]
  },
  {
   "cell_type": "markdown",
   "metadata": {},
   "source": [
    "17.4.1.3 Prediction"
   ]
  },
  {
   "cell_type": "markdown",
   "metadata": {},
   "source": [
    "."
   ]
  },
  {
   "cell_type": "markdown",
   "metadata": {},
   "source": [
    "."
   ]
  },
  {
   "cell_type": "markdown",
   "metadata": {},
   "source": [
    "17.4.2 Local Decomposition"
   ]
  },
  {
   "cell_type": "markdown",
   "metadata": {},
   "source": [
    "."
   ]
  },
  {
   "cell_type": "markdown",
   "metadata": {},
   "source": [
    "."
   ]
  },
  {
   "cell_type": "markdown",
   "metadata": {},
   "source": [
    "."
   ]
  },
  {
   "cell_type": "markdown",
   "metadata": {},
   "source": [
    "17.4.3 Priors for Bayesian Network Learning"
   ]
  },
  {
   "cell_type": "markdown",
   "metadata": {},
   "source": [
    "."
   ]
  },
  {
   "cell_type": "markdown",
   "metadata": {},
   "source": [
    "."
   ]
  },
  {
   "cell_type": "markdown",
   "metadata": {},
   "source": [
    "17.4.4 MAP Estimation"
   ]
  },
  {
   "cell_type": "markdown",
   "metadata": {},
   "source": [
    "."
   ]
  },
  {
   "cell_type": "markdown",
   "metadata": {},
   "source": [
    "."
   ]
  },
  {
   "cell_type": "markdown",
   "metadata": {},
   "source": [
    "."
   ]
  },
  {
   "cell_type": "code",
   "execution_count": null,
   "metadata": {
    "collapsed": true
   },
   "outputs": [],
   "source": []
  }
 ],
 "metadata": {
  "anaconda-cloud": {},
  "kernelspec": {
   "display_name": "Python [default]",
   "language": "python",
   "name": "python3"
  },
  "language_info": {
   "codemirror_mode": {
    "name": "ipython",
    "version": 3
   },
   "file_extension": ".py",
   "mimetype": "text/x-python",
   "name": "python",
   "nbconvert_exporter": "python",
   "pygments_lexer": "ipython3",
   "version": "3.5.2"
  }
 },
 "nbformat": 4,
 "nbformat_minor": 1
}
