{
 "cells": [
  {
   "cell_type": "markdown",
   "metadata": {},
   "source": [
    "## Item 1: Know which Version of Python You're Using"
   ]
  },
  {
   "cell_type": "markdown",
   "metadata": {},
   "source": [
    "우선 아주 간단한 팁으로 시작합니다. 사용하고 있는 Python 버전을 확인하라는 것인데요. \n"
   ]
  },
  {
   "cell_type": "code",
   "execution_count": null,
   "metadata": {
    "collapsed": true
   },
   "outputs": [],
   "source": [
    "import sys\n",
    "print(sys.version_info)"
   ]
  },
  {
   "cell_type": "code",
   "execution_count": null,
   "metadata": {
    "collapsed": true
   },
   "outputs": [],
   "source": [
    "print(sys.version)"
   ]
  },
  {
   "cell_type": "markdown",
   "metadata": {},
   "source": [
    "위와 같은 명령으로 사용중인 Python 버전을 확인할 수 있습니다.   \n",
    "또한 가능한 Python3를 사용하라는 충고가 있습니다."
   ]
  },
  {
   "cell_type": "markdown",
   "metadata": {},
   "source": [
    "## Item 2: Follow the PEP 8 Style Guide"
   ]
  },
  {
   "cell_type": "markdown",
   "metadata": {},
   "source": [
    "PEP(Python Enhancement Proposal)에는 파이썬에 대한 개선 제안, 구조에 대한 디자인 등 다양한 문서가 포함되어 있는데요. 그중에서도 8번 문서(<a href=\"https://www.python.org/dev/peps/pep-0008/\">PEP8</a>)에는 코딩 스타일 가이드를 담고 있습니다. \n"
   ]
  },
  {
   "cell_type": "markdown",
   "metadata": {},
   "source": [
    "."
   ]
  },
  {
   "cell_type": "markdown",
   "metadata": {},
   "source": [
    "## Item 14 : Prefer Exceptions to Returning None"
   ]
  },
  {
   "cell_type": "markdown",
   "metadata": {},
   "source": [
    "함수 구현할 때 어떤 특이상태를 표현하기 위해 None을 return하도록 만들곤 한다.      \n",
    "그런데 이런 방식은 return 값에 대한 상태체크시 (잘 인지하지 못하는) 에러를 유발하곤 한다.     \n",
    "예를들어 아래 코드는 0으로 나누는 경우를 체크하려 하지만 분자가 0인 경우에도 'Invalid inputs'를 출력한다.      \n",
    "(if 문과 관련하여 아래 ※ if if if... (Item 14)를 참고)"
   ]
  },
  {
   "cell_type": "code",
   "execution_count": 57,
   "metadata": {
    "collapsed": true
   },
   "outputs": [],
   "source": [
    "def divide(a, b):\n",
    "    try:\n",
    "        return a / b\n",
    "    except ZeroDivisionError:\n",
    "        return None"
   ]
  },
  {
   "cell_type": "code",
   "execution_count": 58,
   "metadata": {},
   "outputs": [
    {
     "name": "stdout",
     "output_type": "stream",
     "text": [
      "Invalid inputs\n"
     ]
    }
   ],
   "source": [
    "x, y = 0, 5\n",
    "result = divide(x, y)\n",
    "if not result:\n",
    "    print('Invalid inputs')\n",
    "else:\n",
    "    print(result)"
   ]
  },
  {
   "cell_type": "code",
   "execution_count": 59,
   "metadata": {},
   "outputs": [
    {
     "name": "stdout",
     "output_type": "stream",
     "text": [
      "Invalid inputs\n"
     ]
    }
   ],
   "source": [
    "x, y = 1, 0\n",
    "result = divide(x, y)\n",
    "if result is None:\n",
    "    print('Invalid inputs')\n",
    "else:\n",
    "    print(result)"
   ]
  },
  {
   "cell_type": "markdown",
   "metadata": {},
   "source": [
    "이에 대한 첫번째 대안으로 이상 상태가 발생했는지 아닌지를 표현하는 flag를 원래 반환하려는 값과 함께 tuple로 반환하는 것이다."
   ]
  },
  {
   "cell_type": "code",
   "execution_count": 60,
   "metadata": {
    "collapsed": true
   },
   "outputs": [],
   "source": [
    "def divide(a, b):\n",
    "    try:\n",
    "        return True, a / b\n",
    "    except ZeroDivisionError:\n",
    "        return False, None"
   ]
  },
  {
   "cell_type": "code",
   "execution_count": 61,
   "metadata": {},
   "outputs": [
    {
     "name": "stdout",
     "output_type": "stream",
     "text": [
      "Invalid inputs\n"
     ]
    }
   ],
   "source": [
    "x, y = 1, 0\n",
    "success, result = divide(x, y)\n",
    "if not success:\n",
    "    print('Invalid inputs')\n",
    "else:\n",
    "    print(result)"
   ]
  },
  {
   "cell_type": "code",
   "execution_count": 62,
   "metadata": {},
   "outputs": [
    {
     "name": "stdout",
     "output_type": "stream",
     "text": [
      "0.0\n"
     ]
    }
   ],
   "source": [
    "x, y = 0, 5\n",
    "success, result = divide(x, y)\n",
    "if not success:\n",
    "    print('Invalid inputs')\n",
    "else:\n",
    "    print(result)"
   ]
  },
  {
   "cell_type": "markdown",
   "metadata": {},
   "source": [
    "(보다 나은) 두번째 대안으로 함수에서 에러가 발생하면 그냥 에러를 raise해서 호출한쪽에서 에러를 처리하게 하는 것이다. "
   ]
  },
  {
   "cell_type": "code",
   "execution_count": 63,
   "metadata": {
    "collapsed": true
   },
   "outputs": [],
   "source": [
    "def divide(a, b):\n",
    "    try:\n",
    "        return a / b\n",
    "    except ZeroDivisionError as e:\n",
    "        raise ValueError('Invalid inputs') from e"
   ]
  },
  {
   "cell_type": "code",
   "execution_count": 65,
   "metadata": {},
   "outputs": [
    {
     "name": "stdout",
     "output_type": "stream",
     "text": [
      "Invalid inputs\n"
     ]
    }
   ],
   "source": [
    "x, y = 1, 0\n",
    "try:\n",
    "    result = divide(x, y)\n",
    "except ValueError:\n",
    "    print('Invalid inputs')\n",
    "else:\n",
    "    print('Result is %.1f' %result)"
   ]
  },
  {
   "cell_type": "code",
   "execution_count": 66,
   "metadata": {},
   "outputs": [
    {
     "name": "stdout",
     "output_type": "stream",
     "text": [
      "Result is 0.0\n"
     ]
    }
   ],
   "source": [
    "x, y = 0, 5\n",
    "try:\n",
    "    result = divide(x, y)\n",
    "except ValueError:\n",
    "    print('Invalid inputs')\n",
    "else:\n",
    "    print('Result is %.1f' %result)"
   ]
  },
  {
   "cell_type": "markdown",
   "metadata": {},
   "source": [
    "## Item 15 : Know How Closures Interact with Variable Scope"
   ]
  },
  {
   "cell_type": "markdown",
   "metadata": {},
   "source": [
    "주어진 숫자들을 정렬하되, 특별한 그룹에 속하는 숫자들은 그렇지 않은 숫자들보다 우선하도록 정렬하는 함수를 만들고 싶다.\n",
    "예를들어 정렬할 숫자로 8, 3, 1, 2, 5, 4, 7, 6가 주어지고, 특별한 그룹으로 2, 3, 5, 7가 주어지는 경우 아래와 같은 결과를 얻고 싶다.    \n",
    "2, 3, 5, 7, 1, 4, 6, 8   \n",
    "이런 함수를 아래와 같이 작성해볼 수 있다."
   ]
  },
  {
   "cell_type": "code",
   "execution_count": 78,
   "metadata": {
    "collapsed": true
   },
   "outputs": [],
   "source": [
    "def sort_priority(values, group):\n",
    "    def helper(x):\n",
    "        if x in group:\n",
    "            return (0, x)\n",
    "        return (1, x)\n",
    "    values.sort(key=helper)"
   ]
  },
  {
   "cell_type": "code",
   "execution_count": 79,
   "metadata": {},
   "outputs": [
    {
     "name": "stdout",
     "output_type": "stream",
     "text": [
      "[2, 3, 5, 7, 1, 4, 6, 8]\n"
     ]
    }
   ],
   "source": [
    "numbers = [8, 3, 1, 2, 5, 4, 7, 6]\n",
    "group = {2, 3, 5, 7}\n",
    "sort_priority(numbers, group)\n",
    "print(numbers)"
   ]
  },
  {
   "cell_type": "markdown",
   "metadata": {},
   "source": [
    "위 함수 정의에서 살펴볼 것은 아래 3가지이다.\n",
    "- 위 helper 함수는 closure이다. (helper 함수는 local scope 밖의 변수인 group에 접근)\n",
    "- Python에서 함수는 first class object이다. (함수를 인자로 전달하거나, 함수의 결과로 반환하거나, 변수에 할당할 수 있다.)\n",
    "- tuple간의 대소 비교는 0번째 원소부터 순차적으로 진행된다. (아래 코드 참고)"
   ]
  },
  {
   "cell_type": "code",
   "execution_count": 80,
   "metadata": {
    "scrolled": true
   },
   "outputs": [
    {
     "name": "stdout",
     "output_type": "stream",
     "text": [
      "False\n",
      "False\n"
     ]
    }
   ],
   "source": [
    "# tuple의 비교 연산은 0번째 원소부터 진행됨\n",
    "print((1, 2, 3) > (1, 2, 4))\n",
    "print((1, 2, 3) > (2, 2, 3))"
   ]
  },
  {
   "cell_type": "markdown",
   "metadata": {},
   "source": [
    "숫자들을 전달한 후 group에 속하는 숫자들이 등장 했는지 확인하기 위해 아래와 같이 found 함수를 추가해볼 수 있다."
   ]
  },
  {
   "cell_type": "code",
   "execution_count": 81,
   "metadata": {
    "collapsed": true
   },
   "outputs": [],
   "source": [
    "def sort_priority2(values, group):\n",
    "    found = False\n",
    "    def helper(x):\n",
    "        if x in group:\n",
    "            found = True\n",
    "            return (0, x)\n",
    "        return (1, x)\n",
    "    values.sort(key=helper)\n",
    "    return found"
   ]
  },
  {
   "cell_type": "code",
   "execution_count": 82,
   "metadata": {},
   "outputs": [
    {
     "name": "stdout",
     "output_type": "stream",
     "text": [
      "[2, 3, 5, 7, 1, 4, 6, 8] , False\n"
     ]
    }
   ],
   "source": [
    "numbers = [8, 3, 1, 2, 5, 4, 7, 6]\n",
    "group = {2, 3, 5, 7}\n",
    "is_found = sort_priority2(numbers, group)\n",
    "print(numbers, ',', is_found)"
   ]
  },
  {
   "cell_type": "markdown",
   "metadata": {},
   "source": [
    "그런데 분명 numbers의 숫자들 중 group에 속하는 값이 있음에도 False가 출력되고 있다. 이는 변수를 읽을 때와 쓸 때 scope을 판단하는 기준이 달라서 종종 범하게 되는 문제이다.\n",
    "\n",
    "변수를 읽을 때에는 1. 현재 함수의 scope, 2. 함수 밖의 scope, 3. 해당 코드가 포함된 모듈, 4. built-in scope 을 차례로 찾는다.    \n",
    "반면 변수를 쓸 때에는 현재 scope에 선언된 변수가 있다면 그것에 기록할 것이고, 만약 없다면 현재 scope에 새로운 변수를 선언고 기록한다. 즉 변수를 쓸 때에는 현재 scope밖을 살피지 않는다. 또한 주의할 점은 변수를 읽는 것과 쓰는 것이 한 scope안에 함께 있다면 그 변수는 local 변수로 간주되며, 이때 만약 변수를 읽는 것이 먼저 등장한다면 (변수 할당 전에 변수 값에 접근하므로) 에러가 발생한다.\n",
    "\n",
    "위 문제를 해결하려면 어떻게 해야할까?\n",
    "\n",
    "해결책은 두가지인데 우선 첫번째는 Python3에서 추가된 nonlocal 키워드를 사용하는 것이다.      \n",
    "즉 local scope에서 해당 변수는 local 변수가 아니다라는 것을 명시하는 것으로서,       \n",
    "enclosing scope(local scope 바로 밖)에 선언된 해당 변수를 찾아 사용하게 된다."
   ]
  },
  {
   "cell_type": "code",
   "execution_count": 83,
   "metadata": {
    "collapsed": true
   },
   "outputs": [],
   "source": [
    "def sort_priority3(values, group):\n",
    "    found = False\n",
    "    def helper(x):\n",
    "        nonlocal found\n",
    "        if x in group:\n",
    "            found = True\n",
    "            return (0, x)\n",
    "        return (1, x)\n",
    "    values.sort(key=helper)\n",
    "    return found"
   ]
  },
  {
   "cell_type": "code",
   "execution_count": 84,
   "metadata": {},
   "outputs": [
    {
     "name": "stdout",
     "output_type": "stream",
     "text": [
      "[2, 3, 5, 7, 1, 4, 6, 8] , True\n"
     ]
    }
   ],
   "source": [
    "numbers = [8, 3, 1, 2, 5, 4, 7, 6]\n",
    "group = {2, 3, 5, 7}\n",
    "is_found = sort_priority3(numbers, group)\n",
    "print(numbers, ',', is_found)"
   ]
  },
  {
   "cell_type": "markdown",
   "metadata": {},
   "source": [
    "두번째 해결책은 scope 밖에 있는 변수를 list, dictionary, set혹은 직접 정의한 class와 같은 mutable type을 사용하고, 이 변수의 멤버 함수를 이용하여 값을 읽거나 쓰는 것이다. (found[0] = True는 사실 found.`__setitem__`(True) 로 동작한다.) "
   ]
  },
  {
   "cell_type": "code",
   "execution_count": 85,
   "metadata": {
    "collapsed": true
   },
   "outputs": [],
   "source": [
    "def sort_priority4(values, group):\n",
    "    found = [None]\n",
    "    def helper(x):\n",
    "        if x in group:\n",
    "            found[0] = True\n",
    "            return (0, x)\n",
    "        return (1, x)\n",
    "    values.sort(key=helper)\n",
    "    return found[0]"
   ]
  },
  {
   "cell_type": "code",
   "execution_count": 86,
   "metadata": {},
   "outputs": [
    {
     "name": "stdout",
     "output_type": "stream",
     "text": [
      "[2, 3, 5, 7, 1, 4, 6, 8] , True\n"
     ]
    }
   ],
   "source": [
    "numbers = [8, 3, 1, 2, 5, 4, 7, 6]\n",
    "group = {2, 3, 5, 7}\n",
    "is_found = sort_priority4(numbers, group)\n",
    "print(numbers, ',', is_found)"
   ]
  },
  {
   "cell_type": "markdown",
   "metadata": {},
   "source": [
    "그런데 그런데 그런데...\n",
    "\n",
    "아주 단순한 경우가 아니면 가능한한 nonlocal를 사용하지 않는 것을 추천한다. 구조가 복잡해지면 어떤 변수를 참고하고 있는 것인지 찾기가 어려워지기 때문이다. 부득이 복잡한 구조에서 nonlocal 과 같은 변수 사용이 필요하다면 아래와 같이 inner function을 class로, nonlocal 변수를 클래스의 멤버 변수로 바꾸면 가독성을 높일 수 있다."
   ]
  },
  {
   "cell_type": "code",
   "execution_count": 87,
   "metadata": {
    "collapsed": true
   },
   "outputs": [],
   "source": [
    "class Sorter(object):\n",
    "    def __init__(self, group):\n",
    "        self.group = group\n",
    "        self.found = False\n",
    "    \n",
    "    def __call__(self, x):\n",
    "        if x in self.group:\n",
    "            self.found = True\n",
    "            return (0, x)\n",
    "        return (1, x)"
   ]
  },
  {
   "cell_type": "code",
   "execution_count": 88,
   "metadata": {},
   "outputs": [
    {
     "name": "stdout",
     "output_type": "stream",
     "text": [
      "[2, 3, 5, 7, 1, 4, 6, 8] , True\n"
     ]
    }
   ],
   "source": [
    "numbers = [8, 3, 1, 2, 5, 4, 7, 6]\n",
    "group = {2, 3, 5, 7}\n",
    "sorter = Sorter(group)\n",
    "numbers.sort(key=sorter)\n",
    "print(numbers, ',', sorter.found)"
   ]
  },
  {
   "cell_type": "markdown",
   "metadata": {},
   "source": [
    "---"
   ]
  },
  {
   "cell_type": "markdown",
   "metadata": {},
   "source": [
    "## if if if ..."
   ]
  },
  {
   "cell_type": "markdown",
   "metadata": {},
   "source": [
    "아래와 같이 x값을 테스트 하는 함수가 있고"
   ]
  },
  {
   "cell_type": "code",
   "execution_count": null,
   "metadata": {
    "collapsed": true
   },
   "outputs": [],
   "source": [
    "def test_if(x):\n",
    "    if x:\n",
    "        print('O', end='')\n",
    "    else:\n",
    "        print('X', end='')\n",
    "    \n",
    "    if x is True:\n",
    "        print('O', end='')\n",
    "    else:\n",
    "        print('X', end='')\n",
    "        \n",
    "    if x == True:\n",
    "        print('O', end='')\n",
    "    else:\n",
    "        print('X', end='')"
   ]
  },
  {
   "cell_type": "markdown",
   "metadata": {},
   "source": [
    "x가 ﻿2, 1, 0, -1, -2, None, '', True 인 각각의 경우 출력값은?"
   ]
  },
  {
   "cell_type": "code",
   "execution_count": 22,
   "metadata": {},
   "outputs": [
    {
     "name": "stdout",
     "output_type": "stream",
     "text": [
      "OXX"
     ]
    }
   ],
   "source": [
    "test_if(2)"
   ]
  },
  {
   "cell_type": "code",
   "execution_count": 23,
   "metadata": {},
   "outputs": [
    {
     "name": "stdout",
     "output_type": "stream",
     "text": [
      "OXO"
     ]
    }
   ],
   "source": [
    "test_if(1)"
   ]
  },
  {
   "cell_type": "code",
   "execution_count": 24,
   "metadata": {},
   "outputs": [
    {
     "name": "stdout",
     "output_type": "stream",
     "text": [
      "XXX"
     ]
    }
   ],
   "source": [
    "test_if(0)"
   ]
  },
  {
   "cell_type": "code",
   "execution_count": 25,
   "metadata": {},
   "outputs": [
    {
     "name": "stdout",
     "output_type": "stream",
     "text": [
      "OXX"
     ]
    }
   ],
   "source": [
    "test_if(-1)"
   ]
  },
  {
   "cell_type": "code",
   "execution_count": 26,
   "metadata": {},
   "outputs": [
    {
     "name": "stdout",
     "output_type": "stream",
     "text": [
      "OXX"
     ]
    }
   ],
   "source": [
    "test_if(-2)"
   ]
  },
  {
   "cell_type": "code",
   "execution_count": 27,
   "metadata": {},
   "outputs": [
    {
     "name": "stdout",
     "output_type": "stream",
     "text": [
      "XXX"
     ]
    }
   ],
   "source": [
    "test_if(None)"
   ]
  },
  {
   "cell_type": "code",
   "execution_count": 28,
   "metadata": {},
   "outputs": [
    {
     "name": "stdout",
     "output_type": "stream",
     "text": [
      "XXX"
     ]
    }
   ],
   "source": [
    "test_if('')"
   ]
  },
  {
   "cell_type": "code",
   "execution_count": 29,
   "metadata": {},
   "outputs": [
    {
     "name": "stdout",
     "output_type": "stream",
     "text": [
      "OOO"
     ]
    }
   ],
   "source": [
    "test_if(True)"
   ]
  },
  {
   "cell_type": "markdown",
   "metadata": {},
   "source": [
    "- `if x:`는 x가 0, None, ''이 아니면 True.    \n",
    "- `if x is True`는 x가 True일때만 True.    \n",
    "- `if x == True`는 x가 1이나 True이면 True."
   ]
  },
  {
   "cell_type": "markdown",
   "metadata": {},
   "source": [
    "## Metaclass"
   ]
  },
  {
   "cell_type": "markdown",
   "metadata": {},
   "source": [
    "."
   ]
  },
  {
   "cell_type": "markdown",
   "metadata": {},
   "source": [
    "## Decorator"
   ]
  },
  {
   "cell_type": "markdown",
   "metadata": {},
   "source": [
    "Decorator는 어떤 함수를 입력으로 받아 이 함수에 전/후 처리를 더하거나 전혀 새로운 함수를 반환하는 '호출 가능한 어떤 것'(callable)을 말한다. 이 callable은 함수(decorator 함수) 형태로 정의되고, 대상 함수 정의앞에 @{decorator 함수}를 명시하는 형태로 사용된다.\n",
    "\n",
    "아래 코드에서 decorator 함수의 이름은 deco이고, 대상함수명은 'target'이며 이 함수 정의 앞에 '@deco'를 명시하고 있다. 즉 target 함수는 deco 함수의 인자로 입력되고 inner라는 새로운 함수로 바뀌고 있다."
   ]
  },
  {
   "cell_type": "code",
   "execution_count": 35,
   "metadata": {},
   "outputs": [
    {
     "name": "stdout",
     "output_type": "stream",
     "text": [
      "Decorating func: <function target at 0x000001C90812A840>\n"
     ]
    }
   ],
   "source": [
    "def deco(func):\n",
    "    print('Decorating func:', func)\n",
    "    \n",
    "    def inner():\n",
    "        print('Inner function')\n",
    "        \n",
    "    return inner\n",
    "\n",
    "@deco\n",
    "def target():\n",
    "    print('Running target()')\n",
    "\n",
    "decorated_target = target"
   ]
  },
  {
   "cell_type": "code",
   "execution_count": 38,
   "metadata": {
    "scrolled": false
   },
   "outputs": [
    {
     "name": "stdout",
     "output_type": "stream",
     "text": [
      "Inner function\n"
     ]
    }
   ],
   "source": [
    "decorated_target()"
   ]
  },
  {
   "cell_type": "markdown",
   "metadata": {},
   "source": [
    "사실 위 코드는 아래 코드와 같으며, 함수를 decorator 함수로 양념/포장/데코하는 것이다."
   ]
  },
  {
   "cell_type": "code",
   "execution_count": 39,
   "metadata": {},
   "outputs": [
    {
     "name": "stdout",
     "output_type": "stream",
     "text": [
      "Decorating func: <function target at 0x000001C9080FABF8>\n"
     ]
    }
   ],
   "source": [
    "def deco(func):\n",
    "    print('Decorating func:', func)\n",
    "    \n",
    "    def inner():\n",
    "        print('Inner function')\n",
    "        \n",
    "    return inner\n",
    "\n",
    "def target():\n",
    "    print('Running target()')\n",
    "\n",
    "decorated_target = deco(target)"
   ]
  },
  {
   "cell_type": "code",
   "execution_count": 40,
   "metadata": {},
   "outputs": [
    {
     "name": "stdout",
     "output_type": "stream",
     "text": [
      "Inner function\n"
     ]
    }
   ],
   "source": [
    "decorated_target()"
   ]
  },
  {
   "cell_type": "markdown",
   "metadata": {},
   "source": [
    "위와 같이 명시적으로 함수를 인자로 하는 함수를 호출하는 것과 Decorator의 다른점은 decorator를 사용할 경우 decorator 함수 내부에서의 처리는 타겟 하수가 정의된 시점(import 시점, loading 시점)이라는 것이다. 물론 대상 함수(위 예에서는 target함수)가 실행되는 시점은 그 함수가 호출되는 시점(runtime)이다.\n",
    "\n",
    "실제 구현에서는 decorator 함수와 대상 함수가 다른 모듈에서 정의되는 경우가 많으며, 입력받은 함수와 전혀 다른 함수를 반환하는 경우가 대부분이다. 물론 입력 받은 함수와 동일한 함수를 반환하는 경우도 있으나 이런 것은 보통 웹 프레임웍에서 URL 패턴을 등록하는 것과 같이 특정 목적의 함수들을 관리하려 할 때 사용된다."
   ]
  },
  {
   "cell_type": "markdown",
   "metadata": {},
   "source": [
    "## Closures"
   ]
  },
  {
   "cell_type": "markdown",
   "metadata": {},
   "source": [
    "Closure는 자신이 정의하지 않은 nonglobal 변수를 포함하는 함수를 말한다. (a closure is a function that retains the bindings of the free variables that exist when the function is defined, so that they can be used later when the function is invoked and the defining scope is no longer available... / Fluent Python, p201)\n",
    "\n",
    "예를들어 아래 'printer'는 inner_printer에서 정의하지 않은 (outer_printer의 local)변수 x를 포함하고 있으며, 호출시에는 y값만 인자로 전달한다. \n",
    "\n",
    "변수 x는 outer_printer의 scope에 존재하므로 'return inner_printer' 이후 이 scope은 존재하지 않고 x도 사라지는 것처럼 보이지만, 이 변수는 inner_printer에서 **사용**(읽기)되면서 이 함수 정의에 포함되어 전달된다.\n",
    "\n",
    "주의할점은 **사용**이 읽기가 아니라 쓰기일 경우 그 의미가 크게 달라지는데.. 이 부분은 나중에 설명하기로 한다."
   ]
  },
  {
   "cell_type": "code",
   "execution_count": 114,
   "metadata": {
    "collapsed": true
   },
   "outputs": [],
   "source": [
    "def outer_printer(x):\n",
    "    def inner_printer(y):\n",
    "        print('closure variable:', x)\n",
    "        print('local variable  :', y)\n",
    "        \n",
    "    return inner_printer"
   ]
  },
  {
   "cell_type": "code",
   "execution_count": 115,
   "metadata": {
    "collapsed": true
   },
   "outputs": [],
   "source": [
    "printer = outer_printer(x=100)"
   ]
  },
  {
   "cell_type": "code",
   "execution_count": 116,
   "metadata": {},
   "outputs": [
    {
     "name": "stdout",
     "output_type": "stream",
     "text": [
      "closure variable: 100\n",
      "local variable  : 200\n"
     ]
    }
   ],
   "source": [
    "printer(y=200)"
   ]
  },
  {
   "cell_type": "markdown",
   "metadata": {},
   "source": [
    "closure는 함수의 `__closure__`변수를 통해 접근할 수 있다."
   ]
  },
  {
   "cell_type": "code",
   "execution_count": 117,
   "metadata": {
    "scrolled": false
   },
   "outputs": [
    {
     "name": "stdout",
     "output_type": "stream",
     "text": [
      "(<cell at 0x000001C90810BB28: int object at 0x0000000056B9F630>,)\n",
      "100\n"
     ]
    }
   ],
   "source": [
    "print(printer.__closure__)\n",
    "print(printer.__closure__[0].cell_contents)"
   ]
  },
  {
   "cell_type": "markdown",
   "metadata": {},
   "source": [
    "또한 `__code__.co_freevars`를 통해 closure 변수의 이름을 확인할 수 있다."
   ]
  },
  {
   "cell_type": "code",
   "execution_count": 118,
   "metadata": {},
   "outputs": [
    {
     "data": {
      "text/plain": [
       "('x',)"
      ]
     },
     "execution_count": 118,
     "metadata": {},
     "output_type": "execute_result"
    }
   ],
   "source": [
    "printer.__code__.co_freevars"
   ]
  },
  {
   "cell_type": "markdown",
   "metadata": {},
   "source": [
    "참고로 함수의 local 변수는 아래와 같이 `__code__.co_varnames`로 확인할 수 있다."
   ]
  },
  {
   "cell_type": "code",
   "execution_count": 121,
   "metadata": {},
   "outputs": [
    {
     "data": {
      "text/plain": [
       "('y',)"
      ]
     },
     "execution_count": 121,
     "metadata": {},
     "output_type": "execute_result"
    }
   ],
   "source": [
    "printer.__code__.co_varnames"
   ]
  },
  {
   "cell_type": "markdown",
   "metadata": {},
   "source": [
    "참고로2 앞서 예제 코드는 아래와 같이 구현할수도 있다."
   ]
  },
  {
   "cell_type": "code",
   "execution_count": 125,
   "metadata": {
    "collapsed": true
   },
   "outputs": [],
   "source": [
    "class OuterPrinter:\n",
    "    def __init__(self, x):\n",
    "        self.x = x\n",
    "        \n",
    "    def __call__(self, y):\n",
    "        print('closure variable:', self.x)\n",
    "        print('local variable  :', y)"
   ]
  },
  {
   "cell_type": "code",
   "execution_count": 126,
   "metadata": {
    "collapsed": true
   },
   "outputs": [],
   "source": [
    "printer = OuterPrinter(x=100)"
   ]
  },
  {
   "cell_type": "code",
   "execution_count": 127,
   "metadata": {},
   "outputs": [
    {
     "name": "stdout",
     "output_type": "stream",
     "text": [
      "closure variable: 100\n",
      "local variable  : 200\n"
     ]
    }
   ],
   "source": [
    "printer(200)"
   ]
  },
  {
   "cell_type": "markdown",
   "metadata": {},
   "source": [
    "참고 페이지 : https://www.programiz.com/python-programming/closure"
   ]
  },
  {
   "cell_type": "markdown",
   "metadata": {},
   "source": [
    "## Variable Scope rule"
   ]
  },
  {
   "cell_type": "markdown",
   "metadata": {},
   "source": [
    "아래 함수 f1에서 선언된 지역변수 a는 성공적으로 그 값이 출력된다. 그리고 변수 b는 선언되어 있지 않으므로 에러가 발생된다."
   ]
  },
  {
   "cell_type": "code",
   "execution_count": 1,
   "metadata": {},
   "outputs": [
    {
     "name": "stdout",
     "output_type": "stream",
     "text": [
      "3\n"
     ]
    },
    {
     "ename": "NameError",
     "evalue": "name 'b' is not defined",
     "output_type": "error",
     "traceback": [
      "\u001b[1;31m---------------------------------------------------------------------------\u001b[0m",
      "\u001b[1;31mNameError\u001b[0m                                 Traceback (most recent call last)",
      "\u001b[1;32m<ipython-input-1-009ad9378744>\u001b[0m in \u001b[0;36m<module>\u001b[1;34m()\u001b[0m\n\u001b[0;32m      3\u001b[0m     \u001b[0mprint\u001b[0m\u001b[1;33m(\u001b[0m\u001b[0mb\u001b[0m\u001b[1;33m)\u001b[0m\u001b[1;33m\u001b[0m\u001b[0m\n\u001b[0;32m      4\u001b[0m \u001b[1;33m\u001b[0m\u001b[0m\n\u001b[1;32m----> 5\u001b[1;33m \u001b[0mf1\u001b[0m\u001b[1;33m(\u001b[0m\u001b[1;36m3\u001b[0m\u001b[1;33m)\u001b[0m\u001b[1;33m\u001b[0m\u001b[0m\n\u001b[0m",
      "\u001b[1;32m<ipython-input-1-009ad9378744>\u001b[0m in \u001b[0;36mf1\u001b[1;34m(a)\u001b[0m\n\u001b[0;32m      1\u001b[0m \u001b[1;32mdef\u001b[0m \u001b[0mf1\u001b[0m\u001b[1;33m(\u001b[0m\u001b[0ma\u001b[0m\u001b[1;33m)\u001b[0m\u001b[1;33m:\u001b[0m\u001b[1;33m\u001b[0m\u001b[0m\n\u001b[0;32m      2\u001b[0m     \u001b[0mprint\u001b[0m\u001b[1;33m(\u001b[0m\u001b[0ma\u001b[0m\u001b[1;33m)\u001b[0m\u001b[1;33m\u001b[0m\u001b[0m\n\u001b[1;32m----> 3\u001b[1;33m     \u001b[0mprint\u001b[0m\u001b[1;33m(\u001b[0m\u001b[0mb\u001b[0m\u001b[1;33m)\u001b[0m\u001b[1;33m\u001b[0m\u001b[0m\n\u001b[0m\u001b[0;32m      4\u001b[0m \u001b[1;33m\u001b[0m\u001b[0m\n\u001b[0;32m      5\u001b[0m \u001b[0mf1\u001b[0m\u001b[1;33m(\u001b[0m\u001b[1;36m3\u001b[0m\u001b[1;33m)\u001b[0m\u001b[1;33m\u001b[0m\u001b[0m\n",
      "\u001b[1;31mNameError\u001b[0m: name 'b' is not defined"
     ]
    }
   ],
   "source": [
    "def f1(a):\n",
    "    print(a)\n",
    "    print(b)\n",
    "\n",
    "f1(3)"
   ]
  },
  {
   "cell_type": "markdown",
   "metadata": {},
   "source": [
    "아래와 같이 함수 f1 밖에서 (전역변수) b를 선언하고, 다시 실행하면 b가 정상적으로 출력된다.\n",
    "\n",
    "즉 변수를 읽을 때에는 우선 현재 **함수의 범위(scope)**를 찾고 없으면 차례로 **함수 밖의 범위**, **해당 코드가 포함된 모듈(=global scope)**, **built-in 범위**에서 해당 이름의 변수를 찾는다."
   ]
  },
  {
   "cell_type": "code",
   "execution_count": 2,
   "metadata": {},
   "outputs": [
    {
     "name": "stdout",
     "output_type": "stream",
     "text": [
      "3\n",
      "6\n"
     ]
    }
   ],
   "source": [
    "b = 6\n",
    "f1(3)"
   ]
  },
  {
   "cell_type": "markdown",
   "metadata": {},
   "source": [
    "---"
   ]
  },
  {
   "cell_type": "markdown",
   "metadata": {},
   "source": [
    "그런데 아래 코드를 보면    \n",
    "함수 f1에서는 변수 b를 읽으려 하고    \n",
    "함수 f2에서는 변수 b에 값을 할당하려 하고 있다.\n",
    "\n",
    "3이 출력된 것으로 보아 (지역)변수 a를 읽는데에는 문제가 없었으나, 변수 b를 print하려 할 때 문제가 발생한다.     \n",
    "왜 에러가 발생한 걸까?\n",
    "\n",
    "그 이유는 함수 f2가 컴파일될 때 함수내 변수들의 성격을 미리 정의하는데, 변수 b는 'b = 9'와 같이 할당이 일어나기 때문에 **지역 변수**로 결정된다. 이후 실행과정에서 'print(b)'에서 변수 b값을 읽어와야 하는데, 지역변수 b는 아직 값이 할당되지 않았기 때문에 에러가 발생한다.\n",
    "\n",
    "물론 할당하는 것 조차 함수 밖의 범위들을 찾아보고 같은 이름의 변수가 있다면 그 변수값을 수정하도록 할 수 있으나 알수 없는 범위의 변수가 수정되는 것을 막기 위한 Python의 설계적 선택이라 할 수 있다.(javascript에서는 지역변수가 없을 경우 외부 범위의 변수를 수정한다.)\n",
    "\n",
    "즉 변수 할당에서는 함수 내 범위의 변수에만 적용된다."
   ]
  },
  {
   "cell_type": "code",
   "execution_count": 21,
   "metadata": {
    "collapsed": true
   },
   "outputs": [],
   "source": [
    "b = 6\n",
    "def f2(a):\n",
    "    print(a)\n",
    "    print(b)\n",
    "    b = 9"
   ]
  },
  {
   "cell_type": "code",
   "execution_count": 22,
   "metadata": {},
   "outputs": [
    {
     "name": "stdout",
     "output_type": "stream",
     "text": [
      "3\n"
     ]
    },
    {
     "ename": "UnboundLocalError",
     "evalue": "local variable 'b' referenced before assignment",
     "output_type": "error",
     "traceback": [
      "\u001b[1;31m---------------------------------------------------------------------------\u001b[0m",
      "\u001b[1;31mUnboundLocalError\u001b[0m                         Traceback (most recent call last)",
      "\u001b[1;32m<ipython-input-22-495132a335c0>\u001b[0m in \u001b[0;36m<module>\u001b[1;34m()\u001b[0m\n\u001b[1;32m----> 1\u001b[1;33m \u001b[0mf2\u001b[0m\u001b[1;33m(\u001b[0m\u001b[1;36m3\u001b[0m\u001b[1;33m)\u001b[0m\u001b[1;33m\u001b[0m\u001b[0m\n\u001b[0m",
      "\u001b[1;32m<ipython-input-21-0da5823e4f3b>\u001b[0m in \u001b[0;36mf2\u001b[1;34m(a)\u001b[0m\n\u001b[0;32m      2\u001b[0m \u001b[1;32mdef\u001b[0m \u001b[0mf2\u001b[0m\u001b[1;33m(\u001b[0m\u001b[0ma\u001b[0m\u001b[1;33m)\u001b[0m\u001b[1;33m:\u001b[0m\u001b[1;33m\u001b[0m\u001b[0m\n\u001b[0;32m      3\u001b[0m     \u001b[0mprint\u001b[0m\u001b[1;33m(\u001b[0m\u001b[0ma\u001b[0m\u001b[1;33m)\u001b[0m\u001b[1;33m\u001b[0m\u001b[0m\n\u001b[1;32m----> 4\u001b[1;33m     \u001b[0mprint\u001b[0m\u001b[1;33m(\u001b[0m\u001b[0mb\u001b[0m\u001b[1;33m)\u001b[0m\u001b[1;33m\u001b[0m\u001b[0m\n\u001b[0m\u001b[0;32m      5\u001b[0m     \u001b[0mb\u001b[0m \u001b[1;33m=\u001b[0m \u001b[1;36m9\u001b[0m\u001b[1;33m\u001b[0m\u001b[0m\n",
      "\u001b[1;31mUnboundLocalError\u001b[0m: local variable 'b' referenced before assignment"
     ]
    }
   ],
   "source": [
    "f2(3)"
   ]
  },
  {
   "cell_type": "markdown",
   "metadata": {},
   "source": [
    "물론 종종 변수 밖의 변수값을 수정할 필요가 있을 수 있다. 이때 사용하는 것이 global 키워드이다.   \n",
    "(혹은 global 키워드 없이 list같은 mutable 변수를 이용하는 방법도 있다.)"
   ]
  },
  {
   "cell_type": "code",
   "execution_count": 18,
   "metadata": {
    "collapsed": true
   },
   "outputs": [],
   "source": [
    "b = 6\n",
    "def f3(a):\n",
    "    global b\n",
    "    print(a)\n",
    "    print(b)\n",
    "    b = 9"
   ]
  },
  {
   "cell_type": "code",
   "execution_count": 19,
   "metadata": {},
   "outputs": [
    {
     "name": "stdout",
     "output_type": "stream",
     "text": [
      "3\n",
      "6\n"
     ]
    }
   ],
   "source": [
    "f3(3)"
   ]
  },
  {
   "cell_type": "code",
   "execution_count": 20,
   "metadata": {},
   "outputs": [
    {
     "data": {
      "text/plain": [
       "9"
      ]
     },
     "execution_count": 20,
     "metadata": {},
     "output_type": "execute_result"
    }
   ],
   "source": [
    "b"
   ]
  },
  {
   "cell_type": "markdown",
   "metadata": {},
   "source": [
    "## Item 16: Consider Generators Instead of Returning Lists"
   ]
  },
  {
   "cell_type": "markdown",
   "metadata": {},
   "source": [
    "어떤 목록을 반환하는 함수를 만들 때 list를 반환하기보다는 generator를 사용하는 방법이 더 좋을 수 있다.     \n",
    "예를들어 어떤 문장에서 단어가 시작되는 index들 알고자 한다고 해보자.    \n",
    "우선 간단하게는 아래와 같이 index들을 list 형태로 반환하는 형식으로 구현할 수 있다.   "
   ]
  },
  {
   "cell_type": "code",
   "execution_count": 28,
   "metadata": {
    "collapsed": true
   },
   "outputs": [],
   "source": [
    "def index_words(text):\n",
    "    result = []\n",
    "    if text:\n",
    "        result.append(0)\n",
    "    for index, letter in enumerate(text):\n",
    "        if letter == ' ':\n",
    "            result.append(index + 1)\n",
    "    return result"
   ]
  },
  {
   "cell_type": "code",
   "execution_count": 31,
   "metadata": {},
   "outputs": [
    {
     "name": "stdout",
     "output_type": "stream",
     "text": [
      "[0, 5, 11, 15, 21, 27]\n"
     ]
    }
   ],
   "source": [
    "result = index_words('Four score and seven years ago')\n",
    "print(result)"
   ]
  },
  {
   "cell_type": "markdown",
   "metadata": {},
   "source": [
    "그런데 위와 같은 방식의 함수 구현은 몇가지 문제점을 갖고 있다."
   ]
  },
  {
   "cell_type": "markdown",
   "metadata": {},
   "source": [
    "첫번째 문제는 코드 가독성이 떨어지고 지저분하다는 것이다. 빈칸이 보이면 index+1을 전달하는 것이 핵심인데, 위 코드에서는 result list에 append하는 등의 작업이 더 부각되어 보인다.     \n",
    "이런 방식의 구현보다는 아래와 같이 generator를 사용하는 권장한다. (generator는 yield를 이용해 결과를 반환하는 함수를 의미함)"
   ]
  },
  {
   "cell_type": "code",
   "execution_count": 32,
   "metadata": {
    "collapsed": true
   },
   "outputs": [],
   "source": [
    "def index_words_iter(text):\n",
    "    if text:\n",
    "        yield 0\n",
    "    for index, letter in enumerate(text):\n",
    "        if letter == ' ':\n",
    "            yield index + 1"
   ]
  },
  {
   "cell_type": "code",
   "execution_count": 33,
   "metadata": {},
   "outputs": [
    {
     "name": "stdout",
     "output_type": "stream",
     "text": [
      "[0, 5, 11, 15, 21, 27]\n"
     ]
    }
   ],
   "source": [
    "result = index_words('Four score and seven years ago')\n",
    "print(result)"
   ]
  },
  {
   "cell_type": "markdown",
   "metadata": {},
   "source": [
    "두번재 문제는 list 반환으로 구현할 경우 반환할 list의 크기에 따라 out of memory가 발생할 수 있다는 점이다.    \n",
    "반면 generator를 사용할 경우 한번 반환(yield)하는 값의 크기만큼의 메모리로 충분하다.    \n",
    "예를들어 파일을 읽어 단어가 시작되는 index들을 알고자 한다면 아래와 같이 generator를 이용해 구현할 수 있다."
   ]
  },
  {
   "cell_type": "code",
   "execution_count": 1,
   "metadata": {
    "collapsed": true
   },
   "outputs": [],
   "source": [
    "import os"
   ]
  },
  {
   "cell_type": "code",
   "execution_count": 2,
   "metadata": {},
   "outputs": [
    {
     "data": {
      "text/plain": [
       "'D:\\\\_PlayGround\\\\Github\\\\pg\\\\dev_python_data_eng'"
      ]
     },
     "execution_count": 2,
     "metadata": {},
     "output_type": "execute_result"
    }
   ],
   "source": [
    "os.getcwd()"
   ]
  },
  {
   "cell_type": "code",
   "execution_count": 36,
   "metadata": {
    "collapsed": true
   },
   "outputs": [],
   "source": [
    "def index_file(handle):\n",
    "    offset = 0\n",
    "    for line in handle:\n",
    "        if line:\n",
    "            yield offset  # Starting index of line\n",
    "        for letter in line:\n",
    "            offset += 1\n",
    "            if letter == ' ':\n",
    "                yield offset"
   ]
  },
  {
   "cell_type": "code",
   "execution_count": 37,
   "metadata": {},
   "outputs": [
    {
     "name": "stdout",
     "output_type": "stream",
     "text": [
      "[0, 4, 5, 15, 27, 30, 34, 43, 44, 45]\n"
     ]
    }
   ],
   "source": [
    "from itertools import islice\n",
    "\n",
    "file_path = './data/data.txt'\n",
    "with open(file_path, 'r') as f:\n",
    "    it = index_file(f)\n",
    "    results = islice(it, 0, 10)\n",
    "    print(list(results))"
   ]
  },
  {
   "cell_type": "code",
   "execution_count": null,
   "metadata": {
    "collapsed": true
   },
   "outputs": [],
   "source": []
  },
  {
   "cell_type": "code",
   "execution_count": null,
   "metadata": {
    "collapsed": true
   },
   "outputs": [],
   "source": []
  }
 ],
 "metadata": {
  "kernelspec": {
   "display_name": "Python 3",
   "language": "python",
   "name": "python3"
  },
  "language_info": {
   "codemirror_mode": {
    "name": "ipython",
    "version": 3
   },
   "file_extension": ".py",
   "mimetype": "text/x-python",
   "name": "python",
   "nbconvert_exporter": "python",
   "pygments_lexer": "ipython3",
   "version": "3.6.1"
  }
 },
 "nbformat": 4,
 "nbformat_minor": 2
}
