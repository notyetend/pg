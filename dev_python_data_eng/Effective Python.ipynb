{
 "cells": [
  {
   "cell_type": "markdown",
   "metadata": {},
   "source": [
    "###### Item 1: Know which Version of Python You're Using"
   ]
  },
  {
   "cell_type": "markdown",
   "metadata": {},
   "source": [
    "우선 아주 간단한 팁으로 시작합니다. 사용하고 있는 Python 버전을 확인하라는 것인데요. \n"
   ]
  },
  {
   "cell_type": "code",
   "execution_count": null,
   "metadata": {
    "collapsed": true
   },
   "outputs": [],
   "source": [
    "import sys\n",
    "print(sys.version_info)"
   ]
  },
  {
   "cell_type": "code",
   "execution_count": null,
   "metadata": {
    "collapsed": true
   },
   "outputs": [],
   "source": [
    "print(sys.version)"
   ]
  },
  {
   "cell_type": "markdown",
   "metadata": {},
   "source": [
    "위와 같은 명령으로 사용중인 Python 버전을 확인할 수 있습니다.   \n",
    "또한 가능한 Python3를 사용하라는 충고가 있습니다."
   ]
  },
  {
   "cell_type": "markdown",
   "metadata": {},
   "source": [
    "###### Item 2: Follow the PEP 8 Style Guide"
   ]
  },
  {
   "cell_type": "markdown",
   "metadata": {},
   "source": [
    "PEP(Python Enhancement Proposal)에는 파이썬에 대한 개선 제안, 구조에 대한 디자인 등 다양한 문서가 포함되어 있는데요. 그중에서도 8번 문서(<a href=\"https://www.python.org/dev/peps/pep-0008/\">PEP8</a>)에는 코딩 스타일 가이드를 담고 있습니다. \n"
   ]
  },
  {
   "cell_type": "markdown",
   "metadata": {},
   "source": [
    "."
   ]
  },
  {
   "cell_type": "markdown",
   "metadata": {},
   "source": [
    "###### Item 14 : Prefer Exceptions to Returning None"
   ]
  },
  {
   "cell_type": "markdown",
   "metadata": {},
   "source": [
    "함수 구현할 때 어떤 특이상태를 표현하기 위해 None을 return하도록 만들곤 한다.      \n",
    "그런데 이런 방식은 return 값에 대한 상태체크시 (잘 인지하지 못하는) 에러를 유발하곤 한다.     \n",
    "예를들어 아래 코드는 0으로 나누는 경우를 체크하려 하지만 분자가 0인 경우에도 'Invalid inputs'를 출력한다.      \n",
    "(if 문과 관련하여 아래 ※ if if if... (Item 14)를 참고)"
   ]
  },
  {
   "cell_type": "code",
   "execution_count": 57,
   "metadata": {
    "collapsed": true
   },
   "outputs": [],
   "source": [
    "def divide(a, b):\n",
    "    try:\n",
    "        return a / b\n",
    "    except ZeroDivisionError:\n",
    "        return None"
   ]
  },
  {
   "cell_type": "code",
   "execution_count": 58,
   "metadata": {},
   "outputs": [
    {
     "name": "stdout",
     "output_type": "stream",
     "text": [
      "Invalid inputs\n"
     ]
    }
   ],
   "source": [
    "x, y = 0, 5\n",
    "result = divide(x, y)\n",
    "if not result:\n",
    "    print('Invalid inputs')\n",
    "else:\n",
    "    print(result)"
   ]
  },
  {
   "cell_type": "code",
   "execution_count": 59,
   "metadata": {},
   "outputs": [
    {
     "name": "stdout",
     "output_type": "stream",
     "text": [
      "Invalid inputs\n"
     ]
    }
   ],
   "source": [
    "x, y = 1, 0\n",
    "result = divide(x, y)\n",
    "if result is None:\n",
    "    print('Invalid inputs')\n",
    "else:\n",
    "    print(result)"
   ]
  },
  {
   "cell_type": "markdown",
   "metadata": {},
   "source": [
    "이에 대한 첫번째 대안으로 이상 상태가 발생했는지 아닌지를 표현하는 flag를 원래 반환하려는 값과 함께 tuple로 반환하는 것이다."
   ]
  },
  {
   "cell_type": "code",
   "execution_count": 60,
   "metadata": {
    "collapsed": true
   },
   "outputs": [],
   "source": [
    "def divide(a, b):\n",
    "    try:\n",
    "        return True, a / b\n",
    "    except ZeroDivisionError:\n",
    "        return False, None"
   ]
  },
  {
   "cell_type": "code",
   "execution_count": 61,
   "metadata": {},
   "outputs": [
    {
     "name": "stdout",
     "output_type": "stream",
     "text": [
      "Invalid inputs\n"
     ]
    }
   ],
   "source": [
    "x, y = 1, 0\n",
    "success, result = divide(x, y)\n",
    "if not success:\n",
    "    print('Invalid inputs')\n",
    "else:\n",
    "    print(result)"
   ]
  },
  {
   "cell_type": "code",
   "execution_count": 62,
   "metadata": {},
   "outputs": [
    {
     "name": "stdout",
     "output_type": "stream",
     "text": [
      "0.0\n"
     ]
    }
   ],
   "source": [
    "x, y = 0, 5\n",
    "success, result = divide(x, y)\n",
    "if not success:\n",
    "    print('Invalid inputs')\n",
    "else:\n",
    "    print(result)"
   ]
  },
  {
   "cell_type": "markdown",
   "metadata": {},
   "source": [
    "(보다 나은) 두번째 대안으로 함수에서 에러가 발생하면 그냥 에러를 raise해서 호출한쪽에서 에러를 처리하게 하는 것이다. "
   ]
  },
  {
   "cell_type": "code",
   "execution_count": 63,
   "metadata": {
    "collapsed": true
   },
   "outputs": [],
   "source": [
    "def divide(a, b):\n",
    "    try:\n",
    "        return a / b\n",
    "    except ZeroDivisionError as e:\n",
    "        raise ValueError('Invalid inputs') from e"
   ]
  },
  {
   "cell_type": "code",
   "execution_count": 65,
   "metadata": {},
   "outputs": [
    {
     "name": "stdout",
     "output_type": "stream",
     "text": [
      "Invalid inputs\n"
     ]
    }
   ],
   "source": [
    "x, y = 1, 0\n",
    "try:\n",
    "    result = divide(x, y)\n",
    "except ValueError:\n",
    "    print('Invalid inputs')\n",
    "else:\n",
    "    print('Result is %.1f' %result)"
   ]
  },
  {
   "cell_type": "code",
   "execution_count": 66,
   "metadata": {},
   "outputs": [
    {
     "name": "stdout",
     "output_type": "stream",
     "text": [
      "Result is 0.0\n"
     ]
    }
   ],
   "source": [
    "x, y = 0, 5\n",
    "try:\n",
    "    result = divide(x, y)\n",
    "except ValueError:\n",
    "    print('Invalid inputs')\n",
    "else:\n",
    "    print('Result is %.1f' %result)"
   ]
  },
  {
   "cell_type": "markdown",
   "metadata": {},
   "source": [
    "."
   ]
  },
  {
   "cell_type": "markdown",
   "metadata": {},
   "source": [
    "---"
   ]
  },
  {
   "cell_type": "markdown",
   "metadata": {},
   "source": [
    "###### if if if ..."
   ]
  },
  {
   "cell_type": "markdown",
   "metadata": {},
   "source": [
    "아래와 같이 x값을 테스트 하는 함수가 있고"
   ]
  },
  {
   "cell_type": "code",
   "execution_count": null,
   "metadata": {
    "collapsed": true
   },
   "outputs": [],
   "source": [
    "def test_if(x):\n",
    "    if x:\n",
    "        print('O', end='')\n",
    "    else:\n",
    "        print('X', end='')\n",
    "    \n",
    "    if x is True:\n",
    "        print('O', end='')\n",
    "    else:\n",
    "        print('X', end='')\n",
    "        \n",
    "    if x == True:\n",
    "        print('O', end='')\n",
    "    else:\n",
    "        print('X', end='')"
   ]
  },
  {
   "cell_type": "markdown",
   "metadata": {},
   "source": [
    "x가 ﻿2, 1, 0, -1, -2, None, '', True 인 각각의 경우 출력값은?"
   ]
  },
  {
   "cell_type": "code",
   "execution_count": 22,
   "metadata": {},
   "outputs": [
    {
     "name": "stdout",
     "output_type": "stream",
     "text": [
      "OXX"
     ]
    }
   ],
   "source": [
    "test_if(2)"
   ]
  },
  {
   "cell_type": "code",
   "execution_count": 23,
   "metadata": {},
   "outputs": [
    {
     "name": "stdout",
     "output_type": "stream",
     "text": [
      "OXO"
     ]
    }
   ],
   "source": [
    "test_if(1)"
   ]
  },
  {
   "cell_type": "code",
   "execution_count": 24,
   "metadata": {},
   "outputs": [
    {
     "name": "stdout",
     "output_type": "stream",
     "text": [
      "XXX"
     ]
    }
   ],
   "source": [
    "test_if(0)"
   ]
  },
  {
   "cell_type": "code",
   "execution_count": 25,
   "metadata": {},
   "outputs": [
    {
     "name": "stdout",
     "output_type": "stream",
     "text": [
      "OXX"
     ]
    }
   ],
   "source": [
    "test_if(-1)"
   ]
  },
  {
   "cell_type": "code",
   "execution_count": 26,
   "metadata": {},
   "outputs": [
    {
     "name": "stdout",
     "output_type": "stream",
     "text": [
      "OXX"
     ]
    }
   ],
   "source": [
    "test_if(-2)"
   ]
  },
  {
   "cell_type": "code",
   "execution_count": 27,
   "metadata": {},
   "outputs": [
    {
     "name": "stdout",
     "output_type": "stream",
     "text": [
      "XXX"
     ]
    }
   ],
   "source": [
    "test_if(None)"
   ]
  },
  {
   "cell_type": "code",
   "execution_count": 28,
   "metadata": {},
   "outputs": [
    {
     "name": "stdout",
     "output_type": "stream",
     "text": [
      "XXX"
     ]
    }
   ],
   "source": [
    "test_if('')"
   ]
  },
  {
   "cell_type": "code",
   "execution_count": 29,
   "metadata": {},
   "outputs": [
    {
     "name": "stdout",
     "output_type": "stream",
     "text": [
      "OOO"
     ]
    }
   ],
   "source": [
    "test_if(True)"
   ]
  },
  {
   "cell_type": "markdown",
   "metadata": {},
   "source": [
    "- `if x:`는 x가 0, None, ''이 아니면 True.    \n",
    "- `if x is True`는 x가 True일때만 True.    \n",
    "- `if x == True`는 x가 1이나 True이면 True."
   ]
  },
  {
   "cell_type": "markdown",
   "metadata": {},
   "source": [
    "###### Metaclass"
   ]
  },
  {
   "cell_type": "markdown",
   "metadata": {},
   "source": [
    "."
   ]
  },
  {
   "cell_type": "markdown",
   "metadata": {},
   "source": [
    "###### Decorator"
   ]
  },
  {
   "cell_type": "markdown",
   "metadata": {},
   "source": [
    "입력 함수에 양념을 더한 함수 혹은 전혀 새로운 함수를 반환하는 '호출 가능한 어떤 것'(callable)을 말한다.   \n",
    "\n",
    "아래 코드는 **deco**라는 이름의 decorator를 이용해 target 함수를 inner()로 변경하고 있다."
   ]
  },
  {
   "cell_type": "code",
   "execution_count": 35,
   "metadata": {},
   "outputs": [
    {
     "name": "stdout",
     "output_type": "stream",
     "text": [
      "Decorating func: <function target at 0x000001C90812A840>\n"
     ]
    }
   ],
   "source": [
    "def deco(func):\n",
    "    print('Decorating func:', func)\n",
    "    \n",
    "    def inner():\n",
    "        print('Inner function')\n",
    "        \n",
    "    return inner\n",
    "\n",
    "@deco\n",
    "def target():\n",
    "    print('Running target()')\n",
    "\n",
    "decorated_target = target"
   ]
  },
  {
   "cell_type": "code",
   "execution_count": 38,
   "metadata": {
    "scrolled": false
   },
   "outputs": [
    {
     "name": "stdout",
     "output_type": "stream",
     "text": [
      "Inner function\n"
     ]
    }
   ],
   "source": [
    "decorated_target()"
   ]
  },
  {
   "cell_type": "markdown",
   "metadata": {},
   "source": [
    "사실 위 코드는 아래 코드와 같으며, 함수를 decorator 함수로 양념/포장/데코하는 것이다."
   ]
  },
  {
   "cell_type": "code",
   "execution_count": 39,
   "metadata": {},
   "outputs": [
    {
     "name": "stdout",
     "output_type": "stream",
     "text": [
      "Decorating func: <function target at 0x000001C9080FABF8>\n"
     ]
    }
   ],
   "source": [
    "def deco(func):\n",
    "    print('Decorating func:', func)\n",
    "    \n",
    "    def inner():\n",
    "        print('Inner function')\n",
    "        \n",
    "    return inner\n",
    "\n",
    "def target():\n",
    "    print('Running target()')\n",
    "\n",
    "decorated_target = deco(target)"
   ]
  },
  {
   "cell_type": "code",
   "execution_count": 40,
   "metadata": {},
   "outputs": [
    {
     "name": "stdout",
     "output_type": "stream",
     "text": [
      "Inner function\n"
     ]
    }
   ],
   "source": [
    "decorated_target()"
   ]
  },
  {
   "cell_type": "markdown",
   "metadata": {},
   "source": [
    "주의할 점은 decorator가 실행되는 시점은 타겟 함수가 정의된 시점(import 시점, loading 시점)이라는 것이다. 물론 decorated 함수(위 예에서는 target함수)가 실행되는 시점은 그 함수가 호출되는 시점(runtime)이다. 또한 decorator를 이용해 입력받은 함수를 완전히 새로운 함수로 대체 할수도 있고, 입력 받은 함수를 그대로 반환하기도 한다. 그대로 반환하는 것은 보통 http 모듈에서 URL 패턴을 등록하는 것과 같이 특정 목적의 함수 목록을 관리할 필요가 있을 때 사용된다."
   ]
  },
  {
   "cell_type": "markdown",
   "metadata": {},
   "source": [
    "###### Closures"
   ]
  },
  {
   "cell_type": "markdown",
   "metadata": {},
   "source": [
    "Closure는 자신이 정의하지 않은 nonglobal 변수를 포함하는 함수를 말한다. (a closure is a function that retains the bindings of the free variables that exist when the function is defined, so that they can be used later when the function is invoked and the defining scope is no longer available... / Fluent Python, p201)\n",
    "\n",
    "예를들어 아래 'printer'는 inner_printer에서 정의하지 않은 (outer_printer의 local)변수 x를 포함하고 있으며, 호출시에는 y값만 인자로 전달한다. \n",
    "\n",
    "변수 x는 outer_printer의 scope에 존재하므로 'return inner_printer' 이후 이 scope은 존재하지 않고 x도 사라지는 것처럼 보이지만, 이 변수는 inner_printer에서 **사용**(읽기)되면서 이 함수 정의에 포함되어 전달된다.\n",
    "\n",
    "주의할점은 **사용**이 읽기가 아니라 쓰기일 경우 그 의미가 크게 달라지는데.. 이 부분은 나중에 설명하기로 한다."
   ]
  },
  {
   "cell_type": "code",
   "execution_count": 114,
   "metadata": {
    "collapsed": true
   },
   "outputs": [],
   "source": [
    "def outer_printer(x):\n",
    "    def inner_printer(y):\n",
    "        print('closure variable:', x)\n",
    "        print('local variable  :', y)\n",
    "        \n",
    "    return inner_printer"
   ]
  },
  {
   "cell_type": "code",
   "execution_count": 115,
   "metadata": {},
   "outputs": [],
   "source": [
    "printer = outer_printer(x=100)"
   ]
  },
  {
   "cell_type": "code",
   "execution_count": 116,
   "metadata": {},
   "outputs": [
    {
     "name": "stdout",
     "output_type": "stream",
     "text": [
      "closure variable: 100\n",
      "local variable  : 200\n"
     ]
    }
   ],
   "source": [
    "printer(y=200)"
   ]
  },
  {
   "cell_type": "markdown",
   "metadata": {},
   "source": [
    "closure는 함수의 `__closure__`변수를 통해 접근할 수 있다."
   ]
  },
  {
   "cell_type": "code",
   "execution_count": 117,
   "metadata": {
    "scrolled": false
   },
   "outputs": [
    {
     "name": "stdout",
     "output_type": "stream",
     "text": [
      "(<cell at 0x000001C90810BB28: int object at 0x0000000056B9F630>,)\n",
      "100\n"
     ]
    }
   ],
   "source": [
    "print(printer.__closure__)\n",
    "print(printer.__closure__[0].cell_contents)"
   ]
  },
  {
   "cell_type": "markdown",
   "metadata": {},
   "source": [
    "또한 `__code__.co_freevars`를 통해 closure 변수의 이름을 확인할 수 있다."
   ]
  },
  {
   "cell_type": "code",
   "execution_count": 118,
   "metadata": {},
   "outputs": [
    {
     "data": {
      "text/plain": [
       "('x',)"
      ]
     },
     "execution_count": 118,
     "metadata": {},
     "output_type": "execute_result"
    }
   ],
   "source": [
    "printer.__code__.co_freevars"
   ]
  },
  {
   "cell_type": "markdown",
   "metadata": {},
   "source": [
    "참고로 함수의 local 변수는 아래와 같이 `__code__.co_varnames`로 확인할 수 있다."
   ]
  },
  {
   "cell_type": "code",
   "execution_count": 121,
   "metadata": {},
   "outputs": [
    {
     "data": {
      "text/plain": [
       "('y',)"
      ]
     },
     "execution_count": 121,
     "metadata": {},
     "output_type": "execute_result"
    }
   ],
   "source": [
    "printer.__code__.co_varnames"
   ]
  },
  {
   "cell_type": "markdown",
   "metadata": {},
   "source": [
    "참고로2 앞서 예제 코드는 아래와 같이 구현할수도 있다."
   ]
  },
  {
   "cell_type": "code",
   "execution_count": 125,
   "metadata": {},
   "outputs": [],
   "source": [
    "class OuterPrinter:\n",
    "    def __init__(self, x):\n",
    "        self.x = x\n",
    "        \n",
    "    def __call__(self, y):\n",
    "        print('closure variable:', self.x)\n",
    "        print('local variable  :', y)"
   ]
  },
  {
   "cell_type": "code",
   "execution_count": 126,
   "metadata": {
    "collapsed": true
   },
   "outputs": [],
   "source": [
    "printer = OuterPrinter(x=100)"
   ]
  },
  {
   "cell_type": "code",
   "execution_count": 127,
   "metadata": {},
   "outputs": [
    {
     "name": "stdout",
     "output_type": "stream",
     "text": [
      "closure variable: 100\n",
      "local variable  : 200\n"
     ]
    }
   ],
   "source": [
    "printer(200)"
   ]
  },
  {
   "cell_type": "markdown",
   "metadata": {},
   "source": [
    "."
   ]
  },
  {
   "cell_type": "markdown",
   "metadata": {},
   "source": [
    "참고 페이지 : https://www.programiz.com/python-programming/closure"
   ]
  },
  {
   "cell_type": "markdown",
   "metadata": {},
   "source": [
    "."
   ]
  },
  {
   "cell_type": "markdown",
   "metadata": {},
   "source": [
    "."
   ]
  }
 ],
 "metadata": {
  "kernelspec": {
   "display_name": "Python 3",
   "language": "python",
   "name": "python3"
  },
  "language_info": {
   "codemirror_mode": {
    "name": "ipython",
    "version": 3
   },
   "file_extension": ".py",
   "mimetype": "text/x-python",
   "name": "python",
   "nbconvert_exporter": "python",
   "pygments_lexer": "ipython3",
   "version": "3.6.1"
  }
 },
 "nbformat": 4,
 "nbformat_minor": 2
}
