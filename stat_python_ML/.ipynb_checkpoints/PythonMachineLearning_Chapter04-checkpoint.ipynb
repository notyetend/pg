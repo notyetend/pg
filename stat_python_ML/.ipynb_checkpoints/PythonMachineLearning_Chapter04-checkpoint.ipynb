{
 "cells": [
  {
   "cell_type": "markdown",
   "metadata": {},
   "source": [
    "# Chapter 4. Building Good Training Sets - Data Preprocessing"
   ]
  },
  {
   "cell_type": "markdown",
   "metadata": {},
   "source": [
    "### 4.1. Dealing with missing data"
   ]
  },
  {
   "cell_type": "markdown",
   "metadata": {},
   "source": [
    "결측값(missing value)은 일부 관측개체의 일부 변수에서 관측값이 얻어지지 않아 'NA'(not available)로 남은 것인데 어느 정도 규모의 자료에서는 불가피하다. 결측값을 포기(무시)하고 관측자료만을 분석하게 되면 많은 경우 통계적 편향(bias)이 생긴다. - [허명회, 2014, 응용데이터분석, 5장 中]"
   ]
  },
  {
   "cell_type": "markdown",
   "metadata": {},
   "source": [
    "###### 4.1.1 결측값 제거"
   ]
  },
  {
   "cell_type": "markdown",
   "metadata": {},
   "source": [
    "결측값에 대처하는 방법으로 가장 간단한 방법은 해당 컬럼 혹은 행을 분석에서 제외하는 것이다. 예를들어 표본조사 데이터에서 주소에 대한 컬럼에 누락값이 지나치게 많다면 해당 컬럼을 제외하고 분석을 진행하게 된다. 혹은 특정 표본에서 누락된 변수값이 많다면 이 행을 제외하는 선택을 할 수 있다."
   ]
  },
  {
   "cell_type": "markdown",
   "metadata": {},
   "source": [
    "> 결측값(NaN)이 포함된 데이터 생성"
   ]
  },
  {
   "cell_type": "code",
   "execution_count": 10,
   "metadata": {
    "collapsed": false
   },
   "outputs": [
    {
     "data": {
      "text/html": [
       "<div>\n",
       "<table border=\"1\" class=\"dataframe\">\n",
       "  <thead>\n",
       "    <tr style=\"text-align: right;\">\n",
       "      <th></th>\n",
       "      <th>A</th>\n",
       "      <th>B</th>\n",
       "      <th>C</th>\n",
       "      <th>D</th>\n",
       "    </tr>\n",
       "  </thead>\n",
       "  <tbody>\n",
       "    <tr>\n",
       "      <th>0</th>\n",
       "      <td>1.0</td>\n",
       "      <td>2.0</td>\n",
       "      <td>3.0</td>\n",
       "      <td>4.0</td>\n",
       "    </tr>\n",
       "    <tr>\n",
       "      <th>1</th>\n",
       "      <td>5.0</td>\n",
       "      <td>6.0</td>\n",
       "      <td>NaN</td>\n",
       "      <td>8.0</td>\n",
       "    </tr>\n",
       "    <tr>\n",
       "      <th>2</th>\n",
       "      <td>0.0</td>\n",
       "      <td>11.0</td>\n",
       "      <td>12.0</td>\n",
       "      <td>NaN</td>\n",
       "    </tr>\n",
       "  </tbody>\n",
       "</table>\n",
       "</div>"
      ],
      "text/plain": [
       "     A     B     C    D\n",
       "0  1.0   2.0   3.0  4.0\n",
       "1  5.0   6.0   NaN  8.0\n",
       "2  0.0  11.0  12.0  NaN"
      ]
     },
     "execution_count": 10,
     "metadata": {},
     "output_type": "execute_result"
    }
   ],
   "source": [
    "# Sample data w/missing value\n",
    "import pandas as pd\n",
    "from io import StringIO\n",
    "csv_data = '''A,B,C,D\n",
    "1.0,2.0,3.0,4.0\n",
    "5.0,6.0,,8.0\n",
    "0.0,11.0,12.0,'''\n",
    "# If you are using Python 2.7, you need\n",
    "# to convert the string to unicode:\n",
    "# csv_data = unicode(csv_data)\n",
    "df = pd.read_csv(StringIO(csv_data))\n",
    "df"
   ]
  },
  {
   "cell_type": "markdown",
   "metadata": {},
   "source": [
    "> 각 컬럼에 null 값이 몇개인지 확인"
   ]
  },
  {
   "cell_type": "code",
   "execution_count": 11,
   "metadata": {
    "collapsed": false
   },
   "outputs": [
    {
     "data": {
      "text/plain": [
       "A    0\n",
       "B    0\n",
       "C    1\n",
       "D    1\n",
       "dtype: int64"
      ]
     },
     "execution_count": 11,
     "metadata": {},
     "output_type": "execute_result"
    }
   ],
   "source": [
    "df.isnull().sum()"
   ]
  },
  {
   "cell_type": "markdown",
   "metadata": {},
   "source": [
    "> NA 가 포함된 행을 제거, (1번, 2번 행이 제거됨)"
   ]
  },
  {
   "cell_type": "code",
   "execution_count": 12,
   "metadata": {
    "collapsed": false
   },
   "outputs": [
    {
     "data": {
      "text/html": [
       "<div>\n",
       "<table border=\"1\" class=\"dataframe\">\n",
       "  <thead>\n",
       "    <tr style=\"text-align: right;\">\n",
       "      <th></th>\n",
       "      <th>A</th>\n",
       "      <th>B</th>\n",
       "      <th>C</th>\n",
       "      <th>D</th>\n",
       "    </tr>\n",
       "  </thead>\n",
       "  <tbody>\n",
       "    <tr>\n",
       "      <th>0</th>\n",
       "      <td>1.0</td>\n",
       "      <td>2.0</td>\n",
       "      <td>3.0</td>\n",
       "      <td>4.0</td>\n",
       "    </tr>\n",
       "  </tbody>\n",
       "</table>\n",
       "</div>"
      ],
      "text/plain": [
       "     A    B    C    D\n",
       "0  1.0  2.0  3.0  4.0"
      ]
     },
     "execution_count": 12,
     "metadata": {},
     "output_type": "execute_result"
    }
   ],
   "source": [
    "df.dropna()"
   ]
  },
  {
   "cell_type": "markdown",
   "metadata": {},
   "source": [
    "> 1번째 열(C)을 제거"
   ]
  },
  {
   "cell_type": "code",
   "execution_count": 13,
   "metadata": {
    "collapsed": false
   },
   "outputs": [
    {
     "data": {
      "text/html": [
       "<div>\n",
       "<table border=\"1\" class=\"dataframe\">\n",
       "  <thead>\n",
       "    <tr style=\"text-align: right;\">\n",
       "      <th></th>\n",
       "      <th>A</th>\n",
       "      <th>B</th>\n",
       "    </tr>\n",
       "  </thead>\n",
       "  <tbody>\n",
       "    <tr>\n",
       "      <th>0</th>\n",
       "      <td>1.0</td>\n",
       "      <td>2.0</td>\n",
       "    </tr>\n",
       "    <tr>\n",
       "      <th>1</th>\n",
       "      <td>5.0</td>\n",
       "      <td>6.0</td>\n",
       "    </tr>\n",
       "    <tr>\n",
       "      <th>2</th>\n",
       "      <td>0.0</td>\n",
       "      <td>11.0</td>\n",
       "    </tr>\n",
       "  </tbody>\n",
       "</table>\n",
       "</div>"
      ],
      "text/plain": [
       "     A     B\n",
       "0  1.0   2.0\n",
       "1  5.0   6.0\n",
       "2  0.0  11.0"
      ]
     },
     "execution_count": 13,
     "metadata": {},
     "output_type": "execute_result"
    }
   ],
   "source": [
    "df.dropna(axis=1)"
   ]
  },
  {
   "cell_type": "markdown",
   "metadata": {},
   "source": [
    "> 모든 값이 NaN인 행만 제거(이 데이터에는 모든 값이 NaN인 행은 없음)"
   ]
  },
  {
   "cell_type": "code",
   "execution_count": 14,
   "metadata": {
    "collapsed": false
   },
   "outputs": [
    {
     "data": {
      "text/html": [
       "<div>\n",
       "<table border=\"1\" class=\"dataframe\">\n",
       "  <thead>\n",
       "    <tr style=\"text-align: right;\">\n",
       "      <th></th>\n",
       "      <th>A</th>\n",
       "      <th>B</th>\n",
       "      <th>C</th>\n",
       "      <th>D</th>\n",
       "    </tr>\n",
       "  </thead>\n",
       "  <tbody>\n",
       "    <tr>\n",
       "      <th>0</th>\n",
       "      <td>1.0</td>\n",
       "      <td>2.0</td>\n",
       "      <td>3.0</td>\n",
       "      <td>4.0</td>\n",
       "    </tr>\n",
       "    <tr>\n",
       "      <th>1</th>\n",
       "      <td>5.0</td>\n",
       "      <td>6.0</td>\n",
       "      <td>NaN</td>\n",
       "      <td>8.0</td>\n",
       "    </tr>\n",
       "    <tr>\n",
       "      <th>2</th>\n",
       "      <td>0.0</td>\n",
       "      <td>11.0</td>\n",
       "      <td>12.0</td>\n",
       "      <td>NaN</td>\n",
       "    </tr>\n",
       "  </tbody>\n",
       "</table>\n",
       "</div>"
      ],
      "text/plain": [
       "     A     B     C    D\n",
       "0  1.0   2.0   3.0  4.0\n",
       "1  5.0   6.0   NaN  8.0\n",
       "2  0.0  11.0  12.0  NaN"
      ]
     },
     "execution_count": 14,
     "metadata": {},
     "output_type": "execute_result"
    }
   ],
   "source": [
    "df.dropna(how='all')"
   ]
  },
  {
   "cell_type": "markdown",
   "metadata": {},
   "source": [
    "> 4개 이상 NaN이 아닌 값이 포함되지 않은 행을 제거"
   ]
  },
  {
   "cell_type": "code",
   "execution_count": 15,
   "metadata": {
    "collapsed": false
   },
   "outputs": [
    {
     "data": {
      "text/html": [
       "<div>\n",
       "<table border=\"1\" class=\"dataframe\">\n",
       "  <thead>\n",
       "    <tr style=\"text-align: right;\">\n",
       "      <th></th>\n",
       "      <th>A</th>\n",
       "      <th>B</th>\n",
       "      <th>C</th>\n",
       "      <th>D</th>\n",
       "    </tr>\n",
       "  </thead>\n",
       "  <tbody>\n",
       "    <tr>\n",
       "      <th>0</th>\n",
       "      <td>1.0</td>\n",
       "      <td>2.0</td>\n",
       "      <td>3.0</td>\n",
       "      <td>4.0</td>\n",
       "    </tr>\n",
       "  </tbody>\n",
       "</table>\n",
       "</div>"
      ],
      "text/plain": [
       "     A    B    C    D\n",
       "0  1.0  2.0  3.0  4.0"
      ]
     },
     "execution_count": 15,
     "metadata": {},
     "output_type": "execute_result"
    }
   ],
   "source": [
    "df.dropna(thresh=4)"
   ]
  },
  {
   "cell_type": "markdown",
   "metadata": {},
   "source": [
    "> C열에 NaN이 포함된 열은 제거"
   ]
  },
  {
   "cell_type": "code",
   "execution_count": 16,
   "metadata": {
    "collapsed": false
   },
   "outputs": [
    {
     "data": {
      "text/html": [
       "<div>\n",
       "<table border=\"1\" class=\"dataframe\">\n",
       "  <thead>\n",
       "    <tr style=\"text-align: right;\">\n",
       "      <th></th>\n",
       "      <th>A</th>\n",
       "      <th>B</th>\n",
       "      <th>C</th>\n",
       "      <th>D</th>\n",
       "    </tr>\n",
       "  </thead>\n",
       "  <tbody>\n",
       "    <tr>\n",
       "      <th>0</th>\n",
       "      <td>1.0</td>\n",
       "      <td>2.0</td>\n",
       "      <td>3.0</td>\n",
       "      <td>4.0</td>\n",
       "    </tr>\n",
       "    <tr>\n",
       "      <th>2</th>\n",
       "      <td>0.0</td>\n",
       "      <td>11.0</td>\n",
       "      <td>12.0</td>\n",
       "      <td>NaN</td>\n",
       "    </tr>\n",
       "  </tbody>\n",
       "</table>\n",
       "</div>"
      ],
      "text/plain": [
       "     A     B     C    D\n",
       "0  1.0   2.0   3.0  4.0\n",
       "2  0.0  11.0  12.0  NaN"
      ]
     },
     "execution_count": 16,
     "metadata": {},
     "output_type": "execute_result"
    }
   ],
   "source": [
    "df.dropna(subset=['C'])"
   ]
  },
  {
   "cell_type": "markdown",
   "metadata": {},
   "source": [
    "###### 4.1.2. 결측값 대체(imputation)"
   ]
  },
  {
   "cell_type": "markdown",
   "metadata": {},
   "source": [
    "결측값이 포함된 행이나 열을 제거하는 방법은 간편하기는 하지만 그런 행이나 열이 많아지면 데이터의 편향을 가져오게 된다. 측 남자와 여자 각각 50명식 표본조사를 했고 어떤 문제로 인해 남자들이 특정 설문에 대거 응답하지 않아 해당하는 행들을 모두 분석데이터에서 제거한다면, 그 분석 데이터는 모집단의 특성을 잘 반영하지 못하게 된다."
   ]
  },
  {
   "cell_type": "markdown",
   "metadata": {},
   "source": [
    "결측값을 제거하는 것이 적절하지 않은 상황이라면 결측값을 어떤 다른 값으로 대체하는 방법(Missing value imputation)을 선택할 수 있다. 어떤 값으로 결측값을 대체 해야한다면, (알수는 없는) 실제 값과 가장 가까운 값으로 대체할 수 있다면 좋을 것이다. 간단한 아이디어로는 데이터 컬럼의 평균값/중간값/최빈값 등으로 대체할 수도 있고, 값이 있는 컬럼을 기반으로 유사한 특성을 갖는 다른 행들이 갖는 값과 유사한 값으로 대체할 수도 있을 것이다. "
   ]
  },
  {
   "cell_type": "markdown",
   "metadata": {},
   "source": [
    "> 결측값을 각 열의 평균으로 대체"
   ]
  },
  {
   "cell_type": "code",
   "execution_count": 17,
   "metadata": {
    "collapsed": false
   },
   "outputs": [
    {
     "data": {
      "text/html": [
       "<div>\n",
       "<table border=\"1\" class=\"dataframe\">\n",
       "  <thead>\n",
       "    <tr style=\"text-align: right;\">\n",
       "      <th></th>\n",
       "      <th>A</th>\n",
       "      <th>B</th>\n",
       "      <th>C</th>\n",
       "      <th>D</th>\n",
       "    </tr>\n",
       "  </thead>\n",
       "  <tbody>\n",
       "    <tr>\n",
       "      <th>0</th>\n",
       "      <td>1.0</td>\n",
       "      <td>2.0</td>\n",
       "      <td>3.0</td>\n",
       "      <td>4.0</td>\n",
       "    </tr>\n",
       "    <tr>\n",
       "      <th>1</th>\n",
       "      <td>5.0</td>\n",
       "      <td>6.0</td>\n",
       "      <td>NaN</td>\n",
       "      <td>8.0</td>\n",
       "    </tr>\n",
       "    <tr>\n",
       "      <th>2</th>\n",
       "      <td>0.0</td>\n",
       "      <td>11.0</td>\n",
       "      <td>12.0</td>\n",
       "      <td>NaN</td>\n",
       "    </tr>\n",
       "  </tbody>\n",
       "</table>\n",
       "</div>"
      ],
      "text/plain": [
       "     A     B     C    D\n",
       "0  1.0   2.0   3.0  4.0\n",
       "1  5.0   6.0   NaN  8.0\n",
       "2  0.0  11.0  12.0  NaN"
      ]
     },
     "execution_count": 17,
     "metadata": {},
     "output_type": "execute_result"
    }
   ],
   "source": [
    "# Sample data w/missing value\n",
    "import pandas as pd\n",
    "from io import StringIO\n",
    "csv_data = '''A,B,C,D\n",
    "1.0,2.0,3.0,4.0\n",
    "5.0,6.0,,8.0\n",
    "0.0,11.0,12.0,'''\n",
    "# If you are using Python 2.7, you need\n",
    "# to convert the string to unicode:\n",
    "# csv_data = unicode(csv_data)\n",
    "df = pd.read_csv(StringIO(csv_data))\n",
    "df"
   ]
  },
  {
   "cell_type": "code",
   "execution_count": 18,
   "metadata": {
    "collapsed": false
   },
   "outputs": [
    {
     "data": {
      "text/plain": [
       "array([[  1. ,   2. ,   3. ,   4. ],\n",
       "       [  5. ,   6. ,   7.5,   8. ],\n",
       "       [  0. ,  11. ,  12. ,   6. ]])"
      ]
     },
     "execution_count": 18,
     "metadata": {},
     "output_type": "execute_result"
    }
   ],
   "source": [
    "from sklearn.preprocessing import Imputer\n",
    "imr = Imputer(missing_values='NaN', strategy='mean', axis=0)\n",
    "# strategy: mean, median, most_frequent\n",
    "# axis: 0 for column, 1 for row\n",
    "imr = imr.fit(df)\n",
    "imputed_data = imr.transform(df.values)\n",
    "imputed_data"
   ]
  },
  {
   "cell_type": "markdown",
   "metadata": {},
   "source": [
    "### 4.2. Handling categorical data"
   ]
  },
  {
   "cell_type": "markdown",
   "metadata": {},
   "source": [
    "■ 데이터 값은 그 특성에 따라 아래 4가지로 나눌 수 있다.\n",
    "1. 명목 척도(Nominal scale): 순서 없는 범주형 / 범주간 비교 불가, 예) 남자/여자\n",
    "2. 순서 척도(Ordinal scale): 순서 있는 범주형 / 범주간 비교 가능, 예) 긍정, 보통, 부정\n",
    "3. 간격 척도(Interval scale): 연속형의 상대적인 수치 / 의미있는 원점이 없음, 예) 섭씨온도\n",
    "4. 비율 척도(Ratio scale): 의미있는 원점이 있는 연속형의 상대적 수치, 예) \n",
    "\n",
    "1번과 2번은 정성적, 비계량형(Nonmetric) 값으로서 범주형 이라 하고    \n",
    "3번과 4번은 정량적, 계량형(Metric)값으로 연속형 이라 한다.\n",
    "\n",
    "■ 그런데 데이터 값이 명목형 일 경우 특별한 고려/처리가 필요하다. 명목형 변수를 그 자체로 순서나 비교 혹은 사칙 연산이 의미를 갖지 못하고 한 변수로 범주에 속함을 표현한다면 의도 하지 않은 정보를 분석 모형에 주게 된다. 예를들어 성별을 나타내는 열이 있고 남자를 1 여자를 2로 표시 했을 때, 하나의 열을 그대로 분석 모형에 사용할 경우 여자가 남자의 2배라거나 크다는 식의 정보를 의도치 않게 부여하게 된다.         \n",
    "\n",
    "또한 분석을 위한 데이터셋은 각 열이 대상의 특성을 나타내는 변수이고, 분석 모형은 각 변수의 영향에 따른 결과값을 알아보기 위한 것 이므로, 데이터셋의 각 변수는 대상에 대한 하나의 속성을 나타내야한다.    \n",
    "\n",
    "따라서 범주형 변수의 경우 indicator 혹은 dummy 변수를 사용하여 각 범주에 속하는지를 표현하는 변수를 나누게 된다. 예를들어 어떤 데이터의 성별을 나타내는 (1:남/2:여)열이 있다면 이를 '남자 이냐'라는 변수와 '여자 이냐'라는 2개의 변수로 나눈다."
   ]
  },
  {
   "cell_type": "markdown",
   "metadata": {},
   "source": [
    "> 범주형 변수를 포함하는 예시 데이터"
   ]
  },
  {
   "cell_type": "code",
   "execution_count": 19,
   "metadata": {
    "collapsed": false
   },
   "outputs": [
    {
     "data": {
      "text/html": [
       "<div>\n",
       "<table border=\"1\" class=\"dataframe\">\n",
       "  <thead>\n",
       "    <tr style=\"text-align: right;\">\n",
       "      <th></th>\n",
       "      <th>color</th>\n",
       "      <th>size</th>\n",
       "      <th>price</th>\n",
       "      <th>classlabel</th>\n",
       "    </tr>\n",
       "  </thead>\n",
       "  <tbody>\n",
       "    <tr>\n",
       "      <th>0</th>\n",
       "      <td>green</td>\n",
       "      <td>M</td>\n",
       "      <td>10.1</td>\n",
       "      <td>class1</td>\n",
       "    </tr>\n",
       "    <tr>\n",
       "      <th>1</th>\n",
       "      <td>red</td>\n",
       "      <td>L</td>\n",
       "      <td>13.5</td>\n",
       "      <td>class2</td>\n",
       "    </tr>\n",
       "    <tr>\n",
       "      <th>2</th>\n",
       "      <td>blue</td>\n",
       "      <td>XL</td>\n",
       "      <td>15.3</td>\n",
       "      <td>class1</td>\n",
       "    </tr>\n",
       "  </tbody>\n",
       "</table>\n",
       "</div>"
      ],
      "text/plain": [
       "   color size  price classlabel\n",
       "0  green    M   10.1     class1\n",
       "1    red    L   13.5     class2\n",
       "2   blue   XL   15.3     class1"
      ]
     },
     "execution_count": 19,
     "metadata": {},
     "output_type": "execute_result"
    }
   ],
   "source": [
    "import pandas as pd\n",
    "df = pd.DataFrame([\n",
    "        ['green', 'M', 10.1, 'class1'],\n",
    "        ['red', 'L', 13.5, 'class2'],\n",
    "        ['blue', 'XL', 15.3, 'class1']])\n",
    "df.columns = ['color', 'size', 'price', 'classlabel']\n",
    "df"
   ]
  },
  {
   "cell_type": "markdown",
   "metadata": {},
   "source": [
    "> 범주를 다른 숫자로 치환(mapping) - dictionary 직접 생성"
   ]
  },
  {
   "cell_type": "code",
   "execution_count": 20,
   "metadata": {
    "collapsed": false
   },
   "outputs": [
    {
     "data": {
      "text/html": [
       "<div>\n",
       "<table border=\"1\" class=\"dataframe\">\n",
       "  <thead>\n",
       "    <tr style=\"text-align: right;\">\n",
       "      <th></th>\n",
       "      <th>color</th>\n",
       "      <th>size</th>\n",
       "      <th>price</th>\n",
       "      <th>classlabel</th>\n",
       "    </tr>\n",
       "  </thead>\n",
       "  <tbody>\n",
       "    <tr>\n",
       "      <th>0</th>\n",
       "      <td>green</td>\n",
       "      <td>1</td>\n",
       "      <td>10.1</td>\n",
       "      <td>class1</td>\n",
       "    </tr>\n",
       "    <tr>\n",
       "      <th>1</th>\n",
       "      <td>red</td>\n",
       "      <td>2</td>\n",
       "      <td>13.5</td>\n",
       "      <td>class2</td>\n",
       "    </tr>\n",
       "    <tr>\n",
       "      <th>2</th>\n",
       "      <td>blue</td>\n",
       "      <td>3</td>\n",
       "      <td>15.3</td>\n",
       "      <td>class1</td>\n",
       "    </tr>\n",
       "  </tbody>\n",
       "</table>\n",
       "</div>"
      ],
      "text/plain": [
       "   color  size  price classlabel\n",
       "0  green     1   10.1     class1\n",
       "1    red     2   13.5     class2\n",
       "2   blue     3   15.3     class1"
      ]
     },
     "execution_count": 20,
     "metadata": {},
     "output_type": "execute_result"
    }
   ],
   "source": [
    "size_mapping = {'XL': 3, 'L': 2, 'M': 1}\n",
    "df['size'] = df['size'].map(size_mapping)\n",
    "df\n"
   ]
  },
  {
   "cell_type": "code",
   "execution_count": 21,
   "metadata": {
    "collapsed": false
   },
   "outputs": [
    {
     "data": {
      "text/plain": [
       "{1: 'M', 2: 'L', 3: 'XL'}"
      ]
     },
     "execution_count": 21,
     "metadata": {},
     "output_type": "execute_result"
    }
   ],
   "source": [
    "{v: k for k, v in size_mapping.items()}"
   ]
  },
  {
   "cell_type": "markdown",
   "metadata": {},
   "source": [
    "> 범주를 다른 숫자로 치환(classlabel) - enumerate을 이용한 dictionary 생성"
   ]
  },
  {
   "cell_type": "code",
   "execution_count": 22,
   "metadata": {
    "collapsed": false
   },
   "outputs": [
    {
     "data": {
      "text/plain": [
       "{'class1': 0, 'class2': 1}"
      ]
     },
     "execution_count": 22,
     "metadata": {},
     "output_type": "execute_result"
    }
   ],
   "source": [
    "import numpy as np\n",
    "class_mapping = {label:idx for idx,label in enumerate(np.unique(df['classlabel']))}\n",
    "class_mapping"
   ]
  },
  {
   "cell_type": "code",
   "execution_count": 23,
   "metadata": {
    "collapsed": false
   },
   "outputs": [
    {
     "data": {
      "text/html": [
       "<div>\n",
       "<table border=\"1\" class=\"dataframe\">\n",
       "  <thead>\n",
       "    <tr style=\"text-align: right;\">\n",
       "      <th></th>\n",
       "      <th>color</th>\n",
       "      <th>size</th>\n",
       "      <th>price</th>\n",
       "      <th>classlabel</th>\n",
       "    </tr>\n",
       "  </thead>\n",
       "  <tbody>\n",
       "    <tr>\n",
       "      <th>0</th>\n",
       "      <td>green</td>\n",
       "      <td>1</td>\n",
       "      <td>10.1</td>\n",
       "      <td>0</td>\n",
       "    </tr>\n",
       "    <tr>\n",
       "      <th>1</th>\n",
       "      <td>red</td>\n",
       "      <td>2</td>\n",
       "      <td>13.5</td>\n",
       "      <td>1</td>\n",
       "    </tr>\n",
       "    <tr>\n",
       "      <th>2</th>\n",
       "      <td>blue</td>\n",
       "      <td>3</td>\n",
       "      <td>15.3</td>\n",
       "      <td>0</td>\n",
       "    </tr>\n",
       "  </tbody>\n",
       "</table>\n",
       "</div>"
      ],
      "text/plain": [
       "   color  size  price  classlabel\n",
       "0  green     1   10.1           0\n",
       "1    red     2   13.5           1\n",
       "2   blue     3   15.3           0"
      ]
     },
     "execution_count": 23,
     "metadata": {},
     "output_type": "execute_result"
    }
   ],
   "source": [
    "df['classlabel'] = df['classlabel'].map(class_mapping)\n",
    "df"
   ]
  },
  {
   "cell_type": "markdown",
   "metadata": {},
   "source": [
    "> 치환을 역으로.."
   ]
  },
  {
   "cell_type": "code",
   "execution_count": 24,
   "metadata": {
    "collapsed": false
   },
   "outputs": [
    {
     "data": {
      "text/html": [
       "<div>\n",
       "<table border=\"1\" class=\"dataframe\">\n",
       "  <thead>\n",
       "    <tr style=\"text-align: right;\">\n",
       "      <th></th>\n",
       "      <th>color</th>\n",
       "      <th>size</th>\n",
       "      <th>price</th>\n",
       "      <th>classlabel</th>\n",
       "    </tr>\n",
       "  </thead>\n",
       "  <tbody>\n",
       "    <tr>\n",
       "      <th>0</th>\n",
       "      <td>green</td>\n",
       "      <td>1</td>\n",
       "      <td>10.1</td>\n",
       "      <td>class1</td>\n",
       "    </tr>\n",
       "    <tr>\n",
       "      <th>1</th>\n",
       "      <td>red</td>\n",
       "      <td>2</td>\n",
       "      <td>13.5</td>\n",
       "      <td>class2</td>\n",
       "    </tr>\n",
       "    <tr>\n",
       "      <th>2</th>\n",
       "      <td>blue</td>\n",
       "      <td>3</td>\n",
       "      <td>15.3</td>\n",
       "      <td>class1</td>\n",
       "    </tr>\n",
       "  </tbody>\n",
       "</table>\n",
       "</div>"
      ],
      "text/plain": [
       "   color  size  price classlabel\n",
       "0  green     1   10.1     class1\n",
       "1    red     2   13.5     class2\n",
       "2   blue     3   15.3     class1"
      ]
     },
     "execution_count": 24,
     "metadata": {},
     "output_type": "execute_result"
    }
   ],
   "source": [
    "inv_class_mapping = {v: k for k, v in class_mapping.items()}\n",
    "df['classlabel'] = df['classlabel'].map(inv_class_mapping)\n",
    "df"
   ]
  },
  {
   "cell_type": "markdown",
   "metadata": {},
   "source": [
    "> scikit-learn LabelEncode class를 이용한 치환"
   ]
  },
  {
   "cell_type": "code",
   "execution_count": 25,
   "metadata": {
    "collapsed": false
   },
   "outputs": [
    {
     "data": {
      "text/plain": [
       "array([0, 1, 0], dtype=int64)"
      ]
     },
     "execution_count": 25,
     "metadata": {},
     "output_type": "execute_result"
    }
   ],
   "source": [
    "from sklearn.preprocessing import LabelEncoder\n",
    "class_le = LabelEncoder()\n",
    "y = class_le.fit_transform(df['classlabel'].values)\n",
    "y"
   ]
  },
  {
   "cell_type": "code",
   "execution_count": 26,
   "metadata": {
    "collapsed": false
   },
   "outputs": [
    {
     "data": {
      "text/plain": [
       "array(['class1', 'class2', 'class1'], dtype=object)"
      ]
     },
     "execution_count": 26,
     "metadata": {},
     "output_type": "execute_result"
    }
   ],
   "source": [
    "class_le.inverse_transform(y)"
   ]
  },
  {
   "cell_type": "markdown",
   "metadata": {},
   "source": [
    "순서형(Ordinal) 값의 경우 위와 같은 치환이 의미를 갖을 수 있으나,      \n",
    "명목형(Norminal) 값의 경우 위와 같은 치환을 할 경우 원래 데이터에 없는 순서와 크기라는 원래 없던 정보를 부여하는 꼴이 되므로 분석에 큰 재앙을 가져온다. \n",
    "\n",
    "이런 경우 사용하는 방법이 one-hot encoding(가변수 변환)이다."
   ]
  },
  {
   "cell_type": "markdown",
   "metadata": {},
   "source": [
    "> one-hot encoding"
   ]
  },
  {
   "cell_type": "code",
   "execution_count": 27,
   "metadata": {
    "collapsed": false
   },
   "outputs": [
    {
     "data": {
      "text/plain": [
       "array([['green', 1, 10.1],\n",
       "       ['red', 2, 13.5],\n",
       "       ['blue', 3, 15.3]], dtype=object)"
      ]
     },
     "execution_count": 27,
     "metadata": {},
     "output_type": "execute_result"
    }
   ],
   "source": [
    "from sklearn.preprocessing import LabelEncoder\n",
    "\n",
    "X = df[['color', 'size', 'price']].values; X"
   ]
  },
  {
   "cell_type": "code",
   "execution_count": 28,
   "metadata": {
    "collapsed": false
   },
   "outputs": [
    {
     "data": {
      "text/plain": [
       "array([[1, 1, 10.1],\n",
       "       [2, 2, 13.5],\n",
       "       [0, 3, 15.3]], dtype=object)"
      ]
     },
     "execution_count": 28,
     "metadata": {},
     "output_type": "execute_result"
    }
   ],
   "source": [
    "color_le = LabelEncoder()\n",
    "X[:, 0] = color_le.fit_transform(X[:, 0])\n",
    "X"
   ]
  },
  {
   "cell_type": "code",
   "execution_count": 29,
   "metadata": {
    "collapsed": false
   },
   "outputs": [
    {
     "data": {
      "text/plain": [
       "array([[  0. ,   1. ,   0. ,   1. ,  10.1],\n",
       "       [  0. ,   0. ,   1. ,   2. ,  13.5],\n",
       "       [  1. ,   0. ,   0. ,   3. ,  15.3]])"
      ]
     },
     "execution_count": 29,
     "metadata": {},
     "output_type": "execute_result"
    }
   ],
   "source": [
    "from sklearn.preprocessing import OneHotEncoder\n",
    "ohe = OneHotEncoder(categorical_features=[0])\n",
    "ohe.fit_transform(X).toarray()"
   ]
  },
  {
   "cell_type": "markdown",
   "metadata": {},
   "source": [
    "### 4.3. Partitioning a dataset in training and test sets"
   ]
  },
  {
   "cell_type": "markdown",
   "metadata": {},
   "source": [
    "사용할 데이터가 있다면        \n",
    "이중 일부는 모형을 학습시키는데 사용하고,      \n",
    "다른 일부는 모형의 weight이 아닌 모형 변수들을 결정하는데 사용하고,       \n",
    "나머지는 모형의 성능을 평가하는데 사용한다. \n",
    "\n",
    "이들 데이터를 차례대로 Training set, Validation set, Test set이라 한다."
   ]
  },
  {
   "cell_type": "markdown",
   "metadata": {},
   "source": [
    "■ 데이터를 효과적으로 이렇게 3개(혹은 Training set과 Test set만으로 2개)로 나누는 방법에 대해서 알아보자."
   ]
  },
  {
   "cell_type": "markdown",
   "metadata": {},
   "source": [
    "이번에는 연습용 데이터로 3종류의 와인의 13가지 특성에 대한 데이터를 사용해 보자.     \n",
    "(http://archive.ics.uci.edu/ml/ 에 들어가면 다양한 연습용 데이터를 얻을 수 있다.)"
   ]
  },
  {
   "cell_type": "markdown",
   "metadata": {},
   "source": [
    "> Wine 데이터 가져오기"
   ]
  },
  {
   "cell_type": "code",
   "execution_count": 30,
   "metadata": {
    "collapsed": false,
    "scrolled": true
   },
   "outputs": [
    {
     "name": "stdout",
     "output_type": "stream",
     "text": [
      "Class labels [1 2 3]\n"
     ]
    },
    {
     "data": {
      "text/html": [
       "<div>\n",
       "<table border=\"1\" class=\"dataframe\">\n",
       "  <thead>\n",
       "    <tr style=\"text-align: right;\">\n",
       "      <th></th>\n",
       "      <th>Class label</th>\n",
       "      <th>Alcohol</th>\n",
       "      <th>Malic acid</th>\n",
       "      <th>Ash</th>\n",
       "      <th>Alcalinity of ash</th>\n",
       "      <th>Magnesium</th>\n",
       "      <th>Total phenols</th>\n",
       "      <th>Flavanoids</th>\n",
       "      <th>Nonflavanoid phenols</th>\n",
       "      <th>Proanthocyanins</th>\n",
       "      <th>Color intensity</th>\n",
       "      <th>Hue</th>\n",
       "      <th>OD280/OD315 of diluted wines</th>\n",
       "      <th>Proline</th>\n",
       "    </tr>\n",
       "  </thead>\n",
       "  <tbody>\n",
       "    <tr>\n",
       "      <th>0</th>\n",
       "      <td>1</td>\n",
       "      <td>14.23</td>\n",
       "      <td>1.71</td>\n",
       "      <td>2.43</td>\n",
       "      <td>15.6</td>\n",
       "      <td>127</td>\n",
       "      <td>2.80</td>\n",
       "      <td>3.06</td>\n",
       "      <td>0.28</td>\n",
       "      <td>2.29</td>\n",
       "      <td>5.64</td>\n",
       "      <td>1.04</td>\n",
       "      <td>3.92</td>\n",
       "      <td>1065</td>\n",
       "    </tr>\n",
       "    <tr>\n",
       "      <th>1</th>\n",
       "      <td>1</td>\n",
       "      <td>13.20</td>\n",
       "      <td>1.78</td>\n",
       "      <td>2.14</td>\n",
       "      <td>11.2</td>\n",
       "      <td>100</td>\n",
       "      <td>2.65</td>\n",
       "      <td>2.76</td>\n",
       "      <td>0.26</td>\n",
       "      <td>1.28</td>\n",
       "      <td>4.38</td>\n",
       "      <td>1.05</td>\n",
       "      <td>3.40</td>\n",
       "      <td>1050</td>\n",
       "    </tr>\n",
       "    <tr>\n",
       "      <th>2</th>\n",
       "      <td>1</td>\n",
       "      <td>13.16</td>\n",
       "      <td>2.36</td>\n",
       "      <td>2.67</td>\n",
       "      <td>18.6</td>\n",
       "      <td>101</td>\n",
       "      <td>2.80</td>\n",
       "      <td>3.24</td>\n",
       "      <td>0.30</td>\n",
       "      <td>2.81</td>\n",
       "      <td>5.68</td>\n",
       "      <td>1.03</td>\n",
       "      <td>3.17</td>\n",
       "      <td>1185</td>\n",
       "    </tr>\n",
       "    <tr>\n",
       "      <th>3</th>\n",
       "      <td>1</td>\n",
       "      <td>14.37</td>\n",
       "      <td>1.95</td>\n",
       "      <td>2.50</td>\n",
       "      <td>16.8</td>\n",
       "      <td>113</td>\n",
       "      <td>3.85</td>\n",
       "      <td>3.49</td>\n",
       "      <td>0.24</td>\n",
       "      <td>2.18</td>\n",
       "      <td>7.80</td>\n",
       "      <td>0.86</td>\n",
       "      <td>3.45</td>\n",
       "      <td>1480</td>\n",
       "    </tr>\n",
       "    <tr>\n",
       "      <th>4</th>\n",
       "      <td>1</td>\n",
       "      <td>13.24</td>\n",
       "      <td>2.59</td>\n",
       "      <td>2.87</td>\n",
       "      <td>21.0</td>\n",
       "      <td>118</td>\n",
       "      <td>2.80</td>\n",
       "      <td>2.69</td>\n",
       "      <td>0.39</td>\n",
       "      <td>1.82</td>\n",
       "      <td>4.32</td>\n",
       "      <td>1.04</td>\n",
       "      <td>2.93</td>\n",
       "      <td>735</td>\n",
       "    </tr>\n",
       "  </tbody>\n",
       "</table>\n",
       "</div>"
      ],
      "text/plain": [
       "   Class label  Alcohol  Malic acid   Ash  Alcalinity of ash  Magnesium  \\\n",
       "0            1    14.23        1.71  2.43               15.6        127   \n",
       "1            1    13.20        1.78  2.14               11.2        100   \n",
       "2            1    13.16        2.36  2.67               18.6        101   \n",
       "3            1    14.37        1.95  2.50               16.8        113   \n",
       "4            1    13.24        2.59  2.87               21.0        118   \n",
       "\n",
       "   Total phenols  Flavanoids  Nonflavanoid phenols  Proanthocyanins  \\\n",
       "0           2.80        3.06                  0.28             2.29   \n",
       "1           2.65        2.76                  0.26             1.28   \n",
       "2           2.80        3.24                  0.30             2.81   \n",
       "3           3.85        3.49                  0.24             2.18   \n",
       "4           2.80        2.69                  0.39             1.82   \n",
       "\n",
       "   Color intensity   Hue  OD280/OD315 of diluted wines  Proline  \n",
       "0             5.64  1.04                          3.92     1065  \n",
       "1             4.38  1.05                          3.40     1050  \n",
       "2             5.68  1.03                          3.17     1185  \n",
       "3             7.80  0.86                          3.45     1480  \n",
       "4             4.32  1.04                          2.93      735  "
      ]
     },
     "execution_count": 30,
     "metadata": {},
     "output_type": "execute_result"
    }
   ],
   "source": [
    "df_wine = pd.read_csv('https://archive.ics.uci.edu/ml/machine-learning-databases/wine/wine.data', header=None)\n",
    "df_wine.columns = ['Class label', 'Alcohol'\n",
    "                   , 'Malic acid', 'Ash'\n",
    "                   , 'Alcalinity of ash', 'Magnesium'\n",
    "                   , 'Total phenols', 'Flavanoids'\n",
    "                   , 'Nonflavanoid phenols', 'Proanthocyanins'\n",
    "                   , 'Color intensity', 'Hue'\n",
    "                   , 'OD280/OD315 of diluted wines', 'Proline']\n",
    "print('Class labels', np.unique(df_wine['Class label']))\n",
    "\n",
    "df_wine.head()"
   ]
  },
  {
   "cell_type": "markdown",
   "metadata": {},
   "source": [
    "> scikit-learn을 이용한 데이터 나누기"
   ]
  },
  {
   "cell_type": "code",
   "execution_count": 31,
   "metadata": {
    "collapsed": false
   },
   "outputs": [
    {
     "data": {
      "text/plain": [
       "178"
      ]
     },
     "execution_count": 31,
     "metadata": {},
     "output_type": "execute_result"
    }
   ],
   "source": [
    "from sklearn.cross_validation import train_test_split\n",
    "X, y = df_wine.iloc[:, 1:].values, df_wine.iloc[:, 0].values\n",
    "X_train, X_test, y_train, y_test = train_test_split(X, y, test_size=0.3, random_state=0)\n",
    "\n",
    "len(X)"
   ]
  },
  {
   "cell_type": "markdown",
   "metadata": {},
   "source": [
    "모형을 잘 학습시키기 위해서는 가능한 많은 데이터가 Training set으로 사용된다면 좋을 것이다. 단지 평가만을 위해 많은 데이터를 사용한다면 낭비일 수 있다. 일반적으로 Training:Test set을 6:4, 7:3, 8:2의 비율로 나누는 것이 일반적이며, 만약 사용 가능한 데이터가 아주 많다면 극단적으로 training set에 많은 데이터를 사용하여 9:1 혹은 99:1로 데이터를 나눌 수도 있다."
   ]
  },
  {
   "cell_type": "markdown",
   "metadata": {},
   "source": [
    "### 4.4. Bringing features onto the same scale"
   ]
  },
  {
   "cell_type": "markdown",
   "metadata": {},
   "source": [
    "데이터셋의 변수간 단위(scale)이 지나치게 다르다면 모형 예측의 정확도가 낮아지고 최적화 수렴 속도가 느려지게 된다. 따라서 변수간의 단위를 맞춰주는 작업을 하는데 이를 **feature scaling**이라 한다.    \n",
    "\n",
    "feature scaling에는 normalization(혹은 Rescaling, Min-Max scaling)과 standardization이 있다.\n",
    "\n",
    "■ 우선 normalization은 변수의 값을 0과 1사이로 옮기는데 그 방법은 아래와 같다.\n",
    "$$x_{norm}^{(i)} = \\frac{ x^{(i)} - x_{min} }{ x_{max} - x_{min} }$$"
   ]
  },
  {
   "cell_type": "markdown",
   "metadata": {},
   "source": [
    "> MinMaxScaler를 이용하면"
   ]
  },
  {
   "cell_type": "code",
   "execution_count": 32,
   "metadata": {
    "collapsed": false
   },
   "outputs": [
    {
     "data": {
      "text/plain": [
       "array([ 13.71,  12.22,  13.27,  13.16,  13.86,  12.85,  13.84,  13.3 ,\n",
       "        13.05,  12.51,  12.29,  12.77,  12.96,  13.67,  13.16,  12.37,\n",
       "        12.47,  11.81,  13.24,  14.1 ,  11.61,  12.99,  12.77,  13.48,\n",
       "        11.46,  12.07,  11.82,  13.45,  12.2 ,  13.05,  13.17,  12.08,\n",
       "        12.17,  12.42,  11.87,  12.21,  13.94,  14.1 ,  12.67,  14.75,\n",
       "        12.25,  12.85,  13.73,  14.06,  13.63,  12.33,  13.82,  12.08,\n",
       "        13.03,  14.37,  13.17,  12.72,  14.39,  13.34,  11.66,  11.84,\n",
       "        12.86,  13.75,  12.53,  13.11,  14.38,  14.23,  12.  ,  13.23,\n",
       "        14.38,  14.12,  12.  ,  12.34,  13.48,  13.29,  13.41,  13.71,\n",
       "        12.37,  13.2 ,  11.45,  13.62,  13.88,  12.42,  12.81,  12.58,\n",
       "        13.83,  13.07,  12.7 ,  13.77,  12.84,  12.37,  13.51,  13.87,\n",
       "        12.08,  13.58,  13.08,  11.79,  12.45,  13.68,  13.52,  13.5 ,\n",
       "        12.87,  14.02,  12.29,  12.08,  12.7 ,  11.03,  13.32,  14.13,\n",
       "        13.49,  11.84,  13.05,  12.72,  12.82,  13.4 ,  14.22,  13.72,\n",
       "        12.93,  11.64,  12.29,  11.65,  13.28,  12.93,  13.86,  11.82,\n",
       "        12.37,  12.42,  13.9 ,  14.16])"
      ]
     },
     "execution_count": 32,
     "metadata": {},
     "output_type": "execute_result"
    }
   ],
   "source": [
    "X_train[:,0]"
   ]
  },
  {
   "cell_type": "code",
   "execution_count": 33,
   "metadata": {
    "collapsed": true
   },
   "outputs": [],
   "source": [
    "from sklearn.preprocessing import MinMaxScaler\n",
    "mms = MinMaxScaler()\n",
    "X_train_norm = mms.fit_transform(X_train)\n",
    "X_test_norm = mms.transform(X_test)"
   ]
  },
  {
   "cell_type": "code",
   "execution_count": 34,
   "metadata": {
    "collapsed": false
   },
   "outputs": [
    {
     "data": {
      "text/plain": [
       "array([ 0.72043011,  0.31989247,  0.60215054,  0.57258065,  0.76075269,\n",
       "        0.48924731,  0.75537634,  0.61021505,  0.54301075,  0.39784946,\n",
       "        0.33870968,  0.46774194,  0.5188172 ,  0.70967742,  0.57258065,\n",
       "        0.36021505,  0.38709677,  0.20967742,  0.59408602,  0.82526882,\n",
       "        0.15591398,  0.52688172,  0.46774194,  0.65860215,  0.1155914 ,\n",
       "        0.27956989,  0.21236559,  0.65053763,  0.31451613,  0.54301075,\n",
       "        0.57526882,  0.28225806,  0.30645161,  0.37365591,  0.22580645,\n",
       "        0.3172043 ,  0.78225806,  0.82526882,  0.44086022,  1.        ,\n",
       "        0.32795699,  0.48924731,  0.72580645,  0.81451613,  0.69892473,\n",
       "        0.34946237,  0.75      ,  0.28225806,  0.53763441,  0.89784946,\n",
       "        0.57526882,  0.45430108,  0.90322581,  0.62096774,  0.16935484,\n",
       "        0.21774194,  0.49193548,  0.7311828 ,  0.40322581,  0.55913978,\n",
       "        0.90053763,  0.86021505,  0.26075269,  0.59139785,  0.90053763,\n",
       "        0.83064516,  0.26075269,  0.35215054,  0.65860215,  0.60752688,\n",
       "        0.63978495,  0.72043011,  0.36021505,  0.58333333,  0.11290323,\n",
       "        0.69623656,  0.76612903,  0.37365591,  0.47849462,  0.41666667,\n",
       "        0.75268817,  0.5483871 ,  0.44892473,  0.73655914,  0.48655914,\n",
       "        0.36021505,  0.66666667,  0.76344086,  0.28225806,  0.68548387,\n",
       "        0.55107527,  0.20430108,  0.38172043,  0.71236559,  0.66935484,\n",
       "        0.66397849,  0.49462366,  0.80376344,  0.33870968,  0.28225806,\n",
       "        0.44892473,  0.        ,  0.6155914 ,  0.83333333,  0.66129032,\n",
       "        0.21774194,  0.54301075,  0.45430108,  0.4811828 ,  0.63709677,\n",
       "        0.85752688,  0.72311828,  0.51075269,  0.16397849,  0.33870968,\n",
       "        0.16666667,  0.60483871,  0.51075269,  0.76075269,  0.21236559,\n",
       "        0.36021505,  0.37365591,  0.77150538,  0.84139785])"
      ]
     },
     "execution_count": 34,
     "metadata": {},
     "output_type": "execute_result"
    }
   ],
   "source": [
    "X_train_norm[:,0]"
   ]
  },
  {
   "cell_type": "markdown",
   "metadata": {},
   "source": [
    "■ 다음으로 standardization은 변수값을 평균이 0이고 분산이 1인 정규 분포($\\mathcal{N}(0, 1)$)로 변환해준다.\n",
    "$$x_{std}^{(i)} = \\frac{ x^{(i)} - \\mu_x }{ \\sigma_x }$$"
   ]
  },
  {
   "cell_type": "markdown",
   "metadata": {},
   "source": [
    "> StandardScaler를 이용하면...     \n",
    "(test set을 변환할 때에도 training set의 평균($\\mu_x$)과 분산($\\sigma_x$)을 사용함)"
   ]
  },
  {
   "cell_type": "code",
   "execution_count": 35,
   "metadata": {
    "collapsed": false
   },
   "outputs": [
    {
     "data": {
      "text/plain": [
       "array([ 13.71,  12.22,  13.27,  13.16,  13.86,  12.85,  13.84,  13.3 ,\n",
       "        13.05,  12.51,  12.29,  12.77,  12.96,  13.67,  13.16,  12.37,\n",
       "        12.47,  11.81,  13.24,  14.1 ,  11.61,  12.99,  12.77,  13.48,\n",
       "        11.46,  12.07,  11.82,  13.45,  12.2 ,  13.05,  13.17,  12.08,\n",
       "        12.17,  12.42,  11.87,  12.21,  13.94,  14.1 ,  12.67,  14.75,\n",
       "        12.25,  12.85,  13.73,  14.06,  13.63,  12.33,  13.82,  12.08,\n",
       "        13.03,  14.37,  13.17,  12.72,  14.39,  13.34,  11.66,  11.84,\n",
       "        12.86,  13.75,  12.53,  13.11,  14.38,  14.23,  12.  ,  13.23,\n",
       "        14.38,  14.12,  12.  ,  12.34,  13.48,  13.29,  13.41,  13.71,\n",
       "        12.37,  13.2 ,  11.45,  13.62,  13.88,  12.42,  12.81,  12.58,\n",
       "        13.83,  13.07,  12.7 ,  13.77,  12.84,  12.37,  13.51,  13.87,\n",
       "        12.08,  13.58,  13.08,  11.79,  12.45,  13.68,  13.52,  13.5 ,\n",
       "        12.87,  14.02,  12.29,  12.08,  12.7 ,  11.03,  13.32,  14.13,\n",
       "        13.49,  11.84,  13.05,  12.72,  12.82,  13.4 ,  14.22,  13.72,\n",
       "        12.93,  11.64,  12.29,  11.65,  13.28,  12.93,  13.86,  11.82,\n",
       "        12.37,  12.42,  13.9 ,  14.16])"
      ]
     },
     "execution_count": 35,
     "metadata": {},
     "output_type": "execute_result"
    }
   ],
   "source": [
    "X_train[:,0]"
   ]
  },
  {
   "cell_type": "code",
   "execution_count": 36,
   "metadata": {
    "collapsed": true
   },
   "outputs": [],
   "source": [
    "from sklearn.preprocessing import StandardScaler\n",
    "stdsc = StandardScaler()\n",
    "X_train_std = stdsc.fit_transform(X_train)\n",
    "X_test_std = stdsc.transform(X_test)"
   ]
  },
  {
   "cell_type": "code",
   "execution_count": 37,
   "metadata": {
    "collapsed": false
   },
   "outputs": [
    {
     "data": {
      "text/plain": [
       "array([ 0.94841977, -0.24190464, -0.76815332,  0.72288462,  0.08386836,\n",
       "       -1.7830615 ,  1.34937115, -0.78068305, -0.91851009, -1.13151551,\n",
       "        0.47229001,  1.123836  ,  1.52478738, -0.76815332,  0.74794408,\n",
       "       -1.23175335,  0.97347923,  1.51225764, -0.4298506 ,  1.06118734,\n",
       "        0.15904674,  0.08386836,  0.32193324, -0.59273709, -0.81827224,\n",
       "       -0.58020736, -0.69297494, -1.03127766, -1.53246689,  0.99853869,\n",
       "        0.5098792 ,  1.54984684, -1.18163443,  1.53731711,  2.3141604 ,\n",
       "        0.08386836,  0.88577112, -0.36720194, -1.70788312,  0.52240893,\n",
       "        0.64770623,  0.93589004, -0.86839117, -0.47996952, -1.97100746,\n",
       "        0.82312246, -0.47996952, -1.28187228, -0.91851009,  1.65008468,\n",
       "       -0.12913706,  0.6351765 ,  0.72288462,  1.7002036 ])"
      ]
     },
     "execution_count": 37,
     "metadata": {},
     "output_type": "execute_result"
    }
   ],
   "source": [
    "X_test_std[:,0]"
   ]
  },
  {
   "cell_type": "markdown",
   "metadata": {},
   "source": [
    "."
   ]
  },
  {
   "cell_type": "markdown",
   "metadata": {},
   "source": [
    "변수값을 특정 범위(0~1)로 옮겨야 한다면 normalization이 유용하다. 하지만 특이치가 포함되어 있을 경우 normalization의 결과는 한쪽으로 치우치게 되어 많은 정보를 잃게 된다. 반면 standardization은 값이 특정 범위로 국한되지는 않지만 값의 분포를 고려한 결과를 준다는 장점이 있다. "
   ]
  },
  {
   "cell_type": "markdown",
   "metadata": {},
   "source": [
    "<img  src=\"./_images/hcP4l.png\"/>\n",
    "[http://stackoverflow.com/questions/32108179/linear-regression-normalization-vs-standardization]"
   ]
  },
  {
   "cell_type": "markdown",
   "metadata": {},
   "source": [
    "### [How to prevent OVER-FITTING]"
   ]
  },
  {
   "cell_type": "markdown",
   "metadata": {},
   "source": [
    "Training set에만 잘 맞는 상태인 overfitting은 주로 아래와 같은 방법으로 해결할 수 있다.\n",
    "\n",
    "- 더 많은 데이터를 Training data로 사용(데이터를 더 수집)\n",
    "- Weight의 크기를 제한(Regularization)\n",
    "- 의미가 덜한 변수를 분석에서 제외(Feature selection)\n",
    "- 차원 축소(Dimensionality reduction)"
   ]
  },
  {
   "cell_type": "markdown",
   "metadata": {},
   "source": [
    "4.5에서 Weight의 크기를 제한하는 방법(Regularization)에 대해 그리고 4.6에서 의미가 덜한 변수를 분석에서 제외하는 방법(Feature selection)에 대해 알아볼 것이다. 이후 5장에서 더 많은 데이터가 필요한지 확인 하는 방법과 차원 축소에 대해 다루게 된다."
   ]
  },
  {
   "cell_type": "markdown",
   "metadata": {},
   "source": [
    "### 4.5. Regularization"
   ]
  },
  {
   "cell_type": "markdown",
   "metadata": {},
   "source": [
    "일반적인 (least squares) 회귀 문제에서는 아래와 같이 실제값($y_i$)와 예측값($\\hat{y}_i$)의 차이들을 최소화 하는 것이 그 접근 방법이다.\n",
    "$$\\mathrm{min}_w C\\sum_i^n \\left[ (y_i - \\hat{y}_i)^2 \\right]$$"
   ]
  },
  {
   "cell_type": "markdown",
   "metadata": {},
   "source": [
    "그런데 weight의 크기를 어느정도로 제한하기 위해 위의 최적화 식에 weight의 크기를 표현하는 어떤 항($f_r(w)$)을 추가할 수 있고, 이것의 효과로 오차를 최소화 하는 것과 weight의 크기를 제한하는 것의 절충점으로 weight이 작아지게 된다.\n",
    "\n",
    "$$\\mathrm{min}_w\\{ C\\sum_i^n \\left[ (y_i - \\hat{y}_i)^2 \\right] + f_r(w) \\}$$"
   ]
  },
  {
   "cell_type": "markdown",
   "metadata": {},
   "source": [
    "Weight의 크기를 제한하기 위한 다양한 형태의 $f_r(w)$를 사용하는 방법이 있는데    \n",
    "대표적인 방법인 **L2 regularization**과 **L1 regularization**에 대해 알아보자."
   ]
  },
  {
   "cell_type": "markdown",
   "metadata": {},
   "source": [
    "■ L2 regularization은 각 weight 제곱의 합을 penalty($f_r(w)$)로 사용하며 이를 Ridge penalty라고도 한다.\n",
    "$$f_r(w) = ||w||_2^2 = \\sum_{j=1}^m w_j^2$$"
   ]
  },
  {
   "cell_type": "markdown",
   "metadata": {},
   "source": [
    "■ L1 regularization은 각 weight 절대값의 합을 penalty$f_r(w)$로 사용하며 이를 Lasso penalty라고도 한다.\n",
    "$$f_r(w) = ||w||_1 = \\sum_{j=1}^m |w_j|$$"
   ]
  },
  {
   "cell_type": "markdown",
   "metadata": {},
   "source": [
    "L2 penalty와 L1 penalty는 각기 다른 특성을 갖는데, L1 penalty는 아래 좌측의 그림의 하늘색 마름모이고 L2 penalty는 아래 우측 그림의 하늘색 원과 같다. \n",
    "\n",
    "L1 penalty의 경우 cost function과의 접점이 꼭지점에서 만들어질 가능성이 크고, 이것은 어떤 weight은 0이 될 가능성이 커지는 것을 의미한다. 즉 L1 penalty의 이런 특성은 feature selection을 해 주는 효과를 갖는다."
   ]
  },
  {
   "cell_type": "markdown",
   "metadata": {},
   "source": [
    "<img  src=\"./_images/04_regu2.PNG\"/>\n",
    "<div align='right'>[p71, Elements of Statitical Learning]</div>"
   ]
  },
  {
   "cell_type": "markdown",
   "metadata": {},
   "source": [
    "다실 다양한 형태의 weight penalty를 사용할 수 있는데 그 차수($q$)에 따라 다른 특성을 갖게 된다."
   ]
  },
  {
   "cell_type": "markdown",
   "metadata": {},
   "source": [
    "<img  src=\"./_images/04_regu3.PNG\"/>"
   ]
  },
  {
   "cell_type": "markdown",
   "metadata": {},
   "source": [
    "> L1 penalty를 포함한 cost function은 아래와 같이 '적합도를 높이려는 항'(첫번째)과 'weight을 줄이려는 항'(두번째)로 구성된다. 상수 C는 그 값이 커질 수록 모형 적합이 덜 진행되는데, 이 값을 조절하면서 weight이 어떻게 변하는지를 관찰해볼 수 있다. (이런 궤적을 regularization path라 함)\n",
    "\n",
    "$$\\mathrm{min}_w\\{ C  \\dot ~~ \\mathrm{(error)} + \\mathrm{(weight ~ penalty)} \\}$$"
   ]
  },
  {
   "cell_type": "code",
   "execution_count": 38,
   "metadata": {
    "collapsed": false
   },
   "outputs": [
    {
     "name": "stdout",
     "output_type": "stream",
     "text": [
      "Test accuracy: 0.981481481481\n"
     ]
    }
   ],
   "source": [
    "from sklearn.linear_model import LogisticRegression\n",
    "LogisticRegression(penalty='l1')\n",
    "\n",
    "lr = LogisticRegression(penalty='l1', C=0.1)\n",
    "lr.fit(X_train_std, y_train)\n",
    "print('Test accuracy:', lr.score(X_test_std, y_test))"
   ]
  },
  {
   "cell_type": "code",
   "execution_count": 39,
   "metadata": {
    "collapsed": false
   },
   "outputs": [
    {
     "data": {
      "text/plain": [
       "array([-0.38384675, -0.15806564, -0.70045741])"
      ]
     },
     "execution_count": 39,
     "metadata": {},
     "output_type": "execute_result"
    }
   ],
   "source": [
    "lr.intercept_"
   ]
  },
  {
   "cell_type": "code",
   "execution_count": 40,
   "metadata": {
    "collapsed": false
   },
   "outputs": [
    {
     "data": {
      "text/plain": [
       "array([[ 0.2803456 ,  0.        ,  0.        , -0.02797473,  0.        ,\n",
       "         0.        ,  0.710205  ,  0.        ,  0.        ,  0.        ,\n",
       "         0.        ,  0.        ,  1.23577765],\n",
       "       [-0.64405192, -0.06878583, -0.05722272,  0.        ,  0.        ,\n",
       "         0.        ,  0.        ,  0.        ,  0.        , -0.9267572 ,\n",
       "         0.06014647,  0.        , -0.37102714],\n",
       "       [ 0.        ,  0.06149138,  0.        ,  0.        ,  0.        ,\n",
       "         0.        , -0.63572778,  0.        ,  0.        ,  0.4979461 ,\n",
       "        -0.35834698, -0.57163692,  0.        ]])"
      ]
     },
     "execution_count": 40,
     "metadata": {},
     "output_type": "execute_result"
    }
   ],
   "source": [
    "lr.coef_"
   ]
  },
  {
   "cell_type": "code",
   "execution_count": 41,
   "metadata": {
    "collapsed": false
   },
   "outputs": [],
   "source": [
    "import matplotlib.pyplot as plt\n",
    "fig = plt.figure()\n",
    "ax = plt.subplot(111)\n",
    "\n",
    "colors = ['blue', 'green', 'red', 'cyan',\n",
    "          'magenta', 'yellow', 'black',\n",
    "          'pink', 'lightgreen', 'lightblue',\n",
    "          'gray', 'indigo', 'orange']\n",
    "weights, params = [], []\n",
    "\n",
    "for c in np.arange(-4, 6):\n",
    "    lr = LogisticRegression(penalty='l1', C=10**float(c), random_state=0)\n",
    "    lr.fit(X_train_std, y_train)    \n",
    "    weights.append(lr.coef_[1])\n",
    "    params.append(10**float(c))\n",
    "    \n",
    "weights = np.array(weights)\n",
    "for column, color in zip(range(weights.shape[1]), colors):\n",
    "    plt.plot(params, weights[:, column],\n",
    "             label=df_wine.columns[column+1],\n",
    "             color=color)\n",
    "plt.axhline(0, color='black', linestyle='--', linewidth=3)\n",
    "plt.xlim([10**(-5), 10**5])\n",
    "plt.ylabel('weight coefficient')\n",
    "plt.xlabel('C')\n",
    "plt.xscale('log')\n",
    "plt.legend(loc='upper left')\n",
    "ax.legend(loc='upper center',\n",
    "          bbox_to_anchor=(1.38, 1.03),\n",
    "          ncol=1, fancybox=True)\n",
    "plt.show()"
   ]
  },
  {
   "cell_type": "markdown",
   "metadata": {},
   "source": [
    "위 그림과 같이 $C$값이 커질수록(우측으로 갈 수록) 모형 적합을 더 하려는 효과가 커지기 때문에 각 weight의 절대값이 커지는 것을 관찰할 수 있다. 또한 우측으로 갈 수록 weight penalty의 효과는 작아진다고 할 수 있다."
   ]
  },
  {
   "cell_type": "markdown",
   "metadata": {},
   "source": [
    "### 4.6. Feature Selection"
   ]
  },
  {
   "cell_type": "markdown",
   "metadata": {},
   "source": [
    "앞서 weight의 크기를 제한하는 방법(regularization)을 이용해 overfitting을 최소화 하는 방법에 대해 알아봤고, 이번에는 중요하지 않은 변수는 제거(혹은 중요한 변수만을 선택)하는 방법(feature selection)에 대해서 알아본다."
   ]
  },
  {
   "cell_type": "markdown",
   "metadata": {},
   "source": [
    "데이터를 구성하는 변수가 10개라면 이 10개의 변수가 모두 중요한 요인이 아닐 수도 있다. 즉 중요한 몇개의 변수만으로 결과를 충분히 설명할 수 있다면, 모형을 만들고 학습시키고 사용하는데 있어 몇개의 변수만을 사용하여 비용과 속도 등의 이득을 볼 수 있을 것이다. "
   ]
  },
  {
   "cell_type": "markdown",
   "metadata": {},
   "source": [
    "그렇다면 문제는 어떤 변수가 중요한지 혹은 중요하지 않은지를 알아내는 것인데, 가장 단순한 방법은 전체 변수를 사용했을 때와 변수를 하나식 제거한 후 모형의 성능을 비교하는 것이다. 여러 변수들 중 제거했을 때 모형의 성능이 크게 떨어지지 않는 변수를 먼저 제거하는 것이 좋을 것이다. 이런 접근법을 **Sequential Backward Selection(SBS)**라 한다."
   ]
  },
  {
   "cell_type": "markdown",
   "metadata": {},
   "source": [
    "> SBS 구현"
   ]
  },
  {
   "cell_type": "code",
   "execution_count": 42,
   "metadata": {
    "collapsed": false
   },
   "outputs": [],
   "source": [
    "from sklearn.base import clone\n",
    "from itertools import combinations\n",
    "import numpy as np\n",
    "from sklearn.cross_validation import train_test_split\n",
    "from sklearn.metrics import accuracy_score\n",
    "\n",
    "class SBS():\n",
    "    def __init__(self, estimator, k_features,\n",
    "                 scoring=accuracy_score,\n",
    "                 test_size=0.25, random_state=1):\n",
    "        self.scoring = scoring\n",
    "        self.estimator = clone(estimator)\n",
    "        self.k_features = k_features\n",
    "        self.test_size = test_size\n",
    "        self.random_state = random_state\n",
    "    def fit(self, X, y):\n",
    "        X_train, X_test, y_train, y_test = train_test_split(X\n",
    "                                                            , y\n",
    "                                                            , test_size=self.test_size\n",
    "                                                            , random_state=self.random_state)\n",
    "        dim = X_train.shape[1]\n",
    "        self.indices_ = tuple(range(dim))\n",
    "        self.subsets_ = [self.indices_]\n",
    "        score = self._calc_score(X_train, y_train,\n",
    "        X_test, y_test, self.indices_)\n",
    "        \n",
    "        self.scores_ = [score]\n",
    "        \n",
    "        while dim > self.k_features:\n",
    "            scores = []\n",
    "            subsets = []\n",
    "            \n",
    "            for p in combinations(self.indices_, r=dim-1):\n",
    "                score = self._calc_score(X_train, y_train, X_test, y_test, p)\n",
    "                scores.append(score)\n",
    "                subsets.append(p)\n",
    "            best = np.argmax(scores)\n",
    "            self.indices_ = subsets[best]\n",
    "            self.subsets_.append(self.indices_)\n",
    "            dim -= 1\n",
    "            \n",
    "            self.scores_.append(scores[best])\n",
    "            \n",
    "        self.k_score_ = self.scores_[-1]\n",
    "        \n",
    "        return self\n",
    "    \n",
    "    def transform(self, X):\n",
    "        return X[:, self.indices_]\n",
    "\n",
    "    def _calc_score(self\n",
    "                    , X_train\n",
    "                    , y_train\n",
    "                    , X_test\n",
    "                    , y_test\n",
    "                    , indices):\n",
    "        self.estimator.fit(X_train[:, indices], y_train)\n",
    "        y_pred = self.estimator.predict(X_test[:, indices])\n",
    "        score = self.scoring(y_test, y_pred)\n",
    "        return score"
   ]
  },
  {
   "cell_type": "markdown",
   "metadata": {},
   "source": [
    "> KNN 모형에 SBS를 적용"
   ]
  },
  {
   "cell_type": "code",
   "execution_count": 51,
   "metadata": {
    "collapsed": false
   },
   "outputs": [
    {
     "data": {
      "text/plain": [
       "<__main__.SBS at 0x240a11e1a90>"
      ]
     },
     "execution_count": 51,
     "metadata": {},
     "output_type": "execute_result"
    }
   ],
   "source": [
    "from sklearn.neighbors import KNeighborsClassifier\n",
    "import matplotlib.pyplot as plt\n",
    "%matplotlib inline \n",
    "\n",
    "knn = KNeighborsClassifier(n_neighbors=2)\n",
    "sbs = SBS(knn, k_features=1)\n",
    "sbs.fit(X_train_std, y_train)"
   ]
  },
  {
   "cell_type": "markdown",
   "metadata": {},
   "source": [
    "> 변수의 수에 따른 모형 정확도 관찰"
   ]
  },
  {
   "cell_type": "code",
   "execution_count": 52,
   "metadata": {
    "collapsed": false
   },
   "outputs": [
    {
     "data": {
      "image/png": "[encoded data removed]",
      "text/plain": [
       "<matplotlib.figure.Figure at 0x2409e199908>"
      ]
     },
     "metadata": {},
     "output_type": "display_data"
    }
   ],
   "source": [
    "k_feat = [len(k) for k in sbs.subsets_]\n",
    "plt.plot(k_feat, sbs.scores_, marker='o')\n",
    "plt.ylim([0.7, 1.1])\n",
    "plt.ylabel('Accuracy')\n",
    "plt.xlabel('Number of features')\n",
    "plt.grid()\n",
    "plt.show()"
   ]
  },
  {
   "cell_type": "markdown",
   "metadata": {},
   "source": [
    "> 가장 좋은 성능을 내는 가장 적은 변수의 수는 5개"
   ]
  },
  {
   "cell_type": "code",
   "execution_count": 46,
   "metadata": {
    "collapsed": false
   },
   "outputs": [
    {
     "name": "stdout",
     "output_type": "stream",
     "text": [
      "Index(['Alcohol', 'Malic acid', 'Alcalinity of ash', 'Hue', 'Proline'], dtype='object')\n"
     ]
    }
   ],
   "source": [
    "k5 = list(sbs.subsets_[8])\n",
    "print(df_wine.columns[1:][k5])"
   ]
  },
  {
   "cell_type": "markdown",
   "metadata": {},
   "source": [
    "> 전체 변수를 사용 했을 때와, 선택된 5개 변수만을 사용했을 때의 정확도 비교"
   ]
  },
  {
   "cell_type": "code",
   "execution_count": 47,
   "metadata": {
    "collapsed": false
   },
   "outputs": [
    {
     "name": "stdout",
     "output_type": "stream",
     "text": [
      "Training accuracy: 0.983870967742\n",
      "Test accuracy: 0.944444444444\n"
     ]
    }
   ],
   "source": [
    "knn.fit(X_train_std, y_train)\n",
    "print('Training accuracy:', knn.score(X_train_std, y_train))\n",
    "print('Test accuracy:', knn.score(X_test_std, y_test))"
   ]
  },
  {
   "cell_type": "code",
   "execution_count": 48,
   "metadata": {
    "collapsed": false
   },
   "outputs": [
    {
     "name": "stdout",
     "output_type": "stream",
     "text": [
      "Training accuracy: 0.959677419355\n",
      "Test accuracy: 0.962962962963\n"
     ]
    }
   ],
   "source": [
    "knn.fit(X_train_std[:, k5], y_train)\n",
    "print('Training accuracy:', knn.score(X_train_std[:, k5], y_train))\n",
    "print('Test accuracy:', knn.score(X_test_std[:, k5], y_test))\n"
   ]
  },
  {
   "cell_type": "markdown",
   "metadata": {},
   "source": [
    "> Random Forests를 이용한 변수 중요도 판단"
   ]
  },
  {
   "cell_type": "code",
   "execution_count": 53,
   "metadata": {
    "collapsed": false
   },
   "outputs": [
    {
     "name": "stdout",
     "output_type": "stream",
     "text": [
      " 1) Alcohol                        0.182483\n",
      " 2) Malic acid                     0.158610\n",
      " 3) Ash                            0.150948\n",
      " 4) Alcalinity of ash              0.131987\n",
      " 5) Magnesium                      0.106589\n",
      " 6) Total phenols                  0.078243\n",
      " 7) Flavanoids                     0.060718\n",
      " 8) Nonflavanoid phenols           0.032033\n",
      " 9) Proanthocyanins                0.025400\n",
      "10) Color intensity                0.022351\n",
      "11) Hue                            0.022078\n",
      "12) OD280/OD315 of diluted wines   0.014645\n",
      "13) Proline                        0.013916\n"
     ]
    }
   ],
   "source": [
    "from sklearn.ensemble import RandomForestClassifier\n",
    "feat_labels = df_wine.columns[1:]\n",
    "forest = RandomForestClassifier(n_estimators=10000\n",
    "                                , random_state=0\n",
    "                                , n_jobs=-1)\n",
    "forest.fit(X_train, y_train)\n",
    "importances = forest.feature_importances_\n",
    "indices = np.argsort(importances)[::-1]\n",
    "for f in range(X_train.shape[1]):\n",
    "    print(\"%2d) %-*s %f\" % (f + 1, 30, feat_labels[f], importances[indices[f]]))"
   ]
  },
  {
   "cell_type": "code",
   "execution_count": 54,
   "metadata": {
    "collapsed": false
   },
   "outputs": [
    {
     "data": {
      "image/png": "[encoded data removed]",
      "text/plain": [
       "<matplotlib.figure.Figure at 0x240a11b9908>"
      ]
     },
     "metadata": {},
     "output_type": "display_data"
    }
   ],
   "source": [
    "plt.title('Feature Importances')\n",
    "plt.bar(range(X_train.shape[1]), importances[indices], color='lightblue', align='center')\n",
    "plt.xticks(range(X_train.shape[1]), feat_labels, rotation=90)\n",
    "plt.xlim([-1, X_train.shape[1]])\n",
    "plt.tight_layout()\n",
    "plt.show()"
   ]
  }
 ],
 "metadata": {
  "anaconda-cloud": {},
  "kernelspec": {
   "display_name": "Python [Root]",
   "language": "python",
   "name": "Python [Root]"
  },
  "language_info": {
   "codemirror_mode": {
    "name": "ipython",
    "version": 3
   },
   "file_extension": ".py",
   "mimetype": "text/x-python",
   "name": "python",
   "nbconvert_exporter": "python",
   "pygments_lexer": "ipython3",
   "version": "3.5.2"
  }
 },
 "nbformat": 4,
 "nbformat_minor": 0
}
