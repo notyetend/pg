{
 "cells": [
  {
   "cell_type": "markdown",
   "metadata": {},
   "source": [
    "# [ scipy ]"
   ]
  },
  {
   "cell_type": "markdown",
   "metadata": {},
   "source": [
    "### scipy.misc.comb"
   ]
  },
  {
   "cell_type": "code",
   "execution_count": 23,
   "metadata": {
    "collapsed": false
   },
   "outputs": [
    {
     "data": {
      "text/plain": [
       "10.0"
      ]
     },
     "execution_count": 23,
     "metadata": {},
     "output_type": "execute_result"
    }
   ],
   "source": [
    "# combination x choose y\n",
    "from scipy.misc import comb\n",
    "comb(5,2)"
   ]
  },
  {
   "cell_type": "markdown",
   "metadata": {},
   "source": [
    "# [ matplotlib ]"
   ]
  },
  {
   "cell_type": "markdown",
   "metadata": {},
   "source": [
    "### matplotlib.pyplot"
   ]
  },
  {
   "cell_type": "code",
   "execution_count": 24,
   "metadata": {
    "collapsed": false
   },
   "outputs": [
    {
     "data": {
      "image/png": "[encoded data removed]",
      "text/plain": [
       "<matplotlib.figure.Figure at 0x1b447df2940>"
      ]
     },
     "metadata": {},
     "output_type": "display_data"
    }
   ],
   "source": [
    "import matplotlib.pyplot as plt\n",
    "%matplotlib inline\n",
    "# %matplotlib auto\n",
    "\n",
    "x = [1, 2, 3, 4, 5]\n",
    "y1 = [5, 6, 5, 4, 7]\n",
    "y2 = [1, 2, 1, 3, 4]\n",
    "plt.plot(x, y1, label='this is label1', linewidth=3)\n",
    "plt.plot(x, y2, label='this is label2', linewidth=3, linestyle='--')\n",
    "plt.xlabel('x label')\n",
    "plt.ylabel('y label')\n",
    "plt.legend(loc='upper left')\n",
    "plt.grid()\n",
    "plt.show()"
   ]
  },
  {
   "cell_type": "markdown",
   "metadata": {},
   "source": [
    "# [ math ]"
   ]
  },
  {
   "cell_type": "markdown",
   "metadata": {},
   "source": [
    "### math.ceil"
   ]
  },
  {
   "cell_type": "code",
   "execution_count": 26,
   "metadata": {
    "collapsed": false
   },
   "outputs": [
    {
     "data": {
      "text/plain": [
       "2"
      ]
     },
     "execution_count": 26,
     "metadata": {},
     "output_type": "execute_result"
    }
   ],
   "source": [
    "import math\n",
    "math.ceil(1.1)"
   ]
  },
  {
   "cell_type": "markdown",
   "metadata": {},
   "source": [
    "# [ numpy ]"
   ]
  },
  {
   "cell_type": "code",
   "execution_count": 76,
   "metadata": {
    "collapsed": false
   },
   "outputs": [
    {
     "data": {
      "text/plain": [
       "array([[1, 2, 3],\n",
       "       [4, 2, 1]])"
      ]
     },
     "execution_count": 76,
     "metadata": {},
     "output_type": "execute_result"
    }
   ],
   "source": [
    "import numpy as np\n",
    "mat = np.array([[1, 2, 3], [4, 2, 1]]); mat"
   ]
  },
  {
   "cell_type": "markdown",
   "metadata": {},
   "source": [
    "※ **axis in numpy**   \n",
    "예를들어 위의 matrix는 2 x 3 matrix이다.          \n",
    "이런 차원은 numpy에서 shape값으로 존재하며 이 예의 matrix는 shape이 (2, 3)이다."
   ]
  },
  {
   "cell_type": "code",
   "execution_count": 52,
   "metadata": {
    "collapsed": false
   },
   "outputs": [
    {
     "data": {
      "text/plain": [
       "(2, 3)"
      ]
     },
     "execution_count": 52,
     "metadata": {},
     "output_type": "execute_result"
    }
   ],
   "source": [
    "mat.shape"
   ]
  },
  {
   "cell_type": "markdown",
   "metadata": {},
   "source": [
    "numpy의 많은 연산에서는 axis를 지정할 수 있는데,    \n",
    "axis 값은 shape tuple의 index를 의미한다.     \n",
    "따라서 axis=0은 2차원 matrix에서의 행을 의미하고 axis=1은 열을 의미한다.   \n",
    "\n",
    "그런데 2차원을 넘는 다차원 matrix도 가능하므로 이를 행과 열이라 생각하지 말고     \n",
    "axis로 지정된 차원을 병합하는 과정이라 생각하자."
   ]
  },
  {
   "cell_type": "markdown",
   "metadata": {},
   "source": [
    "예를들어 아래와 같이 axis를 0이라 지정한 경우    \n",
    "0번째 shape이 병합되어 연산 결과의 shape은 (3, )이 된다."
   ]
  },
  {
   "cell_type": "code",
   "execution_count": 62,
   "metadata": {
    "collapsed": false
   },
   "outputs": [
    {
     "name": "stdout",
     "output_type": "stream",
     "text": [
      "sum:  [5 4 4] , shape:  (3,) \n",
      "\n",
      "average:  [ 2.5  2.   2. ] , shape:  (3,)\n"
     ]
    }
   ],
   "source": [
    "print('sum: ', np.sum(mat, axis=0), ', shape: ', np.sum(mat, axis=0).shape, '\\n')\n",
    "print('average: ', np.average(mat, axis=0), ', shape: ', np.sum(mat,axis=0).shape)"
   ]
  },
  {
   "cell_type": "markdown",
   "metadata": {},
   "source": [
    "반면 axis를 1이라 지정한 경우   \n",
    "1번째 shape이 병합되어 연산 결과의 shape은 (2,)이 된다."
   ]
  },
  {
   "cell_type": "code",
   "execution_count": 64,
   "metadata": {
    "collapsed": false
   },
   "outputs": [
    {
     "name": "stdout",
     "output_type": "stream",
     "text": [
      "sum:  [6 7] , shape:  (2,) \n",
      "\n",
      "average:  [ 2.          2.33333333] , shape:  (2,)\n"
     ]
    }
   ],
   "source": [
    "print('sum: ', np.sum(mat, axis=1), ', shape: ', np.sum(mat, axis=1).shape, '\\n')\n",
    "print('average: ', np.average(mat, axis=1), ', shape: ', np.sum(mat,axis=1).shape)"
   ]
  },
  {
   "cell_type": "markdown",
   "metadata": {},
   "source": [
    "또한 아래와 같이 axis를 지정하지 않을 경우 matrix는 그냥 vector로 간주되어 계산된다."
   ]
  },
  {
   "cell_type": "code",
   "execution_count": 53,
   "metadata": {
    "collapsed": false,
    "scrolled": true
   },
   "outputs": [
    {
     "name": "stdout",
     "output_type": "stream",
     "text": [
      "sum:  13 \n",
      "\n",
      "average:  2.16666666667\n"
     ]
    }
   ],
   "source": [
    "print('sum: ', np.sum(mat), '\\n')\n",
    "print('average: ', np.average(mat))"
   ]
  },
  {
   "cell_type": "markdown",
   "metadata": {},
   "source": [
    "좀더 고차원 matrix를 예로 들면 아래 matrix의 shape은 2 x 3 x 3이고   \n",
    "2번째 axis인 '4'를 기준으로 sum하면 결과의 shape은 (2, 3)이 된다."
   ]
  },
  {
   "cell_type": "code",
   "execution_count": 72,
   "metadata": {
    "collapsed": false
   },
   "outputs": [
    {
     "name": "stdout",
     "output_type": "stream",
     "text": [
      "[[[1 2 3 4]\n",
      "  [4 2 1 4]\n",
      "  [1 1 2 5]]\n",
      "\n",
      " [[3 2 5 6]\n",
      "  [2 2 2 1]\n",
      "  [3 3 3 2]]]\n",
      "\n",
      "(2, 3, 4)\n"
     ]
    }
   ],
   "source": [
    "import numpy as np\n",
    "mat = np.array([[[1, 2, 3, 4]\n",
    "                 , [4, 2, 1, 4]\n",
    "                 , [1, 1, 2, 5]]\n",
    "                , [[3, 2, 5, 6]\n",
    "                   , [2, 2, 2, 1]\n",
    "                   , [3, 3, 3, 2]]])\n",
    "print(mat)\n",
    "print('')\n",
    "print(mat.shape)"
   ]
  },
  {
   "cell_type": "code",
   "execution_count": 75,
   "metadata": {
    "collapsed": false,
    "scrolled": false
   },
   "outputs": [
    {
     "name": "stdout",
     "output_type": "stream",
     "text": [
      "sum:  [[10 11  9]\n",
      " [16  7 11]]\n",
      "shape:  (2, 3)\n"
     ]
    }
   ],
   "source": [
    "print('sum: ', np.sum(mat, axis=2))\n",
    "print('shape: ', np.sum(mat, axis=2).shape)\n"
   ]
  },
  {
   "cell_type": "markdown",
   "metadata": {},
   "source": [
    "### numpy.arrange"
   ]
  },
  {
   "cell_type": "code",
   "execution_count": 77,
   "metadata": {
    "collapsed": false
   },
   "outputs": [
    {
     "data": {
      "text/plain": [
       "array([ 0. ,  0.1,  0.2,  0.3,  0.4,  0.5,  0.6,  0.7,  0.8,  0.9,  1. ])"
      ]
     },
     "execution_count": 77,
     "metadata": {},
     "output_type": "execute_result"
    }
   ],
   "source": [
    "# arange(start, end, interval)\n",
    "import numpy as np\n",
    "np.arange(0.0, 1.01, 0.1)\n"
   ]
  },
  {
   "cell_type": "markdown",
   "metadata": {},
   "source": [
    "### numpy.array"
   ]
  },
  {
   "cell_type": "code",
   "execution_count": 78,
   "metadata": {
    "collapsed": false
   },
   "outputs": [
    {
     "data": {
      "text/plain": [
       "array([[ 0.9,  0.1],\n",
       "       [ 0.8,  0.2],\n",
       "       [ 0.4,  0.6]])"
      ]
     },
     "execution_count": 78,
     "metadata": {},
     "output_type": "execute_result"
    }
   ],
   "source": [
    "import numpy as np\n",
    "np.array([[0.9, 0.1], [0.8, 0.2], [0.4, 0.6]])"
   ]
  },
  {
   "cell_type": "markdown",
   "metadata": {},
   "source": [
    "### numpy.average"
   ]
  },
  {
   "cell_type": "markdown",
   "metadata": {},
   "source": [
    "numpy.average(a, axis=None, weights=None, returned=False)\n",
    "\n",
    "weight이 주어질 경우 average는 아래와 같이 계산된다.\n",
    "$$avg = \\frac{\\sum_{i=1}^n w_i x_n}{\\sum_{i=1}^n w_i}$$\n",
    "\n",
    "weight이 주어지지 않을 모든 $w_i$가 1인 것과 같다."
   ]
  },
  {
   "cell_type": "markdown",
   "metadata": {},
   "source": [
    "아래 예에서는 \n",
    "$avg_1 = \\frac{1 \\times 0.1 + 4 \\times 0.2}{0.1 + 0.2} = 3.0$"
   ]
  },
  {
   "cell_type": "code",
   "execution_count": 7,
   "metadata": {
    "collapsed": false
   },
   "outputs": [
    {
     "name": "stdout",
     "output_type": "stream",
     "text": [
      "[[1 2 3]\n",
      " [4 2 1]]\n",
      "\n",
      "(2, 3)\n"
     ]
    },
    {
     "data": {
      "text/plain": [
       "array([ 3.        ,  2.        ,  1.66666667])"
      ]
     },
     "execution_count": 7,
     "metadata": {},
     "output_type": "execute_result"
    }
   ],
   "source": [
    "import numpy as np\n",
    "mat = np.array([[1, 2, 3], [4, 2, 1]])\n",
    "print(mat); print('')\n",
    "print(mat.shape)\n",
    "np.average(mat, axis=0, weights=[.1, .2])"
   ]
  },
  {
   "cell_type": "markdown",
   "metadata": {},
   "source": [
    "### numpy.mean"
   ]
  },
  {
   "cell_type": "markdown",
   "metadata": {},
   "source": [
    "numpy.mean(a, axis=None, dtype=None, out=None, keepdims='<'class numpy._globals._NoValue at 0x40b6a26c>)"
   ]
  },
  {
   "cell_type": "code",
   "execution_count": 1,
   "metadata": {
    "collapsed": false
   },
   "outputs": [
    {
     "name": "stdout",
     "output_type": "stream",
     "text": [
      "[[1 2 3]\n",
      " [4 2 1]]\n",
      "\n",
      "(2, 3)\n"
     ]
    }
   ],
   "source": [
    "import numpy as np\n",
    "mat = np.array([[1, 2, 3], [4, 2, 1]]); \n",
    "print(mat); print('')\n",
    "print(mat.shape)"
   ]
  },
  {
   "cell_type": "code",
   "execution_count": 2,
   "metadata": {
    "collapsed": false
   },
   "outputs": [
    {
     "data": {
      "text/plain": [
       "2.1666666666666665"
      ]
     },
     "execution_count": 2,
     "metadata": {},
     "output_type": "execute_result"
    }
   ],
   "source": [
    "np.mean(mat)"
   ]
  },
  {
   "cell_type": "code",
   "execution_count": 3,
   "metadata": {
    "collapsed": false
   },
   "outputs": [
    {
     "data": {
      "text/plain": [
       "array([ 2.5,  2. ,  2. ])"
      ]
     },
     "execution_count": 3,
     "metadata": {},
     "output_type": "execute_result"
    }
   ],
   "source": [
    "np.mean(mat, axis=0)"
   ]
  },
  {
   "cell_type": "code",
   "execution_count": 4,
   "metadata": {
    "collapsed": false
   },
   "outputs": [
    {
     "data": {
      "text/plain": [
       "array([ 2.        ,  2.33333333])"
      ]
     },
     "execution_count": 4,
     "metadata": {},
     "output_type": "execute_result"
    }
   ],
   "source": [
    "np.mean(mat, axis=1)"
   ]
  },
  {
   "cell_type": "markdown",
   "metadata": {},
   "source": [
    "---"
   ]
  },
  {
   "cell_type": "markdown",
   "metadata": {},
   "source": [
    "# [ sklearn ]"
   ]
  },
  {
   "cell_type": "markdown",
   "metadata": {},
   "source": [
    "### 자신만의 estimator 만들기"
   ]
  },
  {
   "cell_type": "markdown",
   "metadata": {},
   "source": [
    "* http://scikit-learn.org/dev/developers/contributing.html#rolling-your-own-estimator\n",
    "* http://danielhnyk.cz/creating-your-own-estimator-scikit-learn/"
   ]
  },
  {
   "cell_type": "markdown",
   "metadata": {},
   "source": [
    "###### 클래스 생성"
   ]
  },
  {
   "cell_type": "markdown",
   "metadata": {},
   "source": [
    "* 자기만의 estimator를 만들려면..   \n",
    "\n",
    "\n",
    "BaseEstimator를 기본으로 상속받고, 하려는 것이 것이 Classification이면 ClassifierMixin / Regression이면 RegressorMixin / Clustering이면 ClusterMixin / Transformation이면 TransformerMixin을 추가로 상속 받는다.\n",
    "\n",
    "```Python\n",
    "from sklearn.base import BaseEstimator, ClassifierMixin\n",
    "\n",
    "class MyClassifier(BaseEstimator, ClassifierMixin):\n",
    "    def __init__(self, arg_alpha, arg_beta):\n",
    "        self.arg_alpha = arg_alpha\n",
    "        self.arg_beta = arg_beta\n",
    "    \n",
    "    def more_functions_below(self):\n",
    "```"
   ]
  },
  {
   "cell_type": "markdown",
   "metadata": {},
   "source": [
    "###### scikit-learn의 구현 규칙"
   ]
  },
  {
   "cell_type": "markdown",
   "metadata": {},
   "source": [
    "scikit-learn에는 몇가지 구현에 관한 규칙이 있다.    \n",
    "- \\__init__ 의 모든 argument들은 초기값이 있어야 한다. 이렇게 하면 MyClassifier()를 통해 모든 argument를 초기화 가능\n",
    "- \\__init__에는 입력 매개변수를 다루는 코드를 두지 않아야 한다. 입력 매개변수에 대한 처리는 모두 fit함수에 위치\n",
    "- \\__init__의 argument명과 그것에 해당하는 class attribute의 이름을 같게 해야 한다.(아래 예)\n",
    "```Python\n",
    "def __init__(self, arg_alpha, arg_beta):\n",
    "    self.arg_alpha = arg_alpha\n",
    "    self.arg_beta = arg_beta\n",
    "```\n",
    "- \\__init__에서 data를 argument로 받지 않도록!, data는 fit함수에서 받는다.\n",
    "- 사용자로부터 노출을 원하지 않는 변수들은 모두 _(underscore)로 시작하는 이름으로 작명한다.(이는 일반적인 Python 구현 전통이기도 하다.)"
   ]
  },
  {
   "cell_type": "markdown",
   "metadata": {},
   "source": [
    "###### get_params, set_params"
   ]
  },
  {
   "cell_type": "markdown",
   "metadata": {},
   "source": [
    "모든 estimator는 get_params와 set_params 함수가 있어야 하는데, 이는 BaseEstimator를 상속받으면 자동 생성된다.  물론 만들게 되는 estimator에서 새롭게 정의하여 override할 수도 있다. (우선 BaseEstimator를 상속 받고 따로 정의하지 않는 것을 권장한다.)"
   ]
  },
  {
   "cell_type": "markdown",
   "metadata": {},
   "source": [
    "###### fit 함수"
   ]
  },
  {
   "cell_type": "markdown",
   "metadata": {},
   "source": [
    "실제 하려는 일들은 거의 대부분 fit함수에 구현하게 된다.    \n",
    "또한 이런 과정(학습, 최적화, ...)의 결과물을 어떤 변수로 저장하고 이를 object attribute으로 사용할 필요가 반드시 생기게 된다. 이런 경우 그 결과 변수명을 _(underscore)로 끝나도록 작명한다.\n",
    "```Python\n",
    "    self.fitted_ = #...fitting process...\n",
    "```\n",
    "또한 fit함수의 마지막에는 return self로 끝나도록 하여, method chain call이 가능하도록 해 둔다."
   ]
  },
  {
   "cell_type": "markdown",
   "metadata": {},
   "source": [
    "###### 반응변수 $\\mathbf{y}$"
   ]
  },
  {
   "cell_type": "markdown",
   "metadata": {},
   "source": [
    "구현하려는 모형에 반응변수 y가 필요없는 경우도 있을 것이다. 그렇다 하더라도 fit, predict, score등 함수에 y를 기본값이 None인 argument로 포함시키도록 한다. 이렇게 해 두면 추후 GridSearch등을 사용할 수 있게 된다.\n",
    "\n",
    "```Python\n",
    "    def fit(self, X, y=None):\n",
    "```"
   ]
  },
  {
   "cell_type": "markdown",
   "metadata": {},
   "source": [
    "###### GridSearch & score"
   ]
  },
  {
   "cell_type": "markdown",
   "metadata": {},
   "source": [
    "GridSearch는 어떤 모형이 더 좋은지 나쁜지를 판단하기 위해 score함수를 호출하여 그 값이 더 큰 모형을 좋은 것으로 판단한다. 따라서 구현하는 class에 적절한 숫자를 반환하는 score 함수를 구현(override) 해 둬야 한다."
   ]
  },
  {
   "cell_type": "markdown",
   "metadata": {},
   "source": [
    "###### Code:"
   ]
  },
  {
   "cell_type": "code",
   "execution_count": 23,
   "metadata": {
    "collapsed": true
   },
   "outputs": [],
   "source": [
    "from sklearn.base import BaseEstimator, ClassifierMixin\n",
    "\n",
    "class MeanClassifier(BaseEstimator, ClassifierMixin):  \n",
    "    \"\"\"An example of classifier\"\"\"\n",
    "\n",
    "    def __init__(self, intValue=0, stringParam=\"defaultValue\", otherParam=None):\n",
    "        \"\"\"\n",
    "        Called when initializing the classifier\n",
    "        \"\"\"\n",
    "        self.intValue = intValue\n",
    "        self.stringParam = stringParam\n",
    "\n",
    "        # THIS IS WRONG! Parameters should have same name as attributes\n",
    "        #self.differentParam = otherParam \n",
    "        self.otherParam = otherParam \n",
    "\n",
    "\n",
    "    def fit(self, X, y=None):\n",
    "        \"\"\"\n",
    "        This should fit classifier. All the \"work\" should be done here.\n",
    "\n",
    "        Note: assert is not a good choice here and you should rather\n",
    "        use try/except blog with exceptions. This is just for short syntax.\n",
    "        \"\"\"\n",
    "        \n",
    "        assert (type(self.intValue) == int), \"intValue parameter must be integer\"\n",
    "        assert (type(self.stringParam) == str), \"stringValue parameter must be string\"\n",
    "        # assert (len(X) == 20), \"X must be list with numerical values.\"\n",
    "\n",
    "        self.treshold_ = (sum(X)/len(X)) + self.intValue  # mean + intValue\n",
    "\n",
    "        return self\n",
    "\n",
    "    def _meaning(self, x):\n",
    "        # returns True/False according to fitted classifier\n",
    "        # notice underscore on the beginning\n",
    "        return( True if x >= self.treshold_ else False )\n",
    "\n",
    "    def predict(self, X, y=None):\n",
    "        try:\n",
    "            getattr(self, \"treshold_\")\n",
    "        except AttributeError:\n",
    "            raise RuntimeError(\"You must train classifer before predicting data!\")\n",
    "\n",
    "        return([self._meaning(x) for x in X])\n",
    "\n",
    "    def score(self, X, y=None):\n",
    "        # counts number of values bigger than mean\n",
    "        return(sum(self.predict(X))) "
   ]
  },
  {
   "cell_type": "code",
   "execution_count": 24,
   "metadata": {
    "collapsed": false
   },
   "outputs": [
    {
     "data": {
      "text/plain": [
       "{'intValue': -10}"
      ]
     },
     "execution_count": 24,
     "metadata": {},
     "output_type": "execute_result"
    }
   ],
   "source": [
    "from sklearn.grid_search import GridSearchCV\n",
    "\n",
    "X_train = [i for i in range(0, 100, 5)]\n",
    "X_test = [i + 3 for i in range(-5, 95, 5)]  \n",
    "tuned_params = {\"intValue\" : [-10,-1,0,1,10]}\n",
    "\n",
    "gs = GridSearchCV(MeanClassifier(), tuned_params)\n",
    "\n",
    "# for some reason I have to pass y with same shape\n",
    "# otherwise gridsearch throws an error. Not sure why.\n",
    "gs.fit(X_test, y=[1 for i in range(20)])\n",
    "\n",
    "gs.best_params_ # {'intValue': -10} # and that is what we expect :) "
   ]
  },
  {
   "cell_type": "markdown",
   "metadata": {},
   "source": [
    "###### \\__init__에서 argument 초기화를 간단히 하는 방법"
   ]
  },
  {
   "cell_type": "markdown",
   "metadata": {},
   "source": [
    "아래와 같이 많은 argument를 초기화 하는 것은 귀찮은 일이다.\n",
    "```Python\n",
    "def __init__(self, arg1, arg2, arg3, ..., argN):  \n",
    "    self.arg1 = arg1\n",
    "    self.arg2 = arg2\n",
    "    .\n",
    "    .\n",
    "    .\n",
    "    self.argN = argN\n",
    "```\n",
    "대신 아래와 같이 insepect, setattr을 이용해 아래와 같이 간편히 할 수 있다.\n",
    "```Python\n",
    "import inspect\n",
    "def __init__(self, arg1, arg2, arg3, ..., argN):\n",
    "\n",
    "    # print(\"Initializing classifier:\\n\")\n",
    "\n",
    "    args, _, _, values = inspect.getargvalues(inspect.currentframe())\n",
    "    values.pop(\"self\")\n",
    "\n",
    "    for arg, val in values.items():\n",
    "        setattr(self, arg, val)\n",
    "        # print(\"{} = {}\".format(arg,val)\n",
    "```"
   ]
  },
  {
   "cell_type": "markdown",
   "metadata": {},
   "source": [
    "### sklearn.base.BaseEstimator\n",
    "- '자신만의 estimator 만들기' 참고"
   ]
  },
  {
   "cell_type": "markdown",
   "metadata": {},
   "source": [
    "### sklearn.base.ClassifierMixin\n",
    "- '자신만의 estimator 만들기' 참고"
   ]
  },
  {
   "cell_type": "markdown",
   "metadata": {},
   "source": [
    "### sklearn.preprocessing.LabelEncoder"
   ]
  },
  {
   "cell_type": "markdown",
   "metadata": {},
   "source": [
    "### sklearn.externals.six"
   ]
  },
  {
   "cell_type": "markdown",
   "metadata": {},
   "source": [
    "### sklearn.base.clone"
   ]
  },
  {
   "cell_type": "markdown",
   "metadata": {},
   "source": [
    "### sklearn.pipeline._name_estimators"
   ]
  },
  {
   "cell_type": "markdown",
   "metadata": {},
   "source": [
    "."
   ]
  },
  {
   "cell_type": "markdown",
   "metadata": {},
   "source": [
    "."
   ]
  },
  {
   "cell_type": "markdown",
   "metadata": {},
   "source": [
    "."
   ]
  },
  {
   "cell_type": "markdown",
   "metadata": {},
   "source": [
    "."
   ]
  },
  {
   "cell_type": "markdown",
   "metadata": {},
   "source": [
    "."
   ]
  },
  {
   "cell_type": "markdown",
   "metadata": {},
   "source": [
    "."
   ]
  },
  {
   "cell_type": "markdown",
   "metadata": {},
   "source": [
    "."
   ]
  },
  {
   "cell_type": "markdown",
   "metadata": {},
   "source": [
    "."
   ]
  },
  {
   "cell_type": "markdown",
   "metadata": {},
   "source": [
    "."
   ]
  }
 ],
 "metadata": {
  "anaconda-cloud": {},
  "kernelspec": {
   "display_name": "Python [conda root]",
   "language": "python",
   "name": "conda-root-py"
  },
  "language_info": {
   "codemirror_mode": {
    "name": "ipython",
    "version": 3
   },
   "file_extension": ".py",
   "mimetype": "text/x-python",
   "name": "python",
   "nbconvert_exporter": "python",
   "pygments_lexer": "ipython3",
   "version": "3.5.2"
  }
 },
 "nbformat": 4,
 "nbformat_minor": 1
}
