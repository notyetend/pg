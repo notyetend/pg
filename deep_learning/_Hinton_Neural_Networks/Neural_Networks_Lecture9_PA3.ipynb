{
 "cells": [
  {
   "cell_type": "markdown",
   "metadata": {},
   "source": [
    "# PA3"
   ]
  },
  {
   "cell_type": "markdown",
   "metadata": {},
   "source": [
    "### a3.m"
   ]
  },
  {
   "cell_type": "markdown",
   "metadata": {},
   "source": [
    "List of functions\n",
    "- a3\n",
    "- test_gradient\n",
    "- logistic\n",
    "- log_sum_exp_over_rows\n",
    "- loss\n",
    "- **d_loss_by_d_model**\n",
    "- model_to_theta\n",
    "- theta_to_model\n",
    "- initial_model\n",
    "- classification_performance"
   ]
  },
  {
   "cell_type": "markdown",
   "metadata": {},
   "source": [
    "###### Function: a3\n",
    "arguments\n",
    "- wd_coefficient:\n",
    "- n_hid: hidden layer의 수\n",
    "- n_iters: iteration의 수?\n",
    "- learning_rate: gradient descent에서 $\\alpha$\n",
    "- momentum_multiplier: moment의 강도?\n",
    "- do_early_stopping: early stoping을 할지 말지 flag\n",
    "- mini_batch_size: mini batch로 얼마나 짤라갈 것인지"
   ]
  },
  {
   "cell_type": "markdown",
   "metadata": {},
   "source": [
    "###### Part 1: Setting up"
   ]
  },
  {
   "cell_type": "markdown",
   "metadata": {},
   "source": [
    "<u>test run</u>   \n",
    "a3(0, 0, 0, 0, 0, false, 0)"
   ]
  },
  {
   "cell_type": "markdown",
   "metadata": {},
   "source": [
    "."
   ]
  },
  {
   "cell_type": "markdown",
   "metadata": {},
   "source": [
    "."
   ]
  },
  {
   "cell_type": "markdown",
   "metadata": {},
   "source": [
    "."
   ]
  },
  {
   "cell_type": "markdown",
   "metadata": {},
   "source": [
    "."
   ]
  }
 ],
 "metadata": {
  "anaconda-cloud": {},
  "kernelspec": {
   "display_name": "Python [default]",
   "language": "python",
   "name": "python3"
  },
  "language_info": {
   "codemirror_mode": {
    "name": "ipython",
    "version": 3
   },
   "file_extension": ".py",
   "mimetype": "text/x-python",
   "name": "python",
   "nbconvert_exporter": "python",
   "pygments_lexer": "ipython3",
   "version": "3.5.2"
  }
 },
 "nbformat": 4,
 "nbformat_minor": 1
}
