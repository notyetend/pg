{
 "cells": [
  {
   "cell_type": "markdown",
   "metadata": {},
   "source": [
    "![Local image](./images/silver/04_MC-TD-01.png)"
   ]
  },
  {
   "cell_type": "markdown",
   "metadata": {},
   "source": [
    "![Local image](./images/silver/04_MC-TD-02.png)"
   ]
  },
  {
   "cell_type": "markdown",
   "metadata": {},
   "source": [
    "대표적인 model-free 알고리즘으로 episode 마다 update하는 Monte-Carlo Learning과 time step마다 update하는 Temporal-Difference Learning이 있다. 그리고 이 두 방법을 결합한 TD($\\lambda$)가 있다."
   ]
  },
  {
   "cell_type": "markdown",
   "metadata": {},
   "source": [
    "![Local image](./images/silver/04_MC-TD-03.png)"
   ]
  },
  {
   "cell_type": "markdown",
   "metadata": {},
   "source": [
    "지난 시간에 다뤘던 dynamic programming에서는 환경에 대한 정보를 모두 알고 있다는 가정이 있었다. 하지만 이제부터 다룰 model-free 방법에서는 그러한 가정이 존재하지 않는다.\n",
    "\n",
    "model-free 방법에서는 에이전트와 환경과의 상호작용을 바로 가치함수에 적용하는 방식을 사용한다???\n",
    "\n",
    "- model-free prediction은 어떤 정책이 따랐을 때 얼마의 보상을 얻을 것인가를 찾는 것이다.(정책 평가)\n",
    "- model-free control에서는 model-free prediction에서 구한 정보??를 이용해 최적 가치함수를 찾는 것이다.(최적 정책을 찾는것-최적화)"
   ]
  },
  {
   "cell_type": "markdown",
   "metadata": {},
   "source": [
    "![Local image](./images/silver/04_MC-TD-04.png)"
   ]
  },
  {
   "cell_type": "markdown",
   "metadata": {},
   "source": [
    "?"
   ]
  },
  {
   "cell_type": "markdown",
   "metadata": {},
   "source": [
    "![Local image](./images/silver/04_MC-TD-05.png)"
   ]
  },
  {
   "cell_type": "markdown",
   "metadata": {},
   "source": [
    "![Local image](./images/silver/04_MC-TD-06.png)"
   ]
  },
  {
   "cell_type": "markdown",
   "metadata": {},
   "source": [
    "랜덤하게 생성한 에피소드들을 생성하고, 각 상태마다 리턴을 계산할 수 있을 것이다. 그런데 어떤 상태에 대해 어떤 에피소드는 그 상태를 한번만 지나간 것도 있을 것이고, 여러번 지나간 에피소드도 있을 것이다.\n",
    "\n",
    "처음 지나간 에피소드에 대해서만 평균을 계산하는 것이 first-visit 방법이고, 한번 이상 지나간 에피소드도 모아서 평균을 계산하는 것이 every-visit 방법이다."
   ]
  },
  {
   "cell_type": "markdown",
   "metadata": {},
   "source": [
    "![Local image](./images/silver/04_MC-TD-07.png)"
   ]
  },
  {
   "cell_type": "markdown",
   "metadata": {},
   "source": [
    "![Local image](./images/silver/04_MC-TD-08.png)"
   ]
  },
  {
   "cell_type": "markdown",
   "metadata": {},
   "source": [
    "![Local image](./images/silver/04_MC-TD-09.png)"
   ]
  },
  {
   "cell_type": "markdown",
   "metadata": {},
   "source": [
    "![Local image](./images/silver/04_MC-TD-10.png)"
   ]
  },
  {
   "cell_type": "markdown",
   "metadata": {},
   "source": [
    "![Local image](./images/silver/04_MC-TD-11.png)"
   ]
  },
  {
   "cell_type": "markdown",
   "metadata": {},
   "source": [
    "과거의 값일수록 더 큰 가중치로 잊어버리고 싶다면(non-stationary problem) 오차 항에 대한 가중치로 $1/N(S_t)$ 대신 $\\alpha$를 사용하면 된다."
   ]
  },
  {
   "cell_type": "markdown",
   "metadata": {},
   "source": [
    "# Temporal-Difference Learning"
   ]
  },
  {
   "cell_type": "markdown",
   "metadata": {},
   "source": [
    "![Local image](./images/silver/04_MC-TD-12.png)"
   ]
  },
  {
   "cell_type": "markdown",
   "metadata": {},
   "source": [
    "![Local image](./images/silver/04_MC-TD-13.png)"
   ]
  },
  {
   "cell_type": "markdown",
   "metadata": {},
   "source": [
    "![Local image](./images/silver/04_MC-TD-14.png)"
   ]
  },
  {
   "cell_type": "markdown",
   "metadata": {},
   "source": [
    "![Local image](./images/silver/04_MC-TD-15.png)"
   ]
  },
  {
   "cell_type": "markdown",
   "metadata": {},
   "source": [
    "![Local image](./images/silver/04_MC-TD-16.png)"
   ]
  },
  {
   "cell_type": "markdown",
   "metadata": {},
   "source": [
    "![Local image](./images/silver/04_MC-TD-17.png)"
   ]
  },
  {
   "cell_type": "markdown",
   "metadata": {},
   "source": [
    "![Local image](./images/silver/04_MC-TD-18.png)"
   ]
  },
  {
   "cell_type": "markdown",
   "metadata": {},
   "source": [
    "![Local image](./images/silver/04_MC-TD-19.png)"
   ]
  },
  {
   "cell_type": "markdown",
   "metadata": {},
   "source": [
    "![Local image](./images/silver/04_MC-TD-20.png)"
   ]
  },
  {
   "cell_type": "markdown",
   "metadata": {},
   "source": [
    "![Local image](./images/silver/04_MC-TD-21.png)"
   ]
  },
  {
   "cell_type": "markdown",
   "metadata": {},
   "source": [
    "![Local image](./images/silver/04_MC-TD-22.png)"
   ]
  },
  {
   "cell_type": "markdown",
   "metadata": {},
   "source": [
    "![Local image](./images/silver/04_MC-TD-23.png)"
   ]
  },
  {
   "cell_type": "markdown",
   "metadata": {},
   "source": [
    "아래 수식에서 $\\hat{\\mathcal{P}}_{s, s\\prime}^a$는 상태 $s$에서 행동 $a$를 했을 때 상태 $s\\prime$으로 상태 전이될 확률을 의미한다. 샘플을 이용해 이를 구하기 위해서는 `[상태 $s$에서 행동 $a$을 하여 상태 $s\\prime$으로 전이된 횟수]`를 `[상태 $s$에서 행동 $a$을 한 횟수]`로 나눠준다. 다음으로 $\\hat{\\mathcal{R}}_s^a$는 상태 $s$에서 행동 $a$를 했을 때 즉시 받게되는 보상으로서 `[상태 $s$에서 행동 $a$을 하여 즉시 받게된 보상들의 합]`을 `[상태 $s$에서 행동 $a$을 한 횟수]`로 나눠준다"
   ]
  },
  {
   "cell_type": "markdown",
   "metadata": {},
   "source": [
    "이전 슬라이드(AB Example)을 다시 살펴보면 상태 A에서 전이될 수 있는 상태는 B뿐이며  $V(A)=r_A + V(B)=0+6/8=0.75$이다. 상태 B에서 전이될 수 있는 상태는 두가지의 종료(terminate) 상태이며 받을 수 있는 기대보상 $V(B)$는 $6/8=0.75$이다. "
   ]
  },
  {
   "cell_type": "markdown",
   "metadata": {},
   "source": [
    "![Local image](./images/silver/04_MC-TD-24.png)"
   ]
  },
  {
   "cell_type": "markdown",
   "metadata": {},
   "source": [
    "![Local image](./images/silver/04_MC-TD-25.png)"
   ]
  },
  {
   "cell_type": "markdown",
   "metadata": {},
   "source": [
    "MC는 하나의 에피소드가 종료될 때까지 기다린 후 $V(S_t)$를 업데이트 한다."
   ]
  },
  {
   "cell_type": "markdown",
   "metadata": {},
   "source": [
    "![Local image](./images/silver/04_MC-TD-26.png)"
   ]
  },
  {
   "cell_type": "markdown",
   "metadata": {},
   "source": [
    "TD는 상태 $S_t$에서 어떤 행동을 해서 상태 $S_{t+1}$으로 전이된 후 그때의 $V(S_{t+1})$와 즉시 보상 $R_{t+1}$을 이용해 $V(S_t)$를 업데이트 한다."
   ]
  },
  {
   "cell_type": "markdown",
   "metadata": {},
   "source": [
    "![Local image](./images/silver/04_MC-TD-27.png)"
   ]
  },
  {
   "cell_type": "markdown",
   "metadata": {},
   "source": [
    "DP 또한 바로 다음 상태까지를 보고 지금의 가치를 업데이트 하지만 지금 상태 $S_t$에서 가능한 모든 행동에 따른 즉시 보상과 가능한 모든 상태의 가치값들의 평균값으로 지금 상태의 가치 $V(S_t)$를 업데이트 한다."
   ]
  },
  {
   "cell_type": "markdown",
   "metadata": {},
   "source": [
    "![Local image](./images/silver/04_MC-TD-28.png)"
   ]
  },
  {
   "cell_type": "markdown",
   "metadata": {},
   "source": [
    "Bootstrapping은 가치의 추정치를 이용하는 방식이고, Sampling은 특정 정책에 따라 생성한 에피소드들을 이용한다???"
   ]
  },
  {
   "cell_type": "markdown",
   "metadata": {},
   "source": [
    "![Local image](./images/silver/04_MC-TD-29.png)"
   ]
  },
  {
   "cell_type": "markdown",
   "metadata": {},
   "source": [
    "![Local image](./images/silver/04_MC-TD-30.png)"
   ]
  },
  {
   "cell_type": "markdown",
   "metadata": {},
   "source": [
    "### TD($\\lambda$)"
   ]
  },
  {
   "cell_type": "markdown",
   "metadata": {},
   "source": [
    "![Local image](./images/silver/04_MC-TD-31.png)"
   ]
  },
  {
   "cell_type": "markdown",
   "metadata": {},
   "source": [
    "![Local image](./images/silver/04_MC-TD-32.png)"
   ]
  },
  {
   "cell_type": "markdown",
   "metadata": {},
   "source": [
    "![Local image](./images/silver/04_MC-TD-33.png)"
   ]
  },
  {
   "cell_type": "markdown",
   "metadata": {},
   "source": [
    "![Local image](./images/silver/04_MC-TD-34.png)"
   ]
  },
  {
   "cell_type": "markdown",
   "metadata": {},
   "source": [
    "### Forward View of TD(lambda)"
   ]
  },
  {
   "cell_type": "markdown",
   "metadata": {},
   "source": [
    "![Local image](./images/silver/04_MC-TD-35.png)"
   ]
  },
  {
   "cell_type": "markdown",
   "metadata": {},
   "source": [
    "![Local image](./images/silver/04_MC-TD-36.png)"
   ]
  },
  {
   "cell_type": "markdown",
   "metadata": {},
   "source": [
    "![Local image](./images/silver/04_MC-TD-37.png)"
   ]
  },
  {
   "cell_type": "markdown",
   "metadata": {},
   "source": [
    "![Local image](./images/silver/04_MC-TD-38.png)"
   ]
  },
  {
   "cell_type": "markdown",
   "metadata": {},
   "source": [
    "### Backward View of TD(lambda)"
   ]
  },
  {
   "cell_type": "markdown",
   "metadata": {},
   "source": [
    "![Local image](./images/silver/04_MC-TD-39.png)"
   ]
  },
  {
   "cell_type": "markdown",
   "metadata": {},
   "source": [
    "![Local image](./images/silver/04_MC-TD-40.png)"
   ]
  },
  {
   "cell_type": "markdown",
   "metadata": {},
   "source": [
    "![Local image](./images/silver/04_MC-TD-41.png)"
   ]
  },
  {
   "cell_type": "markdown",
   "metadata": {},
   "source": [
    "### Relationship Between Forward and Backward TD"
   ]
  },
  {
   "cell_type": "markdown",
   "metadata": {},
   "source": [
    "![Local image](./images/silver/04_MC-TD-42.png)"
   ]
  },
  {
   "cell_type": "markdown",
   "metadata": {},
   "source": [
    "![Local image](./images/silver/04_MC-TD-43.png)"
   ]
  },
  {
   "cell_type": "markdown",
   "metadata": {},
   "source": [
    "### Forward and Backward Equivalence"
   ]
  },
  {
   "cell_type": "markdown",
   "metadata": {},
   "source": [
    "![Local image](./images/silver/04_MC-TD-44.png)"
   ]
  },
  {
   "cell_type": "markdown",
   "metadata": {},
   "source": [
    "![Local image](./images/silver/04_MC-TD-45.png)"
   ]
  },
  {
   "cell_type": "markdown",
   "metadata": {},
   "source": [
    "![Local image](./images/silver/04_MC-TD-46.png)"
   ]
  },
  {
   "cell_type": "markdown",
   "metadata": {},
   "source": [
    "![Local image](./images/silver/04_MC-TD-47.png)"
   ]
  },
  {
   "cell_type": "markdown",
   "metadata": {},
   "source": [
    "![Local image](./images/silver/04_MC-TD-48.png)"
   ]
  },
  {
   "cell_type": "markdown",
   "metadata": {},
   "source": [
    "![Local image](./images/silver/04_MC-TD-49.png)"
   ]
  },
  {
   "cell_type": "markdown",
   "metadata": {},
   "source": [
    "![Local image](./images/silver/04_MC-TD-50.png)"
   ]
  },
  {
   "cell_type": "markdown",
   "metadata": {},
   "source": [
    "![Local image](./images/silver/04_MC-TD-51.png)"
   ]
  },
  {
   "cell_type": "code",
   "execution_count": null,
   "metadata": {
    "collapsed": true
   },
   "outputs": [],
   "source": []
  }
 ],
 "metadata": {
  "kernelspec": {
   "display_name": "Python 3",
   "language": "python",
   "name": "python3"
  },
  "language_info": {
   "codemirror_mode": {
    "name": "ipython",
    "version": 3
   },
   "file_extension": ".py",
   "mimetype": "text/x-python",
   "name": "python",
   "nbconvert_exporter": "python",
   "pygments_lexer": "ipython3",
   "version": "3.6.1"
  }
 },
 "nbformat": 4,
 "nbformat_minor": 2
}
