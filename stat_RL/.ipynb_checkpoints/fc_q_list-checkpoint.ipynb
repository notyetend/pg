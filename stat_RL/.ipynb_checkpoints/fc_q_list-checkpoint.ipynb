{
 "cells": [
  {
   "cell_type": "markdown",
   "metadata": {},
   "source": [
    "> - 8주차 코드(maximum_entropy_irl)중 'Maximum Entropy Inverse Reinforce Learning'의 Step3에     \n",
    "gradient of $\\theta$를 아래와 같이 구하고 있는데요.\n",
    "$$ d\\theta_{sas'} = P(s'|s,a)(\\rho_{E}(s,a) - \\rho_{\\pi}(s,a)) $$\n",
    "왜 이렇게 나오는지 모르겠음.\n",
    "\n",
    "> $$\\min_\\theta \\max_\\pi \\bigg[ \\alpha H(\\pi) + \\sum_{s, a} \\theta^T \\mu_\\pi(s, a) - \\sum_{s, a} \\theta^T \\mu_E(s, a) \\bigg]$$\n",
    "> - 위 목적함수에서 우선 $\\max_\\pi \\bigg[ \\alpha H(\\pi) + \\sum_{s, a} \\theta^T \\mu_\\pi(s, a) \\bigg]$를 푸는 것은 soft MDP를 푸는것이다. 그리고 나서 남아 있는 $\\theta$가 들어 있는 항들은 $\\min_\\theta \\bigg[ \\sum_{s, a} \\theta^T \\mu_\\pi(s, a) - \\sum_{s, a} \\theta^T \\mu_E(s, a) \\bigg]$일텐데... 위에 gradient는 어떻게 나오고, minimize이면 $\\theta_{sas'} \\leftarrow \\theta_{sas'} - \\alpha d \\theta_{sas'}$ 와 같이 minus이어야 하지 않은가?\n"
   ]
  },
  {
   "cell_type": "markdown",
   "metadata": {},
   "source": []
  },
  {
   "cell_type": "markdown",
   "metadata": {},
   "source": []
  },
  {
   "cell_type": "markdown",
   "metadata": {},
   "source": []
  },
  {
   "cell_type": "markdown",
   "metadata": {},
   "source": []
  },
  {
   "cell_type": "markdown",
   "metadata": {},
   "source": []
  },
  {
   "cell_type": "markdown",
   "metadata": {},
   "source": []
  },
  {
   "cell_type": "markdown",
   "metadata": {},
   "source": []
  },
  {
   "cell_type": "markdown",
   "metadata": {},
   "source": []
  }
 ],
 "metadata": {
  "kernelspec": {
   "display_name": "Python 3",
   "language": "python",
   "name": "python3"
  },
  "language_info": {
   "codemirror_mode": {
    "name": "ipython",
    "version": 3
   },
   "file_extension": ".py",
   "mimetype": "text/x-python",
   "name": "python",
   "nbconvert_exporter": "python",
   "pygments_lexer": "ipython3",
   "version": "3.6.4"
  }
 },
 "nbformat": 4,
 "nbformat_minor": 2
}
