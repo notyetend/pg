{
 "cells": [
  {
   "cell_type": "markdown",
   "metadata": {},
   "source": [
    "Trust Region Policy Optimization"
   ]
  },
  {
   "cell_type": "markdown",
   "metadata": {},
   "source": [
    "###### [2] . Prelimininaries"
   ]
  },
  {
   "cell_type": "markdown",
   "metadata": {},
   "source": []
  },
  {
   "cell_type": "markdown",
   "metadata": {},
   "source": []
  },
  {
   "cell_type": "markdown",
   "metadata": {},
   "source": []
  },
  {
   "cell_type": "markdown",
   "metadata": {},
   "source": []
  },
  {
   "cell_type": "markdown",
   "metadata": {},
   "source": [
    "###### [6]. Practical Algorithm"
   ]
  },
  {
   "cell_type": "markdown",
   "metadata": {},
   "source": [
    "> - 이론적으로 그럴듯한 것이 아니라 보다 실전에 사용할만한 알고리즘을 소개하려 한다. 설명할 알고리즘은 아래 3 단계를 반복 수행한다.\n",
    ">  1. single path나 vine을 이용해 state-action 쌍을 추출하는데, 이때 각 state-action에 해당하는 Q-value도 계산한다.\n",
    "  2. 모은 샘플들을 이용해 eq(14)의 objective와 constraint에 필요한 계수들을 준비한다.\n",
    "  $$\\begin{align}\n",
    "  &\\text{maximize}_{\\theta} \\mathbb{E}_{s \\sim \\rho_{\\theta_{\\text{old}}}, a \\sim q} \\bigg[ \\frac{\\pi_\\theta(a \\mid s)}{q(a \\mid s)} Q_{\\theta_{\\text{old}}}(s, a) \\bigg] \\\\\n",
    "      & \\text{subject to }\\mathbb{E}_{s \\sim \\rho_{\\theta_{\\text{old}}}} \\bigg[ D_{\\text{KL}}\\big(\\pi_{\\theta_{\\text{old}}}(\\cdot \\mid s) \\Vert \\pi_{\\theta}(\\cdot \\mid s)\\big)\\bigg] \\leq \\delta\n",
    "  \\end{align}$$\n",
    "  3. 위 수식을 근사적으로 풀어 정책 네트워크의 파라미터 $\\theta$를 업데이트 한다. 이때 conjugate gradient알고리즘과 line search를 사용한다.(이는 실제 gradient를 계산하는 것보다 살짝 비용이 더 든다.)"
   ]
  },
  {
   "cell_type": "markdown",
   "metadata": {},
   "source": []
  },
  {
   "cell_type": "markdown",
   "metadata": {},
   "source": []
  },
  {
   "cell_type": "markdown",
   "metadata": {},
   "source": []
  },
  {
   "cell_type": "markdown",
   "metadata": {},
   "source": []
  },
  {
   "cell_type": "markdown",
   "metadata": {},
   "source": []
  }
 ],
 "metadata": {
  "kernelspec": {
   "display_name": "Python 3",
   "language": "python",
   "name": "python3"
  },
  "language_info": {
   "codemirror_mode": {
    "name": "ipython",
    "version": 3
   },
   "file_extension": ".py",
   "mimetype": "text/x-python",
   "name": "python",
   "nbconvert_exporter": "python",
   "pygments_lexer": "ipython3",
   "version": "3.6.4"
  }
 },
 "nbformat": 4,
 "nbformat_minor": 2
}
