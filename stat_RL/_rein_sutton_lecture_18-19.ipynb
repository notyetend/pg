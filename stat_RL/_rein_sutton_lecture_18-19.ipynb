{
 "cells": [
  {
   "cell_type": "markdown",
   "metadata": {},
   "source": [
    "![Local image](./images/sutton_lecture/18-19-onpolicy-prediction-01.png)"
   ]
  },
  {
   "cell_type": "markdown",
   "metadata": {},
   "source": [
    "![Local image](./images/sutton_lecture/18-19-onpolicy-prediction-02.png)"
   ]
  },
  {
   "cell_type": "markdown",
   "metadata": {},
   "source": [
    "![Local image](./images/sutton_lecture/18-19-onpolicy-prediction-03.png)"
   ]
  },
  {
   "cell_type": "markdown",
   "metadata": {},
   "source": [
    "![Local image](./images/sutton_lecture/18-19-onpolicy-prediction-04.png)"
   ]
  },
  {
   "cell_type": "markdown",
   "metadata": {},
   "source": [
    "![Local image](./images/sutton_lecture/18-19-onpolicy-prediction-05.png)"
   ]
  },
  {
   "cell_type": "markdown",
   "metadata": {},
   "source": [
    "![Local image](./images/sutton_lecture/18-19-onpolicy-prediction-06.png)"
   ]
  },
  {
   "cell_type": "markdown",
   "metadata": {},
   "source": [
    "![Local image](./images/sutton_lecture/18-19-onpolicy-prediction-07.png)"
   ]
  },
  {
   "cell_type": "markdown",
   "metadata": {},
   "source": [
    "$V(s)$ : random variable changing over time that is estimate for the true value function.\n",
    "\n",
    "$v_{\\pi}(s)$ : function of state which is the true value.\n",
    "\n",
    "$\\hat{v}(s, \\mathbf{w})$ : function with weight and state"
   ]
  },
  {
   "cell_type": "markdown",
   "metadata": {},
   "source": [
    "![Local image](./images/sutton_lecture/18-19-onpolicy-prediction-08.png)"
   ]
  },
  {
   "cell_type": "markdown",
   "metadata": {},
   "source": [
    "![Local image](./images/sutton_lecture/18-19-onpolicy-prediction-09.png)"
   ]
  },
  {
   "cell_type": "markdown",
   "metadata": {},
   "source": [
    "![Local image](./images/sutton_lecture/18-19-onpolicy-prediction-10.png)"
   ]
  },
  {
   "cell_type": "markdown",
   "metadata": {},
   "source": [
    "![Local image](./images/sutton_lecture/18-19-onpolicy-prediction-11.png)"
   ]
  },
  {
   "cell_type": "markdown",
   "metadata": {},
   "source": [
    "4째줄부터 2가 빠짐(오타)\n",
    "\n",
    "Semi-gradient? Monte Carlo 같이 target이 $w$에 대한 함수가 아닌 경우에는 그냥 gradient라 할 수 있지만, TD는 target이 $w$에 의존적이다. 이런 경우에는 그냥 이 의존성을 무시하고 위 식을 그대로 이용할 것이라서 Semi-gradient가 된다."
   ]
  },
  {
   "cell_type": "markdown",
   "metadata": {},
   "source": [
    "![Local image](./images/sutton_lecture/18-19-onpolicy-prediction-12.png)"
   ]
  },
  {
   "cell_type": "markdown",
   "metadata": {},
   "source": [
    "$\\hat{v}$는 $v_{\\pi}$에 대한 추정치"
   ]
  },
  {
   "cell_type": "markdown",
   "metadata": {},
   "source": [
    "![Local image](./images/sutton_lecture/18-19-onpolicy-prediction-13.png)"
   ]
  },
  {
   "cell_type": "markdown",
   "metadata": {},
   "source": [
    "![Local image](./images/sutton_lecture/18-19-onpolicy-prediction-14.png)"
   ]
  },
  {
   "cell_type": "markdown",
   "metadata": {},
   "source": [
    "![Local image](./images/sutton_lecture/18-19-onpolicy-prediction-15.png)"
   ]
  },
  {
   "cell_type": "markdown",
   "metadata": {},
   "source": [
    "![Local image](./images/sutton_lecture/18-19-onpolicy-prediction-16.png)"
   ]
  },
  {
   "cell_type": "markdown",
   "metadata": {},
   "source": [
    "State distribution을 보면, 모든 에피소드가 state-500은 방문하므로 빈도가 높음."
   ]
  },
  {
   "cell_type": "markdown",
   "metadata": {},
   "source": [
    "![Local image](./images/sutton_lecture/18-19-onpolicy-prediction-17.png)"
   ]
  },
  {
   "cell_type": "markdown",
   "metadata": {},
   "source": [
    "![Local image](./images/sutton_lecture/18-19-onpolicy-prediction-18.png)"
   ]
  },
  {
   "cell_type": "markdown",
   "metadata": {},
   "source": [
    "![Local image](./images/sutton_lecture/18-19-onpolicy-prediction-19.png)"
   ]
  },
  {
   "cell_type": "markdown",
   "metadata": {},
   "source": [
    "![Local image](./images/sutton_lecture/18-19-onpolicy-prediction-20.png)"
   ]
  },
  {
   "cell_type": "markdown",
   "metadata": {},
   "source": [
    "![Local image](./images/sutton_lecture/18-19-onpolicy-prediction-21.png)"
   ]
  },
  {
   "cell_type": "markdown",
   "metadata": {},
   "source": [
    "advanced topic"
   ]
  },
  {
   "cell_type": "markdown",
   "metadata": {},
   "source": [
    "![Local image](./images/sutton_lecture/18-19-onpolicy-prediction-22.png)"
   ]
  },
  {
   "cell_type": "markdown",
   "metadata": {},
   "source": [
    "![Local image](./images/sutton_lecture/18-19-onpolicy-prediction-23.png)"
   ]
  },
  {
   "cell_type": "markdown",
   "metadata": {},
   "source": [
    "![Local image](./images/sutton_lecture/18-19-onpolicy-prediction-24.png)"
   ]
  },
  {
   "cell_type": "markdown",
   "metadata": {},
   "source": [
    "![Local image](./images/sutton_lecture/18-19-onpolicy-prediction-25.png)"
   ]
  },
  {
   "cell_type": "markdown",
   "metadata": {},
   "source": [
    "![Local image](./images/sutton_lecture/18-19-onpolicy-prediction-26.png)"
   ]
  },
  {
   "cell_type": "markdown",
   "metadata": {},
   "source": [
    "![Local image](./images/sutton_lecture/18-19-onpolicy-prediction-27.png)"
   ]
  },
  {
   "cell_type": "markdown",
   "metadata": {},
   "source": [
    "![Local image](./images/sutton_lecture/18-19-onpolicy-prediction-28.png)"
   ]
  },
  {
   "cell_type": "markdown",
   "metadata": {},
   "source": [
    "![Local image](./images/sutton_lecture/18-19-onpolicy-prediction-29.png)"
   ]
  },
  {
   "cell_type": "code",
   "execution_count": null,
   "metadata": {
    "collapsed": true
   },
   "outputs": [],
   "source": []
  },
  {
   "cell_type": "code",
   "execution_count": null,
   "metadata": {
    "collapsed": true
   },
   "outputs": [],
   "source": []
  }
 ],
 "metadata": {
  "kernelspec": {
   "display_name": "Python 3",
   "language": "python",
   "name": "python3"
  },
  "language_info": {
   "codemirror_mode": {
    "name": "ipython",
    "version": 3
   },
   "file_extension": ".py",
   "mimetype": "text/x-python",
   "name": "python",
   "nbconvert_exporter": "python",
   "pygments_lexer": "ipython3",
   "version": "3.6.1"
  }
 },
 "nbformat": 4,
 "nbformat_minor": 2
}
