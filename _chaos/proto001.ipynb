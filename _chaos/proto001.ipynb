{
 "cells": [
  {
   "cell_type": "markdown",
   "metadata": {},
   "source": [
    "###### table"
   ]
  },
  {
   "cell_type": "code",
   "execution_count": null,
   "metadata": {
    "collapsed": true
   },
   "outputs": [],
   "source": [
    "'''\n",
    "create table dat001 (\n",
    "\tpartkey_month int(11) not null,\n",
    "\tlog_idx bigint(20) not null auto_increment,\n",
    "\treceived_dt datetime default null,\n",
    "\tdevice_id char(50) default null,\n",
    "\tchannel_size int(10) default null,\n",
    "\t\n",
    "\tscan_no int(10) default null,\n",
    "\tmeasure_dt datetime default null,\n",
    "\tpart_id char(50) default null,\n",
    "\t\n",
    "\tval_gold float(25, 9) default null,\n",
    "\tval_silver float(25, 9) default null,\n",
    "\treg_dt datetime default null,\n",
    "\treg_date char(10) default null,\n",
    "\tprimary key (log_idx, partkey_month),\n",
    "\tkey dat001__reg_date__device_id(reg_date, device_id)\n",
    ") engine=innodb auto_increment=1 default charset=utf8 comment='measurement data'\n",
    "/*!50100 PARTITION BY LIST (partkey_month)\n",
    "(PARTITION dat001_P01 VALUES IN (1) ENGINE = InnoDB,\n",
    " PARTITION dat001_P02 VALUES IN (2) ENGINE = InnoDB,\n",
    " PARTITION dat001_P03 VALUES IN (3) ENGINE = InnoDB,\n",
    " PARTITION dat001_P04 VALUES IN (4) ENGINE = InnoDB,\n",
    " PARTITION dat001_P05 VALUES IN (5) ENGINE = InnoDB,\n",
    " PARTITION dat001_P06 VALUES IN (6) ENGINE = InnoDB,\n",
    " PARTITION dat001_P07 VALUES IN (7) ENGINE = InnoDB,\n",
    " PARTITION dat001_P08 VALUES IN (8) ENGINE = InnoDB,\n",
    " PARTITION dat001_P09 VALUES IN (9) ENGINE = InnoDB,\n",
    " PARTITION dat001_P10 VALUES IN (10) ENGINE = InnoDB,\n",
    " PARTITION dat001_P11 VALUES IN (11) ENGINE = InnoDB,\n",
    " PARTITION dat001_P12 VALUES IN (12) ENGINE = InnoDB) */\n",
    " '''"
   ]
  },
  {
   "cell_type": "code",
   "execution_count": 18,
   "metadata": {},
   "outputs": [
    {
     "data": {
      "text/plain": [
       "'\\ncreate table dat001 (\\n\\treceived_dt datetime default null,\\n\\tdevice_id char(50) default null,\\n\\tchannel_size int(10) default null,\\n\\t\\n\\tscan_no int(10) default null,\\n\\tmeasure_dt datetime default null,\\n\\tpart_id char(50) default null,\\n\\t\\n\\tval_gold float(25, 9) default null,\\n\\tval_silver float(25, 9) default null,\\n\\treg_dt datetime default null,\\n\\treg_date char(10) default null\\n)\\n'"
      ]
     },
     "execution_count": 18,
     "metadata": {},
     "output_type": "execute_result"
    }
   ],
   "source": [
    "'''\n",
    "create table dat001 (\n",
    "\treceived_dt datetime default null,\n",
    "\tdevice_id char(50) default null,\n",
    "\tchannel_size int(10) default null,\n",
    "\t\n",
    "\tscan_no int(10) default null,\n",
    "\tmeasure_dt datetime default null,\n",
    "\tpart_id char(50) default null,\n",
    "\t\n",
    "\tval_gold float(25, 9) default null,\n",
    "\tval_silver float(25, 9) default null,\n",
    "\treg_dt datetime default null,\n",
    "\treg_date char(10) default null\n",
    ")\n",
    "'''"
   ]
  },
  {
   "cell_type": "markdown",
   "metadata": {},
   "source": [
    "###### load data"
   ]
  },
  {
   "cell_type": "code",
   "execution_count": 26,
   "metadata": {
    "scrolled": true
   },
   "outputs": [
    {
     "name": "stdout",
     "output_type": "stream",
     "text": [
      "C:\\My\\test_basic_materials\\csv\n"
     ]
    }
   ],
   "source": [
    "import os\n",
    "\n",
    "os.chdir(r'C:\\My\\test_basic_materials\\csv')\n",
    "print(os.getcwd())"
   ]
  },
  {
   "cell_type": "code",
   "execution_count": 29,
   "metadata": {},
   "outputs": [],
   "source": [
    "from datetime import datetime\n",
    "import pymysql\n",
    "\n",
    "\n",
    "table_name = 'dat001'\n",
    "host_name = 'localhost'\n",
    "user_name = 'root'\n",
    "user_pwd = '1'\n",
    "db_name = 'test'\n",
    "charset = 'utf8mb4'\n",
    "\n",
    "\n",
    "def insert_line(line, parsed_header, parsed_part_id):\n",
    "    print(line)\n",
    "    \n",
    "    # 1\n",
    "    received_dt = datetime.strptime(parsed_header.get('수집 날짜:').replace('오전', 'AM').replace('오후', ':PM'), '%Y-%m-%d :%p %I:%M:%S')\n",
    "    \n",
    "    # 2\n",
    "    device_id = parsed_header.get('계측기:')\n",
    "    \n",
    "    # 3\n",
    "    channel_size = parsed_header.get('총 채널:')\n",
    "    \n",
    "    # 4\n",
    "    scan_no = line[0]\n",
    "    \n",
    "    # 7\n",
    "    val_gold = line[2]\n",
    "    \n",
    "    # 9\n",
    "    reg_dt = datetime.now()\n",
    "    \n",
    "    # 10\n",
    "    reg_date = datetime.now().strftime('%Y-%m-%d')\n",
    "    \n",
    "    # 0\n",
    "    partykey_month = reg_dt.month\n",
    "    \n",
    "    connection = pymysql.connect(host=host_name,\n",
    "                                 user=user_name,\n",
    "                                 password=user_pwd,\n",
    "                                 db=db_name,\n",
    "                                 charset=charset,\n",
    "                                 cursorclass=pymysql.cursors.DictCursor)\n",
    "\n",
    "    try:\n",
    "        with connection.cursor() as cursor:\n",
    "            # Create a new record\n",
    "            sql = \"INSERT INTO `dat001`(partkey_month, received_dt, device_id, channel_size, scan_no, measure_dt, part_id, val_gold, val_silver, reg_dt, reg_date) VALUES(%s, %s, %s, %s, %s, %s, %s, %s, %s, %s, %s)\"\n",
    "\n",
    "            for i in range(int(channel_size)-1):\n",
    "                this_part_index = i\n",
    "\n",
    "                # 5\n",
    "                measure_dt = datetime.strptime(line[1], '%Y-%m-%d %H:%M:%S:%f')\n",
    "                \n",
    "                # 6\n",
    "                part_id = parsed_part_id[this_part_index + 3]\n",
    "                \n",
    "                # 7\n",
    "                val_silver = line[this_part_index + 3]\n",
    "            \n",
    "                cursor.execute(sql, (\n",
    "                    partykey_month\n",
    "                    , received_dt\n",
    "                    , device_id\n",
    "                    , channel_size\n",
    "                    , scan_no\n",
    "                    , measure_dt\n",
    "                    , part_id\n",
    "                    , val_gold\n",
    "                    , val_silver\n",
    "                    , reg_dt\n",
    "                    , reg_date\n",
    "                ))\n",
    "\n",
    "        # connection is not autocommit by default. So you must commit to save\n",
    "        # your changes.\n",
    "        connection.commit()\n",
    "\n",
    "    finally:\n",
    "        connection.close()\n"
   ]
  },
  {
   "cell_type": "code",
   "execution_count": 40,
   "metadata": {
    "scrolled": true
   },
   "outputs": [
    {
     "name": "stdout",
     "output_type": "stream",
     "text": [
      "['1', '2017-09-18 20:31:10:576', '1.664563', '1.2499474', '1.2494557', '1.2483841', '1.2497204', '1.2496448', '1.2483589', '1.2481194', '1.2487245', '1.2553683', '1.2544354', '1.2581292', '1.2485354', '1.2526957', '1.2536538', '1.2486362', '1.253742']\n",
      "['2', '2017-09-18 20:31:12:637', '1.6645756', '1.2499978', '1.2494809', '1.2483967', '1.249733', '1.2496448', '1.2483463', '1.2481194', '1.2487119', '1.2553431', '1.254448', '1.2581418', '1.248548', '1.2526957', '1.2536538', '1.2486362', '1.2537546']\n",
      "['3', '2017-09-18 20:31:13:560', '1.664563', '1.2499474', '1.2494683', '1.2483967', '1.249733', '1.2496574', '1.2483337', '1.2481194', '1.2487371', '1.2553431', '1.254448', '1.2581166', '1.2485228', '1.252683', '1.2537042', '1.2486236', '1.2537672']\n",
      "['4', '2017-09-18 20:31:15:060', '1.6645756', '1.2499474', '1.2494683', '1.2483841', '1.2497204', '1.2496448', '1.2483337', '1.2481068', '1.2487371', '1.2553305', '1.2544354', '1.2581418', '1.2485354', '1.2526704', '1.2536664', '1.248611', '1.2537294']\n",
      "['5', '2017-09-18 20:31:16:560', '1.664563', '1.2499474', '1.2494683', '1.2483841', '1.2497204', '1.2496574', '1.2483463', '1.2481194', '1.2487245', '1.2553305', '1.2544102', '1.2581544', '1.248548', '1.252683', '1.253679', '1.2486362', '1.253742']\n",
      "['6', '2017-09-18 20:31:18:060', '1.664563', '1.2499474', '1.2494809', '1.2484093', '1.2497456', '1.24967', '1.2483589', '1.2481194', '1.2487497', '1.2553305', '1.254448', '1.258167', '1.2485228', '1.2526957', '1.2536916', '1.2486488', '1.2537546']\n",
      "['7', '2017-09-18 20:31:19:560', '1.664563', '1.24996', '1.2494683', '1.2483715', '1.249733', '1.2496574', '1.2483463', '1.2481068', '1.2487245', '1.2553305', '1.2544354', '1.2581418', '1.2485102', '1.252683', '1.253679', '1.248611', '1.2537672']\n",
      "['8', '2017-09-18 20:31:21:060', '1.664563', '1.2499474', '1.2494683', '1.2483841', '1.249733', '1.2496574', '1.2483337', '1.2480941', '1.2487245', '1.2553305', '1.2544102', '1.2581544', '1.2485228', '1.252683', '1.253679', '1.248611', '1.2537672']\n",
      "['9', '2017-09-18 20:31:22:560', '1.6645504', '1.2499347', '1.2494809', '1.2483715', '1.249733', '1.2496574', '1.2483463', '1.2480815', '1.2486993', '1.2553179', '1.2544354', '1.2581544', '1.2485228', '1.2527083', '1.2536664', '1.248611', '1.2537546']\n",
      "['10', '2017-09-18 20:31:24:060', '1.6645504', '1.2499221', '1.2494557', '1.2483715', '1.2497078', '1.2496322', '1.2483337', '1.2480941', '1.2487119', '1.2553179', '1.2544102', '1.2581418', '1.2484976', '1.2526704', '1.2536664', '1.2486236', '1.253742']\n",
      "['11', '2017-09-18 20:31:25:560', '1.6645377', '1.2499347', '1.2494683', '1.2483715', '1.249733', '1.2496574', '1.2483211', '1.248132', '1.2487245', '1.2553053', '1.2544102', '1.2581418', '1.2485102', '1.2526957', '1.2536538', '1.248611', '1.2537546']\n",
      "['12', '2017-09-18 20:31:27:060', '1.6645504', '1.2499474', '1.2494431', '1.2483841', '1.2497204', '1.2496574', '1.2483337', '1.2481068', '1.2487119', '1.2553179', '1.2544228', '1.2581292', '1.2485102', '1.2526704', '1.2536538', '1.2486236', '1.2537546']\n",
      "['13', '2017-09-18 20:31:28:560', '1.6645756', '1.2499221', '1.2494683', '1.2484093', '1.249733', '1.2496574', '1.2483337', '1.2480941', '1.2487371', '1.2553053', '1.2544102', '1.2581418', '1.2485102', '1.252683', '1.2536664', '1.2486236', '1.253742']\n",
      "['14', '2017-09-18 20:31:30:061', '1.6645377', '1.2499221', '1.2494683', '1.2483841', '1.2497204', '1.2496574', '1.2483085', '1.2481068', '1.2487245', '1.2553053', '1.2544102', '1.2581418', '1.2484976', '1.252683', '1.2536538', '1.248611', '1.2537294']\n",
      "['15', '2017-09-18 20:31:31:561', '1.6645251', '1.2499095', '1.2494557', '1.2483715', '1.2497204', '1.2496448', '1.2483085', '1.2480941', '1.2486993', '1.2552927', '1.2544102', '1.2581418', '1.248485', '1.2526704', '1.2536916', '1.2485984', '1.2537546']\n",
      "['16', '2017-09-18 20:31:33:060', '1.6645251', '1.2499347', '1.2494683', '1.2483841', '1.2497078', '1.2496322', '1.2483211', '1.2480941', '1.2487119', '1.2553053', '1.2544102', '1.2581166', '1.248485', '1.252683', '1.2536286', '1.2485858', '1.2537546']\n",
      "['17', '2017-09-18 20:31:34:560', '1.6645125', '1.2499095', '1.2494557', '1.2483841', '1.2497078', '1.2496574', '1.2483085', '1.2480815', '1.2487371', '1.2552927', '1.2543976', '1.2581166', '1.2484723', '1.2526704', '1.2536538', '1.2485858', '1.253742']\n",
      "['18', '2017-09-18 20:31:36:060', '1.6645377', '1.2498969', '1.2494557', '1.2483589', '1.2497204', '1.2496448', '1.2483211', '1.2480815', '1.2487119', '1.2552927', '1.254385', '1.2581166', '1.248485', '1.2526704', '1.2536286', '1.2485984', '1.2537294']\n",
      "['19', '2017-09-18 20:31:37:561', '1.6645125', '1.2498969', '1.2494557', '1.2483715', '1.2497078', '1.2496322', '1.2483085', '1.2481068', '1.2487245', '1.2552801', '1.2543976', '1.2581292', '1.2484723', '1.2526957', '1.2536538', '1.2485984', '1.253742']\n",
      "['20', '2017-09-18 20:31:39:060', '1.6645125', '1.2499095', '1.2494557', '1.2483841', '1.2497078', '1.2496322', '1.2483085', '1.2480941', '1.2487245', '1.2552801', '1.2544102', '1.2581292', '1.2484597', '1.2526704', '1.2536664', '1.2485984', '1.2537294']\n",
      "['21', '2017-09-18 20:31:40:560', '1.6645251', '1.2498969', '1.2494557', '1.2483715', '1.2497204', '1.24967', '1.2483085', '1.2480941', '1.2487245', '1.2552675', '1.254385', '1.2581418', '1.2484723', '1.252683', '1.2536412', '1.2485858', '1.2537168']\n",
      "['22', '2017-09-18 20:31:42:060', '1.6645251', '1.2499221', '1.2494809', '1.2484093', '1.2497204', '1.24967', '1.2483337', '1.2480815', '1.2487371', '1.2552801', '1.2544102', '1.2581292', '1.2484723', '1.2526704', '1.2536538', '1.2485858', '1.2537294']\n",
      "['23', '2017-09-18 20:31:43:560', '1.6645251', '1.2498969', '1.2494683', '1.2483841', '1.2497078', '1.2496574', '1.2483337', '1.2480941', '1.2487371', '1.2552801', '1.2544102', '1.2581418', '1.2484597', '1.252683', '1.253679', '1.2485984', '1.253742']\n",
      "['24', '2017-09-18 20:31:45:060', '1.6645377', '1.2498969', '1.2494935', '1.2483715', '1.2497204', '1.24967', '1.2483211', '1.2480815', '1.2487497', '1.2552927', '1.2543976', '1.2581418', '1.2484723', '1.2526704', '1.2536538', '1.2485732', '1.253742']\n",
      "['25', '2017-09-18 20:31:46:560', '1.6645251', '1.2499095', '1.2494809', '1.2483841', '1.2497204', '1.2496826', '1.2482959', '1.2480941', '1.2487371', '1.2552675', '1.2543976', '1.2581544', '1.2484723', '1.252683', '1.2536538', '1.2485606', '1.253742']\n",
      "['26', '2017-09-18 20:31:48:060', '1.6645504', '1.2499095', '1.2494683', '1.2483967', '1.2497204', '1.2496826', '1.2483085', '1.2481068', '1.2487245', '1.2552675', '1.254385', '1.2581544', '1.2484471', '1.252683', '1.2536538', '1.2485732', '1.253742']\n",
      "['27', '2017-09-18 20:31:49:560', '1.6645504', '1.2498969', '1.2494683', '1.2483841', '1.2497204', '1.24967', '1.2482959', '1.2480941', '1.2487371', '1.2552548', '1.254385', '1.2581544', '1.2484597', '1.2526957', '1.2536664', '1.2485984', '1.2537294']\n",
      "['28', '2017-09-18 20:31:51:060', '1.6645125', '1.2499221', '1.2494809', '1.2484219', '1.2497078', '1.24967', '1.2483211', '1.2481068', '1.2487497', '1.2552675', '1.2543976', '1.2581544', '1.2484345', '1.252683', '1.2536664', '1.2485858', '1.253742']\n",
      "['29', '2017-09-18 20:31:52:560', '1.6645377', '1.2499095', '1.2494809', '1.2484093', '1.2497204', '1.2496574', '1.2483085', '1.2481194', '1.2487497', '1.2552548', '1.254385', '1.2581292', '1.2484219', '1.252683', '1.2536664', '1.2485606', '1.253742']\n",
      "['30', '2017-09-18 20:31:54:060', '1.6645251', '1.2499095', '1.2494809', '1.2484093', '1.2497204', '1.2496826', '1.2482959', '1.248132', '1.2487371', '1.2552548', '1.2543976', '1.258167', '1.2484471', '1.2527083', '1.253679', '1.2485732', '1.253742']\n"
     ]
    },
    {
     "data": {
      "text/plain": [
       "{'계측기:': '34970A', '수집 날짜:': '2017-09-18 오후 8:31:10', '총 채널:': '17'}"
      ]
     },
     "execution_count": 40,
     "metadata": {},
     "output_type": "execute_result"
    }
   ],
   "source": [
    "import codecs\n",
    "import csv\n",
    "\n",
    "infile_name = '0A.csv'\n",
    "parsed_header = {}\n",
    "parsed_part_id = None\n",
    "with open(infile_name, encoding='utf16') as csvf:\n",
    "    rd = csv.reader(csvf, delimiter='\\t')\n",
    "    is_data_line = False\n",
    "    for idx, line in enumerate(rd):\n",
    "        \n",
    "        if is_data_line:\n",
    "            insert_line(line, parsed_header, parsed_part_id)\n",
    "        else:\n",
    "            if line[0] == '수집 날짜:':\n",
    "                parsed_header['수집 날짜:'] = line[1]\n",
    "            elif line[0] == '계측기:':\n",
    "                parsed_header['계측기:'] = line[1]\n",
    "            elif line[0] == '총 채널:':\n",
    "                parsed_header['총 채널:'] = line[1]\n",
    "            elif line[0] == '스캔':\n",
    "                parsed_part_id = line\n",
    "                is_data_line = True\n",
    "            \n",
    "            \n",
    "parsed_header"
   ]
  },
  {
   "cell_type": "code",
   "execution_count": null,
   "metadata": {
    "collapsed": true
   },
   "outputs": [],
   "source": []
  },
  {
   "cell_type": "code",
   "execution_count": null,
   "metadata": {
    "collapsed": true
   },
   "outputs": [],
   "source": []
  },
  {
   "cell_type": "markdown",
   "metadata": {},
   "source": [
    "###### test codes below"
   ]
  },
  {
   "cell_type": "code",
   "execution_count": 71,
   "metadata": {
    "scrolled": true
   },
   "outputs": [
    {
     "data": {
      "text/plain": [
       "['1',\n",
       " '2017-09-18 20:21:12:714',\n",
       " '0.16869649',\n",
       " '0.1264887',\n",
       " '0.12646982',\n",
       " '0.12576887',\n",
       " '0.12626219',\n",
       " '0.12547818',\n",
       " '0.12563044',\n",
       " '0.1260168',\n",
       " '0.12589977',\n",
       " '0.12855624',\n",
       " '0.12662964',\n",
       " '0.12785909',\n",
       " '0.12672653',\n",
       " '0.12747276',\n",
       " '0.12625841',\n",
       " '0.12550209',\n",
       " '0.12639683']"
      ]
     },
     "execution_count": 71,
     "metadata": {},
     "output_type": "execute_result"
    }
   ],
   "source": [
    "sample_data_line = ['1', '2017-09-18 20:21:12:714', '0.16869649', '0.1264887', '0.12646982', '0.12576887', '0.12626219', '0.12547818', '0.12563044', '0.1260168', '0.12589977', '0.12855624', '0.12662964', '0.12785909', '0.12672653', '0.12747276', '0.12625841', '0.12550209', '0.12639683']\n",
    "sample_data_line"
   ]
  },
  {
   "cell_type": "code",
   "execution_count": 72,
   "metadata": {},
   "outputs": [
    {
     "data": {
      "text/plain": [
       "19"
      ]
     },
     "execution_count": 72,
     "metadata": {},
     "output_type": "execute_result"
    }
   ],
   "source": [
    "len(sample_data_line)"
   ]
  },
  {
   "cell_type": "code",
   "execution_count": 73,
   "metadata": {},
   "outputs": [
    {
     "data": {
      "text/plain": [
       "['스캔',\n",
       " '시간',\n",
       " '101 <ITL900> (VDC)',\n",
       " '102 <1> (VDC)',\n",
       " '103 <2> (VDC)',\n",
       " '104 <3> (VDC)',\n",
       " '105 <4> (VDC)',\n",
       " '106 <5> (VDC)',\n",
       " '107 <6> (VDC)',\n",
       " '108 <7> (VDC)',\n",
       " '109 <8> (VDC)',\n",
       " '110 <9> (VDC)',\n",
       " '111 <10> (VDC)',\n",
       " '112 <11> (VDC)',\n",
       " '113 <12> (VDC)',\n",
       " '114 <13> (VDC)',\n",
       " '115 <14> (VDC)',\n",
       " '116 <15> (VDC)',\n",
       " '117 <16> (VDC)']"
      ]
     },
     "execution_count": 73,
     "metadata": {},
     "output_type": "execute_result"
    }
   ],
   "source": [
    "parsed_part_id"
   ]
  },
  {
   "cell_type": "code",
   "execution_count": 74,
   "metadata": {},
   "outputs": [
    {
     "data": {
      "text/plain": [
       "{'계측기:': '34970A', '수집 날짜:': '2017-09-18 오후 8:31:10', '총 채널:': '17'}"
      ]
     },
     "execution_count": 74,
     "metadata": {},
     "output_type": "execute_result"
    }
   ],
   "source": [
    "parsed_header"
   ]
  },
  {
   "cell_type": "code",
   "execution_count": 75,
   "metadata": {
    "collapsed": true
   },
   "outputs": [],
   "source": [
    "from datetime import datetime"
   ]
  },
  {
   "cell_type": "code",
   "execution_count": 76,
   "metadata": {},
   "outputs": [
    {
     "data": {
      "text/plain": [
       "2"
      ]
     },
     "execution_count": 76,
     "metadata": {},
     "output_type": "execute_result"
    }
   ],
   "source": [
    "# 0\n",
    "\n",
    "partkey_month = datetime.now().month\n",
    "partkey_month"
   ]
  },
  {
   "cell_type": "code",
   "execution_count": 77,
   "metadata": {},
   "outputs": [
    {
     "data": {
      "text/plain": [
       "datetime.datetime(2017, 9, 18, 20, 31, 10)"
      ]
     },
     "execution_count": 77,
     "metadata": {},
     "output_type": "execute_result"
    }
   ],
   "source": [
    "# 1\n",
    "received_dt = datetime.strptime(parsed_header.get('수집 날짜:').replace('오전', 'AM').replace('오후', ':PM'), '%Y-%m-%d :%p %I:%M:%S')\n",
    "received_dt"
   ]
  },
  {
   "cell_type": "code",
   "execution_count": 78,
   "metadata": {},
   "outputs": [
    {
     "data": {
      "text/plain": [
       "'34970A'"
      ]
     },
     "execution_count": 78,
     "metadata": {},
     "output_type": "execute_result"
    }
   ],
   "source": [
    "# 2\n",
    "device_id = parsed_header.get('계측기:')\n",
    "device_id"
   ]
  },
  {
   "cell_type": "code",
   "execution_count": 79,
   "metadata": {},
   "outputs": [
    {
     "data": {
      "text/plain": [
       "'17'"
      ]
     },
     "execution_count": 79,
     "metadata": {},
     "output_type": "execute_result"
    }
   ],
   "source": [
    "# 3\n",
    "channel_size = parsed_header.get('총 채널:')\n",
    "channel_size"
   ]
  },
  {
   "cell_type": "code",
   "execution_count": 80,
   "metadata": {},
   "outputs": [
    {
     "data": {
      "text/plain": [
       "'1'"
      ]
     },
     "execution_count": 80,
     "metadata": {},
     "output_type": "execute_result"
    }
   ],
   "source": [
    "# 4\n",
    "scan_no = sample_data_line[0]\n",
    "scan_no"
   ]
  },
  {
   "cell_type": "code",
   "execution_count": 81,
   "metadata": {},
   "outputs": [
    {
     "data": {
      "text/plain": [
       "datetime.datetime(2017, 9, 18, 20, 21, 12, 714000)"
      ]
     },
     "execution_count": 81,
     "metadata": {},
     "output_type": "execute_result"
    }
   ],
   "source": [
    "# 5\n",
    "measure_dt = datetime.strptime(sample_data_line[1], '%Y-%m-%d %H:%M:%S:%f')\n",
    "measure_dt"
   ]
  },
  {
   "cell_type": "code",
   "execution_count": 82,
   "metadata": {
    "collapsed": true
   },
   "outputs": [],
   "source": [
    "this_part_index = 0"
   ]
  },
  {
   "cell_type": "code",
   "execution_count": 83,
   "metadata": {},
   "outputs": [
    {
     "data": {
      "text/plain": [
       "'102 <1> (VDC)'"
      ]
     },
     "execution_count": 83,
     "metadata": {},
     "output_type": "execute_result"
    }
   ],
   "source": [
    "# 6\n",
    "part_id = parsed_part_id[this_part_index + 3]\n",
    "part_id"
   ]
  },
  {
   "cell_type": "code",
   "execution_count": 84,
   "metadata": {},
   "outputs": [
    {
     "data": {
      "text/plain": [
       "'0.16869649'"
      ]
     },
     "execution_count": 84,
     "metadata": {},
     "output_type": "execute_result"
    }
   ],
   "source": [
    "# 7\n",
    "val_gold = sample_data_line[2]\n",
    "val_gold"
   ]
  },
  {
   "cell_type": "code",
   "execution_count": 85,
   "metadata": {},
   "outputs": [
    {
     "data": {
      "text/plain": [
       "'0.1264887'"
      ]
     },
     "execution_count": 85,
     "metadata": {},
     "output_type": "execute_result"
    }
   ],
   "source": [
    "# 8\n",
    "val_silver = sample_data_line[this_part_index + 3]\n",
    "val_silver"
   ]
  },
  {
   "cell_type": "code",
   "execution_count": 86,
   "metadata": {},
   "outputs": [
    {
     "data": {
      "text/plain": [
       "datetime.datetime(2018, 2, 21, 9, 35, 27, 732353)"
      ]
     },
     "execution_count": 86,
     "metadata": {},
     "output_type": "execute_result"
    }
   ],
   "source": [
    "# 9\n",
    "reg_dt = datetime.now()\n",
    "reg_dt"
   ]
  },
  {
   "cell_type": "code",
   "execution_count": 87,
   "metadata": {},
   "outputs": [
    {
     "data": {
      "text/plain": [
       "'2018-02-21'"
      ]
     },
     "execution_count": 87,
     "metadata": {},
     "output_type": "execute_result"
    }
   ],
   "source": [
    "# 10\n",
    "reg_date = datetime.now().strftime('%Y-%m-%d')\n",
    "reg_date"
   ]
  },
  {
   "cell_type": "code",
   "execution_count": 88,
   "metadata": {},
   "outputs": [
    {
     "data": {
      "text/plain": [
       "2"
      ]
     },
     "execution_count": 88,
     "metadata": {},
     "output_type": "execute_result"
    }
   ],
   "source": [
    "# 0\n",
    "partykey_month = reg_dt.month\n",
    "partykey_month"
   ]
  },
  {
   "cell_type": "code",
   "execution_count": null,
   "metadata": {
    "collapsed": true
   },
   "outputs": [],
   "source": []
  },
  {
   "cell_type": "markdown",
   "metadata": {},
   "source": [
    "###### Model"
   ]
  },
  {
   "cell_type": "code",
   "execution_count": 52,
   "metadata": {},
   "outputs": [],
   "source": [
    "import pymysql\n",
    "import pandas as pd\n",
    "\n",
    "\n",
    "table_name = 'dat001'\n",
    "host_name = 'localhost'\n",
    "user_name = 'root'\n",
    "user_pwd = '1'\n",
    "db_name = 'test'\n",
    "charset = 'utf8mb4'\n",
    "\n",
    "connection = pymysql.connect(host=host_name,\n",
    "                             user=user_name,\n",
    "                             password=user_pwd,\n",
    "                             db=db_name,\n",
    "                             charset=charset,\n",
    "                             cursorclass=pymysql.cursors.DictCursor)\n",
    "\n",
    "try:\n",
    "    sql = \"SELECT val_gold, val_silver FROM `dat001`\"\n",
    "    df = pd.read_sql(sql, connection)\n",
    "finally:\n",
    "    connection.close()"
   ]
  },
  {
   "cell_type": "code",
   "execution_count": 61,
   "metadata": {},
   "outputs": [],
   "source": [
    "from sklearn.model_selection import train_test_split\n",
    "from sklearn.preprocessing import StandardScaler\n",
    "\n",
    "\n",
    "test_data_ratio = 0.7\n",
    "random_seed = 1004\n",
    "\n",
    "X = df['val_gold'].values.reshape(-1,1)\n",
    "y = df['val_silver']\n",
    "\n",
    "X_train, X_test, y_train, y_test = train_test_split(X, y, test_size=test_data_ratio, random_state=random_seed)\n",
    "\n",
    "stdsc = StandardScaler()\n",
    "X_train_std = stdsc.fit_transform(X_train)\n",
    "X_test_std = stdsc.transform(X_test)\n"
   ]
  },
  {
   "cell_type": "code",
   "execution_count": 68,
   "metadata": {},
   "outputs": [
    {
     "data": {
      "text/plain": [
       "RandomForestRegressor(bootstrap=True, criterion='mse', max_depth=None,\n",
       "           max_features='auto', max_leaf_nodes=None,\n",
       "           min_impurity_decrease=0.0, min_impurity_split=None,\n",
       "           min_samples_leaf=1, min_samples_split=2,\n",
       "           min_weight_fraction_leaf=0.0, n_estimators=10, n_jobs=1,\n",
       "           oob_score=False, random_state=1004, verbose=0, warm_start=False)"
      ]
     },
     "execution_count": 68,
     "metadata": {},
     "output_type": "execute_result"
    }
   ],
   "source": [
    "from sklearn.ensemble import RandomForestRegressor\n",
    "from sklearn.metrics import r2_score, explained_variance_score, accuracy_score, f1_score\n",
    "\n",
    "rfr = RandomForestRegressor(n_estimators=10, random_state=1004)\n",
    "rfr.fit(X_train_std, y_train)"
   ]
  },
  {
   "cell_type": "code",
   "execution_count": 96,
   "metadata": {},
   "outputs": [],
   "source": [
    "prediction_rfr = rfr.predict(X_test_std)"
   ]
  },
  {
   "cell_type": "code",
   "execution_count": 97,
   "metadata": {},
   "outputs": [
    {
     "name": "stdout",
     "output_type": "stream",
     "text": [
      "Regressor R-Squared: 1.0000\n",
      "Regressor Explained variance: 1.0000\n"
     ]
    }
   ],
   "source": [
    "print('Regressor R-Squared: {:.4f}'.format(r2_score(y_test, prediction_rfr)))\n",
    "print('Regressor Explained variance: {:.4f}'.format(explained_variance_score(y_test, prediction_rfr)))"
   ]
  },
  {
   "cell_type": "markdown",
   "metadata": {},
   "source": [
    "###### model evaluation?"
   ]
  },
  {
   "cell_type": "code",
   "execution_count": 117,
   "metadata": {},
   "outputs": [
    {
     "data": {
      "image/png": "[encoded data removed]",
      "text/plain": [
       "<matplotlib.figure.Figure at 0x1aead208128>"
      ]
     },
     "metadata": {},
     "output_type": "display_data"
    }
   ],
   "source": [
    "from yellowbrick.regressor.residuals import ResidualsPlot\n",
    "\n",
    "\n",
    "rp = ResidualsPlot(rfr)\n",
    "rp.fit(X_train_std, y_train)  # Fit the training data to the visualizer\n",
    "rp.score(X_test_std, y_test)  # Evaluate the model on the test data\n",
    "rp.poof()             # Draw/show/poof the data"
   ]
  },
  {
   "cell_type": "code",
   "execution_count": 119,
   "metadata": {},
   "outputs": [
    {
     "data": {
      "image/png": "[encoded data removed]",
      "text/plain": [
       "<matplotlib.figure.Figure at 0x1aead208978>"
      ]
     },
     "metadata": {},
     "output_type": "display_data"
    }
   ],
   "source": [
    "from yellowbrick.regressor.residuals import PredictionError\n",
    "\n",
    "pe = PredictionError(rfr)\n",
    "pe.fit(X_train, y_train)  # Fit the training data to the visualizer\n",
    "pe.score(X_test, y_test)  # Evaluate the model on the test data\n",
    "pe.poof()             # Draw/show/poof the data"
   ]
  },
  {
   "cell_type": "code",
   "execution_count": null,
   "metadata": {
    "collapsed": true
   },
   "outputs": [],
   "source": []
  }
 ],
 "metadata": {
  "kernelspec": {
   "display_name": "Python 3",
   "language": "python",
   "name": "python3"
  },
  "language_info": {
   "codemirror_mode": {
    "name": "ipython",
    "version": 3
   },
   "file_extension": ".py",
   "mimetype": "text/x-python",
   "name": "python",
   "nbconvert_exporter": "python",
   "pygments_lexer": "ipython3",
   "version": "3.6.1"
  }
 },
 "nbformat": 4,
 "nbformat_minor": 2
}
