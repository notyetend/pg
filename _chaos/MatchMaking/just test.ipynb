{
 "cells": [
  {
   "cell_type": "code",
   "execution_count": 1,
   "metadata": {
    "collapsed": true
   },
   "outputs": [],
   "source": [
    "import math\n",
    "inf = float('inf')\n",
    "\n",
    "class Gaussian(object):\n",
    "    \"\"\"A model for the normal distribution.\"\"\"\n",
    "\n",
    "    #: Precision, the inverse of the variance.\n",
    "    pi = 0\n",
    "    #: Precision adjusted mean, the precision multiplied by the mean.\n",
    "    tau = 0\n",
    "\n",
    "    def __init__(self, mu=None, sigma=None, pi=0, tau=0):\n",
    "        if mu is not None:\n",
    "            if sigma is None:\n",
    "                raise TypeError('sigma argument is needed')\n",
    "            elif sigma == 0:\n",
    "                raise ValueError('sigma**2 should be greater than 0')\n",
    "            pi = sigma ** -2\n",
    "            tau = pi * mu\n",
    "        self.pi = pi\n",
    "        self.tau = tau\n",
    "\n",
    "    def __truediv__(self, other):\n",
    "        pi, tau = self.pi - other.pi, self.tau - other.tau\n",
    "        return Gaussian(pi=pi, tau=tau)\n",
    "    \n",
    "    @property\n",
    "    def mu(self):\n",
    "        \"\"\"A property which returns the mean.\"\"\"\n",
    "        return self.pi and self.tau / self.pi\n",
    "\n",
    "    @property\n",
    "    def sigma(self):\n",
    "        \"\"\"A property which returns the the square root of the variance.\"\"\"\n",
    "        return math.sqrt(1 / self.pi) if self.pi else inf\n",
    "\n",
    "    def __repr__(self):\n",
    "        return 'N(mu=%.3f, sigma=%.3f)' % (self.mu, self.sigma)\n"
   ]
  },
  {
   "cell_type": "code",
   "execution_count": 2,
   "metadata": {
    "collapsed": false
   },
   "outputs": [],
   "source": [
    "class Node(object):\n",
    "    def __init__(self):\n",
    "        print('@ Node')\n",
    "\n",
    "        \n",
    "class Variable(Node, Gaussian):\n",
    "    def __init__(self, mu):\n",
    "        self.message = {}  # dictionary\n",
    "        print('@ Variable')\n",
    "        super(Variable, self).__init__()\n",
    "        \n",
    "    def __getitem__(self, factor):\n",
    "        return self.message[factor]\n",
    "    \n",
    "    def __setitem__(self, factor, message):\n",
    "        print('@ before:', type(self.message))\n",
    "        self.message[factor] = message\n",
    "        print('@ after:', type(self.message))\n",
    "        \n",
    "    def test(self):\n",
    "        print('@', self)\n",
    "        print('@', type(self))\n",
    "        \n",
    "class Factor(Node):\n",
    "    def __init__(self, vars_arg):\n",
    "        self.vars = vars_arg\n",
    "        self.f = Gaussian(10, 1)\n",
    "        for var in vars_arg:\n",
    "            var[self] = Gaussian()\n",
    "    \n",
    "    @property\n",
    "    def var(self):\n",
    "        print('@ Factor.var')\n",
    "    "
   ]
  },
  {
   "cell_type": "code",
   "execution_count": 3,
   "metadata": {
    "collapsed": false
   },
   "outputs": [
    {
     "name": "stdout",
     "output_type": "stream",
     "text": [
      "@ Variable\n",
      "@ Node\n",
      "@ Variable\n",
      "@ Node\n",
      "@ Variable\n",
      "@ Node\n",
      "{}\n"
     ]
    }
   ],
   "source": [
    "v1 = Variable(Gaussian(1, 1))\n",
    "v2 = Variable(Gaussian(2, 1))\n",
    "v3 = Variable(Gaussian(3, 1))\n",
    "print(v1.message)"
   ]
  },
  {
   "cell_type": "code",
   "execution_count": 53,
   "metadata": {
    "collapsed": false
   },
   "outputs": [
    {
     "name": "stdout",
     "output_type": "stream",
     "text": [
      "@ before: <class 'dict'>\n",
      "@ after: <class 'dict'>\n",
      "@ before: <class 'dict'>\n",
      "@ after: <class 'dict'>\n",
      "@ before: <class 'dict'>\n",
      "@ after: <class 'dict'>\n"
     ]
    }
   ],
   "source": [
    "f1 = Factor([v1, v2, v3])"
   ]
  },
  {
   "cell_type": "code",
   "execution_count": 54,
   "metadata": {
    "collapsed": false
   },
   "outputs": [
    {
     "data": {
      "text/plain": [
       "[N(mu=0.000, sigma=inf), N(mu=0.000, sigma=inf), N(mu=0.000, sigma=inf)]"
      ]
     },
     "execution_count": 54,
     "metadata": {},
     "output_type": "execute_result"
    }
   ],
   "source": [
    "f2 = list((v1.message).keys())[0]\n",
    "f2.vars"
   ]
  },
  {
   "cell_type": "code",
   "execution_count": 55,
   "metadata": {
    "collapsed": false
   },
   "outputs": [
    {
     "data": {
      "text/plain": [
       "{<__main__.Factor at 0x19ab67955c0>: N(mu=0.000, sigma=inf)}"
      ]
     },
     "execution_count": 55,
     "metadata": {},
     "output_type": "execute_result"
    }
   ],
   "source": [
    "v2.message"
   ]
  },
  {
   "cell_type": "code",
   "execution_count": 56,
   "metadata": {
    "collapsed": false
   },
   "outputs": [
    {
     "name": "stdout",
     "output_type": "stream",
     "text": [
      "@ N(mu=0.000, sigma=inf)\n",
      "@ <class '__main__.Variable'>\n"
     ]
    }
   ],
   "source": [
    "v3.test()"
   ]
  },
  {
   "cell_type": "code",
   "execution_count": 57,
   "metadata": {
    "collapsed": false
   },
   "outputs": [
    {
     "data": {
      "text/plain": [
       "N(mu=0.000, sigma=inf)"
      ]
     },
     "execution_count": 57,
     "metadata": {},
     "output_type": "execute_result"
    }
   ],
   "source": [
    "Gaussian() / v1"
   ]
  },
  {
   "cell_type": "code",
   "execution_count": null,
   "metadata": {
    "collapsed": true
   },
   "outputs": [],
   "source": []
  }
 ],
 "metadata": {
  "anaconda-cloud": {},
  "kernelspec": {
   "display_name": "Python [Root]",
   "language": "python",
   "name": "Python [Root]"
  },
  "language_info": {
   "codemirror_mode": {
    "name": "ipython",
    "version": 3
   },
   "file_extension": ".py",
   "mimetype": "text/x-python",
   "name": "python",
   "nbconvert_exporter": "python",
   "pygments_lexer": "ipython3",
   "version": "3.5.2"
  }
 },
 "nbformat": 4,
 "nbformat_minor": 0
}
