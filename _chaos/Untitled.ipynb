{
 "cells": [
  {
   "cell_type": "code",
   "execution_count": 1,
   "metadata": {},
   "outputs": [
    {
     "name": "stdout",
     "output_type": "stream",
     "text": [
      "****************************************\n",
      "25 / 8.333\n",
      "similarity: 0.0\n",
      "skill: 25.0\n"
     ]
    }
   ],
   "source": [
    "import math\n",
    " \n",
    "# 기본값\n",
    "MU = 25\n",
    "SIGMA = 8.333\n",
    " \n",
    "def mu_distance(mu, sigma):\n",
    "    print('*' * 40)\n",
    "    print('{} / {}'.format(mu, sigma))\n",
    "\n",
    "    sqrt = math.sqrt((2 * sigma * SIGMA) / (sigma**2 + SIGMA**2))\n",
    "    exp = math.exp(-(2 * (((mu - MU)**2) / (sigma**2 + SIGMA**2))))\n",
    "    similarity = 1 - sqrt * exp\n",
    "    print('similarity: {}'.format(similarity))\n",
    "\n",
    "    if mu - MU < 0:\n",
    "        result = MU - similarity * MU\n",
    "    else:\n",
    "        result = MU + similarity * MU\n",
    "        print('skill: {}'.format(result))\n",
    "\n",
    "# test\n",
    "mu_distance(25, 8.333)"
   ]
  },
  {
   "cell_type": "code",
   "execution_count": null,
   "metadata": {
    "collapsed": true
   },
   "outputs": [],
   "source": [
    " \n",
    " \n",
    "# result\n",
    "****************************************\n",
    "25 / 8.333\n",
    "similarity: 0.0\n",
    "skill: 25.0\n",
    "****************************************"
   ]
  }
 ],
 "metadata": {
  "kernelspec": {
   "display_name": "Python 3",
   "language": "python",
   "name": "python3"
  },
  "language_info": {
   "codemirror_mode": {
    "name": "ipython",
    "version": 3
   },
   "file_extension": ".py",
   "mimetype": "text/x-python",
   "name": "python",
   "nbconvert_exporter": "python",
   "pygments_lexer": "ipython3",
   "version": "3.6.1"
  }
 },
 "nbformat": 4,
 "nbformat_minor": 2
}
