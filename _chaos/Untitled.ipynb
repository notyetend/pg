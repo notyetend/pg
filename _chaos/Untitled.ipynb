{
 "cells": [
  {
   "cell_type": "code",
   "execution_count": 23,
   "metadata": {
    "collapsed": false
   },
   "outputs": [
    {
     "data": {
      "image/png": "[encoded data removed]",
      "text/plain": [
       "<matplotlib.figure.Figure at 0x1eee8807e80>"
      ]
     },
     "metadata": {},
     "output_type": "display_data"
    }
   ],
   "source": [
    "import numpy as np\n",
    "import scipy.stats as stats\n",
    "import matplotlib.pyplot as plt\n",
    "import matplotlib as mpl\n",
    "\n",
    "%matplotlib inline\n",
    "mu = 0\n",
    "sigma = 1\n",
    "x = np.linspace(-10, 10, 100)\n",
    "y1 = stats.norm.pdf(x, mu + 2, sigma) #blue\n",
    "y2 = stats.norm.pdf(x, mu + 0, sigma) #green\n",
    "s = y1 - y2\n",
    "\n",
    "plt.plot(x, y1, label='prior');\n",
    "plt.plot(x, y2, label='prior');\n",
    "plt.plot(x, s, label='prior');\n",
    "\n",
    "\n",
    "\n"
   ]
  },
  {
   "cell_type": "code",
   "execution_count": 17,
   "metadata": {
    "collapsed": false
   },
   "outputs": [
    {
     "data": {
      "text/plain": [
       "array([  1.09660656e-43,   1.81759122e-42,   2.89212525e-41,\n",
       "         4.41787558e-40,   6.47866267e-39,   9.12079633e-38,\n",
       "         1.23269505e-36,   1.59938879e-35,   1.99217712e-34,\n",
       "         2.38219523e-33,   2.73465319e-32,   3.01371838e-31,\n",
       "         3.18844243e-30,   3.23839631e-29,   3.15759856e-28,\n",
       "         2.95569310e-27,   2.65605622e-26,   2.29134610e-25,\n",
       "         1.89766534e-24,   1.50877354e-23,   1.15160621e-22,\n",
       "         8.43838703e-22,   5.93595207e-21,   4.00863796e-20,\n",
       "         2.59883547e-19,   1.61747002e-18,   9.66427321e-18,\n",
       "         5.54341842e-17,   3.05254184e-16,   1.61369366e-15,\n",
       "         8.18947505e-15,   3.98994159e-14,   1.86617564e-13,\n",
       "         8.37942073e-13,   3.61202694e-12,   1.49473247e-11,\n",
       "         5.93815403e-11,   2.26472228e-10,   8.29189797e-10,\n",
       "         2.91452946e-09,   9.83463969e-09,   3.18583999e-08,\n",
       "         9.90752028e-08,   2.95788635e-07,   8.47761129e-07,\n",
       "         2.33260402e-06,   6.16146580e-06,   1.56243719e-05,\n",
       "         3.80361541e-05,   8.88927068e-05,   1.99439495e-04,\n",
       "         4.29567786e-04,   8.88234726e-04,   1.76319073e-03,\n",
       "         3.36005466e-03,   6.14708041e-03,   1.07961013e-02,\n",
       "         1.82028969e-02,   2.94638551e-02,   4.57840424e-02,\n",
       "         6.82989777e-02,   9.78114675e-02,   1.34474782e-01,\n",
       "         1.77487359e-01,   2.24889671e-01,   2.73556534e-01,\n",
       "         3.19448006e-01,   3.58120162e-01,   3.85418774e-01,\n",
       "         3.98210276e-01,   3.94973141e-01,   3.76095527e-01,\n",
       "         3.43798736e-01,   3.01707347e-01,   2.54180950e-01,\n",
       "         2.05577517e-01,   1.59618688e-01,   1.18978190e-01,\n",
       "         8.51385964e-02,   5.84872384e-02,   3.85719192e-02,\n",
       "         2.44206312e-02,   1.48428748e-02,   8.66073334e-03,\n",
       "         4.85139698e-03,   2.60888216e-03,   1.34684499e-03,\n",
       "         6.67507686e-04,   3.17592640e-04,   1.45064148e-04,\n",
       "         6.36099797e-05,   2.67772471e-05,   1.08213663e-05,\n",
       "         4.19830294e-06,   1.56365505e-06,   5.59092457e-07,\n",
       "         1.91911861e-07,   6.32405307e-08,   2.00062042e-08,\n",
       "         6.07588285e-09])"
      ]
     },
     "execution_count": 17,
     "metadata": {},
     "output_type": "execute_result"
    }
   ],
   "source": [
    "stats.norm.pdf(x, mu + 2, sigma)"
   ]
  },
  {
   "cell_type": "code",
   "execution_count": null,
   "metadata": {
    "collapsed": true
   },
   "outputs": [],
   "source": []
  }
 ],
 "metadata": {
  "anaconda-cloud": {},
  "kernelspec": {
   "display_name": "Python [Root]",
   "language": "python",
   "name": "Python [Root]"
  },
  "language_info": {
   "codemirror_mode": {
    "name": "ipython",
    "version": 3
   },
   "file_extension": ".py",
   "mimetype": "text/x-python",
   "name": "python",
   "nbconvert_exporter": "python",
   "pygments_lexer": "ipython3",
   "version": "3.5.2"
  }
 },
 "nbformat": 4,
 "nbformat_minor": 0
}
