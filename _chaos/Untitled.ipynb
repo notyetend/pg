{
 "cells": [
  {
   "cell_type": "code",
   "execution_count": 118,
   "metadata": {
    "collapsed": false
   },
   "outputs": [],
   "source": [
    "from scipy.stats import norm\n",
    "import numpy as np\n",
    "def get_win_prob(my_skill, oponent_skill, beta=210.95775):\n",
    "    return round(norm.cdf((my_skill - oponent_skill) / (np.sqrt(2)*210.95775)), 2)\n",
    "\n",
    "def get_delta(my_skill, oponent_skill, is_win, beta=210.95775, k_factor=40):\n",
    "    win_prob = get_win_prob(my_skill, oponent_skill, beta)\n",
    "    y = 1 if is_win else -1\n",
    "    return k_factor * ((y + 1)/2 - win_prob)"
   ]
  },
  {
   "cell_type": "markdown",
   "metadata": {},
   "source": [
    "### Initial idea"
   ]
  },
  {
   "cell_type": "code",
   "execution_count": 146,
   "metadata": {
    "collapsed": false
   },
   "outputs": [
    {
     "name": "stdout",
     "output_type": "stream",
     "text": [
      "-36.4\n",
      "-10.0\n",
      "20.0\n",
      "30.0\n",
      "3.6\n",
      "30.0\n",
      "-20.0\n",
      "-10.0\n"
     ]
    }
   ],
   "source": [
    "# Blue team win\n",
    "print(get_delta(2300, 1900, False))\n",
    "print(get_delta(1700, 1900, False))\n",
    "print(get_delta(2000, 2000, True))\n",
    "print(get_delta(1800, 2000, True))\n",
    "\n",
    "# Red team win\n",
    "print(get_delta(2300, 1900, True))\n",
    "print(get_delta(1700, 1900, True))\n",
    "print(get_delta(2000, 2000, False))\n",
    "print(get_delta(1800, 2000, False))\n"
   ]
  },
  {
   "cell_type": "markdown",
   "metadata": {},
   "source": [
    "### Team vs Team"
   ]
  },
  {
   "cell_type": "code",
   "execution_count": 144,
   "metadata": {
    "collapsed": false
   },
   "outputs": [
    {
     "name": "stdout",
     "output_type": "stream",
     "text": [
      "-25.2\n",
      "25.2\n"
     ]
    }
   ],
   "source": [
    "# Blue team win\n",
    "print(get_delta(2000, 1900, False))\n",
    "print(get_delta(1900, 2000, True))"
   ]
  },
  {
   "cell_type": "code",
   "execution_count": 145,
   "metadata": {
    "collapsed": false
   },
   "outputs": [
    {
     "name": "stdout",
     "output_type": "stream",
     "text": [
      "14.8\n",
      "-14.8\n"
     ]
    }
   ],
   "source": [
    "# Red team win\n",
    "print(get_delta(2000, 1900, True))\n",
    "print(get_delta(1900, 2000, False))"
   ]
  },
  {
   "cell_type": "markdown",
   "metadata": {},
   "source": [
    "### Dualing heuristic"
   ]
  },
  {
   "cell_type": "code",
   "execution_count": 157,
   "metadata": {
    "collapsed": false
   },
   "outputs": [
    {
     "name": "stdout",
     "output_type": "stream",
     "text": [
      "-35.8\n",
      "-10.6\n",
      "20.0\n",
      "26.4\n"
     ]
    }
   ],
   "source": [
    "# Blue team win\n",
    "print(get_delta(2300, 2000, False)/2 + get_delta(2300, 1800, False)/2)\n",
    "print(get_delta(1700, 2000, False)/2 + get_delta(1700, 1800, False)/2)\n",
    "print(get_delta(2000, 2300, True)/2 + get_delta(2000, 1700, True)/2)\n",
    "print(get_delta(1800, 2300, True)/2 + get_delta(1800, 1700, True)/2)"
   ]
  },
  {
   "cell_type": "code",
   "execution_count": 158,
   "metadata": {
    "collapsed": false
   },
   "outputs": [
    {
     "name": "stdout",
     "output_type": "stream",
     "text": [
      "0.84 0.95\n",
      "0.16 0.37\n",
      "0.16 0.84\n",
      "0.05 0.63\n"
     ]
    }
   ],
   "source": [
    "# Blue team win\n",
    "print(get_win_prob(2300, 2000), get_win_prob(2300, 1800))\n",
    "print(get_win_prob(1700, 2000), get_win_prob(1700, 1800))\n",
    "print(get_win_prob(2000, 2300), get_win_prob(2000, 1700))\n",
    "print(get_win_prob(1800, 2300), get_win_prob(1800, 1700))\n"
   ]
  },
  {
   "cell_type": "code",
   "execution_count": 163,
   "metadata": {
    "collapsed": false
   },
   "outputs": [
    {
     "data": {
      "text/plain": [
       "35.8"
      ]
     },
     "execution_count": 163,
     "metadata": {},
     "output_type": "execute_result"
    }
   ],
   "source": [
    "(0.84 + 0.95)/2 * 40"
   ]
  },
  {
   "cell_type": "code",
   "execution_count": 162,
   "metadata": {
    "collapsed": false
   },
   "outputs": [
    {
     "data": {
      "text/plain": [
       "10.600000000000001"
      ]
     },
     "execution_count": 162,
     "metadata": {},
     "output_type": "execute_result"
    }
   ],
   "source": [
    "(0.16 + 0.37)/2 * 40"
   ]
  },
  {
   "cell_type": "code",
   "execution_count": 164,
   "metadata": {
    "collapsed": false
   },
   "outputs": [
    {
     "data": {
      "text/plain": [
       "0.5"
      ]
     },
     "execution_count": 164,
     "metadata": {},
     "output_type": "execute_result"
    }
   ],
   "source": [
    "(0.16 + 0.84)/2"
   ]
  },
  {
   "cell_type": "code",
   "execution_count": 166,
   "metadata": {
    "collapsed": false
   },
   "outputs": [
    {
     "data": {
      "text/plain": [
       "0.34"
      ]
     },
     "execution_count": 166,
     "metadata": {},
     "output_type": "execute_result"
    }
   ],
   "source": [
    "(0.05 + 0.63)/2"
   ]
  },
  {
   "cell_type": "code",
   "execution_count": null,
   "metadata": {
    "collapsed": true
   },
   "outputs": [],
   "source": []
  }
 ],
 "metadata": {
  "kernelspec": {
   "display_name": "Python [Root]",
   "language": "python",
   "name": "Python [Root]"
  },
  "language_info": {
   "codemirror_mode": {
    "name": "ipython",
    "version": 3
   },
   "file_extension": ".py",
   "mimetype": "text/x-python",
   "name": "python",
   "nbconvert_exporter": "python",
   "pygments_lexer": "ipython3",
   "version": "3.5.2"
  }
 },
 "nbformat": 4,
 "nbformat_minor": 0
}
