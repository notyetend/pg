{
 "cells": [
  {
   "cell_type": "markdown",
   "metadata": {},
   "source": [
    "###### setting work path"
   ]
  },
  {
   "cell_type": "code",
   "execution_count": 106,
   "metadata": {
    "scrolled": true
   },
   "outputs": [
    {
     "name": "stdout",
     "output_type": "stream",
     "text": [
      "C:\\Users\\dongwan.kim\\Desktop\\da_work\\2000_trueskill\n",
      "C:\\Users\\dongwan.kim\\Desktop\\da_work\\2000_trueskill\n"
     ]
    }
   ],
   "source": [
    "import os\n",
    "\n",
    "print(os.getcwd())\n",
    "os.chdir(r'C:\\Users\\dongwan.kim\\Desktop\\da_work\\2000_trueskill')\n",
    "print(os.getcwd())"
   ]
  },
  {
   "cell_type": "markdown",
   "metadata": {},
   "source": [
    "###### loading file"
   ]
  },
  {
   "cell_type": "code",
   "execution_count": 107,
   "metadata": {},
   "outputs": [
    {
     "data": {
      "text/html": [
       "<div>\n",
       "<style scoped>\n",
       "    .dataframe tbody tr th:only-of-type {\n",
       "        vertical-align: middle;\n",
       "    }\n",
       "\n",
       "    .dataframe tbody tr th {\n",
       "        vertical-align: top;\n",
       "    }\n",
       "\n",
       "    .dataframe thead th {\n",
       "        text-align: right;\n",
       "    }\n",
       "</style>\n",
       "<table border=\"1\" class=\"dataframe\">\n",
       "  <thead>\n",
       "    <tr style=\"text-align: right;\">\n",
       "      <th></th>\n",
       "      <th>reg_date</th>\n",
       "      <th>match_id</th>\n",
       "      <th>team_no</th>\n",
       "      <th>player_id</th>\n",
       "      <th>result</th>\n",
       "      <th>weight</th>\n",
       "    </tr>\n",
       "  </thead>\n",
       "  <tbody>\n",
       "    <tr>\n",
       "      <th>0</th>\n",
       "      <td>2018-07-01 11:00:00</td>\n",
       "      <td>1</td>\n",
       "      <td>0</td>\n",
       "      <td>7</td>\n",
       "      <td>0</td>\n",
       "      <td>1</td>\n",
       "    </tr>\n",
       "    <tr>\n",
       "      <th>1</th>\n",
       "      <td>2018-07-01 11:00:00</td>\n",
       "      <td>1</td>\n",
       "      <td>0</td>\n",
       "      <td>6</td>\n",
       "      <td>0</td>\n",
       "      <td>1</td>\n",
       "    </tr>\n",
       "    <tr>\n",
       "      <th>2</th>\n",
       "      <td>2018-07-01 11:00:00</td>\n",
       "      <td>1</td>\n",
       "      <td>1</td>\n",
       "      <td>3</td>\n",
       "      <td>1</td>\n",
       "      <td>1</td>\n",
       "    </tr>\n",
       "    <tr>\n",
       "      <th>3</th>\n",
       "      <td>2018-07-01 11:00:00</td>\n",
       "      <td>1</td>\n",
       "      <td>1</td>\n",
       "      <td>5</td>\n",
       "      <td>1</td>\n",
       "      <td>1</td>\n",
       "    </tr>\n",
       "    <tr>\n",
       "      <th>4</th>\n",
       "      <td>2018-07-01 11:00:00</td>\n",
       "      <td>2</td>\n",
       "      <td>0</td>\n",
       "      <td>6</td>\n",
       "      <td>0</td>\n",
       "      <td>1</td>\n",
       "    </tr>\n",
       "    <tr>\n",
       "      <th>5</th>\n",
       "      <td>2018-07-01 11:00:00</td>\n",
       "      <td>2</td>\n",
       "      <td>1</td>\n",
       "      <td>3</td>\n",
       "      <td>1</td>\n",
       "      <td>1</td>\n",
       "    </tr>\n",
       "  </tbody>\n",
       "</table>\n",
       "</div>"
      ],
      "text/plain": [
       "             reg_date  match_id  team_no  player_id  result  weight\n",
       "0 2018-07-01 11:00:00         1        0          7       0       1\n",
       "1 2018-07-01 11:00:00         1        0          6       0       1\n",
       "2 2018-07-01 11:00:00         1        1          3       1       1\n",
       "3 2018-07-01 11:00:00         1        1          5       1       1\n",
       "4 2018-07-01 11:00:00         2        0          6       0       1\n",
       "5 2018-07-01 11:00:00         2        1          3       1       1"
      ]
     },
     "execution_count": 107,
     "metadata": {},
     "output_type": "execute_result"
    }
   ],
   "source": [
    "import pandas as pd\n",
    "\n",
    "file_name = '20180711_ratingSim.xlsx'\n",
    "df = pd.read_excel(io=file_name, sheet_name='match_result', header=0)\n",
    "df"
   ]
  },
  {
   "cell_type": "code",
   "execution_count": 108,
   "metadata": {},
   "outputs": [
    {
     "data": {
      "text/plain": [
       "['reg_date', 'match_id', 'team_no', 'player_id', 'result', 'weight']"
      ]
     },
     "execution_count": 108,
     "metadata": {},
     "output_type": "execute_result"
    }
   ],
   "source": [
    "header_names = list(df)\n",
    "header_names"
   ]
  },
  {
   "cell_type": "markdown",
   "metadata": {},
   "source": [
    "###### trueskill settings"
   ]
  },
  {
   "cell_type": "code",
   "execution_count": 109,
   "metadata": {},
   "outputs": [],
   "source": [
    "import trueskill as ts\n",
    "import matplotlib.pyplot as plt\n",
    "import numpy as np\n",
    "import math\n",
    "from scipy.stats import norm\n",
    "pdf = norm.pdf\n",
    "cdf = norm.cdf\n",
    "icdf = norm.ppf  # inverse CDF\n",
    "\n",
    "def get_draw_margin(p, beta, total_players=2):\n",
    "    \"\"\" Compute the draw margin (epsilon) given the draw probability. \"\"\"\n",
    "    return icdf((p + 1.0) / 2) * math.sqrt(total_players) * beta\n",
    "\n",
    "init_mu = 25\n",
    "init_sigma = init_mu / 3\n",
    "init_beta = init_sigma / 2\n",
    "init_gamma = init_sigma / 100\n",
    "init_draw_probability = 0.1\n",
    "init_epsilon = get_draw_margin(0.1, init_beta); init_epsilon\n",
    "\n",
    "env = ts.TrueSkill(mu=init_mu, sigma=init_sigma, beta=init_beta, tau=init_gamma, draw_probability=init_draw_probability, backend='scipy')"
   ]
  },
  {
   "cell_type": "markdown",
   "metadata": {},
   "source": [
    "###### df transformer"
   ]
  },
  {
   "cell_type": "code",
   "execution_count": 110,
   "metadata": {},
   "outputs": [],
   "source": [
    "import pandasql as pdsql\n",
    "\n",
    "\n",
    "def get_transformed_df(df, col_name_reg_date, col_name_match_id):\n",
    "    query = \"\"\"\n",
    "    select\n",
    "        t2.match_min_reg_date\n",
    "        , t1.*\n",
    "    from \n",
    "        df as t1\n",
    "        inner join\n",
    "        (\n",
    "            select \n",
    "                \"\"\" + col_name_match_id + \"\"\"\n",
    "                , min(\"\"\" + col_name_reg_date + \"\"\") as match_min_reg_date\n",
    "            from \n",
    "                df\n",
    "            group by \n",
    "                \"\"\" + col_name_match_id + \"\"\" \n",
    "        ) as t2\n",
    "        on\n",
    "            t1.\"\"\" + col_name_match_id + \"\"\" = t2.\"\"\" + col_name_match_id + \"\"\"\n",
    "    order by\n",
    "        t2.match_min_reg_date\n",
    "        , t1.\"\"\" + col_name_match_id + \"\"\"\n",
    "        , t1.result\n",
    "    \"\"\"\n",
    "    return pdsql.sqldf(query, locals())   "
   ]
  },
  {
   "cell_type": "code",
   "execution_count": 111,
   "metadata": {
    "scrolled": true
   },
   "outputs": [
    {
     "data": {
      "text/html": [
       "<div>\n",
       "<style scoped>\n",
       "    .dataframe tbody tr th:only-of-type {\n",
       "        vertical-align: middle;\n",
       "    }\n",
       "\n",
       "    .dataframe tbody tr th {\n",
       "        vertical-align: top;\n",
       "    }\n",
       "\n",
       "    .dataframe thead th {\n",
       "        text-align: right;\n",
       "    }\n",
       "</style>\n",
       "<table border=\"1\" class=\"dataframe\">\n",
       "  <thead>\n",
       "    <tr style=\"text-align: right;\">\n",
       "      <th></th>\n",
       "      <th>match_min_reg_date</th>\n",
       "      <th>reg_date</th>\n",
       "      <th>match_id</th>\n",
       "      <th>team_no</th>\n",
       "      <th>player_id</th>\n",
       "      <th>result</th>\n",
       "      <th>weight</th>\n",
       "    </tr>\n",
       "  </thead>\n",
       "  <tbody>\n",
       "    <tr>\n",
       "      <th>0</th>\n",
       "      <td>2018-07-01 11:00:00.000000</td>\n",
       "      <td>2018-07-01 11:00:00.000000</td>\n",
       "      <td>1</td>\n",
       "      <td>0</td>\n",
       "      <td>7</td>\n",
       "      <td>0</td>\n",
       "      <td>1</td>\n",
       "    </tr>\n",
       "    <tr>\n",
       "      <th>1</th>\n",
       "      <td>2018-07-01 11:00:00.000000</td>\n",
       "      <td>2018-07-01 11:00:00.000000</td>\n",
       "      <td>1</td>\n",
       "      <td>0</td>\n",
       "      <td>6</td>\n",
       "      <td>0</td>\n",
       "      <td>1</td>\n",
       "    </tr>\n",
       "    <tr>\n",
       "      <th>2</th>\n",
       "      <td>2018-07-01 11:00:00.000000</td>\n",
       "      <td>2018-07-01 11:00:00.000000</td>\n",
       "      <td>1</td>\n",
       "      <td>1</td>\n",
       "      <td>3</td>\n",
       "      <td>1</td>\n",
       "      <td>1</td>\n",
       "    </tr>\n",
       "    <tr>\n",
       "      <th>3</th>\n",
       "      <td>2018-07-01 11:00:00.000000</td>\n",
       "      <td>2018-07-01 11:00:00.000000</td>\n",
       "      <td>1</td>\n",
       "      <td>1</td>\n",
       "      <td>5</td>\n",
       "      <td>1</td>\n",
       "      <td>1</td>\n",
       "    </tr>\n",
       "    <tr>\n",
       "      <th>4</th>\n",
       "      <td>2018-07-01 11:00:00.000000</td>\n",
       "      <td>2018-07-01 11:00:00.000000</td>\n",
       "      <td>2</td>\n",
       "      <td>0</td>\n",
       "      <td>6</td>\n",
       "      <td>0</td>\n",
       "      <td>1</td>\n",
       "    </tr>\n",
       "    <tr>\n",
       "      <th>5</th>\n",
       "      <td>2018-07-01 11:00:00.000000</td>\n",
       "      <td>2018-07-01 11:00:00.000000</td>\n",
       "      <td>2</td>\n",
       "      <td>1</td>\n",
       "      <td>3</td>\n",
       "      <td>1</td>\n",
       "      <td>1</td>\n",
       "    </tr>\n",
       "  </tbody>\n",
       "</table>\n",
       "</div>"
      ],
      "text/plain": [
       "           match_min_reg_date                    reg_date  match_id  team_no  \\\n",
       "0  2018-07-01 11:00:00.000000  2018-07-01 11:00:00.000000         1        0   \n",
       "1  2018-07-01 11:00:00.000000  2018-07-01 11:00:00.000000         1        0   \n",
       "2  2018-07-01 11:00:00.000000  2018-07-01 11:00:00.000000         1        1   \n",
       "3  2018-07-01 11:00:00.000000  2018-07-01 11:00:00.000000         1        1   \n",
       "4  2018-07-01 11:00:00.000000  2018-07-01 11:00:00.000000         2        0   \n",
       "5  2018-07-01 11:00:00.000000  2018-07-01 11:00:00.000000         2        1   \n",
       "\n",
       "   player_id  result  weight  \n",
       "0          7       0       1  \n",
       "1          6       0       1  \n",
       "2          3       1       1  \n",
       "3          5       1       1  \n",
       "4          6       0       1  \n",
       "5          3       1       1  "
      ]
     },
     "execution_count": 111,
     "metadata": {},
     "output_type": "execute_result"
    }
   ],
   "source": [
    "# test code\n",
    "\n",
    "import pandas as pd\n",
    "\n",
    "\n",
    "file_name = '20180711_ratingSim.xlsx'\n",
    "dfx = pd.read_excel(io=file_name, sheet_name='match_result', header=0)\n",
    "get_transformed_df(dfx, 'reg_date', 'match_id')"
   ]
  },
  {
   "cell_type": "markdown",
   "metadata": {},
   "source": [
    "###### slicing"
   ]
  },
  {
   "cell_type": "code",
   "execution_count": 112,
   "metadata": {},
   "outputs": [],
   "source": [
    "def get_itermatch(df, col_name_reg_date, col_name_match_id, col_name_team_no):\n",
    "    \"\"\"\n",
    "    df: Pandas dataframe\n",
    "\n",
    "    yielding match : dict {\n",
    "        result_code0: [player, ...]\n",
    "        , result_code1: [player, ...]\n",
    "        , ...\n",
    "    }\n",
    "    \"\"\"\n",
    "\n",
    "    def append_player(match, player):\n",
    "        team_no = player[col_name_team_no]\n",
    "        if match.get(team_no) is None:  # new team encountered\n",
    "            match[team_no] = [player]\n",
    "        else:\n",
    "            match[team_no].append(player)\n",
    "\n",
    "    last_match_id = None\n",
    "    match = {}\n",
    "\n",
    "    df = get_transformed_df(df, col_name_reg_date, col_name_match_id)\n",
    "\n",
    "    for idx, row in df.iterrows():\n",
    "        player = row.to_dict()\n",
    "        this_match_id = player[col_name_match_id]\n",
    "\n",
    "        if idx == 0 or last_match_id == this_match_id:  # 1st record or same match with last record\n",
    "            append_player(match, player)\n",
    "        else:  # new match record started\n",
    "            yield match\n",
    "            match = {}\n",
    "            append_player(match, player)\n",
    "\n",
    "        last_match_id = this_match_id\n",
    "\n",
    "    yield match"
   ]
  },
  {
   "cell_type": "code",
   "execution_count": 128,
   "metadata": {},
   "outputs": [
    {
     "data": {
      "text/plain": [
       "[{0: [{'match_id': 1,\n",
       "    'match_min_reg_date': '2018-07-01 11:00:00.000000',\n",
       "    'player_id': 7,\n",
       "    'reg_date': '2018-07-01 11:00:00.000000',\n",
       "    'result': 0,\n",
       "    'team_no': 0,\n",
       "    'weight': 1},\n",
       "   {'match_id': 1,\n",
       "    'match_min_reg_date': '2018-07-01 11:00:00.000000',\n",
       "    'player_id': 6,\n",
       "    'reg_date': '2018-07-01 11:00:00.000000',\n",
       "    'result': 0,\n",
       "    'team_no': 0,\n",
       "    'weight': 1}],\n",
       "  1: [{'match_id': 1,\n",
       "    'match_min_reg_date': '2018-07-01 11:00:00.000000',\n",
       "    'player_id': 3,\n",
       "    'reg_date': '2018-07-01 11:00:00.000000',\n",
       "    'result': 1,\n",
       "    'team_no': 1,\n",
       "    'weight': 1},\n",
       "   {'match_id': 1,\n",
       "    'match_min_reg_date': '2018-07-01 11:00:00.000000',\n",
       "    'player_id': 5,\n",
       "    'reg_date': '2018-07-01 11:00:00.000000',\n",
       "    'result': 1,\n",
       "    'team_no': 1,\n",
       "    'weight': 1}]},\n",
       " {0: [{'match_id': 2,\n",
       "    'match_min_reg_date': '2018-07-01 11:00:00.000000',\n",
       "    'player_id': 6,\n",
       "    'reg_date': '2018-07-01 11:00:00.000000',\n",
       "    'result': 0,\n",
       "    'team_no': 0,\n",
       "    'weight': 1}],\n",
       "  1: [{'match_id': 2,\n",
       "    'match_min_reg_date': '2018-07-01 11:00:00.000000',\n",
       "    'player_id': 3,\n",
       "    'reg_date': '2018-07-01 11:00:00.000000',\n",
       "    'result': 1,\n",
       "    'team_no': 1,\n",
       "    'weight': 1}]}]"
      ]
     },
     "execution_count": 128,
     "metadata": {},
     "output_type": "execute_result"
    }
   ],
   "source": [
    "# test code\n",
    "\n",
    "file_name = '20180711_ratingSim.xlsx'\n",
    "dfx = pd.read_excel(io=file_name, sheet_name='match_result', header=0)\n",
    "\n",
    "itermatch = get_itermatch(dfx, 'reg_date', 'match_id', 'team_no')\n",
    "list(itermatch)"
   ]
  },
  {
   "cell_type": "markdown",
   "metadata": {},
   "source": [
    "###### here we go"
   ]
  },
  {
   "cell_type": "code",
   "execution_count": 233,
   "metadata": {},
   "outputs": [],
   "source": [
    "class RatingStore():\n",
    "    def __init__(self, mmrtype: str, default_rating=None):\n",
    "        self.store = dict()\n",
    "        \n",
    "        if mmrtype.lower() not in {'trueskill', 'elo'}:\n",
    "            raise ValueError('Unknown mmrtype')\n",
    "        else:\n",
    "            self.mmrtype = mmrtype.lower()  # 'trueskill', 'elo', 'glicko', ...\n",
    "        \n",
    "        if default_rating is None:\n",
    "            if self.mmrtype == 'trueskill':\n",
    "                self.default_rating = {'score1':25, 'score2':8.333}\n",
    "            elif self.mmrtype == 'elo':\n",
    "                self.default_rating = {'score1':1200}\n",
    "        \n",
    "    def get_player_rating(self, player_id):\n",
    "        # if it's new player then return default value, or return existing rating\n",
    "        return self.store.get(player_id) or self.default_rating\n",
    "        \n",
    "    def update_rating(self, player_id, rating):\n",
    "        if self.mmrtype == 'trueskill':\n",
    "            _update_rating_trueskill(player_id, rating)\n",
    "    \n",
    "    def _update_rating_trueskill(self, player_id, rating):\n",
    "        import trueskill\n",
    "        assert isinstance(rating, trueskill.Rating)\n",
    "        self.store[player_id] = {'score1':rating.mu, 'score2':rating.sigma}            \n",
    "\n",
    "    def _update_rating_elo(self, player_id, rating):\n",
    "        pass # not implemented\n",
    "        \n",
    "    "
   ]
  },
  {
   "cell_type": "code",
   "execution_count": 234,
   "metadata": {},
   "outputs": [
    {
     "data": {
      "text/plain": [
       "{'score1': 25, 'score2': 8.333}"
      ]
     },
     "execution_count": 234,
     "metadata": {},
     "output_type": "execute_result"
    }
   ],
   "source": [
    "rating_store = RatingStore('trueskill')\n",
    "rating_store.get_player_rating(1)"
   ]
  },
  {
   "cell_type": "code",
   "execution_count": 235,
   "metadata": {},
   "outputs": [],
   "source": [
    "# moved into update_match_result()\n",
    "\n",
    "def get_rating_groups(match):\n",
    "    rating_groups = []\n",
    "    ranks = []\n",
    "\n",
    "    for i, (result, team_members) in enumerate(match.items()):  # for each team(result) in the match\n",
    "        rating_groups.append(dict())\n",
    "        for j, player in enumerate(team_members):  # for each player in the team\n",
    "            if j == 0:\n",
    "                ranks.append(player['result'])\n",
    "\n",
    "            playerid = player['player_id']\n",
    "\n",
    "            r = rating_store.get_player_rating(player['player_id'])\n",
    "            player['rating_before'] = env.Rating(r.get('scroe1'), r.get('score2'))\n",
    "            rating_groups[i][playerid] = player['rating_before']\n",
    "    \n",
    "    return rating_groups, ranks"
   ]
  },
  {
   "cell_type": "code",
   "execution_count": 236,
   "metadata": {
    "scrolled": true
   },
   "outputs": [
    {
     "data": {
      "text/plain": [
       "([{6: trueskill.Rating(mu=25.000, sigma=8.333),\n",
       "   7: trueskill.Rating(mu=25.000, sigma=8.333)},\n",
       "  {3: trueskill.Rating(mu=25.000, sigma=8.333),\n",
       "   5: trueskill.Rating(mu=25.000, sigma=8.333)}],\n",
       " [0, 1])"
      ]
     },
     "execution_count": 236,
     "metadata": {},
     "output_type": "execute_result"
    }
   ],
   "source": [
    "# test code\n",
    "\n",
    "match = {0: [{'match_id': 1,\n",
    "    'match_min_reg_date': '2018-07-01 11:00:00.000000',\n",
    "    'player_id': 7,\n",
    "    'reg_date': '2018-07-01 11:00:00.000000',\n",
    "    'result': 0,\n",
    "    'team_no': 0,\n",
    "    'weight': 1},\n",
    "   {'match_id': 1,\n",
    "    'match_min_reg_date': '2018-07-01 11:00:00.000000',\n",
    "    'player_id': 6,\n",
    "    'reg_date': '2018-07-01 11:00:00.000000',\n",
    "    'result': 0,\n",
    "    'team_no': 0,\n",
    "    'weight': 1}],\n",
    "  1: [{'match_id': 1,\n",
    "    'match_min_reg_date': '2018-07-01 11:00:00.000000',\n",
    "    'player_id': 3,\n",
    "    'reg_date': '2018-07-01 11:00:00.000000',\n",
    "    'result': 1,\n",
    "    'team_no': 1,\n",
    "    'weight': 1},\n",
    "   {'match_id': 1,\n",
    "    'match_min_reg_date': '2018-07-01 11:00:00.000000',\n",
    "    'player_id': 5,\n",
    "    'reg_date': '2018-07-01 11:00:00.000000',\n",
    "    'result': 1,\n",
    "    'team_no': 1,\n",
    "    'weight': 1}]}\n",
    "\n",
    "rating_groups_after, ranks = get_rating_groups(match)\n",
    "rating_groups_after, ranks"
   ]
  },
  {
   "cell_type": "code",
   "execution_count": 237,
   "metadata": {},
   "outputs": [
    {
     "data": {
      "text/plain": [
       "[{6: trueskill.Rating(mu=28.108, sigma=7.774),\n",
       "  7: trueskill.Rating(mu=28.108, sigma=7.774)},\n",
       " {3: trueskill.Rating(mu=21.892, sigma=7.774),\n",
       "  5: trueskill.Rating(mu=21.892, sigma=7.774)}]"
      ]
     },
     "execution_count": 237,
     "metadata": {},
     "output_type": "execute_result"
    }
   ],
   "source": [
    "env.rate(rating_groups_after, ranks)"
   ]
  },
  {
   "cell_type": "code",
   "execution_count": 238,
   "metadata": {},
   "outputs": [],
   "source": [
    "# moved into update_match_result()\n",
    "def set_rating_after(match, player_id, rating_after):\n",
    "    for team_no, team_members in match.items():\n",
    "        for i, player in enumerate(team_members):\n",
    "            if player['player_id'] == player_id:\n",
    "                match[team_no][i]['rating_after'] = rating_after\n",
    "            else:\n",
    "                pass"
   ]
  },
  {
   "cell_type": "code",
   "execution_count": 239,
   "metadata": {},
   "outputs": [
    {
     "data": {
      "text/plain": [
       "{0: [{'match_id': 1,\n",
       "   'match_min_reg_date': '2018-07-01 11:00:00.000000',\n",
       "   'player_id': 7,\n",
       "   'rating_before': trueskill.Rating(mu=25.000, sigma=8.333),\n",
       "   'reg_date': '2018-07-01 11:00:00.000000',\n",
       "   'result': 0,\n",
       "   'team_no': 0,\n",
       "   'weight': 1},\n",
       "  {'match_id': 1,\n",
       "   'match_min_reg_date': '2018-07-01 11:00:00.000000',\n",
       "   'player_id': 6,\n",
       "   'rating_before': trueskill.Rating(mu=25.000, sigma=8.333),\n",
       "   'reg_date': '2018-07-01 11:00:00.000000',\n",
       "   'result': 0,\n",
       "   'team_no': 0,\n",
       "   'weight': 1}],\n",
       " 1: [{'match_id': 1,\n",
       "   'match_min_reg_date': '2018-07-01 11:00:00.000000',\n",
       "   'player_id': 3,\n",
       "   'rating_before': trueskill.Rating(mu=25.000, sigma=8.333),\n",
       "   'reg_date': '2018-07-01 11:00:00.000000',\n",
       "   'result': 1,\n",
       "   'team_no': 1,\n",
       "   'weight': 1},\n",
       "  {'match_id': 1,\n",
       "   'match_min_reg_date': '2018-07-01 11:00:00.000000',\n",
       "   'player_id': 5,\n",
       "   'rating_before': trueskill.Rating(mu=25.000, sigma=8.333),\n",
       "   'reg_date': '2018-07-01 11:00:00.000000',\n",
       "   'result': 1,\n",
       "   'team_no': 1,\n",
       "   'weight': 1}]}"
      ]
     },
     "execution_count": 239,
     "metadata": {},
     "output_type": "execute_result"
    }
   ],
   "source": [
    "match"
   ]
  },
  {
   "cell_type": "code",
   "execution_count": 240,
   "metadata": {},
   "outputs": [],
   "source": [
    "# test code\n",
    "\n",
    "set_rating_after(match, 6, env.Rating(25, 3))"
   ]
  },
  {
   "cell_type": "code",
   "execution_count": 241,
   "metadata": {},
   "outputs": [
    {
     "data": {
      "text/plain": [
       "{0: [{'match_id': 1,\n",
       "   'match_min_reg_date': '2018-07-01 11:00:00.000000',\n",
       "   'player_id': 7,\n",
       "   'rating_before': trueskill.Rating(mu=25.000, sigma=8.333),\n",
       "   'reg_date': '2018-07-01 11:00:00.000000',\n",
       "   'result': 0,\n",
       "   'team_no': 0,\n",
       "   'weight': 1},\n",
       "  {'match_id': 1,\n",
       "   'match_min_reg_date': '2018-07-01 11:00:00.000000',\n",
       "   'player_id': 6,\n",
       "   'rating_after': trueskill.Rating(mu=25.000, sigma=3.000),\n",
       "   'rating_before': trueskill.Rating(mu=25.000, sigma=8.333),\n",
       "   'reg_date': '2018-07-01 11:00:00.000000',\n",
       "   'result': 0,\n",
       "   'team_no': 0,\n",
       "   'weight': 1}],\n",
       " 1: [{'match_id': 1,\n",
       "   'match_min_reg_date': '2018-07-01 11:00:00.000000',\n",
       "   'player_id': 3,\n",
       "   'rating_before': trueskill.Rating(mu=25.000, sigma=8.333),\n",
       "   'reg_date': '2018-07-01 11:00:00.000000',\n",
       "   'result': 1,\n",
       "   'team_no': 1,\n",
       "   'weight': 1},\n",
       "  {'match_id': 1,\n",
       "   'match_min_reg_date': '2018-07-01 11:00:00.000000',\n",
       "   'player_id': 5,\n",
       "   'rating_before': trueskill.Rating(mu=25.000, sigma=8.333),\n",
       "   'reg_date': '2018-07-01 11:00:00.000000',\n",
       "   'result': 1,\n",
       "   'team_no': 1,\n",
       "   'weight': 1}]}"
      ]
     },
     "execution_count": 241,
     "metadata": {},
     "output_type": "execute_result"
    }
   ],
   "source": [
    "match"
   ]
  },
  {
   "cell_type": "code",
   "execution_count": 248,
   "metadata": {},
   "outputs": [],
   "source": [
    "def update_match_result(match, rating_groups_after):\n",
    "    def get_rating_groups(match):\n",
    "        rating_groups = []\n",
    "        ranks = []\n",
    "\n",
    "        for i, (result, team_members) in enumerate(match.items()):  # for each team(result) in the match\n",
    "            rating_groups.append(dict())\n",
    "            for j, player in enumerate(team_members):  # for each player in the team\n",
    "                if j == 0:\n",
    "                    ranks.append(player['result'])\n",
    "                \n",
    "                playerid = player['player_id']\n",
    "                \n",
    "                r = rating_store.get_player_rating(player['player_id'])\n",
    "                player['rating_before'] = env.Rating(r.get('scroe1'), r.get('score2'))\n",
    "                rating_groups[i][playerid] = player['rating_before']\n",
    "\n",
    "        return rating_groups, ranks\n",
    "    \n",
    "    def set_rating_after(match, player_id, rating_after):\n",
    "        for team_no, team_members in match.items():\n",
    "            for i, player in enumerate(team_members):\n",
    "                if player['player_id'] == player_id:\n",
    "                    match[team_no][i]['rating_after'] = rating_after\n",
    "                else:\n",
    "                    pass\n",
    "    \n",
    "    rating_groups, ranks = get_rating_groups(match)\n",
    "    rating_groups_after = env.rate(rating_groups, ranks)\n",
    "    match_val_list = list(match.values())\n",
    "    \n",
    "    for i, rating_group in enumerate(rating_groups_after):\n",
    "        for player_id, rating_after in rating_group.items():\n",
    "            set_rating_after(match, player_id, rating_after)\n",
    "            update_player_rating_store(player_id, rating_after)\n",
    "            "
   ]
  },
  {
   "cell_type": "code",
   "execution_count": 249,
   "metadata": {
    "scrolled": false
   },
   "outputs": [],
   "source": [
    "itermatch = get_itermatch(dfx, 'reg_date', 'match_id', 'result')\n",
    "match_history = list(itermatch)\n",
    "for match in match_history:  # for each match(dict those key is teamno.)\n",
    "    update_match_result(match, rating_groups_after)\n",
    "    "
   ]
  },
  {
   "cell_type": "code",
   "execution_count": 250,
   "metadata": {},
   "outputs": [
    {
     "data": {
      "text/plain": [
       "[{0: [{'match_id': 1,\n",
       "    'match_min_reg_date': '2018-07-01 11:00:00.000000',\n",
       "    'player_id': 7,\n",
       "    'rating_after': trueskill.Rating(mu=28.108, sigma=7.774),\n",
       "    'rating_before': trueskill.Rating(mu=25.000, sigma=8.333),\n",
       "    'reg_date': '2018-07-01 11:00:00.000000',\n",
       "    'result': 0,\n",
       "    'team_no': 0,\n",
       "    'weight': 1},\n",
       "   {'match_id': 1,\n",
       "    'match_min_reg_date': '2018-07-01 11:00:00.000000',\n",
       "    'player_id': 6,\n",
       "    'rating_after': trueskill.Rating(mu=28.108, sigma=7.774),\n",
       "    'rating_before': trueskill.Rating(mu=25.000, sigma=8.333),\n",
       "    'reg_date': '2018-07-01 11:00:00.000000',\n",
       "    'result': 0,\n",
       "    'team_no': 0,\n",
       "    'weight': 1}],\n",
       "  1: [{'match_id': 1,\n",
       "    'match_min_reg_date': '2018-07-01 11:00:00.000000',\n",
       "    'player_id': 3,\n",
       "    'rating_after': trueskill.Rating(mu=21.892, sigma=7.774),\n",
       "    'rating_before': trueskill.Rating(mu=25.000, sigma=8.333),\n",
       "    'reg_date': '2018-07-01 11:00:00.000000',\n",
       "    'result': 1,\n",
       "    'team_no': 1,\n",
       "    'weight': 1},\n",
       "   {'match_id': 1,\n",
       "    'match_min_reg_date': '2018-07-01 11:00:00.000000',\n",
       "    'player_id': 5,\n",
       "    'rating_after': trueskill.Rating(mu=21.892, sigma=7.774),\n",
       "    'rating_before': trueskill.Rating(mu=25.000, sigma=8.333),\n",
       "    'reg_date': '2018-07-01 11:00:00.000000',\n",
       "    'result': 1,\n",
       "    'team_no': 1,\n",
       "    'weight': 1}]},\n",
       " {0: [{'match_id': 2,\n",
       "    'match_min_reg_date': '2018-07-01 11:00:00.000000',\n",
       "    'player_id': 6,\n",
       "    'rating_after': trueskill.Rating(mu=29.396, sigma=7.171),\n",
       "    'rating_before': trueskill.Rating(mu=25.000, sigma=8.333),\n",
       "    'reg_date': '2018-07-01 11:00:00.000000',\n",
       "    'result': 0,\n",
       "    'team_no': 0,\n",
       "    'weight': 1}],\n",
       "  1: [{'match_id': 2,\n",
       "    'match_min_reg_date': '2018-07-01 11:00:00.000000',\n",
       "    'player_id': 3,\n",
       "    'rating_after': trueskill.Rating(mu=20.604, sigma=7.171),\n",
       "    'rating_before': trueskill.Rating(mu=25.000, sigma=8.333),\n",
       "    'reg_date': '2018-07-01 11:00:00.000000',\n",
       "    'result': 1,\n",
       "    'team_no': 1,\n",
       "    'weight': 1}]}]"
      ]
     },
     "execution_count": 250,
     "metadata": {},
     "output_type": "execute_result"
    }
   ],
   "source": [
    "match_history"
   ]
  },
  {
   "cell_type": "code",
   "execution_count": null,
   "metadata": {},
   "outputs": [],
   "source": []
  },
  {
   "cell_type": "code",
   "execution_count": null,
   "metadata": {},
   "outputs": [],
   "source": []
  },
  {
   "cell_type": "code",
   "execution_count": null,
   "metadata": {},
   "outputs": [],
   "source": []
  }
 ],
 "metadata": {
  "kernelspec": {
   "display_name": "Python 3",
   "language": "python",
   "name": "python3"
  },
  "language_info": {
   "codemirror_mode": {
    "name": "ipython",
    "version": 3
   },
   "file_extension": ".py",
   "mimetype": "text/x-python",
   "name": "python",
   "nbconvert_exporter": "python",
   "pygments_lexer": "ipython3",
   "version": "3.6.4"
  }
 },
 "nbformat": 4,
 "nbformat_minor": 2
}
