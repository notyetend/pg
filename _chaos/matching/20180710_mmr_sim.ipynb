{
 "cells": [
  {
   "cell_type": "code",
   "execution_count": 10,
   "metadata": {},
   "outputs": [
    {
     "name": "stdout",
     "output_type": "stream",
     "text": [
      "C:\\Users\\dongwan.kim\\Desktop\\da_work\\2000_trueskill\n",
      "C:\\Users\\dongwan.kim\\Desktop\\da_work\\2000_trueskill\n"
     ]
    }
   ],
   "source": [
    "import trueskill as ts\n",
    "import os\n",
    "import pandas as pd\n",
    "\n",
    "print(os.getcwd())\n",
    "os.chdir(r'C:\\Users\\dongwan.kim\\Desktop\\da_work\\2000_trueskill')\n",
    "print(os.getcwd())"
   ]
  },
  {
   "cell_type": "code",
   "execution_count": 23,
   "metadata": {},
   "outputs": [
    {
     "data": {
      "text/plain": [
       "['matchid', 'teamno', 'playerid', 'result', 'weight']"
      ]
     },
     "execution_count": 23,
     "metadata": {},
     "output_type": "execute_result"
    }
   ],
   "source": [
    "file_name = '20180711_ratingSim.xlsx'\n",
    "df = pd.read_excel(io=file_name, sheet_name='match_result', header=0)\n",
    "header_names = list(df)\n",
    "header_names"
   ]
  },
  {
   "cell_type": "code",
   "execution_count": 14,
   "metadata": {},
   "outputs": [],
   "source": [
    "import trueskill as ts\n",
    "import matplotlib.pyplot as plt\n",
    "import numpy as np\n",
    "import math\n",
    "from scipy.stats import norm\n",
    "pdf = norm.pdf\n",
    "cdf = norm.cdf\n",
    "icdf = norm.ppf  # inverse CDF\n",
    "\n",
    "def get_draw_margin(p, beta, total_players=2):\n",
    "    \"\"\" Compute the draw margin (epsilon) given the draw probability. \"\"\"\n",
    "    return icdf((p + 1.0) / 2) * math.sqrt(total_players) * beta\n",
    "\n",
    "init_mu = 25\n",
    "init_sigma = init_mu / 3\n",
    "init_beta = init_sigma / 2\n",
    "init_gamma = init_sigma / 100\n",
    "init_draw_probability = 0.1\n",
    "init_epsilon = get_draw_margin(0.1, init_beta); init_epsilon\n",
    "\n",
    "env = ts.TrueSkill(mu=init_mu, sigma=init_sigma, beta=init_beta, tau=init_gamma, draw_probability=init_draw_probability, backend='scipy')"
   ]
  },
  {
   "cell_type": "code",
   "execution_count": 24,
   "metadata": {},
   "outputs": [
    {
     "name": "stdout",
     "output_type": "stream",
     "text": [
      "1\n",
      "0\n",
      "7\n",
      "0\n",
      "1\n",
      "1\n",
      "0\n",
      "6\n",
      "0\n",
      "1\n",
      "1\n",
      "1\n",
      "3\n",
      "1\n",
      "1\n",
      "1\n",
      "1\n",
      "5\n",
      "1\n",
      "1\n",
      "2\n",
      "0\n",
      "6\n",
      "0\n",
      "1\n",
      "2\n",
      "1\n",
      "3\n",
      "1\n",
      "1\n"
     ]
    }
   ],
   "source": [
    "for index, row in df.iterrows():\n",
    "    \n",
    "    \n",
    "    "
   ]
  },
  {
   "cell_type": "code",
   "execution_count": null,
   "metadata": {},
   "outputs": [],
   "source": []
  }
 ],
 "metadata": {
  "kernelspec": {
   "display_name": "Python 3",
   "language": "python",
   "name": "python3"
  },
  "language_info": {
   "codemirror_mode": {
    "name": "ipython",
    "version": 3
   },
   "file_extension": ".py",
   "mimetype": "text/x-python",
   "name": "python",
   "nbconvert_exporter": "python",
   "pygments_lexer": "ipython3",
   "version": "3.6.4"
  }
 },
 "nbformat": 4,
 "nbformat_minor": 2
}
