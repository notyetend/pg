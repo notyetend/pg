{
 "cells": [
  {
   "cell_type": "markdown",
   "metadata": {},
   "source": [
    "###### setting work path"
   ]
  },
  {
   "cell_type": "code",
   "execution_count": 1,
   "metadata": {},
   "outputs": [
    {
     "name": "stdout",
     "output_type": "stream",
     "text": [
      "D:\\_PlayGround\\Github\\pg\\_chaos\\matching\n",
      "C:\\Users\\dongwan.kim\\Desktop\\da_work\\2000_trueskill\n"
     ]
    }
   ],
   "source": [
    "import os\n",
    "\n",
    "print(os.getcwd())\n",
    "os.chdir(r'C:\\Users\\dongwan.kim\\Desktop\\da_work\\2000_trueskill')\n",
    "print(os.getcwd())"
   ]
  },
  {
   "cell_type": "markdown",
   "metadata": {},
   "source": [
    "###### loading file"
   ]
  },
  {
   "cell_type": "code",
   "execution_count": 4,
   "metadata": {},
   "outputs": [
    {
     "data": {
      "text/html": [
       "<div>\n",
       "<style scoped>\n",
       "    .dataframe tbody tr th:only-of-type {\n",
       "        vertical-align: middle;\n",
       "    }\n",
       "\n",
       "    .dataframe tbody tr th {\n",
       "        vertical-align: top;\n",
       "    }\n",
       "\n",
       "    .dataframe thead th {\n",
       "        text-align: right;\n",
       "    }\n",
       "</style>\n",
       "<table border=\"1\" class=\"dataframe\">\n",
       "  <thead>\n",
       "    <tr style=\"text-align: right;\">\n",
       "      <th></th>\n",
       "      <th>reg_date</th>\n",
       "      <th>matchid</th>\n",
       "      <th>teamno</th>\n",
       "      <th>playerid</th>\n",
       "      <th>result</th>\n",
       "      <th>weight</th>\n",
       "    </tr>\n",
       "  </thead>\n",
       "  <tbody>\n",
       "    <tr>\n",
       "      <th>0</th>\n",
       "      <td>2018-07-01 11:00:00</td>\n",
       "      <td>1</td>\n",
       "      <td>0</td>\n",
       "      <td>7</td>\n",
       "      <td>0</td>\n",
       "      <td>1</td>\n",
       "    </tr>\n",
       "    <tr>\n",
       "      <th>1</th>\n",
       "      <td>2018-07-01 11:00:00</td>\n",
       "      <td>1</td>\n",
       "      <td>0</td>\n",
       "      <td>6</td>\n",
       "      <td>0</td>\n",
       "      <td>1</td>\n",
       "    </tr>\n",
       "    <tr>\n",
       "      <th>2</th>\n",
       "      <td>2018-07-01 11:00:00</td>\n",
       "      <td>1</td>\n",
       "      <td>1</td>\n",
       "      <td>3</td>\n",
       "      <td>1</td>\n",
       "      <td>1</td>\n",
       "    </tr>\n",
       "    <tr>\n",
       "      <th>3</th>\n",
       "      <td>2018-07-01 11:00:00</td>\n",
       "      <td>1</td>\n",
       "      <td>1</td>\n",
       "      <td>5</td>\n",
       "      <td>1</td>\n",
       "      <td>1</td>\n",
       "    </tr>\n",
       "    <tr>\n",
       "      <th>4</th>\n",
       "      <td>2018-07-01 11:00:00</td>\n",
       "      <td>2</td>\n",
       "      <td>0</td>\n",
       "      <td>6</td>\n",
       "      <td>0</td>\n",
       "      <td>1</td>\n",
       "    </tr>\n",
       "    <tr>\n",
       "      <th>5</th>\n",
       "      <td>2018-07-01 11:00:00</td>\n",
       "      <td>2</td>\n",
       "      <td>1</td>\n",
       "      <td>3</td>\n",
       "      <td>1</td>\n",
       "      <td>1</td>\n",
       "    </tr>\n",
       "  </tbody>\n",
       "</table>\n",
       "</div>"
      ],
      "text/plain": [
       "             reg_date  matchid  teamno  playerid  result  weight\n",
       "0 2018-07-01 11:00:00        1       0         7       0       1\n",
       "1 2018-07-01 11:00:00        1       0         6       0       1\n",
       "2 2018-07-01 11:00:00        1       1         3       1       1\n",
       "3 2018-07-01 11:00:00        1       1         5       1       1\n",
       "4 2018-07-01 11:00:00        2       0         6       0       1\n",
       "5 2018-07-01 11:00:00        2       1         3       1       1"
      ]
     },
     "execution_count": 4,
     "metadata": {},
     "output_type": "execute_result"
    }
   ],
   "source": [
    "import pandas as pd\n",
    "\n",
    "file_name = '20180711_ratingSim.xlsx'\n",
    "df = pd.read_excel(io=file_name, sheet_name='match_result', header=0)\n",
    "df"
   ]
  },
  {
   "cell_type": "code",
   "execution_count": 5,
   "metadata": {},
   "outputs": [
    {
     "data": {
      "text/plain": [
       "['reg_date', 'matchid', 'teamno', 'playerid', 'result', 'weight']"
      ]
     },
     "execution_count": 5,
     "metadata": {},
     "output_type": "execute_result"
    }
   ],
   "source": [
    "header_names = list(df)\n",
    "header_names"
   ]
  },
  {
   "cell_type": "markdown",
   "metadata": {},
   "source": [
    "###### trueskill settings"
   ]
  },
  {
   "cell_type": "code",
   "execution_count": 6,
   "metadata": {},
   "outputs": [],
   "source": [
    "import trueskill as ts\n",
    "import matplotlib.pyplot as plt\n",
    "import numpy as np\n",
    "import math\n",
    "from scipy.stats import norm\n",
    "pdf = norm.pdf\n",
    "cdf = norm.cdf\n",
    "icdf = norm.ppf  # inverse CDF\n",
    "\n",
    "def get_draw_margin(p, beta, total_players=2):\n",
    "    \"\"\" Compute the draw margin (epsilon) given the draw probability. \"\"\"\n",
    "    return icdf((p + 1.0) / 2) * math.sqrt(total_players) * beta\n",
    "\n",
    "init_mu = 25\n",
    "init_sigma = init_mu / 3\n",
    "init_beta = init_sigma / 2\n",
    "init_gamma = init_sigma / 100\n",
    "init_draw_probability = 0.1\n",
    "init_epsilon = get_draw_margin(0.1, init_beta); init_epsilon\n",
    "\n",
    "env = ts.TrueSkill(mu=init_mu, sigma=init_sigma, beta=init_beta, tau=init_gamma, draw_probability=init_draw_probability, backend='scipy')"
   ]
  },
  {
   "cell_type": "markdown",
   "metadata": {},
   "source": [
    "###### df transformer"
   ]
  },
  {
   "cell_type": "code",
   "execution_count": 41,
   "metadata": {},
   "outputs": [],
   "source": [
    "import pandasql as pdsql\n",
    "\n",
    "\n",
    "def get_transformed_df(df, col_name_regdate, col_name_matchid):\n",
    "    query = \"\"\"\n",
    "    select\n",
    "        t2.match_min_reg_date\n",
    "        , t1.*\n",
    "    from \n",
    "        df as t1\n",
    "        inner join\n",
    "        (\n",
    "            select \n",
    "                \"\"\" + col_name_matchid + \"\"\"\n",
    "                , min(\"\"\" + col_name_regdate + \"\"\") as match_min_reg_date\n",
    "            from \n",
    "                df\n",
    "            group by \n",
    "                \"\"\" + col_name_matchid + \"\"\" \n",
    "        ) as t2\n",
    "        on\n",
    "            t1.\"\"\" + col_name_matchid + \"\"\" = t2.\"\"\" + col_name_matchid + \"\"\"\n",
    "    order by\n",
    "        t2.match_min_reg_date\n",
    "        , t1.\"\"\" + col_name_matchid + \"\"\"\n",
    "    \"\"\"\n",
    "    return pdsql.sqldf(query, locals())   "
   ]
  },
  {
   "cell_type": "code",
   "execution_count": 42,
   "metadata": {},
   "outputs": [
    {
     "data": {
      "text/html": [
       "<div>\n",
       "<style scoped>\n",
       "    .dataframe tbody tr th:only-of-type {\n",
       "        vertical-align: middle;\n",
       "    }\n",
       "\n",
       "    .dataframe tbody tr th {\n",
       "        vertical-align: top;\n",
       "    }\n",
       "\n",
       "    .dataframe thead th {\n",
       "        text-align: right;\n",
       "    }\n",
       "</style>\n",
       "<table border=\"1\" class=\"dataframe\">\n",
       "  <thead>\n",
       "    <tr style=\"text-align: right;\">\n",
       "      <th></th>\n",
       "      <th>match_min_reg_date</th>\n",
       "      <th>reg_date</th>\n",
       "      <th>matchid</th>\n",
       "      <th>teamno</th>\n",
       "      <th>playerid</th>\n",
       "      <th>result</th>\n",
       "      <th>weight</th>\n",
       "    </tr>\n",
       "  </thead>\n",
       "  <tbody>\n",
       "    <tr>\n",
       "      <th>0</th>\n",
       "      <td>2018-07-01 11:00:00.000000</td>\n",
       "      <td>2018-07-01 11:00:00.000000</td>\n",
       "      <td>1</td>\n",
       "      <td>0</td>\n",
       "      <td>7</td>\n",
       "      <td>0</td>\n",
       "      <td>1</td>\n",
       "    </tr>\n",
       "    <tr>\n",
       "      <th>1</th>\n",
       "      <td>2018-07-01 11:00:00.000000</td>\n",
       "      <td>2018-07-01 11:00:00.000000</td>\n",
       "      <td>1</td>\n",
       "      <td>0</td>\n",
       "      <td>6</td>\n",
       "      <td>0</td>\n",
       "      <td>1</td>\n",
       "    </tr>\n",
       "    <tr>\n",
       "      <th>2</th>\n",
       "      <td>2018-07-01 11:00:00.000000</td>\n",
       "      <td>2018-07-01 11:00:00.000000</td>\n",
       "      <td>1</td>\n",
       "      <td>1</td>\n",
       "      <td>3</td>\n",
       "      <td>1</td>\n",
       "      <td>1</td>\n",
       "    </tr>\n",
       "    <tr>\n",
       "      <th>3</th>\n",
       "      <td>2018-07-01 11:00:00.000000</td>\n",
       "      <td>2018-07-01 11:00:00.000000</td>\n",
       "      <td>1</td>\n",
       "      <td>1</td>\n",
       "      <td>5</td>\n",
       "      <td>1</td>\n",
       "      <td>1</td>\n",
       "    </tr>\n",
       "    <tr>\n",
       "      <th>4</th>\n",
       "      <td>2018-07-01 11:00:00.000000</td>\n",
       "      <td>2018-07-01 11:00:00.000000</td>\n",
       "      <td>2</td>\n",
       "      <td>0</td>\n",
       "      <td>6</td>\n",
       "      <td>0</td>\n",
       "      <td>1</td>\n",
       "    </tr>\n",
       "    <tr>\n",
       "      <th>5</th>\n",
       "      <td>2018-07-01 11:00:00.000000</td>\n",
       "      <td>2018-07-01 11:00:00.000000</td>\n",
       "      <td>2</td>\n",
       "      <td>1</td>\n",
       "      <td>3</td>\n",
       "      <td>1</td>\n",
       "      <td>1</td>\n",
       "    </tr>\n",
       "  </tbody>\n",
       "</table>\n",
       "</div>"
      ],
      "text/plain": [
       "           match_min_reg_date                    reg_date  matchid  teamno  \\\n",
       "0  2018-07-01 11:00:00.000000  2018-07-01 11:00:00.000000        1       0   \n",
       "1  2018-07-01 11:00:00.000000  2018-07-01 11:00:00.000000        1       0   \n",
       "2  2018-07-01 11:00:00.000000  2018-07-01 11:00:00.000000        1       1   \n",
       "3  2018-07-01 11:00:00.000000  2018-07-01 11:00:00.000000        1       1   \n",
       "4  2018-07-01 11:00:00.000000  2018-07-01 11:00:00.000000        2       0   \n",
       "5  2018-07-01 11:00:00.000000  2018-07-01 11:00:00.000000        2       1   \n",
       "\n",
       "   playerid  result  weight  \n",
       "0         7       0       1  \n",
       "1         6       0       1  \n",
       "2         3       1       1  \n",
       "3         5       1       1  \n",
       "4         6       0       1  \n",
       "5         3       1       1  "
      ]
     },
     "execution_count": 42,
     "metadata": {},
     "output_type": "execute_result"
    }
   ],
   "source": [
    "# test code\n",
    "\n",
    "import pandas as pd\n",
    "\n",
    "\n",
    "file_name = '20180711_ratingSim.xlsx'\n",
    "dfx = pd.read_excel(io=file_name, sheet_name='match_result', header=0)\n",
    "get_transformed_df(dfx, 'reg_date', 'matchid')"
   ]
  },
  {
   "cell_type": "markdown",
   "metadata": {},
   "source": [
    "###### slicing"
   ]
  },
  {
   "cell_type": "code",
   "execution_count": 43,
   "metadata": {},
   "outputs": [],
   "source": [
    "def get_itermatch(df, col_name_regdate, col_name_matchid, col_name_teamno):\n",
    "    \"\"\"\n",
    "    df: Pandas dataframe\n",
    "    \"\"\"\n",
    "    def append_player(match, player):\n",
    "        team_no = player[col_name_teamno]\n",
    "        if match.get(team_no) is None:  # new team encountered\n",
    "            match[team_no] = [player]\n",
    "        else:\n",
    "            match[team_no].append(player)\n",
    "            \n",
    "    last_matchid = None\n",
    "    match = dict()\n",
    "    \n",
    "    df = get_transformed_df(df, col_name_regdate, col_name_matchid)\n",
    "    \n",
    "    for idx, row in df.iterrows():\n",
    "        player = row.to_dict()\n",
    "        this_matchid = player[col_name_matchid]\n",
    "\n",
    "        if idx == 0 or last_matchid == this_matchid:  # 1st record or same match with last record\n",
    "            append_player(match, player)\n",
    "        else:  # new match record started\n",
    "            yield match\n",
    "            match = dict()\n",
    "            append_player(match, player)\n",
    "        \n",
    "        last_matchid = this_matchid\n",
    "        \n",
    "    yield match"
   ]
  },
  {
   "cell_type": "code",
   "execution_count": 36,
   "metadata": {},
   "outputs": [
    {
     "data": {
      "text/plain": [
       "[{0: [{'match_min_reg_date': 1,\n",
       "    'matchid': 1,\n",
       "    'playerid': 7,\n",
       "    'reg_date': '2018-07-01 11:00:00.000000',\n",
       "    'result': 0,\n",
       "    'teamno': 0,\n",
       "    'weight': 1},\n",
       "   {'match_min_reg_date': 1,\n",
       "    'matchid': 1,\n",
       "    'playerid': 6,\n",
       "    'reg_date': '2018-07-01 11:00:00.000000',\n",
       "    'result': 0,\n",
       "    'teamno': 0,\n",
       "    'weight': 1}],\n",
       "  1: [{'match_min_reg_date': 1,\n",
       "    'matchid': 1,\n",
       "    'playerid': 3,\n",
       "    'reg_date': '2018-07-01 11:00:00.000000',\n",
       "    'result': 1,\n",
       "    'teamno': 1,\n",
       "    'weight': 1},\n",
       "   {'match_min_reg_date': 1,\n",
       "    'matchid': 1,\n",
       "    'playerid': 5,\n",
       "    'reg_date': '2018-07-01 11:00:00.000000',\n",
       "    'result': 1,\n",
       "    'teamno': 1,\n",
       "    'weight': 1}]},\n",
       " {0: [{'match_min_reg_date': 2,\n",
       "    'matchid': 2,\n",
       "    'playerid': 6,\n",
       "    'reg_date': '2018-07-01 11:00:00.000000',\n",
       "    'result': 0,\n",
       "    'teamno': 0,\n",
       "    'weight': 1}],\n",
       "  1: [{'match_min_reg_date': 2,\n",
       "    'matchid': 2,\n",
       "    'playerid': 3,\n",
       "    'reg_date': '2018-07-01 11:00:00.000000',\n",
       "    'result': 1,\n",
       "    'teamno': 1,\n",
       "    'weight': 1}]}]"
      ]
     },
     "execution_count": 36,
     "metadata": {},
     "output_type": "execute_result"
    }
   ],
   "source": [
    "# test code\n",
    "\n",
    "file_name = '20180711_ratingSim.xlsx'\n",
    "dfx = pd.read_excel(io=file_name, sheet_name='match_result', header=0)\n",
    "\n",
    "itermatch = get_itermatch(dfx, 'reg_date', 'matchid', 'teamno')\n",
    "list(itermatch)"
   ]
  },
  {
   "cell_type": "markdown",
   "metadata": {},
   "source": [
    "###### here we go"
   ]
  },
  {
   "cell_type": "code",
   "execution_count": 33,
   "metadata": {
    "scrolled": true
   },
   "outputs": [
    {
     "name": "stdout",
     "output_type": "stream",
     "text": [
      "{0: [{'match_min_reg_date': 1, 'reg_date': '2018-07-01 11:00:00.000000', 'matchid': 1, 'teamno': 0, 'playerid': 7, 'result': 0, 'weight': 1}, {'match_min_reg_date': 1, 'reg_date': '2018-07-01 11:00:00.000000', 'matchid': 1, 'teamno': 0, 'playerid': 6, 'result': 0, 'weight': 1}], 1: [{'match_min_reg_date': 1, 'reg_date': '2018-07-01 11:00:00.000000', 'matchid': 1, 'teamno': 1, 'playerid': 3, 'result': 1, 'weight': 1}, {'match_min_reg_date': 1, 'reg_date': '2018-07-01 11:00:00.000000', 'matchid': 1, 'teamno': 1, 'playerid': 5, 'result': 1, 'weight': 1}]}\n",
      "{0: [{'match_min_reg_date': 2, 'reg_date': '2018-07-01 11:00:00.000000', 'matchid': 2, 'teamno': 0, 'playerid': 6, 'result': 0, 'weight': 1}], 1: [{'match_min_reg_date': 2, 'reg_date': '2018-07-01 11:00:00.000000', 'matchid': 2, 'teamno': 1, 'playerid': 3, 'result': 1, 'weight': 1}]}\n"
     ]
    }
   ],
   "source": [
    "itermatch = get_itermatch(dfx, 'reg_date', 'matchid', 'teamno')\n",
    "\n",
    "for match in itermatch:  # for each match(dict those key is teamno.)\n",
    "    print(match)\n",
    "    \n",
    "    rating_groups = []\n",
    "    \n",
    "    for team_no, player in match.items():\n",
    "        pass\n",
    "        "
   ]
  },
  {
   "cell_type": "code",
   "execution_count": null,
   "metadata": {},
   "outputs": [],
   "source": []
  }
 ],
 "metadata": {
  "kernelspec": {
   "display_name": "Python 3",
   "language": "python",
   "name": "python3"
  },
  "language_info": {
   "codemirror_mode": {
    "name": "ipython",
    "version": 3
   },
   "file_extension": ".py",
   "mimetype": "text/x-python",
   "name": "python",
   "nbconvert_exporter": "python",
   "pygments_lexer": "ipython3",
   "version": "3.6.4"
  }
 },
 "nbformat": 4,
 "nbformat_minor": 2
}
