{
 "cells": [
  {
   "cell_type": "code",
   "execution_count": 1,
   "metadata": {},
   "outputs": [],
   "source": [
    "def update_match_result(rating_store, match, rating_groups_after):\n",
    "    def get_rating_groups(match):\n",
    "        \"\"\"\n",
    "        rate function of trueskill package requires rating_groups and ranks as arg.\n",
    "        so we build these two things first.\n",
    "        \n",
    "        and we assume player's current rating is always exist in the rating store.\n",
    "        \"\"\"\n",
    "        rating_groups = []\n",
    "        ranks = []\n",
    "\n",
    "        for i, (result, team_members) in enumerate(match.items()):  # for each team(result) in the match\n",
    "            rating_groups.append(dict())\n",
    "            for j, player in enumerate(team_members):  # for each player in the team\n",
    "                if j == 0:\n",
    "                    ranks.append(player['result'])\n",
    "                \n",
    "                playerid = player['player_id']\n",
    "                \n",
    "                r = rating_store.get_player_rating(player['player_id'])\n",
    "                player['rating_before'] = env.Rating(r.get('scroe1'), r.get('score2'))\n",
    "                rating_groups[i][playerid] = player['rating_before']\n",
    "        return rating_groups, ranks\n",
    "    \n",
    "    def set_rating_after(match, player_id, rating_after):\n",
    "        \"\"\"\n",
    "        add 'rating_after' key in the match dict \n",
    "            which having updated player's rating after the match.\n",
    "        \"\"\"\n",
    "        for team_no, team_members in match.items():\n",
    "            for i, player in enumerate(team_members):\n",
    "                if player['player_id'] == player_id:\n",
    "                    match[team_no][i]['rating_after'] = rating_after\n",
    "                else:\n",
    "                    pass\n",
    "    \n",
    "    rating_groups, ranks = get_rating_groups(match)\n",
    "    rating_groups_after = env.rate(rating_groups, ranks)  # calculating updated rating after the match.\n",
    "    match_val_list = list(match.values())\n",
    "    \n",
    "    for i, rating_group in enumerate(rating_groups_after):\n",
    "        for player_id, rating_after in rating_group.items():\n",
    "            set_rating_after(match, player_id, rating_after)\n",
    "            rating_store.update_rating(player_id, (rating_after.mu, rating_after.sigma))\n",
    "            "
   ]
  },
  {
   "cell_type": "code",
   "execution_count": null,
   "metadata": {},
   "outputs": [],
   "source": []
  }
 ],
 "metadata": {
  "kernelspec": {
   "display_name": "Python 3",
   "language": "python",
   "name": "python3"
  },
  "language_info": {
   "codemirror_mode": {
    "name": "ipython",
    "version": 3
   },
   "file_extension": ".py",
   "mimetype": "text/x-python",
   "name": "python",
   "nbconvert_exporter": "python",
   "pygments_lexer": "ipython3",
   "version": "3.6.4"
  }
 },
 "nbformat": 4,
 "nbformat_minor": 2
}
