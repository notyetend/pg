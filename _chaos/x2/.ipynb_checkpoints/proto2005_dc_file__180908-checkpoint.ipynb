{
 "cells": [
  {
   "cell_type": "markdown",
   "metadata": {},
   "source": [
    "> IDEAS\n",
    "- 맵을 저장하는 데이터 형태를 어떻게 할 것인가? \n",
    " - x, y쌍을 맵으로 놓고 사잇값에 대해서는 내적으로 계산하는 접근\n",
    " - piecewise linear형태로 구간별 선형 모형 설계\n",
    "- 오차를 줄이는 방법은? \n",
    " - 오차분석 필요\n",
    " - polynomial regression의 오차 특성은? 양 극단에서 오차가 커지는 이유는? 이를 커버하는 방법은?\n",
    "- chart는 어떤걸 그리나? \n",
    " - 잔차 plot(time-step)\n",
    " - 잔차 크기에 따른 빈도\n",
    " - U, W, V - timestep plot\n",
    " - p104, X크기에 따른 잔차 plot\n",
    "\n",
    "\n",
    "> TODO\n",
    "- 우선 맵 및 공식 전달"
   ]
  },
  {
   "cell_type": "markdown",
   "metadata": {},
   "source": [
    "###### preparing input data"
   ]
  },
  {
   "cell_type": "markdown",
   "metadata": {},
   "source": [
    "import os\n",
    "import numpy as np\n",
    "import pandas as pd\n",
    "\n",
    "os.getcwd()\n",
    "os.chdir(r'C:\\My\\x2\\180801')\n",
    "os.getcwd()\n",
    "\n",
    "file_name = '180801-800~0~800A DATA(UVW상)1.xlsx'\n",
    "file_name = '180801-800~0~800A DATA(UVW상)3.xlsx'\n",
    "file_name = '180801-800~0~800A DATA(UVW상)4.xlsx'\n",
    "file_name = '180801-800~0~800A DATA(UVW상)5.xlsx'\n",
    "sheet_name = 'Sheet1'\n",
    "\n",
    "cell_range_list = [('B' + str(5+i*23), 'F' + str(5+i*23+19)) for i in range(17)] + \\\n",
    "[('J' + str(5+i*23), 'N' + str(5+i*23+19)) for i in range(17)]"
   ]
  },
  {
   "cell_type": "code",
   "execution_count": 2,
   "metadata": {},
   "outputs": [],
   "source": [
    "import numpy as np\n",
    "import pandas as pd\n",
    "\n",
    "from sklearn.linear_model import LinearRegression\n",
    "from sklearn.preprocessing import PolynomialFeatures\n",
    "from sklearn.metrics import mean_squared_error\n",
    "from sklearn.model_selection import train_test_split"
   ]
  },
  {
   "cell_type": "code",
   "execution_count": 3,
   "metadata": {},
   "outputs": [],
   "source": [
    "def load_cells(file_name: str, sheet_name: str, cell_range: tuple):\n",
    "    from openpyxl import load_workbook\n",
    "    import pandas as pd\n",
    "\n",
    "    wb = load_workbook(filename=file_name, read_only=True)\n",
    "    ws = wb[sheet_name]\n",
    "\n",
    "    # Read the cell values into a list of lists\n",
    "    data_rows = []\n",
    "    for row in ws[cell_range[0]:cell_range[1]]:\n",
    "        data_cols = []\n",
    "        for cell in row:\n",
    "            data_cols.append(cell.value)\n",
    "        data_rows.append(data_cols)\n",
    "\n",
    "    # Transform into dataframe\n",
    "    \n",
    "    df = pd.DataFrame(data_rows)\n",
    "    df.columns = ['reg_date', 'G', 'U', 'V', 'W']\n",
    "    return df"
   ]
  },
  {
   "cell_type": "code",
   "execution_count": 4,
   "metadata": {},
   "outputs": [],
   "source": [
    "def load_cells_many(file_name: str, sheet_name: str, cell_range_list: list):\n",
    "    import pandas as pd\n",
    "    \n",
    "    df_list = []\n",
    "    for cell_range in cell_range_list:\n",
    "        df_list.append(load_cells(file_name, sheet_name, cell_range))\n",
    "        \n",
    "    return pd.concat(df_list, ignore_index=True)"
   ]
  },
  {
   "cell_type": "markdown",
   "metadata": {},
   "source": [
    "# test code\n",
    "\n",
    "df = load_cells_many(file_name, sheet_name, cell_range_list)\n",
    "df['Order'] = np.floor(df['G'] * 10)\n",
    "df = df.sort_values(['Order']).reset_index(drop=True)"
   ]
  },
  {
   "cell_type": "markdown",
   "metadata": {},
   "source": [
    "###### Tools"
   ]
  },
  {
   "cell_type": "code",
   "execution_count": 5,
   "metadata": {},
   "outputs": [],
   "source": [
    "from sklearn import metrics\n",
    "'''\n",
    "metrics.explained_variance_score\n",
    "metrics.mean_absolute_error\n",
    "metrics.mean_squared_error\n",
    "metrics.mean_squared_log_error\n",
    "metrics.median_absolute_error\n",
    "metrics.r2_score\n",
    "'''\n",
    "\n",
    "def print_metrics(actual, pred):\n",
    "    actual = np.array(actual) if isinstance(actual, list) else actual\n",
    "    pred = np.array(pred) if isinstance(pred, list) else pred\n",
    "\n",
    "    actual = actual.reshape(-1, 1) if len(actual.shape) == 1 else actual\n",
    "    pred = pred.reshape(-1, 1) if len(pred.shape) == 1 else pred\n",
    "    \n",
    "    evs = metrics.explained_variance_score(actual, pred)\n",
    "    mse = metrics.mean_squared_error(actual, pred)\n",
    "    mse_ppm = mse * 1e6 / 800 / 300\n",
    "    mae = metrics.mean_absolute_error(actual, pred)\n",
    "    mae_ppm = mae * 1e6 / 800 / 300\n",
    "    r2 = metrics.r2_score(actual, pred)\n",
    "    max_abs_err = float(np.max(np.abs(actual - pred)))\n",
    "    \n",
    "    print('MSE:     :', mse)\n",
    "    print('MSE ppm  :', mse_ppm)\n",
    "    print('MAE:     :', mae)\n",
    "    print('MAE ppm  :', mae_ppm)\n",
    "    print('Max er   :', max_abs_err)\n",
    "    print('EVS:     :', mae)\n",
    "    print('R2 score :', r2)\n",
    "    "
   ]
  },
  {
   "cell_type": "code",
   "execution_count": 6,
   "metadata": {
    "scrolled": true
   },
   "outputs": [
    {
     "name": "stdout",
     "output_type": "stream",
     "text": [
      "MSE:     : 0.006666666666666678\n",
      "MSE ppm  : 0.02777777777777783\n",
      "MAE:     : 0.06666666666666672\n",
      "MAE ppm  : 0.277777777777778\n",
      "Max er   : 0.10000000000000009\n",
      "EVS:     : 0.06666666666666672\n",
      "R2 score : 0.99\n"
     ]
    }
   ],
   "source": [
    "print_metrics([1, 2, 3], [1.1, 1.9, 3])"
   ]
  },
  {
   "cell_type": "markdown",
   "metadata": {},
   "source": [
    "### model - poly reg"
   ]
  },
  {
   "cell_type": "code",
   "execution_count": 7,
   "metadata": {},
   "outputs": [],
   "source": [
    "def get_splitted_data(df, x_label, y_label, is_y_positive=True):\n",
    "    dataset_X = df[[x_label]]\n",
    "    y_sign = 1.0 if is_y_positive else -1.0\n",
    "    dataset_y = ((df[[y_label]] * y_sign / 5 * 1500) / 400) + 2.5\n",
    "    \n",
    "    training_set_X, test_set_X, training_set_y, test_set_y = train_test_split(dataset_X,\n",
    "                                                                              dataset_y,\n",
    "                                                                              test_size=0.33,\n",
    "                                                                              random_state=42,\n",
    "                                                                              shuffle=True)\n",
    "    return training_set_X, test_set_X, training_set_y, test_set_y"
   ]
  },
  {
   "cell_type": "markdown",
   "metadata": {},
   "source": [
    "# test code\n",
    "\n",
    "training_set_X, test_set_X, training_set_y, test_set_y = get_splitted_data(df, x_label='V', y_label='G', is_y_positive=True)"
   ]
  },
  {
   "cell_type": "markdown",
   "metadata": {},
   "source": [
    "###### plot training set"
   ]
  },
  {
   "cell_type": "code",
   "execution_count": 8,
   "metadata": {},
   "outputs": [],
   "source": [
    "def plot_training_set(training_set_X, training_set_y):\n",
    "    import matplotlib.pyplot as plt\n",
    "    import matplotlib as mpl\n",
    "    %matplotlib inline\n",
    "\n",
    "    plt.style.use('ggplot')\n",
    "    plt.rcParams[\"figure.figsize\"] = (25,7)\n",
    "    # plt_x = range(len(training_set_X))\n",
    "    plt_x = training_set_X.sort_index().index\n",
    "    plt.plot(plt_x, (training_set_y.sort_index()), label='Xy plot')\n",
    "    plt.xlabel('X(102)')\n",
    "    plt.ylabel('y(101)')\n",
    "    plt.legend()\n",
    "    plt.show()"
   ]
  },
  {
   "cell_type": "markdown",
   "metadata": {},
   "source": [
    "# test code\n",
    "\n",
    "plot_training_set(training_set_X, training_set_y)"
   ]
  },
  {
   "cell_type": "markdown",
   "metadata": {},
   "source": [
    "###### Ordinary Least Squares"
   ]
  },
  {
   "cell_type": "code",
   "execution_count": 9,
   "metadata": {},
   "outputs": [],
   "source": [
    "from sklearn import linear_model\n",
    "from sklearn.preprocessing import PolynomialFeatures\n",
    "\n",
    "def get_trained_model__poly_reg(training_set_X, training_set_y):\n",
    "    poly = PolynomialFeatures(degree=10)\n",
    "    training_set_X_poly_reg = poly.fit_transform(training_set_X)\n",
    "    model_poly_reg = linear_model.LinearRegression(normalize=True)\n",
    "    model_poly_reg.fit(training_set_X_poly_reg, training_set_y)\n",
    "    \n",
    "    return model_poly_reg, poly"
   ]
  },
  {
   "cell_type": "markdown",
   "metadata": {},
   "source": [
    "# test code\n",
    "\n",
    "model, poly = get_trained_model__poly_reg(training_set_X, training_set_y)"
   ]
  },
  {
   "cell_type": "code",
   "execution_count": 10,
   "metadata": {},
   "outputs": [],
   "source": [
    "def get_prediction(trained_model, poly, test_set_X, do_sort=True):\n",
    "    if do_sort:\n",
    "        test_set_X_poly_reg = poly.fit_transform(test_set_X.sort_index())  # sorted by index\n",
    "    else:\n",
    "        test_set_X_poly_reg = poly.fit_transform(test_set_X)\n",
    "        \n",
    "    test_set_pred_poly_reg = trained_model.predict(test_set_X_poly_reg)\n",
    "    return test_set_pred_poly_reg"
   ]
  },
  {
   "cell_type": "markdown",
   "metadata": {},
   "source": [
    "# test code\n",
    "\n",
    "get_prediction(model, poly, test_set_X, do_sort=True)"
   ]
  },
  {
   "cell_type": "code",
   "execution_count": 162,
   "metadata": {},
   "outputs": [],
   "source": [
    "from sklearn.metrics import mean_squared_error\n",
    "import matplotlib.pyplot as plt\n",
    "import matplotlib as mpl\n",
    "%matplotlib inline\n",
    "\n",
    "def plot_error(actual, predicted, is_actual_sorted=True):\n",
    "    plt.style.use('ggplot')\n",
    "    plt.rcParams[\"figure.figsize\"] = (25,7)\n",
    "    plt.ylim(ymax=.01, ymin=-.01)\n",
    "    # plt_x = range(len(test_set_X))\n",
    "    plt_x = test_set_X.sort_index().index\n",
    "    if is_actual_sorted:\n",
    "        plt.plot(plt_x\n",
    "                 , (actual.sort_index() - predicted)\n",
    "                 , label='Xy plot'\n",
    "                 , linestyle='None'\n",
    "                 , marker='o')\n",
    "\n",
    "        plt.xlabel('X(102)')\n",
    "        plt.ylabel('y(101)')\n",
    "        plt.legend()\n",
    "        plt.show()\n",
    "        print_metrics(actual.sort_index(), predicted)\n",
    "    else:\n",
    "        plt.plot(plt_x\n",
    "                 , (actual - predicted)\n",
    "                 , label='Xy plot'\n",
    "                 , linestyle='None'\n",
    "                 , marker='o')\n",
    "        plt.xlabel('X(102)')\n",
    "        plt.ylabel('y(101)')\n",
    "        plt.legend()\n",
    "        plt.show()\n",
    "        print_metrics(actual, predicted)\n"
   ]
  },
  {
   "cell_type": "markdown",
   "metadata": {},
   "source": [
    "# test\n",
    "\n",
    "plot_error(test_set_y, test_set_pred_poly_reg, True)"
   ]
  },
  {
   "cell_type": "markdown",
   "metadata": {},
   "source": [
    "###### plot - test set"
   ]
  },
  {
   "cell_type": "markdown",
   "metadata": {
    "scrolled": true
   },
   "source": [
    "import matplotlib.pyplot as plt\n",
    "import matplotlib as mpl\n",
    "%matplotlib inline\n",
    "\n",
    "'''\n",
    "plt.style.use('ggplot')\n",
    "plt.rcParams[\"figure.figsize\"] = (25,7)\n",
    "# plt_x = range(len(training_set_X))\n",
    "plt_x = test_set_X.sort_index().index\n",
    "plt.plot(plt_x, (test_set_y.sort_index()), label='Xy plot')\n",
    "plt.xlabel('X(102)')\n",
    "plt.ylabel('y(101)')\n",
    "plt.legend()\n",
    "plt.show()\n"
   ]
  },
  {
   "cell_type": "markdown",
   "metadata": {},
   "source": [
    "- expected gold error: 1ppm = 800 / 1000000 = 0.0008\n",
    "- normal silver error: 1% = 800 / 100 = 8"
   ]
  },
  {
   "cell_type": "markdown",
   "metadata": {
    "scrolled": true
   },
   "source": [
    "np.min(df['U']), np.max(df['U'])"
   ]
  },
  {
   "cell_type": "markdown",
   "metadata": {},
   "source": [
    "### grid"
   ]
  },
  {
   "cell_type": "markdown",
   "metadata": {},
   "source": [
    "# test code\n",
    "\n",
    "spacing = 0.005\n",
    "\n",
    "# grid_x_start = 0.5\n",
    "# grid_x_end = 4.5 + spacing\n",
    "\n",
    "grid_x_start = 0\n",
    "grid_x_end = 5\n",
    "\n",
    "# num_slice = 1000\n",
    "# grid_x_val, spacing = np.linspace(start=grid_x_start, stop=grid_x_end, num=num_slice, endpoint=True, retstep=True)\n",
    "\n",
    "grid_x_val = np.arange(start=grid_x_start\n",
    "                   , stop=grid_x_end\n",
    "                   , step=spacing)\n",
    "\n",
    "len(grid_x_val)"
   ]
  },
  {
   "cell_type": "markdown",
   "metadata": {},
   "source": [
    "grid_x_val_poly_reg = poly.fit_transform(grid_x_val.reshape(-1, 1))\n",
    "grid_y_val_poly_reg_pred = model_poly_reg.predict(grid_x_val_poly_reg)"
   ]
  },
  {
   "cell_type": "code",
   "execution_count": 12,
   "metadata": {},
   "outputs": [],
   "source": [
    "def get_bound(grid_x_val, input_x):\n",
    "    for i in range(len(grid_x_val)-1):\n",
    "        if grid_x_val[i] <= input_x and input_x <= grid_x_val[i+1]:\n",
    "            lower = grid_x_val[i]\n",
    "            upper = grid_x_val[i+1]\n",
    "            break      \n",
    "    interval = upper - lower\n",
    "\n",
    "    # print(lower ,upper, interval)\n",
    "    \n",
    "    ip_b = (upper - input_x) / interval\n",
    "    ip_a = 1 - ip_b\n",
    "    return i, i+1, ip_a, ip_b\n",
    "\n",
    "# get_bound(grid_x_val, input_x=3.1211)"
   ]
  },
  {
   "cell_type": "code",
   "execution_count": 13,
   "metadata": {},
   "outputs": [],
   "source": [
    "def get_bound_fixed_slicing(range_start, range_end, spacing, input_x):\n",
    "    steps = int((input_x - range_start) / spacing)\n",
    "    \n",
    "    lower = steps * spacing\n",
    "    upper = lower + spacing\n",
    "    \n",
    "    interval = spacing\n",
    "    ip_b = (upper - input_x) / interval\n",
    "    ip_a = 1 - ip_b\n",
    "    \n",
    "    # print(lower, upper, interval)\n",
    "    \n",
    "    return steps, steps+1, ip_a, ip_b\n",
    "    \n",
    "\n",
    "# get_bound_fixed_slicing(grid_x_start, grid_x_end, spacing, 3.1211)"
   ]
  },
  {
   "cell_type": "code",
   "execution_count": 14,
   "metadata": {},
   "outputs": [],
   "source": [
    "def grid_inner_pred(input_x, grid_x_val, grid_y):\n",
    "    \n",
    "    lower_idx, upper_idx, ip_a, ip_b = get_bound(grid_x_val, input_x)\n",
    "    lower_y = grid_y[lower_idx]\n",
    "    upper_y = grid_y[upper_idx]\n",
    "    \n",
    "    return lower_y * ip_a + upper_y * ip_b"
   ]
  },
  {
   "cell_type": "markdown",
   "metadata": {},
   "source": [
    "# test code\n",
    "\n",
    "grid_inner_pred(3, grid_x_val, grid_y_val_poly_reg_pred)"
   ]
  },
  {
   "cell_type": "markdown",
   "metadata": {},
   "source": [
    "xy = np.concatenate((grid_x_val.reshape(-1, 1), grid_y_val_poly_reg_pred), axis=1)"
   ]
  },
  {
   "cell_type": "markdown",
   "metadata": {},
   "source": [
    "from datetime import datetime\n",
    "\n",
    "d = datetime.now()\n",
    "out_file_name = file_name + '__n' + str(len(grid_x_val)) + '__d' + d.strftime('%Y%m%d%H%M%S') + '.csv'\n",
    "np.savetxt(out_file_name, xy, delimiter=\",\")"
   ]
  },
  {
   "cell_type": "code",
   "execution_count": null,
   "metadata": {},
   "outputs": [],
   "source": []
  },
  {
   "cell_type": "markdown",
   "metadata": {},
   "source": [
    "###### Here we go"
   ]
  },
  {
   "cell_type": "code",
   "execution_count": 251,
   "metadata": {},
   "outputs": [],
   "source": [
    "import os\n",
    "import numpy as np\n",
    "import pandas as pd\n",
    "\n",
    "os.getcwd()\n",
    "os.chdir(r'C:\\My\\x2\\180908')\n",
    "os.getcwd()\n",
    "\n",
    "file_name = '180908-800~0~800A DATA(UVW상)1.xlsx'\n",
    "file_name = '180908-800~0~800A DATA(UVW상)2.xlsx'\n",
    "file_name = '180908-800~0~800A DATA(UVW상)3.xlsx'\n",
    "file_name = '180908-800~0~800A DATA(UVW상)4.xlsx'\n",
    "file_name = '180908-800~0~800A DATA(UVW상)5.xlsx'\n",
    "file_name = '180908-800~0~800A DATA(UVW상)6.xlsx'\n",
    "file_name = '180908-800~0~800A DATA(UVW상)7.xlsx'\n",
    "file_name = '180908-800~0~800A DATA(UVW상)8.xlsx'  # ?\n",
    "file_name = '180908-800~0~800A DATA(UVW상)9.xlsx'\n",
    "file_name = '180908-800~0~800A DATA(UVW상)10.xlsx'\n",
    "file_name = '180908-800~0~800A DATA(UVW상)11.xlsx'\n",
    "file_name = '180908-800~0~800A DATA(UVW상)12.xlsx'\n",
    "file_name = '180908-800~0~800A DATA(UVW상)13.xlsx'\n",
    "file_name = '180908-800~0~800A DATA(UVW상)14.xlsx'\n",
    "file_name = '180908-800~0~800A DATA(UVW상)15.xlsx'\n",
    "file_name = '180908-800~0~800A DATA(UVW상)16.xlsx'\n",
    "file_name = '180908-800~0~800A DATA(UVW상)17.xlsx' # v?\n",
    "file_name = '180908-800~0~800A DATA(UVW상)18.xlsx'\n",
    "file_name = '180908-800~0~800A DATA(UVW상)19.xlsx' # w???\n",
    "file_name = '180908-800~0~800A DATA(UVW상)20.xlsx'\n",
    "file_name = '180908-800~0~800A DATA(UVW상)21.xlsx'\n",
    "file_name = '180908-800~0~800A DATA(UVW상)22.xlsx'\n",
    "file_name = '180908-800~0~800A DATA(UVW상)23.xlsx'\n",
    "file_name = '180908-800~0~800A DATA(UVW상)24.xlsx'\n",
    "file_name = '180908-800~0~800A DATA(UVW상)25.xlsx'\n",
    "file_name = '180908-800~0~800A DATA(UVW상)26.xlsx'\n",
    "file_name = '180908-800~0~800A DATA(UVW상)27.xlsx'\n",
    "file_name = '180908-800~0~800A DATA(UVW상)28.xlsx' # v?\n",
    "file_name = '180908-800~0~800A DATA(UVW상)29.xlsx'\n",
    "\n",
    "sheet_name = 'Sheet1'\n",
    "\n",
    "cell_range_list = [('B' + str(5+i*23), 'F' + str(5+i*23+19)) for i in range(17)] + \\\n",
    "[('J' + str(5+i*23), 'N' + str(5+i*23+19)) for i in range(17)]"
   ]
  },
  {
   "cell_type": "code",
   "execution_count": 252,
   "metadata": {},
   "outputs": [],
   "source": [
    "df = load_cells_many(file_name, sheet_name, cell_range_list)\n",
    "df['Order'] = np.floor(df['G'] * 10)\n",
    "df = df.sort_values(['Order']).reset_index(drop=True)"
   ]
  },
  {
   "cell_type": "code",
   "execution_count": 253,
   "metadata": {
    "scrolled": false
   },
   "outputs": [
    {
     "data": {
      "image/png": "[encoded data removed]",
      "text/plain": [
       "<matplotlib.figure.Figure at 0x187a2662da0>"
      ]
     },
     "metadata": {},
     "output_type": "display_data"
    },
    {
     "name": "stdout",
     "output_type": "stream",
     "text": [
      "MSE:     : 1.4447595065046434e-06\n",
      "MSE ppm  : 6.019831277102681e-06\n",
      "MAE:     : 0.0009412462975145816\n",
      "MAE ppm  : 0.003921859572977423\n",
      "Max er   : 0.003388719474157753\n",
      "EVS:     : 0.0009412462975145816\n",
      "R2 score : 0.9999990061435406\n"
     ]
    },
    {
     "data": {
      "image/png": "[encoded data removed]",
      "text/plain": [
       "<matplotlib.figure.Figure at 0x187a2662198>"
      ]
     },
     "metadata": {},
     "output_type": "display_data"
    },
    {
     "name": "stdout",
     "output_type": "stream",
     "text": [
      "MSE:     : 1.60132487570293e-06\n",
      "MSE ppm  : 6.672186982095541e-06\n",
      "MAE:     : 0.0009974536201588593\n",
      "MAE ppm  : 0.004156056750661914\n",
      "Max er   : 0.004342743155310025\n",
      "EVS:     : 0.0009974536201588593\n",
      "R2 score : 0.9999988984415302\n"
     ]
    },
    {
     "data": {
      "image/png": "[encoded data removed]",
      "text/plain": [
       "<matplotlib.figure.Figure at 0x187a1cb72e8>"
      ]
     },
     "metadata": {},
     "output_type": "display_data"
    },
    {
     "name": "stdout",
     "output_type": "stream",
     "text": [
      "MSE:     : 2.1165943933921425e-06\n",
      "MSE ppm  : 8.819143305800594e-06\n",
      "MAE:     : 0.0011567520049320763\n",
      "MAE ppm  : 0.0048198000205503175\n",
      "Max er   : 0.004368184545143983\n",
      "EVS:     : 0.0011567520049320763\n",
      "R2 score : 0.9999985439853484\n"
     ]
    }
   ],
   "source": [
    "grid_pred_list = [] \n",
    "for x_label, is_y_positive in zip(['U', 'V', 'W'], [False, True, False]):\n",
    "\n",
    "    training_set_X, test_set_X, training_set_y, test_set_y = get_splitted_data(df,\n",
    "                                                                               x_label=x_label,\n",
    "                                                                               y_label='G',\n",
    "                                                                               is_y_positive=is_y_positive)\n",
    "    model, poly = get_trained_model__poly_reg(training_set_X, training_set_y)\n",
    "    pred = get_prediction(model, poly, test_set_X, do_sort=True)\n",
    "    \n",
    "    plot_error(test_set_y, pred, True)\n",
    "    \n",
    "    spacing = 0.00122\n",
    "    grid_x_start = 0\n",
    "    grid_x_end = 5\n",
    "\n",
    "    grid_x_val = np.arange(start=grid_x_start\n",
    "                       , stop=grid_x_end\n",
    "                       , step=spacing)\n",
    "\n",
    "    grid_x_val_poly_reg = poly.fit_transform(grid_x_val.reshape(-1, 1))\n",
    "    grid_y_val_poly_reg_pred = model.predict(grid_x_val_poly_reg)\n",
    "\n",
    "    grid_pred_list.append(grid_y_val_poly_reg_pred)"
   ]
  },
  {
   "cell_type": "code",
   "execution_count": 254,
   "metadata": {},
   "outputs": [],
   "source": [
    "from datetime import datetime\n",
    "\n",
    "\n",
    "d = datetime.now()\n",
    "out_file_name = file_name + '__n' + str(len(grid_x_val)) + '__d' + d.strftime('%Y%m%d%H%M%S') + '.xlsx'\n",
    "\n",
    "xyyy = np.concatenate((grid_x_val.reshape(-1, 1), *grid_pred_list), axis=1)\n",
    "xyyy_df = pd.DataFrame(xyyy)\n",
    "xyyy_df.columns = ['x', 'U', 'V', 'W']\n",
    "\n",
    "writer = pd.ExcelWriter(out_file_name)\n",
    "xyyy_df.to_excel(writer, 'Sheet1', index=False)\n",
    "writer.save()"
   ]
  },
  {
   "cell_type": "code",
   "execution_count": null,
   "metadata": {},
   "outputs": [],
   "source": []
  }
 ],
 "metadata": {
  "kernelspec": {
   "display_name": "Python 3",
   "language": "python",
   "name": "python3"
  },
  "language_info": {
   "codemirror_mode": {
    "name": "ipython",
    "version": 3
   },
   "file_extension": ".py",
   "mimetype": "text/x-python",
   "name": "python",
   "nbconvert_exporter": "python",
   "pygments_lexer": "ipython3",
   "version": "3.6.4"
  }
 },
 "nbformat": 4,
 "nbformat_minor": 2
}
