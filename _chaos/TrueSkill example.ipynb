{
 "cells": [
  {
   "cell_type": "markdown",
   "metadata": {},
   "source": [
    "# 1vs1"
   ]
  },
  {
   "cell_type": "markdown",
   "metadata": {},
   "source": [
    "모든 message와 variable belief는 $N(0, 0)$으로 초기화 하고 시작한다.  Prior factor에서 Skill variable로 내려오는 message만 플레이어들의 스킬 분포 초기값 혹은 이전 값이 할당된다."
   ]
  },
  {
   "cell_type": "code",
   "execution_count": 110,
   "metadata": {
    "collapsed": false
   },
   "outputs": [
    {
     "data": {
      "text/plain": [
       "0.2703677370942563"
      ]
     },
     "execution_count": 110,
     "metadata": {},
     "output_type": "execute_result"
    }
   ],
   "source": [
    "import trueskill as ts\n",
    "\n",
    "def print_rating(r):\n",
    "    print('N({}, {}^2)'.format(round(r.mu,3), round(r.sigma, 3)))\n",
    "    print('X({}, {})'.format(round(r.pi,3), round(r.tau, 3)))\n",
    "    \n",
    "init_mu = 25\n",
    "init_sigma = init_mu / 3\n",
    "init_beta = init_sigma / 2\n",
    "init_tau = init_sigma / 100\n",
    "\n",
    "env = ts.TrueSkill(mu=init_mu, sigma=init_sigma, beta=init_beta, tau=init_tau, draw_probability=10, backend='mpmath')\n",
    "\n",
    "p1 = env.Rating(init_mu + 10, 10)\n",
    "p2 = env.Rating(init_mu, 15)\n",
    "env.quality(rating_groups=[[p1], [p2]])"
   ]
  },
  {
   "cell_type": "code",
   "execution_count": 113,
   "metadata": {
    "collapsed": false
   },
   "outputs": [
    {
     "data": {
      "text/plain": [
       "4.166666666666667"
      ]
     },
     "execution_count": 113,
     "metadata": {},
     "output_type": "execute_result"
    }
   ],
   "source": [
    "init_beta"
   ]
  },
  {
   "cell_type": "code",
   "execution_count": 46,
   "metadata": {
    "collapsed": false
   },
   "outputs": [
    {
     "name": "stdout",
     "output_type": "stream",
     "text": [
      "N(35.0, 10.0^2)\n",
      "X(0.01, 0.35)\n"
     ]
    }
   ],
   "source": [
    "print_rating(p1)"
   ]
  },
  {
   "cell_type": "code",
   "execution_count": 47,
   "metadata": {
    "collapsed": false
   },
   "outputs": [
    {
     "name": "stdout",
     "output_type": "stream",
     "text": [
      "N(25.0, 15.0^2)\n",
      "X(0.004, 0.111)\n"
     ]
    }
   ],
   "source": [
    "print_rating(p2)"
   ]
  },
  {
   "cell_type": "code",
   "execution_count": 59,
   "metadata": {
    "collapsed": true
   },
   "outputs": [],
   "source": [
    "import math\n",
    "class Gaussian(object):\n",
    "    \"\"\"A model for the normal distribution.\"\"\"\n",
    "\n",
    "    #: Precision, the inverse of the variance.\n",
    "    pi = 0\n",
    "    #: Precision adjusted mean, the precision multiplied by the mean.\n",
    "    tau = 0\n",
    "\n",
    "    def __init__(self, mu=None, sigma=None, pi=0, tau=0):\n",
    "        if mu is not None:\n",
    "            if sigma is None:\n",
    "                raise TypeError('sigma argument is needed')\n",
    "            elif sigma == 0:\n",
    "                raise ValueError('sigma**2 should be greater than 0')\n",
    "            pi = sigma ** -2\n",
    "            tau = pi * mu\n",
    "        self.pi = pi\n",
    "        self.tau = tau\n",
    "\n",
    "    @property\n",
    "    def mu(self):\n",
    "        \"\"\"A property which returns the mean.\"\"\"\n",
    "        return self.pi and self.tau / self.pi\n",
    "\n",
    "    @property\n",
    "    def sigma(self):\n",
    "        \"\"\"A property which returns the the square root of the variance.\"\"\"\n",
    "        return math.sqrt(1 / self.pi) if self.pi else inf\n",
    "\n",
    "    def __repr__(self):\n",
    "        return 'N(mu=%.3f, sigma=%.3f)' % (self.mu, self.sigma)\n",
    "\n",
    "    def _repr_latex_(self):\n",
    "        latex = r'\\mathcal{ N }( %.3f, %.3f^2 )' % (self.mu, self.sigma)\n",
    "        return '$%s$' % latex"
   ]
  },
  {
   "cell_type": "markdown",
   "metadata": {},
   "source": [
    "### Factor - Prior - f1"
   ]
  },
  {
   "cell_type": "markdown",
   "metadata": {},
   "source": [
    "$N(s; \\mu, \\sigma^2)$"
   ]
  },
  {
   "cell_type": "code",
   "execution_count": 79,
   "metadata": {
    "collapsed": false
   },
   "outputs": [
    {
     "data": {
      "text/latex": [
       "$\\mathcal{ N }( 35.000, 10.000^2 )$"
      ],
      "text/plain": [
       "N(mu=35.000, sigma=10.000)"
      ]
     },
     "execution_count": 79,
     "metadata": {},
     "output_type": "execute_result"
    }
   ],
   "source": [
    "f11 = Gaussian(init_mu + 10, 10); f11"
   ]
  },
  {
   "cell_type": "code",
   "execution_count": 80,
   "metadata": {
    "collapsed": false
   },
   "outputs": [
    {
     "data": {
      "text/latex": [
       "$\\mathcal{ N }( 25.000, 15.000^2 )$"
      ],
      "text/plain": [
       "N(mu=25.000, sigma=15.000)"
      ]
     },
     "execution_count": 80,
     "metadata": {},
     "output_type": "execute_result"
    }
   ],
   "source": [
    "f12 = Gaussian(init_mu, 15); f12"
   ]
  },
  {
   "cell_type": "markdown",
   "metadata": {},
   "source": [
    "### Message - from Prior to Skill - m1, m2"
   ]
  },
  {
   "cell_type": "code",
   "execution_count": 81,
   "metadata": {
    "collapsed": false
   },
   "outputs": [
    {
     "data": {
      "text/latex": [
       "$\\mathcal{ N }( 35.000, 10.000^2 )$"
      ],
      "text/plain": [
       "N(mu=35.000, sigma=10.000)"
      ]
     },
     "execution_count": 81,
     "metadata": {},
     "output_type": "execute_result"
    }
   ],
   "source": [
    "m1 = f11; m1"
   ]
  },
  {
   "cell_type": "code",
   "execution_count": 82,
   "metadata": {
    "collapsed": false
   },
   "outputs": [
    {
     "data": {
      "text/latex": [
       "$\\mathcal{ N }( 25.000, 15.000^2 )$"
      ],
      "text/plain": [
       "N(mu=25.000, sigma=15.000)"
      ]
     },
     "execution_count": 82,
     "metadata": {},
     "output_type": "execute_result"
    }
   ],
   "source": [
    "m2 = f12; m2"
   ]
  },
  {
   "cell_type": "markdown",
   "metadata": {},
   "source": [
    "### Variable - Skill - s1, s2"
   ]
  },
  {
   "cell_type": "markdown",
   "metadata": {},
   "source": [
    "사실 $p(s_1) = m_{1} \\cdot m_{3}$인데 $m_3$의 초기값이 $N(0, \\inf) = X(0, 0)$이므로, $p(p_1) = m_{5}$ 이다."
   ]
  },
  {
   "cell_type": "code",
   "execution_count": 64,
   "metadata": {
    "collapsed": false
   },
   "outputs": [
    {
     "data": {
      "text/latex": [
       "$\\mathcal{ N }( 35.000, 10.000^2 )$"
      ],
      "text/plain": [
       "N(mu=35.000, sigma=10.000)"
      ]
     },
     "execution_count": 64,
     "metadata": {},
     "output_type": "execute_result"
    }
   ],
   "source": [
    "s1 = m1; s1"
   ]
  },
  {
   "cell_type": "code",
   "execution_count": 65,
   "metadata": {
    "collapsed": false
   },
   "outputs": [
    {
     "data": {
      "text/latex": [
       "$\\mathcal{ N }( 25.000, 15.000^2 )$"
      ],
      "text/plain": [
       "N(mu=25.000, sigma=15.000)"
      ]
     },
     "execution_count": 65,
     "metadata": {},
     "output_type": "execute_result"
    }
   ],
   "source": [
    "s2 = m2; s2"
   ]
  },
  {
   "cell_type": "markdown",
   "metadata": {},
   "source": [
    "### Message - from Skill to Likelihood - m3, m4"
   ]
  },
  {
   "cell_type": "code",
   "execution_count": 66,
   "metadata": {
    "collapsed": false
   },
   "outputs": [
    {
     "data": {
      "text/latex": [
       "$\\mathcal{ N }( 35.000, 10.000^2 )$"
      ],
      "text/plain": [
       "N(mu=35.000, sigma=10.000)"
      ]
     },
     "execution_count": 66,
     "metadata": {},
     "output_type": "execute_result"
    }
   ],
   "source": [
    "m3 = m1; m3"
   ]
  },
  {
   "cell_type": "code",
   "execution_count": 67,
   "metadata": {
    "collapsed": false
   },
   "outputs": [
    {
     "data": {
      "text/latex": [
       "$\\mathcal{ N }( 25.000, 15.000^2 )$"
      ],
      "text/plain": [
       "N(mu=25.000, sigma=15.000)"
      ]
     },
     "execution_count": 67,
     "metadata": {},
     "output_type": "execute_result"
    }
   ],
   "source": [
    "m4 = m2; m4"
   ]
  },
  {
   "cell_type": "markdown",
   "metadata": {},
   "source": [
    "### Factor - Likelihood - f2"
   ]
  },
  {
   "cell_type": "markdown",
   "metadata": {},
   "source": [
    "$N(p;s, \\beta^2)$"
   ]
  },
  {
   "cell_type": "markdown",
   "metadata": {},
   "source": [
    "### Message - from Likelihood to Performance m5, m6"
   ]
  },
  {
   "cell_type": "markdown",
   "metadata": {},
   "source": [
    "Table1의 두번째 규칙에 따라 $m_5$과 $m_6$를 결정한다. 해당 공식의 $y$가 $s$에 해당하고 $x$가 $p$에 해당한다.\n",
    "- $\\pi_{f \\rightarrow p}^{new} \\leftarrow a \\cdot (\\pi_s - \\pi_{f \\rightarrow s})$\n",
    "- $\\tau_{f \\rightarrow p}^{new} \\leftarrow a \\cdot (\\tau_s - \\tau_{f \\rightarrow s})$\n",
    "- $a := (1 + c^2(\\pi_s - \\pi_{f \\rightarrow s}))^{-1}$\n",
    "\n",
    "\n",
    "$c$값은 공통 분산 $\\beta$이고, $m_{f \\rightarrow s}$는 $N(0, \\inf)$로 초기화되었음\n",
    "- $c = \\beta$\n",
    "- $\\pi_{f \\rightarrow s} = 0$\n",
    "- $\\tau_{f \\rightarrow s} = 0$\n"
   ]
  },
  {
   "cell_type": "code",
   "execution_count": 70,
   "metadata": {
    "collapsed": false
   },
   "outputs": [],
   "source": [
    "def get_a(pi_y, pi_fy, c):\n",
    "    return 1.0 / (1.0 + c**2 * (pi_y - pi_fy) )"
   ]
  },
  {
   "cell_type": "code",
   "execution_count": 71,
   "metadata": {
    "collapsed": false
   },
   "outputs": [
    {
     "data": {
      "text/plain": [
       "0.8520710059171597"
      ]
     },
     "execution_count": 71,
     "metadata": {},
     "output_type": "execute_result"
    }
   ],
   "source": [
    "a1 = get_a(s1.pi, 0, init_beta); a1"
   ]
  },
  {
   "cell_type": "code",
   "execution_count": 72,
   "metadata": {
    "collapsed": false
   },
   "outputs": [
    {
     "data": {
      "text/plain": [
       "0.9283667621776504"
      ]
     },
     "execution_count": 72,
     "metadata": {},
     "output_type": "execute_result"
    }
   ],
   "source": [
    "a2 = get_a(s2.pi, 0, init_beta); a2"
   ]
  },
  {
   "cell_type": "code",
   "execution_count": 73,
   "metadata": {
    "collapsed": false
   },
   "outputs": [
    {
     "data": {
      "text/latex": [
       "$\\mathcal{ N }( 35.000, 10.833^2 )$"
      ],
      "text/plain": [
       "N(mu=35.000, sigma=10.833)"
      ]
     },
     "execution_count": 73,
     "metadata": {},
     "output_type": "execute_result"
    }
   ],
   "source": [
    "m5 = Gaussian(pi=a1*(s1.pi-0), tau=a1*(s1.tau-0)); m5"
   ]
  },
  {
   "cell_type": "code",
   "execution_count": 75,
   "metadata": {
    "collapsed": false
   },
   "outputs": [
    {
     "data": {
      "text/latex": [
       "$\\mathcal{ N }( 25.000, 15.568^2 )$"
      ],
      "text/plain": [
       "N(mu=25.000, sigma=15.568)"
      ]
     },
     "execution_count": 75,
     "metadata": {},
     "output_type": "execute_result"
    }
   ],
   "source": [
    "m6 = Gaussian(pi=a2*(s2.pi-0), tau=a2*(s2.tau-0)); m6"
   ]
  },
  {
   "cell_type": "markdown",
   "metadata": {},
   "source": [
    "### Variable - Performance - p1, p2"
   ]
  },
  {
   "cell_type": "markdown",
   "metadata": {},
   "source": [
    "사실 $p(p_1) = m_{5} \\cdot m_{7}$인데 $m_7$의 초기값이 $N(0, \\inf) = X(0, 0)$이므로, $p(p_1) = m_{5}$ 이다."
   ]
  },
  {
   "cell_type": "code",
   "execution_count": 76,
   "metadata": {
    "collapsed": false
   },
   "outputs": [
    {
     "data": {
      "text/latex": [
       "$\\mathcal{ N }( 35.000, 10.833^2 )$"
      ],
      "text/plain": [
       "N(mu=35.000, sigma=10.833)"
      ]
     },
     "execution_count": 76,
     "metadata": {},
     "output_type": "execute_result"
    }
   ],
   "source": [
    "p1 = m5; p1"
   ]
  },
  {
   "cell_type": "code",
   "execution_count": 77,
   "metadata": {
    "collapsed": false
   },
   "outputs": [
    {
     "data": {
      "text/latex": [
       "$\\mathcal{ N }( 25.000, 15.568^2 )$"
      ],
      "text/plain": [
       "N(mu=25.000, sigma=15.568)"
      ]
     },
     "execution_count": 77,
     "metadata": {},
     "output_type": "execute_result"
    }
   ],
   "source": [
    "p2 = m6; p2"
   ]
  },
  {
   "cell_type": "markdown",
   "metadata": {},
   "source": [
    "### Message - from Performance to SumFactor - m7, m8"
   ]
  },
  {
   "cell_type": "code",
   "execution_count": 83,
   "metadata": {
    "collapsed": false
   },
   "outputs": [
    {
     "data": {
      "text/latex": [
       "$\\mathcal{ N }( 35.000, 10.833^2 )$"
      ],
      "text/plain": [
       "N(mu=35.000, sigma=10.833)"
      ]
     },
     "execution_count": 83,
     "metadata": {},
     "output_type": "execute_result"
    }
   ],
   "source": [
    "m7 = p1; m7"
   ]
  },
  {
   "cell_type": "code",
   "execution_count": 84,
   "metadata": {
    "collapsed": false
   },
   "outputs": [
    {
     "data": {
      "text/latex": [
       "$\\mathcal{ N }( 25.000, 15.568^2 )$"
      ],
      "text/plain": [
       "N(mu=25.000, sigma=15.568)"
      ]
     },
     "execution_count": 84,
     "metadata": {},
     "output_type": "execute_result"
    }
   ],
   "source": [
    "m8 = p2; m8"
   ]
  },
  {
   "cell_type": "markdown",
   "metadata": {},
   "source": [
    "### Factor - Sum - f3"
   ]
  },
  {
   "cell_type": "markdown",
   "metadata": {},
   "source": [
    "Table1의 3번째 규칙에 따라 계산된다. $y_1, \\cdots, y_n$은 특정 팀에 속하는 플레이어들의 퍼포먼스 $p_1, \\cdots, p_n$이며 $x$는 Team performance $t$에 해당한다. 또한 $a_j$는 partial play를 표현하는 각 플레이어의 가중치이다. 1vs1이므로 1인팀이고 팀원의 가중치 $a_1=1$로 둔다. 결국 팀원이 1명이면 SumFactor를 거치면서 변하는 것은 없다.\n",
    "\n",
    "$\\pi_{f \\rightarrow t}^{new} \\leftarrow \\left( \\frac{1}{\\pi_{p_1} - \\pi_{f \\rightarrow p_1}} \\right)^{-1} = \\pi_{p_1} - \\pi_{f \\rightarrow p_1} = \\pi_{p_1} ~ (\\because ~ \\pi_{f \\rightarrow p_1} = 0)$\n",
    "\n",
    "$\\tau_{f \\rightarrow t} \\leftarrow \\pi_{f \\rightarrow t}^{new} \\cdot \\left( \\frac{\\tau_{p_1} - \\tau_{f \\rightarrow p_1}}{\\pi_{p_1} - \\pi_{f \\rightarrow p_1}} \\right) = \\pi_{f \\rightarrow t}^{new} \\cdot \\frac{\\tau_{p_1}}{\\pi_{p_1}} = \\tau_{p_1}$"
   ]
  },
  {
   "cell_type": "markdown",
   "metadata": {},
   "source": [
    "### Message - from Sum factor to Team performance variable $t$ - m9, m10"
   ]
  },
  {
   "cell_type": "code",
   "execution_count": 91,
   "metadata": {
    "collapsed": false
   },
   "outputs": [
    {
     "data": {
      "text/latex": [
       "$\\mathcal{ N }( 35.000, 10.833^2 )$"
      ],
      "text/plain": [
       "N(mu=35.000, sigma=10.833)"
      ]
     },
     "execution_count": 91,
     "metadata": {},
     "output_type": "execute_result"
    }
   ],
   "source": [
    "m9 = m7; m9"
   ]
  },
  {
   "cell_type": "code",
   "execution_count": 92,
   "metadata": {
    "collapsed": false
   },
   "outputs": [
    {
     "data": {
      "text/latex": [
       "$\\mathcal{ N }( 25.000, 15.568^2 )$"
      ],
      "text/plain": [
       "N(mu=25.000, sigma=15.568)"
      ]
     },
     "execution_count": 92,
     "metadata": {},
     "output_type": "execute_result"
    }
   ],
   "source": [
    "m10 = m8; m10"
   ]
  },
  {
   "cell_type": "markdown",
   "metadata": {},
   "source": [
    "### Factor - Diff factor - f4"
   ]
  },
  {
   "cell_type": "markdown",
   "metadata": {},
   "source": [
    "Sum factor와 마찬가지로 Table1의 3번째 규칙에 따라 계산된다. 다만 합이 아니라 첫번째 팀과 두번째 팀 퍼포먼스의 차를 구해야 하므로 가중치로 [1, -1]을 사용한다. (각 팀은 경기 순위로 정렬되어 있다고 가정한다.)"
   ]
  },
  {
   "cell_type": "markdown",
   "metadata": {},
   "source": [
    "$\\pi_{f \\rightarrow d}^{new} \\leftarrow \\left( \\frac{1}{\\pi_{t_1} - \\pi_{f \\rightarrow t_2}} - \\frac{1}{\\pi_{t_2} - \\pi_{f \\rightarrow t_2}} \\right)^{-1} = \\left( \\frac{1}{\\pi_{t_1}} - \\frac{1}{\\pi_{t_2}} \\right)^{-1}$\n",
    "\n",
    "$\\tau_{f \\rightarrow d}^{new} \\leftarrow \\pi_{f \\rightarrow d}^{new} \\cdot \\left( \\frac{\\tau_{t_1} - \\tau_{f \\rightarrow t_1}}{\\pi_{t_1} - \\pi_{f \\rightarrow t_1}} - \\frac{\\tau_{t_2} - \\tau_{f \\rightarrow t_2}}{\\pi_{t_2} - \\pi_{f \\rightarrow t_2}} \\right) = \\pi_{f \\rightarrow d}^{new} \\cdot \\left( \\frac{\\tau_{t_1}}{\\pi_{t_1}} - \\frac{\\tau_{t_2}}{\\pi_{t_2}} \\right)$"
   ]
  },
  {
   "cell_type": "markdown",
   "metadata": {},
   "source": [
    "### Message - from Diff factor to Diff variable - m11"
   ]
  },
  {
   "cell_type": "code",
   "execution_count": 104,
   "metadata": {
    "collapsed": false
   },
   "outputs": [
    {
     "data": {
      "text/latex": [
       "$\\mathcal{ N }( 10.000, 18.966^2 )$"
      ],
      "text/plain": [
       "N(mu=10.000, sigma=18.966)"
      ]
     },
     "execution_count": 104,
     "metadata": {},
     "output_type": "execute_result"
    }
   ],
   "source": [
    "pi_new_f_d = 1.0 / (1.0 / m9.pi + 1.0 / m10.pi)\n",
    "tau_new_f = pi_new_f_d * (m9.tau / m9.pi - m10.tau / m10.pi)\n",
    "pi_new_f_d\n",
    "m11 = Gaussian(pi=pi_new_f_d, tau=tau_new_f); m11"
   ]
  },
  {
   "cell_type": "code",
   "execution_count": 105,
   "metadata": {
    "collapsed": false
   },
   "outputs": [
    {
     "name": "stdout",
     "output_type": "stream",
     "text": [
      "0.0027799227799227793 0.027799227799227794\n"
     ]
    }
   ],
   "source": [
    "print(m11.pi, m11.tau)"
   ]
  },
  {
   "cell_type": "markdown",
   "metadata": {},
   "source": [
    "### Variable - Team performance difference - d"
   ]
  },
  {
   "cell_type": "code",
   "execution_count": 111,
   "metadata": {
    "collapsed": false
   },
   "outputs": [
    {
     "data": {
      "text/latex": [
       "$\\mathcal{ N }( 10.000, 18.966^2 )$"
      ],
      "text/plain": [
       "N(mu=10.000, sigma=18.966)"
      ]
     },
     "execution_count": 111,
     "metadata": {},
     "output_type": "execute_result"
    }
   ],
   "source": [
    "m12 = m11; m12"
   ]
  },
  {
   "cell_type": "code",
   "execution_count": 108,
   "metadata": {
    "collapsed": false
   },
   "outputs": [
    {
     "data": {
      "text/plain": [
       "mpf('0.70098991082468998')"
      ]
     },
     "execution_count": 108,
     "metadata": {},
     "output_type": "execute_result"
    }
   ],
   "source": [
    "import mpmath\n",
    "1 - mpmath.ncdf((0 - m12.mu) / m12.sigma)"
   ]
  },
  {
   "cell_type": "code",
   "execution_count": 109,
   "metadata": {
    "collapsed": false
   },
   "outputs": [
    {
     "data": {
      "text/plain": [
       "mpf('0.34717209457258763')"
      ]
     },
     "execution_count": 109,
     "metadata": {},
     "output_type": "execute_result"
    }
   ],
   "source": [
    "mpmath.npdf((0 - m12.mu) / m12.sigma)"
   ]
  },
  {
   "cell_type": "code",
   "execution_count": null,
   "metadata": {
    "collapsed": true
   },
   "outputs": [],
   "source": [
    "0.2703677370942563"
   ]
  },
  {
   "cell_type": "markdown",
   "metadata": {},
   "source": [
    "### Win probability for team A wins team B"
   ]
  },
  {
   "cell_type": "markdown",
   "metadata": {},
   "source": [
    "- https://github.com/sublee/trueskill/issues/1\n",
    "- Team $a$가 $p$명으로 구성되어 있고 팀원의 스킬이 $N(s_{a1};\\mu_{a1}, \\sigma_{a1}),~N(s_{a2};\\mu_{a2}, \\sigma_{a2}), \\cdots, N(s_{ap};\\mu_{ap}, \\sigma_{ap})$이고         \n",
    "Team $b$가 $q$명으로 구성되어 있고 팀원의 스킬이 $N(s_{b1};\\mu_{b1}, \\sigma_{b1}),~N(s_{b2};\\mu_{b2}, \\sigma_{b2}), \\cdots, N(s_{bq};\\mu_{bq}, \\sigma_{bq})$일 때        \n",
    "Team $a$가 Team $b$를 이길 확률은 아래와 같다.\n",
    "$$P(p_a > p_b |~ \\mathbf{s}_a, \\mathbf{s}_b) = \\Phi \\left(\\frac{\\sum_i^p \\mu_{ai} - \\sum_j^q \\mu_{bj} - \\epsilon}{\\sqrt{\\beta^2(p+q) + \\sum_i^p \\sigma_{ai}^2 + \\sum_j^q \\sigma_{bj}^2}} \\right)$$"
   ]
  },
  {
   "cell_type": "code",
   "execution_count": 114,
   "metadata": {
    "collapsed": false
   },
   "outputs": [
    {
     "data": {
      "text/plain": [
       "mpf('0.70098991082468998')"
      ]
     },
     "execution_count": 114,
     "metadata": {},
     "output_type": "execute_result"
    }
   ],
   "source": [
    "win_probability([p1], [p2], init_beta)"
   ]
  },
  {
   "cell_type": "code",
   "execution_count": 107,
   "metadata": {
    "collapsed": true
   },
   "outputs": [],
   "source": [
    "import trueskill as ts\n",
    "import math\n",
    "import mpmath\n",
    "\n",
    "def win_probability(team_a_ratings, team_b_ratings, beta=8.33, epsilon=0):\n",
    "    \"\"\"\n",
    "    \n",
    "    :param a: Rating list for team a \n",
    "    :param b: Rating list for team b\n",
    "    :param beta: skill chain length\n",
    "    :param epsilon: draw probability\n",
    "    :return: win probability for team a\n",
    "    \"\"\"\n",
    "    delta_mu = sum([x.mu for x in team_a_ratings]) - sum([x.mu for x in team_b_ratings]) - epsilon\n",
    "    sum_sigma = sum([x.sigma ** 2 for x in team_a_ratings]) + sum([x.sigma ** 2 for x in team_b_ratings])\n",
    "    num_team_members = len(team_a_ratings) + len(team_a_ratings)\n",
    "    denom = math.sqrt(beta * beta * num_team_members + sum_sigma)\n",
    "    return mpmath.ncdf(delta_mu / denom)"
   ]
  },
  {
   "cell_type": "markdown",
   "metadata": {},
   "source": []
  },
  {
   "cell_type": "markdown",
   "metadata": {},
   "source": []
  },
  {
   "cell_type": "markdown",
   "metadata": {},
   "source": []
  }
 ],
 "metadata": {
  "anaconda-cloud": {},
  "kernelspec": {
   "display_name": "Python [Root]",
   "language": "python",
   "name": "Python [Root]"
  },
  "language_info": {
   "codemirror_mode": {
    "name": "ipython",
    "version": 3
   },
   "file_extension": ".py",
   "mimetype": "text/x-python",
   "name": "python",
   "nbconvert_exporter": "python",
   "pygments_lexer": "ipython3",
   "version": "3.5.2"
  }
 },
 "nbformat": 4,
 "nbformat_minor": 0
}
