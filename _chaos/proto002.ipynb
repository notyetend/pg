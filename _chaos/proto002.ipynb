{
 "cells": [
  {
   "cell_type": "code",
   "execution_count": 8,
   "metadata": {},
   "outputs": [
    {
     "name": "stdout",
     "output_type": "stream",
     "text": [
      "C:\\My\\x2\\180617\\_merge\n"
     ]
    }
   ],
   "source": [
    "import os\n",
    "import csv\n",
    "\n",
    "os.chdir(r'C:\\My\\x2\\180617\\_merge')\n",
    "mypath = os.getcwd()\n",
    "print(mypath)"
   ]
  },
  {
   "cell_type": "code",
   "execution_count": 9,
   "metadata": {},
   "outputs": [],
   "source": [
    "infile_name = '20180617.csv'\n",
    "infile_name = '180617_19-50-00.327.csv'"
   ]
  },
  {
   "cell_type": "code",
   "execution_count": 10,
   "metadata": {},
   "outputs": [
    {
     "name": "stdout",
     "output_type": "stream",
     "text": [
      "['0', '2018-06-17 195000.327002', '0.060999', '2.448898', '2.550633', '2.465567', '100', '1']\n",
      "['1', '2018-06-17 195000.327004', '0.060352', '2.448898', '2.549986', '2.46589', '100', '1']\n",
      "['2', '2018-06-17 195000.327006', '0.059705', '2.448898', '2.549016', '2.46589', '100', '1']\n",
      "['3', '2018-06-17 195000.327008', '0.059058', '2.448898', '2.547723', '2.466536', '100', '1']\n",
      "['4', '2018-06-17 195000.327010', '0.058411', '2.449222', '2.548369', '2.467829', '100', '1']\n",
      "['5', '2018-06-17 195000.327012', '0.057441', '2.449222', '2.548046', '2.468152', '100', '1']\n",
      "['6', '2018-06-17 195000.327014', '0.057441', '2.449545', '2.547723', '2.468798', '100', '1']\n",
      "['7', '2018-06-17 195000.327016', '0.056793', '2.449545', '2.547723', '2.469122', '100', '1']\n",
      "['8', '2018-06-17 195000.327018', '0.056146', '2.450839', '2.547399', '2.469445', '100', '1']\n",
      "['9', '2018-06-17 195000.327020', '0.055823', '2.45181', '2.547399', '2.469768', '100', '1']\n",
      "['10', '2018-06-17 195000.327022', '0.054852', '2.452781', '2.547723', '2.469768', '100', '1']\n",
      "['11', '2018-06-17 195000.327024', '0.054529', '2.453428', '2.548046', '2.469768', '100', '1']\n"
     ]
    }
   ],
   "source": [
    "with open(infile_name, encoding='utf8') as csvf:\n",
    "    rd = csv.reader(csvf, delimiter=',')\n",
    "    for idx, line in enumerate(rd):\n",
    "        print(line)\n",
    "        \n",
    "        if idx > 10:\n",
    "            break\n"
   ]
  },
  {
   "cell_type": "code",
   "execution_count": 22,
   "metadata": {},
   "outputs": [],
   "source": [
    "import pandas as pd\n",
    "import numpy as np\n",
    "\n",
    "names = ['idx', 'reg_date', 'gold', 'silver_u', 'silver_v', 'silver_w', 'hz', 'ch']\n",
    "df = pd.read_csv(infile_name, sep=',', names=names)"
   ]
  },
  {
   "cell_type": "code",
   "execution_count": 17,
   "metadata": {},
   "outputs": [],
   "source": [
    "from sklearn.linear_model import LinearRegression\n",
    "from sklearn.preprocessing import PolynomialFeatures\n",
    "\n",
    "max_row = 7000\n",
    "\n",
    "X = df[['silver_u', 'silver_w', 'silver_v']] .values.reshape(-1,3)[0:max_row, :]\n",
    "y = df['gold'][0:max_row] / 5 # * 1000\n",
    "\n",
    "poly = PolynomialFeatures(degree=10)\n",
    "X_poly_reg = poly.fit_transform(X)\n",
    "\n",
    "model_poly_reg = LinearRegression()\n",
    "model_poly_reg.fit(X_poly_reg, y)\n",
    "pred_poly_reg = model_poly_reg.predict(X_poly_reg)"
   ]
  },
  {
   "cell_type": "code",
   "execution_count": 18,
   "metadata": {
    "scrolled": false
   },
   "outputs": [
    {
     "data": {
      "image/png": "[encoded data removed]",
      "text/plain": [
       "<matplotlib.figure.Figure at 0x2b96bfe22b0>"
      ]
     },
     "metadata": {},
     "output_type": "display_data"
    }
   ],
   "source": [
    "import matplotlib.pyplot as plt\n",
    "import matplotlib as mpl\n",
    "%matplotlib inline\n",
    "\n",
    "\n",
    "plt.style.use('ggplot')\n",
    "plt.rcParams[\"figure.figsize\"] = (25,7)\n",
    "plt.ylim(ymax=1, ymin=-1)\n",
    "plt_x = range(len(X[:, 0]))\n",
    "plt.plot(df['idx'][0:max_row].values, (y - pred_poly_reg), label='Xy plot')\n",
    "plt.xlabel('X(102)')\n",
    "plt.ylabel('y(101)')\n",
    "plt.legend()\n",
    "plt.show()"
   ]
  },
  {
   "cell_type": "code",
   "execution_count": 19,
   "metadata": {},
   "outputs": [
    {
     "data": {
      "text/plain": [
       "array([0.01198573, 0.01188035, 0.01173324, 0.01153726, 0.01155324,\n",
       "       0.01149768, 0.01138563, 0.0113451 , 0.01118822, 0.0110826 ])"
      ]
     },
     "execution_count": 19,
     "metadata": {},
     "output_type": "execute_result"
    }
   ],
   "source": [
    "pred_poly_reg[0:10]"
   ]
  },
  {
   "cell_type": "code",
   "execution_count": 21,
   "metadata": {},
   "outputs": [
    {
     "ename": "NameError",
     "evalue": "name 'np' is not defined",
     "output_type": "error",
     "traceback": [
      "\u001b[1;31m---------------------------------------------------------------------------\u001b[0m",
      "\u001b[1;31mNameError\u001b[0m                                 Traceback (most recent call last)",
      "\u001b[1;32m<ipython-input-21-f35d5e982731>\u001b[0m in \u001b[0;36m<module>\u001b[1;34m()\u001b[0m\n\u001b[1;32m----> 1\u001b[1;33m \u001b[0mnp\u001b[0m\u001b[1;33m.\u001b[0m\u001b[0mmax\u001b[0m\u001b[1;33m(\u001b[0m\u001b[0my\u001b[0m\u001b[1;33m)\u001b[0m\u001b[1;33m\u001b[0m\u001b[0m\n\u001b[0m",
      "\u001b[1;31mNameError\u001b[0m: name 'np' is not defined"
     ]
    }
   ],
   "source": [
    "np.max(y)"
   ]
  },
  {
   "cell_type": "code",
   "execution_count": null,
   "metadata": {},
   "outputs": [],
   "source": []
  },
  {
   "cell_type": "code",
   "execution_count": null,
   "metadata": {},
   "outputs": [],
   "source": []
  },
  {
   "cell_type": "code",
   "execution_count": 1,
   "metadata": {},
   "outputs": [
    {
     "name": "stderr",
     "output_type": "stream",
     "text": [
      "C:\\ProgramData\\Anaconda3\\lib\\site-packages\\h5py\\__init__.py:36: FutureWarning: Conversion of the second argument of issubdtype from `float` to `np.floating` is deprecated. In future, it will be treated as `np.float64 == np.dtype(float).type`.\n",
      "  from ._conv import register_converters as _register_converters\n"
     ]
    }
   ],
   "source": [
    "import imports85"
   ]
  },
  {
   "cell_type": "code",
   "execution_count": 2,
   "metadata": {
    "code_folding": [
     108
    ]
   },
   "outputs": [
    {
     "ename": "AssertionError",
     "evalue": "",
     "output_type": "error",
     "traceback": [
      "\u001b[1;31m---------------------------------------------------------------------------\u001b[0m",
      "\u001b[1;31mAssertionError\u001b[0m                            Traceback (most recent call last)",
      "\u001b[1;32m<ipython-input-2-b73a6606da56>\u001b[0m in \u001b[0;36m<module>\u001b[1;34m()\u001b[0m\n\u001b[0;32m    163\u001b[0m     \u001b[1;31m# The Estimator periodically generates \"INFO\" logs; make these logs visible.\u001b[0m\u001b[1;33m\u001b[0m\u001b[1;33m\u001b[0m\u001b[0m\n\u001b[0;32m    164\u001b[0m     \u001b[0mtf\u001b[0m\u001b[1;33m.\u001b[0m\u001b[0mlogging\u001b[0m\u001b[1;33m.\u001b[0m\u001b[0mset_verbosity\u001b[0m\u001b[1;33m(\u001b[0m\u001b[0mtf\u001b[0m\u001b[1;33m.\u001b[0m\u001b[0mlogging\u001b[0m\u001b[1;33m.\u001b[0m\u001b[0mINFO\u001b[0m\u001b[1;33m)\u001b[0m\u001b[1;33m\u001b[0m\u001b[0m\n\u001b[1;32m--> 165\u001b[1;33m     \u001b[0mtf\u001b[0m\u001b[1;33m.\u001b[0m\u001b[0mapp\u001b[0m\u001b[1;33m.\u001b[0m\u001b[0mrun\u001b[0m\u001b[1;33m(\u001b[0m\u001b[0mmain\u001b[0m\u001b[1;33m=\u001b[0m\u001b[0mmain\u001b[0m\u001b[1;33m)\u001b[0m\u001b[1;33m\u001b[0m\u001b[0m\n\u001b[0m",
      "\u001b[1;32mC:\\ProgramData\\Anaconda3\\lib\\site-packages\\tensorflow\\python\\platform\\app.py\u001b[0m in \u001b[0;36mrun\u001b[1;34m(main, argv)\u001b[0m\n\u001b[0;32m    124\u001b[0m   \u001b[1;31m# Call the main function, passing through any arguments\u001b[0m\u001b[1;33m\u001b[0m\u001b[1;33m\u001b[0m\u001b[0m\n\u001b[0;32m    125\u001b[0m   \u001b[1;31m# to the final program.\u001b[0m\u001b[1;33m\u001b[0m\u001b[1;33m\u001b[0m\u001b[0m\n\u001b[1;32m--> 126\u001b[1;33m   \u001b[0m_sys\u001b[0m\u001b[1;33m.\u001b[0m\u001b[0mexit\u001b[0m\u001b[1;33m(\u001b[0m\u001b[0mmain\u001b[0m\u001b[1;33m(\u001b[0m\u001b[0margv\u001b[0m\u001b[1;33m)\u001b[0m\u001b[1;33m)\u001b[0m\u001b[1;33m\u001b[0m\u001b[0m\n\u001b[0m\u001b[0;32m    127\u001b[0m \u001b[1;33m\u001b[0m\u001b[0m\n\u001b[0;32m    128\u001b[0m \u001b[1;33m\u001b[0m\u001b[0m\n",
      "\u001b[1;32m<ipython-input-2-b73a6606da56>\u001b[0m in \u001b[0;36mmain\u001b[1;34m(argv)\u001b[0m\n\u001b[0;32m     86\u001b[0m \u001b[1;32mdef\u001b[0m \u001b[0mmain\u001b[0m\u001b[1;33m(\u001b[0m\u001b[0margv\u001b[0m\u001b[1;33m)\u001b[0m\u001b[1;33m:\u001b[0m\u001b[1;33m\u001b[0m\u001b[0m\n\u001b[0;32m     87\u001b[0m     \u001b[1;34m\"\"\"Builds, trains, and evaluates the model.\"\"\"\u001b[0m\u001b[1;33m\u001b[0m\u001b[0m\n\u001b[1;32m---> 88\u001b[1;33m     \u001b[1;32massert\u001b[0m \u001b[0mlen\u001b[0m\u001b[1;33m(\u001b[0m\u001b[0margv\u001b[0m\u001b[1;33m)\u001b[0m \u001b[1;33m==\u001b[0m \u001b[1;36m1\u001b[0m\u001b[1;33m\u001b[0m\u001b[0m\n\u001b[0m\u001b[0;32m     89\u001b[0m     \u001b[1;33m(\u001b[0m\u001b[0mtrain\u001b[0m\u001b[1;33m,\u001b[0m \u001b[0mtest\u001b[0m\u001b[1;33m)\u001b[0m \u001b[1;33m=\u001b[0m \u001b[0mimports85\u001b[0m\u001b[1;33m.\u001b[0m\u001b[0mdataset\u001b[0m\u001b[1;33m(\u001b[0m\u001b[1;33m)\u001b[0m\u001b[1;33m\u001b[0m\u001b[0m\n\u001b[0;32m     90\u001b[0m \u001b[1;33m\u001b[0m\u001b[0m\n",
      "\u001b[1;31mAssertionError\u001b[0m: "
     ]
    }
   ],
   "source": [
    "# https://github.com/tensorflow/tensorflow/blob/r1.8/tensorflow/examples/get_started/regression/custom_regression.py\n",
    "\n",
    "# Copyright 2016 The TensorFlow Authors. All Rights Reserved.\n",
    "#\n",
    "# Licensed under the Apache License, Version 2.0 (the \"License\");\n",
    "# you may not use this file except in compliance with the License.\n",
    "# You may obtain a copy of the License at\n",
    "#\n",
    "#     http://www.apache.org/licenses/LICENSE-2.0\n",
    "#\n",
    "# Unless required by applicable law or agreed to in writing, software\n",
    "# distributed under the License is distributed on an \"AS IS\" BASIS,\n",
    "# WITHOUT WARRANTIES OR CONDITIONS OF ANY KIND, either express or implied.\n",
    "# See the License for the specific language governing permissions and\n",
    "# limitations under the License.\n",
    "# ==============================================================================\n",
    "\"\"\"Regression using the DNNRegressor Estimator.\"\"\"\n",
    "\n",
    "from __future__ import absolute_import\n",
    "from __future__ import division\n",
    "from __future__ import print_function\n",
    "\n",
    "import tensorflow as tf\n",
    "\n",
    "import imports85  # pylint: disable=g-bad-import-order\n",
    "\n",
    "STEPS = 1000\n",
    "PRICE_NORM_FACTOR = 1000\n",
    "\n",
    "\n",
    "def my_dnn_regression_fn(features, labels, mode, params):\n",
    "    \"\"\"A model function implementing DNN regression for a custom Estimator.\"\"\"\n",
    "\n",
    "    # Extract the input into a dense layer, according to the feature_columns.\n",
    "    top = tf.feature_column.input_layer(features, params[\"feature_columns\"])\n",
    "\n",
    "    # Iterate over the \"hidden_units\" list of layer sizes, default is [20].\n",
    "    for units in params.get(\"hidden_units\", [20]):\n",
    "        # Add a hidden layer, densely connected on top of the previous layer.\n",
    "        top = tf.layers.dense(inputs=top, units=units, activation=tf.nn.relu)\n",
    "\n",
    "    # Connect a linear output layer on top.\n",
    "    output_layer = tf.layers.dense(inputs=top, units=1)\n",
    "\n",
    "    # Reshape the output layer to a 1-dim Tensor to return predictions\n",
    "    predictions = tf.squeeze(output_layer, 1)\n",
    "\n",
    "    if mode == tf.estimator.ModeKeys.PREDICT:\n",
    "        # In `PREDICT` mode we only need to return predictions.\n",
    "        return tf.estimator.EstimatorSpec(\n",
    "            mode=mode, predictions={\"price\": predictions})\n",
    "\n",
    "    # Calculate loss using mean squared error\n",
    "    average_loss = tf.losses.mean_squared_error(labels, predictions)\n",
    "\n",
    "    # Pre-made estimators use the total_loss instead of the average,\n",
    "    # so report total_loss for compatibility.\n",
    "    batch_size = tf.shape(labels)[0]\n",
    "    total_loss = tf.to_float(batch_size) * average_loss\n",
    "\n",
    "    if mode == tf.estimator.ModeKeys.TRAIN:\n",
    "        optimizer = params.get(\"optimizer\", tf.train.AdamOptimizer)\n",
    "        optimizer = optimizer(params.get(\"learning_rate\", None))\n",
    "        train_op = optimizer.minimize(\n",
    "            loss=average_loss, global_step=tf.train.get_global_step())\n",
    "\n",
    "        return tf.estimator.EstimatorSpec(\n",
    "            mode=mode, loss=total_loss, train_op=train_op)\n",
    "\n",
    "    # In evaluation mode we will calculate evaluation metrics.\n",
    "    assert mode == tf.estimator.ModeKeys.EVAL\n",
    "\n",
    "    # Calculate root mean squared error\n",
    "    rmse = tf.metrics.root_mean_squared_error(labels, predictions)\n",
    "\n",
    "    # Add the rmse to the collection of evaluation metrics.\n",
    "    eval_metrics = {\"rmse\": rmse}\n",
    "\n",
    "    return tf.estimator.EstimatorSpec(\n",
    "      mode=mode,\n",
    "      # Report sum of error for compatibility with pre-made estimators\n",
    "      loss=total_loss,\n",
    "      eval_metric_ops=eval_metrics)\n",
    "\n",
    "\n",
    "def main(argv):\n",
    "    \"\"\"Builds, trains, and evaluates the model.\"\"\"\n",
    "    assert len(argv) == 1\n",
    "    (train, test) = imports85.dataset()\n",
    "\n",
    "    # Switch the labels to units of thousands for better convergence.\n",
    "    def normalize_price(features, labels):\n",
    "        return features, labels / PRICE_NORM_FACTOR\n",
    "\n",
    "    train = train.map(normalize_price)\n",
    "    test = test.map(normalize_price)\n",
    "\n",
    "    # Build the training input_fn.\n",
    "    def input_train():\n",
    "        return (\n",
    "            # Shuffling with a buffer larger than the data set ensures\n",
    "            # that the examples are well mixed.\n",
    "            train.shuffle(1000).batch(128)\n",
    "            # Repeat forever\n",
    "            .repeat().make_one_shot_iterator().get_next())\n",
    "\n",
    "    # Build the validation input_fn.\n",
    "    def input_test():\n",
    "        return (test.shuffle(1000).batch(128)\n",
    "                .make_one_shot_iterator().get_next())\n",
    "\n",
    "    # The first way assigns a unique weight to each category. To do this you must\n",
    "    # specify the category's vocabulary (values outside this specification will\n",
    "    # receive a weight of zero). Here we specify the vocabulary using a list of\n",
    "    # options. The vocabulary can also be specified with a vocabulary file (using\n",
    "    # `categorical_column_with_vocabulary_file`). For features covering a\n",
    "    # range of positive integers use `categorical_column_with_identity`.\n",
    "    body_style_vocab = [\"hardtop\", \"wagon\", \"sedan\", \"hatchback\", \"convertible\"]\n",
    "    body_style = tf.feature_column.categorical_column_with_vocabulary_list(\n",
    "      key=\"body-style\", vocabulary_list=body_style_vocab)\n",
    "    make = tf.feature_column.categorical_column_with_hash_bucket(\n",
    "      key=\"make\", hash_bucket_size=50)\n",
    "\n",
    "    feature_columns = [\n",
    "      tf.feature_column.numeric_column(key=\"curb-weight\"),\n",
    "      tf.feature_column.numeric_column(key=\"highway-mpg\"),\n",
    "      # Since this is a DNN model, convert categorical columns from sparse\n",
    "      # to dense.\n",
    "      # Wrap them in an `indicator_column` to create a\n",
    "      # one-hot vector from the input.\n",
    "      tf.feature_column.indicator_column(body_style),\n",
    "      # Or use an `embedding_column` to create a trainable vector for each\n",
    "      # index.\n",
    "      tf.feature_column.embedding_column(make, dimension=3),\n",
    "    ]\n",
    "\n",
    "    # Build a custom Estimator, using the model_fn.\n",
    "    # `params` is passed through to the `model_fn`.\n",
    "    model = tf.estimator.Estimator(\n",
    "      model_fn=my_dnn_regression_fn,\n",
    "      params={\n",
    "          \"feature_columns\": feature_columns,\n",
    "          \"learning_rate\": 0.001,\n",
    "          \"optimizer\": tf.train.AdamOptimizer,\n",
    "          \"hidden_units\": [20, 20]\n",
    "      })\n",
    "\n",
    "    # Train the model.\n",
    "    model.train(input_fn=input_train, steps=STEPS)\n",
    "\n",
    "    # Evaluate how the model performs on data it has not yet seen.\n",
    "    eval_result = model.evaluate(input_fn=input_test)\n",
    "\n",
    "    # Print the Root Mean Square Error (RMSE).\n",
    "    print(\"\\n\" + 80 * \"*\")\n",
    "    print(\"\\nRMS error for the test set: ${:.0f}\"\n",
    "        .format(PRICE_NORM_FACTOR * eval_result[\"rmse\"]))\n",
    "\n",
    "    print()\n",
    "\n",
    "\n",
    "if __name__ == \"__main__\":\n",
    "    # The Estimator periodically generates \"INFO\" logs; make these logs visible.\n",
    "    tf.logging.set_verbosity(tf.logging.INFO)\n",
    "    tf.app.run(main=main)"
   ]
  },
  {
   "cell_type": "code",
   "execution_count": 6,
   "metadata": {},
   "outputs": [
    {
     "ename": "AssertionError",
     "evalue": "",
     "output_type": "error",
     "traceback": [
      "\u001b[1;31m---------------------------------------------------------------------------\u001b[0m",
      "\u001b[1;31mAssertionError\u001b[0m                            Traceback (most recent call last)",
      "\u001b[1;32m<ipython-input-6-86e27f320512>\u001b[0m in \u001b[0;36m<module>\u001b[1;34m()\u001b[0m\n\u001b[1;32m----> 1\u001b[1;33m \u001b[0mmain\u001b[0m\u001b[1;33m(\u001b[0m\u001b[0margv\u001b[0m\u001b[1;33m=\u001b[0m\u001b[1;34m'123'\u001b[0m\u001b[1;33m)\u001b[0m\u001b[1;33m\u001b[0m\u001b[0m\n\u001b[0m",
      "\u001b[1;32m<ipython-input-2-b73a6606da56>\u001b[0m in \u001b[0;36mmain\u001b[1;34m(argv)\u001b[0m\n\u001b[0;32m     86\u001b[0m \u001b[1;32mdef\u001b[0m \u001b[0mmain\u001b[0m\u001b[1;33m(\u001b[0m\u001b[0margv\u001b[0m\u001b[1;33m)\u001b[0m\u001b[1;33m:\u001b[0m\u001b[1;33m\u001b[0m\u001b[0m\n\u001b[0;32m     87\u001b[0m     \u001b[1;34m\"\"\"Builds, trains, and evaluates the model.\"\"\"\u001b[0m\u001b[1;33m\u001b[0m\u001b[0m\n\u001b[1;32m---> 88\u001b[1;33m     \u001b[1;32massert\u001b[0m \u001b[0mlen\u001b[0m\u001b[1;33m(\u001b[0m\u001b[0margv\u001b[0m\u001b[1;33m)\u001b[0m \u001b[1;33m==\u001b[0m \u001b[1;36m1\u001b[0m\u001b[1;33m\u001b[0m\u001b[0m\n\u001b[0m\u001b[0;32m     89\u001b[0m     \u001b[1;33m(\u001b[0m\u001b[0mtrain\u001b[0m\u001b[1;33m,\u001b[0m \u001b[0mtest\u001b[0m\u001b[1;33m)\u001b[0m \u001b[1;33m=\u001b[0m \u001b[0mimports85\u001b[0m\u001b[1;33m.\u001b[0m\u001b[0mdataset\u001b[0m\u001b[1;33m(\u001b[0m\u001b[1;33m)\u001b[0m\u001b[1;33m\u001b[0m\u001b[0m\n\u001b[0;32m     90\u001b[0m \u001b[1;33m\u001b[0m\u001b[0m\n",
      "\u001b[1;31mAssertionError\u001b[0m: "
     ]
    }
   ],
   "source": [
    "main(argv='123')"
   ]
  },
  {
   "cell_type": "code",
   "execution_count": null,
   "metadata": {},
   "outputs": [],
   "source": []
  }
 ],
 "metadata": {
  "kernelspec": {
   "display_name": "Python 3",
   "language": "python",
   "name": "python3"
  },
  "language_info": {
   "codemirror_mode": {
    "name": "ipython",
    "version": 3
   },
   "file_extension": ".py",
   "mimetype": "text/x-python",
   "name": "python",
   "nbconvert_exporter": "python",
   "pygments_lexer": "ipython3",
   "version": "3.6.4"
  }
 },
 "nbformat": 4,
 "nbformat_minor": 2
}
