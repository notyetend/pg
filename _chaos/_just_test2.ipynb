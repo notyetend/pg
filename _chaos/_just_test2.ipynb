{
 "cells": [
  {
   "cell_type": "code",
   "execution_count": 21,
   "metadata": {},
   "outputs": [],
   "source": [
    "import numpy as np\n",
    "import os\n",
    "from datetime import datetime\n"
   ]
  },
  {
   "cell_type": "code",
   "execution_count": 18,
   "metadata": {},
   "outputs": [
    {
     "name": "stdout",
     "output_type": "stream",
     "text": [
      "D:\\_PlayGround\\Projects\\mmtf_pool_test_20170925\\mm_data\n",
      "D:\\_PlayGround\\Projects\\mmtf_pool_test_20170925\\mm_data\n"
     ]
    }
   ],
   "source": [
    "print(os.getcwd())\n",
    "os.chdir('D:\\_PlayGround\\Projects\\mmtf_pool_test_20170925\\mm_data')\n",
    "print(os.getcwd())"
   ]
  },
  {
   "cell_type": "code",
   "execution_count": 28,
   "metadata": {},
   "outputs": [
    {
     "data": {
      "text/plain": [
       "['loog_rs00000_ps00001_algv1_2017-09-28.log_pool_rs00000_ps00001.json.csv',\n",
       " 'loog_rs00000_ps00001_algv2_2017-09-28.log_pool_rs00000_ps00001.json.csv',\n",
       " 'loog_rs00000_ps00001_algv3_2017-09-28.log_pool_rs00000_ps00001.json.csv']"
      ]
     },
     "execution_count": 28,
     "metadata": {},
     "output_type": "execute_result"
    }
   ],
   "source": [
    "import glob\n",
    "interesting_files = glob.glob(\"loog_rs*.csv\") \n",
    "interesting_files[:3]"
   ]
  },
  {
   "cell_type": "code",
   "execution_count": 31,
   "metadata": {},
   "outputs": [],
   "source": [
    "header_saved = False\n",
    "with open('loog_' +  datetime.now().strftime('%Y-%m-%d') + '_output.csv','wb') as fout:\n",
    "    for filename in interesting_files:\n",
    "        with open(filename, 'rb') as fin:\n",
    "            header = next(fin)\n",
    "            if not header_saved:\n",
    "                fout.write(header)\n",
    "                header_saved = True\n",
    "            for line in fin:\n",
    "                fout.write(line)"
   ]
  },
  {
   "cell_type": "code",
   "execution_count": null,
   "metadata": {
    "collapsed": true
   },
   "outputs": [],
   "source": []
  }
 ],
 "metadata": {
  "kernelspec": {
   "display_name": "Python 3",
   "language": "python",
   "name": "python3"
  },
  "language_info": {
   "codemirror_mode": {
    "name": "ipython",
    "version": 3
   },
   "file_extension": ".py",
   "mimetype": "text/x-python",
   "name": "python",
   "nbconvert_exporter": "python",
   "pygments_lexer": "ipython3",
   "version": "3.6.1"
  }
 },
 "nbformat": 4,
 "nbformat_minor": 2
}
