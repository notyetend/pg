{
 "cells": [
  {
   "cell_type": "code",
   "execution_count": 23,
   "metadata": {
    "collapsed": true
   },
   "outputs": [],
   "source": [
    "import trueskill as ts\n",
    "import matplotlib.pyplot as plt\n",
    "import numpy as np\n",
    "import math\n",
    "from scipy.stats import norm\n",
    "pdf = norm.pdf\n",
    "cdf = norm.cdf\n",
    "icdf = norm.ppf  # inverse CDF\n",
    "\n",
    "def DrawMargin(p, beta, total_players=2):\n",
    "    \"\"\" Compute the draw margin (epsilon) given the draw probability. \"\"\"\n",
    "    return icdf((p + 1.0) / 2) * math.sqrt(total_players) * beta\n",
    "\n",
    "def win_probability(team_a_ratings, team_b_ratings, beta=8.33, epsilon=0):\n",
    "    \"\"\"\n",
    "    :param a: Rating list for team a \n",
    "    :param b: Rating list for team b\n",
    "    :param beta: skill chain length\n",
    "    :param epsilon: draw margin\n",
    "    :return: win probability for team a\n",
    "    \"\"\"\n",
    "    delta_mu = sum([x.mu for x in team_a_ratings]) - sum([x.mu for x in team_b_ratings]) - epsilon\n",
    "    sum_sigma = sum([x.sigma ** 2 for x in team_a_ratings]) + sum([x.sigma ** 2 for x in team_b_ratings])\n",
    "    num_team_members = len(team_a_ratings) + len(team_a_ratings)\n",
    "    denom = math.sqrt(beta * beta * num_team_members + sum_sigma)\n",
    "    return cdf(delta_mu / denom)\n",
    "\n",
    "init_mu = 25\n",
    "init_sigma = init_mu / 3\n",
    "init_beta = init_sigma / 2\n",
    "init_gamma = init_sigma / 100\n",
    "init_draw_probability = 0.1\n",
    "init_epsilon = DrawMargin(0.1, init_beta); init_epsilon\n",
    "\n",
    "env = ts.TrueSkill(mu=init_mu, sigma=init_sigma, beta=init_beta, tau=init_gamma, draw_probability=init_draw_probability, backend='scipy')"
   ]
  },
  {
   "cell_type": "code",
   "execution_count": 24,
   "metadata": {
    "collapsed": true
   },
   "outputs": [],
   "source": [
    "p1_mu = init_mu\n",
    "p1_sigma = init_sigma\n",
    "p2_mu = init_mu\n",
    "p2_sigma = init_sigma\n",
    "p3_mu = init_mu\n",
    "p3_sigma = init_sigma\n",
    "p4_mu = init_mu\n",
    "p4_sigma = init_sigma"
   ]
  },
  {
   "cell_type": "code",
   "execution_count": 25,
   "metadata": {},
   "outputs": [
    {
     "data": {
      "text/plain": [
       "0.19999999999999998"
      ]
     },
     "execution_count": 25,
     "metadata": {},
     "output_type": "execute_result"
    }
   ],
   "source": [
    "p1_ = env.Rating(p1_mu, p1_sigma)\n",
    "p2_ = env.Rating(p2_mu, p2_sigma)\n",
    "p3_ = env.Rating(p3_mu, p3_sigma)\n",
    "p4_ = env.Rating(p4_mu, p4_sigma)\n",
    "\n",
    "env.quality(rating_groups=[[p1_], [p2_], [p3_]])"
   ]
  },
  {
   "cell_type": "code",
   "execution_count": 20,
   "metadata": {},
   "outputs": [
    {
     "data": {
      "text/plain": [
       "0.5"
      ]
     },
     "execution_count": 20,
     "metadata": {},
     "output_type": "execute_result"
    }
   ],
   "source": [
    "win_probability([p1_], [p2_], beta=init_beta, epsilon=0)"
   ]
  },
  {
   "cell_type": "code",
   "execution_count": 112,
   "metadata": {
    "scrolled": false
   },
   "outputs": [
    {
     "data": {
      "text/plain": [
       "[(trueskill.Rating(mu=33.207, sigma=6.348),),\n",
       " (trueskill.Rating(mu=27.401, sigma=5.787),),\n",
       " (trueskill.Rating(mu=22.599, sigma=5.787),),\n",
       " (trueskill.Rating(mu=16.793, sigma=6.348),)]"
      ]
     },
     "execution_count": 112,
     "metadata": {},
     "output_type": "execute_result"
    }
   ],
   "source": [
    "env.rate([[p1_], [p2_], [p3_], [p4_]])"
   ]
  },
  {
   "cell_type": "code",
   "execution_count": 115,
   "metadata": {
    "collapsed": true
   },
   "outputs": [],
   "source": [
    "weights = [[0.1], [0.7], [0.8], [1]]"
   ]
  },
  {
   "cell_type": "code",
   "execution_count": 116,
   "metadata": {},
   "outputs": [
    {
     "data": {
      "text/plain": [
       "[(trueskill.Rating(mu=32.414, sigma=8.197),),\n",
       " (trueskill.Rating(mu=7.039, sigma=3.986),),\n",
       " (trueskill.Rating(mu=4.678, sigma=4.120),),\n",
       " (trueskill.Rating(mu=1.923, sigma=4.460),)]"
      ]
     },
     "execution_count": 116,
     "metadata": {},
     "output_type": "execute_result"
    }
   ],
   "source": [
    "env.rate(rating_groups=[[p1_], [p2_], [p3_], [p4_]], weights=weights)"
   ]
  },
  {
   "cell_type": "code",
   "execution_count": 119,
   "metadata": {
    "collapsed": true
   },
   "outputs": [],
   "source": [
    "weights = [[1.3], [1.2], [1], [0.9]]"
   ]
  },
  {
   "cell_type": "code",
   "execution_count": 120,
   "metadata": {},
   "outputs": [
    {
     "data": {
      "text/plain": [
       "[(trueskill.Rating(mu=31.612, sigma=6.401),),\n",
       " (trueskill.Rating(mu=26.888, sigma=5.824),),\n",
       " (trueskill.Rating(mu=24.645, sigma=6.115),),\n",
       " (trueskill.Rating(mu=19.326, sigma=6.870),)]"
      ]
     },
     "execution_count": 120,
     "metadata": {},
     "output_type": "execute_result"
    }
   ],
   "source": [
    "env.rate(rating_groups=[[p1_], [p2_], [p3_], [p4_]], weights=weights)"
   ]
  },
  {
   "cell_type": "code",
   "execution_count": 121,
   "metadata": {
    "collapsed": true
   },
   "outputs": [],
   "source": [
    "weights = [[1.22], [1.2], [1], [0.9]]"
   ]
  },
  {
   "cell_type": "code",
   "execution_count": 122,
   "metadata": {},
   "outputs": [
    {
     "data": {
      "text/plain": [
       "[(trueskill.Rating(mu=32.216, sigma=6.383),),\n",
       " (trueskill.Rating(mu=26.427, sigma=5.730),),\n",
       " (trueskill.Rating(mu=24.379, sigma=6.065),),\n",
       " (trueskill.Rating(mu=19.166, sigma=6.835),)]"
      ]
     },
     "execution_count": 122,
     "metadata": {},
     "output_type": "execute_result"
    }
   ],
   "source": [
    "env.rate(rating_groups=[[p1_], [p2_], [p3_], [p4_]], weights=weights)"
   ]
  },
  {
   "cell_type": "code",
   "execution_count": null,
   "metadata": {
    "collapsed": true
   },
   "outputs": [],
   "source": []
  },
  {
   "cell_type": "code",
   "execution_count": null,
   "metadata": {
    "collapsed": true
   },
   "outputs": [],
   "source": []
  },
  {
   "cell_type": "code",
   "execution_count": 77,
   "metadata": {
    "collapsed": true
   },
   "outputs": [],
   "source": [
    "import numpy as np\n",
    "\n",
    "def get_weights(lap_times):\n",
    "    w = 1 / ((lap_times - np.min(lap_times)) / (np.max(lap_times) - np.min(lap_times)) + 1)\n",
    "    return [[j] for j in w]"
   ]
  },
  {
   "cell_type": "code",
   "execution_count": 88,
   "metadata": {
    "collapsed": true
   },
   "outputs": [],
   "source": [
    "import numpy as np\n",
    "\n",
    "def get_weights(lap_times):\n",
    "    w = 1 / np.log((lap_times - np.min(lap_times)) / (np.max(lap_times) - np.min(lap_times)) + 2)\n",
    "    return [[j] for j in w]"
   ]
  },
  {
   "cell_type": "code",
   "execution_count": 110,
   "metadata": {
    "collapsed": true
   },
   "outputs": [],
   "source": [
    "import numpy as np\n",
    "\n",
    "def get_weights(lap_times):\n",
    "    w = 1 / np.array(lap_times) + 1\n",
    "    return [[j] for j in w]"
   ]
  },
  {
   "cell_type": "code",
   "execution_count": 96,
   "metadata": {},
   "outputs": [
    {
     "data": {
      "text/plain": [
       "[(trueskill.Rating(mu=30.921, sigma=6.436),),\n",
       " (trueskill.Rating(mu=27.506, sigma=5.943),),\n",
       " (trueskill.Rating(mu=24.602, sigma=6.113),),\n",
       " (trueskill.Rating(mu=19.754, sigma=6.965),)]"
      ]
     },
     "execution_count": 96,
     "metadata": {},
     "output_type": "execute_result"
    }
   ],
   "source": [
    "env.rate(rating_groups=[[p1_], [p2_], [p3_], [p4_]], weights=get_weights([12, 35, 65, 102]))"
   ]
  },
  {
   "cell_type": "code",
   "execution_count": 98,
   "metadata": {},
   "outputs": [
    {
     "data": {
      "text/plain": [
       "[(trueskill.Rating(mu=31.656, sigma=6.399),),\n",
       " (trueskill.Rating(mu=27.164, sigma=5.858),),\n",
       " (trueskill.Rating(mu=23.334, sigma=5.901),),\n",
       " (trueskill.Rating(mu=20.565, sigma=7.157),)]"
      ]
     },
     "execution_count": 98,
     "metadata": {},
     "output_type": "execute_result"
    }
   ],
   "source": [
    "env.rate(rating_groups=[[p1_], [p2_], [p3_], [p4_]], weights=get_weights([10, 35, 65, 202]))"
   ]
  },
  {
   "cell_type": "code",
   "execution_count": 111,
   "metadata": {},
   "outputs": [
    {
     "data": {
      "text/plain": [
       "[(trueskill.Rating(mu=32.533, sigma=6.347),),\n",
       " (trueskill.Rating(mu=27.740, sigma=5.849),),\n",
       " (trueskill.Rating(mu=23.159, sigma=5.871),),\n",
       " (trueskill.Rating(mu=17.293, sigma=6.443),)]"
      ]
     },
     "execution_count": 111,
     "metadata": {},
     "output_type": "execute_result"
    }
   ],
   "source": [
    "env.rate(rating_groups=[[p1_], [p2_], [p3_], [p4_]], weights=get_weights([10, 25, 65, 202]))"
   ]
  },
  {
   "cell_type": "code",
   "execution_count": null,
   "metadata": {
    "collapsed": true
   },
   "outputs": [],
   "source": []
  },
  {
   "cell_type": "code",
   "execution_count": null,
   "metadata": {
    "collapsed": true
   },
   "outputs": [],
   "source": []
  }
 ],
 "metadata": {
  "kernelspec": {
   "display_name": "Python 3",
   "language": "python",
   "name": "python3"
  },
  "language_info": {
   "codemirror_mode": {
    "name": "ipython",
    "version": 3
   },
   "file_extension": ".py",
   "mimetype": "text/x-python",
   "name": "python",
   "nbconvert_exporter": "python",
   "pygments_lexer": "ipython3",
   "version": "3.6.1"
  }
 },
 "nbformat": 4,
 "nbformat_minor": 2
}
