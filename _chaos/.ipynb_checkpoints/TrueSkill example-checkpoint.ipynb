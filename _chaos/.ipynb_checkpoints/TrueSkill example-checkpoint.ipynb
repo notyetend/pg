{
 "cells": [
  {
   "cell_type": "markdown",
   "metadata": {},
   "source": [
    "# 1vs1"
   ]
  },
  {
   "cell_type": "markdown",
   "metadata": {},
   "source": [
    "모든 message와 variable belief는 $N(0, 0)$으로 초기화 하고 시작한다.  Prior factor에서 Skill variable로 내려오는 message만 플레이어들의 스킬 분포 초기값 혹은 이전 값이 할당된다."
   ]
  },
  {
   "cell_type": "code",
   "execution_count": 45,
   "metadata": {
    "collapsed": false
   },
   "outputs": [
    {
     "data": {
      "text/plain": [
       "0.2703677370942563"
      ]
     },
     "execution_count": 45,
     "metadata": {},
     "output_type": "execute_result"
    }
   ],
   "source": [
    "import trueskill as ts\n",
    "\n",
    "def print_rating(r):\n",
    "    print('N({}, {}^2)'.format(round(r.mu,3), round(r.sigma, 3)))\n",
    "    print('X({}, {})'.format(round(r.pi,3), round(r.tau, 3)))\n",
    "    \n",
    "init_mu = 25\n",
    "init_sigma = init_mu / 3\n",
    "init_beta = init_sigma / 2\n",
    "init_tau = init_sigma / 100\n",
    "\n",
    "env = ts.TrueSkill(mu=init_mu, sigma=init_sigma, beta=init_beta, tau=init_tau, draw_probability=10, backend='mpmath')\n",
    "\n",
    "p1 = env.Rating(init_mu + 10, 10)\n",
    "p2 = env.Rating(init_mu, 15)\n",
    "env.quality(rating_groups=[[p1], [p2]])"
   ]
  },
  {
   "cell_type": "code",
   "execution_count": 46,
   "metadata": {
    "collapsed": false
   },
   "outputs": [
    {
     "name": "stdout",
     "output_type": "stream",
     "text": [
      "N(35.0, 10.0^2)\n",
      "X(0.01, 0.35)\n"
     ]
    }
   ],
   "source": [
    "print_rating(p1)"
   ]
  },
  {
   "cell_type": "code",
   "execution_count": 47,
   "metadata": {
    "collapsed": false
   },
   "outputs": [
    {
     "name": "stdout",
     "output_type": "stream",
     "text": [
      "N(25.0, 15.0^2)\n",
      "X(0.004, 0.111)\n"
     ]
    }
   ],
   "source": [
    "print_rating(p2)"
   ]
  },
  {
   "cell_type": "code",
   "execution_count": 59,
   "metadata": {
    "collapsed": true
   },
   "outputs": [],
   "source": [
    "import math\n",
    "class Gaussian(object):\n",
    "    \"\"\"A model for the normal distribution.\"\"\"\n",
    "\n",
    "    #: Precision, the inverse of the variance.\n",
    "    pi = 0\n",
    "    #: Precision adjusted mean, the precision multiplied by the mean.\n",
    "    tau = 0\n",
    "\n",
    "    def __init__(self, mu=None, sigma=None, pi=0, tau=0):\n",
    "        if mu is not None:\n",
    "            if sigma is None:\n",
    "                raise TypeError('sigma argument is needed')\n",
    "            elif sigma == 0:\n",
    "                raise ValueError('sigma**2 should be greater than 0')\n",
    "            pi = sigma ** -2\n",
    "            tau = pi * mu\n",
    "        self.pi = pi\n",
    "        self.tau = tau\n",
    "\n",
    "    @property\n",
    "    def mu(self):\n",
    "        \"\"\"A property which returns the mean.\"\"\"\n",
    "        return self.pi and self.tau / self.pi\n",
    "\n",
    "    @property\n",
    "    def sigma(self):\n",
    "        \"\"\"A property which returns the the square root of the variance.\"\"\"\n",
    "        return math.sqrt(1 / self.pi) if self.pi else inf\n",
    "\n",
    "    def __repr__(self):\n",
    "        return 'N(mu=%.3f, sigma=%.3f)' % (self.mu, self.sigma)\n",
    "\n",
    "    def _repr_latex_(self):\n",
    "        latex = r'\\mathcal{ N }( %.3f, %.3f^2 )' % (self.mu, self.sigma)\n",
    "        return '$%s$' % latex"
   ]
  },
  {
   "cell_type": "markdown",
   "metadata": {},
   "source": [
    "### Factor - Prior - f1"
   ]
  },
  {
   "cell_type": "markdown",
   "metadata": {},
   "source": [
    "$N(s; \\mu, \\sigma^2)$"
   ]
  },
  {
   "cell_type": "code",
   "execution_count": 79,
   "metadata": {
    "collapsed": false
   },
   "outputs": [
    {
     "data": {
      "text/latex": [
       "$\\mathcal{ N }( 35.000, 10.000^2 )$"
      ],
      "text/plain": [
       "N(mu=35.000, sigma=10.000)"
      ]
     },
     "execution_count": 79,
     "metadata": {},
     "output_type": "execute_result"
    }
   ],
   "source": [
    "f11 = Gaussian(init_mu + 10, 10); f11"
   ]
  },
  {
   "cell_type": "code",
   "execution_count": 80,
   "metadata": {
    "collapsed": false
   },
   "outputs": [
    {
     "data": {
      "text/latex": [
       "$\\mathcal{ N }( 25.000, 15.000^2 )$"
      ],
      "text/plain": [
       "N(mu=25.000, sigma=15.000)"
      ]
     },
     "execution_count": 80,
     "metadata": {},
     "output_type": "execute_result"
    }
   ],
   "source": [
    "f12 = Gaussian(init_mu, 15); f12"
   ]
  },
  {
   "cell_type": "markdown",
   "metadata": {},
   "source": [
    "### Message - from Prior to Skill - m1, m2"
   ]
  },
  {
   "cell_type": "code",
   "execution_count": 81,
   "metadata": {
    "collapsed": false
   },
   "outputs": [
    {
     "data": {
      "text/latex": [
       "$\\mathcal{ N }( 35.000, 10.000^2 )$"
      ],
      "text/plain": [
       "N(mu=35.000, sigma=10.000)"
      ]
     },
     "execution_count": 81,
     "metadata": {},
     "output_type": "execute_result"
    }
   ],
   "source": [
    "m1 = f11; m1"
   ]
  },
  {
   "cell_type": "code",
   "execution_count": 82,
   "metadata": {
    "collapsed": false
   },
   "outputs": [
    {
     "data": {
      "text/latex": [
       "$\\mathcal{ N }( 25.000, 15.000^2 )$"
      ],
      "text/plain": [
       "N(mu=25.000, sigma=15.000)"
      ]
     },
     "execution_count": 82,
     "metadata": {},
     "output_type": "execute_result"
    }
   ],
   "source": [
    "m2 = f12; m2"
   ]
  },
  {
   "cell_type": "markdown",
   "metadata": {},
   "source": [
    "### Variable - Skill - s1, s2"
   ]
  },
  {
   "cell_type": "markdown",
   "metadata": {},
   "source": [
    "사실 $p(s_1) = m_{1} \\cdot m_{3}$인데 $m_3$의 초기값이 $N(0, \\inf) = X(0, 0)$이므로, $p(p_1) = m_{5}$ 이다."
   ]
  },
  {
   "cell_type": "code",
   "execution_count": 64,
   "metadata": {
    "collapsed": false
   },
   "outputs": [
    {
     "data": {
      "text/latex": [
       "$\\mathcal{ N }( 35.000, 10.000^2 )$"
      ],
      "text/plain": [
       "N(mu=35.000, sigma=10.000)"
      ]
     },
     "execution_count": 64,
     "metadata": {},
     "output_type": "execute_result"
    }
   ],
   "source": [
    "s1 = m1; s1"
   ]
  },
  {
   "cell_type": "code",
   "execution_count": 65,
   "metadata": {
    "collapsed": false
   },
   "outputs": [
    {
     "data": {
      "text/latex": [
       "$\\mathcal{ N }( 25.000, 15.000^2 )$"
      ],
      "text/plain": [
       "N(mu=25.000, sigma=15.000)"
      ]
     },
     "execution_count": 65,
     "metadata": {},
     "output_type": "execute_result"
    }
   ],
   "source": [
    "s2 = m2; s2"
   ]
  },
  {
   "cell_type": "markdown",
   "metadata": {},
   "source": [
    "### Message - from Skill to Likelihood - m3, m4"
   ]
  },
  {
   "cell_type": "code",
   "execution_count": 66,
   "metadata": {
    "collapsed": false
   },
   "outputs": [
    {
     "data": {
      "text/latex": [
       "$\\mathcal{ N }( 35.000, 10.000^2 )$"
      ],
      "text/plain": [
       "N(mu=35.000, sigma=10.000)"
      ]
     },
     "execution_count": 66,
     "metadata": {},
     "output_type": "execute_result"
    }
   ],
   "source": [
    "m3 = m1; m3"
   ]
  },
  {
   "cell_type": "code",
   "execution_count": 67,
   "metadata": {
    "collapsed": false
   },
   "outputs": [
    {
     "data": {
      "text/latex": [
       "$\\mathcal{ N }( 25.000, 15.000^2 )$"
      ],
      "text/plain": [
       "N(mu=25.000, sigma=15.000)"
      ]
     },
     "execution_count": 67,
     "metadata": {},
     "output_type": "execute_result"
    }
   ],
   "source": [
    "m4 = m2; m4"
   ]
  },
  {
   "cell_type": "markdown",
   "metadata": {},
   "source": [
    "### Factor - Likelihood - f2"
   ]
  },
  {
   "cell_type": "markdown",
   "metadata": {},
   "source": [
    "$N(p;s, \\beta^2)$"
   ]
  },
  {
   "cell_type": "markdown",
   "metadata": {},
   "source": [
    "### Message - from Likelihood to Performance m5, m6"
   ]
  },
  {
   "cell_type": "markdown",
   "metadata": {},
   "source": [
    "Table1의 두번째 규칙에 따라 $m_5$과 $m_6$를 결정한다. 해당 공식의 $y$가 $s$에 해당하고 $x$가 $p$에 해당한다.\n",
    "- $\\pi_{f \\rightarrow p}^{new} \\leftarrow a \\cdot (\\pi_s - \\pi_{f \\rightarrow s})$\n",
    "- $\\tau_{f \\rightarrow p}^{new} \\leftarrow a \\cdot (\\tau_s - \\tau_{f \\rightarrow s})$\n",
    "- $a := (1 + c^2(\\pi_s - \\pi_{f \\rightarrow s}))^{-1}$\n",
    "\n",
    "\n",
    "$c$값은 공통 분산 $\\beta$이고, $m_{f \\rightarrow s}$는 $N(0, \\inf)$로 초기화되었음\n",
    "- $c = \\beta$\n",
    "- $\\pi_{f \\rightarrow s} = 0$\n",
    "- $\\tau_{f \\rightarrow s} = 0$\n"
   ]
  },
  {
   "cell_type": "code",
   "execution_count": 70,
   "metadata": {
    "collapsed": false
   },
   "outputs": [],
   "source": [
    "def get_a(pi_y, pi_fy, c):\n",
    "    return 1.0 / (1.0 + c**2 * (pi_y - pi_fy) )"
   ]
  },
  {
   "cell_type": "code",
   "execution_count": 71,
   "metadata": {
    "collapsed": false
   },
   "outputs": [
    {
     "data": {
      "text/plain": [
       "0.8520710059171597"
      ]
     },
     "execution_count": 71,
     "metadata": {},
     "output_type": "execute_result"
    }
   ],
   "source": [
    "a1 = get_a(s1.pi, 0, init_beta); a1"
   ]
  },
  {
   "cell_type": "code",
   "execution_count": 72,
   "metadata": {
    "collapsed": false
   },
   "outputs": [
    {
     "data": {
      "text/plain": [
       "0.9283667621776504"
      ]
     },
     "execution_count": 72,
     "metadata": {},
     "output_type": "execute_result"
    }
   ],
   "source": [
    "a2 = get_a(s2.pi, 0, init_beta); a2"
   ]
  },
  {
   "cell_type": "code",
   "execution_count": 73,
   "metadata": {
    "collapsed": false
   },
   "outputs": [
    {
     "data": {
      "text/latex": [
       "$\\mathcal{ N }( 35.000, 10.833^2 )$"
      ],
      "text/plain": [
       "N(mu=35.000, sigma=10.833)"
      ]
     },
     "execution_count": 73,
     "metadata": {},
     "output_type": "execute_result"
    }
   ],
   "source": [
    "m5 = Gaussian(pi=a1*(s1.pi-0), tau=a1*(s1.tau-0)); m5"
   ]
  },
  {
   "cell_type": "code",
   "execution_count": 75,
   "metadata": {
    "collapsed": false
   },
   "outputs": [
    {
     "data": {
      "text/latex": [
       "$\\mathcal{ N }( 25.000, 15.568^2 )$"
      ],
      "text/plain": [
       "N(mu=25.000, sigma=15.568)"
      ]
     },
     "execution_count": 75,
     "metadata": {},
     "output_type": "execute_result"
    }
   ],
   "source": [
    "m6 = Gaussian(pi=a2*(s2.pi-0), tau=a2*(s2.tau-0)); m6"
   ]
  },
  {
   "cell_type": "markdown",
   "metadata": {},
   "source": [
    "### Variable - Performance - p1, p2"
   ]
  },
  {
   "cell_type": "markdown",
   "metadata": {},
   "source": [
    "사실 $p(p_1) = m_{5} \\cdot m_{7}$인데 $m_7$의 초기값이 $N(0, \\inf) = X(0, 0)$이므로, $p(p_1) = m_{5}$ 이다."
   ]
  },
  {
   "cell_type": "code",
   "execution_count": 76,
   "metadata": {
    "collapsed": false
   },
   "outputs": [
    {
     "data": {
      "text/latex": [
       "$\\mathcal{ N }( 35.000, 10.833^2 )$"
      ],
      "text/plain": [
       "N(mu=35.000, sigma=10.833)"
      ]
     },
     "execution_count": 76,
     "metadata": {},
     "output_type": "execute_result"
    }
   ],
   "source": [
    "p1 = m5; p1"
   ]
  },
  {
   "cell_type": "code",
   "execution_count": 77,
   "metadata": {
    "collapsed": false
   },
   "outputs": [
    {
     "data": {
      "text/latex": [
       "$\\mathcal{ N }( 25.000, 15.568^2 )$"
      ],
      "text/plain": [
       "N(mu=25.000, sigma=15.568)"
      ]
     },
     "execution_count": 77,
     "metadata": {},
     "output_type": "execute_result"
    }
   ],
   "source": [
    "p2 = m6; p2"
   ]
  },
  {
   "cell_type": "markdown",
   "metadata": {},
   "source": [
    "### Message - from Performance to SumFactor - m7, m8"
   ]
  },
  {
   "cell_type": "code",
   "execution_count": 83,
   "metadata": {
    "collapsed": false
   },
   "outputs": [
    {
     "data": {
      "text/latex": [
       "$\\mathcal{ N }( 35.000, 10.833^2 )$"
      ],
      "text/plain": [
       "N(mu=35.000, sigma=10.833)"
      ]
     },
     "execution_count": 83,
     "metadata": {},
     "output_type": "execute_result"
    }
   ],
   "source": [
    "m7 = p1; m7"
   ]
  },
  {
   "cell_type": "code",
   "execution_count": 84,
   "metadata": {
    "collapsed": false
   },
   "outputs": [
    {
     "data": {
      "text/latex": [
       "$\\mathcal{ N }( 25.000, 15.568^2 )$"
      ],
      "text/plain": [
       "N(mu=25.000, sigma=15.568)"
      ]
     },
     "execution_count": 84,
     "metadata": {},
     "output_type": "execute_result"
    }
   ],
   "source": [
    "m8 = p2; m8"
   ]
  },
  {
   "cell_type": "markdown",
   "metadata": {},
   "source": [
    "### Factor - Sum - f3"
   ]
  },
  {
   "cell_type": "markdown",
   "metadata": {},
   "source": [
    "Table1의 3번째 규칙에 따라 계산된다. $y_1, \\cdots, y_n$은 특정 팀에 속하는 플레이어들의 퍼포먼스 $p_1, \\cdots, p_n$이며 $x$는 Team performance $t$에 해당한다. 또한 $a_j$는 partial play를 표현하는 각 플레이어의 가중치이다."
   ]
  },
  {
   "cell_type": "code",
   "execution_count": null,
   "metadata": {
    "collapsed": true
   },
   "outputs": [],
   "source": []
  }
 ],
 "metadata": {
  "anaconda-cloud": {},
  "kernelspec": {
   "display_name": "Python [Root]",
   "language": "python",
   "name": "Python [Root]"
  },
  "language_info": {
   "codemirror_mode": {
    "name": "ipython",
    "version": 3
   },
   "file_extension": ".py",
   "mimetype": "text/x-python",
   "name": "python",
   "nbconvert_exporter": "python",
   "pygments_lexer": "ipython3",
   "version": "3.5.2"
  }
 },
 "nbformat": 4,
 "nbformat_minor": 0
}
