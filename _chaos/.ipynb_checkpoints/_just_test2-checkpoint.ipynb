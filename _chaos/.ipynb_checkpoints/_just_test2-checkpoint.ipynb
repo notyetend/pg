{
 "cells": [
  {
   "cell_type": "markdown",
   "metadata": {},
   "source": [
    "###### 1. Introduction"
   ]
  },
  {
   "cell_type": "markdown",
   "metadata": {},
   "source": [
    "딥러닝은 자동으로 피쳐 학습을 해 주는 장점이 있지만, 각 피쳐의 역할을 해석하기 어렵다는 단점이 있다. 반면 PGM(확률적 그래피컬 모형)은 그 해석이 쉽다는 장점이 있지만 모형으로 학습시킬 수 있는 함수가 특정 함수족으로 제한되는 단점이 있다. 이 두가지를 결합하여 보다 나은 모형을 만들수 있는데, 본 논문에서는 TrueSkill의 PGM을 RNN과 결합한 모형을 제안하며, NBA 데이터를 이용한 시뮬레이션 결과 기존의 TrueSkill 모형보다 나은 승부 예측 결과를 얻을 수 있었다."
   ]
  },
  {
   "cell_type": "markdown",
   "metadata": {},
   "source": [
    "###### 2. Vanilla TrueSkill"
   ]
  },
  {
   "cell_type": "markdown",
   "metadata": {},
   "source": [
    "TrueSkill에 요약 설명(생략)"
   ]
  },
  {
   "cell_type": "markdown",
   "metadata": {},
   "source": [
    "###### 3. TrueSkill RNN"
   ]
  },
  {
   "cell_type": "markdown",
   "metadata": {},
   "source": [
    "."
   ]
  }
 ],
 "metadata": {
  "kernelspec": {
   "display_name": "Python 3",
   "language": "python",
   "name": "python3"
  },
  "language_info": {
   "codemirror_mode": {
    "name": "ipython",
    "version": 3
   },
   "file_extension": ".py",
   "mimetype": "text/x-python",
   "name": "python",
   "nbconvert_exporter": "python",
   "pygments_lexer": "ipython3",
   "version": "3.6.1"
  }
 },
 "nbformat": 4,
 "nbformat_minor": 2
}
