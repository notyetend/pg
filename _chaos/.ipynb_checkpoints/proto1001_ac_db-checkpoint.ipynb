{
 "cells": [
  {
   "cell_type": "markdown",
   "metadata": {},
   "source": [
    "###### table"
   ]
  },
  {
   "cell_type": "code",
   "execution_count": null,
   "metadata": {
    "collapsed": true
   },
   "outputs": [],
   "source": [
    "'''\n",
    "create table dat001 (\n",
    "\tpartkey_month int(11) not null,\n",
    "\tlog_idx bigint(20) not null auto_increment,\n",
    "\treceived_dt datetime default null,\n",
    "    \n",
    "    file_name char(100) default null,\n",
    "    \n",
    "\tdevice_id char(50) default null,\n",
    "\tchannel_size int(10) default null,\n",
    "\t\n",
    "\tscan_no int(10) default null,\n",
    "\tmeasure_dt datetime default null,\n",
    "\tpart_id char(50) default null,\n",
    "\t\n",
    "\tval_gold float(25, 9) default null,\n",
    "\tval_silver float(25, 9) default null,\n",
    "\treg_dt datetime default null,\n",
    "\treg_date char(10) default null,\n",
    "\tprimary key (log_idx, partkey_month),\n",
    "\tkey dat001__reg_date__device_id(reg_date, device_id)\n",
    ") engine=innodb auto_increment=1 default charset=utf8 comment='measurement data'\n",
    "/*!50100 PARTITION BY LIST (partkey_month)\n",
    "(PARTITION dat001_P01 VALUES IN (1) ENGINE = InnoDB,\n",
    " PARTITION dat001_P02 VALUES IN (2) ENGINE = InnoDB,\n",
    " PARTITION dat001_P03 VALUES IN (3) ENGINE = InnoDB,\n",
    " PARTITION dat001_P04 VALUES IN (4) ENGINE = InnoDB,\n",
    " PARTITION dat001_P05 VALUES IN (5) ENGINE = InnoDB,\n",
    " PARTITION dat001_P06 VALUES IN (6) ENGINE = InnoDB,\n",
    " PARTITION dat001_P07 VALUES IN (7) ENGINE = InnoDB,\n",
    " PARTITION dat001_P08 VALUES IN (8) ENGINE = InnoDB,\n",
    " PARTITION dat001_P09 VALUES IN (9) ENGINE = InnoDB,\n",
    " PARTITION dat001_P10 VALUES IN (10) ENGINE = InnoDB,\n",
    " PARTITION dat001_P11 VALUES IN (11) ENGINE = InnoDB,\n",
    " PARTITION dat001_P12 VALUES IN (12) ENGINE = InnoDB) */\n",
    " '''"
   ]
  },
  {
   "cell_type": "code",
   "execution_count": 18,
   "metadata": {
    "scrolled": true
   },
   "outputs": [
    {
     "data": {
      "text/plain": [
       "'\\ncreate table dat001 (\\n\\treceived_dt datetime default null,\\n\\tdevice_id char(50) default null,\\n\\tchannel_size int(10) default null,\\n\\t\\n\\tscan_no int(10) default null,\\n\\tmeasure_dt datetime default null,\\n\\tpart_id char(50) default null,\\n\\t\\n\\tval_gold float(25, 9) default null,\\n\\tval_silver float(25, 9) default null,\\n\\treg_dt datetime default null,\\n\\treg_date char(10) default null\\n)\\n'"
      ]
     },
     "execution_count": 18,
     "metadata": {},
     "output_type": "execute_result"
    }
   ],
   "source": [
    "'''\n",
    "create table dat001 (\n",
    "\treceived_dt datetime default null,\n",
    "\tdevice_id char(50) default null,\n",
    "\tchannel_size int(10) default null,\n",
    "\t\n",
    "\tscan_no int(10) default null,\n",
    "\tmeasure_dt datetime default null,\n",
    "\tpart_id char(50) default null,\n",
    "\t\n",
    "\tval_gold float(25, 9) default null,\n",
    "\tval_silver float(25, 9) default null,\n",
    "\treg_dt datetime default null,\n",
    "\treg_date char(10) default null\n",
    ")\n",
    "'''"
   ]
  },
  {
   "cell_type": "markdown",
   "metadata": {},
   "source": [
    "###### load data"
   ]
  },
  {
   "cell_type": "code",
   "execution_count": 1,
   "metadata": {
    "scrolled": true
   },
   "outputs": [
    {
     "name": "stdout",
     "output_type": "stream",
     "text": [
      "C:\\My\\test_basic_materials\\csv\n"
     ]
    }
   ],
   "source": [
    "import os\n",
    "\n",
    "os.chdir(r'C:\\My\\test_basic_materials\\csv')\n",
    "mypath = os.getcwd()\n",
    "print(mypath)"
   ]
  },
  {
   "cell_type": "code",
   "execution_count": 2,
   "metadata": {
    "collapsed": true
   },
   "outputs": [],
   "source": [
    "import pymysql\n",
    "\n",
    "from datetime import datetime\n",
    "from os import listdir\n",
    "from os.path import isfile, join\n",
    "\n",
    "\n",
    "\n",
    "table_name = 'dat001'\n",
    "host_name = 'localhost'\n",
    "user_name = 'root'\n",
    "user_pwd = '1'\n",
    "db_name = 'test'\n",
    "charset = 'utf8mb4'"
   ]
  },
  {
   "cell_type": "code",
   "execution_count": 3,
   "metadata": {
    "collapsed": true
   },
   "outputs": [],
   "source": [
    "def insert_line(infile_name, line, parsed_header, parsed_part_id):\n",
    "    \n",
    "    # 1\n",
    "    received_dt = datetime.strptime(parsed_header.get('수집 날짜:').replace('오전', 'AM').replace('오후', ':PM'), '%Y-%m-%d :%p %I:%M:%S')\n",
    "    \n",
    "    # 2\n",
    "    file_name = infile_name\n",
    "    \n",
    "    # 3\n",
    "    device_id = parsed_header.get('계측기:')\n",
    "    \n",
    "    # 4\n",
    "    channel_size = parsed_header.get('총 채널:')\n",
    "    \n",
    "    # 5\n",
    "    scan_no = line[0]\n",
    "    \n",
    "    # 8\n",
    "    val_gold = line[2]\n",
    "    \n",
    "    # 10\n",
    "    reg_dt = datetime.now()\n",
    "    \n",
    "    # 11\n",
    "    reg_date = datetime.now().strftime('%Y-%m-%d')\n",
    "    \n",
    "    # 0\n",
    "    partykey_month = reg_dt.month\n",
    "    \n",
    "    connection = pymysql.connect(host=host_name,\n",
    "                                 user=user_name,\n",
    "                                 password=user_pwd,\n",
    "                                 db=db_name,\n",
    "                                 charset=charset,\n",
    "                                 cursorclass=pymysql.cursors.DictCursor)\n",
    "\n",
    "    try:\n",
    "        with connection.cursor() as cursor:\n",
    "            # Create a new record\n",
    "            sql = \"\"\"INSERT INTO `dat001`(\n",
    "                        partkey_month\n",
    "                        , received_dt\n",
    "                        , file_name\n",
    "                        , device_id\n",
    "                        , channel_size\n",
    "                        , scan_no\n",
    "                        , measure_dt\n",
    "                        , part_id\n",
    "                        , val_gold\n",
    "                        , val_silver\n",
    "                        , reg_dt\n",
    "                        , reg_date\n",
    "                    ) VALUES(%s, %s, %s, %s, %s, %s, %s, %s, %s, %s, %s, %s)\"\"\"\n",
    "\n",
    "            for i in range(int(channel_size)-1):\n",
    "                this_part_index = i\n",
    "\n",
    "                # 6\n",
    "                measure_dt = datetime.strptime(line[1], '%Y-%m-%d %H:%M:%S:%f')\n",
    "                \n",
    "                # 7\n",
    "                part_id = parsed_part_id[this_part_index + 3]\n",
    "                \n",
    "                # 8\n",
    "                val_silver = line[this_part_index + 3]\n",
    "            \n",
    "                cursor.execute(sql, (\n",
    "                    partykey_month\n",
    "                    , received_dt\n",
    "                    , file_name\n",
    "                    , device_id\n",
    "                    , channel_size\n",
    "                    , scan_no\n",
    "                    , measure_dt\n",
    "                    , part_id\n",
    "                    , val_gold\n",
    "                    , val_silver\n",
    "                    , reg_dt\n",
    "                    , reg_date\n",
    "                ))\n",
    "\n",
    "        # connection is not autocommit by default. So you must commit to save\n",
    "        # your changes.\n",
    "        connection.commit()\n",
    "\n",
    "    finally:\n",
    "        connection.close()\n",
    "    \n",
    "    return i+1"
   ]
  },
  {
   "cell_type": "code",
   "execution_count": 4,
   "metadata": {
    "collapsed": true
   },
   "outputs": [],
   "source": [
    "def insert_file(infile_name):\n",
    "    parsed_header = {}\n",
    "    parsed_part_id = None\n",
    "    with open(infile_name, encoding='utf16') as csvf:\n",
    "        rd = csv.reader(csvf, delimiter='\\t')\n",
    "        is_data_line = False\n",
    "        num_rows_inserted = 0\n",
    "        num_lines_inserted = 0\n",
    "        for idx, line in enumerate(rd):\n",
    "            if is_data_line:\n",
    "                num_lines_inserted += 1\n",
    "                num_rows_inserted += insert_line(infile_name, line, parsed_header, parsed_part_id)\n",
    "            else:\n",
    "                if line[0] == '수집 날짜:':\n",
    "                    parsed_header['수집 날짜:'] = line[1]\n",
    "                elif line[0] == '계측기:':\n",
    "                    parsed_header['계측기:'] = line[1]\n",
    "                elif line[0] == '총 채널:':\n",
    "                    parsed_header['총 채널:'] = line[1]\n",
    "                elif line[0] == '스캔':\n",
    "                    parsed_part_id = line\n",
    "                    is_data_line = True\n",
    "    print('[{}] - {} lines({} records) are inserted in the {}'.format(datetime.now().strftime('%Y-%m-%d %H:%M:%S:%f'), num_lines_inserted, num_rows_inserted, infile_name))            \n",
    "    return num_lines_inserted, num_rows_inserted"
   ]
  },
  {
   "cell_type": "code",
   "execution_count": 51,
   "metadata": {},
   "outputs": [
    {
     "name": "stdout",
     "output_type": "stream",
     "text": [
      "[2018-02-21 19:52:55:282075] - 30 lines(480 records) are inserted in the 0A.csv\n",
      "[2018-02-21 19:52:55:646017] - 30 lines(480 records) are inserted in the 100A.csv\n",
      "[2018-02-21 19:52:56:019532] - 30 lines(480 records) are inserted in the 10A.csv\n",
      "[2018-02-21 19:52:56:402044] - 30 lines(480 records) are inserted in the 20A.csv\n",
      "[2018-02-21 19:52:56:734811] - 30 lines(480 records) are inserted in the 30A.csv\n",
      "[2018-02-21 19:52:57:119939] - 30 lines(480 records) are inserted in the 40A.csv\n",
      "[2018-02-21 19:52:57:439470] - 30 lines(480 records) are inserted in the 50A.csv\n",
      "[2018-02-21 19:52:57:795332] - 30 lines(480 records) are inserted in the 60A.csv\n",
      "[2018-02-21 19:52:58:169800] - 30 lines(480 records) are inserted in the 70A.csv\n",
      "[2018-02-21 19:52:58:572162] - 30 lines(480 records) are inserted in the 80A.csv\n",
      "[2018-02-21 19:52:58:954282] - 30 lines(480 records) are inserted in the 90A.csv\n",
      "[2018-02-21 19:52:58:954282] - 330 lines(5280 records) are inserted in the C:\\My\\test_basic_materials\\csv\n"
     ]
    }
   ],
   "source": [
    "file_name_list = [f for f in listdir(mypath) if isfile(join(mypath, f))]\n",
    "num_lines_inserted, num_rows_inserted = 0, 0\n",
    "\n",
    "for file_name in file_name_list:\n",
    "    n_line, n_rows = insert_file(file_name)\n",
    "    num_lines_inserted += n_line\n",
    "    num_rows_inserted += n_rows\n",
    "\n",
    "print('[{}] - Total {} lines({} records) are inserted in the {}'.format(datetime.now().strftime('%Y-%m-%d %H:%M:%S:%f'), num_lines_inserted, num_rows_inserted, mypath))   "
   ]
  },
  {
   "cell_type": "markdown",
   "metadata": {},
   "source": [
    "###### test codes below"
   ]
  },
  {
   "cell_type": "code",
   "execution_count": 71,
   "metadata": {
    "scrolled": true
   },
   "outputs": [
    {
     "data": {
      "text/plain": [
       "['1',\n",
       " '2017-09-18 20:21:12:714',\n",
       " '0.16869649',\n",
       " '0.1264887',\n",
       " '0.12646982',\n",
       " '0.12576887',\n",
       " '0.12626219',\n",
       " '0.12547818',\n",
       " '0.12563044',\n",
       " '0.1260168',\n",
       " '0.12589977',\n",
       " '0.12855624',\n",
       " '0.12662964',\n",
       " '0.12785909',\n",
       " '0.12672653',\n",
       " '0.12747276',\n",
       " '0.12625841',\n",
       " '0.12550209',\n",
       " '0.12639683']"
      ]
     },
     "execution_count": 71,
     "metadata": {},
     "output_type": "execute_result"
    }
   ],
   "source": [
    "sample_data_line = ['1', '2017-09-18 20:21:12:714', '0.16869649', '0.1264887', '0.12646982', '0.12576887', '0.12626219', '0.12547818', '0.12563044', '0.1260168', '0.12589977', '0.12855624', '0.12662964', '0.12785909', '0.12672653', '0.12747276', '0.12625841', '0.12550209', '0.12639683']\n",
    "sample_data_line"
   ]
  },
  {
   "cell_type": "code",
   "execution_count": 72,
   "metadata": {},
   "outputs": [
    {
     "data": {
      "text/plain": [
       "19"
      ]
     },
     "execution_count": 72,
     "metadata": {},
     "output_type": "execute_result"
    }
   ],
   "source": [
    "len(sample_data_line)"
   ]
  },
  {
   "cell_type": "code",
   "execution_count": 73,
   "metadata": {},
   "outputs": [
    {
     "data": {
      "text/plain": [
       "['스캔',\n",
       " '시간',\n",
       " '101 <ITL900> (VDC)',\n",
       " '102 <1> (VDC)',\n",
       " '103 <2> (VDC)',\n",
       " '104 <3> (VDC)',\n",
       " '105 <4> (VDC)',\n",
       " '106 <5> (VDC)',\n",
       " '107 <6> (VDC)',\n",
       " '108 <7> (VDC)',\n",
       " '109 <8> (VDC)',\n",
       " '110 <9> (VDC)',\n",
       " '111 <10> (VDC)',\n",
       " '112 <11> (VDC)',\n",
       " '113 <12> (VDC)',\n",
       " '114 <13> (VDC)',\n",
       " '115 <14> (VDC)',\n",
       " '116 <15> (VDC)',\n",
       " '117 <16> (VDC)']"
      ]
     },
     "execution_count": 73,
     "metadata": {},
     "output_type": "execute_result"
    }
   ],
   "source": [
    "parsed_part_id"
   ]
  },
  {
   "cell_type": "code",
   "execution_count": 74,
   "metadata": {},
   "outputs": [
    {
     "data": {
      "text/plain": [
       "{'계측기:': '34970A', '수집 날짜:': '2017-09-18 오후 8:31:10', '총 채널:': '17'}"
      ]
     },
     "execution_count": 74,
     "metadata": {},
     "output_type": "execute_result"
    }
   ],
   "source": [
    "parsed_header"
   ]
  },
  {
   "cell_type": "code",
   "execution_count": 75,
   "metadata": {
    "collapsed": true
   },
   "outputs": [],
   "source": [
    "from datetime import datetime"
   ]
  },
  {
   "cell_type": "code",
   "execution_count": 76,
   "metadata": {},
   "outputs": [
    {
     "data": {
      "text/plain": [
       "2"
      ]
     },
     "execution_count": 76,
     "metadata": {},
     "output_type": "execute_result"
    }
   ],
   "source": [
    "# 0\n",
    "\n",
    "partkey_month = datetime.now().month\n",
    "partkey_month"
   ]
  },
  {
   "cell_type": "code",
   "execution_count": 77,
   "metadata": {},
   "outputs": [
    {
     "data": {
      "text/plain": [
       "datetime.datetime(2017, 9, 18, 20, 31, 10)"
      ]
     },
     "execution_count": 77,
     "metadata": {},
     "output_type": "execute_result"
    }
   ],
   "source": [
    "# 1\n",
    "received_dt = datetime.strptime(parsed_header.get('수집 날짜:').replace('오전', 'AM').replace('오후', ':PM'), '%Y-%m-%d :%p %I:%M:%S')\n",
    "received_dt"
   ]
  },
  {
   "cell_type": "code",
   "execution_count": 78,
   "metadata": {},
   "outputs": [
    {
     "data": {
      "text/plain": [
       "'34970A'"
      ]
     },
     "execution_count": 78,
     "metadata": {},
     "output_type": "execute_result"
    }
   ],
   "source": [
    "# 2\n",
    "device_id = parsed_header.get('계측기:')\n",
    "device_id"
   ]
  },
  {
   "cell_type": "code",
   "execution_count": 79,
   "metadata": {},
   "outputs": [
    {
     "data": {
      "text/plain": [
       "'17'"
      ]
     },
     "execution_count": 79,
     "metadata": {},
     "output_type": "execute_result"
    }
   ],
   "source": [
    "# 3\n",
    "channel_size = parsed_header.get('총 채널:')\n",
    "channel_size"
   ]
  },
  {
   "cell_type": "code",
   "execution_count": 80,
   "metadata": {},
   "outputs": [
    {
     "data": {
      "text/plain": [
       "'1'"
      ]
     },
     "execution_count": 80,
     "metadata": {},
     "output_type": "execute_result"
    }
   ],
   "source": [
    "# 4\n",
    "scan_no = sample_data_line[0]\n",
    "scan_no"
   ]
  },
  {
   "cell_type": "code",
   "execution_count": 81,
   "metadata": {},
   "outputs": [
    {
     "data": {
      "text/plain": [
       "datetime.datetime(2017, 9, 18, 20, 21, 12, 714000)"
      ]
     },
     "execution_count": 81,
     "metadata": {},
     "output_type": "execute_result"
    }
   ],
   "source": [
    "# 5\n",
    "measure_dt = datetime.strptime(sample_data_line[1], '%Y-%m-%d %H:%M:%S:%f')\n",
    "measure_dt"
   ]
  },
  {
   "cell_type": "code",
   "execution_count": 82,
   "metadata": {
    "collapsed": true
   },
   "outputs": [],
   "source": [
    "this_part_index = 0"
   ]
  },
  {
   "cell_type": "code",
   "execution_count": 83,
   "metadata": {},
   "outputs": [
    {
     "data": {
      "text/plain": [
       "'102 <1> (VDC)'"
      ]
     },
     "execution_count": 83,
     "metadata": {},
     "output_type": "execute_result"
    }
   ],
   "source": [
    "# 6\n",
    "part_id = parsed_part_id[this_part_index + 3]\n",
    "part_id"
   ]
  },
  {
   "cell_type": "code",
   "execution_count": 84,
   "metadata": {},
   "outputs": [
    {
     "data": {
      "text/plain": [
       "'0.16869649'"
      ]
     },
     "execution_count": 84,
     "metadata": {},
     "output_type": "execute_result"
    }
   ],
   "source": [
    "# 7\n",
    "val_gold = sample_data_line[2]\n",
    "val_gold"
   ]
  },
  {
   "cell_type": "code",
   "execution_count": 85,
   "metadata": {},
   "outputs": [
    {
     "data": {
      "text/plain": [
       "'0.1264887'"
      ]
     },
     "execution_count": 85,
     "metadata": {},
     "output_type": "execute_result"
    }
   ],
   "source": [
    "# 8\n",
    "val_silver = sample_data_line[this_part_index + 3]\n",
    "val_silver"
   ]
  },
  {
   "cell_type": "code",
   "execution_count": 86,
   "metadata": {},
   "outputs": [
    {
     "data": {
      "text/plain": [
       "datetime.datetime(2018, 2, 21, 9, 35, 27, 732353)"
      ]
     },
     "execution_count": 86,
     "metadata": {},
     "output_type": "execute_result"
    }
   ],
   "source": [
    "# 9\n",
    "reg_dt = datetime.now()\n",
    "reg_dt"
   ]
  },
  {
   "cell_type": "code",
   "execution_count": 87,
   "metadata": {},
   "outputs": [
    {
     "data": {
      "text/plain": [
       "'2018-02-21'"
      ]
     },
     "execution_count": 87,
     "metadata": {},
     "output_type": "execute_result"
    }
   ],
   "source": [
    "# 10\n",
    "reg_date = datetime.now().strftime('%Y-%m-%d')\n",
    "reg_date"
   ]
  },
  {
   "cell_type": "code",
   "execution_count": 88,
   "metadata": {},
   "outputs": [
    {
     "data": {
      "text/plain": [
       "2"
      ]
     },
     "execution_count": 88,
     "metadata": {},
     "output_type": "execute_result"
    }
   ],
   "source": [
    "# 0\n",
    "partykey_month = reg_dt.month\n",
    "partykey_month"
   ]
  },
  {
   "cell_type": "code",
   "execution_count": null,
   "metadata": {
    "collapsed": true
   },
   "outputs": [],
   "source": []
  },
  {
   "cell_type": "markdown",
   "metadata": {},
   "source": [
    "###### Model : Simple linear regression with average mA values"
   ]
  },
  {
   "cell_type": "code",
   "execution_count": 24,
   "metadata": {
    "collapsed": true
   },
   "outputs": [],
   "source": [
    "import pandas as pd\n",
    "\n",
    "connection = pymysql.connect(host=host_name,\n",
    "                             user=user_name,\n",
    "                             password=user_pwd,\n",
    "                             db=db_name,\n",
    "                             charset=charset,\n",
    "                             cursorclass=pymysql.cursors.DictCursor)\n",
    "\n",
    "try:\n",
    "    sql = \"\"\"\n",
    "            select\n",
    "                file_name\n",
    "                , avg(val_gold)/24.9 * 1000 * 1.5 / 2 as val_gold_mA\n",
    "                , avg(val_silver)/24.97 * 1000 as val_silver_mA\n",
    "            from \n",
    "                test.dat001\n",
    "            where\n",
    "                1=1\n",
    "                and part_id = '102 <1> (VDC)'\n",
    "            group by\n",
    "                file_name\n",
    "            order by \n",
    "                avg(val_gold)\n",
    "    \"\"\"\n",
    "    df = pd.read_sql(sql, connection)\n",
    "finally:\n",
    "    connection.close()"
   ]
  },
  {
   "cell_type": "code",
   "execution_count": 25,
   "metadata": {},
   "outputs": [
    {
     "data": {
      "text/html": [
       "<div>\n",
       "<style>\n",
       "    .dataframe thead tr:only-child th {\n",
       "        text-align: right;\n",
       "    }\n",
       "\n",
       "    .dataframe thead th {\n",
       "        text-align: left;\n",
       "    }\n",
       "\n",
       "    .dataframe tbody tr th {\n",
       "        vertical-align: top;\n",
       "    }\n",
       "</style>\n",
       "<table border=\"1\" class=\"dataframe\">\n",
       "  <thead>\n",
       "    <tr style=\"text-align: right;\">\n",
       "      <th></th>\n",
       "      <th>file_name</th>\n",
       "      <th>val_gold_mA</th>\n",
       "      <th>val_silver_mA</th>\n",
       "    </tr>\n",
       "  </thead>\n",
       "  <tbody>\n",
       "    <tr>\n",
       "      <th>0</th>\n",
       "      <td>0A.csv</td>\n",
       "      <td>-0.003282</td>\n",
       "      <td>-0.004572</td>\n",
       "    </tr>\n",
       "    <tr>\n",
       "      <th>1</th>\n",
       "      <td>10A.csv</td>\n",
       "      <td>5.081542</td>\n",
       "      <td>5.065402</td>\n",
       "    </tr>\n",
       "    <tr>\n",
       "      <th>2</th>\n",
       "      <td>20A.csv</td>\n",
       "      <td>10.090223</td>\n",
       "      <td>10.066816</td>\n",
       "    </tr>\n",
       "    <tr>\n",
       "      <th>3</th>\n",
       "      <td>30A.csv</td>\n",
       "      <td>15.091081</td>\n",
       "      <td>15.062108</td>\n",
       "    </tr>\n",
       "    <tr>\n",
       "      <th>4</th>\n",
       "      <td>40A.csv</td>\n",
       "      <td>20.102353</td>\n",
       "      <td>20.068033</td>\n",
       "    </tr>\n",
       "    <tr>\n",
       "      <th>5</th>\n",
       "      <td>50A.csv</td>\n",
       "      <td>25.106461</td>\n",
       "      <td>25.066875</td>\n",
       "    </tr>\n",
       "    <tr>\n",
       "      <th>6</th>\n",
       "      <td>60A.csv</td>\n",
       "      <td>30.109278</td>\n",
       "      <td>30.063342</td>\n",
       "    </tr>\n",
       "    <tr>\n",
       "      <th>7</th>\n",
       "      <td>70A.csv</td>\n",
       "      <td>35.118496</td>\n",
       "      <td>35.065144</td>\n",
       "    </tr>\n",
       "    <tr>\n",
       "      <th>8</th>\n",
       "      <td>80A.csv</td>\n",
       "      <td>40.122605</td>\n",
       "      <td>40.061975</td>\n",
       "    </tr>\n",
       "    <tr>\n",
       "      <th>9</th>\n",
       "      <td>90A.csv</td>\n",
       "      <td>45.125645</td>\n",
       "      <td>45.056082</td>\n",
       "    </tr>\n",
       "    <tr>\n",
       "      <th>10</th>\n",
       "      <td>100A.csv</td>\n",
       "      <td>50.136818</td>\n",
       "      <td>50.057072</td>\n",
       "    </tr>\n",
       "  </tbody>\n",
       "</table>\n",
       "</div>"
      ],
      "text/plain": [
       "   file_name  val_gold_mA  val_silver_mA\n",
       "0     0A.csv    -0.003282      -0.004572\n",
       "1    10A.csv     5.081542       5.065402\n",
       "2    20A.csv    10.090223      10.066816\n",
       "3    30A.csv    15.091081      15.062108\n",
       "4    40A.csv    20.102353      20.068033\n",
       "5    50A.csv    25.106461      25.066875\n",
       "6    60A.csv    30.109278      30.063342\n",
       "7    70A.csv    35.118496      35.065144\n",
       "8    80A.csv    40.122605      40.061975\n",
       "9    90A.csv    45.125645      45.056082\n",
       "10  100A.csv    50.136818      50.057072"
      ]
     },
     "execution_count": 25,
     "metadata": {},
     "output_type": "execute_result"
    }
   ],
   "source": [
    "df"
   ]
  },
  {
   "cell_type": "code",
   "execution_count": 26,
   "metadata": {
    "collapsed": true
   },
   "outputs": [],
   "source": [
    "X = df['val_gold_mA'].values.reshape(-1,1)\n",
    "y = df['val_silver_mA']"
   ]
  },
  {
   "cell_type": "code",
   "execution_count": 27,
   "metadata": {},
   "outputs": [
    {
     "data": {
      "text/plain": [
       "array([[ -3.28199800e-03],\n",
       "       [  5.08154169e+00],\n",
       "       [  1.00902226e+01],\n",
       "       [  1.50910815e+01],\n",
       "       [  2.01023525e+01],\n",
       "       [  2.51064608e+01],\n",
       "       [  3.01092784e+01],\n",
       "       [  3.51184960e+01],\n",
       "       [  4.01226045e+01],\n",
       "       [  4.51256448e+01],\n",
       "       [  5.01368182e+01]])"
      ]
     },
     "execution_count": 27,
     "metadata": {},
     "output_type": "execute_result"
    }
   ],
   "source": [
    "X"
   ]
  },
  {
   "cell_type": "code",
   "execution_count": 28,
   "metadata": {
    "collapsed": true
   },
   "outputs": [],
   "source": [
    "from sklearn.linear_model import LinearRegression\n",
    "model_simple_reg = LinearRegression()\n",
    "model_simple_reg.fit(X, y)\n",
    "pred_simple_reg = model_simple_reg.predict(X)"
   ]
  },
  {
   "cell_type": "code",
   "execution_count": 29,
   "metadata": {},
   "outputs": [
    {
     "name": "stdout",
     "output_type": "stream",
     "text": [
      "Simple linear model: y = 0.9985879523828103*x + -0.005736693188548969\n"
     ]
    }
   ],
   "source": [
    "print('Simple linear model: y = {}*x + {}'.format(model_simple_reg.coef_[0], model_simple_reg.intercept_))"
   ]
  },
  {
   "cell_type": "code",
   "execution_count": 30,
   "metadata": {},
   "outputs": [
    {
     "name": "stdout",
     "output_type": "stream",
     "text": [
      "Predicted values:\n"
     ]
    },
    {
     "data": {
      "text/plain": [
       "[-0.0090140568515637599,\n",
       " 5.0686296146328615,\n",
       " 10.070237991868524,\n",
       " 15.064035441511571,\n",
       " 20.068230330216206,\n",
       " 25.06527254242177,\n",
       " 30.061025980856712,\n",
       " 35.063170281452059,\n",
       " 40.060212792455218,\n",
       " 45.056188596057581,\n",
       " 50.06028595722843]"
      ]
     },
     "execution_count": 30,
     "metadata": {},
     "output_type": "execute_result"
    }
   ],
   "source": [
    "print('Predicted values:')\n",
    "list(pred_simple_reg)"
   ]
  },
  {
   "cell_type": "code",
   "execution_count": 31,
   "metadata": {},
   "outputs": [
    {
     "name": "stdout",
     "output_type": "stream",
     "text": [
      "denom: 50.1368182251\n"
     ]
    }
   ],
   "source": [
    "import numpy as np\n",
    "\n",
    "\n",
    "denom = np.max(X)\n",
    "print('denom:', denom)"
   ]
  },
  {
   "cell_type": "code",
   "execution_count": 32,
   "metadata": {},
   "outputs": [
    {
     "data": {
      "text/plain": [
       "0     0.000089\n",
       "1    -0.000064\n",
       "2    -0.000068\n",
       "3    -0.000038\n",
       "4    -0.000004\n",
       "5     0.000032\n",
       "6     0.000046\n",
       "7     0.000039\n",
       "8     0.000035\n",
       "9    -0.000002\n",
       "10   -0.000064\n",
       "Name: val_silver_mA, dtype: float64"
      ]
     },
     "execution_count": 32,
     "metadata": {},
     "output_type": "execute_result"
    }
   ],
   "source": [
    "residual_ratio_simple_reg = (y - pred_simple_reg) / denom\n",
    "residual_ratio_simple_reg"
   ]
  },
  {
   "cell_type": "code",
   "execution_count": 35,
   "metadata": {},
   "outputs": [
    {
     "data": {
      "image/png": "[encoded data removed]",
      "text/plain": [
       "<matplotlib.figure.Figure at 0x225ca35d080>"
      ]
     },
     "metadata": {},
     "output_type": "display_data"
    }
   ],
   "source": [
    "import matplotlib.pyplot as plt\n",
    "import matplotlib as mpl\n",
    "%matplotlib inline\n",
    "\n",
    "\n",
    "plt.style.use('ggplot')\n",
    "plt.rcParams[\"figure.figsize\"] = (11,7)\n",
    "plt.ylim(ymax=0.01, ymin=-0.01)\n",
    "plt_x = range(len(residual_ratio_simple_reg))\n",
    "plt.plot(list(X[:,0]), y - pred_simple_reg, label='Xy plot')\n",
    "plt.xlabel('X(102)')\n",
    "plt.ylabel('y(101)')\n",
    "plt.legend()\n",
    "plt.show()"
   ]
  },
  {
   "cell_type": "code",
   "execution_count": 36,
   "metadata": {
    "scrolled": false
   },
   "outputs": [
    {
     "data": {
      "image/png": "[encoded data removed]",
      "text/plain": [
       "<matplotlib.figure.Figure at 0x225ca301668>"
      ]
     },
     "metadata": {},
     "output_type": "display_data"
    }
   ],
   "source": [
    "import matplotlib.pyplot as plt\n",
    "import matplotlib as mpl\n",
    "%matplotlib inline\n",
    "\n",
    "plt.style.use('ggplot')\n",
    "plt.rcParams[\"figure.figsize\"] = (11,7)\n",
    "plt.ylim(ymax=0.0003, ymin=-0.0003)\n",
    "plt_x = range(len(residual_ratio_simple_reg))\n",
    "plt.plot(plt_x, residual_ratio_simple_reg, label = 'residual ratio plot')\n",
    "plt.xlabel('file #')\n",
    "plt.ylabel('redual ratio')\n",
    "plt.legend()\n",
    "plt.show()"
   ]
  },
  {
   "cell_type": "markdown",
   "metadata": {},
   "source": [
    "###### Model : Polynomial regression with average values"
   ]
  },
  {
   "cell_type": "code",
   "execution_count": 71,
   "metadata": {
    "collapsed": true
   },
   "outputs": [],
   "source": [
    "import pandas as pd\n",
    "\n",
    "connection = pymysql.connect(host=host_name,\n",
    "                             user=user_name,\n",
    "                             password=user_pwd,\n",
    "                             db=db_name,\n",
    "                             charset=charset,\n",
    "                             cursorclass=pymysql.cursors.DictCursor)\n",
    "\n",
    "try:\n",
    "    sql = \"\"\"\n",
    "            select\n",
    "                file_name\n",
    "                , avg(val_gold)/24.9 * 1000 * 1.5 / 2 as val_gold_mA\n",
    "                , avg(val_silver)/24.97 * 1000 as val_silver_mA\n",
    "            from \n",
    "                test.dat001\n",
    "            where\n",
    "                1=1\n",
    "                and part_id = '102 <1> (VDC)'\n",
    "            group by\n",
    "                file_name\n",
    "            order by \n",
    "                avg(val_gold)\n",
    "    \"\"\"\n",
    "    df = pd.read_sql(sql, connection)\n",
    "finally:\n",
    "    connection.close()"
   ]
  },
  {
   "cell_type": "code",
   "execution_count": 72,
   "metadata": {
    "collapsed": true
   },
   "outputs": [],
   "source": [
    "from sklearn.linear_model import LinearRegression\n",
    "from sklearn.preprocessing import PolynomialFeatures\n",
    "\n",
    "\n",
    "X = df['val_gold_mA'].values.reshape(-1,1)\n",
    "y = df['val_silver_mA']\n",
    "\n",
    "poly = PolynomialFeatures(degree=4)\n",
    "X_poly_reg = poly.fit_transform(X)\n",
    "\n",
    "model_poly_reg = LinearRegression()\n",
    "model_poly_reg.fit(X_poly_reg, y)\n",
    "pred_poly_reg = model_poly_reg.predict(X_poly_reg)"
   ]
  },
  {
   "cell_type": "code",
   "execution_count": 73,
   "metadata": {},
   "outputs": [
    {
     "data": {
      "text/plain": [
       "0     9.436848e-06\n",
       "1    -2.199556e-05\n",
       "2     3.892264e-06\n",
       "3     1.241991e-05\n",
       "4     4.834621e-06\n",
       "5     6.478257e-07\n",
       "6    -8.223724e-06\n",
       "7    -1.375044e-05\n",
       "8     7.555457e-06\n",
       "9     1.214114e-05\n",
       "10   -6.958349e-06\n",
       "Name: val_silver_mA, dtype: float64"
      ]
     },
     "execution_count": 73,
     "metadata": {},
     "output_type": "execute_result"
    }
   ],
   "source": [
    "residual_ratio_poly_reg = (y - pred_poly_reg) / denom\n",
    "residual_ratio_poly_reg"
   ]
  },
  {
   "cell_type": "code",
   "execution_count": 74,
   "metadata": {},
   "outputs": [
    {
     "data": {
      "image/png": "[encoded data removed]",
      "text/plain": [
       "<matplotlib.figure.Figure at 0x225ca7a2518>"
      ]
     },
     "metadata": {},
     "output_type": "display_data"
    }
   ],
   "source": [
    "import matplotlib.pyplot as plt\n",
    "import matplotlib as mpl\n",
    "%matplotlib inline\n",
    "\n",
    "\n",
    "plt.style.use('ggplot')\n",
    "plt.rcParams[\"figure.figsize\"] = (11,7)\n",
    "plt.ylim(ymax=0.01, ymin=-0.01)\n",
    "plt_x = range(len(residual_ratio_poly_reg))\n",
    "plt.plot(list(X[:,0]), y - pred_poly_reg, label='Xy plot')\n",
    "plt.xlabel('X(102)')\n",
    "plt.ylabel('y(101)')\n",
    "plt.legend()\n",
    "plt.show()"
   ]
  },
  {
   "cell_type": "code",
   "execution_count": 75,
   "metadata": {
    "scrolled": false
   },
   "outputs": [
    {
     "data": {
      "image/png": "[encoded data removed]",
      "text/plain": [
       "<matplotlib.figure.Figure at 0x225ca364470>"
      ]
     },
     "metadata": {},
     "output_type": "display_data"
    }
   ],
   "source": [
    "import matplotlib.pyplot as plt\n",
    "import matplotlib as mpl\n",
    "%matplotlib inline\n",
    "\n",
    "plt.style.use('ggplot')\n",
    "plt.rcParams[\"figure.figsize\"] = (11,7)\n",
    "plt.ylim(ymax=0.0003, ymin=-0.0003)\n",
    "plt_x = range(len(residual_ratio))\n",
    "plt.plot(plt_x, residual_ratio, label = '102 vs poly reg line')\n",
    "plt.xlabel('file #')\n",
    "plt.ylabel('redual ratio')\n",
    "plt.legend()\n",
    "plt.show()"
   ]
  },
  {
   "cell_type": "markdown",
   "metadata": {},
   "source": [
    "###### Model : Simple linear regression with actual values"
   ]
  },
  {
   "cell_type": "code",
   "execution_count": 136,
   "metadata": {
    "collapsed": true
   },
   "outputs": [],
   "source": [
    "import pymysql\n",
    "import pandas as pd\n",
    "\n",
    "\n",
    "table_name = 'dat001'\n",
    "host_name = 'localhost'\n",
    "user_name = 'root'\n",
    "user_pwd = '1'\n",
    "db_name = 'test'\n",
    "charset = 'utf8mb4'\n",
    "\n",
    "connection = pymysql.connect(host=host_name,\n",
    "                             user=user_name,\n",
    "                             password=user_pwd,\n",
    "                             db=db_name,\n",
    "                             charset=charset,\n",
    "                             cursorclass=pymysql.cursors.DictCursor)\n",
    "\n",
    "try:\n",
    "    sql = \"\"\"select\n",
    "                val_gold / 24.9 * 1000 * 1.5 / 2 as val_gold_mA\n",
    "                , val_silver /24.97 * 1000 as val_silver_mA\n",
    "            from \n",
    "                test.dat001\n",
    "            where\n",
    "                1=1\n",
    "                and part_id = '102 <1> (VDC)'\n",
    "                \"\"\"\n",
    "    df = pd.read_sql(sql, connection)\n",
    "finally:\n",
    "    connection.close()"
   ]
  },
  {
   "cell_type": "code",
   "execution_count": 137,
   "metadata": {
    "collapsed": true
   },
   "outputs": [],
   "source": [
    "from sklearn.linear_model import LinearRegression\n",
    "from sklearn.preprocessing import PolynomialFeatures\n",
    "from sklearn.model_selection import train_test_split\n",
    "from sklearn.preprocessing import StandardScaler\n",
    "\n",
    "\n",
    "test_data_ratio = 0.3\n",
    "random_seed = 1004\n",
    "\n",
    "X = df['val_gold_mA'].values.reshape(-1,1)\n",
    "y = df['val_silver_mA']\n",
    "\n",
    "X_train, X_test, y_train, y_test = train_test_split(X, y, test_size=test_data_ratio, random_state=random_seed)\n",
    "\n",
    "stdsc = StandardScaler()\n",
    "X_train_std = stdsc.fit_transform(X_train)\n",
    "X_test_std = stdsc.transform(X_test)\n",
    "\n",
    "model__simple_reg__act = LinearRegression()\n",
    "model__simple_reg__act.fit(X_train_std, y_train)\n",
    "\n",
    "pred__simple_reg__act__train = model__simple_reg__act.predict(X_train_std)\n",
    "pred__simple_reg__act__test = model__simple_reg__act.predict(X_test_std)"
   ]
  },
  {
   "cell_type": "code",
   "execution_count": 138,
   "metadata": {
    "collapsed": true
   },
   "outputs": [],
   "source": [
    "residual_ratio__simple_reg__act__train = (y_train - pred__simple_reg__act__train) / denom\n",
    "residual_ratio__simple_reg__act__test = (y_test - pred__simple_reg__act__test) / denom"
   ]
  },
  {
   "cell_type": "code",
   "execution_count": 139,
   "metadata": {},
   "outputs": [
    {
     "data": {
      "image/png": "[encoded data removed]",
      "text/plain": [
       "<matplotlib.figure.Figure at 0x225cbe5e400>"
      ]
     },
     "metadata": {},
     "output_type": "display_data"
    }
   ],
   "source": [
    "import matplotlib.pyplot as plt\n",
    "import matplotlib as mpl\n",
    "%matplotlib inline\n",
    "\n",
    "\n",
    "plt.style.use('ggplot')\n",
    "plt.rcParams[\"figure.figsize\"] = (11,7)\n",
    "plt.ylim(ymax=0.01, ymin=-0.01)\n",
    "plt.plot(list(X_train[:,0]), y_train - pred__simple_reg__act__train, 'o', label='Xy plot with train data')\n",
    "plt.plot(list(X_test[:,0] + 0.5), y_test - pred__simple_reg__act__test, 'o', label='Xy plot with test data')\n",
    "plt.xlabel('X(102)')\n",
    "plt.ylabel('y(101)')\n",
    "plt.legend()\n",
    "plt.show()"
   ]
  },
  {
   "cell_type": "markdown",
   "metadata": {},
   "source": [
    "###### Model : Polynomial regression with actual values"
   ]
  },
  {
   "cell_type": "code",
   "execution_count": 140,
   "metadata": {
    "collapsed": true
   },
   "outputs": [],
   "source": [
    "import pymysql\n",
    "import pandas as pd\n",
    "\n",
    "\n",
    "table_name = 'dat001'\n",
    "host_name = 'localhost'\n",
    "user_name = 'root'\n",
    "user_pwd = '1'\n",
    "db_name = 'test'\n",
    "charset = 'utf8mb4'\n",
    "\n",
    "connection = pymysql.connect(host=host_name,\n",
    "                             user=user_name,\n",
    "                             password=user_pwd,\n",
    "                             db=db_name,\n",
    "                             charset=charset,\n",
    "                             cursorclass=pymysql.cursors.DictCursor)\n",
    "\n",
    "try:\n",
    "    sql = \"\"\"select\n",
    "                val_gold / 24.9 * 1000 * 1.5 / 2 as val_gold_mA\n",
    "                , val_silver /24.97 * 1000 as val_silver_mA\n",
    "            from \n",
    "                test.dat001\n",
    "            where\n",
    "                1=1\n",
    "                and part_id = '102 <1> (VDC)'\n",
    "                \"\"\"\n",
    "    df = pd.read_sql(sql, connection)\n",
    "finally:\n",
    "    connection.close()"
   ]
  },
  {
   "cell_type": "code",
   "execution_count": 163,
   "metadata": {
    "collapsed": true
   },
   "outputs": [],
   "source": [
    "from sklearn.linear_model import LinearRegression\n",
    "from sklearn.preprocessing import PolynomialFeatures\n",
    "from sklearn.model_selection import train_test_split\n",
    "from sklearn.preprocessing import StandardScaler\n",
    "\n",
    "\n",
    "test_data_ratio = 0.3\n",
    "random_seed = 1004\n",
    "\n",
    "X = df['val_gold_mA'].values.reshape(-1,1)\n",
    "y = df['val_silver_mA']\n",
    "\n",
    "X_train, X_test, y_train, y_test = train_test_split(X, y, test_size=test_data_ratio, random_state=random_seed)\n",
    "\n",
    "stdsc = StandardScaler()\n",
    "X_train_std = stdsc.fit_transform(X_train)\n",
    "X_test_std = stdsc.transform(X_test)\n",
    "\n",
    "poly = PolynomialFeatures(degree=5)\n",
    "X__train_std__poly_reg = poly.fit_transform(X_train_std)\n",
    "X__test_std__poly_reg = poly.fit_transform(X_test_std)\n",
    "\n",
    "model_poly_reg_act = LinearRegression()\n",
    "model_poly_reg_act.fit(X__train_std__poly_reg, y_train)\n",
    "\n",
    "pred__poly_reg__act__train = model_poly_reg_act.predict(X__train_std__poly_reg)\n",
    "pred__poly_reg__act__test = model_poly_reg_act.predict(X__test_std__poly_reg)"
   ]
  },
  {
   "cell_type": "code",
   "execution_count": 164,
   "metadata": {
    "collapsed": true
   },
   "outputs": [],
   "source": [
    "residual_ratio__poly_reg__act__train = (y_train - pred__poly_reg__act__train) / denom\n",
    "residual_ratio__poly_reg__act__test = (y_test - pred__poly_reg__act__test) / denom"
   ]
  },
  {
   "cell_type": "code",
   "execution_count": 165,
   "metadata": {
    "collapsed": true
   },
   "outputs": [],
   "source": [
    "# working on"
   ]
  },
  {
   "cell_type": "code",
   "execution_count": 166,
   "metadata": {},
   "outputs": [
    {
     "data": {
      "image/png": "[encoded data removed]",
      "text/plain": [
       "<matplotlib.figure.Figure at 0x225c855c160>"
      ]
     },
     "metadata": {},
     "output_type": "display_data"
    }
   ],
   "source": [
    "import matplotlib.pyplot as plt\n",
    "import matplotlib as mpl\n",
    "%matplotlib inline\n",
    "\n",
    "\n",
    "plt.style.use('ggplot')\n",
    "plt.rcParams[\"figure.figsize\"] = (11,7)\n",
    "plt.ylim(ymax=0.01, ymin=-0.01)\n",
    "plt.plot(list(X_train[:,0]), y_train - pred__poly_reg__act__train, 'o', label='Xy plot with train data')\n",
    "plt.plot(list(X_test[:,0] + 0.5), y_test - pred__poly_reg__act__test, 'o', label='Xy plot with test data')\n",
    "plt.xlabel('X(102)')\n",
    "plt.ylabel('y(101)')\n",
    "plt.legend()\n",
    "plt.show()"
   ]
  },
  {
   "cell_type": "code",
   "execution_count": 167,
   "metadata": {},
   "outputs": [
    {
     "data": {
      "image/png": "[encoded data removed]",
      "text/plain": [
       "<matplotlib.figure.Figure at 0x225cac48128>"
      ]
     },
     "metadata": {},
     "output_type": "display_data"
    }
   ],
   "source": [
    "import matplotlib.pyplot as plt\n",
    "import matplotlib as mpl\n",
    "%matplotlib inline\n",
    "\n",
    "\n",
    "plt.style.use('ggplot')\n",
    "plt.rcParams[\"figure.figsize\"] = (11,7)\n",
    "plt.ylim(ymax=0.0003, ymin=-0.0003)\n",
    "plt.plot(list(X_train[:,0]), residual_ratio__poly_reg__act__train, 'o', label='Xy plot with train data')\n",
    "plt.plot(list(X_test[:,0] + 0.5), residual_ratio__poly_reg__act__test, 'o', label='Xy plot with test data')\n",
    "plt.xlabel('X(102)')\n",
    "plt.ylabel('y(101)')\n",
    "plt.legend()\n",
    "plt.show()"
   ]
  },
  {
   "cell_type": "markdown",
   "metadata": {},
   "source": [
    "###### Model : Random Forest Regression"
   ]
  },
  {
   "cell_type": "code",
   "execution_count": 51,
   "metadata": {
    "collapsed": true
   },
   "outputs": [],
   "source": [
    "import pymysql\n",
    "import pandas as pd\n",
    "\n",
    "\n",
    "table_name = 'dat001'\n",
    "host_name = 'localhost'\n",
    "user_name = 'root'\n",
    "user_pwd = '1'\n",
    "db_name = 'test'\n",
    "charset = 'utf8mb4'\n",
    "\n",
    "connection = pymysql.connect(host=host_name,\n",
    "                             user=user_name,\n",
    "                             password=user_pwd,\n",
    "                             db=db_name,\n",
    "                             charset=charset,\n",
    "                             cursorclass=pymysql.cursors.DictCursor)\n",
    "\n",
    "try:\n",
    "    sql = \"SELECT val_gold, val_silver FROM `dat001`\"\n",
    "    df = pd.read_sql(sql, connection)\n",
    "finally:\n",
    "    connection.close()"
   ]
  },
  {
   "cell_type": "code",
   "execution_count": 52,
   "metadata": {
    "collapsed": true
   },
   "outputs": [],
   "source": [
    "from sklearn.model_selection import train_test_split\n",
    "from sklearn.preprocessing import StandardScaler\n",
    "\n",
    "\n",
    "test_data_ratio = 0.7\n",
    "random_seed = 1004\n",
    "\n",
    "X = df['val_gold'].values.reshape(-1,1)\n",
    "y = df['val_silver']\n",
    "\n",
    "X_train, X_test, y_train, y_test = train_test_split(X, y, test_size=test_data_ratio, random_state=random_seed)\n",
    "\n",
    "stdsc = StandardScaler()\n",
    "X_train_std = stdsc.fit_transform(X_train)\n",
    "X_test_std = stdsc.transform(X_test)\n"
   ]
  },
  {
   "cell_type": "code",
   "execution_count": 58,
   "metadata": {
    "collapsed": true
   },
   "outputs": [],
   "source": [
    "from sklearn.linear_model import LinearRegression\n",
    "\n",
    "model_simple_reg_mod = LinearRegression()\n",
    "model_simple_reg_mod.fit(X_train, y_train)\n",
    "pred_simple_reg_mod = model_simple_reg_mod.predict(X_train)"
   ]
  },
  {
   "cell_type": "code",
   "execution_count": 53,
   "metadata": {},
   "outputs": [
    {
     "data": {
      "text/plain": [
       "RandomForestRegressor(bootstrap=True, criterion='mse', max_depth=None,\n",
       "           max_features='auto', max_leaf_nodes=None,\n",
       "           min_impurity_split=1e-07, min_samples_leaf=1,\n",
       "           min_samples_split=2, min_weight_fraction_leaf=0.0,\n",
       "           n_estimators=10, n_jobs=1, oob_score=False, random_state=1004,\n",
       "           verbose=0, warm_start=False)"
      ]
     },
     "execution_count": 53,
     "metadata": {},
     "output_type": "execute_result"
    }
   ],
   "source": [
    "from sklearn.ensemble import RandomForestRegressor\n",
    "from sklearn.metrics import r2_score, explained_variance_score, accuracy_score, f1_score\n",
    "\n",
    "model_rfr = RandomForestRegressor(n_estimators=10, random_state=1004)\n",
    "model_rfr.fit(X_train_std, y_train)"
   ]
  },
  {
   "cell_type": "code",
   "execution_count": 54,
   "metadata": {
    "collapsed": true
   },
   "outputs": [],
   "source": [
    "pred_rfr = model_rfr.predict(X_test_std)"
   ]
  },
  {
   "cell_type": "code",
   "execution_count": 64,
   "metadata": {},
   "outputs": [
    {
     "data": {
      "image/png": "[encoded data removed]",
      "text/plain": [
       "<matplotlib.figure.Figure at 0x225cbe2af98>"
      ]
     },
     "metadata": {},
     "output_type": "display_data"
    }
   ],
   "source": [
    "import matplotlib.pyplot as plt\n",
    "import matplotlib as mpl\n",
    "%matplotlib inline\n",
    "\n",
    "\n",
    "plt.style.use('ggplot')\n",
    "plt.rcParams[\"figure.figsize\"] = (11,7)\n",
    "# plt.ylim(ymax=0.01, ymin=-0.01)\n",
    "plt.plot(list(X_train[:,0]), y_train - pred_simple_reg_mod, 'o', label='Xy plot')\n",
    "plt.xlabel('X(102)')\n",
    "plt.ylabel('y(101)')\n",
    "plt.legend()\n",
    "plt.show()"
   ]
  },
  {
   "cell_type": "code",
   "execution_count": 66,
   "metadata": {
    "scrolled": false
   },
   "outputs": [
    {
     "data": {
      "image/png": "[encoded data removed]",
      "text/plain": [
       "<matplotlib.figure.Figure at 0x225ca9cf748>"
      ]
     },
     "metadata": {},
     "output_type": "display_data"
    }
   ],
   "source": [
    "import matplotlib.pyplot as plt\n",
    "import matplotlib as mpl\n",
    "%matplotlib inline\n",
    "\n",
    "\n",
    "plt.style.use('ggplot')\n",
    "plt.rcParams[\"figure.figsize\"] = (11,7)\n",
    "# plt.ylim(ymax=0.01, ymin=-0.01)\n",
    "plt.plot(list(X_train[:,0]), y_train - model_rfr.predict(X_train_std), 'o', label='Xy plot')\n",
    "plt.xlabel('X(102)')\n",
    "plt.ylabel('y(101)')\n",
    "plt.legend()\n",
    "plt.show()"
   ]
  },
  {
   "cell_type": "code",
   "execution_count": 46,
   "metadata": {},
   "outputs": [
    {
     "name": "stdout",
     "output_type": "stream",
     "text": [
      "Regressor R-Squared: 1.0000\n",
      "Regressor Explained variance: 1.0000\n"
     ]
    }
   ],
   "source": [
    "print('Regressor R-Squared: {:.4f}'.format(r2_score(y_test, pred_rfr)))\n",
    "print('Regressor Explained variance: {:.4f}'.format(explained_variance_score(y_test, pred_rfr)))"
   ]
  },
  {
   "cell_type": "markdown",
   "metadata": {},
   "source": [
    "###### model evaluation?"
   ]
  },
  {
   "cell_type": "code",
   "execution_count": 48,
   "metadata": {},
   "outputs": [
    {
     "data": {
      "image/png": "[encoded data removed]",
      "text/plain": [
       "<matplotlib.figure.Figure at 0x225ca3369e8>"
      ]
     },
     "metadata": {},
     "output_type": "display_data"
    }
   ],
   "source": [
    "from yellowbrick.regressor.residuals import ResidualsPlot\n",
    "\n",
    "\n",
    "rp = ResidualsPlot(model_rfr)\n",
    "rp.fit(X_train_std, y_train)  # Fit the training data to the visualizer\n",
    "rp.score(X_test_std, y_test)  # Evaluate the model on the test data\n",
    "rp.poof()             # Draw/show/poof the data"
   ]
  },
  {
   "cell_type": "code",
   "execution_count": 50,
   "metadata": {},
   "outputs": [
    {
     "data": {
      "image/png": "[encoded data removed]",
      "text/plain": [
       "<matplotlib.figure.Figure at 0x225ca516160>"
      ]
     },
     "metadata": {},
     "output_type": "display_data"
    }
   ],
   "source": [
    "from yellowbrick.regressor.residuals import PredictionError\n",
    "\n",
    "pe = PredictionError(model_rfr)\n",
    "pe.fit(X_train, y_train)  # Fit the training data to the visualizer\n",
    "pe.score(X_test, y_test)  # Evaluate the model on the test data\n",
    "pe.poof()             # Draw/show/poof the data"
   ]
  },
  {
   "cell_type": "code",
   "execution_count": null,
   "metadata": {
    "collapsed": true
   },
   "outputs": [],
   "source": []
  }
 ],
 "metadata": {
  "kernelspec": {
   "display_name": "Python 3",
   "language": "python",
   "name": "python3"
  },
  "language_info": {
   "codemirror_mode": {
    "name": "ipython",
    "version": 3
   },
   "file_extension": ".py",
   "mimetype": "text/x-python",
   "name": "python",
   "nbconvert_exporter": "python",
   "pygments_lexer": "ipython3",
   "version": "3.6.1"
  }
 },
 "nbformat": 4,
 "nbformat_minor": 2
}
