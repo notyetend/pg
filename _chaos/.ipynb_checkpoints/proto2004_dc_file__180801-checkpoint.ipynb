{
 "cells": [
  {
   "cell_type": "markdown",
   "metadata": {},
   "source": [
    "> IDEAS\n",
    "- 맵을 저장하는 데이터 형태를 어떻게 할 것인가? \n",
    " - x, y쌍을 맵으로 놓고 사잇값에 대해서는 내적으로 계산하는 접근\n",
    " - piecewise linear형태로 구간별 선형 모형 설계\n",
    "- 오차를 줄이는 방법은? \n",
    " - 오차분석 필요\n",
    " - polynomial regression의 오차 특성은? 양 극단에서 오차가 커지는 이유는? 이를 커버하는 방법은?\n",
    "- chart는 어떤걸 그리나? \n",
    " - 잔차 plot(time-step)\n",
    " - 잔차 크기에 따른 빈도\n",
    " - U, W, V - timestep plot\n",
    " - p104, X크기에 따른 잔차 plot\n",
    "\n",
    "\n",
    "> TODO\n",
    "- 우선 맵 및 공식 전달"
   ]
  },
  {
   "cell_type": "markdown",
   "metadata": {},
   "source": [
    "###### preparing input data"
   ]
  },
  {
   "cell_type": "code",
   "execution_count": 1,
   "metadata": {},
   "outputs": [],
   "source": [
    "import os\n",
    "import numpy as np\n",
    "\n",
    "os.getcwd()\n",
    "os.chdir(r'C:\\My\\x2\\180801')\n",
    "os.getcwd()\n",
    "\n",
    "file_name = '180801-800~0~800A DATA(UVW상)1.xlsx'\n",
    "file_name = '180801-800~0~800A DATA(UVW상)3.xlsx'\n",
    "file_name = '180801-800~0~800A DATA(UVW상)4.xlsx'\n",
    "file_name = '180801-800~0~800A DATA(UVW상)5.xlsx'\n",
    "sheet_name = 'Sheet1'\n",
    "\n",
    "cell_range_list = [('B' + str(5+i*23), 'F' + str(5+i*23+19)) for i in range(17)] + \\\n",
    "[('J' + str(5+i*23), 'N' + str(5+i*23+19)) for i in range(17)]"
   ]
  },
  {
   "cell_type": "code",
   "execution_count": 2,
   "metadata": {},
   "outputs": [],
   "source": [
    "def load_cells(file_name: str, sheet_name: str, cell_range: tuple):\n",
    "    from openpyxl import load_workbook\n",
    "    import pandas as pd\n",
    "\n",
    "    wb = load_workbook(filename=file_name, read_only=True)\n",
    "    ws = wb[sheet_name]\n",
    "\n",
    "    # Read the cell values into a list of lists\n",
    "    data_rows = []\n",
    "    for row in ws[cell_range[0]:cell_range[1]]:\n",
    "        data_cols = []\n",
    "        for cell in row:\n",
    "            data_cols.append(cell.value)\n",
    "        data_rows.append(data_cols)\n",
    "\n",
    "    # Transform into dataframe\n",
    "    \n",
    "    df = pd.DataFrame(data_rows)\n",
    "    df.columns = ['reg_date', 'G', 'U', 'V', 'W']\n",
    "    return df"
   ]
  },
  {
   "cell_type": "code",
   "execution_count": 3,
   "metadata": {},
   "outputs": [],
   "source": [
    "def load_cells_many(file_name: str, sheet_name: str, cell_range_list: list):\n",
    "    import pandas as pd\n",
    "    \n",
    "    df_list = []\n",
    "    for cell_range in cell_range_list:\n",
    "        df_list.append(load_cells(file_name, sheet_name, cell_range))\n",
    "        \n",
    "    return pd.concat(df_list, ignore_index=True)"
   ]
  },
  {
   "cell_type": "code",
   "execution_count": 4,
   "metadata": {},
   "outputs": [],
   "source": [
    "df = load_cells_many(file_name, sheet_name, cell_range_list)\n",
    "df['Order'] = np.floor(df['G'] * 10)\n",
    "df = df.sort_values(['Order']).reset_index(drop=True)"
   ]
  },
  {
   "cell_type": "markdown",
   "metadata": {},
   "source": [
    "###### Tools"
   ]
  },
  {
   "cell_type": "code",
   "execution_count": 6,
   "metadata": {},
   "outputs": [],
   "source": [
    "from sklearn import metrics\n",
    "'''\n",
    "metrics.explained_variance_score\n",
    "metrics.mean_absolute_error\n",
    "metrics.mean_squared_error\n",
    "metrics.mean_squared_log_error\n",
    "metrics.median_absolute_error\n",
    "metrics.r2_score\n",
    "'''\n",
    "\n",
    "def print_metrics(actual, pred):\n",
    "    actual = np.array(actual) if isinstance(actual, list) else actual\n",
    "    pred = np.array(pred) if isinstance(pred, list) else pred\n",
    "\n",
    "    actual = actual.reshape(-1, 1) if len(actual.shape) == 1 else actual\n",
    "    pred = pred.reshape(-1, 1) if len(pred.shape) == 1 else pred\n",
    "    \n",
    "    evs = metrics.explained_variance_score(actual, pred)\n",
    "    mse = metrics.mean_squared_error(actual, pred)\n",
    "    mse_ppm = mse * 1e6 / 800 / 300\n",
    "    mae = metrics.mean_absolute_error(actual, pred)\n",
    "    mae_ppm = mae * 1e6 / 800 / 300\n",
    "    r2 = metrics.r2_score(actual, pred)\n",
    "    max_abs_err = float(np.max(np.abs(actual - pred)))\n",
    "    \n",
    "    print('MSE:     :', mse)\n",
    "    print('MSE ppm  :', mse_ppm)\n",
    "    print('MAE:     :', mae)\n",
    "    print('MAE ppm  :', mae_ppm)\n",
    "    print('Max er   :', max_abs_err)\n",
    "    print('EVS:     :', mae)\n",
    "    print('R2 score :', r2)\n",
    "    "
   ]
  },
  {
   "cell_type": "code",
   "execution_count": 7,
   "metadata": {
    "scrolled": true
   },
   "outputs": [
    {
     "name": "stdout",
     "output_type": "stream",
     "text": [
      "MSE:     : 0.006666666666666678\n",
      "MSE ppm  : 0.02777777777777783\n",
      "MAE:     : 0.06666666666666672\n",
      "MAE ppm  : 0.277777777777778\n",
      "Max er   : 0.10000000000000009\n",
      "EVS:     : 0.06666666666666672\n",
      "R2 score : 0.99\n"
     ]
    }
   ],
   "source": [
    "print_metrics([1, 2, 3], [1.1, 1.9, 3])"
   ]
  },
  {
   "cell_type": "markdown",
   "metadata": {},
   "source": [
    "### model - poly reg"
   ]
  },
  {
   "cell_type": "code",
   "execution_count": 8,
   "metadata": {
    "scrolled": true
   },
   "outputs": [],
   "source": [
    "from sklearn.linear_model import LinearRegression\n",
    "from sklearn.preprocessing import PolynomialFeatures\n",
    "from sklearn.metrics import mean_squared_error\n",
    "from sklearn.model_selection import train_test_split\n",
    "\n",
    "\n",
    "dataset_X = df[['V']]\n",
    "dataset_y = ((df[['G']] / 5 * 1500) / 400) + 2.5"
   ]
  },
  {
   "cell_type": "code",
   "execution_count": 10,
   "metadata": {},
   "outputs": [],
   "source": [
    "training_set_X, test_set_X, training_set_y, test_set_y = train_test_split(dataset_X, dataset_y, test_size=0.33, random_state=42, shuffle=True)"
   ]
  },
  {
   "cell_type": "markdown",
   "metadata": {},
   "source": [
    "###### plot training set"
   ]
  },
  {
   "cell_type": "code",
   "execution_count": 11,
   "metadata": {},
   "outputs": [
    {
     "data": {
      "image/png": "[encoded data removed]",
      "text/plain": [
       "<matplotlib.figure.Figure at 0x1ea5aad22e8>"
      ]
     },
     "metadata": {},
     "output_type": "display_data"
    }
   ],
   "source": [
    "import matplotlib.pyplot as plt\n",
    "import matplotlib as mpl\n",
    "%matplotlib inline\n",
    "\n",
    "\n",
    "plt.style.use('ggplot')\n",
    "plt.rcParams[\"figure.figsize\"] = (25,7)\n",
    "# plt_x = range(len(training_set_X))\n",
    "plt_x = training_set_X.sort_index().index\n",
    "plt.plot(plt_x, (training_set_y.sort_index()), label='Xy plot')\n",
    "plt.xlabel('X(102)')\n",
    "plt.ylabel('y(101)')\n",
    "plt.legend()\n",
    "plt.show()\n"
   ]
  },
  {
   "cell_type": "markdown",
   "metadata": {},
   "source": [
    "###### Ordinary Least Squares"
   ]
  },
  {
   "cell_type": "code",
   "execution_count": 12,
   "metadata": {},
   "outputs": [
    {
     "data": {
      "image/png": "[encoded data removed]",
      "text/plain": [
       "<matplotlib.figure.Figure at 0x1ea5aea1c88>"
      ]
     },
     "metadata": {},
     "output_type": "display_data"
    },
    {
     "name": "stdout",
     "output_type": "stream",
     "text": [
      "MSE:     : 1.6459878464753548e-06\n",
      "MSE ppm  : 6.858282693647312e-06\n",
      "MAE:     : 0.0010207892287095483\n",
      "MAE ppm  : 0.004253288452956451\n",
      "Max er   : 0.003919113048102663\n",
      "EVS:     : 0.0010207892287095483\n",
      "R2 score : 0.9999988678383216\n"
     ]
    }
   ],
   "source": [
    "from sklearn import linear_model\n",
    "from sklearn.preprocessing import PolynomialFeatures\n",
    "from sklearn.metrics import mean_squared_error\n",
    "import matplotlib.pyplot as plt\n",
    "import matplotlib as mpl\n",
    "%matplotlib inline\n",
    "\n",
    "\n",
    "poly = PolynomialFeatures(degree=10)\n",
    "training_set_X_poly_reg = poly.fit_transform(training_set_X)\n",
    "test_set_X_poly_reg = poly.fit_transform(test_set_X.sort_index())  # sorted by index\n",
    "\n",
    "model_poly_reg = linear_model.LinearRegression(normalize=True)\n",
    "model_poly_reg.fit(training_set_X_poly_reg, training_set_y)\n",
    "test_set_pred_poly_reg = model_poly_reg.predict(test_set_X_poly_reg)\n",
    "\n",
    "plt.style.use('ggplot')\n",
    "plt.rcParams[\"figure.figsize\"] = (25,7)\n",
    "plt.ylim(ymax=.005, ymin=-.005)\n",
    "# plt_x = range(len(test_set_X))\n",
    "plt_x = test_set_X.sort_index().index\n",
    "plt.plot(plt_x\n",
    "         , (test_set_y.sort_index() - test_set_pred_poly_reg)\n",
    "         , label='Xy plot'\n",
    "         , linestyle='None'\n",
    "         , marker='o')\n",
    "plt.xlabel('X(102)')\n",
    "plt.ylabel('y(101)')\n",
    "plt.legend()\n",
    "plt.show()\n",
    "\n",
    "print_metrics(test_set_y.sort_index(), test_set_pred_poly_reg)"
   ]
  },
  {
   "cell_type": "markdown",
   "metadata": {},
   "source": [
    "###### plot - test set"
   ]
  },
  {
   "cell_type": "code",
   "execution_count": 13,
   "metadata": {
    "scrolled": true
   },
   "outputs": [
    {
     "data": {
      "image/png": "[encoded data removed]",
      "text/plain": [
       "<matplotlib.figure.Figure at 0x1ea5aad29b0>"
      ]
     },
     "metadata": {},
     "output_type": "display_data"
    }
   ],
   "source": [
    "import matplotlib.pyplot as plt\n",
    "import matplotlib as mpl\n",
    "%matplotlib inline\n",
    "\n",
    "\n",
    "plt.style.use('ggplot')\n",
    "plt.rcParams[\"figure.figsize\"] = (25,7)\n",
    "# plt_x = range(len(training_set_X))\n",
    "plt_x = test_set_X.sort_index().index\n",
    "plt.plot(plt_x, (test_set_y.sort_index()), label='Xy plot')\n",
    "plt.xlabel('X(102)')\n",
    "plt.ylabel('y(101)')\n",
    "plt.legend()\n",
    "plt.show()\n"
   ]
  },
  {
   "cell_type": "markdown",
   "metadata": {},
   "source": [
    "- expected gold error: 1ppm = 800 / 1000000 = 0.0008\n",
    "- normal silver error: 1% = 800 / 100 = 8"
   ]
  },
  {
   "cell_type": "code",
   "execution_count": 14,
   "metadata": {
    "scrolled": true
   },
   "outputs": [
    {
     "data": {
      "text/plain": [
       "(0.560389, 4.511796)"
      ]
     },
     "execution_count": 14,
     "metadata": {},
     "output_type": "execute_result"
    }
   ],
   "source": [
    "np.min(df['U']), np.max(df['U'])"
   ]
  },
  {
   "cell_type": "markdown",
   "metadata": {},
   "source": [
    "### grid"
   ]
  },
  {
   "cell_type": "code",
   "execution_count": 15,
   "metadata": {},
   "outputs": [],
   "source": [
    "spacing = 0.005\n",
    "\n",
    "grid_x_start = 0.5\n",
    "grid_x_end = 4.5 + spacing"
   ]
  },
  {
   "cell_type": "code",
   "execution_count": 16,
   "metadata": {},
   "outputs": [],
   "source": [
    "# num_slice = 1000\n",
    "# grid_x_val, spacing = np.linspace(start=grid_x_start, stop=grid_x_end, num=num_slice, endpoint=True, retstep=True)"
   ]
  },
  {
   "cell_type": "code",
   "execution_count": 17,
   "metadata": {},
   "outputs": [],
   "source": [
    "grid_x_val = np.arange(start=grid_x_start\n",
    "                   , stop=grid_x_end\n",
    "                   , step=spacing)"
   ]
  },
  {
   "cell_type": "code",
   "execution_count": 21,
   "metadata": {},
   "outputs": [],
   "source": [
    "grid_x_val_poly_reg = poly.fit_transform(grid_x_val.reshape(-1, 1))\n",
    "grid_y_val_poly_reg_pred = model_poly_reg.predict(grid_x_val_poly_reg)"
   ]
  },
  {
   "cell_type": "code",
   "execution_count": 22,
   "metadata": {},
   "outputs": [
    {
     "data": {
      "text/plain": [
       "(524, 525, 0.21999999999958075, 0.7800000000004192)"
      ]
     },
     "execution_count": 22,
     "metadata": {},
     "output_type": "execute_result"
    }
   ],
   "source": [
    "def get_bound(grid_x_val, input_x):\n",
    "    for i in range(len(grid_x_val)-1):\n",
    "        if grid_x_val[i] <= input_x and input_x <= grid_x_val[i+1]:\n",
    "            lower = grid_x_val[i]\n",
    "            upper = grid_x_val[i+1]\n",
    "            break      \n",
    "    interval = upper - lower\n",
    "\n",
    "    # print(lower ,upper, interval)\n",
    "    \n",
    "    ip_b = (upper - input_x) / interval\n",
    "    ip_a = 1 - ip_b\n",
    "    return i, i+1, ip_a, ip_b\n",
    "\n",
    "get_bound(grid_x_val, input_x=3.1211)"
   ]
  },
  {
   "cell_type": "code",
   "execution_count": 23,
   "metadata": {},
   "outputs": [
    {
     "data": {
      "text/plain": [
       "(524, 525, 100.22000000000004, -99.22000000000004)"
      ]
     },
     "execution_count": 23,
     "metadata": {},
     "output_type": "execute_result"
    }
   ],
   "source": [
    "def get_bound_fixed_slicing(range_start, range_end, spacing, input_x):\n",
    "    steps = int((input_x - range_start) / spacing)\n",
    "    \n",
    "    lower = steps * spacing\n",
    "    upper = lower + spacing\n",
    "    \n",
    "    interval = spacing\n",
    "    ip_b = (upper - input_x) / interval\n",
    "    ip_a = 1 - ip_b\n",
    "    \n",
    "    # print(lower, upper, interval)\n",
    "    \n",
    "    return steps, steps+1, ip_a, ip_b\n",
    "    \n",
    "\n",
    "get_bound_fixed_slicing(grid_x_start, grid_x_end, spacing, 3.1211)"
   ]
  },
  {
   "cell_type": "code",
   "execution_count": 24,
   "metadata": {},
   "outputs": [],
   "source": [
    "def grid_inner_pred(input_x, grid_x_val, grid_y):\n",
    "    \n",
    "    lower_idx, upper_idx, ip_a, ip_b = get_bound(grid_x_val, input_x)\n",
    "    lower_y = grid_y[lower_idx]\n",
    "    upper_y = grid_y[upper_idx]\n",
    "    \n",
    "    return lower_y * ip_a + upper_y * ip_b"
   ]
  },
  {
   "cell_type": "code",
   "execution_count": 25,
   "metadata": {},
   "outputs": [
    {
     "data": {
      "text/plain": [
       "array([2.93285442])"
      ]
     },
     "execution_count": 25,
     "metadata": {},
     "output_type": "execute_result"
    }
   ],
   "source": [
    "grid_inner_pred(3, grid_x_val, grid_y_val_poly_reg_pred)"
   ]
  },
  {
   "cell_type": "code",
   "execution_count": 26,
   "metadata": {},
   "outputs": [],
   "source": [
    "xy = np.concatenate((grid_x_val.reshape(-1, 1), grid_y_val_poly_reg_pred), axis=1)"
   ]
  },
  {
   "cell_type": "code",
   "execution_count": 36,
   "metadata": {},
   "outputs": [],
   "source": [
    "from datetime import datetime\n",
    "\n",
    "d = datetime.now()\n",
    "out_file_name = file_name + '__n' + str(len(grid_x_val)) + '__d' + d.strftime('%Y%m%d%H%M%S') + '.csv'\n",
    "np.savetxt(out_file_name, xy, delimiter=\",\")"
   ]
  },
  {
   "cell_type": "code",
   "execution_count": 95,
   "metadata": {},
   "outputs": [
    {
     "data": {
      "text/plain": [
       "'C:\\\\My\\\\Playground\\\\Github\\\\pg\\\\_chaos'"
      ]
     },
     "execution_count": 95,
     "metadata": {},
     "output_type": "execute_result"
    }
   ],
   "source": [
    "import os\n",
    "os.getcwd()"
   ]
  },
  {
   "cell_type": "code",
   "execution_count": 81,
   "metadata": {},
   "outputs": [
    {
     "data": {
      "text/plain": [
       "1e+20"
      ]
     },
     "execution_count": 81,
     "metadata": {},
     "output_type": "execute_result"
    }
   ],
   "source": [
    "1e20"
   ]
  },
  {
   "cell_type": "code",
   "execution_count": null,
   "metadata": {},
   "outputs": [],
   "source": []
  }
 ],
 "metadata": {
  "kernelspec": {
   "display_name": "Python 3",
   "language": "python",
   "name": "python3"
  },
  "language_info": {
   "codemirror_mode": {
    "name": "ipython",
    "version": 3
   },
   "file_extension": ".py",
   "mimetype": "text/x-python",
   "name": "python",
   "nbconvert_exporter": "python",
   "pygments_lexer": "ipython3",
   "version": "3.6.4"
  }
 },
 "nbformat": 4,
 "nbformat_minor": 2
}
