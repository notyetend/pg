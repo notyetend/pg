{
 "cells": [
  {
   "cell_type": "markdown",
   "metadata": {},
   "source": [
    "-  1 : https://www.youtube.com/watch?v=2pWv7GOvuf0\n",
    "-  2 : https://www.youtube.com/watch?v=lfHX2hHRMVQ&t=5s\n",
    "-  3 : https://www.youtube.com/watch?v=Nd1-UUMVfz4&t=1s\n",
    "-  4 : https://www.youtube.com/watch?v=PnHCvfgC_ZA&t=1s\n",
    "\n"
   ]
  },
  {
   "cell_type": "code",
   "execution_count": null,
   "metadata": {
    "collapsed": true
   },
   "outputs": [],
   "source": []
  }
 ],
 "metadata": {
  "kernelspec": {
   "display_name": "Python 3",
   "language": "python",
   "name": "python3"
  },
  "language_info": {
   "codemirror_mode": {
    "name": "ipython",
    "version": 3
   },
   "file_extension": ".py",
   "mimetype": "text/x-python",
   "name": "python",
   "nbconvert_exporter": "python",
   "pygments_lexer": "ipython3",
   "version": "3.6.1"
  }
 },
 "nbformat": 4,
 "nbformat_minor": 2
}
