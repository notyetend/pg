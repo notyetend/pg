{
 "cells": [
  {
   "cell_type": "markdown",
   "metadata": {},
   "source": [
    "In this notebook, I will show how to train the TensorFlow version of Sketch-RNN on a new dataset, and convert the weights of the TF model to a JSON format that is usable by Sketch-RNN-JS so that interactive web demos can be built.\n",
    "\n",
    "For the purpose of this tutorial, I will be training on the dataset file called `kanji.rdp25.npz` which is available inside the repo `https://github.com/hardmaru/sketch-rnn-datasets/` under the `kanji` subdirectory. If you have a custom dataset, you will need to convert it over to an .npz file using the stroke-3 format as done for these datasets. Please study the README.md in Sketch-RNN to understand how the file format that Sketch-RNN can work with work, in the section called [\"Creating Your Own Dataset\"](https://github.com/tensorflow/magenta/blob/master/magenta/models/sketch_rnn/README.md).\n",
    "\n",
    "After cloning the TensorFlow repo for the Sketch-RNN [model](https://github.com/tensorflow/magenta/tree/master/magenta/models/sketch_rnn), below is the command that I ran to train the TensorFlow model:\n",
    "\n",
    "```\n",
    "python sketch_rnn_train.py --data_dir=kanji --hparams=data_set=['kanji.rdp25.npz'],num_steps=200000,conditional=0,dec_rnn_size=1024\n",
    "```\n",
    "\n",
    "I store the `kanji.rdp25.npz` inside the subdirectory called `kanji` but you can use whatever you want. The important thing to note here is that I'm trainining a decoder-only model by setting `conditional=0` and I'm training a 1 layer LSTM with hidden size of 1024, which should be good enough for most datasets in the order of 10K size. Using 200K steps should take around half a day on a single P100 GPU, so it should cost around USD 10 dollars using the current prices for Google Cloud Platform to train this model.\n",
    "\n",
    "After the model is trained, I run the remaining commands for this IPython notebook to generate a file call `custom.gen.json`, which can be used in the Sketch-RNN-JS repo for interactive work:\n",
    "\n",
    "https://github.com/tensorflow/magenta-demos/tree/master/sketch-rnn-js\n",
    "\n",
    "This `json` format created will also work for future TensorFlow.js and ML5.js versions of sketch-RNN."
   ]
  },
  {
   "cell_type": "code",
   "execution_count": 2,
   "metadata": {},
   "outputs": [],
   "source": [
    "# import the required libraries\n",
    "import numpy as np\n",
    "import time\n",
    "import random\n",
    "\n",
    "import codecs\n",
    "import collections\n",
    "import os\n",
    "import math\n",
    "import json\n",
    "import tensorflow as tf\n",
    "from six.moves import xrange\n",
    "\n",
    "# libraries required for visualisation:\n",
    "from IPython.display import SVG, display\n",
    "import svgwrite # conda install -c omnia svgwrite=1.1.6\n",
    "import PIL\n",
    "from PIL import Image\n",
    "import matplotlib.pyplot as plt\n",
    "\n",
    "# set numpy output to something sensible\n",
    "np.set_printoptions(precision=8, edgeitems=6, linewidth=200, suppress=True)"
   ]
  },
  {
   "cell_type": "code",
   "execution_count": 3,
   "metadata": {},
   "outputs": [
    {
     "name": "stdout",
     "output_type": "stream",
     "text": [
      "INFO:tensorflow:TensorFlow Version: 1.12.0\n"
     ]
    }
   ],
   "source": [
    "tf.logging.info(\"TensorFlow Version: %s\", tf.__version__)\n"
   ]
  },
  {
   "cell_type": "code",
   "execution_count": 6,
   "metadata": {},
   "outputs": [],
   "source": [
    "import os\n",
    "os.chdir(r'D:\\playground\\projects\\magenta_pjt')"
   ]
  },
  {
   "cell_type": "code",
   "execution_count": 7,
   "metadata": {},
   "outputs": [
    {
     "data": {
      "text/plain": [
       "'\\nfrom sketch_rnn_train import *\\nfrom model import *\\nfrom utils import *\\nfrom rnn import *\\n'"
      ]
     },
     "execution_count": 7,
     "metadata": {},
     "output_type": "execute_result"
    }
   ],
   "source": [
    "# import our command line tools\n",
    "from magenta.models.sketch_rnn.sketch_rnn_train import *\n",
    "from magenta.models.sketch_rnn.model import *\n",
    "from magenta.models.sketch_rnn.utils import *\n",
    "from magenta.models.sketch_rnn.rnn import *\n",
    "\n",
    "\n",
    "# If code is modified to remove magenta dependencies:\n",
    "'''\n",
    "from sketch_rnn_train import *\n",
    "from model import *\n",
    "from utils import *\n",
    "from rnn import *\n",
    "'''"
   ]
  },
  {
   "cell_type": "code",
   "execution_count": 8,
   "metadata": {},
   "outputs": [],
   "source": [
    "# little function that displays vector images and saves them to .svg\n",
    "def draw_strokes(data, factor=0.2, svg_filename='/tmp/sketch_rnn/svg/sample.svg'):\n",
    "    tf.gfile.MakeDirs(os.path.dirname(svg_filename))\n",
    "    min_x, max_x, min_y, max_y = get_bounds(data, factor)\n",
    "    dims = (50 + max_x - min_x, 50 + max_y - min_y)\n",
    "    dwg = svgwrite.Drawing(svg_filename, size=dims)\n",
    "    dwg.add(dwg.rect(insert=(0, 0), size=dims, fill='white'))\n",
    "    lift_pen = 1\n",
    "    abs_x = 25 - min_x\n",
    "    abs_y = 25 - min_y\n",
    "    p = \"M%s,%s \" % (abs_x, abs_y)\n",
    "    command = \"m\"\n",
    "    for i in xrange(len(data)):\n",
    "        if (lift_pen == 1):\n",
    "            command = \"m\"\n",
    "        elif (command != \"l\"):\n",
    "            command = \"l\"\n",
    "        else:\n",
    "            command = \"\"\n",
    "        x = float(data[i, 0]) / factor\n",
    "        y = float(data[i, 1]) / factor\n",
    "        lift_pen = data[i, 2]\n",
    "        p += command + str(x) + \",\" + str(y) + \" \"\n",
    "    the_color = \"black\"\n",
    "    stroke_width = 1\n",
    "    dwg.add(dwg.path(p).stroke(the_color, stroke_width).fill(\"none\"))\n",
    "    dwg.save()\n",
    "    display(SVG(dwg.tostring()))\n",
    "\n",
    "\n",
    "# generate a 2D grid of many vector drawings\n",
    "def make_grid_svg(s_list, grid_space=10.0, grid_space_x=16.0):\n",
    "    def get_start_and_end(x):\n",
    "        x = np.array(x)\n",
    "        x = x[:, 0:2]\n",
    "        x_start = x[0]\n",
    "        x_end = x.sum(axis=0)\n",
    "        x = x.cumsum(axis=0)\n",
    "        x_max = x.max(axis=0)\n",
    "        x_min = x.min(axis=0)\n",
    "        center_loc = (x_max + x_min) * 0.5\n",
    "        return x_start - center_loc, x_end\n",
    "\n",
    "    x_pos = 0.0\n",
    "    y_pos = 0.0\n",
    "    result = [[x_pos, y_pos, 1]]\n",
    "    for sample in s_list:\n",
    "        s = sample[0]\n",
    "        grid_loc = sample[1]\n",
    "        grid_y = grid_loc[0] * grid_space + grid_space * 0.5\n",
    "        grid_x = grid_loc[1] * grid_space_x + grid_space_x * 0.5\n",
    "        start_loc, delta_pos = get_start_and_end(s)\n",
    "\n",
    "        loc_x = start_loc[0]\n",
    "        loc_y = start_loc[1]\n",
    "        new_x_pos = grid_x + loc_x\n",
    "        new_y_pos = grid_y + loc_y\n",
    "        result.append([new_x_pos - x_pos, new_y_pos - y_pos, 0])\n",
    "\n",
    "        result += s.tolist()\n",
    "        result[-1][2] = 1\n",
    "        x_pos = new_x_pos + delta_pos[0]\n",
    "        y_pos = new_y_pos + delta_pos[1]\n",
    "    return np.array(result)\n"
   ]
  },
  {
   "cell_type": "markdown",
   "metadata": {},
   "source": [
    "define the path of the model you want to load, and also the path of the dataset"
   ]
  },
  {
   "cell_type": "code",
   "execution_count": 34,
   "metadata": {},
   "outputs": [],
   "source": [
    "# you may need to change these to link to where your data and checkpoints are actually stored!\n",
    "# in the default config, model_dir is likely to be /tmp/sketch_rnn/models\n",
    "subject = 'circle'\n",
    "\n",
    "# data_dir = './kanji'\n",
    "data_dir = r'D:\\playground\\projects\\magenta_pjt\\data_{}'.format(subject)\n",
    "# model_dir = './log'\n",
    "model_dir = r'D:\\playground\\projects\\magenta_pjt\\checkpoints_{}'.format(subject)"
   ]
  },
  {
   "cell_type": "code",
   "execution_count": 35,
   "metadata": {},
   "outputs": [
    {
     "name": "stdout",
     "output_type": "stream",
     "text": [
      "3\n",
      "4\n",
      "INFO:tensorflow:Loaded 8000/500/500 from circle.npz\n",
      "INFO:tensorflow:Dataset combined: 9000 (8000/500/500), avg len 25\n",
      "INFO:tensorflow:model_params.max_seq_len 30.\n",
      "total images <= max_seq_len is 8000\n",
      "total images <= max_seq_len is 500\n",
      "total images <= max_seq_len is 500\n",
      "INFO:tensorflow:normalizing_scale_factor 54.1372.\n"
     ]
    }
   ],
   "source": [
    "[train_set, valid_set, test_set, hps_model, eval_hps_model, sample_hps_model] = load_env(data_dir, model_dir)"
   ]
  },
  {
   "cell_type": "code",
   "execution_count": 36,
   "metadata": {},
   "outputs": [],
   "source": [
    "[hps_model, eval_hps_model, sample_hps_model] = load_model(model_dir)"
   ]
  },
  {
   "cell_type": "code",
   "execution_count": 37,
   "metadata": {},
   "outputs": [
    {
     "name": "stdout",
     "output_type": "stream",
     "text": [
      "INFO:tensorflow:Model using gpu.\n",
      "INFO:tensorflow:Input dropout mode = False.\n",
      "INFO:tensorflow:Output dropout mode = False.\n",
      "INFO:tensorflow:Recurrent dropout mode = True.\n",
      "INFO:tensorflow:Model using gpu.\n",
      "INFO:tensorflow:Input dropout mode = 0.\n",
      "INFO:tensorflow:Output dropout mode = 0.\n",
      "INFO:tensorflow:Recurrent dropout mode = 0.\n",
      "INFO:tensorflow:Model using gpu.\n",
      "INFO:tensorflow:Input dropout mode = 0.\n",
      "INFO:tensorflow:Output dropout mode = 0.\n",
      "INFO:tensorflow:Recurrent dropout mode = 0.\n"
     ]
    }
   ],
   "source": [
    "# construct the sketch-rnn model here:\n",
    "reset_graph()\n",
    "model = Model(hps_model)\n",
    "eval_model = Model(eval_hps_model, reuse=True)\n",
    "sample_model = Model(sample_hps_model, reuse=True)"
   ]
  },
  {
   "cell_type": "code",
   "execution_count": 38,
   "metadata": {},
   "outputs": [],
   "source": [
    "sess = tf.InteractiveSession()\n",
    "sess.run(tf.global_variables_initializer())"
   ]
  },
  {
   "cell_type": "code",
   "execution_count": 91,
   "metadata": {},
   "outputs": [
    {
     "data": {
      "text/plain": [
       "<tensorflow.python.client.session.InteractiveSession at 0x1c12128fa58>"
      ]
     },
     "execution_count": 91,
     "metadata": {},
     "output_type": "execute_result"
    }
   ],
   "source": [
    "sess"
   ]
  },
  {
   "cell_type": "code",
   "execution_count": 39,
   "metadata": {},
   "outputs": [],
   "source": [
    "def decode(z_input=None, draw_mode=True, temperature=0.1, factor=0.2):\n",
    "    z = None\n",
    "    if z_input is not None:\n",
    "        z = [z_input]\n",
    "    sample_strokes, m = sample(sess, sample_model, seq_len=eval_model.hps.max_seq_len, temperature=temperature, z=z)\n",
    "    strokes = to_normal_strokes(sample_strokes)\n",
    "    if draw_mode:\n",
    "        draw_strokes(strokes, factor)\n",
    "    return strokes\n"
   ]
  },
  {
   "cell_type": "code",
   "execution_count": 40,
   "metadata": {},
   "outputs": [
    {
     "name": "stdout",
     "output_type": "stream",
     "text": [
      "INFO:tensorflow:Loading model D:\\playground\\projects\\magenta_pjt\\checkpoints_circle\\vector-4500.\n",
      "INFO:tensorflow:Restoring parameters from D:\\playground\\projects\\magenta_pjt\\checkpoints_circle\\vector-4500\n"
     ]
    }
   ],
   "source": [
    "# loads the weights from checkpoint into our model\n",
    "load_checkpoint(sess, model_dir)"
   ]
  },
  {
   "cell_type": "code",
   "execution_count": null,
   "metadata": {},
   "outputs": [],
   "source": []
  },
  {
   "cell_type": "code",
   "execution_count": null,
   "metadata": {},
   "outputs": [],
   "source": []
  },
  {
   "cell_type": "code",
   "execution_count": null,
   "metadata": {},
   "outputs": [],
   "source": []
  },
  {
   "cell_type": "code",
   "execution_count": null,
   "metadata": {},
   "outputs": [],
   "source": []
  },
  {
   "cell_type": "code",
   "execution_count": 118,
   "metadata": {},
   "outputs": [],
   "source": [
    "file_path = r'D:\\playground\\projects\\magenta_pjt\\data_slime\\slime.npz'\n",
    "data = np.load(file_path, encoding='bytes')\n",
    "data.files\n",
    "data_train = data['train']  # drawings"
   ]
  },
  {
   "cell_type": "code",
   "execution_count": null,
   "metadata": {},
   "outputs": [],
   "source": [
    "d = data_train[0]"
   ]
  },
  {
   "cell_type": "code",
   "execution_count": 124,
   "metadata": {},
   "outputs": [
    {
     "ename": "IndexError",
     "evalue": "too many indices for array",
     "output_type": "error",
     "traceback": [
      "\u001b[1;31m---------------------------------------------------------------------------\u001b[0m",
      "\u001b[1;31mIndexError\u001b[0m                                Traceback (most recent call last)",
      "\u001b[1;32m<ipython-input-124-708e2f094002>\u001b[0m in \u001b[0;36m<module>\u001b[1;34m()\u001b[0m\n\u001b[1;32m----> 1\u001b[1;33m \u001b[0mdraw_strokes\u001b[0m\u001b[1;33m(\u001b[0m\u001b[0mmake_grid_svg\u001b[0m\u001b[1;33m(\u001b[0m\u001b[1;33m[\u001b[0m\u001b[0md\u001b[0m\u001b[1;33m]\u001b[0m\u001b[1;33m)\u001b[0m\u001b[1;33m)\u001b[0m\u001b[1;33m\u001b[0m\u001b[0m\n\u001b[0m",
      "\u001b[1;32m<ipython-input-8-2dd84c641a37>\u001b[0m in \u001b[0;36mmake_grid_svg\u001b[1;34m(s_list, grid_space, grid_space_x)\u001b[0m\n\u001b[0;32m     50\u001b[0m         \u001b[0mgrid_y\u001b[0m \u001b[1;33m=\u001b[0m \u001b[0mgrid_loc\u001b[0m\u001b[1;33m[\u001b[0m\u001b[1;36m0\u001b[0m\u001b[1;33m]\u001b[0m \u001b[1;33m*\u001b[0m \u001b[0mgrid_space\u001b[0m \u001b[1;33m+\u001b[0m \u001b[0mgrid_space\u001b[0m \u001b[1;33m*\u001b[0m \u001b[1;36m0.5\u001b[0m\u001b[1;33m\u001b[0m\u001b[0m\n\u001b[0;32m     51\u001b[0m         \u001b[0mgrid_x\u001b[0m \u001b[1;33m=\u001b[0m \u001b[0mgrid_loc\u001b[0m\u001b[1;33m[\u001b[0m\u001b[1;36m1\u001b[0m\u001b[1;33m]\u001b[0m \u001b[1;33m*\u001b[0m \u001b[0mgrid_space_x\u001b[0m \u001b[1;33m+\u001b[0m \u001b[0mgrid_space_x\u001b[0m \u001b[1;33m*\u001b[0m \u001b[1;36m0.5\u001b[0m\u001b[1;33m\u001b[0m\u001b[0m\n\u001b[1;32m---> 52\u001b[1;33m         \u001b[0mstart_loc\u001b[0m\u001b[1;33m,\u001b[0m \u001b[0mdelta_pos\u001b[0m \u001b[1;33m=\u001b[0m \u001b[0mget_start_and_end\u001b[0m\u001b[1;33m(\u001b[0m\u001b[0ms\u001b[0m\u001b[1;33m)\u001b[0m\u001b[1;33m\u001b[0m\u001b[0m\n\u001b[0m\u001b[0;32m     53\u001b[0m \u001b[1;33m\u001b[0m\u001b[0m\n\u001b[0;32m     54\u001b[0m         \u001b[0mloc_x\u001b[0m \u001b[1;33m=\u001b[0m \u001b[0mstart_loc\u001b[0m\u001b[1;33m[\u001b[0m\u001b[1;36m0\u001b[0m\u001b[1;33m]\u001b[0m\u001b[1;33m\u001b[0m\u001b[0m\n",
      "\u001b[1;32m<ipython-input-8-2dd84c641a37>\u001b[0m in \u001b[0;36mget_start_and_end\u001b[1;34m(x)\u001b[0m\n\u001b[0;32m     33\u001b[0m     \u001b[1;32mdef\u001b[0m \u001b[0mget_start_and_end\u001b[0m\u001b[1;33m(\u001b[0m\u001b[0mx\u001b[0m\u001b[1;33m)\u001b[0m\u001b[1;33m:\u001b[0m\u001b[1;33m\u001b[0m\u001b[0m\n\u001b[0;32m     34\u001b[0m         \u001b[0mx\u001b[0m \u001b[1;33m=\u001b[0m \u001b[0mnp\u001b[0m\u001b[1;33m.\u001b[0m\u001b[0marray\u001b[0m\u001b[1;33m(\u001b[0m\u001b[0mx\u001b[0m\u001b[1;33m)\u001b[0m\u001b[1;33m\u001b[0m\u001b[0m\n\u001b[1;32m---> 35\u001b[1;33m         \u001b[0mx\u001b[0m \u001b[1;33m=\u001b[0m \u001b[0mx\u001b[0m\u001b[1;33m[\u001b[0m\u001b[1;33m:\u001b[0m\u001b[1;33m,\u001b[0m \u001b[1;36m0\u001b[0m\u001b[1;33m:\u001b[0m\u001b[1;36m2\u001b[0m\u001b[1;33m]\u001b[0m\u001b[1;33m\u001b[0m\u001b[0m\n\u001b[0m\u001b[0;32m     36\u001b[0m         \u001b[0mx_start\u001b[0m \u001b[1;33m=\u001b[0m \u001b[0mx\u001b[0m\u001b[1;33m[\u001b[0m\u001b[1;36m0\u001b[0m\u001b[1;33m]\u001b[0m\u001b[1;33m\u001b[0m\u001b[0m\n\u001b[0;32m     37\u001b[0m         \u001b[0mx_end\u001b[0m \u001b[1;33m=\u001b[0m \u001b[0mx\u001b[0m\u001b[1;33m.\u001b[0m\u001b[0msum\u001b[0m\u001b[1;33m(\u001b[0m\u001b[0maxis\u001b[0m\u001b[1;33m=\u001b[0m\u001b[1;36m0\u001b[0m\u001b[1;33m)\u001b[0m\u001b[1;33m\u001b[0m\u001b[0m\n",
      "\u001b[1;31mIndexError\u001b[0m: too many indices for array"
     ]
    }
   ],
   "source": [
    "draw_strokes(make_grid_svg([d]))"
   ]
  },
  {
   "cell_type": "code",
   "execution_count": 131,
   "metadata": {},
   "outputs": [
    {
     "data": {
      "text/plain": [
       "array([[ -23,    0,    0],\n",
       "       [-133,    0,    0],\n",
       "       [ -24,    6,    0],\n",
       "       [ -30,   15,    0],\n",
       "       [ -34,   24,    0],\n",
       "       [ -71,   74,    0],\n",
       "       [ -28,   47,    0],\n",
       "       [ -28,   64,    0],\n",
       "       [ -16,   53,    0],\n",
       "       [  -7,   48,    0],\n",
       "       [  -3,   78,    0],\n",
       "       [   8,   19,    0],\n",
       "       [  18,   20,    0],\n",
       "       [  48,   30,    0],\n",
       "       [  29,    7,    0],\n",
       "       [ 147,   20,    0],\n",
       "       [ 104,   -3,    0],\n",
       "       [ 109,  -20,    0],\n",
       "       [  69,  -25,    0],\n",
       "       [  35,  -18,    0],\n",
       "       [  79,  -51,    0],\n",
       "       [  27,  -14,    0],\n",
       "       [  22,  -20,    0],\n",
       "       [  15,  -17,    0],\n",
       "       [  16,  -45,    0],\n",
       "       [   4,  -66,    0],\n",
       "       [  -2,  -23,    0],\n",
       "       [ -16,  -40,    0],\n",
       "       [ -25,  -37,    0],\n",
       "       [ -17,  -13,    0],\n",
       "       [ -20,  -10,    0],\n",
       "       [-131,  -51,    0],\n",
       "       [ -23,  -13,    0],\n",
       "       [ -28,   -8,    0],\n",
       "       [ -22,    0,    1],\n",
       "       [-209,  100,    0],\n",
       "       [  -4,   -4,    0],\n",
       "       [ -42,   -1,    0],\n",
       "       [  -7,    7,    0],\n",
       "       [ -12,   24,    0],\n",
       "       [  -3,   15,    0],\n",
       "       [   0,   37,    0],\n",
       "       [   6,   12,    0],\n",
       "       [  10,   10,    0],\n",
       "       [  14,    5,    0],\n",
       "       [  35,   -1,    0],\n",
       "       [  26,  -25,    0],\n",
       "       [   7,  -21,    0],\n",
       "       [   0,  -23,    0],\n",
       "       [  -7,  -14,    0],\n",
       "       [ -13,  -13,    1],\n",
       "       [ 245,   21,    0],\n",
       "       [   1,   -2,    0],\n",
       "       [  -5,   -2,    0],\n",
       "       [ -41,    0,    0],\n",
       "       [ -30,    9,    0],\n",
       "       [ -11,    9,    0],\n",
       "       [  -3,   24,    0],\n",
       "       [   1,   31,    0],\n",
       "       [  13,   19,    0],\n",
       "       [  22,   16,    0],\n",
       "       [  52,    2,    0],\n",
       "       [  16,   -9,    0],\n",
       "       [  14,  -50,    0],\n",
       "       [   0,  -36,    0],\n",
       "       [  -8,   -7,    0],\n",
       "       [  -8,   -1,    1],\n",
       "       [-289,  -13,    0],\n",
       "       [ -18,   67,    1],\n",
       "       [ -14,  -46,    0],\n",
       "       [  65,   13,    1],\n",
       "       [ 234,  -10,    0],\n",
       "       [   0,   64,    0],\n",
       "       [  -5,   13,    1],\n",
       "       [ -52,  -41,    0],\n",
       "       [  86,    3,    1],\n",
       "       [-250,   82,    0],\n",
       "       [ -12,   12,    0],\n",
       "       [   1,   14,    0],\n",
       "       [   7,    6,    0],\n",
       "       [  42,   -1,    0],\n",
       "       [  17,  -10,    0],\n",
       "       [   1,  -11,    0],\n",
       "       [   9,   21,    0],\n",
       "       [  15,    9,    0],\n",
       "       [  52,    0,    0],\n",
       "       [  19,   -6,    0],\n",
       "       [   2,  -24,    1],\n",
       "       [  15, -266,    0],\n",
       "       [   2,  -15,    0],\n",
       "       [  31,  -62,    0],\n",
       "       [  31,  -29,    0],\n",
       "       [  30,   -9,    0],\n",
       "       [ 106,   -1,    0],\n",
       "       [  50,    6,    0],\n",
       "       [  98,   35,    0],\n",
       "       [  37,   21,    0],\n",
       "       [  22,   18,    0],\n",
       "       [  14,   19,    0],\n",
       "       [   1,  131,    0],\n",
       "       [  -7,   34,    0],\n",
       "       [ -11,   21,    0],\n",
       "       [  -9,    5,    0],\n",
       "       [  -2,   16,    0],\n",
       "       [   5,    8,    0],\n",
       "       [  13,    4,    0],\n",
       "       [  20,    1,    0],\n",
       "       [   7,   -6,    0],\n",
       "       [  -1,  -22,    0],\n",
       "       [  -4,   -7,    0],\n",
       "       [ -16,    0,    1]])"
      ]
     },
     "execution_count": 131,
     "metadata": {},
     "output_type": "execute_result"
    }
   ],
   "source": [
    "d"
   ]
  },
  {
   "cell_type": "code",
   "execution_count": null,
   "metadata": {},
   "outputs": [],
   "source": []
  },
  {
   "cell_type": "code",
   "execution_count": null,
   "metadata": {},
   "outputs": [],
   "source": []
  },
  {
   "cell_type": "code",
   "execution_count": null,
   "metadata": {},
   "outputs": [],
   "source": []
  },
  {
   "cell_type": "code",
   "execution_count": null,
   "metadata": {},
   "outputs": [],
   "source": []
  },
  {
   "cell_type": "code",
   "execution_count": 138,
   "metadata": {},
   "outputs": [
    {
     "data": {
      "text/plain": [
       "[array([[-0.41247782, -0.02958624,  0.        ],\n",
       "        [-0.73901737, -0.15296017,  0.        ],\n",
       "        [-0.88306093, -0.30013621,  0.        ],\n",
       "        [-0.81089985, -0.4991672 ,  0.        ],\n",
       "        [-0.71412736, -0.66217732,  0.        ],\n",
       "        [-0.52940011, -0.75249565,  0.        ],\n",
       "        [ 0.15056928, -1.79465342,  0.        ],\n",
       "        [ 1.16418397, -1.50703168,  0.        ],\n",
       "        [ 0.45548326, -0.41934872,  0.        ],\n",
       "        [ 0.63094872, -0.21055323,  0.        ],\n",
       "        [ 0.68130285, -0.06993713,  0.        ],\n",
       "        [ 0.6970861 ,  0.06439803,  0.        ],\n",
       "        [ 0.67274237,  0.19246311,  0.        ],\n",
       "        [ 0.61571926,  0.30613258,  0.        ],\n",
       "        [ 0.52606767,  0.40634486,  0.        ],\n",
       "        [ 0.41387072,  0.49076983,  0.        ],\n",
       "        [ 0.28794542,  0.55328274,  0.        ],\n",
       "        [ 0.16484718,  0.59157544,  0.        ],\n",
       "        [ 0.04815034,  0.60508728,  0.        ],\n",
       "        [-0.11440329,  0.10741136,  0.        ],\n",
       "        [-0.10109945,  0.01010201,  0.        ],\n",
       "        [-0.10033709, -0.02750112,  0.        ],\n",
       "        [-0.09767978, -0.04791917,  1.        ]]), [0, 4]]"
      ]
     },
     "execution_count": 138,
     "metadata": {},
     "output_type": "execute_result"
    }
   ],
   "source": [
    "reconstructions[4]"
   ]
  },
  {
   "cell_type": "code",
   "execution_count": 114,
   "metadata": {},
   "outputs": [
    {
     "data": {
      "image/svg+xml": [
       "<svg baseProfile=\"full\" height=\"482.3514127731323\" version=\"1.1\" width=\"891.5336610050872\" xmlns=\"http://www.w3.org/2000/svg\" xmlns:ev=\"http://www.w3.org/2001/xml-events\" xmlns:xlink=\"http://www.w3.org/1999/xlink\"><defs/><rect fill=\"white\" height=\"482.3514127731323\" width=\"891.5336610050872\" x=\"0\" y=\"0\"/><path d=\"M93.89070749282837,179.8048973083496 m0.0,0.0 m55.39318180643022,33.43497037887573 l-0.32766614109277725,0.5047094076871872 -2.2828443348407745,0.9605393558740616 l-9.850173592567444,-0.832841694355011 -6.37853741645813,-2.365088015794754 l-5.272871255874634,-3.3106234669685364 -4.063754975795746,-3.182266652584076 l-2.1551594138145447,-3.4415286779403687 -0.674913078546524,-3.2628419995307922 l-0.10810954496264458,-4.453857243061066 2.3946818709373474,-6.35317862033844 l6.344109773635864,-4.547744691371918 9.621546864509583,-1.8374831974506378 l10.186280012130737,1.7065463960170746 2.1009761095046997,2.304430454969406 l0.0277227652259171,7.4077266454696655 -0.8234328031539917,4.282648265361786 l-1.0648030042648315,3.5461968183517456 -1.2785130739212036,2.9568520188331604 l-1.5442994236946106,2.587486207485199 -1.7947125434875488,2.3407530784606934 l-2.0007306337356567,2.194048911333084 -2.1455004811286926,2.061729282140732 l-2.2533968091011047,1.9762270152568817 -2.0445415377616882,2.6049771904945374 l-1.917654126882553,2.860349714756012 -1.8336470425128937,2.988463342189789 l-1.3299264013767242,1.393880546092987 -1.412816196680069,2.512790262699127 l-1.2016717344522476,1.3856594264507294 -1.170567199587822,1.2731234729290009 m61.948517912533134,17.892242819070816 l-161.97748184204102,209.9576187133789 m53.82645130157471,-85.17779350280762 m215.06425619125366,-167.3687219619751 l6.872122287750244,-39.01934862136841 m80.29126966372132,50.4145114403218 l-1.7378221452236176,3.1771251559257507 -10.331624746322632,-1.5133234858512878 l-8.126375675201416,-5.38978636264801 -4.082531630992889,-4.028790593147278 l-1.8022361397743225,-3.432565927505493 -0.41978832334280014,-3.0943766236305237 l0.3900916501879692,-2.770822048187256 0.9252820163965225,-2.370379865169525 l2.1239125728607178,-1.9977660477161407 3.2253745198249817,-1.4303863048553467 l4.314727187156677,-0.6484141945838928 5.254441499710083,0.28200244531035423 l5.742074251174927,1.2261239439249039 5.423060655593872,2.185966670513153 l4.189910292625427,3.016882836818695 2.5532376766204834,3.7108996510505676 l1.0562168061733246,4.170232117176056 -0.21157121285796165,3.6615079641342163 l-0.8650687336921692,3.326685130596161 -1.4087343215942383,2.939698100090027 l-1.9201472401618958,2.55588561296463 -2.351107895374298,2.0927415788173676 l-1.8435268104076385,0.8691930770874023 -1.7861191928386688,0.5250781401991844 m76.63516828790307,-2.5374219845980406 l-2.0623891055583954,-0.14793121255934238 -3.6950868368148804,-0.7648008316755295 l-4.415304660797119,-1.5006810426712036 -4.054499268531799,-2.495836019515991 l-3.570636808872223,-3.3108866214752197 -2.647000551223755,-3.762478232383728 l0.7528463751077652,-8.973267078399658 5.820919871330261,-7.535158395767212 l2.2774162888526917,-2.096743583679199 3.1547436118125916,-1.0527661442756653 l3.4065142273902893,-0.3496856614947319 3.4854304790496826,0.32199013978242874 l3.3637118339538574,0.9623155742883682 3.078596293926239,1.5306629240512848 l2.6303383708000183,2.0317243039608 2.069353610277176,2.4538491666316986 l1.43972709774971,2.766413688659668 0.8242359012365341,2.957877218723297 l0.2407516911625862,3.0254364013671875 -0.5720164254307747,0.5370568111538887 l-0.5054972693324089,0.050510051660239697 -0.5016854405403137,-0.13750560581684113 l-0.4883988946676254,-0.23959584534168243 m67.85769430920482,-0.1916518108919263 l133.73435974121094,-179.8048973083496 m-77.2628927230835,114.28743109107018 l-66.31690502166748,84.35894012451172 m47.05706596374512,126.88229560852051 m-34.38162565231323,-2.6090535521507263 m1.8757939338684082,6.761690378189087 m161.8379646912217,-126.70654613524675 l-1.6602259874343872,1.070384532213211 -3.3055639266967773,0.09971972554922104 l-4.5562943816185,-1.100555956363678 -5.530238747596741,-2.764540910720825 l-5.466678738594055,-3.6772194504737854 -10.896304845809937,-15.635004043579102 l-0.4261818155646324,-5.256378650665283 3.909143805503845,-8.624241948127747 l4.549495279788971,-5.258923172950745 4.866492748260498,-4.2715781927108765 l5.895422697067261,-2.0070625841617584 6.299283504486084,-0.26066727936267853 l6.273283362388611,1.3497620820999146 5.685129165649414,2.597198486328125 l4.548371732234955,3.604910373687744 3.2918843626976013,4.489901959896088 l1.956496387720108,5.11504590511322 -0.3096674382686615,8.407686352729797 l-2.9404452443122864,8.692960143089294 -4.785411357879639,7.358177900314331 l-4.8641636967659,5.031697750091553 -6.562661528587341,3.362758755683899 l-3.375729024410248,1.1630848050117493 m97.25242237560451,-15.371520260814577 l-1.329762190580368,0.7726996392011642 -16.685703992843628,-3.7535127997398376 l-7.807844877243042,-3.4220001101493835 -6.396858096122742,-4.071964919567108 l-4.3732985854148865,-4.174133837223053 -2.3729124665260315,-3.9636728167533875 l-0.4314662143588066,-3.6444833874702454 1.5178292989730835,-3.256165385246277 l3.396661877632141,-2.7370449900627136 5.000543594360352,-2.0596958696842194 l6.255509257316589,-1.3137196004390717 7.063357830047607,-0.55071160197258 l7.306088805198669,0.18443511798977852 6.903278231620789,0.9473411738872528 l5.825042128562927,1.6674458980560303 5.34001886844635,6.33273184299469 l0.08266479708254337,9.363901019096375 -1.6486544907093048,5.799839496612549 l-2.7248117327690125,4.313976466655731 -3.748116195201874,3.347744643688202 l-4.6056389808654785,2.8401151299476624 -5.134950876235962,2.4527500569820404 l-5.364216566085815,2.0936912298202515 -5.371299386024475,1.7081835865974426 l-5.195948481559753,1.1987656354904175 -4.8874616622924805,0.6962356716394424 l-4.484365284442902,0.3215748816728592 -4.037292897701263,0.05456572864204645 l-3.631216585636139,-0.08186819963157177 -3.1950870156288147,-0.15421886928379536 m120.98724578041583,-11.590797381941229 l-2.630903422832489,2.1022261679172516 -2.49915212392807,0.545600913465023 l-3.035394847393036,-0.5982131138443947 -2.9540756344795227,-1.5276901423931122 l-2.643338143825531,-2.1332010626792908 -2.0230941474437714,-2.5076931715011597 l-1.3457873463630676,-2.672927677631378 -0.7248418033123016,-2.646598219871521 l-0.2561617083847523,-2.398579567670822 0.3000863268971443,-2.981977164745331 l0.9812679886817932,-2.8277763724327087 1.5412352979183197,-2.2170372307300568 l1.8650273978710175,-1.3265639543533325 1.843133419752121,-0.3048326075077057 l1.4651459455490112,0.6921026110649109 0.8171021938323975,1.553821861743927 l0.03446427173912525,2.228326201438904 -0.7731988281011581,2.715332806110382 l-1.5499529242515564,3.042880892753601 -2.273184657096863,3.245147466659546 l-2.9043784737586975,3.2862216234207153 -3.4548497200012207,3.252584934234619 l-3.888569176197052,3.106171190738678 -1.6202840209007263,1.0209741443395615 l-1.2137559801340103,0.9038484841585159 -0.9733503311872482,0.9326385706663132 \" fill=\"none\" stroke=\"black\" stroke-width=\"1\"/></svg>"
      ],
      "text/plain": [
       "<IPython.core.display.SVG object>"
      ]
     },
     "metadata": {},
     "output_type": "display_data"
    }
   ],
   "source": [
    "# randomly unconditionally generate 10 examples\n",
    "N = 10\n",
    "reconstructions = []\n",
    "for i in range(N):\n",
    "    reconstructions.append([decode(temperature=0.1, draw_mode=False), [0, i]])\n",
    "\n",
    "\n",
    "stroke_grid = make_grid_svg(reconstructions)\n",
    "draw_strokes(stroke_grid)"
   ]
  },
  {
   "cell_type": "code",
   "execution_count": 84,
   "metadata": {},
   "outputs": [],
   "source": [
    "def get_model_params():\n",
    "    # get trainable params.\n",
    "    model_names = []\n",
    "    model_params = []\n",
    "    model_shapes = []\n",
    "    with sess.as_default():\n",
    "        t_vars = tf.trainable_variables()\n",
    "        for var in t_vars:\n",
    "            param_name = var.name\n",
    "            p = sess.run(var)\n",
    "            model_names.append(param_name)\n",
    "            params = p\n",
    "            model_params.append(params)\n",
    "            model_shapes.append(p.shape)\n",
    "    return model_params, model_shapes, model_names\n",
    "\n",
    "\n",
    "def quantize_params(params, max_weight=10.0, factor=32767):\n",
    "    result = []\n",
    "    max_weight = np.abs(max_weight)\n",
    "    for p in params:\n",
    "        r = np.array(p)\n",
    "        r /= max_weight\n",
    "        r[r > 1.0] = 1.0\n",
    "        r[r < -1.0] = -1.0\n",
    "        result.append(np.round(r * factor).flatten().astype(np.int).tolist())\n",
    "    return result\n"
   ]
  },
  {
   "cell_type": "code",
   "execution_count": 85,
   "metadata": {},
   "outputs": [],
   "source": [
    "model_params, model_shapes, model_names = get_model_params()"
   ]
  },
  {
   "cell_type": "code",
   "execution_count": 86,
   "metadata": {},
   "outputs": [
    {
     "data": {
      "text/plain": [
       "['vector_rnn/ENC_RNN/fw/LayerNormLSTMCell/W_xh:0',\n",
       " 'vector_rnn/ENC_RNN/fw/LayerNormLSTMCell/W_hh:0',\n",
       " 'vector_rnn/ENC_RNN/fw/LayerNormLSTMCell/ln_all/ln_gamma:0',\n",
       " 'vector_rnn/ENC_RNN/fw/LayerNormLSTMCell/ln_all/ln_beta:0',\n",
       " 'vector_rnn/ENC_RNN/fw/LayerNormLSTMCell/ln_c/ln_gamma:0',\n",
       " 'vector_rnn/ENC_RNN/fw/LayerNormLSTMCell/ln_c/ln_beta:0',\n",
       " 'vector_rnn/ENC_RNN/bw/LayerNormLSTMCell/W_xh:0',\n",
       " 'vector_rnn/ENC_RNN/bw/LayerNormLSTMCell/W_hh:0',\n",
       " 'vector_rnn/ENC_RNN/bw/LayerNormLSTMCell/ln_all/ln_gamma:0',\n",
       " 'vector_rnn/ENC_RNN/bw/LayerNormLSTMCell/ln_all/ln_beta:0',\n",
       " 'vector_rnn/ENC_RNN/bw/LayerNormLSTMCell/ln_c/ln_gamma:0',\n",
       " 'vector_rnn/ENC_RNN/bw/LayerNormLSTMCell/ln_c/ln_beta:0',\n",
       " 'vector_rnn/ENC_RNN_mu/super_linear_w:0',\n",
       " 'vector_rnn/ENC_RNN_mu/super_linear_b:0',\n",
       " 'vector_rnn/ENC_RNN_sigma/super_linear_w:0',\n",
       " 'vector_rnn/ENC_RNN_sigma/super_linear_b:0',\n",
       " 'vector_rnn/linear/super_linear_w:0',\n",
       " 'vector_rnn/linear/super_linear_b:0',\n",
       " 'vector_rnn/RNN/output_w:0',\n",
       " 'vector_rnn/RNN/output_b:0',\n",
       " 'vector_rnn/RNN/LayerNormLSTMCell/W_xh:0',\n",
       " 'vector_rnn/RNN/LayerNormLSTMCell/W_hh:0',\n",
       " 'vector_rnn/RNN/LayerNormLSTMCell/ln_all/ln_gamma:0',\n",
       " 'vector_rnn/RNN/LayerNormLSTMCell/ln_all/ln_beta:0',\n",
       " 'vector_rnn/RNN/LayerNormLSTMCell/ln_c/ln_gamma:0',\n",
       " 'vector_rnn/RNN/LayerNormLSTMCell/ln_c/ln_beta:0']"
      ]
     },
     "execution_count": 86,
     "metadata": {},
     "output_type": "execute_result"
    }
   ],
   "source": [
    "model_names"
   ]
  },
  {
   "cell_type": "code",
   "execution_count": 87,
   "metadata": {},
   "outputs": [],
   "source": [
    "# scale factor converts \"model-coordinates\" to \"pixel coordinates\" for your JS canvas demo later on.\n",
    "# the larger it is, the larger your drawings (in pixel space) will be.\n",
    "# I recommend setting this to 100.0 and iterating the value in the json file later on when you build the JS part.\n",
    "scale_factor = 200.0\n",
    "metainfo = {\"mode\":2,\"version\":6,\"max_seq_len\":train_set.max_seq_length,\"name\":\"{}\".format(subject),\"scale_factor\":scale_factor}"
   ]
  },
  {
   "cell_type": "code",
   "execution_count": 88,
   "metadata": {},
   "outputs": [],
   "source": [
    "model_params_quantized = quantize_params(model_params)"
   ]
  },
  {
   "cell_type": "code",
   "execution_count": 89,
   "metadata": {},
   "outputs": [],
   "source": [
    "model_blob = [metainfo, model_shapes, model_params_quantized]"
   ]
  },
  {
   "cell_type": "code",
   "execution_count": 90,
   "metadata": {},
   "outputs": [],
   "source": [
    "with open(\"{}.gen.full.json\".format(subject), 'w') as outfile:\n",
    "    json.dump(model_blob, outfile, separators=(',', ':'))\n"
   ]
  },
  {
   "cell_type": "markdown",
   "metadata": {},
   "source": [
    "After you dump the `custom.gen.full.json`, you should save the below code as `compress_model.json`, and run:\n",
    "\n",
    "```\n",
    "node compress_model.js custom.gen.full.json custom.gen.json\n",
    "```\n",
    "\n",
    "To get to the final file you can use for Sketch-RNN-JS\n",
    "\n",
    "Below is the entire code for `compress_model.js` which will be run using node:\n",
    "\n",
    "```\n",
    "/*\n",
    "compress_model.js\n",
    "Compress JSON model to b64 encoded version to save bandwidth. only works for decoder-only sketch-rnn model.\n",
    "*/\n",
    "\n",
    "const assert = require('assert');\n",
    "const fs = require('fs');\n",
    "\n",
    "/**\n",
    " * deals with decompressing b64 models to float arrays.\n",
    " */\n",
    "function btoa(s) {\n",
    "  return Buffer.from(s, 'binary').toString('base64');\n",
    "}\n",
    "function string_to_uint8array(b64encoded) {\n",
    "  var u8 = new Uint8Array(atob(b64encoded).split(\"\").map(function(c) {\n",
    "    return c.charCodeAt(0); }));\n",
    "  return u8;\n",
    "}\n",
    "function uintarray_to_string(u8) {\n",
    "  var s = \"\";\n",
    "  for (var i = 0, len = u8.length; i < len; i++) {\n",
    "    s += String.fromCharCode(u8[i]);\n",
    "  }\n",
    "  var b64encoded = btoa(s);\n",
    "  return b64encoded;\n",
    "};\n",
    "function string_to_array(s) {\n",
    "  var u = string_to_uint8array(s);\n",
    "  var result = new Int16Array(u.buffer);\n",
    "  return result;\n",
    "};\n",
    "function array_to_string(a) {\n",
    "  var u = new Uint8Array(a.buffer);\n",
    "  var result = uintarray_to_string(u);\n",
    "  return result;\n",
    "};\n",
    "\n",
    "var args = process.argv.slice(2);\n",
    "\n",
    "try {\n",
    "  assert.strictEqual(args.length, 2);\n",
    "} catch (err) {\n",
    "  console.log(\"Usage: node compress_model.js orig_full_model.json compressed_model.json\")\n",
    "  process.exit(1);\n",
    "}\n",
    "\n",
    "var orig_file = args[0];\n",
    "var target_file = args[1];\n",
    "\n",
    "var orig_model = JSON.parse(fs.readFileSync(orig_file, 'ascii'));\n",
    "\n",
    "var model_weights = orig_model[2];\n",
    "var compressed_weights = [];\n",
    "\n",
    "for (var i=0;i<model_weights.length;i++) {\n",
    "  compressed_weights.push(array_to_string(new Int16Array(model_weights[i])));\n",
    "}\n",
    "\n",
    "var target_model = [orig_model[0], orig_model[1], compressed_weights];\n",
    "\n",
    "fs.writeFileSync(target_file, JSON.stringify(target_model), 'ascii');\n",
    "```"
   ]
  }
 ],
 "metadata": {
  "kernelspec": {
   "display_name": "Python 3",
   "language": "python",
   "name": "python3"
  },
  "language_info": {
   "codemirror_mode": {
    "name": "ipython",
    "version": 3
   },
   "file_extension": ".py",
   "mimetype": "text/x-python",
   "name": "python",
   "nbconvert_exporter": "python",
   "pygments_lexer": "ipython3",
   "version": "3.6.6"
  }
 },
 "nbformat": 4,
 "nbformat_minor": 2
}
