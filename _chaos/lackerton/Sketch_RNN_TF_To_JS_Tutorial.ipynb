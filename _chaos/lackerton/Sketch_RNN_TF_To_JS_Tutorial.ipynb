{
 "cells": [
  {
   "cell_type": "markdown",
   "metadata": {},
   "source": [
    "In this notebook, I will show how to train the TensorFlow version of Sketch-RNN on a new dataset, and convert the weights of the TF model to a JSON format that is usable by Sketch-RNN-JS so that interactive web demos can be built.\n",
    "\n",
    "For the purpose of this tutorial, I will be training on the dataset file called `kanji.rdp25.npz` which is available inside the repo `https://github.com/hardmaru/sketch-rnn-datasets/` under the `kanji` subdirectory. If you have a custom dataset, you will need to convert it over to an .npz file using the stroke-3 format as done for these datasets. Please study the README.md in Sketch-RNN to understand how the file format that Sketch-RNN can work with work, in the section called [\"Creating Your Own Dataset\"](https://github.com/tensorflow/magenta/blob/master/magenta/models/sketch_rnn/README.md).\n",
    "\n",
    "After cloning the TensorFlow repo for the Sketch-RNN [model](https://github.com/tensorflow/magenta/tree/master/magenta/models/sketch_rnn), below is the command that I ran to train the TensorFlow model:\n",
    "\n",
    "```\n",
    "python sketch_rnn_train.py --data_dir=kanji --hparams=data_set=['kanji.rdp25.npz'],num_steps=200000,conditional=0,dec_rnn_size=1024\n",
    "```\n",
    "\n",
    "I store the `kanji.rdp25.npz` inside the subdirectory called `kanji` but you can use whatever you want. The important thing to note here is that I'm trainining a decoder-only model by setting `conditional=0` and I'm training a 1 layer LSTM with hidden size of 1024, which should be good enough for most datasets in the order of 10K size. Using 200K steps should take around half a day on a single P100 GPU, so it should cost around USD 10 dollars using the current prices for Google Cloud Platform to train this model.\n",
    "\n",
    "After the model is trained, I run the remaining commands for this IPython notebook to generate a file call `custom.gen.json`, which can be used in the Sketch-RNN-JS repo for interactive work:\n",
    "\n",
    "https://github.com/tensorflow/magenta-demos/tree/master/sketch-rnn-js\n",
    "\n",
    "This `json` format created will also work for future TensorFlow.js and ML5.js versions of sketch-RNN."
   ]
  },
  {
   "cell_type": "code",
   "execution_count": 257,
   "metadata": {},
   "outputs": [],
   "source": [
    "# import the required libraries\n",
    "import numpy as np\n",
    "import time\n",
    "import random\n",
    "\n",
    "import codecs\n",
    "import collections\n",
    "import os\n",
    "import math\n",
    "import json\n",
    "import tensorflow as tf\n",
    "from six.moves import xrange\n",
    "\n",
    "# libraries required for visualisation:\n",
    "from IPython.display import SVG, display\n",
    "import svgwrite # conda install -c omnia svgwrite=1.1.6\n",
    "import PIL\n",
    "from PIL import Image\n",
    "import matplotlib.pyplot as plt\n",
    "\n",
    "# set numpy output to something sensible\n",
    "np.set_printoptions(precision=8, edgeitems=6, linewidth=200, suppress=True)"
   ]
  },
  {
   "cell_type": "code",
   "execution_count": 258,
   "metadata": {
    "scrolled": false
   },
   "outputs": [
    {
     "name": "stdout",
     "output_type": "stream",
     "text": [
      "INFO:tensorflow:TensorFlow Version: 1.12.0\n"
     ]
    }
   ],
   "source": [
    "tf.logging.info(\"TensorFlow Version: %s\", tf.__version__)\n"
   ]
  },
  {
   "cell_type": "code",
   "execution_count": 259,
   "metadata": {},
   "outputs": [],
   "source": [
    "base_path = r'D:\\\\playground\\\\projects\\\\magenta_pjt\\\\'\n",
    "subject = 'slime'\n",
    "# model_type = 'gen'  # mode:2, conditional:0\n",
    "model_type = 'vae'  # mode:1, conditional:1\n",
    "\n",
    "\n",
    "import os\n",
    "os.chdir(base_path)"
   ]
  },
  {
   "cell_type": "code",
   "execution_count": 260,
   "metadata": {},
   "outputs": [
    {
     "data": {
      "text/plain": [
       "'\\nfrom sketch_rnn_train import *\\nfrom model import *\\nfrom utils import *\\nfrom rnn import *\\n'"
      ]
     },
     "execution_count": 260,
     "metadata": {},
     "output_type": "execute_result"
    }
   ],
   "source": [
    "# import our command line tools\n",
    "from magenta.models.sketch_rnn.sketch_rnn_train import *\n",
    "from magenta.models.sketch_rnn.model import *\n",
    "from magenta.models.sketch_rnn.utils import *\n",
    "from magenta.models.sketch_rnn.rnn import *\n",
    "\n",
    "\n",
    "# If code is modified to remove magenta dependencies:\n",
    "'''\n",
    "from sketch_rnn_train import *\n",
    "from model import *\n",
    "from utils import *\n",
    "from rnn import *\n",
    "'''"
   ]
  },
  {
   "cell_type": "code",
   "execution_count": 261,
   "metadata": {},
   "outputs": [],
   "source": [
    "# little function that displays vector images and saves them to .svg\n",
    "def draw_strokes(data, factor=0.2, svg_filename='/tmp/sketch_rnn/svg/sample.svg'):\n",
    "    tf.gfile.MakeDirs(os.path.dirname(svg_filename))\n",
    "    min_x, max_x, min_y, max_y = get_bounds(data, factor)\n",
    "    dims = (50 + max_x - min_x, 50 + max_y - min_y)\n",
    "    dwg = svgwrite.Drawing(svg_filename, size=dims)\n",
    "    dwg.add(dwg.rect(insert=(0, 0), size=dims, fill='white'))\n",
    "    lift_pen = 1\n",
    "    abs_x = 25 - min_x\n",
    "    abs_y = 25 - min_y\n",
    "    p = \"M%s,%s \" % (abs_x, abs_y)\n",
    "    command = \"m\"\n",
    "    for i in xrange(len(data)):\n",
    "        if (lift_pen == 1):\n",
    "            command = \"m\"\n",
    "        elif (command != \"l\"):\n",
    "            command = \"l\"\n",
    "        else:\n",
    "            command = \"\"\n",
    "        x = float(data[i, 0]) / factor\n",
    "        y = float(data[i, 1]) / factor\n",
    "        lift_pen = data[i, 2]\n",
    "        p += command + str(x) + \",\" + str(y) + \" \"\n",
    "    the_color = \"black\"\n",
    "    stroke_width = 1\n",
    "    dwg.add(dwg.path(p).stroke(the_color, stroke_width).fill(\"none\"))\n",
    "    dwg.save()\n",
    "    display(SVG(dwg.tostring()))\n",
    "\n",
    "\n",
    "# generate a 2D grid of many vector drawings\n",
    "def make_grid_svg(s_list, grid_space=10.0, grid_space_x=16.0):\n",
    "    def get_start_and_end(x):\n",
    "        x = np.array(x)\n",
    "        x = x[:, 0:2]\n",
    "        x_start = x[0]\n",
    "        x_end = x.sum(axis=0)\n",
    "        x = x.cumsum(axis=0)\n",
    "        x_max = x.max(axis=0)\n",
    "        x_min = x.min(axis=0)\n",
    "        center_loc = (x_max + x_min) * 0.5\n",
    "        return x_start - center_loc, x_end\n",
    "\n",
    "    x_pos = 0.0\n",
    "    y_pos = 0.0\n",
    "    result = [[x_pos, y_pos, 1]]\n",
    "    for sample in s_list:\n",
    "        s = sample[0]\n",
    "        grid_loc = sample[1]\n",
    "        grid_y = grid_loc[0] * grid_space + grid_space * 0.5\n",
    "        grid_x = grid_loc[1] * grid_space_x + grid_space_x * 0.5\n",
    "        start_loc, delta_pos = get_start_and_end(s)\n",
    "\n",
    "        loc_x = start_loc[0]\n",
    "        loc_y = start_loc[1]\n",
    "        new_x_pos = grid_x + loc_x\n",
    "        new_y_pos = grid_y + loc_y\n",
    "        result.append([new_x_pos - x_pos, new_y_pos - y_pos, 0])\n",
    "\n",
    "        result += s.tolist()\n",
    "        result[-1][2] = 1\n",
    "        x_pos = new_x_pos + delta_pos[0]\n",
    "        y_pos = new_y_pos + delta_pos[1]\n",
    "    return np.array(result)\n"
   ]
  },
  {
   "cell_type": "markdown",
   "metadata": {},
   "source": [
    "define the path of the model you want to load, and also the path of the dataset"
   ]
  },
  {
   "cell_type": "code",
   "execution_count": 262,
   "metadata": {},
   "outputs": [
    {
     "name": "stdout",
     "output_type": "stream",
     "text": [
      "D:\\\\playground\\\\projects\\\\magenta_pjt\\\\data_slime\n",
      "D:\\\\playground\\\\projects\\\\magenta_pjt\\\\checkpoints_slime_vae\n"
     ]
    }
   ],
   "source": [
    "# you may need to change these to link to where your data and checkpoints are actually stored!\n",
    "# in the default config, model_dir is likely to be /tmp/sketch_rnn/models\n",
    "\n",
    "# data_dir = './kanji'\n",
    "data_dir = base_path + 'data_{}'.format(subject)\n",
    "# model_dir = './log'\n",
    "model_dir = base_path + 'checkpoints_{}_{}'.format(subject, model_type)\n",
    "print(data_dir)\n",
    "print(model_dir)"
   ]
  },
  {
   "cell_type": "code",
   "execution_count": 263,
   "metadata": {},
   "outputs": [
    {
     "name": "stdout",
     "output_type": "stream",
     "text": [
      "3\n",
      "4\n",
      "INFO:tensorflow:Loaded 52000/6500/6500 from slime.npz\n",
      "INFO:tensorflow:Dataset combined: 65000 (52000/6500/6500), avg len 114\n",
      "INFO:tensorflow:model_params.max_seq_len 165.\n",
      "total images <= max_seq_len is 52000\n",
      "total images <= max_seq_len is 6500\n",
      "total images <= max_seq_len is 6500\n",
      "INFO:tensorflow:normalizing_scale_factor 49.0098.\n"
     ]
    }
   ],
   "source": [
    "[train_set, valid_set, test_set, hps_model, eval_hps_model, sample_hps_model] = load_env(data_dir, model_dir)"
   ]
  },
  {
   "cell_type": "code",
   "execution_count": 264,
   "metadata": {},
   "outputs": [],
   "source": [
    "[hps_model, eval_hps_model, sample_hps_model] = load_model(model_dir)"
   ]
  },
  {
   "cell_type": "code",
   "execution_count": 265,
   "metadata": {},
   "outputs": [
    {
     "name": "stdout",
     "output_type": "stream",
     "text": [
      "INFO:tensorflow:Model using gpu.\n",
      "INFO:tensorflow:Input dropout mode = False.\n",
      "INFO:tensorflow:Output dropout mode = False.\n",
      "INFO:tensorflow:Recurrent dropout mode = True.\n",
      "INFO:tensorflow:Model using gpu.\n",
      "INFO:tensorflow:Input dropout mode = 0.\n",
      "INFO:tensorflow:Output dropout mode = 0.\n",
      "INFO:tensorflow:Recurrent dropout mode = 0.\n",
      "INFO:tensorflow:Model using gpu.\n",
      "INFO:tensorflow:Input dropout mode = 0.\n",
      "INFO:tensorflow:Output dropout mode = 0.\n",
      "INFO:tensorflow:Recurrent dropout mode = 0.\n"
     ]
    }
   ],
   "source": [
    "# construct the sketch-rnn model here:\n",
    "reset_graph()\n",
    "model = Model(hps_model)\n",
    "eval_model = Model(eval_hps_model, reuse=True)\n",
    "sample_model = Model(sample_hps_model, reuse=True)"
   ]
  },
  {
   "cell_type": "code",
   "execution_count": 266,
   "metadata": {},
   "outputs": [],
   "source": [
    "sess = tf.InteractiveSession()\n",
    "sess.run(tf.global_variables_initializer())"
   ]
  },
  {
   "cell_type": "code",
   "execution_count": 267,
   "metadata": {},
   "outputs": [
    {
     "data": {
      "text/plain": [
       "<tensorflow.python.client.session.InteractiveSession at 0x282e1941c50>"
      ]
     },
     "execution_count": 267,
     "metadata": {},
     "output_type": "execute_result"
    }
   ],
   "source": [
    "sess"
   ]
  },
  {
   "cell_type": "code",
   "execution_count": 268,
   "metadata": {},
   "outputs": [],
   "source": [
    "def encode(input_strokes, max_len):\n",
    "    strokes = to_big_strokes(input_strokes, max_len=max_len).tolist()\n",
    "    strokes.insert(0, [0, 0, 1, 0, 0])\n",
    "    seq_len = [len(input_strokes)]\n",
    "    draw_strokes(to_normal_strokes(np.array(strokes)))\n",
    "    return \\\n",
    "    sess.run(eval_model.batch_z, feed_dict={eval_model.input_data: [strokes], eval_model.sequence_lengths: seq_len})[0]\n"
   ]
  },
  {
   "cell_type": "code",
   "execution_count": 269,
   "metadata": {},
   "outputs": [],
   "source": [
    "def decode(z_input=None, draw_mode=True, temperature=0.1, factor=0.2):\n",
    "    z = None\n",
    "    if z_input is not None:\n",
    "        z = [z_input]\n",
    "    sample_strokes, m = sample(sess, sample_model, seq_len=eval_model.hps.max_seq_len, temperature=temperature, z=z)\n",
    "    strokes = to_normal_strokes(sample_strokes)\n",
    "    if draw_mode:\n",
    "        draw_strokes(strokes, factor)\n",
    "    return strokes\n"
   ]
  },
  {
   "cell_type": "code",
   "execution_count": 270,
   "metadata": {},
   "outputs": [
    {
     "name": "stdout",
     "output_type": "stream",
     "text": [
      "INFO:tensorflow:Loading model D:/playground/projects/magenta_pjt/checkpoints_slime_vae\\vector-97500.\n",
      "INFO:tensorflow:Restoring parameters from D:/playground/projects/magenta_pjt/checkpoints_slime_vae\\vector-97500\n"
     ]
    }
   ],
   "source": [
    "# loads the weights from checkpoint into our model\n",
    "load_checkpoint(sess, model_dir)"
   ]
  },
  {
   "cell_type": "markdown",
   "metadata": {},
   "source": [
    "###### conditional"
   ]
  },
  {
   "cell_type": "code",
   "execution_count": 271,
   "metadata": {},
   "outputs": [
    {
     "data": {
      "image/svg+xml": [
       "<svg baseProfile=\"full\" height=\"111.51830546557903\" version=\"1.1\" width=\"148.34767047315836\" xmlns=\"http://www.w3.org/2000/svg\" xmlns:ev=\"http://www.w3.org/2001/xml-events\" xmlns:xlink=\"http://www.w3.org/1999/xlink\"><defs/><rect fill=\"white\" height=\"111.51830546557903\" width=\"148.34767047315836\" x=\"0\" y=\"0\"/><path d=\"M54.483896642923355,36.732347309589386 m-1.42828568816185,0.0 l-7.345468997955322,0.0 -4.590918123722076,0.5101020261645317 l-4.080816209316254,1.42828568816185 -3.3666732907295227,2.040408104658127 l-2.6525303721427917,2.4484896659851074 -3.1626325845718384,3.570714294910431 l-1.9383877515792847,5.101020336151123 -0.9181836247444153,5.509101748466492 l0.10202040895819664,6.427285671234131 2.95859158039093,5.815163254737854 l6.937387585639954,7.447489500045776 6.733346581459045,4.080816209316254 l7.345468997955322,3.2646530866622925 8.773754835128784,1.9383877515792847 l17.139427661895752,0.20404081791639328 5.3050607442855835,-1.3262651860713959 l4.386877417564392,-3.2646530866622925 3.2646530866622925,-3.1626325845718384 l1.7343468964099884,-4.386877417564392 0.9181836247444153,-9.58991825580597 l0.0,-12.956591844558716 -1.0202040523290634,-3.2646530866622925 l-1.3262651860713959,-2.5505101680755615 -2.142428457736969,-1.9383877515792847 l-3.3666732907295227,-1.2242448329925537 -15.813162326812744,-1.0202040523290634 m-23.66873264312744,4.794959127902985 l0.0,1.3262651860713959 -0.9181836247444153,1.8363672494888306 l-0.10202040895819664,1.6323265433311462 1.3262651860713959,1.2242448329925537 l0.5101020261645317,0.3060612082481384 1.9383877515792847,0.10202040895819664 l2.5505101680755615,0.0 1.42828568816185,-0.40808163583278656 l0.9181836247444153,-1.1222244799137115 0.10202040895819664,-2.8565713763237 l-0.10202040895819664,-1.1222244799137115 -0.40808163583278656,-0.6121224164962769 l-1.42828568816185,-0.714142844080925 -1.9383877515792847,0.0 l-1.1222244799137115,0.20404081791639328 -1.2242448329925537,0.8161632716655731 m2.8565713763237,1.42828568816185 l-0.5101020261645317,2.95859158039093 -0.3060612082481384,0.714142844080925 l-0.3060612082481384,0.0 m-1.5303060412406921,-2.3464693129062653 l6.631326079368591,1.1222244799137115 m20.71014165878296,0.20404081791639328 l-1.2242448329925537,1.42828568816185 -0.3060612082481384,2.3464693129062653 l1.9383877515792847,1.1222244799137115 3.468693792819977,0.20404081791639328 l2.040408104658127,-0.3060612082481384 0.6121224164962769,-0.40808163583278656 l0.3060612082481384,-1.0202040523290634 0.0,-2.4484896659851074 l-0.20404081791639328,-0.8161632716655731 -0.714142844080925,-0.6121224164962769 l-1.3262651860713959,-0.40808163583278656 m-1.2242448329925537,0.8161632716655731 l0.10202040895819664,3.3666732907295227 -0.20404081791639328,0.6121224164962769 l-0.714142844080925,0.0 m-1.0202040523290634,-1.5303060412406921 l0.20404081791639328,-0.3060612082481384 2.95859158039093,-0.5101020261645317 m-19.58791732788086,8.773754835128784 l-0.5101020261645317,0.6121224164962769 -0.3060612082481384,1.2242448329925537 l0.20404081791639328,0.5101020261645317 1.1222244799137115,0.3060612082481384 l5.91718316078186,0.0 1.1222244799137115,-0.3060612082481384 l0.10202040895819664,-1.42828568816185 0.0,1.2242448329925537 l0.714142844080925,0.40808163583278656 5.91718316078186,0.10202040895819664 l1.8363672494888306,-0.5101020261645317 0.6121224164962769,-1.3262651860713959 l0.0,-1.42828568816185 -0.5101020261645317,-0.5101020261645317 m-10.712141990661621,-20.404081344604492 l0.3060612082481384,-1.2242448329925537 4.080816209316254,-5.611122250556946 l3.1626325845718384,-2.95859158039093 6.0192036628723145,-3.8767755031585693 l4.6929386258125305,-1.42828568816185 14.894979000091553,0.10202040895819664 l3.9787957072257996,1.6323265433311462 6.325265169143677,3.468693792819977 l5.3050607442855835,4.6929386258125305 6.8353670835494995,9.997999668121338 l1.9383877515792847,2.142428457736969 0.714142844080925,-0.10202040895819664 l-1.0202040523290634,-0.10202040895819664 -1.5303060412406921,1.0202040523290634 l-0.9181836247444153,1.3262651860713959 0.0,1.2242448329925537 l0.40808163583278656,0.714142844080925 2.5505101680755615,0.0 l2.244448959827423,-0.40808163583278656 0.40808163583278656,-0.40808163583278656 l0.0,-2.754550874233246 -1.8363672494888306,-0.10202040895819664 \" fill=\"none\" stroke=\"black\" stroke-width=\"1\"/></svg>"
      ],
      "text/plain": [
       "<IPython.core.display.SVG object>"
      ]
     },
     "metadata": {},
     "output_type": "display_data"
    },
    {
     "name": "stdout",
     "output_type": "stream",
     "text": [
      "(107, 3)\n"
     ]
    }
   ],
   "source": [
    "# get a sample drawing from the test set, and render it to .svg\n",
    "input_strokes = test_set.random_sample()\n",
    "draw_strokes(input_strokes)\n",
    "print(input_strokes.shape)"
   ]
  },
  {
   "cell_type": "code",
   "execution_count": 272,
   "metadata": {},
   "outputs": [
    {
     "ename": "AssertionError",
     "evalue": "",
     "output_type": "error",
     "traceback": [
      "\u001b[1;31m---------------------------------------------------------------------------\u001b[0m",
      "\u001b[1;31mAssertionError\u001b[0m                            Traceback (most recent call last)",
      "\u001b[1;32m<ipython-input-272-2d210f920e47>\u001b[0m in \u001b[0;36m<module>\u001b[1;34m()\u001b[0m\n\u001b[0;32m      1\u001b[0m \u001b[1;31m# Let's try to encode the sample stroke into latent vector $z$\u001b[0m\u001b[1;33m\u001b[0m\u001b[1;33m\u001b[0m\u001b[0m\n\u001b[1;32m----> 2\u001b[1;33m \u001b[0mz\u001b[0m \u001b[1;33m=\u001b[0m \u001b[0mencode\u001b[0m\u001b[1;33m(\u001b[0m\u001b[0minput_strokes\u001b[0m\u001b[1;33m,\u001b[0m \u001b[0mmax_len\u001b[0m\u001b[1;33m=\u001b[0m\u001b[1;36m36\u001b[0m\u001b[1;33m)\u001b[0m\u001b[1;33m\u001b[0m\u001b[0m\n\u001b[0m",
      "\u001b[1;32m<ipython-input-268-92d947593d16>\u001b[0m in \u001b[0;36mencode\u001b[1;34m(input_strokes, max_len)\u001b[0m\n\u001b[0;32m      1\u001b[0m \u001b[1;32mdef\u001b[0m \u001b[0mencode\u001b[0m\u001b[1;33m(\u001b[0m\u001b[0minput_strokes\u001b[0m\u001b[1;33m,\u001b[0m \u001b[0mmax_len\u001b[0m\u001b[1;33m)\u001b[0m\u001b[1;33m:\u001b[0m\u001b[1;33m\u001b[0m\u001b[0m\n\u001b[1;32m----> 2\u001b[1;33m     \u001b[0mstrokes\u001b[0m \u001b[1;33m=\u001b[0m \u001b[0mto_big_strokes\u001b[0m\u001b[1;33m(\u001b[0m\u001b[0minput_strokes\u001b[0m\u001b[1;33m,\u001b[0m \u001b[0mmax_len\u001b[0m\u001b[1;33m=\u001b[0m\u001b[0mmax_len\u001b[0m\u001b[1;33m)\u001b[0m\u001b[1;33m.\u001b[0m\u001b[0mtolist\u001b[0m\u001b[1;33m(\u001b[0m\u001b[1;33m)\u001b[0m\u001b[1;33m\u001b[0m\u001b[0m\n\u001b[0m\u001b[0;32m      3\u001b[0m     \u001b[0mstrokes\u001b[0m\u001b[1;33m.\u001b[0m\u001b[0minsert\u001b[0m\u001b[1;33m(\u001b[0m\u001b[1;36m0\u001b[0m\u001b[1;33m,\u001b[0m \u001b[1;33m[\u001b[0m\u001b[1;36m0\u001b[0m\u001b[1;33m,\u001b[0m \u001b[1;36m0\u001b[0m\u001b[1;33m,\u001b[0m \u001b[1;36m1\u001b[0m\u001b[1;33m,\u001b[0m \u001b[1;36m0\u001b[0m\u001b[1;33m,\u001b[0m \u001b[1;36m0\u001b[0m\u001b[1;33m]\u001b[0m\u001b[1;33m)\u001b[0m\u001b[1;33m\u001b[0m\u001b[0m\n\u001b[0;32m      4\u001b[0m     \u001b[0mseq_len\u001b[0m \u001b[1;33m=\u001b[0m \u001b[1;33m[\u001b[0m\u001b[0mlen\u001b[0m\u001b[1;33m(\u001b[0m\u001b[0minput_strokes\u001b[0m\u001b[1;33m)\u001b[0m\u001b[1;33m]\u001b[0m\u001b[1;33m\u001b[0m\u001b[0m\n\u001b[0;32m      5\u001b[0m     \u001b[0mdraw_strokes\u001b[0m\u001b[1;33m(\u001b[0m\u001b[0mto_normal_strokes\u001b[0m\u001b[1;33m(\u001b[0m\u001b[0mnp\u001b[0m\u001b[1;33m.\u001b[0m\u001b[0marray\u001b[0m\u001b[1;33m(\u001b[0m\u001b[0mstrokes\u001b[0m\u001b[1;33m)\u001b[0m\u001b[1;33m)\u001b[0m\u001b[1;33m)\u001b[0m\u001b[1;33m\u001b[0m\u001b[0m\n",
      "\u001b[1;32mD:\\playground\\projects\\magenta_pjt\\magenta\\models\\sketch_rnn\\utils.py\u001b[0m in \u001b[0;36mto_big_strokes\u001b[1;34m(stroke, max_len)\u001b[0m\n\u001b[0;32m    179\u001b[0m     \u001b[0mresult\u001b[0m \u001b[1;33m=\u001b[0m \u001b[0mnp\u001b[0m\u001b[1;33m.\u001b[0m\u001b[0mzeros\u001b[0m\u001b[1;33m(\u001b[0m\u001b[1;33m(\u001b[0m\u001b[0mmax_len\u001b[0m\u001b[1;33m,\u001b[0m \u001b[1;36m5\u001b[0m\u001b[1;33m)\u001b[0m\u001b[1;33m,\u001b[0m \u001b[0mdtype\u001b[0m\u001b[1;33m=\u001b[0m\u001b[0mfloat\u001b[0m\u001b[1;33m)\u001b[0m\u001b[1;33m\u001b[0m\u001b[0m\n\u001b[0;32m    180\u001b[0m     \u001b[0ml\u001b[0m \u001b[1;33m=\u001b[0m \u001b[0mlen\u001b[0m\u001b[1;33m(\u001b[0m\u001b[0mstroke\u001b[0m\u001b[1;33m)\u001b[0m\u001b[1;33m\u001b[0m\u001b[0m\n\u001b[1;32m--> 181\u001b[1;33m     \u001b[1;32massert\u001b[0m \u001b[0ml\u001b[0m \u001b[1;33m<=\u001b[0m \u001b[0mmax_len\u001b[0m\u001b[1;33m\u001b[0m\u001b[0m\n\u001b[0m\u001b[0;32m    182\u001b[0m     \u001b[0mresult\u001b[0m\u001b[1;33m[\u001b[0m\u001b[1;36m0\u001b[0m\u001b[1;33m:\u001b[0m\u001b[0ml\u001b[0m\u001b[1;33m,\u001b[0m \u001b[1;36m0\u001b[0m\u001b[1;33m:\u001b[0m\u001b[1;36m2\u001b[0m\u001b[1;33m]\u001b[0m \u001b[1;33m=\u001b[0m \u001b[0mstroke\u001b[0m\u001b[1;33m[\u001b[0m\u001b[1;33m:\u001b[0m\u001b[1;33m,\u001b[0m \u001b[1;36m0\u001b[0m\u001b[1;33m:\u001b[0m\u001b[1;36m2\u001b[0m\u001b[1;33m]\u001b[0m\u001b[1;33m\u001b[0m\u001b[0m\n\u001b[0;32m    183\u001b[0m     \u001b[0mresult\u001b[0m\u001b[1;33m[\u001b[0m\u001b[1;36m0\u001b[0m\u001b[1;33m:\u001b[0m\u001b[0ml\u001b[0m\u001b[1;33m,\u001b[0m \u001b[1;36m3\u001b[0m\u001b[1;33m]\u001b[0m \u001b[1;33m=\u001b[0m \u001b[0mstroke\u001b[0m\u001b[1;33m[\u001b[0m\u001b[1;33m:\u001b[0m\u001b[1;33m,\u001b[0m \u001b[1;36m2\u001b[0m\u001b[1;33m]\u001b[0m\u001b[1;33m\u001b[0m\u001b[0m\n",
      "\u001b[1;31mAssertionError\u001b[0m: "
     ]
    }
   ],
   "source": [
    "# Let's try to encode the sample stroke into latent vector $z$\n",
    "z = encode(input_strokes, max_len=36)"
   ]
  },
  {
   "cell_type": "code",
   "execution_count": 273,
   "metadata": {},
   "outputs": [],
   "source": [
    "input_strokes_short = np.array([[ 2.2004945 , -0.19416128,  0.        ],\n",
    "       [-0.05393369, -0.01078674,  0.        ],\n",
    "       [-0.05393369,  0.04314695,  0.        ],\n",
    "       [-0.04314695,  0.05393369,  0.        ],\n",
    "       [ 0.        ,  0.0862939 ,  0.        ],\n",
    "       [ 0.18337454,  0.02157347,  0.        ],\n",
    "       [ 0.19416128, -0.12944084,  0.        ],\n",
    "       [ 0.04314695, -0.15101433,  0.        ],\n",
    "       [-0.12944084, -0.01078674,  1.        ]])"
   ]
  },
  {
   "cell_type": "code",
   "execution_count": 274,
   "metadata": {},
   "outputs": [
    {
     "data": {
      "image/svg+xml": [
       "<svg baseProfile=\"full\" height=\"51.4562096\" version=\"1.1\" width=\"62.3508147\" xmlns=\"http://www.w3.org/2000/svg\" xmlns:ev=\"http://www.w3.org/2001/xml-events\" xmlns:xlink=\"http://www.w3.org/1999/xlink\"><defs/><rect fill=\"white\" height=\"51.4562096\" width=\"62.3508147\" x=\"0\" y=\"0\"/><path d=\"M25,26.4562096 m0.0,0.0 l11.0024725,-0.9708064 -0.26966845,-0.053933699999999994 l-0.26966845,0.21573475 -0.21573475,0.26966845 l0.0,0.4314695 0.9168727,0.10786735 l0.9708064,-0.6472042 0.21573475,-0.75507165 l-0.6472042,-0.053933699999999994 \" fill=\"none\" stroke=\"black\" stroke-width=\"1\"/></svg>"
      ],
      "text/plain": [
       "<IPython.core.display.SVG object>"
      ]
     },
     "metadata": {},
     "output_type": "display_data"
    },
    {
     "ename": "ValueError",
     "evalue": "Cannot feed value of shape (1, 37, 5) for Tensor 'vector_rnn_1/Placeholder_1:0', which has shape '(1, 166, 5)'",
     "output_type": "error",
     "traceback": [
      "\u001b[1;31m---------------------------------------------------------------------------\u001b[0m",
      "\u001b[1;31mValueError\u001b[0m                                Traceback (most recent call last)",
      "\u001b[1;32m<ipython-input-274-ffcb2b425fa7>\u001b[0m in \u001b[0;36m<module>\u001b[1;34m()\u001b[0m\n\u001b[0;32m      1\u001b[0m \u001b[1;31m# Let's try to encode the sample stroke into latent vector $z$\u001b[0m\u001b[1;33m\u001b[0m\u001b[1;33m\u001b[0m\u001b[0m\n\u001b[1;32m----> 2\u001b[1;33m \u001b[0mz\u001b[0m \u001b[1;33m=\u001b[0m \u001b[0mencode\u001b[0m\u001b[1;33m(\u001b[0m\u001b[0minput_strokes_short\u001b[0m\u001b[1;33m,\u001b[0m \u001b[0mmax_len\u001b[0m\u001b[1;33m=\u001b[0m\u001b[1;36m36\u001b[0m\u001b[1;33m)\u001b[0m\u001b[1;33m\u001b[0m\u001b[0m\n\u001b[0m",
      "\u001b[1;32m<ipython-input-268-92d947593d16>\u001b[0m in \u001b[0;36mencode\u001b[1;34m(input_strokes, max_len)\u001b[0m\n\u001b[0;32m      4\u001b[0m     \u001b[0mseq_len\u001b[0m \u001b[1;33m=\u001b[0m \u001b[1;33m[\u001b[0m\u001b[0mlen\u001b[0m\u001b[1;33m(\u001b[0m\u001b[0minput_strokes\u001b[0m\u001b[1;33m)\u001b[0m\u001b[1;33m]\u001b[0m\u001b[1;33m\u001b[0m\u001b[0m\n\u001b[0;32m      5\u001b[0m     \u001b[0mdraw_strokes\u001b[0m\u001b[1;33m(\u001b[0m\u001b[0mto_normal_strokes\u001b[0m\u001b[1;33m(\u001b[0m\u001b[0mnp\u001b[0m\u001b[1;33m.\u001b[0m\u001b[0marray\u001b[0m\u001b[1;33m(\u001b[0m\u001b[0mstrokes\u001b[0m\u001b[1;33m)\u001b[0m\u001b[1;33m)\u001b[0m\u001b[1;33m)\u001b[0m\u001b[1;33m\u001b[0m\u001b[0m\n\u001b[1;32m----> 6\u001b[1;33m     \u001b[1;32mreturn\u001b[0m     \u001b[0msess\u001b[0m\u001b[1;33m.\u001b[0m\u001b[0mrun\u001b[0m\u001b[1;33m(\u001b[0m\u001b[0meval_model\u001b[0m\u001b[1;33m.\u001b[0m\u001b[0mbatch_z\u001b[0m\u001b[1;33m,\u001b[0m \u001b[0mfeed_dict\u001b[0m\u001b[1;33m=\u001b[0m\u001b[1;33m{\u001b[0m\u001b[0meval_model\u001b[0m\u001b[1;33m.\u001b[0m\u001b[0minput_data\u001b[0m\u001b[1;33m:\u001b[0m \u001b[1;33m[\u001b[0m\u001b[0mstrokes\u001b[0m\u001b[1;33m]\u001b[0m\u001b[1;33m,\u001b[0m \u001b[0meval_model\u001b[0m\u001b[1;33m.\u001b[0m\u001b[0msequence_lengths\u001b[0m\u001b[1;33m:\u001b[0m \u001b[0mseq_len\u001b[0m\u001b[1;33m}\u001b[0m\u001b[1;33m)\u001b[0m\u001b[1;33m[\u001b[0m\u001b[1;36m0\u001b[0m\u001b[1;33m]\u001b[0m\u001b[1;33m\u001b[0m\u001b[0m\n\u001b[0m",
      "\u001b[1;32mC:\\ProgramData\\Anaconda3\\lib\\site-packages\\tensorflow\\python\\client\\session.py\u001b[0m in \u001b[0;36mrun\u001b[1;34m(self, fetches, feed_dict, options, run_metadata)\u001b[0m\n\u001b[0;32m    927\u001b[0m     \u001b[1;32mtry\u001b[0m\u001b[1;33m:\u001b[0m\u001b[1;33m\u001b[0m\u001b[0m\n\u001b[0;32m    928\u001b[0m       result = self._run(None, fetches, feed_dict, options_ptr,\n\u001b[1;32m--> 929\u001b[1;33m                          run_metadata_ptr)\n\u001b[0m\u001b[0;32m    930\u001b[0m       \u001b[1;32mif\u001b[0m \u001b[0mrun_metadata\u001b[0m\u001b[1;33m:\u001b[0m\u001b[1;33m\u001b[0m\u001b[0m\n\u001b[0;32m    931\u001b[0m         \u001b[0mproto_data\u001b[0m \u001b[1;33m=\u001b[0m \u001b[0mtf_session\u001b[0m\u001b[1;33m.\u001b[0m\u001b[0mTF_GetBuffer\u001b[0m\u001b[1;33m(\u001b[0m\u001b[0mrun_metadata_ptr\u001b[0m\u001b[1;33m)\u001b[0m\u001b[1;33m\u001b[0m\u001b[0m\n",
      "\u001b[1;32mC:\\ProgramData\\Anaconda3\\lib\\site-packages\\tensorflow\\python\\client\\session.py\u001b[0m in \u001b[0;36m_run\u001b[1;34m(self, handle, fetches, feed_dict, options, run_metadata)\u001b[0m\n\u001b[0;32m   1126\u001b[0m                              \u001b[1;34m'which has shape %r'\u001b[0m \u001b[1;33m%\u001b[0m\u001b[1;33m\u001b[0m\u001b[0m\n\u001b[0;32m   1127\u001b[0m                              (np_val.shape, subfeed_t.name,\n\u001b[1;32m-> 1128\u001b[1;33m                               str(subfeed_t.get_shape())))\n\u001b[0m\u001b[0;32m   1129\u001b[0m           \u001b[1;32mif\u001b[0m \u001b[1;32mnot\u001b[0m \u001b[0mself\u001b[0m\u001b[1;33m.\u001b[0m\u001b[0mgraph\u001b[0m\u001b[1;33m.\u001b[0m\u001b[0mis_feedable\u001b[0m\u001b[1;33m(\u001b[0m\u001b[0msubfeed_t\u001b[0m\u001b[1;33m)\u001b[0m\u001b[1;33m:\u001b[0m\u001b[1;33m\u001b[0m\u001b[0m\n\u001b[0;32m   1130\u001b[0m             \u001b[1;32mraise\u001b[0m \u001b[0mValueError\u001b[0m\u001b[1;33m(\u001b[0m\u001b[1;34m'Tensor %s may not be fed.'\u001b[0m \u001b[1;33m%\u001b[0m \u001b[0msubfeed_t\u001b[0m\u001b[1;33m)\u001b[0m\u001b[1;33m\u001b[0m\u001b[0m\n",
      "\u001b[1;31mValueError\u001b[0m: Cannot feed value of shape (1, 37, 5) for Tensor 'vector_rnn_1/Placeholder_1:0', which has shape '(1, 166, 5)'"
     ]
    }
   ],
   "source": [
    "# Let's try to encode the sample stroke into latent vector $z$\n",
    "z = encode(input_strokes_short, max_len=36)"
   ]
  },
  {
   "cell_type": "code",
   "execution_count": 275,
   "metadata": {},
   "outputs": [
    {
     "data": {
      "image/svg+xml": [
       "<svg baseProfile=\"full\" height=\"120.41757667218917\" version=\"1.1\" width=\"856.9112233538181\" xmlns=\"http://www.w3.org/2000/svg\" xmlns:ev=\"http://www.w3.org/2001/xml-events\" xmlns:xlink=\"http://www.w3.org/1999/xlink\"><defs/><rect fill=\"white\" height=\"120.41757667218917\" width=\"856.9112233538181\" x=\"0\" y=\"0\"/><path d=\"M25.674259094521403,33.92357080243528 m0.0,0.0 m52.571977325715125,16.774491275427863 l-0.8158378303050995,0.512748509645462 -1.9037805497646332,1.5707935392856598 l-0.3433772921562195,2.113424241542816 0.6413353234529495,2.628045082092285 l1.488804817199707,2.4948041141033173 2.2289571166038513,1.9820696115493774 l1.0332658141851425,-0.6637512892484665 2.132921814918518,-0.9148821234703064 l2.0468980073928833,-2.0525869727134705 1.5112753212451935,-3.181506097316742 l0.050822459161281586,-4.892721176147461 -1.3529060781002045,-2.5705164670944214 l-2.6728931069374084,-2.514842450618744 -3.424389958381653,-1.9245365262031555 m-15.996410846710205,14.552844762802124 l-0.29755087569355965,1.9811581075191498 -0.23919815197587013,2.221584916114807 l2.664358913898468,-0.05621226970106363 2.5202396512031555,-0.9467250853776932 l0.39064478129148483,2.398335188627243 1.2349744141101837,-1.894460767507553 l0.3120805323123932,1.8161731958389282 0.7537767291069031,-0.1928108185529709 l0.7655501365661621,-0.9096553921699524 0.3103436157107353,-3.2704371213912964 l0.17928164452314377,-3.940996527671814 m-24.61737871170044,10.05282998085022 l0.4027603939175606,1.489986628293991 4.561519622802734,0.2416757121682167 l2.1356983482837677,-0.9876514971256256 0.1869412139058113,-1.0177800804376602 l-3.423495292663574,0.3240121155977249 -3.581399917602539,0.6564993411302567 l-0.2954014576971531,1.1717946082353592 0.7910105586051941,0.7844787836074829 l1.9897490739822388,0.5119819939136505 m28.653199672698975,-0.344410240650177 l4.984714984893799,-0.15465844422578812 2.0057354867458344,-0.11555218137800694 l0.2406589314341545,-1.4807622134685516 -0.3972264751791954,-0.5054307729005814 l-0.9882105141878128,-0.9099696576595306 -5.627034306526184,-0.11307320557534695 l-1.0546275228261948,1.365944892168045 0.07062992546707392,2.3190920054912567 m-11.401313543319702,-38.35373401641846 l-0.2532986178994179,-0.24537373334169388 -0.11893166229128838,0.008432796457782388 l-10.15988826751709,3.917575180530548 -5.996732711791992,4.83823299407959 l-5.365083813667297,4.869749546051025 -4.540182650089264,5.725613236427307 l-3.3434945344924927,5.387814044952393 -1.9415123760700226,3.415372669696808 l-1.7411011457443237,3.9150461554527283 -5.7482582330703735,9.994548559188843 l-1.574472337961197,4.737827479839325 -0.31899694353342056,2.7619272470474243 l0.389602892100811,1.917780339717865 3.5178714990615845,2.697119116783142 l14.604536294937134,4.30774986743927 26.794965267181396,2.2838249802589417 l4.559703171253204,-1.0332182794809341 24.743826389312744,-1.625577062368393 l2.8979265689849854,-1.3315333425998688 1.7593201994895935,-1.596035659313202 l0.3826778009533882,-1.5390689671039581 0.06641244515776634,-14.475951194763184 l-1.0795778036117554,-3.3865272998809814 -6.015667915344238,-11.788667440414429 l-3.006565272808075,-3.4334194660186768 -2.0717085897922516,-1.8049131333827972 l-7.7967751026153564,-4.944092929363251 -4.058413505554199,-1.2331298738718033 l-8.942084908485413,-1.2526404857635498 -4.745735228061676,-1.6531862318515778 l-1.2685003876686096,-1.6680742800235748 -0.7760078459978104,-1.6970925033092499 l-0.2172820270061493,-5.282949805259705 -1.115000993013382,-2.4051164090633392 m81.02748204080854,19.783584596589208 l-0.021578771993517876,0.022432783152908087 -2.254878878593445,1.5009912848472595 l-0.30199578031897545,1.8316039443016052 0.5775128304958344,2.4476811289787292 l1.3950817286968231,2.4730780720710754 2.1203474700450897,2.1262574195861816 l3.8518789410591125,-1.1493846774101257 0.7621399313211441,-0.87270088493824 l1.5839256346225739,-2.3016169667243958 0.9123151749372482,-3.385169506072998 l0.0012926495401188731,-4.927476644515991 -1.3328208029270172,-2.4486926198005676 l-2.705695331096649,-2.3296646773815155 -3.466699719429016,-1.7457881569862366 m-15.845619440078735,15.099769830703735 l-0.25364020839333534,1.9875569641590118 -0.21669302135705948,2.3002633452415466 l2.5288328528404236,-0.06969010457396507 2.5988098978996277,-1.0493774712085724 l0.3618279844522476,2.3684239387512207 1.0609108954668045,-1.6235160827636719 l0.2647499553859234,1.7668363451957703 0.8055213838815689,-0.21656783297657967 l0.8384168148040771,-0.9199636429548264 0.3388544172048569,-3.2500526309013367 l0.2056107297539711,-3.8821208477020264 m-24.892497062683105,10.259939432144165 l0.373477041721344,1.6723154485225677 4.570494294166565,0.2488536201417446 l2.143269032239914,-0.9949124604463577 0.5134160816669464,-1.5222382545471191 l-3.430261015892029,0.28860965743660927 -3.773197829723358,0.622931569814682 l-0.32155606895685196,1.1968549340963364 0.7685304433107376,0.7842645049095154 l2.001146823167801,0.5166157707571983 2.6154136657714844,0.07205200381577015 m27.676362991333008,-0.4186258092522621 l0.60077253729105,0.6646595150232315 0.934281051158905,0.18296929076313972 l1.6412906348705292,0.29045963659882545 0.05266754887998104,-1.3385562598705292 l-0.3695167228579521,-0.5241529643535614 -0.7382837682962418,-0.9212226420640945 l-5.197716951370239,-0.12745840474963188 -1.0534748435020447,1.3354890048503876 m-8.69057297706604,-29.93521213531494 l-0.013783766189590096,-0.08006494492292404 0.46484362334012985,0.10435249656438828 l-7.033952474594116,4.7840628027915955 -3.8743790984153748,4.249129295349121 l-4.715793132781982,4.5444998145103455 -3.8474994897842407,4.730643928050995 l-1.84287428855896,3.42919260263443 -1.0722073167562485,2.9445183277130127 l-0.7607045769691467,2.7744492888450623 -0.5388126149773598,2.5935781002044678 l-3.2422366738319397,8.764008283615112 -0.7739482820034027,4.845442771911621 l-0.0053197762463241816,2.786417305469513 0.5399053916335106,1.9057191908359528 l3.012128472328186,2.718358635902405 14.536017179489136,4.110287427902222 l4.351001679897308,0.5607513338327408 29.125261306762695,0.8093906939029694 l3.8251808285713196,-0.7142893224954605 18.454376459121704,-3.4311479330062866 l2.9528626799583435,-1.8509291112422943 1.2550479173660278,-5.267596244812012 l-0.12782483361661434,-10.474836826324463 -2.623029947280884,-7.5882649421691895 l-1.8983560800552368,-2.7890655398368835 -7.771528959274292,-11.356345415115356 l-3.4310752153396606,-3.088318705558777 -4.99395877122879,-1.7028148472309113 l-9.758549332618713,-0.8828402310609818 -5.343993902206421,-0.854257196187973 l-3.6559051275253296,-2.042105346918106 -2.4584367871284485,-2.346344292163849 l-0.31025802716612816,-4.338257312774658 -0.23500289767980576,-5.0321632623672485 m91.70230072457343,28.366788462080876 l0.08709906600415707,-0.05396964494138956 -0.9383182972669601,0.6778763979673386 l-0.31883999705314636,1.0414871573448181 0.4867902770638466,1.7934493720531464 l1.113862693309784,2.058071792125702 1.6204918920993805,2.1034738421440125 l2.2020311653614044,1.6830165684223175 1.1092517524957657,-0.6138890236616135 l2.2421444952487946,-1.1376015096902847 2.160582095384598,-2.2741933166980743 l1.2465723603963852,-2.7253320813179016 0.0529798399657011,-4.689897298812866 l-1.4815478026866913,-2.713945209980011 -2.661634385585785,-2.6051118969917297 l-3.4043845534324646,-0.4752148315310478 m-16.109120845794678,14.86263632774353 l-0.22623015567660332,1.9617751240730286 -0.1854519546031952,2.2344323992729187 l2.6895004510879517,-0.0932752899825573 2.3825067281723022,-1.0433970391750336 l0.3514135628938675,2.2652091085910797 1.221209540963173,-1.6886711120605469 l0.34666623920202255,1.7539158463478088 0.8035371452569962,-0.1914619840681553 l0.8269789069890976,-0.8665482699871063 0.3970930352807045,-3.1659144163131714 l0.2613317221403122,-3.7489527463912964 m-24.81456995010376,10.737497806549072 l0.3526419773697853,1.6987848281860352 4.55671489238739,0.25763140991330147 l2.095235139131546,-1.0207793861627579 0.20291129127144814,-1.083812564611435 l-3.7326332926750183,0.32819975167512894 -3.891896605491638,0.67060686647892 l-0.27612438425421715,1.275026649236679 1.2913234531879425,0.8347220718860626 l2.5577202439308167,0.5183063820004463 m28.659415245056152,-0.377991683781147 l5.0034308433532715,-0.19757023081183434 1.9950596988201141,-0.18931489437818527 l0.2270408533513546,-1.5297821164131165 -0.42090434581041336,-0.5067696794867516 l-1.0337112098932266,-0.8783157169818878 -5.716379284858704,-0.11858371086418629 l-1.0532856732606888,1.3359417021274567 0.06336495280265808,2.264934331178665 l5.205618143081665,0.280548594892025 m-14.50148344039917,-41.55700206756592 l-0.4323999956250191,-0.2799069881439209 -0.41787493973970413,0.0010365696653025225 l-10.649993419647217,3.305974304676056 -6.344090700149536,5.215997099876404 l-5.559918284416199,4.885820746421814 -4.552262723445892,5.441364645957947 l-2.25907102227211,2.695062756538391 -2.1582195162773132,3.174012005329132 l-1.4699961245059967,3.271518051624298 -6.472098231315613,10.178461074829102 l-1.9367139041423798,4.722880125045776 -1.2330234795808792,4.651578664779663 l-0.043283565901219845,2.7234017848968506 1.4448630809783936,2.0444929599761963 l4.253306686878204,2.6151934266090393 16.226985454559326,3.9537417888641357 l29.678304195404053,1.4330953359603882 4.752741456031799,-1.511097103357315 l6.302374005317688,-1.4744138717651367 18.550468683242798,-2.256479114294052 l2.505316734313965,-1.2123311311006546 1.2283365428447723,-1.3921183347702026 l-0.028701629489660263,-14.827910661697388 -1.2140815705060959,-3.37190181016922 l-1.8023483455181122,-3.618224263191223 -7.71689772605896,-11.554079055786133 l-3.4881383180618286,-3.3004409074783325 -2.3200421035289764,-1.5897123515605927 l-8.54995608329773,-3.724163770675659 -4.607707858085632,-1.135471761226654 l-9.838289022445679,-1.2469613552093506 -4.761076271533966,-2.047426700592041 l-1.1171150207519531,-1.7310874164104462 -0.18744228407740593,-5.212468504905701 l-0.3060596063733101,-6.168459057807922 m90.0767041160725,27.763721997616813 l-1.8373793363571167,0.8544309437274933 -1.9876620173454285,3.589564263820648 l-0.3881479799747467,3.6509275436401367 1.1399325728416443,3.4445762634277344 l2.2920039296150208,2.579658329486847 1.4531981945037842,0.41826631873846054 l2.4043792486190796,-0.2335510030388832 2.586718201637268,-1.4919202029705048 l2.3223648965358734,-2.827404737472534 1.4406861364841461,-4.007584452629089 l-0.4748860001564026,-1.400408297777176 -1.6550864279270172,-3.046676516532898 l-2.801275849342346,-2.7524003386497498 -3.41986745595932,-0.46293921768665314 m-16.658068895339966,13.456621170043945 l-0.35690926015377045,2.1802201867103577 -0.2272414229810238,2.0320551097393036 l2.586004137992859,-0.010516148759052157 2.9374048113822937,-1.2925752997398376 l0.3399922698736191,2.4014806747436523 0.25657495483756065,1.755996197462082 l1.275612860918045,-1.7431551218032837 0.8796490728855133,-1.4488263428211212 l0.30781909823417664,-3.315475881099701 0.22697856649756432,-4.059821367263794 m-24.996979236602783,10.056421756744385 l0.47287702560424805,1.6221106052398682 4.485001266002655,0.2788197994232178 l2.026495039463043,-0.9791487455368042 0.22020917385816574,-1.0176566988229752 l-3.150477111339569,0.3798287361860275 -3.007471263408661,0.7166178524494171 l-1.29827082157135,0.9652324020862579 0.5714873224496841,0.8429212868213654 l1.9121913611888885,0.5961108207702637 2.6738566160202026,0.16699058935046196 m28.478868007659912,-0.3918839618563652 l0.658891350030899,0.6526201963424683 0.9445461630821228,0.13184672221541405 l0.4845527932047844,-0.40378864854574203 -0.0589227257296443,-1.54555544257164 l-0.45865535736083984,-0.5181905999779701 -4.559777081012726,-0.09233254007995129 l-1.0066504031419754,1.3124001026153564 -0.04210079088807106,2.1141408383846283 l4.959602057933807,0.23731693625450134 m-13.665217161178589,-40.34622669219971 l-0.3187641501426697,-0.22345073521137238 -0.44587187469005585,-0.020327845122665167 l-10.298171043395996,2.284613251686096 -5.4684412479400635,3.974629044532776 l-5.982864499092102,5.174687504768372 -4.4728586077690125,5.318251848220825 l-2.2031351923942566,2.7218374609947205 -2.1512164175510406,3.0456501245498657 l-1.4578346908092499,3.183201253414154 -6.702421307563782,10.605392456054688 l-1.930285096168518,4.6501606702804565 -1.2371939420700073,4.61801677942276 l-0.021716805640608072,2.6550760865211487 1.4584575593471527,2.0221996307373047 l4.302268028259277,2.6386654376983643 17.260652780532837,3.6684197187423706 l4.840914607048035,0.4056636244058609 35.061190128326416,-0.0426590396091342 l4.862871170043945,-1.650029867887497 6.464129090309143,-1.641426533460617 l14.114431142807007,-1.0639185458421707 2.458750605583191,-0.971023440361023 l0.6537126749753952,-1.4419445395469666 0.2611207030713558,-1.7968401312828064 l-0.23438885807991028,-11.555908918380737 -0.9880953282117844,-3.458060622215271 l-1.6744039952754974,-3.670947253704071 -7.334405183792114,-11.452968120574951 l-3.4295329451560974,-3.3730486035346985 -2.248923182487488,-1.6520589590072632 l-8.444181680679321,-4.424279034137726 -4.512993395328522,-1.1934206634759903 l-9.715153574943542,-1.2443994730710983 -5.012268424034119,-1.977260410785675 l-1.2557142972946167,-1.756608635187149 -0.1949954777956009,-5.209537744522095 l-0.30482394620776176,-6.303202509880066 m76.48501793737523,26.68582932321442 l-0.24342447519302368,-1.134575754404068 -0.25750525295734406,3.095267415046692 l0.2988615445792675,2.1818751096725464 1.2976531684398651,2.1571840345859528 l1.9015857577323914,1.8287140130996704 2.311447113752365,1.2294011563062668 l1.022297665476799,-0.9077747911214828 2.1466806530952454,-1.5555188059806824 l1.900240033864975,-2.6854336261749268 1.059989258646965,-3.54462593793869 l-0.46258769929409027,-1.4676526188850403 -1.4669422805309296,-2.685309946537018 l-2.555769383907318,-2.4230511486530304 -3.350968360900879,-1.9288796186447144 m-15.963079929351807,14.21243667602539 l-0.21675242111086845,1.984209269285202 -0.21737925708293915,2.229512333869934 l2.8494206070899963,-0.07858691737055779 2.0667988061904907,-0.9796062111854553 l0.4142683371901512,2.2558896243572235 1.6409990191459656,-1.9131119549274445 l0.48454824835062027,1.8549765646457672 0.7282521575689316,-0.18561851233243942 l0.6957770138978958,-0.9004604816436768 0.3431658446788788,-3.184438645839691 l0.2003145031630993,-3.7926527857780457 m-25.39501428604126,9.408721923828125 l2.3520025610923767,0.8201772719621658 -0.6238767877221107,-1.9553960859775543 l0.3907398134469986,-1.5070925652980804 -3.815559148788452,0.7212511450052261 l-0.08308379910886288,1.3383139669895172 0.878726914525032,1.0269095748662949 l1.9005946815013885,0.6638672202825546 2.888370454311371,0.1971401832997799 m29.07097101211548,-0.370737761259079 l4.90673154592514,-0.1438456028699875 0.7206123322248459,-0.16073724254965782 l0.30314456671476364,-0.5601706728339195 -0.08357568643987179,-1.6217763721942902 l-0.4863405227661133,-0.491134375333786 -5.231049656867981,-0.11311630718410015 l-1.1130666732788086,1.3469214737415314 -0.012748989975079894,2.230832278728485 l5.18034040927887,0.3072211891412735 m-13.99480938911438,-41.95653438568115 l-0.41114136576652527,-0.2611924149096012 -0.4327748343348503,0.0001434516889275983 l-3.847220540046692,4.059217572212219 -5.841199159622192,2.6678836345672607 l-7.379738688468933,8.801906108856201 -4.694523811340332,5.8953940868377686 l-2.1572308242321014,2.8560233116149902 -1.5455037355422974,3.1911763548851013 l-1.2342379242181778,3.1879162788391113 -5.906980633735657,9.436806440353394 l-1.745874434709549,4.679085314273834 -0.5756637081503868,2.9019907116889954 l0.09599783457815647,2.016572207212448 3.031764328479767,6.039426922798157 l2.1194319427013397,1.5504318475723267 16.988130807876587,4.187578856945038 l27.942636013031006,1.8947361409664154 4.711281657218933,-1.4667873084545135 l21.115601062774658,-1.191551461815834 2.6919108629226685,-1.1889440566301346 l13.26456069946289,-5.543187856674194 -3.0273690819740295,-2.1601873636245728 l-0.3690062463283539,-11.4717698097229 -1.2579044699668884,-3.5775980353355408 l-6.781355142593384,-11.949506998062134 -3.23903352022171,-3.4350478649139404 l-2.268887013196945,-1.83010533452034 -8.272045254707336,-4.713640213012695 l-4.37921941280365,-1.1815204471349716 -9.685619473457336,-1.2116208672523499 l-4.998684823513031,-1.8469379842281342 -1.1973869800567627,-1.6701380908489227 l-0.7771641761064529,-1.699201613664627 -0.23297980427742004,-5.31915545463562 m81.1382002371829,31.701369105976482 l0.264059379696846,-0.10872195474803448 -1.4531515538692474,2.692279815673828 l-0.32994430512189865,1.6601139307022095 0.9427182376384735,1.8900977075099945 l1.6228391230106354,1.8948443233966827 2.112427204847336,1.4757096767425537 l2.4968960881233215,0.584995448589325 1.0700197517871857,-0.8176694065332413 l2.0424459874629974,-2.0264770090579987 1.6399121284484863,-3.308360278606415 l0.04460796248167753,-4.797542989253998 -1.2141117453575134,-2.653314173221588 l-2.475949674844742,-2.64609158039093 -3.336799740791321,-2.0575082302093506 m-15.834378004074097,14.604744911193848 l-0.22510414943099022,1.969074010848999 -0.21361080929636955,2.174125611782074 l2.869846224784851,-0.09330117143690586 2.4999751150608063,-0.3031225688755512 l0.3947892040014267,2.291509211063385 0.5923830345273018,-1.8714213371276855 l0.32911811023950577,1.8442164361476898 0.7390846312046051,-0.24020841345191002 l0.7552898675203323,-0.9234603494405746 0.3583434969186783,-3.0925509333610535 l0.23764412850141525,-3.7086325883865356 m-24.980661869049072,10.150235891342163 l2.391214966773987,0.800318643450737 1.9631874561309814,-1.8270370364189148 l1.1189229041337967,-1.6489960253238678 -5.687745809555054,1.0484634339809418 l-0.11791739612817764,1.1672773212194443 0.8988593518733978,1.1310295760631561 l2.390485256910324,0.6826357543468475 m30.102858543395996,-0.2076125703752041 l5.044630169868469,-0.14472461305558681 0.7464933395385742,-0.2106083743274212 l0.26472968980669975,-0.5831724405288696 -0.09594269096851349,-1.618829220533371 l-0.5471201613545418,-0.46468034386634827 -5.199888348579407,-0.11683355085551739 l-1.0915898531675339,1.3038532435894012 0.007135589839890599,2.152695804834366 l5.404624938964844,0.25741199031472206 m-14.662313461303711,-42.40382194519043 l-0.3559006378054619,-0.22597122937440872 -0.417509526014328,-0.002502549614291638 l-4.93014395236969,0.49003399908542633 -6.313561797142029,5.389029383659363 l-6.076539754867554,5.437239408493042 -5.076916813850403,5.938162803649902 l-4.155588746070862,6.3388413190841675 -2.102471888065338,3.223521411418915 l-1.4295689761638641,3.3625617623329163 -6.34770929813385,10.305813550949097 l-1.767888367176056,4.747664928436279 -0.501866452395916,2.9086121916770935 l0.18722862005233765,1.9922243058681488 1.5020501613616943,1.9186240434646606 l4.264450967311859,2.541220486164093 18.12674641609192,3.898901045322418 l4.9115487933158875,0.40191594511270523 34.0240740776062,0.34626323729753494 l4.725230634212494,-1.611710637807846 20.844101905822754,-3.4057769179344177 l2.357839047908783,-1.210646629333496 -0.47560915350914,-4.217418730258942 l-0.3824492543935776,-12.048604488372803 -1.238807886838913,-3.6354973912239075 l-1.9013434648513794,-3.5964184999465942 -7.628255486488342,-11.53361439704895 l-3.4714114665985107,-3.2407137751579285 -2.3475995659828186,-1.5931232273578644 l-8.501662611961365,-3.7904706597328186 -4.6054986119270325,-1.1588671058416367 l-9.847915172576904,-1.2622642517089844 -4.863099753856659,-2.0319736003875732 l-1.131339743733406,-1.7441461980342865 -0.18903469666838646,-5.307348966598511 l-0.313967764377594,-6.24110221862793 m71.05387357296422,21.01298068650067 l-2.7887555956840515,0.8466518670320511 -2.691720128059387,11.051543951034546 l2.1438470482826233,4.184289574623108 m1.2713134288787842,0.4302065819501877 l2.9442185163497925,1.181880235671997 2.891853153705597,-0.2701983042061329 l3.111603856086731,-1.6181637346744537 2.9511991143226624,-3.210960030555725 l-0.023712816182523966,-1.5249603986740112 0.10060803033411503,-4.921190440654755 l-1.9249361753463745,-3.66362601518631 -2.7413704991340637,-3.203102946281433 l-3.1055745482444763,-0.7265878468751907 m20.901098251342773,2.110646665096283 l2.8027039766311646,1.770530343055725 0.630052462220192,4.162708818912506 l-0.9843795746564865,1.134292483329773 -0.3998088836669922,2.1550336480140686 l0.40775351226329803,2.490919381380081 2.8366565704345703,-1.1915325373411179 l1.7939792573451996,-1.8157197535037994 1.0833349823951721,-1.1170083284378052 l0.16110682860016823,-0.8007147908210754 -7.7627503871917725,-1.7266075313091278 l-3.262777626514435,-1.269398182630539 m-19.20443296432495,15.257242918014526 l0.29227767139673233,2.5028032064437866 0.7479936629533768,1.0571584105491638 l1.0677944868803024,-0.38499828428030014 0.9630811214447021,-0.5717284604907036 l0.41565753519535065,-1.6345657408237457 1.5633086860179901,2.054267078638077 m-22.92295217514038,5.2595120668411255 l0.8314432948827744,0.7881861180067062 2.3032358288764954,0.171891450881958 l1.245354637503624,-0.8748786151409149 0.40696192532777786,-1.2369182705879211 l-0.31848613172769547,-0.7737322896718979 -0.4030778259038925,-0.6353454291820526 m17.243332862854004,-1.236458420753479 l3.7700140476226807,-0.3110513463616371 0.4035092517733574,-0.38271043449640274 l-6.7919230461120605,-0.3576638549566269 -1.0435587912797928,1.417015790939331 l5.7009124755859375,1.1109250038862228 1.9791319966316223,-1.2525653839111328 m78.64148091059178,-17.042400664649904 l0.07287112064659595,-1.2619760632514954 -1.5200310945510864,-0.043812752701342106 l-0.494663268327713,0.7053466141223907 0.05312519147992134,1.7031402885913849 l0.657704547047615,2.5428295135498047 1.2802545726299286,2.838839590549469 l2.1906647086143494,2.6867851614952087 1.1914672702550888,-0.4190489649772644 l0.9468546509742737,-0.6477015465497971 1.796955019235611,-1.5193143486976624 l1.5974865853786469,-2.51192569732666 0.12935207225382328,-4.363795816898346 l-0.036720221396535635,-5.292415022850037 -1.0005076974630356,-1.6641579568386078 l-2.5938647985458374,-2.190909683704376 -3.5042032599449158,-1.6416172683238983 m-16.045371294021606,15.483626127243042 l-0.2790800482034683,1.8564952909946442 -0.20346462726593018,2.225785106420517 l2.1863220632076263,-0.04516652785241604 1.9360996782779694,-0.13218332082033157 l3.414633870124817,-1.2563209235668182 0.13287092559039593,2.1712996065616608 l0.21951571106910706,1.3576751947402954 1.211458072066307,-1.744912564754486 l0.3368331864476204,-3.37102472782135 0.23515615612268448,-3.889402747154236 m-24.377765655517578,10.852440595626831 l0.35814281553030014,1.7631733417510986 4.405604898929596,0.19268479198217392 l2.1080349385738373,-1.0245286673307419 0.5066638067364693,-1.5609803795814514 l-3.3195948600769043,0.29944421723484993 -3.5407766699790955,0.6237919256091118 l-0.2812739461660385,1.1992575228214264 -0.12039577588438988,1.4197790622711182 l2.10235595703125,0.5984651669859886 2.760360836982727,0.09759007953107357 m27.39314079284668,-0.4032861813902855 l0.5711695924401283,0.619671531021595 0.8897516131401062,0.12103330343961716 l0.5050882697105408,-0.39246324449777603 -0.03631838597357273,-1.5807335078716278 l-0.4244747757911682,-0.5616866797208786 -5.165344476699829,-0.3346434235572815 l-1.0564043372869492,1.3193392753601074 -0.010642602574080229,2.2232921421527863 m-10.488468408584595,-36.243252754211426 l-0.24739697575569153,-0.20537430420517921 -11.981217861175537,3.6680516600608826 l0.6650006771087646,2.6359570026397705 -1.8655093014240265,3.9453446865081787 l-4.988450109958649,8.317009806632996 -2.680114507675171,5.419780611991882 l-0.5087469890713692,3.1702497601509094 -0.4650251194834709,2.728055417537689 l-0.31642571091651917,2.2095386683940887 -0.07184473797678947,1.8350288271903992 l-0.40486540645360947,6.725245714187622 0.6003128364682198,3.417806923389435 l3.0644527077674866,3.235640823841095 17.016968727111816,4.686749875545502 l32.90653944015503,1.6139693558216095 4.407545626163483,-1.2746816873550415 l17.194477319717407,-3.498561978340149 3.0471405386924744,-4.202665388584137 l-0.7187642157077789,-4.735022187232971 -0.2174026519060135,-11.014424562454224 l-1.1707669496536255,-3.1956300139427185 -6.139480471611023,-11.981359720230103 l-2.8027522563934326,-3.340553939342499 -4.484165012836456,-2.3304830491542816 l-9.12141501903534,-2.5103285908699036 -4.925927519798279,-0.8467692136764526 l-3.5943564772605896,-1.6852182149887085 -2.796100676059723,-2.298938035964966 l-1.9725282490253448,-2.3263606429100037 -0.3126157075166702,-4.6427688002586365 m54.15278306914843,23.035973871446913 l-6.173152327537537,3.8207313418388367 6.0087913274765015,5.5363929271698 m39.80839490890503,1.9674871861934662 l3.035663366317749,-0.9887374192476273 3.653962016105652,0.08991300128400326 l1.8765060603618622,-1.2374423444271088 1.5857210755348206,-1.5944167971611023 l1.527135968208313,-1.6617275774478912 1.1828941106796265,-10.108766555786133 l-8.616415858268738,-4.278826117515564 -5.441833138465881,0.9038057923316956 l-5.965709686279297,-0.31002430245280266 -9.280632734298706,-1.9570256769657135 l-0.7727468013763428,-4.652699530124664 -0.6085400283336639,-0.6049784272909164 l-1.1419226974248886,-2.6648783683776855 -1.4278541505336761,-2.9434651136398315 m-10.710306167602539,21.82966709136963 l-0.5837767571210861,0.5534711480140686 -0.38372963666915894,1.4693959057331085 l0.2184947393834591,2.456277310848236 5.655803680419922,-1.0797086358070374 l0.7866654545068741,-0.3123568557202816 0.10132855735719204,-4.031975269317627 l-0.7449439913034439,-0.8291555941104889 -1.6795143485069275,-0.7002649456262589 m21.755456924438477,0.3401726484298706 l-1.3525649905204773,0.15892399474978447 -0.8893466740846634,1.4000409841537476 l0.17224878072738647,5.805199146270752 1.281641572713852,0.6369148194789886 l5.692971348762512,-0.999116525053978 1.0133833438158035,-1.6886362433433533 l-0.002349882706766948,-3.817532956600189 -2.607663571834564,-2.1236878633499146 l-2.122097462415695,-0.3961986303329468 m-19.202253818511963,10.947515964508057 l-0.27435045689344406,4.000064134597778 0.8098232746124268,0.6868868321180344 l3.1261852383613586,0.2865077555179596 1.6176322102546692,-1.816186010837555 l0.6980641931295395,-1.9920241832733154 1.0276765376329422,2.3329010605812073 m-24.06712293624878,6.221798062324524 l2.7321451902389526,0.851849839091301 4.953968524932861,0.004785484925378114 l2.16422900557518,-0.7877728343009949 0.2617095597088337,-0.9649709612131119 l-0.5703138560056686,-0.5319732427597046 -8.924510478973389,0.6364221125841141 l-0.5389899760484695,1.817147582769394 0.3514230251312256,0.6833837926387787 l0.3749540448188782,0.6074948608875275 3.7337616086006165,0.32933153212070465 m25.811879634857178,-1.3155800104141235 l1.150519996881485,1.0085906833410263 5.915403366088867,0.30872415751218796 l0.43339092284440994,-1.3191480934619904 -6.544046998023987,-1.415107101202011 l-8.05809199810028,0.08571475744247437 -0.6085942685604095,1.4773161709308624 l5.629739761352539,0.29143815860152245 2.0168092846870422,-0.25135667994618416 m-13.232760429382324,-38.15582513809204 l-2.5761479139328003,1.0512764751911163 -6.3621848821640015,4.7224342823028564 l-6.779826283454895,3.027234971523285 -10.43765664100647,10.521169900894165 l-3.2927873730659485,5.0276511907577515 -2.363756000995636,6.259865760803223 l-1.3478732109069824,6.6815972328186035 -3.7169721722602844,10.48388957977295 l1.4371827244758606,5.605373978614807 1.5491975843906403,1.7607787251472473 l4.753654599189758,3.0054262280464172 27.3630428314209,4.500492513179779 l4.5003968477249146,-0.07527910638600588 29.234561920166016,-1.251857429742813 l9.59864854812622,-5.176185965538025 1.5147390961647034,-8.254107236862183 l-2.5810495018959045,-12.020363807678223 -2.1936950087547302,-3.185419738292694 l-8.463993668556213,-11.983144283294678 -3.6381331086158752,-3.1053155660629272 l-5.574306845664978,-1.4040037989616394 -10.486512184143066,-0.36338821053504944 l-5.467368960380554,-0.6961879879236221 -3.5090765357017517,-1.9481632113456726 l-2.090955078601837,-2.274971753358841 -1.5703366696834564,-2.1886472404003143 l-0.15969449654221535,-4.539833068847656 m91.99869527481496,14.494332580215996 l1.6639186441898346,-1.2062850594520569 1.4907707273960114,-1.4417383074760437 l0.2820460684597492,-0.9723218530416489 0.4046178609132767,-0.4652158170938492 l0.21797897294163704,0.8075273036956787 0.27182871475815773,1.4882971346378326 l0.5267905443906784,2.257905602455139 0.7069516181945801,2.4926745891571045 l1.3320310413837433,2.5716012716293335 1.4434610307216644,0.23939384147524834 l1.0161646455526352,-0.4568755626678467 4.725383520126343,-1.4031904935836792 l1.1473450064659119,-1.0745997726917267 0.15942653641104698,-3.8167989253997803 l-0.435800738632679,-1.0669711977243423 -2.1623623371124268,-2.163173258304596 l-3.322630524635315,-1.9550283253192902 -3.9191973209381104,-1.4278839528560638 m-16.94207787513733,14.819397926330566 l-0.2657887525856495,1.1620502918958664 -0.2961861155927181,2.5890490412712097 l2.5046250224113464,-0.11146156117320061 2.296808212995529,-0.14991484582424164 l0.5056169629096985,2.2981521487236023 0.8801937848329544,-1.0499291867017746 l0.7393109798431396,-1.1227618902921677 1.8333350121974945,0.15105550177395344 l0.5576351284980774,-3.2641008496284485 0.35493992269039154,-4.378644526004791 m-25.331900119781494,11.013717651367188 l2.3604772984981537,0.9136074781417847 4.8442670702934265,0.16826564446091652 l1.991649717092514,-1.2066937237977982 0.22229142487049103,-1.3948461413383484 l-5.5054402351379395,0.33939991146326065 -3.826550841331482,2.442222386598587 l-0.29216617345809937,1.5120424330234528 1.826411783695221,0.9356545656919479 l3.0392777919769287,0.16658606007695198 m28.820888996124268,-0.547257661819458 l5.088614225387573,-0.13400372117757797 0.7288910448551178,-0.19320856779813766 l0.33839497715234756,-0.5729570612311363 -0.08407558314502239,-1.6312292218208313 l-0.487462542951107,-0.5372824519872665 -5.386993885040283,-0.1262528169900179 l-1.1084311455488205,1.2252896279096603 1.1605536192655563,2.8332480788230896 m-12.471158504486084,-39.5169472694397 l-0.28180163353681564,-0.18679045140743256 -0.2956838347017765,-0.040736980736255646 l-10.5436110496521,4.097171127796173 -3.875301778316498,3.2103246450424194 l-6.891070604324341,10.473194122314453 -0.9604699164628983,-0.300328154116869 l-3.404942750930786,5.805579423904419 -1.8228434026241302,4.268563389778137 l-6.652549505233765,10.772663354873657 -1.7587071657180786,4.6725839376449585 l-0.13295350596308708,7.342050075531006 1.2804827094078064,1.6611987352371216 l4.337214231491089,2.7785760164260864 14.881550073623657,3.427121639251709 l4.582849442958832,0.49036119133234024 35.94651699066162,-0.1363715250045061 l4.921711087226868,-1.7011140286922455 6.36133074760437,-1.7034462094306946 l13.918691873550415,-1.0742197185754776 2.5246289372444153,-1.0024137049913406 l0.39111513644456863,-3.7843546271324158 -0.2968946099281311,-11.589391231536865 l-1.041041538119316,-3.5309669375419617 -1.72811821103096,-3.680022358894348 l-7.352506518363953,-11.570261716842651 -3.370574712753296,-3.382130265235901 l-2.2340138256549835,-1.6637744009494781 -8.306112289428711,-4.2750319838523865 l-4.497914910316467,-1.1897686123847961 -9.527465105056763,-1.2233906239271164 l-4.932357668876648,-1.9838643074035645 -1.2326306104660034,-1.6969577968120575 l-0.7245455682277679,-1.7480480670928955 -0.24203194305300713,-5.5421751737594604 \" fill=\"none\" stroke=\"black\" stroke-width=\"1\"/></svg>"
      ],
      "text/plain": [
       "<IPython.core.display.SVG object>"
      ]
     },
     "metadata": {},
     "output_type": "display_data"
    }
   ],
   "source": [
    "stroke_list = []\n",
    "for i in range(10):\n",
    "    stroke_list.append([decode(z, draw_mode=False, temperature=0.1 * i + 0.1), [0, i]])\n",
    "stroke_grid = make_grid_svg(stroke_list)\n",
    "draw_strokes(stroke_grid)\n"
   ]
  },
  {
   "cell_type": "markdown",
   "metadata": {},
   "source": [
    "###### unconditional"
   ]
  },
  {
   "cell_type": "code",
   "execution_count": 276,
   "metadata": {
    "code_folding": []
   },
   "outputs": [
    {
     "name": "stdout",
     "output_type": "stream",
     "text": [
      "D:\\\\playground\\\\projects\\\\magenta_pjt\\\\checkpoints_slime_vae\n"
     ]
    },
    {
     "data": {
      "image/svg+xml": [
       "<svg baseProfile=\"full\" height=\"122.6630340446718\" version=\"1.1\" width=\"859.3460694132955\" xmlns=\"http://www.w3.org/2000/svg\" xmlns:ev=\"http://www.w3.org/2001/xml-events\" xmlns:xlink=\"http://www.w3.org/1999/xlink\"><defs/><rect fill=\"white\" height=\"122.6630340446718\" width=\"859.3460694132955\" x=\"0\" y=\"0\"/><path d=\"M35.34664712846279,36.22450393275358 m0.0,0.0 m6.69597215950489,23.889109776355326 l-11.954076290130615,2.8547942638397217 -1.7226007580757141,-0.8785364031791687 l-3.3659422397613525,4.721871614456177 1.0412009060382843,10.306404829025269 l11.146303415298462,9.591439962387085 6.617371439933777,1.6516557335853577 l18.05736780166626,0.5517468228936195 22.9567813873291,0.05631815176457167 l4.460867345333099,-0.6037595123052597 3.2159319519996643,-1.408003568649292 l2.852882146835327,-1.600147932767868 2.685278058052063,-1.8387898802757263 l2.4542975425720215,-4.963497817516327 1.2968596816062927,-7.025396823883057 l-0.4310464486479759,-2.7623918652534485 -2.8322261571884155,-8.544127941131592 l-8.476080894470215,-12.301896810531616 -7.055210471153259,-2.558736503124237 l-9.829561114311218,-2.6801130175590515 -10.835155248641968,-2.3418594896793365 l-2.9316428303718567,-0.6521201133728027 -2.082558274269104,-0.4991796985268593 m-10.637472867965698,14.479327201843262 l-1.7859432101249695,0.4569912701845169 -1.093871220946312,1.2299790978431702 l-0.4678119719028473,1.0783471912145615 -0.13688367791473866,1.0572808980941772 l-0.1578277349472046,2.494313269853592 0.296689011156559,1.1635707318782806 l1.2674809992313385,1.1406311392784119 3.3182913064956665,0.3690765053033829 l1.7406721413135529,-0.3338230773806572 1.5599025785923004,-0.6978047639131546 l1.1175769567489624,-1.272260695695877 0.5499234423041344,-1.5070010721683502 l0.116297397762537,-3.902158737182617 -0.8808445930480957,-2.2500938177108765 l-1.2515686452388763,-0.6442999094724655 -1.4610956609249115,-0.28394682332873344 m26.870810985565186,1.8912141025066376 l-1.9849583506584167,-0.014403864042833447 -3.964059352874756,2.840507924556732 l0.8755426853895187,2.0742523670196533 -0.03285682061687112,4.526620805263519 l0.970914289355278,1.0443735867738724 1.5157057344913483,0.6002819165587425 l1.734984964132309,0.20547466352581978 1.6132120788097382,-0.14383837580680847 l2.059556245803833,-1.3805413246154785 0.8223982900381088,-1.4024990797042847 l0.3566376119852066,-1.6341450810432434 0.149652399122715,-3.5910314321517944 l-1.928703635931015,-3.0045902729034424 -1.213579848408699,-0.4808211699128151 l-1.1790820956230164,-0.1279099378734827 m0.3723755106329918,2.3670822381973267 l-0.04937560763210058,2.615710496902466 -0.9331617504358292,2.237529754638672 l-0.9867315739393234,0.50721425563097 2.581668794155121,0.6185604259371758 l1.3335080444812775,2.6522842049598694 1.3555221259593964,-1.764722615480423 l1.3255111873149872,-1.389448344707489 1.3461542129516602,-1.263357400894165 l0.040163202211260796,-0.36397501826286316 -3.078247308731079,-1.105838119983673 l-1.3721539080142975,-0.9411507844924927 -0.8353935927152634,-1.075134500861168 m-24.970932006835938,0.3797854483127594 l0.7822644710540771,2.1233566105365753 -0.6038078293204308,1.8636246025562286 l-0.5408914387226105,0.8289134502410889 1.5908202528953552,2.0704184472560883 l2.6918691396713257,-1.7035703361034393 0.18408412113785744,-1.8135343492031097 l-2.3134343326091766,-0.9277671575546265 -1.5223948657512665,-1.553829312324524 l-0.7151050865650177,-1.5862320363521576 m3.496376872062683,8.277561664581299 l-0.3999831900000572,0.36349810659885406 0.5033603683114052,2.5542104244232178 l2.017797827720642,-0.6907722353935242 1.1951164901256561,2.406166195869446 l0.5544841662049294,-0.4507414251565933 1.860000491142273,-0.6698425114154816 l0.9703531861305237,-1.0000531375408173 0.7422146201133728,-3.4330496191978455 l0.6080838665366173,-4.09692108631134 m-24.176979064941406,4.483825862407684 l1.7274443805217743,1.6419108211994171 2.209077626466751,1.2835036218166351 l3.7536627054214478,0.6460276246070862 2.241256535053253,-0.035442765802145004 l0.07558960933238268,-0.27547799050807953 0.023136793170124292,-1.38109490275383 l-0.8250131458044052,-0.8761057257652283 -1.135236844420433,-0.3589283674955368 l-6.522385478019714,-0.009470312506891787 m27.48652458190918,2.8532254695892334 l-0.08989927358925343,0.4262096807360649 6.471445560455322,0.29636217281222343 l0.5306408554315567,-1.132650375366211 0.9255407750606537,-2.1796031296253204 l-1.6256141662597656,-1.1487416923046112 -2.4012765288352966,-0.8048006892204285 l-8.766741752624512,0.10281656868755817 m-3.9999163150787354,-8.803523778915405 l1.8717481195926666,-2.127993255853653 3.3895105123519897,-2.147189676761627 l3.7693586945533752,-1.9227749109268188 3.0626320838928223,-0.9704328328371048 l4.968776106834412,-0.41183337569236755 1.3804234564304352,0.9363327175378799 l3.0096685886383057,6.259520053863525 1.9760453701019287,3.756479024887085 m0.28930535539984703,0.06256197113543749 l-1.1497043818235397,0.925968661904335 -0.46298619359731674,1.0658418387174606 l0.3421243280172348,2.6802220940589905 2.058154195547104,0.8289505541324615 l1.1481541395187378,-0.22176431491971016 0.790998786687851,-0.6375468522310257 l1.020686998963356,-2.16086745262146 -0.11479968205094337,-0.8528836816549301 l-0.4219238832592964,-0.7897233963012695 -1.5209707617759705,-0.7273238152265549 l-2.503032088279724,0.013399769086390734 m-20.892417430877686,22.896158695220947 l-0.40299564599990845,1.8793857097625732 0.13169771991670132,1.7627479135990143 l0.6385228037834167,0.6817937642335892 1.108761802315712,0.5652887746691704 l0.9880080819129944,0.4171503707766533 m0.5470682308077812,-0.18854154273867607 l0.8915054053068161,0.16253266483545303 1.1184220761060715,0.16862543299794197 l0.6278527528047562,0.15122565440833569 0.5325811356306076,0.14284618198871613 l0.500292107462883,0.14647264033555984 0.42224589735269547,0.13490908779203892 l0.28497930616140366,0.12205272912979126 0.09782114066183567,0.06578938569873571 l-0.12601863592863083,-0.057966699823737144 -0.3637894243001938,-0.17404057085514069 l3.709990978240967,-2.944704294204712 -10.269923210144043,-17.46291160583496 l1.0476462543010712,-1.9659177958965302 2.362236827611923,-1.9746793806552887 l2.6267260313034058,-1.0837167501449585 2.693673074245453,-0.36106929183006287 l2.7075260877609253,0.31262069940567017 2.662873864173889,0.924110934138298 l2.435782104730606,1.31480872631073 1.9873927533626556,1.5444700419902802 l1.4600113034248352,1.59946009516716 6.140914559364319,2.1284273266792297 l-2.5538071990013123,-1.1199398338794708 -1.1709247529506683,0.14471380971372128 l-1.1167460680007935,0.1709507592022419 -1.241542100906372,0.12705176137387753 l-1.293470561504364,0.09477898478507996 -1.3162587583065033,0.046389312483370304 l-1.3516393303871155,0.003957808658014983 -1.3586635887622833,-0.018666271353140473 l-1.3388977944850922,-0.027182139456272125 m63.072654189491004,-10.9841155056165 l-1.1197900772094727,0.1705467887222767 -3.366718292236328,0.8988286554813385 l-3.729889690876007,1.518307775259018 -5.237613320350647,6.338227987289429 l-0.5489788204431534,2.4618837237358093 -0.08095618337392807,7.442617416381836 l1.6496232151985168,4.151430428028107 2.453867197036743,3.0172166228294373 l2.906733453273773,2.3304812610149384 4.65744823217392,1.4558763802051544 l5.977154970169067,0.9105687588453293 27.170817852020264,0.012938715517520905 l5.734393000602722,-2.385885715484619 1.7658096551895142,-1.286364197731018 l1.3188828527927399,-1.6330976784229279 1.0021698474884033,-2.0541752874851227 l0.6767603009939194,-2.639681398868561 0.056253671646118164,-10.478627681732178 l-0.8437550812959671,-2.7093762159347534 -1.2908481061458588,-1.371164619922638 l-1.816382259130478,-1.2932486832141876 -7.2411686182022095,-2.569536864757538 l-11.36845588684082,-1.7666685581207275 -5.550423860549927,-0.4303314909338951 l-1.5930351614952087,-0.13367962092161179 -1.4116369187831879,-0.12990721501410007 l-1.4055554568767548,-0.13905837200582027 -1.103137582540512,-0.003667301789391786 l-0.8319692313671112,0.11246489360928535 -0.650847852230072,0.19414080306887627 l-0.5172628536820412,0.25803280994296074 -2.2160646319389343,3.491532802581787 l-0.3712238371372223,1.4376552402973175 0.5228006094694138,1.3683000206947327 l1.1681043356657028,1.1654315143823624 1.6777154803276062,0.8483055979013443 l2.0919732749462128,0.47596246004104614 3.236168622970581,0.03800914855673909 l0.8012805879116058,-0.8272780478000641 0.42949430644512177,-1.7054732143878937 l-0.03332928055897355,-1.976892203092575 -0.38613464683294296,-0.7599998265504837 l-0.8123847842216492,-0.7665357738733292 -1.3567782938480377,-0.650392472743988 l-5.543198585510254,-0.6882551312446594 m27.614667415618896,1.5320736169815063 l-3.3129554986953735,0.22990720346570015 -2.7389031648635864,1.4178012311458588 l-0.9426140040159225,1.3358420133590698 0.011429624864831567,2.234720289707184 l0.3449881821870804,1.1734721809625626 3.2623985409736633,3.224819004535675 l4.579578638076782,1.4008454978466034 2.9324081540107727,0.004592704935930669 l1.0474545508623123,-1.2818782031536102 0.1947103813290596,-1.394260823726654 l-0.09483981877565384,-6.402439475059509 -0.48783116042613983,-0.6013810262084007 l-0.7445266842842102,-0.20030641928315163 -3.630920946598053,-0.022781628649681807 m-4.783047139644623,3.2766395807266235 l9.818069338798523,-0.056110089644789696 m-5.522397756576538,-2.7182963490486145 l-0.456787645816803,0.5044842883944511 -0.2830764651298523,1.5113012492656708 l0.0010804933117469773,3.5918816924095154 -0.5495527386665344,0.5809743329882622 m-27.62026309967041,-6.481541395187378 l3.667994439601898,0.9997431933879852 4.746497869491577,-0.008958611288107932 m-4.375897645950317,-2.2684629261493683 l-0.009029563516378403,3.677528202533722 -0.3635092079639435,0.7059426605701447 m6.044701933860779,6.342626214027405 l-0.02078859368339181,1.7993536591529846 0.3770354390144348,0.4962838441133499 l0.8259963989257812,0.4692474752664566 1.5803010761737823,0.277874656021595 l5.246405005455017,0.10439869947731495 0.47588441520929337,-0.3969140723347664 l-0.011098036775365472,-1.3281290233135223 -0.3931155428290367,-0.5107219517230988 l-0.17596367746591568,0.21303389221429825 0.5707810446619987,0.9869685769081116 l1.486184298992157,0.6656219065189362 3.8950681686401367,0.10346914641559124 l0.8481482416391373,-0.5141947418451309 0.00823674607090652,-1.3890589773654938 m-20.155653953552246,-19.554232358932495 l-0.07839743979275227,-6.596702337265015 0.31566422432661057,-2.4038049578666687 l1.0035870224237442,-2.549227476119995 1.9172058999538422,-2.486821711063385 l2.2654590010643005,-1.8218623101711273 3.0366429686546326,-0.8741606026887894 l3.1557032465934753,-0.29409149661660194 17.430325746536255,-0.0005735042577725835 l3.5801178216934204,0.8618554472923279 1.8830427527427673,1.3222220540046692 l0.5651241540908813,0.9131966531276703 1.1621510982513428,4.670317471027374 l-0.1761440932750702,0.7168614119291306 -0.5495704337954521,0.530051477253437 l-1.6358120739459991,0.4102654382586479 -0.2850075252354145,-0.20895950496196747 l0.021380146499723196,-1.4958642423152924 0.2925342693924904,-0.7187817990779877 l0.6439830362796783,-0.4202217236161232 3.7168163061141968,-0.09013119153678417 l0.2817247249186039,2.48091459274292 -0.43259624391794205,0.3848746418952942 l-0.46981073915958405,0.30718374997377396 -1.389753520488739,-0.06924138870090246 l-0.5365920439362526,-1.1210238188505173 m52.11928742839518,13.872325467909832 l0.2870120108127594,-1.6143235564231873 m-1.020481437444687,1.4776094257831573 l-0.06800107192248106,1.2312384694814682 -0.305899940431118,0.6692847609519958 l-0.33120620995759964,0.4145761951804161 -0.31828880310058594,0.22896325215697289 l0.9776349365711212,2.0075443387031555 1.2454579770565033,0.6545582413673401 l1.7945590615272522,0.41045036166906357 2.113509625196457,0.1779196411371231 l1.0095107555389404,-0.29257193207740784 0.19795551896095276,-0.5905961617827415 l-0.31072016805410385,-0.7184584438800812 -0.6456729024648666,-0.7381267845630646 l-0.9229754656553268,-0.6972192227840424 -1.6669933497905731,0.042835790663957596 m42.81286713827285,-8.994091948261485 l-2.6073917746543884,0.10701308958232403 -10.498433113098145,1.5468794107437134 l-8.181100487709045,6.405826210975647 -1.9054917991161346,3.1444767117500305 l-2.618100345134735,10.618041753768921 0.04974185489118099,7.898475527763367 l1.66720911860466,3.7581536173820496 2.521525025367737,3.652506172657013 l3.274187445640564,3.0803734064102173 10.670167207717896,4.573282599449158 l31.374390125274658,1.6199815273284912 9.656663537025452,-1.0956495255231857 l8.459970355033875,-2.615783214569092 4.774298965930939,-2.1302904188632965 l3.4389537572860718,-2.572917938232422 3.648448884487152,-5.178777575492859 l1.79085373878479,-11.380091905593872 -0.7349973917007446,-3.421507775783539 l-1.2247344851493835,-2.7957192063331604 -7.855919599533081,-9.452807307243347 l-5.6340062618255615,-4.590592384338379 -4.456776976585388,-2.2406399250030518 l-4.60883766412735,-1.9050443172454834 -4.991839826107025,-1.5595872700214386 l-5.144007205963135,-1.1762118339538574 -7.812432050704956,-1.4181116223335266 l-5.316590666770935,-0.43901339173316956 -7.234879732131958,0.3700505569577217 l-3.9156383275985718,0.6089229509234428 m-10.647095441818237,12.332853078842163 l-2.491641491651535,0.6271502375602722 -2.0782119035720825,2.0117512345314026 l-0.49950454384088516,1.4190483093261719 0.760931596159935,1.1122263967990875 l1.413620412349701,0.9169211983680725 1.7625772953033447,0.6274660676717758 l4.40689355134964,0.17197918146848679 1.0477010905742645,-0.0623355433344841 l0.5696737393736839,-0.2637169510126114 1.4581048488616943,-5.450620055198669 l-1.6957806050777435,-1.9596213102340698 -1.9046507775783539,-1.0760167241096497 l-1.7764747142791748,0.34494079649448395 m-1.2592871487140656,1.4650222659111023 l0.04549780394881964,2.00313538312912 -0.8904795348644257,1.571441888809204 l-1.2130167335271835,1.0835083574056625 2.6651909947395325,2.277784049510956 l0.0041389401303604245,1.3356998562812805 1.5387006103992462,-2.06898495554924 l3.8701966404914856,-1.0663281381130219 0.40746215730905533,-0.578843429684639 l-0.3131714090704918,-0.4345032200217247 -0.42201045900583267,-0.4463732987642288 l-0.30813083052635193,-0.6731727719306946 -0.25887537747621536,-0.7794798165559769 l-0.22809980437159538,-0.7541599869728088 -0.26092082262039185,-0.6651069223880768 l-0.33074717968702316,-0.5366680771112442 m33.85219097137451,1.3591374456882477 l-1.832902580499649,-0.024870021734386683 -2.094859927892685,0.7567759603261948 l-0.8923089504241943,1.2075580656528473 -0.37776246666908264,2.3559148609638214 l0.03727520350366831,2.968909442424774 3.5601282119750977,3.8034921884536743 l1.7680592834949493,0.9173420816659927 6.015946865081787,-0.0022803572937846184 l1.3580350577831268,-0.709841176867485 0.6547889113426208,-0.6808114051818848 l0.07555300835520029,-3.051406145095825 -0.11345202103257179,-3.839888274669647 l-1.3260100781917572,-1.870444267988205 -3.750191330909729,-2.9569363594055176 l-2.3897624015808105,-0.6394587457180023 -1.9673693180084229,0.024584736675024033 m1.125490665435791,1.8784046173095703 l0.11338463053107262,3.6956962943077087 -3.309856355190277,0.4766886308789253 l1.7627853155136108,-0.22688670083880424 1.516127586364746,1.5777289867401123 l0.6121286377310753,1.6207286715507507 -0.05991598591208458,1.0086384415626526 l0.20453188568353653,-1.6084392368793488 3.3098113536834717,-0.9211785346269608 l0.4838321730494499,-1.7143692076206207 m-4.750054776668549,-3.574136197566986 l1.3363172113895416,2.976663112640381 1.1505850404500961,1.415717452764511 l1.326526552438736,0.5591844022274017 0.8071506023406982,-0.036306525580585 l0.418836772441864,-0.6535391509532928 m-29.96562957763672,11.272598505020142 l-0.9579112380743027,1.39712855219841 -0.21422605961561203,1.8259911239147186 l0.3428475186228752,0.6249598413705826 3.2696956396102905,-0.10548682883381844 l0.5964562296867371,-0.5911146104335785 0.09694640524685383,-1.2823088467121124 l1.9302994012832642,1.1820520460605621 3.1162184476852417,0.11174418032169342 l0.8610135316848755,-0.8081509172916412 -0.0060064083663746715,-1.200176253914833 m-4.55447643995285,-31.741068363189697 l5.359508395195007,-9.733364582061768 2.9837393760681152,-4.04527872800827 l3.8642168045043945,-2.808879315853119 4.927980899810791,-2.105603963136673 l10.139237642288208,-0.23967396467924118 9.232019186019897,1.3592086732387543 l9.216572642326355,2.960593104362488 9.932284951210022,5.380472540855408 l5.316842794418335,3.4199798107147217 7.043719291687012,5.90173602104187 l3.8166645169258118,1.2738065421581268 0.8948342502117157,-2.0146961510181427 l0.21496307104825974,-1.6746267676353455 0.3660465031862259,-5.1348137855529785 l-0.00379344419343397,-4.574276506900787 -0.3607148677110672,-0.8181442320346832 l15.095876455307007,-0.168932992964983 m0.28915777802467346,-0.0006572735583176836 l-0.6592623889446259,0.9731370210647583 -0.3259044885635376,1.7529425024986267 l0.07208283059298992,2.0973964035511017 2.429208755493164,0.23641254752874374 l1.2067002058029175,-3.040103316307068 -0.5306649208068848,-0.7151813060045242 l-1.1471521854400635,-0.08625977672636509 m22.14374213173869,39.09159402413934 l3.5838571190834045,-0.41886042803525925 1.1195091903209686,-0.07280311081558466 l2.0982778072357178,-0.3164425492286682 -0.9736064076423645,0.3312361240386963 l-1.3943247497081757,0.16587872058153152 -1.4600107073783875,0.11314538307487965 l-0.5578576773405075,-0.1665530726313591 -0.3170643001794815,-0.17255589365959167 l-0.20732462406158447,-0.17903130501508713 -0.14387715607881546,-0.20539680495858192 m-17.63362169265747,-3.2836169004440308 l-1.1343718320131302,0.33600814640522003 1.0643276572227478,2.8508588671684265 l0.870056226849556,0.6679192185401917 2.782076597213745,0.21747607737779617 l3.5899221897125244,-0.10298231616616249 0.43480314314365387,-3.328985273838043 l-0.630328580737114,-0.6466149538755417 -3.4855568408966064,-0.14057964086532593 l-1.787053644657135,-0.0014556714450009167 m23.197855949401855,0.2812791243195534 l-1.8162013590335846,0.46185292303562164 -1.3891029357910156,0.743183046579361 l-0.45806482434272766,0.9938051551580429 -0.06718584802001715,2.738633155822754 l1.2189949303865433,0.5561309307813644 1.7840094864368439,0.2901868708431721 l3.6862552165985107,0.002011363976635039 2.395697683095932,-1.9634044170379639 l0.1577473059296608,-3.0893614888191223 -0.7464611530303955,-0.8600061386823654 l-0.9076602756977081,-0.2731812372803688 -1.1690855026245117,-0.10013805702328682 m-18.778018951416016,2.450069785118103 l-0.2619933895766735,1.9840337336063385 2.2821183502674103,0.993686318397522 l0.906873494386673,0.8295348286628723 0.9444157034158707,0.6790205091238022 l0.6659957021474838,-1.1926466971635818 0.14449871145188808,-0.3728850558400154 l0.42516931891441345,-1.4958259463310242 -0.7091813534498215,-1.2745784223079681 l-1.489054262638092,-0.15105280093848705 m-21.94298505783081,7.599484324455261 l-0.5448529496788979,0.8919072896242142 0.11355120688676834,0.5670902878046036 l0.3975183516740799,0.05198822822421789 5.168185234069824,-0.025928651448339224 l1.6779051721096039,-0.13076918199658394 0.4069780930876732,-0.5174695327877998 l1.1577780544757843,1.0073167830705643 2.5819557905197144,-0.12920559383928776 l2.668452262878418,-0.33052921295166016 0.23226957768201828,-1.618163287639618 l0.0872444175183773,-1.9904622435569763 m-10.438892841339111,-17.559257745742798 l-0.7257751375436783,-3.6307117342948914 0.33813659101724625,-2.5653767585754395 l0.8087461441755295,-2.4086225032806396 1.0348666459321976,-1.7635954916477203 l1.6045522689819336,-1.6907709836959839 2.3915325105190277,-0.9693187475204468 l3.7420502305030823,-0.6153864413499832 12.107229232788086,-0.19770970568060875 l12.104816436767578,2.8034308552742004 5.548434257507324,2.563646137714386 l4.400515556335449,2.9214751720428467 11.130826473236084,11.005856990814209 l2.6426121592521667,1.9938048720359802 1.4518043398857117,0.27375809848308563 l1.2906767427921295,0.15518415719270706 0.8708574622869492,-1.4397864043712616 l-0.546414852142334,0.32252583652734756 -0.49647334963083267,-0.019921530038118362 l-0.5131629109382629,0.13788046315312386 -0.5421673133969307,0.18762819468975067 l-0.6262245029211044,0.19545424729585648 m34.78487644752022,-14.00558982102666 l0.07801953237503767,0.6327196955680847 -0.9760938584804535,5.569787621498108 l-1.2411725521087646,2.433929741382599 -1.7932379245758057,1.9024892151355743 l-4.953988492488861,2.962958514690399 -7.559719681739807,3.3623138070106506 l-1.7748728394508362,1.0287616401910782 -3.5102248191833496,2.0473571121692657 l-0.8540519326925278,1.5099216997623444 -0.5782605707645416,1.676466464996338 l2.472124397754669,7.087688446044922 5.4203855991363525,1.7997628450393677 l7.789915204048157,1.3538412749767303 9.815987944602966,0.8242012560367584 l20.14704942703247,-2.240265905857086 4.059574902057648,-3.4962013363838196 l2.4909619987010956,-9.591718912124634 -6.965400576591492,-7.065991163253784 l-7.8326112031936646,-1.6691148281097412 -8.86070430278778,-2.244293987751007 l-0.6003697589039803,-1.060960665345192 -0.13037188909947872,-1.1486678570508957 l-0.18655411899089813,-3.7456533312797546 -1.248859465122223,-1.4809966087341309 m-4.804812967777252,15.962523221969604 l-0.3051197901368141,-1.3787731528282166 -0.463898666203022,-1.097206026315689 l-2.5049862265586853,-0.03233499592170119 -0.5052921548485756,1.431024968624115 l-0.06979863159358501,1.6229251027107239 0.2672247216105461,0.6083288788795471 l2.089277505874634,2.241930663585663 4.894530773162842,-1.5358373522758484 l2.6926350593566895,-3.5528984665870667 -1.0063084959983826,-0.6212928891181946 l-4.253992736339569,-0.13794807717204094 -0.9455219656229019,1.5339863300323486 l-0.16929460689425468,1.4666350185871124 m20.36471128463745,-2.3280321061611176 l-0.08896419778466225,-0.8841616660356522 -0.9723466634750366,-0.525868684053421 l-1.2910883128643036,-0.32479461282491684 -3.988545835018158,-0.01115068094804883 l-0.7740012556314468,0.7191160321235657 -0.10094352997839451,2.3688244819641113 l1.5780645608901978,1.194106712937355 4.592519998550415,2.1898047626018524 l3.0396515130996704,-0.11347947642207146 2.3400063812732697,-1.1580723524093628 l1.0323061048984528,-1.584402620792389 -0.02009129850193858,-2.1720629930496216 l-0.8718379586935043,-1.7768913507461548 -1.9929896295070648,-0.7405312359333038 l-1.6482017934322357,-0.0931806955486536 -0.9136475622653961,1.7650170624256134 m-12.760200500488281,7.147843241691589 l0.9184656292200089,2.2701500356197357 0.6240839883685112,0.018383072456344962 l1.7153310775756836,-1.5689988434314728 0.7293182611465454,1.8645872175693512 l1.1793175339698792,-0.03389001125469804 1.1653070896863937,-0.6686147302389145 l0.5992873758077621,-1.6058611869812012 m-6.128369569778442,-19.52526330947876 l0.010275397216901183,-1.9647546112537384 2.2429074347019196,-3.4777075052261353 l5.226173996925354,-3.190566301345825 9.243040680885315,-3.1524041295051575 l2.1983887255191803,-0.40716465562582016 2.847706377506256,0.029372016433626413 l2.6764044165611267,1.3074561953544617 1.9589680433273315,2.5543558597564697 l0.03017508890479803,0.9359030425548553 -0.677308663725853,0.7367222011089325 l-1.8283744156360626,1.7777249217033386 -1.6458556056022644,0.7450760900974274 l-0.22393491119146347,3.1679728627204895 0.33628858625888824,0.9595400840044022 l2.7767130732536316,3.089265823364258 1.8848124146461487,1.2330585718154907 l3.030293881893158,1.1327851563692093 3.4199917316436768,1.0183148831129074 l2.1067699790000916,0.08924480527639389 m2.697247564792633,-2.161969095468521 l-0.892711728811264,0.31455010175704956 -1.3578803837299347,1.533241868019104 l-0.3549335151910782,0.8236753940582275 0.09436354972422123,2.465863674879074 l2.4534620344638824,-0.08726898580789566 0.9366963803768158,-0.6277287751436234 l1.4804871380329132,-2.1577663719654083 0.11675689369440079,-1.4312009513378143 l-0.45921560376882553,-0.6264806538820267 -2.649891674518585,-0.10431322269141674 m20.315227928222157,-10.725059816031717 l-0.7534278929233551,0.09596050716936588 -4.566855430603027,0.04996761679649353 l-8.935396671295166,6.20561420917511 -4.082344472408295,4.471909403800964 l-1.343403309583664,2.9498356580734253 -0.7875897735357285,3.022386133670807 l-1.2054570019245148,11.874785423278809 0.8878932148218155,3.652152717113495 l1.9063693284988403,3.4312093257904053 3.6628660559654236,3.9098113775253296 l3.6157071590423584,2.4134884774684906 5.5427950620651245,2.469857931137085 l24.046125411987305,1.6623613238334656 9.953882098197937,-2.9964464902877808 l5.303713083267212,-5.006312727928162 1.2599082291126251,-2.4942754209041595 l0.03544958308339119,-11.320160627365112 -0.8101294189691544,-3.3858132362365723 l-3.5673630237579346,-5.544637441635132 -5.694900751113892,-5.3960829973220825 l-10.961339473724365,-3.7661030888557434 -8.353620767593384,-1.2532331049442291 l-0.8780775219202042,-0.3495277836918831 -0.8489567786455154,-0.36780931055545807 m-9.683789610862732,16.04517102241516 l-1.1618352681398392,0.2038775384426117 -0.6154453754425049,1.2947136163711548 l0.8820619434118271,1.8379999697208405 5.802493691444397,0.4726124554872513 l1.7861291766166687,-1.55308336019516 0.4582921788096428,-1.8888728320598602 l-0.3846326097846031,-1.8312184512615204 -1.3462427258491516,-1.324148029088974 l-1.852322369813919,-0.7630530744791031 -1.7930473387241364,0.2152133546769619 m25.14634370803833,0.9256035089492798 l-2.079291194677353,0.21702269092202187 -0.9501925110816956,1.1183735728263855 l-0.5216482281684875,2.1241505444049835 0.3561309352517128,0.9705857187509537 l0.5848722159862518,0.6542857736349106 7.969587445259094,1.1740344762802124 l0.7241339236497879,-1.852385550737381 -0.16217000782489777,-5.199234485626221 l-0.5808437988162041,-1.1455927044153214 -1.0033859312534332,-0.5129650235176086 l-3.209921419620514,0.10174931958317757 m-20.18786907196045,2.948145866394043 l-0.36424901336431503,3.0281132459640503 3.077472448348999,0.6940420717000961 m11.884745359420776,-1.0781826078891754 l0.23897992447018623,1.8895533680915833 0.18151339143514633,-0.059702484868466854 l-0.08851676248013973,0.08026599884033203 m12.791560888290405,-0.5864184722304344 l-0.32294001430273056,1.4932800829410553 0.27837200090289116,1.1417126655578613 l3.963218331336975,1.772909164428711 0.8000050485134125,0.0967421755194664 l0.7540637254714966,-0.3597365692257881 0.5046561360359192,-0.7360967248678207 l0.10531765408813953,-1.9089722633361816 -0.4454940930008888,-0.48082586377859116 l-0.029158121906220913,-1.8723106384277344 -0.7738129794597626,-0.471009723842144 m-20.443077087402344,7.262051701545715 l-0.06840668618679047,1.9283722341060638 -0.17751419916749,1.5877078473567963 l1.8564943969249725,0.3406207263469696 0.7088351994752884,-0.6397590786218643 l1.2281352281570435,-0.11646471917629242 0.6550048291683197,-0.764295905828476 l0.1552421972155571,-1.5061354637145996 0.42794328182935715,1.4459414780139923 l1.2908574938774109,-0.01116644823923707 0.4540560394525528,-0.38403112441301346 l0.12938115745782852,-1.4970549941062927 0.06723031867295504,-1.7719170451164246 m-8.02137553691864,-26.11001491546631 l0.7408804446458817,-3.6173126101493835 2.9131487011909485,-4.145460426807404 l13.678394556045532,-6.702825427055359 5.6135618686676025,-0.7682503759860992 l5.014788508415222,1.2187652289867401 3.5604989528656006,2.204456627368927 l3.0323463678359985,3.5801517963409424 3.0393457412719727,3.599608540534973 l3.7139594554901123,3.5444411635398865 4.432905912399292,3.2259678840637207 l4.690488874912262,2.405090183019638 4.343690276145935,1.1056508123874664 l3.533763587474823,0.6231337413191795 0.026769668329507113,-0.14255155809223652 l-0.411900095641613,0.14161060564219952 m-0.0959972757846117,0.25344938039779663 l-0.9478908032178879,1.6151697933673859 0.20515961572527885,1.2451034039258957 l2.405005395412445,0.42984046041965485 2.501058578491211,0.025670933537185192 l0.7254362851381302,-0.24221697822213173 0.06229170132428408,-1.8538272380828857 l-0.7355257868766785,-1.1136633157730103 -3.515317440032959,-0.1348173525184393 l-1.5415343642234802,0.5917835235595703 m4.231920374368201,9.682239126996137 l-0.40101490914821625,-0.0305254478007555 -1.3995958864688873,0.2542833983898163 l-0.3072234056890011,2.547857165336609 0.017711580730974674,3.375803530216217 l1.7528536915779114,1.2129367887973785 4.189306795597076,0.16616323962807655 l0.9776049107313156,-1.1644715070724487 0.12914152815937996,-4.057307243347168 l-0.6627722829580307,-1.199796423316002 -2.4984683096408844,-3.3215656876564026 l-2.5093653798103333,-0.38200363516807556 m28.290998935699463,0.7926271855831146 l-1.7974385619163513,0.7415308058261871 -0.44626597315073013,0.943404883146286 l-0.3138439729809761,2.285628169775009 0.2936980687081814,0.9246744215488434 l1.2123135477304459,1.0810921341180801 2.6610851287841797,0.5315221846103668 l3.2895058393478394,0.14399392530322075 1.642327755689621,-0.5176045000553131 l0.574539341032505,-0.8882403373718262 0.022130957804620266,-2.4674397706985474 l-0.19731495529413223,-1.859680414199829 -0.7169491052627563,-0.9682954102754593 l-0.9295548498630524,-0.789896696805954 -1.327134519815445,-0.5239139869809151 l-2.9980143904685974,-0.26013482362031937 m1.355404257774353,1.6850319504737854 l0.3972163051366806,1.2258842587471008 0.18485624343156815,3.6123374104499817 l-0.6951110810041428,0.7765981554985046 m-1.4352226257324219,-2.7093279361724854 l5.671567320823669,0.014973877696320415 1.3072866201400757,-0.3835614398121834 m-34.63186740875244,-2.743297815322876 l-0.3249998763203621,2.9093950986862183 -0.6097361445426941,1.6746889054775238 l0.0038699834840372205,-0.3853997215628624 m-2.275901585817337,-2.381509840488434 l1.810937225818634,0.6913387775421143 4.551451504230499,0.696001872420311 m7.35187828540802,9.007324576377869 l-3.6872878670692444,1.8761378526687622 -0.31832464039325714,0.4014725610613823 l-0.005059659597463906,1.6754025220870972 1.6372443735599518,0.47933172434568405 l4.562617540359497,0.6154905632138252 2.3353472352027893,-0.008461971301585436 l0.09923922829329967,-2.4353471398353577 4.066551625728607,0.607067197561264 l2.164529263973236,-0.0953944306820631 0.3111957386136055,-1.4674235880374908 l-0.09944744408130646,-2.9484468698501587 m-12.883440256118774,-24.496240615844727 l-8.360300064086914,-0.31559813767671585 -2.8038236498832703,0.42840607464313507 l-4.325295090675354,2.455662339925766 -3.1510967016220093,2.616667151451111 l-0.6205523386597633,1.0543085634708405 -0.6352046877145767,1.5232017636299133 l-0.42110592126846313,4.489430785179138 0.16493702307343483,15.246405601501465 l2.07077220082283,4.65713232755661 2.060892730951309,2.387298196554184 l1.97408989071846,1.7854245007038116 3.1214582920074463,1.8990200757980347 l3.44594806432724,1.187494769692421 8.631427884101868,1.3042175769805908 l4.994108080863953,0.22292053326964378 21.65757656097412,0.00393631577026099 l5.410194396972656,-0.5263868719339371 1.4927542209625244,-0.614592507481575 l3.9683669805526733,-3.2864975929260254 1.802268922328949,-3.1280654668807983 l0.6578663736581802,-2.8626978397369385 0.7122022658586502,-9.030482172966003 l-0.29956208541989326,-4.103918969631195 -2.422224283218384,-3.1571826338768005 l-6.039974093437195,-4.763442575931549 -8.983564376831055,-4.88831490278244 l-5.962695479393005,-1.6892962157726288 -10.001024007797241,-3.709256649017334 l-7.283600568771362,-0.27148399502038956 m0.8248882740736008,-0.21842585876584053 l4.3263062834739685,-3.2149460911750793 2.5514063239097595,-1.199360117316246 l2.595817446708679,-1.8746748566627502 8.083967566490173,-4.7211021184921265 l4.017777144908905,-1.1396928131580353 4.13208931684494,-0.2104903943836689 l7.751094698905945,0.1585240662097931 6.298846006393433,1.481005996465683 l5.407268404960632,1.8028898537158966 14.256714582443237,9.544689059257507 l1.2415621429681778,0.28360677883028984 0.7133959978818893,-0.3939158469438553 m-0.8196092396974564,2.1894070506095886 l-0.012881971197202802,1.3020505011081696 0.8032485097646713,0.8917579799890518 l1.2150176614522934,0.47713108360767365 2.320113182067871,0.0060226337518543005 l1.9190482795238495,-1.873452514410019 0.002120100107276812,-1.9048763811588287 l-1.208592802286148,-1.4747989177703857 -3.3270835876464844,-0.08724778890609741 l-2.4038246273994446,0.5740665271878242 m4.240013512826408,-7.76351259148214 l0.36211881786584854,-0.4255422577261925 4.489200711250305,-2.2894661128520966 l7.517700791358948,-2.5352606177330017 9.937887191772461,-1.752113550901413 l6.065418124198914,1.3758309185504913 5.2946072816848755,2.795574367046356 l5.881580114364624,5.858218669891357 4.250820577144623,6.397807598114014 l0.9758435934782028,0.5957448482513428 0.04518408328294754,0.5797860398888588 l0.19245082512497902,-0.5552432686090469 0.16820481047034264,-1.5165910124778748 l-0.09011095389723778,-0.01753170625306666 0.6317091733217239,0.405106320977211 l0.32902665436267853,0.9453224390745163 -0.2709871158003807,0.47115806490182877 l-0.6877663731575012,0.35051923245191574 -0.6159327179193497,0.046730865724384785 l-0.6196103245019913,-0.10510616935789585 -0.5838874727487564,-0.27800699695944786 l-0.507066547870636,-0.48899397253990173 -0.44536225497722626,-0.6497551500797272 l-0.7700610160827637,0.31141195446252823 -0.4119199141860008,-0.47515280544757843 l-0.7591231167316437,0.36432888358831406 -0.36801524460315704,-0.4354924336075783 l-0.7222726196050644,0.3646479547023773 -0.32507792115211487,-0.40765102952718735 l-0.7016127556562424,0.3514304384589195 -0.295112282037735,-0.3851335123181343 l-0.6949156522750854,0.3344343975186348 -0.2862451784312725,-0.36302492022514343 l-0.693967193365097,0.31136056408286095 -0.29075823724269867,-0.334097258746624 l-0.6849121302366257,0.279476810246706 -3.13629150390625,1.8763075768947601 l-0.9997034817934036,0.3094235621392727 m-26.682896614074707,-0.06630520801991224 l-4.309142529964447,-0.2566881291568279 -4.317144751548767,0.8314758539199829 l-1.0922616720199585,0.9698314219713211 -2.6220709085464478,2.5600767135620117 l-2.2102949023246765,2.9084086418151855 -1.54309943318367,3.1595247983932495 l-1.1291545629501343,5.947564244270325 -0.7442442327737808,7.055069804191589 l0.47499001026153564,2.19049409031868 3.7519031763076782,6.348130106925964 l1.5196225047111511,1.6167645156383514 4.1248250007629395,2.6322850584983826 l3.8873302936553955,1.2813277542591095 6.262630224227905,1.6028402745723724 l3.7304407358169556,0.304705910384655 5.566642880439758,-0.1552416756749153 l5.976138114929199,-0.8850646018981934 12.487790584564209,-4.035685360431671 l5.51824152469635,-3.072919249534607 3.2488518953323364,-3.170647919178009 l2.5741952657699585,-3.663858473300934 3.5296818614006042,-8.315520286560059 l0.30017564073204994,-5.81727147102356 -1.5729804337024689,-2.277548462152481 l-1.7562662065029144,-1.9056157767772675 -7.966994047164917,-4.9417343735694885 l-3.803073465824127,-1.3917766511440277 -3.1732583045959473,-0.8513981848955154 l-5.379415154457092,-0.39626922458410263 -7.659889459609985,-0.0313161569647491 l-4.412457048892975,0.4798099398612976 m-12.009799480438232,9.443545937538147 l-3.0255231261253357,0.4771634191274643 -1.214383915066719,0.5566229298710823 l-1.2236881256103516,0.9078896790742874 -0.7227779179811478,1.8959082663059235 l0.25766123086214066,3.80755215883255 2.6197269558906555,2.4526962637901306 l2.1448251605033875,0.975799486041069 2.318277657032013,0.25267215445637703 l4.47171151638031,0.10192865505814552 1.3571320474147797,-0.5856845900416374 l0.5079988017678261,-0.9394682943820953 0.4989716410636902,-7.248605489730835 l-0.6523294001817703,-1.2679968774318695 -3.24407696723938,-1.4493122696876526 l-2.118067741394043,-0.9603754431009293 -2.8834012150764465,-0.2306119166314602 m28.96918773651123,2.0466406643390656 l-2.524992823600769,0.8687498420476913 -1.229783073067665,3.3369648456573486 l0.5402934923768044,2.3091381788253784 1.0783123970031738,1.6340143978595734 l1.574057787656784,0.7813023030757904 1.8797142803668976,0.5915713310241699 l4.462406933307648,0.14176174998283386 0.9573934972286224,-0.9140340238809586 l0.8792100846767426,-2.395068407058716 -0.28714776039123535,-4.25482451915741 l-1.5699787437915802,-1.4681768417358398 -1.2830592691898346,-0.24295277893543243 m-25.046534538269043,1.4451965689659119 l-0.553215891122818,0.2790151350200176 -0.041500190272927284,0.6350809335708618 l1.932590901851654,0.5520426481962204 4.37799870967865,2.619512379169464 l2.275265157222748,-1.0504008084535599 2.2532542049884796,-1.315445601940155 m-1.377309262752533,-2.4757707118988037 l-0.854063555598259,1.452409029006958 -0.22274916991591454,2.3934122920036316 l-0.5360453575849533,0.5648663267493248 m24.18567180633545,-2.4824923276901245 l-0.5612417310476303,0.67781001329422 0.35653430968523026,0.5738261714577675 l6.642259955406189,0.7753719389438629 m1.2063594907522202,-2.0046690106391907 l-0.4191117361187935,1.5928807854652405 -0.5579684302210808,1.4557480812072754 l-0.13390365988016129,1.7620348930358887 0.605943500995636,0.2699427120387554 l0.7683840394020081,-0.07678327150642872 4.818980395793915,0.17299771308898926 l0.3353409096598625,-0.7022494822740555 -0.40807854384183884,-0.5299912765622139 l-0.20713845267891884,-1.407284438610077 -0.5847982317209244,-0.4259924963116646 l-0.7438254356384277,-0.2142934687435627 m-20.842180252075195,4.895179271697998 l0.02254911232739687,1.4829175174236298 -0.23311400786042213,1.0537397116422653 l1.7494882643222809,0.4016569256782532 2.2538161277770996,0.08770843036472797 l0.6095365062355995,-0.5999687686562538 0.17009353265166283,-0.7639098167419434 l3.342905342578888,0.10432516224682331 1.2199954688549042,-0.9352274239063263 l0.16574716195464134,-1.343711018562317 m-12.319549322128296,-25.050206184387207 l0.7789204269647598,-2.5319072604179382 1.609559804201126,-2.5279128551483154 l2.5636935234069824,-2.2527895867824554 3.2307392358779907,-1.2415781617164612 l3.762560486793518,-0.6548083573579788 4.804426431655884,-0.14525016769766808 l5.867869257926941,0.524626187980175 10.222610235214233,2.8560060262680054 l6.2480491399765015,2.5737264752388 5.249333381652832,2.7990081906318665 l4.181588292121887,3.039383888244629 6.000667214393616,3.579733669757843 l5.502181053161621,3.0106809735298157 0.8040575683116913,-1.3399524986743927 l0.423002727329731,-0.5564646050333977 0.5482267960906029,-1.511976718902588 l0.12727067805826664,-1.2912516295909882 -0.39917588233947754,1.0519972443580627 l-0.8684872835874557,1.0485992580652237 m-0.2533974125981331,0.23021942004561424 l-0.4261411726474762,1.168549284338951 3.494061231613159,-0.16784101724624634 l0.18437037244439125,-1.001710593700409 -0.3539174795150757,-0.3160848096013069 l-1.7543235421180725,0.05462946370244026 m33.557260984089226,-8.254379848367535 l0.004158950468990952,0.12047057971358299 -0.08751616813242435,-0.08494663052260876 l-0.46494346112012863,0.20555159077048302 -1.174236685037613,1.6492408514022827 l-3.2370388507843018,2.794276773929596 -5.24603009223938,3.4796124696731567 l-13.584891557693481,4.743455350399017 -2.1418391168117523,1.1767207831144333 l-11.957848072052002,2.5901034474372864 -2.0048318803310394,1.3803313672542572 l-1.0945120453834534,1.5343213081359863 -2.1739673614501953,7.862233519554138 l-0.17043206840753555,5.531787872314453 2.1901319921016693,2.339724153280258 l2.5545063614845276,1.7461422085762024 3.092464506626129,1.1026324331760406 l8.223121762275696,1.8613819777965546 29.752237796783447,5.364086627960205 l7.49093770980835,-0.32125934958457947 4.372470676898956,-1.083749532699585 l13.603523969650269,-3.8227578997612 4.001049995422363,-3.496328890323639 l2.510240077972412,-6.248353123664856 0.19984181970357895,-2.0807398855686188 l-0.028899747412651777,-9.618815183639526 -2.549182176589966,-4.7708651423454285 l-3.123778998851776,-3.9473164081573486 -10.459984540939331,-6.941383481025696 l-11.206649541854858,-0.12199998833239079 -5.660088658332825,-1.1287032067775726 l-3.5264554619789124,-1.7367605865001678 -2.8891971707344055,-3.2198861241340637 l-1.9602704048156738,-1.8127717077732086 -0.8738268166780472,-1.1594510823488235 m-7.471935749053955,22.583341598510742 l-1.1523333936929703,-0.1404033973813057 -2.9188886284828186,2.1000805497169495 l-0.4911908507347107,1.1378894746303558 0.009963917545974255,2.240590751171112 l0.4222225025296211,0.5295330658555031 1.4606784284114838,0.6411764025688171 l3.600001633167267,0.02401224570348859 1.4933598041534424,-0.7463798671960831 l0.5393646657466888,-1.5612567961215973 0.10666100308299065,-2.0735402405261993 l-0.7768309861421585,-2.1529334783554077 -0.7589678466320038,-0.471193827688694 m20.128698348999023,0.1361724454909563 l-1.4641593396663666,1.0557112842798233 -0.5961041152477264,1.2043529003858566 l-0.03261462785303593,1.7605020105838776 0.13077960349619389,2.4613867700099945 l0.8636527508497238,0.7913683354854584 5.260948538780212,1.7311236262321472 l1.9389916956424713,-0.001372336846543476 1.7614054679870605,-2.12677538394928 l0.5680765211582184,-2.858770191669464 -0.3388676792383194,-0.8014700561761856 l-1.4846163988113403,-0.9128176420927048 -1.9625025987625122,-0.8008082956075668 l-8.663974404335022,-1.8197239935398102 m-14.910709857940674,14.21329140663147 l0.9837009012699127,3.3204221725463867 5.133461952209473,-1.9833044707775116 l1.0450685024261475,0.6464357674121857 0.976838693022728,2.7131271362304688 l1.5207284688949585,-0.7488573342561722 1.8291930854320526,-1.5747717022895813 l1.37460857629776,-2.1751832962036133 0.18272953107953072,-1.0802730172872543 m-23.326895236968994,0.9564168751239777 l0.7256487756967545,0.8487739413976669 0.9879401326179504,0.39840012788772583 l3.2555219531059265,0.17581241205334663 0.1459967251867056,-1.2839685380458832 l-1.5678423643112183,-0.41846152395009995 -3.609839677810669,-0.020241059828549623 m28.005671501159668,1.1433254927396774 l-0.05974220111966133,0.4777131974697113 5.927349925041199,-0.008888246957212687 l0.03537515876814723,-2.5339126586914062 -4.011327922344208,-0.18890982493758202 l-1.8491637706756592,0.4965955764055252 -1.0588934272527695,1.255263239145279 l1.5502086281776428,0.6023009493947029 1.5241813659667969,-0.00023508151571149938 m-26.55811309814453,-13.787562847137451 l-1.2534548342227936,1.907801628112793 -2.0722949504852295,1.4325690269470215 l5.233836770057678,0.6850149482488632 0.31997814774513245,-0.1609417237341404 l1.1068253964185715,-1.7966578900814056 -2.9055848717689514,-0.2906295657157898 l-0.9581460058689117,-0.30040442943573 -0.31119219958782196,-0.666133388876915 m24.631376266479492,-1.1861497163772583 l-0.8039886504411697,0.12083848938345909 -3.080241084098816,2.883135676383972 l-2.642425000667572,0.8782922476530075 3.4173408150672913,0.6927555054426193 l2.116941809654236,0.8386944234371185 1.9806866347789764,1.1794105172157288 l1.7677165567874908,1.6178467869758606 0.5441711843013763,-0.02062695799395442 l1.1516960710287094,-0.8251502364873886 1.5973204374313354,-1.9552940130233765 l0.18083952367305756,-1.3119588792324066 -2.961992025375366,-0.9816154092550278 l-1.342635154724121,-1.2425953149795532 -1.2142691761255264,-2.375762313604355 \" fill=\"none\" stroke=\"black\" stroke-width=\"1\"/></svg>"
      ],
      "text/plain": [
       "<IPython.core.display.SVG object>"
      ]
     },
     "metadata": {},
     "output_type": "display_data"
    }
   ],
   "source": [
    "# randomly unconditionally generate 10 examples\n",
    "print(model_dir)\n",
    "N = 10\n",
    "reconstructions = []\n",
    "for i in range(N):\n",
    "    reconstructions.append([decode(temperature=0.1, draw_mode=False), [0, i]])\n",
    "\n",
    "stroke_grid = make_grid_svg(reconstructions)\n",
    "draw_strokes(stroke_grid)"
   ]
  },
  {
   "cell_type": "code",
   "execution_count": 277,
   "metadata": {},
   "outputs": [],
   "source": [
    "def get_model_params():\n",
    "    # get trainable params.\n",
    "    model_names = []\n",
    "    model_params = []\n",
    "    model_shapes = []\n",
    "    with sess.as_default():\n",
    "        t_vars = tf.trainable_variables()\n",
    "        for var in t_vars:\n",
    "            param_name = var.name\n",
    "            p = sess.run(var)\n",
    "            model_names.append(param_name)\n",
    "            params = p\n",
    "            model_params.append(params)\n",
    "            model_shapes.append(p.shape)\n",
    "    return model_params, model_shapes, model_names\n",
    "\n",
    "\n",
    "def quantize_params(params, max_weight=10.0, factor=32767):\n",
    "    result = []\n",
    "    max_weight = np.abs(max_weight)\n",
    "    for p in params:\n",
    "        r = np.array(p)\n",
    "        r /= max_weight\n",
    "        r[r > 1.0] = 1.0\n",
    "        r[r < -1.0] = -1.0\n",
    "        result.append(np.round(r * factor).flatten().astype(np.int).tolist())\n",
    "    return result\n"
   ]
  },
  {
   "cell_type": "code",
   "execution_count": 278,
   "metadata": {},
   "outputs": [],
   "source": [
    "model_params, model_shapes, model_names = get_model_params()"
   ]
  },
  {
   "cell_type": "code",
   "execution_count": 279,
   "metadata": {},
   "outputs": [
    {
     "data": {
      "text/plain": [
       "['vector_rnn/ENC_RNN/fw/LSTMCell/W_xh:0',\n",
       " 'vector_rnn/ENC_RNN/fw/LSTMCell/W_hh:0',\n",
       " 'vector_rnn/ENC_RNN/fw/LSTMCell/bias:0',\n",
       " 'vector_rnn/ENC_RNN/bw/LSTMCell/W_xh:0',\n",
       " 'vector_rnn/ENC_RNN/bw/LSTMCell/W_hh:0',\n",
       " 'vector_rnn/ENC_RNN/bw/LSTMCell/bias:0',\n",
       " 'vector_rnn/ENC_RNN_mu/super_linear_w:0',\n",
       " 'vector_rnn/ENC_RNN_mu/super_linear_b:0',\n",
       " 'vector_rnn/ENC_RNN_sigma/super_linear_w:0',\n",
       " 'vector_rnn/ENC_RNN_sigma/super_linear_b:0',\n",
       " 'vector_rnn/linear/super_linear_w:0',\n",
       " 'vector_rnn/linear/super_linear_b:0',\n",
       " 'vector_rnn/RNN/output_w:0',\n",
       " 'vector_rnn/RNN/output_b:0',\n",
       " 'vector_rnn/RNN/LSTMCell/W_xh:0',\n",
       " 'vector_rnn/RNN/LSTMCell/W_hh:0',\n",
       " 'vector_rnn/RNN/LSTMCell/bias:0']"
      ]
     },
     "execution_count": 279,
     "metadata": {},
     "output_type": "execute_result"
    }
   ],
   "source": [
    "model_names"
   ]
  },
  {
   "cell_type": "code",
   "execution_count": 280,
   "metadata": {},
   "outputs": [],
   "source": [
    "# scale factor converts \"model-coordinates\" to \"pixel coordinates\" for your JS canvas demo later on.\n",
    "# the larger it is, the larger your drawings (in pixel space) will be.\n",
    "# I recommend setting this to 100.0 and iterating the value in the json file later on when you build the JS part.\n",
    "scale_factor = 65\n",
    "mode = 1 if model_type == 'vae' else 2\n",
    "metainfo = {\"mode\":mode,\"version\":6,\"max_seq_len\":train_set.max_seq_length,\"name\":\"{}\".format(subject),\"scale_factor\":scale_factor}"
   ]
  },
  {
   "cell_type": "code",
   "execution_count": 281,
   "metadata": {},
   "outputs": [],
   "source": [
    "model_params_quantized = quantize_params(model_params)"
   ]
  },
  {
   "cell_type": "code",
   "execution_count": 282,
   "metadata": {},
   "outputs": [],
   "source": [
    "model_blob = [metainfo, model_shapes, model_params_quantized]"
   ]
  },
  {
   "cell_type": "code",
   "execution_count": 283,
   "metadata": {},
   "outputs": [
    {
     "data": {
      "text/plain": [
       "'slime.vae.full_20181210_083535.json'"
      ]
     },
     "execution_count": 283,
     "metadata": {},
     "output_type": "execute_result"
    }
   ],
   "source": [
    "js_model_path = \"{}.{}.full_{}.json\".format(subject, model_type, datetime.now().strftime('%Y%m%d_%H%M%S'))\n",
    "js_model_path"
   ]
  },
  {
   "cell_type": "code",
   "execution_count": 284,
   "metadata": {},
   "outputs": [],
   "source": [
    "with open(js_model_path, 'w') as outfile:\n",
    "    json.dump(model_blob, outfile, separators=(',', ':'))\n"
   ]
  },
  {
   "cell_type": "markdown",
   "metadata": {},
   "source": [
    "After you dump the `custom.gen.full.json`, you should save the below code as `compress_model.json`, and run:\n",
    "\n",
    "```\n",
    "node compress_model.js custom.gen.full.json custom.gen.json\n",
    "```\n",
    "\n",
    "To get to the final file you can use for Sketch-RNN-JS\n",
    "\n",
    "Below is the entire code for `compress_model.js` which will be run using node:\n",
    "\n",
    "```\n",
    "/*\n",
    "compress_model.js\n",
    "Compress JSON model to b64 encoded version to save bandwidth. only works for decoder-only sketch-rnn model.\n",
    "*/\n",
    "\n",
    "const assert = require('assert');\n",
    "const fs = require('fs');\n",
    "\n",
    "/**\n",
    " * deals with decompressing b64 models to float arrays.\n",
    " */\n",
    "function btoa(s) {\n",
    "  return Buffer.from(s, 'binary').toString('base64');\n",
    "}\n",
    "function string_to_uint8array(b64encoded) {\n",
    "  var u8 = new Uint8Array(atob(b64encoded).split(\"\").map(function(c) {\n",
    "    return c.charCodeAt(0); }));\n",
    "  return u8;\n",
    "}\n",
    "function uintarray_to_string(u8) {\n",
    "  var s = \"\";\n",
    "  for (var i = 0, len = u8.length; i < len; i++) {\n",
    "    s += String.fromCharCode(u8[i]);\n",
    "  }\n",
    "  var b64encoded = btoa(s);\n",
    "  return b64encoded;\n",
    "};\n",
    "function string_to_array(s) {\n",
    "  var u = string_to_uint8array(s);\n",
    "  var result = new Int16Array(u.buffer);\n",
    "  return result;\n",
    "};\n",
    "function array_to_string(a) {\n",
    "  var u = new Uint8Array(a.buffer);\n",
    "  var result = uintarray_to_string(u);\n",
    "  return result;\n",
    "};\n",
    "\n",
    "var args = process.argv.slice(2);\n",
    "\n",
    "try {\n",
    "  assert.strictEqual(args.length, 2);\n",
    "} catch (err) {\n",
    "  console.log(\"Usage: node compress_model.js orig_full_model.json compressed_model.json\")\n",
    "  process.exit(1);\n",
    "}\n",
    "\n",
    "var orig_file = args[0];\n",
    "var target_file = args[1];\n",
    "\n",
    "var orig_model = JSON.parse(fs.readFileSync(orig_file, 'ascii'));\n",
    "\n",
    "var model_weights = orig_model[2];\n",
    "var compressed_weights = [];\n",
    "\n",
    "for (var i=0;i<model_weights.length;i++) {\n",
    "  compressed_weights.push(array_to_string(new Int16Array(model_weights[i])));\n",
    "}\n",
    "\n",
    "var target_model = [orig_model[0], orig_model[1], compressed_weights];\n",
    "\n",
    "fs.writeFileSync(target_file, JSON.stringify(target_model), 'ascii');\n",
    "```"
   ]
  },
  {
   "cell_type": "code",
   "execution_count": null,
   "metadata": {},
   "outputs": [],
   "source": []
  },
  {
   "cell_type": "code",
   "execution_count": null,
   "metadata": {},
   "outputs": [],
   "source": []
  }
 ],
 "metadata": {
  "kernelspec": {
   "display_name": "Python 3",
   "language": "python",
   "name": "python3"
  },
  "language_info": {
   "codemirror_mode": {
    "name": "ipython",
    "version": 3
   },
   "file_extension": ".py",
   "mimetype": "text/x-python",
   "name": "python",
   "nbconvert_exporter": "python",
   "pygments_lexer": "ipython3",
   "version": "3.6.6"
  }
 },
 "nbformat": 4,
 "nbformat_minor": 2
}
