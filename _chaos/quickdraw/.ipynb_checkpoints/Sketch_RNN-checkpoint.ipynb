{
 "cells": [
  {
   "cell_type": "markdown",
   "metadata": {
    "colab_type": "text",
    "id": "tDybPQiEFQuJ"
   },
   "source": [
    "In this notebook, we will show how to load pre-trained models and draw things with sketch-rnn"
   ]
  },
  {
   "cell_type": "code",
   "execution_count": 1,
   "metadata": {},
   "outputs": [],
   "source": [
    "import sys\n",
    "sys.version_info"
   ]
  },
  {
   "cell_type": "code",
   "execution_count": 2,
   "metadata": {
    "colab": {},
    "colab_type": "code",
    "id": "k0GqvYgB9JLC"
   },
   "outputs": [],
   "source": [
    "# import the required libraries\n",
    "import numpy as np\n",
    "import time\n",
    "import random\n",
    "# import cPickle\n",
    "import _pickle as cPickle\n",
    "import codecs\n",
    "import collections\n",
    "import os\n",
    "import math\n",
    "import json\n",
    "import tensorflow as tf\n",
    "from six.moves import xrange"
   ]
  },
  {
   "cell_type": "code",
   "execution_count": 3,
   "metadata": {
    "colab": {},
    "colab_type": "code",
    "id": "UI4ZC__4FQuL"
   },
   "outputs": [],
   "source": [
    "# libraries required for visualisation:\n",
    "from IPython.display import SVG, display\n",
    "import PIL\n",
    "from PIL import Image\n",
    "import matplotlib.pyplot as plt\n",
    "\n",
    "# set numpy output to something sensible\n",
    "np.set_printoptions(precision=8, edgeitems=6, linewidth=200, suppress=True)"
   ]
  },
  {
   "cell_type": "markdown",
   "metadata": {
    "colab": {},
    "colab_type": "code",
    "id": "D7ObpAUh9jrk"
   },
   "source": [
    "!pip install -qU svgwrite"
   ]
  },
  {
   "cell_type": "code",
   "execution_count": 4,
   "metadata": {
    "colab": {},
    "colab_type": "code",
    "id": "4xYY-TUd9aiD"
   },
   "outputs": [],
   "source": [
    "import svgwrite # conda install -c omnia svgwrite=1.1.6"
   ]
  },
  {
   "cell_type": "code",
   "execution_count": 5,
   "metadata": {
    "colab": {
     "base_uri": "https://localhost:8080/",
     "height": 34
    },
    "colab_type": "code",
    "id": "NzPSD-XRFQuP",
    "outputId": "daa0dd33-6d59-4d15-f437-d8ec787c8884"
   },
   "outputs": [
    {
     "name": "stdout",
     "output_type": "stream",
     "text": [
      "INFO:tensorflow:TensorFlow Version: 1.12.0\n"
     ]
    }
   ],
   "source": [
    "tf.logging.info(\"TensorFlow Version: %s\", tf.__version__)\n"
   ]
  },
  {
   "cell_type": "markdown",
   "metadata": {
    "colab": {},
    "colab_type": "code",
    "id": "LebxcF4p90OR"
   },
   "source": [
    "!pip install -q magenta"
   ]
  },
  {
   "cell_type": "code",
   "execution_count": 6,
   "metadata": {},
   "outputs": [],
   "source": [
    "import os\n",
    "os.chdir(r'D:\\playground\\projects\\magenta_pjt')"
   ]
  },
  {
   "cell_type": "code",
   "execution_count": 7,
   "metadata": {
    "colab": {},
    "colab_type": "code",
    "id": "NkFS0E1zFQuU"
   },
   "outputs": [],
   "source": [
    "# import our command line tools\n",
    "from magenta.models.sketch_rnn.sketch_rnn_train import *\n",
    "from magenta.models.sketch_rnn.model import *\n",
    "from magenta.models.sketch_rnn.utils import *\n",
    "from magenta.models.sketch_rnn.rnn import *"
   ]
  },
  {
   "cell_type": "code",
   "execution_count": 8,
   "metadata": {
    "colab": {},
    "colab_type": "code",
    "id": "GBde4xkEFQuX"
   },
   "outputs": [],
   "source": [
    "# little function that displays vector images and saves them to .svg\n",
    "def draw_strokes(data, factor=0.2, svg_filename='/tmp/sketch_rnn/svg/sample.svg'):\n",
    "    tf.gfile.MakeDirs(os.path.dirname(svg_filename))\n",
    "    min_x, max_x, min_y, max_y = get_bounds(data, factor)\n",
    "    dims = (50 + max_x - min_x, 50 + max_y - min_y)\n",
    "    dwg = svgwrite.Drawing(svg_filename, size=dims)\n",
    "    dwg.add(dwg.rect(insert=(0, 0), size=dims, fill='white'))\n",
    "    lift_pen = 1\n",
    "    abs_x = 25 - min_x\n",
    "    abs_y = 25 - min_y\n",
    "    p = \"M%s,%s \" % (abs_x, abs_y)\n",
    "    command = \"m\"\n",
    "    for i in xrange(len(data)):\n",
    "        if (lift_pen == 1):\n",
    "            command = \"m\"\n",
    "        elif (command != \"l\"):\n",
    "            command = \"l\"\n",
    "        else:\n",
    "            command = \"\"\n",
    "        x = float(data[i, 0]) / factor\n",
    "        y = float(data[i, 1]) / factor\n",
    "        lift_pen = data[i, 2]\n",
    "        p += command + str(x) + \",\" + str(y) + \" \"\n",
    "    the_color = \"black\"\n",
    "    stroke_width = 1\n",
    "    dwg.add(dwg.path(p).stroke(the_color, stroke_width).fill(\"none\"))\n",
    "    dwg.save()\n",
    "    display(SVG(dwg.tostring()))\n",
    "\n",
    "\n",
    "# generate a 2D grid of many vector drawings\n",
    "def make_grid_svg(s_list, grid_space=10.0, grid_space_x=16.0):\n",
    "    def get_start_and_end(x):\n",
    "        x = np.array(x)\n",
    "        x = x[:, 0:2]\n",
    "        x_start = x[0]\n",
    "        x_end = x.sum(axis=0)\n",
    "        x = x.cumsum(axis=0)\n",
    "        x_max = x.max(axis=0)\n",
    "        x_min = x.min(axis=0)\n",
    "        center_loc = (x_max + x_min) * 0.5\n",
    "        return x_start - center_loc, x_end\n",
    "\n",
    "    x_pos = 0.0\n",
    "    y_pos = 0.0\n",
    "    result = [[x_pos, y_pos, 1]]\n",
    "    for sample in s_list:\n",
    "        s = sample[0]\n",
    "        grid_loc = sample[1]\n",
    "        grid_y = grid_loc[0] * grid_space + grid_space * 0.5\n",
    "        grid_x = grid_loc[1] * grid_space_x + grid_space_x * 0.5\n",
    "        start_loc, delta_pos = get_start_and_end(s)\n",
    "\n",
    "        loc_x = start_loc[0]\n",
    "        loc_y = start_loc[1]\n",
    "        new_x_pos = grid_x + loc_x\n",
    "        new_y_pos = grid_y + loc_y\n",
    "        result.append([new_x_pos - x_pos, new_y_pos - y_pos, 0])\n",
    "\n",
    "        result += s.tolist()\n",
    "        result[-1][2] = 1\n",
    "        x_pos = new_x_pos + delta_pos[0]\n",
    "        y_pos = new_y_pos + delta_pos[1]\n",
    "    return np.array(result)\n"
   ]
  },
  {
   "cell_type": "markdown",
   "metadata": {
    "colab_type": "text",
    "id": "if7-UyxzFQuY"
   },
   "source": [
    "define the path of the model you want to load, and also the path of the dataset"
   ]
  },
  {
   "cell_type": "code",
   "execution_count": 9,
   "metadata": {
    "colab": {},
    "colab_type": "code",
    "id": "Dipv1EbsFQuZ"
   },
   "outputs": [],
   "source": [
    "data_dir = 'http://github.com/hardmaru/sketch-rnn-datasets/raw/master/aaron_sheep/'\n",
    "models_root_dir = '/tmp/sketch_rnn/models'\n",
    "models_root_dir = r'C:\\Users\\dongwan.kim\\Desktop\\래커통\\tmp\\sketch_rnn\\models'\n",
    "model_dir = '/tmp/sketch_rnn/models/aaron_sheep/layer_norm'\n",
    "model_dir = r'C:\\Users\\dongwan.kim\\Desktop\\래커통\\tmp\\sketch_rnn\\models\\aaron_sheep\\layer_norm'\n",
    "\n"
   ]
  },
  {
   "cell_type": "code",
   "execution_count": 10,
   "metadata": {
    "colab": {
     "base_uri": "https://localhost:8080/",
     "height": 68
    },
    "colab_type": "code",
    "id": "eaSqI0fIFQub",
    "outputId": "06df45a6-cc86-4f50-802e-25ae185037f7"
   },
   "outputs": [
    {
     "name": "stdout",
     "output_type": "stream",
     "text": [
      "INFO:tensorflow:C:\\Users\\dongwan.kim\\Desktop\\래커통\\tmp\\sketch_rnn\\models\\sketch_rnn.zip already exists, using cached copy\n",
      "INFO:tensorflow:Unzipping C:\\Users\\dongwan.kim\\Desktop\\래커통\\tmp\\sketch_rnn\\models\\sketch_rnn.zip...\n",
      "INFO:tensorflow:Unzipping complete.\n"
     ]
    }
   ],
   "source": [
    "download_pretrained_models(models_root_dir=models_root_dir)"
   ]
  },
  {
   "cell_type": "code",
   "execution_count": 11,
   "metadata": {
    "colab": {},
    "colab_type": "code",
    "id": "G4sRuxyn_1aO"
   },
   "outputs": [],
   "source": [
    "def load_env_compatible(data_dir, model_dir):\n",
    "    \"\"\"Loads environment for inference mode, used in jupyter notebook.\"\"\"\n",
    "    # modified https://github.com/tensorflow/magenta/blob/master/magenta/models/sketch_rnn/sketch_rnn_train.py\n",
    "    # to work with depreciated tf.HParams functionality\n",
    "    model_params = sketch_rnn_model.get_default_hparams()\n",
    "    with tf.gfile.Open(os.path.join(model_dir, 'model_config.json'), 'r') as f:\n",
    "        data = json.load(f)\n",
    "    fix_list = ['conditional', 'is_training', 'use_input_dropout', 'use_output_dropout', 'use_recurrent_dropout']\n",
    "    for fix in fix_list:\n",
    "        data[fix] = (data[fix] == 1)\n",
    "    model_params.parse_json(json.dumps(data))\n",
    "    return load_dataset(data_dir, model_params, inference_mode=True)\n",
    "\n",
    "\n",
    "def load_model_compatible(model_dir):\n",
    "    \"\"\"Loads model for inference mode, used in jupyter notebook.\"\"\"\n",
    "    # modified https://github.com/tensorflow/magenta/blob/master/magenta/models/sketch_rnn/sketch_rnn_train.py\n",
    "    # to work with depreciated tf.HParams functionality\n",
    "    model_params = sketch_rnn_model.get_default_hparams()\n",
    "    with tf.gfile.Open(os.path.join(model_dir, 'model_config.json'), 'r') as f:\n",
    "        data = json.load(f)\n",
    "    fix_list = ['conditional', 'is_training', 'use_input_dropout', 'use_output_dropout', 'use_recurrent_dropout']\n",
    "    for fix in fix_list:\n",
    "        data[fix] = (data[fix] == 1)\n",
    "    model_params.parse_json(json.dumps(data))\n",
    "    \n",
    "    model_params.batch_size = 1  # only sample one at a time\n",
    "    eval_model_params = sketch_rnn_model.copy_hparams(model_params)\n",
    "    eval_model_params.use_input_dropout = 0\n",
    "    eval_model_params.use_recurrent_dropout = 0\n",
    "    eval_model_params.use_output_dropout = 0\n",
    "    eval_model_params.is_training = 0\n",
    "    \n",
    "    sample_model_params = sketch_rnn_model.copy_hparams(eval_model_params)\n",
    "    sample_model_params.max_seq_len = 1  # sample one point at a time\n",
    "    \n",
    "    return [model_params, eval_model_params, sample_model_params]\n"
   ]
  },
  {
   "cell_type": "code",
   "execution_count": 12,
   "metadata": {
    "colab": {
     "base_uri": "https://localhost:8080/",
     "height": 153
    },
    "colab_type": "code",
    "id": "9m-jSAb3FQuf",
    "outputId": "debc045d-d15a-4b30-f747-fa4bcbd069fd"
   },
   "outputs": [
    {
     "name": "stdout",
     "output_type": "stream",
     "text": [
      "INFO:tensorflow:Downloading http://github.com/hardmaru/sketch-rnn-datasets/raw/master/aaron_sheep/aaron_sheep.npz\n",
      "1\n",
      "2\n",
      "INFO:tensorflow:Loaded 7400/300/300 from aaron_sheep.npz\n",
      "INFO:tensorflow:Dataset combined: 8000 (7400/300/300), avg len 125\n",
      "INFO:tensorflow:model_params.max_seq_len 250.\n",
      "total images <= max_seq_len is 7400\n",
      "total images <= max_seq_len is 300\n",
      "total images <= max_seq_len is 300\n",
      "INFO:tensorflow:normalizing_scale_factor 18.5198.\n"
     ]
    }
   ],
   "source": [
    "[train_set, valid_set, test_set, hps_model, eval_hps_model, sample_hps_model] = load_env_compatible(data_dir, model_dir)"
   ]
  },
  {
   "cell_type": "code",
   "execution_count": 13,
   "metadata": {
    "colab": {
     "base_uri": "https://localhost:8080/",
     "height": 479
    },
    "colab_type": "code",
    "id": "1pHS8TSgFQui",
    "outputId": "50b0e14d-ff0f-43bf-d996-90e9e6a1491e"
   },
   "outputs": [
    {
     "name": "stdout",
     "output_type": "stream",
     "text": [
      "INFO:tensorflow:Model using gpu.\n",
      "INFO:tensorflow:Input dropout mode = False.\n",
      "INFO:tensorflow:Output dropout mode = False.\n",
      "INFO:tensorflow:Recurrent dropout mode = True.\n",
      "WARNING:tensorflow:From D:\\playground\\projects\\magenta_pjt\\magenta\\models\\sketch_rnn\\rnn.py:139: calling reduce_mean (from tensorflow.python.ops.math_ops) with keep_dims is deprecated and will be removed in a future version.\n",
      "Instructions for updating:\n",
      "keep_dims is deprecated, use keepdims instead\n",
      "WARNING:tensorflow:From D:\\playground\\projects\\magenta_pjt\\magenta\\models\\sketch_rnn\\model.py:287: calling reduce_sum (from tensorflow.python.ops.math_ops) with keep_dims is deprecated and will be removed in a future version.\n",
      "Instructions for updating:\n",
      "keep_dims is deprecated, use keepdims instead\n",
      "WARNING:tensorflow:From D:\\playground\\projects\\magenta_pjt\\magenta\\models\\sketch_rnn\\model.py:297: softmax_cross_entropy_with_logits (from tensorflow.python.ops.nn_ops) is deprecated and will be removed in a future version.\n",
      "Instructions for updating:\n",
      "\n",
      "Future major versions of TensorFlow will allow gradients to flow\n",
      "into the labels input on backprop by default.\n",
      "\n",
      "See `tf.nn.softmax_cross_entropy_with_logits_v2`.\n",
      "\n",
      "INFO:tensorflow:Model using gpu.\n",
      "INFO:tensorflow:Input dropout mode = 0.\n",
      "INFO:tensorflow:Output dropout mode = 0.\n",
      "INFO:tensorflow:Recurrent dropout mode = 0.\n",
      "INFO:tensorflow:Model using gpu.\n",
      "INFO:tensorflow:Input dropout mode = 0.\n",
      "INFO:tensorflow:Output dropout mode = 0.\n",
      "INFO:tensorflow:Recurrent dropout mode = 0.\n"
     ]
    }
   ],
   "source": [
    "# construct the sketch-rnn model here:\n",
    "reset_graph()\n",
    "model = Model(hps_model)\n",
    "eval_model = Model(eval_hps_model, reuse=True)\n",
    "sample_model = Model(sample_hps_model, reuse=True)"
   ]
  },
  {
   "cell_type": "code",
   "execution_count": 14,
   "metadata": {
    "colab": {},
    "colab_type": "code",
    "id": "1gxYLPTQFQuk"
   },
   "outputs": [],
   "source": [
    "sess = tf.InteractiveSession()\n",
    "sess.run(tf.global_variables_initializer())"
   ]
  },
  {
   "cell_type": "code",
   "execution_count": 15,
   "metadata": {
    "colab": {
     "base_uri": "https://localhost:8080/",
     "height": 51
    },
    "colab_type": "code",
    "id": "bVlDyfN_FQum",
    "outputId": "fb41ce20-4c7f-4991-e9f6-559ea9b34a31"
   },
   "outputs": [
    {
     "name": "stdout",
     "output_type": "stream",
     "text": [
      "INFO:tensorflow:Loading model C:\\Users\\dongwan.kim\\Desktop\\래커통\\tmp\\sketch_rnn\\models\\aaron_sheep\\layer_norm\\vector.\n",
      "INFO:tensorflow:Restoring parameters from C:\\Users\\dongwan.kim\\Desktop\\래커통\\tmp\\sketch_rnn\\models\\aaron_sheep\\layer_norm\\vector\n"
     ]
    }
   ],
   "source": [
    "# loads the weights from checkpoint into our model\n",
    "load_checkpoint(sess, model_dir)"
   ]
  },
  {
   "cell_type": "markdown",
   "metadata": {
    "colab_type": "text",
    "id": "EOblwpFeFQuq"
   },
   "source": [
    "We define two convenience functions to encode a stroke into a latent vector, and decode from latent vector to stroke."
   ]
  },
  {
   "cell_type": "code",
   "execution_count": 16,
   "metadata": {
    "colab": {},
    "colab_type": "code",
    "id": "tMFlV487FQur"
   },
   "outputs": [],
   "source": [
    "def encode(input_strokes):\n",
    "    strokes = to_big_strokes(input_strokes).tolist()\n",
    "    strokes.insert(0, [0, 0, 1, 0, 0])\n",
    "    seq_len = [len(input_strokes)]\n",
    "    draw_strokes(to_normal_strokes(np.array(strokes)))\n",
    "    return \\\n",
    "    sess.run(eval_model.batch_z, feed_dict={eval_model.input_data: [strokes], eval_model.sequence_lengths: seq_len})[0]\n"
   ]
  },
  {
   "cell_type": "code",
   "execution_count": 17,
   "metadata": {
    "colab": {},
    "colab_type": "code",
    "id": "1D5CV7ZlFQut"
   },
   "outputs": [],
   "source": [
    "def decode(z_input=None, draw_mode=True, temperature=0.1, factor=0.2):\n",
    "    z = None\n",
    "    if z_input is not None:\n",
    "        z = [z_input]\n",
    "    sample_strokes, m = sample(sess, sample_model, seq_len=eval_model.hps.max_seq_len, temperature=temperature, z=z)\n",
    "    strokes = to_normal_strokes(sample_strokes)\n",
    "    if draw_mode:\n",
    "        draw_strokes(strokes, factor)\n",
    "    return strokes\n"
   ]
  },
  {
   "cell_type": "code",
   "execution_count": 18,
   "metadata": {
    "colab": {
     "base_uri": "https://localhost:8080/",
     "height": 123
    },
    "colab_type": "code",
    "id": "fUOAvRQtFQuw",
    "outputId": "c8e9a1c3-28db-4263-ac67-62ffece1e1e0"
   },
   "outputs": [
    {
     "data": {
      "image/svg+xml": [
       "<svg baseProfile=\"full\" height=\"91.57707002013922\" version=\"1.1\" width=\"146.11322928220034\" xmlns=\"http://www.w3.org/2000/svg\" xmlns:ev=\"http://www.w3.org/2001/xml-events\" xmlns:xlink=\"http://www.w3.org/1999/xlink\"><defs/><rect fill=\"white\" height=\"91.57707002013922\" width=\"146.11322928220034\" x=\"0\" y=\"0\"/><path d=\"M42.0088017731905,29.8596578463912 m-2.159847915172577,-0.5399619787931442 l-6.749524474143982,-0.5399619787931442 -0.8099429309368134,0.8099429309368134 l-2.42982879281044,0.5399619787931442 -1.0799239575862885,1.3499048352241516 l-1.6198858618736267,0.8099429309368134 -0.5399619787931442,2.42982879281044 l-1.6198858618736267,0.8099429309368134 0.5399619787931442,1.8898668885231018 l0.8099429309368134,0.0 3.5097527503967285,2.42982879281044 l4.319695830345154,1.3499048352241516 -1.0799239575862885,0.0 l7.829448580741882,0.0 0.5399619787931442,-0.8099429309368134 l1.0799239575862885,-0.2699809893965721 0.8099429309368134,-0.8099429309368134 m0.8099429309368134,-7.289486527442932 l0.0,-0.5399619787931442 -1.0799239575862885,-1.0799239575862885 l0.2699809893965721,-4.589676558971405 2.42982879281044,-0.8099429309368134 l-0.8099429309368134,0.0 0.2699809893965721,3.2397717237472534 l-2.159847915172577,0.5399619787931442 1.8898668885231018,0.0 l-1.6198858618736267,0.0 1.6198858618736267,2.159847915172577 l0.0,0.5399619787931442 m0.8099429309368134,1.0799239575862885 l-0.2699809893965721,-1.6198858618736267 0.8099429309368134,-1.0799239575862885 l2.6998096704483032,-1.8898668885231018 1.8898668885231018,-0.5399619787931442 l2.42982879281044,0.0 6.479543447494507,1.0799239575862885 l1.8898668885231018,0.8099429309368134 -1.0799239575862885,2.42982879281044 l-0.8099429309368134,0.5399619787931442 0.0,-1.3499048352241516 l3.2397717237472534,-2.6998096704483032 3.7797337770462036,-1.3499048352241516 l2.159847915172577,0.0 3.5097527503967285,1.0799239575862885 l2.159847915172577,2.159847915172577 0.0,1.3499048352241516 l1.6198858618736267,-2.159847915172577 2.42982879281044,-1.6198858618736267 l8.909372091293335,-2.159847915172577 3.5097527503967285,-0.2699809893965721 l3.5097527503967285,0.8099429309368134 2.42982879281044,2.9697906970977783 l0.5399619787931442,3.5097527503967285 -1.0799239575862885,1.6198858618736267 l-0.5399619787931442,0.0 0.8099429309368134,-2.159847915172577 l1.8898668885231018,-1.6198858618736267 2.9697906970977783,-1.0799239575862885 l1.6198858618736267,0.0 0.5399619787931442,0.2699809893965721 l0.0,1.8898668885231018 -1.0799239575862885,3.7797337770462036 l17.278783321380615,0.2699809893965721 0.5399619787931442,0.5399619787931442 l0.5399619787931442,2.42982879281044 0.0,4.319695830345154 l-12.959086894989014,0.0 -1.0799239575862885,-0.8099429309368134 l-2.159847915172577,-0.2699809893965721 -4.319695830345154,3.5097527503967285 l-1.8898668885231018,0.0 -4.319695830345154,-4.85965758562088 l-5.6696003675460815,5.3996193408966064 -2.9697906970977783,0.0 l-1.3499048352241516,-2.6998096704483032 -0.5399619787931442,-0.2699809893965721 l-5.129638910293579,3.7797337770462036 -3.7797337770462036,-0.5399619787931442 l-2.9697906970977783,-2.6998096704483032 -7.289486527442932,3.2397717237472534 l-4.049714803695679,0.2699809893965721 -2.9697906970977783,-2.6998096704483032 l-0.8099429309368134,-1.3499048352241516 -2.42982879281044,1.6198858618736267 l-5.6696003675460815,2.42982879281044 -1.3499048352241516,-1.3499048352241516 l-1.8898668885231018,-3.2397717237472534 -1.0799239575862885,0.0 l-0.5399619787931442,-2.42982879281044 m-2.6998096704483032,-10.259277820587158 l-1.3499048352241516,0.8099429309368134 0.2699809893965721,0.5399619787931442 l0.8099429309368134,-1.6198858618736267 -0.5399619787931442,0.5399619787931442 l-1.6198858618736267,0.2699809893965721 m12.689106464385986,16.468839645385742 l-2.159847915172577,2.6998096704483032 -0.8099429309368134,2.42982879281044 l-4.319695830345154,5.129638910293579 1.3499048352241516,3.7797337770462036 l0.5399619787931442,3.7797337770462036 m12.959086894989014,-16.468839645385742 l-1.0799239575862885,3.2397717237472534 2.159847915172577,11.879162788391113 m28.348002433776855,-16.738821268081665 l-5.129638910293579,5.3996193408966064 -2.9697906970977783,4.85965758562088 l2.42982879281044,9.989296197891235 \" fill=\"none\" stroke=\"black\" stroke-width=\"1\"/></svg>"
      ],
      "text/plain": [
       "<IPython.core.display.SVG object>"
      ]
     },
     "metadata": {},
     "output_type": "display_data"
    }
   ],
   "source": [
    "# get a sample drawing from the test set, and render it to .svg\n",
    "stroke = test_set.random_sample()\n",
    "draw_strokes(stroke)"
   ]
  },
  {
   "cell_type": "markdown",
   "metadata": {
    "colab_type": "text",
    "id": "j114Re2JFQuz"
   },
   "source": [
    "Let's try to encode the sample stroke into latent vector $z$"
   ]
  },
  {
   "cell_type": "code",
   "execution_count": 19,
   "metadata": {
    "colab": {
     "base_uri": "https://localhost:8080/",
     "height": 123
    },
    "colab_type": "code",
    "id": "DBRjPBo-FQu0",
    "outputId": "e089dc78-88e3-44c6-ed7e-f1844471f47f"
   },
   "outputs": [
    {
     "data": {
      "image/svg+xml": [
       "<svg baseProfile=\"full\" height=\"91.57707002013922\" version=\"1.1\" width=\"146.11322928220034\" xmlns=\"http://www.w3.org/2000/svg\" xmlns:ev=\"http://www.w3.org/2001/xml-events\" xmlns:xlink=\"http://www.w3.org/1999/xlink\"><defs/><rect fill=\"white\" height=\"91.57707002013922\" width=\"146.11322928220034\" x=\"0\" y=\"0\"/><path d=\"M42.0088017731905,29.8596578463912 m0.0,0.0 l-2.159847915172577,-0.5399619787931442 -6.749524474143982,-0.5399619787931442 l-0.8099429309368134,0.8099429309368134 -2.42982879281044,0.5399619787931442 l-1.0799239575862885,1.3499048352241516 -1.6198858618736267,0.8099429309368134 l-0.5399619787931442,2.42982879281044 -1.6198858618736267,0.8099429309368134 l0.5399619787931442,1.8898668885231018 0.8099429309368134,0.0 l3.5097527503967285,2.42982879281044 4.319695830345154,1.3499048352241516 l-1.0799239575862885,0.0 7.829448580741882,0.0 l0.5399619787931442,-0.8099429309368134 1.0799239575862885,-0.2699809893965721 l0.8099429309368134,-0.8099429309368134 m0.8099429309368134,-7.289486527442932 l0.0,-0.5399619787931442 -1.0799239575862885,-1.0799239575862885 l0.2699809893965721,-4.589676558971405 2.42982879281044,-0.8099429309368134 l-0.8099429309368134,0.0 0.2699809893965721,3.2397717237472534 l-2.159847915172577,0.5399619787931442 1.8898668885231018,0.0 l-1.6198858618736267,0.0 1.6198858618736267,2.159847915172577 l0.0,0.5399619787931442 m0.8099429309368134,1.0799239575862885 l-0.2699809893965721,-1.6198858618736267 0.8099429309368134,-1.0799239575862885 l2.6998096704483032,-1.8898668885231018 1.8898668885231018,-0.5399619787931442 l2.42982879281044,0.0 6.479543447494507,1.0799239575862885 l1.8898668885231018,0.8099429309368134 -1.0799239575862885,2.42982879281044 l-0.8099429309368134,0.5399619787931442 0.0,-1.3499048352241516 l3.2397717237472534,-2.6998096704483032 3.7797337770462036,-1.3499048352241516 l2.159847915172577,0.0 3.5097527503967285,1.0799239575862885 l2.159847915172577,2.159847915172577 0.0,1.3499048352241516 l1.6198858618736267,-2.159847915172577 2.42982879281044,-1.6198858618736267 l8.909372091293335,-2.159847915172577 3.5097527503967285,-0.2699809893965721 l3.5097527503967285,0.8099429309368134 2.42982879281044,2.9697906970977783 l0.5399619787931442,3.5097527503967285 -1.0799239575862885,1.6198858618736267 l-0.5399619787931442,0.0 0.8099429309368134,-2.159847915172577 l1.8898668885231018,-1.6198858618736267 2.9697906970977783,-1.0799239575862885 l1.6198858618736267,0.0 0.5399619787931442,0.2699809893965721 l0.0,1.8898668885231018 -1.0799239575862885,3.7797337770462036 l17.278783321380615,0.2699809893965721 0.5399619787931442,0.5399619787931442 l0.5399619787931442,2.42982879281044 0.0,4.319695830345154 l-12.959086894989014,0.0 -1.0799239575862885,-0.8099429309368134 l-2.159847915172577,-0.2699809893965721 -4.319695830345154,3.5097527503967285 l-1.8898668885231018,0.0 -4.319695830345154,-4.85965758562088 l-5.6696003675460815,5.3996193408966064 -2.9697906970977783,0.0 l-1.3499048352241516,-2.6998096704483032 -0.5399619787931442,-0.2699809893965721 l-5.129638910293579,3.7797337770462036 -3.7797337770462036,-0.5399619787931442 l-2.9697906970977783,-2.6998096704483032 -7.289486527442932,3.2397717237472534 l-4.049714803695679,0.2699809893965721 -2.9697906970977783,-2.6998096704483032 l-0.8099429309368134,-1.3499048352241516 -2.42982879281044,1.6198858618736267 l-5.6696003675460815,2.42982879281044 -1.3499048352241516,-1.3499048352241516 l-1.8898668885231018,-3.2397717237472534 -1.0799239575862885,0.0 l-0.5399619787931442,-2.42982879281044 m-2.6998096704483032,-10.259277820587158 l-1.3499048352241516,0.8099429309368134 0.2699809893965721,0.5399619787931442 l0.8099429309368134,-1.6198858618736267 -0.5399619787931442,0.5399619787931442 l-1.6198858618736267,0.2699809893965721 m12.689106464385986,16.468839645385742 l-2.159847915172577,2.6998096704483032 -0.8099429309368134,2.42982879281044 l-4.319695830345154,5.129638910293579 1.3499048352241516,3.7797337770462036 l0.5399619787931442,3.7797337770462036 m12.959086894989014,-16.468839645385742 l-1.0799239575862885,3.2397717237472534 2.159847915172577,11.879162788391113 m28.348002433776855,-16.738821268081665 l-5.129638910293579,5.3996193408966064 -2.9697906970977783,4.85965758562088 l2.42982879281044,9.989296197891235 \" fill=\"none\" stroke=\"black\" stroke-width=\"1\"/></svg>"
      ],
      "text/plain": [
       "<IPython.core.display.SVG object>"
      ]
     },
     "metadata": {},
     "output_type": "display_data"
    }
   ],
   "source": [
    "z = encode(stroke)"
   ]
  },
  {
   "cell_type": "code",
   "execution_count": 20,
   "metadata": {
    "colab": {
     "base_uri": "https://localhost:8080/",
     "height": 124
    },
    "colab_type": "code",
    "id": "-37v6eZLFQu5",
    "outputId": "5ddac2f2-5b3b-4cd7-b81f-7a8fa374aa6b"
   },
   "outputs": [
    {
     "data": {
      "image/svg+xml": [
       "<svg baseProfile=\"full\" height=\"88.59732617944246\" version=\"1.1\" width=\"116.90958033486595\" xmlns=\"http://www.w3.org/2000/svg\" xmlns:ev=\"http://www.w3.org/2001/xml-events\" xmlns:xlink=\"http://www.w3.org/1999/xlink\"><defs/><rect fill=\"white\" height=\"88.59732617944246\" width=\"116.90958033486595\" x=\"0\" y=\"0\"/><path d=\"M39.44681268185377,31.5298731409257 m-2.19083309173584,-0.5542310699820518 l-4.981062114238739,-0.7741046696901321 -4.0989550948143005,0.12314206920564175 l-1.9677187502384186,1.8362627923488617 -1.1221282929182053,2.2444435954093933 l-0.08611533790826797,1.2099918723106384 0.5568093061447144,1.5756861865520477 l1.4878390729427338,1.4387087523937225 1.8756164610385895,-0.00013092112567392178 l0.7659744471311569,-0.8838191628456116 0.00035971122997580096,-0.9870795905590057 l-1.0508538037538528,-0.5696623399853706 -0.8837959170341492,0.00019014691133634187 l-2.501670718193054,3.434450328350067 0.2793743647634983,3.030223846435547 l0.9192429482936859,0.29156796634197235 5.9993791580200195,0.6582463532686234 l1.4959047734737396,-0.7411901652812958 0.8949964493513107,-1.7833676934242249 l-0.00013343918908503838,-1.2839853763580322 0.9613283723592758,-1.106562465429306 l2.362189206905896e-05,-0.43559715151786804 0.2044910006225109,-1.3452284038066864 l-0.5192424729466438,-1.0800370573997498 -1.7005407810211182,1.7863360047340393 l-0.6951447576284409,2.420787513256073 0.20975379273295403,2.3251259326934814 l6.296707391738892,3.206051290035248 5.057662725448608,-0.9112340956926346 l0.8301965892314911,-1.3911305367946625 -0.14139745384454727,-2.8099671006202698 l-1.7019808292388916,-1.6701492667198181 -2.3060666024684906,-6.972145456529688e-05 l-2.4749255180358887,1.5035448968410492 -1.4760743081569672,1.6829097270965576 l0.6606036424636841,3.8418370485305786 9.846769571304321,-0.05693165585398674 l-0.003206271503586322,-1.8117071688175201 -0.5676598101854324,-0.7447073608636856 l-2.962488830089569,-0.47210216522216797 -1.7009565234184265,1.0629965364933014 l4.158802312304033e-05,4.028468728065491 2.9814064502716064,3.1338199973106384 l2.868089973926544,0.21716298535466194 6.780995726585388,-3.0645909905433655 l2.016584575176239,-2.106253504753113 1.272222101688385,-4.187139570713043 l-1.2519088387489319,-0.6548376381397247 -1.7772293090820312,0.0010143925464944914 l-1.8528614938259125,2.4484609067440033 -0.0010118780483026057,1.5900452435016632 l3.234674334526062,4.16810542345047 8.074858784675598,1.4658188819885254 l7.065322995185852,-0.9971797466278076 3.2087165117263794,-3.328474462032318 l1.1659283245535335e-05,-2.113955318927765 -3.05095374584198,-3.1984850764274597 l-2.9403647780418396,0.0004863358481088653 -1.5839731693267822,6.657150983810425 l1.9195471704006195,3.580741584300995 4.913496375083923,0.7884097844362259 l10.271390676498413,-3.1851133704185486 1.900595873594284,-4.243349134922028 l-2.25758895277977,-6.077099442481995 -3.7196195125579834,0.0007428582466673106 l-1.5252959728240967,2.2119607031345367 0.7137709110975266,5.060303211212158 l4.719186723232269,2.0654091238975525 4.257415235042572,0.0249598640948534 l1.9775529205799103,-0.8333214372396469 1.037612035870552,-3.688972592353821 l-2.360939383506775,-5.557838678359985 -2.1307043731212616,-1.3111479580402374 l-3.7494924664497375,0.3058767504990101 -2.6188111305236816,1.6931445896625519 l-1.398618370294571,2.267933040857315 4.784739315509796,7.104644179344177 l2.9964479804039,0.9608437865972519 3.0511239171028137,-3.273875117301941 l-0.13183207251131535,-6.763561367988586 -1.364319920539856,-3.216587007045746 l-2.7849870920181274,-2.042693942785263 -4.964063763618469,-0.9484937787055969 l-2.594999670982361,3.0198654532432556 -0.8687657862901688,5.129239559173584 l0.28230514377355576,-0.205497108399868 1.5361155569553375,-5.4983872175216675 l-4.016501009464264,-5.222599506378174 -4.528437852859497,-2.136179804801941 l-5.942966938018799,-0.4120919480919838 -2.141089588403702,1.06781467795372 l-1.5062819421291351,2.7359944581985474 0.003890810185112059,3.941568434238434 l3.631681501865387,0.984295979142189 1.2124723196029663,-0.7460117340087891 l-0.3399031236767769,-3.016952872276306 -1.6927175223827362,-2.7640381455421448 l-12.309088706970215,-4.648934304714203 -3.3863094449043274,0.0010295709944330156 l-3.080219030380249,2.48505175113678 -1.3001331686973572,2.9287171363830566 l0.41533462703227997,1.5208356082439423 3.4003037214279175,1.3135942816734314 m-5.8260416984558105,18.611968755722046 l-2.371041923761368,10.369623899459839 m7.935042977333069,-9.170472621917725 l1.6136904060840607,7.76750922203064 m27.639780044555664,-11.376327276229858 l0.16127996146678925,12.781610488891602 -0.9386027604341507,1.3641853630542755 \" fill=\"none\" stroke=\"black\" stroke-width=\"1\"/></svg>"
      ],
      "text/plain": [
       "<IPython.core.display.SVG object>"
      ]
     },
     "metadata": {},
     "output_type": "display_data"
    }
   ],
   "source": [
    "_ = decode(z, temperature=0.8) # convert z back to drawing at temperature of 0.8"
   ]
  },
  {
   "cell_type": "markdown",
   "metadata": {
    "colab_type": "text",
    "id": "M5ft6IEBFQu9"
   },
   "source": [
    "Create generated grid at various temperatures from 0.1 to 1.0"
   ]
  },
  {
   "cell_type": "code",
   "execution_count": 1,
   "metadata": {
    "colab": {
     "base_uri": "https://localhost:8080/",
     "height": 130
    },
    "colab_type": "code",
    "id": "BuhaZI0aFQu9",
    "outputId": "d87d4b00-30c2-4302-bec8-46566ef26922"
   },
   "outputs": [
    {
     "ename": "NameError",
     "evalue": "name 'decode' is not defined",
     "output_type": "error",
     "traceback": [
      "\u001b[1;31m---------------------------------------------------------------------------\u001b[0m",
      "\u001b[1;31mNameError\u001b[0m                                 Traceback (most recent call last)",
      "\u001b[1;32m<ipython-input-1-68d589950580>\u001b[0m in \u001b[0;36m<module>\u001b[1;34m()\u001b[0m\n\u001b[0;32m      1\u001b[0m \u001b[0mstroke_list\u001b[0m \u001b[1;33m=\u001b[0m \u001b[1;33m[\u001b[0m\u001b[1;33m]\u001b[0m\u001b[1;33m\u001b[0m\u001b[0m\n\u001b[0;32m      2\u001b[0m \u001b[1;32mfor\u001b[0m \u001b[0mi\u001b[0m \u001b[1;32min\u001b[0m \u001b[0mrange\u001b[0m\u001b[1;33m(\u001b[0m\u001b[1;36m10\u001b[0m\u001b[1;33m)\u001b[0m\u001b[1;33m:\u001b[0m\u001b[1;33m\u001b[0m\u001b[0m\n\u001b[1;32m----> 3\u001b[1;33m     \u001b[0mstroke_list\u001b[0m\u001b[1;33m.\u001b[0m\u001b[0mappend\u001b[0m\u001b[1;33m(\u001b[0m\u001b[1;33m[\u001b[0m\u001b[0mdecode\u001b[0m\u001b[1;33m(\u001b[0m\u001b[0mz\u001b[0m\u001b[1;33m,\u001b[0m \u001b[0mdraw_mode\u001b[0m\u001b[1;33m=\u001b[0m\u001b[1;32mFalse\u001b[0m\u001b[1;33m,\u001b[0m \u001b[0mtemperature\u001b[0m\u001b[1;33m=\u001b[0m\u001b[1;36m0.1\u001b[0m \u001b[1;33m*\u001b[0m \u001b[0mi\u001b[0m \u001b[1;33m+\u001b[0m \u001b[1;36m0.1\u001b[0m\u001b[1;33m)\u001b[0m\u001b[1;33m,\u001b[0m \u001b[1;33m[\u001b[0m\u001b[1;36m0\u001b[0m\u001b[1;33m,\u001b[0m \u001b[0mi\u001b[0m\u001b[1;33m]\u001b[0m\u001b[1;33m]\u001b[0m\u001b[1;33m)\u001b[0m\u001b[1;33m\u001b[0m\u001b[0m\n\u001b[0m\u001b[0;32m      4\u001b[0m \u001b[0mstroke_grid\u001b[0m \u001b[1;33m=\u001b[0m \u001b[0mmake_grid_svg\u001b[0m\u001b[1;33m(\u001b[0m\u001b[0mstroke_list\u001b[0m\u001b[1;33m)\u001b[0m\u001b[1;33m\u001b[0m\u001b[0m\n\u001b[0;32m      5\u001b[0m \u001b[0mdraw_strokes\u001b[0m\u001b[1;33m(\u001b[0m\u001b[0mstroke_grid\u001b[0m\u001b[1;33m)\u001b[0m\u001b[1;33m\u001b[0m\u001b[0m\n",
      "\u001b[1;31mNameError\u001b[0m: name 'decode' is not defined"
     ]
    }
   ],
   "source": [
    "stroke_list = []\n",
    "for i in range(10):\n",
    "    stroke_list.append([decode(z, draw_mode=False, temperature=0.1 * i + 0.1), [0, i]])\n",
    "stroke_grid = make_grid_svg(stroke_list)\n",
    "draw_strokes(stroke_grid)\n"
   ]
  },
  {
   "cell_type": "markdown",
   "metadata": {
    "colab_type": "text",
    "id": "4xiwp3_DFQvB"
   },
   "source": [
    "Latent Space Interpolation Example between $z_0$ and $z_1$"
   ]
  },
  {
   "cell_type": "code",
   "execution_count": 22,
   "metadata": {
    "colab": {
     "base_uri": "https://localhost:8080/",
     "height": 123
    },
    "colab_type": "code",
    "id": "WSX0uvZTFQvD",
    "outputId": "cd67af4e-5ae6-4327-876e-e1385dadbafc"
   },
   "outputs": [
    {
     "data": {
      "image/svg+xml": [
       "<svg baseProfile=\"full\" height=\"94.07446091229758\" version=\"1.1\" width=\"130.13080209493637\" xmlns=\"http://www.w3.org/2000/svg\" xmlns:ev=\"http://www.w3.org/2001/xml-events\" xmlns:xlink=\"http://www.w3.org/1999/xlink\"><defs/><rect fill=\"white\" height=\"94.07446091229758\" width=\"130.13080209493637\" x=\"0\" y=\"0\"/><path d=\"M52.837446389615934,26.44391998629544 m-2.184203416109085,-0.5441680923104286 l-5.028504133224487,-0.40660057216882706 -3.027697205543518,0.5661061406135559 l-1.8591882288455963,0.9338705241680145 -1.4888334274291992,1.3721475005149841 l-0.9964144974946976,1.833856850862503 -0.0002402460086159408,2.1139636635780334 l0.9773693233728409,1.3569799065589905 1.713373064994812,1.0118408501148224 l2.2843950986862183,0.5240414291620255 3.1175407767295837,4.0499517126590945e-05 l2.1010252833366394,-0.8579287678003311 0.9439185261726379,-0.9279903024435043 l-0.00023690776288276538,-1.2316440790891647 1.1946729570627213,-1.8159590661525726 l-7.484637990273768e-05,-1.8565501272678375 -0.7453944534063339,-1.034347414970398 m-3.0605605244636536,-1.0284923017024994 l1.9057562212765333e-05,-0.29359418898820877 0.41312210261821747,-0.7908103615045547 l0.9674666076898575,0.0003226047192583792 -0.0002206481440225616,1.1257798224687576 l0.493733286857605,-0.8423301577568054 0.6140456721186638,-0.6524543464183807 l0.9186340868473053,0.00016640478861518204 0.2630617283284664,0.7907538861036301 l0.5939539521932602,-0.6740126758813858 1.2311026453971863,0.00016358051652787253 l0.4082975536584854,1.0151221603155136 1.1340230703353882,-0.8410719782114029 l1.6372373700141907,7.912435648904648e-05 0.5509780719876289,1.2143274396657944 l2.808014750480652,-0.8007776737213135 0.6608922779560089,1.2065008282661438 l3.3705058693885803,-0.2883162349462509 0.6554508954286575,1.4010858535766602 l3.7943750619888306,-0.39346542209386826 0.7670304179191589,1.5561683475971222 l2.297934740781784,-1.272641271352768 1.3332368433475494,1.4195062220096588 l2.759072184562683,-1.5224173665046692 1.5433433651924133,1.5301038324832916 l2.8813201189041138,-1.4806556701660156 1.643952876329422,1.4847427606582642 l2.871917188167572,-1.4381636679172516 1.7135441303253174,1.4663046598434448 l2.937149703502655,-1.3202854990959167 1.6951577365398407,1.5118944644927979 l2.683325409889221,-1.2799888849258423 1.7750965058803558,1.632695347070694 l4.264810681343079,-0.30541911721229553 2.7482548356056213,1.6195210814476013 l2.1518108248710632,1.3294203579425812 1.344587802886963,2.553552985191345 l0.4261697828769684,2.915177047252655 -0.4415849596261978,3.2219555974006653 l-1.0346999019384384,3.568507134914398 -1.511550098657608,2.9036036133766174 l-1.766589879989624,2.593630850315094 -2.4225495755672455,1.8697889149188995 l-3.0679023265838623,1.7208492755889893 -3.975234627723694,1.2725149095058441 l-3.0140668153762817,-0.832296758890152 -5.936352610588074,1.6552099585533142 l-6.237708330154419,-0.7382412999868393 -2.6834484934806824,-1.501585692167282 l-3.022097945213318,0.9693438559770584 -3.4615761041641235,0.00047504792746622115 l-2.6878729462623596,-1.4030244946479797 -5.32622754573822,0.4550454765558243 l-2.422662377357483,-1.222190484404564 -4.9180567264556885,-0.44923707842826843 l-2.0208069682121277,-1.7192722856998444 -3.5278114676475525,-1.2588146328926086 l-1.682177484035492,-1.8298140168190002 -0.9311436861753464,-1.8328800797462463 l-1.0066822916269302,-1.561831682920456 -0.5684210360050201,-1.8571068346500397 l-0.5055849254131317,-1.6400375962257385 -0.5364170670509338,-1.5271124243736267 l-0.3730437159538269,-1.556258499622345 -0.4395902529358864,-1.2420613318681717 l-0.5622095242142677,-1.2605643272399902 -0.45031633228063583,-2.325889617204666 l-0.49085091799497604,-0.6040916964411736 -0.9465645998716354,-0.9565006196498871 l-0.7020086795091629,-0.6798466295003891 -1.7928168177604675,0.00041501654777675867 l-0.796574205160141,-0.8647865802049637 -2.2566376626491547,0.00037740373954875395 m-0.512019544839859,11.002131700515747 l-1.199447363615036,4.154020249843597 -2.154581695795059,7.025779485702515 l-1.9150961935520172,7.05626904964447 -0.8298183977603912,5.250985622406006 m12.41617202758789,-17.011972665786743 l0.01951892045326531,11.596678495407104 -1.6631856560707092,4.87883448600769 m28.337788581848145,-15.544891357421875 l0.3977034240961075,12.212696075439453 -1.5345776081085205,9.055586457252502 m10.219244956970215,-20.675718784332275 l0.758349597454071,3.579874336719513 2.8782951831817627,12.572599649429321 l0.0007867020758567378,4.367964267730713 \" fill=\"none\" stroke=\"black\" stroke-width=\"1\"/></svg>"
      ],
      "text/plain": [
       "<IPython.core.display.SVG object>"
      ]
     },
     "metadata": {},
     "output_type": "display_data"
    }
   ],
   "source": [
    "# get a sample drawing from the test set, and render it to .svg\n",
    "z0 = z\n",
    "_ = decode(z0)"
   ]
  },
  {
   "cell_type": "code",
   "execution_count": 23,
   "metadata": {
    "colab": {
     "base_uri": "https://localhost:8080/",
     "height": 194
    },
    "colab_type": "code",
    "id": "jQf99TxOFQvH",
    "outputId": "4265bd5f-8c66-494e-b26e-d3ac874d69bb"
   },
   "outputs": [
    {
     "data": {
      "image/svg+xml": [
       "<svg baseProfile=\"full\" height=\"89.41722344607115\" version=\"1.1\" width=\"87.52735622227192\" xmlns=\"http://www.w3.org/2000/svg\" xmlns:ev=\"http://www.w3.org/2001/xml-events\" xmlns:xlink=\"http://www.w3.org/1999/xlink\"><defs/><rect fill=\"white\" height=\"89.41722344607115\" width=\"87.52735622227192\" x=\"0\" y=\"0\"/><path d=\"M44.97859247028828,27.159848101437092 m0.0,0.0 l-1.6198858618736267,-1.0799239575862885 -1.8898668885231018,0.0 l-1.6198858618736267,0.5399619787931442 -1.6198858618736267,1.3499048352241516 l-1.6198858618736267,2.9697906970977783 0.2699809893965721,2.159847915172577 l-1.6198858618736267,0.2699809893965721 -0.5399619787931442,1.6198858618736267 l0.0,1.3499048352241516 -0.5399619787931442,1.0799239575862885 l0.0,3.2397717237472534 0.5399619787931442,0.8099429309368134 l2.42982879281044,0.0 -0.8099429309368134,0.0 l-0.5399619787931442,0.5399619787931442 0.0,3.5097527503967285 l0.5399619787931442,2.42982879281044 1.8898668885231018,2.159847915172577 l1.8898668885231018,0.5399619787931442 2.6998096704483032,0.0 l1.6198858618736267,-1.3499048352241516 0.2699809893965721,2.9697906970977783 l1.0799239575862885,1.0799239575862885 4.319695830345154,1.8898668885231018 l2.9697906970977783,0.2699809893965721 1.6198858618736267,-3.7797337770462036 l-0.2699809893965721,-2.42982879281044 0.8099429309368134,1.0799239575862885 l1.6198858618736267,0.8099429309368134 3.2397717237472534,0.0 l1.0799239575862885,-1.3499048352241516 0.2699809893965721,-5.939581394195557 l-0.5399619787931442,-0.2699809893965721 1.0799239575862885,-0.8099429309368134 l0.5399619787931442,-1.6198858618736267 0.0,-4.049714803695679 l-0.5399619787931442,-1.8898668885231018 -0.5399619787931442,-1.0799239575862885 l-0.5399619787931442,0.0 -0.2699809893965721,-0.5399619787931442 l-2.42982879281044,0.2699809893965721 -0.5399619787931442,0.8099429309368134 l0.2699809893965721,-4.319695830345154 -2.159847915172577,-2.159847915172577 l-1.8898668885231018,-0.8099429309368134 -2.42982879281044,1.0799239575862885 l-1.3499048352241516,-2.6998096704483032 -1.3499048352241516,-0.5399619787931442 l-1.8898668885231018,0.0 -0.8099429309368134,0.2699809893965721 l-2.159847915172577,2.159847915172577 m-7.289486527442932,2.9697906970977783 l-2.42982879281044,-0.8099429309368134 -6.209562420845032,0.0 l-2.42982879281044,2.6998096704483032 -0.5399619787931442,1.8898668885231018 l0.0,2.6998096704483032 1.0799239575862885,1.6198858618736267 l4.049714803695679,1.3499048352241516 4.85965758562088,0.0 m-8.099429607391357,-10.529258251190186 l0.8099429309368134,-1.8898668885231018 0.0,-2.6998096704483032 l0.8099429309368134,0.0 2.9697906970977783,4.049714803695679 l0.0,1.0799239575862885 m-4.589676558971405,-0.5399619787931442 l0.0,1.6198858618736267 m2.159847915172577,1.3499048352241516 l-1.0799239575862885,0.0 0.2699809893965721,1.3499048352241516 l0.8099429309368134,-0.2699809893965721 0.0,-0.8099429309368134 l-0.5399619787931442,-0.2699809893965721 m-2.159847915172577,2.9697906970977783 l4.049714803695679,0.2699809893965721 1.3499048352241516,-1.6198858618736267 m9.17935311794281,15.928877592086792 l-7.289486527442932,5.129638910293579 m7.829448580741882,-4.589676558971405 l0.2699809893965721,0.8099429309368134 1.3499048352241516,1.0799239575862885 l1.6198858618736267,3.7797337770462036 m2.6998096704483032,-1.3499048352241516 l-1.0799239575862885,1.3499048352241516 -2.9697906970977783,8.099429607391357 m5.939581394195557,-8.639391660690308 l4.319695830345154,6.209562420845032 \" fill=\"none\" stroke=\"black\" stroke-width=\"1\"/></svg>"
      ],
      "text/plain": [
       "<IPython.core.display.SVG object>"
      ]
     },
     "metadata": {},
     "output_type": "display_data"
    },
    {
     "data": {
      "image/svg+xml": [
       "<svg baseProfile=\"full\" height=\"75.7814574673597\" version=\"1.1\" width=\"86.10770050436258\" xmlns=\"http://www.w3.org/2000/svg\" xmlns:ev=\"http://www.w3.org/2001/xml-events\" xmlns:xlink=\"http://www.w3.org/1999/xlink\"><defs/><rect fill=\"white\" height=\"75.7814574673597\" width=\"86.10770050436258\" x=\"0\" y=\"0\"/><path d=\"M41.69796640988352,26.088765026051988 m-1.6512344777584076,-1.0885727405548096 l-2.6574474573135376,-0.00019228549717809074 -1.0187488049268723,1.268778145313263 l0.12150346301496029,1.4029887318611145 -2.7829164266586304,-0.23405402898788452 l-1.3504257798194885,1.7517097294330597 -0.2686884440481663,1.868613213300705 l-1.9578690826892853,1.5868359804153442 -0.6012152507901192,1.8410968780517578 l0.585222952067852,1.4047880470752716 -1.5343624353408813,2.250427007675171 l-0.24795318022370338,1.8141286075115204 0.9156342595815659,1.1998434364795685 l0.6804703176021576,-3.871356057061348e-05 -0.18418794497847557,1.3451266288757324 l0.7312481105327606,1.362079381942749 1.5383632481098175,0.9031160920858383 l1.893889456987381,4.5432233264364186e-06 2.0900093019008636,1.9572040438652039 l2.037067413330078,0.00011079418982262723 3.1446269154548645,0.43859414756298065 l3.2627543807029724,0.45057356357574463 1.4020121097564697,-0.6031704694032669 l3.799040913581848,0.22950612008571625 1.3436497747898102,-0.8402381092309952 l3.449205160140991,-0.29388053342700005 1.651204377412796,-1.6727197170257568 l3.184417188167572,-1.8126559257507324 0.5827515572309494,-1.0117840021848679 l0.7466351985931396,-1.5416736900806427 0.45609060674905777,-1.6804666817188263 l9.265724656870589e-05,-1.5296170115470886 0.048894016072154045,-1.6475559771060944 l-0.7895477861166,-1.1951474845409393 -0.11029863730072975,-1.4293596148490906 l-0.6664440035820007,-1.3072578608989716 -0.830504447221756,-1.1460202187299728 l-0.8408768475055695,-1.0210582613945007 -1.0340072214603424,-0.8539092540740967 l-0.8711958676576614,-0.8042744547128677 -0.9115223586559296,-0.6058313325047493 l-1.0359005630016327,-0.6062734499573708 -1.673838347196579,0.00011085155165346805 l-0.6565633416175842,-0.7057154178619385 -1.9811740517616272,5.045435955253197e-05 l-0.6770924478769302,-0.487433522939682 -1.8544965982437134,4.419641754793702e-05 l-1.01027712225914,1.0068858414888382 -0.9210703521966934,-0.4449055716395378 m-9.635233879089355,5.977495908737183 l-2.1186357736587524,-1.503843367099762 -4.396894872188568,0.000364789339073468 l-2.6271063089370728,1.5880480408668518 -1.3029658794403076,2.120624929666519 l-0.16205379739403725,1.6797596216201782 1.0269464552402496,1.4237324893474579 l1.831125169992447,0.9706094115972519 3.3258268237113953,2.1959185687592253e-05 l1.7120061814785004,-1.1338412761688232 0.5535207688808441,-1.0738243907690048 l-9.832780051510781e-05,-1.6556373238563538 -1.0992705076932907,-1.2270956486463547 l-2.039172202348709,0.0002774757376755588 -1.19354248046875,0.9555240720510483 l-0.4492174834012985,0.00013021991435380187 9.473144018556923e-05,-0.07645596750080585 l0.997593104839325,3.701432660818682e-05 0.2758082188665867,-0.3829231485724449 l0.37324562668800354,0.00011085343430750072 -4.792049821844557e-05,-0.08799634873867035 l-0.12212404049932957,-0.4873839020729065 -0.09370559826493263,5.565987066802336e-05 m-0.28263917192816734,0.6434290111064911 l-0.02755498280748725,-7.02677971275989e-05 m-0.7369305938482285,0.6866909563541412 l0.018778947414830327,0.00012683784916589502 m-0.7237575948238373,0.2589324489235878 l1.5371227846117108e-05,-0.33067405223846436 m12.534537315368652,8.195793628692627 l0.00025380195438629016,4.307599663734436 -1.068432405591011,3.3398258686065674 m3.4568876028060913,-6.660627126693726 l0.00011054834430979099,4.74587082862854 -0.67069873213768,2.6214107871055603 m13.493332862854004,-6.95466160774231 l0.00047124918637564406,5.777684450149536 m3.6050722002983093,-6.821057200431824 l0.49238886684179306,6.0159748792648315 -0.5954378470778465,2.2598421573638916 \" fill=\"none\" stroke=\"black\" stroke-width=\"1\"/></svg>"
      ],
      "text/plain": [
       "<IPython.core.display.SVG object>"
      ]
     },
     "metadata": {},
     "output_type": "display_data"
    }
   ],
   "source": [
    "stroke = test_set.random_sample()\n",
    "z1 = encode(stroke)\n",
    "_ = decode(z1)"
   ]
  },
  {
   "cell_type": "markdown",
   "metadata": {
    "colab_type": "text",
    "id": "tDqJR8_eFQvK"
   },
   "source": [
    "Now we interpolate between sheep $z_0$ and sheep $z_1$"
   ]
  },
  {
   "cell_type": "code",
   "execution_count": 24,
   "metadata": {
    "colab": {},
    "colab_type": "code",
    "id": "_YkPNL5SFQvL"
   },
   "outputs": [],
   "source": [
    "z_list = []  # interpolate spherically between z0 and z1\n",
    "N = 10\n",
    "for t in np.linspace(0, 1, N):\n",
    "    z_list.append(slerp(z0, z1, t))\n"
   ]
  },
  {
   "cell_type": "code",
   "execution_count": 25,
   "metadata": {
    "colab": {},
    "colab_type": "code",
    "id": "UoM-W1tQFQvM"
   },
   "outputs": [],
   "source": [
    "# for every latent vector in z_list, sample a vector image\n",
    "reconstructions = []\n",
    "for i in range(N):\n",
    "    reconstructions.append([decode(z_list[i], draw_mode=False), [0, i]])\n"
   ]
  },
  {
   "cell_type": "code",
   "execution_count": 26,
   "metadata": {
    "colab": {
     "base_uri": "https://localhost:8080/",
     "height": 122
    },
    "colab_type": "code",
    "id": "mTqmlL6GFQvQ",
    "outputId": "062e015f-29c6-4e77-c6db-e403d5cabd59"
   },
   "outputs": [
    {
     "data": {
      "image/svg+xml": [
       "<svg baseProfile=\"full\" height=\"98.75984006461294\" version=\"1.1\" width=\"828.8988322974183\" xmlns=\"http://www.w3.org/2000/svg\" xmlns:ev=\"http://www.w3.org/2001/xml-events\" xmlns:xlink=\"http://www.w3.org/1999/xlink\"><defs/><rect fill=\"white\" height=\"98.75984006461294\" width=\"828.8988322974183\" x=\"0\" y=\"0\"/><path d=\"M27.299087217543274,25 m0.0,0.0 m17.470280734692096,1.7998952330344764 l-2.185760587453842,-0.5406637489795685 -4.93782252073288,-0.3618299961090088 l-3.1324875354766846,0.00026796597012435086 -2.921532690525055,1.5075071156024933 l-1.4439651370048523,1.5149155259132385 -0.8514963090419769,1.9608761370182037 l-0.00019597466234699823,2.01235830783844 1.0964803397655487,1.498856544494629 l1.8475502729415894,1.0788431763648987 2.911202609539032,0.00023028165742289275 l2.341557890176773,-0.8336427807807922 1.00383922457695,-0.9032038599252701 l1.686638742685318,0.00019357643395778723 1.620672196149826,-0.9381426125764847 l0.7590106129646301,-1.0439439862966537 -0.0002240292087662965,-1.388525366783142 l-0.49890633672475815,-0.8633840084075928 -1.1110631376504898,0.00017782160284696147 l-0.00016136234989971854,-0.3352862596511841 -0.27387380599975586,-1.03457473218441 l-0.7146112620830536,0.00028673541237367317 -9.172907084575854e-05,-0.16638752073049545 l-0.36793302744627,-0.8009827882051468 -0.38186706602573395,0.00025850602469290607 l-1.6054223124228884e-05,0.23718751966953278 0.3603537380695343,-0.5019870772957802 l0.2560775727033615,0.00029606124371639453 -0.4805513843894005,0.2585550397634506 l0.18989896401762962,-0.27856064960360527 0.2783331274986267,-0.1490041520446539 l-0.14466981403529644,-0.03912332467734814 -0.14865102246403694,-0.11193656362593174 l0.0697905570268631,-0.12899604625999928 -0.008863290422596037,-0.10149864479899406 l-0.12114398181438446,-0.13106989674270153 0.14040330424904823,-0.03250685054808855 l-0.03394014900550246,-0.16599684953689575 -0.04517881665378809,-0.07114057894796133 l0.04867437295615673,-0.07943221367895603 -0.07082747761160135,-0.06607094313949347 l0.04224899224936962,-0.2103518508374691 -0.07237776648253202,-0.012824541190639138 l0.0747081683948636,-0.07162119261920452 -0.06792480126023293,-0.045353421010077 l-0.0037399580469354987,-0.11505571193993092 -0.031108336988836527,-0.07721587084233761 l0.0006213544838828966,-0.11155907064676285 m1.6767480969429016,3.976588249206543 l0.8540719747543335,0.00037784302548971027 3.21840763092041,0.2245389111340046 l3.216632604598999,0.9220697730779648 1.048949807882309,1.1045636981725693 l6.040077209472656,0.40747225284576416 1.8258069455623627,1.2598107755184174 l7.118409276008606,0.05374278873205185 6.555948853492737,0.02637815661728382 l2.2550204396247864,1.3819168508052826 7.491348385810852,-0.30817290768027306 l6.468436121940613,0.5411212146282196 2.0950697362422943,1.670466661453247 l5.7963114976882935,0.49541495740413666 4.354331791400909,1.8775948882102966 l1.290735900402069,1.7742125689983368 3.089500367641449,2.002832591533661 l0.7255751639604568,1.8932271003723145 0.6588268280029297,2.949613332748413 l-0.6251420080661774,1.5995782613754272 -1.6854429244995117,1.2582166492938995 l-1.949024647474289,3.134567141532898 -1.8711329996585846,1.119864359498024 l-3.326278030872345,2.7321678400039673 -4.599595069885254,1.4217697083950043 l-4.434994161128998,-0.29911380261182785 -3.608289957046509,-1.5200723707675934 l-5.077238082885742,1.9882413744926453 -8.183040022850037,1.249983087182045 l-4.231431782245636,-0.8307002484798431 -2.996836304664612,-1.6405142843723297 l-5.929713249206543,0.6996497511863708 -7.459173798561096,-0.9756007045507431 l-2.9662400484085083,-1.3957342505455017 -2.266472429037094,-2.0476633310317993 l-1.6829882562160492,-2.7218595147132874 -0.7922928780317307,-2.707456052303314 l0.19112423062324524,-2.3413242399692535 1.1354884505271912,-2.0490264892578125 l-0.580475702881813,-3.3488336205482483 0.693482905626297,-2.4905432760715485 l1.6146506369113922,-1.7635838687419891 -0.16458969563245773,-3.1834375858306885 l0.6041396036744118,-1.0357559472322464 0.07652738597244024,-1.579570472240448 l0.5516761913895607,0.0006195887544890866 0.3806697577238083,-1.2188559770584106 l0.8628733456134796,0.000548645512026269 0.24965381249785423,-0.838949903845787 m-9.6294105052948,12.776052951812744 l-1.3299769163131714,3.465726673603058 -2.2400645911693573,3.6017420887947083 l-4.171097278594971,6.728886365890503 -3.6525776982307434,7.431674003601074 l-1.133420541882515,5.488511323928833 0.0002292282078997232,0.6473740935325623 m17.30067014694214,-17.617619037628174 l0.7964713126420975,10.593290328979492 0.42107217013835907,8.914980292320251 m26.37571096420288,-19.265207052230835 l0.31881101429462433,12.410054206848145 -0.7987575232982635,9.955161213874817 m11.141490936279297,-22.18569040298462 l0.8875806629657745,3.7435689568519592 3.2291707396507263,13.062338829040527 l1.5006308257579803,3.535475432872772 m38.3939386643101,-39.16335163659255 l-2.232690006494522,-0.6207030639052391 -5.060734748840332,-0.3237496316432953 l-3.252181112766266,0.6363087147474289 -2.7025943994522095,1.3529238104820251 l-1.3590581715106964,1.261453926563263 -0.7886044681072235,1.5534402430057526 l-0.00015972887922544032,1.4857657253742218 0.8735616505146027,1.2657248973846436 l1.5532636642456055,0.9051837772130966 0.6845099478960037,0.0001978238287847489 l-2.2866234183311462,1.387726217508316 -1.2421781569719315,2.5880050659179688 l0.2667144872248173,1.7435084283351898 1.6059702634811401,1.2523047626018524 l2.5222983956336975,0.6604752689599991 3.9337390661239624,1.5385625147246174e-05 l2.2720472514629364,-1.0301868617534637 1.6598960757255554,-1.745644062757492 l0.260887760668993,-1.1467206478118896 0.8926454186439514,-0.7024489343166351 l1.687442660331726,7.215886398626026e-05 1.565067321062088,-0.8539654314517975 l1.4468741416931152,-2.7705922722816467 -5.271083409752464e-05,-2.130429893732071 l-1.235150769352913,-1.3643893599510193 m-4.852984845638275,-1.0951884090900421 l-0.4626379907131195,-0.9236520528793335 -0.00027679468985297717,-0.971759632229805 l1.6309241950511932,-1.9756470620632172 2.647172510623932,-1.2331672757863998 l1.81364044547081,0.00016006131772883236 1.4382453262805939,1.217280626296997 l0.2609696798026562,0.7517128437757492 1.234188750386238,-1.6982680559158325 l3.0961984395980835,-1.5075749158859253 2.5885260105133057,0.00024366700017708354 l2.0742812752723694,1.3997910916805267 1.2202270328998566,2.334599196910858 l1.518489420413971,-1.6515803337097168 3.696574568748474,-1.4819090068340302 l2.8794899582862854,0.00032473290048073977 2.7940869331359863,1.620038002729416 l1.885385513305664,2.559065818786621 2.05636128783226,-1.735633909702301 l4.085839688777924,-1.501544713973999 3.925797939300537,-0.10469595901668072 l3.100486099720001,1.4828000962734222 2.231799215078354,2.567961812019348 l1.466502696275711,-1.4095169305801392 4.167208671569824,-1.3201789557933807 l4.213129878044128,0.5157578364014626 2.84705251455307,2.2447001934051514 l1.9918182492256165,3.447619378566742 0.00014382998415385373,2.5317561626434326 l-1.3527356088161469,2.400454431772232 1.0816317796707153,2.044007182121277 l0.46981800347566605,3.0663949251174927 -1.1796676367521286,2.742420732975006 l-2.965136766433716,1.9585821032524109 -4.117861688137054,0.3657538816332817 l-3.5275161266326904,-1.3761579990386963 -1.4056193828582764,3.608989119529724 l-3.0054715275764465,2.777315378189087 -4.409627914428711,1.2300973385572433 l-4.792806506156921,-0.46856828033924103 -3.648306727409363,-2.0628173649311066 l-2.321562319993973,-2.8181585669517517 -1.2328088283538818,1.7199812829494476 l-2.187550365924835,1.3963545858860016 -4.512112140655518,0.9890340268611908 l-8.052066564559937,-1.5731483697891235 -2.957794964313507,-2.3313990235328674 l-1.4446046948432922,-2.610660493373871 -0.9473523497581482,1.3151441514492035 l-3.143051564693451,1.565469354391098 -4.031713902950287,0.042757042683660984 l-3.2144808769226074,-1.7864921689033508 -2.1683262288570404,-2.9153060913085938 l-0.9054049849510193,-3.2094791531562805 0.2748803421854973,-1.459888070821762 l1.5384097397327423,-1.588120311498642 1.2634451687335968,-0.46758096665143967 l0.25940995663404465,-1.2128487974405289 1.4113058149814606,-1.7690777778625488 l2.547861933708191,-1.1570560932159424 m-1.210072785615921,12.41744875907898 l0.00033698801416903734,6.339597105979919 -1.1543990671634674,5.396650433540344 m7.7419352531433105,-8.812345266342163 l0.03767387242987752,10.064842700958252 -1.367729902267456,4.40652996301651 m30.667085647583008,-13.510874509811401 l0.560389906167984,10.636415481567383 -1.1710089445114136,4.464028179645538 m48.12560899897335,-37.788069932699955 l-2.2584544122219086,-0.696495994925499 -5.223997235298157,-0.15298815444111824 l-2.799987494945526,0.7604197412729263 -1.8021045625209808,1.0079409182071686 l-1.3953816890716553,1.2351743876934052 -0.9574690461158752,1.441458910703659 l-0.0001963142494787462,1.1338572949171066 -1.380363255739212,0.00013557673810282722 l-1.2473876029253006,1.1686788499355316 -0.6472941488027573,1.71791210770607 l0.28258198872208595,1.6339755058288574 1.3703757524490356,1.3469238579273224 l1.9176454842090607,0.8088688552379608 2.543943226337433,9.552357369102538e-05 l-0.18424233421683311,1.349823772907257 1.1394303292036057,1.306123435497284 l1.9972798228263855,0.6363393366336823 3.031550347805023,3.633958613136201e-05 l1.942233294248581,-0.9609808027744293 2.0344045758247375,-2.577022612094879 l0.2505151554942131,-0.6481769680976868 1.562182754278183,-0.7444081455469131 l1.8365398049354553,-2.2998906388238538e-05 1.397407054901123,-0.8347187936306 l-0.0001553328547743149,-1.5198101103305817 1.1090274900197983,-1.6165521740913391 l-6.55359781376319e-05,-2.146628201007843 -1.4695987105369568,-1.2491144239902496 l-0.0001386208623443963,-1.7742063105106354 m-0.6382518261671066,4.814625680446625 l0.33402204513549805,-1.3057278096675873 2.3155832290649414,-1.938519924879074 l3.0415016412734985,-1.2670837342739105 2.176334410905838,0.0003129525066469796 l1.783854365348816,1.3522298634052277 1.544085443019867,-1.9343467056751251 l1.5262886881828308,-0.779014378786087 3.104274868965149,-0.2357921563088894 l2.74122416973114,1.1292574554681778 1.8485413491725922,1.9930839538574219 l1.999620944261551,-1.5505118668079376 4.073722660541534,-1.1776430904865265 l3.04379403591156,0.0002014390156546142 2.9340150952339172,1.445109248161316 l2.015017569065094,2.1490995585918427 1.90242201089859,-1.2901116907596588 l4.127778112888336,-0.9456118196249008 4.125572741031647,0.5493703112006187 l2.8323134779930115,1.8423444032669067 1.9531580805778503,2.724791169166565 l2.8977519273757935,0.9896235913038254 2.238161414861679,2.04354926943779 l1.3576872646808624,3.173871338367462 4.0691129470360465e-05,2.0177775621414185 l-1.490607112646103,2.2173474729061127 -3.083045780658722,1.4609701931476593 l-0.23341959342360497,2.548743486404419 -1.7476488649845123,2.152279168367386 l-3.531249165534973,1.4363953471183777 -4.219425022602081,0.04649392329156399 l-3.377853035926819,-1.3467726111412048 -2.240573465824127,-2.0850467681884766 l-1.0688704252243042,1.8055082857608795 -3.3074113726615906,2.191522568464279 l-4.750450849533081,1.3234694302082062 -4.211880266666412,-0.43640293180942535 l-3.553871810436249,-1.785130351781845 -2.3487436771392822,-2.516883909702301 l-1.2317302078008652,1.4274521172046661 -2.0018616318702698,1.0466450452804565 l-7.275773286819458,-0.22167876362800598 -3.3160459995269775,-1.5768058598041534 l-2.1337617933750153,-2.346291095018387 -1.3220420479774475,-2.790191173553467 l-0.20726297050714493,-2.4255070090293884 0.7566386461257935,-2.126852571964264 l0.9668614715337753,-0.8006045967340469 0.2524133212864399,-1.5922771394252777 l0.7118416577577591,-0.9220569580793381 -1.05296790599823,-1.4632347226142883 l-0.0003158888648613356,-2.424093782901764 m1.9753782451152802,13.691638708114624 l-0.5202234908938408,7.386696934700012 m6.545618176460266,-5.841914415359497 l9.060496267920826e-05,8.002389669418335 m27.061948776245117,-6.516863703727722 l0.9025342762470245,8.443156480789185 -0.9022334963083267,4.566527307033539 m49.389591828617085,-33.867000597107335 l-2.245319187641144,-0.7697927206754684 -5.477192401885986,0.00019732973669306375 l-2.386072874069214,0.7846520096063614 -1.6431999206542969,1.1012421548366547 l-1.2323661893606186,1.255306899547577 -0.4805002734065056,0.9882935136556625 l-3.6083656549453735,0.5667588859796524 -1.334185004234314,1.0993996262550354 l-0.7359153032302856,1.7405959963798523 0.19428139552474022,1.6134345531463623 l1.1820735037326813,1.2000838667154312 1.7621049284934998,0.7888950407505035 l0.9757059067487717,0.00013778533684671856 -1.3239304721355438,2.3066961765289307 l0.023008219432085752,1.711445301771164 1.265706866979599,1.3575004041194916 l2.093847244977951,0.8035977184772491 2.454170286655426,5.9789736042148434e-05 l1.8949906527996063,-0.9339302778244019 1.7941322922706604,-2.3103366792201996 l1.2488681823015213,1.7027612030506134 1.9064803421497345,1.0905402898788452 l2.059924751520157,9.7362453743699e-05 1.586572527885437,-0.921100378036499 l1.0167989879846573,-1.6388322412967682 1.6491895914077759,1.8238013982772827 l1.8217208981513977,0.8968371152877808 1.4923791587352753,2.398771130174282e-05 l1.428956687450409,-0.9754613786935806 0.9083877503871918,-1.6773761808872223 l2.3073559999465942,3.11428964138031 1.6721782088279724,0.9537600725889206 l1.5199442207813263,0.000123815816550632 1.4228352904319763,-1.0127438604831696 l1.547444462776184,-2.8240787982940674 1.985165923833847,2.296062409877777 l1.9872581958770752,1.2222125381231308 1.7923526465892792,9.568419955030549e-05 l1.6030995547771454,-0.9905131161212921 1.7863553762435913,-2.669011354446411 l1.674896627664566,1.8657319247722626 1.957952231168747,1.1180812865495682 l2.146473079919815,0.00010236048183287494 1.7348277568817139,-1.0241211950778961 l2.1450261771678925,-3.035852313041687 2.87700355052948,2.0713448524475098 l2.0202766358852386,-1.0542751169850817e-05 1.7913316190242767,-1.128602921962738 l1.3193914294242859,-2.0229795575141907 0.6792387366294861,-3.7369853258132935 l-1.9641660153865814,-3.8349750638008118 -3.1052783131599426,-2.3575353622436523 l-5.0430697202682495,-0.7400894910097122 -1.0032238811254501,-1.5531224012374878 l-3.091011643409729,-2.018856853246689 -6.108040809631348,-0.42479854077100754 l-3.9769011735916138,1.590169221162796 -1.2727274000644684,-2.478017657995224 l-1.8007560074329376,-1.2878306210041046 -5.389382839202881,0.242342259734869 l-2.3401083052158356,1.1176597326993942 -1.6097337007522583,1.5110500156879425 l-1.1568563431501389,-2.056272476911545 -1.5373742580413818,-1.0416771471500397 l-3.435182273387909,-0.14940583147108555 -3.1306451559066772,2.214413285255432 l-1.583951711654663,2.059756815433502 -0.6571827083826065,-1.3793618977069855 l-0.09835148230195045,0.00033826567232608795 -0.4863032326102257,1.20412677526474 l-0.9265414625406265,2.277250736951828 m11.194760799407959,13.527766466140747 l0.171282310038805,12.660731077194214 -0.3546997532248497,10.574603080749512 m3.1436550617218018,-22.41370677947998 l-0.27696216478943825,15.017802715301514 0.00022520578568219207,6.435191035270691 m18.757009506225586,-22.181031703948975 l0.11771261692047119,14.760829210281372 0.0002687878077267669,7.201949954032898 m3.6636993288993835,-22.531826496124268 l0.7709743827581406,16.143243312835693 0.0001587957922311034,5.663576126098633 m53.62608217757952,-36.10880335228785 l-2.2092939913272858,-0.8383616060018539 -4.906846582889557,0.03163669491186738 l-2.6600423455238342,0.8154243230819702 -1.6280502080917358,1.0391133278608322 l-1.1824853718280792,1.2429570406675339 -3.133518397808075,0.37167616188526154 l-1.3250789046287537,1.1023568361997604 -0.7407213747501373,1.6044895350933075 l0.02441700315102935,1.5982571244239807 0.9288912266492844,1.2829864025115967 l1.4702065289020538,0.8357001841068268 -2.781141996383667,1.963319331407547 l-0.9416959434747696,1.705220639705658 -0.00037132747820578516,1.3687875866889954 l1.1920086294412613,1.1248134076595306 1.8840804696083069,0.6438218057155609 l1.5863078832626343,5.185866939427797e-05 0.2882158011198044,2.292014956474304 l1.4018355309963226,1.4665934443473816 2.0365478098392487,0.6448497623205185 l2.460278570652008,4.74127546112868e-05 1.6283032298088074,-0.8509725332260132 l1.8202492594718933,1.7444148659706116 2.0814451575279236,0.8202387392520905 l1.7856456339359283,0.00011602350241446402 1.6020472347736359,-0.8738381415605545 l2.812841236591339,1.001817211508751 1.6546633839607239,6.666454282822087e-05 l1.4172495901584625,-0.7975209504365921 2.790016531944275,0.7977328449487686 l1.5633514523506165,-0.4585302248597145 2.9315993189811707,0.4872194305062294 l1.5282683074474335,-0.625959113240242 2.954894006252289,0.60932457447052 l1.5157732367515564,-0.6361102312803268 3.5096433758735657,-0.004119309596717358 l1.475709229707718,-0.9860581159591675 3.1558287143707275,-0.4730328544974327 l2.0951901376247406,-1.890481561422348 2.5348499417304993,-1.751389056444168 l0.9361354261636734,-2.4262316524982452 -2.333896873096819e-05,-1.774427741765976 l-2.4250851571559906,-3.092045485973358 -0.3576695919036865,-1.8033969402313232 l-1.2360209971666336,-1.109250783920288 -0.9421177953481674,-1.6631469130516052 l-1.3801081478595734,-1.3594013452529907 -1.739993542432785,-1.245947703719139 l-1.8398384749889374,-1.129210814833641 -2.952544093132019,0.0002603334178274963 l-1.450287103652954,-1.4487569034099579 -2.778804898262024,0.00026472387617104687 l-1.3990385830402374,-1.1293359100818634 -2.4146276712417603,0.0003165259477100335 l-1.31788969039917,-0.9662078320980072 -2.6473182439804077,0.0002821382622641977 l-2.550611197948456,1.444348692893982 -1.126384511590004,-0.7263574004173279 l-1.6081459820270538,0.00022086269382270984 -0.6367342174053192,0.6888569891452789 l-1.4317268133163452,0.00020386647520354018 -1.6042467951774597,1.9803178310394287 l-1.412578672170639,7.292270765901776e-05 m0.8300670981407166,13.269963264465332 l0.0008861898822942749,6.706211566925049 -0.9946635365486145,4.948576986789703 m1.559193879365921,-10.72891116142273 l-0.09317050687968731,11.1819589138031 0.0011738704779418185,4.9912139773368835 m15.489492416381836,-14.470373392105103 l0.8623965829610825,13.281580209732056 0.0006733689224347472,4.31389719247818 m1.5521082282066345,-16.003795862197876 l0.9596020728349686,12.715997695922852 0.0004860207991441712,4.630212187767029 m63.418083169710826,-32.58847190544202 l-2.154798060655594,-0.8948411047458649 -4.546881914138794,0.112123629078269 l-2.4475452303886414,0.8254335075616837 -1.478666216135025,1.1179400235414505 l-1.0666584968566895,1.3058893382549286 -3.7332457304000854,0.29970185831189156 l-1.2309186160564423,1.0942550003528595 -0.5793990939855576,1.6640819609165192 l0.2933623269200325,1.507008969783783 1.0599669069051743,1.1502712965011597 l-0.7184901833534241,0.0001581867218192201 -0.8301864564418793,0.9725011140108109 l-0.3280908986926079,1.6135682165622711 0.6618229299783707,1.4592362940311432 l1.3700538873672485,0.940447598695755 0.6450679153203964,0.00017769802070688456 l-0.29390444979071617,2.949477732181549 1.0698793828487396,1.4977756142616272 l1.7692367732524872,0.8528317511081696 1.9155912101268768,0.00013331450645637233 l1.551712155342102,1.7537185549736023 1.9156640768051147,0.8212539553642273 l2.04691082239151,0.00017858374121715315 1.5412607789039612,-0.7572342455387115 l2.877036929130554,1.453222781419754 1.6053228080272675,2.7641717679216526e-05 l1.3573652505874634,-0.8520273119211197 3.012491464614868,0.9595853090286255 l1.6151045262813568,2.34889466810273e-05 1.3360901176929474,-0.8181434124708176 l3.112267255783081,0.768829807639122 2.2824808955192566,-0.9688127785921097 l3.4053468704223633,0.16793536022305489 1.3395902514457703,-0.9435341507196426 l3.22856605052948,-0.31408756971359253 0.8843254297971725,-0.7052122056484222 l2.7783724665641785,-1.1001430451869965 1.3278335332870483,-2.36619234085083 l1.9644913077354431,-2.4707719683647156 6.877741725475062e-05,-1.7668026685714722 l-0.9538710117340088,-1.304306536912918 0.13672270812094212,-1.7186552286148071 l-0.30488742515444756,-1.7119485139846802 -1.1984190344810486,-0.9569185972213745 l-0.7674429565668106,-1.5120622515678406 -1.3706938922405243,-1.2145532667636871 l-1.3365438580513,-0.9660092741250992 -1.3377037644386292,-0.9995359182357788 l-1.4250482618808746,-0.8609112352132797 -1.539471447467804,-0.75363889336586 l-1.305757313966751,-0.746128261089325 -2.532311975955963,0.000300103856716305 l-1.106659322977066,-0.866808146238327 -2.5509637594223022,0.00030384373530978337 l-1.1302663385868073,-0.690634623169899 -2.191540151834488,0.0002895053148677107 l-1.065557524561882,-0.4765751212835312 -1.9728398323059082,0.00031017054425319657 l-1.818888634443283,1.6578131914138794 -1.8906699120998383,6.208264039742062e-05 m-12.63430118560791,6.3899922370910645 l0.00042287785618100315,0.6230023875832558 -1.4738325774669647,2.180277705192566 l-0.41901104152202606,2.006118595600128 0.13166194781661034,2.445175349712372 l0.9792289882898331,1.3981448113918304 1.670234352350235,0.8556325733661652 l2.8070631623268127,0.0003766434747376479 3.838081657886505,-3.421432375907898 l0.034359649289399385,-5.531896948814392 -1.3415496051311493,-1.5331639349460602 l-1.879461258649826,-0.8109144866466522 -2.1858373284339905,0.0007475595339201391 l-2.6286664605140686,2.4051280319690704 -1.2123069167137146,2.5113242864608765 l0.00012607125427166466,1.830933690071106 3.053714632987976,2.9759806394577026 l3.741976022720337,1.1648035794496536 1.6979750990867615,0.0002520794078009203 l1.9474998116493225,-2.1320998668670654 0.4207722842693329,-2.7837365865707397 m-0.6158655509352684,11.355332136154175 l-0.9991522878408432,10.060234069824219 m8.568766117095947,-8.870964050292969 l0.00020121733541600406,8.957687020301819 m23.433709144592285,-8.959410786628723 l0.17849279567599297,8.686168193817139 m54.19704820504876,-29.24006148518174 l-2.0707498490810394,-0.9490025043487549 -4.6916815638542175,-3.542018021107651e-05 l-1.727043092250824,1.0083738714456558 -1.5513750910758972,1.4437545835971832 l-2.708807587623596,0.08019832894206047 -1.1935369670391083,1.1197030544281006 l-0.6241544336080551,1.517854630947113 -2.7072940156358527e-05,1.486479789018631 l-2.9733988642692566,1.592230349779129 -0.9521402418613434,1.519872099161148 l-0.08699675090610981,1.6240061819553375 0.936046913266182,1.2778712809085846 l1.4222532510757446,0.6862351298332214 -1.6437530517578125,2.348286807537079 l-0.2354275994002819,1.8003302812576294 0.9751090407371521,1.2474950402975082 l1.7233288288116455,0.8530647307634354 1.430526226758957,3.5605980883701704e-05 l1.5414877235889435,2.082463949918747 1.8802641332149506,0.9487856924533844 l1.9775347411632538,0.00015772715414641425 2.1745698153972626,-1.2965098023414612 l1.2734782695770264,1.1107433587312698 1.707857996225357,0.0002553181548137218 l2.18282088637352,-1.195916086435318 2.914901375770569,1.2535268068313599 l1.4608004689216614,6.994799605308799e-05 1.2516796588897705,-0.8478438854217529 l3.3129584789276123,0.7964175194501877 1.7317332327365875,7.680787348363083e-05 l1.2377424538135529,-0.9061737358570099 3.3915871381759644,0.33524002879858017 l1.3909418880939484,-0.9133357554674149 3.5579943656921387,-0.4186747595667839 l1.6936224699020386,-1.8224598467350006 2.712523341178894,-1.8666638433933258 l0.5865436419844627,-1.128157153725624 0.9257878363132477,-1.5186131000518799 l8.390668881474994e-05,-1.6922850906848907 0.17298292368650436,-1.6807349026203156 l0.022817449644207954,-1.7727774381637573 -0.9475179761648178,-1.069459691643715 l-0.354919470846653,-1.5613245964050293 -0.990828275680542,-1.3169752061367035 l-1.1526378989219666,-1.21943898499012 -1.2180432677268982,-0.9570226818323135 l-1.2285618484020233,-0.8117280155420303 -1.2475431710481644,-0.8389287441968918 l-1.3180170953273773,-0.6642905622720718 -2.158547192811966,0.0003030432162631769 l-0.9890273213386536,-0.8140061795711517 -2.2073930501937866,0.0002673746166692581 l-0.9807709604501724,-0.6640039384365082 -2.22642719745636,0.00026028428692370653 l-0.9684973955154419,-0.5413756892085075 -2.0526181161403656,0.00024099465008475818 l-1.0700863599777222,0.9938809275627136 -0.9432540088891983,-0.3266032040119171 l-1.5955743193626404,7.873996764828917e-05 -1.0526353865861893,1.1581960320472717 m-12.738358974456787,6.037256121635437 l0.0004113798786420375,0.07965750060975552 -1.0355830937623978,0.8249744772911072 l-0.0004774449917022139,0.7277090102434158 0.17624210566282272,0.00021999321688781492 l0.413990281522274,-0.5610007047653198 0.07241576444357634,0.0005223837797529995 l-0.37116166204214096,-0.6229279562830925 -0.29923083260655403,0.0004673906369134784 l-0.18304575234651566,0.039167990908026695 -0.18693376332521439,0.012383435387164354 l-0.22973529994487762,0.053917751647531986 m5.9466129541397095,11.946371793746948 l-0.00011292705494270194,6.7828065156936646 m4.333014786243439,-6.272435784339905 l0.00013021061022300273,7.610810399055481 m21.659750938415527,-7.044727802276611 l1.602064073085785,8.408954739570618 m3.3031105995178223,-9.066001772880554 l2.1374066174030304,8.532617092132568 m56.078675409892185,-26.871913893592705 l-1.9620130956172943,-0.9988086670637131 -4.108116328716278,-9.020461220643483e-05 l-1.5699850022792816,1.0133444517850876 -1.1985471099615097,1.475416123867035 l-2.8092998266220093,0.21903647109866142 -1.1612504720687866,1.1419674754142761 l-0.5513843521475792,1.6617684066295624 -2.1876592934131622,1.6766498982906342 l-0.762346163392067,1.7342692613601685 -0.00020719611711683683,1.3685843348503113 l0.9175576269626617,1.160731166601181 -1.8342679738998413,2.247961610555649 l-0.4050419479608536,1.7807243764400482 0.65985307097435,1.3130991160869598 l1.2615153193473816,0.81914022564888 0.9628193080425262,7.878746146161575e-05 l-0.09562773630023003,1.1960811167955399 0.8422296494245529,1.2737347185611725 l1.5963459014892578,0.8106909692287445 2.03517809510231,4.018795152660459e-05 l2.244335114955902,1.7237003147602081 1.8016348779201508,0.00017470933016738854 l3.157953917980194,0.5968384444713593 1.2695807218551636,-2.719691565289395e-05 l3.476496636867523,0.36477379500865936 1.4573843777179718,-0.6844835728406906 l3.498719334602356,0.4224017634987831 2.0588424801826477,-1.100955680012703 l3.3909395337104797,-0.013325592735782266 0.8652327209711075,-0.5840789899230003 l3.128407299518585,-1.076144054532051 0.7052863389253616,-0.8255426585674286 l1.4888618886470795,0.0003537542579579167 1.115845963358879,-1.0611411929130554 l1.49690181016922,-1.5895047783851624 0.9417694807052612,-1.3469567894935608 l0.00017648106222623028,-1.8179485201835632 0.4584704712033272,-1.686650812625885 l7.479862233594758e-05,-1.9962941110134125 -0.9542199969291687,-1.2025588750839233 l-0.2383018098771572,-1.6346575319766998 -1.0618633776903152,-0.890083909034729 l-0.6722047924995422,-1.309247612953186 -1.0912731289863586,-1.0119621455669403 l-1.1469819396734238,-0.8537695556879044 -1.205635741353035,-0.8211366087198257 l-1.182159185409546,-0.7464294880628586 -1.0765614360570908,-0.6343341618776321 l-2.1186865866184235,0.0002868067895178683 -0.8255475759506226,-0.7269705832004547 l-2.252080589532852,0.0002475193832651712 -0.8369801938533783,-0.528213381767273 l-2.210596799850464,0.0002603145367174875 -1.8076345324516296,1.4101327955722809 l-0.9074094146490097,-0.3678375482559204 -2.0300473272800446,-9.077236882149009e-06 m-13.54238748550415,7.2888946533203125 l0.00034245131246279925,0.1781945861876011 -1.1121641844511032,0.7740149646997452 l-0.00047480585635639727,0.6859175115823746 0.2773713506758213,0.00021630252376780845 l0.5868902429938316,-0.49569014459848404 -0.31612809747457504,-0.5714644864201546 l-0.4189378023147583,0.000344947911798954 0.02433840651065111,0.021156840957701206 l0.0048527910257689655,-0.022067110985517502 -0.2746405452489853,-0.061526824720203876 l-0.24286264553666115,0.09732122533023357 -0.05274532362818718,0.05699463188648224 l-0.10175283998250961,-0.05592444911599159 m-0.4856979101896286,3.017778992652893 l0.31173843890428543,-1.0350878483222914e-05 m10.078412294387817,6.862104535102844 l0.0001386424082738813,6.219159960746765 m4.476019442081451,-6.003926396369934 l6.697072421957273e-05,7.23035991191864 m17.438161373138428,-6.697766184806824 l0.9873288124799728,7.572876214981079 m62.043215907020794,-23.64022310592233 l-1.8267863988876343,-1.0447083413600922 -3.556031286716461,-0.00014040530913916882 l-1.204453706741333,0.8824039250612259 -0.6849458813667297,1.5748998522758484 l-2.692449688911438,0.2507087215781212 -1.0665340721607208,1.1960862576961517 l-0.45618001371622086,1.671214997768402 -2.4191318452358246,1.5795819461345673 l-0.8199165761470795,1.7144697904586792 -0.00019712664652615786,1.4574038982391357 l0.8589581400156021,1.1265473812818527 -1.8798980116844177,2.4394437670707703 l-0.3884001076221466,1.797942966222763 0.7571932673454285,1.2306498736143112 l1.401425451040268,0.8417903631925583 0.853085070848465,-2.068191093940186e-06 l1.1220359057188034,2.488138824701309 1.5392179787158966,1.0573504120111465 l1.6864567995071411,0.00011591310794756282 2.750394344329834,1.2862713634967804 l1.6958042979240417,-8.969041118689347e-05 1.73062264919281,-1.2393451482057571 l1.5664315223693848,0.9655624628067017 1.8548671901226044,0.00016272864741040394 l1.3300201296806335,-0.7306800037622452 3.3179906010627747,0.8803128451108932 l1.6987872123718262,-1.9972576410509646e-05 1.263774186372757,-0.9108632057905197 l3.715789318084717,0.008387049310840666 1.1986497789621353,-1.0705306380987167 l3.2679376006126404,-0.9279313683509827 1.1325398087501526,-2.2508934140205383 l2.108911871910095,-3.0385571718215942 0.0001928656638483517,-1.3742581009864807 l0.15870783478021622,-1.9174934923648834 -0.8782301843166351,-1.3407215476036072 l0.023561890702694654,-1.6109497845172882 -0.6579636037349701,-1.3561062514781952 l-0.7893750071525574,-1.1133436858654022 -0.708969384431839,-1.193411946296692 l-1.0102243721485138,-0.9027641266584396 -0.9377331286668777,-0.864475816488266 l-1.0097985714673996,-0.5750131234526634 -0.8582781255245209,-0.7740058749914169 l-1.849743127822876,0.00014800195458519738 -0.54476298391819,-0.7294278591871262 l-1.9495081901550293,0.00019623757907538675 -0.7291420549154282,-0.6086878105998039 l-1.8131299316883087,0.00017768361431080848 -0.6861058622598648,-0.37657480686903 l-1.748669147491455,0.00012144850188633427 -1.05208158493042,1.08108252286911 l-0.8253759145736694,-0.2602882497012615 m-11.066055297851562,6.044453978538513 l0.0002604895598778967,-0.7594911754131317 -2.119602710008621,0.0003736146754818037 l-2.331525683403015,1.4074945449829102 -1.1725685745477676,1.9920161366462708 l0.6091107055544853,2.1256624162197113 1.5009267628192902,0.9275233745574951 l2.670508325099945,0.00011408800673962105 1.5609270334243774,-1.151438057422638 l0.47543972730636597,-1.054217740893364 -0.00020727959054056555,-2.4538689851760864 l-1.2111125141382217,-1.0689514130353928 -2.208370864391327,0.0003809776171692647 l-1.2748277187347412,0.9938213229179382 -0.7230665534734726,1.608022004365921 l-7.235055363707943e-05,0.9880043566226959 1.2199793756008148,9.622806828701869e-05 l1.1998416483402252,-0.9960059076547623 0.5883963778614998,0.00022582142264582217 l0.2420019917190075,-0.6248394027352333 -0.12857762165367603,6.915274752827827e-05 m-0.38973279297351837,-0.6615526974201202 l-0.00011632640052994248,0.25363098829984665 m-1.7513032257556915,1.1859413236379623 l0.22907517850399017,0.00016692465578671545 m11.145708560943604,7.412840723991394 l0.0003622140866355039,5.175617337226868 m2.7333644032478333,-4.370163679122925 l2.6499872092244914e-05,5.060926079750061 m18.67282509803772,-5.666908025741577 l0.00043529904360184446,4.534454941749573 m60.72004213572086,-22.747042084255895 l-1.655089557170868,-1.0865144431591034 -2.672291100025177,-0.0002439051604596898 l-1.0765386372804642,1.2684164941310883 -0.00010333497812098358,1.2708471715450287 l-2.3828159272670746,0.08638937026262283 -1.0698071122169495,1.3208556175231934 l-0.2087710052728653,2.231955975294113 -2.493514269590378,1.2637622654438019 l-0.7932387292385101,1.5853101015090942 -0.00020858284187852405,1.607365608215332 l0.9165138006210327,1.1455603688955307 -1.6800977289676666,2.2814586758613586 l-0.24858122691512108,1.7809008061885834 0.8973569422960281,1.3046513497829437 l1.393980234861374,0.8040832728147507 0.78752800822258,2.1620987355709076 l1.4237403869628906,1.1640303581953049 1.6806027293205261,2.852965963029419e-05 l2.296927273273468,1.7126964032649994 1.8071550130844116,5.500909082911676e-05 l3.3099034428596497,0.6331034749746323 1.4447540044784546,-7.422360340569867e-05 l3.4807953238487244,0.2533429116010666 1.3275973498821259,-0.6714307516813278 l3.7927350401878357,0.04990510642528534 1.4089623093605042,-0.945761576294899 l3.562456965446472,-0.801006406545639 1.262778490781784,-2.0400236546993256 l2.647499740123749,-2.4940378963947296 0.24758120998740196,-2.6156023144721985 l-0.8953080326318741,-1.1794568598270416 0.346633605659008,-1.8111822009086609 l-0.15711244195699692,-1.6275888681411743 -0.9110777080059052,-1.1576854437589645 l-0.2801647037267685,-1.2794104218482971 -0.6684719026088715,-1.2474263459444046 l-0.9563915431499481,-1.0728703439235687 -0.8260587602853775,-0.9150607138872147 l-0.9496159106492996,-0.8254673331975937 -1.5054824948310852,8.771346074354369e-05 l-0.5339545384049416,-0.9395221620798111 -1.825626790523529,0.00011616685696935747 l-0.5790847539901733,-0.7040812075138092 -1.6743563115596771,8.680483006173745e-05 l-0.7127740979194641,-0.5013329908251762 -1.5471984446048737,5.7712527450348716e-05 l-1.0183029621839523,1.0541591048240662 -0.8874478936195374,-0.42361579835414886 m-10.825765132904053,6.259779930114746 l-1.9930997490882874,-1.6233819723129272 -4.138549566268921,0.0003129896867903881 l-2.567753791809082,1.520325243473053 -1.0611120611429214,1.3873647153377533 l-0.34159328788518906,1.6414536535739899 0.8106531202793121,1.3594694435596466 l1.6115942597389221,1.0023704916238785 3.1785741448402405,6.111612492532004e-05 l1.6360896825790405,-1.079305112361908 0.5396401882171631,-1.0724527388811111 l-9.741679605212994e-05,-1.3777288794517517 -1.1075760424137115,-0.99394790828228 l-1.6296342015266418,0.0001456914014852373 -1.1654554307460785,0.9578696638345718 l-0.5712507665157318,1.5480810403823853 0.4809855669736862,-1.308730475102493e-05 l0.8677790313959122,-0.5828172340989113 0.8760952204465866,0.00015886187611613423 l-5.785859684692696e-06,-0.5994807928800583 -0.5010711401700974,5.889432486583246e-05 l3.3493436149001354e-05,-0.019229144090786576 0.026284593623131514,-0.4362849146127701 l-0.11686413548886776,0.00012698392310994677 m-0.6511681526899338,0.12286110781133175 l-0.09987963363528252,-5.4738620747230016e-05 m-0.6683734059333801,0.8398986607789993 l0.14405116438865662,0.00014946493138268124 m-0.3660627081990242,-0.033515605609863997 l0.2652532607316971,0.00018058635760098696 m12.619563341140747,8.010533452033997 l0.0002892570955737028,4.7492000460624695 -0.9060055762529373,3.028603196144104 m3.3380791544914246,-6.797186732292175 l0.00010934819329122547,5.043922066688538 m15.584536790847778,-5.646339654922485 l-0.04341708496212959,6.1558932065963745 -0.8442911505699158,2.0887869596481323 \" fill=\"none\" stroke=\"black\" stroke-width=\"1\"/></svg>"
      ],
      "text/plain": [
       "<IPython.core.display.SVG object>"
      ]
     },
     "metadata": {},
     "output_type": "display_data"
    }
   ],
   "source": [
    "stroke_grid = make_grid_svg(reconstructions)\n",
    "draw_strokes(stroke_grid)"
   ]
  },
  {
   "cell_type": "markdown",
   "metadata": {
    "colab_type": "text",
    "id": "vFwPna6uFQvS"
   },
   "source": [
    "###### Let's load the Flamingo Model, and try Unconditional (Decoder-Only) Generation"
   ]
  },
  {
   "cell_type": "code",
   "execution_count": 27,
   "metadata": {
    "colab": {},
    "colab_type": "code",
    "id": "HH-YclgNFQvT"
   },
   "outputs": [],
   "source": [
    "model_dir = '/tmp/sketch_rnn/models/flamingo/lstm_uncond'"
   ]
  },
  {
   "cell_type": "code",
   "execution_count": null,
   "metadata": {
    "colab": {},
    "colab_type": "code",
    "id": "-Znvy3KxFQvU"
   },
   "outputs": [],
   "source": [
    "[hps_model, eval_hps_model, sample_hps_model] = load_model_compatible(model_dir)"
   ]
  },
  {
   "cell_type": "code",
   "execution_count": 53,
   "metadata": {
    "colab": {
     "base_uri": "https://localhost:8080/",
     "height": 221
    },
    "colab_type": "code",
    "id": "cqDNK1cYFQvZ",
    "outputId": "d346d57c-f51a-4286-ba55-705bc27d4d0d"
   },
   "outputs": [
    {
     "name": "stdout",
     "output_type": "stream",
     "text": [
      "INFO:tensorflow:Model using gpu.\n",
      "INFO:tensorflow:Input dropout mode = False.\n",
      "INFO:tensorflow:Output dropout mode = False.\n",
      "INFO:tensorflow:Recurrent dropout mode = False.\n",
      "INFO:tensorflow:Model using gpu.\n",
      "INFO:tensorflow:Input dropout mode = 0.\n",
      "INFO:tensorflow:Output dropout mode = 0.\n",
      "INFO:tensorflow:Recurrent dropout mode = 0.\n",
      "INFO:tensorflow:Model using gpu.\n",
      "INFO:tensorflow:Input dropout mode = 0.\n",
      "INFO:tensorflow:Output dropout mode = 0.\n",
      "INFO:tensorflow:Recurrent dropout mode = 0.\n"
     ]
    }
   ],
   "source": [
    "# construct the sketch-rnn model here:\n",
    "reset_graph()\n",
    "model = Model(hps_model)\n",
    "eval_model = Model(eval_hps_model, reuse=True)\n",
    "sample_model = Model(sample_hps_model, reuse=True)"
   ]
  },
  {
   "cell_type": "code",
   "execution_count": 0,
   "metadata": {
    "colab": {},
    "colab_type": "code",
    "id": "7wzerSI6FQvd"
   },
   "outputs": [],
   "source": [
    "sess = tf.InteractiveSession()\n",
    "sess.run(tf.global_variables_initializer())"
   ]
  },
  {
   "cell_type": "code",
   "execution_count": 55,
   "metadata": {
    "colab": {
     "base_uri": "https://localhost:8080/",
     "height": 51
    },
    "colab_type": "code",
    "id": "6mzk8KjOFQvf",
    "outputId": "c450a6c6-22ee-4a58-8451-443462b42d58"
   },
   "outputs": [
    {
     "name": "stdout",
     "output_type": "stream",
     "text": [
      "INFO:tensorflow:Loading model /tmp/sketch_rnn/models/flamingo/lstm_uncond/vector.\n",
      "INFO:tensorflow:Restoring parameters from /tmp/sketch_rnn/models/flamingo/lstm_uncond/vector\n"
     ]
    }
   ],
   "source": [
    "# loads the weights from checkpoint into our model\n",
    "load_checkpoint(sess, model_dir)"
   ]
  },
  {
   "cell_type": "code",
   "execution_count": 0,
   "metadata": {
    "colab": {},
    "colab_type": "code",
    "id": "X88CgcyuFQvh"
   },
   "outputs": [],
   "source": [
    "# randomly unconditionally generate 10 examples\n",
    "N = 10\n",
    "reconstructions = []\n",
    "for i in range(N):\n",
    "    reconstructions.append([decode(temperature=0.5, draw_mode=False), [0, i]])\n"
   ]
  },
  {
   "cell_type": "code",
   "execution_count": 57,
   "metadata": {
    "colab": {
     "base_uri": "https://localhost:8080/",
     "height": 149
    },
    "colab_type": "code",
    "id": "k57REtd_FQvj",
    "outputId": "8bd69652-9d1d-475e-fc64-f205cf6b9ed1"
   },
   "outputs": [
    {
     "data": {
      "image/svg+xml": [
       "<svg baseProfile=\"full\" height=\"127.715112643\" version=\"1.1\" width=\"822.751792897\" xmlns=\"http://www.w3.org/2000/svg\" xmlns:ev=\"http://www.w3.org/2001/xml-events\" xmlns:xlink=\"http://www.w3.org/1999/xlink\"><defs/><rect fill=\"white\" height=\"127.715112643\" width=\"822.751792897\" x=\"0\" y=\"0\"/><path d=\"M25,31.6749245953 m0.0,0.0 m29.458208438,25.2691196524 l0.0325444270857,-0.0231732660905 1.04706428945,0.415350608528 l2.56192594767,0.81096239388 1.6894698143,0.354095175862 l1.51694312692,2.32169622905e-05 0.748551264405,-0.215358361602 l1.21745474637,-0.836464762688 2.29563608766,-2.66363292933 l0.898385420442,-2.29895725846 0.411714501679,-2.21723675728 l0.13494736515,-2.61043429375 -0.111788604409,-4.12980228662 l-0.120743969455,-6.36989653111 0.321359932423,-2.24959403276 l0.459819026291,-1.22433163226 0.627976357937,-0.836113095284 l1.26694187522,-0.792242139578 0.838888064027,-0.125197814777 l1.5458907187,0.0925225671381 1.60288482904,0.964696407318 l1.31957128644,1.90108254552 0.810691043735,2.35404282808 l-0.0686964252964,1.22582651675 -0.327908731997,0.806986913085 l-0.579560399055,0.599444434047 -0.254689585418,0.0929194502532 l0.0189893774223,-0.0619984650984 -0.0607493007556,-0.142645873129 l0.186024513096,-0.507291294634 0.142185967416,-0.837500914931 l-0.0591609952971,-0.649811029434 -0.640717223287,-0.384565219283 l-1.0520093143,-6.04856541031e-05 -1.26556247473,0.277725569904 l-0.740073993802,0.444832332432 -0.580341480672,0.714580491185 l-0.556158982217,1.24937415123 -0.355015844107,2.08110511303 l-0.47483060509,2.00233563781 -0.528394728899,7.05363750458 l-0.426943898201,1.90633296967 -0.585354156792,1.53476655483 l-2.04790070653,3.52708220482 -0.96997231245,0.726360678673 l-1.69135630131,0.827197059989 -1.64771825075,0.37658225745 l-2.0467685163,0.110702356324 -0.999851897359,-0.168058201671 m0.174490343779,-1.1613060534 l0.225091092288,1.16631388664 5.47373656445e-05,5.45386493206 l-0.618838109076,3.85409206152 -1.39099687338,8.57470929623 l-0.114179579541,1.63497745991 0.295973792672,1.28498390317 l0.338912084699,0.51358114928 m4.13933694363,-21.3615727425 l0.357387140393,3.66887181997 0.164170321077,3.10560554266 l-0.277461260557,4.82256770134 -0.418339446187,2.10247397423 l0.000177712299774,3.47563415766 0.285429675132,2.07842335105 l0.207031555474,0.586624033749 0.29298549518,0.235761310905 m7.45270133018,-39.254693985 l-0.10098349303,1.1266720295 -1.11037768424,2.0946085453 l-0.881141722202,0.788178518414 -1.18403472006,0.839640945196 l-1.52996152639,1.19458071887 -2.28313758969,2.18454450369 l-1.31931632757,1.92388027906 -0.637758150697,1.81058987975 l-0.95981426537,3.96872401237 -0.68612806499,5.23990511894 l0.0451821833849,1.89237952232 m8.87616574764,-21.5186858177 l0.598286017776,-0.403366722167 0.612766556442,0.232932344079 l0.829727351665,1.76129609346 0.123293986544,5.28578281403 l-0.876463726163,2.38325148821 -1.04647368193,1.96632802486 l-1.46784231067,1.57148167491 -1.30652040243,0.474730357528 l-2.18808442354,0.328420475125 -1.54065221548,-0.14694753103 l-1.8484377861,-0.87950065732 m2.73940712214,11.1131393909 l0.779824703932,2.07190468907 2.24778920412,3.88899952173 l0.852978378534,2.48462811112 0.602671429515,1.17155730724 l0.241339486092,1.00000068545 m-3.31114917994,-1.44545778632 l2.15816885233,0.0851719733328 1.12306036055,0.179182905704 m-3.56041014194,-0.305188633502 l-0.560029260814,0.251017026603 -0.410523116589,0.565858073533 m1.55241668224,-1.48920595646 l1.10824540257,0.58224953711 2.84651905298,1.65052130818 m-3.66291314363,-2.24304169416 m78.5972679537,-23.5924103969 l-0.800447762012,1.19417071342 -1.29839196801,3.17360877991 l-1.4057816565,6.41939520836 -0.23096518591,3.5764336586 l0.0904473662376,1.43192753196 0.56121788919,1.63443207741 l0.524589046836,0.828164443374 0.809967294335,0.710838660598 l2.41852670908,0.932984650135 3.39887231588,0.514420457184 l3.94706845284,-0.447824895382 1.83929532766,-0.594859682024 l4.25888448954,-2.17586740851 1.60247340798,-1.26467183232 l0.888562351465,-1.01742483675 1.1472260952,-2.15333417058 l0.356440246105,-2.53145307302 -0.312594845891,-2.64085292816 l-0.722987577319,-1.64343908429 -1.02183558047,-1.29861578345 l-1.2664064765,-0.964671224356 -3.68066161871,-1.52325376868 l-4.32155787945,-0.556684993207 -2.56457746029,-1.35669063184e-05 l-1.340470016,0.491228699684 -1.19024582207,0.82556322217 l-1.37486070395,1.40169098973 m5.03129243851,-0.78221783042 l-0.178084019572,-2.66755253077 -1.10467121005,-7.91498959064 l-1.87564969063,-8.01401376724 -0.618937574327,-4.64156776667 l-0.421930514276,-1.62166163325 -0.581837818027,-1.56112134457 l-0.863464325666,-1.16512060165 -1.03169128299,-0.82039989531 l-1.24624542892,-0.547062978148 -2.65495985746,-0.505693927407 l-2.83957779408,0.312541909516 -2.54475057125,1.15088514984 l-1.37709453702,1.09161384404 -1.2762285769,1.40147805214 l-1.02016739547,1.62703692913 -0.456101186574,1.41425073147 l-0.0379354716279,1.4215515554 0.288836080581,1.0273425281 l0.761433541775,0.811074078083 1.12716563046,0.267778281122 l4.68063980341,-1.51522755623 1.59633740783,-0.516975559294 l2.39000722766,0.436183921993 m8.79757761955,36.1714935303 l0.00181636874913,8.10366511345 0.411352142692,5.12045562267 m2.65659928322,-15.6388759613 l-0.834329426289,10.7725656033 0.000154228910105,4.98737424612 m6.78359627724,-14.6021044254 l-0.151779372245,4.55346286297 0.425377823412,13.7041437626 l0.548390969634,3.63647639751 m55.8511659672,-38.5625492176 l0.561716482043,0.788548961282 2.76630491018,2.37190589309 l1.44347727299,0.465765409172 1.37771978974,0.111212721094 l5.30758678913,-0.317387059331 2.48238667846,-0.86556725204 l1.49632707238,-0.821917876601 1.32277175784,-1.04674644768 l0.663008987904,-1.29284366965 0.302247591317,-1.18551194668 l-0.0599987292662,-2.31777787209 -0.774165093899,-1.66326597333 l-1.63157045841,-1.46254882216 -3.1410112977,-1.01949125528 l-3.29555928707,0.151472995058 -2.33650907874,0.756285712123 l-2.34446167946,1.14931069314 -2.07325905561,1.6949737072 l-1.15234315395,1.4176183939 -0.725947618484,1.51888355613 l-0.255530495197,1.72478660941 0.183280277997,0.727467313409 l1.25606745481,1.07768453658 m9.17668581009,-8.25213849545 l0.0332616921514,-1.99175879359 0.0840628892183,-2.4857096374 l0.483940541744,-2.46546268463 0.695010200143,-2.12588369846 l0.879845172167,-1.86043307185 0.887767150998,-1.17227964103 l1.18911005557,-1.13456174731 1.33237615228,-0.57358045131 l2.0177076757,-0.350379012525 2.89298176765,0.200958140194 l1.48271068931,0.958140566945 1.832588166,2.83930301666 l0.540181659162,2.23837539554 0.115918014199,2.5947740674 l-0.232026483864,1.71452537179 -0.550393350422,1.47495090961 l-1.11766114831,1.34793147445 -1.40988856554,0.723219066858 l-1.73487097025,-0.128262257203 -1.9854336977,-0.803415924311 l-1.49262994528,-1.41128599644 -1.01832285523,-1.81462436914 l-0.366988144815,-2.19203859568 0.0888981297612,-1.81356623769 l0.73055639863,-2.26618796587 m-7.16650307178,19.9116516113 l-0.152783291414,3.61575812101 -0.534743368626,8.86299490929 l-0.91991700232,7.70380675793 -0.676571130753,3.2925054431 l-0.541814826429,1.75041288137 m7.92194485664,-24.644780159 l1.46447554231,8.93567144871 0.839364528656,8.8981962204 l0.263951588422,6.82073235512 -0.499748513103,2.66457587481 m81.544191521,-54.6361780346 l-0.958731770515,0.114539833739 -1.35895937681,1.32865905762 l-1.01192630827,1.55930355191 -0.776171386242,2.2245106101 l-0.201425906271,1.65123999119 0.42280472815,2.071467489 l0.821357443929,0.774684548378 3.43964666128,0.486551299691 l1.523732692,-0.709772855043 0.955362319946,-1.19288481772 l1.03027388453,-2.78954476118 0.0998401641846,-1.42923727632 l-0.202957242727,-1.18249841034 -1.21210888028,-1.97896271944 l-1.207973212,-0.979695320129 -1.12453080714,-0.44497705996 m-2.49161720276,7.7928429842 l-0.341828800738,2.84292727709 -1.49960279465,9.46726977825 l-0.191087797284,7.79129505157 0.409078411758,6.25811219215 m5.20138442516,-25.2787995338 l0.274074953049,11.5508282185 0.273618828505,3.94290298223 l-0.32230887562,4.41851049662 0.354591086507,-0.00120816002891 m-4.8531499505,-22.5950908661 l-1.1601600796,-1.22842021286 -4.66292530298,-3.13798606396 l-2.60235995054,-1.20841510594 -1.76904037595,-0.533070601523 l-4.07912433147,-0.601753182709 -5.7162719965,-0.0193160807248 l-1.38076201081,0.335504375398 -2.58805036545,2.07141235471 l-1.24107189476,1.49639964104 -0.946673303843,2.69842147827 l-0.22197432816,1.44371256232 0.166094284505,2.00015813112 l0.372418873012,0.874955058098 0.646157190204,0.791597142816 l1.26964703202,0.794891491532 2.51506328583,0.83437897265 l1.8906493485,0.256103016436 4.70155060291,-0.883881673217 l5.34704148769,-1.75168335438 5.89289665222,-1.84191659093 l1.34576261044,-0.0995711237192 0.863875597715,0.302082765847 l1.17221482098,1.60853713751 0.432814843953,1.14944398403 m0.601682811975,8.2486552 l0.45402392745,3.81427645683 2.5374263525,9.69368517399 l1.61324620247,4.97482150793 0.79488620162,3.96115988493 l0.386255718768,5.33666670322 0.352097079158,1.01243957877 l0.142723312601,2.68945932388 -0.541317276657,2.36783802509 m-8.18831086159,-30.497906208 l-0.355983786285,1.31772339344 -3.11152845621,11.6893064976 l-1.96918457747,7.2734695673 -0.804664194584,4.8837056756 l4.4861162678e-05,3.50881993771 0.487122200429,2.35717147589 l-0.0499639194459,2.55458265543 -0.284238234162,1.25557079911 m3.5471868515,-30.3981947899 l1.17560900748,1.46862983704 1.74175471067,1.42041966319 l2.72552937269,1.35783985257 3.52863758802,1.14555381238 l5.29351770878,1.09116144478 4.00626063347,0.3643579036 l2.08536401391,-0.113116772845 1.1685436219,-0.313967689872 l0.94683714211,-1.38093739748 0.703748390079,-4.84690368176 l-0.20731234923,-3.7191131711 -0.496985018253,-1.03415891528 l-1.43305703998,-1.65907233953 -2.38261774182,-1.19058459997 l-6.21133208275,-1.516020298 -3.56307864189,-0.124761648476 m59.8128087138,-12.7432679594 l-0.033643101342,11.1036920547 -0.423183850944,2.70498007536 m3.50463718176,2.47018367052 l0.00143156663398,0.413313135505 -1.13444849849,2.2542513907 l-0.476514808834,1.99210241437 -0.000150827027028,2.66793042421 l-9.87715975498e-05,3.6794641614 0.655047520995,3.72916042805 l0.786031261086,1.80577352643 2.7154764533,3.12993168831 l2.07219287753,1.51313364506 2.56171882153,1.12545132637 l3.12361240387,0.817526876926 3.74028593302,0.552713945508 l5.05397975445,-5.42009547644e-05 2.82282471657,-0.752285420895 l1.25636175275,-0.528859421611 1.39939442277,-0.949395224452 l1.83050259948,-1.70913219452 1.76804542542,-2.831338346 l0.808100253344,-3.06363463402 -0.505880787969,-2.50121831894 l-1.49093806744,-2.59079933167 -1.40829846263,-1.56794190407 l-2.65294700861,-1.39760345221 -3.55597704649,-0.831722542644 l-6.41353547573,-0.55650960654 -4.9788543582,0.013534266036 l-3.31735163927,-0.000109860029625 -4.56305861473,0.266254711896 l-1.0768148303,-0.295330509543 -0.548561736941,-0.821619555354 l-0.704940110445,-2.36880093813 6.58164208289e-05,-3.80482316017 l0.538089349866,-2.1759968996 0.703893005848,-3.92789781094 l-0.0866332370788,-3.18470299244 -0.629252046347,-2.97306776047 l-0.653302446008,-1.6381829977 -1.31062120199,-0.784529149532 l-2.10793614388,-4.40401618107e-05 -1.57331421971,0.831236764789 l-1.49484798312,1.56522735953 -1.02235630155,2.34810575843 l0.0704328902066,2.29295819998 1.29273071885,-0.358704961836 l1.36667877436,-0.588382594287 1.6647541523,-1.58746019006 l0.798011869192,-0.30593354255 1.66175931692,-0.0833119545132 m13.4819841385,36.4035010338 l-0.220377985388,13.7363576889 0.785567164421,6.96601688862 l0.175801012665,5.05626261234 -1.21641337872,-0.00573732540943 m1.6547717154,-26.5798068047 l0.0837594550103,3.05323719978 0.430138632655,1.8636675179 l8.70407347975e-05,10.5252325535 0.808201879263,7.17664480209 l0.139218205586,5.027333498 -2.54930955634e-05,1.16275250912 l0.373996198177,0.863151922822 1.34232491255,0.510643050075 m65.76900526,-30.6916937348 l-0.0336422864348,16.1615741253 0.498184971511,3.25785398483 l-0.00058910005464,5.75634717941 0.294578764588,3.05834084749 m4.59041535854,-29.1657686234 l0.393172800541,5.10442376137 -0.116459932178,5.39585351944 l0.609971173108,11.34552598 9.99257463263e-05,5.77671587467 m-5.94944655895,-28.5452628136 l0.607566274703,0.017267910298 0.954608544707,0.952618792653 l0.704719051719,1.50139272213 2.30636879802,3.43980491161 l1.43158778548,2.98756450415 0.662596151233,0.828366577625 l1.47609576583,0.922955423594 2.19045057893,2.06446839002e-05 l1.78190305829,-0.946165025234 0.774527564645,-0.770009532571 l1.17696277797,-2.2150836885 0.483646802604,-2.20895677805 l2.24599102694e-05,-3.7042427063 -0.411984324455,-1.23756319284 l-0.846116170287,-1.29265889525 -1.14891707897,-1.10198736191 l-4.28305149078,-1.55799880624 -2.4823333323,-0.29325697571 l-4.7835868597,0.330139361322 -1.07640936971,0.476170815527 l-0.775981396437,0.542637594044 -0.588096641004,0.926009863615 l0.000127322209664,2.76292681694 0.60273360461,0.71444876492 l0.553625300527,0.31627163291 m9.57714080811,-2.83030718565 l-0.281260050833,-0.840510427952 -0.714135095477,-2.24990472198 l-0.791594013572,-4.52430158854 -0.000118346124509,-5.37934482098 l0.454608462751,-3.0728662014 1.23426452279,-4.13100868464 l1.18359453976,-1.8442030251 0.693881437182,-0.677352845669 l1.50911659002,-0.594390295446 3.08949112892,-4.39243058281e-05 l2.6812517643,0.500894412398 0.538073331118,0.516457818449 l0.367518700659,0.658082813025 0.210192780942,0.519526824355 l0.138321295381,1.40753567219 -0.610360838473,0.521890558302 l-0.960502848029,0.372968912125 -1.81687667966,0.142480861396 l-0.824373811483,-0.203016884625 0.000115932061817,0.0347543717362 l-8.84011024027e-05,2.16377675533 -1.01396732032,2.76995450258 l-0.546116232872,0.800452008843 -1.19152531028,3.69995385408 l-0.355080813169,5.17754435539 0.00673199247103,3.48893105984 l-0.237933285534,1.82131767273 -0.388857908547,1.00992776453 m64.4206940626,-29.1638280899 l-0.793324485421,-0.278702322394 -3.46961319447,0.0136304227635 l-1.46551534534,0.385809130967 -2.92788594961,1.64465218782 l-1.80630013347,1.46624282002 -1.44461199641,2.09184274077 l-0.713580325246,2.42886051536 -0.076123685576,1.9525077939 l0.726417154074,1.86148390174 1.24772615731,1.41337528825 l2.8630182147,1.96063697338 2.75311142206,0.918453633785 l3.0052703619,0.445590429008 3.38198363781,0.0650055194274 l2.84834593534,-0.529858097434 2.45678544044,-0.979732125998 l2.02349081635,-1.44585981965 1.48520991206,-2.06509843469 l0.823033303022,-2.65166580677 -0.245210044086,-3.19367796183 l-0.687534362078,-1.9718849659 -1.49650871754,-2.27329224348 l-1.41013711691,-1.22884124517 -1.82078838348,-0.968004316092 l-1.91786810756,-0.546497777104 -1.68970376253,-0.174245014787 l-2.07640528679,0.633658021688 -1.2149271369,0.858073458076 l-1.2829387188,1.49692356586 m-1.54412120581,15.0531220436 l-0.393161512911,1.93461313844 7.39914275982e-05,6.1692070961 l0.447160229087,14.1346585751 0.377246253192,2.82557100058 m7.59645998478,-25.4515242577 l-0.240021720529,1.35987207294 1.89644649625,14.1218960285 l0.000219148369069,5.00874340534 0.226947758347,-0.517870858312 l0.962357595563,-1.1062913388 0.385332219303,-0.382486619055 l0.879385843873,-0.11619605124 0.193156730384,-0.0401508389041 m-8.82580220699,3.82946848869 l-0.342955328524,0.929766148329 -0.108942100778,2.34360992908 l-0.000111086128527,1.13959662616 m1.73275619745,-5.18870532513 l3.94967973232,3.27388375998 1.18111215532,1.27404972911 m-5.63505530357,-5.59464395046 l-1.00074984133,0.565736033022 -1.79857358336,2.15527907014 l-0.785324722528,1.43087267876 m10.0596654415,-41.6457080841 l0.132520059124,-1.2000400573 0.463651567698,-0.899922996759 l2.88538128138,-4.72528100014 2.63012766838,-2.86524683237 l1.46183818579,-1.01753741503 1.53110891581,-0.571189336479 l2.64783501625,-0.288490094244 3.29240322113,-0.35072863102 l1.46022200584,0.0563966808841 1.06394328177,0.449155718088 l0.677471607924,0.892700925469 0.454149879515,1.93187072873 l0.0461373431608,3.07185262442 -0.527732893825,2.10653781891 l-0.731193125248,1.32250353694 -1.73621490598,1.7959870398 l-1.57498463988,1.04367509484 -2.11891621351,0.707050561905 l-4.76166278124,0.346715822816 -1.91933736205,-0.298311971128 l-2.3162008822,-1.00028127432 -1.35036379099,-0.886110439897 l-0.797193944454,-1.11879967153 0.724076032639,-1.46248400211 m20.276529789,-4.74510639906 l3.99683654308,1.61074563861 3.24272215366,1.54693111777 l1.72528877854,1.16760082543 -7.92133748531,0.479456670582 l-4.63598310947,-0.12253430672 m70.7238908528,-9.69405606156 l0.79856492579,-0.125033613294 3.45074057579,0.529203936458 l2.00258553028,0.879179909825 1.3245780766,0.934910401702 l2.17645943165,2.62739688158 1.59636437893,2.20984056592 l4.4953340292,7.62121140957 1.69478595257,4.20186132193 l0.243486911058,1.29398047924 -0.291136782616,0.937356203794 l-0.915480107069,1.02079957724 -1.93522632122,1.37977167964 l-2.60870933533,1.08179330826 -2.45512917638,0.512819476426 l-3.26971441507,0.161257721484 -1.24488659203,-0.1556428615 l-2.59638518095,-0.732277929783 -2.84276872873,-1.48400560021 l-1.09907783568,-0.928235650063 -0.771931558847,-1.059640944 l-0.983171090484,-2.25878506899 -0.359855890274,-2.12153583765 l0.000154746376211,-2.46473804116 0.469205081463,-2.19942003489 l1.62344753742,-3.55363994837 1.97932928801,-2.71078795195 l3.53601157665,-3.35897266865 2.69094765186,-1.6978636384 l1.87124356627,-1.34106054902 1.63576021791,-0.753924921155 l1.5111361444,-0.24801030755 2.41559833288,0.289740338922 l1.0981131345,0.532747507095 0.714374259114,0.915592685342 l0.371714904904,0.884672701359 0.00803504080977,0.883289426565 l-0.504685118794,1.1702106148 -0.860913470387,1.03752538562 l-1.19510918856,0.777974054217 -1.414167732,0.557228177786 l-1.80846571922,0.400658585131 -3.28826576471,0.0693649845198 l-2.76826858521,-0.67628018558 -0.807776004076,-0.636017248034 m-3.25872808695,-1.48731008172 l-4.28385227919,-2.43986696005 -2.77984440327,-0.782894864678 l-5.13444662094,-0.329804457724 -2.86042422056,0.522050820291 l-4.55300331116,1.81226566434 -1.05256184936,0.693264454603 l-0.406320504844,0.585696026683 -0.153921600431,1.34240731597 l0.817164853215,2.12551563978 1.04771845043,1.4596568048 l1.2229514122,1.07063896954 1.82803660631,0.957837030292 l2.19420015812,0.584149882197 3.9168637991,0.0507301837206 l5.18354296684,-0.976024717093 2.36516103148,-0.582859553397 l1.50441482663,-0.610966719687 0.55081769824,-0.444683134556 m2.22353965044,16.4024925232 l-0.202962141484,6.41108036041 0.67201949656,18.1398689747 l-0.281344559044,6.29608511925 -0.39662733674,2.02650979161 l-0.766443833709,2.12385579944 -0.414381437004,-1.25357151031 l-0.296283066273,-1.3635289669 1.58686518669,0.278331767768 l2.71675735712,1.07202745974 0.0119620549958,-0.0261291465722 l-1.39818921685,-0.369330383837 -3.54554533958,-0.934906303883 l1.70503407717,-0.286243576556 m1.76969438791,-33.0425691605 l-0.114673264325,1.88351139426 0.975665748119,4.45077717304 l0.757985636592,6.29630565643 1.45450451328e-05,6.81279122829 l-0.341756567359,3.47958981991 7.95950018073e-05,5.05942821503 l0.791508182883,0.065332101658 1.01968146861,-1.775778234 l0.452378802001,-0.424483455718 1.34166672826,1.21299669147 l-0.155722890049,-0.500417463481 -0.941625088453,-0.993789508939 l0.0095664919354,0.290016420186 0.596047304571,0.522091686726 l1.1239220947,0.541246086359 -0.184331052005,0.395331457257 l-0.527030415833,-0.0978239160031 m62.4272904099,-31.4960562619 l-0.772337019444,0.750757232308 -1.80500403047,2.6624545455 l-1.18421293795,2.19121277332 -0.467365793884,2.10095182061 l-0.0981960538775,2.23026111722 0.787890478969,1.42736777663 l4.72435384989,4.04366910458 2.20520883799,0.803350582719 l4.19223636389,0.664893165231 9.87744271755,-0.164344329387 l2.28689566255,-0.861133337021 2.51249313354,-1.66894361377 l1.4036463201,-1.91753804684 0.647245571017,-1.49358585477 l-0.387050248682,-2.57607340813 -1.72130182385,-1.96802869439 l-2.13346138597,-1.69196307659 -2.41663038731,-1.37383818626 l-3.24211508036,-1.42137676477 -3.59564274549,-0.934684351087 l-3.48399937153,-0.281173642725 -4.35980021954,1.13438591143e-05 l-2.37510100007,0.443353168666 m5.60111343861,16.1615669727 l0.163126122206,0.87062433362 -0.356305800378,5.51203072071 l7.00424061506e-05,6.3413476944 -0.357598103583,3.73837321997 l-4.81810866404e-05,2.86089301109 -0.534770004451,3.18622946739 m6.22478663921,-21.3248705864 l0.0893919635564,13.0363404751 0.39492122829,4.36392396688 l-0.0135176011827,2.11010530591 0.000219284847844,1.58515661955 l-0.923369899392,0.4934970662 m-4.09702390432,-39.2774510384 l0.591842345893,-2.99154073 0.506966933608,-2.08171233535 l0.000137684728543,-8.28066527843 -1.17758542299,-2.9608631134 l-1.76273435354,-1.89077466726 -2.09027990699,-0.920008122921 l-3.15350264311,-0.393666103482 -1.88343718648,-7.25424024495e-05 l-3.32118391991,0.970056280494 -0.83619594574,0.518580265343 l-0.774457380176,0.956135243177 -0.614892989397,1.53531894088 l6.54160385238e-05,1.38620153069 1.18077300489,1.69244274497 l0.824604853988,0.525401644409 2.0239841938,-1.29485670186e-05 l1.09660029411,-0.800605416298 0.856117084622,-1.79868176579 l0.289739761502,-2.2385789454 -0.0306037790142,-0.972466319799 l4.44979923486e-05,-0.985879600048 1.43980816007,-0.444105155766 l2.46169045568,0.205991193652 0.659569129348,0.780478641391 l0.792060494423,1.99548572302 0.00343563733622,2.79422909021 l-0.979941040277,8.04238200188 -0.229087118059,3.52613925934 m-7.10653781891,-15.9653151035 l-0.642810240388,-0.166901927441 -1.94447159767,-0.141986785457 l-1.35786727071,0.422911643982 -1.07593774796,0.696746185422 l-1.17334879935,1.50094166398 -0.722969472408,2.20284074545 l0.000129243499032,1.60063147545 0.459835864604,0.549725554883 l1.19938403368,0.330937430263 2.59841948748,-0.17346251756 l2.61799901724,-1.165753901 1.26307100058,-1.00491315126 l1.20629496872,-1.90920457244 0.409673303366,-1.97204053402 l-0.341668576002,-0.716896280646 -1.69304147363,-6.42361419523e-05 l-1.33264824748,4.59902094008e-05 -2.55667001009,0.572446286678 l-0.899034887552,0.542530305684 -0.464958846569,0.655062124133 l0.129576213658,0.968171730638 0.695661604404,0.496070981026 m2.07970187068,1.6372255981 l-1.62933021784,1.76428347826 -0.822135135531,1.6787597537 l-0.66892594099,2.04569935799 -1.25278145075,1.95277228951 l0.000110420714918,0.320713333786 0.699546933174,-0.992272347212 l1.37846440077,-2.21151828766 1.00736103952,-1.5215626359 l1.66341811419,-1.79645046592 0.420863293111,-0.892041251063 l0.434372238815,-0.379492789507 m88.7656952938,33.8566040966 l-0.0336437462829,6.10702693462 1.07201687992,8.04415762424 l0.468653216958,2.51586258411 0.000214536303247,5.17198383808 m5.69184064865,-23.6435961723 l0.000213964613067,11.2822318077 1.30427956581,6.77139639854 l0.254983752966,2.59681016207 -0.228346697986,1.14255569875 m-6.68843984604,1.14827245474 l-1.17674291134,1.11146919429 -0.836412832141,1.44930616021 l-0.400780551136,1.25925526023 -0.146321989596,1.74998059869 m4.90459024906,-5.99162220955 l0.980379059911,0.827265828848 0.981535464525,1.61614626646 l1.4729180932,1.34299233556 1.12659819424,0.615130960941 m-1.56707778573,-5.60484111309 l-0.0481420569122,0.972302854061 m-4.57619518042,-2.24274232984 l-0.127611765638,1.78324982524 0.744062140584,2.8029435873 m0.9995765239,-4.17313992977 l-0.170032959431,0.884481221437 0.599691607058,2.57961928844 l0.510171353817,0.955408066511 m-0.493804775178,-4.8642256856 l-0.510254688561,1.16493865848 -2.41233379938e-07,2.80309677124 l0.407617017627,1.23210325837 m-8.36762845516,-34.599916935 l0.0321266474202,1.97213768959 0.733120441437,1.96688041091 l2.21377894282,2.90578842163 2.95239418745,1.85569018126 l2.85947024822,0.955328792334 3.06364148855,0.56248344481 l3.60593646765,-9.16091084946e-05 1.23279973865,-0.307606998831 l1.23568385839,-0.959504023194 1.13350115716,-1.58936083317 l0.782643258572,-4.18377935886 -2.98610984828e-05,-4.15406286716 l-1.2079603225,-3.32394212484 -1.10638894141,-1.81025758386 l-1.85835435987,-1.56990855932 -1.16426855326,-0.454741343856 l-3.25000375509,-2.21436312131e-05 -1.06760501862,0.0818374101073 l-1.54943197966,0.532702095807 -1.64125040174,1.05539523065 l-2.40178793669,2.16035187244 -1.22492983937,1.47042319179 l-1.7845544219,3.37948322296 m5.64370751381,3.19819927216 l-0.482329316437,0.385317802429 -2.01649799943,1.19875147939 l-0.120484381914,0.560055412352 0.0078938738443,6.58686667521e-05 l0.382767468691,0.401659086347 -0.68116530776,0.688958838582 l0.128657482564,0.330713018775 1.24244444072,-1.73296689354e-05 l2.79485404491,-0.156356077641 1.12483888865,-0.324978046119 l1.00334122777,-0.581404007971 1.3749319315,-1.39734700322 l0.364782698452,-0.338026583195 0.453613139689,-0.533532127738 l0.0766571052372,-1.2328016758 m-4.38203305006,-5.6817394495 l-0.149303283542,-1.6838863492 -0.000171269330167,-6.50372803211 l-0.0355581426993,-8.79210710526 -0.859044119716,-4.08924221992 l-1.02311551571,-1.4267487824 -1.39900028706,-1.01992294192 l-2.08348631859,-0.501941330731 -3.37872713804,2.52755694419e-05 l-2.61669635773,1.79647192359 -1.07992060483,1.37293741107 l-1.38304337859,3.17009598017 -0.222221240401,1.17835879326 l0.138456551358,1.0133934021 2.95350581408,2.4306088686 l4.07112568617,0.472516082227 3.10725390911,-5.81647918807e-05 l1.52662292123,-0.284984856844 0.467337928712,-0.454955436289 l0.000135693790071,-1.97942629457 -0.929044783115,-2.48740062118 l-0.598498173058,-0.769411325455 -0.779059752822,-0.567689798772 \" fill=\"none\" stroke=\"black\" stroke-width=\"1\"/></svg>"
      ],
      "text/plain": [
       "<IPython.core.display.SVG object>"
      ]
     },
     "metadata": {
      "tags": []
     },
     "output_type": "display_data"
    }
   ],
   "source": [
    "stroke_grid = make_grid_svg(reconstructions)\n",
    "draw_strokes(stroke_grid)"
   ]
  },
  {
   "cell_type": "markdown",
   "metadata": {
    "colab_type": "text",
    "id": "L-rJ0iUQFQvl"
   },
   "source": [
    "Let's load the owl model, and generate two sketches using two random IID gaussian latent vectors"
   ]
  },
  {
   "cell_type": "code",
   "execution_count": 0,
   "metadata": {
    "colab": {},
    "colab_type": "code",
    "id": "of4SWwGdFQvm"
   },
   "outputs": [],
   "source": [
    "model_dir = '/tmp/sketch_rnn/models/owl/lstm'"
   ]
  },
  {
   "cell_type": "code",
   "execution_count": 59,
   "metadata": {
    "colab": {
     "base_uri": "https://localhost:8080/",
     "height": 255
    },
    "colab_type": "code",
    "id": "jJiSZFQeFQvp",
    "outputId": "f84360ca-c2be-482f-db57-41b5ecc05768"
   },
   "outputs": [
    {
     "name": "stdout",
     "output_type": "stream",
     "text": [
      "INFO:tensorflow:Model using gpu.\n",
      "INFO:tensorflow:Input dropout mode = False.\n",
      "INFO:tensorflow:Output dropout mode = False.\n",
      "INFO:tensorflow:Recurrent dropout mode = False.\n",
      "INFO:tensorflow:Model using gpu.\n",
      "INFO:tensorflow:Input dropout mode = 0.\n",
      "INFO:tensorflow:Output dropout mode = 0.\n",
      "INFO:tensorflow:Recurrent dropout mode = 0.\n",
      "INFO:tensorflow:Model using gpu.\n",
      "INFO:tensorflow:Input dropout mode = 0.\n",
      "INFO:tensorflow:Output dropout mode = 0.\n",
      "INFO:tensorflow:Recurrent dropout mode = 0.\n",
      "INFO:tensorflow:Loading model /tmp/sketch_rnn/models/owl/lstm/vector.\n",
      "INFO:tensorflow:Restoring parameters from /tmp/sketch_rnn/models/owl/lstm/vector\n"
     ]
    }
   ],
   "source": [
    "[hps_model, eval_hps_model, sample_hps_model] = load_model_compatible(model_dir)\n",
    "# construct the sketch-rnn model here:\n",
    "reset_graph()\n",
    "model = Model(hps_model)\n",
    "eval_model = Model(eval_hps_model, reuse=True)\n",
    "sample_model = Model(sample_hps_model, reuse=True)\n",
    "sess = tf.InteractiveSession()\n",
    "sess.run(tf.global_variables_initializer())\n",
    "# loads the weights from checkpoint into our model\n",
    "load_checkpoint(sess, model_dir)"
   ]
  },
  {
   "cell_type": "code",
   "execution_count": 60,
   "metadata": {
    "colab": {
     "base_uri": "https://localhost:8080/",
     "height": 141
    },
    "colab_type": "code",
    "id": "vR4TDoi5FQvr",
    "outputId": "db08cb2c-952c-4949-d2b0-94c11351264b"
   },
   "outputs": [
    {
     "data": {
      "image/svg+xml": [
       "<svg baseProfile=\"full\" height=\"120.184078347\" version=\"1.1\" width=\"98.8725474746\" xmlns=\"http://www.w3.org/2000/svg\" xmlns:ev=\"http://www.w3.org/2001/xml-events\" xmlns:xlink=\"http://www.w3.org/1999/xlink\"><defs/><rect fill=\"white\" height=\"120.184078347\" width=\"98.8725474746\" x=\"0\" y=\"0\"/><path d=\"M41.5331514304,47.8121304913 m-0.132065089419,-0.818965733051 l-1.78446769714,-4.37339872122 -0.449359863997,-1.68071240187 l0.000442053933511,-3.18809241056 0.000388614498661,-3.89637112617 l0.346569791436,-1.25295981765 1.10776923597,-1.88584446907 l1.73459753394,-1.50131702423 2.03410193324,-0.757536664605 l1.99948683381,-0.00102532932942 0.786211192608,0.968269556761 l0.787319988012,2.56595700979 0.000546700066479,4.06032085419 l-0.822296440601,3.35661351681 -1.45263329148,2.40721821785 l-1.8565261364,1.62552013993 -2.165376544,0.877661034465 l-1.34748280048,0.000444044126198 m15.3083527088,-0.802424028516 l-1.47368788719,-1.27479910851 -1.06197156012,-2.65573889017 l0.000208061137528,-4.3788933754 0.000424580211984,-4.40278887749 l0.612830072641,-1.24189786613 0.911226272583,-0.867653787136 l2.1902307868,-0.0012513724505 2.43894606829,-4.11187374993e-05 l1.87056452036,0.885151997209 1.50832056999,1.92514464259 l0.857977494597,2.64217227697 0.00038065478293,4.15196985006 l-0.435804836452,1.60096615553 -1.34428799152,2.02306777239 l-1.8200494349,1.43815994263 -2.15610936284,0.813227519393 l-1.99906826019,-0.00274521386018 -0.792735591531,-0.654452368617 m-5.3206551075,-0.570695027709 l0.650407522917,3.24591726065 0.431762933731,3.05901706219 l1.05495944619,0.348732098937 1.48608103395,-3.38784664869 l0.99411688745,-2.4404284358 m-12.5001680851,-17.9557824135 l-1.74334436655,-0.494269132614 -2.9695045948,-0.319730080664 l-1.87135264277,0.192461144179 -3.49551528692,1.5555383265 l-2.48406752944,2.06320300698 -1.80969551206,2.53702431917 l-1.31562590599,3.0613130331 -1.043523103,5.44697701931 l0.000178788177436,6.89047813416 0.852816924453,4.29370284081 l2.60408937931,6.39090538025 2.51832842827,4.09500092268 l5.35060226917,7.79427945614 2.07839220762,4.61394906044 l1.2106475234,4.54003036022 0.788104310632,4.97067660093 l0.452739298344,5.35718619823 0.114500746131,3.70851904154 l-0.181541219354,2.67283350229 m2.99266695976,-69.4676494598 l3.46948355436,-0.592494606972 4.990683496,-0.0154769234359 l7.8266787529,0.000340488804795 3.68951737881,0.682502835989 l3.12869757414,1.26171424985 2.70443201065,1.93808957934 l2.12300464511,2.56196171045 1.39556929469,3.11388999224 l0.762749612331,3.80722731352 0.000205539708986,6.73621177673 l-0.92931471765,4.54613059759 -1.62916317582,4.4717541337 l-4.26714062691,10.0283360481 -1.95177778602,5.89771330357 l-1.39518469572,6.74194931984 -0.816034302115,6.8567699194 l0.000380763995054,5.70140123367 0.916537940502,3.6203455925 m-24.9645543098,-40.7061433792 l-0.676299929619,1.41931325197 \" fill=\"none\" stroke=\"black\" stroke-width=\"1\"/></svg>"
      ],
      "text/plain": [
       "<IPython.core.display.SVG object>"
      ]
     },
     "metadata": {
      "tags": []
     },
     "output_type": "display_data"
    }
   ],
   "source": [
    "z_0 = np.random.randn(eval_model.hps.z_size)\n",
    "_ = decode(z_0)"
   ]
  },
  {
   "cell_type": "code",
   "execution_count": 61,
   "metadata": {
    "colab": {
     "base_uri": "https://localhost:8080/",
     "height": 124
    },
    "colab_type": "code",
    "id": "ZX23lTnpFQvt",
    "outputId": "247052f2-a0f3-4046-83d6-d08e0429fafb"
   },
   "outputs": [
    {
     "data": {
      "image/svg+xml": [
       "<svg baseProfile=\"full\" height=\"103.156437427\" version=\"1.1\" width=\"76.648305431\" xmlns=\"http://www.w3.org/2000/svg\" xmlns:ev=\"http://www.w3.org/2001/xml-events\" xmlns:xlink=\"http://www.w3.org/1999/xlink\"><defs/><rect fill=\"white\" height=\"103.156437427\" width=\"76.648305431\" x=\"0\" y=\"0\"/><path d=\"M30.8883420622,36.6583835035 m-0.995773300529,-0.962532013655 l-1.25780984759,-0.218019597232 -1.40090942383,0.992660149932 l-0.372393801808,1.26535490155 0.000324942920997,2.54081487656 l2.14915663004,1.37105837464 2.84446626902,-0.038248966448 l1.78298652172,-1.40427827835 0.542310960591,-1.2151530385 l0.000573818178964,-1.9342289865 -1.05938784778,-0.939038023353 l-1.65580317378,-0.310601554811 -1.80457934737,-0.000348676258 m14.6391928196,-0.161158926785 l-2.02486693859,-0.307609159499 -1.20914362371,0.38025662303 l-0.739323794842,1.18445441127 0.000388190856029,2.24003642797 l0.622321628034,1.16408839822 1.26943454146,0.639028996229 l2.31054648757,-0.00103231774119 1.11591532826,-1.05773642659 l0.44213116169,-1.17794558406 0.000388732260035,-1.77200719714 l-1.0331839323,-0.994495749474 -1.20821401477,-0.38865339011 m-16.152588129,-3.77420336008 l-0.467010885477,-1.32236272097 0.000216794560401,-2.23593533039 l0.536889433861,-0.951604396105 1.89497917891,-1.54288008809 l1.02331995964,-0.484534986317 1.67512059212,2.78331547976 l1.01098768413,2.12751790881 1.01871103048,0.583166591823 l2.8339150548,-0.00180373142939 3.3438757062,-0.00134693458676 l1.97848573327,-0.408469550312 1.85415565968,-2.65968948603 l1.46219432354,-1.96148216724 0.988113284111,-0.702736005187 l0.665459409356,1.20057038963 0.367847532034,3.80023956299 l0.896093249321,2.48109221458 1.19089074433,2.09763258696 l1.12107351422,2.68811970949 0.558211691678,2.99764633179 l0.000272821780527,4.86015558243 -0.471499115229,2.04992577434 l-1.32380709052,2.65444427729 -2.05463215709,2.4544724822 l-1.53617039323,1.19459815323 -2.56061851978,1.20031863451 l-1.98727488518,0.490378327668 -3.72636377811,-0.00252463243669 l-3.93502652645,-0.00249128468568 -4.22447443008,-1.91017463803 l-1.24039359391,-0.983265340328 -1.62764251232,-2.204002738 l-1.05991430581,-2.19169437885 -0.900488123298,-3.36152017117 l0.000405741848226,-5.28376400471 0.902573391795,-2.9702681303 l1.1107198149,-2.02355161309 1.63499593735,-1.74139678478 m1.9375500083,13.9832317829 l0.312917456031,1.85824751854 0.11474234052,4.12313699722 l-0.0538875116035,7.91432976723 -0.643966719508,4.88242715597 l0.000561536653549,5.3577375412 1.29527136683,2.97560691833 l1.7825640738,2.00202897191 m16.6705226898,-28.1058692932 l0.00361886399332,1.26658275723 0.000215576201299,6.46810352802 l-0.537006482482,6.70796096325 -0.929316952825,6.25021696091 l-1.0363136977,3.4180906415 -1.37526676059,2.76081353426 l-1.60482779145,1.93586409092 -1.80750474334,1.16599790752 l-2.25972115993,0.696989372373 -3.09742212296,-0.00153533750563 l-3.02612900734,-1.44728317857 -1.41145452857,-1.26603841782 l-0.82351744175,-1.33597552776 m3.1371742487,-28.3551907539 l-0.547703653574,1.39112636447 0.000170127077581,3.94152343273 l-0.315908491611,3.29748153687 0.000404399033869,5.2682608366 l0.397268608212,3.4574136138 0.783703550696,2.95529693365 l1.17390699685,2.57992863655 1.51531383395,2.06996172667 l1.84660971165,1.4368082583 2.14215010405,0.769138410687 l2.56978332996,-0.00158462222316 1.12708255649,-0.430434010923 l1.45648032427,-1.51706874371 1.08785569668,-2.03530088067 l0.758628696203,-2.57168382406 0.000484488446091,-6.29753828049 l-1.50331735611,-7.86222159863 -0.973793566227,-2.93035626411 l-1.37418434024,-2.40955933928 m-8.96973013878,5.24879395962 l0.316646844149,3.97685259581 -0.293312165886,5.00504136086 l-1.03661946952,4.10920888186 -1.09365604818,2.68685340881 l-1.08828380704,1.99293076992 m12.7954661846,-18.26218009 l-0.208275709301,1.44114002585 0.000343079009326,6.0398119688 l0.660030916333,4.37685281038 1.24237768352,3.50796490908 l1.68879404664,2.58156120777 1.7774233222,1.44173279405 \" fill=\"none\" stroke=\"black\" stroke-width=\"1\"/></svg>"
      ],
      "text/plain": [
       "<IPython.core.display.SVG object>"
      ]
     },
     "metadata": {
      "tags": []
     },
     "output_type": "display_data"
    }
   ],
   "source": [
    "z_1 = np.random.randn(eval_model.hps.z_size)\n",
    "_ = decode(z_1)"
   ]
  },
  {
   "cell_type": "markdown",
   "metadata": {
    "colab_type": "text",
    "id": "7FjQsF_2FQvv"
   },
   "source": [
    "Let's interpolate between the two owls $z_0$ and $z_1$"
   ]
  },
  {
   "cell_type": "code",
   "execution_count": 0,
   "metadata": {
    "colab": {},
    "colab_type": "code",
    "id": "u6G37E8_FQvw"
   },
   "outputs": [],
   "source": [
    "z_list = []  # interpolate spherically between z_0 and z_1\n",
    "N = 10\n",
    "for t in np.linspace(0, 1, N):\n",
    "    z_list.append(slerp(z_0, z_1, t))\n",
    "# for every latent vector in z_list, sample a vector image\n",
    "reconstructions = []\n",
    "for i in range(N):\n",
    "    reconstructions.append([decode(z_list[i], draw_mode=False, temperature=0.1), [0, i]])\n"
   ]
  },
  {
   "cell_type": "code",
   "execution_count": 63,
   "metadata": {
    "colab": {
     "base_uri": "https://localhost:8080/",
     "height": 149
    },
    "colab_type": "code",
    "id": "OULjMktmFQvx",
    "outputId": "94b7b68e-9c57-4a1b-b216-83770fa4be81"
   },
   "outputs": [
    {
     "data": {
      "image/svg+xml": [
       "<svg baseProfile=\"full\" height=\"127.634528333\" version=\"1.1\" width=\"823.798878973\" xmlns=\"http://www.w3.org/2000/svg\" xmlns:ev=\"http://www.w3.org/2001/xml-events\" xmlns:xlink=\"http://www.w3.org/1999/xlink\"><defs/><rect fill=\"white\" height=\"127.634528333\" width=\"823.798878973\" x=\"0\" y=\"0\"/><path d=\"M25,39.7206334291 m0.0,0.0 m30.5419966019,11.0517369621 l-0.130790295079,-0.821970626712 -1.56297296286,-3.44355881214 l-0.810060948133,-2.39335089922 0.000479867303511,-3.22102040052 l0.00033964850445,-3.4874728322 0.361222736537,-1.25992178917 l1.79179653525,-2.81430184841 0.968853756785,-0.829446166754 l0.976286008954,-0.349083021283 1.55968084931,-0.00183026262675 l1.69345319271,0.000776153538027 1.94590568542,0.8236579597 l1.20501965284,1.21577709913 1.11128941178,2.25825056434 l0.554293617606,2.93825089931 0.000441627125838,4.22034591436 l-0.898757427931,2.63696163893 -1.72121822834,2.13380008936 l-2.23780155182,1.35028481483 -2.57068812847,0.560129880905 l-2.11540162563,-0.000537940577487 m13.1173753738,-1.12937137485 l-1.45248651505,-2.17158839107 -0.858646780252,-3.06270509958 l0.000175498753379,-4.44179207087 0.000373504044546,-4.57446634769 l0.627821683884,-1.24458014965 2.52491861582,-1.80173784494 l2.6212644577,-0.278210286051 2.24212855101,-0.000668502034387 l2.06600576639,0.917371958494 1.75203874707,1.91701054573 l1.115347296,2.70106256008 0.000310058385367,4.01920646429 l-0.420222841203,1.88330933452 -1.32658526301,2.41520762444 l-2.9484218359,2.84097313881 -2.43803426623,1.01730525494 l-2.31468617916,-0.00315562268952 -0.943105444312,-0.416952967644 m-5.04852354527,-1.22439056635 l0.805781632662,3.52566123009 0.493544861674,3.00472974777 l1.0788359493,0.254272762686 1.5034507215,-3.73510450125 l0.94768114388,-2.33487918973 0.478246323764,-1.21703073382 m-13.7574493885,-16.3546526432 l-1.78905293345,-0.4019164294 -3.13840001822,-0.238769985735 l-3.06999534369,0.323610752821 -2.62113779783,1.05864740908 l-1.41331672668,1.06020323932 -2.23443478346,3.11014682055 l-1.25897288322,3.24561059475 -0.690835565329,3.78885805607 l0.000223516690312,7.2227948904 0.456801503897,2.63458311558 l3.6786660552,9.34825003147 2.47850447893,4.08075898886 l4.38423395157,5.09459018707 2.70667612553,3.2701292634 l1.95724636316,4.00763303041 1.35410264134,4.67128992081 l1.00941762328,5.45493721962 0.548808388412,4.55319613218 l0.233230181038,3.7197431922 0.100202523172,1.58373504877 m2.68061488867,-68.3304214478 l3.91832828522,-0.852669924498 5.00140190125,-0.116617726162 l6.57204866409,-0.000800323759904 5.22561311722,0.964443534613 l3.02044928074,1.42885655165 2.4911904335,2.16459602118 l1.7647318542,2.68096029758 1.05926975608,3.27105551958 l0.467811375856,4.00178968906 0.000126303402794,6.92094147205 l-0.868806540966,4.39922660589 -1.62944063544,4.47579175234 l-3.5293468833,6.51094794273 -1.19311966002,2.8612524271 l-1.67739748955,5.55614352226 -1.27475112677,6.94986104965 l-0.828429609537,7.33003377914 0.00036673311115,6.69217407703 l0.982491523027,3.42833697796 m52.8225331692,-51.353654896 l-0.179362148046,-0.903369262815 -1.62920743227,-3.28932881355 l-0.906066149473,-2.49898999929 0.00051035771321,-2.59266883135 l0.000347062414221,-3.56523901224 0.417044311762,-1.28570497036 l0.714336559176,-1.13926000893 1.56329080462,-1.13759756088 l2.05199196935,-0.552231259644 1.97985470295,-0.00113819012768 l1.85451850295,-0.00093373026175 1.81085169315,0.768176540732 l1.10954836011,1.12643048167 1.08412787318,2.30088368058 l0.000448344617325,3.53681355715 -0.878088846803,2.79807418585 l-1.68571338058,2.35794946551 -2.19275161624,1.60138115287 l-2.64548152685,0.894314572215 -1.87815189362,-0.000594626653765 m12.3930037022,-0.617486909032 l-1.52933612466,-1.72315716743 -0.887011662126,-2.75651812553 l0.000182019357453,-4.42476809025 1.3707883656,-2.84632474184 l1.5728290379,-1.57970935106 1.64202809334,-0.91292925179 l2.6449996233,-0.00135166454129 2.36448422074,-0.000639804275124 l1.95006385446,0.951049178839 1.55169978738,2.00336158276 l0.812436565757,2.56968408823 0.000299139574054,3.45813453197 l-0.477933250368,1.59525990486 -2.22390562296,2.8340998292 l-2.29320973158,1.43437877297 -2.74989366531,0.754635408521 l-2.61219710112,-0.00356734264642 -1.03377133608,-0.620433427393 m-4.60207283497,-0.27431782335 l0.608859285712,3.18827778101 0.463679693639,3.00901681185 l1.08114145696,0.45674752444 1.53460562229,-3.44289124012 l1.07980199158,-2.40180313587 0.454280935228,-1.312366575 m-15.1842451096,-15.8654558659 l-1.02997995913,-0.825017020106 -1.45095005631,-1.16798393428 l-2.01779410243,-1.55357927084 -1.23885072768,-0.704525560141 l-1.02319248021,0.634009987116 -0.607139021158,3.50802153349 l0.00012148650967,5.41070580482 0.611173994839,7.88442909718 l0.465482994914,4.43518131971 0.323769040406,4.41545695066 l0.000449147046311,6.0367423296 -0.20706359297,5.07031857967 l-0.503461919725,5.78731417656 0.000560363514523,6.66669249535 l-0.471485070884,7.2888302803 -0.438506193459,5.49879789352 l-0.3237805143,3.67199778557 0.000548661919311,3.57043743134 m11.104183197,-66.2080860138 l2.00373500586,-1.04878537357 4.31662708521,-0.776256173849 l6.5754455328,-0.13563061133 5.74898183346,0.000452322128695 l4.55986618996,0.75202472508 1.8173776567,0.771940723062 l2.62529999018,2.26868197322 1.49997621775,2.55439907312 l1.29644319415,4.92528170347 0.410122610629,4.46929842234 l0.000335159820679,9.58780944347 -0.946886688471,7.90147304535 l-1.84304475784,12.9119610786 -0.206860285252,4.28757786751 l-0.58015242219,8.0197685957 0.000626934779575,7.74769306183 l0.422867685556,3.20501327515 m-31.8870425224,-40.0462150574 l-0.334677062929,2.4007178843 -0.906986519694,4.16456341743 l-2.31765970588,11.4139783382 -1.26206621528,12.5019919872 l0.000203833387786,6.15783154964 0.895226895809,4.23945695162 l1.37828230858,2.98432528973 1.79141759872,2.06503599882 l1.0400044173,0.639289170504 3.35244834423,-0.000165914370882 l2.1275998652,-1.51463985443 1.86899617314,-2.10721492767 l1.48964449763,-2.50050365925 2.00253859162,-6.01501584053 l1.29271104932,-4.70144987106 1.34775206447,-5.31910300255 l1.48310825229,-5.70787489414 1.46649762988,-5.44201374054 l1.33307412267,-5.31456291676 0.000822764777695,-4.21725958586 m61.6559273244,-4.90261296676 l-0.2499358356,-0.973245427012 -1.60147592425,-3.11570316553 l-0.915143117309,-2.26915076375 0.000510644676979,-2.65014767647 l0.000407122388424,-3.32929074764 0.799965336919,-2.80272990465 l1.02645479143,-1.78898558021 1.80115193129,-1.54998466372 l2.13864669204,-0.783110186458 2.08690613508,-0.000792611244833 l1.29247441888,0.572999306023 1.0101403296,1.07275612652 l1.41505673528,3.37395519018 0.00045697313908,3.61302882433 l-0.850557014346,2.77189910412 -1.60299569368,2.33769536018 l-2.06033200026,1.60330280662 -2.36028954387,0.84464840591 l-2.00047671795,-0.00041238963604 m14.4678878784,-0.727621018887 l-1.21217057109,-0.479749143124 -1.25503569841,-2.06456318498 l-0.776283815503,-2.35249176621 0.000341463601217,-4.2325425148 l0.440923385322,-1.39623463154 1.45759403706,-2.08148911595 l3.17541331053,-1.87916249037 2.43172690272,-0.662737637758 l2.28218227625,-0.00152959444677 2.40353003144,1.27158209682 l1.41714215279,2.253934443 0.536127649248,1.76419213414 l0.000395833085349,4.01393771172 -1.02319948375,2.54085719585 l-1.73852324486,2.00481504202 -2.29430690408,1.3871447742 l-2.66951411963,0.752961561084 -2.57734894753,-0.00305337423924 l-0.938251167536,-0.56967690587 m-4.89163458347,-1.46632120013 l0.210061259568,2.89982408285 0.240399204195,2.79074788094 l1.11232385039,0.508820153773 1.56081780791,-3.09830069542 l0.850534439087,-2.11142167449 m-14.8002159595,-14.0419638157 l-0.813121497631,-1.38868972659 -1.11049838364,-3.96340280771 l-0.505487024784,-3.23704987764 0.000288551927952,-2.37556517124 l1.53391569853,0.517037622631 2.6571649313,3.03858995438 l2.16991484165,1.87559768558 1.18328556418,0.274827200919 l5.54041206837,-0.00149044804857 5.69408178329,0.000357615026587 l3.30408960581,0.24512430653 1.945887357,-2.71070301533 l1.79663404822,-2.94593334198 1.37577936053,-0.216344185174 l0.515831895173,1.28580510616 0.424680635333,4.53791797161 l1.40811517835,3.06347995996 1.59811541438,3.12219947577 l1.64884999394,4.01267021894 0.792985782027,3.83861362934 l0.000285899568553,7.31781303883 -0.803893879056,6.8384116888 l-0.787903517485,7.48229324818 0.000427966624557,8.54022800922 l0.88324919343,5.74498534203 1.56025320292,5.11777162552 l1.50770366192,4.06079262495 0.984660312533,2.25875556469 l0.833944156766,1.71725198627 m-36.8954205513,-56.2637424469 l-0.880264267325,4.75460022688 -0.000156003807206,7.00348377228 l-0.401933081448,3.11806887388 4.57078976979e-05,8.77735316753 l0.397430583835,3.61073195934 0.000393991613237,6.71302378178 l-0.326395258307,7.05933451653 -0.685609281063,6.76234662533 l0.000558279789402,6.7300850153 1.50117456913,3.84698092937 l1.97450190783,2.53202825785 1.60549938679,1.16397634149 l2.72168368101,0.922264307737 7.54801988602,-0.00362435501302 l11.3597643375,-1.74923568964 5.38321793079,-0.923054069281 l3.23648869991,-0.960977822542 2.15266346931,-1.11026205122 m51.190585993,-47.3265378666 l-0.325097516179,-1.02766491473 -1.58740475774,-2.81963139772 l-0.496437884867,-1.345551759 0.000412638873968,-2.7965003252 l0.405576601624,-1.29251927137 1.3046002388,-1.81248769164 l1.85239076614,-1.3086719811 2.11656033993,-0.592213869095 l2.13125541806,-0.00167130638147 0.872511565685,1.10240653157 l0.485784336925,1.28879278898 0.000589240153204,3.84875655174 l-0.469766668975,1.6539619863 -1.34652882814,1.96149110794 l-1.95556789637,1.48898854852 -2.12111890316,0.656485408545 l-1.4025361836,-0.000973185524344 m13.8680291176,-0.468883477151 l-1.62300050259,-1.43194362521 -0.866491869092,-2.34035298228 l0.000289935487672,-3.43357771635 0.552035272121,-1.30854547024 l2.46056824923,-2.26933687925 1.98312863708,-0.878949388862 l2.29696109891,-0.000886866546352 1.51191100478,0.975754186511 l0.703489854932,1.25734984875 0.555200017989,3.08780550957 l0.000414031892433,3.26215416193 -0.928832739592,1.94857120514 l-1.74360468984,1.47904142737 -2.20217853785,0.698816031218 l-2.28650078177,-0.00238236098085 -0.983224660158,-0.602921694517 m-6.75321996212,1.98995947838 l1.08711756766,2.97036498785 0.981254652143,3.05295169353 l1.11950844526,0.0291469320655 1.67053714395,-3.58214437962 l1.12432926893,-2.2970187664 m-13.1760501862,-17.3487007618 l-1.2356133759,-0.540585443377 -2.13666036725,-0.62606215477 l-2.72865325212,-0.451680906117 -1.44471153617,1.03411287069 l-1.41858071089,2.26227551699 -1.08871996403,3.08398991823 l-0.635373145342,3.56551110744 0.000254862588918,6.51017785072 l0.816975086927,3.79687815905 1.58213689923,3.63917857409 l2.12310776114,3.17707180977 2.57590562105,2.63250410557 l4.56052452326,2.89865493774 2.45143547654,0.912452340126 l3.26452046633,1.21453985572 4.76753532887,-0.00131403663545 l5.07487356663,-0.000410356478824 4.848485291,-1.50639355183 l1.60657346249,-0.867859721184 2.54594802856,-2.14969351888 l2.26510897279,-3.19025933743 1.56942054629,-3.93314242363 l0.757086724043,-4.51413482428 0.000518959277542,-4.79767590761 l-0.954259112477,-4.39687162638 -1.75258055329,-3.92325818539 l-2.55255997181,-3.41270387173 -2.24680349231,-1.98204368353 l-2.29796424508,-1.28891855478 -3.69983375072,-1.23686976731 l-4.21806931496,-0.704758539796 -6.52426183224,0.000328086462105 l-3.66169333458,1.31763696671 -2.78497308493,1.75000548363 l-1.98926284909,1.98830679059 m-2.2672533989,26.2903118134 l-2.26442545652,5.03026545048 -1.33611038327,4.93435740471 l-0.899339467287,7.86151766777 0.000364848638128,10.8255624771 l0.869973450899,4.99467939138 1.44404008985,4.12132918835 l0.693556368351,1.19369789958 m34.1803383827,-40.5099821091 l1.61985903978,3.51911127567 2.55222588778,5.77716350555 l1.45995393395,5.33966124058 0.854368805885,5.63814997673 l0.000405330647482,8.6294054985 -0.912934094667,5.05016028881 l-1.26058027148,3.6746352911 m-31.4236545563,-31.8677663803 l-0.424903593957,3.28575819731 0.000427355807915,7.48115301132 l-0.759705677629,6.12702131271 0.00069423840614,7.09851145744 l0.704740807414,3.89371156693 1.28362551332,3.27984064817 l1.65737554431,2.38226652145 m79.0006326543,-50.2543777708 l-0.416780263186,-1.06199555099 -1.50154173374,-2.41885885596 l-0.512058436871,-1.24042697251 0.000341886043316,-2.52457529306 l0.480119287968,-1.27412557602 1.47541254759,-1.81541264057 l1.99864700437,-1.15871630609 2.09001272917,-0.000955810974119 l2.06985190511,-0.00165669465787 2.38604336977,1.06304742396 l0.659510344267,1.20526403189 0.000530998622708,2.85619974136 l-0.979917496443,2.28274852037 -1.80628687143,1.95621579885 l-2.18871504068,1.12541407347 -1.98705598712,-0.00102360892924 l-0.793442577124,-0.761455819011 m14.0551292896,0.018154050922 l-1.28400698304,-0.264872927219 -1.28174304962,-1.42978772521 l-0.792377069592,-2.35267400742 0.000455076879007,-3.33696901798 l0.718799754977,-1.26918971539 1.8252658844,-1.31339997053 l1.82425558567,-0.645488128066 2.22258657217,-0.000996469170786 l1.69705957174,1.81822285056 0.583887323737,2.38972380757 l0.000372989234165,2.93521761894 -0.942190289497,1.83343142271 l-1.74762994051,1.439781636 -2.09433615208,0.69405041635 l-1.68228954077,-0.00242134541622 m-6.80452525616,1.8393778801 l0.767102688551,2.79139399529 0.809938758612,3.26507896185 l1.13789461553,0.10934847407 1.70728966594,-3.88145178556 l1.06857158244,-2.15136185288 0.307194553316,-0.866142958403 m-11.6463530064,-15.1853978634 l-1.78724274039,-0.366884544492 -2.92251110077,0.0229575810954 l-1.73177063465,0.586917623878 -2.17962294817,1.6172888875 l-1.83954432607,2.36908912659 -1.32284715772,2.90486127138 l-0.798041969538,3.37996393442 0.000269842712441,6.28434002399 l0.495336428285,2.46001943946 2.21409633756,4.8139166832 l2.40289226174,3.35381478071 2.79570937157,2.61169463396 l3.27091425657,1.9451290369 3.9320191741,1.38729885221 l4.16347324848,0.622758939862 4.93512690067,-0.00103522659629 l3.22333157063,-1.19567900896 3.27739089727,-2.20793962479 l2.80399739742,-3.1093621254 2.32149377465,-3.93592119217 l1.43150240183,-4.48892205954 0.571566745639,-4.67611432076 l0.000471211242257,-4.75792199373 -0.318669490516,-1.7632548511 l-1.28150016069,-3.00914555788 -2.34218865633,-3.1579887867 l-2.21702203155,-1.91340237856 -2.34397724271,-1.3549092412 l-3.5394269228,-1.16656459868 -4.47671055794,-1.29196359921e-05 l-3.45596283674,0.576142668724 -3.19617658854,0.907781124115 l-2.60936528444,1.38878077269 m-6.77404463291,27.6452159882 l-1.11590951681,1.89046144485 -1.23138897121,3.85950535536 l-1.10842049122,7.54696369171 0.000418874697061,8.56761097908 l0.86516790092,5.05858123302 2.45620682836,6.89957857132 l2.18113973737,3.49367856979 0.907825008035,0.863580256701 m26.6404986382,-41.0072231293 l1.84778258204,3.26468706131 2.56323099136,5.76764166355 l1.3730494678,5.01485049725 0.697667524219,5.2431422472 l0.000388381595258,8.38680624962 -0.938927382231,4.72693651915 l-2.12207764387,5.37095546722 -1.82545736432,2.83081948757 m-25.7137441635,-35.8385896683 l-0.505716241896,3.23456138372 0.000396324830945,5.29859304428 l-0.827699750662,5.87381601334 0.000648614732199,7.00699448586 l0.73874861002,4.30275589228 1.29846870899,3.52555632591 l1.61661684513,2.45787337422 2.13002234697,1.85661748052 m76.1827350649,-36.2983267465 l-0.51702812314,-1.08335204422 -1.4322322607,-1.97946250439 l-1.07454836369,-1.57349377871 -0.74816249311,-2.13636830449 l0.000421872464358,-2.75016516447 1.90875545144,-2.07578092813 l2.66664087772,-1.1080801487 2.74583131075,-0.000870406875038 l2.25593686104,-0.00126838378492 1.21775902808,0.614170990884 l1.16811066866,1.59288719296 0.569130554795,2.31776550412 l0.000491006030643,3.33604902029 -0.478843972087,1.52990758419 l-1.49310335517,1.78290426731 -2.20270186663,1.18647806346 l-2.67295718193,-0.00253633130342 -1.12309157848,-0.791810527444 m14.3565130234,-0.458807162941 l-1.4042943716,-0.451873056591 -1.38546466827,-1.71758472919 l-0.826073139906,-1.97881385684 0.00044392530981,-3.35835129023 l0.522440932691,-1.31678819656 1.58863782883,-1.80319085717 l1.64433538914,-1.03909738362 2.60703384876,-0.000442741365987 l2.0737862587,-0.00184107542736 1.79115355015,1.84860631824 l0.686925202608,2.46646910906 0.000392608308175,3.02072137594 l-0.96096470952,2.09842219949 -1.71011134982,1.57539948821 l-2.19580993056,0.924235135317 -1.96822851896,-0.0026500961394 l-0.877259746194,-0.574898757041 m-6.86478078365,1.53834536672 l0.848864242435,3.08800429106 0.778436660767,3.24190884829 l1.13188095391,-0.0674055144191 1.65711596608,-3.73753637075 l0.984783545136,-2.06133186817 0.543485246599,-1.04398831725 m-13.3924627304,-14.4211530685 l-0.969575494528,-1.13456651568 -1.26641452312,-1.45128637552 l-1.78922042251,-1.95494160056 -1.31811231375,-0.613924264908 l-1.14559277892,1.70829430223 -0.695128440857,4.23559367657 l3.42106750395e-05,5.24870812893 0.804761275649,1.96952223778 l1.74275070429,2.14265882969 2.45432406664,1.8966011703 l3.05670946836,1.43580406904 3.29165965319,0.769183039665 l4.03581261635,-0.00109470754978 2.93546110392,-0.847530215979 l2.68586486578,-1.61356434226 2.22474336624,-2.24576830864 l1.69532880187,-2.7893447876 1.76620900631,-4.99587714672 l0.370677523315,-3.75900149345 0.000371719070245,-3.45907002687 l-0.870975628495,-2.6864361763 -1.19229540229,-1.90877482295 l-1.46578758955,-1.38907685876 -1.71806946397,-0.881410166621 l-3.09140354395,-0.000916100179893 -5.5506670475,1.8323995173 l-1.88886195421,1.10790632665 -2.99023747444,2.86274552345 l-1.47118404508,2.3911011219 -0.894187763333,2.46529966593 m-2.15667426586,16.1919915676 l-2.07507938147,4.17045712471 -0.833368301392,2.73119568825 l-0.887925550342,6.74694240093 0.000336674638675,9.98459815979 l0.874853506684,4.69367384911 1.51388078928,4.04951781034 l1.97280317545,3.45547199249 0.953771024942,1.08552604914 l0.925487056375,0.859417393804 m19.6934378147,-41.147646904 l1.85005813837,3.65509659052 2.30564892292,5.62209665775 l1.27959489822,5.14465689659 0.56879658252,4.96952056885 l0.000334055330313,8.30309867859 -0.459054708481,2.76946187019 l-1.26360550523,3.69456291199 -1.67463004589,3.10261458158 l-1.91233977675,2.2072955966 -2.25123330951,1.62933573127 m-16.694663763,-36.6129541397 l-0.412125475705,1.27202302217 0.000406092294725,6.43807590008 l-0.852780416608,6.2772333622 0.000606488865742,6.90450072289 l1.26594632864,4.25829350948 1.70608833432,3.1294542551 l2.03973948956,2.36505180597 2.36145719886,1.59535452724 l2.61937111616,0.859825387597 3.31046849489,-0.00242982365307 m66.0476814943,-41.6967522914 l-0.630320459604,-1.07970029116 -1.38414129615,-1.44314557314 l-1.20434328914,-1.04303881526 -0.660619735718,-1.03845693171 l0.000452837557532,-1.79027080536 1.67989820242,-1.51453509927 l2.53846079111,-0.873821899295 3.04272919893,-0.00060365859099 l2.25103721023,-0.00242953727138 1.78341820836,0.701807439327 l1.67451918125,2.2011873126 0.329182371497,2.29681640863 l0.000358741308446,2.36451879144 -0.953265950084,1.87757670879 l-1.9005446136,1.39409959316 -2.50974535942,0.621254108846 l-2.94954270124,-0.00204546449822 -1.20456770062,-1.17760777473 l-0.72379052639,-1.46287366748 0.000261932636931,-2.22977295518 m15.9408557415,2.14839652181 l-1.37034803629,-0.634720176458 -1.04825638235,-1.79842457175 l-0.48567019403,-1.95490777493 0.000424394529546,-2.78475940228 l0.694731622934,-1.25697925687 1.11008949578,-0.972920656204 l1.43588542938,-0.630341619253 2.6846164465,-0.00116519848234 l2.0672865212,-0.00181803610758 1.73685416579,0.811390653253 l1.35139808059,1.6724511981 0.685455650091,2.25960746408 l0.000316185360134,2.45379984379 -0.958679690957,1.88456609845 l-1.79835289717,1.43165677786 -2.43143931031,0.870523527265 l-2.65807300806,-0.00192889609025 -1.23034536839,-0.871018767357 l-0.767924264073,-1.19280077517 m-4.61312264204,2.72068142891 l0.698530226946,2.81727701426 0.674485564232,3.25220137835 l1.10265344381,0.298127904534 1.49575680494,-3.44419002533 l0.889492854476,-2.27116331458 0.3993229568,-1.11179664731 m-13.8427197933,-13.3704280853 l-1.2237431854,-0.70929788053 -1.89120516181,-0.863794460893 l-2.58308291435,-1.05456314981 -1.32351219654,-0.098920725286 l-0.504367426038,1.23058617115 0.000229653251154,4.19683218002 l0.744956955314,3.27562451363 1.35505959392,2.97720491886 l0.97626388073,3.63566875458 0.557878799736,4.11951363087 l0.000487413090013,5.93688905239 -0.0946762878448,4.79186505079 l-0.335414819419,5.33804118633 -0.61593234539,5.36439836025 l0.000457089226984,6.29867553711 -0.246236566454,4.0409001708 l-0.0920589081943,3.48611533642 m10.3075218201,-52.7445602417 l2.56941258907,-1.51466846466 2.90668696165,-0.989322513342 l3.43285888433,-0.509666241705 3.99251759052,0.00105849219835 l3.50525438786,0.897151753306 2.09050416946,1.42907142639 l1.62909448147,2.0798908174 0.755064934492,1.67989388108 l0.895909070969,4.20485675335 0.000489128033223,6.61213159561 l-1.00733689964,6.54142260551 -0.813137441874,6.95042312145 l-0.754745975137,7.72281169891 0.000587730974075,7.92731404305 l0.985302403569,5.63568949699 1.13147564232,3.41360628605 l0.855265185237,2.15260714293 m-25.7305669785,-30.9905099869 l0.0706202723086,1.2890407443 -0.0253698951565,3.37718844414 l-0.62276609242,4.56329196692 -1.46163731813,4.64337855577 l-1.20627716184,2.9914984107 -1.36925131083,2.92582720518 l-1.38834267855,2.60112762451 -1.37277469039,2.18363925815 l-1.28426834941,1.67273774743 -1.15242682397,1.32617861032 l-1.02851226926,0.814017578959 m29.059844017,-27.4291801453 l-0.247904285789,4.20502752066 0.000344008949469,8.77690732479 l0.440290607512,3.271920681 2.0962497592,6.47288382053 l2.19896391034,3.81886273623 2.35303014517,2.39341273904 l1.11309848726,0.711055397987 m55.1776451302,-45.3851442425 l-0.751753747463,-1.06452710927 -1.36417075992,-0.918807610869 l-1.32935702801,-0.363004282117 -0.657733008265,0.969035997987 l0.000410609172832,2.08173707128 1.58055558801,1.04527361691 l2.02506706119,-0.00362427410437 0.949966013432,-0.968381687999 l0.310658887029,-1.25607326627 0.000632205410511,-1.21998012066 l-1.11182101071,-0.636424645782 m12.5416755676,0.469818599522 l-1.61938518286,-0.445644184947 -1.16884618998,0.325764343143 l-0.630944669247,1.18300415576 0.00035137818486,1.58500850201 l1.19325481355,0.731989964843 1.83346182108,-0.00114672599011 l0.810665488243,-1.10344588757 0.00055762950069,-1.53713300824 l-1.05414286256,-0.860403701663 m-8.03210377693,6.90684080124 l0.50307739526,2.50208556652 1.08822286129,0.868865028024 l0.861584693193,-1.09511807561 0.690302029252,-2.17076838017 m-5.92491209507,-13.9782476425 l-2.73755133152,-0.233703888953 -1.97024449706,0.474371723831 l-2.57601082325,1.46930292249 -1.27536028624,1.16025999188 l-1.41406148672,2.17563837767 -0.9199937433,2.73187577724 l0.00026509309464,4.52482163906 0.837512612343,3.07286292315 l1.59472361207,2.73481667042 2.34488204122,2.50400543213 l2.72221177816,1.78533479571 3.40269088745,1.22107744217 l3.85625064373,0.54707352072 4.81590092182,-0.00139303214382 l3.29679787159,-0.85810251534 4.05374020338,-2.53908485174 l1.27387970686,-1.32283315063 1.05048976839,-1.64842143655 l0.699850767851,-1.89622357488 0.000470024388051,-3.99602383375 l-1.3692907989,-3.29815804958 -1.65363684297,-2.3967756331 l-1.88457101583,-1.89647093415 -3.03887844086,-2.05237701535 l-3.50284725428,-1.48421570659 -2.82186239958,-0.685305818915 l-4.25023883581,-0.000107645028038 -1.08282409608,0.348688773811 m-5.96948325634,12.2877955437 l-1.04313015938,1.0403444618 -1.9506521523,3.84390741587 l-1.17220938206,3.79230856895 -0.478378795087,2.62153923512 l0.000283642511931,7.08209633827 0.76754681766,4.85586583614 l1.43454253674,4.53019946814 1.8475882709,3.88401448727 l2.17781990767,3.1462725997 1.01579889655,1.01225070655 l1.9778047502,1.24997586012 m19.3976044655,-34.1788864136 l1.41823455691,3.02997916937 2.14048057795,5.36864042282 l1.04249283671,4.8798006773 0.000301164564007,5.9561419487 l-0.487733148038,2.72145450115 -2.17538803816,5.72049319744 l-2.00243756175,3.26363116503 -2.35079422593,2.65599489212 l-2.35545888543,1.66222423315 -2.74458885193,1.11508540809 l-2.92175680399,0.474348440766 -3.53183835745,-0.00145876983879 l-3.13926458359,-0.00267292169156 -1.39905393124,-0.64115524292 l-1.41919881105,-1.46951138973 m2.58654266596,-31.420044899 l2.64671416517e-05,3.39411377907 -0.462911203504,4.9263510108 l-0.695133879781,2.34287768602 -1.11330524087,3.31299781799 l-1.3504627347,3.3070987463 -1.25915423036,2.70623862743 l-1.24585904181,2.40021079779 m19.2379868031,-22.808175087 l-0.199472550303,1.32352113724 0.00032557243685,6.62100255489 l0.433918759227,3.01757931709 1.2987267971,4.08638328314 l1.91109642386,3.72742325068 2.23751112819,2.89947330952 l2.0837777853,1.65551543236 m58.3384857869,-33.6488287262 l-0.876092016697,-1.02708421648 -1.29731014371,-0.539417490363 l-1.3404417038,0.381380990148 -0.51209975034,1.14463582635 l0.000357170065399,2.21391484141 1.97841063142,1.1256570369 l2.66367763281,-0.00309213879518 1.07505045831,-0.882010608912 l0.402438938618,-1.23659215868 0.000607694018981,-1.48783966899 l-1.09604239464,-0.869505405426 -1.38212785125,-0.00120175245684 m13.8076913357,-0.0472603039816 l-1.26978740096,-0.452922210097 -1.84547543526,-0.00327180925524 l-1.13165095448,0.599878877401 -0.474757701159,1.18743374944 l0.000385109815397,1.69430673122 1.18735723197,0.902944803238 l1.24237895012,0.246581565589 2.00685173273,-0.0015676971816 l0.894379764795,-1.0955735296 0.157792232931,-1.20785906911 l-0.390456020832,-1.1469065398 -1.18102543056,-0.694138854742 m-9.0473729372,7.45889246464 l0.572684891522,2.28107899427 0.803679376841,2.84115642309 l1.00440368056,0.102620171383 1.52071461082,-3.38606923819 l0.864886716008,-1.73639073968 m-6.91937744617,-13.8740348816 l-1.26494973898,-0.172844994813 -2.34373897314,0.00434943591245 l-1.86968833208,0.617401897907 -2.22391828895,1.55403122306 l-1.92689687014,2.24592328072 -1.3674351573,2.69720345736 l-0.810299366713,3.14028173685 0.000241421948886,5.68590581417 l0.462806001306,2.11201697588 1.39054566622,2.99430578947 l1.99030339718,2.62859255075 2.6132646203,2.1607452631 l3.17680746317,1.55173793435 3.84334206581,0.970321595669 l4.53278571367,-0.00126971644931 1.73444032669,-0.33052586019 l2.86441087723,-1.25082656741 2.40879699588,-1.59085467458 l2.63124912977,-2.74596631527 1.95029124618,-3.48470777273 l0.9773029387,-3.10508340597 0.360063351691,-3.93610447645 l0.000492912186019,-3.96067112684 -0.590093582869,-2.67132371664 l-0.997436493635,-2.08807423711 -1.36532813311,-1.67200744152 l-1.71528801322,-1.31090730429 -3.01587194204,-1.33746027946 l-2.69269764423,-0.652269348502 -4.73012506962,2.72586817118e-05 l-3.33683818579,0.853268355131 -2.39291504025,1.33195385337 m-6.55800163746,21.5277862549 l-1.24352440238,1.02286271751 -1.27860844135,2.85722732544 l-0.672307536006,2.34586119652 -0.801674500108,5.95492422581 l0.000411290166085,8.09978485107 0.436434485018,2.81491339207 l1.22994259,3.59744131565 1.57458588481,2.7224946022 l0.879195034504,0.945283547044 m25.2247023582,-30.7211470604 l1.47153452039,2.62647151947 1.17972947657,2.64084964991 l1.10564693809,4.20002222061 0.56057151407,4.74607467651 l0.000423226229032,7.54796147346 -0.440599247813,2.69727051258 l-1.12323626876,3.22731524706 -1.46953687072,2.54439234734 l-1.12294510007,1.26452416182 m-22.7179026604,-27.745552063 l-0.828561559319,2.26100638509 0.000305618887069,6.39577627182 l0.377051904798,3.02697628736 1.49216085672,5.80932855606 l1.3592684269,3.38474273682 1.64657026529,2.73404806852 l1.85824811459,1.93418651819 2.24474519491,1.35217279196 l2.55223661661,0.704762861133 3.34960848093,-0.000796566600911 l1.34126365185,-0.394208431244 1.74678459764,-1.33935630322 l1.38376072049,-1.81884229183 1.47344216704,-3.36295127869 l0.808649659157,-3.38815391064 0.000505927055201,-6.56934559345 l-0.322452373803,-2.13461071253 -1.05832204223,-3.14537078142 l-0.714406818151,-1.22510574758 -1.44798055291,-1.44074425101 m-15.925116539,3.05309087038 l0.026816574391,3.66672158241 0.000587906724832,7.41976559162 l-0.746965333819,4.5230153203 -0.806965827942,2.93621897697 l-0.896343812346,1.90981268883 m82.8348973958,-40.4269916846 l-0.999728292227,-0.974134355783 -1.27438277006,-0.163945220411 l-1.42698764801,1.0501217097 -0.369896329939,1.2484011054 l0.000311708317895,2.48387634754 2.14833050966,1.31545767188 l3.0698466301,-0.00279536121525 1.73688262701,-1.48626789451 l0.495054088533,-1.24048091471 0.000576097227167,-1.83290377259 l-1.03599637747,-0.972305014729 -1.21719606221,-0.371024534106 l-1.86505272985,-0.000119413325592 m14.1238558292,-0.0576347345486 l-1.7286221683,-0.36389414221 -1.21026992798,0.375123769045 l-0.786892101169,1.14912107587 -0.39383802563,1.65964514017 l0.000397723524657,1.91450074315 1.20808698237,0.947450101376 l1.27094477415,0.236010029912 2.07176074386,-0.00152339867782 l1.13885566592,-1.04630172253 0.403980091214,-1.22902952135 l0.00042817024223,-2.09738865495 -1.05666697025,-1.02290116251 l-1.24261200428,-0.448517128825 m-16.4372742176,-2.80802190304 l-0.595738179982,-1.12592421472 0.000258116124314,-2.44146645069 l0.795838311315,-4.32859450579 0.960134491324,-0.617695897818 l1.09767489135,1.07593804598 1.94048374891,3.67244154215 l0.997191146016,0.947300866246 1.07337631285,0.363829024136 l3.40076208115,-0.00127202874864 3.69897305965,-0.00086203290266 l1.63971945643,-2.13487520814 1.38979494572,-2.8683796525 l1.22766137123,-0.707580447197 0.690216720104,1.2513230741 l0.889390036464,4.01379078627 1.16888657212,2.18552440405 l1.07371598482,1.95721298456 0.665598064661,2.38928005099 l0.000330782604578,3.47689419985 -0.779838487506,2.9570415616 l-1.55338555574,2.8175291419 -1.90223991871,2.11039096117 l-2.51513749361,1.69424295425 -2.98896551132,1.03450156748 l-3.78990828991,-0.00183241310879 -3.7328350544,-0.00271177879767 l-1.71749636531,-0.429943911731 -2.08786830306,-1.19407214224 l-1.98226809502,-2.22397044301 -1.12415261567,-2.07972496748 l-1.16733931005,-4.44190382957 0.000383061960747,-3.63925814629 l1.18776932359,-2.19909548759 0.856132805347,-0.869803652167 l1.48697406054,-0.8121535182 m1.74165770411,12.2782289982 l-1.16126105189,0.527214743197 -1.37112975121,1.99086859822 l-1.38560578227,3.15928220749 -0.651643797755,2.30533927679 l-0.729406774044,5.45907437801 0.000346618617186,6.79511725903 l1.44563481212,4.47979211807 1.78973510861,2.82288223505 l2.26401314139,2.23428621888 1.17920883,0.726220682263 m17.5492656231,-30.1996254921 l1.51164785028,2.34453842044 2.30743199587,4.53960716724 l1.17536053061,4.40133363008 0.374237298965,4.18218284845 l0.000332721538143,5.88147342205 -0.457470715046,2.42084816098 l-1.19290329516,2.8031334281 -1.65060773492,2.36213862896 l-2.07548141479,1.80722430348 -2.35801994801,1.1459364742 l-2.9318985343,0.718569532037 -3.82491499186,-0.00167521226103 l-3.87635111809,-0.00146649850649 -1.81781336665,-0.545956715941 l-2.6452472806,-1.67555943131 m2.53662109375,-29.7807073593 l-0.602197311819,1.36803984642 0.000226694082812,4.14378941059 l-0.628662705421,4.27623867989 0.000455667286587,6.54338359833 l0.538899637759,3.64822655916 0.902795493603,3.07222336531 l1.17154687643,2.38102242351 1.50201693177,1.76833584905 m10.3620994091,-26.689157486 l0.383753217757,3.55042040348 0.000266716233455,6.26250326633 l-1.01631008089,6.61549568176 -1.81167647243,6.2830477953 l-1.03852793574,3.55208754539 \" fill=\"none\" stroke=\"black\" stroke-width=\"1\"/></svg>"
      ],
      "text/plain": [
       "<IPython.core.display.SVG object>"
      ]
     },
     "metadata": {
      "tags": []
     },
     "output_type": "display_data"
    }
   ],
   "source": [
    "stroke_grid = make_grid_svg(reconstructions)\n",
    "draw_strokes(stroke_grid)"
   ]
  },
  {
   "cell_type": "markdown",
   "metadata": {
    "colab_type": "text",
    "id": "OiXNC-YsFQv0"
   },
   "source": [
    "Let's load the model trained on both cats and buses!  catbus!"
   ]
  },
  {
   "cell_type": "code",
   "execution_count": 0,
   "metadata": {
    "colab": {},
    "colab_type": "code",
    "id": "SL7WpDDQFQv0"
   },
   "outputs": [],
   "source": [
    "model_dir = '/tmp/sketch_rnn/models/catbus/lstm'"
   ]
  },
  {
   "cell_type": "code",
   "execution_count": 65,
   "metadata": {
    "colab": {
     "base_uri": "https://localhost:8080/",
     "height": 255
    },
    "colab_type": "code",
    "id": "Cvk5WOqHFQv2",
    "outputId": "8081d53d-52d6-4d18-f973-a9dd44c897f2"
   },
   "outputs": [
    {
     "name": "stdout",
     "output_type": "stream",
     "text": [
      "INFO:tensorflow:Model using gpu.\n",
      "INFO:tensorflow:Input dropout mode = False.\n",
      "INFO:tensorflow:Output dropout mode = False.\n",
      "INFO:tensorflow:Recurrent dropout mode = False.\n",
      "INFO:tensorflow:Model using gpu.\n",
      "INFO:tensorflow:Input dropout mode = 0.\n",
      "INFO:tensorflow:Output dropout mode = 0.\n",
      "INFO:tensorflow:Recurrent dropout mode = 0.\n",
      "INFO:tensorflow:Model using gpu.\n",
      "INFO:tensorflow:Input dropout mode = 0.\n",
      "INFO:tensorflow:Output dropout mode = 0.\n",
      "INFO:tensorflow:Recurrent dropout mode = 0.\n",
      "INFO:tensorflow:Loading model /tmp/sketch_rnn/models/catbus/lstm/vector.\n",
      "INFO:tensorflow:Restoring parameters from /tmp/sketch_rnn/models/catbus/lstm/vector\n"
     ]
    }
   ],
   "source": [
    "[hps_model, eval_hps_model, sample_hps_model] = load_model_compatible(model_dir)\n",
    "# construct the sketch-rnn model here:\n",
    "reset_graph()\n",
    "model = Model(hps_model)\n",
    "eval_model = Model(eval_hps_model, reuse=True)\n",
    "sample_model = Model(sample_hps_model, reuse=True)\n",
    "sess = tf.InteractiveSession()\n",
    "sess.run(tf.global_variables_initializer())\n",
    "# loads the weights from checkpoint into our model\n",
    "load_checkpoint(sess, model_dir)"
   ]
  },
  {
   "cell_type": "code",
   "execution_count": 73,
   "metadata": {
    "colab": {
     "base_uri": "https://localhost:8080/",
     "height": 106
    },
    "colab_type": "code",
    "id": "icvlBPVkFQv5",
    "outputId": "f7b415fe-4d65-4b00-c0eb-fb592597dba2"
   },
   "outputs": [
    {
     "data": {
      "image/svg+xml": [
       "<svg baseProfile=\"full\" height=\"85.0024624268\" version=\"1.1\" width=\"97.0106323063\" xmlns=\"http://www.w3.org/2000/svg\" xmlns:ev=\"http://www.w3.org/2001/xml-events\" xmlns:xlink=\"http://www.w3.org/1999/xlink\"><defs/><rect fill=\"white\" height=\"85.0024624268\" width=\"97.0106323063\" x=\"0\" y=\"0\"/><path d=\"M46.3545013685,33.7004358135 m-1.67252272367,0.394050441682 l-2.03154876828,1.45254462957 -1.77578791976,1.80640622973 l-1.6109457612,2.1960131824 -1.18691310287,2.34753742814 l-0.678012892604,2.30114400387 -0.20122455433,2.21701934934 l0.332671366632,2.12932109833 1.03898189962,1.93650469184 l1.74471467733,1.76480427384 2.42952331901,1.4399163425 l3.00780057907,0.961375236511 3.41435223818,0.406128205359 l3.47424894571,-0.119643304497 3.25872182846,-0.736866593361 l2.82667756081,-1.2964771688 2.19879046082,-1.72045439482 l1.47952780128,-2.00524181128 0.781586319208,-2.26519107819 l0.0863485690206,-2.36544474959 -0.624918863177,-2.38882064819 l-1.35048046708,-2.27941468358 -2.01366201043,-2.13800251484 l-2.45773822069,-1.7978258431 -2.69231259823,-1.3554097712 l-2.68344372511,-0.840844660997 -2.60668128729,-0.349534451962 l-2.29395762086,0.0881606899202 -1.97751566768,0.484185256064 m-4.22170132399,5.59232115746 l-0.858224183321,-0.992628484964 -1.42562314868,-2.25309178233 l-1.4492110908,-2.57754087448 -2.78117597103,-5.97079396248 l-0.8167950809,-2.6043471694 1.32482737303,-0.160294082016 l1.46054670215,0.706794261932 5.88625133038,3.87950181961 l3.83870124817,3.03945600986 1.23776055872,0.720141157508 m9.16391193867,1.79712742567 l1.0277723521,-0.794012546539 4.92988169193,-3.58641952276 l7.03148722649,-4.49979126453 1.72269210219,-0.779656022787 l0.18622552976,1.22162371874 -1.75484806299,3.27743798494 l-3.89630943537,6.59069061279 -1.24373376369,2.57274150848 l-0.521678514779,1.66077747941 m-15.3570437431,4.34784531593 l-0.703595504165,-0.366752743721 -2.21099600196,-0.000145574467751 l-5.26128053665,0.468756966293 -6.46269977093,1.18766956031 l-6.91953063011,2.10482001305 -1.49639204144,0.736465454102 m21.9713330269,-1.93512454629 l-2.08371579647,0.242639295757 -2.40464165807,0.793681591749 l-4.48679834604,2.26089000702 -3.41465473175,2.18791306019 l-2.46110990644,1.95080041885 m16.475225687,-5.77536463737 l-1.67380392551,0.825476571918 -5.39076983929,4.59509968758 l-2.86009788513,3.01156193018 -1.92672237754,2.55981743336 m18.4251654148,-15.2193069458 l1.54628425837,-0.425299890339 5.11826336384,-1.03468291461 l4.404476583,-0.45712724328 5.77219843864,0.0480564497411 m-16.6457545757,5.08838534355 l4.32074040174,0.242472905666 5.61843752861,1.09646350145 l3.88478636742,1.24357588589 2.69302010536,1.29176437855 m-16.8987333775,-1.01418435574 l3.28390866518,1.62312328815 4.95268970728,2.7775490284 l4.96877580881,3.17819237709 \" fill=\"none\" stroke=\"black\" stroke-width=\"1\"/></svg>"
      ],
      "text/plain": [
       "<IPython.core.display.SVG object>"
      ]
     },
     "metadata": {
      "tags": []
     },
     "output_type": "display_data"
    }
   ],
   "source": [
    "z_1 = np.random.randn(eval_model.hps.z_size)\n",
    "_ = decode(z_1)"
   ]
  },
  {
   "cell_type": "code",
   "execution_count": 77,
   "metadata": {
    "colab": {
     "base_uri": "https://localhost:8080/",
     "height": 88
    },
    "colab_type": "code",
    "id": "uaNxd0LuFQv-",
    "outputId": "4de5ee9a-cf14-49f4-e5f5-399a0d0b8215"
   },
   "outputs": [
    {
     "data": {
      "image/svg+xml": [
       "<svg baseProfile=\"full\" height=\"67.3315515471\" version=\"1.1\" width=\"97.5152636358\" xmlns=\"http://www.w3.org/2000/svg\" xmlns:ev=\"http://www.w3.org/2001/xml-events\" xmlns:xlink=\"http://www.w3.org/1999/xlink\"><defs/><rect fill=\"white\" height=\"67.3315515471\" width=\"97.5152636358\" x=\"0\" y=\"0\"/><path d=\"M29.9867404057,33.2670614123 m0.805409103632,-0.833975374699 l0.307652484626,-2.26678669453 0.151711469516,-3.54340940714 l0.245695672929,-1.62288993597 1.97277218103,0.558484233916 l9.41576838493,0.598074384034 1.79785534739,-0.0017053897318 l8.29492747784,0.0356167810969 0.235580727458,0.256019569933 l-0.0790408626199,4.21960532665 -0.012879089918,0.991931930184 l0.238454733044,0.568543076515 1.72342002392,0.0859044771641 l3.79813492298,0.127453990281 3.35740298033,0.193893890828 l2.98197507858,0.242248829454 2.23931834102,0.237911213189 l0.467457100749,1.53499528766 -6.0118318288e-05,1.97919502854 l-0.358457006514,0.899271965027 -1.3161124289,0.617377273738 l-1.56984224916,0.285860393196 -10.0039458275,-2.17749629883e-05 l-5.3582406044,-0.0280871801078 -17.0182836056,-0.501958318055 l-2.51457840204,-0.427288264036 -3.71798098087,-0.000259167863987 l-0.701615363359,-0.541000440717 -0.369239896536,-0.776930525899 l0.101714814082,-2.19061970711 0.609980300069,-2.19438523054 l0.583609454334,-0.528184100986 1.46566271782,-0.540503934026 l4.08039957285,-0.000195461961994 m28.6143398285,3.29255849123 l0.701352730393,-0.000361385791621 3.46933543682,0.0793636124581 l3.49189370871,-0.0329374009743 0.17093334347,0.102780237794 l-2.13421202488e-06,0.437825731933 -0.109605332837,1.93959712982 l-0.176565013826,1.56886965036 -0.811747461557,0.48882830888 l-9.52714025974,-0.269736666232 -2.52711653709,-0.335641019046 l-1.11822590232,-0.269015040249 -0.65738119185,-0.333181209862 l-0.345065407455,-0.51040943712 2.87700959234e-05,-1.82359144092 l0.546319633722,-2.12298080325 0.640969648957,-1.13863490522 m-21.3961911201,0.175616070628 l0.123352808878,1.75562694669 0.0747249089181,1.63561850786 l9.42731380463,0.0902032107115 1.62131980062,0.176886226982 l9.18411612511,0.247723404318 8.82574737072,-0.0572470016778 l2.63554483652,-0.0353826978244 0.296976547688,-0.193656068295 l0.000153735891217,-1.33447080851 -0.782406032085,-1.43808186054 l-0.364653207362,-0.214961729944 -15.9434425831,-0.106446798891 l-4.01207536459,-0.365686267614 -8.76956820488,-0.289525035769 l-1.16007901728,-0.147831970826 m2.86592900753,0.15889108181 l0.217890720814,2.00570434332 0.197594668716,0.598792210221 m4.64557051659,-2.32862919569 l0.539546869695,2.49007418752 0.32267279923,-0.0375697994605 m5.02432882786,-2.40153804421 l0.819848701358,2.54082530737 0.324251390994,0.343451648951 m4.47809964418,-2.83502340317 l0.971145778894,2.4656496942 0.412364751101,0.0167141086422 m4.11571443081,-2.65937894583 l0.979021638632,2.4001275003 0.346556939185,0.233826283365 l0.617895312607,-0.000109118318505 m3.05825412273,-2.66095519066 l0.814893916249,2.26838067174 0.360139980912,0.908551961184 l0.277478862554,0.294007174671 m-25.8793306351,2.12347775698 l-0.513627231121,-0.000485890341224 -0.521563515067,0.404155403376 l-0.36268081516,0.635671690106 3.32933063873e-05,0.870118141174 l0.307805500925,0.411691330373 0.911298170686,0.451387614012 l1.59308031201,-0.000136071012093 0.5957833305,-0.689334720373 l-2.61452532868e-05,-1.03384450078 -0.524161532521,-0.614503696561 l-0.852187871933,-0.328905619681 -1.14544011652,-0.000197982080863 l-0.176711063832,0.567854233086 m24.4003796577,0.548551231623 l-1.17612704635,0.419630333781 -0.6187973544,0.660637766123 l-0.190389137715,0.672465264797 0.306343305856,0.88217549026 l0.701067596674,0.531736761332 1.27594053745,0.344648398459 l1.61455705762,-6.17346495346e-05 0.655116811395,-0.625963658094 l4.13193492932e-05,-1.13174140453 -0.550770349801,-0.795240625739 l-1.00279971957,-0.554721839726 -1.46591112018,-0.33558037132 l-1.39785453677,-0.000171943738678 m-27.5255537033,-4.18329238892 l0.861325189471,-0.000235227307712 3.75310570002,-0.000122374522107 l8.99283826351,0.360180735588 5.18573880196,0.210896059871 l5.27216970921,0.231435690075 5.06657361984,0.14730297029 l1.9112432003,0.0967795029283 3.54516118765,0.234489161521 l1.4175029099,0.00369216315448 2.69836604595,0.186217669398 \" fill=\"none\" stroke=\"black\" stroke-width=\"1\"/></svg>"
      ],
      "text/plain": [
       "<IPython.core.display.SVG object>"
      ]
     },
     "metadata": {
      "tags": []
     },
     "output_type": "display_data"
    }
   ],
   "source": [
    "z_0 = np.random.randn(eval_model.hps.z_size)\n",
    "_ = decode(z_0)"
   ]
  },
  {
   "cell_type": "markdown",
   "metadata": {
    "colab_type": "text",
    "id": "VtSYkS6mFQwC"
   },
   "source": [
    "Let's interpolate between a cat and a bus!!!"
   ]
  },
  {
   "cell_type": "code",
   "execution_count": 0,
   "metadata": {
    "colab": {},
    "colab_type": "code",
    "id": "qIDYUxBEFQwD"
   },
   "outputs": [],
   "source": [
    "z_list = []  # interpolate spherically between z_1 and z_0\n",
    "N = 10\n",
    "for t in np.linspace(0, 1, N):\n",
    "    z_list.append(slerp(z_1, z_0, t))\n",
    "# for every latent vector in z_list, sample a vector image\n",
    "reconstructions = []\n",
    "for i in range(N):\n",
    "    reconstructions.append([decode(z_list[i], draw_mode=False, temperature=0.15), [0, i]])\n"
   ]
  },
  {
   "cell_type": "code",
   "execution_count": 79,
   "metadata": {
    "colab": {
     "base_uri": "https://localhost:8080/",
     "height": 112
    },
    "colab_type": "code",
    "id": "ZHmnSjSaFQwH",
    "outputId": "38fe3c7e-698b-4b19-8851-e7f3ff037744"
   },
   "outputs": [
    {
     "data": {
      "image/svg+xml": [
       "<svg baseProfile=\"full\" height=\"91.2642718171\" version=\"1.1\" width=\"833.762525478\" xmlns=\"http://www.w3.org/2000/svg\" xmlns:ev=\"http://www.w3.org/2001/xml-events\" xmlns:xlink=\"http://www.w3.org/1999/xlink\"><defs/><rect fill=\"white\" height=\"91.2642718171\" width=\"833.762525478\" x=\"0\" y=\"0\"/><path d=\"M25,25 m0.0,0.0 m34.7885648068,15.8217988545 l-1.70768797398,0.394326560199 -1.98709502816,1.39832496643 l-1.8858024478,1.81873455644 -1.72703936696,2.22130462527 l-1.25907227397,2.31055215001 -0.718402788043,2.31609672308 l-0.24189863354,2.28290840983 0.230393186212,2.17298224568 l0.899575799704,1.9522215426 1.58570617437,1.83934673667 l2.33861714602,1.53588861227 2.9568567872,1.06947176158 l3.42917084694,0.520680546761 4.56664592028,-0.000210430407606 l3.39892715216,-0.948901027441 2.86075204611,-1.51679575443 l2.18323692679,-1.95775061846 1.4845071733,-2.26167857647 l0.732822492719,-2.37686693668 0.0455579627305,-2.435528934 l-0.657622814178,-2.33118370175 -1.39675825834,-2.27535650134 l-2.00977087021,-2.11376160383 -2.45251193643,-1.75328552723 l-2.64242887497,-1.283313483 -2.64447331429,-0.779226571321 l-2.5469186902,-0.307059139013 -3.40631514788,0.205508377403 l-2.24611267447,0.615477263927 -1.7066423595,0.891111493111 m-1.41870632768,5.79610526562 l-0.981892421842,-0.701759532094 -1.57779186964,-1.86256706715 l-3.94318550825,-5.96731066704 -1.26046702266,-2.31150478125 l-0.750524476171,-1.99218571186 1.31670936942,-0.331926830113 l5.24980604649,2.5949165225 4.44657832384,2.77433514595 l1.48569047451,0.834902450442 m12.0142829418,1.30933701992 l0.924543663859,-0.972671657801 5.24440228939,-3.89542460442 l3.17973524332,-1.83452144265 2.36633822322,-0.941159427166 l0.351397916675,1.17977015674 -1.43672227859,3.12728255987 l-1.51523455977,3.65620046854 -2.21588477492,5.07369637489 l-0.433258190751,1.62227928638 m-15.6633877754,2.73675113916 l-1.03453852236,-0.391437746584 -2.45932713151,-0.000107182286229 l-5.03336369991,0.635710656643 -4.2340490222,1.17464527488 l-4.15684431791,1.76218211651 -2.99315959215,2.01255023479 m18.9975297451,-2.38496765494 l-2.13352456689,0.30238263309 -2.33867675066,0.903116837144 l-4.20184582472,2.53625094891 -3.17722201347,2.4148504436 l-2.34716102481,2.23815530539 m15.4375433922,-6.45224153996 l-1.71578854322,0.833854526281 -1.90653860569,1.54518857598 l-3.17113667727,3.54830682278 -2.14653044939,3.04755568504 m17.5838243961,-14.1745126247 l3.51344525814,-0.229860078543 5.83615481853,0.454912856221 l3.94071519375,0.842000097036 2.94197976589,1.04170843959 m-16.3493454456,1.84369981289 l3.97710770369,0.671474412084 3.52026820183,1.08801908791 l3.00031900406,1.40454411507 2.20906510949,1.55138850212 m-13.7836539745,-1.43525511026 l3.12916815281,1.78138285875 4.6027341485,2.91536957026 l3.78896981478,2.86304265261 m61.1221673153,-27.923102595 l-1.34081676602,0.300077814609 -1.77816852927,1.15137435496 l-1.62679851055,1.47592157125 -1.43992945552,1.77372604609 l-1.08541429043,1.92270770669 -0.644427761436,1.92675754428 l-0.21293323487,1.87265947461 0.254271049052,1.76748842001 l0.883712470531,1.68196752667 1.49429023266,1.57750234008 l2.15454220772,1.35759070516 2.70775288343,0.947909727693 l3.03057283163,0.473473891616 4.73421037197,-0.000199037658604 l3.06011736393,-1.01655952632 2.40617737174,-1.48026823997 l1.62968218327,-1.69074848294 0.972700193524,-1.85510024428 l0.398075133562,-2.01211079955 -0.211320854723,-2.11091920733 l-0.869603008032,-2.04913049936 -1.43723905087,-1.9520162046 l-1.84315979481,-1.64211899042 -2.09660440683,-1.297814399 l-2.31836304069,-0.969325378537 -2.27361395955,-0.537845902145 l-3.29529613256,-0.178839098662 -2.333355546,0.290679857135 l-1.61313489079,0.587641783059 -1.19258515537,0.792306736112 m2.72446841002,8.12675774097 l-1.75951942801,-0.581844598055 -6.07385754585,-1.5052010119 l-6.84001326561,-1.22386828065 -5.02493917942,-0.323068425059 l-2.98428446054,0.201857183129 -3.10902446508,0.914908722043 m23.889541626,4.46558892727 l-1.96429252625,0.0333260954358 -7.01863706112,1.10142633319 l-4.18344855309,0.89569106698 -3.10170590878,1.00869335234 l-2.19626620412,1.02675966918 -1.42079696059,1.03357359767 m20.789937973,-3.38880389929 l-1.54975727201,0.450737923384 -5.71410655975,3.2258990407 l-6.52717471123,4.69007343054 -1.75974026322,1.4480240643 m25.5840778351,-12.9877793789 l3.3687210083,-0.581119991839 6.09343469143,-0.320724770427 l6.22236907482,-0.555112808943 3.84471863508,-0.000113958794827 l3.6867839098,0.509935356677 1.05137556791,0.401513315737 m-23.7228369713,3.16447019577 l4.44630384445,0.708516687155 3.89528036118,0.988985821605 l3.52292358875,1.27116620541 2.90525883436,1.44292399287 l1.08033113182,0.838916897774 m-17.7968907356,-2.42074772716 l3.46976935863,1.88631013036 4.78761792183,3.05467605591 l4.19219851494,3.18067759275 1.21502868831,1.26656219363 m-21.69444561,-19.5003724098 l0.129600903019,-1.12517558038 0.800416022539,-1.7693464458 l1.08374379575,-1.48350641131 1.54425293207,-1.31653442979 l0.714464485645,0.949614867568 -0.000199777332455,2.84882605076 l-0.379973426461,1.37607008219 m5.44975399971,0.450557805598 l1.28930523992,-1.25219404697 1.86940953135,-1.60637646914 l1.43993899226,-0.830921530724 0.455965921283,1.09380014241 l-0.000222284106712,3.12435805798 -0.545425005257,1.51105627418 l-1.38976112008,2.11816653609 m-10.6656336784,1.25718653202 l0.0594600057229,1.17128476501 m77.4217587701,-9.49063634575 l-1.05272300541,0.231363754719 -1.49198234081,0.905212163925 l-1.40259116888,1.21015749872 -1.35581493378,1.60547852516 l-0.94908580184,1.67874529958 -0.551148727536,1.76460593939 l-0.000181085524673,2.11175531149 0.600012429059,1.80026322603 l1.11243955791,1.60005837679 1.56121686101,1.29039749503 l2.03958272934,0.991111323237 4.07528579235,0.758623853326 l4.1394752264,-9.72608449956e-05 2.65082389116,-0.885989665985 l2.07997068763,-1.30379930139 1.4967417717,-1.60956382751 l0.856701657176,-1.72815218568 0.327393598855,-1.77469983697 l-0.188593510538,-1.67157500982 -0.756347477436,-1.59974947572 l-1.3280646503,-1.58470347524 -2.75902628899,-2.09800451994 l-2.55750745535,-1.30546495318 -2.29568257928,-0.757255256176 l-3.31821739674,-0.523357242346 -2.71527081728,-0.000174231372512 l-1.87796056271,0.439582802355 -1.35757192969,0.697766840458 l-0.891847237945,0.870327502489 -0.536807887256,1.00225783885 m7.28169679642,7.41823911667 l-1.13386549056,1.00583069026 -2.14324891567,1.14934362471 l-3.07324916124,0.953980460763 -6.30411922932,1.25460475683 l-3.12406122684,0.380666591227 -2.14499294758,0.48919711262 l-1.58669188619,0.585118532181 m19.4818115234,-3.42844694853 l-1.00470259786,0.859153717756 -2.89884358644,1.74016907811 l-6.63260281086,3.38040500879 -6.09033346176,2.65592575073 l-1.77707061172,0.270040500909 m19.8901057243,-8.22713673115 l-0.465024933219,3.70004922152 -0.812648683786,2.85652309656 l-1.11152715981,2.39800423384 -1.09302386642,1.67222961783 m8.52242469788,-14.2369294167 l4.02571648359,-0.490326806903 10.7411003113,-1.82064339519 l4.86219853163,-0.888512060046 2.03941062093,-5.94121365793e-05 m-19.7138917446,5.66905319691 l3.63939762115,0.867229029536 5.65425992012,1.48675307631 l3.46987426281,0.576598718762 2.48714253306,0.19827703014 l0.91207370162,0.273711569607 m-16.9982790947,-1.46495297551 l2.29849040508,1.7916251719 4.25688445568,2.84828364849 l6.98166489601,3.86535048485 2.39423140883,0.915944203734 m-25.8874845505,-17.981441021 l-0.165865588933,-1.81872278452 0.0212128902785,-1.7885774374 l0.355022512376,-1.69516652822 0.636772811413,-1.37852430344 l0.858012884855,-1.01530522108 1.34456634521,-0.755780935287 l0.563290379941,0.709295868874 0.515430532396,2.34861001372 l0.324794836342,2.8080072999 0.163361411542,0.813717916608 m4.97062534094,0.382200032473 l2.08155214787,-2.71675139666 2.52416580915,-2.19626873732 l0.909035205841,-0.432681627572 0.283276122063,0.808296352625 l-0.629743561149,4.24503594637 -0.648921951652,2.09819972515 m-11.5411925316,3.481361866 l0.49384213984,-0.263805445284 0.243028625846,0.241926703602 l-0.181605480611,0.104862246662 -0.053020324558,-0.208454411477 m4.86806690693,-0.249655712396 l-0.129984933883,0.151077387854 -0.0608192291111,-0.222034845501 m86.2173719062,-6.631798133 l-0.800843164325,0.153561672196 -1.29188746214,0.689508393407 l-1.87164932489,1.52196630836 -1.24036371708,1.49555578828 l-0.811742693186,1.47446125746 -0.339269675314,1.39644056559 l-0.000196008168132,1.99010044336 0.97118370235,2.10257276893 l1.47220343351,1.47307395935 2.82930016518,1.41759335995 l2.70601212978,0.571088455617 3.32877904177,-0.000185658973351 l2.27597624063,-0.743930786848 1.85063719749,-1.13415829837 l1.34743392467,-1.38155281544 0.858136340976,-1.51142820716 l0.396832302213,-1.61945283413 -0.000103396423583,-2.09597498178 l-0.787668451667,-1.64738163352 -1.17966197431,-1.41628310084 l-1.47763192654,-1.1745390296 -2.82909750938,-1.38160035014 l-2.13164299726,-0.623854622245 -3.09203475714,-0.379225313663 l-2.46064782143,-0.000176889825525 -1.64692685008,0.383203476667 l-1.70256391168,0.959909409285 -0.544241219759,0.582911595702 l-0.496056936681,1.19713075459 m8.4709328413,6.17238163948 l-0.839278921485,0.100494790822 -5.22711515427,1.0365845263 l-7.8011906147,1.26599669456 -8.21896255016,1.30399852991 l-1.43203154206,0.464997515082 -0.358604602516,0.334879159927 l0.27479859069,0.202506612986 m22.7743721008,-3.75505268574 l-5.04449546337,2.63064593077 -7.88665950298,3.35116952658 l-3.55101644993,1.01233907044 -1.43359154463,0.150364693254 m21.6535377502,-8.57915341854 l3.43457400799,1.45957648754 3.03476154804,1.3306298852 l8.16144168377,2.23898544908 3.02991241217,0.493617355824 l1.96072459221,0.00105350693048 1.2331417948,-0.273353680968 m-20.4767012596,-3.56553316116 l2.91390925646,1.76036432385 7.66400158405,3.37751179934 l3.07332366705,0.904266089201 1.92246600986,0.258977115154 l1.67873948812,-0.0587911903858 m-23.3199429512,-11.1704611778 l0.265660416335,-0.000231024241657 0.339218974113,-0.103367250413 l-0.218573044986,0.100157354027 -0.146574806422,-0.0211665453389 l-0.0787196494639,-0.000153823748406 -0.00388697895687,-0.000127832345242 l0.0271065742709,-8.92466050573e-05 -0.211513843387,0.00191773695406 l0.402923449874,-0.0676799938083 -0.347743406892,0.0509304506704 l-0.442712008953,-5.03017827214e-05 m7.21222400665,0.00688569503836 l-0.334367677569,-0.0286015076563 -0.0261707790196,-0.108954887837 l-0.213281940669,0.22262096405 0.150782661512,-0.0285805854946 l0.0544943660498,-0.0606665201485 -0.0826898310333,0.0378933479078 l-0.038236877881,0.0754917319864 m-4.43813830614,1.67824208736 l0.736944004893,-0.000126561062643 m-2.98272818327,1.52260988951 l-0.0167129235342,-6.79959430272e-05 0.922482833266,0.231220312417 l0.789243876934,0.0735459011048 0.528379753232,-0.00204021212994 l0.545105077326,0.316700674593 m-3.02394777536,-0.306086111814 l-0.306961145252,-0.443260408938 -3.03595244884,-1.37290433049 l-1.43399506807,-0.644370466471 -2.26288422942,-0.733746215701 l-5.89421570301,-1.1798543483 -7.22966253757,-0.936437994242 l-4.50277596712,-0.000357130884368 -3.92497420311,0.858423635364 l-3.78847926855,1.62663176656 -3.19427222013,2.14010179043 l-1.65021255612,1.71246424317 -0.821161344647,1.53852552176 l-0.000356921191269,1.45562127233 0.461274273694,0.866288095713 l2.25414305925,1.49081006646 4.66654837132,1.4361461997 l6.71365439892,0.81541493535 18.1164383888,-0.702959001064 l2.91923254728,-0.944255664945 4.49356496334,-2.50916898251 l0.781933069229,-0.871339812875 0.585274361074,-1.6334964335 m52.6524120378,-11.8565135153 l-0.574092790484,0.0804120581597 -0.993667468429,0.470500774682 l-1.54801368713,1.20758935809 -1.43520921469,1.92345306277 l-0.436187908053,0.974724292755 -0.000139388548632,1.88541769981 l0.320744626224,0.805025994778 1.24290451407,1.33320763707 l2.36471578479,1.28009840846 3.21704506874,0.702763050795 l3.4132835269,-0.000192888219317 1.83816805482,-0.793727263808 l1.77455559373,-1.6019615531 0.518018268049,-0.877787843347 l0.3697341308,-1.70932278037 -0.000110823402792,-1.60232633352 l-0.720342025161,-1.51504158974 -1.35807752609,-1.25060081482 l-2.42579132318,-1.37903556228 -3.11367541552,-1.03390417993 l-2.74273335934,-0.348013825715 -2.5818297267,-0.000212740524148 l-1.47140160203,0.342714451253 -1.55218437314,0.952822938561 l-0.827332288027,0.903880000114 -0.163919217885,0.536427870393 m8.61066937447,6.01038098335 l2.21028253436,0.148987425491 4.98449325562,-0.140133481473 l9.98504698277,-0.123348878697 5.26606738567,0.608112625778 l4.06922250986,1.17615237832 0.92357814312,0.532421804965 l1.7260864377,2.08409115672 0.287052728236,0.890151783824 l-0.249102115631,1.76988750696 -1.63553655148,1.29464909434 l-1.93185120821,0.790849477053 -2.16329485178,0.485244356096 l-7.32450723648,0.315707214177 -8.97904574871,-1.1678186059 l-4.79459583759,-1.30088463426 -3.4376975894,-1.47159785032 l-1.42260491848,-0.805969014764 -1.42642617226,-1.39356791973 l-0.845452770591,-1.70598641038 -6.31736884316e-05,-1.43114849925 l0.421087108552,-0.457604080439 m7.21279382706,7.05982685089 l-0.676115900278,1.93000853062 -1.2773104012,2.48345851898 l-0.914197936654,1.60535410047 -0.635868012905,0.747172683477 l-0.434014722705,0.353692397475 m12.8865587711,-5.25023043156 l-0.519021935761,3.15577685833 -0.850263684988,1.87241360545 l-0.601446852088,0.863930955529 m10.5453598499,-5.22026777267 l0.0841656047851,3.46492648125 -0.397443249822,1.7654761672 l-0.430482588708,0.650541931391 m6.07006072998,-6.27663612366 l0.677030608058,3.64985495806 0.656012296677,4.55441564322 m3.07793170214,-14.964312315 l4.29661810398,-0.0803036335856 1.87959909439,-0.631983801723 l1.40462502837,-0.854656100273 3.43778342009,-3.08298319578 l1.46836221218,-2.37536773086 0.923022553325,-2.61803239584 l-0.000133172843562,-2.2229142487 -0.543183870614,-1.10248275101 l-2.73510724306,-1.96834921837 -1.65982544422,-0.611692331731 l-1.98662266135,-3.17030890074e-05 -1.65908709168,0.481598377228 l-2.38763928413,1.5406319499 -1.89177960157,2.23336040974 l-0.824167355895,1.64851471782 -1.30166605115,3.81613194942 l-0.551991090178,1.63439914584 -0.773336067796,1.27257049084 l-1.23362213373,0.948034003377 -3.24517905712,1.11873477697 l-2.52919495106,0.329379066825 -3.68511676788,-7.82794995757e-05 m-20.1643967628,-4.76072728634 l-1.35871246457,-3.6555776 -0.793228596449,-1.7220044136 l0.616980865598,-0.216068029404 2.65580445528,2.49533236027 l1.51071131229,1.79097265005 m5.35683393478,-0.957586839795 l0.840554386377,-2.20779687166 1.83694303036,-2.6588255167 l0.246099382639,0.724646449089 -0.139801008627,2.28658497334 l-0.277562849224,3.81807804108 m-10.4155242443,2.37124830484 l-0.155520718545,-4.82040013594e-05 -0.269501563162,-0.000174406141014 l-0.818388015032,-3.77440096599e-05 m6.53351604939,0.0608242908493 l-0.303285233676,0.15636747703 -0.0117910443805,0.1180041302 l0.286922603846,9.95676236926e-05 m87.7685385881,-7.38987424735 l-0.342884659767,-0.0326933152974 -0.781464576721,0.299764573574 l-1.5146137774,1.08983941376 -1.14889115095,1.65027409792 l-0.526527538896,1.91498994827 -0.000194646163436,1.56864196062 l0.762747079134,1.70027554035 1.4701859653,1.35929837823 l2.26000607014,0.891803354025 2.64717042446,0.250900480896 l3.16830068827,-0.00013217929336 1.58382713795,-0.652152076364 l1.60873308778,-1.43516927958 0.870338082314,-1.85597315431 l-3.98949123337e-05,-1.59375399351 -0.623387694359,-1.29846587777 l-1.22111022472,-1.29893094301 -2.28892087936,-1.64672598243 l-2.76133686304,-1.24988779426 -2.80328631401,-0.673827901483 l-1.75786525011,-0.000209121062653 -1.17423318326,0.381322614849 l-0.881445482373,0.635740458965 m14.6353363991,6.00293815136 l2.41817176342,-0.16956999898 6.09776854515,-0.589030832052 l6.4622169733,-0.00010597707842 8.49314272404,1.36653959751 l6.85401618481,2.06924647093 2.10174486041,1.17215514183 l0.620303861797,0.602095499635 0.672941282392,1.52462914586 l-0.000232234560826,1.21634148061 -0.615553706884,1.10490433872 l-1.145844087,0.835621282458 -1.59293353558,0.646070986986 l-2.03251108527,0.478836931288 -4.08995330334,0.398535467684 l-8.32490324974,-0.000197244698938 -8.96855056286,-1.05012558401 l-7.33244717121,-1.84607625008 -3.51475119591,-1.57978340983 l-1.23553015292,-0.817293971777 -0.791219174862,-0.835289508104 l-0.318155512214,-0.78605748713 m6.26292347908,3.39666187763 l0.131401354447,3.56122672558 -0.175877492875,2.16755107045 l-0.179097391665,1.75001040101 -0.146919451654,0.988211706281 l-0.217402037233,0.372143350542 -0.870476514101,0.422401987016 l-0.728901401162,0.190925654024 -0.489773005247,0.047642425634 l-1.26107677817,-0.455859415233 -0.465980246663,-1.04270190001 l-0.000114242848213,-3.08584690094 0.507878661156,-3.92757594585 l0.595298856497,-2.01526939869 m5.36417961121,1.47210583091 l-1.67302448517e-05,4.89188343287 -0.0568000087515,3.34440678358 l0.048707020469,0.948856920004 0.0884676165879,0.00099637247331 l0.0921808183193,-1.3604940474 0.339711904526,-5.68235814571 l0.0749013386667,-2.62658208609 m18.2541799545,1.79534569383 l0.23194713518,5.97216367722 0.31026320532,2.64126986265 l0.375177711248,0.325795486569 1.04522459209,-3.84095072746 l0.200849175453,-4.0104919672 -0.114421825856,-1.22149974108 m5.13552963734,-0.47951631248 l0.166430901736,5.10445892811 0.143521074206,1.5651884675 l0.354095101357,1.30582809448 0.607761032879,1.36004731059 l0.544009320438,-0.916400700808 6.90093111189e-05,-3.43268990517 l-0.792677029967,-4.30229842663 -0.42882591486,-2.25809857249 m-41.8885421753,-8.08446764946 l-0.409216545522,-0.37060584873 -1.15709476173,-0.849002227187 l-3.71320217848,-2.38312721252 -2.47046336532,-0.909365937114 l-4.01041835546,-1.03238753974 -1.6608543694,-0.000180023089342 l-1.77214041352,0.775729715824 -1.60747006536,1.55395060778 l-0.249967575073,0.658059120178 -5.49498508917e-05,0.957198143005 l0.951231643558,1.30363062024 2.32363581657,1.27965882421 l3.52009624243,0.814445093274 4.1314125061,-0.000191049402929 l2.12789684534,-0.166208557785 1.5600463748,-0.246234238148 l3.51080924273,-1.17107413709 1.24685227871,-0.43788254261 l1.92680701613,-2.100304755e-05 m-14.8272609711,-3.54823380709 l-0.805655568838,-0.0676610507071 -3.72652769089,-0.848078429699 l-1.73000872135,-0.718641206622 -3.59921306372,-1.38419464231 l-1.67971760035,-0.9191108495 -2.61820971966,-1.03047594428 l-1.7006623745,-8.30894987303e-05 -0.0272000255063,0.819789096713 l0.466079413891,0.630247443914 2.98617810011,1.99500307441 l3.74104619026,1.24777369201 4.17889297009,0.787334516644 l2.73290574551,0.308775193989 4.80103135109,-9.47939315665e-05 l4.31188702583,2.3783686629e-05 m66.1227589662,-1.05647943569 l-0.119739593938,-0.105961374938 -0.555940084159,0.121613545343 l-2.06629067659,1.05591244996 -1.20084166527,0.999835804105 l-0.968786627054,1.67256370187 -6.67466701998e-05,1.99248716235 l0.900006592274,1.74439519644 1.56985223293,1.30418807268 l1.4161786437,0.608017221093 2.48360559344,-0.000188215381058 l1.46801665425,-0.646522268653 1.56581327319,-1.43860116601 l0.870430469513,-1.83575406671 -1.94354493033e-05,-1.96889668703 l-0.521695129573,-1.12952955067 -1.0117970407,-1.13949641585 l-1.72306478024,-1.21014460921 -2.07011327147,-0.856653302908 l-1.23532764614,-0.222619622946 -1.58522710204,0.14943591319 m16.8751633167,4.57698911428 l0.428184717894,-3.50979303221e-05 2.59873986244,0.359811410308 l3.9526194334,0.835293978453 3.82494300604,0.978889614344 l5.98491430283,1.36429518461 3.04782390594,0.939204320312 l2.58765667677,1.1074513942 0.601587295532,0.499946326017 l0.554011054337,1.11281886697 -0.000333695206791,1.07096150517 l-0.546506941319,0.973040536046 -1.86812028289,1.30404323339 l-1.98989674449,0.76069816947 -3.73029619455,0.678046569228 l-7.72620975971,0.108168935403 -8.25177967548,-1.26456439495 l-6.76170945168,-1.84651374817 -3.14324349165,-1.45440116525 l-1.31325617433,-0.835504606366 -1.1634016782,-1.44741460681 l-0.521465465426,-1.68418884277 -5.97881853537e-05,-1.24428607523 l0.380104109645,-0.435207374394 1.59591108561,-0.47727946192 l3.32414478064,-0.000211071401282 m0.0573362549767,6.66731536388 l-0.869495198131,1.28957331181 -1.72973930836,1.55463770032 l-3.22608709335,2.57343709469 -1.29516944289,0.717179179192 m17.8614914417,-4.42774355412 l-0.957996919751,2.62257218361 -1.54915526509,2.11917757988 l-1.26952648163,1.09225451946 m12.5926852226,-4.88579511642 l1.87153622508,5.66886246204 0.623434223235,0.794622376561 m3.33348542452,-7.06626355648 l3.7110093236,4.1611084342 2.86255061626,2.65964925289 l0.587722472847,0.310596115887 m-4.39843356609,-14.9318861961 l1.2000054121,-0.584535934031 1.50823041797,-0.870185345411 l5.83425223827,-2.87511914968 5.40851831436,-2.3014895618 l3.17800164223,-1.16762503982 2.78766185045,-0.77985458076 l1.48250281811,-0.000242735659413 1.92209109664,0.510813742876 l1.63724914193,1.15657806396 0.713053122163,0.956336706877 l0.215993206948,0.916363149881 -0.336105376482,0.747361704707 l-0.824851617217,0.606937296689 -4.72090423107,1.43812164664 l-6.54159426689,1.03657051921 -3.28347116709,0.886767655611 l-2.84003704786,0.983144566417 -1.89248383045,0.919015854597 l-1.6743311286,0.903004780412 -1.61625400186,0.795787647367 l-1.44555449486,0.499749034643 -3.35794180632,0.195563193411 l-1.68943047523,-0.0953695643693 -2.60629326105,-7.61798446547e-05 m-23.7284946442,-5.49366354942 l0.12106959708,4.92957133247e-05 m5.30744969845,-0.21600663662 l-0.0399327417836,0.000103532738649 m-5.88018596172,1.20698578656 l0.165055189282,-1.57957379088e-05 0.486535690725,0.299330297858 l0.320439860225,0.0622809911147 0.320644937456,-0.000135349664561 l0.0871312338859,-0.000125964388644 -0.284940879792,-0.000133789735628 m-2.35858157277,0.0939030665904 l-0.139367859811,0.00764035969041 -0.571539849043,-4.11544078815e-05 l-1.35752514005,-0.000128615138237 -0.561179146171,0.0450652558357 m2.24003598094,0.133782913908 l-0.837381780148,0.607680268586 -1.17462486029,0.459080375731 l-0.785231813788,0.275797434151 m2.82436072826,-1.18840895593 l-0.5686840415,0.821235477924 -0.963979288936,0.79313531518 l-0.754424259067,0.453111156821 m3.81136834621,-2.72455483675 l3.69599819183,0.0863127503544 1.71905085444,-0.227262713015 m85.5757000672,2.16459211335 l0.334460884333,-0.507520362735 -0.152028156444,-0.73619633913 l-0.595440790057,-2.1042560041 -0.42881835252,-1.34789988399 l-2.32491879615e-05,-0.969608426094 1.46652370691,0.0064285058761 l3.28931003809,0.463838689029 8.27967464924,0.433349236846 l3.50744813681,0.273294206709 3.06925594807,0.119372038171 l0.562688931823,1.31544932723 0.195494722575,3.10458153486 l0.0043115313747,0.834838971496 0.0767337204888,0.754288360476 l0.122632747516,0.506898127496 1.66526228189,0.279694516212 l2.3574154079,0.313408225775 2.45995119214,0.390120893717 l2.4399754405,0.448820367455 2.10878834128,0.4560636729 l0.0603885762393,1.27386465669 -0.261654797941,2.44093880057 l-0.500286668539,0.390974767506 -15.3416645527,-0.104897245765 l-3.77224743366,-0.238058138639 -9.16058003902,-0.000160039235197 l-3.40849637985,-0.463637411594 -2.00272455812,-0.204662494361 l-1.27670943737,-0.295072998852 -0.951374545693,-0.582421794534 l-0.733232274652,-0.986130461097 9.25143012864e-05,-2.36159324646 l0.51925804466,-2.71760165691 0.663950517774,-0.759231373668 l0.560455881059,-0.192304179072 3.23203802109,-0.236328318715 l10.8670723438,0.377198942006 m15.1319766045,3.65544646978 l3.81168305874,0.584699474275 4.68393832445,0.25470232591 l2.95713692904,0.231362506747 2.08973512053,0.10535554029 l-0.462882630527,0.258936546743 -2.28616565466,1.11558906734 l-2.66716122627,0.570549443364 -6.57844185829,-0.000118205807667 l-3.24561953545,-0.346738956869 -9.52969610691,-0.522328168154 l-2.44194447994,-0.805395171046 -1.47007972002,-0.39112098515 l-4.77880477905,-0.443111024797 -3.85454297066,-0.000398044721805 l-4.83933210373,-0.236139968038 -2.33435943723,-0.194536242634 l-1.9875857234,-0.0842500198632 -1.11805140972,-0.0308111216873 l-9.42834321904e-05,-0.858241021633 0.882021337748,-2.48362526298 l0.566929318011,-0.523057617247 0.519664995372,-0.0960744265467 l7.56592690945,0.0397091638297 11.5582132339,0.208295676857 l10.4374158382,0.209092963487 3.28826159239,0.0641443254426 l3.57855349779,-7.43697501093e-05 0.192151982337,0.192128214985 m-4.42592293024,-0.16060795635 l-0.0564375054091,1.5812702477 m-4.12979215384,-1.69360294938 l-0.142230913043,0.832635760307 m-5.34449398518,-0.751793384552 l-0.260060057044,0.457233712077 -0.34631870687,0.375364981592 m-6.40315294266,-0.844799950719 l-0.40263235569,0.3140373528 -0.250612217933,0.585522912443 m-5.12857615948,-0.657959729433 l-0.434864796698,0.152589268982 -2.05164019462e-05,0.520313307643 l0.4419028759,0.0201035756618 0.341558009386,-0.000117558583952 l0.419356636703,-0.19950510934 -5.43130909136e-05,-0.356371849775 l-0.494620352983,-0.0875113066286 -0.36840505898,-0.0276982574724 m2.62187033892,0.151548637077 l-0.653814971447,0.0387273891829 -0.203496459872,0.254598408937 l0.572155378759,0.171816851944 0.671230256557,-0.000123107329273 l0.225909296423,-0.351839028299 -0.332490578294,-0.133469607681 l-0.432983823121,0.00393590948079 m4.74514991045,0.124767478555 l-0.768317356706,0.0402387464419 -0.161709524691,0.346008948982 l0.360580123961,0.139953782782 0.651588365436,-0.000147763566929 l0.563384667039,-0.000160819672601 -0.000137445267683,-0.18519917503 l-0.419420711696,-0.000168785991264 -0.438373312354,-0.000207592947845 m5.91394364834,-0.0330101768486 l-0.812260881066,0.100660519674 -0.191704295576,0.469364896417 l0.360640101135,0.176900941879 0.789735615253,-0.000154345270857 l0.229543354362,-0.300458762795 -0.152986003086,-0.230786893517 l-0.417761392891,-0.00011278412785 m7.26212739944,0.133851990104 l-0.888017266989,0.187365990132 -0.19449589774,0.487943813205 l0.219769198447,0.270786620677 0.898086279631,-0.000131055803649 l0.246715433896,-0.307870693505 -0.111856954172,-0.264588873833 l-0.414639487863,-0.00012343391063 m6.50281727314,-0.0623971829191 l-0.908522233367,0.573395602405 -0.0928581692278,0.418043099344 l0.397355221212,0.111971953884 0.754116252065,-0.000110250930447 l0.237642601132,-0.330615006387 -0.107775712386,-0.270033404231 l-0.556088276207,-8.68309507496e-05 m54.8034080162,-2.14721279674 l0.576249882579,-0.657738819718 0.0540502555668,-1.37662380934 l-0.105912396684,-3.17857921124 0.00247399817454,-1.44378662109 l1.31129086018,0.2889203839 3.44998419285,0.55849019438 l2.02327087522,0.111471526325 8.90452027321,0.147584946826 l1.79262459278,-0.147424470633 5.54787278175,-3.21463448927e-05 l0.371909439564,1.43562793732 0.134841240942,3.91416728497 l0.277195293456,0.819738358259 1.43761962652,0.133967911825 l3.12156915665,0.152055602521 3.43387782574,0.262827333063 l2.29942843318,0.247207060456 0.295009352267,0.430057533085 l0.227263327688,3.32706362009 -0.322499610484,0.615067072213 l-0.458380058408,0.227946322411 -1.7002774775,0.163875613362 l-7.53753781319,-6.41403403279e-05 -17.3141026497,-0.516761615872 l-4.13670271635,-0.401273816824 -5.05086004734,-0.000237639178522 l-2.00676187873,-0.301114693284 -3.44072043896,-0.34914880991 l-2.31558099389,-0.34594848752 -2.73994773626,-0.305953081697 l-1.57714247704,-0.188210625201 0.0961038190871,-3.6957025528 l1.29315853119,-2.25447669625 0.925650149584,-0.333271771669 l5.80800831318,-0.000285983096546 9.96850192547,0.530195087194 l4.56129014492,-0.0046902988106 3.77831339836,-0.0212449021637 l7.90341079235,-0.000123538993648 3.93542587757,-0.0247700302862 l2.95343667269,-0.0460799876601 m-4.09528583288,2.49020457268 l-0.101406387985,1.52888864279 -0.142418295145,1.69052153826 l-0.28573429212,2.02439382672 m-1.57918080688,-5.56866049767 l1.42022356391,0.149815147743 2.83333450556,0.105449017137 l0.154838031158,0.316420979798 -0.262661203742,4.03999477625 l-0.159305427223,1.15189582109 -0.19041147083,0.734840407968 l-0.833771973848,-0.120022408664 m-29.1902899742,-7.288813591 l1.69692918658,-0.000175465211214 4.70515519381,0.207851752639 l13.2050919533,0.571056269109 5.14947593212,0.300912559032 l5.79668939114,-0.00021185096557 2.17616453767,0.0497011421248 l1.6709908843,-0.0110890343785 1.39285057783,0.0128694844898 m-31.0951948166,-5.52376687527 l0.0978808384389,2.20853805542 0.177104752511,1.08621500432 l0.170046240091,0.83428837359 m5.21684110165,-3.76138657331 l0.51744248718,2.82305836678 0.351111963391,0.984178707004 l0.266326442361,0.156911481172 m5.78899085522,-3.78365218639 l0.749629810452,3.09018701315 0.468524880707,0.491859540343 l0.353732071817,-0.00853725650813 m5.54361701012,-3.23383897543 l0.897318571806,2.49118342996 0.43659619987,0.945089235902 l0.239267926663,0.116383014247 m4.78656470776,-3.38871717453 l1.01442910731,2.89468586445 0.371218845248,1.17386743426 l0.378145836294,0.602371022105 m-24.3468666077,3.34676086903 l-1.25101551414,0.103837726638 -0.945673286915,0.55397387594 l-0.789935290813,1.12702868879 -0.0792637467384,0.599402412772 l0.519235320389,1.01282969117 1.37082129717,0.832507759333 l1.72811076045,0.306310672313 1.73634126782,-9.1766623882e-05 l0.651660785079,-0.21196115762 0.848566219211,-0.749963223934 l5.91169225572e-06,-1.28863438964 -0.645295828581,-0.756398364902 l-1.12272754312,-0.655279904604 -1.60411968827,-0.456598214805 l-1.55811965466,-0.000189701349882 m26.9696974754,0.846580415964 l-1.59791484475,-0.00029610697311 -1.52147859335,0.614215992391 l-0.729926526546,0.676414594054 -0.353138782084,1.08871906996 l-3.06079687107e-05,0.837335735559 0.69167278707,0.980551987886 l0.599420629442,0.357648469508 1.4833047986,0.325746946037 l2.28589475155,-8.42847566673e-05 1.33887127042,-1.02478645742 l0.245425719768,-1.06662787497 -0.257597696036,-0.997521728277 l-0.799571722746,-0.820630937815 -1.46015584469,-0.792224481702 l-1.68061047792,-0.472595952451 m-29.8440265656,-5.21363675594 l0.634939819574,0.0294309481978 8.83153915405,0.18097428605 l4.82362151146,0.11661214754 5.01452565193,0.159020014107 l5.46618282795,0.126993078738 5.11264503002,0.14596725814 l1.78291469812,0.0109928462189 4.601816535,-6.10199413131e-05 l2.76153326035,0.06285878364 m37.0001563104,0.230233606783 l0.773810818791,-0.780032724142 0.272988919169,-2.32334703207 l0.22511491552,-3.47314298153 0.184976309538,-1.91972568631 l1.92811787128,0.780996754766 4.01163846254,0.744545310736 l4.35732960701,0.408964678645 4.38751965761,0.186248533428 l4.16760116816,0.119311353192 4.20186549425,0.00525766110513 l3.64925384521,0.0406110053882 3.01986187696,0.0447271158919 l0.250927116722,0.328645221889 -0.117834387347,5.74526965618 l0.0161475862842,0.851716846228 0.0719993188977,0.539017356932 l0.797013118863,0.025145499967 1.92286238074,-0.0110834510997 l2.69466936588,0.119563220069 2.1972347796,0.239456463605 l1.88705027103,0.229234006256 0.173245184124,1.63888141513 l-0.109046902508,2.83881932497 -0.509129203856,0.2707724832 l-10.6712400913,6.6709121711e-05 -20.2186942101,-0.519036091864 l-4.03884649277,-0.450172275305 -8.81336510181,-0.44698830694 l-1.00869007409,-0.597673766315 -0.608417242765,-0.756120234728 l0.207585059106,-2.23994508386 0.7310564816,-2.04503104091 l0.821128189564,-1.64324641228 0.494947731495,-0.30375642702 m4.12084043026,4.11362200975 l5.169968009,0.217308476567 5.27096748352,0.171645097435 l11.5321314335,0.374396033585 2.28255808353,0.0120746449102 l7.62313842773,-7.50488288759e-05 1.15880921483,-0.0370535789989 l1.6957886517,0.0312591996044 m-31.1058664322,-5.39704859257 l0.0570042617619,1.08446724713 -0.0881399214268,1.51235923171 l0.42782317847,0.174676049501 3.62102895975,-0.000173086027644 l1.46610021591,-0.081617468968 0.140145504847,-0.294351372868 l-2.35374227486e-05,-1.52856811881 -0.69556646049,-1.13646000624 l-0.787341371179,-0.269381459802 -3.63730818033,-0.000213211951632 m9.43131864071,1.19941912591 l-0.0041988180601,1.85372486711 0.292387064546,0.488059036434 l6.23452484608,-0.0399936176836 -0.416381135583,-1.84110671282 l-0.797046497464,-0.57077974081 -3.52693915367,-0.000170852890733 l-1.47142454982,-0.0216502696276 m10.3481698036,0.497786737978 l-0.181375201792,1.83700844646 0.359834134579,0.435759350657 l3.03960561752,0.0346830999479 2.09818184376,-0.188041422516 l0.21365981549,-0.319672822952 -7.59299746278e-05,-1.21715642512 l-0.265836324543,-0.24336155504 -5.06268084049,-0.471448302269 l-1.39919474721,-0.00597669859417 m9.89276170731,0.0828793551773 l-1.13283965675e-05,1.80148109794 0.346947200596,0.466093756258 l2.64591902494,0.0238319765776 0.235521178693,-0.227250512689 l0.160892996937,-0.732935741544 -0.559511817992,-1.2585529685 l-0.843542590737,-0.287528261542 -3.00104707479,-0.000225624698942 m-19.6321773529,7.38409042358 l-0.901262760162,0.0146772712469 -1.68149679899,0.703638568521 l-0.645077377558,0.795703530312 -7.07747994966e-05,0.949522033334 l0.301645323634,0.382154323161 1.13292463124,0.534128919244 l2.6229351759,-0.000102144886114 0.655227005482,-0.753250494599 l-1.07132882476e-05,-1.37524157763 -0.604641139507,-0.603416375816 l-1.15672841668,-0.522241704166 m20.1180315018,0.617494955659 l-1.43678978086,-0.000200604936254 -0.993494689465,0.387228839099 l-0.996910259128,0.933575183153 -0.305412840098,0.770391747355 l-1.5898745005e-05,1.00444167852 0.710157454014,0.784713327885 l1.40399307013,0.500174127519 2.25450396538,-7.18338105798e-05 l0.834328383207,-0.640552788973 0.318757481873,-1.02652564645 l5.03257660966e-05,-1.25412166119 -0.5726775527,-0.720833912492 l-1.09828725457,-0.504177622497 m-26.3925147057,-6.20228052139 l-0.559029579163,-0.0095378048718 -2.26619169116,0.4306403175 l-1.03231884539,0.670168474317 -0.234930254519,1.58446833491 l-2.13691600948e-05,1.39370322227 0.172374267131,0.422167815268 l1.69319614768,0.635837763548 3.86396497488,-5.03750698044e-05 l1.01378776133,-0.504933670163 0.150792319328,-0.494896508753 l3.10012205773e-05,-1.74102365971 -0.968177244067,-1.79080799222 l-0.855878219008,-0.526622980833 -1.40995636582,-0.348166339099 m18.9080548286,1.44115403295 l-0.061330748722,-9.8052305475e-05 -1.09743915498,0.906925052404 l-0.641183033586,1.21465943754 -4.65345738121e-05,1.20015159249 l0.262861158699,0.359237156808 1.08631111681,0.514072850347 l3.20742070675,2.37326673869e-06 0.878235846758,-0.506976805627 l0.179519671947,-0.494617894292 8.66047685122e-06,-1.45371094346 l-0.644826367497,-0.758478194475 -1.13258346915,-0.41206382215 \" fill=\"none\" stroke=\"black\" stroke-width=\"1\"/></svg>"
      ],
      "text/plain": [
       "<IPython.core.display.SVG object>"
      ]
     },
     "metadata": {
      "tags": []
     },
     "output_type": "display_data"
    }
   ],
   "source": [
    "stroke_grid = make_grid_svg(reconstructions)\n",
    "draw_strokes(stroke_grid)"
   ]
  },
  {
   "cell_type": "markdown",
   "metadata": {
    "colab_type": "text",
    "id": "flZ_OgzCFQwJ"
   },
   "source": [
    "Why stop here? Let's load the model trained on both elephants and pigs!!!"
   ]
  },
  {
   "cell_type": "code",
   "execution_count": 0,
   "metadata": {
    "colab": {},
    "colab_type": "code",
    "id": "S8WwK8FPFQwK"
   },
   "outputs": [],
   "source": [
    "model_dir = '/tmp/sketch_rnn/models/elephantpig/lstm'"
   ]
  },
  {
   "cell_type": "code",
   "execution_count": 81,
   "metadata": {
    "colab": {
     "base_uri": "https://localhost:8080/",
     "height": 255
    },
    "colab_type": "code",
    "id": "meOH4AFXFQwM",
    "outputId": "764938a7-bbdc-4732-e688-a8a278ab3089"
   },
   "outputs": [
    {
     "name": "stdout",
     "output_type": "stream",
     "text": [
      "INFO:tensorflow:Model using gpu.\n",
      "INFO:tensorflow:Input dropout mode = False.\n",
      "INFO:tensorflow:Output dropout mode = False.\n",
      "INFO:tensorflow:Recurrent dropout mode = False.\n",
      "INFO:tensorflow:Model using gpu.\n",
      "INFO:tensorflow:Input dropout mode = 0.\n",
      "INFO:tensorflow:Output dropout mode = 0.\n",
      "INFO:tensorflow:Recurrent dropout mode = 0.\n",
      "INFO:tensorflow:Model using gpu.\n",
      "INFO:tensorflow:Input dropout mode = 0.\n",
      "INFO:tensorflow:Output dropout mode = 0.\n",
      "INFO:tensorflow:Recurrent dropout mode = 0.\n",
      "INFO:tensorflow:Loading model /tmp/sketch_rnn/models/elephantpig/lstm/vector.\n",
      "INFO:tensorflow:Restoring parameters from /tmp/sketch_rnn/models/elephantpig/lstm/vector\n"
     ]
    }
   ],
   "source": [
    "[hps_model, eval_hps_model, sample_hps_model] = load_model_compatible(model_dir)\n",
    "# construct the sketch-rnn model here:\n",
    "reset_graph()\n",
    "model = Model(hps_model)\n",
    "eval_model = Model(eval_hps_model, reuse=True)\n",
    "sample_model = Model(sample_hps_model, reuse=True)\n",
    "sess = tf.InteractiveSession()\n",
    "sess.run(tf.global_variables_initializer())\n",
    "# loads the weights from checkpoint into our model\n",
    "load_checkpoint(sess, model_dir)"
   ]
  },
  {
   "cell_type": "code",
   "execution_count": 82,
   "metadata": {
    "colab": {
     "base_uri": "https://localhost:8080/",
     "height": 121
    },
    "colab_type": "code",
    "id": "foZiiYPdFQwO",
    "outputId": "a09fc4fb-110f-4280-8515-c9b673cb6b90"
   },
   "outputs": [
    {
     "data": {
      "image/svg+xml": [
       "<svg baseProfile=\"full\" height=\"100.1374763\" version=\"1.1\" width=\"142.341965201\" xmlns=\"http://www.w3.org/2000/svg\" xmlns:ev=\"http://www.w3.org/2001/xml-events\" xmlns:xlink=\"http://www.w3.org/1999/xlink\"><defs/><rect fill=\"white\" height=\"100.1374763\" width=\"142.341965201\" x=\"0\" y=\"0\"/><path d=\"M75.6208756314,29.3256763004 m-0.582655221224,-1.41240119934 l-1.66317984462,-1.22074924409 -2.75809496641,-1.09683960676 l-3.07550758123,-0.595324225724 -3.89009475708,-0.0003620244388 l-2.75750011206,0.816095769405 -2.29113280773,1.42393887043 l-1.95413276553,1.73745810986 -2.5669786334,3.43614578247 l-1.2735286355,2.90598779917 -0.989861860871,4.62075203657 l-1.10287764699e-06,3.90399307013 0.0547751411796,2.40621611476 l-5.02344391862e-05,4.53562498093 -0.561834573746,2.95333892107 l-1.06312431395,2.36744016409 -1.39197811484,1.87399983406 l-1.81149438024,1.4499156177 -3.41289192438,1.46371915936 l-4.07461106777,0.591216534376 -2.99031198025,-0.000154946810653 l-2.05114141107,-0.504599288106 -3.31417560577,-2.18389704823 l-1.98922514915,-2.78586387634 -1.16057910025,-3.39478313923 l-0.749077796936,-1.05758979917 -1.1735855788,0.551885999739 l-1.12867623568,2.37056776881 -0.000225016756303,2.13919103146 l1.86253547668,3.32723408937 2.09212735295,2.05651387572 l2.78266966343,1.62848427892 2.35207825899,0.817296206951 l3.75963628292,0.627428814769 4.50475424528,-0.000153672626766 l2.55202025175,-0.602679848671 3.2840013504,-1.56706660986 l2.95549511909,-2.35042721033 2.25631594658,-2.8442376852 l1.56401470304,-3.43744754791 1.15526020527,-1.92337587476 l1.24448925257,-1.33059889078 1.20743431151,-0.737381130457 l2.127353549,-5.7606757764e-05 0.882499217987,0.618953853846 l0.892083570361,1.13026738167 0.919248387218,2.08400338888 l1.45457953215,1.42186954618 2.3826391995,0.643569454551 l3.19635272026,-7.14248699296e-05 1.80601090193,-0.769607052207 l2.01613679528,-1.80690050125 1.76834836602,-2.94737517834 l1.10689990222,-3.9570748806 -0.000208850142371,-3.89997035265 l-0.712704136968,-2.58619070053 -1.0928696394,-1.96944758296 l-1.35899797082,-1.44939050078 -2.53083497286,-1.57845303416 l-1.3102221489,-0.938470289111 m-8.47513616085,2.06321552396 l2.4355866015,-0.519107766449 m0.0358278979547,4.56360518932 l1.47531658411,0.13141923584 1.70170679688,0.58035377413 l1.42589494586,1.11343696713 1.35092258453,1.92930743098 l0.647478997707,3.07652205229 -0.000102521598819,4.67519849539 l-0.69078065455,2.5873413682 -1.09512798488,1.92682042718 l-1.49378657341,1.34781494737 -1.76812708378,0.683051273227 l-1.73257008195,-6.02221098234e-05 -1.2951849401,-1.2457408011 l-1.54103249311,-3.08542668819 -0.340462885797,-2.90916055441 l-9.72003363131e-05,-3.77835482359 m5.41582465172,-4.64801728725 l0.886888504028,1.27891331911 1.70460686088,2.93731004 l1.42219677567,3.44551324844 1.11802093685,3.74898761511 l1.05097316206,4.37461674213 0.681472197175,4.86078739166 l0.532193183899,4.21487510204 0.503655560315,3.45398724079 l0.972457081079,3.35574686527 4.5726788044,0.662470981479 l5.87475061417,0.0322064291686 0.792977139354,-0.890891775489 l-0.000170101102412,-6.2473064661 0.294471308589,-4.34204846621 l0.982625558972,-1.62652179599 6.85891509056,-0.797987431288 l7.57929980755,-0.391377769411 0.904950499535,0.837505757809 l0.270838290453,7.563611269 0.89445322752,4.74498152733 l0.910309106112,0.974612608552 7.57054567337,-0.12530952692 l1.04310050607,-0.603834278882 1.12687677145,-1.70403778553 l1.33766591549,-5.06121516228 0.211263485253,-5.79871416092 l0.121820848435,-4.75001722574 0.359147302806,-4.64286923409 l0.58768376708,-4.5747640729 -7.25926793166e-05,-4.30104911327 l-0.775724723935,-3.36740553379 -1.36360242963,-2.7925285697 l-1.96151554585,-2.37419635057 -4.03261274099,-2.97431200743 l-3.31938505173,-1.49296477437 -5.44422984123,-1.3656245172 l-6.53502523899,-0.000157591148309 -4.3574282527,0.902363657951 l-4.84326660633,1.89100310206 -2.40882813931,1.37651488185 \" fill=\"none\" stroke=\"black\" stroke-width=\"1\"/></svg>"
      ],
      "text/plain": [
       "<IPython.core.display.SVG object>"
      ]
     },
     "metadata": {
      "tags": []
     },
     "output_type": "display_data"
    }
   ],
   "source": [
    "z_0 = np.random.randn(eval_model.hps.z_size)\n",
    "_ = decode(z_0)"
   ]
  },
  {
   "cell_type": "code",
   "execution_count": 84,
   "metadata": {
    "colab": {
     "base_uri": "https://localhost:8080/",
     "height": 163
    },
    "colab_type": "code",
    "id": "6Gaz3QG1FQwS",
    "outputId": "0cfc279c-1c59-419f-86d4-ed74d5e38a26"
   },
   "outputs": [
    {
     "data": {
      "image/svg+xml": [
       "<svg baseProfile=\"full\" height=\"142.446283479\" version=\"1.1\" width=\"121.156762694\" xmlns=\"http://www.w3.org/2000/svg\" xmlns:ev=\"http://www.w3.org/2001/xml-events\" xmlns:xlink=\"http://www.w3.org/1999/xlink\"><defs/><rect fill=\"white\" height=\"142.446283479\" width=\"121.156762694\" x=\"0\" y=\"0\"/><path d=\"M47.3451428087,38.8328450652 m-2.69179135561,-0.522680617869 l-2.46359333396,0.129737621173 -3.64385932684,1.0975138098 l-2.15494379401,1.07036538422 -2.08060890436,1.53608307242 l-1.96840047836,2.08357974887 -1.74982562661,2.6373142004 l-1.34052321315,3.16095918417 -0.773111879826,3.57092946768 l-0.00011535658814,6.66993737221 1.26118257642,3.88434410095 l2.23773092031,3.732226789 3.06275784969,3.34774464369 l3.70705157518,2.74497538805 4.19200122356,2.04243674874 l4.60648804903,1.16009183228 4.82164353132,0.346559546888 l4.85705465078,-0.46856187284 4.67804729939,-1.30255714059 l4.22396481037,-2.06189543009 3.67749035358,-2.70488619804 l2.9124763608,-3.24077129364 2.11292609572,-3.73789638281 l1.22385747731,-4.0058645606 0.389578789473,-4.10688310862 l-0.395166948438,-4.06808823347 -2.03144267201,-4.19365376234 l-2.74696111679,-3.68090391159 -3.35527479649,-3.11336934566 l-3.77657920122,-2.39820197225 -4.10039186478,-1.66519939899 l-4.22022551298,-0.929644852877 -4.23147052526,-0.284992158413 l-3.82128596306,0.320291407406 -3.23317825794,0.905640497804 l-2.34930440784,1.56960785389 m6.13138318062,16.7095828056 l-0.719936415553,1.17638163269 -0.0361430016346,3.35672169924 l1.70996874571,2.95245826244 2.10571438074,1.3426668942 l2.49130383134,0.738167464733 2.69166857004,0.112504223362 l2.34241992235,-1.29301711917 1.75146520138,-1.91541656852 l1.06740474701,-2.18215048313 0.356686748564,-2.17146858573 l-0.306813810021,-2.01713651419 -1.91864490509,-1.80962726474 l-2.74145185947,-0.976984575391 -3.70214641094,-9.05096749193e-05 l-2.21886113286,1.41673818231 -1.0569217056,2.1912111342 m3.31286668777,2.92156904936 l-0.00127496110508,9.13770236366e-05 m4.82796519995,-0.242250692099 l-0.00170641360455,8.72614782566e-05 m-6.82623028755,-0.151730859652 l-0.00119594427815,-9.57147790359e-06 m5.99596917629,0.11367588304 l-0.000914006886887,0.000136158987516 m-16.9885921478,-11.680355072 l-0.818383544683,-0.229816455394 m22.6836252213,-1.48830547929 l0.00150344174472,-0.000165050223586 m-29.3880820274,3.16085159779 l-3.24901610613,-5.98880529404 -4.6749702096,-12.1396255493 l0.10100627318,-2.48672604561 2.45123192668,-1.7078320682 l2.37694829702,0.495375953615 6.47590875626,4.74105596542 l5.4493445158,4.70880299807 2.04894557595,1.55856758356 m20.8354377747,0.784763395786 l0.355187766254,-2.05176264048 3.11466038227,-4.65667247772 l6.12619042397,-6.64859414101 1.80937632918,0.92253126204 l0.291855279356,9.25140440464 -0.0302001321688,7.49153196812 l-0.0555114913732,2.07715794444 m-30.3195738792,21.4522743225 l-2.83037006855,0.808310285211 -2.34350711107,1.84400230646 l-3.49290966988,4.2313721776 -2.72830665112,5.57296454906 l-1.28466308117,4.81901556253 -0.337231941521,4.46374237537 l0.522851757705,4.03009414673 1.33307233453,3.76228779554 l2.22003132105,3.50767344236 3.0556127429,2.98304110765 l3.85734289885,2.40282431245 4.55951154232,1.79839834571 l5.22038280964,1.19931094348 5.79709410667,0.56781925261 l6.00298702717,-0.112360613421 6.04290783405,-0.952734276652 l5.68931043148,-1.74580782652 5.14512181282,-2.44568526745 l4.47602778673,-3.17111521959 3.73202204704,-3.75576108694 l2.85150945187,-4.18114542961 1.86040177941,-4.58756119013 l0.776755735278,-4.70811665058 -0.167255941778,-4.60611075163 l-1.02364048362,-4.13730382919 -1.91024109721,-3.71803939342 l-2.63743102551,-3.18669259548 -3.32270681858,-2.57904231548 l-3.85786920786,-1.87214508653 -4.18146580458,-1.13132365048 l-4.41078215837,-0.471304915845 -4.28273439407,0.0765748461708 l-3.89084875584,0.625018998981 -3.32822203636,1.12325668335 m-17.0552754402,35.0428938866 l-1.10362760723,6.38467431068 -2.09086015821,8.7335306406 l-0.828807502985,4.63682770729 m14.5904958248,-15.6632947922 l0.0219103763811,10.053716898 0.203560218215,3.23187142611 \" fill=\"none\" stroke=\"black\" stroke-width=\"1\"/></svg>"
      ],
      "text/plain": [
       "<IPython.core.display.SVG object>"
      ]
     },
     "metadata": {
      "tags": []
     },
     "output_type": "display_data"
    }
   ],
   "source": [
    "z_1 = np.random.randn(eval_model.hps.z_size)\n",
    "_ = decode(z_1)"
   ]
  },
  {
   "cell_type": "markdown",
   "metadata": {
    "colab_type": "text",
    "id": "oVtr7NnGFQwU"
   },
   "source": [
    "Tribute to an episode of [South Park](https://en.wikipedia.org/wiki/An_Elephant_Makes_Love_to_a_Pig): The interpolation between an Elephant and a Pig"
   ]
  },
  {
   "cell_type": "code",
   "execution_count": 0,
   "metadata": {
    "colab": {},
    "colab_type": "code",
    "id": "lJs9JbROFQwU"
   },
   "outputs": [],
   "source": [
    "z_list = []  # interpolate spherically between z_1 and z_0\n",
    "N = 10\n",
    "for t in np.linspace(0, 1, N):\n",
    "    z_list.append(slerp(z_0, z_1, t))\n",
    "# for every latent vector in z_list, sample a vector image\n",
    "reconstructions = []\n",
    "for i in range(N):\n",
    "    reconstructions.append([decode(z_list[i], draw_mode=False, temperature=0.15), [0, i]])\n"
   ]
  },
  {
   "cell_type": "code",
   "execution_count": 0,
   "metadata": {
    "colab": {},
    "colab_type": "code",
    "id": "0FOuNfJMFQwW"
   },
   "outputs": [],
   "source": [
    "stroke_grid = make_grid_svg(reconstructions, grid_space_x=25.0)"
   ]
  },
  {
   "cell_type": "code",
   "execution_count": 87,
   "metadata": {
    "colab": {
     "base_uri": "https://localhost:8080/",
     "height": 130
    },
    "colab_type": "code",
    "id": "bZ6zpdiMFQwX",
    "outputId": "70679bd1-4dba-4c08-b39f-bbde81d22019"
   },
   "outputs": [
    {
     "data": {
      "image/svg+xml": [
       "<svg baseProfile=\"full\" height=\"109.00576679\" version=\"1.1\" width=\"862.546443792\" xmlns=\"http://www.w3.org/2000/svg\" xmlns:ev=\"http://www.w3.org/2001/xml-events\" xmlns:xlink=\"http://www.w3.org/1999/xlink\"><defs/><rect fill=\"white\" height=\"109.00576679\" width=\"862.546443792\" x=\"0\" y=\"0\"/><path d=\"M25,38.1831235842 m0.0,0.0 m40.3581455331,2.82800302197 l-0.378496597211,-0.942793885867 -1.08258038759,-0.83274135987 l-1.8540841341,-0.789756278197 -2.15390443802,-0.487522731225 l-2.79743472735,-0.000234783122626 -1.7284421126,0.606830815474 l-1.53313219547,1.02461586396 -1.29573484262,1.22345874707 l-1.58294657866,2.25630164146 -0.798018773397,1.92778845628 l-0.568047215541,2.96886920929 3.9221716482e-05,2.74062494437 l0.0825978443027,1.70337537924 0.0658295986553,1.83018108209 l-4.18956369685e-05,2.86497910817 -0.36412725846,2.06300278505 l-0.580140650272,1.543366611 -0.913490056992,1.52876536051 l-1.1813339591,1.22372478247 -1.29933635394,0.753335903088 l-2.1799403429,0.532850772142 -1.8045214812,-9.4624022798e-05 l-1.25179062287,-0.368923122684 -1.72518908978,-1.17050498724 l-1.45504683256,-1.84583723545 -0.755226860444,-2.00826346874 l-0.985868275166,0.210959662994 -1.00094437599,1.68799161911 l0.108616761863,2.33768125375 0.753759394089,1.22163434823 l0.915662447611,0.952262282372 1.72761420409,0.970152616501 l2.33942826589,0.738220065832 2.66645093759,-3.50273846076e-05 l1.60050223271,-0.253365536531 2.26083318392,-0.883591671785 l2.00808962186,-1.36971453826 1.50928040346,-1.65376057227 l1.37365102768,-2.43256568909 0.475250035524,-1.12122406562 l0.861239135265,-1.7592249314 0.846806466579,-1.2684978048 l0.72356586655,-0.473249256611 1.39712731043,-7.09822537222e-05 l0.63394472003,0.422367701928 0.62478368481,0.72414735953 l0.669047733148,1.25953455766 1.00913008054,0.764722476403 l1.81411385536,0.287176221609 2.47577369213,-2.5789419548e-05 l1.06462736924,-0.458767265081 1.30395621061,-1.1537061135 l1.06676538785,-1.77375157674 0.723564475775,-2.5575919946 l-0.000155070022932,-2.51510798931 -0.39561457932,-1.60602162282 l-0.643726934989,-1.38317296902 -0.854347546895,-1.06314480305 l-2.43696173032,-1.57457093398 -0.937446753184,-0.636196732521 l-1.48657073577,-0.648199866215 m-3.64236474037,2.49623179436 l-0.000173840526259,0.84529966116 m1.12244407336,0.867857038975 l-0.0002331820239,1.01362705231 m3.33216090997,1.85423254967 l-0.00010090814006,2.0757273833 0.197403617203,1.46861940622 l0.372601772348,3.40051015218 0.380365500847,3.70887160301 l0.185999895136,4.0286608537 0.213129892945,2.76001870632 l0.464647163947,0.665376186371 3.83311033249,0.32306474944 l0.50651734074,-0.563532114029 -0.000109039259163,-3.79998922348 l0.536116858323,-3.05108428001 0.671009868383,-0.686208158731 l1.75060470899,-0.408555269241 0.567283580701,0.4294462502 l0.309656634927,0.863170226415 0.0688720370332,4.64280088743 l0.611871977647,1.92999521891 0.656995574633,0.521012445291 l1.82740231355,0.000106826288781 0.691714435816,-0.423030406237 l1.00126475096,-1.99268082778 0.305511454741,-5.19896666209 l0.746012379726,-1.12652818362 4.29864366849,-0.407001078129 l4.13205067317,-0.32341239353 0.506373544534,0.531463126342 l-0.0732465833426,4.37028686206 0.458998382092,3.29502264659 l1.4017272989,0.839974880219 1.68818195661,-6.1790979089e-05 l0.671848207712,-0.514399906 0.926823019981,-2.3958359162 l0.368392691016,-2.92728265127 -7.74879360203e-05,-2.11215595404 l0.469564547141,-0.575836400191 0.643949558338,0.636035899321 l0.616255005201,4.11497950554 0.562191704909,3.1211344401 l0.556699385246,0.607586105665 2.47283756733,-0.480076819658 l0.643956561883,-0.682924042145 0.572394082944,-1.56708449125 l0.27671555678,-2.55557676156 -0.23298509419,-3.28345259031 l-1.5864850084,-7.74031877518 -0.352423340082,-1.64118091265 l-0.655504117409,-1.61060283581 -1.01384510597,-1.44528677066 l-1.4810226361,-1.34819507599 -2.83679922422,-1.56789163748 l-3.74763170878,-1.24461640914 -4.67546860377,-0.805585235357 l-5.31808018684,-0.000146045761843 -3.03719202677,0.46410664916 l-3.24039161205,1.0053323706 m79.7116583084,-5.13219681341 l-0.534425328175,-0.964543720086 -1.18314961592,-0.770847549041 l-2.07376460234,-0.744169702133 -2.1265121301,-0.292076120774 l-2.80123472214,-0.000243839604082 -1.96544647217,0.556908349196 l-1.16316884756,0.57935471336 -2.22630143166,1.6610784332 l-1.31700525681,1.58782680829 -0.867328047752,1.66680733363 l-0.918102065722,2.9907176892 -0.183018743992,1.4225028952 l3.67350518597e-05,3.36017052333 0.0934144792457,1.85742298762 l1.74072420123e-05,3.28979412715 -0.288573130965,2.11588561535 l-0.531477679809,1.81433618069 -0.749007413785,1.56301945448 l-0.993230640888,1.26051257054 -1.2416540583,0.92407176892 l-2.32341766357,0.966442426046 -2.55559941133,0.401263435682 l-2.18913296858,-4.30526779382e-05 -1.22439950705,-0.136788686117 l-1.54078394175,-0.480284790198 -1.54578864574,-1.04070593913 l-1.1411378781,-1.50937368472 -0.627775837978,-0.787282536427 l-0.96553593874,-1.31941934427 -0.691318909327,0.104696303606 l-0.310184185704,0.844540099303 -0.000117097576246,1.56131396691 l1.40984346469,2.5635834535 1.92644695441,1.93178574244 l1.8845230341,0.959753592809 2.53824969133,0.700077911218 l1.97615305583,0.16793658336 3.50420753161,-1.93783853319e-05 l1.95971866449,-0.527037382126 2.38549470901,-1.24050954978 l2.15361714363,-1.85225844383 1.65720085303,-2.36476858457 l1.15816503763,-2.84471869469 0.80541079243,-2.26260741552 l0.746504664421,-1.46713803212 0.821268161138,-0.539925595125 l1.55364175638,-1.90746031118e-06 0.730584015449,0.371394455433 l0.852735837301,1.02067460616 1.14939173063,0.605365733306 l2.13381290436,-4.34023543979e-05 1.17937932412,-0.55977900823 l0.790538340807,-0.857036411762 m-3.63712867101,-14.1274038951 l1.3760972023,-0.912242233753 1.55219137669,-0.430446763833 l2.39244083563,-0.0503830829014 0.857728024324,0.355421875914 l1.29307945569,1.30189627409 0.739156752825,1.24422649542 l0.660279293855,2.20664203167 0.289188126723,3.14302126567 l-8.30073016308e-05,3.1806153059 -0.52254597346,1.75252715747 l-0.862245559692,1.25282615423 -1.85159166654,1.26960009336 l-1.65028591951,0.366788829366 -2.25817700227,-0.214088335633 l-0.803025116523,-0.409304474791 -1.24818940957,-1.3160615166 l-0.378351633747,-1.59562071164 -0.000143288210287,-2.24053442478 m-2.62423614661,-3.76348574956 l-0.0199473897616,0.000118513659496 m1.4131774505,3.57199748357 l-0.00226518566099,-0.000180833934185 m3.06408603986,2.23802169164 l0.451335062583,0.76301202178 0.771556695302,2.30067213376 l1.1384382844,6.79978450139 0.482720434666,4.13218776385 l0.462354371945,3.28245719274 0.521697103977,0.661311795314 l3.84202162425,0.258036305507 0.600000619888,-0.425707697868 l-0.000196825300615,-3.90051960945 0.507809619109,-3.28396201134 l0.903975168864,-1.05325698853 4.45390383403,-0.68353826801 l0.523834874233,0.603774885337 -0.0570204046865,4.91134643555 l0.373570298155,2.66630868117 0.619552284479,0.685947885116 l3.51276914279,0.0567222572863 1.18031442165,-0.538840293884 l0.440325041612,-0.764643847942 -0.000151193380589,-3.97840579351 l0.190573843817,-2.80719002088 0.668379018704,-0.860503216585 l2.33252326647,3.47267329441e-05 0.679913262526,0.514319837093 l0.43888002634,0.823498268922 0.26270399491,4.79691545169 l0.555342882872,2.22365399202 3.36935361226,-0.0917274442812 l0.659233778715,-0.603580772877 0.651618242264,-1.52456849813 l0.368426019947,-3.6311451594 0.345245997111,-1.78049067656 l0.538131246964,-0.827623556058 0.90218881766,-0.806671530008 l0.700119634469,0.415915946166 0.72043304642,3.49637468656 l0.421292185783,3.69639555613 0.73510641853,0.658034980297 l2.76178518931,-0.4612797002 1.15869561831,-1.09328111013 l0.845655699571,-1.93027396997 0.42413264513,-2.78382837772 l-0.00011981192074,-4.58570599556 -0.524333765109,-2.44391679764 l-0.790698478619,-1.94302380085 -1.16065432628,-1.85378154119 l-2.43557810783,-2.37028360367 -3.46931060155,-2.14082181454 l-4.22654827436,-1.65003468593 -4.79891777039,-0.981968442599 l-4.46155667305,-0.000143765670752 -3.40217192968,0.413642177979 l-2.61940618356,0.558153837919 m75.5132760441,-8.40224927805 l-0.647881726424,-0.960763891538 -1.26269598802,-0.726388494174 l-2.15833147367,-0.63084974885 -2.21422175566,-0.284533600012 l-2.65532354514,-0.000208413475775 -2.12707161903,0.545661002398 l-1.88203990459,0.811405132214 -1.69594566027,1.04265034199 l-1.50009642045,1.27114037673 -1.24306132396,1.51177565257 l-1.01501643658,1.76229854425 -0.710816433032,1.96989476681 l-0.425152728955,2.17080930869 6.39894763784e-05,3.37467153867 l0.291962871949,2.17578053474 0.879583954811,2.53084381421 l1.06266836325,2.12567985058 0.704809476932,1.8490922451 l1.12576633692,2.60938028495 0.497678667307,1.7729049921 l-0.000165063502209,2.50708401203 -0.475227087736,1.73998773098 l-0.817156980435,1.4180385073 -1.78509771824,1.59424990416 l-2.47498353322,1.028607289 -1.83643897374,0.152688051263 l-1.33292396863,-0.26259072125 -1.96042160193,-1.10797444979 l-2.19042738279,-2.75286436081 -1.08127564192,0.303873121738 l-1.056719323,1.64147913456 -0.0979286494354,0.913392106692 l0.67027464509,1.07767870029 0.79878722628,0.530536919832 l2.83552885056,0.918850501378 3.89806747437,1.26897166173 l2.87489195665,-8.76343923058e-05 1.91488385201,-0.452749629815 l2.37889866034,-1.14426493645 1.62321607272,-1.12925757964 l1.1673121651,-1.19755993287 1.28890474637,-2.07585493724 l0.969984928767,-2.94090072314 0.449963708719,-3.29785267512 l-7.33243299085e-05,-3.25279374917 0.241634150346,-2.25258529186 l0.797278185685,-1.72163466612 0.938709676266,-1.06643905242 l1.75387680531,-1.10440423091 m-2.72444506486,-11.6758179665 l0.286355639497,-0.546262462934 0.626622637113,-0.599536846081 l1.96319381396,-1.06431772312 3.32770168781,-0.510656734308 l0.910985271136,0.309930344423 1.47711018721,1.25898162524 l0.879173477491,1.27136657635 0.855350494385,2.29548195998 l0.291337395708,1.82810862859 -6.38236754943e-05,3.02494565646 l-0.560714403788,1.63099984328 -0.879491269588,1.19493295749 l-1.19411458572,0.82881535093 -2.26322690646,0.712331881126 l-1.92267358303,-0.000178198606591 -0.809875279665,-0.336018204689 l-1.23175481955,-1.1898213625 m-3.60740145048,-8.77147992452 l0.112482607365,-0.916004876296 m6.78384542465,1.62390093009 l0.00462777485761,-0.000229786043443 m-5.29548724492,3.76700321833 l0.701081156731,0.640078534683 0.649882505337,0.549351771673 l0.658070196708,0.417485684156 0.375042979916,-0.696687251329 l-0.423174848159,-0.806962251663 m8.33309014638,-2.42909451326 l2.59452342987,-0.691444476446 8.31813017527,-0.879020492236 l6.52191758156,-0.000213119055843 2.52151290576,0.619594405095 l2.68112421036,1.31535361211 1.98535958926,1.6590466102 l1.51564031839,2.15068459511 0.827713012695,1.84072415034 l0.691826293866,3.000395298 0.221509610613,3.94432544708 l-0.000106671189618,5.18694122632 -0.377974982063,4.84821677208 l-0.531290521224,2.14587787787 -0.884785453478,1.43681834141 l-1.106886367,0.695691605409 -3.0740104119,0.477965424458 l-1.22377961874,-1.09733621279 -0.672897746166,-4.44076895714 l-0.954189896584,-3.58174880346 -0.673738668362,-0.745817323526 l-2.1784255902,-0.000104247543883 -1.35562231143,1.14838172992 l-0.395587881406,0.890419781208 -0.0263374081502,5.17324050268 l-0.41999856631,1.27704113722 -0.870176255703,0.783225695292 l-1.1245076855,0.217171783249 -1.88552260399,-0.264673605561 l-1.07135802507,-1.80652896563 -0.704059700171,-4.45305307706 l-0.692573289076,-2.02652732531 -0.730614215136,-0.559645990531 l-5.43788989385,0.476517528296 -1.40619466702,0.533642868201 l-0.846010446548,1.2559680144 -0.451127588749,4.80163057645 l-0.877423783143,1.90282503764 -0.993545552095,0.782089432081 l-0.979502598445,0.015260844181 -0.870530605316,-0.779929608107 l-0.542356520891,-1.51098887126 -0.000193568812392,-2.57950762908 l0.0536111245553,-2.12659657001 -0.285916179419,-1.28255575895 l-0.652279953162,-0.869114995003 -0.864738921324,-0.355312824249 l-0.830605526765,-0.0214746175334 m106.564250326,-23.5015943551 l-0.8359186848,-0.929940342903 -1.35635276635,-0.626590549946 l-3.30032467842,-0.707925061385 -2.62112597624,-0.000154627668962 l-1.37689153353,0.255354270339 -1.45128508409,0.515303810438 l-2.70540734132,1.52670313915 -1.77777806918,1.64565642675 l-1.44258250793,1.77874346574 -1.19033147891,1.96556707223 l-0.943043828011,2.18005875746 -0.627740869919,2.191375494 l-0.30909443895,2.65537758668 0.0233746242399,2.60044296583 l0.342031295101,2.46173938115 0.648016234239,2.2791882356 l0.899914105733,2.09712306658 1.16107106209,1.88844124476 l1.38155132532,1.63490841786 1.57233804464,1.34339034557 l1.67730510235,1.01052035888 1.72975341479,0.699525078138 l1.76832238833,0.421768526236 3.04851174355,0.211225201686 l1.36665115754,-0.151399299502 2.62260635694,-0.834602018197 l2.14200556278,-1.11699114243 1.75690690676,-1.35029186805 l1.39558106661,-1.55723164479 1.10926111539,-1.7773793141 l1.20828429858,-3.21798543135 0.541600733995,-2.82770117124 l2.44123596834e-05,-3.71589422226 -0.574120829503,-2.461181283 l-0.955669184526,-2.21420407295 -1.9205413262,-2.94648309549 l-1.71447734038,-1.78497274717 -2.5896825393,-1.93284829458 l-1.0084293286,-0.506071597338 m-9.47815100352,9.65227206548 l-0.734680344661,0.0389110421141 -0.829777568579,0.926441550255 l-0.37808428208,1.77599092325 1.11476292213,1.76648199558 l1.72395904859,0.27697339654 0.946897367636,-0.56112964948 l0.51002835234,-0.957122445107 -9.69209274141e-05,-1.54203285774 l-0.669279346863,-0.827829390764 -0.998748938243,-0.389768605431 m9.53479448954,-0.066328595082 l-1.17765317361,0.164036837717 -0.992639660835,0.874088009199 l-0.492218534152,1.26288791498 0.774726271629,0.887711842855 l1.77228053411,-0.0798784134289 0.755056589842,-0.693933566411 l0.292042319973,-0.956574380398 -0.831689089537,-1.10622733831 m-7.53762483597,2.89732416471 l-1.04216466347,-0.173462728659 -1.09594245752,0.608825584253 l-0.628698815902,0.775323311488 -0.570402592421,1.60968770583 l-9.47604712564e-05,1.47077997526 0.923709173997,0.898469090462 l1.39354914427,0.222882504265 1.035810709,-0.478303283453 l0.795981486638,-0.805468509595 0.765095502138,-1.63640151421 l-0.000129469784345,-1.37817243735 -0.646793246269,-0.619074006875 l-0.952570339044,-0.161220344404 m-1.68619930744,2.19518939654 l0.00620740000159,-0.000125235989496 m2.2027405103,0.203363224864 l0.000737955027337,-0.000154809422384 m-3.31751366456,-2.91773796082 l-0.829815715551,-2.11923201879 -0.926848848661,-2.0820804437 l-2.05889503161,-3.87685338656 -3.32043727239,-3.7465830644 l-2.90969689687,-1.89979036649 -3.20946355661,-1.03506485621 l-2.58579969406,-0.262776762247 -2.48687704404,0.173400963346 l-2.33726004759,0.762948840857 -3.27855606874,1.9306888183 l-1.9774689277,1.90409680208 -2.11966355642,3.11410407225 l-0.648252765338,1.49559527636 -0.714023311933,3.22091182073 l-0.000252689060289,3.98094177246 0.355246936282,1.42744024595 l1.27472807964,2.58043309053 2.33363330364,2.57866382599 l3.27625274658,2.27672477563 2.60706722736,1.23861183723 l3.89643867811,1.07744902372 3.09864858786,0.402763113379 l4.17006572088,2.56110403522e-05 2.16243743896,-0.477393666903 l2.98316737016,-1.26785218716 2.06276595592,-1.3172930479 l2.22246905168,-2.10604826609 1.3653537631,-1.94781422615 l0.895709395409,-2.46929506461 m-28.2464059194,2.10712095102 l-0.699154039224,1.00234945615 -0.876231789589,2.26576268673 l-1.07568065325,4.38429077466 -0.281238580743,3.04650743802 l0.823096980651,2.14937667052 1.89702987671,0.0923477113247 l1.39577716589,-1.3576216499 1.48643483718,-4.86939787865 l0.60297931234,-3.64050626755 0.203342499832,-1.17834041516 m11.4486122131,2.94936021169 l-0.371311629812,1.19553267956 -0.275327836474,6.04178706805 l0.574972977241,1.67146941026 1.78780794144,0.195531696081 l1.56743486722,-0.917878448963 1.14330857992,-1.1637343963 l0.710085978111,-1.28386169672 0.575541208188,-2.54204293092 l-8.93843692514e-05,-2.91641930739 -0.453836818536,-1.5562642614 m79.2748980218,-24.5869792199 l-0.971046884855,-0.867474973202 -1.46589348714,-0.548089792331 l-2.50363588333,-0.398507937789 -2.81543215116,-0.000246229853171 l-1.5938436985,0.256129826109 -1.60785883665,0.541033148766 l-1.65196935336,0.868580142657 -1.60556922356,1.2014601628 l-2.42566823959,2.61060198148 -1.70039653778,2.50495175521 l-1.29592676957,2.55882680416 -0.882117251555,2.52986967564 l-0.511224021514,2.55692323049 -0.161388317744,2.43827839692 l0.152242469291,2.42023507754 0.4939387242,2.34771807988 l0.80506230394,2.20353364944 1.13302191099,2.09953566392 l1.43125146627,1.95468525092 1.70369187991,1.70558194319 l1.94754024347,1.42887145281 2.09610760212,1.11256092787 l2.17502454917,0.766866207123 2.28775342306,0.461097906033 l2.41460720698,0.165045186877 2.37554212411,-0.179974312584 l2.20721860727,-0.543061246475 2.12297916412,-0.899475415548 l1.89038614432,-1.18651260932 1.64752890666,-1.46011521419 l2.23011295001,-2.99575229486 1.45581156015,-2.92031566302 l0.909846425056,-2.8982202212 0.518105576436,-4.19644792875 l-6.07771410917e-05,-4.05354976654 -0.794159521659,-2.87876149019 l-1.22556885084,-2.25557386875 -3.98277123769,-4.44009542465 l-1.37672275305,-1.05448037386 -2.62145062288,-1.312918365 l-3.19632649422,-0.888634324074 -1.96316679319,-0.000108636716808 m-3.15690696239,13.7105512619 l-0.911082327366,0.464108784993 -1.05955272913,1.75624271234 l-0.365458130836,1.83434089025 0.292165453235,2.59661912918 l0.934684475263,1.32930805286 1.2224282821,1.01929644744 l1.40903741121,0.603738427162 1.46144151688,0.23846099774 l1.50598456462,-0.116787801186 1.36866162221,-0.472453435262 l1.1826718847,-0.781601071358 0.942946374416,-1.0143789649 l0.835218429565,-1.96845670541 -0.000106776945662,-1.7903594176 l-0.927516321341,-1.60546263059 -0.900430977345,-0.781974693139 l-3.03200105826,-1.34614785512 -2.36951212088,-0.000103803710469 l-1.0144524773,0.779593487581 m0.931751430035,3.35369825363 l0.139859132469,1.31571918726 m3.34500153859,-1.1733725667 l0.182694134613,1.51068518559 m-9.2307917277,-11.1255200704 l-0.684735576312,0.353486388922 -0.489250322183,0.741163740555 l0.610224207242,0.680586844683 1.28118256728,-0.444026986758 l-0.0803244300187,-0.700259457032 -0.728257447481,-0.0351024698466 m13.9569711685,-0.197812095284 l-0.958401064078,0.0771875617405 -0.444495578607,1.05291763941 l1.34977012873,0.00803965609521 0.418375879526,-0.850986838341 l-0.778843810161,-0.545880099138 m-17.2221088409,5.82247773806 l-2.30158567429,-3.29793492953 -1.24518980583,-1.61968012651 l-1.03709052006,-1.5229767561 -1.42911007007,-2.35543509324 l-1.58790787061,-2.82951394717 -1.00155373414,-2.03411122163 l-0.687705179056,-1.7156992356 -0.000296567741316,-1.89972778161 l0.886005560557,-1.46123031775 1.2970679005,-1.07330421607 l1.50214781364,-0.761126826207 2.79205103715,-0.704377094905 l2.48654047648,-0.000174955494003 1.19051992893,0.469954262177 l1.92136963209,1.50538424651 1.85721496741,2.37062553565 l0.992246568203,1.95169488589 0.490452001492,1.78709208965 l-0.000137650871087,2.18647539616 m11.5213624636,-0.00323995132931 l-0.0061827719522,-1.23110572497 0.644080390533,-1.55405431986 l3.32051813602,-4.12689010302 3.14325869083,-1.97320997715 l1.86947305997,-0.365746418635 1.87651475271,-3.16206690817e-05 l1.55931343635,0.395172635714 0.97892810901,0.756886551778 l0.725336621205,1.0902022322 0.612259904544,2.43105987708 l-4.62302674957e-05,2.82746752103 -0.693606038888,2.2895381848 l-1.15415821473,1.94172163804 -2.52516686916,2.69734462102 l-1.8296444416,1.17921600739 -1.7508739233,0.54782902201 m-17.0965019862,17.8230158488 l1.19395524263,2.3029345274 1.66545371215,3.07791848977 l2.56119529406,4.26382422447 1.64490302404,1.8324893713 l3.49543054899,2.20730721951 5.378784736,1.59658203522 l6.03188673655,0.493043164412 7.53635327021,-0.483198712269 l3.03412357966,-0.906266967456 3.12817931175,-1.75696531932 l1.03163450956,-0.988749563694 1.33504668872,-2.27975050608 l0.680062572161,-2.29333500067 0.172047540545,-2.14742918809 l-0.441866070032,-3.23812862237 -1.11529936393,-2.5451918443 l-2.3084272941,-3.00364136696 -1.21870050828,-1.10482643048 l-2.72103309631,-1.59819851319 -5.54970026016,-1.4857874314 l-2.73417274157,-0.396461958687 m62.8230965459,-14.3194284929 l-1.12981756528,-0.79553609093 -1.51499976714,-0.40155266722 l-2.56092270215,-0.246127694845 -2.63685047626,-0.000207019741841 l-1.64243986209,0.275693212946 -1.64336035649,0.571189274391 l-1.66727701823,0.886213580767 -1.60440852245,1.22024248044 l-1.47552947203,1.58163964748 -1.25351468722,1.93842113018 l-1.03738854329,2.24545478821 -0.757979154587,2.49335726102 l-0.463715990384,2.71908442179 -0.141741981109,2.80386865139 l0.217911303043,2.86284804344 0.61844120423,2.81956374645 l0.979833602905,2.62819806735 1.29883070787,2.39105045795 l1.6482407848,2.17134435972 1.90934975942,1.80664757888 l2.10616072019,1.44580821196 2.25942333539,1.0632883509 l2.29105710983,0.616307357947 2.39800512791,0.264259452621 l2.42815037568,-0.0741599376003 3.84582797686,-0.921137531598 l2.31999754906,-1.2993490696 2.05285509427,-1.66162580252 l1.76031728586,-2.00528581937 1.39533172051,-2.20441480478 l1.00474476814,-2.40260402362 0.603589067856,-2.50433564186 l0.232039019465,-2.53064413865 -4.87302380255e-05,-4.03476675351 l-0.727755129337,-3.23116759459 -1.22170855602,-2.7129693826 l-2.52184947332,-3.57185562452 -3.4118950367,-3.13405851523 l-2.2431798776,-1.35283648968 -2.98334777355,-1.10996544361 l-2.17325905959,-0.231633558869 m-3.38734110196,13.0691671371 l-1.15866154432,0.0176173976312 -1.32292807102,1.42227043708 l-0.593822797139,1.77099704742 -0.195343929032,1.77967528502 l1.39771550894,2.92918523153 1.52879486481,1.01846218109 l1.76056901614,0.62690620621 1.81700487932,0.182609880964 l1.55074814955,-0.622192273537 1.20919942856,-1.01416895787 l0.876050889492,-1.27239535252 0.496501326561,-1.41692062219 l0.126541989545,-1.48920685053 -0.762240886688,-1.59016340971 l-1.50445570548,-1.20410054922 -2.49162534873,-1.05361739794 l-1.03541374207,-0.17597147574 -1.51379664739,0.165620831152 m0.114982662102,3.95725727081 l-0.00212222958604,-9.09899184383e-05 m3.6805609862,0.508363246918 l-0.0013551087856,2.97475253319e-05 m-7.92772134145,-9.47361389796 l-0.624754726887,0.0123871684385 -0.407270292441,0.629617621501 l0.70410763224,0.313035150369 0.0610893281798,-0.688668092092 l-0.554729998112,0.163368272285 m13.0640610059,0.457083831231 l-0.439965029558,0.267499536276 0.39439484477,-0.191245327393 l-0.62076985836,-0.0818899273872 m-0.188667873542,-7.06979751587 l0.367778961857,-0.966143608093 1.76057199637,-2.22478469213 l1.79595371087,-1.74843947093 3.40641975403,-2.2789500157 l0.859870612621,0.775059958299 -0.145454009374,4.55823699633 l-0.760518014431,4.39687053363 -0.436667154233,2.71394272645 m-17.948975563,-3.95501097043 l-1.04256480932,-1.05839957794 -2.80719121297,-3.64308834076 l-2.14341839155,-1.38905922572 -1.17021759351,0.706025063992 l-0.531506786744,3.04805298646 0.0729408301413,5.29054760933 l0.399306640029,1.35889540116 m11.5204222997,14.8954216639 l0.327262505889,2.45253145695 0.907413562139,2.45075702667 l1.62405987581,2.22683429718 2.61703590552,2.00698991617 l2.38111078739,1.19970152775 2.55230565866,0.842008690039 l2.67303268115,0.496984372536 2.8960643212,0.235458339254 l4.77244853973,-9.05550715894e-07 2.61509418488,-0.450668831666 l2.34903931618,-0.771254400412 2.02198704084,-1.06630772352 l2.31478134791,-1.9957925876 1.54211223125,-2.035531799 l1.01542939742,-2.17738767465 0.579651792844,-2.20768868923 l0.141118379931,-2.21472700437 -0.259724333882,-2.1388365825 l-1.03616386652,-1.91387573878 -2.75118966897,-2.85303254922 l-2.69380152225,-1.54069473346 -4.10057981809,-1.24231646458 l-3.0968383948,-0.227525358399 -3.89745910962,0.404270266493 l-1.96112612883,0.798618396123 -1.53197298447,0.985711912314 m19.5063622793,3.78476381302 l0.30770589908,-1.14298045635 0.897249082724,-1.22823625803 l2.23945399125,-2.33136018117 1.69085323811,-1.35114302238 l1.68240070343,-1.05445732673 1.6200063626,-0.781077692906 l1.57256374756,-0.606565425793 1.59098555644,-0.534715503454 m45.8303083918,-5.90680368802 l-1.32181316614,-0.696566601594 -1.58976713816,-0.301895911495 l-3.60098401705,-0.000175939773423 -1.64404183626,0.251635164022 l-1.66423847278,0.499990185102 -1.66564941406,0.786929180225 l-1.63026213646,1.11218680938 -1.55468136072,1.45253608624 l-1.42192373673,1.85324589411 -1.19377762079,2.1664061149 l-0.940565268199,2.47203330199 -0.593357384205,2.74756173293 l-0.226263006528,2.8936924537 0.176474315425,2.88355271022 l0.566379676263,2.82301882903 1.01368019978,2.76032606761 l1.38232588768,2.50653386116 1.77576005459,2.21076528231 l2.12171534697,1.85825069745 2.46179163456,1.51492377122 l2.63183693091,1.08334531387 2.67756144206,0.607339690129 l2.82218674819,0.183441701035 2.81528353691,-0.242782384157 l2.73338615894,-0.714932084084 2.51052061717,-1.09496206045 l2.29596714179,-1.45826925834 1.93428675334,-1.75643523534 l1.60605420669,-2.1057120959 1.27954582373,-2.40260998408 l0.884186724822,-2.69420683384 0.443954914808,-2.82279670238 l0.0560313463211,-2.82183766365 -0.358153358102,-2.7446860075 l-0.711788336436,-2.49340931575 -0.988173882167,-2.2741462787 l-1.27684295177,-2.07788189252 -2.80687967936,-3.0312560002 l-1.59823089838,-1.24876091878 -3.2732129097,-1.78628842036 l-3.90987038612,-1.23308817546 -1.46195958058,-0.172827318311 m-3.2530862093,14.3450276057 l-1.06376171112,0.352055976788 -0.919103225072,1.04612181584 l-0.542291253805,1.64825091759 -7.46418057436e-05,2.22931702932 l0.445475280285,1.24240338802 1.4945062995,1.80860201518 l1.62670691808,0.804269860188 1.80704156558,0.335259512067 l1.7467212677,-0.107152486841 1.56035761038,-0.501735260089 l1.25533511241,-0.85783491532 1.42317324877,-2.77207553387 l0.098462831229,-1.27712736527 -0.291458194455,-1.36740118265 l-1.15637342135,-1.34330123663 -1.65502876043,-0.890019635359 l-1.78598225117,-0.363053853313 -2.57903158665,0.00635731926498 l-1.0318612059,0.663161973159 m1.10991577307,3.88962546984 l-0.00173378250717,1.14884255709e-05 m4.00564750036,0.0490565411747 l-0.00154553728256,3.28662963511e-07 m-9.79116678238,-9.39455111821 l-0.484281877677,0.197227622072 m14.2398643494,0.239721387625 l-0.000398427558442,-0.000119846178374 m-17.3471196493,-1.2746566534 l-0.848305424054,-1.67860031128 -2.34099368254,-6.14722768466 l-0.143376712998,-2.02999750773 1.38131966194,-0.721318721771 l4.18757398923,2.40136722724 3.44883203506,2.39246249199 l1.19005203247,0.555234948794 m11.830672423,1.01278712352 l0.460150589546,-1.21497799953 2.15295771758,-2.58260846138 l3.88810356458,-3.67513140043 0.761789778868,1.03507846594 l-0.44854114453,6.16551240285 -0.676013727983,4.44737911224 l-0.0511569002022,0.738421827555 m0.0916396578153,4.3244600296 l0.546169777711,-1.08410398165 1.74984236558,-1.10997100671 l2.24057575067,-0.895387927691 2.41800069809,-0.540547569593 l2.39722808202,-0.194439875583 3.51889093717,0.317560955882 l1.65592779716,0.545362432798 1.56011551619,0.85773696502 l2.13013211886,1.92813237508 1.38341426849,1.9092386961 l0.958067675432,1.93765719732 0.611312886079,2.04729775588 l0.291144624352,2.08628575007 -0.0104794480527,2.06369082133 l-0.633243868748,2.1263786157 -1.32506022851,1.92677716414 l-3.06176682313,2.70227928956 -4.26020900408,2.19193061193 l-3.45575769742,0.969866613547 -4.84162211418,0.438048988581 l-4.42209124565,-0.000127416230195 -3.23569138845,-0.997970799605 l-4.22260522842,-2.85607556502 -0.852894882361,-0.911983251572 m27.4007511139,-15.9365193049 l0.503930399815,-1.02240463098 0.929850041866,-1.32664779822 l2.10241019726,-3.03084115187 0.688845564922,-1.36864046256 l0.593670904636,-1.99623147647 -0.000224924976161,-2.07261244456 l-0.928399264812,-1.431265076 -1.36018484831,-0.718771914641 l-1.34613295396,0.0285808338473 -1.00855698188,0.91886729002 l1.05499943097,1.20988508066 2.1756196022,-0.403363108635 l1.05629185836,-0.928923288981 0.827449460824,-1.28292292356 l0.517874608437,-1.48052314917 0.209566255411,-2.48330036799 l-0.718021690845,-1.07242296139 -1.34092966715,-0.18439779679 l-0.933951437473,0.776631484429 1.62936757008,0.0197266073277 l0.774137973785,-0.867503186067 0.709690451622,-1.86191638311 m51.0899237143,4.68367130498 l-1.46161884069,-0.589436093966 -1.64665023486,-0.186042065422 l-3.61164331436,-0.000100468114397 -1.55333012342,0.293790722887 l-1.55213445425,0.570590645075 -1.55243128538,0.89785138766 l-1.4977350831,1.2358725071 -1.43548429012,1.64466450612 l-1.29282146692,2.09179957708 -0.995212197304,2.39210307598 l-0.651239305735,2.67156898975 -0.273681605856,2.87805259228 l0.15343029052,2.96559552352 0.626682937145,3.02495539188 l1.11735860507,2.89976100127 1.61798020204,2.73741205533 l2.12272822857,2.40050772826 2.47413337231,1.96888446808 l2.72084037463,1.48087441921 2.9285856088,0.911441644033 l3.07068228722,0.361154203614 3.15516491731,-0.132037065923 l3.0301574866,-0.674668500821 2.82169620196,-1.19654347499 l2.54271090031,-1.64692978064 2.12220648925,-2.01448877652 l1.72840893269,-2.36347814401 1.28058036168,-2.69981880983 l0.770718405644,-2.92060156663 0.256923511624,-2.99926638603 l-0.217114662131,-2.93231447538 -0.658936897914,-2.72753278414 l-1.05396260818,-2.50780820847 -1.37999494871,-2.2618685166 l-1.68910523256,-2.04465091228 -1.99708898862,-1.71702504158 l-2.20039586226,-1.30773504575 -2.42953379949,-0.957416594028 l-2.49800384045,-0.514884541432 -2.48033006986,-0.133820213377 l-2.25542843342,0.238529567917 m-1.54537598292,13.8446998596 l-1.1204229792,0.569832772017 -0.934725602468,1.34150316318 l-0.357298726837,1.79524362087 -7.05453931005e-05,2.31591264407 l1.0312585036,1.57619814078 1.6628091534,0.900755822659 l2.02849328518,0.427333613237 2.06287364165,-0.056061030676 l1.88290437063,-0.503461807966 1.50101780891,-0.806097487609 l1.04566663504,-1.03521327178 0.642404903968,-1.20244969924 l0.222838247816,-1.32968227069 -0.192809924483,-1.36315474908 l-1.13850702842,-1.4717545112 -1.71471039454,-0.954918662707 l-4.01137193044,-0.600130508343 -1.49768680334,0.539856106043 m0.714773088694,3.87007753054 l-0.00164859055076,3.33549845285e-05 m3.83308291435,-0.0188673784335 l-0.00137152227884,4.76843221501e-06 m-4.36463991801,0.059255703042 l-0.00185161499151,9.3761923381e-06 m4.53161040942,-0.138652237753 l-0.000803405855549,9.78712281115e-05 m-11.233013471,-10.4561511676 l-0.771210988363,-0.107924640179 -0.718666861455,-0.00237152756502 l-0.418020784855,0.307284593582 0.986230472724,0.721948742867 l1.3296888272,-0.249519993862 -0.335626130303,-0.795592814684 l-0.921093622843,0.184992638727 m16.1117617289,-0.232940067848 l-0.739849160115,0.310364812613 0.770353277524,-0.022822949104 l-0.670238981644,-0.27428475519 -0.619672387838,0.357408498724 m-19.8956108093,1.76494936148 l-1.32334212462,-5.21192550659 -0.400069504976,-2.20627129078 l-0.539675752322,-5.30498345693 1.16140166918,-1.48734847705 l1.4076072971,0.43156315883 4.04451131821,3.23102355003 l1.83800935745,1.46470308304 1.90260887146,0.981245140235 m14.4703435898,1.3726974527 l0.603384226561,-1.27301315467 2.51566727956,-2.82044231892 l4.8469376564,-4.05288259188 0.723629097144,0.789434959491 l-0.335668673118,5.87437033653 -0.515396744013,4.80881134669 l-0.0246084745352,1.2197158734 m-20.052728653,11.5548849106 l-1.5471414725,0.463134547075 -1.69760604699,1.35502487421 l-1.37199898561,1.91954533259 -0.945563515027,1.95617894332 l-0.856473346551,3.48090688388 -0.000244164524095,3.45399260521 l0.835961500804,2.13755428791 1.42730941375,2.07014520963 l1.95239623388,1.78955634435 2.48640100161,1.47927671671 l2.81486411889,1.06686681509 3.16457529863,0.64704110225 l3.40652704239,0.230923344692 3.53764931361,-0.169698918859 l3.40371568998,-0.71231380105 3.15722227097,-1.10904256503 l2.84178992112,-1.43467297157 2.492005229,-1.74762368202 l2.07201441129,-2.07410434882 1.46291941404,-2.29974985123 l0.847171843052,-2.38564729691 0.341619004806,-2.44608382384 l-0.11460715284,-2.39028473695 -0.558941115936,-2.09136803945 l-1.01069281499,-1.84863050779 -1.40132844448,-1.59244974454 l-1.74015462399,-1.28584086895 -3.37736209234,-1.41153881947 l-4.30128693581,-0.726999888817 -2.91198949019,0.040121016403 m71.4433437421,-17.5735492087 l-1.63755943378,-0.469317535559 -1.69701576233,-0.000340789192705 l-2.62595792611,0.581840326389 -1.52271529039,0.614345322053 l-1.51888032754,0.923145711422 -1.52209480604,1.30204856396 l-1.43471668164,1.67408963044 -1.17241799831,1.97539488475 l-0.862792332967,2.28667537371 -0.486824661493,2.56655037403 l-8.64292663512e-06,4.08079703649 0.777864704529,2.75147815545 l1.34847035011,2.63842840989 1.85315628846,2.39225069682 l2.28420495987,2.08048164845 2.63270417849,1.61817024151 l2.92661229769,1.16573850314 3.14861178398,0.636889735858 l3.21038782597,0.103679889192 3.04424067338,-0.436700681845 l2.82411158085,-1.00400298834 2.58349339167,-1.48568650087 l2.24600891272,-1.9051194191 1.80454154809,-2.30325380961 l1.29677206278,-2.57238805294 0.775262216727,-2.87138720353 l0.252687285344,-2.84526586533 -0.247946828604,-2.68074095249 l-0.702405621608,-2.46929486593 -1.09877735376,-2.34156668186 l-1.5010535717,-2.12546805541 -1.88574135303,-1.85426314672 l-2.15773502986,-1.52488331 -2.44423846404,-1.1000948151 l-2.57615804672,-0.671981622775 -2.71075546741,-0.27560668687 l-2.5855855147,0.106267097096 -2.15132375558,0.701732486486 m2.02970683575,13.5818465551 l-1.23466312885,0.240752771497 -1.02904717127,1.00934455792 l-0.635560800632,1.60222192605 1.6045075655,4.89949822426 l1.73991044362,1.06189131737 1.99662446976,0.603887587786 l2.10874776045,0.111046545208 1.89018885295,-0.931353271008 l1.34837160508,-1.30149890979 0.843083659808,-1.45443757375 l0.346061438322,-1.57829274734 -0.0833679611484,-1.56333684921 l-0.561589499315,-1.40427629153 -1.01921478907,-1.20712290208 l-3.16869914532,-1.34360820055 -1.73723081748,0.0253729708493 l-1.268483301,0.630470315615 m0.406878640254,4.48041200638 l-0.00163814033537,3.8590293722e-05 m4.11048650742,-0.276151100794 l-0.000843053179172,1.28989891361e-06 m-4.740913709,-0.00795647501945 l-0.00130956032081,-5.32867973864e-05 m3.65847587585,-0.108995859822 l-0.000955953728408,7.10736094334e-05 m-11.5020012856,-10.6277267138 l-0.744920323292,-0.0142610895758 -0.773680259784,0.48008903861 l-0.27732004722,0.992059806983 1.27825727065,0.669582535823 l1.20822330316,-0.993079145749 -0.361053794622,-0.9868735075 l-1.01295779149,0.11632754157 m16.8697579702,-0.958219269911 l-0.49055437247,0.77730635802 1.0056194663,0.0934953615069 l-0.533240338167,-0.902876158555 -0.894079109033,0.0866193386416 m-20.9178733826,3.35438847542 l-0.986487666766,-1.95855816205 -3.50214838982,-8.13902854919 l-0.665541142225,-3.00869146983 0.903049210707,-1.30944391092 l4.94446714719,1.94208999475 2.53083368142,1.59120907386 l3.45012307167,2.31429696083 m15.7994604111,-0.268123199542 l0.592768241962,-1.35797411203 3.93571813901,-5.09357452393 l1.57163421313,-1.57091488441 1.10246976217,0.48931106925 l0.390671541293,2.87630875905 0.182514203091,6.88545624415 l-0.0405222239594,4.17704065641 m-23.1385453542,11.6297117869 l-1.1181379358,1.26545667648 -0.596457868814,1.94198111693 l-0.536693880955,5.67499955495 0.433028240999,2.36899554729 l0.844451387723,2.24435587724 1.33408953746,2.15338269869 l1.80900077025,1.9228241841 2.22263216972,1.60869320234 l2.61142273744,1.28098855416 2.75146345297,0.858944058418 l3.0099550883,0.446067601442 3.28554968039,0.0683729040126 l3.31799566746,-0.423494329055 3.19932758808,-0.941425263882 l2.96616872152,-1.3988083601 2.63926843802,-1.76775077979 l2.1677039067,-2.09127803644 1.67873481909,-2.38884627819 l1.05445295572,-2.52002974351 0.450034489234,-2.56835103035 l-0.0363159676393,-2.59690642357 -0.518939594428,-2.43875881036 l-1.01729035378,-2.1888222297 -1.38440042734,-1.87624851863 l-1.732716163,-1.55491948128 -2.05496470133,-1.18665625652 l-2.25048542023,-0.821206768354 -2.33091215293,-0.467357337475 l-2.25630442301,-0.129234194756 m-14.6096261342,22.7624464035 l-0.398737092813,4.07105962435 -0.827292700609,5.31417965889 l-1.04038665692,4.66028014819 m80.384479359,-47.7685667272 l-1.7799325784,-0.346906855702 -1.60599102577,0.0984109876057 l-2.45357652505,0.782148788373 -1.40148530404,0.747911632061 l-1.33596599102,1.02808117867 -1.31613403559,1.44058654706 l-1.12530211608,1.81326548258 -0.799872279167,2.13622848193 l-0.450851370891,2.42564837138 -6.18645450838e-05,4.36292767525 l0.916829506556,2.68656770388 1.51150594155,2.52968887488 l2.04324980577,2.21321463585 2.50365416209,1.81471765041 l2.7922753493,1.27285907666 3.10120006402,0.700123310089 l3.31829329332,0.184469272693 3.43862692515,-0.373696337144 l3.16966672738,-0.983436107635 2.8843408823,-1.49523556232 l2.40508377552,-1.92678411802 1.8813620011,-2.2262942791 l1.33235305548,-2.4640639623 0.761458327373,-2.63166904449 l0.21060715119,-2.67002622286 -0.312490413586,-2.66163388888 l-0.893534521262,-2.52349714438 -1.43924037615,-2.2799440225 l-1.8315354983,-1.94499929746 -2.22607413928,-1.58614337444 l-2.58146226406,-1.1538006862 -2.81016727289,-0.684278905392 l-2.86908884843,-0.24706274271 -2.8270359834,0.100575188796 l-2.45312392712,0.485829611619 -2.11323022842,0.796019832293 m1.82418882847,10.7767963409 l-0.395047267278,1.18946880102 0.197338014841,2.24040428797 l1.08484695355,1.47299150626 2.39997982979,1.13776654005 l4.99560832977,-0.441179772218 1.71261012554,-1.32802178462 l1.08891477187,-1.4270033439 0.524890770515,-1.43678764502 l-0.000105563825249,-1.63786143064 -1.30881130695,-1.43235474825 l-2.00567662716,-0.765687078238 -3.37104360263,-0.388208081325 l-2.29051172733,0.584722906351 -1.34317020575,1.38183414936 l-0.5618904531,1.41753107309 m3.38123480479,1.37523720662 l-0.00185986321109,4.50252749336e-05 m3.58984827995,-0.62196329236 l-0.000949436216615,2.96870469659e-05 m-4.05746738116,0.0748276089629 l-0.00119994976558,-3.46440901922e-05 m4.3977646033,-0.202284480135 l-0.000668745584941,9.03994077817e-05 m-11.0866936048,-7.53950595856 l-0.569374412298,-0.140721797943 m14.3129205704,-1.02532198032 l0.000671730328274,-0.000104998228683 m-19.42334493,7.27741241455 l-0.385870585839,-2.76769975821 -1.30964140097,-7.69222577413 l-0.25873777767,-2.47373878956 -0.205133991937,-5.05959351858 l1.38352821271,-1.16475413243 4.41600640615,1.75749142965 l4.18522040049,3.22441220284 2.04930146535,1.95081373056 l1.1651028196,1.5461319685 m10.2245457967,0.621845622857 l0.41521285971,-1.4425043265 3.56690724691,-5.02633253733 l2.7192701896,-2.90212174257 1.05130195618,-0.815930267175 l0.81989377737,1.0077308615 0.367615744472,6.62094116211 l0.0997425491611,6.13498767217 -0.01205467619,3.60100388527 m-19.2438793182,10.8544699351 l-1.66092813015,0.833097646634 -3.597732385,3.49430282911 l-1.04678134123,1.60094896952 -0.902550121148,1.91326280435 l-0.596699317296,2.15334375699 -0.00023311447876,2.97665496667 l0.981343487899,1.94245576859 1.6829842329,1.83996975422 l2.32937693596,1.59419198831 2.86514838537,1.23050908248 l3.31043601036,0.868666668733 3.65881005923,0.497064987818 l3.85388334592,0.103291875372 3.79082322121,-0.407898525397 l3.67592612902,-0.868691603343 3.34602157275,-1.31523251534 l2.97551850478,-1.76200052102 2.53512501717,-2.12186912696 l2.00850526492,-2.41193433603 1.35326604048,-2.66758998235 l0.649622778098,-2.7155504624 0.0526951253414,-2.62998819351 l-0.499456177155,-2.46039628983 -1.01804335912,-2.12879598141 l-1.5276530385,-1.83860162894 -1.99974914392,-1.55601888895 l-2.40382889907,-1.11662268639 -2.5874565045,-0.664739459753 l-2.61301020781,-0.273802528779 -4.08655405045,0.169742529591 l-2.24178850651,0.814428428809 -1.72744452953,1.03293160597 m-9.98446544011,20.0650962194 l-1.16230845451,1.89099729061 -2.37270454566,5.43327490489 l-1.13452424606,3.06284944216 -0.479233711958,2.15164601803 m22.8371588389,-11.2040750186 l0.548797547817,6.37616038322 0.507819801569,5.71570515633 l0.365977014105,1.16984794537 \" fill=\"none\" stroke=\"black\" stroke-width=\"1\"/></svg>"
      ],
      "text/plain": [
       "<IPython.core.display.SVG object>"
      ]
     },
     "metadata": {
      "tags": []
     },
     "output_type": "display_data"
    }
   ],
   "source": [
    "draw_strokes(stroke_grid, factor=0.3)"
   ]
  },
  {
   "cell_type": "code",
   "execution_count": 0,
   "metadata": {
    "colab": {},
    "colab_type": "code",
    "id": "KUgVRGnSFQwa"
   },
   "outputs": [],
   "source": []
  }
 ],
 "metadata": {
  "colab": {
   "name": "Sketch_RNN.ipynb",
   "provenance": [],
   "version": "0.3.2"
  },
  "kernelspec": {
   "display_name": "Python 3",
   "language": "python",
   "name": "python3"
  },
  "language_info": {
   "codemirror_mode": {
    "name": "ipython",
    "version": 3
   },
   "file_extension": ".py",
   "mimetype": "text/x-python",
   "name": "python",
   "nbconvert_exporter": "python",
   "pygments_lexer": "ipython3",
   "version": "3.6.6"
  }
 },
 "nbformat": 4,
 "nbformat_minor": 1
}
