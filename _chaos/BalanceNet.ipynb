{
 "cells": [
  {
   "cell_type": "markdown",
   "metadata": {},
   "source": [
    "> - 제목: BalanceNet\n",
    "- 일자: 2017-07-16\n",
    "- 작성자: Dongwan Kim\n",
    "- 목적: 아래 논문의 BalanceNet을 구현해 봅니다."
   ]
  },
  {
   "cell_type": "markdown",
   "metadata": {},
   "source": [
    "> Delalleau, O., Contal, E., Thibodeau-Laufer, E., Ferrari, R. C., Bengio, Y., & Zhang, F. (2012). Beyond skill rating: Advanced matchmaking in ghost recon online. IEEE Transactions on Computational Intelligence and AI in Games, 4(3), 167–177. https://doi.org/10.1109/TCIAIG.2012.2188833"
   ]
  },
  {
   "cell_type": "markdown",
   "metadata": {},
   "source": [
    "---"
   ]
  },
  {
   "cell_type": "markdown",
   "metadata": {},
   "source": [
    "- 팀 식별자 : $\\alpha, \\beta$\n",
    "- 각 팀의 팀원 수: $n_{t \\in \\{\\alpha, \\beta\\}}$\n",
    "- embedding 크기 : $n_e$\n",
    "- attribute 크기 : $n_a$\n",
    "- Feature vector $\\mathbf{p}_i$ : $\\mathbf{p}_i = \\mathbf{e}_i + \\mathbf{W}\\mathbf{a}_i$, $\\mathbf{W} \\in \\mathbb{R}^{n_e \\times n_a}$\n",
    "- Feature matrix $\\mathbf{P}_{\\beta}$ :\n",
    "$$\\begin{align}\n",
    "\\mathbf{P}_{\\beta} &= \\mathbf{E}_{\\beta} + \\mathbf{A}_{\\beta}\\mathcal{W} \\\\\n",
    "\\mathbf{E}_{\\beta} &\\in \\mathbb{R}^{n_{\\beta} \\times n_e} \\\\\n",
    "\\mathbf{A} &\\in \\mathbb{R}^{n_{\\beta} \\times n_a} \\\\\n",
    "\\mathcal{W} &\\in \\mathbb{R}^{n_a \\times n_e}\n",
    "\\end{align}$$\n",
    "주의할점은 $\\mathcal{W}$은 각 열이 반복된다."
   ]
  },
  {
   "cell_type": "markdown",
   "metadata": {},
   "source": [
    "Shared weights   \n",
    "https://stackoverflow.com/questions/42122460/sharing-weights-in-tensorflow-between-two-subgraphs\n"
   ]
  },
  {
   "cell_type": "markdown",
   "metadata": {},
   "source": []
  },
  {
   "cell_type": "markdown",
   "metadata": {},
   "source": []
  },
  {
   "cell_type": "markdown",
   "metadata": {},
   "source": []
  },
  {
   "cell_type": "markdown",
   "metadata": {},
   "source": []
  }
 ],
 "metadata": {
  "kernelspec": {
   "display_name": "Python [default]",
   "language": "python",
   "name": "python3"
  },
  "language_info": {
   "codemirror_mode": {
    "name": "ipython",
    "version": 3
   },
   "file_extension": ".py",
   "mimetype": "text/x-python",
   "name": "python",
   "nbconvert_exporter": "python",
   "pygments_lexer": "ipython3",
   "version": "3.5.2"
  }
 },
 "nbformat": 4,
 "nbformat_minor": 1
}
