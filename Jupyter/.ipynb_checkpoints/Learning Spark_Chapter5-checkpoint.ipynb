{
 "cells": [
  {
   "cell_type": "markdown",
   "metadata": {},
   "source": [
    "# Chapter 5"
   ]
  },
  {
   "cell_type": "code",
   "execution_count": null,
   "metadata": {
    "collapsed": true
   },
   "outputs": [],
   "source": []
  },
  {
   "cell_type": "markdown",
   "metadata": {},
   "source": [
    "# Chapter 6. Advanced Spark Progamming"
   ]
  },
  {
   "cell_type": "markdown",
   "metadata": {},
   "source": [
    "### 소개"
   ]
  },
  {
   "cell_type": "markdown",
   "metadata": {
    "collapsed": true
   },
   "source": [
    "이 장에서는 아래 4가지를 배우게 됨\n",
    "> - Accumulator\n",
    "> - Broadcast variable\n",
    "> - Batch operations\n",
    "> - pipe() method"
   ]
  },
  {
   "cell_type": "markdown",
   "metadata": {},
   "source": [
    "> 샘플 데이터로는 아래와 같은 ham radio call log를 사용.\n",
    "> - "
   ]
  },
  {
   "cell_type": "code",
   "execution_count": 5,
   "metadata": {
    "collapsed": false
   },
   "outputs": [
    {
     "name": "stdout",
     "output_type": "stream",
     "text": [
      "{\"address\":\"address here\", \"band\":\"40m\",\"callsign\":\"KK6JLK\",\"city\":\"SUNNYVALE\",\n",
      "\"contactlat\":\"37.384733\",\"contactlong\":\"-122.032164\",\n",
      "\"county\":\"Santa Clara\",\"dxcc\":\"291\",\"fullname\":\"MATTHEW McPherrin\",\n",
      "\"id\":57779,\"mode\":\"FM\",\"mylat\":\"37.751952821\",\"mylong\":\"-122.4208688735\"}"
     ]
    }
   ],
   "source": [
    "import play.api.libs.json._\n",
    "\n",
    "val call = \"\"\"{\"address\":\"address here\", \"band\":\"40m\",\"callsign\":\"KK6JLK\",\"city\":\"SUNNYVALE\",\n",
    "\"contactlat\":\"37.384733\",\"contactlong\":\"-122.032164\",\n",
    "\"county\":\"Santa Clara\",\"dxcc\":\"291\",\"fullname\":\"MATTHEW McPherrin\",\n",
    "\"id\":57779,\"mode\":\"FM\",\"mylat\":\"37.751952821\",\"mylong\":\"-122.4208688735\"}\"\"\"\n",
    "\n",
    "print(call)"
   ]
  },
  {
   "cell_type": "markdown",
   "metadata": {
    "collapsed": true
   },
   "source": [
    "### 어큐뮬레이터(Accumulators)"
   ]
  },
  {
   "cell_type": "code",
   "execution_count": null,
   "metadata": {
    "collapsed": true
   },
   "outputs": [],
   "source": []
  },
  {
   "cell_type": "markdown",
   "metadata": {
    "collapsed": true
   },
   "source": [
    "### 어큐뮬레이터와 장애 내구성(Accumulators and Fault Tolerance)"
   ]
  },
  {
   "cell_type": "code",
   "execution_count": null,
   "metadata": {
    "collapsed": true
   },
   "outputs": [],
   "source": []
  },
  {
   "cell_type": "markdown",
   "metadata": {},
   "source": [
    "### 사용자 지정 어큐뮬레이터(Custom Accumulators)"
   ]
  },
  {
   "cell_type": "code",
   "execution_count": null,
   "metadata": {
    "collapsed": true
   },
   "outputs": [],
   "source": []
  },
  {
   "cell_type": "markdown",
   "metadata": {},
   "source": [
    "### 브로드캐스트 변수(Broadcast Variables)"
   ]
  },
  {
   "cell_type": "code",
   "execution_count": null,
   "metadata": {
    "collapsed": true
   },
   "outputs": [],
   "source": []
  },
  {
   "cell_type": "markdown",
   "metadata": {},
   "source": [
    "### 브로드캐스트 최적화(Optimizing Broadcasts)"
   ]
  },
  {
   "cell_type": "code",
   "execution_count": null,
   "metadata": {
    "collapsed": true
   },
   "outputs": [],
   "source": []
  },
  {
   "cell_type": "markdown",
   "metadata": {},
   "source": [
    "### 파티션별로 작업하기(Working on a Per-Partition Basis)"
   ]
  },
  {
   "cell_type": "code",
   "execution_count": null,
   "metadata": {
    "collapsed": true
   },
   "outputs": [],
   "source": []
  },
  {
   "cell_type": "markdown",
   "metadata": {
    "collapsed": true
   },
   "source": [
    "### 외부 프로그램과 파이프로 연결하기(Piping to External Programs)"
   ]
  },
  {
   "cell_type": "code",
   "execution_count": null,
   "metadata": {
    "collapsed": true
   },
   "outputs": [],
   "source": []
  },
  {
   "cell_type": "markdown",
   "metadata": {},
   "source": [
    "### 수치 RDD 연산들(Numeric RDD Operations)"
   ]
  },
  {
   "cell_type": "code",
   "execution_count": null,
   "metadata": {
    "collapsed": true
   },
   "outputs": [],
   "source": []
  },
  {
   "cell_type": "markdown",
   "metadata": {},
   "source": [
    "### 요약"
   ]
  },
  {
   "cell_type": "code",
   "execution_count": null,
   "metadata": {
    "collapsed": true
   },
   "outputs": [],
   "source": []
  },
  {
   "cell_type": "code",
   "execution_count": null,
   "metadata": {
    "collapsed": true
   },
   "outputs": [],
   "source": []
  }
 ],
 "metadata": {
  "kernelspec": {
   "display_name": "Apache Toree - Scala",
   "language": "scala",
   "name": "apache_toree_scala"
  },
  "language_info": {
   "name": "scala",
   "version": "2.10.4"
  }
 },
 "nbformat": 4,
 "nbformat_minor": 0
}
