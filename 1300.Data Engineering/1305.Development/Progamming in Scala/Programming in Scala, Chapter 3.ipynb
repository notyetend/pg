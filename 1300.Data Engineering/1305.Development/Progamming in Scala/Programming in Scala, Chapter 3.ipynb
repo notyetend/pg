{
 "cells": [
  {
   "cell_type": "markdown",
   "metadata": {},
   "source": [
    "# Chapter 3. Next Steps in Scala"
   ]
  },
  {
   "cell_type": "markdown",
   "metadata": {
    "collapsed": true
   },
   "source": [
    "### Step 11. Learn to recognize the functional style"
   ]
  },
  {
   "cell_type": "markdown",
   "metadata": {},
   "source": [
    "인자를 받아 인자들을 출력하는 함수를 만들어보자.   \n",
    "\n",
    "아래와 같이 구현할 수 있는데 var를 사용하고 있는 imperative style code이다."
   ]
  },
  {
   "cell_type": "code",
   "execution_count": 1,
   "metadata": {
    "collapsed": false
   },
   "outputs": [
    {
     "data": {
      "text/plain": [
       "defined \u001b[32mfunction \u001b[36mprintArgs\u001b[0m"
      ]
     },
     "metadata": {},
     "output_type": "display_data"
    }
   ],
   "source": [
    "def printArgs(args: Array[String]): Unit = {\n",
    "    var i = 0\n",
    "    while(i < args.length){\n",
    "        println(args(i))\n",
    "        i += 1\n",
    "    }\n",
    "}"
   ]
  },
  {
   "cell_type": "markdown",
   "metadata": {},
   "source": [
    "arg <- args 를 사용하여 개선할 수 있다."
   ]
  },
  {
   "cell_type": "code",
   "execution_count": 3,
   "metadata": {
    "collapsed": false
   },
   "outputs": [
    {
     "data": {
      "text/plain": [
       "defined \u001b[32mfunction \u001b[36mprintArgs\u001b[0m"
      ]
     },
     "metadata": {},
     "output_type": "display_data"
    }
   ],
   "source": [
    "def printArgs(args: Array[String]): Unit = {\n",
    "    for(arg <- args)\n",
    "        println(arg)\n",
    "}"
   ]
  },
  {
   "cell_type": "markdown",
   "metadata": {},
   "source": [
    "foreach를 사용하여 더욱 개선할 수 있다."
   ]
  },
  {
   "cell_type": "code",
   "execution_count": null,
   "metadata": {
    "collapsed": true
   },
   "outputs": [],
   "source": [
    "def printArgs(args: Array[String]): Unit = {\n",
    "    args.foreath(println)\n",
    "}"
   ]
  },
  {
   "cell_type": "markdown",
   "metadata": {},
   "source": [
    "그런데 Unit을 return 받고 있다는 것은 어떤 side-effect가 있다는 것이다.  \n",
    "여기서 직접 출력하지 않고 출력될 값을 반환하게 만들 수 있다."
   ]
  },
  {
   "cell_type": "code",
   "execution_count": 2,
   "metadata": {
    "collapsed": false
   },
   "outputs": [
    {
     "name": "stdout",
     "output_type": "stream",
     "text": [
      "Hello\n",
      "World\n"
     ]
    },
    {
     "data": {
      "text/plain": [
       "defined \u001b[32mfunction \u001b[36mformatArgs\u001b[0m\n",
       "\u001b[36margs\u001b[0m: Array[String] = \u001b[33mArray\u001b[0m(\u001b[32m\"Hello\"\u001b[0m, \u001b[32m\"World\"\u001b[0m)"
      ]
     },
     "metadata": {},
     "output_type": "display_data"
    }
   ],
   "source": [
    "def formatArgs(args: Array[String]) = args.mkString(\"\\n\")\n",
    "\n",
    "val args = Array(\"Hello\", \"World\")\n",
    "println(formatArgs(args))"
   ]
  },
  {
   "cell_type": "markdown",
   "metadata": {},
   "source": []
  }
 ],
 "metadata": {
  "kernelspec": {
   "display_name": "Scala 2.10",
   "language": "scala210",
   "name": "scala210"
  },
  "language_info": {
   "codemirror_mode": "text/x-scala",
   "file_extension": ".scala",
   "mimetype": "text/x-scala",
   "name": "scala210",
   "pygments_lexer": "scala",
   "version": "2.10.6"
  }
 },
 "nbformat": 4,
 "nbformat_minor": 0
}
