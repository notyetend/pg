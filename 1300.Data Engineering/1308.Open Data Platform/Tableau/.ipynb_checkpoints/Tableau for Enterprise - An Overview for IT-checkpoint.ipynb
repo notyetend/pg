{
 "cells": [
  {
   "cell_type": "markdown",
   "metadata": {},
   "source": [
    "### Introduction"
   ]
  },
  {
   "cell_type": "markdown",
   "metadata": {},
   "source": [
    "Tableau는 데이터 탐색, 분석, 리포팅을 하나의 도구를 사용해 쉽고 빠르게 할 수 있게 하는 장점이 있음.\n",
    "\n",
    "이 문서는 IT 관리자들이 Tableau를 이용한 데이터 서비스를 제공하는데 있어서 필요할만한 아래와 같은 범주의 지식들을 간략히 소개함\n",
    "(Architecture, Deployment models, Security, Scalability, System Adminjistration, Data Strategy, Metadata Management, Mobile Deployment)"
   ]
  },
  {
   "cell_type": "markdown",
   "metadata": {},
   "source": [
    "### Architecture"
   ]
  },
  {
   "cell_type": "markdown",
   "metadata": {},
   "source": [
    "###### Data Layer"
   ]
  },
  {
   "cell_type": "markdown",
   "metadata": {},
   "source": [
    "###### Data Connectors"
   ]
  },
  {
   "cell_type": "markdown",
   "metadata": {},
   "source": [
    "- Live connection : 여러 이기종 데이터 소스에 대한 커넥터\n",
    "- In-memory : 모든 데이터를 Tableau in-memory에 올려두는 구조가 아님, 많은 데이터를 persistent layer에 두고 필요시 memory에 올리는 구조(물론 RAM이 클수록 좋을듯)"
   ]
  },
  {
   "cell_type": "markdown",
   "metadata": {},
   "source": [
    "###### Tableau Server Components"
   ]
  },
  {
   "cell_type": "markdown",
   "metadata": {},
   "source": [
    "- Application Server: client가 접근할때 리소스 탐색과 권한 체크\n",
    "- VizQL Server: data source에 쿼리를 날리고 결과를 받아 view에 넘기는 역할\n",
    "- Data Server: data source(Universe와 유사)들을 저장하고 관리하는 역할\n",
    "- Backgrounder: Job server와 같은 역할"
   ]
  },
  {
   "cell_type": "markdown",
   "metadata": {},
   "source": [
    "###### Gateway / Load Balancer"
   ]
  },
  {
   "cell_type": "markdown",
   "metadata": {},
   "source": [
    "routes requests to other components\n",
    "\n",
    "single-server 구조에서는 모든 프로세스가 primary server에서 동작함\n",
    "\n",
    "distributed 환경에서는 서버 한대가 primary server로 동작하고 여기에서 load balancing"
   ]
  },
  {
   "cell_type": "markdown",
   "metadata": {},
   "source": [
    "###### Client: Web Browsers and Mobile Apps"
   ]
  },
  {
   "cell_type": "markdown",
   "metadata": {},
   "source": [
    "Supports data consumers: Web browsers, Mobile Apps, Mobile browsers"
   ]
  },
  {
   "cell_type": "markdown",
   "metadata": {},
   "source": [
    "###### Clients: Tableau Desktop"
   ]
  },
  {
   "cell_type": "markdown",
   "metadata": {},
   "source": [
    "### Deployment Models"
   ]
  },
  {
   "cell_type": "markdown",
   "metadata": {},
   "source": [
    "###### Simple Configuration"
   ]
  },
  {
   "cell_type": "markdown",
   "metadata": {},
   "source": [
    "단일 서버 구조\n",
    "\n",
    "최소 권장 사양은 8 CPU core, 32GB RAM\n",
    "\n",
    "Tableau 내부 프로세스들(Data Server, Application Server, VizQL Server, Backgrounder)을 2배수로 띄워두기를 권장함"
   ]
  },
  {
   "cell_type": "markdown",
   "metadata": {},
   "source": [
    "###### 3-Server (24-Core) Cluster"
   ]
  },
  {
   "cell_type": "markdown",
   "metadata": {},
   "source": [
    "3서버 구조\n",
    "\n",
    "Primary machine에서 Backgrounder, Repository, Extract Host가 동작하고,     \n",
    "Worker machine에 VizQL Server, Application Server(x2), Data Server를 동작 시킴"
   ]
  },
  {
   "cell_type": "markdown",
   "metadata": {},
   "source": [
    "###### 5-Server 40-Core Cluster"
   ]
  },
  {
   "cell_type": "markdown",
   "metadata": {},
   "source": [
    "5서버 구조\n",
    "\n",
    "Repository, Extract Host를 하나의 서버로      \n",
    "Backgrounder를 다른 하나의 서버로     \n",
    "나머지 VizQL Server, App Server, Data Server를 work machine들로 구성"
   ]
  },
  {
   "cell_type": "markdown",
   "metadata": {},
   "source": [
    "###### High Availability Cluster"
   ]
  },
  {
   "cell_type": "markdown",
   "metadata": {},
   "source": [
    "최소 3개 node가 필요함\n",
    "\n",
    "primary node가 Gateway 및 load balancer로 동작하고     \n",
    "나머지 2개의 node가 나머지 동작을 수행함(한대는 standby인가?)"
   ]
  },
  {
   "cell_type": "markdown",
   "metadata": {},
   "source": [
    "###### Virtual Machine or Cloud-Based Deployment"
   ]
  },
  {
   "cell_type": "markdown",
   "metadata": {},
   "source": [
    "VM이나 Cloud 환경에서 동작하는데 제약사항 업음   \n",
    "\n",
    "다만 Tableau Server에는 고정 IP 필요"
   ]
  },
  {
   "cell_type": "markdown",
   "metadata": {},
   "source": [
    "### Security"
   ]
  },
  {
   "cell_type": "markdown",
   "metadata": {},
   "source": [
    "###### Authentication - Access Security"
   ]
  },
  {
   "cell_type": "markdown",
   "metadata": {},
   "source": [
    "###### Roles and Permissions - Object Security"
   ]
  },
  {
   "cell_type": "markdown",
   "metadata": {},
   "source": [
    "Data - Data Security"
   ]
  },
  {
   "cell_type": "markdown",
   "metadata": {},
   "source": [
    "Network - Transmission Security"
   ]
  },
  {
   "cell_type": "markdown",
   "metadata": {},
   "source": [
    "### Scalability"
   ]
  },
  {
   "cell_type": "markdown",
   "metadata": {},
   "source": [
    "Environmental Optimizations"
   ]
  },
  {
   "cell_type": "markdown",
   "metadata": {},
   "source": [
    "Best Practice Optimizations"
   ]
  },
  {
   "cell_type": "markdown",
   "metadata": {},
   "source": [
    "### System Administration"
   ]
  },
  {
   "cell_type": "markdown",
   "metadata": {},
   "source": [
    "."
   ]
  },
  {
   "cell_type": "markdown",
   "metadata": {},
   "source": [
    "### Data Strategy"
   ]
  },
  {
   "cell_type": "markdown",
   "metadata": {},
   "source": [
    "Access a Variety of Data Sources"
   ]
  },
  {
   "cell_type": "markdown",
   "metadata": {},
   "source": [
    "Using Extracts for Efficiency and Offline Access"
   ]
  },
  {
   "cell_type": "markdown",
   "metadata": {},
   "source": [
    "Tableau Data Server"
   ]
  },
  {
   "cell_type": "markdown",
   "metadata": {},
   "source": [
    "Report Governance"
   ]
  },
  {
   "cell_type": "markdown",
   "metadata": {},
   "source": [
    "Change Management"
   ]
  },
  {
   "cell_type": "markdown",
   "metadata": {},
   "source": [
    "### Metadata Management"
   ]
  },
  {
   "cell_type": "markdown",
   "metadata": {},
   "source": [
    "."
   ]
  },
  {
   "cell_type": "markdown",
   "metadata": {},
   "source": [
    "### Mobile Deployment"
   ]
  },
  {
   "cell_type": "markdown",
   "metadata": {},
   "source": [
    "."
   ]
  },
  {
   "cell_type": "markdown",
   "metadata": {},
   "source": [
    "### Conclusion"
   ]
  },
  {
   "cell_type": "markdown",
   "metadata": {},
   "source": [
    "."
   ]
  },
  {
   "cell_type": "markdown",
   "metadata": {},
   "source": [
    "."
   ]
  },
  {
   "cell_type": "markdown",
   "metadata": {},
   "source": [
    "."
   ]
  },
  {
   "cell_type": "markdown",
   "metadata": {},
   "source": [
    "."
   ]
  }
 ],
 "metadata": {
  "anaconda-cloud": {},
  "kernelspec": {
   "display_name": "Python [Root]",
   "language": "python",
   "name": "Python [Root]"
  },
  "language_info": {
   "codemirror_mode": {
    "name": "ipython",
    "version": 3
   },
   "file_extension": ".py",
   "mimetype": "text/x-python",
   "name": "python",
   "nbconvert_exporter": "python",
   "pygments_lexer": "ipython3",
   "version": "3.5.2"
  }
 },
 "nbformat": 4,
 "nbformat_minor": 0
}
