{
 "cells": [
  {
   "cell_type": "markdown",
   "metadata": {},
   "source": [
    "###### utilities"
   ]
  },
  {
   "cell_type": "code",
   "execution_count": 4,
   "metadata": {},
   "outputs": [
    {
     "name": "stderr",
     "output_type": "stream",
     "text": [
      "C:\\ProgramData\\Anaconda3\\lib\\site-packages\\h5py\\__init__.py:36: FutureWarning: Conversion of the second argument of issubdtype from `float` to `np.floating` is deprecated. In future, it will be treated as `np.float64 == np.dtype(float).type`.\n",
      "  from ._conv import register_converters as _register_converters\n"
     ]
    }
   ],
   "source": [
    "import gym\n",
    "from collections import deque\n",
    "from matplotlib import pyplot as plt\n",
    "import numpy as np\n",
    "import tensorflow as tf\n",
    "from sklearn.utils import shuffle\n",
    "\n",
    "seed = 0\n",
    "np.random.seed(seed)"
   ]
  },
  {
   "cell_type": "code",
   "execution_count": 5,
   "metadata": {},
   "outputs": [],
   "source": [
    "# Imports specifically so we can render outputs in Jupyter.\n",
    "from JSAnimation.IPython_display import display_animation\n",
    "from matplotlib import animation\n",
    "from IPython.display import display\n",
    "\n",
    "\n",
    "def display_frames_as_gif(frames):\n",
    "    patch = plt.imshow(frames[0])\n",
    "    plt.axis('off')\n",
    "    def animate(i):\n",
    "        patch.set_data(frames[i])\n",
    "\n",
    "    anim = animation.FuncAnimation(plt.gcf(), animate, frames = len(frames), interval=5)\n",
    "    display(display_animation(anim, default_mode='loop'))"
   ]
  },
  {
   "cell_type": "markdown",
   "metadata": {},
   "source": [
    "###### PPO Agent"
   ]
  },
  {
   "cell_type": "code",
   "execution_count": 14,
   "metadata": {},
   "outputs": [],
   "source": [
    "class PPOAgent_softmax():\n",
    "    def __init__(self\n",
    "                 , obs_dim\n",
    "                 , act_dim\n",
    "                 , epochs=5\n",
    "                 , lr=3e-5\n",
    "                 , hdim=32\n",
    "                 , clip_value=0.2\n",
    "                 , seed=0):\n",
    "\n",
    "        self.seed=0\n",
    "        self.obs_dim = obs_dim\n",
    "        self.act_dim = act_dim      \n",
    "        self.epochs = epochs\n",
    "        self.lr = lr\n",
    "        self.hdim = hdim\n",
    "        self.clip_value = clip_value\n",
    "        \n",
    "        self.g = None  # graph\n",
    "        self.obs_ph = None  # observation placeholder\n",
    "        self.act_ph = None  # action placeholder\n",
    "        self.advantage_ph = None  # advantage placeholder\n",
    "        self.lr_ph = None # learning rate placeholder\n",
    "        \n",
    "        self._build_graph()\n",
    "        self._init_session()\n",
    "        \n",
    "    def _build_graph(self):\n",
    "        self.g = tf.Graph()\n",
    "        with self.g.as_default():\n",
    "            self._placeholders()\n",
    "            self._policy_nn()\n",
    "            \n",
    "    def _init_session(self):\n",
    "        pass\n",
    "    \n",
    "    def _placeholders(self):\n",
    "        self.obs_ph = tf.placeholder(tf.float32, (None, self.obs_dim), 'obs')\n",
    "        self.act_ph = tf.placeholder(tf.float32, (None, self.act_dim), 'act')\n",
    "        self.advantages_ph = tf.placeholder(tf.float32, (None, ), 'advantages')\n",
    "        \n",
    "        self.lr_ph = tf.placeholder(tf.float32, (), 'lr')\n",
    "        \n",
    "        self.old_std_ph = tf.placeholder(tf.float32, (None, self.act_dim), 'old_std')\n",
    "        self.old_mean_ph = tf.placeholder(tf.float32, (None, self.act_dim), 'old_means')\n",
    "    \n",
    "    def _policy_nn(self):\n",
    "        hid1_size = self.hdim\n",
    "        hid2_size = self.hdim\n",
    "        \n",
    "        out = tf.layers.dense(self.obs_ph, hid1_size, tf.tanh,\n",
    "                             kernel_initializer=tf.random_normal_initializer(stddev=0.01, seed=self.seed), name='h1')\n",
    "        out = tf.layers.dense(out,         hid1_size, tf.tanh,\n",
    "                             kernel_initializer=tf.random_normal_initializer(stddev=0.01, seed=self.seed), name='h2')\n",
    "        self.mean = tf.layers.dense(out, self.act_dim,\n",
    "                             )"
   ]
  },
  {
   "cell_type": "code",
   "execution_count": 15,
   "metadata": {},
   "outputs": [
    {
     "name": "stdout",
     "output_type": "stream",
     "text": [
      "\u001b[33mWARN: gym.spaces.Box autodetected dtype as <class 'numpy.float32'>. Please provide explicit dtype.\u001b[0m\n"
     ]
    }
   ],
   "source": [
    "env = gym.make('CartPole-v1')\n",
    "env.seed(seed=seed)\n",
    "obs_dim = env.observation_space.shape[0]\n",
    "n_act = env.action_space.n\n",
    "\n",
    "agent = PPOAgent_softmax(obs_dim, n_act, epochs=5, hdim=32, clip_value=0.45, lr=3e-4, seed=seed)\n",
    "\n"
   ]
  },
  {
   "cell_type": "code",
   "execution_count": 23,
   "metadata": {},
   "outputs": [
    {
     "name": "stdout",
     "output_type": "stream",
     "text": [
      "[<tf.Tensor 'obs:0' shape=(?, 4) dtype=float32>]\n",
      "[<tf.Tensor 'act:0' shape=(?, 2) dtype=float32>]\n",
      "[<tf.Tensor 'advantages:0' shape=(?,) dtype=float32>]\n",
      "[<tf.Tensor 'lr:0' shape=() dtype=float32>]\n",
      "[<tf.Tensor 'old_std:0' shape=(?, 2) dtype=float32>]\n",
      "[<tf.Tensor 'old_means:0' shape=(?, 2) dtype=float32>]\n"
     ]
    }
   ],
   "source": [
    "for op in agent.g.get_operations():\n",
    "    print(op.outputs)"
   ]
  },
  {
   "cell_type": "code",
   "execution_count": null,
   "metadata": {},
   "outputs": [],
   "source": []
  },
  {
   "cell_type": "code",
   "execution_count": null,
   "metadata": {},
   "outputs": [],
   "source": []
  }
 ],
 "metadata": {
  "kernelspec": {
   "display_name": "Python 3",
   "language": "python",
   "name": "python3"
  },
  "language_info": {
   "codemirror_mode": {
    "name": "ipython",
    "version": 3
   },
   "file_extension": ".py",
   "mimetype": "text/x-python",
   "name": "python",
   "nbconvert_exporter": "python",
   "pygments_lexer": "ipython3",
   "version": "3.6.6"
  }
 },
 "nbformat": 4,
 "nbformat_minor": 2
}
