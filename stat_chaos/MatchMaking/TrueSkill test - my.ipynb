{
 "cells": [
  {
   "cell_type": "markdown",
   "metadata": {},
   "source": [
    "###### My modification"
   ]
  },
  {
   "cell_type": "code",
   "execution_count": 1,
   "metadata": {
    "collapsed": true
   },
   "outputs": [],
   "source": [
    "import os\n",
    "os.chdir('D:\\_PlayGround\\Github\\MatchMaking\\hslee_trueskill')"
   ]
  },
  {
   "cell_type": "code",
   "execution_count": 2,
   "metadata": {
    "collapsed": false
   },
   "outputs": [
    {
     "name": "stdout",
     "output_type": "stream",
     "text": [
      "@ class TrueSkill.__init__\n",
      "@ class Rating\n",
      "@ class Rating\n",
      "@ class Rating\n",
      "@ class TrueSkill.rate @ rating_groups - <class 'my_trueskill.Rating'>\n",
      "@ class TrueSkill.factor_graph_builders,  @ rating_groups - [(my_trueskill.Rating(mu=150.000, sigma=17.000),), (my_trueskill.Rating(mu=100.000, sigma=17.000), my_trueskill.Rating(mu=130.000, sigma=17.000))]\n",
      "@ class TrueSkill.factor_graph_builders,  @ flatten_ratings - (my_trueskill.Rating(mu=150.000, sigma=17.000), my_trueskill.Rating(mu=100.000, sigma=17.000), my_trueskill.Rating(mu=130.000, sigma=17.000))\n",
      "@ class TrueSkill.factor_graph_builders,  @ flatten_weights - (3, 2, 1)\n",
      "@ class TrueSkill.factor_graph_builders,  @ size - 3\n",
      "@ class TrueSkill.factor_graph_builders,  @ group_size - 2\n"
     ]
    }
   ],
   "source": [
    "import my_trueskill as mts\n",
    "\n",
    "mu = 51\n",
    "sigma = mu / 3\n",
    "beta = sigma / 2\n",
    "tau = sigma / 100\n",
    "\n",
    "\n",
    "env = mts.TrueSkill(mu=mu, sigma=sigma, beta=beta, tau=tau, draw_probability=0)\n",
    "\n",
    "r1 = env.create_rating(150)\n",
    "r2 = env.create_rating(100)\n",
    "r3 = env.create_rating(130)\n",
    "\n",
    "\n",
    "rating_groups_init = [(r1,), (r2, r3)]\n",
    "my_weights = [(3, 2), (1,)]\n",
    "\n",
    "rating_groups_new = env.rate(rating_groups_init, ranks=[0, 1], weights=my_weights)\n",
    "rating_groups_new"
   ]
  },
  {
   "cell_type": "code",
   "execution_count": 3,
   "metadata": {
    "collapsed": true
   },
   "outputs": [],
   "source": [
    "variable_here = 1"
   ]
  },
  {
   "cell_type": "code",
   "execution_count": 4,
   "metadata": {
    "collapsed": false
   },
   "outputs": [
    {
     "data": {
      "text/plain": [
       "'0x6eb901f0'"
      ]
     },
     "execution_count": 4,
     "metadata": {},
     "output_type": "execute_result"
    }
   ],
   "source": [
    "hex(id(variable_here))"
   ]
  },
  {
   "cell_type": "code",
   "execution_count": null,
   "metadata": {
    "collapsed": true
   },
   "outputs": [],
   "source": []
  }
 ],
 "metadata": {
  "anaconda-cloud": {},
  "kernelspec": {
   "display_name": "Python [Root]",
   "language": "python",
   "name": "Python [Root]"
  },
  "language_info": {
   "codemirror_mode": {
    "name": "ipython",
    "version": 3
   },
   "file_extension": ".py",
   "mimetype": "text/x-python",
   "name": "python",
   "nbconvert_exporter": "python",
   "pygments_lexer": "ipython3",
   "version": "3.5.2"
  }
 },
 "nbformat": 4,
 "nbformat_minor": 0
}
