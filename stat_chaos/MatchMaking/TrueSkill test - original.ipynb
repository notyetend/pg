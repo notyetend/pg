{
 "cells": [
  {
   "cell_type": "markdown",
   "metadata": {},
   "source": [
    "###### Original implementation"
   ]
  },
  {
   "cell_type": "code",
   "execution_count": 1,
   "metadata": {
    "collapsed": true
   },
   "outputs": [],
   "source": [
    "import os\n",
    "os.chdir('D:\\_PlayGround\\Github\\MatchMaking\\hslee_trueskill')"
   ]
  },
  {
   "cell_type": "code",
   "execution_count": 2,
   "metadata": {
    "collapsed": false,
    "scrolled": true
   },
   "outputs": [
    {
     "name": "stdout",
     "output_type": "stream",
     "text": [
      "@ class TrueSkill.__init__\n",
      "@ class Rating\n",
      "@ class Rating\n",
      "@ class Rating\n",
      "@ class TrueSkill.rate @ rating_groups - <class 'trueskill.Rating'>\n",
      "@ class TrueSkill.factor_graph_builders,  @ rating_groups - [(trueskill.Rating(mu=150.000, sigma=17.000),), (trueskill.Rating(mu=100.000, sigma=17.000), trueskill.Rating(mu=130.000, sigma=17.000))]\n",
      "@ class TrueSkill.factor_graph_builders,  @ flatten_ratings - (trueskill.Rating(mu=150.000, sigma=17.000), trueskill.Rating(mu=100.000, sigma=17.000), trueskill.Rating(mu=130.000, sigma=17.000))\n",
      "@ class TrueSkill.factor_graph_builders,  @ flatten_weights - (1, 3, 2)\n",
      "@ class TrueSkill.factor_graph_builders,  @ size - 3\n",
      "@ class TrueSkill.factor_graph_builders,  @ group_size - 2\n",
      "@ class Factor vars[0] type: <class 'trueskill.factorgraph.Variable'>\n",
      "@ class Factor vars[0] type: <class 'trueskill.factorgraph.Variable'>\n",
      "@ class Factor vars[0] type: <class 'trueskill.factorgraph.Variable'>\n",
      "@ class Factor vars[0] type: <class 'trueskill.factorgraph.Variable'>\n",
      "@ class Factor vars[0] type: <class 'trueskill.factorgraph.Variable'>\n",
      "@ class Factor vars[0] type: <class 'trueskill.factorgraph.Variable'>\n",
      "@ class Factor vars[0] type: <class 'trueskill.factorgraph.Variable'>\n",
      "@ class Factor vars[0] type: <class 'trueskill.factorgraph.Variable'>\n",
      "@ class Variable type of message:  <class 'dict'>\n",
      "@ class Variable type of message:  <class 'dict'>\n",
      "@ class Variable type of message:  <class 'dict'>\n",
      "@ class Variable type of message:  <class 'dict'>\n",
      "@ class Variable type of message:  <class 'dict'>\n",
      "@ class Variable type of message:  <class 'dict'>\n",
      "@ class Variable type of message:  <class 'dict'>\n",
      "@ class Variable type of message:  <class 'dict'>\n",
      "@ class Variable type of message:  <class 'dict'>\n",
      "@ class Variable type of message:  <class 'dict'>\n",
      "@ class Variable type of message:  <class 'dict'>\n",
      "@ class Variable type of message:  <class 'dict'>\n",
      "@ class Variable type of message:  <class 'dict'>\n",
      "@ class Variable type of message:  <class 'dict'>\n",
      "@ class Factor vars[0] type: <class 'trueskill.factorgraph.Variable'>\n",
      "@ class Factor vars[0] type: <class 'trueskill.factorgraph.Variable'>\n",
      "@ class Variable type of message:  <class 'dict'>\n",
      "@ class Variable type of message:  <class 'dict'>\n",
      "@ class Variable type of message:  <class 'dict'>\n",
      "@ class Variable type of message:  <class 'dict'>\n",
      "@ class Variable type of message:  <class 'dict'>\n",
      "@ class Variable type of message:  <class 'dict'>\n",
      "@ class Variable type of message:  <class 'dict'>\n",
      "@ class Variable type of message:  <class 'dict'>\n",
      "@ class Variable type of message:  <class 'dict'>\n",
      "@ class Variable type of message:  <class 'dict'>\n",
      "@ class Variable type of message:  <class 'dict'>\n",
      "@ class Variable type of message:  <class 'dict'>\n",
      "@ class Variable type of message:  <class 'dict'>\n",
      "@ class Variable type of message:  <class 'dict'>\n",
      "@ class Variable type of message:  <class 'dict'>\n",
      "@ class Variable type of message:  <class 'dict'>\n",
      "@ class Variable type of message:  <class 'dict'>\n",
      "@ class Variable type of message:  <class 'dict'>\n",
      "@ class Variable type of message:  <class 'dict'>\n",
      "@ class Variable type of message:  <class 'dict'>\n",
      "@ class Variable type of message:  <class 'dict'>\n",
      "@ class Variable type of message:  <class 'dict'>\n",
      "@ class Variable type of message:  <class 'dict'>\n",
      "@ class Variable type of message:  <class 'dict'>\n",
      "@ class Variable type of message:  <class 'dict'>\n",
      "@ class Variable type of message:  <class 'dict'>\n",
      "@ class Variable type of message:  <class 'dict'>\n",
      "@ class Variable type of message:  <class 'dict'>\n",
      "@ class Variable type of message:  <class 'dict'>\n",
      "@ class Variable type of message:  <class 'dict'>\n",
      "@ class Rating\n",
      "@ class Rating\n",
      "@ class Rating\n"
     ]
    },
    {
     "data": {
      "text/plain": [
       "[(trueskill.Rating(mu=174.097, sigma=16.521),),\n",
       " (trueskill.Rating(mu=27.709, sigma=12.008),\n",
       "  trueskill.Rating(mu=81.806, sigma=14.989))]"
      ]
     },
     "execution_count": 2,
     "metadata": {},
     "output_type": "execute_result"
    }
   ],
   "source": [
    "import trueskill as ts\n",
    "\n",
    "\n",
    "mu = 51\n",
    "sigma = mu / 3\n",
    "beta = sigma / 2\n",
    "tau = sigma / 100\n",
    "\n",
    "\n",
    "env = ts.TrueSkill(mu=mu, sigma=sigma, beta=beta, tau=tau, draw_probability=0, backend='scipy')\n",
    "\n",
    "r1 = env.create_rating(150)\n",
    "r2 = env.create_rating(100)\n",
    "r3 = env.create_rating(130)\n",
    "\n",
    "rating_groups_init = [(r1,), (r2, r3)]\n",
    "my_weights = [(1,), (3, 2)]\n",
    "\n",
    "rating_groups_new = env.rate(rating_groups_init, ranks=[0, 1], weights=my_weights)\n",
    "rating_groups_new"
   ]
  },
  {
   "cell_type": "code",
   "execution_count": null,
   "metadata": {
    "collapsed": true
   },
   "outputs": [],
   "source": []
  }
 ],
 "metadata": {
  "anaconda-cloud": {},
  "kernelspec": {
   "display_name": "Python [Root]",
   "language": "python",
   "name": "Python [Root]"
  },
  "language_info": {
   "codemirror_mode": {
    "name": "ipython",
    "version": 3
   },
   "file_extension": ".py",
   "mimetype": "text/x-python",
   "name": "python",
   "nbconvert_exporter": "python",
   "pygments_lexer": "ipython3",
   "version": "3.5.2"
  }
 },
 "nbformat": 4,
 "nbformat_minor": 0
}
