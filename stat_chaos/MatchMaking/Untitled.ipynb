{
 "cells": [
  {
   "cell_type": "markdown",
   "metadata": {},
   "source": [
    "http://trueskill.org/\n",
    "\n",
    "API - TrueSkill objects"
   ]
  },
  {
   "cell_type": "markdown",
   "metadata": {},
   "source": [
    "- Q1: For example, 60% of matches in your game have finished as draw then you should set draw_probability to 0.60:\n",
    "- Q2: Purpose of expose() method?\n",
    "- Q3: role of tau?\n",
    "- Q4: draw_margin – the draw-margin."
   ]
  },
  {
   "cell_type": "code",
   "execution_count": 2,
   "metadata": {
    "collapsed": true
   },
   "outputs": [],
   "source": [
    "import trueskill as ts\n",
    "\n",
    "mu = 50\n",
    "sigma = mu / 3\n",
    "beta = sigma / 2\n",
    "tau = sigma / 100\n",
    "\n",
    "#cso2 = ts.TrueSkill(mu=mu, sigma=sigma, beta=beta, tau=tau, draw_probability=0, backend='scipy')\n",
    "cso2 = ts.TrueSkill(mu=mu, sigma=sigma, beta=beta, tau=tau, draw_probability=0, backend='mpmath')"
   ]
  },
  {
   "cell_type": "code",
   "execution_count": 3,
   "metadata": {
    "collapsed": false
   },
   "outputs": [
    {
     "name": "stdout",
     "output_type": "stream",
     "text": [
      "0.4472135954999579\n",
      "0.3410634672147691\n"
     ]
    }
   ],
   "source": [
    "b1 = cso2.Rating()\n",
    "b2 = cso2.Rating()\n",
    "b3 = cso2.Rating()\n",
    "b4 = cso2.Rating()\n",
    "b5 = cso2.Rating()\n",
    "\n",
    "r1 = cso2.Rating()\n",
    "r2 = cso2.Rating()\n",
    "r3 = cso2.Rating()\n",
    "r4 = cso2.Rating()\n",
    "r5 = cso2.Rating()\n",
    "\n",
    "blue = [b1, b2, b3, b4, b5]\n",
    "red = [r1, r2, r3, r4, r5]\n",
    "\n",
    "print(cso2.quality(rating_groups=[blue, red]))\n",
    "print(cso2.quality(rating_groups=[blue, red], weights=[[1, 1, 0.8, 1, 0.1], [0.1, 0.9, 1, 1, 0.2]]))"
   ]
  }
 ],
 "metadata": {
  "anaconda-cloud": {},
  "kernelspec": {
   "display_name": "Python [Root]",
   "language": "python",
   "name": "Python [Root]"
  },
  "language_info": {
   "codemirror_mode": {
    "name": "ipython",
    "version": 3
   },
   "file_extension": ".py",
   "mimetype": "text/x-python",
   "name": "python",
   "nbconvert_exporter": "python",
   "pygments_lexer": "ipython3",
   "version": "3.5.2"
  }
 },
 "nbformat": 4,
 "nbformat_minor": 0
}
