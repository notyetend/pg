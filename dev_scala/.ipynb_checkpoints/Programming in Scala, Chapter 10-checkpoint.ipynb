{
 "cells": [
  {
   "cell_type": "markdown",
   "metadata": {},
   "source": [
    "# Chapter 10. Composition and Inheritance"
   ]
  },
  {
   "cell_type": "markdown",
   "metadata": {},
   "source": [
    "이 장에서는 <u>class들 사이의 관계</u>에 관한 Composition, Inheritance라는 두가지 중요한 개념에 대해 배우게 된다.   \n",
    "- **Composition**은 다른 어떤 클래스에 대한 참조를 갖은 클래스를 의미한다.    \n",
    "- 반면 **Inheritance**는 superclass와 subclass관계를 의미한다.\n",
    "\n",
    "이 두가지 개념과 더불어 아래의 9가지 개념에 대해서도 배우게 된다\n",
    "- abstract classe (추상 클래스)\n",
    "- parameterless methods (매개변수 없는 매소드)\n",
    "- extending classes (클래스 상속)\n",
    "- overriding methods and fields (오버라이딩)\n",
    "- parametric fields (?)\n",
    "- invoking superclass constructors (상위 클래스의 생성자 호출하기)\n",
    "- polymorphism and dynamic binding (다형성과 동적 바인딩)\n",
    "- final members and classes (고정값 맴버와 클래스))\n",
    "- factory object and methods (?)"
   ]
  },
  {
   "cell_type": "markdown",
   "metadata": {},
   "source": [
    "### 10.1 A two-dimensional layout library"
   ]
  },
  {
   "cell_type": "markdown",
   "metadata": {},
   "source": [
    "여러줄의 텍스트가 들어있는 직사각형을 생각해 보자.    \n",
    "우리는 이 직사각형을 모델링 하고자 한다.     \n",
    "직사각형은 가로 길이와 세로 길이가 있을 것이고,     \n",
    "다른 직사각형을 아래로 놓거나 옆네 놓는 병합도 가능할 것이다.\n",
    "\n",
    "이런 직사각형을 Element라는 class로 디자인 해 보자."
   ]
  },
  {
   "cell_type": "markdown",
   "metadata": {},
   "source": [
    "### 10.2 Abstract classes"
   ]
  },
  {
   "cell_type": "markdown",
   "metadata": {},
   "source": [
    "직사각형안에는 여러 줄의 텍스트가 들어있고, 이 텍스트는 직사각형의 속성(member)로서 contents라고 해 보자."
   ]
  },
  {
   "cell_type": "code",
   "execution_count": 1,
   "metadata": {
    "collapsed": false
   },
   "outputs": [
    {
     "data": {
      "text/plain": [
       "defined \u001b[32mclass \u001b[36mElement\u001b[0m"
      ]
     },
     "metadata": {},
     "output_type": "display_data"
    }
   ],
   "source": [
    "abstract class Element {\n",
    "    def contents: Array[String]\n",
    "}"
   ]
  },
  {
   "cell_type": "markdown",
   "metadata": {},
   "source": [
    "위와 같이 Element class에 contents라는 member를 **선언(declare)**했는데, 그것이 member variable이 아니라 member method임에 주목하자.  \n",
    "그리고 method이지만 그 **정의(definition)**가 없는 상태이다. 이렇게 <u>정의가 없는 member method를 **abstract method**라 한다.</u>  \n",
    "Java에서는 abstract method를 선언할 때 method이름 앞에 abstract keyword를 넣었지만,  \n",
    "Scala에서는 그 member method가 속한 class 이름 앞에 abstract keyword를 넣는다.  \n",
    "\n",
    "이런 abstract class는 바로 개체생성(instantiate)을 할 수 없다. 아래와 같이 개체를 생성하려 할 경우 에러가 발생한다.   \n",
    "(개체를 생성하려면 Element class를 상속받은 class 를 개체화 해야 한다.)"
   ]
  },
  {
   "cell_type": "code",
   "execution_count": 3,
   "metadata": {
    "collapsed": false
   },
   "outputs": [
    {
     "ename": "",
     "evalue": "",
     "output_type": "error",
     "traceback": [
      "\u001b[31mMain.scala:25: class Element is abstract; cannot be instantiated",
      "new Element",
      "^\u001b[0m"
     ]
    }
   ],
   "source": [
    "new Element"
   ]
  },
  {
   "cell_type": "markdown",
   "metadata": {},
   "source": [
    "### 10.3 Defining parameterless methods"
   ]
  },
  {
   "cell_type": "markdown",
   "metadata": {},
   "source": [
    "앞서 정의한 Element class에 contents의 속성(width, height)을 알려주는 method들을 추가해 보자.  \n",
    "width는 첫 줄의 길이를 반환하고, height는 줄 수를 반환한다고 하자."
   ]
  },
  {
   "cell_type": "code",
   "execution_count": 6,
   "metadata": {
    "collapsed": false
   },
   "outputs": [
    {
     "data": {
      "text/plain": [
       "defined \u001b[32mclass \u001b[36mElement\u001b[0m"
      ]
     },
     "metadata": {},
     "output_type": "display_data"
    }
   ],
   "source": [
    "abstract class Element {\n",
    "    def contents: Array[String]\n",
    "    def height: Int = contents.length\n",
    "    def width: Int = if (height == 0) 0 else contents(0).length\n",
    "}"
   ]
  },
  {
   "cell_type": "markdown",
   "metadata": {},
   "source": [
    "위의 height, width method는 contents method와 달리 그것의 정의(definition/구현)을 포함하지만,    \n",
    "parameter list를 갖고 있지 않음에 주목하자. 심지어 빈 괄호 **()** 조차 갖고 있지 않다.   \n",
    "이러한 method를 **parameterless method**라 한다.   \n",
    "반면 빈 괄호 **()**를 포함하는 method를 **empty-paren method**라 한다\n",
    "\n",
    "사실 괄호가 없는 method를 호출할 때 괄호를 사용할 수도 있고, 빈 괄호가 있는 method를 괄호 없이 호출할 수도 있다.   \n",
    "아래의 두가지 호출은 동일한 의미를 갖고 문법에 맞는 표현이다."
   ]
  },
  {
   "cell_type": "code",
   "execution_count": 5,
   "metadata": {
    "collapsed": false
   },
   "outputs": [
    {
     "data": {
      "text/plain": [
       "\u001b[36mres4\u001b[0m: Int = \u001b[32m3\u001b[0m"
      ]
     },
     "metadata": {},
     "output_type": "display_data"
    }
   ],
   "source": [
    "\"abs\".length //recommended"
   ]
  },
  {
   "cell_type": "code",
   "execution_count": 9,
   "metadata": {
    "collapsed": false
   },
   "outputs": [
    {
     "data": {
      "text/plain": [
       "\u001b[36mres8\u001b[0m: Int = \u001b[32m3\u001b[0m"
      ]
     },
     "metadata": {},
     "output_type": "display_data"
    }
   ],
   "source": [
    "\"abc\".length()"
   ]
  },
  {
   "cell_type": "markdown",
   "metadata": {},
   "source": [
    "그러나 Scala에서는 parameterless method와 empty-paren method를 사용하는데 있어 convention이 있다.   \n",
    "즉 side-effect가 없는 매개변수 없는 method는 parameterless method로 사용하고   \n",
    "side-effect가 있는 매개변수 없는 method는 empty-paren method로 사용하는 것이다.  \n",
    "(괄호가 없을 경우 field selection(member variable) 호출 같이 보이므로 side-effect가 없는 method만 parameterless로 사용하는 것이 좋다.)\n",
    "\n",
    "\n",
    "즉 아래의 println 함수의 경우 빈 괄호를 사용하는 것을 권장한다."
   ]
  },
  {
   "cell_type": "code",
   "execution_count": 4,
   "metadata": {
    "collapsed": false
   },
   "outputs": [
    {
     "name": "stdout",
     "output_type": "stream",
     "text": [
      "\n"
     ]
    },
    {
     "data": {
      "text/plain": []
     },
     "metadata": {},
     "output_type": "display_data"
    }
   ],
   "source": [
    "println() //recommended"
   ]
  },
  {
   "cell_type": "code",
   "execution_count": 3,
   "metadata": {
    "collapsed": false
   },
   "outputs": [
    {
     "name": "stdout",
     "output_type": "stream",
     "text": [
      "\n"
     ]
    },
    {
     "data": {
      "text/plain": []
     },
     "metadata": {},
     "output_type": "display_data"
    }
   ],
   "source": [
    "println //not recommended"
   ]
  },
  {
   "cell_type": "markdown",
   "metadata": {},
   "source": [
    "### 10.4 Extending classes"
   ]
  },
  {
   "cell_type": "markdown",
   "metadata": {},
   "source": [
    "아직 10.3에서 만든 Element class의 instance를 생성할 수 없다.(abstract class이므로)   \n",
    "instance를 생성하기 위하여 Element class를 상속받은 class를 정의해 해자.\n",
    "\n",
    "class를 생속받기 위해서는 **extends** keyword를 사용한다."
   ]
  },
  {
   "cell_type": "code",
   "execution_count": 7,
   "metadata": {
    "collapsed": false
   },
   "outputs": [
    {
     "data": {
      "text/plain": [
       "defined \u001b[32mclass \u001b[36mArrayElement\u001b[0m"
      ]
     },
     "metadata": {},
     "output_type": "display_data"
    }
   ],
   "source": [
    "class ArrayElement(conts: Array[String]) extends Element {\n",
    "    def contents: Array[String] = conts\n",
    "}"
   ]
  },
  {
   "cell_type": "markdown",
   "metadata": {},
   "source": [
    "위와 같이 **extends** keyword를 사용하는 것은 두가지 효과를 갖는다.\n",
    "- ArrayElement class는 Element class의 (private member를 제외한) 모든 member를 상속 받는다.\n",
    "- ArrayElement type은 Element type의 **subtype**이 된다. (역으로 Element type은 ArrayElement type의 supertype)\n",
    "\n",
    "만약 extends keyword가 없다면, 즉 명시적으로 어떤 class도 상속받지 않는다면   \n",
    "그 class는 암묵적으로 **scala.AnyRef** class를 상속받는다.(Java에서 java.lang.Object라 할 수 있다.)\n",
    "따라서 앞서 Element class는 scala.AnyRef class를 암묵적으로 상속받고 있다.\n",
    "\n",
    "관계들을 그림으로 표현하면 아래와 같다. "
   ]
  },
  {
   "cell_type": "markdown",
   "metadata": {},
   "source": [
    "![Local image](./_image/figure_10_1.PNG \"Tooltip for local image\")"
   ]
  },
  {
   "cell_type": "markdown",
   "metadata": {},
   "source": [
    "class를 상속받게 되면, subclass는 superclass의 모든 member를 상속받지만 두가지 예외가 있다.\n",
    "- private member of superclass\n",
    "- subclass에 동일한 signiture(name & parameters)를 갖는 superclass의 member, 이런 경우 subclass의 member의 superclass의 member를 **override**하게 된다."
   ]
  },
  {
   "cell_type": "markdown",
   "metadata": {},
   "source": [
    "---"
   ]
  },
  {
   "cell_type": "markdown",
   "metadata": {},
   "source": [
    "> 몇가지 case study를 살펴보자.\n",
    "\n",
    "\n",
    "아래와 같이 super-class의 private member인 hello1은 override 되는 것이 아니다.   \n",
    "따라서 MyClassTwo의 hello1은 MyClassOne의 hello1을 override할 수 없다."
   ]
  },
  {
   "cell_type": "code",
   "execution_count": 48,
   "metadata": {
    "collapsed": false
   },
   "outputs": [
    {
     "ename": "",
     "evalue": "",
     "output_type": "error",
     "traceback": [
      "\u001b[31mMain.scala:32: method hello1 overrides nothing.",
      "Note: the super classes of class MyClassTwo contain the following, non final members named hello1:",
      "private def hello1: String",
      "    override def hello1(): String = \"method 1\"",
      "                 ^\u001b[0m"
     ]
    }
   ],
   "source": [
    "class MyClassOne {\n",
    "    private def hello1: String = \"hello1 in class one\"\n",
    "    def hello2(): String = \"hello2 in class one\"\n",
    "}\n",
    "\n",
    "class MyClassTwo(conts: Array[String]) extends MyClassOne {\n",
    "    override def hello1(): String = \"method 1\"\n",
    "}\n",
    "\n",
    "val ts = new MyClassTwo(Array(\"a\", \"b\"))\n",
    "ts.hello1()"
   ]
  },
  {
   "cell_type": "markdown",
   "metadata": {},
   "source": [
    "abstract class를 상속받을 경우 sub-class에서 super-class의 모든 abstract member를 정의 해야만 한다.   \n",
    "아래에서는 MyClassTwo에서 hello1을 정의 해야 한다.\n",
    "혹은 MyClassTwo를 abstract class로 만들어야 한다."
   ]
  },
  {
   "cell_type": "code",
   "execution_count": 48,
   "metadata": {
    "collapsed": false
   },
   "outputs": [
    {
     "ename": "",
     "evalue": "",
     "output_type": "error",
     "traceback": [
      "\u001b[31mMain.scala:28: class MyClassOne needs to be abstract, since method hello1 is not defined",
      "              class MyClassOne {",
      "                    ^\u001b[0m",
      "\u001b[31mMain.scala:32: overriding method hello2 in class MyClassOne of type ()String;",
      " method hello2 needs `override' modifier",
      "    def hello2(): String = \"method 1\"",
      "        ^\u001b[0m",
      "\u001b[31mMain.scala:31: class MyClassTwo needs to be abstract, since method hello1 in class MyClassOne of type => String is not defined",
      "} ; class MyClassTwo(conts: Array[String]) extends MyClassOne {",
      "          ^\u001b[0m"
     ]
    }
   ],
   "source": [
    "class MyClassOne {\n",
    "    def hello1: String\n",
    "    def hello2(): String = \"hello2 in class one\"\n",
    "}\n",
    "\n",
    "class MyClassTwo(conts: Array[String]) extends MyClassOne {\n",
    "    def hello2(): String = \"method 1\"\n",
    "}\n",
    "\n",
    "val ts = new MyClassTwo(Array(\"a\", \"b\"))\n",
    "ts.hello2()"
   ]
  },
  {
   "cell_type": "markdown",
   "metadata": {},
   "source": [
    "member method의 선언만 있고 정의가 없을 경우 class에 abstract keyword를 사용해야 한다."
   ]
  },
  {
   "cell_type": "code",
   "execution_count": 48,
   "metadata": {
    "collapsed": false
   },
   "outputs": [
    {
     "ename": "",
     "evalue": "",
     "output_type": "error",
     "traceback": [
      "\u001b[31mMain.scala:23: class MyClassOne needs to be abstract, since method hello1 is not defined",
      "              class MyClassOne {",
      "                    ^\u001b[0m"
     ]
    }
   ],
   "source": [
    "class MyClassOne {\n",
    "    def hello1: String\n",
    "    def hello2(): String = \"hello2 in class one\"\n",
    "}\n"
   ]
  },
  {
   "cell_type": "markdown",
   "metadata": {},
   "source": [
    "정의가 있는 method를 override하는 경우 def 앞에 override keyword를 사용해야 한다."
   ]
  },
  {
   "cell_type": "code",
   "execution_count": 48,
   "metadata": {
    "collapsed": false,
    "scrolled": true
   },
   "outputs": [
    {
     "ename": "",
     "evalue": "",
     "output_type": "error",
     "traceback": [
      "\u001b[31mMain.scala:31: overriding method hello2 in class MyClassOne of type ()String;",
      " method hello2 needs `override' modifier",
      "    def hello2(): String = \"method 1\"",
      "        ^\u001b[0m"
     ]
    }
   ],
   "source": [
    "class MyClassOne {\n",
    "    def hello2(): String = \"hello2 in class one\"\n",
    "}\n",
    "\n",
    "class MyClassTwo(conts: Array[String]) extends MyClassOne {\n",
    "    def hello2(): String = \"method 1\"\n",
    "}\n",
    "\n",
    "val ts = new MyClassTwo(Array(\"a\", \"b\"))\n",
    "ts.hello2()"
   ]
  },
  {
   "cell_type": "markdown",
   "metadata": {},
   "source": [
    "parameterless method를 empty-paren 형식(빈 괄호 포함)으로 override할 수 있다. 혹은 그 반대도 가능하다.    \n",
    "이 경우 paren이 있거나 없거나 호출하는데 차이는 없다."
   ]
  },
  {
   "cell_type": "code",
   "execution_count": 54,
   "metadata": {
    "collapsed": false
   },
   "outputs": [
    {
     "data": {
      "text/plain": [
       "defined \u001b[32mclass \u001b[36mMyClassOne\u001b[0m\n",
       "defined \u001b[32mclass \u001b[36mMyClassTwo\u001b[0m\n",
       "\u001b[36mts\u001b[0m: $user.MyClassTwo = cmd53$$user$MyClassTwo@7cfddb37\n",
       "\u001b[36mres53_3\u001b[0m: String = \u001b[32m\"method 1\"\u001b[0m\n",
       "\u001b[36mres53_4\u001b[0m: String = \u001b[32m\"method 2\"\u001b[0m"
      ]
     },
     "metadata": {},
     "output_type": "display_data"
    }
   ],
   "source": [
    "abstract class MyClassOne {\n",
    "    def hello1: String\n",
    "    def hello2(): String\n",
    "    def hello3: String = \"method 3\"\n",
    "}\n",
    "\n",
    "class MyClassTwo(conts: Array[String]) extends MyClassOne {\n",
    "    def hello1(): String = \"method 1\"\n",
    "    def hello2: String = \"method 2\"\n",
    "}\n",
    "\n",
    "val ts = new MyClassTwo(Array(\"a\", \"b\"))\n",
    "ts.hello1\n",
    "ts.hello2()"
   ]
  },
  {
   "cell_type": "markdown",
   "metadata": {},
   "source": [
    "parameterless method & empty-paren의 override가 아닌 경우 호출시    \n",
    "paren 규칙에 맞게 호출해야 한다."
   ]
  },
  {
   "cell_type": "code",
   "execution_count": 54,
   "metadata": {
    "collapsed": false
   },
   "outputs": [
    {
     "ename": "",
     "evalue": "",
     "output_type": "error",
     "traceback": [
      "\u001b[31mMain.scala:25: not enough arguments for method apply: (index: Int)Char in class StringOps.",
      "Unspecified value parameter index.",
      "ts.hello3()",
      "         ^\u001b[0m"
     ]
    }
   ],
   "source": [
    "ts.hello3()"
   ]
  },
  {
   "cell_type": "markdown",
   "metadata": {},
   "source": [
    "method signiture는 method name, parameters, return type인데,   \n",
    "method name, parameters가 같을 경우 overriding 하려는 것으로 간주한다.   \n",
    "다만 override하게 될 경우 method name, parameters, return type 모두가 같아야 한다.\n",
    "\n",
    "아래의 예에서는 hello2들이 method name만 같으므로 override하려는 것으로 간주하지 않는다."
   ]
  },
  {
   "cell_type": "code",
   "execution_count": 79,
   "metadata": {
    "collapsed": false
   },
   "outputs": [
    {
     "data": {
      "text/plain": [
       "defined \u001b[32mclass \u001b[36mMyClassOne\u001b[0m\n",
       "defined \u001b[32mclass \u001b[36mMyClassTwo\u001b[0m\n",
       "\u001b[36mts\u001b[0m: $user.MyClassTwo = cmd78$$user$MyClassTwo@2ebb605e\n",
       "\u001b[36mres78_3\u001b[0m: Int = \u001b[32m2\u001b[0m"
      ]
     },
     "metadata": {},
     "output_type": "display_data"
    }
   ],
   "source": [
    "abstract class MyClassOne {\n",
    "    def hello1(x: Int): String\n",
    "    def hello2: String = \"hello2\"\n",
    "}\n",
    "\n",
    "class MyClassTwo(conts: Array[String]) extends MyClassOne {\n",
    "    def hello1(x: Int): String = \"hello1\"\n",
    "    def hello2(x: Int): Int = 2\n",
    "}\n",
    "\n",
    "val ts = new MyClassTwo(Array(\"a\", \"b\"))\n",
    "ts.hello2(1)"
   ]
  },
  {
   "cell_type": "markdown",
   "metadata": {},
   "source": [
    "반면 아래와 같이 method name, parameters가 같은 경우 override하려는 것으로 간주한다.(parameterless와 empty-paren은 같은 것으로 간주)   \n",
    "즉 override keyword를 사용하라는 경고가 발생한다."
   ]
  },
  {
   "cell_type": "code",
   "execution_count": 79,
   "metadata": {
    "collapsed": false
   },
   "outputs": [
    {
     "ename": "",
     "evalue": "",
     "output_type": "error",
     "traceback": [
      "\u001b[31mMain.scala:33: overriding method hello2 in class MyClassOne of type => String;",
      " method hello2 needs `override' modifier",
      "    def hello2(): Int = 2",
      "        ^\u001b[0m"
     ]
    }
   ],
   "source": [
    "abstract class MyClassOne {\n",
    "    def hello1(x: Int): String\n",
    "    def hello2: String = \"hello2\"\n",
    "}\n",
    "\n",
    "class MyClassTwo(conts: Array[String]) extends MyClassOne {\n",
    "    def hello1(x: Int): String = \"hello1\"\n",
    "    def hello2(): Int = 2\n",
    "}\n",
    "\n",
    "val ts = new MyClassTwo(Array(\"a\", \"b\"))\n",
    "ts.hello2()"
   ]
  },
  {
   "cell_type": "markdown",
   "metadata": {},
   "source": [
    "override keyword를 사용한 경우에도, return type이 같아야 한다는 경고가 발생한다. (당연)"
   ]
  },
  {
   "cell_type": "code",
   "execution_count": 79,
   "metadata": {
    "collapsed": false
   },
   "outputs": [
    {
     "ename": "",
     "evalue": "",
     "output_type": "error",
     "traceback": [
      "\u001b[31mMain.scala:33: overriding method hello2 in class MyClassOne of type => String;",
      " method hello2 has incompatible type",
      "    override def hello2(): Int = 2",
      "                 ^\u001b[0m"
     ]
    }
   ],
   "source": [
    "abstract class MyClassOne {\n",
    "    def hello1(x: Int): String\n",
    "    def hello2: String = \"hello2\"\n",
    "}\n",
    "\n",
    "class MyClassTwo(conts: Array[String]) extends MyClassOne {\n",
    "    def hello1(x: Int): String = \"hello1\"\n",
    "    override def hello2(): Int = 2\n",
    "}\n",
    "\n",
    "val ts = new MyClassTwo(Array(\"a\", \"b\"))\n",
    "ts.hello2()"
   ]
  },
  {
   "cell_type": "markdown",
   "metadata": {},
   "source": [
    "superclass의 method와 subclass의 method가 둘다 parameterless이거나 empty-paren일 경우  \n",
    "호출 시에도 동일하게 호출 해야 한다. (두가지 방식이 섞일 경우 호출시 어떤 방식을 써도 무관하다.)"
   ]
  },
  {
   "cell_type": "code",
   "execution_count": 80,
   "metadata": {
    "collapsed": false
   },
   "outputs": [
    {
     "ename": "",
     "evalue": "",
     "output_type": "error",
     "traceback": [
      "\u001b[31mMain.scala:36: not enough arguments for method apply: (index: Int)Char in class StringOps.",
      "Unspecified value parameter index.",
      "ts.hello1()",
      "         ^\u001b[0m"
     ]
    }
   ],
   "source": [
    "abstract class MyClassOne {\n",
    "    def hello1: String\n",
    "}\n",
    "\n",
    "class MyClassTwo(conts: Array[String]) extends MyClassOne {\n",
    "    def hello1: String = \"hello1\"\n",
    "}\n",
    "\n",
    "val ts = new MyClassTwo(Array(\"a\", \"b\"))\n",
    "ts.hello1()"
   ]
  },
  {
   "cell_type": "markdown",
   "metadata": {},
   "source": [
    "---"
   ]
  },
  {
   "cell_type": "markdown",
   "metadata": {},
   "source": [
    "**Subtyping**은 superclass type의 value가 필요한 자리에 subclass type의 value를 사용할 수 있다는 의미이다.   \n",
    "예를들어 아래와 같이 MyClassOne type의 변수에 MyClassTwo type의 값을 할당할 수 있다."
   ]
  },
  {
   "cell_type": "code",
   "execution_count": 84,
   "metadata": {
    "collapsed": false
   },
   "outputs": [
    {
     "data": {
      "text/plain": [
       "defined \u001b[32mclass \u001b[36mMyClassOne\u001b[0m\n",
       "defined \u001b[32mclass \u001b[36mMyClassTwo\u001b[0m\n",
       "\u001b[36mts\u001b[0m: $user.MyClassOne = cmd83$$user$MyClassTwo@76e6226c\n",
       "\u001b[36mres83_3\u001b[0m: String = \u001b[32m\"hello1\"\u001b[0m"
      ]
     },
     "metadata": {},
     "output_type": "display_data"
    }
   ],
   "source": [
    "abstract class MyClassOne {\n",
    "    def hello1: String\n",
    "}\n",
    "\n",
    "class MyClassTwo(conts: Array[String]) extends MyClassOne {\n",
    "    def hello1: String = \"hello1\"\n",
    "}\n",
    "\n",
    "val ts: MyClassOne = new MyClassTwo(Array(\"a\", \"b\"))\n",
    "ts.hello1"
   ]
  },
  {
   "cell_type": "markdown",
   "metadata": {},
   "source": [
    "### 10.5 Overriding methods and fields"
   ]
  },
  {
   "cell_type": "markdown",
   "metadata": {},
   "source": [
    "Scala에서는 fields와 methods가 동일한 namespace에 존재한다.    \n",
    "이러한 특성 때문에 superclass의 method를 field로 override하는 것이 가능하다."
   ]
  },
  {
   "cell_type": "markdown",
   "metadata": {},
   "source": []
  },
  {
   "cell_type": "markdown",
   "metadata": {},
   "source": []
  }
 ],
 "metadata": {
  "kernelspec": {
   "display_name": "Scala 2.10",
   "language": "scala210",
   "name": "scala210"
  },
  "language_info": {
   "codemirror_mode": "text/x-scala",
   "file_extension": ".scala",
   "mimetype": "text/x-scala",
   "name": "scala210",
   "pygments_lexer": "scala",
   "version": "2.10.6"
  }
 },
 "nbformat": 4,
 "nbformat_minor": 0
}
