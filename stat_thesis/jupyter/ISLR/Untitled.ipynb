{
 "cells": [
  {
   "cell_type": "markdown",
   "metadata": {},
   "source": [
    "### 2.2 Assessing Model Accuracy"
   ]
  },
  {
   "cell_type": "markdown",
   "metadata": {},
   "source": [
    "> 여러가지 statistical learning method들을 배우게 되는데,    \n",
    "사실 가장 잘 예측하는 한가지 방법만 알고 있으면 되지 않나? 하는 생각이 들기도 한다.   \n",
    "\n",
    "> 그런데 사실 모든 데이터에 항상 잘 들어 맞는 방법론이라는 것이 존재하지 않다.   \n",
    "데이터에 따라 그리고 상황에 따라 좋은 방법론이 달라질수밖에 없다.\n",
    "\n",
    "> 그렇다면 그 상황/데이터에 어떤 방법론이 좋은지 혹은 나쁜지에 대한 기준이 필요하다고 할 수 있다. 즉 모델을 평가할 수 있는 방법이 필요하다."
   ]
  },
  {
   "cell_type": "markdown",
   "metadata": {},
   "source": [
    "###### 2.2.1 Measuring the Quality of Fit"
   ]
  },
  {
   "cell_type": "markdown",
   "metadata": {},
   "source": [
    "> 어떤 모델의 성능이 좋다는 것은 예측 값(predicted response value)과 실제값(true response value)이 그만큼 가깝다는 것이다.   \n",
    "\n",
    "> 회귀 모형에서 흔희 사용하는 성능 측정 방법으로 mean squared error(MSE)고 아래와 같이 정의한다.\n",
    "\n",
    "$$MSE = \\frac{1}{n} \\sum_{i=1}^{n}( y_i - \\hat{f}(x_i))^2$$\n",
    "\n"
   ]
  },
  {
   "cell_type": "markdown",
   "metadata": {},
   "source": [
    "> 일반적으로 모형을 학습시킬때에는 training data를 이용하고, 모형에 대한 평가를 위해서는 test data를 사용한다.\n",
    "> "
   ]
  },
  {
   "cell_type": "markdown",
   "metadata": {},
   "source": [
    "###### 2.2.2 The Bias-Variance Trade-Off"
   ]
  },
  {
   "cell_type": "markdown",
   "metadata": {},
   "source": []
  },
  {
   "cell_type": "markdown",
   "metadata": {},
   "source": [
    "###### 2.2.3 The Classification Setting"
   ]
  },
  {
   "cell_type": "markdown",
   "metadata": {},
   "source": []
  },
  {
   "cell_type": "markdown",
   "metadata": {},
   "source": [
    "The Bayes Classifier"
   ]
  },
  {
   "cell_type": "markdown",
   "metadata": {},
   "source": []
  },
  {
   "cell_type": "markdown",
   "metadata": {},
   "source": [
    "K-Nearest Neighbors"
   ]
  },
  {
   "cell_type": "markdown",
   "metadata": {},
   "source": []
  },
  {
   "cell_type": "markdown",
   "metadata": {},
   "source": []
  }
 ],
 "metadata": {
  "anaconda-cloud": {},
  "kernelspec": {
   "display_name": "Python [Root]",
   "language": "python",
   "name": "Python [Root]"
  },
  "language_info": {
   "codemirror_mode": {
    "name": "ipython",
    "version": 3
   },
   "file_extension": ".py",
   "mimetype": "text/x-python",
   "name": "python",
   "nbconvert_exporter": "python",
   "pygments_lexer": "ipython3",
   "version": "3.5.2"
  }
 },
 "nbformat": 4,
 "nbformat_minor": 0
}
