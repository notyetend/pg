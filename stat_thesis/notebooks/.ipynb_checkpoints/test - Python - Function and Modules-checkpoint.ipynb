{
 "cells": [
  {
   "cell_type": "markdown",
   "metadata": {},
   "source": [
    "> 이 문서의 내용은 'Python Tutorial Release 3.4.2'를 참고하여 작성되었음.\n",
    "\n",
    "> Formating : header #2\n",
    "\n",
    "\n"
   ]
  },
  {
   "cell_type": "markdown",
   "metadata": {},
   "source": [
    "## About function argument"
   ]
  },
  {
   "cell_type": "markdown",
   "metadata": {},
   "source": [
    "**args and kwargs?**\n",
    "\n",
    "We call input values or parameters for function as \"arguments\". When we call functio, we can simply pass '<u>value of argment</u>' or '<u>keyword argument</u>'."
   ]
  },
  {
   "cell_type": "code",
   "execution_count": 3,
   "metadata": {
    "collapsed": false
   },
   "outputs": [
    {
     "name": "stdout",
     "output_type": "stream",
     "text": [
      "3\n",
      "3\n"
     ]
    }
   ],
   "source": [
    "def simple_function(a, b):\n",
    "    return a+b\n",
    "\n",
    "#Calling function with just 'value of argument'\n",
    "print(simple_function(1,2))\n",
    "\n",
    "#Calling function with 'keyword argument'\n",
    "print(simple_function(a=1,b=2))"
   ]
  },
  {
   "cell_type": "markdown",
   "metadata": {},
   "source": [
    "**Arbitrary Argument**\n",
    "\n",
    "argument의 수나 이름을 확정하지 않고 function call을 할 때, 임의로 argument들을 넘길수도 있다. \n",
    "\n",
    ">*args : keyword-only with list or tuple\n",
    "\n",
    ">**args : keyword and value pair with dictionaries\n",
    "\n",
    "argument를 넘길 때, *연산자는 list나 tuple을 unpack하고, **연산자는 dictionary를 unpack해서 넘겨준다."
   ]
  },
  {
   "cell_type": "code",
   "execution_count": 19,
   "metadata": {
    "collapsed": false
   },
   "outputs": [
    {
     "name": "stdout",
     "output_type": "stream",
     "text": [
      "normal arguments\n",
      " a: 1\n",
      " b: 2\n",
      "args: ('apple', 'tree')\n",
      " looping for args: apple\n",
      " looping for args: tree\n",
      "kwargs: {'hello': 'world', 'hi': 'there'}\n",
      " looping for kwargs: hello : world\n",
      " looping for kwargs: hi : there\n",
      "\n",
      "normal arguments\n",
      " a: 1\n",
      " b: 2\n",
      "args: ('apple', 'tree')\n",
      " looping for args: apple\n",
      " looping for args: tree\n",
      "kwargs: {'hello': 'world', 'hi': 'there'}\n",
      " looping for kwargs: hello : world\n",
      " looping for kwargs: hi : there\n",
      "\n"
     ]
    }
   ],
   "source": [
    "def arb_function(a, b, *args, **kwargs):\n",
    "    print(\"normal arguments\")\n",
    "    print(\" a:\", a)\n",
    "    print(\" b:\", b)\n",
    "    print(\"args:\", args)\n",
    "    for i in args:\n",
    "        print(\" looping for args:\", i)\n",
    "        \n",
    "    print(\"kwargs:\", kwargs)\n",
    "    keys = sorted(kwargs.keys())\n",
    "    for j in keys:\n",
    "        print(\" looping for kwargs:\", j, \":\", kwargs[j])\n",
    "    print()\n",
    "\n",
    "    \n",
    "ar = 'apple', 'tree'\n",
    "kw = {\"hello\":\"world\", \"hi\":\"there\"}\n",
    "\n",
    "arb_function(1, 2, *ar, **kw)\n",
    "\n",
    "#Same as above function call\n",
    "arb_function(1, 2, 'apple', 'tree', hello=\"world\", hi=\"there\")"
   ]
  },
  {
   "cell_type": "markdown",
   "metadata": {},
   "source": [
    "Lambda Expression을 사용할 수도 있다. lambda expression은 single expression을 inline으로 사용할 수 있도록 해 준다. 예를들어 어떤 함수가 argument로 n을 받았을 때, \n",
    "\n",
    "```Python\n",
    "lambda n: n+1\n",
    "```\n",
    "\n",
    "위와 같이 사용하면 lambda n이라는 표현은 n+1로 정의된다.\n",
    "\n",
    "아래 예에서는 dictionary의 sort함수 인자로 key=???을 넘겨줘야 한다. 이때 lambda pair를 pair[1]로 정의함으로써, dictionary의 key-value pair에서 value를 지칭하게 된다. 즉 값을 기준으로 정렬하겠다는 것이다.\n"
   ]
  },
  {
   "cell_type": "code",
   "execution_count": 24,
   "metadata": {
    "collapsed": false
   },
   "outputs": [
    {
     "data": {
      "text/plain": [
       "[(4, 'four'), (1, 'one'), (3, 'three'), (2, 'two')]"
      ]
     },
     "execution_count": 24,
     "metadata": {},
     "output_type": "execute_result"
    }
   ],
   "source": [
    "pairs = [(1, 'one'), (2, 'two'), (3, 'three'), (4, 'four')]\n",
    "pairs.sort(key=lambda pair:pair[1])\n",
    "pairs"
   ]
  },
  {
   "cell_type": "markdown",
   "metadata": {},
   "source": [
    "## Blabla"
   ]
  },
  {
   "cell_type": "code",
   "execution_count": null,
   "metadata": {
    "collapsed": true
   },
   "outputs": [],
   "source": []
  }
 ],
 "metadata": {
  "kernelspec": {
   "display_name": "Python 3",
   "language": "python",
   "name": "python3"
  },
  "language_info": {
   "codemirror_mode": {
    "name": "ipython",
    "version": 3
   },
   "file_extension": ".py",
   "mimetype": "text/x-python",
   "name": "python",
   "nbconvert_exporter": "python",
   "pygments_lexer": "ipython3",
   "version": "3.4.3"
  }
 },
 "nbformat": 4,
 "nbformat_minor": 0
}
