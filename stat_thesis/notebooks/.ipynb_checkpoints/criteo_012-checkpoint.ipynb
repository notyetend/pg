{
 "cells": [
  {
   "cell_type": "markdown",
   "metadata": {},
   "source": [
    "v012 : 테스트 데이터 생성 & 로지스틱 회귀"
   ]
  },
  {
   "cell_type": "markdown",
   "metadata": {},
   "source": [
    "### I'v made test data and result of logistic regression of this dataset. I'll use this data to check result of further development."
   ]
  },
  {
   "cell_type": "code",
   "execution_count": 418,
   "metadata": {
    "collapsed": false
   },
   "outputs": [],
   "source": [
    "import pandas as pd\n",
    "\n",
    "class Node: \n",
    "    def __init__(self): \n",
    "        self.data = None # Variable to store 'list'\n",
    "        self.length = None # Length of the list\n",
    "        self.next = None # Next node\n",
    "        self.prev = None # Previous Node\n",
    "        self.current_index = None # Index of current value of my list.\n",
    "\n",
    "    def __str__(self): \n",
    "        return str(self.data)\n",
    "    \n",
    "    def get_cur_value(self):\n",
    "        return self.data[self.current_index] # Returns current value of my list.\n",
    "\n",
    "    def increse_index(self):\n",
    "        overflow_flag = False # flag to show if current_index is indicating last value of my list.\n",
    "\n",
    "        if((self.current_index + 1) == self.length): # Check if current_index is indicating the last value of my node.\n",
    "            self.current_index = 0 # Resetting the current_index\n",
    "            overflow_flag = True\n",
    "            if(self.prev is not None):\n",
    "                self.prev.increse_index() # Propagating the overflow to previous node.\n",
    "        else:\n",
    "            self.current_index += 1\n",
    "        \n",
    "        return overflow_flag\n",
    "            \n",
    "    \n",
    "class Linked_list:\n",
    "    \n",
    "    def __init__(self):\n",
    "        self.head_node = None\n",
    "        self.tail_node = None\n",
    "        self.num_node = 0\n",
    "    \n",
    "    def add_first(self, data):\n",
    "        #create a new node\n",
    "        new_node = Node()\n",
    "        new_node.data = data\n",
    "        new_node.length = len(data)\n",
    "        new_node.current_index = 0\n",
    "        \n",
    "        if(self.head_node):\n",
    "            new_node.next = self.head_node\n",
    "            self.head_node.prev = new_node\n",
    "        else:\n",
    "            self.tail_node = new_node\n",
    "            \n",
    "        self.head_node = new_node\n",
    "        Linked_list.num_node += 1\n",
    "    \n",
    "    def add_last(self, data):\n",
    "        #create a new node\n",
    "        new_node = Node()\n",
    "        new_node.data = data\n",
    "        new_node.length = len(data)\n",
    "        new_node.current_index = 0\n",
    "        \n",
    "        if(self.head_node):\n",
    "            new_node.prev = self.tail_node\n",
    "            self.tail_node.next = new_node\n",
    "        else:\n",
    "            self.head_node = new_node\n",
    "            \n",
    "        self.tail_node = new_node\n",
    "        self.num_node += 1\n",
    "        \n",
    "    def list_print(self):\n",
    "        node = self.head_node\n",
    "        while node:\n",
    "            print(node.data)\n",
    "            node = node.next\n",
    "\n",
    "    def get_current_record(self):\n",
    "        node = self.head_node\n",
    "        return_list = []\n",
    "        while node:\n",
    "            return_list = return_list + [node.get_cur_value()]\n",
    "            node = node.next\n",
    "        return return_list\n",
    "    \n",
    "    def get_number_of_total_combination(self):\n",
    "        total = 1\n",
    "        node = self.head_node\n",
    "        while(node):\n",
    "            total *= node.length\n",
    "            node = node.next\n",
    "        return total\n",
    "    \n",
    "    def get_df_one(self, times=1):\n",
    "        stri = [str(i) for i in list(range(1, self.num_node))]\n",
    "        col_names = [\"y\"] + [\"x\" + s for s in stri]\n",
    "\n",
    "        df = pd.DataFrame(columns = col_names)\n",
    "        tot = self.get_number_of_total_combination() * times\n",
    "\n",
    "        for i in range(tot):\n",
    "            record = self.get_current_record()\n",
    "            df = df.append(pd.Series(record, index = col_names), ignore_index=True)\n",
    "            self.tail_node.increse_index()\n",
    "        return df\n"
   ]
  },
  {
   "cell_type": "code",
   "execution_count": 419,
   "metadata": {
    "collapsed": true
   },
   "outputs": [],
   "source": [
    "l1 = Linked_list()\n",
    "l1.add_last([1, 0])\n",
    "l1.add_last(['a1', 'a2', 'a3'])\n",
    "l1.add_last(['b1', 'b2', 'b3'])"
   ]
  },
  {
   "cell_type": "code",
   "execution_count": 420,
   "metadata": {
    "collapsed": true
   },
   "outputs": [],
   "source": [
    "l2 = Linked_list()\n",
    "l2.add_last([0])\n",
    "l2.add_last(['a1', 'a2'])\n",
    "l2.add_last(['b1', 'b2'])"
   ]
  },
  {
   "cell_type": "code",
   "execution_count": 421,
   "metadata": {
    "collapsed": false
   },
   "outputs": [],
   "source": [
    "l3 = Linked_list()\n",
    "l3.add_last([1])\n",
    "l3.add_last(['a2', 'a3'])\n",
    "l3.add_last(['b3'])"
   ]
  },
  {
   "cell_type": "code",
   "execution_count": 422,
   "metadata": {
    "collapsed": false
   },
   "outputs": [],
   "source": [
    "df1 = l1.get_df_one(1)\n",
    "df2 = l2.get_df_one(10)\n",
    "df3 = l3.get_df_one(20)\n",
    "\n",
    "df = df1.append(df2).append(df3)\n",
    "df = df.reset_index(drop=True)\n",
    "\n",
    "df.to_csv('./mycsv.csv')"
   ]
  },
  {
   "cell_type": "code",
   "execution_count": 423,
   "metadata": {
    "collapsed": false
   },
   "outputs": [],
   "source": [
    "dummy_x1 = pd.get_dummies(df['x1'], prefix='x1')\n",
    "dummy_x2 = pd.get_dummies(df['x2'], prefix='x2')\n",
    "\n",
    "data = df[['y']].join(dummy_x1.ix[:,'x1_a2':]).join(dummy_x2.ix[:,'x2_b2':])\n",
    "data['intercept'] = 1.0\n",
    "data = data.reset_index(drop=True)"
   ]
  },
  {
   "cell_type": "code",
   "execution_count": 424,
   "metadata": {
    "collapsed": false,
    "scrolled": false
   },
   "outputs": [
    {
     "name": "stdout",
     "output_type": "stream",
     "text": [
      "Optimization terminated successfully.\n",
      "         Current function value: 0.280984\n",
      "         Iterations 7\n",
      "                           Logit Regression Results                           \n",
      "==============================================================================\n",
      "Dep. Variable:                      y   No. Observations:                   98\n",
      "Model:                          Logit   Df Residuals:                       93\n",
      "Method:                           MLE   Df Model:                            4\n",
      "Date:                Mon, 14 Dec 2015   Pseudo R-squ.:                  0.5946\n",
      "Time:                        22:10:02   Log-Likelihood:                -27.536\n",
      "converged:                       True   LL-Null:                       -67.928\n",
      "                                        LLR p-value:                 1.188e-16\n",
      "==============================================================================\n",
      "                 coef    std err          z      P>|z|      [95.0% Conf. Int.]\n",
      "------------------------------------------------------------------------------\n",
      "x1_a2          0.8659      0.927      0.934      0.350        -0.951     2.683\n",
      "x1_a3          2.3049      1.145      2.013      0.044         0.061     4.549\n",
      "x2_b2        1.51e-16      0.900   1.68e-16      1.000        -1.764     1.764\n",
      "x2_b3          4.1810      0.890      4.696      0.000         2.436     5.926\n",
      "intercept     -2.7841      0.915     -3.043      0.002        -4.577    -0.991\n",
      "==============================================================================\n"
     ]
    }
   ],
   "source": [
    "import statsmodels.api as sm\n",
    "\n",
    "logit = sm.Logit(data['y'], data.ix[:,'x1_a2':])\n",
    "result = logit.fit()\n",
    "print(result.summary())"
   ]
  },
  {
   "cell_type": "markdown",
   "metadata": {},
   "source": [
    "----------------------------------------------------------\n"
   ]
  },
  {
   "cell_type": "code",
   "execution_count": null,
   "metadata": {
    "collapsed": true
   },
   "outputs": [],
   "source": []
  }
 ],
 "metadata": {
  "kernelspec": {
   "display_name": "Python 3",
   "language": "python",
   "name": "python3"
  },
  "language_info": {
   "codemirror_mode": {
    "name": "ipython",
    "version": 3
   },
   "file_extension": ".py",
   "mimetype": "text/x-python",
   "name": "python",
   "nbconvert_exporter": "python",
   "pygments_lexer": "ipython3",
   "version": "3.4.3"
  }
 },
 "nbformat": 4,
 "nbformat_minor": 0
}
