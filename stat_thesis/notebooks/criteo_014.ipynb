{
 "cells": [
  {
   "cell_type": "markdown",
   "metadata": {},
   "source": [
    "v012 : 테스트 데이터 생성 & 로지스틱 회귀\n",
    "\n",
    "v013 : applied tinrtgu's idea to this test dataset\n",
    "\n",
    "v014 : implementing ADF, 구현 완료 했고, 테스트 데이터에 적용해 봄."
   ]
  },
  {
   "cell_type": "markdown",
   "metadata": {},
   "source": [
    "###### I'v made test data and result of logistic regression of this dataset. I'll use this data to check result of further development."
   ]
  },
  {
   "cell_type": "markdown",
   "metadata": {},
   "source": [
    "###### - Creating data structure to generate test data conveniently."
   ]
  },
  {
   "cell_type": "code",
   "execution_count": 116,
   "metadata": {
    "collapsed": false
   },
   "outputs": [],
   "source": [
    "import pandas as pd\n",
    "import numpy as np\n",
    "\n",
    "class Node: \n",
    "    def __init__(self): \n",
    "        self.data = None # Variable to store 'list'\n",
    "        self.length = None # Length of the list\n",
    "        self.next = None # Next node\n",
    "        self.prev = None # Previous Node\n",
    "        self.current_index = None # Index of current value of my list.\n",
    "\n",
    "    def __str__(self): \n",
    "        return str(self.data)\n",
    "    \n",
    "    def get_cur_value(self):\n",
    "        return self.data[self.current_index] # Returns current value of my list.\n",
    "\n",
    "    def increse_index(self):\n",
    "        overflow_flag = False # flag to show if current_index is indicating last value of my list.\n",
    "\n",
    "        if((self.current_index + 1) == self.length): # Check if current_index is indicating the last value of my node.\n",
    "            self.current_index = 0 # Resetting the current_index\n",
    "            overflow_flag = True\n",
    "            if(self.prev is not None):\n",
    "                self.prev.increse_index() # Propagating the overflow to previous node.\n",
    "        else:\n",
    "            self.current_index += 1\n",
    "        \n",
    "        return overflow_flag\n",
    "            \n",
    "    \n",
    "class Linked_list:\n",
    "    \n",
    "    def __init__(self):\n",
    "        self.head_node = None\n",
    "        self.tail_node = None\n",
    "        self.num_node = 0\n",
    "    \n",
    "    def add_first(self, data):\n",
    "        #create a new node\n",
    "        new_node = Node()\n",
    "        new_node.data = data\n",
    "        new_node.length = len(data)\n",
    "        new_node.current_index = 0\n",
    "        \n",
    "        if(self.head_node):\n",
    "            new_node.next = self.head_node\n",
    "            self.head_node.prev = new_node\n",
    "        else:\n",
    "            self.tail_node = new_node\n",
    "            \n",
    "        self.head_node = new_node\n",
    "        Linked_list.num_node += 1\n",
    "    \n",
    "    def add_last(self, data):\n",
    "        #create a new node\n",
    "        new_node = Node()\n",
    "        new_node.data = data\n",
    "        new_node.length = len(data)\n",
    "        new_node.current_index = 0\n",
    "        \n",
    "        if(self.head_node):\n",
    "            new_node.prev = self.tail_node\n",
    "            self.tail_node.next = new_node\n",
    "        else:\n",
    "            self.head_node = new_node\n",
    "            \n",
    "        self.tail_node = new_node\n",
    "        self.num_node += 1\n",
    "        \n",
    "    def list_print(self):\n",
    "        node = self.head_node\n",
    "        while node:\n",
    "            print(node.data)\n",
    "            node = node.next\n",
    "\n",
    "    def get_current_record(self):\n",
    "        node = self.head_node\n",
    "        return_list = []\n",
    "        while node:\n",
    "            return_list = return_list + [node.get_cur_value()]\n",
    "            node = node.next\n",
    "        return return_list\n",
    "    \n",
    "    def get_number_of_total_combination(self):\n",
    "        total = 1\n",
    "        node = self.head_node\n",
    "        while(node):\n",
    "            total *= node.length\n",
    "            node = node.next\n",
    "        return total\n",
    "    \n",
    "    def get_df_one(self, times=1):\n",
    "        stri = [str(i) for i in list(range(1, self.num_node))]\n",
    "        col_names = [\"y\"] + [\"x\" + s for s in stri]\n",
    "\n",
    "        df = pd.DataFrame(columns = col_names)\n",
    "        tot = self.get_number_of_total_combination() * times\n",
    "\n",
    "        for i in range(tot):\n",
    "            record = self.get_current_record()\n",
    "            df = df.append(pd.Series(record, index = col_names), ignore_index=True)\n",
    "            self.tail_node.increse_index()\n",
    "        return df\n"
   ]
  },
  {
   "cell_type": "markdown",
   "metadata": {},
   "source": [
    "Skeleton linked-list having all category values."
   ]
  },
  {
   "cell_type": "code",
   "execution_count": 117,
   "metadata": {
    "collapsed": true
   },
   "outputs": [],
   "source": [
    "l1 = Linked_list()\n",
    "l1.add_last([1, 0])\n",
    "l1.add_last(['a1', 'a2', 'a3'])\n",
    "l1.add_last(['b1', 'b2', 'b3'])"
   ]
  },
  {
   "cell_type": "markdown",
   "metadata": {},
   "source": [
    "Linked-list for $y=0$"
   ]
  },
  {
   "cell_type": "code",
   "execution_count": 118,
   "metadata": {
    "collapsed": true
   },
   "outputs": [],
   "source": [
    "l2 = Linked_list()\n",
    "l2.add_last([0])\n",
    "l2.add_last(['a1', 'a2'])\n",
    "l2.add_last(['b1', 'b2'])"
   ]
  },
  {
   "cell_type": "markdown",
   "metadata": {},
   "source": [
    "Linked-list for $y=1$"
   ]
  },
  {
   "cell_type": "code",
   "execution_count": 119,
   "metadata": {
    "collapsed": false
   },
   "outputs": [],
   "source": [
    "l3 = Linked_list()\n",
    "l3.add_last([1])\n",
    "l3.add_last(['a2', 'a3'])\n",
    "l3.add_last(['b3'])"
   ]
  },
  {
   "cell_type": "markdown",
   "metadata": {},
   "source": [
    "###### Generating training data from 3 linked-list created earlier."
   ]
  },
  {
   "cell_type": "code",
   "execution_count": 120,
   "metadata": {
    "collapsed": false
   },
   "outputs": [],
   "source": [
    "df1 = l1.get_df_one(1)\n",
    "df2 = l2.get_df_one(10)\n",
    "df3 = l3.get_df_one(20)\n",
    "\n",
    "df_train = df1.append(df2).append(df3)\n",
    "df_train = df_train.reset_index(drop=True)\n",
    "\n",
    "df_train.to_csv('./mycsv.csv')\n",
    "\n",
    "\n",
    "dummy_x1 = pd.get_dummies(df_train['x1'], prefix='x1')\n",
    "dummy_x2 = pd.get_dummies(df_train['x2'], prefix='x2')\n",
    "\n",
    "data_train = df_train[['y']].join(dummy_x1.ix[:,'x1_a2':]).join(dummy_x2.ix[:,'x2_b2':])\n",
    "data_train['intercept'] = 1.0\n",
    "data_train = data_train.reset_index(drop=True)"
   ]
  },
  {
   "cell_type": "code",
   "execution_count": 121,
   "metadata": {
    "collapsed": false
   },
   "outputs": [
    {
     "data": {
      "text/html": [
       "<div>\n",
       "<table border=\"1\" class=\"dataframe\">\n",
       "  <thead>\n",
       "    <tr style=\"text-align: right;\">\n",
       "      <th></th>\n",
       "      <th>y</th>\n",
       "      <th>x1_a2</th>\n",
       "      <th>x1_a3</th>\n",
       "      <th>x2_b2</th>\n",
       "      <th>x2_b3</th>\n",
       "      <th>intercept</th>\n",
       "    </tr>\n",
       "  </thead>\n",
       "  <tbody>\n",
       "    <tr>\n",
       "      <th>0</th>\n",
       "      <td>1</td>\n",
       "      <td>0</td>\n",
       "      <td>0</td>\n",
       "      <td>0</td>\n",
       "      <td>0</td>\n",
       "      <td>1</td>\n",
       "    </tr>\n",
       "    <tr>\n",
       "      <th>1</th>\n",
       "      <td>1</td>\n",
       "      <td>0</td>\n",
       "      <td>0</td>\n",
       "      <td>1</td>\n",
       "      <td>0</td>\n",
       "      <td>1</td>\n",
       "    </tr>\n",
       "    <tr>\n",
       "      <th>2</th>\n",
       "      <td>1</td>\n",
       "      <td>0</td>\n",
       "      <td>0</td>\n",
       "      <td>0</td>\n",
       "      <td>1</td>\n",
       "      <td>1</td>\n",
       "    </tr>\n",
       "    <tr>\n",
       "      <th>3</th>\n",
       "      <td>1</td>\n",
       "      <td>1</td>\n",
       "      <td>0</td>\n",
       "      <td>0</td>\n",
       "      <td>0</td>\n",
       "      <td>1</td>\n",
       "    </tr>\n",
       "    <tr>\n",
       "      <th>4</th>\n",
       "      <td>1</td>\n",
       "      <td>1</td>\n",
       "      <td>0</td>\n",
       "      <td>1</td>\n",
       "      <td>0</td>\n",
       "      <td>1</td>\n",
       "    </tr>\n",
       "  </tbody>\n",
       "</table>\n",
       "</div>"
      ],
      "text/plain": [
       "   y  x1_a2  x1_a3  x2_b2  x2_b3  intercept\n",
       "0  1      0      0      0      0          1\n",
       "1  1      0      0      1      0          1\n",
       "2  1      0      0      0      1          1\n",
       "3  1      1      0      0      0          1\n",
       "4  1      1      0      1      0          1"
      ]
     },
     "execution_count": 121,
     "metadata": {},
     "output_type": "execute_result"
    }
   ],
   "source": [
    "data_train.head(5)"
   ]
  },
  {
   "cell_type": "markdown",
   "metadata": {},
   "source": [
    "Generating test data from 3 linked-list created earlier with different frequency."
   ]
  },
  {
   "cell_type": "code",
   "execution_count": 122,
   "metadata": {
    "collapsed": true
   },
   "outputs": [],
   "source": [
    "df1_ = l1.get_df_one(1)\n",
    "df2_ = l2.get_df_one(2)\n",
    "df3_ = l3.get_df_one(5)\n",
    "\n",
    "df_test = df1_.append(df2_).append(df3_)\n",
    "df_test = df_test.reset_index(drop=True)\n",
    "\n",
    "dummy_x1_ = pd.get_dummies(df_test['x1'], prefix='x1')\n",
    "dummy_x2_ = pd.get_dummies(df_test['x2'], prefix='x2')\n",
    "\n",
    "data_test = df_test[['y']].join(dummy_x1_.ix[:,'x1_a2':]).join(dummy_x2_.ix[:,'x2_b2':])\n",
    "data_test['intercept'] = 1.0\n",
    "data_test = data_test.reset_index(drop=True)"
   ]
  },
  {
   "cell_type": "code",
   "execution_count": 123,
   "metadata": {
    "collapsed": false
   },
   "outputs": [
    {
     "data": {
      "text/html": [
       "<div>\n",
       "<table border=\"1\" class=\"dataframe\">\n",
       "  <thead>\n",
       "    <tr style=\"text-align: right;\">\n",
       "      <th></th>\n",
       "      <th>y</th>\n",
       "      <th>x1_a2</th>\n",
       "      <th>x1_a3</th>\n",
       "      <th>x2_b2</th>\n",
       "      <th>x2_b3</th>\n",
       "      <th>intercept</th>\n",
       "    </tr>\n",
       "  </thead>\n",
       "  <tbody>\n",
       "    <tr>\n",
       "      <th>0</th>\n",
       "      <td>1</td>\n",
       "      <td>0</td>\n",
       "      <td>0</td>\n",
       "      <td>0</td>\n",
       "      <td>0</td>\n",
       "      <td>1</td>\n",
       "    </tr>\n",
       "    <tr>\n",
       "      <th>1</th>\n",
       "      <td>1</td>\n",
       "      <td>0</td>\n",
       "      <td>0</td>\n",
       "      <td>1</td>\n",
       "      <td>0</td>\n",
       "      <td>1</td>\n",
       "    </tr>\n",
       "    <tr>\n",
       "      <th>2</th>\n",
       "      <td>1</td>\n",
       "      <td>0</td>\n",
       "      <td>0</td>\n",
       "      <td>0</td>\n",
       "      <td>1</td>\n",
       "      <td>1</td>\n",
       "    </tr>\n",
       "    <tr>\n",
       "      <th>3</th>\n",
       "      <td>1</td>\n",
       "      <td>1</td>\n",
       "      <td>0</td>\n",
       "      <td>0</td>\n",
       "      <td>0</td>\n",
       "      <td>1</td>\n",
       "    </tr>\n",
       "    <tr>\n",
       "      <th>4</th>\n",
       "      <td>1</td>\n",
       "      <td>1</td>\n",
       "      <td>0</td>\n",
       "      <td>1</td>\n",
       "      <td>0</td>\n",
       "      <td>1</td>\n",
       "    </tr>\n",
       "  </tbody>\n",
       "</table>\n",
       "</div>"
      ],
      "text/plain": [
       "   y  x1_a2  x1_a3  x2_b2  x2_b3  intercept\n",
       "0  1      0      0      0      0          1\n",
       "1  1      0      0      1      0          1\n",
       "2  1      0      0      0      1          1\n",
       "3  1      1      0      0      0          1\n",
       "4  1      1      0      1      0          1"
      ]
     },
     "execution_count": 123,
     "metadata": {},
     "output_type": "execute_result"
    }
   ],
   "source": [
    "data_test.head(5)"
   ]
  },
  {
   "cell_type": "markdown",
   "metadata": {},
   "source": [
    "shuffling data "
   ]
  },
  {
   "cell_type": "code",
   "execution_count": 124,
   "metadata": {
    "collapsed": false
   },
   "outputs": [],
   "source": [
    "df_train = df_train.reindex(np.random.permutation(df_train.index))\n",
    "df_train = df_train.reset_index(drop=True)\n",
    "\n",
    "df_test = df_test.reindex(np.random.permutation(df_test.index))\n",
    "df_test = df_test.reset_index(drop=True)"
   ]
  },
  {
   "cell_type": "markdown",
   "metadata": {},
   "source": [
    "Model fitting with logistic regression model"
   ]
  },
  {
   "cell_type": "code",
   "execution_count": 125,
   "metadata": {
    "collapsed": false,
    "scrolled": false
   },
   "outputs": [
    {
     "name": "stdout",
     "output_type": "stream",
     "text": [
      "Optimization terminated successfully.\n",
      "         Current function value: 0.280984\n",
      "         Iterations 7\n",
      "                           Logit Regression Results                           \n",
      "==============================================================================\n",
      "Dep. Variable:                      y   No. Observations:                   98\n",
      "Model:                          Logit   Df Residuals:                       93\n",
      "Method:                           MLE   Df Model:                            4\n",
      "Date:                Tue, 12 Jan 2016   Pseudo R-squ.:                  0.5946\n",
      "Time:                        20:06:10   Log-Likelihood:                -27.536\n",
      "converged:                       True   LL-Null:                       -67.928\n",
      "                                        LLR p-value:                 1.188e-16\n",
      "==============================================================================\n",
      "                 coef    std err          z      P>|z|      [95.0% Conf. Int.]\n",
      "------------------------------------------------------------------------------\n",
      "x1_a2          0.8659      0.927      0.934      0.350        -0.951     2.683\n",
      "x1_a3          2.3049      1.145      2.013      0.044         0.061     4.549\n",
      "x2_b2        1.51e-16      0.900   1.68e-16      1.000        -1.764     1.764\n",
      "x2_b3          4.1810      0.890      4.696      0.000         2.436     5.926\n",
      "intercept     -2.7841      0.915     -3.043      0.002        -4.577    -0.991\n",
      "==============================================================================\n"
     ]
    }
   ],
   "source": [
    "import statsmodels.api as sm\n",
    "\n",
    "logit = sm.Logit(data_train['y'], data_train.ix[:,'x1_a2':])\n",
    "result = logit.fit()\n",
    "print(result.summary())"
   ]
  },
  {
   "cell_type": "markdown",
   "metadata": {},
   "source": [
    "###### Getting predicted success probability and SSE using training data. "
   ]
  },
  {
   "cell_type": "code",
   "execution_count": 126,
   "metadata": {
    "collapsed": false
   },
   "outputs": [
    {
     "data": {
      "text/plain": [
       "7.4386847041540758"
      ]
     },
     "execution_count": 126,
     "metadata": {},
     "output_type": "execute_result"
    }
   ],
   "source": [
    "predicted = result.predict(data_train.ix[:,'x1_a2':])\n",
    "actual = data_train['y']\n",
    "\n",
    "import numpy as np\n",
    "SSE = sum((np.array(predicted) - np.array(actual))**2)\n",
    "SSE"
   ]
  },
  {
   "cell_type": "markdown",
   "metadata": {},
   "source": [
    "###### Getting predicted success probability and SSE using test data. "
   ]
  },
  {
   "cell_type": "code",
   "execution_count": 127,
   "metadata": {
    "collapsed": false
   },
   "outputs": [
    {
     "data": {
      "text/plain": [
       "6.9801424285949789"
      ]
     },
     "execution_count": 127,
     "metadata": {},
     "output_type": "execute_result"
    }
   ],
   "source": [
    "predicted = result.predict(data_test.ix[:,'x1_a2':])\n",
    "actual = data_test['y']\n",
    "\n",
    "import numpy as np\n",
    "SSE = sum((np.array(predicted) - np.array(actual))**2)\n",
    "SSE"
   ]
  },
  {
   "cell_type": "markdown",
   "metadata": {},
   "source": [
    "###### Computing log-loss using train data."
   ]
  },
  {
   "cell_type": "code",
   "execution_count": 130,
   "metadata": {
    "collapsed": false
   },
   "outputs": [
    {
     "data": {
      "text/plain": [
       "27.53640875884006"
      ]
     },
     "execution_count": 130,
     "metadata": {},
     "output_type": "execute_result"
    }
   ],
   "source": [
    "predicted = result.predict(data_train.ix[:,'x1_a2':])\n",
    "actual = data_train['y']\n",
    "\n",
    "from datetime import datetime\n",
    "from csv import DictReader\n",
    "from math import exp, log, sqrt\n",
    "\n",
    "\n",
    "def logloss(p, y):\n",
    "    p = max(min(p, 1. - 10e-12), 10e-12)\n",
    "    return -log(p) if y == 1. else -log(1. - p)\n",
    "\n",
    "loss_list = [0]\n",
    "loss = 0\n",
    "for i in range(len(actual)):\n",
    "    LL = logloss(predicted[i], actual[i])\n",
    "    loss += LL\n",
    "    loss_list.append(loss/(i+1))\n",
    "loss\n"
   ]
  },
  {
   "cell_type": "code",
   "execution_count": 131,
   "metadata": {
    "collapsed": false
   },
   "outputs": [
    {
     "data": {
      "text/plain": [
       "[<matplotlib.lines.Line2D at 0x9935160>]"
      ]
     },
     "execution_count": 131,
     "metadata": {},
     "output_type": "execute_result"
    },
    {
     "data": {
      "image/png": "[encoded data removed]",
      "text/plain": [
       "<matplotlib.figure.Figure at 0x9859eb8>"
      ]
     },
     "metadata": {},
     "output_type": "display_data"
    }
   ],
   "source": [
    "import matplotlib.pyplot as plt\n",
    "%matplotlib inline\n",
    "\n",
    "plt.plot(loss_list)"
   ]
  },
  {
   "cell_type": "markdown",
   "metadata": {},
   "source": [
    "###### Computing log-loss using test data."
   ]
  },
  {
   "cell_type": "code",
   "execution_count": 136,
   "metadata": {
    "collapsed": false
   },
   "outputs": [
    {
     "data": {
      "text/plain": [
       "22.533914895676304"
      ]
     },
     "execution_count": 136,
     "metadata": {},
     "output_type": "execute_result"
    }
   ],
   "source": [
    "predicted = result.predict(data_test.ix[:,'x1_a2':])\n",
    "actual = data_test['y']\n",
    "\n",
    "from datetime import datetime\n",
    "from csv import DictReader\n",
    "from math import exp, log, sqrt\n",
    "\n",
    "\n",
    "def logloss(p, y):\n",
    "    p = max(min(p, 1. - 10e-12), 10e-12)\n",
    "    return -log(p) if y == 1. else -log(1. - p)\n",
    "\n",
    "loss_list = [0]\n",
    "loss = 0\n",
    "for i in range(len(actual)):\n",
    "    LL = logloss(predicted[i], actual[i])\n",
    "    loss += LL\n",
    "    loss_list.append(loss/(i+1))\n",
    "loss\n"
   ]
  },
  {
   "cell_type": "code",
   "execution_count": 137,
   "metadata": {
    "collapsed": false
   },
   "outputs": [
    {
     "data": {
      "text/plain": [
       "[<matplotlib.lines.Line2D at 0x99f9da0>]"
      ]
     },
     "execution_count": 137,
     "metadata": {},
     "output_type": "execute_result"
    },
    {
     "data": {
      "image/png": "[encoded data removed]",
      "text/plain": [
       "<matplotlib.figure.Figure at 0x548a6d8>"
      ]
     },
     "metadata": {},
     "output_type": "display_data"
    }
   ],
   "source": [
    "import matplotlib.pyplot as plt\n",
    "%matplotlib inline\n",
    "\n",
    "plt.plot(loss_list)"
   ]
  },
  {
   "cell_type": "markdown",
   "metadata": {},
   "source": [
    "----------------------------------------------------------\n"
   ]
  },
  {
   "cell_type": "markdown",
   "metadata": {},
   "source": [
    "# **tinrtgu's idea below**"
   ]
  },
  {
   "cell_type": "code",
   "execution_count": 138,
   "metadata": {
    "collapsed": true
   },
   "outputs": [],
   "source": [
    "def get_x_dic(df_train, row_num):\n",
    "    keys = list(df_train.columns.values)\n",
    "    values = list(df_train.ix[row_num])\n",
    "    x_dic = {}\n",
    "    for i in range(len(keys)):\n",
    "        x_dic[keys[i]] = values[i]\n",
    "    return x_dic"
   ]
  },
  {
   "cell_type": "code",
   "execution_count": 139,
   "metadata": {
    "collapsed": false
   },
   "outputs": [],
   "source": [
    "from datetime import datetime\n",
    "from csv import DictReader\n",
    "from math import exp, log, sqrt\n",
    "\n",
    "D = 2 ** 6   # number of weights use for learning\n",
    "alpha = .75    # learning rate for sgd optimization"
   ]
  },
  {
   "cell_type": "code",
   "execution_count": 140,
   "metadata": {
    "collapsed": true
   },
   "outputs": [],
   "source": [
    "def logloss(p, y):\n",
    "    p = max(min(p, 1. - 10e-12), 10e-12)\n",
    "    return -log(p) if y == 1. else -log(1. - p)"
   ]
  },
  {
   "cell_type": "code",
   "execution_count": 141,
   "metadata": {
    "collapsed": true
   },
   "outputs": [],
   "source": [
    "def get_x(csv_row, D):\n",
    "    x = [0]  # 0 is the index of the bias term\n",
    "    for key, value in csv_row.items():\n",
    "        index = int(value + key[1:], 16) % D  # weakest hash ever ;)\n",
    "        x.append(index)\n",
    "    return x  # x contains indices of features that have a value of 1"
   ]
  },
  {
   "cell_type": "code",
   "execution_count": 142,
   "metadata": {
    "collapsed": true
   },
   "outputs": [],
   "source": [
    "def get_p(x, w):\n",
    "    wTx = 0.\n",
    "    for i in x:  # do wTx\n",
    "        wTx += w[i] * 1.  # w[i] * x[i], but if i in x we got x[i] = 1.\n",
    "    return 1. / (1. + exp(-max(min(wTx, 20.), -20.)))  # bounded sigmoid"
   ]
  },
  {
   "cell_type": "code",
   "execution_count": 143,
   "metadata": {
    "collapsed": true
   },
   "outputs": [],
   "source": [
    "def update_w(w, n, x, p, y):\n",
    "    for i in x:\n",
    "        # alpha / (sqrt(n) + 1) is the adaptive learning rate heuristic\n",
    "        # (p - y) * x[i] is the current gradient\n",
    "        # note that in our case, if i in x then x[i] = 1\n",
    "        w[i] -= (p - y) * alpha / (sqrt(n[i]) + 1.)\n",
    "        n[i] += 1.\n",
    "\n",
    "    return w, n"
   ]
  },
  {
   "cell_type": "markdown",
   "metadata": {},
   "source": [
    "###### Fitting for train data"
   ]
  },
  {
   "cell_type": "code",
   "execution_count": 144,
   "metadata": {
    "collapsed": false
   },
   "outputs": [
    {
     "data": {
      "text/plain": [
       "38.25152646276632"
      ]
     },
     "execution_count": 144,
     "metadata": {},
     "output_type": "execute_result"
    }
   ],
   "source": [
    "# initialize our model\n",
    "w = [0.] * D  # weights\n",
    "n = [0.] * D  # number of times we've encountered a feature\n",
    "\n",
    "# start training a logistic regression model using on pass sgd\n",
    "loss = 0.\n",
    "loss_list = [0]\n",
    "\n",
    "for i in range(len(df_train)):\n",
    "    row = get_x_dic(df_train, i)\n",
    "    \n",
    "    y = 1. if row['y'] == 1 else 0.\n",
    "    del row['y']\n",
    "    \n",
    "    x = get_x(row, D)\n",
    "    \n",
    "    p = get_p(x, w)\n",
    "    \n",
    "    LL = logloss(p, y)\n",
    "    loss += LL\n",
    "    loss_list.append(loss/(i+1))\n",
    "    \n",
    "    w, n = update_w(w, n, x, p, y)\n",
    "\n",
    "w\n",
    "loss"
   ]
  },
  {
   "cell_type": "code",
   "execution_count": 145,
   "metadata": {
    "collapsed": false
   },
   "outputs": [
    {
     "data": {
      "text/plain": [
       "[<matplotlib.lines.Line2D at 0x9a67908>]"
      ]
     },
     "execution_count": 145,
     "metadata": {},
     "output_type": "execute_result"
    },
    {
     "data": {
      "image/png": "[encoded data removed]",
      "text/plain": [
       "<matplotlib.figure.Figure at 0x99c5208>"
      ]
     },
     "metadata": {},
     "output_type": "display_data"
    }
   ],
   "source": [
    "import matplotlib.pyplot as plt\n",
    "%matplotlib inline\n",
    "\n",
    "plt.plot(loss_list)"
   ]
  },
  {
   "cell_type": "markdown",
   "metadata": {},
   "source": [
    "Testing"
   ]
  },
  {
   "cell_type": "code",
   "execution_count": 146,
   "metadata": {
    "collapsed": false
   },
   "outputs": [
    {
     "name": "stdout",
     "output_type": "stream",
     "text": [
      "{'y': 0.0, 'x2': 'b2', 'x1': 'a2'}\n"
     ]
    },
    {
     "data": {
      "text/plain": [
       "0.22298796057638157"
      ]
     },
     "execution_count": 146,
     "metadata": {},
     "output_type": "execute_result"
    }
   ],
   "source": [
    "row = get_x_dic(df_train, 17)\n",
    "print(row)\n",
    "del row['y']\n",
    "get_p(get_x(row, D), w)"
   ]
  },
  {
   "cell_type": "markdown",
   "metadata": {},
   "source": [
    "###### Predicting for test data"
   ]
  },
  {
   "cell_type": "code",
   "execution_count": 147,
   "metadata": {
    "collapsed": false
   },
   "outputs": [
    {
     "data": {
      "text/plain": [
       "19.846040936514083"
      ]
     },
     "execution_count": 147,
     "metadata": {},
     "output_type": "execute_result"
    }
   ],
   "source": [
    "loss = 0.\n",
    "loss_list = [0]\n",
    "\n",
    "for i in range(len(df_test)):\n",
    "    row = get_x_dic(df_test, i)\n",
    "    \n",
    "    y = 1. if row['y'] == 1 else 0.\n",
    "    del row['y']\n",
    "    \n",
    "    x = get_x(row, D)\n",
    "    p = get_p(x, w)\n",
    "    \n",
    "    LL = logloss(p, y)\n",
    "    loss += LL\n",
    "    \n",
    "    loss_list.append(loss/(i+1))\n",
    "    \n",
    "loss\n"
   ]
  },
  {
   "cell_type": "code",
   "execution_count": 148,
   "metadata": {
    "collapsed": false
   },
   "outputs": [
    {
     "data": {
      "text/plain": [
       "[<matplotlib.lines.Line2D at 0x9ac8c50>]"
      ]
     },
     "execution_count": 148,
     "metadata": {},
     "output_type": "execute_result"
    },
    {
     "data": {
      "image/png": "[encoded data removed]",
      "text/plain": [
       "<matplotlib.figure.Figure at 0x9a7af60>"
      ]
     },
     "metadata": {},
     "output_type": "display_data"
    }
   ],
   "source": [
    "import matplotlib.pyplot as plt\n",
    "%matplotlib inline\n",
    "\n",
    "plt.plot(loss_list)"
   ]
  },
  {
   "cell_type": "markdown",
   "metadata": {
    "collapsed": true
   },
   "source": []
  },
  {
   "cell_type": "markdown",
   "metadata": {},
   "source": [
    "--------"
   ]
  },
  {
   "cell_type": "markdown",
   "metadata": {},
   "source": [
    "### **We will implement ADF for online learning based on tinrtgu's code.**"
   ]
  },
  {
   "cell_type": "code",
   "execution_count": 149,
   "metadata": {
    "collapsed": true
   },
   "outputs": [],
   "source": [
    "# Function getting dictinary of each row.\n",
    "#\n",
    "# Input : whole data-frame, row number (0~)\n",
    "# Output : Dictinary containing data of indicated row.\n",
    "\n",
    "def get_x_dic(df_train, row_num):\n",
    "    keys = list(df_train.columns.values)\n",
    "    values = list(df_train.ix[row_num])\n",
    "    x_dic = {}\n",
    "    for i in range(len(keys)):\n",
    "        x_dic[keys[i]] = values[i]\n",
    "    return x_dic"
   ]
  },
  {
   "cell_type": "code",
   "execution_count": 150,
   "metadata": {
    "collapsed": false
   },
   "outputs": [],
   "source": [
    "from datetime import datetime\n",
    "from csv import DictReader\n",
    "from math import exp, log, sqrt\n",
    "\n",
    "D = 2 ** 6   # number of weights use for learning\n"
   ]
  },
  {
   "cell_type": "code",
   "execution_count": 151,
   "metadata": {
    "collapsed": true
   },
   "outputs": [],
   "source": [
    "def logloss(p, y):\n",
    "    p = max(min(p, 1. - 10e-12), 10e-12)\n",
    "    return -log(p) if y == 1. else -log(1. - p)"
   ]
  },
  {
   "cell_type": "code",
   "execution_count": 152,
   "metadata": {
    "collapsed": true
   },
   "outputs": [],
   "source": [
    "def get_x(csv_row, D):\n",
    "    x = [0]  # 0 is the index of the bias term\n",
    "    for key, value in csv_row.items():\n",
    "        index = int(value + key[1:], 16) % D  # weakest hash ever ;)\n",
    "        x.append(index)\n",
    "    return x  # x contains indices of features that have a value of 1"
   ]
  },
  {
   "cell_type": "markdown",
   "metadata": {},
   "source": [
    "**1. Posterior distribution of** $s_t$, $q_t(s_t)$\n",
    "$$\n",
    "\\begin{align}\n",
    "q_t(s_t) &= N(s_t; \\tilde{m}_t, \\tilde{v}_t)\n",
    "\\\\ \\tilde{m}_t &= \\frac{1}{\\tilde{z}_t} \\sum_i \\chi_i f(y_t; \\chi_i ) \\omega_i\n",
    "\\\\ \\tilde{v}_t &= \\frac{1}{\\tilde{z}_t} \\sum_i \\chi^2_i f(y_t; \\chi_i ) \\omega_i - \\tilde{m}^2_t\n",
    "\\\\ \\tilde{z}_t &= \\sum_i f(y_t; \\chi_i ) \\omega_i\n",
    "\\\\ f(y_t;\\chi_i) &= \\left(\\frac{1}{1+exp(-\\chi_i)}\\right)^{y_t} \\left(\\frac{exp(-\\chi_i)}{1+exp(-\\chi_i)}\\right)^{(1-y_t)} \\quad \\mathrm{for}  \\ \\ y_t \\in \\{0,1\\}\n",
    "\\end{align}\n",
    "$$\n"
   ]
  },
  {
   "cell_type": "code",
   "execution_count": 153,
   "metadata": {
    "collapsed": false
   },
   "outputs": [],
   "source": [
    "import numpy as np\n",
    "\n",
    "n = 10\n",
    "xxi, wwi = np.polynomial.hermite.hermgauss(n)\n",
    "\n",
    "# Function getting updated distribution of s_t\n",
    "# Input: \n",
    "# Output: \n",
    "def get_s_t_new(y, s_t_m_old, s_t_v_old):\n",
    "\n",
    "    #s_t_old = 1. # mean of sum node at t-1\n",
    "    #s_v_old = 10 # variance of sum node at t-1\n",
    "\n",
    "    wi = wwi / np.sqrt(np.pi)\n",
    "    xi = xxi * np.sqrt(2) * np.sqrt(s_t_v_old) + s_t_m_old\n",
    "\n",
    "    \n",
    "    fw = 0\n",
    "    if(y==1):\n",
    "        fw = (1 / (1 + np.exp(-xi))) * wi\n",
    "    elif(y==0):\n",
    "        fw = ((np.exp(-xi)) / (1 + np.exp(-xi))) * wi\n",
    "    else:\n",
    "        print(\"error, y has wroing value\")\n",
    "    #fw = (1 / (1 + np.exp(-xi))) * wi\n",
    "    \n",
    "    z_t = sum(fw)\n",
    "\n",
    "    s_t_m_new = 1/z_t * sum(xi * fw)\n",
    "    \n",
    "    s_t_v_new = 1/z_t * sum((xi**2) * fw) - s_t_m_new**2\n",
    "        \n",
    "    return (s_t_m_new, s_t_v_new)\n"
   ]
  },
  {
   "cell_type": "markdown",
   "metadata": {},
   "source": [
    "**2. Approximated posterior distribution of** $\\theta$\n",
    "\n",
    "First, we can define $\\delta_{\\mu}$ and $\\delta_{\\sigma^2}$ as change in $m_t$ and $m_t$ after updating the distribution of $s_t$.\n",
    "$$m_t = m_{t|t-1} + \\delta_{m}$$\n",
    "$$v_t = v_{t|t-1} + \\delta_{v}$$\n",
    "\n",
    "Using these $\\delta$, parameters of factored posterior distribution can be demonstrated to be as follows:\n",
    "\n",
    "$$\n",
    "\\begin{align}\n",
    "   q(\\theta_t,i) &\\sim N(\\theta_{t,i};\\mu_{t,i}, \\sigma^2_{t,i})\n",
    "\\\\ \\mu_{t,i} &= \\mu_{t|t-1,i} + a_i \\delta_m\n",
    "\\\\ \\sigma^2_{t,i} &= \\sigma^2_{t|t-1,i} + a^2_i \\delta_v\n",
    "\\\\ a_i &\\triangleq \\frac{x_{t,i}\\sigma^2_{t|t-1,i}}{\\sum_j x^2_{t,j}\\sigma^2_{t|t-1,i}}\n",
    "\\end{align}\n",
    "$$\n",
    "\n",
    "($\\triangleq$: equal by definition.)\n"
   ]
  },
  {
   "cell_type": "code",
   "execution_count": 154,
   "metadata": {
    "collapsed": false
   },
   "outputs": [],
   "source": [
    "# We are using all categorical variables, and all of them 0 or 1, so we need only update mu, sigma of theta whose x value is 1.\n",
    "\n",
    "def get_a_i(x, theta_t_v):\n",
    "    #return theta_t_v[x] / sum(theta_t_v[x]**2)\n",
    "    return theta_t_v[x] / sum(theta_t_v[x])\n",
    "    #return theta_t_v[x] / sum(theta_t_v)\n"
   ]
  },
  {
   "cell_type": "code",
   "execution_count": 155,
   "metadata": {
    "collapsed": false,
    "scrolled": true
   },
   "outputs": [],
   "source": [
    "theta_t_m = np.array([0.] * D) # mean of thetas at t\n",
    "theta_t_v = np.array([10.] * D) # std of thetas at t\n",
    "\n",
    "def update_theta(x, theta_t_m, theta_t_v, delta_m, delta_v):\n",
    "    a_i = get_a_i(x, theta_t_v)\n",
    "    theta_t_m[x] += (a_i * delta_m)\n",
    "    theta_t_v[x] += ((a_i**2) * delta_v)\n"
   ]
  },
  {
   "cell_type": "code",
   "execution_count": 156,
   "metadata": {
    "collapsed": false,
    "scrolled": true
   },
   "outputs": [
    {
     "data": {
      "text/plain": [
       "8.79067922455117"
      ]
     },
     "execution_count": 156,
     "metadata": {},
     "output_type": "execute_result"
    }
   ],
   "source": [
    "# initialize our model\n",
    "theta = [0.] * D  # weights\n",
    "\n",
    "theta_t_m = np.array([0.] * D) # mean of thetas at t\n",
    "theta_t_v = np.array([100.] * D) # variance of thetas at t\n",
    "s_t_m = 0. # mean of sum node at t\n",
    "s_t_v = 100 # variance of sum node at t\n",
    "\n",
    "loss = 0.\n",
    "loss_list = [0]\n",
    "\n",
    "for i in range(len(df_train)):\n",
    "    row = get_x_dic(df_train, i)\n",
    "    #y_old = y #added for test\n",
    "    y = 1. if row['y'] == 1 else 0.\n",
    "    del row['y']\n",
    "    x = get_x(row, D)\n",
    "    \n",
    "    #s_t_m_old, s_t_v_old = s_t_m, s_t_v\n",
    "    #s_t_m, s_t_v = get_s_t_new(y, s_t_m_old, s_t_v_old)\n",
    "\n",
    "    #if(i==0):\n",
    "    #    s_t_m_old = 0. # mean of sum node at t\n",
    "    #    s_t_v_old = 10 # variance of sum node at t\n",
    "    #    s_t_m, s_t_v = get_s_t_new(y, s_t_m_old, s_t_v_old)\n",
    "    #else:\n",
    "    #    s_t_m_old = sum(theta_t_m[x]) # mean of sum node at t\n",
    "    #    s_t_v_old = sum(theta_t_v[x]) # variance of sum node at t\n",
    "    #    s_t_m, s_t_v = get_s_t_new(y, s_t_m_old, s_t_v_old)\n",
    "        \n",
    "    s_t_m_old = sum(theta_t_m[x]) # mean of sum node at t\n",
    "    s_t_v_old = sum(theta_t_v[x]) # variance of sum node at t\n",
    "    s_t_m, s_t_v = get_s_t_new(y, s_t_m_old, s_t_v_old)\n",
    "    \n",
    "    delta_m = s_t_m - s_t_m_old\n",
    "    delta_v = s_t_v - s_t_v_old\n",
    "    \n",
    "    #print(i, '(m:', delta_m, '), (v:', delta_v, ')')\n",
    "    \n",
    "    update_theta(x, theta_t_m, theta_t_v, delta_m, delta_v)\n",
    "    \n",
    "    p = get_p(x, theta_t_m)\n",
    "    LL = logloss(p, y)\n",
    "    loss += LL\n",
    "    loss_list.append(loss/(i+1))\n",
    "\n",
    "loss"
   ]
  },
  {
   "cell_type": "code",
   "execution_count": 157,
   "metadata": {
    "collapsed": false
   },
   "outputs": [
    {
     "data": {
      "text/plain": [
       "[<matplotlib.lines.Line2D at 0x9b34fd0>]"
      ]
     },
     "execution_count": 157,
     "metadata": {},
     "output_type": "execute_result"
    },
    {
     "data": {
      "image/png": "[encoded data removed]",
      "text/plain": [
       "<matplotlib.figure.Figure at 0x9afae48>"
      ]
     },
     "metadata": {},
     "output_type": "display_data"
    }
   ],
   "source": [
    "import matplotlib.pyplot as plt\n",
    "%matplotlib inline\n",
    "\n",
    "plt.plot(loss_list)"
   ]
  },
  {
   "cell_type": "code",
   "execution_count": 158,
   "metadata": {
    "collapsed": false
   },
   "outputs": [
    {
     "data": {
      "text/plain": [
       "42.617051933886295"
      ]
     },
     "execution_count": 158,
     "metadata": {},
     "output_type": "execute_result"
    }
   ],
   "source": [
    "loss = 0.\n",
    "loss_list = [0]\n",
    "\n",
    "for i in range(len(df_test)):\n",
    "    \n",
    "    row = get_x_dic(df_test, i)\n",
    "    y = 1. if row['y'] == 1 else 0.\n",
    "    del row['y']\n",
    "    x = get_x(row, D)\n",
    "    \n",
    "    p = get_p(x, theta_t_m)\n",
    "    LL = logloss(p, y)\n",
    "    loss += LL\n",
    "    loss_list.append(loss/(i+1))\n",
    "    \n",
    "loss"
   ]
  },
  {
   "cell_type": "code",
   "execution_count": 159,
   "metadata": {
    "collapsed": false
   },
   "outputs": [
    {
     "data": {
      "text/plain": [
       "[<matplotlib.lines.Line2D at 0x9b93f28>]"
      ]
     },
     "execution_count": 159,
     "metadata": {},
     "output_type": "execute_result"
    },
    {
     "data": {
      "image/png": "[encoded data removed]",
      "text/plain": [
       "<matplotlib.figure.Figure at 0x9acf9e8>"
      ]
     },
     "metadata": {},
     "output_type": "display_data"
    }
   ],
   "source": [
    "import matplotlib.pyplot as plt\n",
    "%matplotlib inline\n",
    "\n",
    "plt.plot(loss_list)"
   ]
  },
  {
   "cell_type": "code",
   "execution_count": 160,
   "metadata": {
    "collapsed": false
   },
   "outputs": [
    {
     "data": {
      "text/plain": [
       "7.9445831545897061"
      ]
     },
     "execution_count": 160,
     "metadata": {},
     "output_type": "execute_result"
    }
   ],
   "source": [
    "SSE = 0\n",
    "for i in range(len(df_train)):\n",
    "    \n",
    "    row = get_x_dic(df_train, i)\n",
    "    actual = row['y']\n",
    "    del row['y']\n",
    "    x = get_x(row, D)\n",
    "    predicted = get_p(x, theta_t_m)\n",
    "    SSE += (actual - predicted)**2\n",
    "\n",
    "SSE\n",
    "    \n"
   ]
  },
  {
   "cell_type": "code",
   "execution_count": 161,
   "metadata": {
    "collapsed": false
   },
   "outputs": [
    {
     "data": {
      "text/plain": [
       "7.9405492504966082"
      ]
     },
     "execution_count": 161,
     "metadata": {},
     "output_type": "execute_result"
    }
   ],
   "source": [
    "SSE = 0\n",
    "for i in range(len(df_test)):\n",
    "\n",
    "    row = get_x_dic(df_test, i)\n",
    "    actual = row['y']\n",
    "    del row['y']\n",
    "    x = get_x(row, D)\n",
    "    predicted = get_p(x, theta_t_m)\n",
    "    SSE += (actual - predicted)**2\n",
    "\n",
    "SSE\n",
    "    \n"
   ]
  },
  {
   "cell_type": "code",
   "execution_count": null,
   "metadata": {
    "collapsed": true
   },
   "outputs": [],
   "source": []
  }
 ],
 "metadata": {
  "kernelspec": {
   "display_name": "Python 3",
   "language": "python",
   "name": "python3"
  },
  "language_info": {
   "codemirror_mode": {
    "name": "ipython",
    "version": 3
   },
   "file_extension": ".py",
   "mimetype": "text/x-python",
   "name": "python",
   "nbconvert_exporter": "python",
   "pygments_lexer": "ipython3",
   "version": "3.4.3"
  }
 },
 "nbformat": 4,
 "nbformat_minor": 0
}
