{
 "cells": [
  {
   "cell_type": "markdown",
   "metadata": {},
   "source": [
    "# Implementation of ADF."
   ]
  },
  {
   "cell_type": "markdown",
   "metadata": {},
   "source": [
    "### Testing with very simple data\n",
    "\n",
    "> logistic regression example  \n",
    "> refer to :   \n",
    "> [http://blog.yhathq.com/posts/logistic-regression-and-python.html]"
   ]
  },
  {
   "cell_type": "code",
   "execution_count": 1,
   "metadata": {
    "collapsed": false
   },
   "outputs": [
    {
     "name": "stdout",
     "output_type": "stream",
     "text": [
      "Optimization terminated successfully.\n",
      "         Current function value: 0.573147\n",
      "         Iterations 6\n",
      "                           Logit Regression Results                           \n",
      "==============================================================================\n",
      "Dep. Variable:                  admit   No. Observations:                  400\n",
      "Model:                          Logit   Df Residuals:                      394\n",
      "Method:                           MLE   Df Model:                            5\n",
      "Date:                Mon, 14 Dec 2015   Pseudo R-squ.:                 0.08292\n",
      "Time:                        21:56:28   Log-Likelihood:                -229.26\n",
      "converged:                       True   LL-Null:                       -249.99\n",
      "                                        LLR p-value:                 7.578e-08\n",
      "==============================================================================\n",
      "                 coef    std err          z      P>|z|      [95.0% Conf. Int.]\n",
      "------------------------------------------------------------------------------\n",
      "gre            0.0023      0.001      2.070      0.038         0.000     0.004\n",
      "gpa            0.8040      0.332      2.423      0.015         0.154     1.454\n",
      "prestige_2    -0.6754      0.316     -2.134      0.033        -1.296    -0.055\n",
      "prestige_3    -1.3402      0.345     -3.881      0.000        -2.017    -0.663\n",
      "prestige_4    -1.5515      0.418     -3.713      0.000        -2.370    -0.733\n",
      "intercept     -3.9900      1.140     -3.500      0.000        -6.224    -1.756\n",
      "==============================================================================\n"
     ]
    }
   ],
   "source": [
    "import pandas as pd\n",
    "import statsmodels.api as sm\n",
    "import pylab as pl\n",
    "import numpy as np\n",
    "\n",
    "# read the data in\n",
    "df = pd.read_csv(\"http://www.ats.ucla.edu/stat/data/binary.csv\")\n",
    "df.columns = [\"admit\", \"gre\", \"gpa\", \"prestige\"]\n",
    "\n",
    "\n",
    "#print(pd.crosstab(df['admit'], df['prestige'], rownames=['admit']))\n",
    "#df.hist()\n",
    "#pl.show()\n",
    "\n",
    "dummy_ranks = pd.get_dummies(df['prestige'], prefix='prestige')\n",
    "cols_to_keep = ['admit', 'gre', 'gpa']\n",
    "data = df[cols_to_keep].join(dummy_ranks.ix[:, 'prestige_2':])\n",
    "data['intercept'] = 1.0\n",
    "train_cols = data.columns[1:]\n",
    "\n",
    "logit = sm.Logit(data['admit'], data[train_cols])\n",
    "result = logit.fit()\n",
    "print(result.summary())"
   ]
  },
  {
   "cell_type": "markdown",
   "metadata": {},
   "source": [
    "### Testing with very simple data, all dummies\n"
   ]
  },
  {
   "cell_type": "code",
   "execution_count": 56,
   "metadata": {
    "collapsed": false
   },
   "outputs": [
    {
     "data": {
      "text/html": [
       "<div>\n",
       "<table border=\"1\" class=\"dataframe\">\n",
       "  <thead>\n",
       "    <tr style=\"text-align: right;\">\n",
       "      <th></th>\n",
       "      <th>a</th>\n",
       "      <th>b</th>\n",
       "      <th>c</th>\n",
       "      <th>d</th>\n",
       "      <th>y</th>\n",
       "    </tr>\n",
       "  </thead>\n",
       "  <tbody>\n",
       "    <tr>\n",
       "      <th>0</th>\n",
       "      <td>1</td>\n",
       "      <td>2</td>\n",
       "      <td>3</td>\n",
       "      <td>4</td>\n",
       "      <td>1</td>\n",
       "    </tr>\n",
       "    <tr>\n",
       "      <th>1</th>\n",
       "      <td>1</td>\n",
       "      <td>4</td>\n",
       "      <td>2</td>\n",
       "      <td>3</td>\n",
       "      <td>1</td>\n",
       "    </tr>\n",
       "    <tr>\n",
       "      <th>2</th>\n",
       "      <td>3</td>\n",
       "      <td>3</td>\n",
       "      <td>1</td>\n",
       "      <td>3</td>\n",
       "      <td>1</td>\n",
       "    </tr>\n",
       "    <tr>\n",
       "      <th>3</th>\n",
       "      <td>5</td>\n",
       "      <td>3</td>\n",
       "      <td>1</td>\n",
       "      <td>1</td>\n",
       "      <td>1</td>\n",
       "    </tr>\n",
       "    <tr>\n",
       "      <th>4</th>\n",
       "      <td>0</td>\n",
       "      <td>5</td>\n",
       "      <td>2</td>\n",
       "      <td>3</td>\n",
       "      <td>1</td>\n",
       "    </tr>\n",
       "    <tr>\n",
       "      <th>5</th>\n",
       "      <td>2</td>\n",
       "      <td>1</td>\n",
       "      <td>3</td>\n",
       "      <td>1</td>\n",
       "      <td>0</td>\n",
       "    </tr>\n",
       "    <tr>\n",
       "      <th>6</th>\n",
       "      <td>1</td>\n",
       "      <td>2</td>\n",
       "      <td>1</td>\n",
       "      <td>3</td>\n",
       "      <td>0</td>\n",
       "    </tr>\n",
       "    <tr>\n",
       "      <th>7</th>\n",
       "      <td>1</td>\n",
       "      <td>0</td>\n",
       "      <td>3</td>\n",
       "      <td>3</td>\n",
       "      <td>0</td>\n",
       "    </tr>\n",
       "    <tr>\n",
       "      <th>8</th>\n",
       "      <td>3</td>\n",
       "      <td>2</td>\n",
       "      <td>2</td>\n",
       "      <td>0</td>\n",
       "      <td>0</td>\n",
       "    </tr>\n",
       "    <tr>\n",
       "      <th>9</th>\n",
       "      <td>2</td>\n",
       "      <td>2</td>\n",
       "      <td>2</td>\n",
       "      <td>1</td>\n",
       "      <td>0</td>\n",
       "    </tr>\n",
       "  </tbody>\n",
       "</table>\n",
       "</div>"
      ],
      "text/plain": [
       "   a  b  c  d  y\n",
       "0  1  2  3  4  1\n",
       "1  1  4  2  3  1\n",
       "2  3  3  1  3  1\n",
       "3  5  3  1  1  1\n",
       "4  0  5  2  3  1\n",
       "5  2  1  3  1  0\n",
       "6  1  2  1  3  0\n",
       "7  1  0  3  3  0\n",
       "8  3  2  2  0  0\n",
       "9  2  2  2  1  0"
      ]
     },
     "execution_count": 56,
     "metadata": {},
     "output_type": "execute_result"
    }
   ],
   "source": [
    "import numpy as np\n",
    "import pandas as pd\n",
    "import statsmodels.api as sm\n",
    "\n",
    "rs = np.random.RandomState(121)\n",
    "\n",
    "\n",
    "num_col = 4\n",
    "num_row = 5\n",
    "num_p = [1/num_col]*num_col\n",
    "\n",
    "X1 = pd.DataFrame(rs.multinomial(n = 10, pvals = num_p, size = num_row))\n",
    "X1['y'] = 1\n",
    "X2 = pd.DataFrame(rs.multinomial(n = 7, pvals = num_p, size = num_row))\n",
    "X2['y'] = 0\n",
    "chars = list('abcdefghijklmnopqrstuvwxyzABCDEFGHIJKLMNOPQRSTUVW XYZ')\n",
    "X1.columns = chars[0 : num_col] + ['y']\n",
    "X2.columns = chars[0 : num_col] + ['y']\n",
    "\n",
    "#X2.columns = chars[num_col : num_col*2]\n",
    "X = X1.append(X2)\n",
    "X.index = list(range(0,num_row * 2))\n",
    "X\n"
   ]
  },
  {
   "cell_type": "code",
   "execution_count": 57,
   "metadata": {
    "collapsed": false
   },
   "outputs": [
    {
     "name": "stdout",
     "output_type": "stream",
     "text": [
      "Optimization terminated successfully.\n",
      "         Current function value: 0.411681\n",
      "         Iterations: 15\n",
      "         Function evaluations: 17\n",
      "         Gradient evaluations: 17\n",
      "                           Logit Regression Results                           \n",
      "==============================================================================\n",
      "Dep. Variable:                      y   No. Observations:                   10\n",
      "Model:                          Logit   Df Residuals:                        6\n",
      "Method:                           MLE   Df Model:                            3\n",
      "Date:                Tue, 08 Dec 2015   Pseudo R-squ.:                  0.4061\n",
      "Time:                        08:14:20   Log-Likelihood:                -4.1168\n",
      "converged:                       True   LL-Null:                       -6.9315\n",
      "                                        LLR p-value:                    0.1311\n",
      "==============================================================================\n",
      "                 coef    std err          z      P>|z|      [95.0% Conf. Int.]\n",
      "------------------------------------------------------------------------------\n",
      "a             -0.1496      0.654     -0.229      0.819        -1.431     1.131\n",
      "b              0.8216      0.871      0.943      0.346        -0.886     2.529\n",
      "c             -1.2947      0.917     -1.411      0.158        -3.092     0.503\n",
      "d              0.5384      0.806      0.668      0.504        -1.040     2.117\n",
      "==============================================================================\n"
     ]
    }
   ],
   "source": [
    "#logit_X = sm.Logit(X['y'], X.iloc[:,0:num_col])\n",
    "logit_X = sm.Logit(X.iloc[:,num_col], X.iloc[:,:num_col])\n",
    "result_X = logit_X.fit(method='bfgs')\n",
    "print(result_X.summary())"
   ]
  },
  {
   "cell_type": "code",
   "execution_count": 61,
   "metadata": {
    "collapsed": false
   },
   "outputs": [
    {
     "data": {
      "text/plain": [
       "array([[[0, 2, 3],\n",
       "        [1, 2, 2],\n",
       "        [2, 3, 0]],\n",
       "\n",
       "       [[2, 2, 1],\n",
       "        [3, 1, 1],\n",
       "        [0, 4, 1]]])"
      ]
     },
     "execution_count": 61,
     "metadata": {},
     "output_type": "execute_result"
    }
   ],
   "source": [
    "ts = pd.DataFrame([''])"
   ]
  },
  {
   "cell_type": "code",
   "execution_count": 69,
   "metadata": {
    "collapsed": false
   },
   "outputs": [
    {
     "data": {
      "text/plain": [
       "array([-0.74882452,  0.79222665,  0.41215872])"
      ]
     },
     "execution_count": 69,
     "metadata": {},
     "output_type": "execute_result"
    }
   ],
   "source": [
    "np.random.normal(0, 1, 3)"
   ]
  },
  {
   "cell_type": "markdown",
   "metadata": {},
   "source": [
    "### Testing with simple data"
   ]
  },
  {
   "cell_type": "code",
   "execution_count": 142,
   "metadata": {
    "collapsed": false
   },
   "outputs": [],
   "source": [
    "import pandas as pd\n",
    "data_sample = pd.read_table('./data/dac_sample.txt', sep='\\t', header=None, index_col=False)\n",
    "\n",
    "\n",
    "#data_sample.head()\n",
    "#data_sample.info()\n",
    "#data_sample.dtypes\n",
    "#data_sample.describe()\n",
    "#data_sample[:5]\n",
    "smd = data_sample.iloc[:10, [0,2,1,3,14,15]]\n",
    "#smd0 = pd.DataFrame()\n",
    "#smd0['0'] = smd[0]\n",
    "\n",
    "smd0 = smd.ix[:,(0,3)]\n",
    "\n"
   ]
  }
 ],
 "metadata": {
  "kernelspec": {
   "display_name": "Python 3",
   "language": "python",
   "name": "python3"
  },
  "language_info": {
   "codemirror_mode": {
    "name": "ipython",
    "version": 3
   },
   "file_extension": ".py",
   "mimetype": "text/x-python",
   "name": "python",
   "nbconvert_exporter": "python",
   "pygments_lexer": "ipython3",
   "version": "3.4.3"
  }
 },
 "nbformat": 4,
 "nbformat_minor": 0
}
