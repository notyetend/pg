{
 "cells": [
  {
   "cell_type": "markdown",
   "metadata": {},
   "source": [
    "### Simulation SGD for titanic data"
   ]
  },
  {
   "cell_type": "code",
   "execution_count": 1,
   "metadata": {
    "collapsed": false
   },
   "outputs": [],
   "source": [
    "from datetime import datetime\n",
    "from csv import DictReader\n",
    "from math import exp, log, sqrt\n",
    "import numpy as np\n",
    "import mmh3\n",
    "import time\n",
    "from spooky import hash128, hash64, hash32\n",
    "\n",
    "from sklearn.metrics import roc_curve, auc\n",
    "import scipy.stats as stats\n",
    "import matplotlib.pyplot as plt\n",
    "import matplotlib as mpl\n",
    "\n",
    "%matplotlib inline"
   ]
  },
  {
   "cell_type": "markdown",
   "metadata": {},
   "source": [
    "###### Parameters"
   ]
  },
  {
   "cell_type": "code",
   "execution_count": 134,
   "metadata": {
    "collapsed": false
   },
   "outputs": [],
   "source": [
    "#train = r'C:\\Temp\\dac.tar\\train.txt' # for criteo\n",
    "#test  =  r'C:\\Temp\\dac.tar\\test.txt' # for criteo\n",
    "train = r'C:/My/Playground/Git/2016_Thesis/100_Simulation/data/train.csv' # for titanic\n",
    "test = r'C:/My/Playground/Git/2016_Thesis/100_Simulation/data/test.csv' # for titanic\n",
    "\n",
    "D = 2 ** 20\n",
    "rand_seed = 1004\n",
    "\n",
    "num_poly = 10\n",
    "xxi, wwi = np.polynomial.hermite.hermgauss(num_poly)"
   ]
  },
  {
   "cell_type": "code",
   "execution_count": 135,
   "metadata": {
    "collapsed": true
   },
   "outputs": [],
   "source": [
    "class DataSize:\n",
    "    def __init__(self\n",
    "                 , num_metric_check_point\n",
    "                 , num_status_check_point\n",
    "                 , num_train_data_start\n",
    "                 , num_train_data_size\n",
    "                 , num_test_data_start\n",
    "                 , num_test_data_size):\n",
    "        \n",
    "        self.num_metric_check_point = num_metric_check_point\n",
    "        self.num_status_check_point = num_status_check_point\n",
    "        \n",
    "        self.num_train_data_start = num_train_data_start\n",
    "        self.num_train_data_end = self.num_train_data_start + num_train_data_size - 1 # fixed\n",
    "        \n",
    "        self.num_test_data_start = num_test_data_start\n",
    "        self.num_test_data_end = self.num_test_data_start + num_test_data_size - 1 # fixed\n",
    "        \n",
    "    def display(self):\n",
    "        print(\"num_metric_check_point: %s\" %(self.num_metric_check_point))\n",
    "        print(\"num_status_check_point: %s\" %(self.num_status_check_point))\n",
    "        print(\"num_train_data_start  : %s\" %(self.num_train_data_start))\n",
    "        print(\"num_train_data_end    : %s\" %(self.num_train_data_end))\n",
    "        print(\"num_train_data_size   : %s\" %(self.num_train_data_end - self.num_train_data_start + 1))\n",
    "        print(\"num_test_data_start   : %s\" %(self.num_test_data_start))\n",
    "        print(\"num_test_data_end     : %s\" %(self.num_test_data_end))\n",
    "        print(\"num_test_data_size    : %s\" %(self.num_test_data_end - self.num_test_data_start + 1))"
   ]
  },
  {
   "cell_type": "code",
   "execution_count": 158,
   "metadata": {
    "collapsed": true
   },
   "outputs": [],
   "source": [
    "class FileInfo:\n",
    "    def __init__(self\n",
    "                , _file_path\n",
    "                , _f_having_header\n",
    "                , _l_header_names\n",
    "                , _seperator\n",
    "                , _l_skip_columns\n",
    "                , _ylab):\n",
    "        self.file_path = _file_path\n",
    "        self.f_having_header = _f_having_header\n",
    "        self.l_header_names = _l_header_names\n",
    "        self.seperator = _seperator\n",
    "        self.l_skip_columns = _l_skip_columns\n",
    "        self.ylab = _ylab\n",
    "    "
   ]
  },
  {
   "cell_type": "markdown",
   "metadata": {},
   "source": [
    "###### Functions"
   ]
  },
  {
   "cell_type": "code",
   "execution_count": 136,
   "metadata": {
    "collapsed": true
   },
   "outputs": [],
   "source": [
    "# csv_row must be dict\n",
    "def get_x_mmh3(csv_row, D):\n",
    "    x = [0]\n",
    "    for key, value in csv_row.items():\n",
    "        index = mmh3.hash128(str(key) + str(value), seed=rand_seed, x64arch=True) % D\n",
    "        x.append(index)\n",
    "    return x"
   ]
  },
  {
   "cell_type": "code",
   "execution_count": 137,
   "metadata": {
    "collapsed": true
   },
   "outputs": [],
   "source": [
    "# csv_row must be dict\n",
    "def get_x_spooky(csv_row, D):\n",
    "    x = [0]\n",
    "    for key, value in csv_row.items():\n",
    "        index = hash32(str(key) + str(value)) % D\n",
    "        x.append(index)\n",
    "    return x"
   ]
  },
  {
   "cell_type": "code",
   "execution_count": 138,
   "metadata": {
    "collapsed": true
   },
   "outputs": [],
   "source": [
    "def get_p(x, w):\n",
    "    wTx = 0.\n",
    "    for i in x:  # do wTx\n",
    "        wTx += w[i] * 1.  # w[i] * x[i], but if i in x we got x[i] = 1.\n",
    "    return 1. / (1. + exp(-max(min(wTx, 20.), -20.)))  # bounded sigmoid"
   ]
  },
  {
   "cell_type": "code",
   "execution_count": 139,
   "metadata": {
    "collapsed": true
   },
   "outputs": [],
   "source": [
    "# w must be numpy ndarray\n",
    "def get_p_cat(x, w):\n",
    "    wTx = sum(w[x])\n",
    "    return 1. / (1. + exp(-max(min(wTx, 20.), -20.)))  # bounded sigmoid"
   ]
  },
  {
   "cell_type": "code",
   "execution_count": 140,
   "metadata": {
    "collapsed": true
   },
   "outputs": [],
   "source": [
    "def logloss(p, y):\n",
    "    p = max(min(p, 1. - 10e-12), 10e-12)\n",
    "    return -log(p) if y == 1. else -log(1. - p)"
   ]
  },
  {
   "cell_type": "code",
   "execution_count": 144,
   "metadata": {
    "collapsed": false
   },
   "outputs": [],
   "source": [
    "def get_validation_metrics(fpath, fheader, delimiter, ylab,start, end, wlen, w, f_debug):\n",
    "    \n",
    "    log_loss = 0.\n",
    "        \n",
    "    f = open(fpath)\n",
    "    for t, row in enumerate(DictReader(f, fieldnames=fheader, delimiter=delimiter)):\n",
    "        if t == 0:\n",
    "            continue # just for titanic\n",
    "        \n",
    "        if t < start: # fixed\n",
    "            continue;\n",
    "\n",
    "        y = 1. if row[ylab] == '1' else 0.\n",
    "        del row[ylab]\n",
    "        del row['PassengerId'] # just for titanic\n",
    "        x = get_x_mmh3(row, wlen)\n",
    "        \n",
    "        p = 0\n",
    "        if(isinstance(w, list)):\n",
    "            p = get_p(x, w)\n",
    "        else:\n",
    "            p = get_p_cat(x, w)\n",
    "        \n",
    "        log_loss += logloss(p, y)   \n",
    "        \n",
    "        if f_debug:\n",
    "            if t >= 1:  # fixed\n",
    "                print(' [get_validation_metrics] %s\\tencountered: %d\\t y=%d: %f, loss:%f' % (\n",
    "                    datetime.now(), (t), y, p, log_loss/t))\n",
    "\n",
    "        # End of ...\n",
    "        if t >= end: # fixed\n",
    "            break;\n",
    "    \n",
    "    f.close()\n",
    "    \n",
    "    return(log_loss)\n",
    "\n",
    "#fn = ['Label'] + [ 'I' + str(i) for i in list(range(1,14))] + [ 'C' + str(i) for i in list(range(1,27))]\n",
    "#get_validation_metrics(train, fn, '\\t', 'Label', num_test_data_start, num_test_data_end, D, w)"
   ]
  },
  {
   "cell_type": "code",
   "execution_count": 145,
   "metadata": {
    "collapsed": true
   },
   "outputs": [],
   "source": [
    "def plot_log_loss(arr_log_loss):\n",
    "    x = range(len(arr_log_loss))\n",
    "    plt.plot(x, arr_log_loss, label='log_loss')"
   ]
  },
  {
   "cell_type": "code",
   "execution_count": 146,
   "metadata": {
    "collapsed": true
   },
   "outputs": [],
   "source": [
    "def plot_log_loss_comparison(c):\n",
    "    plt.figure(num=None, figsize=(13, 6), dpi=80, facecolor='w', edgecolor='k')\n",
    "\n",
    "    x1 = range(len(c[0]))\n",
    "    plt.plot(x1, c[0], 'r')\n",
    "\n",
    "    x2 = range(len(c[1]))\n",
    "    plt.plot(x2, c[1], 'b')"
   ]
  },
  {
   "cell_type": "markdown",
   "metadata": {},
   "source": [
    "# SGD"
   ]
  },
  {
   "cell_type": "markdown",
   "metadata": {},
   "source": [
    "###### Functions"
   ]
  },
  {
   "cell_type": "code",
   "execution_count": 147,
   "metadata": {
    "collapsed": true
   },
   "outputs": [],
   "source": [
    "def update_w_withn(w, n, x, p, y, alpha):\n",
    "    for i in x:\n",
    "        w[i] -= (p - y) * alpha / (sqrt(n[i]) + 1.)\n",
    "        n[i] += 1.\n",
    "    return w, n"
   ]
  },
  {
   "cell_type": "code",
   "execution_count": 148,
   "metadata": {
    "collapsed": true
   },
   "outputs": [],
   "source": [
    "def update_w(w, n, x, p, y, alpha):\n",
    "    for i in x:\n",
    "        w[i] -= (p - y) * alpha\n",
    "        n[i] += 1.\n",
    "    return w, n"
   ]
  },
  {
   "cell_type": "markdown",
   "metadata": {
    "collapsed": true
   },
   "source": [
    "###### Training function"
   ]
  },
  {
   "cell_type": "code",
   "execution_count": 133,
   "metadata": {
    "collapsed": true
   },
   "outputs": [],
   "source": [
    "def sgd_training(alpha, D, f_debug, f_step_validation, f_validation, c_ds, c_fi):\n",
    "    \n",
    "    w = [0.] * D  # weights\n",
    "    n = np.array([0.] * (D))\n",
    "\n",
    "    start_time = time.time()\n",
    "\n",
    "    log_loss_sgd_training = 0.\n",
    "    arr_log_loss_sgd_test = []\n",
    "\n",
    "    f = open(train)\n",
    "    \n",
    "    # for criteo\n",
    "    #fn = ['Label'] + [ 'I' + str(i) for i in list(range(1,14))] + [ 'C' + str(i) for i in list(range(1,27))]\n",
    "    \n",
    "    # for titanic\n",
    "    fn = ['PassengerId', 'Survived', 'Pclass', 'Name', 'Sex', 'Age', 'SibSp', 'Parch', 'Ticket', 'Fare', 'Cabin' , 'Embarked']\n",
    "    \n",
    "    for t, row in enumerate(DictReader(f, fieldnames=fn, delimiter=',')):  # for titanic(comma seperated)\n",
    "        del row['PassengerId'] # for titanic\n",
    "        if t == 0:\n",
    "            continue\n",
    "        \n",
    "        if t < c_ds.num_train_data_start:\n",
    "            continue\n",
    "        # Start of ...\n",
    "        \n",
    "        #y = 1. if row['Label'] == '1' else 0.\n",
    "        #del row['Label']\n",
    "        y = 1. if row['Survived'] == '1' else 0.\n",
    "        del row['Survived']\n",
    "\n",
    "        x = get_x_mmh3(row, D)\n",
    "\n",
    "        p = get_p(x, w)\n",
    "\n",
    "        w, n = update_w_withn(w, n, x, p, y, alpha)\n",
    "\n",
    "        p = get_p(x, w)\n",
    "        log_loss_sgd_training += logloss(p, y)\n",
    "        \n",
    "        if f_debug:\n",
    "            if t % c_ds.num_status_check_point == 0 and t >= 1:  # for titanic\n",
    "                print('%s\\tencountered: %d\\t y=%d: %f, loss:%f' % (\n",
    "                    datetime.now(), (t), y, p, log_loss_sgd_training/t))\n",
    "        if f_step_validation:\n",
    "            if t % c_ds.num_metric_check_point == 0 and t > 1:\n",
    "                arr_log_loss_sgd_test.append(\n",
    "                    get_validation_metrics(\n",
    "                        train\n",
    "                        , fn\n",
    "                        #, '\\t' # for criteo \n",
    "                        , ','  # for titanic\n",
    "                        \n",
    "                        #, 'Label' # for criteo\n",
    "                        , 'Survived' # for titanic\n",
    "                        , c_ds.num_test_data_start\n",
    "                        , c_ds.num_test_data_end\n",
    "                        , D\n",
    "                        , w\n",
    "                        , f_debug) / (c_ds.num_test_data_end - c_ds.num_test_data_start))\n",
    "        if t >= c_ds.num_train_data_end:\n",
    "            break\n",
    "    f.close()\n",
    "\n",
    "    \n",
    "    if f_debug:\n",
    "        print(\"---Total execution time: %s seconds ---\" % (time.time() - start_time))\n",
    "    if f_step_validation:\n",
    "        return(arr_log_loss_sgd_test)\n",
    "    if f_validation:\n",
    "        rt_log_loss_sgd_training = log_loss_sgd_training / (c_ds.num_train_data_end - c_ds.num_train_data_start)\n",
    "        \n",
    "        rt_log_loss_sgd_test = get_validation_metrics(\n",
    "                        train\n",
    "                        , fn\n",
    "                        #, '\\t' # for criteo \n",
    "                        , ','  # for titanic\n",
    "            \n",
    "                        #, 'Label' # for criteo\n",
    "                        , 'Survived' # for titanic\n",
    "                        , c_ds.num_test_data_start\n",
    "                        , c_ds.num_test_data_end\n",
    "                        , D\n",
    "                        , w\n",
    "                        , f_debug) / (c_ds.num_test_data_end - c_ds.num_test_data_start)\n",
    "        return((w, rt_log_loss_sgd_training, rt_log_loss_sgd_test))\n",
    "    "
   ]
  },
  {
   "cell_type": "markdown",
   "metadata": {},
   "source": [
    "# ADF"
   ]
  },
  {
   "cell_type": "markdown",
   "metadata": {},
   "source": [
    "###### Functions"
   ]
  },
  {
   "cell_type": "code",
   "execution_count": 115,
   "metadata": {
    "collapsed": true
   },
   "outputs": [],
   "source": [
    "# s_t_m_old and s_t_v_old must be numpy ndarray\n",
    "def get_s_t_new(y, s_t_m_old, s_t_v_old):\n",
    "\n",
    "    wi = wwi / np.sqrt(np.pi)\n",
    "    xi = xxi * np.sqrt(2) * np.sqrt(s_t_v_old) + s_t_m_old\n",
    "    \n",
    "    fw = 0.\n",
    "    if(y==1):\n",
    "        fw = (1. / (1. + np.exp(-xi))) * wi\n",
    "    else:\n",
    "        fw = ((np.exp(-xi)) / (1. + np.exp(-xi))) * wi\n",
    "\n",
    "    z_t = sum(fw)\n",
    "    s_t_m_new = 1. / z_t * sum(xi * fw)\n",
    "    s_t_v_new = 1. / z_t * sum((xi**2) * fw) - s_t_m_new**2\n",
    "        \n",
    "    return (s_t_m_new, s_t_v_new)"
   ]
  },
  {
   "cell_type": "code",
   "execution_count": 116,
   "metadata": {
    "collapsed": true
   },
   "outputs": [],
   "source": [
    "# theta_t_v must be numpy ndarray\n",
    "def get_a_i_cat(x, theta_t_v):\n",
    "    return theta_t_v[x] / sum(theta_t_v[x])"
   ]
  },
  {
   "cell_type": "code",
   "execution_count": 117,
   "metadata": {
    "collapsed": true
   },
   "outputs": [],
   "source": [
    "def update_theta_cat(x, theta_t_m, theta_t_v, delta_m, delta_v, n_iter, n):\n",
    "    a_i = get_a_i_cat(x, theta_t_v)\n",
    "    theta_t_m[x] += (a_i * delta_m)\n",
    "    theta_t_v[x] += ((a_i**2) * delta_v)\n",
    "    #theta_t_v[x] += ((a_i**2) * delta_v) + abs(theta_t_m[x])/min((n_iter+1.), 3000.)\n",
    "    #theta_t_v[x] += ((a_i**2) * delta_v) + abs(theta_t_m[x])/(n_iter+1.)\n",
    "    #theta_t_v[x] += ((a_i**2) * delta_v / np.sqrt(n[x] + 1.))\n",
    "    #theta_t_v[x] += ((a_i**2) * delta_v) + 1. / np.sqrt(n[x] + 1.)\n",
    "    #theta_t_v[x] += ((a_i**2) * delta_v) + abs(theta_t_m[x])/np.sqrt(n[x] + 1.)\n",
    "    n[x] += 1."
   ]
  },
  {
   "cell_type": "markdown",
   "metadata": {},
   "source": [
    "###### Trainning function"
   ]
  },
  {
   "cell_type": "code",
   "execution_count": 123,
   "metadata": {
    "collapsed": true
   },
   "outputs": [],
   "source": [
    "def adf_training(variance, D, f_debug, f_step_validation, f_validation, c_ds):\n",
    "    theta_t_m = np.array([0.] * (D)) # mean of thetas at t\n",
    "    theta_t_v = np.array([variance] * (D)) # variance of thetas at t\n",
    "    n = np.array([0.] * D)\n",
    "\n",
    "    start_time = time.time()\n",
    "    \n",
    "    log_loss_adf_training = 0.\n",
    "    arr_log_loss_adf_test = []\n",
    "    \n",
    "    f = open(train)\n",
    "    \n",
    "    # for criteo\n",
    "    #fn = ['Label'] + [ 'I' + str(i) for i in list(range(1,14))] + [ 'C' + str(i) for i in list(range(1,27))]\n",
    "    \n",
    "    # for titanic\n",
    "    fn = ['PassengerId', 'Survived', 'Pclass', 'Name', 'Sex', 'Age', 'SibSp', 'Parch', 'Ticket', 'Fare', 'Cabin' , 'Embarked']\n",
    "    \n",
    "    for t, row in enumerate(DictReader(f, fieldnames=fn, delimiter='\\t')):\n",
    "    \n",
    "        del row['PassengerId'] # for titanic\n",
    "        if t == 0: # for criteo \n",
    "            continue\n",
    "            \n",
    "        if t < c_ds.num_train_data_start:\n",
    "            continue\n",
    "        # Start of ...\n",
    "\n",
    "\n",
    "        #y = 1. if row['Label'] == '1' else 0.\n",
    "        #del row['Label']\n",
    "        y = 1. if row['Survived'] == '1' else 0.\n",
    "        del row['Survived']\n",
    "        \n",
    "        x = get_x_mmh3(row, D)\n",
    "\n",
    "        # Predictive distribution for s_t ~ N(s_t_m_old, s_t_v_old)\n",
    "        s_t_m_old = sum(theta_t_m[x])\n",
    "        s_t_v_old = sum(theta_t_v[x])\n",
    "\n",
    "        # Posterior distribution for s_t\n",
    "        s_t_m, s_t_v = get_s_t_new(y, s_t_m_old, s_t_v_old)\n",
    "\n",
    "        # Changes in s_t\n",
    "        delta_m = s_t_m - s_t_m_old\n",
    "        delta_v = s_t_v - s_t_v_old\n",
    "\n",
    "        # Updating theta\n",
    "        update_theta_cat(x, theta_t_m, theta_t_v, delta_m, delta_v, t, n)\n",
    "\n",
    "        p = get_p_cat(x, theta_t_m)\n",
    "\n",
    "        log_loss_adf_training += logloss(p, y)\n",
    "        \n",
    "        if f_debug:\n",
    "            if y == 1.:\n",
    "                print('%s\\tencountered: %d\\t y=%d: %f, loss:%f' % (\n",
    "                    datetime.now(), (t), y, p, log_loss_adf_training/t))\n",
    "            if t % c_ds.num_status_check_point == 0 and t > 1:\n",
    "                print('%s\\tencountered: %d\\t y=%d: %f, loss:%f' % (\n",
    "                    datetime.now(), (t), y, p, log_loss_adf_training/t))\n",
    "\n",
    "        if f_step_validation:\n",
    "            if t % c_ds.num_metric_check_point == 0 and t > 1:\n",
    "                arr_log_loss_adf_test.append(\n",
    "                    get_validation_metrics(\n",
    "                        train\n",
    "                        , fn\n",
    "                        #, '\\t' # for criteo \n",
    "                        , ','  # for titanic\n",
    "                        , 'Label'\n",
    "                        , c_ds.num_test_data_start\n",
    "                        , c_ds.num_test_data_end\n",
    "                        , D\n",
    "                        , theta_t_m\n",
    "                        , f_debug) / (c_ds.num_test_data_end - c_ds.num_test_data_start))\n",
    "\n",
    "\n",
    "        # End of ...\n",
    "        if t >= c_ds.num_train_data_end:\n",
    "            break\n",
    "    f.close()\n",
    "    \n",
    "    if f_debug:\n",
    "        print(\"---Total execution time: %s seconds ---\" % (time.time() - start_time))\n",
    "    \n",
    "    if f_step_validation:\n",
    "        return(arr_log_loss_adf_test)\n",
    "    if f_validation:\n",
    "        rt_log_loss_adf_training = log_loss_adf_training / (c_ds.num_train_data_end - c_ds.num_train_data_start)\n",
    "        \n",
    "        rt_log_loss_adf_test = get_validation_metrics(\n",
    "                        train\n",
    "                        , fn\n",
    "                        #, '\\t' # for criteo \n",
    "                        , ','  # for titanic\n",
    "                        , 'Label'\n",
    "                        , c_ds.num_test_data_start\n",
    "                        , c_ds.num_test_data_end\n",
    "                        , D\n",
    "                        , theta_t_m\n",
    "                        , f_debug) / (c_ds.num_test_data_end - c_ds.num_test_data_start)\n",
    "        \n",
    "        return((theta_t_m, rt_log_loss_adf_training, rt_log_loss_adf_test))\n",
    "\n",
    "\n",
    "    "
   ]
  },
  {
   "cell_type": "code",
   "execution_count": null,
   "metadata": {
    "collapsed": true
   },
   "outputs": [],
   "source": []
  },
  {
   "cell_type": "code",
   "execution_count": null,
   "metadata": {
    "collapsed": true
   },
   "outputs": [],
   "source": []
  },
  {
   "cell_type": "code",
   "execution_count": null,
   "metadata": {
    "collapsed": true
   },
   "outputs": [],
   "source": []
  },
  {
   "cell_type": "markdown",
   "metadata": {},
   "source": [
    "# Validation"
   ]
  },
  {
   "cell_type": "markdown",
   "metadata": {},
   "source": [
    "# Let's find best parameters.(validation)"
   ]
  },
  {
   "cell_type": "code",
   "execution_count": 101,
   "metadata": {
    "collapsed": false
   },
   "outputs": [
    {
     "name": "stdout",
     "output_type": "stream",
     "text": [
      "num_metric_check_point: 10\n",
      "num_status_check_point: 1\n",
      "num_train_data_start  : 1\n",
      "num_train_data_end    : 400\n",
      "num_train_data_size   : 400\n",
      "num_test_data_start   : 401\n",
      "num_test_data_end     : 891\n",
      "num_test_data_size    : 491\n"
     ]
    },
    {
     "data": {
      "text/plain": [
       "400"
      ]
     },
     "execution_count": 101,
     "metadata": {},
     "output_type": "execute_result"
    }
   ],
   "source": [
    "ds_best_param = DataSize(10      # num_metric_check_point\n",
    "                         , 1      # num_status_check_point\n",
    "                         , 1, 800        #train_start, train_size\n",
    "                         , 801, 91)    #test_start, test_size\n",
    "\n",
    "ds_best_param = DataSize(10      # num_metric_check_point\n",
    "                         , 1      # num_status_check_point\n",
    "                         , 1, 400        #train_start, train_size\n",
    "                         , 401, 491)    #test_start, test_size\n",
    "\n",
    "ds_best_param.display()\n",
    "ds_best_param.num_train_data_end - ds_test_param.num_train_data_start"
   ]
  },
  {
   "cell_type": "code",
   "execution_count": 153,
   "metadata": {
    "collapsed": true
   },
   "outputs": [],
   "source": [
    "fi_titanic = FileInfo(\n",
    "                r'C:/My/Playground/Git/2016_Thesis/100_Simulation/data/train.csv' # _file_path\n",
    "                , True # _f_having_header\n",
    "                , ['PassengerId', 'Survived', 'Pclass', 'Name', 'Sex'\n",
    "                   , 'Age', 'SibSp', 'Parch', 'Ticket', 'Fare', 'Cabin' , 'Embarked'] # _l_header_names\n",
    "                , ',' # _seperator\n",
    "                , ['PassengerId']# _l_skip_columns\n",
    "                , ['Survived']# _ylab\n",
    "                )\n",
    "\n",
    "fi_criteo = FileInfo(\n",
    "                r'C:\\Temp\\dac.tar\\train.txt' # _file_path\n",
    "                , False # _f_having_header\n",
    "                , ['Label'] + [ 'I' + str(i) for i in list(range(1,14))] + [ 'C' + str(i) for i in list(range(1,27))] # _l_header_names\n",
    "                , '\\t' # _seperator\n",
    "                , []# _l_skip_columns\n",
    "                , ['Label']# _ylab\n",
    "                )\n"
   ]
  },
  {
   "cell_type": "markdown",
   "metadata": {},
   "source": [
    "###### SGD : alpha"
   ]
  },
  {
   "cell_type": "code",
   "execution_count": 157,
   "metadata": {
    "collapsed": false
   },
   "outputs": [
    {
     "name": "stdout",
     "output_type": "stream",
     "text": [
      "alpha: 1e-05\n",
      "2016-05-13 21:45:08.588000, i:0, param:1e-05, log-loss(tr:0.694840799321, te:0.694500345543)\n",
      "alpha: 0.0600098\n",
      "2016-05-13 21:45:08.655000, i:1, param:0.0600098, log-loss(tr:0.547329835713, te:0.552875174839)\n",
      "alpha: 0.1200096\n",
      "2016-05-13 21:45:08.731000, i:2, param:0.1200096, log-loss(tr:0.468284924083, te:0.5071635419)\n",
      "alpha: 0.1800094\n",
      "2016-05-13 21:45:08.791000, i:3, param:0.1800094, log-loss(tr:0.412626952506, te:0.483559439094)\n",
      "alpha: 0.2400092\n",
      "2016-05-13 21:45:08.857000, i:4, param:0.2400092, log-loss(tr:0.369655497828, te:0.469847361033)\n",
      "alpha: 0.300009\n",
      "2016-05-13 21:45:08.915000, i:5, param:0.300009, log-loss(tr:0.334393534638, te:0.461169908947)\n",
      "alpha: 0.3600088\n",
      "2016-05-13 21:45:08.988000, i:6, param:0.3600088, log-loss(tr:0.304271086176, te:0.455291214184)\n",
      "alpha: 0.4200086\n",
      "2016-05-13 21:45:09.047000, i:7, param:0.4200086, log-loss(tr:0.277863360035, te:0.451089501586)\n",
      "alpha: 0.4800084\n",
      "2016-05-13 21:45:09.109000, i:8, param:0.4800084, log-loss(tr:0.254329052853, te:0.447970652479)\n",
      "alpha: 0.5400082\n",
      "2016-05-13 21:45:09.185000, i:9, param:0.5400082, log-loss(tr:0.233140265274, te:0.445606637595)\n",
      "alpha: 0.600008\n",
      "2016-05-13 21:45:09.254000, i:10, param:0.600008, log-loss(tr:0.213944446091, te:0.443809034476)\n",
      "alpha: 0.6600078\n",
      "2016-05-13 21:45:09.314000, i:11, param:0.6600078, log-loss(tr:0.196490478556, te:0.442464876478)\n",
      "alpha: 0.7200076\n",
      "2016-05-13 21:45:09.398000, i:12, param:0.7200076, log-loss(tr:0.180587766718, te:0.441503080914)\n",
      "alpha: 0.7800074\n",
      "2016-05-13 21:45:09.461000, i:13, param:0.7800074, log-loss(tr:0.166083072842, te:0.440876474214)\n",
      "alpha: 0.8400072\n",
      "2016-05-13 21:45:09.541000, i:14, param:0.8400072, log-loss(tr:0.152847218727, te:0.440551985846)\n",
      "alpha: 0.900007\n",
      "2016-05-13 21:45:09.601000, i:15, param:0.900007, log-loss(tr:0.140767386667, te:0.44050519869)\n",
      "alpha: 0.9600068\n",
      "2016-05-13 21:45:09.665000, i:16, param:0.9600068, log-loss(tr:0.129742637877, te:0.440717250363)\n",
      "alpha: 1.0200066\n",
      "2016-05-13 21:45:09.732000, i:17, param:1.0200066, log-loss(tr:0.119681288631, te:0.441173014123)\n",
      "alpha: 1.0800064\n",
      "2016-05-13 21:45:09.797000, i:18, param:1.0800064, log-loss(tr:0.110499357558, te:0.441859983949)\n",
      "alpha: 1.1400062\n",
      "2016-05-13 21:45:09.870000, i:19, param:1.1400062, log-loss(tr:0.102119624357, te:0.442767556169)\n",
      "alpha: 1.200006\n",
      "2016-05-13 21:45:09.959000, i:20, param:1.200006, log-loss(tr:0.0944710287064, te:0.443886544688)\n",
      "alpha: 1.2600058\n",
      "2016-05-13 21:45:10.023000, i:21, param:1.2600058, log-loss(tr:0.0874882482219, te:0.445208843783)\n",
      "alpha: 1.3200056\n",
      "2016-05-13 21:45:10.091000, i:22, param:1.3200056, log-loss(tr:0.0811113602665, te:0.446727191713)\n",
      "alpha: 1.3800054\n",
      "2016-05-13 21:45:10.164000, i:23, param:1.3800054, log-loss(tr:0.0752855331799, te:0.448435007446)\n",
      "alpha: 1.4400052\n",
      "2016-05-13 21:45:10.226000, i:24, param:1.4400052, log-loss(tr:0.0699607186778, te:0.450326281375)\n",
      "alpha: 1.500005\n",
      "2016-05-13 21:45:10.293000, i:25, param:1.500005, log-loss(tr:0.0650913341792, te:0.4523955047)\n",
      "alpha: 1.5600048\n",
      "2016-05-13 21:45:10.364000, i:26, param:1.5600048, log-loss(tr:0.0606359346473, te:0.454637624165)\n",
      "alpha: 1.6200046\n",
      "2016-05-13 21:45:10.431000, i:27, param:1.6200046, log-loss(tr:0.0565568797521, te:0.457048010695)\n",
      "alpha: 1.6800044\n",
      "2016-05-13 21:45:10.507000, i:28, param:1.6800044, log-loss(tr:0.0528200048906, te:0.45962243266)\n",
      "alpha: 1.7400042\n",
      "2016-05-13 21:45:10.568000, i:29, param:1.7400042, log-loss(tr:0.049394304741, te:0.462357027142)\n",
      "alpha: 1.800004\n",
      "2016-05-13 21:45:10.629000, i:30, param:1.800004, log-loss(tr:0.0462516364484, te:0.465248265438)\n",
      "alpha: 1.8600038\n",
      "2016-05-13 21:45:10.699000, i:31, param:1.8600038, log-loss(tr:0.0433664470753, te:0.468292911693)\n",
      "alpha: 1.9200036\n",
      "2016-05-13 21:45:10.767000, i:32, param:1.9200036, log-loss(tr:0.0407155272946, te:0.471487975863)\n",
      "alpha: 1.9800034\n",
      "2016-05-13 21:45:10.826000, i:33, param:1.9800034, log-loss(tr:0.0382777909993, te:0.474830663722)\n",
      "alpha: 2.0400032\n",
      "2016-05-13 21:45:10.887000, i:34, param:2.0400032, log-loss(tr:0.0360340788473, te:0.47831832749)\n",
      "alpha: 2.100003\n",
      "2016-05-13 21:45:10.955000, i:35, param:2.100003, log-loss(tr:0.0339669828623, te:0.481948420764)\n",
      "alpha: 2.1600028\n",
      "2016-05-13 21:45:11.018000, i:36, param:2.1600028, log-loss(tr:0.032060688994, te:0.48571846097)\n",
      "alpha: 2.2200026\n",
      "2016-05-13 21:45:11.077000, i:37, param:2.2200026, log-loss(tr:0.0303008348088, te:0.489626001721)\n",
      "alpha: 2.2800024\n",
      "2016-05-13 21:45:11.138000, i:38, param:2.2800024, log-loss(tr:0.028674380029, te:0.493668616443)\n",
      "alpha: 2.3400022\n",
      "2016-05-13 21:45:11.199000, i:39, param:2.3400022, log-loss(tr:0.0271694882372, te:0.497843893556)\n",
      "alpha: 2.400002\n",
      "2016-05-13 21:45:11.258000, i:40, param:2.400002, log-loss(tr:0.0257754185834, te:0.502149442532)\n",
      "alpha: 2.4600018\n",
      "2016-05-13 21:45:11.319000, i:41, param:2.4600018, log-loss(tr:0.0244824266858, te:0.506582909356)\n",
      "alpha: 2.5200016\n",
      "2016-05-13 21:45:11.383000, i:42, param:2.5200016, log-loss(tr:0.0232816741053, te:0.511141999306)\n",
      "alpha: 2.5800014\n",
      "2016-05-13 21:45:11.450000, i:43, param:2.5800014, log-loss(tr:0.0221651458257, te:0.515824504566)\n",
      "alpha: 2.6400012\n",
      "2016-05-13 21:45:11.509000, i:44, param:2.6400012, log-loss(tr:0.0211255751436, te:0.520628333997)\n",
      "alpha: 2.700001\n",
      "2016-05-13 21:45:11.569000, i:45, param:2.700001, log-loss(tr:0.0201563753297, te:0.525551542372)\n",
      "alpha: 2.7600008\n",
      "2016-05-13 21:45:11.648000, i:46, param:2.7600008, log-loss(tr:0.0192515774007, te:0.530592356515)\n",
      "alpha: 2.8200006\n",
      "2016-05-13 21:45:11.712000, i:47, param:2.8200006, log-loss(tr:0.0184057733334, te:0.535749196111)\n",
      "alpha: 2.8800004\n",
      "2016-05-13 21:45:11.773000, i:48, param:2.8800004, log-loss(tr:0.017614064126, te:0.541020687295)\n",
      "alpha: 2.9400002\n",
      "2016-05-13 21:45:11.833000, i:49, param:2.9400002, log-loss(tr:0.0168720121873, te:0.546405667677)\n",
      "---Total execution time: 3.30799984932 seconds ---\n"
     ]
    }
   ],
   "source": [
    "arr_alpha = list(np.linspace(.00001, 3., 50, endpoint=False))\n",
    "#arr_alpha = list(np.log(arr_alpha))\n",
    "\n",
    "arr_log_loss_sgd_train_best_alpha = [0]*len(arr_alpha)\n",
    "arr_log_loss_sgd_test_best_alpha = [0]*len(arr_alpha)\n",
    "\n",
    "start_time = time.time()\n",
    "for i in range(0,len(arr_alpha)):\n",
    "    print('alpha: %s' %(arr_alpha[i]))\n",
    "    param, arr_log_loss_sgd_train_best_alpha[i], arr_log_loss_sgd_test_best_alpha[i] = sgd_training(alpha =\n",
    "             arr_alpha[i]\n",
    "             , D = 2**20\n",
    "             , f_debug = False\n",
    "             , f_step_validation = False\n",
    "             , f_validation = True\n",
    "             , c_ds = ds_best_param)\n",
    "             \n",
    "    print('%s, i:%s, param:%s, log-loss(tr:%s, te:%s)' %(datetime.now(), i, arr_alpha[i]\n",
    "                                                     , arr_log_loss_sgd_train_best_alpha[i]\n",
    "                                                     , arr_log_loss_sgd_test_best_alpha[i]))\n",
    "\n",
    "print(\"---Total execution time: %s seconds ---\" % (time.time() - start_time))"
   ]
  },
  {
   "cell_type": "code",
   "execution_count": 113,
   "metadata": {
    "collapsed": false,
    "scrolled": true
   },
   "outputs": [
    {
     "data": {
      "text/plain": [
       "(15, 0.90000699999999989, 0.4405051986901799)"
      ]
     },
     "execution_count": 113,
     "metadata": {},
     "output_type": "execute_result"
    },
    {
     "data": {
      "image/png": "[encoded data removed]",
      "text/plain": [
       "<matplotlib.figure.Figure at 0x2011f240>"
      ]
     },
     "metadata": {},
     "output_type": "display_data"
    }
   ],
   "source": [
    "plt.figure(num=None, figsize=(13, 6), dpi=80, facecolor='w', edgecolor='k')\n",
    "plt.plot(arr_alpha, arr_log_loss_sgd_train_best_alpha, marker='o', color='r')\n",
    "plt.plot(arr_alpha, arr_log_loss_sgd_test_best_alpha, marker='o', color='b')\n",
    "\n",
    "ndarr_test = np.array(arr_log_loss_sgd_test_best_alpha)\n",
    "(ndarr_test.argmin(), arr_alpha[ndarr_test.argmin()], arr_log_loss_sgd_test_best_alpha[ndarr_test.argmin()])\n"
   ]
  },
  {
   "cell_type": "markdown",
   "metadata": {},
   "source": [
    "###### ADF : variance"
   ]
  },
  {
   "cell_type": "code",
   "execution_count": 125,
   "metadata": {
    "collapsed": false
   },
   "outputs": [
    {
     "ename": "KeyError",
     "evalue": "'Label'",
     "output_type": "error",
     "traceback": [
      "\u001b[1;31m---------------------------------------------------------------------------\u001b[0m",
      "\u001b[1;31mKeyError\u001b[0m                                  Traceback (most recent call last)",
      "\u001b[1;32m<ipython-input-125-36c19647c1d1>\u001b[0m in \u001b[0;36m<module>\u001b[1;34m()\u001b[0m\n\u001b[0;32m     13\u001b[0m              \u001b[1;33m,\u001b[0m \u001b[0mf_step_validation\u001b[0m \u001b[1;33m=\u001b[0m \u001b[0mFalse\u001b[0m\u001b[1;33m\u001b[0m\u001b[0m\n\u001b[0;32m     14\u001b[0m              \u001b[1;33m,\u001b[0m \u001b[0mf_validation\u001b[0m \u001b[1;33m=\u001b[0m \u001b[0mTrue\u001b[0m\u001b[1;33m\u001b[0m\u001b[0m\n\u001b[1;32m---> 15\u001b[1;33m              , c_ds = ds_best_param)\n\u001b[0m\u001b[0;32m     16\u001b[0m     print('%s, i:%s, param:%s, log-loss(tr:%s, te:%s)' %(datetime.now(), i, arr_var[i]\n\u001b[0;32m     17\u001b[0m                                                      \u001b[1;33m,\u001b[0m \u001b[0marr_log_loss_adf_train_best_var\u001b[0m\u001b[1;33m[\u001b[0m\u001b[0mi\u001b[0m\u001b[1;33m]\u001b[0m\u001b[1;33m\u001b[0m\u001b[0m\n",
      "\u001b[1;32m<ipython-input-123-ce222242fd5a>\u001b[0m in \u001b[0;36madf_training\u001b[1;34m(variance, D, f_debug, f_step_validation, f_validation, c_ds)\u001b[0m\n\u001b[0;32m     24\u001b[0m \u001b[1;33m\u001b[0m\u001b[0m\n\u001b[0;32m     25\u001b[0m \u001b[1;33m\u001b[0m\u001b[0m\n\u001b[1;32m---> 26\u001b[1;33m         \u001b[0my\u001b[0m \u001b[1;33m=\u001b[0m \u001b[1;36m1.\u001b[0m \u001b[1;32mif\u001b[0m \u001b[0mrow\u001b[0m\u001b[1;33m[\u001b[0m\u001b[1;34m'Label'\u001b[0m\u001b[1;33m]\u001b[0m \u001b[1;33m==\u001b[0m \u001b[1;34m'1'\u001b[0m \u001b[1;32melse\u001b[0m \u001b[1;36m0.\u001b[0m\u001b[1;33m\u001b[0m\u001b[0m\n\u001b[0m\u001b[0;32m     27\u001b[0m         \u001b[1;32mdel\u001b[0m \u001b[0mrow\u001b[0m\u001b[1;33m[\u001b[0m\u001b[1;34m'Label'\u001b[0m\u001b[1;33m]\u001b[0m\u001b[1;33m\u001b[0m\u001b[0m\n\u001b[0;32m     28\u001b[0m         \u001b[0mx\u001b[0m \u001b[1;33m=\u001b[0m \u001b[0mget_x_mmh3\u001b[0m\u001b[1;33m(\u001b[0m\u001b[0mrow\u001b[0m\u001b[1;33m,\u001b[0m \u001b[0mD\u001b[0m\u001b[1;33m)\u001b[0m\u001b[1;33m\u001b[0m\u001b[0m\n",
      "\u001b[1;31mKeyError\u001b[0m: 'Label'"
     ]
    }
   ],
   "source": [
    "arr_var = list(np.linspace(.0001, 3.1, 20, endpoint=False))\n",
    "#arr_var = list(np.log(arr_var))\n",
    "\n",
    "arr_log_loss_adf_train_best_var = [0]*len(arr_var)\n",
    "arr_log_loss_adf_test_best_var = [0]*len(arr_var)\n",
    "\n",
    "start_time = time.time()\n",
    "\n",
    "for i in range(0,len(arr_var)):\n",
    "    param, arr_log_loss_adf_train_best_var[i], arr_log_loss_adf_test_best_var[i] = adf_training(variance = arr_var[i]\n",
    "             , D = 2**20\n",
    "             , f_debug = False\n",
    "             , f_step_validation = False\n",
    "             , f_validation = True\n",
    "             , c_ds = ds_best_param)\n",
    "    print('%s, i:%s, param:%s, log-loss(tr:%s, te:%s)' %(datetime.now(), i, arr_var[i]\n",
    "                                                     , arr_log_loss_adf_train_best_var[i]\n",
    "                                                     , arr_log_loss_adf_test_best_var[i]))\n",
    "    \n",
    "print(\"---Total execution time: %s seconds ---\" % (time.time() - start_time))"
   ]
  },
  {
   "cell_type": "code",
   "execution_count": null,
   "metadata": {
    "collapsed": true
   },
   "outputs": [],
   "source": [
    "plt.figure(num=None, figsize=(13, 6), dpi=80, facecolor='w', edgecolor='k')\n",
    "plt.plot(arr_var, arr_log_loss_adf_train_best_var, marker='o', color= 'r')\n",
    "plt.plot(arr_var, arr_log_loss_adf_test_best_var, marker='o', color= 'b')\n",
    "\n",
    "ndarr_test = np.array(arr_log_loss_adf_test_best_var)\n",
    "(ndarr_test.argmin(), arr_var[ndarr_test.argmin()], arr_log_loss_adf_test_best_var[ndarr_test.argmin()])"
   ]
  },
  {
   "cell_type": "code",
   "execution_count": null,
   "metadata": {
    "collapsed": true
   },
   "outputs": [],
   "source": []
  },
  {
   "cell_type": "code",
   "execution_count": null,
   "metadata": {
    "collapsed": true
   },
   "outputs": [],
   "source": []
  },
  {
   "cell_type": "code",
   "execution_count": null,
   "metadata": {
    "collapsed": true
   },
   "outputs": [],
   "source": []
  }
 ],
 "metadata": {
  "kernelspec": {
   "display_name": "Python 2",
   "language": "python",
   "name": "python2"
  },
  "language_info": {
   "codemirror_mode": {
    "name": "ipython",
    "version": 2
   },
   "file_extension": ".py",
   "mimetype": "text/x-python",
   "name": "python",
   "nbconvert_exporter": "python",
   "pygments_lexer": "ipython2",
   "version": "2.7.11"
  }
 },
 "nbformat": 4,
 "nbformat_minor": 0
}
