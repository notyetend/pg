{
 "cells": [
  {
   "cell_type": "markdown",
   "metadata": {},
   "source": [
    "### Loading dataset"
   ]
  },
  {
   "cell_type": "code",
   "execution_count": 1,
   "metadata": {
    "collapsed": false
   },
   "outputs": [],
   "source": [
    "import pandas as pd\n",
    "\n",
    "data_sample = pd.read_table('./data/dac_sample.txt', sep='\\t', header=None, index_col=False)"
   ]
  },
  {
   "cell_type": "code",
   "execution_count": 10,
   "metadata": {
    "collapsed": false
   },
   "outputs": [],
   "source": [
    "import pandas as pd\n",
    "\n",
    "#sample file location in CO.\n",
    "sample = r'D:/etc/Thesis/data/dac_sample.tar/dac_sample.txt'\n",
    "\n",
    "data_sample = pd.read_table(sample, sep='\\t', header=None, index_col=False)"
   ]
  },
  {
   "cell_type": "markdown",
   "metadata": {},
   "source": [
    "### Let's look at the form of data"
   ]
  },
  {
   "cell_type": "code",
   "execution_count": 11,
   "metadata": {
    "collapsed": false,
    "scrolled": false
   },
   "outputs": [
    {
     "name": "stdout",
     "output_type": "stream",
     "text": [
      "<class 'pandas.core.frame.DataFrame'>\n",
      "Int64Index: 100000 entries, 0 to 99999\n",
      "Data columns (total 40 columns):\n",
      "0     100000 non-null int64\n",
      "1     55587 non-null float64\n",
      "2     100000 non-null int64\n",
      "3     80898 non-null float64\n",
      "4     80466 non-null float64\n",
      "5     95240 non-null float64\n",
      "6     74893 non-null float64\n",
      "7     95281 non-null float64\n",
      "8     99893 non-null float64\n",
      "9     95281 non-null float64\n",
      "10    55587 non-null float64\n",
      "11    95281 non-null float64\n",
      "12    22820 non-null float64\n",
      "13    80466 non-null float64\n",
      "14    100000 non-null object\n",
      "15    100000 non-null object\n",
      "16    96065 non-null object\n",
      "17    96065 non-null object\n",
      "18    100000 non-null object\n",
      "19    86292 non-null object\n",
      "20    100000 non-null object\n",
      "21    100000 non-null object\n",
      "22    100000 non-null object\n",
      "23    100000 non-null object\n",
      "24    100000 non-null object\n",
      "25    96065 non-null object\n",
      "26    100000 non-null object\n",
      "27    100000 non-null object\n",
      "28    100000 non-null object\n",
      "29    96065 non-null object\n",
      "30    100000 non-null object\n",
      "31    100000 non-null object\n",
      "32    58529 non-null object\n",
      "33    58529 non-null object\n",
      "34    96065 non-null object\n",
      "35    18434 non-null object\n",
      "36    100000 non-null object\n",
      "37    96065 non-null object\n",
      "38    58529 non-null object\n",
      "39    58529 non-null object\n",
      "dtypes: float64(12), int64(2), object(26)\n",
      "memory usage: 31.3+ MB\n"
     ]
    },
    {
     "data": {
      "text/html": [
       "<div>\n",
       "<table border=\"1\" class=\"dataframe\">\n",
       "  <thead>\n",
       "    <tr style=\"text-align: right;\">\n",
       "      <th></th>\n",
       "      <th>0</th>\n",
       "      <th>1</th>\n",
       "      <th>2</th>\n",
       "      <th>3</th>\n",
       "      <th>4</th>\n",
       "      <th>5</th>\n",
       "      <th>6</th>\n",
       "      <th>7</th>\n",
       "      <th>8</th>\n",
       "      <th>9</th>\n",
       "      <th>...</th>\n",
       "      <th>30</th>\n",
       "      <th>31</th>\n",
       "      <th>32</th>\n",
       "      <th>33</th>\n",
       "      <th>34</th>\n",
       "      <th>35</th>\n",
       "      <th>36</th>\n",
       "      <th>37</th>\n",
       "      <th>38</th>\n",
       "      <th>39</th>\n",
       "    </tr>\n",
       "  </thead>\n",
       "  <tbody>\n",
       "    <tr>\n",
       "      <th>0</th>\n",
       "      <td>0</td>\n",
       "      <td>1</td>\n",
       "      <td>1</td>\n",
       "      <td>5</td>\n",
       "      <td>0</td>\n",
       "      <td>1382</td>\n",
       "      <td>4</td>\n",
       "      <td>15</td>\n",
       "      <td>2</td>\n",
       "      <td>181</td>\n",
       "      <td>...</td>\n",
       "      <td>e5ba7672</td>\n",
       "      <td>f54016b9</td>\n",
       "      <td>21ddcdc9</td>\n",
       "      <td>b1252a9d</td>\n",
       "      <td>07b5194c</td>\n",
       "      <td>NaN</td>\n",
       "      <td>3a171ecb</td>\n",
       "      <td>c5c50484</td>\n",
       "      <td>e8b83407</td>\n",
       "      <td>9727dd16</td>\n",
       "    </tr>\n",
       "    <tr>\n",
       "      <th>1</th>\n",
       "      <td>0</td>\n",
       "      <td>2</td>\n",
       "      <td>0</td>\n",
       "      <td>44</td>\n",
       "      <td>1</td>\n",
       "      <td>102</td>\n",
       "      <td>8</td>\n",
       "      <td>2</td>\n",
       "      <td>2</td>\n",
       "      <td>4</td>\n",
       "      <td>...</td>\n",
       "      <td>07c540c4</td>\n",
       "      <td>b04e4670</td>\n",
       "      <td>21ddcdc9</td>\n",
       "      <td>5840adea</td>\n",
       "      <td>60f6221e</td>\n",
       "      <td>NaN</td>\n",
       "      <td>3a171ecb</td>\n",
       "      <td>43f13e8b</td>\n",
       "      <td>e8b83407</td>\n",
       "      <td>731c3655</td>\n",
       "    </tr>\n",
       "    <tr>\n",
       "      <th>2</th>\n",
       "      <td>0</td>\n",
       "      <td>2</td>\n",
       "      <td>0</td>\n",
       "      <td>1</td>\n",
       "      <td>14</td>\n",
       "      <td>767</td>\n",
       "      <td>89</td>\n",
       "      <td>4</td>\n",
       "      <td>2</td>\n",
       "      <td>245</td>\n",
       "      <td>...</td>\n",
       "      <td>8efede7f</td>\n",
       "      <td>3412118d</td>\n",
       "      <td>NaN</td>\n",
       "      <td>NaN</td>\n",
       "      <td>e587c466</td>\n",
       "      <td>ad3062eb</td>\n",
       "      <td>3a171ecb</td>\n",
       "      <td>3b183c5c</td>\n",
       "      <td>NaN</td>\n",
       "      <td>NaN</td>\n",
       "    </tr>\n",
       "    <tr>\n",
       "      <th>3</th>\n",
       "      <td>0</td>\n",
       "      <td>NaN</td>\n",
       "      <td>893</td>\n",
       "      <td>NaN</td>\n",
       "      <td>NaN</td>\n",
       "      <td>4392</td>\n",
       "      <td>NaN</td>\n",
       "      <td>0</td>\n",
       "      <td>0</td>\n",
       "      <td>0</td>\n",
       "      <td>...</td>\n",
       "      <td>1e88c74f</td>\n",
       "      <td>74ef3502</td>\n",
       "      <td>NaN</td>\n",
       "      <td>NaN</td>\n",
       "      <td>6b3a5ca6</td>\n",
       "      <td>NaN</td>\n",
       "      <td>3a171ecb</td>\n",
       "      <td>9117a34a</td>\n",
       "      <td>NaN</td>\n",
       "      <td>NaN</td>\n",
       "    </tr>\n",
       "    <tr>\n",
       "      <th>4</th>\n",
       "      <td>0</td>\n",
       "      <td>3</td>\n",
       "      <td>-1</td>\n",
       "      <td>NaN</td>\n",
       "      <td>0</td>\n",
       "      <td>2</td>\n",
       "      <td>0</td>\n",
       "      <td>3</td>\n",
       "      <td>0</td>\n",
       "      <td>0</td>\n",
       "      <td>...</td>\n",
       "      <td>1e88c74f</td>\n",
       "      <td>26b3c7a7</td>\n",
       "      <td>NaN</td>\n",
       "      <td>NaN</td>\n",
       "      <td>21c9516a</td>\n",
       "      <td>NaN</td>\n",
       "      <td>32c7478e</td>\n",
       "      <td>b34f3128</td>\n",
       "      <td>NaN</td>\n",
       "      <td>NaN</td>\n",
       "    </tr>\n",
       "  </tbody>\n",
       "</table>\n",
       "<p>5 rows × 40 columns</p>\n",
       "</div>"
      ],
      "text/plain": [
       "   0   1    2   3   4     5   6   7   8    9     ...           30        31  \\\n",
       "0   0   1    1   5   0  1382   4  15   2  181    ...     e5ba7672  f54016b9   \n",
       "1   0   2    0  44   1   102   8   2   2    4    ...     07c540c4  b04e4670   \n",
       "2   0   2    0   1  14   767  89   4   2  245    ...     8efede7f  3412118d   \n",
       "3   0 NaN  893 NaN NaN  4392 NaN   0   0    0    ...     1e88c74f  74ef3502   \n",
       "4   0   3   -1 NaN   0     2   0   3   0    0    ...     1e88c74f  26b3c7a7   \n",
       "\n",
       "         32        33        34        35        36        37        38  \\\n",
       "0  21ddcdc9  b1252a9d  07b5194c       NaN  3a171ecb  c5c50484  e8b83407   \n",
       "1  21ddcdc9  5840adea  60f6221e       NaN  3a171ecb  43f13e8b  e8b83407   \n",
       "2       NaN       NaN  e587c466  ad3062eb  3a171ecb  3b183c5c       NaN   \n",
       "3       NaN       NaN  6b3a5ca6       NaN  3a171ecb  9117a34a       NaN   \n",
       "4       NaN       NaN  21c9516a       NaN  32c7478e  b34f3128       NaN   \n",
       "\n",
       "         39  \n",
       "0  9727dd16  \n",
       "1  731c3655  \n",
       "2       NaN  \n",
       "3       NaN  \n",
       "4       NaN  \n",
       "\n",
       "[5 rows x 40 columns]"
      ]
     },
     "execution_count": 11,
     "metadata": {},
     "output_type": "execute_result"
    }
   ],
   "source": [
    "#data_sample.head()\n",
    "data_sample.info()\n",
    "#data_sample.dtypes\n",
    "#data_sample.describe()\n",
    "data_sample[:5]\n",
    "#data_sample.iloc[:5, :15]"
   ]
  },
  {
   "cell_type": "markdown",
   "metadata": {},
   "source": [
    "####File descriptions\n",
    "**train.csv** - The training set consists of a portion of Criteo's traffic over a period of 7 days. Each row corresponds to a display ad served by Criteo. Positive (clicked) and negatives (non-clicked) examples have both been subsampled at different rates in order to reduce the dataset size. The examples are chronologically ordered.  \n",
    "**test.csv** - The test set is computed in the same way as the training set but for events on the day following the training period.  \n",
    "**random_submission.csv** - A sample submission file in the correct format. \n",
    "\n",
    "\n",
    "####Data fields\n",
    "**Label** - Target variable that indicates if an ad was clicked (1) or not (0).  \n",
    "**I1-I13** - A total of 13 columns of integer features (mostly count features).  \n",
    "**C1-C26** - A total of 26 columns of categorical features. The values of these features have been hashed onto 32 bits for anonymization purposes.   \n",
    "The semantic of the features is undisclosed.\n",
    "\n",
    "When a value is missing, the field is empty.\n",
    "\n",
    "> Reference:  \n",
    "> [https://www.kaggle.com/c/criteo-display-ad-challenge/data]"
   ]
  },
  {
   "cell_type": "markdown",
   "metadata": {},
   "source": [
    "### How to deal large file?\n",
    "\n",
    "Refer to below page for loading file by chunk.\n",
    "> http://pandas.pydata.org/pandas-docs/stable/io.html#io-chunking\n",
    "\n",
    "- **read_xxx** function returns [pandas.io.parsers.**TextFileReader**] object when u specify **chunksize** parameter or when u specify **iterator=True**."
   ]
  },
  {
   "cell_type": "code",
   "execution_count": 2,
   "metadata": {
    "collapsed": false
   },
   "outputs": [
    {
     "name": "stdout",
     "output_type": "stream",
     "text": [
      "<class 'pandas.core.frame.DataFrame'>\n",
      "(10000, 40)\n",
      "<class 'pandas.core.frame.DataFrame'>\n",
      "(10000, 40)\n",
      "<class 'pandas.core.frame.DataFrame'>\n",
      "(10000, 40)\n",
      "<class 'pandas.core.frame.DataFrame'>\n",
      "(10000, 40)\n",
      "<class 'pandas.core.frame.DataFrame'>\n",
      "(10000, 40)\n",
      "<class 'pandas.core.frame.DataFrame'>\n",
      "(10000, 40)\n",
      "<class 'pandas.core.frame.DataFrame'>\n",
      "(10000, 40)\n",
      "<class 'pandas.core.frame.DataFrame'>\n",
      "(10000, 40)\n",
      "<class 'pandas.core.frame.DataFrame'>\n",
      "(10000, 40)\n",
      "<class 'pandas.core.frame.DataFrame'>\n",
      "(10000, 40)\n"
     ]
    }
   ],
   "source": [
    "import pandas as pd\n",
    "import numpy as np\n",
    "\n",
    "chunk_size = 10000\n",
    "reader = pd.read_table('./data/dac_sample.txt'\n",
    "                            , sep='\\t'\n",
    "                            , header=None\n",
    "                            , index_col=False\n",
    "                            , chunksize = chunk_size\n",
    "                           )\n",
    "count = 0\n",
    "for chunk in reader:\n",
    "    print(type(chunk))\n",
    "    print(chunk.shape)\n",
    "\n"
   ]
  },
  {
   "cell_type": "code",
   "execution_count": 7,
   "metadata": {
    "collapsed": false
   },
   "outputs": [
    {
     "data": {
      "text/plain": [
       "array([ 40.,  -9.,  34., -15.,  -3.,  28., -19.])"
      ]
     },
     "execution_count": 7,
     "metadata": {},
     "output_type": "execute_result"
    }
   ],
   "source": [
    "ts = pd.DataFrame()\n",
    "rs = np.random.RandomState(123)\n",
    "\n",
    "ts['a'] = np.round(rs.normal(1,2,7) * 10,0)\n",
    "ts['b'] = np.round(rs.normal(1,3,7) * 10,0)\n",
    "ts['c'] = np.round(rs.normal(1,4,7) * 10,0)\n",
    "\n",
    "\n",
    "np.round(rs.normal(1,2,7) * 10,0)\n"
   ]
  }
 ],
 "metadata": {
  "kernelspec": {
   "display_name": "Python 3",
   "language": "python",
   "name": "python3"
  },
  "language_info": {
   "codemirror_mode": {
    "name": "ipython",
    "version": 3
   },
   "file_extension": ".py",
   "mimetype": "text/x-python",
   "name": "python",
   "nbconvert_exporter": "python",
   "pygments_lexer": "ipython3",
   "version": "3.5.1"
  }
 },
 "nbformat": 4,
 "nbformat_minor": 0
}
