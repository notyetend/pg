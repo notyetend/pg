{
 "cells": [
  {
   "cell_type": "markdown",
   "metadata": {},
   "source": [
    "# 분포"
   ]
  },
  {
   "cell_type": "markdown",
   "metadata": {},
   "source": [
    "### 균등 분포"
   ]
  },
  {
   "cell_type": "markdown",
   "metadata": {},
   "source": [
    "### 초기하분포"
   ]
  },
  {
   "cell_type": "markdown",
   "metadata": {},
   "source": [
    "### 이항"
   ]
  },
  {
   "cell_type": "markdown",
   "metadata": {},
   "source": [
    "### 베르누이"
   ]
  },
  {
   "cell_type": "markdown",
   "metadata": {},
   "source": [
    "### 다항분포"
   ]
  },
  {
   "cell_type": "markdown",
   "metadata": {},
   "source": [
    "### 음이항분포"
   ]
  },
  {
   "cell_type": "markdown",
   "metadata": {},
   "source": [
    "### 기하분포"
   ]
  },
  {
   "cell_type": "markdown",
   "metadata": {},
   "source": [
    "### 포아송"
   ]
  },
  {
   "cell_type": "markdown",
   "metadata": {},
   "source": [
    "### 감마분포"
   ]
  },
  {
   "cell_type": "markdown",
   "metadata": {},
   "source": [
    "감마함수(Gamma function)는 아래와 같이 정의되고,\n",
    "$$\\Gamma(\\alpha) = \\int^{+\\infty}_0 x^{\\alpha-1} ~ e^{-x} ~ dx, ~ \\alpha > 0$$\n",
    "아래와 같은 성질을 갖는다.\n",
    "$$\\begin{align}\n",
    "\\Gamma(1) &= 1 \\\\\n",
    "\\Gamma(x+1) &= x \\Gamma(x) \\\\\n",
    "\\Gamma(n+1) &= n!, ~ n \\in \\mathbb{Z}\n",
    "\\end{align}$$"
   ]
  },
  {
   "cell_type": "markdown",
   "metadata": {},
   "source": [
    "감마분포를 따르는 확률변수 $X \\sim \\mathrm{Gamma}(\\alpha, \\beta)$의 확률밀도함수는 아래와 같다."
   ]
  },
  {
   "cell_type": "markdown",
   "metadata": {},
   "source": [
    "$$pdf_X(x) = \\frac{1}{\\Gamma(\\alpha) \\beta^{\\alpha}}x^{\\alpha - 1} ~ e^{-x/\\beta} ~ \\mathrm{I}_{(x>0)}, (\\alpha > 0, \\beta > 0)$$"
   ]
  },
  {
   "cell_type": "markdown",
   "metadata": {},
   "source": [
    "이때 $\\alpha$를 형상모수(shape parameter)라 하고, $\\beta$를 척도모수(scale parameter)라 한다.    \n",
    "또한 $X$의 기대값 $E(X)$은 $\\alpha \\beta$이고 분산 $Var(X)$은 $\\alpha \\beta^2$이다."
   ]
  },
  {
   "cell_type": "code",
   "execution_count": 14,
   "metadata": {
    "collapsed": false
   },
   "outputs": [
    {
     "data": {
      "image/png": "[encoded data removed]",
      "text/plain": [
       "<matplotlib.figure.Figure at 0x240f31c5128>"
      ]
     },
     "metadata": {},
     "output_type": "display_data"
    }
   ],
   "source": [
    "import numpy as np\n",
    "shape, scale = 2., 2. # mean=4, std=2*sqrt(2)\n",
    "s = np.random.gamma(shape, scale, 1000)\n",
    "\n",
    "import matplotlib.pyplot as plt\n",
    "import scipy.special as sps\n",
    "count, bins, ignored = plt.hist(s, 50, normed=True)\n",
    "y = bins**(shape-1) * (np.exp(-bins/scale) / (sps.gamma(shape) * scale**shape))\n",
    "plt.plot(bins, y, linewidth=2, color='r')\n",
    "plt.show()"
   ]
  },
  {
   "cell_type": "markdown",
   "metadata": {},
   "source": [
    "### 베타분포"
   ]
  },
  {
   "cell_type": "markdown",
   "metadata": {},
   "source": [
    "우선 감마함수를 조합하여 아래와 같은 베타함수 $B(\\alpha_1, \\alpha_2)$를 정의할 수 있다.\n",
    "$$\\begin{align}\n",
    "B(\\alpha_1, \\alpha_2) &= \\frac{\\Gamma(\\alpha_1) \\Gamma(\\alpha_2)}{\\Gamma(\\alpha_1 + \\alpha_2)}\\\\\n",
    "&= \\int^1_0 x^{\\alpha_1 - 1} (1-x)^{\\alpha_2 - 1} dx\\\\\n",
    "\\end{align}$$"
   ]
  },
  {
   "cell_type": "markdown",
   "metadata": {},
   "source": [
    "> 베타분포는 아래와 같이 정의 된다.\n",
    "$$\\begin{align} \n",
    "X \\sim \\mathrm{Beta}(\\alpha_1, \\alpha_2) &\\Leftrightarrow X \\,{\\buildrel d \\over \\equiv}\\, \\frac{Z_1}{Z_1 + Z_2}, ~ Z_1 \\sim \\mathrm{Gamma}(\\alpha_1, \\beta), Z_2 \\sim \\mathrm{Gamma}(\\alpha_2, \\beta), ~ Z_1~ \\mathrm{and} ~ Z_2~ \\mathrm{are~ mutually~ independent} \\\\\n",
    "&\\Leftrightarrow pdf_X(x) = \\frac{1}{B(\\alpha_1, \\alpha_2)} x^{\\alpha_1 - 1} (1-x)^{\\alpha_2 - 1} ~ I_{(0, 1)}(x)\n",
    "\\end{align}$$"
   ]
  },
  {
   "cell_type": "markdown",
   "metadata": {},
   "source": [
    "이때 평균과 분산은 아래와 같다.\n",
    "$$\\begin{align}\n",
    "E[X] &= \\frac{\\alpha_1}{\\alpha_1 + \\alpha_2} \\\\\n",
    "Var[X] &= \\frac{\\alpha_1 \\alpha_2}{(\\alpha_1 + \\alpha_2)^2 ~ (\\alpha_1 + \\alpha_2 + 1)} \\\\\n",
    "\\end{align}\n",
    "$$"
   ]
  },
  {
   "cell_type": "markdown",
   "metadata": {},
   "source": [
    "### 디리슈레분포(Dirichlet distribution)"
   ]
  },
  {
   "cell_type": "markdown",
   "metadata": {},
   "source": [
    "베타분포가 압정의 머리가 $\\alpha_1$번 꼬리가 $\\alpha_2$번 나오는 이항 시행을 모형화 한다면          \n",
    "디리슈레분포는 서로 다른 비율로 각 면이 나올 수 있는 주사위를 던지는 것과 같이 다항 시행을 모형화한 것이다.\n",
    "\n",
    "> 아래 조건을 만족시키는 확률변수 $\\mathbf{Y}=[Y_1, \\cdots, Y_k]^t$에 대하여            \n",
    "- $Y_i \\geq 0$ for $i=1, \\cdots, k$ \n",
    "- $\\sum^k_{i=1}Y_i = 1$          \n",
    "\n",
    "> 디리슈레분포를 다음과 같이 정의할 수 있다.\n",
    "\n",
    "$$\\begin{align}\n",
    "\\mathbf{Y} = [Y_1, \\cdots, Y_k]^t &\\sim \\mathrm{Dirichlet}(\\alpha_1, \\cdots, \\alpha_k) \\\\\n",
    "\\Leftrightarrow &pdf_{Y_1, \\cdots, Y_k}(y_1, \\cdots, y_k) \\\\\n",
    "& =\\frac{\\Gamma(\\alpha_1 + \\cdots + \\alpha_k)}{\\prod^k_{i=1} \\Gamma(\\alpha_i)} \\prod^k_{i=1} q_i^{\\alpha_i - 1}\n",
    "\\end{align}$$"
   ]
  },
  {
   "cell_type": "markdown",
   "metadata": {},
   "source": [
    "### 지수분포"
   ]
  },
  {
   "cell_type": "markdown",
   "metadata": {},
   "source": [
    "### 정규분포"
   ]
  },
  {
   "cell_type": "markdown",
   "metadata": {},
   "source": [
    "### 로지스틱 분포"
   ]
  },
  {
   "cell_type": "markdown",
   "metadata": {},
   "source": [
    "### 이중지수 분포"
   ]
  },
  {
   "cell_type": "markdown",
   "metadata": {},
   "source": [
    "### 코쉬 분포"
   ]
  },
  {
   "cell_type": "markdown",
   "metadata": {},
   "source": [
    "### 웨이불 분포"
   ]
  },
  {
   "cell_type": "markdown",
   "metadata": {},
   "source": [
    "# 이항 분포에 대한 베이지안 추론"
   ]
  },
  {
   "cell_type": "markdown",
   "metadata": {},
   "source": [
    "$1$이 나올 확률이 $\\theta$이고 $0$이 나올 확률이 $1-\\theta$인 베르누이 시행의 결과를 확률변수 $X[m]$라 하고 ($m$번째 시행)     \n",
    "이 시행을 $M$번 반복한 결과를 $x[1], \\dots, x[M]$라 해 보자.            \n",
    "또한 이때 $1$이 나온 횟수를 $M[1]$, 0이 나온 횟수를 $M[0]$이라 하자."
   ]
  },
  {
   "cell_type": "markdown",
   "metadata": {},
   "source": [
    "즉 $X[m]$의 확률 분포는 아래와 같고    \n",
    "$$P(X[m]~|~\\theta) = \\begin{cases}\n",
    "\\theta & \\mathrm{if}~ x[m]=x^1 \\\\\n",
    "1-\\theta & \\mathrm{if}~ x[m]=x^0\n",
    "\\end{cases}$$\n",
    "기호로는 아래와 같이 나타낼 수 있다.\n",
    "$$X[m] \\sim \\mathrm{Bernoulli}(\\theta)$$"
   ]
  },
  {
   "cell_type": "markdown",
   "metadata": {},
   "source": [
    "앞으로의 논의를 위해 아래 두가지를 가정할 것이다.      \n",
    "- [1] $\\theta$를 확률변수이다. 즉 어떤 진리의 값이 존재하는 것이 아니라 증거에 따라 변할 수 있는 어떤 분포로 표현된다.)\n",
    "- [2] 각 시행은 $\\theta$가 주어져 있을 때 서로 독립이다.(conditionally independent given $\\theta$)"
   ]
  },
  {
   "cell_type": "markdown",
   "metadata": {},
   "source": [
    "."
   ]
  },
  {
   "cell_type": "markdown",
   "metadata": {},
   "source": [
    "### $\\theta$의 사후분포"
   ]
  },
  {
   "cell_type": "markdown",
   "metadata": {},
   "source": [
    "$\\theta$의 사후분포는 아래와 같다.\n",
    "$$P(\\theta ~|~ x[1], \\dots, x[m]) = \\frac{P(x[1], \\dots, x[M] ~|~ \\theta) ~ P(\\theta)}{P(x[1], \\dots, x[M])}$$"
   ]
  },
  {
   "cell_type": "markdown",
   "metadata": {},
   "source": [
    "이때 분자의 $P(x[1], \\dots, x[M] ~|~ \\theta)$는 우도함수(likelihood function)로서 가정 [2]에 의해 아래와 같이 factorize 된다.\n",
    "$$\\begin{align}\n",
    "P(x[1], \\dots, x[M] ~|~ \\theta) &= \\prod^M_{m=1} P(x[m] ~|~ \\theta) \\\\\n",
    "&= \\theta^{M[1]} (1-\\theta)^{M[0]}\n",
    "\\end{align}$$\n",
    "\n",
    "분자의 $P(\\theta)$는 $\\theta$에 대한 사전분포이다. 사전분포로 다양한 분포를 사용할 수 있고, uniform 혹은 Beta 분포를 사용하는 경우에 대해 나중에 살펴보기로 한다.\n",
    "\n",
    "분모의 $P(x[1], \\dots, x[M])$는 normalizing factor로서 아래와 같이 계산할 수 있다. \n",
    "$$P(x[1], \\dots, x[M]) = \\int_{\\theta} P(x[1], \\dots, x[M] ~|~ \\theta) ~ P(\\theta) ~ d\\theta$$"
   ]
  },
  {
   "cell_type": "markdown",
   "metadata": {},
   "source": [
    "### 다음 시행에 대한 예측 분포"
   ]
  },
  {
   "cell_type": "markdown",
   "metadata": {},
   "source": [
    "$M$번의 시행결과($x[1], \\dots, x[M]$)가 주어져 있을 때 다음 시행($x[M+1]$)의 확률 분포는 아래와 같다."
   ]
  },
  {
   "cell_type": "markdown",
   "metadata": {},
   "source": [
    "$$\\begin{align}\n",
    "P(x[M+1] ~|~ x[1], \\dots, x[M]) &= \\int P(x[M+1] ~|~ \\theta, x[1], \\dots, x[M]) ~ P(\\theta ~|~ x[1], \\dots, x[M]) d\\theta\\\\\n",
    "&= \\int P(x[M+1] ~|~ \\theta) ~ P(\\theta ~|~ x[1], \\dots, x[M]) d\\theta\\\\\n",
    "\\end{align}$$"
   ]
  },
  {
   "cell_type": "markdown",
   "metadata": {},
   "source": [
    "$\\theta$가 주어지면 $x[1], \\dots, x[M]$과 $x[M+1]$은 서로 독립이므로       \n",
    "위 식에서 $P(x[M+1] ~|~ \\theta, x[1], \\dots, x[M])$가 $P(x[M+1] ~|~ \\theta)$로 축약되었다.   \n",
    "(즉 $\\theta$가 주어지는 순간 $x[1], \\dots, x[M]$는 $x[M+1]$에 대한 추가적인 정보를 주지 못한다.)\n",
    " "
   ]
  },
  {
   "cell_type": "markdown",
   "metadata": {},
   "source": [
    "###### Uniform prior"
   ]
  },
  {
   "cell_type": "markdown",
   "metadata": {},
   "source": [
    "$\\theta$의 사전분포로 다양한 분포를 사용할 수 있겠으나    \n",
    "간단하게 구간 [0, 1]에서의 균등분포일 때 $P(x[M+1] ~|~ x[1], \\dots, x[M])$를 구해보자.        \n",
    "사전분포가 균등분포이면 $P(\\theta ~|~ x[1], \\dots, x[m])$는 아래와 같이 정규화된 우도함수(normalized likelihood function)이 된다.   \n",
    "$$P(\\theta ~|~ x[1], \\dots, x[m]) = \\frac{P(x[1], \\dots, x[M] ~|~ \\theta)}{P(x[1], \\dots, x[M])}$$\n",
    "\n",
    "여기에서 정규화 상수(normalizing constant) $P(x[1], \\dots, x[M])$는 아래와 같이 계산할 수 있다.\n",
    "$$\\begin{align}\n",
    "P(x[1], \\dots, x[M]) &= \\int P(x[1], \\dots, x[M] ~|~ \\theta) ~ P(\\theta) ~ d\\theta \\\\\n",
    "&= \\int \\theta^{M[1]} ~ (1 - \\theta)^{M[0]} \\cdot 1 ~ d\\theta \\\\\n",
    "&= B(M[1]+1, M[0]+1)\\\\\n",
    "\\end{align}$$\n",
    "\n",
    "위 식을 예측분포 식에 넣어 정리하면 아래와 같다.\n"
   ]
  },
  {
   "cell_type": "markdown",
   "metadata": {},
   "source": [
    "$$\\begin{align}\n",
    "P(x[M+1] ~|~ x[1], \\dots, x[M]) &= \\int P(x[M+1] ~|~ \\theta, x[1], \\dots, x[M]) ~ P(\\theta ~|~ x[1], \\dots, x[M]) d\\theta\\\\\n",
    "&= \\int P(x[M+1] ~|~ \\theta) ~ P(\\theta ~|~ x[1], \\dots, x[M]) d\\theta\\\\\n",
    "&= \\int P(x[M+1] ~|~ \\theta) ~ \\frac{P(x[1], \\dots, x[M] ~|~ \\theta) \\cdot 1}{P(x[1], \\dots, x[M])} \\\\\n",
    "&= \\int \\theta \\cdot \\frac{\\theta^{M[1]} ~ (1-\\theta)^{M[0]}}{B(M[1]+1, M[0]+1)} ~ d\\theta \\\\\n",
    "&= E[\\Theta], ~ \\Theta \\sim Beta(M[1]+1, M[0]+1) \\\\\n",
    "&= \\frac{M[1]+1}{M[1] + M[0] + 2}\n",
    "\\end{align}$$"
   ]
  },
  {
   "cell_type": "markdown",
   "metadata": {},
   "source": [
    "###### Beta prior"
   ]
  },
  {
   "cell_type": "markdown",
   "metadata": {},
   "source": [
    "$\\theta$의 사전분포로 Beta 분포를 사용하는 경우($\\theta \\sim \\mathrm{Beta}(\\alpha_1, \\alpha_0)$)를 살펴보자.\n",
    "\n",
    "우선 정규화 상수는 아래와 같다.\n",
    "$$\\begin{align}\n",
    "P(x[1], \\dots, x[M]) &= \\int P(x[1], \\dots, x[M] ~|~ \\theta) ~ P(\\theta) ~ d\\theta \\\\\n",
    "&= \\int \\theta^{M[1]} ~ (1 - \\theta)^{M[0]} \\cdot \\theta^{\\alpha_1 -1} (1-\\theta)^{\\alpha_0 -1} ~ d\\theta \\\\\n",
    "&= B(M[1]+\\alpha_1, M[0]+\\alpha_0)\\\\\n",
    "\\end{align}$$"
   ]
  },
  {
   "cell_type": "markdown",
   "metadata": {},
   "source": [
    "다음으로 예측 분포는 아래와 같다."
   ]
  },
  {
   "cell_type": "markdown",
   "metadata": {},
   "source": [
    "$$\\begin{align}\n",
    "P(x[M+1] ~|~ x[1], \\dots, x[M]) &= \\int P(x[M+1] ~|~ \\theta, x[1], \\dots, x[M]) ~ P(\\theta ~|~ x[1], \\dots, x[M]) d\\theta\\\\\n",
    "&= \\int P(x[M+1] ~|~ \\theta) ~ P(\\theta ~|~ x[1], \\dots, x[M]) d\\theta\\\\\n",
    "&= \\int P(x[M+1] ~|~ \\theta) ~ \\frac{P(x[1], \\dots, x[M] ~|~ \\theta) ~ P(\\theta)}{P(x[1], \\dots, x[M])} \\\\\n",
    "&= \\int \\theta \\cdot \\frac{\\theta^{M[1]} ~ (1-\\theta)^{M[0]} \\cdot \\theta^{\\alpha_1 -1} (1-\\theta)^{\\alpha_0 -1} }{B(M[1]+\\alpha_1, M[0]+\\alpha_0)} ~ d\\theta \\\\\n",
    "&= E[\\Theta], ~ \\Theta \\sim Beta(M[1]+\\alpha_1, M[0]+\\alpha_0) \\\\\n",
    "&= \\frac{M[1]+\\alpha_1}{M[1] + M[0] + \\alpha_1 + \\alpha_0}\n",
    "\\end{align}$$"
   ]
  },
  {
   "cell_type": "markdown",
   "metadata": {},
   "source": [
    "(사실 $\\mathrm{Beta}(1, 1)$은 균등분포와 동일하다.)"
   ]
  },
  {
   "cell_type": "markdown",
   "metadata": {},
   "source": [
    "."
   ]
  },
  {
   "cell_type": "markdown",
   "metadata": {},
   "source": [
    "."
   ]
  },
  {
   "cell_type": "markdown",
   "metadata": {},
   "source": [
    "."
   ]
  },
  {
   "cell_type": "markdown",
   "metadata": {},
   "source": [
    "."
   ]
  }
 ],
 "metadata": {
  "anaconda-cloud": {},
  "kernelspec": {
   "display_name": "Python [conda root]",
   "language": "python",
   "name": "conda-root-py"
  },
  "language_info": {
   "codemirror_mode": {
    "name": "ipython",
    "version": 3
   },
   "file_extension": ".py",
   "mimetype": "text/x-python",
   "name": "python",
   "nbconvert_exporter": "python",
   "pygments_lexer": "ipython3",
   "version": "3.5.2"
  }
 },
 "nbformat": 4,
 "nbformat_minor": 1
}
