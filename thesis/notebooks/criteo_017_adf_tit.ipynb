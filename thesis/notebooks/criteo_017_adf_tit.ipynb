{
 "cells": [
  {
   "cell_type": "markdown",
   "metadata": {},
   "source": [
    "### Simulation SGD for titanic data"
   ]
  },
  {
   "cell_type": "code",
   "execution_count": 2,
   "metadata": {
    "collapsed": false
   },
   "outputs": [],
   "source": [
    "from datetime import datetime\n",
    "from csv import DictReader\n",
    "from math import exp, log, sqrt\n",
    "import numpy as np\n",
    "import mmh3\n",
    "import time\n",
    "\n",
    "import scipy.stats as stats\n",
    "import matplotlib.pyplot as plt\n",
    "import matplotlib as mpl"
   ]
  },
  {
   "cell_type": "code",
   "execution_count": 3,
   "metadata": {
    "collapsed": true
   },
   "outputs": [],
   "source": [
    "# csv_row must be dict\n",
    "def get_x_mmh3(csv_row, D):\n",
    "    x = [0]\n",
    "    for key, value in csv_row.items():\n",
    "        index = mmh3.hash128(str(key) + str(value), seed=rand_seed, x64arch=True) % D\n",
    "        x.append(index)\n",
    "    return x"
   ]
  },
  {
   "cell_type": "code",
   "execution_count": 4,
   "metadata": {
    "collapsed": true
   },
   "outputs": [],
   "source": [
    "def get_p(x, w):\n",
    "    wTx = 0.\n",
    "    for i in x:  # do wTx\n",
    "        wTx += w[i] * 1.  # w[i] * x[i], but if i in x we got x[i] = 1.\n",
    "    return 1. / (1. + exp(-max(min(wTx, 20.), -20.)))  # bounded sigmoid"
   ]
  },
  {
   "cell_type": "code",
   "execution_count": 5,
   "metadata": {
    "collapsed": true
   },
   "outputs": [],
   "source": [
    "def update_w_withn(w, n, x, p, y):\n",
    "    for i in x:\n",
    "        w[i] -= (p - y) * alpha / (sqrt(n[i]) + 1.)\n",
    "        n[i] += 1.\n",
    "    return w, n"
   ]
  },
  {
   "cell_type": "code",
   "execution_count": 6,
   "metadata": {
    "collapsed": true
   },
   "outputs": [],
   "source": [
    "def update_w(w, n, x, p, y):\n",
    "    for i in x:\n",
    "        w[i] -= (p - y) * alpha\n",
    "        n[i] += 1.\n",
    "    return w, n"
   ]
  },
  {
   "cell_type": "code",
   "execution_count": 7,
   "metadata": {
    "collapsed": true
   },
   "outputs": [],
   "source": [
    "def logloss(p, y):\n",
    "    p = max(min(p, 1. - 10e-12), 10e-12)\n",
    "    return -log(p) if y == 1. else -log(1. - p)"
   ]
  },
  {
   "cell_type": "markdown",
   "metadata": {},
   "source": [
    "###### Start trainning"
   ]
  },
  {
   "cell_type": "code",
   "execution_count": 8,
   "metadata": {
    "collapsed": false
   },
   "outputs": [],
   "source": [
    "#train = r'C:/Temp/titanic/train.csv'\n",
    "#test = r'C:/Temp/titanic/test.csv'\n",
    "train = r'C:/My/Playground/Git/2016_Thesis/100_Simulation/data/train.csv'\n",
    "test = r'C:/My/Playground/Git/2016_Thesis/100_Simulation/data/test.csv'\n",
    "\n",
    "#train = r'E:/PlayGround/Github/2016_thesis/100_Simulation/data/train.csv'\n",
    "#test = r'E:/PlayGround/Github/2016_thesis/100_Simulation/data/test.csv'\n",
    "\n",
    "header = ['PassengerId', 'Survived', 'Pclass', 'Name', 'Sex', 'Age', 'SibSp', 'Parch', 'Ticket', 'Fare', 'Cabin' , 'Embarked']\n",
    "\n",
    "D = 2 ** 10\n",
    "#alpha = 1.# learning rate for sgd optimization\n",
    "alpha = 0.25    # learning rate for sgd optimization\n",
    "\n",
    "w = [0.] * D  # weights\n",
    "n = [0.] * D  # number of times we've encountered a feature\n",
    "\n",
    "rand_seed = 1004"
   ]
  },
  {
   "cell_type": "code",
   "execution_count": 9,
   "metadata": {
    "collapsed": true
   },
   "outputs": [],
   "source": [
    "# Test variables\n",
    "DEBUG = True\n",
    "num_check_point_print = 100\n",
    "num_check_point_log_loss = 1\n",
    "#num_finish_point = 2\n",
    "ts = ''"
   ]
  },
  {
   "cell_type": "code",
   "execution_count": 12,
   "metadata": {
    "collapsed": false,
    "scrolled": true
   },
   "outputs": [
    {
     "name": "stdout",
     "output_type": "stream",
     "text": [
      "2016-05-08 21:59:45.437000\tencountered: 100\t y=0: 0.249879, loss/t:0.525220\n",
      "2016-05-08 21:59:46.594000\tencountered: 200\t y=0: 0.626326, loss/t:0.510985\n",
      "2016-05-08 21:59:47.925000\tencountered: 300\t y=1: 0.717094, loss/t:0.523617\n",
      "2016-05-08 21:59:49.106000\tencountered: 400\t y=1: 0.714368, loss/t:0.497885\n",
      "2016-05-08 21:59:50.046000\tencountered: 500\t y=0: 0.157430, loss/t:0.495172\n",
      "2016-05-08 21:59:50.944000\tencountered: 600\t y=1: 0.478412, loss/t:0.489198\n",
      "2016-05-08 21:59:52.210000\tencountered: 700\t y=0: 0.128704, loss/t:0.483414\n",
      "2016-05-08 21:59:53.163000\tencountered: 800\t y=0: 0.548962, loss/t:0.476448\n",
      "---Total execution time: 8.79800009727 seconds ---\n"
     ]
    }
   ],
   "source": [
    "n = np.array([0.] * (D))\n",
    "log_loss_sgd_training = 0.\n",
    "arr_log_loss_sgd_training = []\n",
    "\n",
    "start_time = time.time()\n",
    "\n",
    "n_iter = 0.\n",
    "with open(train) as tit_file:\n",
    "    tit_raw = DictReader(tit_file, fieldnames=header, delimiter=',');\n",
    "    for t, row in enumerate(tit_raw):\n",
    "        if t != 0: # Skipping header\n",
    "            #print('t: ', t, ' row: ', row) # test\n",
    "            y = 1. if row['Survived'] == '1' else 0.\n",
    "            del row['Survived']\n",
    "            del row['PassengerId']\n",
    "            \n",
    "            x = get_x_mmh3(row, D)\n",
    "\n",
    "            p = get_p(x, w)\n",
    "            \n",
    "            log_loss_sgd_training += logloss(p, y)\n",
    "            \n",
    "            #w, n = update_w(w, n, x, p, y)\n",
    "            w, n = update_w_withn(w, n, x, p, y)\n",
    "\n",
    "            if t % num_check_point_print == 0 and t > 1:\n",
    "                print('%s\\tencountered: %d\\t y=%d: %f, loss/t:%f' % (\n",
    "                    datetime.now(), (t), y, p, log_loss_sgd_training/t))\n",
    "\n",
    "            if t % num_check_point_log_loss == 0 and t > 1:\n",
    "                arr_log_loss_sgd_training.append(get_validation_error(w))\n",
    "            \n",
    "            n_iter += 1.\n",
    "            \n",
    "            if t == 800:\n",
    "                break\n",
    "\n",
    "print(\"---Total execution time: %s seconds ---\" % (time.time() - start_time))"
   ]
  },
  {
   "cell_type": "code",
   "execution_count": 13,
   "metadata": {
    "collapsed": false
   },
   "outputs": [
    {
     "data": {
      "image/png": "[encoded data removed]",
      "text/plain": [
       "<matplotlib.figure.Figure at 0x40e5048>"
      ]
     },
     "metadata": {},
     "output_type": "display_data"
    }
   ],
   "source": [
    "%matplotlib inline\n",
    "\n",
    "\n",
    "def plot_log_loss(arr_log_loss):\n",
    "    x = range(len(arr_log_loss))\n",
    "    plt.plot(x, arr_log_loss, label='log_loss')\n",
    "    \n",
    "plot_log_loss(arr_log_loss_sgd_training)\n"
   ]
  },
  {
   "cell_type": "markdown",
   "metadata": {},
   "source": [
    "\n",
    "###### Validate with test set"
   ]
  },
  {
   "cell_type": "code",
   "execution_count": 222,
   "metadata": {
    "collapsed": false,
    "scrolled": true
   },
   "outputs": [
    {
     "name": "stdout",
     "output_type": "stream",
     "text": [
      "---Total execution time: 0.0230000019073 seconds ---\n",
      "(75.0, 91.0)\n",
      "('Prediction ratio: ', 0.8241758241758241)\n",
      "('log-loss: ', 38.19091681426671)\n"
     ]
    }
   ],
   "source": [
    "start_time = time.time()\n",
    "\n",
    "log_loss_sgd_test = 0.\n",
    "n_iter = 0.\n",
    "n_TP = 0.\n",
    "with open(train) as tit_file:\n",
    "    tit_raw = DictReader(tit_file, fieldnames=header, delimiter=',');\n",
    "    for t, row in enumerate(tit_raw):\n",
    "        if t > 800:\n",
    "            y = 1. if row['Survived'] == '1' else 0.\n",
    "            del row['Survived']\n",
    "            \n",
    "            x = get_x_mmh3(row, D)\n",
    "            \n",
    "            p = get_p(x, w)\n",
    "\n",
    "            log_loss_sgd_test += logloss(p, y)\n",
    "            \n",
    "            if t % 100 == 0 and t > 1:\n",
    "                print('%s\\tencountered: %d\\t y=%d: %f, loss:%f' % (\n",
    "                    datetime.now(), (t), y, p, log_loss_sgd_test/t))\n",
    "            \n",
    "            \n",
    "            n_iter += 1\n",
    "            if y == 1:\n",
    "                if p >= 0.5:\n",
    "                    n_TP += 1.\n",
    "            else:\n",
    "                if p < 0.5:\n",
    "                    n_TP += 1.\n",
    "            \n",
    "print(\"---Total execution time: %s seconds ---\" % (time.time() - start_time))\n",
    "print(n_TP, n_iter)\n",
    "print(\"Prediction ratio: \", n_TP / n_iter)\n",
    "print(\"log-loss: \", log_loss_sgd_test)"
   ]
  },
  {
   "cell_type": "code",
   "execution_count": 223,
   "metadata": {
    "collapsed": false,
    "scrolled": true
   },
   "outputs": [
    {
     "data": {
      "text/plain": [
       "38.19091681426671"
      ]
     },
     "execution_count": 223,
     "metadata": {},
     "output_type": "execute_result"
    }
   ],
   "source": [
    "get_validation_error(w)"
   ]
  },
  {
   "cell_type": "code",
   "execution_count": 11,
   "metadata": {
    "collapsed": true
   },
   "outputs": [],
   "source": [
    "# Validation function\n",
    "def get_validation_error(w):\n",
    "    start_time = time.time()\n",
    "\n",
    "    log_loss = 0.\n",
    "    n_iter = 0.\n",
    "    n_TP = 0.\n",
    "\n",
    "    with open(train) as tit_file:\n",
    "        tit_raw = DictReader(tit_file, fieldnames=header, delimiter=',');\n",
    "        for t, row in enumerate(tit_raw):\n",
    "            if t > 800:\n",
    "                y = 1. if row['Survived'] == '1' else 0.\n",
    "                del row['Survived']\n",
    "\n",
    "                x = get_x_mmh3(row, D)\n",
    "\n",
    "                p = get_p(x, w)\n",
    "\n",
    "                log_loss += logloss(p, y)\n",
    "\n",
    "                n_iter += 1\n",
    "                if y == 1:\n",
    "                    if p >= 0.5:\n",
    "                        n_TP += 1.\n",
    "                else:\n",
    "                    if p < 0.5:\n",
    "                        n_TP += 1.\n",
    "\n",
    "    # print(\"---Total execution time: %s seconds ---\" % (time.time() - start_time))\n",
    "    return(log_loss)\n"
   ]
  },
  {
   "cell_type": "markdown",
   "metadata": {},
   "source": [
    "---"
   ]
  },
  {
   "cell_type": "markdown",
   "metadata": {},
   "source": [
    "### Simulation ADF for titanicdata from v016"
   ]
  },
  {
   "cell_type": "code",
   "execution_count": 225,
   "metadata": {
    "collapsed": false
   },
   "outputs": [],
   "source": [
    "from datetime import datetime\n",
    "from csv import DictReader\n",
    "from math import exp, log, sqrt\n",
    "import numpy as np\n",
    "import mmh3\n",
    "import time\n",
    "from spooky import hash128, hash64, hash32"
   ]
  },
  {
   "cell_type": "code",
   "execution_count": 226,
   "metadata": {
    "collapsed": true
   },
   "outputs": [],
   "source": [
    "# csv_row must be dict\n",
    "def get_x_mmh3(csv_row, D):\n",
    "    x = [0]\n",
    "    for key, value in csv_row.items():\n",
    "        index = mmh3.hash128(str(key) + str(value), seed=rand_seed, x64arch=True) % D\n",
    "        x.append(index)\n",
    "    return x"
   ]
  },
  {
   "cell_type": "code",
   "execution_count": 227,
   "metadata": {
    "collapsed": true
   },
   "outputs": [],
   "source": [
    "# csv_row must be dict\n",
    "def get_x_spooky(csv_row, D):\n",
    "    x = [0]\n",
    "    for key, value in csv_row.items():\n",
    "        index = hash32(str(key) + str(value)) % D\n",
    "        x.append(index)\n",
    "    return x"
   ]
  },
  {
   "cell_type": "code",
   "execution_count": 228,
   "metadata": {
    "collapsed": true
   },
   "outputs": [],
   "source": [
    "# w must be numpy ndarray\n",
    "def get_p_cat(x, w):\n",
    "    wTx = sum(w[x])\n",
    "    return 1. / (1. + exp(-max(min(wTx, 20.), -20.)))  # bounded sigmoid"
   ]
  },
  {
   "cell_type": "code",
   "execution_count": 229,
   "metadata": {
    "collapsed": true
   },
   "outputs": [],
   "source": [
    "# s_t_m_old and s_t_v_old must be numpy ndarray\n",
    "def get_s_t_new(y, s_t_m_old, s_t_v_old):\n",
    "\n",
    "    wi = wwi / np.sqrt(np.pi)\n",
    "    xi = xxi * np.sqrt(2) * np.sqrt(s_t_v_old) + s_t_m_old\n",
    "    \n",
    "    fw = 0.\n",
    "    if(y==1.):\n",
    "        fw = (1. / (1. + np.exp(-xi))) * wi\n",
    "    else:\n",
    "        fw = ((np.exp(-xi)) / (1. + np.exp(-xi))) * wi\n",
    "\n",
    "    z_t = sum(fw)\n",
    "    s_t_m_new = 1. / z_t * sum(xi * fw)\n",
    "    s_t_v_new = 1. / z_t * sum((xi**2) * fw) - s_t_m_new**2\n",
    "        \n",
    "    return (s_t_m_new, s_t_v_new)"
   ]
  },
  {
   "cell_type": "code",
   "execution_count": 230,
   "metadata": {
    "collapsed": true
   },
   "outputs": [],
   "source": [
    "# theta_t_v must be numpy ndarray\n",
    "def get_a_i_cat(x, theta_t_v):\n",
    "    return theta_t_v[x] / sum(theta_t_v[x])"
   ]
  },
  {
   "cell_type": "code",
   "execution_count": 231,
   "metadata": {
    "collapsed": false
   },
   "outputs": [],
   "source": [
    "def update_theta_cat(x, theta_t_m, theta_t_v, delta_m, delta_v, n_iter):\n",
    "    a_i = get_a_i_cat(x, theta_t_v)\n",
    "    theta_t_m[x] += (a_i * delta_m) #92.5\n",
    "    #theta_t_v[x] += ((a_i**2) * delta_v) #+ abs(theta_t_m[x])/min((n_iter+1.), 3000.)\n",
    "    #theta_t_v[x] += ((a_i**2) * delta_v) + np.exp(-abs(theta_t_m[x])) / min((n_iter+10.), 3000.)\n",
    "    theta_t_v[x] += ((a_i**2) * delta_v)\n",
    "    n[x] += 1."
   ]
  },
  {
   "cell_type": "code",
   "execution_count": 232,
   "metadata": {
    "collapsed": true
   },
   "outputs": [],
   "source": [
    "def logloss(p, y):\n",
    "    p = max(min(p, 1. - 10e-12), 10e-12)\n",
    "    return -log(p) if y == 1. else -log(1. - p)"
   ]
  },
  {
   "cell_type": "markdown",
   "metadata": {},
   "source": [
    "**Start trainning**"
   ]
  },
  {
   "cell_type": "code",
   "execution_count": 233,
   "metadata": {
    "collapsed": true
   },
   "outputs": [],
   "source": [
    "#train = r'C:/Temp/titanic/train.csv'\n",
    "#test = r'C:/Temp/titanic/test.csv'\n",
    "train = r'C:/My/Playground/Git/2016_Thesis/100_Simulation/data/train.csv'\n",
    "test = r'C:/My/Playground/Git/2016_Thesis/100_Simulation/data/test.csv'\n",
    "\n",
    "#train = r'E:/PlayGround/Github/2016_thesis/100_Simulation/data/train.csv'\n",
    "#test = r'E:/PlayGround/Github/2016_thesis/100_Simulation/data/test.csv'\n",
    "\n",
    "\n",
    "submission_dir = r'D:/9000_etc/Thesis/data/submission'\n",
    "\n",
    "header = ['PassengerId', 'Survived', 'Pclass', 'Name', 'Sex', 'Age', 'SibSp', 'Parch', 'Ticket', 'Fare', 'Cabin' , 'Embarked']\n",
    "\n",
    "D = 2 ** 10\n",
    "n = np.array([0.] * D)\n",
    "rand_seed = 10"
   ]
  },
  {
   "cell_type": "code",
   "execution_count": 234,
   "metadata": {
    "collapsed": true
   },
   "outputs": [],
   "source": [
    "# Test variables\n",
    "DEBUG = True\n",
    "num_check_point_print = 100\n",
    "num_check_point_log_loss = 1\n",
    "#num_finish_point = 2\n",
    "ts = ''"
   ]
  },
  {
   "cell_type": "code",
   "execution_count": 235,
   "metadata": {
    "collapsed": false
   },
   "outputs": [
    {
     "name": "stdout",
     "output_type": "stream",
     "text": [
      "2016-04-13 23:12:43.842000\tencountered: 100\t y=0: 0.197274, loss/t:0.324269\n",
      "2016-04-13 23:12:44.785000\tencountered: 200\t y=0: 0.630685, loss/t:0.326351\n",
      "2016-04-13 23:12:45.839000\tencountered: 300\t y=1: 0.840230, loss/t:0.350855\n",
      "2016-04-13 23:12:47.231000\tencountered: 400\t y=1: 0.718832, loss/t:0.333785\n",
      "2016-04-13 23:12:48.503000\tencountered: 500\t y=0: 0.085273, loss/t:0.334794\n",
      "2016-04-13 23:12:49.626000\tencountered: 600\t y=1: 0.573845, loss/t:0.336820\n",
      "2016-04-13 23:12:50.647000\tencountered: 700\t y=0: 0.134649, loss/t:0.335525\n",
      "2016-04-13 23:12:51.663000\tencountered: 800\t y=0: 0.464138, loss/t:0.330365\n",
      "---Total execution time: 8.8259999752 seconds ---\n"
     ]
    }
   ],
   "source": [
    "num_poly = 10\n",
    "xxi, wwi = np.polynomial.hermite.hermgauss(num_poly)\n",
    "\n",
    "theta_t_m = np.array([0.] * D) # mean of thetas at t\n",
    "theta_t_v = np.array([.2] * D) # variance of thetas at t\n",
    "n = np.array([0.] * D)\n",
    "\n",
    "log_loss_adf_training = 0.\n",
    "arr_log_loss_adf_training = []\n",
    "\n",
    "\n",
    "start_time = time.time()\n",
    "\n",
    "n_iter = 0.\n",
    "with open(train) as tit_file:\n",
    "    tit_raw = DictReader(tit_file, fieldnames=header, delimiter=',');\n",
    "    for t, row in enumerate(tit_raw):\n",
    "        if t != 0: # Skipping header\n",
    "            #print('t: ', t, ' row: ', row) # test\n",
    "            y = 1. if row['Survived'] == '1' else 0.\n",
    "            del row['Survived']\n",
    "            x = get_x_mmh3(row, D)\n",
    "            #x = get_x_spooky(row, D)\n",
    "\n",
    "            # Predictive distribution for s_t ~ N(s_t_m_old, s_t_v_old)\n",
    "            s_t_m_old = sum(theta_t_m[x])\n",
    "            s_t_v_old = sum(theta_t_v[x])\n",
    "\n",
    "            # Posterior distribution for s_t\n",
    "            s_t_m, s_t_v = get_s_t_new(y, s_t_m_old, s_t_v_old)\n",
    "\n",
    "            # Changes in s_t\n",
    "            delta_m = s_t_m - s_t_m_old\n",
    "            delta_v = s_t_v - s_t_v_old\n",
    "\n",
    "            # Updating theta\n",
    "            update_theta_cat(x, theta_t_m, theta_t_v, delta_m, delta_v, t)\n",
    "\n",
    "            p = get_p_cat(x, theta_t_m)\n",
    "            \n",
    "            log_loss_adf_training += logloss(p, y)\n",
    "            \n",
    "            \n",
    "            if t % num_check_point_print == 0 and t > 1:\n",
    "                print('%s\\tencountered: %d\\t y=%d: %f, loss/t:%f' % (\n",
    "                    datetime.now(), (t), y, p, log_loss_adf_training/t))\n",
    "\n",
    "            if t % num_check_point_log_loss == 0 and t > 1:\n",
    "                arr_log_loss_adf_training.append(get_validation_error(theta_t_m))\n",
    "            \n",
    "            n_iter += 1.\n",
    "            if t == 800:\n",
    "                break\n",
    "\n",
    "print(\"---Total execution time: %s seconds ---\" % (time.time() - start_time))"
   ]
  },
  {
   "cell_type": "code",
   "execution_count": 236,
   "metadata": {
    "collapsed": false,
    "scrolled": false
   },
   "outputs": [
    {
     "data": {
      "image/png": "[encoded data removed]",
      "text/plain": [
       "<matplotlib.figure.Figure at 0x8fee240>"
      ]
     },
     "metadata": {},
     "output_type": "display_data"
    }
   ],
   "source": [
    "plot_log_loss(arr_log_loss_sgd_training)"
   ]
  },
  {
   "cell_type": "code",
   "execution_count": 237,
   "metadata": {
    "collapsed": false
   },
   "outputs": [
    {
     "data": {
      "image/png": "[encoded data removed]",
      "text/plain": [
       "<matplotlib.figure.Figure at 0xa093c88>"
      ]
     },
     "metadata": {},
     "output_type": "display_data"
    }
   ],
   "source": [
    "plot_log_loss(arr_log_loss_adf_training)"
   ]
  },
  {
   "cell_type": "markdown",
   "metadata": {},
   "source": [
    "###### Validate with test set"
   ]
  },
  {
   "cell_type": "code",
   "execution_count": 34,
   "metadata": {
    "collapsed": false
   },
   "outputs": [
    {
     "name": "stdout",
     "output_type": "stream",
     "text": [
      "---Total execution time: 0.0130000114441 seconds ---\n",
      "('Prediction ratio: ', 0.8021978021978022)\n",
      "('log-loss: ', 39.2621445387336)\n"
     ]
    }
   ],
   "source": [
    "start_time = time.time()\n",
    "\n",
    "log_loss_adf_test = 0.\n",
    "n_iter = 0.\n",
    "n_TP = 0.\n",
    "with open(train) as tit_file:\n",
    "    tit_raw = DictReader(tit_file, fieldnames=header, delimiter=',');\n",
    "    for t, row in enumerate(tit_raw):\n",
    "        if t > 800: # Skipping header\n",
    "            y = 1. if row['Survived'] == '1' else 0.\n",
    "            del row['Survived']\n",
    "            x = get_x_mmh3(row, D)\n",
    "            #x = get_x_spooky(row, D)\n",
    "            \n",
    "            p = get_p_cat(x, theta_t_m)\n",
    "\n",
    "            log_loss_adf_test += logloss(p, y)\n",
    "\n",
    "            if t % 100 == 0 and t > 1:\n",
    "                print('%s\\tencountered: %d\\t y=%d: %f, loss:%f' % (\n",
    "                    datetime.now(), (t), y, p, loss/t))\n",
    "            \n",
    "            \n",
    "            n_iter += 1\n",
    "            if y == 1:\n",
    "                if p >= 0.5:\n",
    "                    n_TP += 1.\n",
    "            else:\n",
    "                if p < 0.5:\n",
    "                    n_TP += 1.\n",
    "            \n",
    "            \n",
    "                \n",
    "            \n",
    "print(\"---Total execution time: %s seconds ---\" % (time.time() - start_time))\n",
    "\n",
    "print(\"Prediction ratio: \", n_TP / n_iter)\n",
    "print(\"log-loss: \", log_loss_adf_test)"
   ]
  },
  {
   "cell_type": "code",
   "execution_count": null,
   "metadata": {
    "collapsed": true
   },
   "outputs": [],
   "source": []
  },
  {
   "cell_type": "code",
   "execution_count": null,
   "metadata": {
    "collapsed": true
   },
   "outputs": [],
   "source": []
  },
  {
   "cell_type": "code",
   "execution_count": null,
   "metadata": {
    "collapsed": true
   },
   "outputs": [],
   "source": []
  },
  {
   "cell_type": "code",
   "execution_count": null,
   "metadata": {
    "collapsed": true
   },
   "outputs": [],
   "source": []
  }
 ],
 "metadata": {
  "kernelspec": {
   "display_name": "Python 2",
   "language": "python",
   "name": "python2"
  },
  "language_info": {
   "codemirror_mode": {
    "name": "ipython",
    "version": 2
   },
   "file_extension": ".py",
   "mimetype": "text/x-python",
   "name": "python",
   "nbconvert_exporter": "python",
   "pygments_lexer": "ipython2",
   "version": "2.7.11"
  }
 },
 "nbformat": 4,
 "nbformat_minor": 0
}
