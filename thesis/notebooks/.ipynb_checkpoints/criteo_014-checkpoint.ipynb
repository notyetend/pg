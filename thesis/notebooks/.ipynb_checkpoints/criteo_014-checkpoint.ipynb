{
 "cells": [
  {
   "cell_type": "markdown",
   "metadata": {},
   "source": [
    "v012 : 테스트 데이터 생성 & 로지스틱 회귀\n",
    "\n",
    "v013 : applied tinrtgu's idea to this test dataset\n",
    "\n",
    "v014 : implementing ADF, 구현 완료 했고, 테스트 데이터에 적용해 봄."
   ]
  },
  {
   "cell_type": "markdown",
   "metadata": {},
   "source": [
    "###### I'v made test data and result of logistic regression of this dataset. I'll use this data to check result of further development."
   ]
  },
  {
   "cell_type": "markdown",
   "metadata": {},
   "source": [
    "###### - Creating data structure to generate test data conveniently."
   ]
  },
  {
   "cell_type": "code",
   "execution_count": 245,
   "metadata": {
    "collapsed": false
   },
   "outputs": [],
   "source": [
    "import pandas as pd\n",
    "\n",
    "class Node: \n",
    "    def __init__(self): \n",
    "        self.data = None # Variable to store 'list'\n",
    "        self.length = None # Length of the list\n",
    "        self.next = None # Next node\n",
    "        self.prev = None # Previous Node\n",
    "        self.current_index = None # Index of current value of my list.\n",
    "\n",
    "    def __str__(self): \n",
    "        return str(self.data)\n",
    "    \n",
    "    def get_cur_value(self):\n",
    "        return self.data[self.current_index] # Returns current value of my list.\n",
    "\n",
    "    def increse_index(self):\n",
    "        overflow_flag = False # flag to show if current_index is indicating last value of my list.\n",
    "\n",
    "        if((self.current_index + 1) == self.length): # Check if current_index is indicating the last value of my node.\n",
    "            self.current_index = 0 # Resetting the current_index\n",
    "            overflow_flag = True\n",
    "            if(self.prev is not None):\n",
    "                self.prev.increse_index() # Propagating the overflow to previous node.\n",
    "        else:\n",
    "            self.current_index += 1\n",
    "        \n",
    "        return overflow_flag\n",
    "            \n",
    "    \n",
    "class Linked_list:\n",
    "    \n",
    "    def __init__(self):\n",
    "        self.head_node = None\n",
    "        self.tail_node = None\n",
    "        self.num_node = 0\n",
    "    \n",
    "    def add_first(self, data):\n",
    "        #create a new node\n",
    "        new_node = Node()\n",
    "        new_node.data = data\n",
    "        new_node.length = len(data)\n",
    "        new_node.current_index = 0\n",
    "        \n",
    "        if(self.head_node):\n",
    "            new_node.next = self.head_node\n",
    "            self.head_node.prev = new_node\n",
    "        else:\n",
    "            self.tail_node = new_node\n",
    "            \n",
    "        self.head_node = new_node\n",
    "        Linked_list.num_node += 1\n",
    "    \n",
    "    def add_last(self, data):\n",
    "        #create a new node\n",
    "        new_node = Node()\n",
    "        new_node.data = data\n",
    "        new_node.length = len(data)\n",
    "        new_node.current_index = 0\n",
    "        \n",
    "        if(self.head_node):\n",
    "            new_node.prev = self.tail_node\n",
    "            self.tail_node.next = new_node\n",
    "        else:\n",
    "            self.head_node = new_node\n",
    "            \n",
    "        self.tail_node = new_node\n",
    "        self.num_node += 1\n",
    "        \n",
    "    def list_print(self):\n",
    "        node = self.head_node\n",
    "        while node:\n",
    "            print(node.data)\n",
    "            node = node.next\n",
    "\n",
    "    def get_current_record(self):\n",
    "        node = self.head_node\n",
    "        return_list = []\n",
    "        while node:\n",
    "            return_list = return_list + [node.get_cur_value()]\n",
    "            node = node.next\n",
    "        return return_list\n",
    "    \n",
    "    def get_number_of_total_combination(self):\n",
    "        total = 1\n",
    "        node = self.head_node\n",
    "        while(node):\n",
    "            total *= node.length\n",
    "            node = node.next\n",
    "        return total\n",
    "    \n",
    "    def get_df_one(self, times=1):\n",
    "        stri = [str(i) for i in list(range(1, self.num_node))]\n",
    "        col_names = [\"y\"] + [\"x\" + s for s in stri]\n",
    "\n",
    "        df = pd.DataFrame(columns = col_names)\n",
    "        tot = self.get_number_of_total_combination() * times\n",
    "\n",
    "        for i in range(tot):\n",
    "            record = self.get_current_record()\n",
    "            df = df.append(pd.Series(record, index = col_names), ignore_index=True)\n",
    "            self.tail_node.increse_index()\n",
    "        return df\n"
   ]
  },
  {
   "cell_type": "markdown",
   "metadata": {},
   "source": [
    "Skeleton linked-list having all category values."
   ]
  },
  {
   "cell_type": "code",
   "execution_count": 246,
   "metadata": {
    "collapsed": true
   },
   "outputs": [],
   "source": [
    "l1 = Linked_list()\n",
    "l1.add_last([1, 0])\n",
    "l1.add_last(['a1', 'a2', 'a3'])\n",
    "l1.add_last(['b1', 'b2', 'b3'])"
   ]
  },
  {
   "cell_type": "markdown",
   "metadata": {},
   "source": [
    "Linked-list for $y=0$"
   ]
  },
  {
   "cell_type": "code",
   "execution_count": 247,
   "metadata": {
    "collapsed": true
   },
   "outputs": [],
   "source": [
    "l2 = Linked_list()\n",
    "l2.add_last([0])\n",
    "l2.add_last(['a1', 'a2'])\n",
    "l2.add_last(['b1', 'b2'])"
   ]
  },
  {
   "cell_type": "markdown",
   "metadata": {},
   "source": [
    "Linked-list for $y=1$"
   ]
  },
  {
   "cell_type": "code",
   "execution_count": 248,
   "metadata": {
    "collapsed": false
   },
   "outputs": [],
   "source": [
    "l3 = Linked_list()\n",
    "l3.add_last([1])\n",
    "l3.add_last(['a2', 'a3'])\n",
    "l3.add_last(['b3'])"
   ]
  },
  {
   "cell_type": "markdown",
   "metadata": {},
   "source": [
    "Generating training data from 3 linked-list created earlier."
   ]
  },
  {
   "cell_type": "code",
   "execution_count": 249,
   "metadata": {
    "collapsed": false
   },
   "outputs": [],
   "source": [
    "df1 = l1.get_df_one(1)\n",
    "df2 = l2.get_df_one(10)\n",
    "df3 = l3.get_df_one(20)\n",
    "\n",
    "df_train = df1.append(df2).append(df3)\n",
    "df_train = df_train.reset_index(drop=True)\n",
    "\n",
    "df_train.to_csv('./mycsv.csv')\n",
    "\n",
    "\n",
    "dummy_x1 = pd.get_dummies(df_train['x1'], prefix='x1')\n",
    "dummy_x2 = pd.get_dummies(df_train['x2'], prefix='x2')\n",
    "\n",
    "data_train = df_train[['y']].join(dummy_x1.ix[:,'x1_a2':]).join(dummy_x2.ix[:,'x2_b2':])\n",
    "data_train['intercept'] = 1.0\n",
    "data_train = data_train.reset_index(drop=True)"
   ]
  },
  {
   "cell_type": "markdown",
   "metadata": {},
   "source": [
    "Generating test data from 3 linked-list created earlier with different frequency."
   ]
  },
  {
   "cell_type": "code",
   "execution_count": 250,
   "metadata": {
    "collapsed": true
   },
   "outputs": [],
   "source": [
    "df1_ = l1.get_df_one(1)\n",
    "df2_ = l2.get_df_one(2)\n",
    "df3_ = l3.get_df_one(5)\n",
    "\n",
    "df_test = df1_.append(df2_).append(df3_)\n",
    "df_test = df_test.reset_index(drop=True)\n",
    "\n",
    "dummy_x1_ = pd.get_dummies(df_test['x1'], prefix='x1')\n",
    "dummy_x2_ = pd.get_dummies(df_test['x2'], prefix='x2')\n",
    "\n",
    "data_test = df_test[['y']].join(dummy_x1_.ix[:,'x1_a2':]).join(dummy_x2_.ix[:,'x2_b2':])\n",
    "data_test['intercept'] = 1.0\n",
    "data_test = data_test.reset_index(drop=True)"
   ]
  },
  {
   "cell_type": "markdown",
   "metadata": {},
   "source": [
    "shuffling data "
   ]
  },
  {
   "cell_type": "code",
   "execution_count": 251,
   "metadata": {
    "collapsed": false
   },
   "outputs": [],
   "source": [
    "df_train = df_train.reindex(np.random.permutation(df_train.index))\n",
    "df_train = df_train.reset_index(drop=True)\n",
    "\n",
    "df_test = df_test.reindex(np.random.permutation(df_test.index))\n",
    "df_test = df_test.reset_index(drop=True)"
   ]
  },
  {
   "cell_type": "markdown",
   "metadata": {},
   "source": [
    "Model fitting with logistic regression model"
   ]
  },
  {
   "cell_type": "code",
   "execution_count": 253,
   "metadata": {
    "collapsed": false,
    "scrolled": true
   },
   "outputs": [
    {
     "name": "stdout",
     "output_type": "stream",
     "text": [
      "Optimization terminated successfully.\n",
      "         Current function value: 0.280984\n",
      "         Iterations 7\n",
      "                           Logit Regression Results                           \n",
      "==============================================================================\n",
      "Dep. Variable:                      y   No. Observations:                   98\n",
      "Model:                          Logit   Df Residuals:                       93\n",
      "Method:                           MLE   Df Model:                            4\n",
      "Date:                Mon, 21 Dec 2015   Pseudo R-squ.:                  0.5946\n",
      "Time:                        06:09:18   Log-Likelihood:                -27.536\n",
      "converged:                       True   LL-Null:                       -67.928\n",
      "                                        LLR p-value:                 1.188e-16\n",
      "==============================================================================\n",
      "                 coef    std err          z      P>|z|      [95.0% Conf. Int.]\n",
      "------------------------------------------------------------------------------\n",
      "x1_a2          0.8659      0.927      0.934      0.350        -0.951     2.683\n",
      "x1_a3          2.3049      1.145      2.013      0.044         0.061     4.549\n",
      "x2_b2        1.51e-16      0.900   1.68e-16      1.000        -1.764     1.764\n",
      "x2_b3          4.1810      0.890      4.696      0.000         2.436     5.926\n",
      "intercept     -2.7841      0.915     -3.043      0.002        -4.577    -0.991\n",
      "==============================================================================\n"
     ]
    }
   ],
   "source": [
    "import statsmodels.api as sm\n",
    "\n",
    "logit = sm.Logit(data_train['y'], data_train.ix[:,'x1_a2':])\n",
    "result = logit.fit()\n",
    "print(result.summary())"
   ]
  },
  {
   "cell_type": "markdown",
   "metadata": {},
   "source": [
    "Getting predicted success probability and SSE using training data. "
   ]
  },
  {
   "cell_type": "code",
   "execution_count": 254,
   "metadata": {
    "collapsed": false
   },
   "outputs": [
    {
     "data": {
      "text/plain": [
       "7.4386847041540758"
      ]
     },
     "execution_count": 254,
     "metadata": {},
     "output_type": "execute_result"
    }
   ],
   "source": [
    "predicted = result.predict(data_train.ix[:,'x1_a2':])\n",
    "actual = data_train['y']\n",
    "\n",
    "import numpy as np\n",
    "SSE = sum((np.array(predicted) - np.array(actual))**2)\n",
    "SSE"
   ]
  },
  {
   "cell_type": "markdown",
   "metadata": {},
   "source": [
    "Getting predicted success probability and SSE using test data. "
   ]
  },
  {
   "cell_type": "code",
   "execution_count": 255,
   "metadata": {
    "collapsed": false
   },
   "outputs": [
    {
     "data": {
      "text/plain": [
       "6.9801424285949789"
      ]
     },
     "execution_count": 255,
     "metadata": {},
     "output_type": "execute_result"
    }
   ],
   "source": [
    "predicted = result.predict(data_test.ix[:,'x1_a2':])\n",
    "actual = data_test['y']\n",
    "\n",
    "import numpy as np\n",
    "SSE = sum((np.array(predicted) - np.array(actual))**2)\n",
    "SSE"
   ]
  },
  {
   "cell_type": "markdown",
   "metadata": {},
   "source": [
    "Computing log-loss using test data."
   ]
  },
  {
   "cell_type": "code",
   "execution_count": 256,
   "metadata": {
    "collapsed": false
   },
   "outputs": [
    {
     "data": {
      "text/plain": [
       "22.533914895676304"
      ]
     },
     "execution_count": 256,
     "metadata": {},
     "output_type": "execute_result"
    }
   ],
   "source": [
    "predicted = result.predict(data_test.ix[:,'x1_a2':])\n",
    "actual = data_test['y']\n",
    "\n",
    "from datetime import datetime\n",
    "from csv import DictReader\n",
    "from math import exp, log, sqrt\n",
    "\n",
    "\n",
    "def logloss(p, y):\n",
    "    p = max(min(p, 1. - 10e-12), 10e-12)\n",
    "    return -log(p) if y == 1. else -log(1. - p)\n",
    "\n",
    "loss = 0\n",
    "for i in range(len(actual)):\n",
    "    loss += logloss(predicted[i], actual[i])\n",
    "loss\n"
   ]
  },
  {
   "cell_type": "markdown",
   "metadata": {},
   "source": [
    "----------------------------------------------------------\n"
   ]
  },
  {
   "cell_type": "markdown",
   "metadata": {},
   "source": [
    "**tinrtgu's idea below**"
   ]
  },
  {
   "cell_type": "code",
   "execution_count": 257,
   "metadata": {
    "collapsed": true
   },
   "outputs": [],
   "source": [
    "def get_x_dic(df_train, row_num):\n",
    "    keys = list(df_train.columns.values)\n",
    "    values = list(df_train.ix[row_num])\n",
    "    x_dic = {}\n",
    "    for i in range(len(keys)):\n",
    "        x_dic[keys[i]] = values[i]\n",
    "    return x_dic"
   ]
  },
  {
   "cell_type": "code",
   "execution_count": 258,
   "metadata": {
    "collapsed": false
   },
   "outputs": [],
   "source": [
    "from datetime import datetime\n",
    "from csv import DictReader\n",
    "from math import exp, log, sqrt\n",
    "\n",
    "D = 2 ** 6   # number of weights use for learning\n",
    "alpha = .75    # learning rate for sgd optimization"
   ]
  },
  {
   "cell_type": "code",
   "execution_count": 259,
   "metadata": {
    "collapsed": true
   },
   "outputs": [],
   "source": [
    "def logloss(p, y):\n",
    "    p = max(min(p, 1. - 10e-12), 10e-12)\n",
    "    return -log(p) if y == 1. else -log(1. - p)"
   ]
  },
  {
   "cell_type": "code",
   "execution_count": 260,
   "metadata": {
    "collapsed": true
   },
   "outputs": [],
   "source": [
    "def get_x(csv_row, D):\n",
    "    x = [0]  # 0 is the index of the bias term\n",
    "    for key, value in csv_row.items():\n",
    "        index = int(value + key[1:], 16) % D  # weakest hash ever ;)\n",
    "        x.append(index)\n",
    "    return x  # x contains indices of features that have a value of 1"
   ]
  },
  {
   "cell_type": "code",
   "execution_count": 261,
   "metadata": {
    "collapsed": true
   },
   "outputs": [],
   "source": [
    "def get_p(x, w):\n",
    "    wTx = 0.\n",
    "    for i in x:  # do wTx\n",
    "        wTx += w[i] * 1.  # w[i] * x[i], but if i in x we got x[i] = 1.\n",
    "    return 1. / (1. + exp(-max(min(wTx, 20.), -20.)))  # bounded sigmoid"
   ]
  },
  {
   "cell_type": "code",
   "execution_count": 262,
   "metadata": {
    "collapsed": true
   },
   "outputs": [],
   "source": [
    "def update_w(w, n, x, p, y):\n",
    "    for i in x:\n",
    "        # alpha / (sqrt(n) + 1) is the adaptive learning rate heuristic\n",
    "        # (p - y) * x[i] is the current gradient\n",
    "        # note that in our case, if i in x then x[i] = 1\n",
    "        w[i] -= (p - y) * alpha / (sqrt(n[i]) + 1.)\n",
    "        n[i] += 1.\n",
    "\n",
    "    return w, n"
   ]
  },
  {
   "cell_type": "code",
   "execution_count": 263,
   "metadata": {
    "collapsed": false
   },
   "outputs": [
    {
     "data": {
      "text/plain": [
       "40.00179034218153"
      ]
     },
     "execution_count": 263,
     "metadata": {},
     "output_type": "execute_result"
    }
   ],
   "source": [
    "# initialize our model\n",
    "w = [0.] * D  # weights\n",
    "n = [0.] * D  # number of times we've encountered a feature\n",
    "\n",
    "# start training a logistic regression model using on pass sgd\n",
    "loss = 0.\n",
    "\n",
    "\n",
    "for i in range(len(df_train)):\n",
    "    row = get_x_dic(df_train, i)\n",
    "    \n",
    "    y = 1. if row['y'] == 1 else 0.\n",
    "    del row['y']\n",
    "    \n",
    "    x = get_x(row, D)\n",
    "    \n",
    "    p = get_p(x, w)\n",
    "    \n",
    "    loss += logloss(p, y)\n",
    "    \n",
    "    w, n = update_w(w, n, x, p, y)\n",
    "\n",
    "w\n",
    "\n",
    "loss"
   ]
  },
  {
   "cell_type": "code",
   "execution_count": 264,
   "metadata": {
    "collapsed": false
   },
   "outputs": [
    {
     "name": "stdout",
     "output_type": "stream",
     "text": [
      "{'y': 1.0, 'x2': 'b3', 'x1': 'a2'}\n"
     ]
    },
    {
     "data": {
      "text/plain": [
       "0.7998202849677813"
      ]
     },
     "execution_count": 264,
     "metadata": {},
     "output_type": "execute_result"
    }
   ],
   "source": [
    "row = get_x_dic(df_train, 17)\n",
    "print(row)\n",
    "del row['y']\n",
    "get_p(get_x(row, D), w)"
   ]
  },
  {
   "cell_type": "code",
   "execution_count": 265,
   "metadata": {
    "collapsed": false
   },
   "outputs": [
    {
     "data": {
      "text/plain": [
       "[-0.03292592010339132,\n",
       " 0.0,\n",
       " 0.0,\n",
       " 0.0,\n",
       " 0.0,\n",
       " 0.0,\n",
       " 0.0,\n",
       " 0.0,\n",
       " 0.0,\n",
       " 0.0,\n",
       " 0.0,\n",
       " 0.0,\n",
       " 0.0,\n",
       " 0.0,\n",
       " 0.0,\n",
       " 0.0,\n",
       " 0.0,\n",
       " -0.9854622552791124,\n",
       " -1.0967037202181846,\n",
       " 0.0,\n",
       " 0.0,\n",
       " 0.0,\n",
       " 0.0,\n",
       " 0.0,\n",
       " 0.0,\n",
       " 0.0,\n",
       " 0.0,\n",
       " 0.0,\n",
       " 0.0,\n",
       " 0.0,\n",
       " 0.0,\n",
       " 0.0,\n",
       " 0.0,\n",
       " -0.06476165708065112,\n",
       " -0.8940699680032159,\n",
       " 0.0,\n",
       " 0.0,\n",
       " 0.0,\n",
       " 0.0,\n",
       " 0.0,\n",
       " 0.0,\n",
       " 0.0,\n",
       " 0.0,\n",
       " 0.0,\n",
       " 0.0,\n",
       " 0.0,\n",
       " 0.0,\n",
       " 0.0,\n",
       " 0.0,\n",
       " 0.8619503201735897,\n",
       " 1.4828590975933464,\n",
       " 0.0,\n",
       " 0.0,\n",
       " 0.0,\n",
       " 0.0,\n",
       " 0.0,\n",
       " 0.0,\n",
       " 0.0,\n",
       " 0.0,\n",
       " 0.0,\n",
       " 0.0,\n",
       " 0.0,\n",
       " 0.0,\n",
       " 0.0]"
      ]
     },
     "execution_count": 265,
     "metadata": {},
     "output_type": "execute_result"
    }
   ],
   "source": [
    "loss = 0.\n",
    "for i in range(len(df_test)):\n",
    "    row = get_x_dic(df_test, i)\n",
    "    \n",
    "    y = 1. if row['y'] == 1 else 0.\n",
    "    del row['y']\n",
    "    \n",
    "    x = get_x(row, D)\n",
    "    p = get_p(x, w)\n",
    "    \n",
    "    loss += logloss(p, y)\n",
    "    \n",
    "loss\n",
    "\n",
    "w"
   ]
  },
  {
   "cell_type": "markdown",
   "metadata": {
    "collapsed": true
   },
   "source": []
  },
  {
   "cell_type": "markdown",
   "metadata": {},
   "source": [
    "--------"
   ]
  },
  {
   "cell_type": "markdown",
   "metadata": {},
   "source": [
    "### **We will implement ADF for online learning based on tinrtgu's code.**"
   ]
  },
  {
   "cell_type": "code",
   "execution_count": 266,
   "metadata": {
    "collapsed": true
   },
   "outputs": [],
   "source": [
    "# Function getting dictinary of each row.\n",
    "#\n",
    "# Input : whole data-frame, row number (0~)\n",
    "# Output : Dictinary containing data of indicated row.\n",
    "\n",
    "def get_x_dic(df_train, row_num):\n",
    "    keys = list(df_train.columns.values)\n",
    "    values = list(df_train.ix[row_num])\n",
    "    x_dic = {}\n",
    "    for i in range(len(keys)):\n",
    "        x_dic[keys[i]] = values[i]\n",
    "    return x_dic"
   ]
  },
  {
   "cell_type": "code",
   "execution_count": 267,
   "metadata": {
    "collapsed": false
   },
   "outputs": [],
   "source": [
    "from datetime import datetime\n",
    "from csv import DictReader\n",
    "from math import exp, log, sqrt\n",
    "\n",
    "D = 2 ** 6   # number of weights use for learning\n"
   ]
  },
  {
   "cell_type": "code",
   "execution_count": 268,
   "metadata": {
    "collapsed": true
   },
   "outputs": [],
   "source": [
    "def logloss(p, y):\n",
    "    p = max(min(p, 1. - 10e-12), 10e-12)\n",
    "    return -log(p) if y == 1. else -log(1. - p)"
   ]
  },
  {
   "cell_type": "code",
   "execution_count": 269,
   "metadata": {
    "collapsed": true
   },
   "outputs": [],
   "source": [
    "def get_x(csv_row, D):\n",
    "    x = [0]  # 0 is the index of the bias term\n",
    "    for key, value in csv_row.items():\n",
    "        index = int(value + key[1:], 16) % D  # weakest hash ever ;)\n",
    "        x.append(index)\n",
    "    return x  # x contains indices of features that have a value of 1"
   ]
  },
  {
   "cell_type": "markdown",
   "metadata": {},
   "source": [
    "**1. Posterior distribution of** $s_t$, $q_t(s_t)$\n",
    "$$\n",
    "\\begin{align}\n",
    "q_t(s_t) &= N(s_t; \\tilde{m}_t, \\tilde{v}_t)\n",
    "\\\\ \\tilde{m}_t &= \\frac{1}{\\tilde{z}_t} \\sum_i \\chi_i f(y_t; \\chi_i ) \\omega_i\n",
    "\\\\ \\tilde{v}_t &= \\frac{1}{\\tilde{z}_t} \\sum_i \\chi^2_i f(y_t; \\chi_i ) \\omega_i - \\tilde{m}^2_t\n",
    "\\\\ \\tilde{z}_t &= \\sum_i f(y_t; \\chi_i ) \\omega_i\n",
    "\\\\ f(y_t;\\chi_i) &= \\left(\\frac{1}{1+exp(-\\chi_i)}\\right)^{y_t} \\left(\\frac{exp(-\\chi_i)}{1+exp(-\\chi_i)}\\right)^{(1-y_t)} \\quad \\mathrm{for}  \\ \\ y_t \\in \\{0,1\\}\n",
    "\\end{align}\n",
    "$$\n"
   ]
  },
  {
   "cell_type": "code",
   "execution_count": 270,
   "metadata": {
    "collapsed": false
   },
   "outputs": [
    {
     "data": {
      "text/plain": [
       "(9.1391008032878407, 32.818990324048841)"
      ]
     },
     "execution_count": 270,
     "metadata": {},
     "output_type": "execute_result"
    }
   ],
   "source": [
    "import numpy as np\n",
    "\n",
    "n = 10\n",
    "xxi, wwi = np.polynomial.hermite.hermgauss(n)\n",
    "\n",
    "# Function getting updated distribution of s_t\n",
    "# Input: \n",
    "# Output: \n",
    "def get_s_t_new(y, s_t_m_old, s_t_v_old):\n",
    "\n",
    "    #s_t_old = 1. # mean of sum node at t-1\n",
    "    #s_v_old = 10 # variance of sum node at t-1\n",
    "\n",
    "    wi = wwi / np.sqrt(np.pi)\n",
    "    xi = xxi * np.sqrt(2) * np.sqrt(s_t_v_old) + s_t_m_old\n",
    "\n",
    "    \n",
    "    fw = 0\n",
    "    if(y==1):\n",
    "        fw = (1 / (1 + np.exp(-xi))) * wi\n",
    "    elif(y==0):\n",
    "        fw = ((np.exp(-xi)) / (1 + np.exp(-xi))) * wi\n",
    "    else:\n",
    "        print(\"error, y has wroing value\")\n",
    "    #fw = (1 / (1 + np.exp(-xi))) * wi\n",
    "    \n",
    "    z_t = sum(fw)\n",
    "\n",
    "    s_t_m_new = 1/z_t * sum(xi * fw)\n",
    "    \n",
    "    s_t_v_new = 1/z_t * sum((xi**2) * fw) - s_t_m_new**2\n",
    "        \n",
    "    return (s_t_m_new, s_t_v_new)\n",
    "\n",
    "y = 1\n",
    "s_t_m_old = 1\n",
    "s_t_v_old = 100\n",
    "s_t_m_new, s_t_v_new = get_s_t_new(y, s_t_m_old, s_t_v_old)\n",
    "\n",
    "s_t_m_new, s_t_v_new"
   ]
  },
  {
   "cell_type": "markdown",
   "metadata": {},
   "source": [
    "**2. Approximated posterior distribution of** $\\theta$\n",
    "\n",
    "First, we can define $\\delta_{\\mu}$ and $\\delta_{\\sigma^2}$ as change in $m_t$ and $m_t$ after updating the distribution of $s_t$.\n",
    "$$m_t = m_{t|t-1} + \\delta_{m}$$\n",
    "$$v_t = v_{t|t-1} + \\delta_{v}$$\n",
    "\n",
    "Using these $\\delta$, parameters of factored posterior distribution can be demonstrated to be as follows:\n",
    "\n",
    "$$\n",
    "\\begin{align}\n",
    "   q(\\theta_t,i) &\\sim N(\\theta_{t,i};\\mu_{t,i}, \\sigma^2_{t,i})\n",
    "\\\\ \\mu_{t,i} &= \\mu_{t|t-1,i} + a_i \\delta_m\n",
    "\\\\ \\sigma^2_{t,i} &= \\sigma^2_{t|t-1,i} + a^2_i \\delta_v\n",
    "\\\\ a_i &\\triangleq \\frac{x_{t,i}\\sigma^2_{t|t-1,i}}{\\sum_j x^2_{t,j}\\sigma^2_{t|t-1,i}}\n",
    "\\end{align}\n",
    "$$\n",
    "\n",
    "($\\triangleq$: equal by definition.)\n"
   ]
  },
  {
   "cell_type": "code",
   "execution_count": 271,
   "metadata": {
    "collapsed": false
   },
   "outputs": [
    {
     "data": {
      "text/plain": [
       "(8.1391008032878407, -67.181009675951159)"
      ]
     },
     "execution_count": 271,
     "metadata": {},
     "output_type": "execute_result"
    }
   ],
   "source": [
    "delta_m = s_t_m_new - s_t_m_old\n",
    "delta_v = s_t_v_new - s_t_v_old\n",
    "\n",
    "delta_m, delta_v"
   ]
  },
  {
   "cell_type": "code",
   "execution_count": 316,
   "metadata": {
    "collapsed": false
   },
   "outputs": [],
   "source": [
    "# We are using all categorical variables, and all of them 0 or 1, so we need only update mu, sigma of theta whose x value is 1.\n",
    "\n",
    "def get_a_i(x, theta_t_v):\n",
    "    return theta_t_v[x] / sum(theta_t_v[x]**2)\n",
    "    #return theta_t_v[x] / sum(theta_t_v[x])\n",
    "    #return theta_t_v[x] / sum(theta_t_v)\n",
    "    \n",
    "    \n",
    "theta_t_v = np.array([1, 2, 3, 4, 5, 6])\n",
    "x = [0, 1]\n",
    "\n",
    "a_i = get_a_i(x, theta_t_v)\n"
   ]
  },
  {
   "cell_type": "code",
   "execution_count": 317,
   "metadata": {
    "collapsed": false,
    "scrolled": true
   },
   "outputs": [
    {
     "data": {
      "text/plain": [
       "array([ 0.00018131,  0.00018131,  0.        ,  0.        ,  0.        ,\n",
       "        0.        ,  0.        ,  0.        ,  0.        ,  0.        ,\n",
       "        0.        ,  0.        ,  0.        ,  0.        ,  0.        ,\n",
       "        0.        ,  0.        ,  0.        ,  0.        ,  0.        ,\n",
       "        0.        ,  0.        ,  0.        ,  0.        ,  0.        ,\n",
       "        0.        ,  0.        ,  0.        ,  0.        ,  0.        ,\n",
       "        0.        ,  0.        ,  0.        ,  0.        ,  0.        ,\n",
       "        0.        ,  0.        ,  0.        ,  0.        ,  0.        ,\n",
       "        0.        ,  0.        ,  0.        ,  0.        ,  0.        ,\n",
       "        0.        ,  0.        ,  0.        ,  0.        ,  0.        ,\n",
       "        0.        ,  0.        ,  0.        ,  0.        ,  0.        ,\n",
       "        0.        ,  0.        ,  0.        ,  0.        ,  0.        ,\n",
       "        0.        ,  0.        ,  0.        ,  0.        ])"
      ]
     },
     "execution_count": 317,
     "metadata": {},
     "output_type": "execute_result"
    }
   ],
   "source": [
    "theta_t_m = np.array([0.] * D) # mean of thetas at t\n",
    "theta_t_v = np.array([100.] * D) # std of thetas at t\n",
    "\n",
    "def update_theta(x, theta_t_m, theta_t_v, delta_m, delta_v):\n",
    "    a_i = get_a_i(x, theta_t_v)\n",
    "    theta_t_m[x] += (a_i * delta_m)\n",
    "    theta_t_v[x] += ((a_i**2) * delta_v)\n",
    "\n",
    "x = [0, 1]\n",
    "a_i = get_a_i(x, theta_t_v)\n",
    "update_theta(x, theta_t_m, theta_t_v, delta_m, delta_v)\n",
    "theta_t_m\n",
    "\n"
   ]
  },
  {
   "cell_type": "code",
   "execution_count": 336,
   "metadata": {
    "collapsed": false,
    "scrolled": true
   },
   "outputs": [
    {
     "name": "stdout",
     "output_type": "stream",
     "text": [
      "0 (m: 45.5664222964 ), (v: -2076.2988409 )\n",
      "1 (m: -45.5664170404 ), (v: -2076.2983619 )\n",
      "2 (m: 45.5664187924 ), (v: -2076.29852156 )\n",
      "3 (m: 45.5664117843 ), (v: -2076.29788289 )\n",
      "4 (m: -45.5664100323 ), (v: -2076.29772323 )\n",
      "5 (m: 45.5664082802 ), (v: -2076.29756356 )\n",
      "6 (m: 45.5663995201 ), (v: -2076.29676522 )\n",
      "7 (m: 45.56639952 ), (v: -2076.29676522 )\n",
      "8 (m: -45.566397768 ), (v: -2076.29660556 )\n",
      "9 (m: 45.5663872558 ), (v: -2076.29564755 )\n",
      "10 (m: -45.5664012721 ), (v: -2076.29692489 )\n",
      "11 (m: -45.566397768 ), (v: -2076.29660555 )\n",
      "12 (m: -45.5663784957 ), (v: -2076.29484922 )\n",
      "13 (m: -45.5663802477 ), (v: -2076.29500888 )\n",
      "14 (m: -45.5663872558 ), (v: -2076.29564755 )\n",
      "15 (m: 45.5663679835 ), (v: -2076.29389121 )\n",
      "16 (m: -45.5663837518 ), (v: -2076.29532822 )\n",
      "17 (m: 45.5663609754 ), (v: -2076.29325254 )\n",
      "18 (m: 45.5663557193 ), (v: -2076.29277354 )\n",
      "19 (m: -45.5663732396 ), (v: -2076.29437021 )\n",
      "20 (m: -45.5663679835 ), (v: -2076.29389121 )\n",
      "21 (m: -45.5663679835 ), (v: -2076.29389121 )\n",
      "22 (m: -45.5663627274 ), (v: -2076.2934122 )\n",
      "23 (m: 45.5663487112 ), (v: -2076.29213487 )\n",
      "24 (m: -45.5663557192 ), (v: -2076.29277353 )\n",
      "25 (m: -45.566341703 ), (v: -2076.2914962 )\n",
      "26 (m: 45.5663557193 ), (v: -2076.29277354 )\n",
      "27 (m: -45.5663417029 ), (v: -2076.29149619 )\n",
      "28 (m: 45.5663487112 ), (v: -2076.29213487 )\n",
      "29 (m: -45.5663346949 ), (v: -2076.29085753 )\n",
      "30 (m: 45.5663241827 ), (v: -2076.28989952 )\n",
      "31 (m: 45.5663381989 ), (v: -2076.29117686 )\n",
      "32 (m: 45.5663329428 ), (v: -2076.29069786 )\n",
      "33 (m: -45.5663224307 ), (v: -2076.28973986 )\n",
      "34 (m: 45.5663259347 ), (v: -2076.29005919 )\n",
      "35 (m: -45.5663276867 ), (v: -2076.29021886 )\n",
      "36 (m: -45.5663206786 ), (v: -2076.28958018 )\n",
      "37 (m: 45.5663171745 ), (v: -2076.28926085 )\n",
      "38 (m: -45.5663084144 ), (v: -2076.28846252 )\n",
      "39 (m: -45.5663136704 ), (v: -2076.28894151 )\n",
      "40 (m: -45.5662996542 ), (v: -2076.28766418 )\n",
      "41 (m: 45.566289142 ), (v: -2076.28670617 )\n",
      "42 (m: -45.566290894 ), (v: -2076.28686584 )\n",
      "43 (m: -45.5663031582 ), (v: -2076.28798351 )\n",
      "44 (m: 45.5662996542 ), (v: -2076.28766418 )\n",
      "45 (m: -45.5663014062 ), (v: -2076.28782384 )\n",
      "46 (m: 45.5662733737 ), (v: -2076.28526916 )\n",
      "47 (m: -45.566292646 ), (v: -2076.2870255 )\n",
      "48 (m: 45.5662663655 ), (v: -2076.28463049 )\n",
      "49 (m: 45.5662611093 ), (v: -2076.28415149 )\n",
      "50 (m: 45.5662786297 ), (v: -2076.28574816 )\n",
      "51 (m: -45.5662803817 ), (v: -2076.28590783 )\n",
      "52 (m: -45.5662646134 ), (v: -2076.28447082 )\n",
      "53 (m: -45.5662628614 ), (v: -2076.28431116 )\n",
      "54 (m: -45.5662698694 ), (v: -2076.28494982 )\n",
      "55 (m: -45.5662523491 ), (v: -2076.28335315 )\n",
      "56 (m: 45.5662383328 ), (v: -2076.28207581 )\n",
      "57 (m: 45.5662593573 ), (v: -2076.28399182 )\n",
      "58 (m: 45.5662295726 ), (v: -2076.28127746 )\n",
      "59 (m: -45.5662611093 ), (v: -2076.28415148 )\n",
      "60 (m: -45.5662558531 ), (v: -2076.28367248 )\n",
      "61 (m: 45.5662208124 ), (v: -2076.28047913 )\n",
      "62 (m: -45.5662611094 ), (v: -2076.28415149 )\n",
      "63 (m: 45.5662138042 ), (v: -2076.27984045 )\n",
      "64 (m: 45.5662435891 ), (v: -2076.28255481 )\n",
      "65 (m: -45.5662225644 ), (v: -2076.28063879 )\n",
      "66 (m: 45.5662330766 ), (v: -2076.2815968 )\n",
      "67 (m: -45.5662365807 ), (v: -2076.28191614 )\n",
      "68 (m: -45.5662155563 ), (v: -2076.28000013 )\n",
      "69 (m: -45.5662103001 ), (v: -2076.27952112 )\n",
      "70 (m: -45.566205044 ), (v: -2076.27904211 )\n",
      "71 (m: -45.5662243164 ), (v: -2076.28079846 )\n",
      "72 (m: 45.5661857715 ), (v: -2076.27728577 )\n",
      "73 (m: 45.5661805154 ), (v: -2076.27680676 )\n",
      "74 (m: -45.5661910276 ), (v: -2076.27776476 )\n",
      "75 (m: 45.5661717551 ), (v: -2076.27600842 )\n",
      "76 (m: 45.566206796 ), (v: -2076.27920178 )\n",
      "77 (m: -45.5661840195 ), (v: -2076.2771261 )\n",
      "78 (m: 45.5661997878 ), (v: -2076.27856311 )\n",
      "79 (m: -45.5661752592 ), (v: -2076.27632775 )\n",
      "80 (m: 45.5662103002 ), (v: -2076.27952112 )\n",
      "81 (m: 45.5661507305 ), (v: -2076.2740924 )\n",
      "82 (m: 45.5661857714 ), (v: -2076.27728576 )\n",
      "83 (m: 45.5661805152 ), (v: -2076.27680675 )\n",
      "84 (m: 45.5661384661 ), (v: -2076.27297472 )\n",
      "85 (m: -45.5661612429 ), (v: -2076.27505042 )\n",
      "86 (m: 45.566191028 ), (v: -2076.27776479 )\n",
      "87 (m: 45.5661279538 ), (v: -2076.27201671 )\n",
      "88 (m: -45.5661472264 ), (v: -2076.27377306 )\n",
      "89 (m: 45.5661559868 ), (v: -2076.27457141 )\n",
      "90 (m: -45.5661437224 ), (v: -2076.27345373 )\n",
      "91 (m: -45.5661577389 ), (v: -2076.27473108 )\n",
      "92 (m: -45.5661735072 ), (v: -2076.2761681 )\n",
      "93 (m: 45.5661507304 ), (v: -2076.27409239 )\n",
      "94 (m: 45.5661454742 ), (v: -2076.27361339 )\n",
      "95 (m: 45.566140218 ), (v: -2076.27313438 )\n",
      "96 (m: 45.5661349618 ), (v: -2076.27265537 )\n",
      "97 (m: 45.5661297056 ), (v: -2076.27217636 )\n"
     ]
    }
   ],
   "source": [
    "# initialize our model\n",
    "theta = [0.] * D  # weights\n",
    "\n",
    "theta_t_m = np.array([0.] * D) # mean of thetas at t\n",
    "theta_t_v = np.array([100.] * D) # variance of thetas at t\n",
    "s_t_m = 0. # mean of sum node at t\n",
    "s_t_v = 100 # variance of sum node at t\n",
    "#y = 1 #added for test\n",
    "\n",
    "for i in range(len(df_train)):\n",
    "    row = get_x_dic(df_train, i)\n",
    "    #y_old = y #added for test\n",
    "    y = 1. if row['y'] == 1 else 0.\n",
    "    del row['y']\n",
    "    x = get_x(row, D)\n",
    "    \n",
    "    #s_t_m_old, s_t_v_old = s_t_m, s_t_v\n",
    "    #s_t_m, s_t_v = get_s_t_new(y, s_t_m_old, s_t_v_old)\n",
    "\n",
    "    #if(i==0):\n",
    "    #    s_t_m_old = 0. # mean of sum node at t\n",
    "    #    s_t_v_old = 10 # variance of sum node at t\n",
    "    #    s_t_m, s_t_v = get_s_t_new(y, s_t_m_old, s_t_v_old)\n",
    "    #else:\n",
    "    #    s_t_m_old = sum(theta_t_m[x]) # mean of sum node at t\n",
    "    #    s_t_v_old = sum(theta_t_v[x]) # variance of sum node at t\n",
    "    #    s_t_m, s_t_v = get_s_t_new(y, s_t_m_old, s_t_v_old)\n",
    "        \n",
    "    s_t_m_old = sum(theta_t_m[x]) # mean of sum node at t\n",
    "    s_t_v_old = sum(theta_t_v[x]) # variance of sum node at t\n",
    "    s_t_m, s_t_v = get_s_t_new(y, s_t_m_old, s_t_v_old)\n",
    "    \n",
    "    delta_m = s_t_m - s_t_m_old\n",
    "    delta_v = s_t_v - s_t_v_old\n",
    "    print(i, '(m:', delta_m, '), (v:', delta_v, ')')\n",
    "    \n",
    "    update_theta(x, theta_t_m, theta_t_v, delta_m, delta_v)\n",
    "    \n",
    "    #print(x)"
   ]
  },
  {
   "cell_type": "code",
   "execution_count": 337,
   "metadata": {
    "collapsed": false,
    "scrolled": true
   },
   "outputs": [
    {
     "data": {
      "text/plain": [
       "(46.43189728671733, 923.68929663301333)"
      ]
     },
     "execution_count": 337,
     "metadata": {},
     "output_type": "execute_result"
    }
   ],
   "source": [
    "s_t_m, s_t_v"
   ]
  },
  {
   "cell_type": "code",
   "execution_count": 338,
   "metadata": {
    "collapsed": false
   },
   "outputs": [
    {
     "data": {
      "text/plain": [
       "(46.43189728671733, 923.68929663301333)"
      ]
     },
     "execution_count": 338,
     "metadata": {},
     "output_type": "execute_result"
    }
   ],
   "source": [
    "s_t_m, s_t_v"
   ]
  },
  {
   "cell_type": "code",
   "execution_count": 339,
   "metadata": {
    "collapsed": false
   },
   "outputs": [
    {
     "data": {
      "text/plain": [
       "[1.2439454676396733e-07,\n",
       " 0.0,\n",
       " 0.0,\n",
       " 0.0,\n",
       " 0.0,\n",
       " 0.0,\n",
       " 0.0,\n",
       " 0.0,\n",
       " 0.0,\n",
       " 0.0,\n",
       " 0.0,\n",
       " 0.0,\n",
       " 0.0,\n",
       " 0.0,\n",
       " 0.0,\n",
       " 0.0,\n",
       " 0.0,\n",
       " -0.3037772524208277,\n",
       " -0.3037778726471284,\n",
       " 0.0,\n",
       " 0.0,\n",
       " 0.0,\n",
       " 0.0,\n",
       " 0.0,\n",
       " 0.0,\n",
       " 0.0,\n",
       " 0.0,\n",
       " 0.0,\n",
       " 0.0,\n",
       " 0.0,\n",
       " 0.0,\n",
       " 0.0,\n",
       " 0.0,\n",
       " 9.111118115176509e-08,\n",
       " -0.30377794272828174,\n",
       " 0.0,\n",
       " 0.0,\n",
       " 0.0,\n",
       " 0.0,\n",
       " 0.0,\n",
       " 0.0,\n",
       " 0.0,\n",
       " 0.0,\n",
       " 0.0,\n",
       " 0.0,\n",
       " 0.0,\n",
       " 0.0,\n",
       " 0.0,\n",
       " 0.0,\n",
       " 0.30377847710319555,\n",
       " 0.6075556944777274,\n",
       " 0.0,\n",
       " 0.0,\n",
       " 0.0,\n",
       " 0.0,\n",
       " 0.0,\n",
       " 0.0,\n",
       " 0.0,\n",
       " 0.0,\n",
       " 0.0,\n",
       " 0.0,\n",
       " 0.0,\n",
       " 0.0,\n",
       " 0.0]"
      ]
     },
     "execution_count": 339,
     "metadata": {},
     "output_type": "execute_result"
    }
   ],
   "source": [
    "theta_t_m.tolist()"
   ]
  },
  {
   "cell_type": "code",
   "execution_count": 340,
   "metadata": {
    "collapsed": false,
    "scrolled": true
   },
   "outputs": [
    {
     "name": "stdout",
     "output_type": "stream",
     "text": [
      "{'y': 1.0, 'x2': 'b2', 'x1': 'a2'}\n",
      "0.42463424710316644\n",
      "[ 0.05819216]\n",
      "-----------------\n",
      "{'y': 0.0, 'x2': 'b2', 'x1': 'a2'}\n",
      "0.42463424710316644\n",
      "[ 0.05819216]\n",
      "-----------------\n",
      "{'y': 1.0, 'x2': 'b3', 'x1': 'a3'}\n",
      "0.7132731233621898\n",
      "[ 0.80169413]\n",
      "-----------------\n",
      "{'y': 1.0, 'x2': 'b3', 'x1': 'a2'}\n",
      "0.6473830707188047\n",
      "[ 0.12806455]\n",
      "-----------------\n",
      "{'y': 0.0, 'x2': 'b1', 'x1': 'a2'}\n",
      "0.4246342642253942\n",
      "[ 0.12806455]\n",
      "-----------------\n",
      "{'y': 1.0, 'x2': 'b3', 'x1': 'a3'}\n",
      "0.7132731233621898\n",
      "[ 0.90574776]\n",
      "-----------------\n",
      "{'y': 1.0, 'x2': 'b3', 'x1': 'a2'}\n",
      "0.6473830707188047\n",
      "[ 0.38245974]\n",
      "-----------------\n",
      "{'y': 1.0, 'x2': 'b3', 'x1': 'a3'}\n",
      "0.7132731233621898\n",
      "[ 0.38245974]\n",
      "-----------------\n",
      "{'y': 0.0, 'x2': 'b1', 'x1': 'a2'}\n",
      "0.4246342642253942\n",
      "[ 0.97591641]\n",
      "-----------------\n",
      "{'y': 1.0, 'x2': 'b3', 'x1': 'a2'}\n",
      "0.6473830707188047\n",
      "[ 0.05819216]\n",
      "-----------------\n",
      "{'y': 0.0, 'x2': 'b2', 'x1': 'a1'}\n",
      "0.35261712085890545\n",
      "[ 0.05819216]\n",
      "-----------------\n",
      "{'y': 0.0, 'x2': 'b1', 'x1': 'a1'}\n",
      "0.35261713685691126\n",
      "[ 0.80169413]\n",
      "-----------------\n",
      "{'y': 0.0, 'x2': 'b3', 'x1': 'a2'}\n",
      "0.6473830707188047\n",
      "[ 0.12806455]\n",
      "-----------------\n",
      "{'y': 0.0, 'x2': 'b1', 'x1': 'a2'}\n",
      "0.4246342642253942\n",
      "[ 0.12806455]\n",
      "-----------------\n",
      "{'y': 0.0, 'x2': 'b1', 'x1': 'a1'}\n",
      "0.35261713685691126\n",
      "[ 0.90574776]\n",
      "-----------------\n",
      "{'y': 1.0, 'x2': 'b3', 'x1': 'a2'}\n",
      "0.6473830707188047\n",
      "[ 0.38245974]\n",
      "-----------------\n",
      "{'y': 0.0, 'x2': 'b2', 'x1': 'a1'}\n",
      "0.35261712085890545\n",
      "[ 0.38245974]\n",
      "-----------------\n",
      "{'y': 1.0, 'x2': 'b3', 'x1': 'a2'}\n",
      "0.6473830707188047\n",
      "[ 0.97591641]\n",
      "-----------------\n",
      "{'y': 1.0, 'x2': 'b3', 'x1': 'a2'}\n",
      "0.6473830707188047\n",
      "[ 0.05819216]\n",
      "-----------------\n",
      "{'y': 0.0, 'x2': 'b1', 'x1': 'a1'}\n",
      "0.35261713685691126\n",
      "[ 0.05819216]\n",
      "-----------------\n",
      "{'y': 0.0, 'x2': 'b1', 'x1': 'a1'}\n",
      "0.35261713685691126\n",
      "[ 0.12806455]\n",
      "-----------------\n",
      "{'y': 0.0, 'x2': 'b2', 'x1': 'a1'}\n",
      "0.35261712085890545\n",
      "[ 0.12806455]\n",
      "-----------------\n",
      "{'y': 0.0, 'x2': 'b2', 'x1': 'a1'}\n",
      "0.35261712085890545\n",
      "[ 0.05819216]\n",
      "-----------------\n",
      "{'y': 1.0, 'x2': 'b1', 'x1': 'a2'}\n",
      "0.4246342642253942\n",
      "[ 0.05819216]\n",
      "-----------------\n",
      "{'y': 0.0, 'x2': 'b2', 'x1': 'a1'}\n",
      "0.35261712085890545\n",
      "[ 0.12806455]\n",
      "-----------------\n",
      "{'y': 0.0, 'x2': 'b1', 'x1': 'a2'}\n",
      "0.4246342642253942\n",
      "[ 0.12806455]\n",
      "-----------------\n",
      "{'y': 1.0, 'x2': 'b1', 'x1': 'a3'}\n",
      "0.5000001822126535\n",
      "[ 0.05819216]\n",
      "-----------------\n",
      "{'y': 0.0, 'x2': 'b1', 'x1': 'a1'}\n",
      "0.35261713685691126\n",
      "[ 0.05819216]\n",
      "-----------------\n",
      "{'y': 1.0, 'x2': 'b3', 'x1': 'a3'}\n",
      "0.7132731233621898\n",
      "[ 0.12806455]\n",
      "-----------------\n",
      "{'y': 0.0, 'x2': 'b2', 'x1': 'a2'}\n",
      "0.42463424710316644\n",
      "[ 0.12806455]\n",
      "-----------------\n",
      "{'y': 1.0, 'x2': 'b3', 'x1': 'a2'}\n",
      "0.6473830707188047\n",
      "[ 0.05819216]\n",
      "-----------------\n",
      "{'y': 1.0, 'x2': 'b3', 'x1': 'a3'}\n",
      "0.7132731233621898\n",
      "[ 0.05819216]\n",
      "-----------------\n",
      "{'y': 1.0, 'x2': 'b3', 'x1': 'a3'}\n",
      "0.7132731233621898\n",
      "[ 0.12806455]\n",
      "-----------------\n",
      "{'y': 0.0, 'x2': 'b2', 'x1': 'a2'}\n",
      "0.42463424710316644\n",
      "[ 0.12806455]\n",
      "-----------------\n",
      "{'y': 1.0, 'x2': 'b3', 'x1': 'a3'}\n",
      "0.7132731233621898\n",
      "[ 0.05819216]\n",
      "-----------------\n",
      "{'y': 0.0, 'x2': 'b2', 'x1': 'a1'}\n",
      "0.35261712085890545\n",
      "[ 0.05819216]\n",
      "-----------------\n",
      "{'y': 0.0, 'x2': 'b1', 'x1': 'a1'}\n",
      "0.35261713685691126\n",
      "[ 0.12806455]\n",
      "-----------------\n",
      "{'y': 1.0, 'x2': 'b3', 'x1': 'a3'}\n",
      "0.7132731233621898\n",
      "[ 0.12806455]\n",
      "-----------------\n",
      "{'y': 0.0, 'x2': 'b2', 'x1': 'a2'}\n",
      "0.42463424710316644\n",
      "[ 0.05819216]\n",
      "-----------------\n",
      "{'y': 0.0, 'x2': 'b2', 'x1': 'a1'}\n",
      "0.35261712085890545\n",
      "[ 0.05819216]\n",
      "-----------------\n",
      "{'y': 0.0, 'x2': 'b1', 'x1': 'a2'}\n",
      "0.4246342642253942\n",
      "[ 0.12806455]\n",
      "-----------------\n",
      "{'y': 1.0, 'x2': 'b3', 'x1': 'a2'}\n",
      "0.6473830707188047\n",
      "[ 0.12806455]\n",
      "-----------------\n",
      "{'y': 0.0, 'x2': 'b1', 'x1': 'a2'}\n",
      "0.4246342642253942\n",
      "[ 0.05819216]\n",
      "-----------------\n",
      "{'y': 0.0, 'x2': 'b2', 'x1': 'a1'}\n",
      "0.35261712085890545\n",
      "[ 0.05819216]\n",
      "-----------------\n",
      "{'y': 1.0, 'x2': 'b3', 'x1': 'a3'}\n",
      "0.7132731233621898\n",
      "[ 0.12806455]\n",
      "-----------------\n",
      "{'y': 0.0, 'x2': 'b1', 'x1': 'a3'}\n",
      "0.5000001822126535\n",
      "[ 0.12806455]\n",
      "-----------------\n",
      "{'y': 1.0, 'x2': 'b3', 'x1': 'a2'}\n",
      "0.6473830707188047\n",
      "[ 0.05819216]\n",
      "-----------------\n",
      "{'y': 0.0, 'x2': 'b2', 'x1': 'a1'}\n",
      "0.35261712085890545\n",
      "[ 0.05819216]\n",
      "-----------------\n",
      "{'y': 1.0, 'x2': 'b3', 'x1': 'a2'}\n",
      "0.6473830707188047\n",
      "[ 0.12806455]\n",
      "-----------------\n",
      "{'y': 1.0, 'x2': 'b3', 'x1': 'a2'}\n",
      "0.6473830707188047\n",
      "[ 0.12806455]\n",
      "-----------------\n",
      "{'y': 1.0, 'x2': 'b3', 'x1': 'a3'}\n",
      "0.7132731233621898\n",
      "[ 0.05819216]\n",
      "-----------------\n",
      "{'y': 0.0, 'x2': 'b1', 'x1': 'a1'}\n",
      "0.35261713685691126\n",
      "[ 0.05819216]\n",
      "-----------------\n",
      "{'y': 0.0, 'x2': 'b3', 'x1': 'a1'}\n",
      "0.5753659579372263\n",
      "[ 0.12806455]\n",
      "-----------------\n",
      "{'y': 0.0, 'x2': 'b2', 'x1': 'a2'}\n",
      "0.42463424710316644\n",
      "[ 0.12806455]\n",
      "-----------------\n",
      "{'y': 0.0, 'x2': 'b1', 'x1': 'a1'}\n",
      "0.35261713685691126\n",
      "[ 0.05819216]\n",
      "-----------------\n",
      "{'y': 0.0, 'x2': 'b1', 'x1': 'a2'}\n",
      "0.4246342642253942\n",
      "[ 0.05819216]\n",
      "-----------------\n",
      "{'y': 1.0, 'x2': 'b3', 'x1': 'a2'}\n",
      "0.6473830707188047\n",
      "[ 0.12806455]\n",
      "-----------------\n",
      "{'y': 1.0, 'x2': 'b3', 'x1': 'a3'}\n",
      "0.7132731233621898\n",
      "[ 0.12806455]\n",
      "-----------------\n",
      "{'y': 1.0, 'x2': 'b3', 'x1': 'a2'}\n",
      "0.6473830707188047\n",
      "[ 0.90574776]\n",
      "-----------------\n",
      "{'y': 0.0, 'x2': 'b2', 'x1': 'a1'}\n",
      "0.35261712085890545\n",
      "[ 0.97591641]\n",
      "-----------------\n",
      "{'y': 0.0, 'x2': 'b2', 'x1': 'a1'}\n",
      "0.35261712085890545\n",
      "[ 0.90574776]\n",
      "-----------------\n",
      "{'y': 1.0, 'x2': 'b3', 'x1': 'a2'}\n",
      "0.6473830707188047\n",
      "[ 0.97591641]\n",
      "-----------------\n",
      "{'y': 0.0, 'x2': 'b2', 'x1': 'a3'}\n",
      "0.5000001646923652\n",
      "[ 0.90574776]\n",
      "-----------------\n",
      "{'y': 1.0, 'x2': 'b3', 'x1': 'a2'}\n",
      "0.6473830707188047\n",
      "[ 0.97591641]\n",
      "-----------------\n",
      "{'y': 1.0, 'x2': 'b2', 'x1': 'a1'}\n",
      "0.35261712085890545\n",
      "[ 0.90574776]\n",
      "-----------------\n",
      "{'y': 0.0, 'x2': 'b2', 'x1': 'a2'}\n",
      "0.42463424710316644\n",
      "[ 0.97591641]\n",
      "-----------------\n",
      "{'y': 1.0, 'x2': 'b3', 'x1': 'a3'}\n",
      "0.7132731233621898\n",
      "[ 0.90574776]\n",
      "-----------------\n",
      "{'y': 0.0, 'x2': 'b1', 'x1': 'a1'}\n",
      "0.35261713685691126\n",
      "[ 0.97591641]\n",
      "-----------------\n",
      "{'y': 0.0, 'x2': 'b1', 'x1': 'a2'}\n",
      "0.4246342642253942\n",
      "[ 0.90574776]\n",
      "-----------------\n",
      "{'y': 0.0, 'x2': 'b2', 'x1': 'a2'}\n",
      "0.42463424710316644\n",
      "[ 0.97591641]\n",
      "-----------------\n",
      "{'y': 0.0, 'x2': 'b2', 'x1': 'a2'}\n",
      "0.42463424710316644\n",
      "[ 0.90574776]\n",
      "-----------------\n",
      "{'y': 0.0, 'x2': 'b1', 'x1': 'a1'}\n",
      "0.35261713685691126\n",
      "[ 0.97591641]\n",
      "-----------------\n",
      "{'y': 1.0, 'x2': 'b3', 'x1': 'a2'}\n",
      "0.6473830707188047\n",
      "[ 0.90574776]\n",
      "-----------------\n",
      "{'y': 1.0, 'x2': 'b3', 'x1': 'a2'}\n",
      "0.6473830707188047\n",
      "[ 0.97591641]\n",
      "-----------------\n",
      "{'y': 0.0, 'x2': 'b2', 'x1': 'a2'}\n",
      "0.42463424710316644\n",
      "[ 0.90574776]\n",
      "-----------------\n",
      "{'y': 1.0, 'x2': 'b3', 'x1': 'a2'}\n",
      "0.6473830707188047\n",
      "[ 0.97591641]\n",
      "-----------------\n",
      "{'y': 1.0, 'x2': 'b3', 'x1': 'a3'}\n",
      "0.7132731233621898\n",
      "[ 0.90574776]\n",
      "-----------------\n",
      "{'y': 0.0, 'x2': 'b1', 'x1': 'a2'}\n",
      "0.4246342642253942\n",
      "[ 0.97591641]\n",
      "-----------------\n",
      "{'y': 1.0, 'x2': 'b3', 'x1': 'a3'}\n",
      "0.7132731233621898\n",
      "[ 0.90574776]\n",
      "-----------------\n",
      "{'y': 0.0, 'x2': 'b2', 'x1': 'a2'}\n",
      "0.42463424710316644\n",
      "[ 0.97591641]\n",
      "-----------------\n",
      "{'y': 1.0, 'x2': 'b2', 'x1': 'a3'}\n",
      "0.5000001646923652\n",
      "[ 0.90574776]\n",
      "-----------------\n",
      "{'y': 1.0, 'x2': 'b3', 'x1': 'a2'}\n",
      "0.6473830707188047\n",
      "[ 0.97591641]\n",
      "-----------------\n",
      "{'y': 1.0, 'x2': 'b3', 'x1': 'a3'}\n",
      "0.7132731233621898\n",
      "[ 0.90574776]\n",
      "-----------------\n",
      "{'y': 1.0, 'x2': 'b3', 'x1': 'a3'}\n",
      "0.7132731233621898\n",
      "[ 0.97591641]\n",
      "-----------------\n",
      "{'y': 1.0, 'x2': 'b3', 'x1': 'a2'}\n",
      "0.6473830707188047\n",
      "[ 0.90574776]\n",
      "-----------------\n",
      "{'y': 0.0, 'x2': 'b1', 'x1': 'a2'}\n",
      "0.4246342642253942\n",
      "[ 0.97591641]\n",
      "-----------------\n",
      "{'y': 1.0, 'x2': 'b1', 'x1': 'a1'}\n",
      "0.35261713685691126\n",
      "[ 0.90574776]\n",
      "-----------------\n",
      "{'y': 1.0, 'x2': 'b3', 'x1': 'a2'}\n",
      "0.6473830707188047\n",
      "[ 0.97591641]\n",
      "-----------------\n",
      "{'y': 0.0, 'x2': 'b2', 'x1': 'a2'}\n",
      "0.42463424710316644\n",
      "[ 0.90574776]\n",
      "-----------------\n",
      "{'y': 1.0, 'x2': 'b3', 'x1': 'a1'}\n",
      "0.5753659579372263\n",
      "[ 0.97591641]\n",
      "-----------------\n",
      "{'y': 0.0, 'x2': 'b1', 'x1': 'a2'}\n",
      "0.4246342642253942\n",
      "[ 0.90574776]\n",
      "-----------------\n",
      "{'y': 0.0, 'x2': 'b3', 'x1': 'a3'}\n",
      "0.7132731233621898\n",
      "[ 0.97591641]\n",
      "-----------------\n",
      "{'y': 0.0, 'x2': 'b1', 'x1': 'a1'}\n",
      "0.35261713685691126\n",
      "[ 0.90574776]\n",
      "-----------------\n",
      "{'y': 1.0, 'x2': 'b3', 'x1': 'a3'}\n",
      "0.7132731233621898\n",
      "[ 0.97591641]\n",
      "-----------------\n",
      "{'y': 1.0, 'x2': 'b3', 'x1': 'a3'}\n",
      "0.7132731233621898\n",
      "[ 0.90574776]\n",
      "-----------------\n",
      "{'y': 1.0, 'x2': 'b3', 'x1': 'a3'}\n",
      "0.7132731233621898\n",
      "[ 0.97591641]\n",
      "-----------------\n",
      "{'y': 1.0, 'x2': 'b3', 'x1': 'a3'}\n",
      "0.7132731233621898\n",
      "[ 0.90574776]\n",
      "-----------------\n",
      "{'y': 1.0, 'x2': 'b3', 'x1': 'a3'}\n",
      "0.7132731233621898\n",
      "[ 0.97591641]\n",
      "-----------------\n"
     ]
    }
   ],
   "source": [
    "for i in range(len(df_train)):\n",
    "    \n",
    "    row = get_x_dic(df_train, i)\n",
    "    print(row)\n",
    "    del row['y']\n",
    "    x = get_x(row, D)\n",
    "\n",
    "    print(get_p(x, theta_t_m))\n",
    "    print(result.predict(data_train.ix[i,'x1_a2':]))\n",
    "    print('-----------------')\n",
    "    "
   ]
  },
  {
   "cell_type": "code",
   "execution_count": 341,
   "metadata": {
    "collapsed": false
   },
   "outputs": [
    {
     "name": "stdout",
     "output_type": "stream",
     "text": [
      "{'y': 1.0, 'x2': 'b3', 'x1': 'a2'}\n",
      "0.6473830707188047\n",
      "[ 0.05819216]\n",
      "-----------------\n",
      "{'y': 0.0, 'x2': 'b1', 'x1': 'a2'}\n",
      "0.4246342642253942\n",
      "[ 0.05819216]\n",
      "-----------------\n",
      "{'y': 0.0, 'x2': 'b3', 'x1': 'a1'}\n",
      "0.5753659579372263\n",
      "[ 0.80169413]\n",
      "-----------------\n",
      "{'y': 0.0, 'x2': 'b1', 'x1': 'a1'}\n",
      "0.35261713685691126\n",
      "[ 0.12806455]\n",
      "-----------------\n",
      "{'y': 1.0, 'x2': 'b2', 'x1': 'a2'}\n",
      "0.42463424710316644\n",
      "[ 0.12806455]\n",
      "-----------------\n",
      "{'y': 0.0, 'x2': 'b3', 'x1': 'a2'}\n",
      "0.6473830707188047\n",
      "[ 0.90574776]\n",
      "-----------------\n",
      "{'y': 1.0, 'x2': 'b3', 'x1': 'a1'}\n",
      "0.5753659579372263\n",
      "[ 0.38245974]\n",
      "-----------------\n",
      "{'y': 1.0, 'x2': 'b3', 'x1': 'a2'}\n",
      "0.6473830707188047\n",
      "[ 0.38245974]\n",
      "-----------------\n",
      "{'y': 0.0, 'x2': 'b1', 'x1': 'a1'}\n",
      "0.35261713685691126\n",
      "[ 0.97591641]\n",
      "-----------------\n",
      "{'y': 1.0, 'x2': 'b3', 'x1': 'a3'}\n",
      "0.7132731233621898\n",
      "[ 0.05819216]\n",
      "-----------------\n",
      "{'y': 1.0, 'x2': 'b2', 'x1': 'a3'}\n",
      "0.5000001646923652\n",
      "[ 0.05819216]\n",
      "-----------------\n",
      "{'y': 0.0, 'x2': 'b2', 'x1': 'a1'}\n",
      "0.35261712085890545\n",
      "[ 0.80169413]\n",
      "-----------------\n",
      "{'y': 0.0, 'x2': 'b2', 'x1': 'a1'}\n",
      "0.35261712085890545\n",
      "[ 0.12806455]\n",
      "-----------------\n",
      "{'y': 0.0, 'x2': 'b1', 'x1': 'a2'}\n",
      "0.4246342642253942\n",
      "[ 0.12806455]\n",
      "-----------------\n",
      "{'y': 1.0, 'x2': 'b1', 'x1': 'a3'}\n",
      "0.5000001822126535\n",
      "[ 0.90574776]\n",
      "-----------------\n",
      "{'y': 1.0, 'x2': 'b2', 'x1': 'a1'}\n",
      "0.35261712085890545\n",
      "[ 0.38245974]\n",
      "-----------------\n",
      "{'y': 1.0, 'x2': 'b3', 'x1': 'a3'}\n",
      "0.7132731233621898\n",
      "[ 0.38245974]\n",
      "-----------------\n",
      "{'y': 0.0, 'x2': 'b1', 'x1': 'a3'}\n",
      "0.5000001822126535\n",
      "[ 0.97591641]\n",
      "-----------------\n",
      "{'y': 0.0, 'x2': 'b2', 'x1': 'a3'}\n",
      "0.5000001646923652\n",
      "[ 0.05819216]\n",
      "-----------------\n",
      "{'y': 0.0, 'x2': 'b1', 'x1': 'a1'}\n",
      "0.35261713685691126\n",
      "[ 0.05819216]\n",
      "-----------------\n",
      "{'y': 1.0, 'x2': 'b3', 'x1': 'a2'}\n",
      "0.6473830707188047\n",
      "[ 0.12806455]\n",
      "-----------------\n",
      "{'y': 1.0, 'x2': 'b3', 'x1': 'a3'}\n",
      "0.7132731233621898\n",
      "[ 0.12806455]\n",
      "-----------------\n",
      "{'y': 0.0, 'x2': 'b1', 'x1': 'a2'}\n",
      "0.4246342642253942\n",
      "[ 0.05819216]\n",
      "-----------------\n",
      "{'y': 1.0, 'x2': 'b3', 'x1': 'a3'}\n",
      "0.7132731233621898\n",
      "[ 0.05819216]\n",
      "-----------------\n",
      "{'y': 1.0, 'x2': 'b3', 'x1': 'a2'}\n",
      "0.6473830707188047\n",
      "[ 0.12806455]\n",
      "-----------------\n",
      "{'y': 1.0, 'x2': 'b3', 'x1': 'a2'}\n",
      "0.6473830707188047\n",
      "[ 0.12806455]\n",
      "-----------------\n",
      "{'y': 1.0, 'x2': 'b3', 'x1': 'a3'}\n",
      "0.7132731233621898\n",
      "[ 0.90574776]\n",
      "-----------------\n",
      "{'y': 0.0, 'x2': 'b2', 'x1': 'a2'}\n",
      "0.42463424710316644\n",
      "[ 0.97591641]\n",
      "-----------------\n",
      "{'y': 1.0, 'x2': 'b3', 'x1': 'a3'}\n",
      "0.7132731233621898\n",
      "[ 0.90574776]\n",
      "-----------------\n",
      "{'y': 0.0, 'x2': 'b2', 'x1': 'a2'}\n",
      "0.42463424710316644\n",
      "[ 0.97591641]\n",
      "-----------------\n",
      "{'y': 0.0, 'x2': 'b2', 'x1': 'a1'}\n",
      "0.35261712085890545\n",
      "[ 0.90574776]\n",
      "-----------------\n",
      "{'y': 0.0, 'x2': 'b2', 'x1': 'a2'}\n",
      "0.42463424710316644\n",
      "[ 0.97591641]\n",
      "-----------------\n",
      "{'y': 1.0, 'x2': 'b1', 'x1': 'a1'}\n",
      "0.35261713685691126\n",
      "[ 0.90574776]\n",
      "-----------------\n",
      "{'y': 0.0, 'x2': 'b3', 'x1': 'a3'}\n",
      "0.7132731233621898\n",
      "[ 0.97591641]\n",
      "-----------------\n",
      "{'y': 1.0, 'x2': 'b3', 'x1': 'a2'}\n",
      "0.6473830707188047\n",
      "[ 0.90574776]\n",
      "-----------------\n",
      "{'y': 1.0, 'x2': 'b1', 'x1': 'a2'}\n",
      "0.4246342642253942\n",
      "[ 0.97591641]\n",
      "-----------------\n"
     ]
    }
   ],
   "source": [
    "for i in range(len(df_test)):\n",
    "    \n",
    "    row = get_x_dic(df_test, i)\n",
    "    print(row)\n",
    "    del row['y']\n",
    "    x = get_x(row, D)\n",
    "\n",
    "    print(get_p(x, theta_t_m))\n",
    "    print(result.predict(data_test.ix[i,'x1_a2':]))\n",
    "    print('-----------------')\n",
    "    "
   ]
  },
  {
   "cell_type": "code",
   "execution_count": 342,
   "metadata": {
    "collapsed": false
   },
   "outputs": [
    {
     "data": {
      "text/plain": [
       "0.0"
      ]
     },
     "execution_count": 342,
     "metadata": {},
     "output_type": "execute_result"
    }
   ],
   "source": [
    "row = get_x_dic(df_train, i)\n",
    "row\n",
    "row['y']"
   ]
  },
  {
   "cell_type": "code",
   "execution_count": 343,
   "metadata": {
    "collapsed": false
   },
   "outputs": [
    {
     "data": {
      "text/plain": [
       "14.979463094094024"
      ]
     },
     "execution_count": 343,
     "metadata": {},
     "output_type": "execute_result"
    }
   ],
   "source": [
    "SSE = 0\n",
    "for i in range(len(df_train)):\n",
    "    \n",
    "    row = get_x_dic(df_train, i)\n",
    "    actual = row['y']\n",
    "    del row['y']\n",
    "    x = get_x(row, D)\n",
    "    predicted = get_p(x, theta_t_m)\n",
    "    SSE += (actual - predicted)**2\n",
    "\n",
    "SSE\n",
    "    \n"
   ]
  },
  {
   "cell_type": "code",
   "execution_count": 344,
   "metadata": {
    "collapsed": false
   },
   "outputs": [
    {
     "data": {
      "text/plain": [
       "7.006748634700581"
      ]
     },
     "execution_count": 344,
     "metadata": {},
     "output_type": "execute_result"
    }
   ],
   "source": [
    "SSE = 0\n",
    "for i in range(len(df_test)):\n",
    "\n",
    "    row = get_x_dic(df_test, i)\n",
    "    actual = row['y']\n",
    "    del row['y']\n",
    "    x = get_x(row, D)\n",
    "    predicted = get_p(x, theta_t_m)\n",
    "    SSE += (actual - predicted)**2\n",
    "\n",
    "SSE\n",
    "    \n"
   ]
  },
  {
   "cell_type": "code",
   "execution_count": null,
   "metadata": {
    "collapsed": true
   },
   "outputs": [],
   "source": []
  },
  {
   "cell_type": "code",
   "execution_count": null,
   "metadata": {
    "collapsed": true
   },
   "outputs": [],
   "source": []
  },
  {
   "cell_type": "code",
   "execution_count": null,
   "metadata": {
    "collapsed": true
   },
   "outputs": [],
   "source": []
  },
  {
   "cell_type": "code",
   "execution_count": null,
   "metadata": {
    "collapsed": true
   },
   "outputs": [],
   "source": []
  },
  {
   "cell_type": "code",
   "execution_count": null,
   "metadata": {
    "collapsed": true
   },
   "outputs": [],
   "source": []
  },
  {
   "cell_type": "code",
   "execution_count": null,
   "metadata": {
    "collapsed": true
   },
   "outputs": [],
   "source": []
  },
  {
   "cell_type": "code",
   "execution_count": null,
   "metadata": {
    "collapsed": true
   },
   "outputs": [],
   "source": []
  }
 ],
 "metadata": {
  "kernelspec": {
   "display_name": "Python 3",
   "language": "python",
   "name": "python3"
  },
  "language_info": {
   "codemirror_mode": {
    "name": "ipython",
    "version": 3
   },
   "file_extension": ".py",
   "mimetype": "text/x-python",
   "name": "python",
   "nbconvert_exporter": "python",
   "pygments_lexer": "ipython3",
   "version": "3.4.3"
  }
 },
 "nbformat": 4,
 "nbformat_minor": 0
}
