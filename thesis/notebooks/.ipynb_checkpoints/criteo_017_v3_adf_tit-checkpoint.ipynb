{
 "cells": [
  {
   "cell_type": "markdown",
   "metadata": {},
   "source": [
    "### Simulation SGD for titanic data"
   ]
  },
  {
   "cell_type": "code",
   "execution_count": 125,
   "metadata": {
    "collapsed": false
   },
   "outputs": [],
   "source": [
    "from datetime import datetime\n",
    "from csv import DictReader\n",
    "from math import exp, log, sqrt\n",
    "import numpy as np\n",
    "import mmh3\n",
    "import time\n",
    "from spooky import hash128, hash64, hash32\n",
    "\n",
    "from sklearn.metrics import roc_curve, auc\n",
    "import scipy.stats as stats\n",
    "import matplotlib.pyplot as plt\n",
    "import matplotlib as mpl\n",
    "\n",
    "%matplotlib inline"
   ]
  },
  {
   "cell_type": "markdown",
   "metadata": {},
   "source": [
    "###### Parameters"
   ]
  },
  {
   "cell_type": "code",
   "execution_count": 126,
   "metadata": {
    "collapsed": false
   },
   "outputs": [],
   "source": [
    "D = 2 ** 20\n",
    "rand_seed = 1004\n",
    "\n",
    "num_poly = 10\n",
    "xxi, wwi = np.polynomial.hermite.hermgauss(num_poly)"
   ]
  },
  {
   "cell_type": "code",
   "execution_count": 127,
   "metadata": {
    "collapsed": true
   },
   "outputs": [],
   "source": [
    "class DataSize:\n",
    "    def __init__(self\n",
    "                 , num_metric_check_point\n",
    "                 , num_status_check_point\n",
    "                 , num_train_data_start\n",
    "                 , num_train_data_size\n",
    "                 , num_test_data_start\n",
    "                 , num_test_data_size):\n",
    "        \n",
    "        self.num_metric_check_point = num_metric_check_point\n",
    "        self.num_status_check_point = num_status_check_point\n",
    "        \n",
    "        self.num_train_data_start = num_train_data_start\n",
    "        self.num_train_data_end = self.num_train_data_start + num_train_data_size - 1 # fixed\n",
    "        \n",
    "        self.num_test_data_start = num_test_data_start\n",
    "        self.num_test_data_end = self.num_test_data_start + num_test_data_size - 1 # fixed\n",
    "        \n",
    "    def display(self):\n",
    "        print(\"num_metric_check_point: %s\" %(self.num_metric_check_point))\n",
    "        print(\"num_status_check_point: %s\" %(self.num_status_check_point))\n",
    "        print(\"num_train_data_start  : %s\" %(self.num_train_data_start))\n",
    "        print(\"num_train_data_end    : %s\" %(self.num_train_data_end))\n",
    "        print(\"num_train_data_size   : %s\" %(self.num_train_data_end - self.num_train_data_start + 1))\n",
    "        print(\"num_test_data_start   : %s\" %(self.num_test_data_start))\n",
    "        print(\"num_test_data_end     : %s\" %(self.num_test_data_end))\n",
    "        print(\"num_test_data_size    : %s\" %(self.num_test_data_end - self.num_test_data_start + 1))"
   ]
  },
  {
   "cell_type": "code",
   "execution_count": 128,
   "metadata": {
    "collapsed": true
   },
   "outputs": [],
   "source": [
    "class FileInfo:\n",
    "    def __init__(self\n",
    "                , _file_path\n",
    "                , _f_having_header\n",
    "                , _l_header_names\n",
    "                , _seperator\n",
    "                , _l_skip_columns\n",
    "                , _ylab):\n",
    "        self.file_path = _file_path\n",
    "        self.f_having_header = _f_having_header\n",
    "        self.l_header_names = _l_header_names\n",
    "        self.seperator = _seperator\n",
    "        self.l_skip_columns = _l_skip_columns\n",
    "        self.ylab = _ylab\n",
    "    "
   ]
  },
  {
   "cell_type": "code",
   "execution_count": 129,
   "metadata": {
    "collapsed": true
   },
   "outputs": [],
   "source": [
    "fi_titanic = FileInfo(\n",
    "                r'C:/My/Playground/Git/2016_Thesis/100_Simulation/data/train.csv' # _file_path\n",
    "                , True # _f_having_header\n",
    "                , ['PassengerId', 'Survived', 'Pclass', 'Name', 'Sex'\n",
    "                   , 'Age', 'SibSp', 'Parch', 'Ticket', 'Fare', 'Cabin' , 'Embarked'] # _l_header_names\n",
    "                , ',' # _seperator\n",
    "                , ['PassengerId']# _l_skip_columns\n",
    "                , 'Survived'# _ylab\n",
    "                )\n",
    "\n",
    "fi_criteo = FileInfo(\n",
    "                r'C:\\Temp\\dac.tar\\train.txt' # _file_path\n",
    "                , False # _f_having_header\n",
    "                , ['Label'] + [ 'I' + str(i) for i in list(range(1,14))] + [ 'C' + str(i) for i in list(range(1,27))] # _l_header_names\n",
    "                , '\\t' # _seperator\n",
    "                , []# _l_skip_columns\n",
    "                , 'Label'# _ylab\n",
    "                )\n"
   ]
  },
  {
   "cell_type": "markdown",
   "metadata": {},
   "source": [
    "###### Functions"
   ]
  },
  {
   "cell_type": "code",
   "execution_count": 130,
   "metadata": {
    "collapsed": true
   },
   "outputs": [],
   "source": [
    "# csv_row must be dict\n",
    "def get_x_mmh3(csv_row, D):\n",
    "    x = [0]\n",
    "    for key, value in csv_row.items():\n",
    "        index = mmh3.hash128(str(key) + str(value), seed=rand_seed, x64arch=True) % D\n",
    "        x.append(index)\n",
    "    return x"
   ]
  },
  {
   "cell_type": "code",
   "execution_count": 131,
   "metadata": {
    "collapsed": true
   },
   "outputs": [],
   "source": [
    "# csv_row must be dict\n",
    "def get_x_spooky(csv_row, D):\n",
    "    x = [0]\n",
    "    for key, value in csv_row.items():\n",
    "        index = hash32(str(key) + str(value)) % D\n",
    "        x.append(index)\n",
    "    return x"
   ]
  },
  {
   "cell_type": "code",
   "execution_count": 132,
   "metadata": {
    "collapsed": true
   },
   "outputs": [],
   "source": [
    "def get_p(x, w):\n",
    "    wTx = 0.\n",
    "    for i in x:  # do wTx\n",
    "        wTx += w[i] * 1.  # w[i] * x[i], but if i in x we got x[i] = 1.\n",
    "    return 1. / (1. + exp(-max(min(wTx, 20.), -20.)))  # bounded sigmoid"
   ]
  },
  {
   "cell_type": "code",
   "execution_count": 133,
   "metadata": {
    "collapsed": true
   },
   "outputs": [],
   "source": [
    "# w must be numpy ndarray\n",
    "def get_p_cat(x, w):\n",
    "    wTx = sum(w[x])\n",
    "    return 1. / (1. + exp(-max(min(wTx, 20.), -20.)))  # bounded sigmoid"
   ]
  },
  {
   "cell_type": "code",
   "execution_count": 134,
   "metadata": {
    "collapsed": true
   },
   "outputs": [],
   "source": [
    "def logloss(p, y):\n",
    "    p = max(min(p, 1. - 10e-12), 10e-12)\n",
    "    return -log(p) if y == 1. else -log(1. - p)"
   ]
  },
  {
   "cell_type": "code",
   "execution_count": 135,
   "metadata": {
    "collapsed": false
   },
   "outputs": [],
   "source": [
    "def get_validation_metrics(c_fi,start, end, wlen, w, f_debug):\n",
    "    \n",
    "    log_loss = 0.\n",
    "    arr_y = []\n",
    "    arr_p = []\n",
    "        \n",
    "    f = open(c_fi.file_path)\n",
    "    for t, row in enumerate(DictReader(f, fieldnames=c_fi.l_header_names, delimiter=c_fi.seperator)):\n",
    "        if t == 0:\n",
    "            continue # just for titanic\n",
    "        \n",
    "        if t < start: # fixed\n",
    "            continue;\n",
    "\n",
    "        y = 1. if row[c_fi.ylab] == '1' else 0.\n",
    "        del row[c_fi.ylab]\n",
    "        arr_y.append(y)\n",
    "        \n",
    "        if(len(c_fi.l_skip_columns) > 0):\n",
    "            for i in range(len(c_fi.l_skip_columns)):\n",
    "                del row[(c_fi.l_skip_columns)[i]] # for titanic\n",
    "        \n",
    "        x = get_x_mmh3(row, wlen)\n",
    "        \n",
    "        p = 0\n",
    "        if(isinstance(w, list)):\n",
    "            p = get_p(x, w)\n",
    "        else:\n",
    "            p = get_p_cat(x, w)\n",
    "        arr_p.append(p)\n",
    "        \n",
    "        log_loss += logloss(p, y)   \n",
    "        \n",
    "        if f_debug:\n",
    "            if t >= 1:  # fixed\n",
    "                print(' [get_validation_metrics] %s\\tencountered: %d\\t y=%d: %f, loss:%f' % (\n",
    "                    datetime.now(), (t), y, p, log_loss/t))\n",
    "\n",
    "        # End of ...\n",
    "        if t >= end: # fixed\n",
    "            break;\n",
    "    \n",
    "    f.close()\n",
    "    \n",
    "    return(log_loss, arr_y, arr_p)\n",
    "\n",
    "#fn = ['Label'] + [ 'I' + str(i) for i in list(range(1,14))] + [ 'C' + str(i) for i in list(range(1,27))]\n",
    "#get_validation_metrics(train, fn, '\\t', 'Label', num_test_data_start, num_test_data_end, D, w)"
   ]
  },
  {
   "cell_type": "code",
   "execution_count": 136,
   "metadata": {
    "collapsed": true
   },
   "outputs": [],
   "source": [
    "def plot_log_loss(arr_log_loss):\n",
    "    x = range(len(arr_log_loss))\n",
    "    plt.plot(x, arr_log_loss, label='log_loss')"
   ]
  },
  {
   "cell_type": "code",
   "execution_count": 137,
   "metadata": {
    "collapsed": true
   },
   "outputs": [],
   "source": [
    "def plot_log_loss_comparison(c):\n",
    "    plt.figure(num=None, figsize=(13, 6), dpi=80, facecolor='w', edgecolor='k')\n",
    "\n",
    "    x1 = range(len(c[0]))\n",
    "    plt.plot(x1, c[0], 'r')\n",
    "\n",
    "    x2 = range(len(c[1]))\n",
    "    plt.plot(x2, c[1], 'b')"
   ]
  },
  {
   "cell_type": "markdown",
   "metadata": {},
   "source": [
    "# SGD"
   ]
  },
  {
   "cell_type": "markdown",
   "metadata": {},
   "source": [
    "###### Functions"
   ]
  },
  {
   "cell_type": "code",
   "execution_count": 138,
   "metadata": {
    "collapsed": true
   },
   "outputs": [],
   "source": [
    "def update_w_withn(w, n, x, p, y, alpha):\n",
    "    for i in x:\n",
    "        w[i] -= (p - y) * alpha / (sqrt(n[i]) + 1.)\n",
    "        n[i] += 1.\n",
    "    return w, n"
   ]
  },
  {
   "cell_type": "code",
   "execution_count": 139,
   "metadata": {
    "collapsed": true
   },
   "outputs": [],
   "source": [
    "def update_w(w, n, x, p, y, alpha):\n",
    "    for i in x:\n",
    "        w[i] -= (p - y) * alpha\n",
    "        n[i] += 1.\n",
    "    return w, n"
   ]
  },
  {
   "cell_type": "markdown",
   "metadata": {
    "collapsed": true
   },
   "source": [
    "###### Training function"
   ]
  },
  {
   "cell_type": "code",
   "execution_count": 140,
   "metadata": {
    "collapsed": false
   },
   "outputs": [],
   "source": [
    "def sgd_training(alpha, D, f_debug, f_step_validation, f_validation, c_ds, c_fi):\n",
    "    w = [0.] * D  # weights\n",
    "    n = np.array([0.] * (D))\n",
    "\n",
    "    start_time = time.time()\n",
    "\n",
    "    log_loss_sgd_training = 0.\n",
    "    arr_log_loss_sgd_test = []\n",
    "    \n",
    "    f = open(c_fi.file_path)\n",
    "    fn = c_fi.l_header_names\n",
    "    \n",
    "    for t, row in enumerate(DictReader(f, fieldnames=fn, delimiter=c_fi.seperator)):  # for titanic(comma seperated)\n",
    "        \n",
    "        if len(c_fi.l_skip_columns) > 0 :\n",
    "            for i in range(len(c_fi.l_skip_columns)):\n",
    "                del row[(c_fi.l_skip_columns)[i]] # for titanic\n",
    "        \n",
    "        if t == 0 & c_fi.f_having_header:\n",
    "            continue\n",
    "        \n",
    "        if t < c_ds.num_train_data_start:\n",
    "            continue\n",
    "        # Start of ...\n",
    "        \n",
    "        y = 1. if row[c_fi.ylab] == '1' else 0.\n",
    "        del row[c_fi.ylab]\n",
    "\n",
    "        x = get_x_mmh3(row, D)\n",
    "        p = get_p(x, w)\n",
    "        w, n = update_w_withn(w, n, x, p, y, alpha)\n",
    "\n",
    "        p = get_p(x, w)\n",
    "        log_loss_sgd_training += logloss(p, y)\n",
    "        \n",
    "        if f_debug:\n",
    "            if t % c_ds.num_status_check_point == 0 and t >= 1:  # for titanic\n",
    "                print('%s\\tencountered: %d\\t y=%d: %f, loss:%f' % (\n",
    "                    datetime.now(), (t), y, p, log_loss_sgd_training/t))\n",
    "        if f_step_validation:\n",
    "            if t % c_ds.num_metric_check_point == 0 and t > 1:\n",
    "                rt_log_loss, arr_y, arr_p = get_validation_metrics(\n",
    "                        c_fi\n",
    "                        , c_ds.num_test_data_start\n",
    "                        , c_ds.num_test_data_end\n",
    "                        , D\n",
    "                        , w\n",
    "                        , f_debug)\n",
    "\n",
    "                arr_log_loss_sgd_test.append(rt_log_loss / (c_ds.num_test_data_end - c_ds.num_test_data_start))\n",
    "                \n",
    "        if t >= c_ds.num_train_data_end:\n",
    "            break\n",
    "    f.close()\n",
    "\n",
    "    if f_debug:\n",
    "        print(\"---Total execution time: %s seconds ---\" % (time.time() - start_time))\n",
    "\n",
    "    # Return different variables as mode selected.\n",
    "    if f_step_validation:\n",
    "        return(arr_log_loss_sgd_test)\n",
    "    elif f_validation:\n",
    "        rt_log_loss_sgd_training = log_loss_sgd_training / (c_ds.num_train_data_end - c_ds.num_train_data_start)\n",
    "        \n",
    "        rt_log_loss_sgd_test, arr_y, arr_p = get_validation_metrics(\n",
    "                        c_fi\n",
    "                        , c_ds.num_test_data_start\n",
    "                        , c_ds.num_test_data_end\n",
    "                        , D\n",
    "                        , w\n",
    "                        , f_debug)\n",
    "        \n",
    "        rt_log_loss_sgd_test = rt_log_loss_sgd_test / (c_ds.num_test_data_end - c_ds.num_test_data_start)\n",
    "        \n",
    "        return((w, arr_y, arr_p, rt_log_loss_sgd_training, rt_log_loss_sgd_test))\n",
    "   "
   ]
  },
  {
   "cell_type": "markdown",
   "metadata": {},
   "source": [
    "# ADF"
   ]
  },
  {
   "cell_type": "markdown",
   "metadata": {},
   "source": [
    "###### Functions"
   ]
  },
  {
   "cell_type": "code",
   "execution_count": 141,
   "metadata": {
    "collapsed": true
   },
   "outputs": [],
   "source": [
    "# s_t_m_old and s_t_v_old must be numpy ndarray\n",
    "def get_s_t_new(y, s_t_m_old, s_t_v_old):\n",
    "\n",
    "    wi = wwi / np.sqrt(np.pi)\n",
    "    xi = xxi * np.sqrt(2) * np.sqrt(s_t_v_old) + s_t_m_old\n",
    "    \n",
    "    fw = 0.\n",
    "    if(y==1):\n",
    "        fw = (1. / (1. + np.exp(-xi))) * wi\n",
    "    else:\n",
    "        fw = ((np.exp(-xi)) / (1. + np.exp(-xi))) * wi\n",
    "\n",
    "    z_t = sum(fw)\n",
    "    s_t_m_new = 1. / z_t * sum(xi * fw)\n",
    "    s_t_v_new = 1. / z_t * sum((xi**2) * fw) - s_t_m_new**2\n",
    "        \n",
    "    return (s_t_m_new, s_t_v_new)"
   ]
  },
  {
   "cell_type": "code",
   "execution_count": 142,
   "metadata": {
    "collapsed": true
   },
   "outputs": [],
   "source": [
    "# theta_t_v must be numpy ndarray\n",
    "def get_a_i_cat(x, theta_t_v):\n",
    "    return theta_t_v[x] / sum(theta_t_v[x])"
   ]
  },
  {
   "cell_type": "code",
   "execution_count": 209,
   "metadata": {
    "collapsed": true
   },
   "outputs": [],
   "source": [
    "def update_theta_cat(x, theta_t_m, theta_t_v, delta_m, delta_v, n_iter, n):\n",
    "    a_i = get_a_i_cat(x, theta_t_v)\n",
    "    theta_t_m[x] += (a_i * delta_m)\n",
    "    theta_t_v[x] += ((a_i**2) * delta_v)\n",
    "    #theta_t_v[x] += ((a_i**2) * delta_v) + abs(theta_t_m[x])/min((n_iter+1.), 3000.)\n",
    "    #theta_t_v[x] += ((a_i**2) * delta_v) + abs(theta_t_m[x])/(n_iter+1.)\n",
    "    #theta_t_v[x] += ((a_i**2) * delta_v / np.sqrt(n[x] + 1.))\n",
    "    #theta_t_v[x] += ((a_i**2) * delta_v) + 1. / np.sqrt(n[x] + 1.)\n",
    "    #theta_t_v[x] += ((a_i**2) * delta_v) + abs(theta_t_m[x])/np.sqrt(n[x] + 1.)\n",
    "    n[x] += 1."
   ]
  },
  {
   "cell_type": "markdown",
   "metadata": {},
   "source": [
    "###### Trainning function"
   ]
  },
  {
   "cell_type": "code",
   "execution_count": 210,
   "metadata": {
    "collapsed": true
   },
   "outputs": [],
   "source": [
    "def adf_training(variance, D, f_debug, f_step_validation, f_validation, c_ds, c_fi):\n",
    "    theta_t_m = np.array([0.] * (D)) # mean of thetas at t\n",
    "    theta_t_v = np.array([variance] * (D)) # variance of thetas at t\n",
    "    n = np.array([0.] * D)\n",
    "\n",
    "    start_time = time.time()\n",
    "    \n",
    "    log_loss_adf_training = 0.\n",
    "    arr_log_loss_adf_test = []\n",
    "    \n",
    "    f = open(c_fi.file_path)\n",
    "    fn = c_fi.l_header_names\n",
    "    \n",
    "    for t, row in enumerate(DictReader(f, fieldnames=fn, delimiter=c_fi.seperator)):\n",
    "    \n",
    "        if len(c_fi.l_skip_columns) > 0 :\n",
    "            for i in range(len(c_fi.l_skip_columns)):\n",
    "                del row[(c_fi.l_skip_columns)[i]] # for titanic\n",
    "        \n",
    "        if t == 0 & c_fi.f_having_header:\n",
    "            continue\n",
    "            \n",
    "        if t < c_ds.num_train_data_start:\n",
    "            continue\n",
    "        # Start of ...\n",
    "\n",
    "\n",
    "        y = 1. if row[c_fi.ylab] == '1' else 0.\n",
    "        del row[c_fi.ylab]\n",
    "        \n",
    "        x = get_x_mmh3(row, D)\n",
    "\n",
    "        # Predictive distribution for s_t ~ N(s_t_m_old, s_t_v_old)\n",
    "        s_t_m_old = sum(theta_t_m[x])\n",
    "        s_t_v_old = sum(theta_t_v[x])\n",
    "\n",
    "        # Posterior distribution for s_t\n",
    "        s_t_m, s_t_v = get_s_t_new(y, s_t_m_old, s_t_v_old)\n",
    "\n",
    "        # Changes in s_t\n",
    "        delta_m = s_t_m - s_t_m_old\n",
    "        delta_v = s_t_v - s_t_v_old\n",
    "\n",
    "        # Updating theta\n",
    "        update_theta_cat(x, theta_t_m, theta_t_v, delta_m, delta_v, t, n)\n",
    "\n",
    "        p = get_p_cat(x, theta_t_m)\n",
    "\n",
    "        log_loss_adf_training += logloss(p, y)\n",
    "        \n",
    "        if f_debug:\n",
    "            if y == 1.:\n",
    "                print('%s\\tencountered: %d\\t y=%d: %f, loss:%f' % (\n",
    "                    datetime.now(), (t), y, p, log_loss_adf_training/t))\n",
    "            if t % c_ds.num_status_check_point == 0 and t > 1:\n",
    "                print('%s\\tencountered: %d\\t y=%d: %f, loss:%f' % (\n",
    "                    datetime.now(), (t), y, p, log_loss_adf_training/t))\n",
    "\n",
    "        if f_step_validation:\n",
    "            if t % c_ds.num_metric_check_point == 0 and t > 1:\n",
    "                rt_log_loss, arr_y, arr_p = get_validation_metrics(\n",
    "                        c_fi\n",
    "                        , c_ds.num_test_data_start\n",
    "                        , c_ds.num_test_data_end\n",
    "                        , D\n",
    "                        , theta_t_m\n",
    "                        , f_debug)\n",
    "                \n",
    "                arr_log_loss_adf_test.append(rt_log_loss / (c_ds.num_test_data_end - c_ds.num_test_data_start))\n",
    "\n",
    "        # End of ...\n",
    "        if t >= c_ds.num_train_data_end:\n",
    "            break\n",
    "    f.close()\n",
    "    \n",
    "    if f_debug:\n",
    "        print(\"---Total execution time: %s seconds ---\" % (time.time() - start_time))\n",
    "    \n",
    "    if f_step_validation:\n",
    "        return(arr_log_loss_adf_test)\n",
    "    \n",
    "    if f_validation:\n",
    "        rt_log_loss_adf_training = log_loss_adf_training / (c_ds.num_train_data_end - c_ds.num_train_data_start)\n",
    "        \n",
    "        rt_log_loss_adf_test, arr_y, arr_p = get_validation_metrics(\n",
    "                        c_fi\n",
    "                        , c_ds.num_test_data_start\n",
    "                        , c_ds.num_test_data_end\n",
    "                        , D\n",
    "                        , theta_t_m\n",
    "                        , f_debug)\n",
    "        rt_log_loss_adf_test = rt_log_loss_adf_test / (c_ds.num_test_data_end - c_ds.num_test_data_start)\n",
    "        \n",
    "        return((theta_t_m, arr_y, arr_p, rt_log_loss_adf_training, rt_log_loss_adf_test))\n"
   ]
  },
  {
   "cell_type": "markdown",
   "metadata": {},
   "source": [
    "# Validation"
   ]
  },
  {
   "cell_type": "markdown",
   "metadata": {},
   "source": [
    "# Let's find best parameters.(validation)"
   ]
  },
  {
   "cell_type": "code",
   "execution_count": 211,
   "metadata": {
    "collapsed": false
   },
   "outputs": [],
   "source": [
    "ds_best_param_titanic = DataSize(10      # num_metric_check_point\n",
    "                         , 1      # num_status_check_point\n",
    "                         , 1, 700        #train_start, train_size\n",
    "                         , 701, 191)    #test_start, test_size\n",
    "\n",
    "ds_best_param_criteo = DataSize(10      # num_metric_check_point\n",
    "                         , 1      # num_status_check_point\n",
    "                         , 1, 3000        #train_start, train_size\n",
    "                         , 3001, 1000)    #test_start, test_size\n"
   ]
  },
  {
   "cell_type": "markdown",
   "metadata": {},
   "source": [
    "###### SGD : alpha"
   ]
  },
  {
   "cell_type": "code",
   "execution_count": 212,
   "metadata": {
    "collapsed": false,
    "scrolled": true
   },
   "outputs": [
    {
     "name": "stdout",
     "output_type": "stream",
     "text": [
      "alpha: 1e-05\n",
      "2016-05-14 17:03:51.256000, i:0, param:1e-05, log-loss(tr:0.694079736844, te:0.696702248588)\n",
      "alpha: 0.0400098\n",
      "2016-05-14 17:03:51.323000, i:1, param:0.0400098, log-loss(tr:0.567791395663, te:0.544596162151)\n",
      "alpha: 0.0800096\n",
      "2016-05-14 17:03:51.407000, i:2, param:0.0800096, log-loss(tr:0.503262485366, te:0.49101606282)\n",
      "alpha: 0.1200094\n",
      "2016-05-14 17:03:51.489000, i:3, param:0.1200094, log-loss(tr:0.457249754316, te:0.460933485538)\n",
      "alpha: 0.1600092\n",
      "2016-05-14 17:03:51.592000, i:4, param:0.1600092, log-loss(tr:0.421427385298, te:0.442091534949)\n",
      "alpha: 0.200009\n",
      "2016-05-14 17:03:51.660000, i:5, param:0.200009, log-loss(tr:0.391911454054, te:0.42928701645)\n",
      "alpha: 0.2400088\n",
      "2016-05-14 17:03:51.728000, i:6, param:0.2400088, log-loss(tr:0.366589762192, te:0.419988756362)\n",
      "alpha: 0.2800086\n",
      "2016-05-14 17:03:51.821000, i:7, param:0.2800086, log-loss(tr:0.344234370962, te:0.412872177186)\n",
      "alpha: 0.3200084\n",
      "2016-05-14 17:03:51.903000, i:8, param:0.3200084, log-loss(tr:0.324094209452, te:0.407203218236)\n",
      "alpha: 0.3600082\n",
      "2016-05-14 17:03:51.976000, i:9, param:0.3600082, log-loss(tr:0.30568936268, te:0.402554230442)\n",
      "alpha: 0.400008\n",
      "2016-05-14 17:03:52.042000, i:10, param:0.400008, log-loss(tr:0.288700832756, te:0.398664288303)\n",
      "alpha: 0.4400078\n",
      "2016-05-14 17:03:52.128000, i:11, param:0.4400078, log-loss(tr:0.272908599679, te:0.395366955073)\n",
      "alpha: 0.4800076\n",
      "2016-05-14 17:03:52.199000, i:12, param:0.4800076, log-loss(tr:0.258155408668, te:0.39255133459)\n",
      "alpha: 0.5200074\n",
      "2016-05-14 17:03:52.272000, i:13, param:0.5200074, log-loss(tr:0.244324867568, te:0.390140306404)\n",
      "alpha: 0.5600072\n",
      "2016-05-14 17:03:52.338000, i:14, param:0.5600072, log-loss(tr:0.231327808331, te:0.388077975007)\n",
      "alpha: 0.600007\n",
      "2016-05-14 17:03:52.411000, i:15, param:0.600007, log-loss(tr:0.219093581084, te:0.386322224468)\n",
      "alpha: 0.6400068\n",
      "2016-05-14 17:03:52.494000, i:16, param:0.6400068, log-loss(tr:0.207564379634, te:0.384840184371)\n",
      "alpha: 0.6800066\n",
      "2016-05-14 17:03:52.563000, i:17, param:0.6800066, log-loss(tr:0.196691478621, te:0.383605398805)\n",
      "alpha: 0.7200064\n",
      "2016-05-14 17:03:52.630000, i:18, param:0.7200064, log-loss(tr:0.186432703341, te:0.382596014711)\n",
      "alpha: 0.7600062\n",
      "2016-05-14 17:03:52.695000, i:19, param:0.7600062, log-loss(tr:0.176750709456, te:0.38179359312)\n",
      "alpha: 0.800006\n",
      "2016-05-14 17:03:52.773000, i:20, param:0.800006, log-loss(tr:0.167611802908, te:0.381182308473)\n",
      "alpha: 0.8400058\n",
      "2016-05-14 17:03:52.857000, i:21, param:0.8400058, log-loss(tr:0.158985124417, te:0.380748394194)\n",
      "alpha: 0.8800056\n",
      "2016-05-14 17:03:52.926000, i:22, param:0.8800056, log-loss(tr:0.150842082252, te:0.380479747557)\n",
      "alpha: 0.9200054\n",
      "2016-05-14 17:03:52.992000, i:23, param:0.9200054, log-loss(tr:0.143155955196, te:0.380365639685)\n",
      "alpha: 0.9600052\n",
      "2016-05-14 17:03:53.059000, i:24, param:0.9600052, log-loss(tr:0.135901612742, te:0.380396496548)\n",
      "alpha: 1.000005\n",
      "2016-05-14 17:03:53.132000, i:25, param:1.000005, log-loss(tr:0.129055316322, te:0.380563729146)\n",
      "alpha: 1.0400048\n",
      "2016-05-14 17:03:53.205000, i:26, param:1.0400048, log-loss(tr:0.122594576612, te:0.38085959871)\n",
      "alpha: 1.0800046\n",
      "2016-05-14 17:03:53.292000, i:27, param:1.0800046, log-loss(tr:0.116498049583, te:0.381277107584)\n",
      "alpha: 1.1200044\n",
      "2016-05-14 17:03:53.360000, i:28, param:1.1200044, log-loss(tr:0.110745459174, te:0.381809909445)\n",
      "alpha: 1.1600042\n",
      "2016-05-14 17:03:53.427000, i:29, param:1.1600042, log-loss(tr:0.105317538031, te:0.382452234483)\n",
      "alpha: 1.200004\n",
      "2016-05-14 17:03:53.498000, i:30, param:1.200004, log-loss(tr:0.100195980248, te:0.383198826405)\n",
      "alpha: 1.2400038\n",
      "2016-05-14 17:03:53.573000, i:31, param:1.2400038, log-loss(tr:0.0953634018118, te:0.384044888942)\n",
      "alpha: 1.2800036\n",
      "2016-05-14 17:03:53.653000, i:32, param:1.2800036, log-loss(tr:0.0908033057149, te:0.384986040097)\n",
      "alpha: 1.3200034\n",
      "2016-05-14 17:03:53.717000, i:33, param:1.3200034, log-loss(tr:0.0865000496374, te:0.386018272741)\n",
      "alpha: 1.3600032\n",
      "2016-05-14 17:03:53.782000, i:34, param:1.3600032, log-loss(tr:0.0824388147953, te:0.387137920419)\n",
      "alpha: 1.400003\n",
      "2016-05-14 17:03:53.848000, i:35, param:1.400003, log-loss(tr:0.078605575077, te:0.388341627426)\n",
      "alpha: 1.4400028\n",
      "2016-05-14 17:03:53.912000, i:36, param:1.4400028, log-loss(tr:0.0749870659861, te:0.389626322352)\n",
      "alpha: 1.4800026\n",
      "2016-05-14 17:03:53.980000, i:37, param:1.4800026, log-loss(tr:0.0715707531994, te:0.390989194409)\n",
      "alpha: 1.5200024\n",
      "2016-05-14 17:03:54.046000, i:38, param:1.5200024, log-loss(tr:0.068344800763, te:0.392427671962)\n",
      "alpha: 1.5600022\n",
      "2016-05-14 17:03:54.115000, i:39, param:1.5600022, log-loss(tr:0.0652980390836, te:0.393939402778)\n",
      "alpha: 1.600002\n",
      "2016-05-14 17:03:54.181000, i:40, param:1.600002, log-loss(tr:0.0624199329616, te:0.395522235597)\n",
      "alpha: 1.6400018\n",
      "2016-05-14 17:03:54.248000, i:41, param:1.6400018, log-loss(tr:0.0597005499425, te:0.397174202718)\n",
      "alpha: 1.6800016\n",
      "2016-05-14 17:03:54.315000, i:42, param:1.6800016, log-loss(tr:0.0571305292681, te:0.398893503374)\n",
      "alpha: 1.7200014\n",
      "2016-05-14 17:03:54.381000, i:43, param:1.7200014, log-loss(tr:0.054701051677, te:0.400678487759)\n",
      "alpha: 1.7600012\n",
      "2016-05-14 17:03:54.447000, i:44, param:1.7600012, log-loss(tr:0.0524038102609, te:0.402527641618)\n",
      "alpha: 1.800001\n",
      "2016-05-14 17:03:54.521000, i:45, param:1.800001, log-loss(tr:0.0502309825281, te:0.404439571395)\n",
      "alpha: 1.8400008\n",
      "2016-05-14 17:03:54.601000, i:46, param:1.8400008, log-loss(tr:0.0481752037666, te:0.406412989968)\n",
      "alpha: 1.8800006\n",
      "2016-05-14 17:03:54.674000, i:47, param:1.8800006, log-loss(tr:0.0462295417487, te:0.408446703044)\n",
      "alpha: 1.9200004\n",
      "2016-05-14 17:03:54.740000, i:48, param:1.9200004, log-loss(tr:0.0443874727699, te:0.410539596307)\n",
      "alpha: 1.9600002\n",
      "2016-05-14 17:03:54.808000, i:49, param:1.9600002, log-loss(tr:0.0426428589794, te:0.412690623425)\n",
      "---Total execution time: 3.62000012398 seconds ---\n"
     ]
    }
   ],
   "source": [
    "arr_alpha = list(np.linspace(.00001, 2., 50, endpoint=False)) # for titanic\n",
    "#arr_alpha = list(np.linspace(.00001, .5, 50, endpoint=False)) # for criteo\n",
    "\n",
    "arr_log_loss_sgd_train_best_alpha = [0]*len(arr_alpha)\n",
    "arr_log_loss_sgd_test_best_alpha = [0]*len(arr_alpha)\n",
    "\n",
    "start_time = time.time()\n",
    "for i in range(0,len(arr_alpha)):\n",
    "    print('alpha: %s' %(arr_alpha[i]))\n",
    "    param, arr_y, arr_p, arr_log_loss_sgd_train_best_alpha[i], arr_log_loss_sgd_test_best_alpha[i] = sgd_training(alpha =\n",
    "             arr_alpha[i]\n",
    "             , D = 2**20\n",
    "             , f_debug = False\n",
    "             , f_step_validation = False\n",
    "             , f_validation = True\n",
    "                                                                                                    \n",
    "             , c_ds = ds_best_param_titanic\n",
    "             #, c_ds = ds_best_param_criteo\n",
    "                                                                                                    \n",
    "             , c_fi = fi_titanic)\n",
    "             #, c_fi = fi_criteo)\n",
    "    print('%s, i:%s, param:%s, log-loss(tr:%s, te:%s)' %(datetime.now(), i, arr_alpha[i]\n",
    "                                                     , arr_log_loss_sgd_train_best_alpha[i]\n",
    "                                                     , arr_log_loss_sgd_test_best_alpha[i]))\n",
    "\n",
    "print(\"---Total execution time: %s seconds ---\" % (time.time() - start_time))"
   ]
  },
  {
   "cell_type": "code",
   "execution_count": 213,
   "metadata": {
    "collapsed": false,
    "scrolled": true
   },
   "outputs": [
    {
     "data": {
      "text/plain": [
       "(23, 0.92000539999999997, 0.3803656396845576)"
      ]
     },
     "execution_count": 213,
     "metadata": {},
     "output_type": "execute_result"
    },
    {
     "data": {
      "image/png": "[encoded data removed]",
      "text/plain": [
       "<matplotlib.figure.Figure at 0x2114ac88>"
      ]
     },
     "metadata": {},
     "output_type": "display_data"
    }
   ],
   "source": [
    "plt.figure(num=None, figsize=(13, 6), dpi=80, facecolor='w', edgecolor='k')\n",
    "plt.plot(arr_alpha, arr_log_loss_sgd_train_best_alpha, marker='o', color='r')\n",
    "plt.plot(arr_alpha, arr_log_loss_sgd_test_best_alpha, marker='o', color='b')\n",
    "\n",
    "ndarr_test = np.array(arr_log_loss_sgd_test_best_alpha)\n",
    "(ndarr_test.argmin(), arr_alpha[ndarr_test.argmin()], arr_log_loss_sgd_test_best_alpha[ndarr_test.argmin()])\n"
   ]
  },
  {
   "cell_type": "markdown",
   "metadata": {},
   "source": [
    "###### ADF : variance"
   ]
  },
  {
   "cell_type": "code",
   "execution_count": 214,
   "metadata": {
    "collapsed": false
   },
   "outputs": [
    {
     "name": "stdout",
     "output_type": "stream",
     "text": [
      "2016-05-14 17:03:55.138000, i:0, param:0.0001, log-loss(tr:0.689289892831, te:0.686091732889)\n",
      "2016-05-14 17:03:55.349000, i:1, param:0.040098, log-loss(tr:0.474433516321, te:0.441558206399)\n",
      "2016-05-14 17:03:55.538000, i:2, param:0.080096, log-loss(tr:0.425675264951, te:0.42268297627)\n",
      "2016-05-14 17:03:55.731000, i:3, param:0.120094, log-loss(tr:0.394064348192, te:0.413835169903)\n",
      "2016-05-14 17:03:55.981000, i:4, param:0.160092, log-loss(tr:0.369613260237, te:0.408279418437)\n",
      "2016-05-14 17:03:56.188000, i:5, param:0.20009, log-loss(tr:0.349298309319, te:0.404403518543)\n",
      "2016-05-14 17:03:56.376000, i:6, param:0.240088, log-loss(tr:0.331772964341, te:0.401579836631)\n",
      "2016-05-14 17:03:56.565000, i:7, param:0.280086, log-loss(tr:0.31630283535, te:0.39949346038)\n",
      "2016-05-14 17:03:56.748000, i:8, param:0.320084, log-loss(tr:0.302433834435, te:0.397959716597)\n",
      "2016-05-14 17:03:56.932000, i:9, param:0.360082, log-loss(tr:0.289860413848, te:0.396858562023)\n",
      "2016-05-14 17:03:57.122000, i:10, param:0.40008, log-loss(tr:0.278364227548, te:0.396106236502)\n",
      "2016-05-14 17:03:57.320000, i:11, param:0.440078, log-loss(tr:0.267782138974, te:0.395641281974)\n",
      "2016-05-14 17:03:57.508000, i:12, param:0.480076, log-loss(tr:0.257988043387, te:0.395416915624)\n",
      "2016-05-14 17:03:57.697000, i:13, param:0.520074, log-loss(tr:0.24888182603, te:0.39539652671)\n",
      "2016-05-14 17:03:57.885000, i:14, param:0.560072, log-loss(tr:0.240382286607, te:0.395550844483)\n",
      "2016-05-14 17:03:58.072000, i:15, param:0.60007, log-loss(tr:0.23242240324, te:0.395856064277)\n",
      "2016-05-14 17:03:58.270000, i:16, param:0.640068, log-loss(tr:0.22494604575, te:0.396292555606)\n",
      "2016-05-14 17:03:58.471000, i:17, param:0.680066, log-loss(tr:0.217905624512, te:0.396843941194)\n",
      "2016-05-14 17:03:58.661000, i:18, param:0.720064, log-loss(tr:0.211260364702, te:0.397496422187)\n",
      "2016-05-14 17:03:58.850000, i:19, param:0.760062, log-loss(tr:0.204975011346, te:0.398238272363)\n",
      "2016-05-14 17:03:59.037000, i:20, param:0.80006, log-loss(tr:0.19901883888, te:0.399059451731)\n",
      "2016-05-14 17:03:59.226000, i:21, param:0.840058, log-loss(tr:0.193364880911, te:0.399951306539)\n",
      "2016-05-14 17:03:59.418000, i:22, param:0.880056, log-loss(tr:0.187989322397, te:0.400906333114)\n",
      "2016-05-14 17:03:59.603000, i:23, param:0.920054, log-loss(tr:0.182871013733, te:0.401917989708)\n",
      "2016-05-14 17:03:59.799000, i:24, param:0.960052, log-loss(tr:0.177991077806, te:0.402980545005)\n",
      "2016-05-14 17:03:59.986000, i:25, param:1.00005, log-loss(tr:0.173332588915, te:0.404088954982)\n",
      "2016-05-14 17:04:00.175000, i:26, param:1.040048, log-loss(tr:0.168880307978, te:0.405238761991)\n",
      "2016-05-14 17:04:00.368000, i:27, param:1.080046, log-loss(tr:0.164620462286, te:0.406426011413)\n",
      "2016-05-14 17:04:00.554000, i:28, param:1.120044, log-loss(tr:0.160540560928, te:0.407647182348)\n",
      "2016-05-14 17:04:00.755000, i:29, param:1.160042, log-loss(tr:0.156629238996, te:0.408899129618)\n",
      "2016-05-14 17:04:00.940000, i:30, param:1.20004, log-loss(tr:0.152876125254, te:0.410179034942)\n",
      "2016-05-14 17:04:01.133000, i:31, param:1.240038, log-loss(tr:0.149271729054, te:0.41148436562)\n",
      "2016-05-14 17:04:01.322000, i:32, param:1.280036, log-loss(tr:0.145807343183, te:0.412812839396)\n",
      "2016-05-14 17:04:01.507000, i:33, param:1.320034, log-loss(tr:0.142474959962, te:0.414162394426)\n",
      "2016-05-14 17:04:01.713000, i:34, param:1.360032, log-loss(tr:0.139267198452, te:0.415531163507)\n",
      "2016-05-14 17:04:01.907000, i:35, param:1.40003, log-loss(tr:0.136177241017, te:0.416917451863)\n",
      "2016-05-14 17:04:02.100000, i:36, param:1.440028, log-loss(tr:0.133198777813, te:0.418319717931)\n",
      "2016-05-14 17:04:02.285000, i:37, param:1.480026, log-loss(tr:0.130325958024, te:0.419736556675)\n",
      "2016-05-14 17:04:02.477000, i:38, param:1.520024, log-loss(tr:0.127553346877, te:0.421166685045)\n",
      "2016-05-14 17:04:02.665000, i:39, param:1.560022, log-loss(tr:0.124875887608, te:0.422608929267)\n",
      "2016-05-14 17:04:02.866000, i:40, param:1.60002, log-loss(tr:0.122288867717, te:0.424062213696)\n",
      "2016-05-14 17:04:03.054000, i:41, param:1.640018, log-loss(tr:0.119787888925, te:0.425525551016)\n",
      "2016-05-14 17:04:03.254000, i:42, param:1.680016, log-loss(tr:0.117368840353, te:0.426998033587)\n",
      "2016-05-14 17:04:03.445000, i:43, param:1.720014, log-loss(tr:0.11502787452, te:0.428478825802)\n",
      "2016-05-14 17:04:03.636000, i:44, param:1.760012, log-loss(tr:0.112761385798, te:0.429967157304)\n",
      "2016-05-14 17:04:03.826000, i:45, param:1.80001, log-loss(tr:0.110565991026, te:0.431462316956)\n",
      "2016-05-14 17:04:04.016000, i:46, param:1.840008, log-loss(tr:0.10843851204, te:0.432963647476)\n",
      "2016-05-14 17:04:04.215000, i:47, param:1.880006, log-loss(tr:0.10637595987, te:0.434470540633)\n",
      "2016-05-14 17:04:04.401000, i:48, param:1.920004, log-loss(tr:0.10437552044, te:0.435982432962)\n",
      "2016-05-14 17:04:04.589000, i:49, param:1.960002, log-loss(tr:0.102434541588, te:0.437498801909)\n",
      "---Total execution time: 9.63899993896 seconds ---\n"
     ]
    }
   ],
   "source": [
    "arr_var = list(np.linspace(.0001, 2., 50, endpoint=False)) # for titanic\n",
    "#arr_var = list(np.linspace(.0001, .2, 50, endpoint=False)) # for criteo\n",
    "\n",
    "arr_log_loss_adf_train_best_var = [0]*len(arr_var)\n",
    "arr_log_loss_adf_test_best_var = [0]*len(arr_var)\n",
    "\n",
    "start_time = time.time()\n",
    "\n",
    "for i in range(0,len(arr_var)):\n",
    "    param, arr_y, arr_p, arr_log_loss_adf_train_best_var[i], arr_log_loss_adf_test_best_var[i] = adf_training(variance = arr_var[i]\n",
    "             , D = 2**20\n",
    "             , f_debug = False\n",
    "             , f_step_validation = False\n",
    "             , f_validation = True\n",
    "            \n",
    "             , c_ds = ds_best_param_titanic\n",
    "             #, c_ds = ds_best_param_criteo\n",
    "                                                                                                    \n",
    "             , c_fi = fi_titanic)\n",
    "             #, c_fi = fi_criteo)\n",
    "    print('%s, i:%s, param:%s, log-loss(tr:%s, te:%s)' %(datetime.now(), i, arr_var[i]\n",
    "                                                     , arr_log_loss_adf_train_best_var[i]\n",
    "                                                     , arr_log_loss_adf_test_best_var[i]))\n",
    "    \n",
    "print(\"---Total execution time: %s seconds ---\" % (time.time() - start_time))"
   ]
  },
  {
   "cell_type": "code",
   "execution_count": 215,
   "metadata": {
    "collapsed": false
   },
   "outputs": [
    {
     "data": {
      "text/plain": [
       "(13, 0.52007399999999993, 0.39539652671035114)"
      ]
     },
     "execution_count": 215,
     "metadata": {},
     "output_type": "execute_result"
    },
    {
     "data": {
      "image/png": "[encoded data removed]",
      "text/plain": [
       "<matplotlib.figure.Figure at 0x1b57e198>"
      ]
     },
     "metadata": {},
     "output_type": "display_data"
    }
   ],
   "source": [
    "plt.figure(num=None, figsize=(13, 6), dpi=80, facecolor='w', edgecolor='k')\n",
    "plt.plot(arr_var, arr_log_loss_adf_train_best_var, marker='o', color= 'r')\n",
    "plt.plot(arr_var, arr_log_loss_adf_test_best_var, marker='o', color= 'b')\n",
    "\n",
    "ndarr_test = np.array(arr_log_loss_adf_test_best_var)\n",
    "(ndarr_test.argmin(), arr_var[ndarr_test.argmin()], arr_log_loss_adf_test_best_var[ndarr_test.argmin()])"
   ]
  },
  {
   "cell_type": "markdown",
   "metadata": {
    "collapsed": true
   },
   "source": [
    "# Tracing log-loss as the number of sample grows(step_validation)"
   ]
  },
  {
   "cell_type": "code",
   "execution_count": 216,
   "metadata": {
    "collapsed": false,
    "scrolled": false
   },
   "outputs": [
    {
     "name": "stdout",
     "output_type": "stream",
     "text": [
      "num_metric_check_point: 16\n",
      "num_status_check_point: 1\n",
      "num_train_data_start  : 1\n",
      "num_train_data_end    : 800\n",
      "num_train_data_size   : 800\n",
      "num_test_data_start   : 801\n",
      "num_test_data_end     : 891\n",
      "num_test_data_size    : 91\n",
      "num_metric_check_point: 20\n",
      "num_status_check_point: 1\n",
      "num_train_data_start  : 1\n",
      "num_train_data_end    : 1000\n",
      "num_train_data_size   : 1000\n",
      "num_test_data_start   : 1001\n",
      "num_test_data_end     : 1100\n",
      "num_test_data_size    : 100\n"
     ]
    }
   ],
   "source": [
    "ds_step_vali_titanic = DataSize(np.round(800/50)      # num_metric_check_point\n",
    "                         , 1      # num_status_check_point\n",
    "                         , 1, 800        #train_start, train_size\n",
    "                         , 801, 91)    #test_start, test_size\n",
    "\n",
    "ds_step_vali_criteo = DataSize(np.round(1000/50)      # num_metric_check_point\n",
    "                         , 1      # num_status_check_point\n",
    "                         , 1, 1000        #train_start, train_size\n",
    "                         , 1001, 100)    #test_start, test_size\n",
    "\n",
    "ds_step_vali_titanic.display()\n",
    "ds_step_vali_criteo.display()"
   ]
  },
  {
   "cell_type": "markdown",
   "metadata": {},
   "source": [
    "###### SGD "
   ]
  },
  {
   "cell_type": "code",
   "execution_count": 217,
   "metadata": {
    "collapsed": false,
    "scrolled": false
   },
   "outputs": [
    {
     "name": "stdout",
     "output_type": "stream",
     "text": [
      "---Total execution time: 0.338999986649 seconds ---\n"
     ]
    },
    {
     "data": {
      "text/plain": [
       "(48, 0.37341394319608007)"
      ]
     },
     "execution_count": 217,
     "metadata": {},
     "output_type": "execute_result"
    },
    {
     "data": {
      "image/png": "[encoded data removed]",
      "text/plain": [
       "<matplotlib.figure.Figure at 0x1d0db780>"
      ]
     },
     "metadata": {},
     "output_type": "display_data"
    }
   ],
   "source": [
    "alpha = 0.92000539999999997 # best for titanic\n",
    "\n",
    "\n",
    "start_time = time.time()\n",
    "arr_log_loss_sgd_test = sgd_training(alpha = alpha\n",
    "                                         , D = 2**20\n",
    "                                         , f_debug = False\n",
    "                                         , f_step_validation = True\n",
    "                                         , f_validation = False\n",
    "                                         , c_ds = ds_step_vali_titanic\n",
    "                                         , c_fi = fi_titanic)\n",
    "print(\"---Total execution time: %s seconds ---\" % (time.time() - start_time))\n",
    "\n",
    "plot_log_loss(arr_log_loss_sgd_test)\n",
    "\n",
    "ndarr_log_loss_sgd_test = np.array(arr_log_loss_sgd_test)\n",
    "(ndarr_log_loss_sgd_test.argmin(), arr_log_loss_sgd_test[ndarr_log_loss_sgd_test.argmin()])"
   ]
  },
  {
   "cell_type": "markdown",
   "metadata": {},
   "source": [
    "###### ADF"
   ]
  },
  {
   "cell_type": "code",
   "execution_count": 218,
   "metadata": {
    "collapsed": false
   },
   "outputs": [
    {
     "name": "stdout",
     "output_type": "stream",
     "text": [
      "---Total execution time: 0.446000099182 seconds ---\n"
     ]
    },
    {
     "data": {
      "text/plain": [
       "(45, 0.40141165731490414)"
      ]
     },
     "execution_count": 218,
     "metadata": {},
     "output_type": "execute_result"
    },
    {
     "data": {
      "image/png": "[encoded data removed]",
      "text/plain": [
       "<matplotlib.figure.Figure at 0x1b2d3c88>"
      ]
     },
     "metadata": {},
     "output_type": "display_data"
    }
   ],
   "source": [
    "init_v = 0.52007399999999993 # best for titanic\n",
    "\n",
    "\n",
    "start_time = time.time()\n",
    "arr_log_loss_adf_test = adf_training(variance = init_v\n",
    "                                         , D = 2**20\n",
    "                                         , f_debug = False\n",
    "                                         , f_step_validation = True\n",
    "                                         , f_validation = False\n",
    "                                         , c_ds = ds_step_vali_titanic\n",
    "                                         , c_fi = fi_titanic)\n",
    "print(\"---Total execution time: %s seconds ---\" % (time.time() - start_time))\n",
    "\n",
    "plot_log_loss(arr_log_loss_adf_test)\n",
    "\n",
    "ndarr_log_loss_adf_test = np.array(arr_log_loss_adf_test)\n",
    "(ndarr_log_loss_adf_test.argmin(), arr_log_loss_adf_test[ndarr_log_loss_adf_test.argmin()])"
   ]
  },
  {
   "cell_type": "markdown",
   "metadata": {},
   "source": [
    "중간에 튀어 오르는 부분은 특이치의 영향일 것이다."
   ]
  },
  {
   "cell_type": "code",
   "execution_count": 225,
   "metadata": {
    "collapsed": false
   },
   "outputs": [
    {
     "data": {
      "image/png": "[encoded data removed]",
      "text/plain": [
       "<matplotlib.figure.Figure at 0x1d7ecdd8>"
      ]
     },
     "metadata": {},
     "output_type": "display_data"
    }
   ],
   "source": [
    "plot_log_loss_comparison((arr_log_loss_adf_test, arr_log_loss_sgd_test))"
   ]
  },
  {
   "cell_type": "markdown",
   "metadata": {
    "collapsed": true
   },
   "source": [
    "# ?"
   ]
  },
  {
   "cell_type": "code",
   "execution_count": 226,
   "metadata": {
    "collapsed": false
   },
   "outputs": [],
   "source": [
    "ds_more_vali_titanic = DataSize(np.round(800/50)      # num_metric_check_point\n",
    "                         , 1      # num_status_check_point\n",
    "                         , 1, 800        #train_start, train_size\n",
    "                         , 801, 91)    #test_start, test_size\n",
    "\n",
    "ds_more_vali_criteo = DataSize(np.round(1000/50)      # num_metric_check_point\n",
    "                         , 1      # num_status_check_point\n",
    "                         , 1, 1000        #train_start, train_size\n",
    "                         , 1001, 100)    #test_start, test_size\n"
   ]
  },
  {
   "cell_type": "markdown",
   "metadata": {},
   "source": [
    "###### SGD"
   ]
  },
  {
   "cell_type": "code",
   "execution_count": 227,
   "metadata": {
    "collapsed": false
   },
   "outputs": [
    {
     "name": "stdout",
     "output_type": "stream",
     "text": [
      "---Total execution time: 0.0670001506805 seconds ---\n"
     ]
    },
    {
     "data": {
      "text/plain": [
       "(48, 0.37341394319608007)"
      ]
     },
     "execution_count": 227,
     "metadata": {},
     "output_type": "execute_result"
    },
    {
     "data": {
      "image/png": "[encoded data removed]",
      "text/plain": [
       "<matplotlib.figure.Figure at 0x1b25c940>"
      ]
     },
     "metadata": {},
     "output_type": "display_data"
    }
   ],
   "source": [
    "alpha = 0.92000539999999997 # best for titanic\n",
    "\n",
    "\n",
    "start_time = time.time()\n",
    "\n",
    "param_w, arr_sgd_y, arr_sgd_p, log_loss_sgd_train, log_loss_sgd_test = sgd_training(alpha = alpha\n",
    "                                         , D = 2**20\n",
    "                                         , f_debug = False\n",
    "                                         , f_step_validation = False\n",
    "                                         , f_validation = True\n",
    "                                         , c_ds = ds_more_vali_titanic\n",
    "                                         , c_fi = fi_titanic)\n",
    "\n",
    "print(\"---Total execution time: %s seconds ---\" % (time.time() - start_time))\n",
    "\n",
    "plot_log_loss(arr_log_loss_sgd_test)\n",
    "\n",
    "ndarr_log_loss_sgd_test = np.array(arr_log_loss_sgd_test)\n",
    "(ndarr_log_loss_sgd_test.argmin(), arr_log_loss_sgd_test[ndarr_log_loss_sgd_test.argmin()])"
   ]
  },
  {
   "cell_type": "markdown",
   "metadata": {},
   "source": [
    "###### ADF"
   ]
  },
  {
   "cell_type": "code",
   "execution_count": 228,
   "metadata": {
    "collapsed": false
   },
   "outputs": [
    {
     "name": "stdout",
     "output_type": "stream",
     "text": [
      "---Total execution time: 0.177999973297 seconds ---\n"
     ]
    },
    {
     "data": {
      "text/plain": [
       "(45, 0.40141165731490414)"
      ]
     },
     "execution_count": 228,
     "metadata": {},
     "output_type": "execute_result"
    },
    {
     "data": {
      "image/png": "[encoded data removed]",
      "text/plain": [
       "<matplotlib.figure.Figure at 0x1dc98518>"
      ]
     },
     "metadata": {},
     "output_type": "display_data"
    }
   ],
   "source": [
    "init_v = 0.52007399999999993 # best for titanic\n",
    "\n",
    "\n",
    "start_time = time.time()\n",
    "param_theta, arr_adf_y, arr_adf_p, log_loss_adf_train, log_loss_adf_test = adf_training(variance = init_v\n",
    "                                         , D = 2**20\n",
    "                                         , f_debug = False\n",
    "                                         , f_step_validation = False\n",
    "                                         , f_validation = True\n",
    "                                         , c_ds = ds_more_vali_titanic\n",
    "                                         , c_fi = fi_titanic)\n",
    "print(\"---Total execution time: %s seconds ---\" % (time.time() - start_time))\n",
    "\n",
    "plot_log_loss(arr_log_loss_adf_test)\n",
    "\n",
    "ndarr_log_loss_adf_test = np.array(arr_log_loss_adf_test)\n",
    "(ndarr_log_loss_adf_test.argmin(), arr_log_loss_adf_test[ndarr_log_loss_adf_test.argmin()])"
   ]
  },
  {
   "cell_type": "markdown",
   "metadata": {},
   "source": [
    "###### Comparison"
   ]
  },
  {
   "cell_type": "code",
   "execution_count": 229,
   "metadata": {
    "collapsed": false
   },
   "outputs": [
    {
     "data": {
      "image/png": "[encoded data removed]",
      "text/plain": [
       "<matplotlib.figure.Figure at 0x1dc984a8>"
      ]
     },
     "metadata": {},
     "output_type": "display_data"
    }
   ],
   "source": [
    "#fpr_sgd = dict()\n",
    "#tpr_sgd = dict()\n",
    "#roc_auc_sgd = dict()\n",
    "\n",
    "fpr_sgd, tpr_sgd, _ = roc_curve(arr_sgd_y, arr_sgd_p)\n",
    "roc_auc_sgd = auc(fpr_sgd, tpr_sgd) #auc\n",
    "\n",
    "fpr_adf, tpr_adf, _ = roc_curve(arr_adf_y, arr_adf_p)\n",
    "roc_auc_adf = auc(fpr_adf, tpr_adf) #auc\n",
    "\n",
    "plt.figure()\n",
    "plt.plot(fpr_sgd, tpr_sgd, label='SGD', color='b')\n",
    "plt.plot(fpr_adf, tpr_adf, label='ADF', color='r')\n",
    "\n",
    "\n",
    "plt.xlabel('False Positive Rate')\n",
    "plt.ylabel('True Positive Rate')\n",
    "plt.title('ROC Curve')\n",
    "plt.legend(loc=\"lower right\")\n",
    "plt.show() # or use command %matplotlib inline"
   ]
  },
  {
   "cell_type": "code",
   "execution_count": 230,
   "metadata": {
    "collapsed": false
   },
   "outputs": [
    {
     "data": {
      "text/plain": [
       "(0.90041279669762642, 0.88802889576883381)"
      ]
     },
     "execution_count": 230,
     "metadata": {},
     "output_type": "execute_result"
    }
   ],
   "source": [
    "(roc_auc_sgd, roc_auc_adf)"
   ]
  },
  {
   "cell_type": "code",
   "execution_count": null,
   "metadata": {
    "collapsed": true
   },
   "outputs": [],
   "source": []
  }
 ],
 "metadata": {
  "kernelspec": {
   "display_name": "Python 2",
   "language": "python",
   "name": "python2"
  },
  "language_info": {
   "codemirror_mode": {
    "name": "ipython",
    "version": 2
   },
   "file_extension": ".py",
   "mimetype": "text/x-python",
   "name": "python",
   "nbconvert_exporter": "python",
   "pygments_lexer": "ipython2",
   "version": "2.7.11"
  }
 },
 "nbformat": 4,
 "nbformat_minor": 0
}
