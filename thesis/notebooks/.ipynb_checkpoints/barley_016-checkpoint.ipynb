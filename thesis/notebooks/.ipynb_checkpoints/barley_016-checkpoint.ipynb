{
 "cells": [
  {
   "cell_type": "markdown",
   "metadata": {},
   "source": [
    "Version info\n",
    ">v011 - deleted testing codes\n",
    "\n",
    ">v013 - manipulating multiple beta\n",
    "\n",
    ">v014 - Handling missing data\n",
    "\n",
    ">v015 - Error fixing of v014\n",
    "\n",
    ">v016 - Simplified version of v015"
   ]
  },
  {
   "cell_type": "code",
   "execution_count": 2,
   "metadata": {
    "collapsed": false
   },
   "outputs": [],
   "source": [
    "def cv(var):\n",
    "    print(\"-------------------\")\n",
    "    print(\"itself:\", var)\n",
    "    if hasattr(var, 'type'):\n",
    "        print(\".type:\", var.type)\n",
    "    else:\n",
    "        print(\".type:\", \"no type attribute\")\n",
    "    print(\"type():\", type(var))\n",
    "    if hasattr(var, 'shape'):\n",
    "        print(\"shape:\", var.shape)\n",
    "    else:\n",
    "        print(\"shape:\", \"no shape attribute\")\n",
    "    print(\"-------------------\")"
   ]
  },
  {
   "cell_type": "markdown",
   "metadata": {},
   "source": [
    "**Environment setting**"
   ]
  },
  {
   "cell_type": "code",
   "execution_count": 3,
   "metadata": {
    "collapsed": false
   },
   "outputs": [
    {
     "name": "stderr",
     "output_type": "stream",
     "text": [
      "Using gpu device 0: GeForce GTX 750 (CNMeM is disabled)\n"
     ]
    }
   ],
   "source": [
    "import numpy as np\n",
    "import pandas as pd\n",
    "import theano\n",
    "import pymc3 as pm\n",
    "import matplotlib.pyplot as plt\n",
    "\n",
    "%matplotlib inline\n",
    "\n",
    "theano.config.compute_test_value = 'raise'"
   ]
  },
  {
   "cell_type": "markdown",
   "metadata": {},
   "source": [
    "**Data setting**"
   ]
  },
  {
   "cell_type": "code",
   "execution_count": 8,
   "metadata": {
    "collapsed": false
   },
   "outputs": [],
   "source": [
    "num_n = 6\n",
    "num_p = 2\n",
    "Y = np.array([10, 9, 8, 1, 2, 1])\n",
    "X = np.array([[1,1],[1,0],[1,1],[0,0],[0,1],[-999,0]])\n",
    "#X = np.array([[1,1],[1,0],[1,1],[0,0],[0,1],[1,0]])\n",
    "\n",
    "X_masked = np.ma.masked_array(X, mask=X==-999)\n",
    "\n",
    "beta = np.empty(num_p, dtype=object)\n",
    "X_imp = np.empty(num_p, dtype=object)\n",
    "\n",
    "niter = 100"
   ]
  },
  {
   "cell_type": "markdown",
   "metadata": {},
   "source": [
    "## v016_00\n",
    "\n",
    "**with X and imputation w/o loop**\n",
    "\n",
    "success without error"
   ]
  },
  {
   "cell_type": "code",
   "execution_count": 5,
   "metadata": {
    "collapsed": false,
    "scrolled": false
   },
   "outputs": [],
   "source": [
    "basic_model = pm.Model()\n",
    "with basic_model:\n",
    "    # Priors\n",
    "    alpha = pm.Normal('alpha', mu=0, sd=100, shape=1) # Intercept\n",
    "    for i in range(num_p): # beta0 to betaN\n",
    "        beta[i] = pm.Normal('beta' + str(i), mu=0, sd=100, shape=1)\n",
    "    sigma = pm.Uniform('sigma', lower=0, upper=20) # Std\n",
    "    \n",
    "    # refer to [https://github.com/pymc-devs/pymc3/blob/58f3f8e5d2a55edc5e05b33b239fa46631eff895/pymc3/examples/lasso_missing.py]\n",
    "    #p_imp = pm.Beta('p_imp', 1, 1)\n",
    "    #for i in range(num_p):\n",
    "    #    X_imp[i] = pm.Bernoulli('X_imp' + str(i), p_imp, observed=np.ma.masked_values(X_masked[:,i], value=-999))\n",
    "\n",
    "    p_imp = pm.Beta('p_imp', 1, 1)\n",
    "    X_imp = pm.Bernoulli('X_imp', p_imp, observed=np.ma.masked_values(X_masked, value=-999))\n",
    "    \n",
    "    \n",
    "    # Expected value of outcome\n",
    "    #mu = alpha + beta[0]*X[:1,0] + beta[1]*X[:1,1]\n",
    "    #mu = alpha + beta[0]*X[:,0] + beta[1]*X[:,1]\n",
    "    mu = alpha + beta[0]*X[:,0] + beta[1]*X[:,1]\n",
    "\n",
    "    #mu = alpha\n",
    "    #for i in range(num_p):\n",
    "    #    mu = mu + beta[i]*X_imp[:,i]\n",
    "    \n",
    "    # Likelihood\n",
    "    likelihood = pm.Normal('y', mu=mu, sd=sigma, observed=Y)"
   ]
  },
  {
   "cell_type": "code",
   "execution_count": 7,
   "metadata": {
    "collapsed": false
   },
   "outputs": [
    {
     "name": "stdout",
     "output_type": "stream",
     "text": [
      "-------------------\n",
      "itself: [[   1    1]\n",
      " [   1    0]\n",
      " [   1    1]\n",
      " [   0    0]\n",
      " [   0    1]\n",
      " [-999    0]]\n",
      ".type: no type attribute\n",
      "type(): <class 'numpy.ndarray'>\n",
      "shape: (6, 2)\n",
      "-------------------\n",
      "-------------------\n",
      "itself: [   1    1    1    0    0 -999]\n",
      ".type: no type attribute\n",
      "type(): <class 'numpy.ndarray'>\n",
      "shape: (6,)\n",
      "-------------------\n"
     ]
    }
   ],
   "source": [
    "cv(X)\n",
    "cv(X[:,0])"
   ]
  },
  {
   "cell_type": "markdown",
   "metadata": {},
   "source": [
    "## v016_01\n",
    "\n",
    "**with X and imputation w/ loop**\n",
    "\n",
    "this fails with error\n",
    "\n",
    "TypeError: expected type_num 9 (NPY_INT64) got 7\n",
    "\n",
    "TypeError: unorderable types: int() < NoneType()"
   ]
  },
  {
   "cell_type": "code",
   "execution_count": 29,
   "metadata": {
    "collapsed": false,
    "scrolled": false
   },
   "outputs": [],
   "source": [
    "basic_model = pm.Model()\n",
    "with basic_model:\n",
    "    # Priors\n",
    "    alpha = pm.Normal('alpha', mu=0, sd=100, shape=1) # Intercept\n",
    "    for i in range(num_p): # beta0 to betaN\n",
    "        beta[i] = pm.Normal('beta' + str(i), mu=0, sd=100, shape=1)\n",
    "    sigma = pm.Uniform('sigma', lower=0, upper=20) # Std\n",
    "    \n",
    "    # refer to [https://github.com/pymc-devs/pymc3/blob/58f3f8e5d2a55edc5e05b33b239fa46631eff895/pymc3/examples/lasso_missing.py]\n",
    "    p_imp = pm.Beta('p_imp', 1, 1)\n",
    "    for i in range(num_p):\n",
    "        X_imp[i] = pm.Bernoulli('X_imp' + str(i), p_imp, observed=np.ma.masked_values(X_masked[:,i], value=-999))\n",
    "    \n",
    "    # Expected value of outcome\n",
    "    #mu = alpha + beta[0]*X[:1,0] + beta[1]*X[:1,1]\n",
    "    #mu = alpha + beta[0]*X[:,0] + beta[1]*X[:,1]\n",
    "    mu = alpha + beta[0]*X[:,0] + beta[1]*X[:,1]\n",
    "\n",
    "    #mu = alpha\n",
    "    #for i in range(num_p):\n",
    "    #    mu = mu + beta[i]*X_imp[:,i]\n",
    "    \n",
    "    # Likelihood\n",
    "    likelihood = pm.Normal('y', mu=mu, sd=sigma, observed=Y)"
   ]
  },
  {
   "cell_type": "markdown",
   "metadata": {},
   "source": [
    "## v016_04\n",
    "\n",
    "**with X_imp and imputation w/o loop**\n",
    "\n",
    "\n",
    "error:   \n",
    "Input dimension mis-match. (input[3].shape[0] = 6, input[4].shape[0] = 1)\n"
   ]
  },
  {
   "cell_type": "code",
   "execution_count": 9,
   "metadata": {
    "collapsed": false,
    "scrolled": false
   },
   "outputs": [],
   "source": [
    "basic_model = pm.Model()\n",
    "with basic_model:\n",
    "    # Priors\n",
    "    alpha = pm.Normal('alpha', mu=0, sd=100, shape=1) # Intercept\n",
    "    for i in range(num_p): # beta0 to betaN\n",
    "        beta[i] = pm.Normal('beta' + str(i), mu=0, sd=100, shape=1)\n",
    "    sigma = pm.Uniform('sigma', lower=0, upper=20) # Std\n",
    "    \n",
    "    # refer to [https://github.com/pymc-devs/pymc3/blob/58f3f8e5d2a55edc5e05b33b239fa46631eff895/pymc3/examples/lasso_missing.py]\n",
    "    #p_imp = pm.Beta('p_imp', 1, 1)\n",
    "    #for i in range(num_p):\n",
    "    #    X_imp[i] = pm.Bernoulli('X_imp' + str(i), p_imp, observed=np.ma.masked_values(X_masked[:,i], value=-999))\n",
    "\n",
    "    p_imp = pm.Beta('p_imp', 1, 1)\n",
    "    X_imp = pm.Bernoulli('X_imp', p_imp, observed=np.ma.masked_values(X_masked, value=-999))\n",
    "    \n",
    "    \n",
    "    # Expected value of outcome\n",
    "    #mu = alpha + beta[0]*X[:1,0] + beta[1]*X[:1,1]\n",
    "    #mu = alpha + beta[0]*X[:,0] + beta[1]*X[:,1]\n",
    "    mu = alpha + beta[0]*X_imp[:,0] + beta[1]*X_imp[:,1]\n",
    "\n",
    "    #mu = alpha\n",
    "    #for i in range(num_p):\n",
    "    #    mu = mu + beta[i]*X_imp[:,i]\n",
    "    \n",
    "    # Likelihood\n",
    "    likelihood = pm.Normal('y', mu=mu, sd=sigma, observed=Y)"
   ]
  },
  {
   "cell_type": "code",
   "execution_count": 10,
   "metadata": {
    "collapsed": false
   },
   "outputs": [
    {
     "name": "stdout",
     "output_type": "stream",
     "text": [
      "-------------------\n",
      "itself: X_imp\n",
      ".type: TensorType(int64, matrix)\n",
      "type(): <class 'pymc3.model.ObservedRV'>\n",
      "shape: Shape.0\n",
      "-------------------\n",
      "-------------------\n",
      "itself: Subtensor{::, int64}.0\n",
      ".type: TensorType(int64, vector)\n",
      "type(): <class 'theano.tensor.var.TensorVariable'>\n",
      "shape: Shape.0\n",
      "-------------------\n"
     ]
    }
   ],
   "source": [
    "cv(X_imp)\n",
    "cv(X_imp[:,0])"
   ]
  },
  {
   "cell_type": "markdown",
   "metadata": {},
   "source": [
    "## v016_05\n",
    "\n",
    "**with X_imp**"
   ]
  },
  {
   "cell_type": "code",
   "execution_count": 187,
   "metadata": {
    "collapsed": false,
    "scrolled": true
   },
   "outputs": [],
   "source": [
    "basic_model = pm.Model()\n",
    "with basic_model:\n",
    "    # Priors\n",
    "    alpha = pm.Normal('alpha', mu=0, sd=100, shape=1) # Intercept\n",
    "    for i in range(num_p): # beta0 to betaN\n",
    "        beta[i] = pm.Normal('beta' + str(i), mu=0, sd=100, shape=1)\n",
    "    sigma = pm.Uniform('sigma', lower=0, upper=20) # Std\n",
    "    \n",
    "    # refer to [https://github.com/pymc-devs/pymc3/blob/58f3f8e5d2a55edc5e05b33b239fa46631eff895/pymc3/examples/lasso_missing.py]\n",
    "    p_imp = pm.Beta('p_imp', 1, 1)\n",
    "    for i in range(num_p):\n",
    "        X_imp[i] = pm.Bernoulli('X_imp' + str(i), p_imp, observed=np.ma.masked_values(X_masked[:,i], value=-999))\n",
    "    \n",
    "    \n",
    "    # Expected value of outcome\n",
    "    #mu = alpha + beta[0]*X[:1,0] + beta[1]*X[:1,1]\n",
    "    #mu = alpha + beta[0]*X[:,0] + beta[1]*X[:,1]\n",
    "    mu = alpha + beta[0]*X_imp[0] + beta[1]*X_imp[1]\n",
    "\n",
    "    #mu = alpha\n",
    "    #for i in range(num_p):\n",
    "    #    mu = mu + beta[i]*X_imp[:,i]\n",
    "    \n",
    "    # Likelihood\n",
    "    likelihood = pm.Normal('y', mu=mu, sd=sigma, observed=Y)"
   ]
  },
  {
   "cell_type": "markdown",
   "metadata": {},
   "source": [
    "## v016_06"
   ]
  },
  {
   "cell_type": "code",
   "execution_count": 84,
   "metadata": {
    "collapsed": false
   },
   "outputs": [
    {
     "name": "stdout",
     "output_type": "stream",
     "text": [
      "Once deleted, variables cannot be recovered. Proceed (y/[n])? y\n"
     ]
    }
   ],
   "source": [
    "%reset"
   ]
  },
  {
   "cell_type": "code",
   "execution_count": 117,
   "metadata": {
    "collapsed": false
   },
   "outputs": [],
   "source": [
    "import pymc3 as pm\n",
    "import numpy as np\n",
    "\n",
    "num_n = 6\n",
    "num_p = 2\n",
    "Y = np.array([10, 9, 8, 1, 2, 1])\n",
    "X = np.array([[1,1],[1,0],[1,1],[0,0],[0,1],[-999,0]])\n",
    "\n",
    "X_masked = np.ma.masked_array(X, mask=X==-999)\n",
    "\n",
    "beta = np.empty(num_p, dtype=object)\n",
    "X_imp = np.empty(num_p, dtype=object)"
   ]
  },
  {
   "cell_type": "code",
   "execution_count": 176,
   "metadata": {
    "collapsed": false,
    "scrolled": false
   },
   "outputs": [],
   "source": [
    "basic_model = pm.Model()\n",
    "with basic_model:\n",
    "    # Priors\n",
    "    alpha = pm.Normal('alpha', mu=0, sd=100, shape=1) # Intercept\n",
    "    for i in range(num_p): # beta0 to betaN\n",
    "        beta[i] = pm.Normal('beta' + str(i), mu=0, sd=100, shape=1)\n",
    "    sigma = pm.Uniform('sigma', lower=0, upper=20) # Std\n",
    "\n",
    "    p_imp = pm.Beta('p_imp', 1, 1)\n",
    "    for i in range(num_p):\n",
    "        X_imp[i] = pm.Bernoulli('X_imp' + str(i), p_imp, observed=np.ma.masked_values(X_masked[:,i], value=-999))\n",
    "    \n",
    "    # Expected value of outcome\n",
    "    mu = alpha + beta[0]*X_imp[0] + beta[1]*X_imp[1]\n",
    "    #mu = alpha + beta[0]*X_imp[0]\n",
    "\n",
    "    # Likelihood\n",
    "    likelihood = pm.Normal('y', mu=mu, sd=sigma, observed=Y)"
   ]
  },
  {
   "cell_type": "code",
   "execution_count": 178,
   "metadata": {
    "collapsed": false,
    "scrolled": false
   },
   "outputs": [
    {
     "name": "stdout",
     "output_type": "stream",
     "text": [
      "X\t X_imp\t X_masked\t Y\t alpha\t basic_model\t beta\t cv\t i\t \n",
      "likelihood\t mu\t np\t num_n\t num_p\t p_imp\t pm\t sigma\t \n",
      "-------------------\n",
      "itself: alpha\n",
      ".type: TensorType(float64, (True,))\n",
      "type(): <class 'pymc3.model.FreeRV'>\n",
      "shape: Shape.0\n",
      "-------------------\n",
      "-------------------\n",
      "itself: beta0\n",
      ".type: TensorType(float64, (True,))\n",
      "type(): <class 'pymc3.model.FreeRV'>\n",
      "shape: Shape.0\n",
      "-------------------\n",
      "-------------------\n",
      "itself: X_imp0\n",
      ".type: TensorType(int64, vector)\n",
      "type(): <class 'pymc3.model.ObservedRV'>\n",
      "shape: Shape.0\n",
      "-------------------\n",
      "-------------------\n",
      "itself: Elemwise{add,no_inplace}.0\n",
      ".type: TensorType(float64, vector)\n",
      "type(): <class 'theano.tensor.var.TensorVariable'>\n",
      "shape: Shape.0\n",
      "-------------------\n"
     ]
    }
   ],
   "source": [
    "%who\n",
    "\n",
    "cv(alpha)\n",
    "cv(beta[0])\n",
    "cv(X_imp[0])\n",
    "cv(mu)"
   ]
  },
  {
   "cell_type": "markdown",
   "metadata": {},
   "source": [
    "$f(x \\mid \\mu, \\tau) = \\sqrt{\\frac{\\tau}{2\\pi}} \\exp\\left\\{ -\\frac{\\tau}{2} (x-\\mu)^2 \\right\\}$"
   ]
  },
  {
   "cell_type": "markdown",
   "metadata": {},
   "source": [
    "### Checking working variables"
   ]
  },
  {
   "cell_type": "code",
   "execution_count": 179,
   "metadata": {
    "collapsed": true
   },
   "outputs": [
    {
     "name": "stdout",
     "output_type": "stream",
     "text": [
      "-------------------\n",
      "itself: [[   1    1]\n",
      " [   1    0]\n",
      " [   1    1]\n",
      " [   0    0]\n",
      " [   0    1]\n",
      " [-999    0]]\n",
      ".type: no type attribute\n",
      "type(): <class 'numpy.ndarray'>\n",
      "shape: (6, 2)\n",
      "-------------------\n",
      "-------------------\n",
      "itself: []\n",
      ".type: no type attribute\n",
      "type(): <class 'numpy.ndarray'>\n",
      "shape: (0, 2)\n",
      "-------------------\n",
      "-------------------\n",
      "itself: [X_imp0 X_imp1]\n",
      ".type: no type attribute\n",
      "type(): <class 'numpy.ndarray'>\n",
      "shape: (2,)\n",
      "-------------------\n",
      "-------------------\n",
      "itself: X_imp0\n",
      ".type: TensorType(int64, vector)\n",
      "type(): <class 'pymc3.model.ObservedRV'>\n",
      "shape: Shape.0\n",
      "-------------------\n",
      "-------------------\n",
      "itself: Subtensor{int64}.0\n",
      ".type: TensorType(int64, scalar)\n",
      "type(): <class 'theano.tensor.var.TensorVariable'>\n",
      "shape: Shape.0\n",
      "-------------------\n",
      "-------------------\n",
      "itself: [beta0 beta1]\n",
      ".type: no type attribute\n",
      "type(): <class 'numpy.ndarray'>\n",
      "shape: (2,)\n",
      "-------------------\n",
      "-------------------\n",
      "itself: beta0\n",
      ".type: TensorType(float64, (True,))\n",
      "type(): <class 'pymc3.model.FreeRV'>\n",
      "shape: Shape.0\n",
      "-------------------\n",
      "-------------------\n",
      "itself: Elemwise{add,no_inplace}.0\n",
      ".type: TensorType(float64, vector)\n",
      "type(): <class 'theano.tensor.var.TensorVariable'>\n",
      "shape: Shape.0\n",
      "-------------------\n",
      "-------------------\n",
      "itself: [10  9  8  1  2  1]\n",
      ".type: no type attribute\n",
      "type(): <class 'numpy.ndarray'>\n",
      "shape: (6,)\n",
      "-------------------\n"
     ]
    }
   ],
   "source": [
    "cv(X)\n",
    "cv(X[:0])\n",
    "cv(X_imp)\n",
    "cv(X_imp[0])\n",
    "cv(X_imp[0][0])\n",
    "cv(beta)\n",
    "cv(beta[0])\n",
    "cv(mu)\n",
    "cv(Y)\n"
   ]
  },
  {
   "cell_type": "markdown",
   "metadata": {},
   "source": [
    "**Obtaining starting values via MAP**"
   ]
  },
  {
   "cell_type": "code",
   "execution_count": 30,
   "metadata": {
    "collapsed": false
   },
   "outputs": [
    {
     "name": "stdout",
     "output_type": "stream",
     "text": [
      "{'beta1': array([ 1.66308512]), 'X_imp1_missing': array([], dtype=int64), 'beta0': array([ 0.00401288]), 'p_imp_logodds': array(0.0), 'sigma_interval': array(-1.5256206243094304), 'alpha': array([ 5.0001987]), 'X_imp0_missing': array([0], dtype=int64)}\n"
     ]
    }
   ],
   "source": [
    "with basic_model:\n",
    "    # Obtaining starting values via MAP\n",
    "    start = pm.find_MAP()\n",
    "\n",
    "print(start)"
   ]
  },
  {
   "cell_type": "markdown",
   "metadata": {},
   "source": [
    "**Sampling**"
   ]
  },
  {
   "cell_type": "code",
   "execution_count": 31,
   "metadata": {
    "collapsed": false
   },
   "outputs": [
    {
     "name": "stdout",
     "output_type": "stream",
     "text": [
      "Assigned <class 'pymc3.step_methods.nuts.NUTS'> to alpha\n",
      "Assigned <class 'pymc3.step_methods.nuts.NUTS'> to beta0\n",
      "Assigned <class 'pymc3.step_methods.nuts.NUTS'> to beta1\n",
      "Assigned <class 'pymc3.step_methods.nuts.NUTS'> to sigma_interval\n",
      "Assigned <class 'pymc3.step_methods.nuts.NUTS'> to p_imp_logodds\n",
      "Assigned <class 'pymc3.step_methods.metropolis.Metropolis'> to X_imp0_missing\n",
      "Assigned <class 'pymc3.step_methods.metropolis.Metropolis'> to X_imp1_missing\n"
     ]
    },
    {
     "ename": "TypeError",
     "evalue": "unorderable types: int() < NoneType()",
     "output_type": "error",
     "traceback": [
      "\u001b[1;31m---------------------------------------------------------------------------\u001b[0m",
      "\u001b[1;31mTypeError\u001b[0m                                 Traceback (most recent call last)",
      "\u001b[1;32mC:\\Anaconda3\\lib\\site-packages\\theano\\compile\\function_module.py\u001b[0m in \u001b[0;36m__call__\u001b[1;34m(self, *args, **kwargs)\u001b[0m\n\u001b[0;32m    858\u001b[0m         \u001b[1;32mtry\u001b[0m\u001b[1;33m:\u001b[0m\u001b[1;33m\u001b[0m\u001b[0m\n\u001b[1;32m--> 859\u001b[1;33m             \u001b[0moutputs\u001b[0m \u001b[1;33m=\u001b[0m \u001b[0mself\u001b[0m\u001b[1;33m.\u001b[0m\u001b[0mfn\u001b[0m\u001b[1;33m(\u001b[0m\u001b[1;33m)\u001b[0m\u001b[1;33m\u001b[0m\u001b[0m\n\u001b[0m\u001b[0;32m    860\u001b[0m         \u001b[1;32mexcept\u001b[0m \u001b[0mException\u001b[0m\u001b[1;33m:\u001b[0m\u001b[1;33m\u001b[0m\u001b[0m\n",
      "\u001b[1;31mTypeError\u001b[0m: expected type_num 9 (NPY_INT64) got 7",
      "\nDuring handling of the above exception, another exception occurred:\n",
      "\u001b[1;31mTypeError\u001b[0m                                 Traceback (most recent call last)",
      "\u001b[1;32m<ipython-input-31-2acbb0cb5308>\u001b[0m in \u001b[0;36m<module>\u001b[1;34m()\u001b[0m\n\u001b[0;32m      1\u001b[0m \u001b[1;32mwith\u001b[0m \u001b[0mbasic_model\u001b[0m\u001b[1;33m:\u001b[0m\u001b[1;33m\u001b[0m\u001b[0m\n\u001b[0;32m      2\u001b[0m     \u001b[1;31m# Draw samples from posterior\u001b[0m\u001b[1;33m\u001b[0m\u001b[1;33m\u001b[0m\u001b[0m\n\u001b[1;32m----> 3\u001b[1;33m     \u001b[0mtrace\u001b[0m \u001b[1;33m=\u001b[0m \u001b[0mpm\u001b[0m\u001b[1;33m.\u001b[0m\u001b[0msample\u001b[0m\u001b[1;33m(\u001b[0m\u001b[0mniter\u001b[0m\u001b[1;33m,\u001b[0m \u001b[0mstart\u001b[0m\u001b[1;33m=\u001b[0m\u001b[0mstart\u001b[0m\u001b[1;33m,\u001b[0m \u001b[0mrandom_seed\u001b[0m\u001b[1;33m=\u001b[0m\u001b[1;36m2015\u001b[0m\u001b[1;33m,\u001b[0m \u001b[0mprogressbar\u001b[0m\u001b[1;33m=\u001b[0m\u001b[1;32mTrue\u001b[0m\u001b[1;33m)\u001b[0m\u001b[1;33m\u001b[0m\u001b[0m\n\u001b[0m\u001b[0;32m      4\u001b[0m \u001b[1;33m\u001b[0m\u001b[0m\n\u001b[0;32m      5\u001b[0m     \u001b[1;31m# Ploting samples\u001b[0m\u001b[1;33m\u001b[0m\u001b[1;33m\u001b[0m\u001b[0m\n",
      "\u001b[1;32mC:\\Anaconda3\\lib\\site-packages\\pymc3\\sampling.py\u001b[0m in \u001b[0;36msample\u001b[1;34m(draws, step, start, trace, chain, njobs, tune, progressbar, model, random_seed)\u001b[0m\n\u001b[0;32m    153\u001b[0m         sample_args = [draws, step, start, trace, chain,\n\u001b[0;32m    154\u001b[0m                        tune, progressbar, model, random_seed]\n\u001b[1;32m--> 155\u001b[1;33m     \u001b[1;32mreturn\u001b[0m \u001b[0msample_func\u001b[0m\u001b[1;33m(\u001b[0m\u001b[1;33m*\u001b[0m\u001b[0msample_args\u001b[0m\u001b[1;33m)\u001b[0m\u001b[1;33m\u001b[0m\u001b[0m\n\u001b[0m\u001b[0;32m    156\u001b[0m \u001b[1;33m\u001b[0m\u001b[0m\n\u001b[0;32m    157\u001b[0m \u001b[1;33m\u001b[0m\u001b[0m\n",
      "\u001b[1;32mC:\\Anaconda3\\lib\\site-packages\\pymc3\\sampling.py\u001b[0m in \u001b[0;36m_sample\u001b[1;34m(draws, step, start, trace, chain, tune, progressbar, model, random_seed)\u001b[0m\n\u001b[0;32m    162\u001b[0m     \u001b[0mprogress\u001b[0m \u001b[1;33m=\u001b[0m \u001b[0mprogress_bar\u001b[0m\u001b[1;33m(\u001b[0m\u001b[0mdraws\u001b[0m\u001b[1;33m)\u001b[0m\u001b[1;33m\u001b[0m\u001b[0m\n\u001b[0;32m    163\u001b[0m     \u001b[1;32mtry\u001b[0m\u001b[1;33m:\u001b[0m\u001b[1;33m\u001b[0m\u001b[0m\n\u001b[1;32m--> 164\u001b[1;33m         \u001b[1;32mfor\u001b[0m \u001b[0mi\u001b[0m\u001b[1;33m,\u001b[0m \u001b[0mstrace\u001b[0m \u001b[1;32min\u001b[0m \u001b[0menumerate\u001b[0m\u001b[1;33m(\u001b[0m\u001b[0msampling\u001b[0m\u001b[1;33m)\u001b[0m\u001b[1;33m:\u001b[0m\u001b[1;33m\u001b[0m\u001b[0m\n\u001b[0m\u001b[0;32m    165\u001b[0m             \u001b[1;32mif\u001b[0m \u001b[0mprogressbar\u001b[0m\u001b[1;33m:\u001b[0m\u001b[1;33m\u001b[0m\u001b[0m\n\u001b[0;32m    166\u001b[0m                 \u001b[0mprogress\u001b[0m\u001b[1;33m.\u001b[0m\u001b[0mupdate\u001b[0m\u001b[1;33m(\u001b[0m\u001b[0mi\u001b[0m\u001b[1;33m)\u001b[0m\u001b[1;33m\u001b[0m\u001b[0m\n",
      "\u001b[1;32mC:\\Anaconda3\\lib\\site-packages\\pymc3\\sampling.py\u001b[0m in \u001b[0;36m_iter_sample\u001b[1;34m(draws, step, start, trace, chain, tune, model, random_seed)\u001b[0m\n\u001b[0;32m    244\u001b[0m         \u001b[1;32mif\u001b[0m \u001b[0mi\u001b[0m \u001b[1;33m==\u001b[0m \u001b[0mtune\u001b[0m\u001b[1;33m:\u001b[0m\u001b[1;33m\u001b[0m\u001b[0m\n\u001b[0;32m    245\u001b[0m             \u001b[0mstep\u001b[0m \u001b[1;33m=\u001b[0m \u001b[0mstop_tuning\u001b[0m\u001b[1;33m(\u001b[0m\u001b[0mstep\u001b[0m\u001b[1;33m)\u001b[0m\u001b[1;33m\u001b[0m\u001b[0m\n\u001b[1;32m--> 246\u001b[1;33m         \u001b[0mpoint\u001b[0m \u001b[1;33m=\u001b[0m \u001b[0mstep\u001b[0m\u001b[1;33m.\u001b[0m\u001b[0mstep\u001b[0m\u001b[1;33m(\u001b[0m\u001b[0mpoint\u001b[0m\u001b[1;33m)\u001b[0m\u001b[1;33m\u001b[0m\u001b[0m\n\u001b[0m\u001b[0;32m    247\u001b[0m         \u001b[0mstrace\u001b[0m\u001b[1;33m.\u001b[0m\u001b[0mrecord\u001b[0m\u001b[1;33m(\u001b[0m\u001b[0mpoint\u001b[0m\u001b[1;33m)\u001b[0m\u001b[1;33m\u001b[0m\u001b[0m\n\u001b[0;32m    248\u001b[0m         \u001b[1;32myield\u001b[0m \u001b[0mstrace\u001b[0m\u001b[1;33m\u001b[0m\u001b[0m\n",
      "\u001b[1;32mC:\\Anaconda3\\lib\\site-packages\\pymc3\\step_methods\\compound.py\u001b[0m in \u001b[0;36mstep\u001b[1;34m(self, point)\u001b[0m\n\u001b[0;32m     11\u001b[0m     \u001b[1;32mdef\u001b[0m \u001b[0mstep\u001b[0m\u001b[1;33m(\u001b[0m\u001b[0mself\u001b[0m\u001b[1;33m,\u001b[0m \u001b[0mpoint\u001b[0m\u001b[1;33m)\u001b[0m\u001b[1;33m:\u001b[0m\u001b[1;33m\u001b[0m\u001b[0m\n\u001b[0;32m     12\u001b[0m         \u001b[1;32mfor\u001b[0m \u001b[0mmethod\u001b[0m \u001b[1;32min\u001b[0m \u001b[0mself\u001b[0m\u001b[1;33m.\u001b[0m\u001b[0mmethods\u001b[0m\u001b[1;33m:\u001b[0m\u001b[1;33m\u001b[0m\u001b[0m\n\u001b[1;32m---> 13\u001b[1;33m             \u001b[0mpoint\u001b[0m \u001b[1;33m=\u001b[0m \u001b[0mmethod\u001b[0m\u001b[1;33m.\u001b[0m\u001b[0mstep\u001b[0m\u001b[1;33m(\u001b[0m\u001b[0mpoint\u001b[0m\u001b[1;33m)\u001b[0m\u001b[1;33m\u001b[0m\u001b[0m\n\u001b[0m\u001b[0;32m     14\u001b[0m         \u001b[1;32mreturn\u001b[0m \u001b[0mpoint\u001b[0m\u001b[1;33m\u001b[0m\u001b[0m\n",
      "\u001b[1;32mC:\\Anaconda3\\lib\\site-packages\\pymc3\\step_methods\\compound.py\u001b[0m in \u001b[0;36mstep\u001b[1;34m(self, point)\u001b[0m\n\u001b[0;32m     11\u001b[0m     \u001b[1;32mdef\u001b[0m \u001b[0mstep\u001b[0m\u001b[1;33m(\u001b[0m\u001b[0mself\u001b[0m\u001b[1;33m,\u001b[0m \u001b[0mpoint\u001b[0m\u001b[1;33m)\u001b[0m\u001b[1;33m:\u001b[0m\u001b[1;33m\u001b[0m\u001b[0m\n\u001b[0;32m     12\u001b[0m         \u001b[1;32mfor\u001b[0m \u001b[0mmethod\u001b[0m \u001b[1;32min\u001b[0m \u001b[0mself\u001b[0m\u001b[1;33m.\u001b[0m\u001b[0mmethods\u001b[0m\u001b[1;33m:\u001b[0m\u001b[1;33m\u001b[0m\u001b[0m\n\u001b[1;32m---> 13\u001b[1;33m             \u001b[0mpoint\u001b[0m \u001b[1;33m=\u001b[0m \u001b[0mmethod\u001b[0m\u001b[1;33m.\u001b[0m\u001b[0mstep\u001b[0m\u001b[1;33m(\u001b[0m\u001b[0mpoint\u001b[0m\u001b[1;33m)\u001b[0m\u001b[1;33m\u001b[0m\u001b[0m\n\u001b[0m\u001b[0;32m     14\u001b[0m         \u001b[1;32mreturn\u001b[0m \u001b[0mpoint\u001b[0m\u001b[1;33m\u001b[0m\u001b[0m\n",
      "\u001b[1;32mC:\\Anaconda3\\lib\\site-packages\\pymc3\\step_methods\\arraystep.py\u001b[0m in \u001b[0;36mstep\u001b[1;34m(self, point)\u001b[0m\n\u001b[0;32m    116\u001b[0m         \u001b[0mbij\u001b[0m \u001b[1;33m=\u001b[0m \u001b[0mDictToArrayBijection\u001b[0m\u001b[1;33m(\u001b[0m\u001b[0mself\u001b[0m\u001b[1;33m.\u001b[0m\u001b[0mordering\u001b[0m\u001b[1;33m,\u001b[0m \u001b[0mpoint\u001b[0m\u001b[1;33m)\u001b[0m\u001b[1;33m\u001b[0m\u001b[0m\n\u001b[0;32m    117\u001b[0m \u001b[1;33m\u001b[0m\u001b[0m\n\u001b[1;32m--> 118\u001b[1;33m         \u001b[0mapoint\u001b[0m \u001b[1;33m=\u001b[0m \u001b[0mself\u001b[0m\u001b[1;33m.\u001b[0m\u001b[0mastep\u001b[0m\u001b[1;33m(\u001b[0m\u001b[0mbij\u001b[0m\u001b[1;33m.\u001b[0m\u001b[0mmap\u001b[0m\u001b[1;33m(\u001b[0m\u001b[0mpoint\u001b[0m\u001b[1;33m)\u001b[0m\u001b[1;33m)\u001b[0m\u001b[1;33m\u001b[0m\u001b[0m\n\u001b[0m\u001b[0;32m    119\u001b[0m         \u001b[1;32mreturn\u001b[0m \u001b[0mbij\u001b[0m\u001b[1;33m.\u001b[0m\u001b[0mrmap\u001b[0m\u001b[1;33m(\u001b[0m\u001b[0mapoint\u001b[0m\u001b[1;33m)\u001b[0m\u001b[1;33m\u001b[0m\u001b[0m\n\u001b[0;32m    120\u001b[0m \u001b[1;33m\u001b[0m\u001b[0m\n",
      "\u001b[1;32mC:\\Anaconda3\\lib\\site-packages\\pymc3\\step_methods\\metropolis.py\u001b[0m in \u001b[0;36mastep\u001b[1;34m(self, q0)\u001b[0m\n\u001b[0;32m    123\u001b[0m \u001b[1;33m\u001b[0m\u001b[0m\n\u001b[0;32m    124\u001b[0m \u001b[1;33m\u001b[0m\u001b[0m\n\u001b[1;32m--> 125\u001b[1;33m         \u001b[0mq_new\u001b[0m \u001b[1;33m=\u001b[0m \u001b[0mmetrop_select\u001b[0m\u001b[1;33m(\u001b[0m\u001b[0mself\u001b[0m\u001b[1;33m.\u001b[0m\u001b[0mdelta_logp\u001b[0m\u001b[1;33m(\u001b[0m\u001b[0mq\u001b[0m\u001b[1;33m,\u001b[0m\u001b[0mq0\u001b[0m\u001b[1;33m)\u001b[0m\u001b[1;33m,\u001b[0m \u001b[0mq\u001b[0m\u001b[1;33m,\u001b[0m \u001b[0mq0\u001b[0m\u001b[1;33m)\u001b[0m\u001b[1;33m\u001b[0m\u001b[0m\n\u001b[0m\u001b[0;32m    126\u001b[0m \u001b[1;33m\u001b[0m\u001b[0m\n\u001b[0;32m    127\u001b[0m         \u001b[1;32mif\u001b[0m \u001b[0mq_new\u001b[0m \u001b[1;32mis\u001b[0m \u001b[0mq\u001b[0m\u001b[1;33m:\u001b[0m\u001b[1;33m\u001b[0m\u001b[0m\n",
      "\u001b[1;32mC:\\Anaconda3\\lib\\site-packages\\theano\\compile\\function_module.py\u001b[0m in \u001b[0;36m__call__\u001b[1;34m(self, *args, **kwargs)\u001b[0m\n\u001b[0;32m    869\u001b[0m                     \u001b[0mnode\u001b[0m\u001b[1;33m=\u001b[0m\u001b[0mself\u001b[0m\u001b[1;33m.\u001b[0m\u001b[0mfn\u001b[0m\u001b[1;33m.\u001b[0m\u001b[0mnodes\u001b[0m\u001b[1;33m[\u001b[0m\u001b[0mself\u001b[0m\u001b[1;33m.\u001b[0m\u001b[0mfn\u001b[0m\u001b[1;33m.\u001b[0m\u001b[0mposition_of_error\u001b[0m\u001b[1;33m]\u001b[0m\u001b[1;33m,\u001b[0m\u001b[1;33m\u001b[0m\u001b[0m\n\u001b[0;32m    870\u001b[0m                     \u001b[0mthunk\u001b[0m\u001b[1;33m=\u001b[0m\u001b[0mthunk\u001b[0m\u001b[1;33m,\u001b[0m\u001b[1;33m\u001b[0m\u001b[0m\n\u001b[1;32m--> 871\u001b[1;33m                     storage_map=getattr(self.fn, 'storage_map', None))\n\u001b[0m\u001b[0;32m    872\u001b[0m             \u001b[1;32melse\u001b[0m\u001b[1;33m:\u001b[0m\u001b[1;33m\u001b[0m\u001b[0m\n\u001b[0;32m    873\u001b[0m                 \u001b[1;31m# old-style linkers raise their own exceptions\u001b[0m\u001b[1;33m\u001b[0m\u001b[1;33m\u001b[0m\u001b[0m\n",
      "\u001b[1;32mC:\\Anaconda3\\lib\\site-packages\\theano\\gof\\link.py\u001b[0m in \u001b[0;36mraise_with_op\u001b[1;34m(node, thunk, exc_info, storage_map)\u001b[0m\n\u001b[0;32m    277\u001b[0m \u001b[1;33m\u001b[0m\u001b[0m\n\u001b[0;32m    278\u001b[0m         \u001b[1;32mfrom\u001b[0m \u001b[0moperator\u001b[0m \u001b[1;32mimport\u001b[0m \u001b[0mitemgetter\u001b[0m\u001b[1;33m\u001b[0m\u001b[0m\n\u001b[1;32m--> 279\u001b[1;33m         \u001b[0mstorage_map_list\u001b[0m\u001b[1;33m.\u001b[0m\u001b[0msort\u001b[0m\u001b[1;33m(\u001b[0m\u001b[0mkey\u001b[0m\u001b[1;33m=\u001b[0m\u001b[0mitemgetter\u001b[0m\u001b[1;33m(\u001b[0m\u001b[1;36m3\u001b[0m\u001b[1;33m)\u001b[0m\u001b[1;33m,\u001b[0m \u001b[0mreverse\u001b[0m\u001b[1;33m=\u001b[0m\u001b[1;32mTrue\u001b[0m\u001b[1;33m)\u001b[0m\u001b[1;33m\u001b[0m\u001b[0m\n\u001b[0m\u001b[0;32m    280\u001b[0m         \u001b[1;32mfor\u001b[0m \u001b[0mitem\u001b[0m \u001b[1;32min\u001b[0m \u001b[0mstorage_map_list\u001b[0m\u001b[1;33m:\u001b[0m\u001b[1;33m\u001b[0m\u001b[0m\n\u001b[0;32m    281\u001b[0m             \u001b[1;32mif\u001b[0m \u001b[0mitem\u001b[0m\u001b[1;33m[\u001b[0m\u001b[1;36m3\u001b[0m\u001b[1;33m]\u001b[0m \u001b[1;32mis\u001b[0m \u001b[1;32mNone\u001b[0m\u001b[1;33m:\u001b[0m\u001b[1;33m\u001b[0m\u001b[0m\n",
      "\u001b[1;31mTypeError\u001b[0m: unorderable types: int() < NoneType()"
     ]
    }
   ],
   "source": [
    "with basic_model:\n",
    "    # Draw samples from posterior\n",
    "    trace = pm.sample(niter, start=start, random_seed=2015, progressbar=True)\n",
    "    \n",
    "    # Ploting samples\n",
    "    pm.traceplot(trace)"
   ]
  },
  {
   "cell_type": "code",
   "execution_count": null,
   "metadata": {
    "collapsed": true
   },
   "outputs": [],
   "source": []
  }
 ],
 "metadata": {
  "kernelspec": {
   "display_name": "Python 3",
   "language": "python",
   "name": "python3"
  },
  "language_info": {
   "codemirror_mode": {
    "name": "ipython",
    "version": 3
   },
   "file_extension": ".py",
   "mimetype": "text/x-python",
   "name": "python",
   "nbconvert_exporter": "python",
   "pygments_lexer": "ipython3",
   "version": "3.4.3"
  }
 },
 "nbformat": 4,
 "nbformat_minor": 0
}
