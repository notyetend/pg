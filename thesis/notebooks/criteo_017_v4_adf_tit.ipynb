{
 "cells": [
  {
   "cell_type": "markdown",
   "metadata": {},
   "source": [
    "### Simulation SGD for titanic data"
   ]
  },
  {
   "cell_type": "code",
   "execution_count": 2,
   "metadata": {
    "collapsed": false
   },
   "outputs": [],
   "source": [
    "from datetime import datetime\n",
    "from csv import DictReader\n",
    "from math import exp, log, sqrt\n",
    "import numpy as np\n",
    "import mmh3\n",
    "import time\n",
    "from spooky import hash128, hash64, hash32\n",
    "\n",
    "from sklearn.metrics import roc_curve, auc\n",
    "import scipy.stats as stats\n",
    "import matplotlib.pyplot as plt\n",
    "import matplotlib as mpl\n",
    "\n",
    "%matplotlib inline"
   ]
  },
  {
   "cell_type": "markdown",
   "metadata": {},
   "source": [
    "###### Parameters"
   ]
  },
  {
   "cell_type": "code",
   "execution_count": 3,
   "metadata": {
    "collapsed": false
   },
   "outputs": [],
   "source": [
    "D = 2 ** 20\n",
    "rand_seed = 1004\n",
    "\n",
    "num_poly = 10\n",
    "xxi, wwi = np.polynomial.hermite.hermgauss(num_poly)"
   ]
  },
  {
   "cell_type": "code",
   "execution_count": 4,
   "metadata": {
    "collapsed": true
   },
   "outputs": [],
   "source": [
    "class DataSize:\n",
    "    def __init__(self\n",
    "                 , num_metric_check_point\n",
    "                 , num_status_check_point\n",
    "                 , num_train_data_start\n",
    "                 , num_train_data_size\n",
    "                 , num_test_data_start\n",
    "                 , num_test_data_size):\n",
    "        \n",
    "        self.num_metric_check_point = num_metric_check_point\n",
    "        self.num_status_check_point = num_status_check_point\n",
    "        \n",
    "        self.num_train_data_start = num_train_data_start\n",
    "        self.num_train_data_end = self.num_train_data_start + num_train_data_size - 1 # fixed\n",
    "        \n",
    "        self.num_test_data_start = num_test_data_start\n",
    "        self.num_test_data_end = self.num_test_data_start + num_test_data_size - 1 # fixed\n",
    "        \n",
    "    def display(self):\n",
    "        print(\"num_metric_check_point: %s\" %(self.num_metric_check_point))\n",
    "        print(\"num_status_check_point: %s\" %(self.num_status_check_point))\n",
    "        print(\"num_train_data_start  : %s\" %(self.num_train_data_start))\n",
    "        print(\"num_train_data_end    : %s\" %(self.num_train_data_end))\n",
    "        print(\"num_train_data_size   : %s\" %(self.num_train_data_end - self.num_train_data_start + 1))\n",
    "        print(\"num_test_data_start   : %s\" %(self.num_test_data_start))\n",
    "        print(\"num_test_data_end     : %s\" %(self.num_test_data_end))\n",
    "        print(\"num_test_data_size    : %s\" %(self.num_test_data_end - self.num_test_data_start + 1))"
   ]
  },
  {
   "cell_type": "code",
   "execution_count": 5,
   "metadata": {
    "collapsed": true
   },
   "outputs": [],
   "source": [
    "class FileInfo:\n",
    "    def __init__(self\n",
    "                , _file_path\n",
    "                , _f_having_header\n",
    "                , _l_header_names\n",
    "                , _seperator\n",
    "                , _l_skip_columns\n",
    "                , _ylab):\n",
    "        self.file_path = _file_path\n",
    "        self.f_having_header = _f_having_header\n",
    "        self.l_header_names = _l_header_names\n",
    "        self.seperator = _seperator\n",
    "        self.l_skip_columns = _l_skip_columns\n",
    "        self.ylab = _ylab\n",
    "    "
   ]
  },
  {
   "cell_type": "code",
   "execution_count": 6,
   "metadata": {
    "collapsed": true
   },
   "outputs": [],
   "source": [
    "fi_titanic = FileInfo(\n",
    "                r'C:/My/Playground/Git/2016_Thesis/100_Simulation/data/train.csv' # _file_path\n",
    "                , True # _f_having_header\n",
    "                , ['PassengerId', 'Survived', 'Pclass', 'Name', 'Sex'\n",
    "                   , 'Age', 'SibSp', 'Parch', 'Ticket', 'Fare', 'Cabin' , 'Embarked'] # _l_header_names\n",
    "                , ',' # _seperator\n",
    "                , ['PassengerId']# _l_skip_columns\n",
    "                , 'Survived'# _ylab\n",
    "                )\n",
    "\n",
    "fi_criteo = FileInfo(\n",
    "                r'C:\\Temp\\dac.tar\\train.txt' # _file_path\n",
    "                , False # _f_having_header\n",
    "                , ['Label'] + [ 'I' + str(i) for i in list(range(1,14))] + [ 'C' + str(i) for i in list(range(1,27))] # _l_header_names\n",
    "                , '\\t' # _seperator\n",
    "                , []# _l_skip_columns\n",
    "                , 'Label'# _ylab\n",
    "                )\n"
   ]
  },
  {
   "cell_type": "markdown",
   "metadata": {},
   "source": [
    "###### Functions"
   ]
  },
  {
   "cell_type": "code",
   "execution_count": 7,
   "metadata": {
    "collapsed": true
   },
   "outputs": [],
   "source": [
    "# csv_row must be dict\n",
    "def get_x_mmh3(csv_row, D):\n",
    "    x = [0]\n",
    "    for key, value in csv_row.items():\n",
    "        index = mmh3.hash128(str(key) + str(value), seed=rand_seed, x64arch=True) % D\n",
    "        x.append(index)\n",
    "    return x"
   ]
  },
  {
   "cell_type": "code",
   "execution_count": 8,
   "metadata": {
    "collapsed": true
   },
   "outputs": [],
   "source": [
    "# csv_row must be dict\n",
    "def get_x_spooky(csv_row, D):\n",
    "    x = [0]\n",
    "    for key, value in csv_row.items():\n",
    "        index = hash32(str(key) + str(value)) % D\n",
    "        x.append(index)\n",
    "    return x"
   ]
  },
  {
   "cell_type": "code",
   "execution_count": 9,
   "metadata": {
    "collapsed": true
   },
   "outputs": [],
   "source": [
    "def get_p(x, w):\n",
    "    wTx = 0.\n",
    "    for i in x:  # do wTx\n",
    "        wTx += w[i] * 1.  # w[i] * x[i], but if i in x we got x[i] = 1.\n",
    "    return 1. / (1. + exp(-max(min(wTx, 20.), -20.)))  # bounded sigmoid"
   ]
  },
  {
   "cell_type": "code",
   "execution_count": 10,
   "metadata": {
    "collapsed": true
   },
   "outputs": [],
   "source": [
    "# w must be numpy ndarray\n",
    "def get_p_cat(x, w):\n",
    "    wTx = sum(w[x])\n",
    "    return 1. / (1. + exp(-max(min(wTx, 20.), -20.)))  # bounded sigmoid"
   ]
  },
  {
   "cell_type": "code",
   "execution_count": 11,
   "metadata": {
    "collapsed": true
   },
   "outputs": [],
   "source": [
    "def logloss(p, y):\n",
    "    p = max(min(p, 1. - 10e-12), 10e-12)\n",
    "    return -log(p) if y == 1. else -log(1. - p)"
   ]
  },
  {
   "cell_type": "code",
   "execution_count": 12,
   "metadata": {
    "collapsed": false
   },
   "outputs": [],
   "source": [
    "def get_validation_metrics(c_fi,start, end, wlen, w, f_debug):\n",
    "    \n",
    "    log_loss = 0.\n",
    "    arr_y = []\n",
    "    arr_p = []\n",
    "        \n",
    "    f = open(c_fi.file_path)\n",
    "    for t, row in enumerate(DictReader(f, fieldnames=c_fi.l_header_names, delimiter=c_fi.seperator)):\n",
    "        if t == 0:\n",
    "            continue # just for titanic\n",
    "        \n",
    "        if t < start: # fixed\n",
    "            continue;\n",
    "\n",
    "        y = 1. if row[c_fi.ylab] == '1' else 0.\n",
    "        del row[c_fi.ylab]\n",
    "        arr_y.append(y)\n",
    "        \n",
    "        if(len(c_fi.l_skip_columns) > 0):\n",
    "            for i in range(len(c_fi.l_skip_columns)):\n",
    "                del row[(c_fi.l_skip_columns)[i]] # for titanic\n",
    "        \n",
    "        x = get_x_mmh3(row, wlen)\n",
    "        \n",
    "        p = 0\n",
    "        if(isinstance(w, list)):\n",
    "            p = get_p(x, w)\n",
    "        else:\n",
    "            p = get_p_cat(x, w)\n",
    "        arr_p.append(p)\n",
    "        \n",
    "        log_loss += logloss(p, y)   \n",
    "        \n",
    "        if f_debug:\n",
    "            if t >= 1:  # fixed\n",
    "                print(' [get_validation_metrics] %s\\tencountered: %d\\t y=%d: %f, loss:%f' % (\n",
    "                    datetime.now(), (t), y, p, log_loss/t))\n",
    "\n",
    "        # End of ...\n",
    "        if t >= end: # fixed\n",
    "            break;\n",
    "    \n",
    "    f.close()\n",
    "    \n",
    "    return(log_loss, arr_y, arr_p)\n",
    "\n",
    "#fn = ['Label'] + [ 'I' + str(i) for i in list(range(1,14))] + [ 'C' + str(i) for i in list(range(1,27))]\n",
    "#get_validation_metrics(train, fn, '\\t', 'Label', num_test_data_start, num_test_data_end, D, w)"
   ]
  },
  {
   "cell_type": "code",
   "execution_count": 13,
   "metadata": {
    "collapsed": true
   },
   "outputs": [],
   "source": [
    "def plot_log_loss(arr_log_loss):\n",
    "    x = range(len(arr_log_loss))\n",
    "    plt.plot(x, arr_log_loss, label='log_loss')"
   ]
  },
  {
   "cell_type": "code",
   "execution_count": 14,
   "metadata": {
    "collapsed": true
   },
   "outputs": [],
   "source": [
    "def plot_log_loss_comparison(c):\n",
    "    plt.figure(num=None, figsize=(13, 6), dpi=80, facecolor='w', edgecolor='k')\n",
    "\n",
    "    x1 = range(len(c[0]))\n",
    "    plt.plot(x1, c[0], 'r')\n",
    "\n",
    "    x2 = range(len(c[1]))\n",
    "    plt.plot(x2, c[1], 'b')"
   ]
  },
  {
   "cell_type": "markdown",
   "metadata": {},
   "source": [
    "# SGD"
   ]
  },
  {
   "cell_type": "markdown",
   "metadata": {},
   "source": [
    "###### Functions"
   ]
  },
  {
   "cell_type": "code",
   "execution_count": 15,
   "metadata": {
    "collapsed": true
   },
   "outputs": [],
   "source": [
    "def update_w_withn(w, n, x, p, y, alpha):\n",
    "    for i in x:\n",
    "        w[i] -= (p - y) * alpha / (sqrt(n[i]) + 1.)\n",
    "        n[i] += 1.\n",
    "    return w, n"
   ]
  },
  {
   "cell_type": "code",
   "execution_count": 16,
   "metadata": {
    "collapsed": true
   },
   "outputs": [],
   "source": [
    "def update_w(w, n, x, p, y, alpha):\n",
    "    for i in x:\n",
    "        w[i] -= (p - y) * alpha\n",
    "        n[i] += 1.\n",
    "    return w, n"
   ]
  },
  {
   "cell_type": "markdown",
   "metadata": {
    "collapsed": true
   },
   "source": [
    "###### Training function"
   ]
  },
  {
   "cell_type": "code",
   "execution_count": 17,
   "metadata": {
    "collapsed": false
   },
   "outputs": [],
   "source": [
    "def sgd_training(alpha, D, f_debug, f_step_validation, f_validation, c_ds, c_fi):\n",
    "    w = [0.] * D  # weights\n",
    "    n = np.array([0.] * (D))\n",
    "\n",
    "    start_time = time.time()\n",
    "\n",
    "    log_loss_sgd_training = 0.\n",
    "    arr_log_loss_sgd_test = []\n",
    "    \n",
    "    f = open(c_fi.file_path)\n",
    "    fn = c_fi.l_header_names\n",
    "    \n",
    "    for t, row in enumerate(DictReader(f, fieldnames=fn, delimiter=c_fi.seperator)):  # for titanic(comma seperated)\n",
    "        \n",
    "        if len(c_fi.l_skip_columns) > 0 :\n",
    "            for i in range(len(c_fi.l_skip_columns)):\n",
    "                del row[(c_fi.l_skip_columns)[i]] # for titanic\n",
    "        \n",
    "        if t == 0 & c_fi.f_having_header:\n",
    "            continue\n",
    "        \n",
    "        if t < c_ds.num_train_data_start:\n",
    "            continue\n",
    "        # Start of ...\n",
    "        \n",
    "        y = 1. if row[c_fi.ylab] == '1' else 0.\n",
    "        del row[c_fi.ylab]\n",
    "\n",
    "        x = get_x_mmh3(row, D)\n",
    "        p = get_p(x, w)\n",
    "        w, n = update_w_withn(w, n, x, p, y, alpha)\n",
    "\n",
    "        p = get_p(x, w)\n",
    "        log_loss_sgd_training += logloss(p, y)\n",
    "        \n",
    "        if f_debug:\n",
    "            if t % c_ds.num_status_check_point == 0 and t >= 1:  # for titanic\n",
    "                print('%s\\tencountered: %d\\t y=%d: %f, loss:%f' % (\n",
    "                    datetime.now(), (t), y, p, log_loss_sgd_training/t))\n",
    "        if f_step_validation:\n",
    "            if t % c_ds.num_metric_check_point == 0 and t > 1:\n",
    "                rt_log_loss, arr_y, arr_p = get_validation_metrics(\n",
    "                        c_fi\n",
    "                        , c_ds.num_test_data_start\n",
    "                        , c_ds.num_test_data_end\n",
    "                        , D\n",
    "                        , w\n",
    "                        , f_debug)\n",
    "\n",
    "                arr_log_loss_sgd_test.append(rt_log_loss / (c_ds.num_test_data_end - c_ds.num_test_data_start))\n",
    "                \n",
    "        if t >= c_ds.num_train_data_end:\n",
    "            break\n",
    "    f.close()\n",
    "\n",
    "    if f_debug:\n",
    "        print(\"---Total execution time: %s seconds ---\" % (time.time() - start_time))\n",
    "\n",
    "    # Return different variables as mode selected.\n",
    "    if f_step_validation:\n",
    "        return(arr_log_loss_sgd_test)\n",
    "    elif f_validation:\n",
    "        rt_log_loss_sgd_training = log_loss_sgd_training / (c_ds.num_train_data_end - c_ds.num_train_data_start)\n",
    "        \n",
    "        rt_log_loss_sgd_test, arr_y, arr_p = get_validation_metrics(\n",
    "                        c_fi\n",
    "                        , c_ds.num_test_data_start\n",
    "                        , c_ds.num_test_data_end\n",
    "                        , D\n",
    "                        , w\n",
    "                        , f_debug)\n",
    "        \n",
    "        rt_log_loss_sgd_test = rt_log_loss_sgd_test / (c_ds.num_test_data_end - c_ds.num_test_data_start)\n",
    "        \n",
    "        return((w, arr_y, arr_p, rt_log_loss_sgd_training, rt_log_loss_sgd_test))\n",
    "   "
   ]
  },
  {
   "cell_type": "markdown",
   "metadata": {},
   "source": [
    "# ADF"
   ]
  },
  {
   "cell_type": "markdown",
   "metadata": {},
   "source": [
    "###### Functions"
   ]
  },
  {
   "cell_type": "code",
   "execution_count": 18,
   "metadata": {
    "collapsed": true
   },
   "outputs": [],
   "source": [
    "# s_t_m_old and s_t_v_old must be numpy ndarray\n",
    "def get_s_t_new(y, s_t_m_old, s_t_v_old):\n",
    "\n",
    "    wi = wwi / np.sqrt(np.pi)\n",
    "    xi = xxi * np.sqrt(2) * np.sqrt(s_t_v_old) + s_t_m_old\n",
    "    \n",
    "    fw = 0.\n",
    "    if(y==1):\n",
    "        fw = (1. / (1. + np.exp(-xi))) * wi\n",
    "    else:\n",
    "        fw = ((np.exp(-xi)) / (1. + np.exp(-xi))) * wi\n",
    "\n",
    "    z_t = sum(fw)\n",
    "    s_t_m_new = 1. / z_t * sum(xi * fw)\n",
    "    s_t_v_new = 1. / z_t * sum((xi**2) * fw) - s_t_m_new**2\n",
    "        \n",
    "    return (s_t_m_new, s_t_v_new)"
   ]
  },
  {
   "cell_type": "code",
   "execution_count": 19,
   "metadata": {
    "collapsed": true
   },
   "outputs": [],
   "source": [
    "# theta_t_v must be numpy ndarray\n",
    "def get_a_i_cat(x, theta_t_v):\n",
    "    return theta_t_v[x] / sum(theta_t_v[x])"
   ]
  },
  {
   "cell_type": "code",
   "execution_count": 20,
   "metadata": {
    "collapsed": true
   },
   "outputs": [],
   "source": [
    "def update_theta_cat(x, theta_t_m, theta_t_v, delta_m, delta_v, n_iter, n):\n",
    "    a_i = get_a_i_cat(x, theta_t_v)\n",
    "    theta_t_m[x] += (a_i * delta_m)\n",
    "    theta_t_v[x] += ((a_i**2) * delta_v)\n",
    "    #theta_t_v[x] += ((a_i**2) * delta_v) + abs(theta_t_m[x])/min((n_iter+1.), 3000.)\n",
    "    #theta_t_v[x] += ((a_i**2) * delta_v) + abs(theta_t_m[x])/(n_iter+1.)\n",
    "    #theta_t_v[x] += ((a_i**2) * delta_v / np.sqrt(n[x] + 1.))\n",
    "    #theta_t_v[x] += ((a_i**2) * delta_v) + 1. / np.sqrt(n[x] + 1.)\n",
    "    #theta_t_v[x] += ((a_i**2) * delta_v) + abs(theta_t_m[x])/np.sqrt(n[x] + 1.)\n",
    "    n[x] += 1."
   ]
  },
  {
   "cell_type": "markdown",
   "metadata": {},
   "source": [
    "###### Trainning function"
   ]
  },
  {
   "cell_type": "code",
   "execution_count": 21,
   "metadata": {
    "collapsed": true
   },
   "outputs": [],
   "source": [
    "def adf_training(variance, D, f_debug, f_step_validation, f_validation, c_ds, c_fi):\n",
    "    theta_t_m = np.array([0.] * (D)) # mean of thetas at t\n",
    "    theta_t_v = np.array([variance] * (D)) # variance of thetas at t\n",
    "    n = np.array([0.] * D)\n",
    "\n",
    "    start_time = time.time()\n",
    "    \n",
    "    log_loss_adf_training = 0.\n",
    "    arr_log_loss_adf_test = []\n",
    "    \n",
    "    f = open(c_fi.file_path)\n",
    "    fn = c_fi.l_header_names\n",
    "    \n",
    "    for t, row in enumerate(DictReader(f, fieldnames=fn, delimiter=c_fi.seperator)):\n",
    "    \n",
    "        if len(c_fi.l_skip_columns) > 0 :\n",
    "            for i in range(len(c_fi.l_skip_columns)):\n",
    "                del row[(c_fi.l_skip_columns)[i]] # for titanic\n",
    "        \n",
    "        if t == 0 & c_fi.f_having_header:\n",
    "            continue\n",
    "            \n",
    "        if t < c_ds.num_train_data_start:\n",
    "            continue\n",
    "        # Start of ...\n",
    "\n",
    "\n",
    "        y = 1. if row[c_fi.ylab] == '1' else 0.\n",
    "        del row[c_fi.ylab]\n",
    "        \n",
    "        x = get_x_mmh3(row, D)\n",
    "\n",
    "        # Predictive distribution for s_t ~ N(s_t_m_old, s_t_v_old)\n",
    "        s_t_m_old = sum(theta_t_m[x])\n",
    "        s_t_v_old = sum(theta_t_v[x])\n",
    "\n",
    "        # Posterior distribution for s_t\n",
    "        s_t_m, s_t_v = get_s_t_new(y, s_t_m_old, s_t_v_old)\n",
    "\n",
    "        # Changes in s_t\n",
    "        delta_m = s_t_m - s_t_m_old\n",
    "        delta_v = s_t_v - s_t_v_old\n",
    "\n",
    "        # Updating theta\n",
    "        update_theta_cat(x, theta_t_m, theta_t_v, delta_m, delta_v, t, n)\n",
    "\n",
    "        p = get_p_cat(x, theta_t_m)\n",
    "\n",
    "        log_loss_adf_training += logloss(p, y)\n",
    "        \n",
    "        if f_debug:\n",
    "            if y == 1.:\n",
    "                print('%s\\tencountered: %d\\t y=%d: %f, loss:%f' % (\n",
    "                    datetime.now(), (t), y, p, log_loss_adf_training/t))\n",
    "            if t % c_ds.num_status_check_point == 0 and t > 1:\n",
    "                print('%s\\tencountered: %d\\t y=%d: %f, loss:%f' % (\n",
    "                    datetime.now(), (t), y, p, log_loss_adf_training/t))\n",
    "\n",
    "        if f_step_validation:\n",
    "            if t % c_ds.num_metric_check_point == 0 and t > 1:\n",
    "                rt_log_loss, arr_y, arr_p = get_validation_metrics(\n",
    "                        c_fi\n",
    "                        , c_ds.num_test_data_start\n",
    "                        , c_ds.num_test_data_end\n",
    "                        , D\n",
    "                        , theta_t_m\n",
    "                        , f_debug)\n",
    "                \n",
    "                arr_log_loss_adf_test.append(rt_log_loss / (c_ds.num_test_data_end - c_ds.num_test_data_start))\n",
    "\n",
    "        # End of ...\n",
    "        if t >= c_ds.num_train_data_end:\n",
    "            break\n",
    "    f.close()\n",
    "    \n",
    "    if f_debug:\n",
    "        print(\"---Total execution time: %s seconds ---\" % (time.time() - start_time))\n",
    "    \n",
    "    if f_step_validation:\n",
    "        return(arr_log_loss_adf_test)\n",
    "    \n",
    "    if f_validation:\n",
    "        rt_log_loss_adf_training = log_loss_adf_training / (c_ds.num_train_data_end - c_ds.num_train_data_start)\n",
    "        \n",
    "        rt_log_loss_adf_test, arr_y, arr_p = get_validation_metrics(\n",
    "                        c_fi\n",
    "                        , c_ds.num_test_data_start\n",
    "                        , c_ds.num_test_data_end\n",
    "                        , D\n",
    "                        , theta_t_m\n",
    "                        , f_debug)\n",
    "        rt_log_loss_adf_test = rt_log_loss_adf_test / (c_ds.num_test_data_end - c_ds.num_test_data_start)\n",
    "        \n",
    "        return((theta_t_m, arr_y, arr_p, rt_log_loss_adf_training, rt_log_loss_adf_test))\n"
   ]
  },
  {
   "cell_type": "markdown",
   "metadata": {},
   "source": [
    "# Validation"
   ]
  },
  {
   "cell_type": "markdown",
   "metadata": {},
   "source": [
    "# Let's find best parameters.(validation)"
   ]
  },
  {
   "cell_type": "code",
   "execution_count": 22,
   "metadata": {
    "collapsed": false
   },
   "outputs": [],
   "source": [
    "ds_best_param_titanic = DataSize(10      # num_metric_check_point\n",
    "                         , 1      # num_status_check_point\n",
    "                         , 1, 700        #train_start, train_size\n",
    "                         , 701, 191)    #test_start, test_size\n",
    "\n",
    "ds_best_param_criteo = DataSize(10      # num_metric_check_point\n",
    "                         , 1      # num_status_check_point\n",
    "                         , 1, 3000        #train_start, train_size\n",
    "                         , 3001, 1000)    #test_start, test_size\n"
   ]
  },
  {
   "cell_type": "markdown",
   "metadata": {},
   "source": [
    "###### SGD : alpha"
   ]
  },
  {
   "cell_type": "code",
   "execution_count": 23,
   "metadata": {
    "collapsed": false
   },
   "outputs": [
    {
     "name": "stdout",
     "output_type": "stream",
     "text": [
      "alpha: 1e-05\n",
      "2016-05-15 12:24:24.909000, i:0, param:1e-05, log-loss(tr:0.692608677652, te:0.692653485188)\n",
      "alpha: 0.0100098\n",
      "2016-05-15 12:24:25.929000, i:1, param:0.0100098, log-loss(tr:0.494319714104, te:0.482955730823)\n",
      "alpha: 0.0200096\n",
      "2016-05-15 12:24:27.098000, i:2, param:0.0200096, log-loss(tr:0.459272599665, te:0.471671907715)\n",
      "alpha: 0.0300094\n",
      "2016-05-15 12:24:28.231000, i:3, param:0.0300094, log-loss(tr:0.434222420782, te:0.46572335713)\n",
      "alpha: 0.0400092\n",
      "2016-05-15 12:24:29.063000, i:4, param:0.0400092, log-loss(tr:0.412486697376, te:0.46178916986)\n",
      "alpha: 0.050009\n",
      "2016-05-15 12:24:29.874000, i:5, param:0.050009, log-loss(tr:0.392748232747, te:0.459108887381)\n",
      "alpha: 0.0600088\n",
      "2016-05-15 12:24:30.887000, i:6, param:0.0600088, log-loss(tr:0.374481935295, te:0.457291883099)\n",
      "alpha: 0.0700086\n",
      "2016-05-15 12:24:31.797000, i:7, param:0.0700086, log-loss(tr:0.357401281743, te:0.456097063391)\n",
      "alpha: 0.0800084\n",
      "2016-05-15 12:24:32.634000, i:8, param:0.0800084, log-loss(tr:0.34132436834, te:0.455367009517)\n",
      "alpha: 0.0900082\n",
      "2016-05-15 12:24:33.605000, i:9, param:0.0900082, log-loss(tr:0.326125546143, te:0.454996391539)\n",
      "alpha: 0.100008\n",
      "2016-05-15 12:24:34.784000, i:10, param:0.100008, log-loss(tr:0.311713148433, te:0.454913415018)\n",
      "alpha: 0.1100078\n",
      "2016-05-15 12:24:35.731000, i:11, param:0.1100078, log-loss(tr:0.298017508896, te:0.455068180388)\n",
      "alpha: 0.1200076\n",
      "2016-05-15 12:24:36.669000, i:12, param:0.1200076, log-loss(tr:0.284983835438, te:0.45542523457)\n",
      "alpha: 0.1300074\n",
      "2016-05-15 12:24:37.617000, i:13, param:0.1300074, log-loss(tr:0.272567688329, te:0.455958765443)\n",
      "alpha: 0.1400072\n",
      "2016-05-15 12:24:38.527000, i:14, param:0.1400072, log-loss(tr:0.260731987309, te:0.456649479328)\n",
      "alpha: 0.150007\n",
      "2016-05-15 12:24:39.509000, i:15, param:0.150007, log-loss(tr:0.249444974112, te:0.457482555149)\n",
      "alpha: 0.1600068\n",
      "2016-05-15 12:24:40.749000, i:16, param:0.1600068, log-loss(tr:0.238678797993, te:0.458446290963)\n",
      "alpha: 0.1700066\n",
      "2016-05-15 12:24:41.890000, i:17, param:0.1700066, log-loss(tr:0.228408519695, te:0.459531198995)\n",
      "alpha: 0.1800064\n",
      "2016-05-15 12:24:43.027000, i:18, param:0.1800064, log-loss(tr:0.218611402573, te:0.460729393794)\n",
      "alpha: 0.1900062\n",
      "2016-05-15 12:24:44.206000, i:19, param:0.1900062, log-loss(tr:0.209266404163, te:0.462034173918)\n",
      "alpha: 0.200006\n",
      "2016-05-15 12:24:45.350000, i:20, param:0.200006, log-loss(tr:0.200353809717, te:0.463439732766)\n",
      "alpha: 0.2100058\n",
      "2016-05-15 12:24:46.328000, i:21, param:0.2100058, log-loss(tr:0.191854967664, te:0.464940956529)\n",
      "alpha: 0.2200056\n",
      "2016-05-15 12:24:47.227000, i:22, param:0.2200056, log-loss(tr:0.183752099085, te:0.466533281509)\n",
      "alpha: 0.2300054\n",
      "2016-05-15 12:24:48.069000, i:23, param:0.2300054, log-loss(tr:0.176028161526, te:0.468212592291)\n",
      "alpha: 0.2400052\n",
      "2016-05-15 12:24:48.966000, i:24, param:0.2400052, log-loss(tr:0.168666752966, te:0.469975148229)\n",
      "alpha: 0.250005\n",
      "2016-05-15 12:24:49.851000, i:25, param:0.250005, log-loss(tr:0.161652045535, te:0.471817529707)\n",
      "alpha: 0.2600048\n",
      "2016-05-15 12:24:50.700000, i:26, param:0.2600048, log-loss(tr:0.154968741218, te:0.473736598236)\n",
      "alpha: 0.2700046\n",
      "2016-05-15 12:24:51.603000, i:27, param:0.2700046, log-loss(tr:0.148602043587, te:0.475729466271)\n",
      "alpha: 0.2800044\n",
      "2016-05-15 12:24:52.501000, i:28, param:0.2800044, log-loss(tr:0.142537640966, te:0.477793473825)\n",
      "alpha: 0.2900042\n",
      "2016-05-15 12:24:53.354000, i:29, param:0.2900042, log-loss(tr:0.136761697418, te:0.479926169828)\n",
      "alpha: 0.300004\n",
      "2016-05-15 12:24:54.235000, i:30, param:0.300004, log-loss(tr:0.131260848716, te:0.482125296746)\n",
      "alpha: 0.3100038\n",
      "2016-05-15 12:24:55.121000, i:31, param:0.3100038, log-loss(tr:0.126022201108, te:0.484388777426)\n",
      "alpha: 0.3200036\n",
      "2016-05-15 12:24:56.035000, i:32, param:0.3200036, log-loss(tr:0.12103333118, te:0.486714703416)\n",
      "alpha: 0.3300034\n",
      "2016-05-15 12:24:56.944000, i:33, param:0.3300034, log-loss(tr:0.116282285599, te:0.489101324237)\n",
      "alpha: 0.3400032\n",
      "2016-05-15 12:24:57.852000, i:34, param:0.3400032, log-loss(tr:0.111757579863, te:0.491547037252)\n",
      "alpha: 0.350003\n",
      "2016-05-15 12:24:58.739000, i:35, param:0.350003, log-loss(tr:0.107448195524, te:0.494050377885)\n",
      "alpha: 0.3600028\n",
      "2016-05-15 12:24:59.641000, i:36, param:0.3600028, log-loss(tr:0.103343575602, te:0.496610010042)\n",
      "alpha: 0.3700026\n",
      "2016-05-15 12:25:00.529000, i:37, param:0.3700026, log-loss(tr:0.0994336181138, te:0.499224716666)\n",
      "alpha: 0.3800024\n",
      "2016-05-15 12:25:01.424000, i:38, param:0.3800024, log-loss(tr:0.0957086677815, te:0.501893390371)\n",
      "alpha: 0.3900022\n",
      "2016-05-15 12:25:02.342000, i:39, param:0.3900022, log-loss(tr:0.0921595061041, te:0.504615024186)\n",
      "alpha: 0.400002\n",
      "2016-05-15 12:25:03.269000, i:40, param:0.400002, log-loss(tr:0.0887773400299, te:0.507388702425)\n",
      "alpha: 0.4100018\n",
      "2016-05-15 12:25:04.189000, i:41, param:0.4100018, log-loss(tr:0.0855537894977, te:0.510213591738)\n",
      "alpha: 0.4200016\n",
      "2016-05-15 12:25:05.088000, i:42, param:0.4200016, log-loss(tr:0.0824808741181, te:0.513088932394)\n",
      "alpha: 0.4300014\n",
      "2016-05-15 12:25:05.984000, i:43, param:0.4300014, log-loss(tr:0.0795509992534, te:0.516014029864)\n",
      "alpha: 0.4400012\n",
      "2016-05-15 12:25:06.903000, i:44, param:0.4400012, log-loss(tr:0.0767569417269, te:0.51898824675)\n",
      "alpha: 0.450001\n",
      "2016-05-15 12:25:07.854000, i:45, param:0.450001, log-loss(tr:0.0740918353604, te:0.522010995111)\n",
      "alpha: 0.4600008\n",
      "2016-05-15 12:25:08.737000, i:46, param:0.4600008, log-loss(tr:0.0715491565046, te:0.525081729236)\n",
      "alpha: 0.4700006\n",
      "2016-05-15 12:25:09.645000, i:47, param:0.4700006, log-loss(tr:0.0691227096953, te:0.528199938882)\n",
      "alpha: 0.4800004\n",
      "2016-05-15 12:25:10.573000, i:48, param:0.4800004, log-loss(tr:0.0668066135364, te:0.531365142997)\n",
      "alpha: 0.4900002\n",
      "2016-05-15 12:25:11.563000, i:49, param:0.4900002, log-loss(tr:0.0645952868867, te:0.534576883951)\n",
      "---Total execution time: 47.6629998684 seconds ---\n"
     ]
    }
   ],
   "source": [
    "#arr_alpha = list(np.linspace(.00001, 2., 50, endpoint=False)) # for titanic\n",
    "arr_alpha = list(np.linspace(.00001, .5, 50, endpoint=False)) # for criteo\n",
    "\n",
    "arr_log_loss_sgd_train_best_alpha = [0]*len(arr_alpha)\n",
    "arr_log_loss_sgd_test_best_alpha = [0]*len(arr_alpha)\n",
    "\n",
    "start_time = time.time()\n",
    "for i in range(0,len(arr_alpha)):\n",
    "    print('alpha: %s' %(arr_alpha[i]))\n",
    "    param, arr_y, arr_p, arr_log_loss_sgd_train_best_alpha[i], arr_log_loss_sgd_test_best_alpha[i] = sgd_training(alpha =\n",
    "             arr_alpha[i]\n",
    "             , D = 2**20\n",
    "             , f_debug = False\n",
    "             , f_step_validation = False\n",
    "             , f_validation = True\n",
    "                                                                                                    \n",
    "             #, c_ds = ds_best_param_titanic\n",
    "             , c_ds = ds_best_param_criteo\n",
    "                                                                                                    \n",
    "             #, c_fi = fi_titanic)\n",
    "             , c_fi = fi_criteo)\n",
    "    print('%s, i:%s, param:%s, log-loss(tr:%s, te:%s)' %(datetime.now(), i, arr_alpha[i]\n",
    "                                                     , arr_log_loss_sgd_train_best_alpha[i]\n",
    "                                                     , arr_log_loss_sgd_test_best_alpha[i]))\n",
    "\n",
    "print(\"---Total execution time: %s seconds ---\" % (time.time() - start_time))"
   ]
  },
  {
   "cell_type": "code",
   "execution_count": 24,
   "metadata": {
    "collapsed": false,
    "scrolled": false
   },
   "outputs": [
    {
     "data": {
      "text/plain": [
       "(10, 0.100008, 0.4549134150179444)"
      ]
     },
     "execution_count": 24,
     "metadata": {},
     "output_type": "execute_result"
    },
    {
     "data": {
      "image/png": "[encoded data removed]",
      "text/plain": [
       "<matplotlib.figure.Figure at 0x3fb3c50>"
      ]
     },
     "metadata": {},
     "output_type": "display_data"
    }
   ],
   "source": [
    "plt.figure(num=None, figsize=(13, 6), dpi=80, facecolor='w', edgecolor='k')\n",
    "plt.plot(arr_alpha, arr_log_loss_sgd_train_best_alpha, marker='o', color='r')\n",
    "plt.plot(arr_alpha, arr_log_loss_sgd_test_best_alpha, marker='o', color='b')\n",
    "\n",
    "ndarr_test = np.array(arr_log_loss_sgd_test_best_alpha)\n",
    "(ndarr_test.argmin(), arr_alpha[ndarr_test.argmin()], arr_log_loss_sgd_test_best_alpha[ndarr_test.argmin()])\n"
   ]
  },
  {
   "cell_type": "markdown",
   "metadata": {},
   "source": [
    "###### ADF : variance"
   ]
  },
  {
   "cell_type": "code",
   "execution_count": 25,
   "metadata": {
    "collapsed": false
   },
   "outputs": [
    {
     "name": "stdout",
     "output_type": "stream",
     "text": [
      "2016-05-15 12:25:13.614000, i:0, param:0.0001, log-loss(tr:0.617901077649, te:0.563628771552)\n",
      "2016-05-15 12:25:14.917000, i:1, param:0.004098, log-loss(tr:0.474281767633, te:0.467237422222)\n",
      "2016-05-15 12:25:15.998000, i:2, param:0.008096, log-loss(tr:0.448740800087, te:0.460788749673)\n",
      "2016-05-15 12:25:17.160000, i:3, param:0.012094, log-loss(tr:0.430093641179, te:0.45810323598)\n",
      "2016-05-15 12:25:18.516000, i:4, param:0.016092, log-loss(tr:0.414742018098, te:0.456880443114)\n",
      "2016-05-15 12:25:19.635000, i:5, param:0.02009, log-loss(tr:0.401432040148, te:0.456393242324)\n",
      "2016-05-15 12:25:20.766000, i:6, param:0.024088, log-loss(tr:0.389554715597, te:0.456336134218)\n",
      "2016-05-15 12:25:21.899000, i:7, param:0.028086, log-loss(tr:0.378760729095, te:0.456557256635)\n",
      "2016-05-15 12:25:23.063000, i:8, param:0.032084, log-loss(tr:0.368827630076, te:0.456971977995)\n",
      "2016-05-15 12:25:24.187000, i:9, param:0.036082, log-loss(tr:0.359603063556, te:0.457528999898)\n",
      "2016-05-15 12:25:25.314000, i:10, param:0.04008, log-loss(tr:0.350976928046, te:0.458195140638)\n",
      "2016-05-15 12:25:26.443000, i:11, param:0.044078, log-loss(tr:0.342866316238, te:0.458947789913)\n",
      "2016-05-15 12:25:27.595000, i:12, param:0.048076, log-loss(tr:0.335206742418, te:0.459770867744)\n",
      "2016-05-15 12:25:28.743000, i:13, param:0.052074, log-loss(tr:0.327946724112, te:0.460652522232)\n",
      "2016-05-15 12:25:29.880000, i:14, param:0.056072, log-loss(tr:0.321044272644, te:0.461583749506)\n",
      "2016-05-15 12:25:31, i:15, param:0.06007, log-loss(tr:0.314464528837, te:0.462557530281)\n",
      "2016-05-15 12:25:32.143000, i:16, param:0.064068, log-loss(tr:0.308178116451, te:0.463568269496)\n",
      "2016-05-15 12:25:33.295000, i:17, param:0.068066, log-loss(tr:0.302159962554, te:0.46461142087)\n",
      "2016-05-15 12:25:34.455000, i:18, param:0.072064, log-loss(tr:0.296388431498, te:0.465683228255)\n",
      "2016-05-15 12:25:35.597000, i:19, param:0.076062, log-loss(tr:0.290844675433, te:0.466780542943)\n",
      "2016-05-15 12:25:36.756000, i:20, param:0.08006, log-loss(tr:0.285512138042, te:0.467900691765)\n",
      "2016-05-15 12:25:37.942000, i:21, param:0.084058, log-loss(tr:0.280376169005, te:0.469041379912)\n",
      "2016-05-15 12:25:39.098000, i:22, param:0.088056, log-loss(tr:0.275423720069, te:0.470200618054)\n",
      "2016-05-15 12:25:40.244000, i:23, param:0.092054, log-loss(tr:0.270643102251, te:0.471376666756)\n",
      "2016-05-15 12:25:41.411000, i:24, param:0.096052, log-loss(tr:0.266023789595, te:0.472567993467)\n",
      "2016-05-15 12:25:42.573000, i:25, param:0.10005, log-loss(tr:0.261556258828, te:0.473773238758)\n",
      "2016-05-15 12:25:43.754000, i:26, param:0.104048, log-loss(tr:0.257231857089, te:0.474991189497)\n",
      "2016-05-15 12:25:44.971000, i:27, param:0.108046, log-loss(tr:0.25304269184, te:0.476220757281)\n",
      "2016-05-15 12:25:46.104000, i:28, param:0.112044, log-loss(tr:0.248981538499, te:0.477460960914)\n",
      "2016-05-15 12:25:47.303000, i:29, param:0.116042, log-loss(tr:0.245041762367, te:0.478710912021)\n",
      "2016-05-15 12:25:48.438000, i:30, param:0.12004, log-loss(tr:0.241217252193, te:0.479969803137)\n",
      "2016-05-15 12:25:49.902000, i:31, param:0.124038, log-loss(tr:0.237502363272, te:0.481236897763)\n",
      "2016-05-15 12:25:51.515000, i:32, param:0.128036, log-loss(tr:0.233891868446, te:0.48251152199)\n",
      "2016-05-15 12:25:53.402000, i:33, param:0.132034, log-loss(tr:0.230380915664, te:0.4837930574)\n",
      "2016-05-15 12:25:55.194000, i:34, param:0.136032, log-loss(tr:0.226964991048, te:0.485080935001)\n",
      "2016-05-15 12:25:56.798000, i:35, param:0.14003, log-loss(tr:0.223639886604, te:0.486374630029)\n",
      "2016-05-15 12:25:58.539000, i:36, param:0.144028, log-loss(tr:0.220401671861, te:0.487673657442)\n",
      "2016-05-15 12:26:00.099000, i:37, param:0.148026, log-loss(tr:0.217246668867, te:0.488977568014)\n",
      "2016-05-15 12:26:01.320000, i:38, param:0.152024, log-loss(tr:0.214171430064, te:0.490285944926)\n",
      "2016-05-15 12:26:02.531000, i:39, param:0.156022, log-loss(tr:0.211172718623, te:0.491598400766)\n",
      "2016-05-15 12:26:04.337000, i:40, param:0.16002, log-loss(tr:0.208247490928, te:0.492914574895)\n",
      "2016-05-15 12:26:05.975000, i:41, param:0.164018, log-loss(tr:0.205392880914, te:0.494234131108)\n",
      "2016-05-15 12:26:07.403000, i:42, param:0.168016, log-loss(tr:0.202606186017, te:0.495556755565)\n",
      "2016-05-15 12:26:08.816000, i:43, param:0.172014, log-loss(tr:0.199884854541, te:0.496882154937)\n",
      "2016-05-15 12:26:10.289000, i:44, param:0.176012, log-loss(tr:0.197226474274, te:0.498210054753)\n",
      "2016-05-15 12:26:11.711000, i:45, param:0.18001, log-loss(tr:0.194628762186, te:0.499540197914)\n",
      "2016-05-15 12:26:13.544000, i:46, param:0.184008, log-loss(tr:0.192089555098, te:0.500872343356)\n",
      "2016-05-15 12:26:15.360000, i:47, param:0.188006, log-loss(tr:0.189606801213, te:0.502206264846)\n",
      "2016-05-15 12:26:16.697000, i:48, param:0.192004, log-loss(tr:0.187178552398, te:0.503541749882)\n",
      "2016-05-15 12:26:18.236000, i:49, param:0.196002, log-loss(tr:0.18480295715, te:0.50487859871)\n",
      "---Total execution time: 66.2219998837 seconds ---\n"
     ]
    }
   ],
   "source": [
    "#arr_var = list(np.linspace(.0001, 2., 50, endpoint=False)) # for titanic\n",
    "arr_var = list(np.linspace(.0001, .2, 50, endpoint=False)) # for criteo\n",
    "\n",
    "arr_log_loss_adf_train_best_var = [0]*len(arr_var)\n",
    "arr_log_loss_adf_test_best_var = [0]*len(arr_var)\n",
    "\n",
    "start_time = time.time()\n",
    "\n",
    "for i in range(0,len(arr_var)):\n",
    "    param, arr_y, arr_p, arr_log_loss_adf_train_best_var[i], arr_log_loss_adf_test_best_var[i] = adf_training(variance = arr_var[i]\n",
    "             , D = 2**20\n",
    "             , f_debug = False\n",
    "             , f_step_validation = False\n",
    "             , f_validation = True\n",
    "            \n",
    "             #, c_ds = ds_best_param_titanic\n",
    "             , c_ds = ds_best_param_criteo\n",
    "                                                                                                    \n",
    "             #, c_fi = fi_titanic)\n",
    "             , c_fi = fi_criteo)\n",
    "    print('%s, i:%s, param:%s, log-loss(tr:%s, te:%s)' %(datetime.now(), i, arr_var[i]\n",
    "                                                     , arr_log_loss_adf_train_best_var[i]\n",
    "                                                     , arr_log_loss_adf_test_best_var[i]))\n",
    "    \n",
    "print(\"---Total execution time: %s seconds ---\" % (time.time() - start_time))"
   ]
  },
  {
   "cell_type": "code",
   "execution_count": 26,
   "metadata": {
    "collapsed": false
   },
   "outputs": [
    {
     "data": {
      "text/plain": [
       "(6, 0.024088000000000002, 0.45633613421798297)"
      ]
     },
     "execution_count": 26,
     "metadata": {},
     "output_type": "execute_result"
    },
    {
     "data": {
      "image/png": "[encoded data removed]",
      "text/plain": [
       "<matplotlib.figure.Figure at 0x9b5e748>"
      ]
     },
     "metadata": {},
     "output_type": "display_data"
    }
   ],
   "source": [
    "plt.figure(num=None, figsize=(13, 6), dpi=80, facecolor='w', edgecolor='k')\n",
    "plt.plot(arr_var, arr_log_loss_adf_train_best_var, marker='o', color= 'r')\n",
    "plt.plot(arr_var, arr_log_loss_adf_test_best_var, marker='o', color= 'b')\n",
    "\n",
    "ndarr_test = np.array(arr_log_loss_adf_test_best_var)\n",
    "(ndarr_test.argmin(), arr_var[ndarr_test.argmin()], arr_log_loss_adf_test_best_var[ndarr_test.argmin()])"
   ]
  },
  {
   "cell_type": "markdown",
   "metadata": {
    "collapsed": true
   },
   "source": [
    "# Tracing log-loss as the number of sample grows(step_validation)"
   ]
  },
  {
   "cell_type": "code",
   "execution_count": 27,
   "metadata": {
    "collapsed": false,
    "scrolled": false
   },
   "outputs": [
    {
     "name": "stdout",
     "output_type": "stream",
     "text": [
      "num_metric_check_point: 16\n",
      "num_status_check_point: 1\n",
      "num_train_data_start  : 1\n",
      "num_train_data_end    : 800\n",
      "num_train_data_size   : 800\n",
      "num_test_data_start   : 801\n",
      "num_test_data_end     : 891\n",
      "num_test_data_size    : 91\n",
      "num_metric_check_point: 2000\n",
      "num_status_check_point: 1\n",
      "num_train_data_start  : 1\n",
      "num_train_data_end    : 100000\n",
      "num_train_data_size   : 100000\n",
      "num_test_data_start   : 100001\n",
      "num_test_data_end     : 110000\n",
      "num_test_data_size    : 10000\n"
     ]
    }
   ],
   "source": [
    "ds_step_vali_titanic = DataSize(np.round(800/50)      # num_metric_check_point\n",
    "                         , 1      # num_status_check_point\n",
    "                         , 1, 800        #train_start, train_size\n",
    "                         , 801, 91)    #test_start, test_size\n",
    "\n",
    "ds_step_vali_criteo = DataSize(np.round(1000/50)      # num_metric_check_point\n",
    "                         , 1      # num_status_check_point\n",
    "                         , 1, 1000        #train_start, train_size\n",
    "                         , 1001, 100)    #test_start, test_size\n",
    "\n",
    "ds_step_vali_criteo = DataSize(np.round(100000/50)      # num_metric_check_point\n",
    "                         , 1      # num_status_check_point\n",
    "                         , 1, 100000        #train_start, train_size\n",
    "                         , 100001, 10000)    #test_start, test_size\n",
    "\n",
    "ds_step_vali_titanic.display()\n",
    "ds_step_vali_criteo.display()"
   ]
  },
  {
   "cell_type": "markdown",
   "metadata": {},
   "source": [
    "###### SGD "
   ]
  },
  {
   "cell_type": "code",
   "execution_count": 29,
   "metadata": {
    "collapsed": false,
    "scrolled": true
   },
   "outputs": [
    {
     "name": "stdout",
     "output_type": "stream",
     "text": [
      "---Total execution time: 119.680999994 seconds ---\n"
     ]
    },
    {
     "data": {
      "text/plain": [
       "(49, 0.44698741592897445)"
      ]
     },
     "execution_count": 29,
     "metadata": {},
     "output_type": "execute_result"
    },
    {
     "data": {
      "image/png": "[encoded data removed]",
      "text/plain": [
       "<matplotlib.figure.Figure at 0x8524780>"
      ]
     },
     "metadata": {},
     "output_type": "display_data"
    }
   ],
   "source": [
    "alpha = 0.92000539999999997 # best for titanic\n",
    "alpha = 0.100008 # best for criteo\n",
    "\n",
    "start_time = time.time()\n",
    "\n",
    "TEST_DATA = 'C'\n",
    "if(TEST_DATA == 'T'):  \n",
    "    arr_log_loss_sgd_test = sgd_training(alpha = alpha\n",
    "                                             , D = 2**20\n",
    "                                             , f_debug = False\n",
    "                                             , f_step_validation = True\n",
    "                                             , f_validation = False\n",
    "                                             , c_ds = ds_step_vali_titanic\n",
    "                                             #, c_ds = ds_step_vali_criteo\n",
    "                                             , c_fi = fi_titanic)\n",
    "                                             #, c_fi = fi_criteo)\n",
    "elif(TEST_DATA == 'C'):\n",
    "    arr_log_loss_sgd_test = sgd_training(alpha = alpha\n",
    "                                             , D = 2**20\n",
    "                                             , f_debug = False\n",
    "                                             , f_step_validation = True\n",
    "                                             , f_validation = False\n",
    "                                             #, c_ds = ds_step_vali_titanic\n",
    "                                             , c_ds = ds_step_vali_criteo\n",
    "                                             #, c_fi = fi_titanic)\n",
    "                                             , c_fi = fi_criteo)\n",
    "    \n",
    "print(\"---Total execution time: %s seconds ---\" % (time.time() - start_time))\n",
    "\n",
    "plot_log_loss(arr_log_loss_sgd_test)\n",
    "\n",
    "ndarr_log_loss_sgd_test = np.array(arr_log_loss_sgd_test)\n",
    "(ndarr_log_loss_sgd_test.argmin(), arr_log_loss_sgd_test[ndarr_log_loss_sgd_test.argmin()])"
   ]
  },
  {
   "cell_type": "markdown",
   "metadata": {},
   "source": [
    "###### ADF"
   ]
  },
  {
   "cell_type": "code",
   "execution_count": 30,
   "metadata": {
    "collapsed": false,
    "scrolled": true
   },
   "outputs": [
    {
     "name": "stdout",
     "output_type": "stream",
     "text": [
      "---Total execution time: 129.832999945 seconds ---\n"
     ]
    },
    {
     "data": {
      "text/plain": [
       "(49, 0.4457743238543679)"
      ]
     },
     "execution_count": 30,
     "metadata": {},
     "output_type": "execute_result"
    },
    {
     "data": {
      "image/png": "[encoded data removed]",
      "text/plain": [
       "<matplotlib.figure.Figure at 0x852ada0>"
      ]
     },
     "metadata": {},
     "output_type": "display_data"
    }
   ],
   "source": [
    "init_v = 0.52007399999999993 # best for titanic\n",
    "#         0.024088000000000002\n",
    "init_v = 0.034088000000000002 # best for criteo\n",
    "\n",
    "start_time = time.time()\n",
    "\n",
    "TEST_DATA = 'C'\n",
    "if(TEST_DATA == 'T'):\n",
    "    arr_log_loss_adf_test = adf_training(variance = init_v\n",
    "                                             , D = 2**20\n",
    "                                             , f_debug = False\n",
    "                                             , f_step_validation = True\n",
    "                                             , f_validation = False\n",
    "                                             , c_ds = ds_step_vali_titanic\n",
    "                                             #, c_ds = ds_step_vali_criteo\n",
    "                                             , c_fi = fi_titanic)\n",
    "                                             #, c_fi = fi_criteo)\n",
    "elif(TEST_DATA == 'C'):\n",
    "    arr_log_loss_adf_test = adf_training(variance = init_v\n",
    "                                             , D = 2**20\n",
    "                                             , f_debug = False\n",
    "                                             , f_step_validation = True\n",
    "                                             , f_validation = False\n",
    "                                             #, c_ds = ds_step_vali_titanic\n",
    "                                             , c_ds = ds_step_vali_criteo\n",
    "                                             #, c_fi = fi_titanic)\n",
    "                                             , c_fi = fi_criteo)\n",
    "\n",
    "print(\"---Total execution time: %s seconds ---\" % (time.time() - start_time))\n",
    "\n",
    "plot_log_loss(arr_log_loss_adf_test)\n",
    "\n",
    "ndarr_log_loss_adf_test = np.array(arr_log_loss_adf_test)\n",
    "(ndarr_log_loss_adf_test.argmin(), arr_log_loss_adf_test[ndarr_log_loss_adf_test.argmin()])"
   ]
  },
  {
   "cell_type": "markdown",
   "metadata": {},
   "source": [
    "중간에 튀어 오르는 부분은 특이치의 영향일 것이다."
   ]
  },
  {
   "cell_type": "code",
   "execution_count": 31,
   "metadata": {
    "collapsed": false
   },
   "outputs": [
    {
     "data": {
      "image/png": "[encoded data removed]",
      "text/plain": [
       "<matplotlib.figure.Figure at 0x852a240>"
      ]
     },
     "metadata": {},
     "output_type": "display_data"
    }
   ],
   "source": [
    "plot_log_loss_comparison((arr_log_loss_adf_test, arr_log_loss_sgd_test))"
   ]
  },
  {
   "cell_type": "markdown",
   "metadata": {
    "collapsed": true
   },
   "source": [
    "# ROC & AUC"
   ]
  },
  {
   "cell_type": "code",
   "execution_count": 32,
   "metadata": {
    "collapsed": false
   },
   "outputs": [],
   "source": [
    "ds_more_vali_titanic = DataSize(np.round(800/50)      # num_metric_check_point\n",
    "                         , 1      # num_status_check_point\n",
    "                         , 1, 800        #train_start, train_size\n",
    "                         , 801, 91)    #test_start, test_size\n",
    "\n",
    "ds_more_vali_criteo = DataSize(np.round(1000/50)      # num_metric_check_point\n",
    "                         , 1      # num_status_check_point\n",
    "                         , 1, 1000        #train_start, train_size\n",
    "                         , 1001, 100)    #test_start, test_size\n"
   ]
  },
  {
   "cell_type": "markdown",
   "metadata": {},
   "source": [
    "###### SGD"
   ]
  },
  {
   "cell_type": "code",
   "execution_count": 33,
   "metadata": {
    "collapsed": false
   },
   "outputs": [
    {
     "name": "stdout",
     "output_type": "stream",
     "text": [
      "---Total execution time: 0.159999847412 seconds ---\n"
     ]
    },
    {
     "data": {
      "text/plain": [
       "(49, 0.44698741592897445)"
      ]
     },
     "execution_count": 33,
     "metadata": {},
     "output_type": "execute_result"
    },
    {
     "data": {
      "image/png": "[encoded data removed]",
      "text/plain": [
       "<matplotlib.figure.Figure at 0xa7ff978>"
      ]
     },
     "metadata": {},
     "output_type": "display_data"
    }
   ],
   "source": [
    "alpha = 0.92000539999999997 # best for titanic\n",
    "\n",
    "\n",
    "start_time = time.time()\n",
    "\n",
    "param_w, arr_sgd_y, arr_sgd_p, log_loss_sgd_train, log_loss_sgd_test = sgd_training(alpha = alpha\n",
    "                                         , D = 2**20\n",
    "                                         , f_debug = False\n",
    "                                         , f_step_validation = False\n",
    "                                         , f_validation = True\n",
    "                                         , c_ds = ds_more_vali_titanic\n",
    "                                         , c_fi = fi_titanic)\n",
    "\n",
    "print(\"---Total execution time: %s seconds ---\" % (time.time() - start_time))\n",
    "\n",
    "plot_log_loss(arr_log_loss_sgd_test)\n",
    "\n",
    "ndarr_log_loss_sgd_test = np.array(arr_log_loss_sgd_test)\n",
    "(ndarr_log_loss_sgd_test.argmin(), arr_log_loss_sgd_test[ndarr_log_loss_sgd_test.argmin()])"
   ]
  },
  {
   "cell_type": "markdown",
   "metadata": {},
   "source": [
    "###### ADF"
   ]
  },
  {
   "cell_type": "code",
   "execution_count": 34,
   "metadata": {
    "collapsed": false
   },
   "outputs": [
    {
     "name": "stdout",
     "output_type": "stream",
     "text": [
      "---Total execution time: 0.358000040054 seconds ---\n"
     ]
    },
    {
     "data": {
      "text/plain": [
       "(49, 0.4457743238543679)"
      ]
     },
     "execution_count": 34,
     "metadata": {},
     "output_type": "execute_result"
    },
    {
     "data": {
      "image/png": "[encoded data removed]",
      "text/plain": [
       "<matplotlib.figure.Figure at 0x9c286a0>"
      ]
     },
     "metadata": {},
     "output_type": "display_data"
    }
   ],
   "source": [
    "init_v = 0.52007399999999993 # best for titanic\n",
    "\n",
    "\n",
    "start_time = time.time()\n",
    "param_theta, arr_adf_y, arr_adf_p, log_loss_adf_train, log_loss_adf_test = adf_training(variance = init_v\n",
    "                                         , D = 2**20\n",
    "                                         , f_debug = False\n",
    "                                         , f_step_validation = False\n",
    "                                         , f_validation = True\n",
    "                                         , c_ds = ds_more_vali_titanic\n",
    "                                         , c_fi = fi_titanic)\n",
    "print(\"---Total execution time: %s seconds ---\" % (time.time() - start_time))\n",
    "\n",
    "plot_log_loss(arr_log_loss_adf_test)\n",
    "\n",
    "ndarr_log_loss_adf_test = np.array(arr_log_loss_adf_test)\n",
    "(ndarr_log_loss_adf_test.argmin(), arr_log_loss_adf_test[ndarr_log_loss_adf_test.argmin()])"
   ]
  },
  {
   "cell_type": "markdown",
   "metadata": {},
   "source": [
    "###### Comparison"
   ]
  },
  {
   "cell_type": "code",
   "execution_count": 35,
   "metadata": {
    "collapsed": false
   },
   "outputs": [
    {
     "data": {
      "image/png": "[encoded data removed]",
      "text/plain": [
       "<matplotlib.figure.Figure at 0x85b3710>"
      ]
     },
     "metadata": {},
     "output_type": "display_data"
    }
   ],
   "source": [
    "#fpr_sgd = dict()\n",
    "#tpr_sgd = dict()\n",
    "#roc_auc_sgd = dict()\n",
    "\n",
    "fpr_sgd, tpr_sgd, _ = roc_curve(arr_sgd_y, arr_sgd_p)\n",
    "roc_auc_sgd = auc(fpr_sgd, tpr_sgd) #auc\n",
    "\n",
    "fpr_adf, tpr_adf, _ = roc_curve(arr_adf_y, arr_adf_p)\n",
    "roc_auc_adf = auc(fpr_adf, tpr_adf) #auc\n",
    "\n",
    "plt.figure()\n",
    "plt.plot(fpr_sgd, tpr_sgd, label='SGD', color='b')\n",
    "plt.plot(fpr_adf, tpr_adf, label='ADF', color='r')\n",
    "\n",
    "\n",
    "plt.xlabel('False Positive Rate')\n",
    "plt.ylabel('True Positive Rate')\n",
    "plt.title('ROC Curve')\n",
    "plt.legend(loc=\"lower right\")\n",
    "plt.show() # or use command %matplotlib inline"
   ]
  },
  {
   "cell_type": "code",
   "execution_count": 36,
   "metadata": {
    "collapsed": false
   },
   "outputs": [
    {
     "data": {
      "text/plain": [
       "(0.90041279669762642, 0.88802889576883381)"
      ]
     },
     "execution_count": 36,
     "metadata": {},
     "output_type": "execute_result"
    }
   ],
   "source": [
    "(roc_auc_sgd, roc_auc_adf)"
   ]
  },
  {
   "cell_type": "code",
   "execution_count": null,
   "metadata": {
    "collapsed": true
   },
   "outputs": [],
   "source": []
  },
  {
   "cell_type": "code",
   "execution_count": null,
   "metadata": {
    "collapsed": true
   },
   "outputs": [],
   "source": []
  },
  {
   "cell_type": "code",
   "execution_count": null,
   "metadata": {
    "collapsed": true
   },
   "outputs": [],
   "source": []
  },
  {
   "cell_type": "code",
   "execution_count": null,
   "metadata": {
    "collapsed": true
   },
   "outputs": [],
   "source": []
  },
  {
   "cell_type": "code",
   "execution_count": null,
   "metadata": {
    "collapsed": true
   },
   "outputs": [],
   "source": []
  },
  {
   "cell_type": "code",
   "execution_count": null,
   "metadata": {
    "collapsed": true
   },
   "outputs": [],
   "source": []
  }
 ],
 "metadata": {
  "kernelspec": {
   "display_name": "Python 2",
   "language": "python",
   "name": "python2"
  },
  "language_info": {
   "codemirror_mode": {
    "name": "ipython",
    "version": 2
   },
   "file_extension": ".py",
   "mimetype": "text/x-python",
   "name": "python",
   "nbconvert_exporter": "python",
   "pygments_lexer": "ipython2",
   "version": "2.7.11"
  }
 },
 "nbformat": 4,
 "nbformat_minor": 0
}
