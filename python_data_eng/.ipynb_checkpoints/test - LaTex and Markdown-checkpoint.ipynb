{
 "cells": [
  {
   "cell_type": "markdown",
   "metadata": {},
   "source": [
    "### Latex for ML"
   ]
  },
  {
   "cell_type": "markdown",
   "metadata": {},
   "source": [
    "###### Relationships"
   ]
  },
  {
   "cell_type": "markdown",
   "metadata": {},
   "source": [
    "$$\\subseteq$$"
   ]
  },
  {
   "cell_type": "markdown",
   "metadata": {},
   "source": [
    "."
   ]
  },
  {
   "cell_type": "markdown",
   "metadata": {},
   "source": [
    "."
   ]
  },
  {
   "cell_type": "markdown",
   "metadata": {},
   "source": [
    "."
   ]
  },
  {
   "cell_type": "markdown",
   "metadata": {},
   "source": [
    "."
   ]
  },
  {
   "cell_type": "markdown",
   "metadata": {},
   "source": [
    "> Defined $\\triangleq$\n",
    "$$\\mathbb{KL}(p||q) \\triangleq \\int p(x) \\log \\frac{p(x)}{q(x)}dx$$"
   ]
  },
  {
   "cell_type": "markdown",
   "metadata": {},
   "source": [
    "> Vector\n",
    "$$\\mathbf{x}$$"
   ]
  },
  {
   "cell_type": "markdown",
   "metadata": {},
   "source": [
    "> Cases\n",
    "$$y = \\begin{cases} 1 & \\rm{if} ~ z \\geq \\theta \\\\ 0 & \\rm{otherwise}\n",
    "\\end{cases}$$"
   ]
  },
  {
   "cell_type": "markdown",
   "metadata": {},
   "source": [
    "> Real number\n",
    "$$\\mathbb{R}$$"
   ]
  },
  {
   "cell_type": "markdown",
   "metadata": {},
   "source": [
    "> equiv in distribution\n",
    "$$\\,{\\buildrel d \\over \\equiv}\\,$$"
   ]
  },
  {
   "cell_type": "markdown",
   "metadata": {},
   "source": [
    "---\n",
    "\n",
    "---\n",
    "\n",
    "# [Markdown]"
   ]
  },
  {
   "cell_type": "markdown",
   "metadata": {},
   "source": [
    "This memo is based on Roshan's youtube video\n",
    "[https://www.youtube.com/watch?v=-F4WS8o-G2A] "
   ]
  },
  {
   "cell_type": "markdown",
   "metadata": {},
   "source": [
    "## Headings\n",
    "\n",
    "# Heading 1 with one shap('#') or hot key '1' in the command mode\n",
    "\n",
    "Alternative heading 1 with any number of equal sign('=')\n",
    "======\n",
    "\n",
    "\n",
    "## Heading 2 with two shap('##') or hot key '2' in the command mode\n",
    "\n",
    "Alternative heading 2 with any number of dash('-') sign\n",
    "---\n",
    "\n",
    "\n",
    "\n",
    "### Heading 3 with three shap('###') or hot key '3' in the command mode\n",
    "\n",
    "\n",
    "\n",
    "#### Heading 4 with four shap('####') or hot key '4' in the command mode\n",
    "\n",
    "\n",
    "##### Heading 5 with five shap('#####') or hot key '5' in the command mode\n",
    "\n",
    "\n",
    "###### Heading 6 with six shap('######') or hot key '6' in the command mode"
   ]
  },
  {
   "cell_type": "markdown",
   "metadata": {},
   "source": [
    "**Code:**\n",
    "\n",
    "# Heading 1 with one shap('#') or hot key '1' in the command mode\n",
    "\n",
    "Alternative heading 1 with any number of equal sign('=')\n",
    "======\n",
    "\n",
    "\n",
    "## Heading 2 with two shap('##') or hot key '2' in the command mode\n",
    "\n",
    "Alternative heading 2 with any number of dash('-') sign\n",
    "---\n",
    "\n",
    "\n",
    "\n",
    "### Heading 3 with three shap('###') or hot key '3' in the command mode\n",
    "\n",
    "\n",
    "\n",
    "#### Heading 4 with four shap('####') or hot key '4' in the command mode\n",
    "\n",
    "\n",
    "##### Heading 5 with five shap('#####') or hot key '5' in the command mode\n",
    "\n",
    "\n",
    "###### Heading 6 with six shap('######') or hot key '6' in the command mode"
   ]
  },
  {
   "cell_type": "markdown",
   "metadata": {},
   "source": [
    "## Font Styles"
   ]
  },
  {
   "cell_type": "markdown",
   "metadata": {},
   "source": [
    "**You can use bold style with double asterisk**\n",
    "\n",
    "__or bold style with underscore__\n",
    "\n",
    "*Single asterisk is used for italic style.*\n",
    "\n",
    "_or single underscore could be used for italic style_\n",
    "\n",
    "~~You can make StrikeThrough text using triple Tilde~~~\n",
    "\n",
    "<u>Markdown doesn't support underline but you can use under scored text usually for url using '/u' HTML tag</u>"
   ]
  },
  {
   "cell_type": "markdown",
   "metadata": {},
   "source": [
    "**Code:**\n",
    "\n",
    "**You can use bold style with double asterisk**\n",
    "\n",
    "__or bold style with underscore__\n",
    "\n",
    "*Single asterisk is used for italic style.*\n",
    "\n",
    "_or single underscore could be used for italic style_\n",
    "\n",
    "~~You can make StrikeThrough text using triple Tilde~~~\n",
    "\n",
    "<u>Markdown doesn't support underline but you can use under scored text usually for url using '/u' HTML tag</u>"
   ]
  },
  {
   "cell_type": "markdown",
   "metadata": {},
   "source": [
    "## Lists"
   ]
  },
  {
   "cell_type": "markdown",
   "metadata": {},
   "source": [
    "**Unordered list with dash('-') and sub items with additional space before dash. (There should be space after dash.)**\n",
    "\n",
    "- item 1\n",
    "- item 2\n",
    " - sub item 2-1\n",
    " - sub item 2-2\n",
    "- item 3\n",
    "\n",
    "**Ordered list with number + dot and sub items with additional space before number.(There should be space after dot.**\n",
    "1. item 1\n",
    "2. item 2\n",
    " 1. sub item 2-1\n",
    " 2. sub item 2-2\n",
    "3. item 3"
   ]
  },
  {
   "cell_type": "markdown",
   "metadata": {},
   "source": [
    "**Code:**\n",
    "\n",
    "- item 1\n",
    "- item 2\n",
    " - sub item 2-1\n",
    " - sub item 2-2\n",
    "- item 3\n",
    "\n",
    "1. item 1\n",
    "2. item 2\n",
    " 1. sub item 2-1\n",
    " 2. sub item 2-2\n",
    "3. item 3"
   ]
  },
  {
   "cell_type": "markdown",
   "metadata": {},
   "source": [
    "## Links"
   ]
  },
  {
   "cell_type": "markdown",
   "metadata": {},
   "source": [
    "http://www.google.com/\n",
    "\n",
    "[Google](http://www.google.com/)"
   ]
  },
  {
   "cell_type": "markdown",
   "metadata": {},
   "source": [
    "**Code:**\n",
    "\n",
    "http://www.google.com/\n",
    "\n",
    "[Google](http://www.google.com/)"
   ]
  },
  {
   "cell_type": "markdown",
   "metadata": {},
   "source": [
    "## Images"
   ]
  },
  {
   "cell_type": "markdown",
   "metadata": {},
   "source": [
    " ![Remote image](https://www.google.co.kr/logos/doodles/2015/hangul-proclamation-day-2015-6256395615731712-hp.png \"Tooltip for remote image\")\n",
    " \n",
    " ![Local image](./images/hangul-proclamation-day-2015-6256395615731712-res.png \"Tooltip for local image\")"
   ]
  },
  {
   "cell_type": "markdown",
   "metadata": {},
   "source": [
    "**Code:**\n",
    "\n",
    " ![Remote image](https://www.google.co.kr/logos/doodles/2015/hangul-proclamation-day-2015-6256395615731712-hp.png \"Tooltip for remote image\")\n",
    " \n",
    " ![Local image](./images/hangul-proclamation-day-2015-6256395615731712-res.png \"Tooltip for local image\")"
   ]
  },
  {
   "cell_type": "markdown",
   "metadata": {},
   "source": [
    "## Quotes"
   ]
  },
  {
   "cell_type": "markdown",
   "metadata": {},
   "source": [
    "> Why, oh why, Javascript??? Wars, faine, planetary destruction... I guess as a species, we deserve this abomination...\n",
    ">\n",
    "> [Fernando Peres](https://twitter.com/fperez_org)"
   ]
  },
  {
   "cell_type": "markdown",
   "metadata": {},
   "source": [
    "**Code:**\n",
    "\n",
    "> Why, oh why, Javascript??? Wars, faine, planetary destruction... I guess as a species, we deserve this abomination...\n",
    ">\n",
    "> [Fernando Peres](https://twitter.com/fperez_org)"
   ]
  },
  {
   "cell_type": "markdown",
   "metadata": {},
   "source": [
    "## Horizontal Line"
   ]
  },
  {
   "cell_type": "markdown",
   "metadata": {},
   "source": [
    "---"
   ]
  },
  {
   "cell_type": "markdown",
   "metadata": {},
   "source": [
    "**Code:**\n",
    "\n",
    "---"
   ]
  },
  {
   "cell_type": "markdown",
   "metadata": {},
   "source": [
    "## Tables"
   ]
  },
  {
   "cell_type": "markdown",
   "metadata": {},
   "source": [
    "| Tables   | Are     | Cool          |\n",
    "|----------|:-------:|--------------:|\n",
    "| col1     |centered |right-aligned  |\n",
    "|          |         |               |\n"
   ]
  },
  {
   "cell_type": "markdown",
   "metadata": {},
   "source": [
    "**Code:**\n",
    "\n",
    "| Tables   | Are     | Cool          |\n",
    "|----------|:-------:|--------------:|\n",
    "| col1     |centered |right-aligned  |\n",
    "|          |         |               |\n"
   ]
  },
  {
   "cell_type": "markdown",
   "metadata": {},
   "source": [
    "## HTML"
   ]
  },
  {
   "cell_type": "markdown",
   "metadata": {},
   "source": [
    "## You can render almost any HTML code you like.\n",
    "\n",
    "<b>You</b> can <i>render</i> almost any <span style=\"color:red;\">HTML</span> code you <u>like</u>"
   ]
  },
  {
   "cell_type": "markdown",
   "metadata": {},
   "source": [
    "**Code:**\n",
    "\n",
    "## You can render almost any HTML code you like.\n",
    "\n",
    "<b>You</b> can <i>render</i> almost any <span style=\"color:red;\">HTML</span> code you <u>like</u>"
   ]
  },
  {
   "cell_type": "markdown",
   "metadata": {},
   "source": [
    "## Code"
   ]
  },
  {
   "cell_type": "markdown",
   "metadata": {},
   "source": [
    "You can add in line code like this import numpy as np Or block code:\n",
    "\n",
    "Python code:\n",
    "```Python\n",
    "x = 5\n",
    "print '%.2f\" % x\n",
    "```\n",
    "\n",
    "Java Script Code:\n",
    "```javascript\n",
    "x=5\n",
    "alert(x);\n",
    "```"
   ]
  },
  {
   "cell_type": "markdown",
   "metadata": {},
   "source": [
    "**Code:**\n",
    "\n",
    "Python code:\n",
    "```Python\n",
    "x = 5\n",
    "print '%.2f\" % x\n",
    "```\n",
    "\n",
    "Java Script Code:\n",
    "```javascript\n",
    "x=5\n",
    "alert(x);\n",
    "```"
   ]
  },
  {
   "cell_type": "markdown",
   "metadata": {},
   "source": [
    "## Miscellaneous"
   ]
  },
  {
   "cell_type": "markdown",
   "metadata": {},
   "source": [
    "**How do you get double-underscores to display in markdown?**\n",
    "\n",
    "\\__file__\n",
    "\n",
    "or\n",
    "\n",
    "`__file__`\n",
    "\n",
    "or\n",
    "\n",
    "__file_\\_\n",
    "\n",
    "or\n",
    "\n",
    "&#95;file&#95;"
   ]
  },
  {
   "cell_type": "markdown",
   "metadata": {},
   "source": [
    "**How to insert line breaks?**\n",
    "\n",
    "A paragraph is simply one or more consecutive lines of text, separated by one or more blank lines. (A blank line is any line that looks like a blank line — a line containing nothing but spaces or tabs is considered blank.) Normal paragraphs should not be indented with spaces or tabs.\n",
    "\n",
    "The implication of the \"one or more consecutive lines of text\" rule is that Markdown supports \"hard-wrapped\" text paragraphs. This differs significantly from most other text-to-HTML formatters (including Movable Type's \"Convert Line Breaks\" option) which translate every line break character in a paragraph into a `<br />` tag.\n",
    "\n",
    "When you do want to insert a `<br />` break tag using Markdown, you end a line with two or more spaces, then type return.\n",
    "\n",
    "Yes, this takes a tad more effort to create a `<br />`, but a simplistic \"every line break is a `<br />`\" rule wouldn't work for Markdown. Markdown's email-style blockquoting and multi-paragraph list items work best — and look better — when you format them with hard breaks.\n",
    "\n",
    "문단을 나누지 않고 줄을 바꾸고 싶다면 <u>문장 끝에 스페이스를 두개 이상</u> 넣고 줄을 바꾸면 된다. 혹은 <u>`<br />` tag</u>를 사용해도 된다.\n",
    "\n",
    "Hello  \n",
    "world\n",
    "\n",
    "or\n",
    "\n",
    "Hello <br />world"
   ]
  },
  {
   "cell_type": "markdown",
   "metadata": {},
   "source": [
    "**Horizontal spacing**\n",
    "\n",
    "refer to [http://meta.stackexchange.com/questions/107083/multiple-spaces-in-backticks-are-not-converted-into-unbreakable-ones]\n",
    "\n",
    "문장 시작 시 앞에 tab이나 5개 이상의 space를 넣는다. \n",
    "\n",
    "단어 사이에 빈 칸을 더 넣고 싶으면 ```&nbsp;```, ```&ensp;```, ```&emsp;```를 사용한다."
   ]
  },
  {
   "cell_type": "markdown",
   "metadata": {},
   "source": [
    "12345   \n",
    "[tab]   \n",
    "\n",
    "    Hello\n",
    "        World\n",
    "\n",
    "Hello &nbsp;&nbsp;&nbsp;&nbsp;&nbsp;&nbsp; world  \n",
    "Hello $~~~~~$ world\n",
    "\n"
   ]
  },
  {
   "cell_type": "markdown",
   "metadata": {},
   "source": [
    "---\n",
    "\n",
    "---\n",
    "\n",
    "# [LaTex]"
   ]
  },
  {
   "cell_type": "markdown",
   "metadata": {},
   "source": [
    "### References\n",
    "\n",
    "- LaTex Wiki\n",
    "- Duke University, Department of Satistical Science\n",
    "- Equation Sheet"
   ]
  },
  {
   "cell_type": "markdown",
   "metadata": {},
   "source": [
    "##Inline and block:\n",
    "You can use LaTex in line by like this $y = x^2$ or in block like this $$y = x^2$$"
   ]
  },
  {
   "cell_type": "markdown",
   "metadata": {},
   "source": [
    "**Code:**\n",
    "\n",
    "You can use LaTex in line by like this $y = x^2$ or in block like this $$y = x^2$$"
   ]
  },
  {
   "cell_type": "markdown",
   "metadata": {},
   "source": [
    "##Operators:\n",
    "\n",
    "- Add:\n",
    " - $x + y$\n",
    "- Subtract:\n",
    " - $x - y$\n",
    "- Multiply\n",
    " - $x * y$\n",
    " - $x \\times y$\n",
    " - $x . y$\n",
    "- Divide\n",
    " - $x / y$\n",
    " - $x \\div y$\n",
    " - $\\frac{x}{y}$ "
   ]
  },
  {
   "cell_type": "markdown",
   "metadata": {},
   "source": [
    "**Code:**\n",
    "\n",
    "- Add:\n",
    " - $x + y$\n",
    "- Subtract:\n",
    " - $x - y$\n",
    "- Multiply\n",
    " - $x * y$\n",
    " - $x \\times y$\n",
    " - $x . y$\n",
    "- Divide\n",
    " - $x / y$\n",
    " - $x \\div y$\n",
    " - $\\frac{x}{y}$ "
   ]
  },
  {
   "cell_type": "markdown",
   "metadata": {},
   "source": [
    "##Relations:\n",
    "- $\\pi \\approx 3.14159$\n",
    "- ${1 \\over 0} \\neq \\infty$\n",
    "- $0 < x > 1 $\n",
    "- $0 \\leq x \\geq 1$"
   ]
  },
  {
   "cell_type": "markdown",
   "metadata": {},
   "source": [
    "**Code:**\n",
    "\n",
    "- $\\pi \\approx 3.14159$\n",
    "- ${1 \\over 0} \\neq \\infty$\n",
    "- $0 < x > 1 $\n",
    "- $0 \\leq x \\geq 1$"
   ]
  },
  {
   "cell_type": "markdown",
   "metadata": {},
   "source": [
    "##Fractions:\n",
    "- $^1/_2$\n",
    "- $\\frac{1}{2x}$\n",
    "- ${3 \\over 4}$"
   ]
  },
  {
   "cell_type": "markdown",
   "metadata": {},
   "source": [
    "**Code:**\n",
    "\n",
    "- $^1/_2$\n",
    "- $\\frac{1}{2x}$\n",
    "- ${3 \\over 4}$"
   ]
  },
  {
   "cell_type": "markdown",
   "metadata": {},
   "source": [
    "##Greek Alphabet:\n",
    "\n",
    "- $\\alpha$ $A$\n",
    ">```$\\alpha$ $A$```\n",
    "\n",
    "- $\\beta$ $B$\n",
    ">```$\\beta$ $B$```\n",
    " \n",
    "- $\\gamma$ $\\Gamma$\n",
    ">```$\\gamma$ $\\Gamma$```\n",
    "\n",
    "- $\\delta$ $\\Delta$\n",
    ">```$\\delta$ $\\Delta$```\n",
    "\n",
    "- $\\epsilon$ $E$ $\\varepsilon$\n",
    ">```$\\epsilon$ $E$ $\\varepsilon$```\n",
    "\n",
    "- $\\zeta$ $Z$\n",
    ">```$\\zeta$ $Z$```\n",
    "\n",
    "- $\\eta$ $H$\n",
    ">```$\\eta$ $H$```\n",
    "\n",
    "- $\\theta$ $\\Theta$ $\\vartheta$\n",
    ">```$\\theta$ $\\Theta$ $\\vartheta$```\n",
    "\n",
    "- $\\iota$ $I$\n",
    ">```$\\iota$ $I$```\n",
    "\n",
    "- $\\kappa$ $K$ $\\varkappa$\n",
    ">```$\\kappa$ $K$ $\\varkappa$```\n",
    "\n",
    "- $\\lambda$ $\\Lambda$\n",
    ">```$\\lambda$ $\\Lambda$```\n",
    "\n",
    "- $\\mu$ $M$\n",
    ">```$\\mu$ $M$```\n",
    "\n",
    "- $\\nu$ $N$\n",
    ">```$\\nu$ $N$```\n",
    "\n",
    "- $\\xi$ $\\Xi$\n",
    ">```$\\xi$ $\\Xi$```\n",
    "\n",
    "- $\\omicron$ $O$\n",
    ">```$\\omicron$ $O$```\n",
    "\n",
    "- $\\pi$ $\\Pi$ $\\varpi$\n",
    ">```$\\pi$ $\\Pi$ $\\varpi$```\n",
    "\n",
    "- $\\rho$ $P$ $\\varrho$\n",
    ">```$\\rho$ $P$ $\\varrho$```\n",
    "\n",
    "- $\\sigma$ $\\Sigma$ $\\varsigma$\n",
    ">```$\\sigma$ $\\Sigma$ $\\varsigma$```\n",
    "\n",
    "- $\\tau$ $T$\n",
    ">```$\\tau$ $T$```\n",
    "\n",
    "- $\\upsilon$ $\\Upsilon$\n",
    ">```$\\upsilon$ $\\Upsilon$```\n",
    "\n",
    "- $\\phi$ $\\Phi$ $\\varphi$\n",
    ">```$\\phi$ $\\Phi$ $\\varphi$```\n",
    "\n",
    "- $\\chi$ $X$\n",
    ">```$\\chi$ $X$```\n",
    "\n",
    "- $\\psi$ $\\Psi$\n",
    ">```$\\psi$ $\\Psi$```\n",
    "\n",
    "- $\\omega$ $\\Omega$\n",
    ">```$\\omega$ $\\Omega$```"
   ]
  },
  {
   "cell_type": "markdown",
   "metadata": {},
   "source": [
    "##Power & Index:\n",
    "\n",
    "You can add power using the carrot ^ symbol. If you have more than one character you have to enclose them in a curly brackets.\n",
    "$$f(x)=x^2 - x^{{1} \\over \\pi}$$\n",
    "\n",
    "For index you can use the underscore symbol:\n",
    "$$f(X,n) = X_n + X_{n-1}$$"
   ]
  },
  {
   "cell_type": "markdown",
   "metadata": {},
   "source": [
    "**Code:**\n",
    "$$f(x)=x^2 - x^{{1} \\over \\pi}$$\n",
    "  \n",
    "$$f(X,n) = X_n + X_{n-1}$$"
   ]
  },
  {
   "cell_type": "markdown",
   "metadata": {},
   "source": [
    "## Roots & Log:\n",
    "You can express a square root in LaTex using the \\sqrt and to change the level of the root you can use \\sqrt[n] where n is the level of the root. \n",
    "\n",
    "$$f(x)=\\sqrt[3]{2x} + \\sqrt{x-2}$$\n",
    "\n",
    "To represent a log use \\log[base] where base is the base of the logarithmic term.\n",
    "\n",
    "$$\\log_{x} x = 1$$"
   ]
  },
  {
   "cell_type": "markdown",
   "metadata": {},
   "source": [
    "**Code:**\n",
    "$$f(x)=\\sqrt[3]{2x} + \\sqrt{x-2}$$\n",
    "\n",
    "$$\\log_{x} x = 1$$"
   ]
  },
  {
   "cell_type": "markdown",
   "metadata": {},
   "source": [
    "##Sums & Products:\n",
    "You can represent a sum with a sigma using \\sum\\limits_{a}^{b} where a and b are the lower and higher limits of the sum.\n",
    "\n",
    "$$\\sum\\limits_{x=1}^{\\infty} {1 \\over x} = 2$$\n",
    "\n",
    "Also you can represent a product with \\prod\\limits_{a}^{b} where a and b are the lower and higher limits.\n",
    "\n",
    "$$\\prod\\limits_{i=1}^{n} {x_i - 1}$$"
   ]
  },
  {
   "cell_type": "markdown",
   "metadata": {},
   "source": [
    "**Code:**\n",
    "\n",
    "$$\\sum\\limits_{x=1}^{\\infty} {1 \\over x} = 2$$\n",
    "\n",
    "$$\\prod\\limits_{i=1}^{n} {x_i - 1}$$"
   ]
  },
  {
   "cell_type": "markdown",
   "metadata": {},
   "source": [
    "##Statistics:\n",
    "To represent basic concepts in statistics about sample space S, you can represent a maximum:\n",
    "\n",
    "$$max{S} = \\max\\limits_{i: S_i \\in S} S_i$$\n",
    "\n",
    "In the same way you can get the minimum:\n",
    "\n",
    "$$min{S} = \\max\\limits_{i: S_i \\in S} S_i$$\n",
    "\n",
    "To represent a [binomial coefficient]() with n choose k, use the following:\n",
    "\n",
    "$$\\frac{n!}{k!(n-k)!} = {n \\choose k}$$"
   ]
  },
  {
   "cell_type": "markdown",
   "metadata": {},
   "source": [
    "$$max{S} = \\max\\limits_{i: S_i \\in S} S_i$$\n",
    "\n",
    "$$min{S} = \\max\\limits_{i: S_i \\in S} S_i$$\n",
    "\n",
    "$$\\frac{n!}{k!(n-k)!} = {n \\choose k}$$"
   ]
  },
  {
   "cell_type": "markdown",
   "metadata": {},
   "source": [
    "##Calculus:\n",
    "Limits are represented using \\lim\\limits+{x \\to a} as x approaches a.\n",
    "\n",
    "$$\\lim\\limits_{x \\to 0^+} \\frac{1}{0}=\\infty$$\n",
    "\n",
    "For integral equations use \\inf\\limits_{a}^{b} where a and b are the lower and higher limits.\n",
    "\n",
    "$$\\int\\limits_a^b 2x \\, dx$$"
   ]
  },
  {
   "cell_type": "markdown",
   "metadata": {},
   "source": [
    "**Code:**\n",
    "\n",
    "$$\\lim\\limits_{x \\to 0^+} \\frac{1}{0}=\\infty$$\n",
    "\n",
    "$$\\int\\limits_a^b 2x \\, dx$$"
   ]
  },
  {
   "cell_type": "markdown",
   "metadata": {},
   "source": [
    "##Function definition over periods\n",
    "Defining a function that is calculated differently over a number of period can done using LaTex. There are a few tricks that we will use to do that:\n",
    "- The large curly bracket \\left\\{ ... \\right. Notice it you want to use ( or [ you don't have to add a back slash(\\). You can also place a right side matching bracket by replacing the . after \\right like this .right}\n",
    "- Array to hold the definitions in place. it has two columns with left alignment. `\\begin{array}{ll} ... \\end{array}`\n",
    "- Line Breaker `\\\\`\n",
    "- Text alignment box `\\mbox{Text}`\n",
    "\n",
    "$$f(x) = \n",
    "\\left\\{\n",
    "        \\begin{array}{ll}\n",
    "                0         &   \\mbox{if } x=0       \\\\\n",
    "            {1 \\over x}   &   \\mbox{if } x \\neq 0\n",
    "        \\end{array}\n",
    "\\right.\n",
    "$$\n",
    "\n",
    "**Note:** If you are planning to show your notebook in NBViewer write your latex code in one line. For example you can write the code above like this:\n",
    "\n",
    "<center>`$$f(x) = \\left\\{\\begin{array}{ll}0 & \\mbox{if } x=0 \\\\{1 \\over x} & \\mbox{if } x \\neq 0\\end{array}\\right.$$`</center>"
   ]
  },
  {
   "cell_type": "markdown",
   "metadata": {},
   "source": [
    "**Code:**\n",
    "$$f(x) = \n",
    "\\left\\{\n",
    "        \\begin{array}{ll}\n",
    "                0         &   \\mbox{if } x=0       \\\\\n",
    "            {1 \\over x}   &   \\mbox{if } x \\neq 0\n",
    "        \\end{array}\n",
    "\\right.\n",
    "$$"
   ]
  },
  {
   "cell_type": "markdown",
   "metadata": {},
   "source": [
    "##Quick Quiz (Normal Distribution)\n",
    "Try to replicate the [Normal Distribution]() formula using LaTex. if you solve it, leave the LaTeX code in the comments below. **_Don't cheat._**\n",
    "\n",
    "$$P(x, \\sigma, \\mu) = \\frac{1}{\\sigma\\sqrt{2\\pi}}e^{-(x-\\mu)^2 / 2 \\sigma^2}$$\n",
    "\n",
    "Tips to help with the quiz:\n",
    "- $\\mu$ is \\mu\n",
    "- $\\sigma$ is \\sigma\n",
    "- $e$ is e"
   ]
  },
  {
   "cell_type": "markdown",
   "metadata": {},
   "source": [
    "**Code:**\n",
    "$$P(x, \\sigma, \\mu) = \\frac{1}{\\sigma\\sqrt{2\\pi}}e^{-(x-\\mu)^2 / 2 \\sigma^2}$$"
   ]
  },
  {
   "cell_type": "markdown",
   "metadata": {},
   "source": [
    "## Horizontal spacing"
   ]
  },
  {
   "cell_type": "markdown",
   "metadata": {},
   "source": [
    "refer to [http://tex.stackexchange.com/questions/74353/what-commands-are-there-for-horizontal-spacing]\n",
    "\n",
    "```\n",
    "There are a number of horizontal spacing macros for LaTeX:\n",
    "\n",
    "\\, inserts a \\thinspace (equivalent to .16667em) in text mode, or \\thinmuskip (equivalent to 3mu) in math mode;\n",
    "\\! inserts a negative \\thinmuskip in math mode;\n",
    "\\> inserts \\medmuskip (equivalent to 4.0mu plus 2.0mu minus 4.0mu) in math mode;\n",
    "\\; inserts \\thickmuskip (equivalent to 5.0mu plus 5.0mu) in math mode;\n",
    "\\: is equivalent to \\> (see above);\n",
    "\\enspace inserts a space of .5em in text or math mode;\n",
    "\\quad inserts a space of 1em in text or math mode;\n",
    "\\qquad inserts a space of 2em in text or math mode;\n",
    "\\kern <len> inserts a skip of <len> (may be negative) in text or math mode (a plain TeX skip);\n",
    "\\hskip <len> (similar to \\kern);\n",
    "\\hspace{<len>} inserts a space of length <len> (may be negative) in math or text mode (a LaTeX \\hskip);\n",
    "\\hphantom{<stuff>} inserts space of length equivalent to <stuff> in math or text mode. Should be \\protected when used in fragile commands (like \\caption and sectional headings);\n",
    "\\  inserts what is called a \"control space\" (in text or math mode);\n",
    "~ inserts an \"unbreakable\" space (similar to an HTML &nbsp;) (in text or math mode);\n",
    "\\hfill inserts a so-called \"rubber length\" or stretch between elements (in text or math mode). Note that you may need to provide a type of anchor to fill from/to; see What is the difference between \\hspace*{\\fill} and \\hfill?;```"
   ]
  },
  {
   "cell_type": "markdown",
   "metadata": {},
   "source": [
    "## Symbols\n",
    "\n",
    "> Refers to [http://web.ift.uib.no/Teori/KURS/WRK/TeX/symALL.html]\n",
    "\n",
    " \\leq                 \\geq                \\equiv              \\models       \n",
    " \\prec                \\succ               \\sim                \\perp         \n",
    " \\preceq              \\succeq             \\simeq              \\mid          \n",
    " \\ll                  \\gg                 \\asymp              \\parallel     \n",
    " \\subset              \\supset             \\approx             \\bowtie       \n",
    " \\subseteq            \\supseteq           \\cong               \\Join$^b$     \n",
    " \\sqsubset$^b$        \\sqsupset$^b$       \\neq                \\smile        \n",
    " \\sqsubseteq          \\sqsupseteq         \\doteq              \\frown        \n",
    " \\in                  \\ni                 \\propto             =             \n",
    " \\vdash               \\dashv              <                   >             \n",
    " :\n"
   ]
  }
 ],
 "metadata": {
  "anaconda-cloud": {},
  "kernelspec": {
   "display_name": "Python [conda root]",
   "language": "python",
   "name": "conda-root-py"
  },
  "language_info": {
   "codemirror_mode": {
    "name": "ipython",
    "version": 3
   },
   "file_extension": ".py",
   "mimetype": "text/x-python",
   "name": "python",
   "nbconvert_exporter": "python",
   "pygments_lexer": "ipython3",
   "version": "3.5.2"
  }
 },
 "nbformat": 4,
 "nbformat_minor": 0
}
