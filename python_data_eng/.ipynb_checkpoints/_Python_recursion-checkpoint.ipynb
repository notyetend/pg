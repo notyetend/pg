{
 "cells": [
  {
   "cell_type": "markdown",
   "metadata": {},
   "source": [
    "> reference\n",
    "- http://neopythonic.blogspot.kr/2009/04/tail-recursion-elimination.html\n",
    "- http://openbookproject.net/thinkcs/python/english3e/recursion.html\n",
    "- http://www.openbookproject.net/thinkcs/python/english2e/ch11.html\n",
    "- https://www.python-course.eu/recursive_functions.php\n",
    "- https://stackoverflow.com/questions/39046311/python-base-case-of-a-recursive-function\n",
    "- https://www.amazon.com/Elements-Programming-Interviews-Python-Insiders/dp/1537713949/ref=sr_1_4?ie=UTF8&qid=1520820287&sr=8-4&keywords=algorithms+with+python"
   ]
  },
  {
   "cell_type": "code",
   "execution_count": 1,
   "metadata": {
    "collapsed": true
   },
   "outputs": [],
   "source": [
    "t1 = {'a':1, 'b':2, 'c':{'d':3, 'e':{'f':4, 'g':5}}}"
   ]
  },
  {
   "cell_type": "code",
   "execution_count": null,
   "metadata": {
    "collapsed": true
   },
   "outputs": [],
   "source": []
  }
 ],
 "metadata": {
  "kernelspec": {
   "display_name": "Python 3",
   "language": "python",
   "name": "python3"
  },
  "language_info": {
   "codemirror_mode": {
    "name": "ipython",
    "version": 3
   },
   "file_extension": ".py",
   "mimetype": "text/x-python",
   "name": "python",
   "nbconvert_exporter": "python",
   "pygments_lexer": "ipython3",
   "version": "3.6.1"
  }
 },
 "nbformat": 4,
 "nbformat_minor": 2
}
