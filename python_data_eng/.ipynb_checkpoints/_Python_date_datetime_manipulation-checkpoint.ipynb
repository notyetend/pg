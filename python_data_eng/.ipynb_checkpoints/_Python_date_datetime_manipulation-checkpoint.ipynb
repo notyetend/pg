{
 "cells": [
  {
   "cell_type": "markdown",
   "metadata": {},
   "source": [
    "###### date list between 2 day"
   ]
  },
  {
   "cell_type": "code",
   "execution_count": 11,
   "metadata": {},
   "outputs": [
    {
     "data": {
      "text/plain": [
       "[Timestamp('2019-04-09 17:04:00.202916', freq='D'),\n",
       " Timestamp('2019-04-10 17:04:00.202916', freq='D'),\n",
       " Timestamp('2019-04-11 17:04:00.202916', freq='D'),\n",
       " Timestamp('2019-04-12 17:04:00.202916', freq='D'),\n",
       " Timestamp('2019-04-13 17:04:00.202916', freq='D'),\n",
       " Timestamp('2019-04-14 17:04:00.202916', freq='D'),\n",
       " Timestamp('2019-04-15 17:04:00.202916', freq='D'),\n",
       " Timestamp('2019-04-16 17:04:00.202916', freq='D'),\n",
       " Timestamp('2019-04-17 17:04:00.202916', freq='D'),\n",
       " Timestamp('2019-04-18 17:04:00.202916', freq='D')]"
      ]
     },
     "execution_count": 11,
     "metadata": {},
     "output_type": "execute_result"
    }
   ],
   "source": [
    "import pandas as pd\n",
    "\n",
    "pd.date_range(pd.datetime.today(), periods=10).tolist()"
   ]
  },
  {
   "cell_type": "code",
   "execution_count": 4,
   "metadata": {
    "scrolled": true
   },
   "outputs": [
    {
     "data": {
      "text/plain": [
       "[Timestamp('2019-04-09 17:01:41.610323', freq='D'),\n",
       " Timestamp('2019-04-10 17:01:41.610323', freq='D'),\n",
       " Timestamp('2019-04-11 17:01:41.610323', freq='D'),\n",
       " Timestamp('2019-04-12 17:01:41.610323', freq='D'),\n",
       " Timestamp('2019-04-13 17:01:41.610323', freq='D'),\n",
       " Timestamp('2019-04-14 17:01:41.610323', freq='D'),\n",
       " Timestamp('2019-04-15 17:01:41.610323', freq='D'),\n",
       " Timestamp('2019-04-16 17:01:41.610323', freq='D'),\n",
       " Timestamp('2019-04-17 17:01:41.610323', freq='D'),\n",
       " Timestamp('2019-04-18 17:01:41.610323', freq='D')]"
      ]
     },
     "execution_count": 4,
     "metadata": {},
     "output_type": "execute_result"
    }
   ],
   "source": [
    "datelist"
   ]
  },
  {
   "cell_type": "code",
   "execution_count": 10,
   "metadata": {},
   "outputs": [
    {
     "data": {
      "text/plain": [
       "[Timestamp('2018-01-01 00:00:00', freq='D'),\n",
       " Timestamp('2018-01-02 00:00:00', freq='D'),\n",
       " Timestamp('2018-01-03 00:00:00', freq='D'),\n",
       " Timestamp('2018-01-04 00:00:00', freq='D'),\n",
       " Timestamp('2018-01-05 00:00:00', freq='D'),\n",
       " Timestamp('2018-01-06 00:00:00', freq='D'),\n",
       " Timestamp('2018-01-07 00:00:00', freq='D'),\n",
       " Timestamp('2018-01-08 00:00:00', freq='D'),\n",
       " Timestamp('2018-01-09 00:00:00', freq='D')]"
      ]
     },
     "execution_count": 10,
     "metadata": {},
     "output_type": "execute_result"
    }
   ],
   "source": [
    "start_date = pd.to_datetime('20180101')\n",
    "end_date = pd.to_datetime('20180110')\n",
    "\n",
    "days = (end_date - start_date).days\n",
    "pd.date_range(start_date, periods=days).tolist()"
   ]
  },
  {
   "cell_type": "code",
   "execution_count": null,
   "metadata": {},
   "outputs": [],
   "source": []
  },
  {
   "cell_type": "code",
   "execution_count": null,
   "metadata": {},
   "outputs": [],
   "source": []
  },
  {
   "cell_type": "markdown",
   "metadata": {},
   "source": [
    "### now"
   ]
  },
  {
   "cell_type": "code",
   "execution_count": 4,
   "metadata": {},
   "outputs": [
    {
     "data": {
      "text/plain": [
       "datetime.datetime(2018, 3, 8, 10, 25, 8, 89519)"
      ]
     },
     "execution_count": 4,
     "metadata": {},
     "output_type": "execute_result"
    }
   ],
   "source": [
    "from datetime import datetime\n",
    "\n",
    "d = datetime.now()\n",
    "d"
   ]
  },
  {
   "cell_type": "markdown",
   "metadata": {},
   "source": [
    "### datetime to string"
   ]
  },
  {
   "cell_type": "code",
   "execution_count": 5,
   "metadata": {},
   "outputs": [
    {
     "data": {
      "text/plain": [
       "'2018-03-08'"
      ]
     },
     "execution_count": 5,
     "metadata": {},
     "output_type": "execute_result"
    }
   ],
   "source": [
    "d.strftime('%Y-%m-%d')"
   ]
  },
  {
   "cell_type": "code",
   "execution_count": 6,
   "metadata": {},
   "outputs": [
    {
     "data": {
      "text/plain": [
       "'2018-03-08 10:25:08:089519'"
      ]
     },
     "execution_count": 6,
     "metadata": {},
     "output_type": "execute_result"
    }
   ],
   "source": [
    "d.strftime('%Y-%m-%d %H:%M:%S:%f')"
   ]
  },
  {
   "cell_type": "markdown",
   "metadata": {},
   "source": [
    "### date format string"
   ]
  },
  {
   "cell_type": "markdown",
   "metadata": {},
   "source": [
    " ![Local image](./images/datetime_format_strings.png)"
   ]
  },
  {
   "cell_type": "markdown",
   "metadata": {},
   "source": [
    "### string to datetime"
   ]
  },
  {
   "cell_type": "code",
   "execution_count": 8,
   "metadata": {},
   "outputs": [
    {
     "data": {
      "text/plain": [
       "'2018-03-08 10:25:08:089519'"
      ]
     },
     "execution_count": 8,
     "metadata": {},
     "output_type": "execute_result"
    }
   ],
   "source": [
    "d_str = '2018-03-08 10:25:08:089519'\n",
    "d_str"
   ]
  },
  {
   "cell_type": "code",
   "execution_count": 10,
   "metadata": {
    "scrolled": true
   },
   "outputs": [
    {
     "data": {
      "text/plain": [
       "datetime.datetime(2018, 3, 8, 10, 25, 8, 89519)"
      ]
     },
     "execution_count": 10,
     "metadata": {},
     "output_type": "execute_result"
    }
   ],
   "source": [
    "datetime.strptime(d_str, '%Y-%m-%d %H:%M:%S:%f')"
   ]
  },
  {
   "cell_type": "markdown",
   "metadata": {},
   "source": [
    "### arbitrary date string parsing\n",
    "> - https://github.com/dateutil/dateutil/\n",
    "> - https://dateutil.readthedocs.io/en/stable/"
   ]
  },
  {
   "cell_type": "code",
   "execution_count": 1,
   "metadata": {
    "collapsed": true
   },
   "outputs": [],
   "source": [
    "from dateutil import parser"
   ]
  },
  {
   "cell_type": "code",
   "execution_count": 2,
   "metadata": {},
   "outputs": [
    {
     "data": {
      "text/plain": [
       "datetime.datetime(2018, 1, 1, 1, 2, 3, 123400)"
      ]
     },
     "execution_count": 2,
     "metadata": {},
     "output_type": "execute_result"
    }
   ],
   "source": [
    "parser.parse('20180101 01:02:03.1234')"
   ]
  },
  {
   "cell_type": "code",
   "execution_count": 6,
   "metadata": {},
   "outputs": [
    {
     "data": {
      "text/plain": [
       "datetime.datetime(2018, 1, 1, 0, 0)"
      ]
     },
     "execution_count": 6,
     "metadata": {},
     "output_type": "execute_result"
    }
   ],
   "source": [
    "parser.parse('2018/01/01')"
   ]
  },
  {
   "cell_type": "code",
   "execution_count": null,
   "metadata": {
    "collapsed": true
   },
   "outputs": [],
   "source": []
  },
  {
   "cell_type": "code",
   "execution_count": null,
   "metadata": {
    "collapsed": true
   },
   "outputs": [],
   "source": []
  }
 ],
 "metadata": {
  "kernelspec": {
   "display_name": "Python 3",
   "language": "python",
   "name": "python3"
  },
  "language_info": {
   "codemirror_mode": {
    "name": "ipython",
    "version": 3
   },
   "file_extension": ".py",
   "mimetype": "text/x-python",
   "name": "python",
   "nbconvert_exporter": "python",
   "pygments_lexer": "ipython3",
   "version": "3.6.8"
  }
 },
 "nbformat": 4,
 "nbformat_minor": 2
}
