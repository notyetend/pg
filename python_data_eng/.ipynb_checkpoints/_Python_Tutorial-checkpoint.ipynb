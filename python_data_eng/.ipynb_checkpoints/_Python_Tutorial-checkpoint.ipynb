{
 "cells": [
  {
   "cell_type": "markdown",
   "metadata": {},
   "source": [
    "> Doc history\n",
    "> - 2016-05-19, dwk, [https://docs.python.org/2.7/tutorial/introduction.html] 내용 요약\n",
    "> - 2016-05-25, dwk, package / module / io / class 추가\n",
    "> - 2017-08-05, dwk, [https://docs.python.org/3.6/tutorial/introduction.html] 내용 반영"
   ]
  },
  {
   "cell_type": "markdown",
   "metadata": {},
   "source": [
    "# 파이썬 튜토리얼"
   ]
  },
  {
   "cell_type": "markdown",
   "metadata": {},
   "source": [
    "---"
   ]
  },
  {
   "cell_type": "markdown",
   "metadata": {},
   "source": [
    "### 개요"
   ]
  },
  {
   "cell_type": "markdown",
   "metadata": {},
   "source": [
    "> - 귀도 반 로썸이 1989년 크리스마스 주에 연구실이 닫혀 있어서 심심한 김에 만듬.\n",
    "> - 이름은 귀도가 즐겨보던 영국의 6인조 코미디 그룹 몬티 파이썬에서 따옴.\n"
   ]
  },
  {
   "cell_type": "markdown",
   "metadata": {},
   "source": [
    "> - 인터프리터 언어 처럼 동작\n",
    "   - 겉으로는 소스코드가 바로 실행되는 것 처럼 보이며, 실제로는 자동으로 바이트 코드가 생성되고, 다시 실행시 더 빠르게 실행됨)\n",
    "> - 동적 타이핑(실행시점에 자료형이 결정됨)\n",
    "> - 쉬움(원래 프로그래밍 교육용으로 만들어짐)\n",
    "> - 개발 생산성이 좋다고 함(C언어로 2년간 안 끝나던 프로젝트를 Python으로 한달만에 개발했다는 일화)\n",
    "> - 다양한 목적으로 사용 가능(GUI, Web, Server, Data science... 등등)\n"
   ]
  },
  {
   "cell_type": "markdown",
   "metadata": {},
   "source": [
    "> - control-flow, function, class 등의 구분자로 중괄호를 쓰지 않음, **인덴트(spaces, tab)**로 대체\n",
    "> - 중괄호 없으므로 하나의 작업 단위를 짧게 작성하는 것을 권장함\n"
   ]
  },
  {
   "cell_type": "markdown",
   "metadata": {},
   "source": [
    "### 세팅"
   ]
  },
  {
   "cell_type": "markdown",
   "metadata": {},
   "source": [
    "> - https://www.python.org/downloads/ 에서 원하는 버전 설치(2.7 or 3.x)  \n",
    "  (또는 https://www.continuum.io/downloads 에서 anaconda를 받아 설치)\n",
    "> - cmd창에서 python 실행여부 확인(실행이 안된다면 python.exe에 대한 PATH를 잡아야함)"
   ]
  },
  {
   "cell_type": "markdown",
   "metadata": {},
   "source": [
    "### 2.7 vs 3.x 문법적 차이"
   ]
  },
  {
   "cell_type": "markdown",
   "metadata": {},
   "source": [
    "- print 문 용법 : print('Hello') 로 사용\n",
    "- 정수 연산 결과 : 3/2의 결과가 1.5가 됨\n",
    "- 유니코드 문자열 : 기본적으로 문자열이 유니코드로 저장됨\n",
    "- 예외 처리 문법의 변화 : IOError('error message') 식의 문법\n",
    "- 사라진 xrange : range로 대체됨\n",
    "- Python2에서 Python3의 변경된 기능을 가져다 쓰려면 'from \\__future__ import division' \n",
    "\n",
    "\n",
    "- 참고 페이지 : http://sebastianraschka.com/Articles/2014_python_2_3_key_diff.html"
   ]
  },
  {
   "cell_type": "markdown",
   "metadata": {},
   "source": [
    "###### print 문 용법"
   ]
  },
  {
   "cell_type": "code",
   "execution_count": null,
   "metadata": {
    "collapsed": true
   },
   "outputs": [],
   "source": [
    "print('Hi')  # Phtyon3\n",
    "# print 'Hi'  # Python2"
   ]
  },
  {
   "cell_type": "markdown",
   "metadata": {},
   "source": [
    "###### 나누기에서 자동 형변환"
   ]
  },
  {
   "cell_type": "code",
   "execution_count": null,
   "metadata": {
    "collapsed": true
   },
   "outputs": [],
   "source": [
    "1/3\n",
    "# 1/3 = 0  # in python2"
   ]
  },
  {
   "cell_type": "markdown",
   "metadata": {},
   "source": [
    "### 작업 환경"
   ]
  },
  {
   "cell_type": "markdown",
   "metadata": {},
   "source": [
    "> - Interactive mode\n",
    "> - .py 파일을 만들어 실행\n",
    "> - 여타의 IDE 사용(Pycharm, Eclipse, Spyder, ...)\n",
    "> - 본 tutorial에서는 Jupyter notebook으로"
   ]
  },
  {
   "cell_type": "markdown",
   "metadata": {},
   "source": [
    "# 3장. 간단한 파이썬 소개"
   ]
  },
  {
   "cell_type": "markdown",
   "metadata": {},
   "source": [
    "###### 학습에 혹은 디버깅에 도움을 줄 함수"
   ]
  },
  {
   "cell_type": "code",
   "execution_count": null,
   "metadata": {
    "collapsed": true
   },
   "outputs": [],
   "source": [
    "type(1.0)"
   ]
  },
  {
   "cell_type": "code",
   "execution_count": null,
   "metadata": {
    "collapsed": true
   },
   "outputs": [],
   "source": [
    "id(1)"
   ]
  },
  {
   "cell_type": "markdown",
   "metadata": {},
   "source": [
    "###### 주석"
   ]
  },
  {
   "cell_type": "markdown",
   "metadata": {},
   "source": [
    "- 한줄 주석은 샵(#)으로 시작\n",
    "- 여러줄 주석은 ''' 으로 시작하여 '''으로 끝남(사실은 여러줄 문자열이라는?) 혹은 \"\"\"로 시작하여 \"\"\"로 끝남(이것은 보통 doc-string으로 쓰임)"
   ]
  },
  {
   "cell_type": "code",
   "execution_count": null,
   "metadata": {
    "collapsed": true
   },
   "outputs": [],
   "source": [
    "# 이건 한줄 주석 입니다.\n",
    "print('# 이건 주석이 아니지요.')\n",
    "\n",
    "print(\"\"\"\n",
    "사실 여러줄 주석은 \n",
    "여러줄 문자열 입니다.\n",
    "\"\"\")\n",
    "\n",
    "# def my_func(a):\n",
    "\"\"\"\n",
    "이건 \n",
    "여러줄 주석입니다.\n",
    "\"\"\"\n",
    "# print(a)\n"
   ]
  },
  {
   "cell_type": "markdown",
   "metadata": {},
   "source": [
    "###### 숫자"
   ]
  },
  {
   "cell_type": "markdown",
   "metadata": {},
   "source": [
    "- int\n",
    "- float\n",
    "- decimal\n",
    "- fraction\n",
    "- complex"
   ]
  },
  {
   "cell_type": "code",
   "execution_count": null,
   "metadata": {
    "collapsed": true
   },
   "outputs": [],
   "source": [
    "a = 1"
   ]
  },
  {
   "cell_type": "code",
   "execution_count": null,
   "metadata": {
    "collapsed": true
   },
   "outputs": [],
   "source": [
    "type(a)"
   ]
  },
  {
   "cell_type": "code",
   "execution_count": null,
   "metadata": {
    "collapsed": true
   },
   "outputs": [],
   "source": [
    "b = 1."
   ]
  },
  {
   "cell_type": "code",
   "execution_count": null,
   "metadata": {
    "collapsed": true
   },
   "outputs": [],
   "source": [
    "type(b)"
   ]
  },
  {
   "cell_type": "code",
   "execution_count": null,
   "metadata": {
    "collapsed": true
   },
   "outputs": [],
   "source": [
    "from decimal import Decimal, getcontext\n",
    "getcontext().prec = 6\n",
    "Decimal(7) / Decimal(3)"
   ]
  },
  {
   "cell_type": "code",
   "execution_count": null,
   "metadata": {
    "collapsed": true
   },
   "outputs": [],
   "source": [
    "from fractions import Fraction\n",
    "Fraction(8, 7)"
   ]
  },
  {
   "cell_type": "code",
   "execution_count": null,
   "metadata": {
    "collapsed": true
   },
   "outputs": [],
   "source": [
    "a = 1\n",
    "type(a)\n",
    "b = str(a)\n",
    "type(b)\n",
    "b"
   ]
  },
  {
   "cell_type": "markdown",
   "metadata": {},
   "source": [
    "###### 사칙연산"
   ]
  },
  {
   "cell_type": "markdown",
   "metadata": {},
   "source": [
    "- int, float type\n",
    "- division, floor division\n",
    "- modular\n",
    "- square"
   ]
  },
  {
   "cell_type": "code",
   "execution_count": null,
   "metadata": {
    "collapsed": true
   },
   "outputs": [],
   "source": [
    "# int 형 숫자\n",
    "1"
   ]
  },
  {
   "cell_type": "code",
   "execution_count": null,
   "metadata": {
    "collapsed": true
   },
   "outputs": [],
   "source": [
    "# float 형 숫자\n",
    "1."
   ]
  },
  {
   "cell_type": "code",
   "execution_count": null,
   "metadata": {
    "collapsed": true
   },
   "outputs": [],
   "source": [
    "# 나누기 결과는 항상 float.(Python2에서는 피연산자의 데이터 타입을 따라감)\n",
    "8 / 5"
   ]
  },
  {
   "cell_type": "code",
   "execution_count": null,
   "metadata": {
    "collapsed": true
   },
   "outputs": [],
   "source": [
    "# floor division\n",
    "8 // 5"
   ]
  },
  {
   "cell_type": "code",
   "execution_count": null,
   "metadata": {
    "collapsed": true
   },
   "outputs": [],
   "source": [
    "# modular\n",
    "8 % 5"
   ]
  },
  {
   "cell_type": "code",
   "execution_count": null,
   "metadata": {
    "collapsed": true
   },
   "outputs": [],
   "source": [
    "# squared\n",
    "8 ** 5"
   ]
  },
  {
   "cell_type": "markdown",
   "metadata": {},
   "source": [
    "###### 비교"
   ]
  },
  {
   "cell_type": "code",
   "execution_count": null,
   "metadata": {
    "collapsed": true
   },
   "outputs": [],
   "source": [
    "8 > 5"
   ]
  },
  {
   "cell_type": "code",
   "execution_count": null,
   "metadata": {
    "collapsed": true
   },
   "outputs": [],
   "source": [
    "8 >= 5"
   ]
  },
  {
   "cell_type": "code",
   "execution_count": null,
   "metadata": {
    "collapsed": true
   },
   "outputs": [],
   "source": [
    "8 == 5 "
   ]
  },
  {
   "cell_type": "code",
   "execution_count": null,
   "metadata": {
    "collapsed": true
   },
   "outputs": [],
   "source": [
    "type(8) == type(5)"
   ]
  },
  {
   "cell_type": "code",
   "execution_count": null,
   "metadata": {
    "collapsed": true
   },
   "outputs": [],
   "source": [
    "True == _  # interactive mode에서는 마지막에 출력된 값이 _에 할당된다."
   ]
  },
  {
   "cell_type": "markdown",
   "metadata": {},
   "source": [
    "###### 문자열"
   ]
  },
  {
   "cell_type": "markdown",
   "metadata": {},
   "source": [
    "- 문자열은 \n",
    " - single quote으로 감싼 것\n",
    " - double quote으로 감싼 것\n",
    " - 3쌍 single quote으로 감싼 것\n",
    " - 3쌍 double quote으로 감싼 것\n",
    " \n",
    "- unicode string\n",
    "- raw string"
   ]
  },
  {
   "cell_type": "code",
   "execution_count": null,
   "metadata": {
    "collapsed": true
   },
   "outputs": [],
   "source": [
    "'Hello'"
   ]
  },
  {
   "cell_type": "code",
   "execution_count": null,
   "metadata": {
    "collapsed": true
   },
   "outputs": [],
   "source": [
    "\"Hello\""
   ]
  },
  {
   "cell_type": "code",
   "execution_count": null,
   "metadata": {
    "collapsed": true
   },
   "outputs": [],
   "source": [
    "'''Hello\n",
    "World'''"
   ]
  },
  {
   "cell_type": "code",
   "execution_count": null,
   "metadata": {
    "collapsed": true
   },
   "outputs": [],
   "source": [
    "a = r\"\"\"Hello\\nWorld\"\"\""
   ]
  },
  {
   "cell_type": "code",
   "execution_count": null,
   "metadata": {
    "collapsed": true
   },
   "outputs": [],
   "source": [
    "print(a)"
   ]
  },
  {
   "cell_type": "code",
   "execution_count": null,
   "metadata": {
    "collapsed": true
   },
   "outputs": [],
   "source": [
    "# escape character or double quote\n",
    "'You\\'re car'"
   ]
  },
  {
   "cell_type": "code",
   "execution_count": null,
   "metadata": {
    "collapsed": true
   },
   "outputs": [],
   "source": [
    "u'안녕'"
   ]
  },
  {
   "cell_type": "code",
   "execution_count": null,
   "metadata": {
    "collapsed": true
   },
   "outputs": [],
   "source": [
    "print(r\"안\\n녕\")"
   ]
  },
  {
   "cell_type": "code",
   "execution_count": null,
   "metadata": {
    "collapsed": true
   },
   "outputs": [],
   "source": [
    "print('''Hello \\\n",
    "World''')"
   ]
  },
  {
   "cell_type": "code",
   "execution_count": null,
   "metadata": {
    "collapsed": true
   },
   "outputs": [],
   "source": [
    "st = 'Python'"
   ]
  },
  {
   "cell_type": "code",
   "execution_count": null,
   "metadata": {
    "collapsed": true
   },
   "outputs": [],
   "source": [
    "st[0]"
   ]
  },
  {
   "cell_type": "raw",
   "metadata": {},
   "source": [
    " +---+---+---+---+---+---+\n",
    " | P | y | t | h | o | n |\n",
    " +---+---+---+---+---+---+\n",
    " 0   1   2   3   4   5\n",
    "-6  -5  -4  -3  -2  -1"
   ]
  },
  {
   "cell_type": "code",
   "execution_count": null,
   "metadata": {
    "collapsed": true
   },
   "outputs": [],
   "source": [
    "st[0:3]"
   ]
  },
  {
   "cell_type": "code",
   "execution_count": null,
   "metadata": {
    "collapsed": true
   },
   "outputs": [],
   "source": [
    "st[:3]"
   ]
  },
  {
   "cell_type": "code",
   "execution_count": null,
   "metadata": {
    "collapsed": true
   },
   "outputs": [],
   "source": [
    "st[3:]"
   ]
  },
  {
   "cell_type": "code",
   "execution_count": null,
   "metadata": {
    "collapsed": true
   },
   "outputs": [],
   "source": [
    "st[-4:-2]"
   ]
  },
  {
   "cell_type": "code",
   "execution_count": null,
   "metadata": {
    "collapsed": true
   },
   "outputs": [],
   "source": [
    "st[100]"
   ]
  },
  {
   "cell_type": "code",
   "execution_count": null,
   "metadata": {
    "collapsed": true
   },
   "outputs": [],
   "source": [
    "st[:100]"
   ]
  },
  {
   "cell_type": "code",
   "execution_count": null,
   "metadata": {
    "collapsed": true
   },
   "outputs": [],
   "source": [
    "len(st)"
   ]
  },
  {
   "cell_type": "code",
   "execution_count": null,
   "metadata": {
    "collapsed": true
   },
   "outputs": [],
   "source": [
    "type(st)"
   ]
  },
  {
   "cell_type": "code",
   "execution_count": null,
   "metadata": {
    "collapsed": true
   },
   "outputs": [],
   "source": [
    "st.upper()"
   ]
  },
  {
   "cell_type": "markdown",
   "metadata": {},
   "source": [
    "---"
   ]
  },
  {
   "cell_type": "markdown",
   "metadata": {},
   "source": [
    "# 4장. 제어문"
   ]
  },
  {
   "cell_type": "markdown",
   "metadata": {},
   "source": [
    "### while 문"
   ]
  },
  {
   "cell_type": "code",
   "execution_count": null,
   "metadata": {
    "collapsed": true
   },
   "outputs": [],
   "source": [
    "for i in range(10):\n",
    "    print(i)"
   ]
  },
  {
   "cell_type": "code",
   "execution_count": null,
   "metadata": {
    "collapsed": true
   },
   "outputs": [],
   "source": [
    "uuid, i = [1, 2, 3, 4, 5], 0\n",
    "\n",
    "while True:\n",
    "    print(uuid[i])\n",
    "    i += 1\n",
    "    if i >= len(uuid):\n",
    "        break\n",
    "    else:\n",
    "        print(a)"
   ]
  },
  {
   "cell_type": "code",
   "execution_count": null,
   "metadata": {
    "collapsed": true
   },
   "outputs": [],
   "source": [
    "i = 0\n",
    "while i < len(uuid):\n",
    "    print(uuid[i])\n",
    "    i += 1"
   ]
  },
  {
   "cell_type": "code",
   "execution_count": null,
   "metadata": {
    "collapsed": true,
    "scrolled": true
   },
   "outputs": [],
   "source": [
    "i = 0\n",
    "while i < len(uuid):\n",
    "    print(uuid[i])\n",
    "    i += 1\n",
    "else:\n",
    "    print('end')"
   ]
  },
  {
   "cell_type": "code",
   "execution_count": null,
   "metadata": {
    "collapsed": true
   },
   "outputs": [],
   "source": [
    "uuid, i = [1, 2, 3, 4, 5], 0\n",
    "\n",
    "while i < len(uuid):\n",
    "    if uuid[i] == 2:\n",
    "        i += 1\n",
    "        break\n",
    "    print(uuid[i])\n",
    "    i += 1\n",
    "else:\n",
    "    print('end')"
   ]
  },
  {
   "cell_type": "markdown",
   "metadata": {},
   "source": [
    "### if 문"
   ]
  },
  {
   "cell_type": "code",
   "execution_count": null,
   "metadata": {
    "collapsed": true
   },
   "outputs": [],
   "source": [
    "if True:\n",
    "    print('a')"
   ]
  },
  {
   "cell_type": "code",
   "execution_count": null,
   "metadata": {
    "collapsed": true
   },
   "outputs": [],
   "source": [
    "x = int(input(u\"정수를 입력하세요: \"))\n",
    "\n",
    "if x < 0:\n",
    "    x = 0\n",
    "    print('Negative changed to zero')\n",
    "elif x == 0:\n",
    "    print('Zero')\n",
    "elif x == 1:\n",
    "        print('Single')\n",
    "else:\n",
    "    print('More')\n"
   ]
  },
  {
   "cell_type": "markdown",
   "metadata": {},
   "source": [
    "### Range() 함수"
   ]
  },
  {
   "cell_type": "markdown",
   "metadata": {},
   "source": [
    "> - 특정 범위의 숫자열을 생성할때 사용함\n",
    "> - **for** loop의 '순환목록'으로 자주 사용됨"
   ]
  },
  {
   "cell_type": "code",
   "execution_count": null,
   "metadata": {
    "collapsed": true,
    "scrolled": true
   },
   "outputs": [],
   "source": [
    "range(0, 10, 2) #시작, 종류(제외), 스텝크기"
   ]
  },
  {
   "cell_type": "code",
   "execution_count": null,
   "metadata": {
    "collapsed": true
   },
   "outputs": [],
   "source": [
    "list(range(0, 10, 2))"
   ]
  },
  {
   "cell_type": "markdown",
   "metadata": {},
   "source": [
    "###  in 문"
   ]
  },
  {
   "cell_type": "markdown",
   "metadata": {},
   "source": [
    "> - **in** 앞의 값이 **in**뒤의 목록에 있는지 확인"
   ]
  },
  {
   "cell_type": "code",
   "execution_count": null,
   "metadata": {
    "collapsed": true
   },
   "outputs": [],
   "source": [
    "10 in range(100)"
   ]
  },
  {
   "cell_type": "code",
   "execution_count": null,
   "metadata": {
    "collapsed": true
   },
   "outputs": [],
   "source": [
    "[i+100 for i in range(10)]  # List Comprehensions"
   ]
  },
  {
   "cell_type": "markdown",
   "metadata": {},
   "source": [
    "### for 문"
   ]
  },
  {
   "cell_type": "markdown",
   "metadata": {},
   "source": [
    "> - C나 Pascal에서는 반복을 따라갈 변수를, 매 반복에서 얼마식 증가/감소 시키고, 특정 조건에서 반복을 빠져나가는 구조를 주로 사용함.\n",
    "> - 반면 Python에서는 list의 각 element 마다 혹은 string의 각 문자에 대해서 반복하는 방식을 많이 취함. (순환목록)  \n",
    "   (물론 C 스타일로 작성할수도 있음)\n",
    "> - **for**뒤의 **in**은 조금 다름(for 다음의 변수에 **in**뒤의 목록값을 하나식 할당)"
   ]
  },
  {
   "cell_type": "code",
   "execution_count": null,
   "metadata": {
    "collapsed": true
   },
   "outputs": [],
   "source": [
    "words = ['cat', 'window', 'defenestrate']"
   ]
  },
  {
   "cell_type": "code",
   "execution_count": null,
   "metadata": {
    "collapsed": true
   },
   "outputs": [],
   "source": [
    "# Measure some strings:\n",
    "words = ['cat', 'window', 'defenestrate']\n",
    "for idx, w in enumerate(words):\n",
    "    print(idx, w)"
   ]
  },
  {
   "cell_type": "code",
   "execution_count": null,
   "metadata": {
    "collapsed": true
   },
   "outputs": [],
   "source": [
    "# Measure some strings:\n",
    "my_string = 'Hello World'\n",
    "\n",
    "for w in my_string:\n",
    "    print(w)\n",
    "else:\n",
    "    print('end')"
   ]
  },
  {
   "cell_type": "markdown",
   "metadata": {},
   "source": [
    "### break, continue, else"
   ]
  },
  {
   "cell_type": "markdown",
   "metadata": {},
   "source": [
    "> - **break**는 for나 while loop를 빠져나오게 함\n",
    "> - **else**는 for나 wile loop의 '순환목록'이 (break 없이) 끝나면 실행됨"
   ]
  },
  {
   "cell_type": "code",
   "execution_count": null,
   "metadata": {
    "collapsed": true,
    "scrolled": true
   },
   "outputs": [],
   "source": [
    "for n in range(10):\n",
    "    if n == 30:\n",
    "        break\n",
    "else:\n",
    "    print(\"out of range\")"
   ]
  },
  {
   "cell_type": "markdown",
   "metadata": {},
   "source": [
    "### pass 문"
   ]
  },
  {
   "cell_type": "markdown",
   "metadata": {},
   "source": [
    "> - 어떤 일도 하지 않지만 문법적으로 필요한 경우에 사용됨"
   ]
  },
  {
   "cell_type": "code",
   "execution_count": null,
   "metadata": {
    "collapsed": true,
    "scrolled": true
   },
   "outputs": [],
   "source": [
    "for i in range(10):\n",
    "    pass"
   ]
  },
  {
   "cell_type": "code",
   "execution_count": null,
   "metadata": {
    "collapsed": true,
    "scrolled": true
   },
   "outputs": [],
   "source": [
    "def init_log():\n",
    "    pass"
   ]
  },
  {
   "cell_type": "code",
   "execution_count": null,
   "metadata": {
    "collapsed": true
   },
   "outputs": [],
   "source": [
    "def init_log():\n",
    "    pass\n"
   ]
  },
  {
   "cell_type": "markdown",
   "metadata": {},
   "source": [
    "---"
   ]
  },
  {
   "cell_type": "markdown",
   "metadata": {},
   "source": [
    "### 함수"
   ]
  },
  {
   "cell_type": "markdown",
   "metadata": {},
   "source": [
    "> - 함수는   \n",
    "  **def 함수명( 매개변수1, 매개변수2, 매개변수3, ... ):**\n",
    "       함수내용\n",
    "       (반환값)\n",
    "  형태로 정의함\n",
    "  \n",
    "> - 함수내용은 반드시 인덴트로 시작해야 함"
   ]
  },
  {
   "cell_type": "code",
   "execution_count": null,
   "metadata": {
    "collapsed": true,
    "scrolled": true
   },
   "outputs": [],
   "source": [
    "def myfunc0():\n",
    "    print('hello world')"
   ]
  },
  {
   "cell_type": "code",
   "execution_count": null,
   "metadata": {
    "collapsed": true
   },
   "outputs": [],
   "source": [
    "def myfunc1(a:str, b:int) -> str: \n",
    "     print('hello world', a, b)"
   ]
  },
  {
   "cell_type": "code",
   "execution_count": null,
   "metadata": {
    "collapsed": true
   },
   "outputs": [],
   "source": [
    "myfunc1(1, 2)"
   ]
  },
  {
   "cell_type": "markdown",
   "metadata": {},
   "source": [
    "> - 함수값 반환은 return 을 사용함, 여러값을 한꺼번에 반환 가능, 반환값에 대한 타입 명시나 제한 없음\n",
    "> - 모든 함수의 기본 반환 값은 None임, 반환값없이 return 만 적어도 None이 반환됨"
   ]
  },
  {
   "cell_type": "code",
   "execution_count": null,
   "metadata": {
    "collapsed": true
   },
   "outputs": [],
   "source": [
    "def myfunc2(a, b, c):\n",
    "    print('first: %s, second: %s, third: %s' %(a, b, c))\n",
    "    return (a+1, b+2, c+3)"
   ]
  },
  {
   "cell_type": "code",
   "execution_count": null,
   "metadata": {
    "collapsed": true,
    "scrolled": true
   },
   "outputs": [],
   "source": [
    "x, y, z = myfunc2(1, 2, 3)"
   ]
  },
  {
   "cell_type": "code",
   "execution_count": null,
   "metadata": {
    "collapsed": true
   },
   "outputs": [],
   "source": [
    "x"
   ]
  },
  {
   "cell_type": "code",
   "execution_count": null,
   "metadata": {
    "collapsed": true
   },
   "outputs": [],
   "source": [
    "k = myfunc1()\n",
    "print(type(k))"
   ]
  },
  {
   "cell_type": "markdown",
   "metadata": {},
   "source": [
    "> - 함수에 대한 설명으로 [함수 내용] 시작 위치에 문자열(Documentation Strings)를 넣을 수 있음\n",
    "> - help문으로 함수를 조회하면 해당 문자열이 출력됨(도움말로 사용)"
   ]
  },
  {
   "cell_type": "code",
   "execution_count": null,
   "metadata": {
    "collapsed": true
   },
   "outputs": [],
   "source": [
    "def myfunc3(a, b, c):\n",
    "    \"\"\"\n",
    "    3개의 인자를 받아 출력하는 함수\n",
    "    \n",
    "    각 인자를 출력하고, 각 인자에 1을 더해 반환 합니다.\n",
    "    각 인자는 int이거나 float이어야 합니다.\n",
    "    \"\"\"\n",
    "    print('first: %s, second: %s, third: %s' %(a, b, c))\n",
    "    return a+1, b+2, c+3"
   ]
  },
  {
   "cell_type": "code",
   "execution_count": null,
   "metadata": {
    "collapsed": true,
    "scrolled": true
   },
   "outputs": [],
   "source": [
    "help(myfunc3)"
   ]
  },
  {
   "cell_type": "code",
   "execution_count": null,
   "metadata": {
    "collapsed": true
   },
   "outputs": [],
   "source": [
    "print(myfunc3.__doc__)"
   ]
  },
  {
   "cell_type": "markdown",
   "metadata": {},
   "source": [
    "> - 매개변수 기본값 설정\n",
    "> - 기본값이 있는 변수는 오른쪽부터 체워져야 함"
   ]
  },
  {
   "cell_type": "code",
   "execution_count": null,
   "metadata": {
    "collapsed": true
   },
   "outputs": [],
   "source": [
    "def myfunc4(a, b , c=100):\n",
    "    print(a)\n",
    "    print(b)\n",
    "    print(c)"
   ]
  },
  {
   "cell_type": "markdown",
   "metadata": {},
   "source": [
    "> - 기본값이 설정되는 시점은 함수가 정의되는 시점임"
   ]
  },
  {
   "cell_type": "code",
   "execution_count": null,
   "metadata": {
    "collapsed": true
   },
   "outputs": [],
   "source": [
    "i = 99\n",
    "def myfunc5(a, b , c=i):\n",
    "    print(a)\n",
    "    print(b)\n",
    "    print(c)"
   ]
  },
  {
   "cell_type": "code",
   "execution_count": null,
   "metadata": {
    "collapsed": true
   },
   "outputs": [],
   "source": [
    "i = 100\n",
    "myfunc5(1,2)"
   ]
  },
  {
   "cell_type": "markdown",
   "metadata": {},
   "source": [
    "> - 함수 호출시 매개변수 키워드를 명시할 수 있음\n",
    "> - 키워드 없는 매개변수는 반드시 앞쪽에 나열 해야 함\n",
    "> - 키워드 없는 매개변수와 키워드 있는 매개변수를 사용해야할 때, 키워드 있는  매개변수를 먼저 사용하면 에러!"
   ]
  },
  {
   "cell_type": "code",
   "execution_count": null,
   "metadata": {
    "collapsed": true
   },
   "outputs": [],
   "source": [
    "myfunc5(a=1, b=2)"
   ]
  },
  {
   "cell_type": "code",
   "execution_count": null,
   "metadata": {
    "collapsed": true
   },
   "outputs": [],
   "source": [
    "myfunc5(a=1, 2)"
   ]
  },
  {
   "cell_type": "code",
   "execution_count": null,
   "metadata": {
    "collapsed": true
   },
   "outputs": [],
   "source": [
    "myfunc5(1, b=2)"
   ]
  },
  {
   "cell_type": "markdown",
   "metadata": {},
   "source": [
    "> - 함수를 정의할 때 유동적인 여러개의 매개변수가 예상 될 때에는 'Keyword Arguments'를 사용한다.\n",
    "> - 아래의 *bb는 a1 다음의 키워드 없이 입력되는 모든 매개변수를 'tuple'형태로 입력 받는다.\n",
    "> - 아래의 \\**ccc는 키워드를 사용하여 입력한 매개변수들을 'dictionary'형태로 입력 받는다."
   ]
  },
  {
   "cell_type": "code",
   "execution_count": null,
   "metadata": {
    "collapsed": true
   },
   "outputs": [],
   "source": [
    "def f_test(ag1, ag2, ag3):\n",
    "    print(ag1)\n",
    "    print(ag2)\n",
    "    print(ag3)"
   ]
  },
  {
   "cell_type": "code",
   "execution_count": null,
   "metadata": {
    "collapsed": true
   },
   "outputs": [],
   "source": [
    "params1 = {'ag1': 1, 'ag2' : 2, 'ag3' : 3}\n",
    "f_test(**params1)"
   ]
  },
  {
   "cell_type": "code",
   "execution_count": null,
   "metadata": {
    "collapsed": true
   },
   "outputs": [],
   "source": [
    "params2 = [11, 22, 33]\n",
    "f_test(*params2)"
   ]
  },
  {
   "cell_type": "code",
   "execution_count": null,
   "metadata": {
    "collapsed": true
   },
   "outputs": [],
   "source": [
    "def myfu(ag1, *ag2, **ag3):\n",
    "    print(ag1)\n",
    "    print(ag2)\n",
    "    print(ag3)\n",
    "    \n",
    "    keys = sorted(ag3.keys())\n",
    "    for kw in keys:\n",
    "        print(kw, \":\", ag3[kw])"
   ]
  },
  {
   "cell_type": "code",
   "execution_count": null,
   "metadata": {
    "collapsed": true
   },
   "outputs": [],
   "source": [
    "myfu('a', 'b', 'c', 'd', {'key1':1, 'key2':2})"
   ]
  },
  {
   "cell_type": "code",
   "execution_count": null,
   "metadata": {
    "collapsed": true
   },
   "outputs": [],
   "source": [
    "def myfunc_args(a1, *bb, **ccc):\n",
    "    print('a: %s' %(a1))\n",
    "\n",
    "    for b in bb:    \n",
    "        print('bb: %s' %(b))\n",
    "        \n",
    "    keys = sorted(ccc.keys())\n",
    "    for kw in keys:\n",
    "        print(kw, \":\", ccc[kw])\n",
    "        \n",
    "    print('-----------')\n",
    "    print('type of bb  : %s' %(type(bb)))\n",
    "    print('type of ccc : %s' %(type(ccc)))"
   ]
  },
  {
   "cell_type": "code",
   "execution_count": null,
   "metadata": {
    "collapsed": true,
    "scrolled": false
   },
   "outputs": [],
   "source": [
    "myfunc_args(1, 2, 3, 'aaa', myArg1=1, myArg2=4, myArg3=123)"
   ]
  },
  {
   "cell_type": "markdown",
   "metadata": {},
   "source": [
    "### 코딩 스타일 가이드\n",
    "> [https://www.python.org/dev/peps/pep-0008/] 참고"
   ]
  },
  {
   "cell_type": "markdown",
   "metadata": {},
   "source": [
    "> - 인덴트로 스페이스x4를 권장 (tab과 spaces를 혼용하지 않도록!)\n",
    "> - 한줄이 79자를 넘지 않도록\n",
    "> - 함수, 클레스, 큰 블록은 빈줄로 분리되게 작성\n",
    "> - 가능한 주석을 많이 넣도록\n",
    "> - docstrings를 가능한 작성\n",
    "> - 연산자 앞 뒤로 space를 넣도록, a = f(1, 2) + g(3, 4)\n"
   ]
  },
  {
   "cell_type": "markdown",
   "metadata": {},
   "source": [
    "######  구글 스타일"
   ]
  },
  {
   "cell_type": "markdown",
   "metadata": {},
   "source": [
    "> - naming rule: module_name, package_name, ClassName, method_name, ExceptionName, function_name, \n",
    "GLOBAL_CONSTANT_NAME, global_var_name, instance_var_name, function_parameter_name, local_var_name. \n",
    "> - [https://google.github.io/styleguide/pyguide.html] "
   ]
  },
  {
   "cell_type": "markdown",
   "metadata": {},
   "source": [
    "## Data Structures"
   ]
  },
  {
   "cell_type": "markdown",
   "metadata": {},
   "source": [
    "![Local image](./images/python_tutorial/python_data_structures.PNG \"Tooltip for local image\")\n",
    "\n",
    "> [http://blog.wachowicz.eu/?p=132] 참고"
   ]
  },
  {
   "cell_type": "markdown",
   "metadata": {},
   "source": [
    "### str"
   ]
  },
  {
   "cell_type": "markdown",
   "metadata": {},
   "source": [
    "> - 문자열\n",
    "> - singue quote으로 감싸거나, double quote으로 감싸면 됨(혼용은 안됨)\n",
    "> - 특수문자 표현을 위해 escape character \\ 를 사용\n",
    "> - \\\\, \\', \\a, \\b, \\f, \\n, \\r, \\t, \\v, \\ooo, \\xhh 등의 meta character가 있음.\n",
    "> - 만약 meta character를 문자 그대로 사용하고 싶다면 문자열 앞에 r을 삽입 -> raw string\n",
    "> - String을 다루기 위한 다양한 기능(method)가 존재함.\n",
    "> - 문자 배열과 같이 index 접근 가능  \n",
    "> - myString[a:b]는 a+1번째 문자부터 b번째 문자에 접근함(0부터 세고, 마지막 버림)\n",
    "> - immutable, 즉 문자열의 특정 문자를 바꿀수는 없음\n"
   ]
  },
  {
   "cell_type": "code",
   "execution_count": null,
   "metadata": {
    "collapsed": true
   },
   "outputs": [],
   "source": [
    "st1 = r'pytho\\t'\n",
    "print(st1)"
   ]
  },
  {
   "cell_type": "code",
   "execution_count": null,
   "metadata": {
    "collapsed": true
   },
   "outputs": [],
   "source": [
    "st2 = '\\npython,java,c'\n",
    "print(st1+st2)"
   ]
  },
  {
   "cell_type": "code",
   "execution_count": null,
   "metadata": {
    "collapsed": true
   },
   "outputs": [],
   "source": [
    "st2.split(',')"
   ]
  },
  {
   "cell_type": "code",
   "execution_count": null,
   "metadata": {
    "collapsed": true
   },
   "outputs": [],
   "source": [
    "a = ['a', 'b', 'c']"
   ]
  },
  {
   "cell_type": "code",
   "execution_count": null,
   "metadata": {
    "collapsed": true
   },
   "outputs": [],
   "source": [
    "'asdfasdf'.join(a)"
   ]
  },
  {
   "cell_type": "code",
   "execution_count": null,
   "metadata": {
    "collapsed": true
   },
   "outputs": [],
   "source": [
    "st1.upper()"
   ]
  },
  {
   "cell_type": "code",
   "execution_count": null,
   "metadata": {
    "collapsed": true
   },
   "outputs": [],
   "source": [
    "st2.split(',')"
   ]
  },
  {
   "cell_type": "code",
   "execution_count": null,
   "metadata": {
    "collapsed": true
   },
   "outputs": [],
   "source": [
    "st1 = 'python'"
   ]
  },
  {
   "cell_type": "code",
   "execution_count": null,
   "metadata": {
    "collapsed": true
   },
   "outputs": [],
   "source": [
    "id(st1)"
   ]
  },
  {
   "cell_type": "code",
   "execution_count": null,
   "metadata": {
    "collapsed": true
   },
   "outputs": [],
   "source": [
    "st1 = 'meme'"
   ]
  },
  {
   "cell_type": "code",
   "execution_count": null,
   "metadata": {
    "collapsed": true
   },
   "outputs": [],
   "source": [
    "st1[0]"
   ]
  },
  {
   "cell_type": "code",
   "execution_count": null,
   "metadata": {
    "collapsed": true
   },
   "outputs": [],
   "source": [
    "st1[0] = 'k'"
   ]
  },
  {
   "cell_type": "code",
   "execution_count": null,
   "metadata": {
    "collapsed": true
   },
   "outputs": [],
   "source": [
    "st1[1:3]"
   ]
  },
  {
   "cell_type": "code",
   "execution_count": null,
   "metadata": {
    "collapsed": true
   },
   "outputs": [],
   "source": [
    "str3 = ['p', 'y', 't', 'h', 'o', 'n']"
   ]
  },
  {
   "cell_type": "code",
   "execution_count": null,
   "metadata": {
    "collapsed": true
   },
   "outputs": [],
   "source": [
    "'.'.join(str3)"
   ]
  },
  {
   "cell_type": "markdown",
   "metadata": {},
   "source": [
    "### list"
   ]
  },
  {
   "cell_type": "markdown",
   "metadata": {},
   "source": [
    "> - 대괄호 [ ] 로 묶인 순서 있는 값 목록\n",
    "> - list 데이터형에는 몇 가지 유용한 기능(method)들이 있음\n",
    "> - mutable, 즉 생성 이후 element값을 변경할 수 있음\n",
    "> - list를 다루는 여러 기능(method)가 있음, (append, extend, insert, remove, pop, index, count, sort, reverse..)"
   ]
  },
  {
   "cell_type": "code",
   "execution_count": null,
   "metadata": {
    "collapsed": true
   },
   "outputs": [],
   "source": [
    "myList1 = [1,2,3,4]\n",
    "myList1"
   ]
  },
  {
   "cell_type": "code",
   "execution_count": null,
   "metadata": {
    "collapsed": true
   },
   "outputs": [],
   "source": [
    "myList1[0]"
   ]
  },
  {
   "cell_type": "code",
   "execution_count": null,
   "metadata": {
    "collapsed": true
   },
   "outputs": [],
   "source": [
    "myList1[0] = 100"
   ]
  },
  {
   "cell_type": "code",
   "execution_count": null,
   "metadata": {
    "collapsed": true
   },
   "outputs": [],
   "source": [
    "myList1"
   ]
  },
  {
   "cell_type": "code",
   "execution_count": null,
   "metadata": {
    "collapsed": true
   },
   "outputs": [],
   "source": [
    "id(myList1)"
   ]
  },
  {
   "cell_type": "code",
   "execution_count": null,
   "metadata": {
    "collapsed": true
   },
   "outputs": [],
   "source": [
    "print(myList1)\n",
    "print(type(myList1))"
   ]
  },
  {
   "cell_type": "code",
   "execution_count": null,
   "metadata": {
    "collapsed": true
   },
   "outputs": [],
   "source": [
    "myList1[1]"
   ]
  },
  {
   "cell_type": "code",
   "execution_count": null,
   "metadata": {
    "collapsed": true
   },
   "outputs": [],
   "source": [
    "myList1"
   ]
  },
  {
   "cell_type": "code",
   "execution_count": null,
   "metadata": {
    "collapsed": true
   },
   "outputs": [],
   "source": [
    "myList1.append(100)\n",
    "myList1"
   ]
  },
  {
   "cell_type": "code",
   "execution_count": null,
   "metadata": {
    "collapsed": true
   },
   "outputs": [],
   "source": [
    "myList1.extend([200, 2111, 21213])\n",
    "myList1"
   ]
  },
  {
   "cell_type": "code",
   "execution_count": null,
   "metadata": {
    "collapsed": true
   },
   "outputs": [],
   "source": [
    "myList1 + [300, 400]"
   ]
  },
  {
   "cell_type": "markdown",
   "metadata": {},
   "source": [
    "###### Del\n",
    "> 리스트의 특정 위치, 특정 위치 범위의 값들을 삭제할 수 있음"
   ]
  },
  {
   "cell_type": "code",
   "execution_count": null,
   "metadata": {
    "collapsed": true
   },
   "outputs": [],
   "source": [
    "myList1"
   ]
  },
  {
   "cell_type": "code",
   "execution_count": null,
   "metadata": {
    "collapsed": true
   },
   "outputs": [],
   "source": [
    "del myList1[1:2]"
   ]
  },
  {
   "cell_type": "code",
   "execution_count": null,
   "metadata": {
    "collapsed": true,
    "scrolled": true
   },
   "outputs": [],
   "source": [
    "myList1"
   ]
  },
  {
   "cell_type": "markdown",
   "metadata": {},
   "source": [
    "."
   ]
  },
  {
   "cell_type": "markdown",
   "metadata": {},
   "source": [
    "### tuple"
   ]
  },
  {
   "cell_type": "markdown",
   "metadata": {},
   "source": [
    "> - 괄호 컴마로 구분된 순서 있는 값 목록\n",
    "> - immutable(생성 이후 element값 변경 불가, 변경하려면 새로 만들어야 함)\n",
    "> - 다만 mutable 개체를 element로 갖을 수 있고, element인 mutable object의 element를 변경 가능"
   ]
  },
  {
   "cell_type": "code",
   "execution_count": null,
   "metadata": {
    "collapsed": true
   },
   "outputs": [],
   "source": [
    "myTuple5 = (1,2)\n",
    "myTuple5"
   ]
  },
  {
   "cell_type": "code",
   "execution_count": null,
   "metadata": {
    "collapsed": true
   },
   "outputs": [],
   "source": [
    "myTuple2 = 8, 9\n",
    "myTuple2"
   ]
  },
  {
   "cell_type": "code",
   "execution_count": null,
   "metadata": {
    "collapsed": true
   },
   "outputs": [],
   "source": [
    "myTuple3 = 7, \n",
    "myTuple3"
   ]
  },
  {
   "cell_type": "code",
   "execution_count": null,
   "metadata": {
    "collapsed": true
   },
   "outputs": [],
   "source": [
    "myTuple4 = ()\n",
    "myTuple4"
   ]
  },
  {
   "cell_type": "code",
   "execution_count": null,
   "metadata": {
    "collapsed": true
   },
   "outputs": [],
   "source": [
    "myTuple1 = (1, 2, 'a', [5, 6])"
   ]
  },
  {
   "cell_type": "code",
   "execution_count": null,
   "metadata": {
    "collapsed": true
   },
   "outputs": [],
   "source": [
    "myTuple1[3][0] = 12"
   ]
  },
  {
   "cell_type": "code",
   "execution_count": null,
   "metadata": {
    "collapsed": true
   },
   "outputs": [],
   "source": [
    "myTuple1"
   ]
  },
  {
   "cell_type": "code",
   "execution_count": null,
   "metadata": {
    "collapsed": true
   },
   "outputs": [],
   "source": [
    "myList1 = [6, 7, 8]\n",
    "\n",
    "myTuple6 = ('a', myList1)"
   ]
  },
  {
   "cell_type": "code",
   "execution_count": null,
   "metadata": {
    "collapsed": true
   },
   "outputs": [],
   "source": [
    "myTuple6"
   ]
  },
  {
   "cell_type": "code",
   "execution_count": null,
   "metadata": {
    "collapsed": true
   },
   "outputs": [],
   "source": [
    "myList1[0] = 100\n"
   ]
  },
  {
   "cell_type": "code",
   "execution_count": null,
   "metadata": {
    "collapsed": true
   },
   "outputs": [],
   "source": [
    "myTuple6"
   ]
  },
  {
   "cell_type": "markdown",
   "metadata": {},
   "source": [
    "### set"
   ]
  },
  {
   "cell_type": "markdown",
   "metadata": {},
   "source": [
    "> - 순서 없는 값 집합\n",
    "> - 집합이므로 각 원소들은 unique함\n",
    "> - distinct 값 목록을 만들기 위해 값들을 set에 저장하면 유용.\n",
    "> - union, intersection, difference, symmetric difference 등의 집합 연산을 지원"
   ]
  },
  {
   "cell_type": "code",
   "execution_count": null,
   "metadata": {
    "collapsed": true
   },
   "outputs": [],
   "source": [
    "a = [999, 1, 1, 2, 3, 4, 5, 'a', 9]"
   ]
  },
  {
   "cell_type": "code",
   "execution_count": null,
   "metadata": {
    "collapsed": true
   },
   "outputs": [],
   "source": [
    "a"
   ]
  },
  {
   "cell_type": "code",
   "execution_count": null,
   "metadata": {
    "collapsed": true
   },
   "outputs": [],
   "source": [
    "list(set(a))"
   ]
  },
  {
   "cell_type": "code",
   "execution_count": null,
   "metadata": {
    "collapsed": true
   },
   "outputs": [],
   "source": [
    "mySet1 = set()"
   ]
  },
  {
   "cell_type": "code",
   "execution_count": null,
   "metadata": {
    "collapsed": true
   },
   "outputs": [],
   "source": [
    "mySet1.add(1)\n",
    "mySet1"
   ]
  },
  {
   "cell_type": "code",
   "execution_count": null,
   "metadata": {
    "collapsed": true
   },
   "outputs": [],
   "source": [
    "myListA = [999, 1, 1, 2, 3, 4, 5, 'a', 9]\n",
    "mySet2 = set(myListA)\n",
    "mySet2"
   ]
  },
  {
   "cell_type": "markdown",
   "metadata": {},
   "source": [
    "### Dictionaries"
   ]
  },
  {
   "cell_type": "markdown",
   "metadata": {},
   "source": [
    "> - Key:Value 쌍의 묶음\n",
    "> - immutable type(tuple, str, range, bytes) 변수 값을 key로 사용"
   ]
  },
  {
   "cell_type": "code",
   "execution_count": null,
   "metadata": {
    "collapsed": true
   },
   "outputs": [],
   "source": [
    "myDict1 = {1:123, 'a':234, ('m','n'):345}"
   ]
  },
  {
   "cell_type": "code",
   "execution_count": null,
   "metadata": {
    "collapsed": true
   },
   "outputs": [],
   "source": [
    "myDict1.keys()"
   ]
  },
  {
   "cell_type": "code",
   "execution_count": null,
   "metadata": {
    "collapsed": true
   },
   "outputs": [],
   "source": [
    "myDict1.get(('m','n'))"
   ]
  },
  {
   "cell_type": "code",
   "execution_count": null,
   "metadata": {
    "collapsed": true
   },
   "outputs": [],
   "source": [
    "for k, v in myDict1.items():\n",
    "    print(k, v)"
   ]
  },
  {
   "cell_type": "markdown",
   "metadata": {},
   "source": [
    "."
   ]
  },
  {
   "cell_type": "markdown",
   "metadata": {},
   "source": [
    "### Looping 기술"
   ]
  },
  {
   "cell_type": "markdown",
   "metadata": {},
   "source": [
    "> - sequence(list, tuple, str, range..)에 대한 looping을 만들때 enumerate() 함수를 사용하면 유용\n",
    "> - 뒤에서부터 looping하고 싶다면 reversed() 사용"
   ]
  },
  {
   "cell_type": "code",
   "execution_count": null,
   "metadata": {
    "collapsed": true
   },
   "outputs": [],
   "source": [
    "myLoopList = ['dummy', 'b', 'c', 'd']"
   ]
  },
  {
   "cell_type": "code",
   "execution_count": null,
   "metadata": {
    "collapsed": true
   },
   "outputs": [],
   "source": [
    "for v in myLoopList:\n",
    "    print(v)"
   ]
  },
  {
   "cell_type": "code",
   "execution_count": null,
   "metadata": {
    "collapsed": true,
    "scrolled": false
   },
   "outputs": [],
   "source": [
    "for i, v in enumerate(myLoopList):\n",
    "    if(i==0): \n",
    "        continue\n",
    "    print(i, v)"
   ]
  },
  {
   "cell_type": "markdown",
   "metadata": {},
   "source": [
    "###  List Comprehensions"
   ]
  },
  {
   "cell_type": "markdown",
   "metadata": {},
   "source": [
    "> - list를 가공하여 다른 list를 만들 때, 축약된 표현을 사용할 수 있음(매우 유용함)"
   ]
  },
  {
   "cell_type": "code",
   "execution_count": null,
   "metadata": {
    "collapsed": true
   },
   "outputs": [],
   "source": [
    "squares1 = []\n",
    "for x in range(10):\n",
    "    squares1.append(x**2)"
   ]
  },
  {
   "cell_type": "code",
   "execution_count": null,
   "metadata": {
    "collapsed": true
   },
   "outputs": [],
   "source": [
    "squares1"
   ]
  },
  {
   "cell_type": "code",
   "execution_count": null,
   "metadata": {
    "collapsed": true
   },
   "outputs": [],
   "source": [
    "squares2 = [x**2 for x in range(10) if x != 0]"
   ]
  },
  {
   "cell_type": "code",
   "execution_count": null,
   "metadata": {
    "collapsed": true
   },
   "outputs": [],
   "source": [
    "squares2"
   ]
  },
  {
   "cell_type": "code",
   "execution_count": null,
   "metadata": {
    "collapsed": true
   },
   "outputs": [],
   "source": [
    "tmp = []\n",
    "for x in [1,2,3]:\n",
    "    for y in [3,1,2]:\n",
    "        if x != y:\n",
    "            tmp.append((x, y))\n",
    "tmp"
   ]
  },
  {
   "cell_type": "code",
   "execution_count": null,
   "metadata": {
    "collapsed": true
   },
   "outputs": [],
   "source": [
    "[(x, y) for x in [1,2,3] for y in [3,1,4] if x !=y]"
   ]
  },
  {
   "cell_type": "code",
   "execution_count": null,
   "metadata": {
    "collapsed": true
   },
   "outputs": [],
   "source": [
    "%%writefile ./test/test.py\n",
    "combs = []\n",
    "for x in [1,2,3]:\n",
    "    for y in [3,1,4]:\n",
    "        if x != y:\n",
    "            combs.append((x,y))\n",
    "combs"
   ]
  },
  {
   "cell_type": "code",
   "execution_count": null,
   "metadata": {
    "collapsed": true
   },
   "outputs": [],
   "source": [
    "import os\n",
    "os.getcwd()"
   ]
  },
  {
   "cell_type": "code",
   "execution_count": null,
   "metadata": {
    "collapsed": true
   },
   "outputs": [],
   "source": [
    "vec = [-4, -2, 0, 2, 4]\n",
    "[x**2 for x in vec]"
   ]
  },
  {
   "cell_type": "code",
   "execution_count": null,
   "metadata": {
    "collapsed": true,
    "scrolled": true
   },
   "outputs": [],
   "source": [
    "[(x, x**2) for x in range(6)]"
   ]
  },
  {
   "cell_type": "markdown",
   "metadata": {},
   "source": [
    "### Functional Programming Tools"
   ]
  },
  {
   "cell_type": "markdown",
   "metadata": {},
   "source": [
    "> - list를 함수형 스타일로 다룰 수 있도록 하는 3개 함수가 있음, filter(), map(), reduce()\n",
    "> - filter()는 조건으로 걸러내는 역할(where)\n",
    "> - map()은 list의 각 원소에 어떤 연산을 적용하여 다른 list를 얻는 역할(select as)\n",
    "> - reduce()는 list의 모든 원소에 어떤 연산을 적용하여 한 값을 얻는 역할(aggregate)"
   ]
  },
  {
   "cell_type": "markdown",
   "metadata": {},
   "source": [
    "###### filter"
   ]
  },
  {
   "cell_type": "code",
   "execution_count": null,
   "metadata": {
    "collapsed": true
   },
   "outputs": [],
   "source": [
    "def f(x):\n",
    "    return x % 3 == 0 or x % 5 == 0"
   ]
  },
  {
   "cell_type": "code",
   "execution_count": null,
   "metadata": {
    "collapsed": true
   },
   "outputs": [],
   "source": [
    "f(4)"
   ]
  },
  {
   "cell_type": "code",
   "execution_count": null,
   "metadata": {
    "collapsed": true,
    "scrolled": true
   },
   "outputs": [],
   "source": [
    "def f(x):\n",
    "    return x % 3 == 0 or x % 5 == 0\n",
    "\n",
    "myList = list(range(1, 10))\n",
    "print(myList)"
   ]
  },
  {
   "cell_type": "code",
   "execution_count": null,
   "metadata": {
    "collapsed": true
   },
   "outputs": [],
   "source": [
    "myList = list(range(10))\n",
    "filter(f, myList)"
   ]
  },
  {
   "cell_type": "markdown",
   "metadata": {},
   "source": [
    "###### map"
   ]
  },
  {
   "cell_type": "code",
   "execution_count": null,
   "metadata": {
    "collapsed": true
   },
   "outputs": [],
   "source": [
    "def cube(x): return x*x*x\n",
    "\n",
    "def add(x, y): return x+y"
   ]
  },
  {
   "cell_type": "code",
   "execution_count": null,
   "metadata": {
    "collapsed": true
   },
   "outputs": [],
   "source": [
    "list(map(cube, myList))"
   ]
  },
  {
   "cell_type": "code",
   "execution_count": null,
   "metadata": {
    "collapsed": true
   },
   "outputs": [],
   "source": [
    "list(map(add, myList, myList))"
   ]
  },
  {
   "cell_type": "code",
   "execution_count": null,
   "metadata": {
    "collapsed": true
   },
   "outputs": [],
   "source": [
    "tt = [1, 2, 3, 4, 5]\n",
    "list(map(id, tt))"
   ]
  },
  {
   "cell_type": "markdown",
   "metadata": {},
   "source": [
    "###### reduce"
   ]
  },
  {
   "cell_type": "code",
   "execution_count": null,
   "metadata": {
    "collapsed": true,
    "scrolled": true
   },
   "outputs": [],
   "source": [
    "from functools import reduce\n",
    "reduce(add, myList)"
   ]
  },
  {
   "cell_type": "markdown",
   "metadata": {},
   "source": [
    "###### zip"
   ]
  },
  {
   "cell_type": "code",
   "execution_count": null,
   "metadata": {
    "collapsed": true
   },
   "outputs": [],
   "source": [
    "tt1 = list(range(10))\n",
    "tt2 = list(range(10, 30))"
   ]
  },
  {
   "cell_type": "code",
   "execution_count": null,
   "metadata": {
    "collapsed": true
   },
   "outputs": [],
   "source": [
    "tt1"
   ]
  },
  {
   "cell_type": "code",
   "execution_count": null,
   "metadata": {
    "collapsed": true
   },
   "outputs": [],
   "source": [
    "tt2"
   ]
  },
  {
   "cell_type": "code",
   "execution_count": null,
   "metadata": {
    "collapsed": true
   },
   "outputs": [],
   "source": [
    "list(zip(tt1, tt2))"
   ]
  },
  {
   "cell_type": "markdown",
   "metadata": {},
   "source": [
    "---"
   ]
  },
  {
   "cell_type": "markdown",
   "metadata": {},
   "source": [
    "## Modules"
   ]
  },
  {
   "cell_type": "markdown",
   "metadata": {},
   "source": [
    "> - 재사용을 목적으로 스크립트(명령, 함수, 클레스 등)를 저장한 **파일**을 모듈 이라 함\n",
    "\n",
    "\n",
    "> - 스크립트를 .py 파일로 저장하면 파일명이 바로 모듈명이 됨\n",
    "> - 다른 곳 에서 이 모듈을 가져와(import) 사용할 수 있음\n",
    "\n",
    "\n",
    "> - (주의)효율성을 위해서 하나의 interpreter session에서 특정 module(or package)를 import하면, 그 이름의 module은 한번만 import한다. 즉 module(or package)를 수정 후 다시 import를 하더라도 반영되지 않는다.\n",
    "> - 다시 load 하려면 reload(module_name) 명령어를 사용하거나, jupyter notebook에서는 상단의 Kernel > restart 메뉴를 사용하여 interpreter를 재시작한 후 import하면 수정 사항이 반영된다."
   ]
  },
  {
   "cell_type": "code",
   "execution_count": null,
   "metadata": {
    "collapsed": true
   },
   "outputs": [],
   "source": [
    "import os\n",
    "os.getcwd()\n",
    "os.chdir('C:\\\\Users\\\\moon\\\\Desktop\\\\python_test')\n",
    "#sys.path.append('C:\\\\Users\\\\moon\\\\Desktop\\\\python_test')"
   ]
  },
  {
   "cell_type": "code",
   "execution_count": null,
   "metadata": {
    "collapsed": true
   },
   "outputs": [],
   "source": [
    "%%writefile my_first_module.py\n",
    "\n",
    "val_mod = 'Hello world'\n",
    "\n",
    "def my_func_one(n):    # write Fibonacci series up to n\n",
    "    print('my_func_one')\n",
    "    \n",
    "print(val_mod)\n"
   ]
  },
  {
   "cell_type": "code",
   "execution_count": null,
   "metadata": {
    "collapsed": true
   },
   "outputs": [],
   "source": [
    "import my_first_module"
   ]
  },
  {
   "cell_type": "code",
   "execution_count": null,
   "metadata": {
    "collapsed": true
   },
   "outputs": [],
   "source": [
    "my_first_module.my_func_one(1)"
   ]
  },
  {
   "cell_type": "code",
   "execution_count": null,
   "metadata": {
    "collapsed": true
   },
   "outputs": [],
   "source": [
    "dir(my_first_module)"
   ]
  },
  {
   "cell_type": "markdown",
   "metadata": {},
   "source": [
    "> - 모듈 내에서 모듈명은 모듈내 변수인 \\__name\\__ 으로 접근 가능\n",
    "> - import 하면 importing module의 global symbol table에 module명이나 module내 symbole이 추가됨, dir()명령어로 확인!\n",
    "> - 모듈을 스크립트로 실행하는 경우 \\__name\\__ 값이 '\\__main__'으로 설정된다. 이를 이용해 스크립트로 실행될 때에만 수행할 일을 정할 수도 있다."
   ]
  },
  {
   "cell_type": "code",
   "execution_count": null,
   "metadata": {
    "collapsed": true
   },
   "outputs": [],
   "source": [
    "import os\n",
    "os.getcwd()\n",
    "os.chdir('C:\\\\Users\\\\moon\\\\Desktop\\\\python_test')"
   ]
  },
  {
   "cell_type": "code",
   "execution_count": null,
   "metadata": {
    "collapsed": true
   },
   "outputs": [],
   "source": [
    "%%writefile my_second_module.py\n",
    "val_mod = 'Hello world'\n",
    "\n",
    "print(__name__)\n",
    "\n",
    "def my_func_one(n):    # write Fibonacci series up to n\n",
    "    print('my_func_two')\n",
    "    \n",
    "def my_func_two(n):   # return Fibonacci series up to n\n",
    "    print(n)\n",
    "\n",
    "def print_my_name():\n",
    "    print(__name__)\n",
    "\n",
    "class MyDog:\n",
    "    def __init__(self, name):\n",
    "        self.name = name\n",
    "        print('doggy ~', self.name)"
   ]
  },
  {
   "cell_type": "code",
   "execution_count": null,
   "metadata": {
    "collapsed": true
   },
   "outputs": [],
   "source": [
    "from my_first_module import *"
   ]
  },
  {
   "cell_type": "code",
   "execution_count": null,
   "metadata": {
    "collapsed": true,
    "scrolled": true
   },
   "outputs": [],
   "source": [
    "my_func_one(1)"
   ]
  },
  {
   "cell_type": "code",
   "execution_count": null,
   "metadata": {
    "collapsed": true
   },
   "outputs": [],
   "source": [
    "from my_second_module import *"
   ]
  },
  {
   "cell_type": "code",
   "execution_count": null,
   "metadata": {
    "collapsed": true,
    "scrolled": true
   },
   "outputs": [],
   "source": [
    "my_func_one(1)"
   ]
  },
  {
   "cell_type": "code",
   "execution_count": null,
   "metadata": {
    "collapsed": true
   },
   "outputs": [],
   "source": [
    "%run my_second_module.py"
   ]
  },
  {
   "cell_type": "code",
   "execution_count": null,
   "metadata": {
    "collapsed": true
   },
   "outputs": [],
   "source": [
    "__name__"
   ]
  },
  {
   "cell_type": "code",
   "execution_count": null,
   "metadata": {
    "collapsed": true
   },
   "outputs": [],
   "source": [
    "import my_second_module"
   ]
  },
  {
   "cell_type": "code",
   "execution_count": null,
   "metadata": {
    "collapsed": true
   },
   "outputs": [],
   "source": [
    "test = my_second_module"
   ]
  },
  {
   "cell_type": "code",
   "execution_count": null,
   "metadata": {
    "collapsed": true
   },
   "outputs": [],
   "source": [
    "my_dog = test.MyDog('merry')"
   ]
  },
  {
   "cell_type": "code",
   "execution_count": null,
   "metadata": {
    "collapsed": true
   },
   "outputs": [],
   "source": [
    "my_first_module.__name__"
   ]
  },
  {
   "cell_type": "code",
   "execution_count": null,
   "metadata": {
    "collapsed": true
   },
   "outputs": [],
   "source": [
    "my_second_module.print_my_name()"
   ]
  },
  {
   "cell_type": "markdown",
   "metadata": {},
   "source": [
    "> - dir(module_name) 을 통해 imported module의 symbol table을 볼 수 있음"
   ]
  },
  {
   "cell_type": "code",
   "execution_count": null,
   "metadata": {
    "collapsed": true
   },
   "outputs": [],
   "source": [
    "dir(my_second_module)"
   ]
  },
  {
   "cell_type": "markdown",
   "metadata": {},
   "source": [
    "> - module의 symbol에 접근하려면 module명.symbole"
   ]
  },
  {
   "cell_type": "code",
   "execution_count": null,
   "metadata": {
    "collapsed": true
   },
   "outputs": [],
   "source": [
    "my_second_module.my_func_one(1)"
   ]
  },
  {
   "cell_type": "markdown",
   "metadata": {},
   "source": [
    "> - module_name.__name__ 으로 해당 module의 이름을 확인 할 수 있음"
   ]
  },
  {
   "cell_type": "code",
   "execution_count": null,
   "metadata": {
    "collapsed": true
   },
   "outputs": [],
   "source": [
    "my_second_module.__name__"
   ]
  },
  {
   "cell_type": "markdown",
   "metadata": {},
   "source": [
    "> - module내 symbol을 바로 importing module로 가져오려면, from module_name import symbol "
   ]
  },
  {
   "cell_type": "code",
   "execution_count": null,
   "metadata": {
    "collapsed": true
   },
   "outputs": [],
   "source": [
    "from my_second_module import my_func_two"
   ]
  },
  {
   "cell_type": "code",
   "execution_count": null,
   "metadata": {
    "collapsed": true
   },
   "outputs": [],
   "source": [
    "my_func_two(2)"
   ]
  },
  {
   "cell_type": "markdown",
   "metadata": {},
   "source": [
    "> - module내 모든 symbol을 importing module로 가져오려면, from module_name import *"
   ]
  },
  {
   "cell_type": "code",
   "execution_count": null,
   "metadata": {
    "collapsed": true
   },
   "outputs": [],
   "source": [
    "from my_second_module import * #importing all names"
   ]
  },
  {
   "cell_type": "code",
   "execution_count": null,
   "metadata": {
    "collapsed": true,
    "scrolled": false
   },
   "outputs": [],
   "source": [
    "dir()"
   ]
  },
  {
   "cell_type": "markdown",
   "metadata": {},
   "source": [
    "> - interpreter session당 한번만 import 됨, 만약 import 후 모듈을 수정 했고 이를 반영하고 싶다면, session을 다시 시작하거나 reload(module name) 한다."
   ]
  },
  {
   "cell_type": "markdown",
   "metadata": {},
   "source": [
    "> - 모듈을 스크립트로 이용하고자 할 경우\n",
    "```Python\n",
    "if __name__ == '__main__':\n",
    "    import sys\n",
    "    print(sys.argv[1])\n",
    "```\n",
    "형태의 구문을 삽입함 \n"
   ]
  },
  {
   "cell_type": "code",
   "execution_count": null,
   "metadata": {
    "collapsed": true
   },
   "outputs": [],
   "source": [
    "%%writefile 'my_third_module.py'\n",
    "\n",
    "val_mod = 'Hello world'\n",
    "\n",
    "def my_func_one(n):    # write Fibonacci series up to n\n",
    "    print(n)\n",
    "    \n",
    "def my_func_two(n):   # return Fibonacci series up to n\n",
    "    print(n)\n",
    "\n",
    "def print_my_name():\n",
    "    print(__name__)\n",
    "\n",
    "class MyDog:\n",
    "    name = ''\n",
    "\n",
    "print('__name__: ' + __name__)\n",
    "    \n",
    "if __name__ == '__main__':\n",
    "    print('Called from %s' %(__name__))\n",
    "    import sys\n",
    "    print(sys.argv[1] + '...')"
   ]
  },
  {
   "cell_type": "code",
   "execution_count": null,
   "metadata": {
    "collapsed": true
   },
   "outputs": [],
   "source": [
    "%run 'my_third_module.py' 'arggg'"
   ]
  },
  {
   "cell_type": "code",
   "execution_count": null,
   "metadata": {
    "collapsed": true
   },
   "outputs": [],
   "source": [
    "import my_third_module"
   ]
  },
  {
   "cell_type": "markdown",
   "metadata": {},
   "source": [
    "> - \n",
    "```Python \n",
    "import module_name\n",
    "```\n",
    "> - 이 실행되면 interpreter는 우선 그 이름이 built-in 모듈중에 있는지 찾는다. 그리고 만약 찾지 못하면 sys.path에 정의된 디렉토리에서 해당이름의 .py파일을 찾는다. 여기에서 이 sys.path는 현재 디렉토리와, pythonpath에 정의된 디렉토리 등 이다.  \n",
    "> - 또한 현재 디렉토리가 standard library path에  우선함.\n",
    "\n",
    "> - built-in은 아니지만 유용한 모듈들을 standard module(library)로 제공함 , 또한 이들은 os dependent 함. 예를들어 winreg module은 윈도에만 있음\n",
    "\n",
    "\n",
    "> - sys.path에 디렉토리를 추가할 수 있음\n",
    "```Python\n",
    "import sys\n",
    "Sys.path.append('/mydir')\n",
    "```\n"
   ]
  },
  {
   "cell_type": "code",
   "execution_count": null,
   "metadata": {
    "collapsed": true
   },
   "outputs": [],
   "source": [
    "import sys\n",
    "sys.path"
   ]
  },
  {
   "cell_type": "code",
   "execution_count": null,
   "metadata": {
    "collapsed": true,
    "scrolled": false
   },
   "outputs": [],
   "source": [
    "dir(__builtin__)"
   ]
  },
  {
   "cell_type": "markdown",
   "metadata": {},
   "source": [
    "## Packages"
   ]
  },
  {
   "cell_type": "markdown",
   "metadata": {},
   "source": [
    "> - 모듈이 많아질경우 이를 효과적으로 관리할 수 있는 방법이 있다면?\n",
    "> - 모듈을 담고 있는 폴더를 Package로 구성\n",
    "> - 컴마로 구분되는 hierarchy구조를 만들 수 있음\n",
    "> - 예) animal.dog 은 animal 패키지 이하에 dog이라는 하위 패키지를 지칭\n",
    "\n",
    "\n",
    "> - 특정 폴더를 Package로 만들기 위해서는 그 폴더에 \\__init__.py 파일이 있어야 함"
   ]
  },
  {
   "cell_type": "raw",
   "metadata": {},
   "source": [
    "sound/                          Top-level package\n",
    "      __init__.py               Initialize the sound package\n",
    "      formats/                  Subpackage for file format conversions\n",
    "              __init__.py\n",
    "              wavread.py\n",
    "              wavwrite.py\n",
    "              aiffread.py\n",
    "              aiffwrite.py\n",
    "              auread.py\n",
    "              auwrite.py\n",
    "              ...\n",
    "      effects/                  Subpackage for sound effects\n",
    "              __init__.py\n",
    "              echo.py\n",
    "              surround.py\n",
    "              reverse.py\n",
    "              ...\n",
    "      filters/                  Subpackage for filters\n",
    "              __init__.py\n",
    "              equalizer.py\n",
    "              vocoder.py\n",
    "              karaoke.py\n",
    "              ..."
   ]
  },
  {
   "cell_type": "markdown",
   "metadata": {},
   "source": [
    "> - 위와 같은 구조의 패키지를 구성해야 한다면.. 우선 디렉토리를 생성"
   ]
  },
  {
   "cell_type": "code",
   "execution_count": 39,
   "metadata": {
    "collapsed": true
   },
   "outputs": [],
   "source": [
    "import os\n",
    "if not os.path.exists('./sound'):\n",
    "    os.makedirs('./sound')\n",
    "\n",
    "if not os.path.exists('./sound/formats'):\n",
    "    os.makedirs('./sound/formats')\n",
    "\n",
    "if not os.path.exists('./sound/effects'):\n",
    "    os.makedirs('./sound/effects')\n",
    "\n",
    "if not os.path.exists('./sound/filters'):\n",
    "    os.makedirs('./sound/filters')"
   ]
  },
  {
   "cell_type": "markdown",
   "metadata": {},
   "source": [
    "> - sound 폴더가 sound 패키지로 인식되기 위해서는 아래와 같은 \\__init__.py 라는 빈 파일 생성\n",
    "> - 물론 패키지 초기화 등 목적의 여러 코드를 넣을 수도 있음"
   ]
  },
  {
   "cell_type": "code",
   "execution_count": null,
   "metadata": {
    "collapsed": true,
    "scrolled": true
   },
   "outputs": [],
   "source": [
    "%%writefile './sound/__init__.py'\n",
    " "
   ]
  },
  {
   "cell_type": "markdown",
   "metadata": {},
   "source": [
    "> - sound.formats, sound.effects, sound.filters 의 하위 패키지 생성을 위해서 마찬가지의 init 파일 생성"
   ]
  },
  {
   "cell_type": "code",
   "execution_count": null,
   "metadata": {
    "collapsed": true,
    "scrolled": true
   },
   "outputs": [],
   "source": [
    "%%writefile './sound/formats/__init__.py'\n",
    " "
   ]
  },
  {
   "cell_type": "code",
   "execution_count": null,
   "metadata": {
    "collapsed": true,
    "scrolled": true
   },
   "outputs": [],
   "source": [
    "%%writefile './sound/effects/__init__.py'\n",
    " "
   ]
  },
  {
   "cell_type": "code",
   "execution_count": null,
   "metadata": {
    "collapsed": true,
    "scrolled": true
   },
   "outputs": [],
   "source": [
    "%%writefile './sound/filters/__init__.py'\n",
    " "
   ]
  },
  {
   "cell_type": "markdown",
   "metadata": {},
   "source": [
    "> - 다음으로 패키지에 들어갈 모듈을 하나 만들어보면..\n",
    "> - sound 패키지의 하위 패키지인 effects에 echo라는 모듈을 생성"
   ]
  },
  {
   "cell_type": "code",
   "execution_count": null,
   "metadata": {
    "collapsed": true
   },
   "outputs": [],
   "source": [
    "%%writefile './sound/effects/echo.py'\n",
    "def echofilter(s = ''):\n",
    "    print('echo filter is called with param - %s' %(s))"
   ]
  },
  {
   "cell_type": "code",
   "execution_count": null,
   "metadata": {
    "collapsed": true
   },
   "outputs": [],
   "source": [
    "%%writefile './sound/formats/waveread.py'\n",
    "def echofilter(s = ''):\n",
    "    print('wave read is called with param - %s' %(s))"
   ]
  },
  {
   "cell_type": "markdown",
   "metadata": {},
   "source": [
    "> - 모듈과 마찬가지로 패키지를 사용하려면 import를 해야함.\n",
    "> - 패키지를 import 방법은 모듈에서의 그것과 동일"
   ]
  },
  {
   "cell_type": "markdown",
   "metadata": {},
   "source": [
    "> - 아래 명령은 sound.effects.echo 라는 name을 global symbol table에 추가함. \n",
    "> - effects나 echo를 독립적으로 추가하지 않음\n",
    "> - 따라서 echo이하의 name을 사용하기 위해서는 name앞에 sound.effects.echo 를 모두 명시 해야 함"
   ]
  },
  {
   "cell_type": "code",
   "execution_count": null,
   "metadata": {
    "collapsed": true,
    "scrolled": true
   },
   "outputs": [],
   "source": [
    "dir()"
   ]
  },
  {
   "cell_type": "code",
   "execution_count": null,
   "metadata": {
    "collapsed": true
   },
   "outputs": [],
   "source": [
    "import sound"
   ]
  },
  {
   "cell_type": "code",
   "execution_count": null,
   "metadata": {
    "collapsed": true
   },
   "outputs": [],
   "source": [
    "from sound import *"
   ]
  },
  {
   "cell_type": "code",
   "execution_count": null,
   "metadata": {
    "collapsed": true
   },
   "outputs": [],
   "source": [
    "import sound.effects.echo"
   ]
  },
  {
   "cell_type": "code",
   "execution_count": null,
   "metadata": {
    "collapsed": true
   },
   "outputs": [],
   "source": [
    "dir(sound.effects)"
   ]
  },
  {
   "cell_type": "code",
   "execution_count": null,
   "metadata": {
    "collapsed": true
   },
   "outputs": [],
   "source": [
    "dir(sound.effects.echo)"
   ]
  },
  {
   "cell_type": "markdown",
   "metadata": {},
   "source": [
    "> - 아래와 같이 import한다면 sound.effects 에 있는 name들을 사용할 수 있음\n",
    "> - sound.effects 의 sub-package내에 있는 name들에 대한 접근은 불가"
   ]
  },
  {
   "cell_type": "code",
   "execution_count": null,
   "metadata": {
    "collapsed": true
   },
   "outputs": [],
   "source": [
    "import sound.effects"
   ]
  },
  {
   "cell_type": "code",
   "execution_count": null,
   "metadata": {
    "collapsed": true
   },
   "outputs": [],
   "source": [
    "dir(sound.effects.echo)"
   ]
  },
  {
   "cell_type": "markdown",
   "metadata": {},
   "source": [
    "> - 아래와 같이 import 할 경우 echo라는 패키지가 바로 global symbol table에 등록되고, 이 패키지에 속하는 name들을 echo. 을 접두어로 사용하여 접근할 수 있음"
   ]
  },
  {
   "cell_type": "code",
   "execution_count": null,
   "metadata": {
    "collapsed": true
   },
   "outputs": [],
   "source": [
    "from sound.effects import echo"
   ]
  },
  {
   "cell_type": "code",
   "execution_count": null,
   "metadata": {
    "collapsed": true
   },
   "outputs": [],
   "source": [
    "echo.echofilter('aaaa')"
   ]
  },
  {
   "cell_type": "code",
   "execution_count": null,
   "metadata": {
    "collapsed": true,
    "scrolled": true
   },
   "outputs": [],
   "source": [
    "dir(echo)"
   ]
  },
  {
   "cell_type": "markdown",
   "metadata": {},
   "source": [
    "> - 아래와 같이 import 할 경우 echofilter라는 name이 바로 global symbol table에 등록됨\n",
    "> - 이 경우 별도의 패키지 접두어 없이 이 name을 사용할 수 있음"
   ]
  },
  {
   "cell_type": "code",
   "execution_count": null,
   "metadata": {
    "collapsed": true
   },
   "outputs": [],
   "source": [
    "from sound.effects.echo import echofilter"
   ]
  },
  {
   "cell_type": "code",
   "execution_count": null,
   "metadata": {
    "collapsed": true,
    "scrolled": true
   },
   "outputs": [],
   "source": [
    "echofilter('aaa')"
   ]
  },
  {
   "cell_type": "markdown",
   "metadata": {},
   "source": [
    "> - 위와같이 from ... import 형태의 구문에서 import 다음에 올 수 있는 것은 패키지, 모듈 혹은 모듈 내의 함수/클래스/변수 이다."
   ]
  },
  {
   "cell_type": "markdown",
   "metadata": {},
   "source": [
    "> \n",
    "```python\n",
    "from package import *\n",
    "```\n",
    "> - 만약 위와 같이 import 한다면 package 이하의 모든 모듈이 import 될것 같지만 그렇지 않다.\n",
    "\n",
    "> - package 폴더에 있는 \\__init__.py 파일에 정의된 \\__all__ 이라는 변수에 리스트 형태로 정의된 목록만을 import한다.\n",
    "\n",
    "> \n",
    "```Python\n",
    "__all__ = [\"effects\", \"filters\", \"formats\"]\n",
    "```\n",
    "\n",
    "\n",
    "> - 위와 같이 sound 폴더의 \\__init__.py 파일에 정의 했다면 [from sound import *]는 위의 3개 패키지를 import 한다.\n",
    "\n",
    "\n",
    "> - 앞서 빈문서로 저장 했던 ./sound/\\__init__.py 파일을 수정하고 테스트 해 보면..(빈 문서일때와 비교)"
   ]
  },
  {
   "cell_type": "code",
   "execution_count": 41,
   "metadata": {
    "scrolled": true
   },
   "outputs": [
    {
     "name": "stdout",
     "output_type": "stream",
     "text": [
      "Writing ./sound/__init__.py\n"
     ]
    }
   ],
   "source": [
    "%%writefile ./sound/__init__.py\n",
    "\n",
    "#__all__ = [\"effects\", \"filters\"]"
   ]
  },
  {
   "cell_type": "code",
   "execution_count": 42,
   "metadata": {
    "collapsed": true
   },
   "outputs": [],
   "source": [
    "from sound import *"
   ]
  },
  {
   "cell_type": "code",
   "execution_count": 43,
   "metadata": {
    "scrolled": false
   },
   "outputs": [
    {
     "data": {
      "text/plain": [
       "['In',\n",
       " 'MyDog',\n",
       " 'Out',\n",
       " '_',\n",
       " '_11',\n",
       " '_18',\n",
       " '_26',\n",
       " '_30',\n",
       " '_32',\n",
       " '_34',\n",
       " '_38',\n",
       " '_8',\n",
       " '__',\n",
       " '___',\n",
       " '__builtin__',\n",
       " '__builtins__',\n",
       " '__doc__',\n",
       " '__loader__',\n",
       " '__name__',\n",
       " '__nonzero__',\n",
       " '__package__',\n",
       " '__spec__',\n",
       " '_dh',\n",
       " '_i',\n",
       " '_i1',\n",
       " '_i10',\n",
       " '_i11',\n",
       " '_i12',\n",
       " '_i13',\n",
       " '_i14',\n",
       " '_i15',\n",
       " '_i16',\n",
       " '_i17',\n",
       " '_i18',\n",
       " '_i19',\n",
       " '_i2',\n",
       " '_i20',\n",
       " '_i21',\n",
       " '_i22',\n",
       " '_i23',\n",
       " '_i24',\n",
       " '_i25',\n",
       " '_i26',\n",
       " '_i27',\n",
       " '_i28',\n",
       " '_i29',\n",
       " '_i3',\n",
       " '_i30',\n",
       " '_i31',\n",
       " '_i32',\n",
       " '_i33',\n",
       " '_i34',\n",
       " '_i35',\n",
       " '_i36',\n",
       " '_i37',\n",
       " '_i38',\n",
       " '_i39',\n",
       " '_i4',\n",
       " '_i40',\n",
       " '_i41',\n",
       " '_i42',\n",
       " '_i43',\n",
       " '_i5',\n",
       " '_i6',\n",
       " '_i7',\n",
       " '_i8',\n",
       " '_i9',\n",
       " '_ih',\n",
       " '_ii',\n",
       " '_iii',\n",
       " '_oh',\n",
       " '_sh',\n",
       " 'exit',\n",
       " 'get_ipython',\n",
       " 'my_dog',\n",
       " 'my_first_module',\n",
       " 'my_func_one',\n",
       " 'my_func_two',\n",
       " 'my_second_module',\n",
       " 'os',\n",
       " 'print_my_name',\n",
       " 'quit',\n",
       " 'test',\n",
       " 'val_mod']"
      ]
     },
     "execution_count": 43,
     "metadata": {},
     "output_type": "execute_result"
    }
   ],
   "source": [
    "dir()"
   ]
  },
  {
   "cell_type": "code",
   "execution_count": 44,
   "metadata": {
    "scrolled": true
   },
   "outputs": [
    {
     "ename": "NameError",
     "evalue": "name 'effects' is not defined",
     "output_type": "error",
     "traceback": [
      "\u001b[1;31m---------------------------------------------------------------------------\u001b[0m",
      "\u001b[1;31mNameError\u001b[0m                                 Traceback (most recent call last)",
      "\u001b[1;32m<ipython-input-44-14f6412380bf>\u001b[0m in \u001b[0;36m<module>\u001b[1;34m()\u001b[0m\n\u001b[1;32m----> 1\u001b[1;33m \u001b[0meffects\u001b[0m\u001b[1;33m\u001b[0m\u001b[0m\n\u001b[0m",
      "\u001b[1;31mNameError\u001b[0m: name 'effects' is not defined"
     ]
    }
   ],
   "source": [
    "effects"
   ]
  },
  {
   "cell_type": "markdown",
   "metadata": {},
   "source": [
    "> - 패키지내에서 다른 패키지를 import 해 사용해야할 때도 있을 것이다.\n",
    "\n",
    "> - 첫번째 방법으로는 절대경로를 이용해 import 하는 것이다. 예를들어 sound.effects.surround 모듈에서 wavread 패키지를 사용해야 할 경우, 아래와 같이 절대 경로를 사용할 수 있다.\n",
    "```Python\n",
    "import sound.formats import wavread\n",
    "```\n",
    "\n",
    "> - 두번째 방법으로 절대경로를 이용할 수 있다.  \n",
    "```Python\n",
    "import . import surround\n",
    "import .. import formats\n",
    "import ..formats import waveread\n",
    "```"
   ]
  },
  {
   "cell_type": "markdown",
   "metadata": {},
   "source": [
    "---"
   ]
  },
  {
   "cell_type": "markdown",
   "metadata": {},
   "source": [
    "## Input and Output"
   ]
  },
  {
   "cell_type": "markdown",
   "metadata": {},
   "source": [
    "###### Print formatting"
   ]
  },
  {
   "cell_type": "code",
   "execution_count": null,
   "metadata": {
    "collapsed": true
   },
   "outputs": [],
   "source": [
    "print('We are the {} who say \"{}!\"'.format('knights', 'Ni'))"
   ]
  },
  {
   "cell_type": "code",
   "execution_count": null,
   "metadata": {
    "collapsed": true
   },
   "outputs": [],
   "source": [
    "print '{0} and {1}'.format('spam', 'eggs')"
   ]
  },
  {
   "cell_type": "code",
   "execution_count": null,
   "metadata": {
    "collapsed": true
   },
   "outputs": [],
   "source": [
    "print 'This {food} is {adjective}.'.format(food='spam', adjective='absolutely horrible')"
   ]
  },
  {
   "cell_type": "code",
   "execution_count": null,
   "metadata": {
    "collapsed": true
   },
   "outputs": [],
   "source": [
    "print 'The story of {0}, {1}, and {other}.'.format('Bill', 'Manfred', other='Georg')"
   ]
  },
  {
   "cell_type": "markdown",
   "metadata": {},
   "source": [
    "###### Old string formatting"
   ]
  },
  {
   "cell_type": "code",
   "execution_count": 45,
   "metadata": {},
   "outputs": [
    {
     "name": "stdout",
     "output_type": "stream",
     "text": [
      "PI value is 3.142.\n"
     ]
    }
   ],
   "source": [
    "print('PI value is %5.3f.' %3.141592)"
   ]
  },
  {
   "cell_type": "markdown",
   "metadata": {},
   "source": [
    "###### Reading and Writing Files\n",
    "\n",
    "> - r  : read only\n",
    "> - w  : only writing(기존에 파일이 존재한다면 삭제하고 새로 생성됨)\n",
    "> - a  : appending\n",
    "> - r+ : both reading and writing\n",
    "> - b  : append in binary mode, rb, wb, r+b (just for Windows)"
   ]
  },
  {
   "cell_type": "code",
   "execution_count": null,
   "metadata": {
    "collapsed": true
   },
   "outputs": [],
   "source": [
    "f = open('myFile', 'a')\n",
    "f.writelines('test text...\\n')\n",
    "f.close()"
   ]
  },
  {
   "cell_type": "code",
   "execution_count": null,
   "metadata": {
    "collapsed": true,
    "scrolled": true
   },
   "outputs": [],
   "source": [
    "with open('myFile', 'a') as f:\n",
    "    f.writelines('test text...\\n')"
   ]
  },
  {
   "cell_type": "code",
   "execution_count": null,
   "metadata": {
    "collapsed": true,
    "scrolled": true
   },
   "outputs": [],
   "source": [
    "f.writelines('check')"
   ]
  },
  {
   "cell_type": "markdown",
   "metadata": {},
   "source": [
    "> - with 문을 사용할 경우 close 하지 않아도 됨, (각 함수마다 with문이 끝날때 수행할 명령이 정의되어 있음, 혹은 별도로 정의할 수 있음)"
   ]
  },
  {
   "cell_type": "code",
   "execution_count": null,
   "metadata": {
    "collapsed": true
   },
   "outputs": [],
   "source": [
    "with open('myFile', 'r') as f:\n",
    "    print(f.readline())"
   ]
  },
  {
   "cell_type": "markdown",
   "metadata": {},
   "source": [
    "###### with"
   ]
  },
  {
   "cell_type": "markdown",
   "metadata": {},
   "source": [
    "> 시작할때 하는 일과 끝날때 하는 일이 항상 쌍으로 수행되어야 하는 경우 유용"
   ]
  },
  {
   "cell_type": "code",
   "execution_count": 79,
   "metadata": {},
   "outputs": [],
   "source": [
    "class TestWithDog():\n",
    "    def __init__(self, name):\n",
    "        self.name = name\n",
    "    \n",
    "    def bark(self, times=1):\n",
    "        print(\"Wal wal~~ I'm\", self.name)\n",
    "        "
   ]
  },
  {
   "cell_type": "code",
   "execution_count": 84,
   "metadata": {},
   "outputs": [
    {
     "name": "stdout",
     "output_type": "stream",
     "text": [
      "doggy is entering home.\n",
      "hello\n",
      "doggy is exiting home.\n"
     ]
    }
   ],
   "source": [
    "with TestWithDog('merry'):\n",
    "    print('hello')"
   ]
  },
  {
   "cell_type": "code",
   "execution_count": 83,
   "metadata": {
    "collapsed": true
   },
   "outputs": [],
   "source": [
    "class TestWithDog():\n",
    "    def __init__(self, name):\n",
    "        self.name = name\n",
    "    \n",
    "    def bark(self, times=1):\n",
    "        print(\"Wal wal~~ I'm\", self.name)\n",
    "        \n",
    "    def __enter__(self):\n",
    "        print('doggy is entering home.')\n",
    "        \n",
    "    def __exit__(self, type, value, traceback):\n",
    "        print('doggy is exiting home.')"
   ]
  },
  {
   "cell_type": "markdown",
   "metadata": {},
   "source": [
    "---"
   ]
  },
  {
   "cell_type": "markdown",
   "metadata": {},
   "source": [
    "## Errors and Exceptions"
   ]
  },
  {
   "cell_type": "markdown",
   "metadata": {
    "collapsed": true
   },
   "source": [
    "###### Syntax Errors\n",
    "\n",
    "> - 문법 오류로서 parsing error"
   ]
  },
  {
   "cell_type": "code",
   "execution_count": null,
   "metadata": {
    "collapsed": true
   },
   "outputs": [],
   "source": [
    "while True print 'Hello world'"
   ]
  },
  {
   "cell_type": "markdown",
   "metadata": {},
   "source": [
    "###### Exceptions\n",
    "> - 문법적 오류는 없으나 실행시점에 발생하는 오류"
   ]
  },
  {
   "cell_type": "code",
   "execution_count": 46,
   "metadata": {},
   "outputs": [
    {
     "ename": "ZeroDivisionError",
     "evalue": "division by zero",
     "output_type": "error",
     "traceback": [
      "\u001b[1;31m---------------------------------------------------------------------------\u001b[0m",
      "\u001b[1;31mZeroDivisionError\u001b[0m                         Traceback (most recent call last)",
      "\u001b[1;32m<ipython-input-46-9ce172bd90a7>\u001b[0m in \u001b[0;36m<module>\u001b[1;34m()\u001b[0m\n\u001b[1;32m----> 1\u001b[1;33m \u001b[1;36m10\u001b[0m \u001b[1;33m*\u001b[0m \u001b[1;33m(\u001b[0m\u001b[1;36m1\u001b[0m\u001b[1;33m/\u001b[0m\u001b[1;36m0\u001b[0m\u001b[1;33m)\u001b[0m\u001b[1;33m\u001b[0m\u001b[0m\n\u001b[0m",
      "\u001b[1;31mZeroDivisionError\u001b[0m: division by zero"
     ]
    }
   ],
   "source": [
    "10 * (1/0)"
   ]
  },
  {
   "cell_type": "code",
   "execution_count": 47,
   "metadata": {},
   "outputs": [
    {
     "ename": "NameError",
     "evalue": "name 'spam' is not defined",
     "output_type": "error",
     "traceback": [
      "\u001b[1;31m---------------------------------------------------------------------------\u001b[0m",
      "\u001b[1;31mNameError\u001b[0m                                 Traceback (most recent call last)",
      "\u001b[1;32m<ipython-input-47-6b1dfe582d2e>\u001b[0m in \u001b[0;36m<module>\u001b[1;34m()\u001b[0m\n\u001b[1;32m----> 1\u001b[1;33m \u001b[1;36m4\u001b[0m \u001b[1;33m+\u001b[0m \u001b[0mspam\u001b[0m\u001b[1;33m*\u001b[0m\u001b[1;36m3\u001b[0m\u001b[1;33m\u001b[0m\u001b[0m\n\u001b[0m",
      "\u001b[1;31mNameError\u001b[0m: name 'spam' is not defined"
     ]
    }
   ],
   "source": [
    "4 + spam*3"
   ]
  },
  {
   "cell_type": "code",
   "execution_count": 48,
   "metadata": {
    "scrolled": true
   },
   "outputs": [
    {
     "ename": "TypeError",
     "evalue": "must be str, not int",
     "output_type": "error",
     "traceback": [
      "\u001b[1;31m---------------------------------------------------------------------------\u001b[0m",
      "\u001b[1;31mTypeError\u001b[0m                                 Traceback (most recent call last)",
      "\u001b[1;32m<ipython-input-48-4c6dd5170204>\u001b[0m in \u001b[0;36m<module>\u001b[1;34m()\u001b[0m\n\u001b[1;32m----> 1\u001b[1;33m \u001b[1;34m'2'\u001b[0m \u001b[1;33m+\u001b[0m \u001b[1;36m2\u001b[0m\u001b[1;33m\u001b[0m\u001b[0m\n\u001b[0m",
      "\u001b[1;31mTypeError\u001b[0m: must be str, not int"
     ]
    }
   ],
   "source": [
    "'2' + 2"
   ]
  },
  {
   "cell_type": "markdown",
   "metadata": {},
   "source": [
    "> - 앞서 ZeroDivisionError, NameError, TypeError 등 built-in exception type이 여러가지 있음."
   ]
  },
  {
   "cell_type": "markdown",
   "metadata": {},
   "source": [
    "###### Handling Exceptions"
   ]
  },
  {
   "cell_type": "markdown",
   "metadata": {},
   "source": [
    "> - 기본 구조는 아래와 같음\n",
    "```Python\n",
    "try:\n",
    "    #statements to check if exception occurs\n",
    "except ExceptionName:\n",
    "    #something to do when exception caught.\n",
    "```"
   ]
  },
  {
   "cell_type": "code",
   "execution_count": null,
   "metadata": {
    "collapsed": true
   },
   "outputs": [],
   "source": [
    "while True:\n",
    "    try:\n",
    "        x = int(raw_input(\"Please enter a number: \"))\n",
    "        break\n",
    "    except ValueError:\n",
    "        print \"Oops!  That was no valid number.  Try again...\""
   ]
  },
  {
   "cell_type": "markdown",
   "metadata": {},
   "source": [
    "> - 여러 exception을 한꺼번에 처리 하려면..\n",
    "```Python\n",
    "try:\n",
    "    #statements to check if exception occurs\n",
    "except (ExceptionName1, ExceptionName2, ExceptionName3):\n",
    "    #something to do when exception caught.\n",
    "```"
   ]
  },
  {
   "cell_type": "markdown",
   "metadata": {},
   "source": [
    "> - exception이 발생 했으나 except(...)에 명시한 exception이 아닐 경우, 뭔가를 하거나 또 다른 exception을 발생 시키기 위해 exception type없이 except: 를 사용할 수 있음\n",
    "```Python\n",
    "try:\n",
    "    #statements to check if exception occurs\n",
    "except (ExceptionName1, ExceptionName2, ExceptionName3):\n",
    "    #something to do when exception caught.\n",
    "except:\n",
    "    print('Unexpected error..')\n",
    "    raise\n",
    "```"
   ]
  },
  {
   "cell_type": "code",
   "execution_count": 50,
   "metadata": {},
   "outputs": [
    {
     "ename": "ZeroDivisionError",
     "evalue": "division by zero",
     "output_type": "error",
     "traceback": [
      "\u001b[1;31m---------------------------------------------------------------------------\u001b[0m",
      "\u001b[1;31mZeroDivisionError\u001b[0m                         Traceback (most recent call last)",
      "\u001b[1;32m<ipython-input-50-4e3bb5e47d5f>\u001b[0m in \u001b[0;36m<module>\u001b[1;34m()\u001b[0m\n\u001b[0;32m      2\u001b[0m \u001b[1;33m\u001b[0m\u001b[0m\n\u001b[0;32m      3\u001b[0m \u001b[1;32mtry\u001b[0m\u001b[1;33m:\u001b[0m\u001b[1;33m\u001b[0m\u001b[0m\n\u001b[1;32m----> 4\u001b[1;33m     \u001b[0mx\u001b[0m \u001b[1;33m=\u001b[0m \u001b[1;36m10\u001b[0m \u001b[1;33m*\u001b[0m \u001b[1;33m(\u001b[0m\u001b[1;36m1\u001b[0m\u001b[1;33m/\u001b[0m\u001b[1;36m0\u001b[0m\u001b[1;33m)\u001b[0m\u001b[1;33m\u001b[0m\u001b[0m\n\u001b[0m\u001b[0;32m      5\u001b[0m     \u001b[0mprint\u001b[0m\u001b[1;33m(\u001b[0m\u001b[1;34m'Calculation done.'\u001b[0m\u001b[1;33m)\u001b[0m\u001b[1;33m\u001b[0m\u001b[0m\n\u001b[0;32m      6\u001b[0m \u001b[1;31m#except (ZeroDivisionError, NameError, TypeError):\u001b[0m\u001b[1;33m\u001b[0m\u001b[1;33m\u001b[0m\u001b[0m\n",
      "\u001b[1;31mZeroDivisionError\u001b[0m: division by zero"
     ]
    }
   ],
   "source": [
    "import sys\n",
    "\n",
    "try:\n",
    "    x = 10 * (1/0)\n",
    "    print('Calculation done.')\n",
    "#except (ZeroDivisionError, NameError, TypeError):\n",
    "except (NameError, TypeError):\n",
    "    print('Oops error!!!')\n",
    "    print(sys.exc_info()[0])"
   ]
  },
  {
   "cell_type": "code",
   "execution_count": 52,
   "metadata": {},
   "outputs": [
    {
     "name": "stdout",
     "output_type": "stream",
     "text": [
      "Unexpected error: <class 'ZeroDivisionError'>\n"
     ]
    }
   ],
   "source": [
    "import sys\n",
    "\n",
    "try:\n",
    "    x = 10 * (1/0)\n",
    "    print('Calculation done.')\n",
    "except (NameError, TypeError):\n",
    "    print('{}{}'.format(sys.exc_info()[0], sys.exc_info()[1]))\n",
    "except:\n",
    "    print('Unexpected error:', sys.exc_info()[0])\n",
    "    #raise #tossing out exception"
   ]
  },
  {
   "cell_type": "markdown",
   "metadata": {},
   "source": [
    "> - try 안의 코드가 정상적으로 실행됐을 때, 이어서 실행할 구문을 else: 문 이하에 작성할 수 있음\n",
    "\n",
    "```Python\n",
    "try:\n",
    "    #statements to check if exception occurs\n",
    "except (ExceptionName1, ExceptionName2, ExceptionName3):\n",
    "    #something to do when exception caught.\n",
    "except:\n",
    "    print('Unexpected error..')\n",
    "    raise\n",
    "else:\n",
    "    #code that must be executed if the try clause dose not raise an exception.\n",
    "```"
   ]
  },
  {
   "cell_type": "code",
   "execution_count": 57,
   "metadata": {},
   "outputs": [
    {
     "name": "stdout",
     "output_type": "stream",
     "text": [
      "Unexpected error: <class 'ZeroDivisionError'>\n"
     ]
    }
   ],
   "source": [
    "import sys\n",
    "\n",
    "try:\n",
    "    x = 10\n",
    "    y = x * (1/0)\n",
    "    print('Calculation done.')\n",
    "except (NameError, TypeError):\n",
    "    print('{}{}'.format(sys.exc_info()[0], sys.exc_info()[1]))\n",
    "except:\n",
    "    print('Unexpected error:', sys.exc_info()[0])\n",
    "    #raise #tossing out exception\n",
    "else:\n",
    "    print('x: {}'.format(x))"
   ]
  },
  {
   "cell_type": "markdown",
   "metadata": {},
   "source": [
    "###### Raising Exceptions\n",
    "> - raise 명령어로 Exception을 발생시킬 수 있음.\n",
    "> - Exception명 뒤에 argument를 tuple 형태로 줄 수 있음"
   ]
  },
  {
   "cell_type": "code",
   "execution_count": 58,
   "metadata": {},
   "outputs": [
    {
     "name": "stdout",
     "output_type": "stream",
     "text": [
      "<class 'NameError'>('HiThere', 'Hello world')\n"
     ]
    },
    {
     "ename": "NameError",
     "evalue": "('HiThere', 'Hello world')",
     "output_type": "error",
     "traceback": [
      "\u001b[1;31m---------------------------------------------------------------------------\u001b[0m",
      "\u001b[1;31mNameError\u001b[0m                                 Traceback (most recent call last)",
      "\u001b[1;32m<ipython-input-58-b35e2f97d6c9>\u001b[0m in \u001b[0;36m<module>\u001b[1;34m()\u001b[0m\n\u001b[0;32m      1\u001b[0m \u001b[1;32mtry\u001b[0m\u001b[1;33m:\u001b[0m\u001b[1;33m\u001b[0m\u001b[0m\n\u001b[1;32m----> 2\u001b[1;33m     \u001b[1;32mraise\u001b[0m \u001b[0mNameError\u001b[0m\u001b[1;33m(\u001b[0m\u001b[1;34m'HiThere'\u001b[0m\u001b[1;33m,\u001b[0m \u001b[1;34m'Hello world'\u001b[0m\u001b[1;33m)\u001b[0m\u001b[1;33m\u001b[0m\u001b[0m\n\u001b[0m\u001b[0;32m      3\u001b[0m \u001b[1;32mexcept\u001b[0m \u001b[0mNameError\u001b[0m \u001b[1;32mas\u001b[0m \u001b[0me\u001b[0m\u001b[1;33m:\u001b[0m\u001b[1;33m\u001b[0m\u001b[0m\n\u001b[0;32m      4\u001b[0m     \u001b[0mprint\u001b[0m\u001b[1;33m(\u001b[0m\u001b[1;34m'{}{}'\u001b[0m\u001b[1;33m.\u001b[0m\u001b[0mformat\u001b[0m\u001b[1;33m(\u001b[0m\u001b[0mtype\u001b[0m\u001b[1;33m(\u001b[0m\u001b[0me\u001b[0m\u001b[1;33m)\u001b[0m\u001b[1;33m,\u001b[0m \u001b[0me\u001b[0m\u001b[1;33m.\u001b[0m\u001b[0m__str__\u001b[0m\u001b[1;33m(\u001b[0m\u001b[1;33m)\u001b[0m\u001b[1;33m)\u001b[0m\u001b[1;33m)\u001b[0m\u001b[1;33m\u001b[0m\u001b[0m\n\u001b[0;32m      5\u001b[0m     \u001b[1;32mraise\u001b[0m\u001b[1;33m\u001b[0m\u001b[0m\n",
      "\u001b[1;31mNameError\u001b[0m: ('HiThere', 'Hello world')"
     ]
    }
   ],
   "source": [
    "try:\n",
    "    raise NameError('HiThere', 'Hello world')\n",
    "except NameError as e:\n",
    "    print('{}{}'.format(type(e), e.__str__()))\n",
    "    raise"
   ]
  },
  {
   "cell_type": "markdown",
   "metadata": {},
   "source": [
    "###### Finally\n",
    "> - try문을 exception없이 완료하거나, exception이 발생하거나, try문을 빠져나간 후 '무조건' 실행되어야 하는 것들을 finally 문에 넣을 수 있음(except 구분이 실행되고 나서 finally의 내용이 실행됨)\n",
    "```Python\n",
    "try:\n",
    "    #statements to check if exception occurs\n",
    "except (ExceptionName1, ExceptionName2, ExceptionName3):\n",
    "    #something to do when exception caught.\n",
    "except:\n",
    "    print('Unexpected error..')\n",
    "    raise\n",
    "finally:\n",
    "    #something to do executed whenever going out of 'try' statement.\n",
    "    print 'Goodbye, world!'\n",
    "```"
   ]
  },
  {
   "cell_type": "code",
   "execution_count": null,
   "metadata": {
    "collapsed": true
   },
   "outputs": [],
   "source": [
    "import sys\n",
    "\n",
    "try:\n",
    "    x = 10 * (1/0)\n",
    "    print('Calculation done.')\n",
    "except (NameError, TypeError):\n",
    "    print('{}{}'.format(sys.exc_info()[0], sys.exc_info()[1]))\n",
    "except:\n",
    "    print 'Unexpected error:', sys.exc_info()[0]\n",
    "    #raise #tossing out exception\n",
    "else:\n",
    "    print('x: {}'.format(x))\n",
    "finally:\n",
    "    print('Goodbye, world!')"
   ]
  },
  {
   "cell_type": "markdown",
   "metadata": {},
   "source": [
    "---"
   ]
  },
  {
   "cell_type": "markdown",
   "metadata": {},
   "source": [
    "## Classes"
   ]
  },
  {
   "cell_type": "markdown",
   "metadata": {},
   "source": [
    "###### 언젠가 배웠던... class를 회상해보면.."
   ]
  },
  {
   "cell_type": "markdown",
   "metadata": {},
   "source": [
    "> - 예를들어 아파트를 지을 때마다 설계를 처음부터 다시 해야한다면 비효율, 동일한 설계도를 반복 사용\n",
    "> - 건축설계도=class, 집=Instance(or object)\n",
    "> - 특정 대상 혹은 개념에 대한 설계도\n",
    "> - 이 설계도에 방이라는 변수, 취침이라는 기능을 넣을 수 있음\n",
    "> - 설계도에서 취침할 수는 없음(방법이 있긴함.. static method..?), 집을 지어야 취침 할 수 있음\n",
    "> - 설계도 하나로 집을 여러 채 지을 수 있음(Class의 instance를 여러개 만들 수 있음)\n",
    "> - 기존의 설계도를 바탕으로 변형된 설계도를 만들수도 있음(inheritance..?)"
   ]
  },
  {
   "cell_type": "markdown",
   "metadata": {},
   "source": [
    "###### Python에서의 Class"
   ]
  },
  {
   "cell_type": "markdown",
   "metadata": {},
   "source": [
    "> - modula-3와 C++ 에서의 class 개념과 유사   \n",
    "\n",
    "\n",
    "> - name(or symbol)은 Class의 object의 alias(or nickname)\n",
    "> - name은 object의 memory address를 갖고 있음\n",
    "> - 하나의 object는 서로 다른 여러 name을 갖을 수 있음\n",
    "> - class 변수는 기본적으로 public (private은 지원하지 않음, 단지 _(underscore)로 시작하는 변수는 암묵적으로 private으로 취급하는 약속이 있음)"
   ]
  },
  {
   "cell_type": "code",
   "execution_count": null,
   "metadata": {
    "collapsed": true
   },
   "outputs": [],
   "source": [
    "dir()"
   ]
  },
  {
   "cell_type": "markdown",
   "metadata": {},
   "source": [
    "###### 본론으로 들어가기 전에 namespace에 대해 알아보면\n",
    "\n",
    "> - namespace는 name이 key이고 instance나 attribute이 value인 dictionary이다.\n",
    "> - 실제 value 값은 instance나 attribute의 memory address라고 생각할 수 있다.\n",
    "> - 앞의 예에서는 {m: ...  k: ... , mm: ... , In: ..., Out: ..., abs: ... ... ...}\n",
    "> - namespace에는 사용자가 추가한 name들 뿐만 아니라 system에서 기본적으로 제공하는 built-in instance(and or attribute) 등이 포함되어 있다.\n",
    "\n",
    "\n",
    "> - 예를들어 script file에서 import main_module.sub_module 로 main_module.sub_module을 import 하면, 최상위 모듈인 main module의 namespace에 main_module이 추가되고, main_module의 namespace에 sub_module이 추가되고, sub_module의 namespace에 sub_module에 정의된 변수(or instance), 함수, 클래스가 name들로 추가된다.\n",
    "\n",
    "> - 각각의 namespace는 서로 독립적이며, 생성/소멸 시점 또한 각기 다르다."
   ]
  },
  {
   "cell_type": "markdown",
   "metadata": {},
   "source": [
    "###### scope rule\n",
    "> - "
   ]
  },
  {
   "cell_type": "markdown",
   "metadata": {},
   "source": [
    "###### Variables & Class instance"
   ]
  },
  {
   "cell_type": "markdown",
   "metadata": {},
   "source": [
    "> - 모든 변수는 Class의 object이고, 모든 할당은 instnace memory address 전달임.\n",
    "\n",
    "\n",
    "> - string 변수도 내부적으로 object에 대한 pointer 할당인데, string의 immutable한 특성 때문에 pointer 할당이라 느껴지지 않음\n",
    "> - immutable data type인 tuple을 통해 이를 확인 할 수 있음"
   ]
  },
  {
   "cell_type": "code",
   "execution_count": 59,
   "metadata": {
    "collapsed": true
   },
   "outputs": [],
   "source": [
    "a = 'hello'\n",
    "b = a"
   ]
  },
  {
   "cell_type": "code",
   "execution_count": 60,
   "metadata": {
    "collapsed": true
   },
   "outputs": [],
   "source": [
    "a = 'world' #assigning another memory address to variable a"
   ]
  },
  {
   "cell_type": "code",
   "execution_count": 61,
   "metadata": {
    "collapsed": true
   },
   "outputs": [],
   "source": [
    "t1 = ('a', [1,2,3])\n",
    "t2 = t1"
   ]
  },
  {
   "cell_type": "code",
   "execution_count": 62,
   "metadata": {
    "collapsed": true
   },
   "outputs": [],
   "source": [
    "t2[1][0] = 100"
   ]
  },
  {
   "cell_type": "code",
   "execution_count": 63,
   "metadata": {},
   "outputs": [
    {
     "data": {
      "text/plain": [
       "2007853612680"
      ]
     },
     "execution_count": 63,
     "metadata": {},
     "output_type": "execute_result"
    }
   ],
   "source": [
    "id(t1)"
   ]
  },
  {
   "cell_type": "code",
   "execution_count": 64,
   "metadata": {},
   "outputs": [
    {
     "data": {
      "text/plain": [
       "2007853612680"
      ]
     },
     "execution_count": 64,
     "metadata": {},
     "output_type": "execute_result"
    }
   ],
   "source": [
    "id(t2)"
   ]
  },
  {
   "cell_type": "markdown",
   "metadata": {},
   "source": [
    "###### Class definition\n",
    "\n",
    "> - class 라는 키워드와 이름으로 시작, (보통 ClassName 형태의 naming 사용)\n",
    "> - class 에는 data attribute과 function attribute이 들어감.\n",
    "> - class 의 function attribute을 **method**라 부름.\n",
    "> - class method는 반드시 첫번째 인자로 self가 와야 함.(Java/C++의 this같은 역할)   \n",
    "    (method 호출시에는 instance object가 자동으로 self자리에 들어가므로, self자리에 argument를 따로 줄 필요 없음)\n",
    "\n",
    "\n",
    "> - (C++와 달리)모든 class method는 virtual임(Java와 유사)  \n",
    "    즉 address of method는 (compile time이 아니라) 실행시점에 결정됨\n",
    "\n",
    "\n",
    "> - 함수와 마찬가지로 class ClassName: 아래에 doc string을 삽입할 수 있음\n",
    "> - 아래 예에서 num_legs는 class variable이고 public(class정의 외부에서 접근 가능)\n",
    "> - \\__init__ 함수는 생성자(creator)이고, instance 생성시 항상 실행 됨, \n",
    "> - instance 생성시 특별히 할 일이 없다면 \\__init__ 함수를 만들지 않아도 됨.\n",
    "\n",
    "> - class variable은 모든 class instance간에 공유됨(따라서 mutable type을 사용하면 위험)\n",
    "> - \\__init__ method에 정의한 변수(self.으로 시작)는 instance간 독립적임\n"
   ]
  },
  {
   "cell_type": "code",
   "execution_count": 1,
   "metadata": {
    "collapsed": true
   },
   "outputs": [],
   "source": [
    "class Dog:\n",
    "    \"\"\"\n",
    "    This is document string. \n",
    "    Write down help text here.\n",
    "    \"\"\"\n",
    "    num_legs = 4\n",
    "    \n",
    "    def __init__(self, my_name):\n",
    "        self.name = my_name\n",
    "    \n",
    "    def bark(self, times = 1):\n",
    "        for i in range(times):\n",
    "            print(\"My name is {}. wal wal~\".format(self.name))\n",
    "    \n",
    "    def test(self):\n",
    "        print('a')"
   ]
  },
  {
   "cell_type": "code",
   "execution_count": 2,
   "metadata": {
    "scrolled": true
   },
   "outputs": [
    {
     "name": "stdout",
     "output_type": "stream",
     "text": [
      "Help on class Dog in module __main__:\n",
      "\n",
      "class Dog(builtins.object)\n",
      " |  This is document string. \n",
      " |  Write down help text here.\n",
      " |  \n",
      " |  Methods defined here:\n",
      " |  \n",
      " |  __init__(self, my_name)\n",
      " |      Initialize self.  See help(type(self)) for accurate signature.\n",
      " |  \n",
      " |  bark(self, times=1)\n",
      " |  \n",
      " |  test(self)\n",
      " |  \n",
      " |  ----------------------------------------------------------------------\n",
      " |  Data descriptors defined here:\n",
      " |  \n",
      " |  __dict__\n",
      " |      dictionary for instance variables (if defined)\n",
      " |  \n",
      " |  __weakref__\n",
      " |      list of weak references to the object (if defined)\n",
      " |  \n",
      " |  ----------------------------------------------------------------------\n",
      " |  Data and other attributes defined here:\n",
      " |  \n",
      " |  num_legs = 4\n",
      "\n"
     ]
    }
   ],
   "source": [
    "help(Dog)"
   ]
  },
  {
   "cell_type": "code",
   "execution_count": 3,
   "metadata": {
    "collapsed": true
   },
   "outputs": [],
   "source": [
    "def testf():\n",
    "    print('a')"
   ]
  },
  {
   "cell_type": "code",
   "execution_count": 4,
   "metadata": {},
   "outputs": [
    {
     "data": {
      "text/plain": [
       "function"
      ]
     },
     "execution_count": 4,
     "metadata": {},
     "output_type": "execute_result"
    }
   ],
   "source": [
    "type(testf)"
   ]
  },
  {
   "cell_type": "code",
   "execution_count": 5,
   "metadata": {},
   "outputs": [
    {
     "data": {
      "text/plain": [
       "function"
      ]
     },
     "execution_count": 5,
     "metadata": {},
     "output_type": "execute_result"
    }
   ],
   "source": [
    "type(Dog.bark)"
   ]
  },
  {
   "cell_type": "markdown",
   "metadata": {},
   "source": [
    "> - (Instance를 생성하는 것과 무관하게) Class 정의를 실행하면 Class Object가 만들어진다.\n",
    "\n",
    "> - Class Object를 이용해 class attribute(variables)에 접근하거나 수정할 수 있다.(function object에 접근할수는 있으나 function call은 불가하다.)\n",
    "\n",
    "> - Class Object를 이용해 class instance를 생성할 수 있다."
   ]
  },
  {
   "cell_type": "code",
   "execution_count": 6,
   "metadata": {},
   "outputs": [
    {
     "data": {
      "text/plain": [
       "['Dog',\n",
       " 'In',\n",
       " 'Out',\n",
       " '_',\n",
       " '_4',\n",
       " '_5',\n",
       " '__',\n",
       " '___',\n",
       " '__builtin__',\n",
       " '__builtins__',\n",
       " '__doc__',\n",
       " '__loader__',\n",
       " '__name__',\n",
       " '__package__',\n",
       " '__spec__',\n",
       " '_dh',\n",
       " '_i',\n",
       " '_i1',\n",
       " '_i2',\n",
       " '_i3',\n",
       " '_i4',\n",
       " '_i5',\n",
       " '_i6',\n",
       " '_ih',\n",
       " '_ii',\n",
       " '_iii',\n",
       " '_oh',\n",
       " '_sh',\n",
       " 'exit',\n",
       " 'get_ipython',\n",
       " 'quit',\n",
       " 'testf']"
      ]
     },
     "execution_count": 6,
     "metadata": {},
     "output_type": "execute_result"
    }
   ],
   "source": [
    "dir()"
   ]
  },
  {
   "cell_type": "code",
   "execution_count": 7,
   "metadata": {},
   "outputs": [
    {
     "data": {
      "text/plain": [
       "4"
      ]
     },
     "execution_count": 7,
     "metadata": {},
     "output_type": "execute_result"
    }
   ],
   "source": [
    "Dog.num_legs"
   ]
  },
  {
   "cell_type": "code",
   "execution_count": 8,
   "metadata": {
    "collapsed": true
   },
   "outputs": [],
   "source": [
    "Dog.num_legs = 10"
   ]
  },
  {
   "cell_type": "code",
   "execution_count": 9,
   "metadata": {},
   "outputs": [
    {
     "data": {
      "text/plain": [
       "10"
      ]
     },
     "execution_count": 9,
     "metadata": {},
     "output_type": "execute_result"
    }
   ],
   "source": [
    "Dog.num_legs"
   ]
  },
  {
   "cell_type": "code",
   "execution_count": 10,
   "metadata": {},
   "outputs": [
    {
     "ename": "TypeError",
     "evalue": "test() missing 1 required positional argument: 'self'",
     "output_type": "error",
     "traceback": [
      "\u001b[1;31m---------------------------------------------------------------------------\u001b[0m",
      "\u001b[1;31mTypeError\u001b[0m                                 Traceback (most recent call last)",
      "\u001b[1;32m<ipython-input-10-d1576babe02f>\u001b[0m in \u001b[0;36m<module>\u001b[1;34m()\u001b[0m\n\u001b[1;32m----> 1\u001b[1;33m \u001b[0mDog\u001b[0m\u001b[1;33m.\u001b[0m\u001b[0mtest\u001b[0m\u001b[1;33m(\u001b[0m\u001b[1;33m)\u001b[0m\u001b[1;33m\u001b[0m\u001b[0m\n\u001b[0m",
      "\u001b[1;31mTypeError\u001b[0m: test() missing 1 required positional argument: 'self'"
     ]
    }
   ],
   "source": [
    "Dog.test()"
   ]
  },
  {
   "cell_type": "markdown",
   "metadata": {},
   "source": [
    "> - 심지어 class definition에서 만들지 않은 변수도 생성할 수 있음(이는 class variable이 되고, instance 생성시에도 포함됨)"
   ]
  },
  {
   "cell_type": "code",
   "execution_count": 11,
   "metadata": {
    "collapsed": true
   },
   "outputs": [],
   "source": [
    "Dog.color = 'white'"
   ]
  },
  {
   "cell_type": "code",
   "execution_count": 12,
   "metadata": {},
   "outputs": [
    {
     "data": {
      "text/plain": [
       "'white'"
      ]
     },
     "execution_count": 12,
     "metadata": {},
     "output_type": "execute_result"
    }
   ],
   "source": [
    "Dog.color"
   ]
  },
  {
   "cell_type": "code",
   "execution_count": 13,
   "metadata": {
    "collapsed": true
   },
   "outputs": [],
   "source": [
    "def run(self, times = 1):\n",
    "    for i in range(times):\n",
    "        print(\"running...\")"
   ]
  },
  {
   "cell_type": "code",
   "execution_count": 14,
   "metadata": {
    "collapsed": true
   },
   "outputs": [],
   "source": [
    "Dog.run = run"
   ]
  },
  {
   "cell_type": "markdown",
   "metadata": {},
   "source": [
    "> - (Class Object를 이용한) instance 생성은 함수 call과 유사한 형태, (new 등의 키워드 사용하지 않음)\n",
    "```Python\n",
    "instance_variable = ClassName(args) \n",
    "```\n",
    "\n",
    "> - instance variable은 class instance의 시작 주소를 갖고 있음. id함수로 확인 가능\n",
    "```Python\n",
    "id(instance_variable)\n",
    "```"
   ]
  },
  {
   "cell_type": "code",
   "execution_count": 15,
   "metadata": {
    "collapsed": true
   },
   "outputs": [],
   "source": [
    "m = Dog('merry')"
   ]
  },
  {
   "cell_type": "code",
   "execution_count": 16,
   "metadata": {},
   "outputs": [
    {
     "data": {
      "text/plain": [
       "2193475520720"
      ]
     },
     "execution_count": 16,
     "metadata": {},
     "output_type": "execute_result"
    }
   ],
   "source": [
    "id(m)"
   ]
  },
  {
   "cell_type": "code",
   "execution_count": 17,
   "metadata": {
    "collapsed": true
   },
   "outputs": [],
   "source": [
    "k = Dog('kerry')"
   ]
  },
  {
   "cell_type": "code",
   "execution_count": 18,
   "metadata": {},
   "outputs": [
    {
     "name": "stdout",
     "output_type": "stream",
     "text": [
      "\n",
      "    This is document string. \n",
      "    Write down help text here.\n",
      "    \n"
     ]
    }
   ],
   "source": [
    "print(m.__doc__)"
   ]
  },
  {
   "cell_type": "code",
   "execution_count": 19,
   "metadata": {},
   "outputs": [
    {
     "name": "stdout",
     "output_type": "stream",
     "text": [
      "My name is merry. wal wal~\n"
     ]
    }
   ],
   "source": [
    "m.bark()"
   ]
  },
  {
   "cell_type": "code",
   "execution_count": 20,
   "metadata": {
    "collapsed": true
   },
   "outputs": [],
   "source": [
    "mm = m"
   ]
  },
  {
   "cell_type": "code",
   "execution_count": 21,
   "metadata": {},
   "outputs": [
    {
     "name": "stdout",
     "output_type": "stream",
     "text": [
      "My name is merry. wal wal~\n"
     ]
    }
   ],
   "source": [
    "mm.bark()"
   ]
  },
  {
   "cell_type": "code",
   "execution_count": 22,
   "metadata": {
    "scrolled": true
   },
   "outputs": [
    {
     "data": {
      "text/plain": [
       "2193475520720"
      ]
     },
     "execution_count": 22,
     "metadata": {},
     "output_type": "execute_result"
    }
   ],
   "source": [
    "id(m)"
   ]
  },
  {
   "cell_type": "code",
   "execution_count": 23,
   "metadata": {
    "scrolled": true
   },
   "outputs": [
    {
     "data": {
      "text/plain": [
       "2193475520944"
      ]
     },
     "execution_count": 23,
     "metadata": {},
     "output_type": "execute_result"
    }
   ],
   "source": [
    "id(k)"
   ]
  },
  {
   "cell_type": "code",
   "execution_count": 24,
   "metadata": {},
   "outputs": [
    {
     "data": {
      "text/plain": [
       "2193475520720"
      ]
     },
     "execution_count": 24,
     "metadata": {},
     "output_type": "execute_result"
    }
   ],
   "source": [
    "id(mm)"
   ]
  },
  {
   "cell_type": "markdown",
   "metadata": {},
   "source": [
    "> - method object에 대한 nick name을 줄 수 있음"
   ]
  },
  {
   "cell_type": "code",
   "execution_count": 25,
   "metadata": {},
   "outputs": [
    {
     "data": {
      "text/plain": [
       "method"
      ]
     },
     "execution_count": 25,
     "metadata": {},
     "output_type": "execute_result"
    }
   ],
   "source": [
    "type(m.bark)"
   ]
  },
  {
   "cell_type": "code",
   "execution_count": 26,
   "metadata": {
    "collapsed": true
   },
   "outputs": [],
   "source": [
    "mb = m.bark"
   ]
  },
  {
   "cell_type": "code",
   "execution_count": 27,
   "metadata": {},
   "outputs": [
    {
     "name": "stdout",
     "output_type": "stream",
     "text": [
      "My name is merry. wal wal~\n"
     ]
    }
   ],
   "source": [
    "mb()"
   ]
  },
  {
   "cell_type": "markdown",
   "metadata": {},
   "source": [
    "> - Class 정의에서 미리 정의하지 않은 변수도 instance 생성 후 추가할 수 있음\n",
    "\n",
    "> - method도 추가할 수 있으나 이렇게 추가된 method를 call할 때에는 self자리에 instance를 할당 해야한다."
   ]
  },
  {
   "cell_type": "code",
   "execution_count": 28,
   "metadata": {
    "collapsed": true
   },
   "outputs": [],
   "source": [
    "class Dog:\n",
    "    num_legs = 4\n",
    "    \n",
    "    def __init__(self, my_name):\n",
    "        self.name = my_name\n",
    "    \n",
    "    def bark(self, times = 1):\n",
    "        for i in range(times):\n",
    "            print(\"My name is {}. wal wal~\".format(self.name))"
   ]
  },
  {
   "cell_type": "code",
   "execution_count": 29,
   "metadata": {
    "collapsed": true
   },
   "outputs": [],
   "source": [
    "y = Dog('yoyo')"
   ]
  },
  {
   "cell_type": "code",
   "execution_count": 30,
   "metadata": {
    "collapsed": true
   },
   "outputs": [],
   "source": [
    "y.color = 'black'"
   ]
  },
  {
   "cell_type": "code",
   "execution_count": 31,
   "metadata": {},
   "outputs": [
    {
     "data": {
      "text/plain": [
       "'black'"
      ]
     },
     "execution_count": 31,
     "metadata": {},
     "output_type": "execute_result"
    }
   ],
   "source": [
    "y.color"
   ]
  },
  {
   "cell_type": "code",
   "execution_count": 32,
   "metadata": {},
   "outputs": [
    {
     "name": "stdout",
     "output_type": "stream",
     "text": [
      "My name is yoyo. wal wal~\n"
     ]
    }
   ],
   "source": [
    "y.bark()"
   ]
  },
  {
   "cell_type": "code",
   "execution_count": 34,
   "metadata": {},
   "outputs": [
    {
     "name": "stdout",
     "output_type": "stream",
     "text": [
      "16\n"
     ]
    }
   ],
   "source": [
    "y.age = 1\n",
    "while y.age < 10:\n",
    "    y.age = y.age * 2\n",
    "print(y.age)\n",
    "del y.age"
   ]
  },
  {
   "cell_type": "code",
   "execution_count": 47,
   "metadata": {
    "collapsed": true
   },
   "outputs": [],
   "source": [
    "def run(self, times = 1):\n",
    "    for i in range(times):\n",
    "        print(\"{} is running...\".format(self.name))"
   ]
  },
  {
   "cell_type": "code",
   "execution_count": 48,
   "metadata": {
    "collapsed": true
   },
   "outputs": [],
   "source": [
    "y.run = run"
   ]
  },
  {
   "cell_type": "code",
   "execution_count": 49,
   "metadata": {},
   "outputs": [
    {
     "name": "stdout",
     "output_type": "stream",
     "text": [
      "yoyo is running...\n",
      "yoyo is running...\n",
      "yoyo is running...\n"
     ]
    }
   ],
   "source": [
    "y.run(y, 3)"
   ]
  },
  {
   "cell_type": "markdown",
   "metadata": {},
   "source": [
    "> - 모든 instance는 class object에 대한 pointer를 갖음, 이는 \\__class__ 변수로 접근 가능\n",
    "> - 기본 data type에 대해서도 마찬가지\n",
    "\n",
    "\n",
    "> - instance의 type확인하기 위해 isinstance()라는 함수 사용. 예를들어 isinstance(obj, int)는 obj의 \\__class__ 값이 int인지를 체크한다."
   ]
  },
  {
   "cell_type": "code",
   "execution_count": 56,
   "metadata": {
    "collapsed": true
   },
   "outputs": [],
   "source": [
    "SameDog = y.__class__"
   ]
  },
  {
   "cell_type": "code",
   "execution_count": 57,
   "metadata": {},
   "outputs": [
    {
     "data": {
      "text/plain": [
       "__main__.Dog"
      ]
     },
     "execution_count": 57,
     "metadata": {},
     "output_type": "execute_result"
    }
   ],
   "source": [
    "SameDog"
   ]
  },
  {
   "cell_type": "code",
   "execution_count": 58,
   "metadata": {
    "collapsed": true
   },
   "outputs": [],
   "source": [
    "hu = SameDog('huhu')"
   ]
  },
  {
   "cell_type": "code",
   "execution_count": 59,
   "metadata": {},
   "outputs": [
    {
     "name": "stdout",
     "output_type": "stream",
     "text": [
      "My name is huhu. wal wal~\n"
     ]
    }
   ],
   "source": [
    "hu.bark()"
   ]
  },
  {
   "cell_type": "code",
   "execution_count": 60,
   "metadata": {
    "collapsed": true
   },
   "outputs": [],
   "source": [
    "a = 1"
   ]
  },
  {
   "cell_type": "code",
   "execution_count": 61,
   "metadata": {
    "collapsed": true
   },
   "outputs": [],
   "source": [
    "SameInt = a.__class__"
   ]
  },
  {
   "cell_type": "code",
   "execution_count": 63,
   "metadata": {
    "collapsed": true
   },
   "outputs": [],
   "source": [
    "b = SameInt(100)"
   ]
  },
  {
   "cell_type": "code",
   "execution_count": 64,
   "metadata": {},
   "outputs": [
    {
     "data": {
      "text/plain": [
       "100"
      ]
     },
     "execution_count": 64,
     "metadata": {},
     "output_type": "execute_result"
    }
   ],
   "source": [
    "b"
   ]
  },
  {
   "cell_type": "markdown",
   "metadata": {},
   "source": [
    "###### Class variable vs Instance variable"
   ]
  },
  {
   "cell_type": "markdown",
   "metadata": {},
   "source": [
    "> - Class variable은 해당 class의 모든 instance가 공유값을 보관하기 위한 목적의 변수(모든 instance의 초기 pointing address가 동일)\n",
    "\n",
    "> - Instance variable은 각 instance 마다 독립적인 변수(물론 immutable variable은 사용해 종속적으로 만들수도 있음) / \\__init__함수 이하에 정의 및 할당"
   ]
  },
  {
   "cell_type": "markdown",
   "metadata": {},
   "source": [
    "> - 반면 instance variable은 각 instance의 간에 독립적임"
   ]
  },
  {
   "cell_type": "code",
   "execution_count": 21,
   "metadata": {
    "collapsed": true
   },
   "outputs": [],
   "source": [
    "class Dog:\n",
    "    num_legs = 4\n",
    "    color = ''\n",
    "    def __init__(self, my_name, my_color = ''):\n",
    "        self.name = my_name\n",
    "        Dog.color = my_color\n",
    "    \n",
    "    def bark(self, times = 1):\n",
    "        for i in range(times):\n",
    "            print(\"My name is {}. wal wal~\".format(self.name))"
   ]
  },
  {
   "cell_type": "code",
   "execution_count": 22,
   "metadata": {
    "collapsed": true
   },
   "outputs": [],
   "source": [
    "h = Dog('haha', 'black')\n",
    "t = Dog('toto', 'white')"
   ]
  },
  {
   "cell_type": "code",
   "execution_count": 23,
   "metadata": {},
   "outputs": [
    {
     "data": {
      "text/plain": [
       "2056642480200"
      ]
     },
     "execution_count": 23,
     "metadata": {},
     "output_type": "execute_result"
    }
   ],
   "source": [
    "id(h.color)"
   ]
  },
  {
   "cell_type": "code",
   "execution_count": 24,
   "metadata": {},
   "outputs": [
    {
     "data": {
      "text/plain": [
       "2056642480200"
      ]
     },
     "execution_count": 24,
     "metadata": {},
     "output_type": "execute_result"
    }
   ],
   "source": [
    "id(t.color)"
   ]
  },
  {
   "cell_type": "code",
   "execution_count": 25,
   "metadata": {},
   "outputs": [
    {
     "data": {
      "text/plain": [
       "2056642480200"
      ]
     },
     "execution_count": 25,
     "metadata": {},
     "output_type": "execute_result"
    }
   ],
   "source": [
    "id(Dog.color)"
   ]
  },
  {
   "cell_type": "code",
   "execution_count": 26,
   "metadata": {
    "collapsed": true
   },
   "outputs": [],
   "source": [
    "Dog.color = 'brown'"
   ]
  },
  {
   "cell_type": "code",
   "execution_count": 27,
   "metadata": {},
   "outputs": [
    {
     "name": "stdout",
     "output_type": "stream",
     "text": [
      "brown\n",
      "brown\n"
     ]
    }
   ],
   "source": [
    "print(h.color)\n",
    "print(t.color)"
   ]
  },
  {
   "cell_type": "markdown",
   "metadata": {},
   "source": [
    "> - Class의 instance 생성시 각 instance의 class variable의 pointing address는 동일하게 생성됨(물론 변경 가능).\n",
    "> - 의도적인 것이 아니라면 mutable type의 변수를 class variable로 사용하지 않는 것을 권장(mutable type의 class variable은 어느 instance에 의해서도 변경이 가능)"
   ]
  },
  {
   "cell_type": "code",
   "execution_count": 28,
   "metadata": {
    "collapsed": true
   },
   "outputs": [],
   "source": [
    "class Dog:\n",
    "    num_legs = 4\n",
    "    color = ''\n",
    "    friends = ['toto']\n",
    "    \n",
    "    def __init__(self, my_name, my_color = ''):\n",
    "        self.name = my_name\n",
    "        Dog.color = my_color\n",
    "    \n",
    "    def bark(self, times = 1):\n",
    "        for i in range(times):\n",
    "            print(\"My name is {}. wal wal~\".format(self.name))"
   ]
  },
  {
   "cell_type": "code",
   "execution_count": 29,
   "metadata": {
    "collapsed": true
   },
   "outputs": [],
   "source": [
    "h = Dog('haha', 'black')\n",
    "t = Dog('toto', 'white')"
   ]
  },
  {
   "cell_type": "code",
   "execution_count": 31,
   "metadata": {},
   "outputs": [
    {
     "name": "stdout",
     "output_type": "stream",
     "text": [
      "['toto']\n",
      "['toto']\n"
     ]
    }
   ],
   "source": [
    "print(h.friends)\n",
    "print(t.friends)"
   ]
  },
  {
   "cell_type": "code",
   "execution_count": 32,
   "metadata": {
    "collapsed": true
   },
   "outputs": [],
   "source": [
    "h.friends.append('mingkee')"
   ]
  },
  {
   "cell_type": "code",
   "execution_count": 35,
   "metadata": {},
   "outputs": [
    {
     "data": {
      "text/plain": [
       "['toto', 'mingkee']"
      ]
     },
     "execution_count": 35,
     "metadata": {},
     "output_type": "execute_result"
    }
   ],
   "source": [
    "h.friends"
   ]
  },
  {
   "cell_type": "code",
   "execution_count": 36,
   "metadata": {},
   "outputs": [
    {
     "data": {
      "text/plain": [
       "['toto', 'mingkee']"
      ]
     },
     "execution_count": 36,
     "metadata": {},
     "output_type": "execute_result"
    }
   ],
   "source": [
    "t.friends"
   ]
  },
  {
   "cell_type": "markdown",
   "metadata": {},
   "source": [
    "> - mutable variable에 대한 할당은 포인터 전달(call by reference)임, 물론 immutable variable 전달도 동일 하지만 표면적으로 드러나지 않음"
   ]
  },
  {
   "cell_type": "code",
   "execution_count": 37,
   "metadata": {},
   "outputs": [
    {
     "name": "stdout",
     "output_type": "stream",
     "text": [
      "2056652049160\n",
      "2056652049160\n"
     ]
    }
   ],
   "source": [
    "print('%s\\n%s' %(id(h.friends), id(t.friends)))"
   ]
  },
  {
   "cell_type": "code",
   "execution_count": 38,
   "metadata": {
    "collapsed": true
   },
   "outputs": [],
   "source": [
    "t.friends = ['mimi']"
   ]
  },
  {
   "cell_type": "code",
   "execution_count": 39,
   "metadata": {},
   "outputs": [
    {
     "name": "stdout",
     "output_type": "stream",
     "text": [
      "2056652049160\n",
      "2056642267336\n"
     ]
    }
   ],
   "source": [
    "print('%s\\n%s' %(id(h.friends), id(t.friends)))"
   ]
  },
  {
   "cell_type": "markdown",
   "metadata": {},
   "source": [
    "##### Inheritance"
   ]
  },
  {
   "cell_type": "markdown",
   "metadata": {},
   "source": [
    "> - 상속(inheritance)은 기존의 설계도(base class)를 활용/수정 해서 다른 설계도(derived class)를 만드는 것.\n",
    "\n",
    "\n",
    "> - [용어] Base Class: 원본 설계도, Derived Class: 원본 설계도를 반영한 새로운 설계도"
   ]
  },
  {
   "cell_type": "markdown",
   "metadata": {},
   "source": [
    "![Local image](./images/python_tutorial/Multilevel_Inheritance.jpg \"Tooltip for local image\")\n",
    "\n",
    "> - [https://en.wikipedia.org/wiki/Inheritance_(object-oriented_programming)] 참고"
   ]
  },
  {
   "cell_type": "code",
   "execution_count": 40,
   "metadata": {
    "collapsed": true
   },
   "outputs": [],
   "source": [
    "class Animal:\n",
    "    age = 0\n",
    "    birth_day = ''\n",
    "    name = 'Animal'\n",
    "    \n",
    "    def __init__(self, my_name):\n",
    "        self.name = my_name\n",
    "    \n",
    "    def eat(self, times = 1):\n",
    "        for i in range(times):\n",
    "            print(\"Animal({}) is eating. yam yam~\".format(self.name))\n",
    "\n",
    "    def sleep(self, times = 1):\n",
    "        for i in range(times):\n",
    "            print(\"Animal({}) is sleeping. coolcool~\".format(self.name))"
   ]
  },
  {
   "cell_type": "code",
   "execution_count": 41,
   "metadata": {
    "collapsed": true
   },
   "outputs": [],
   "source": [
    "class Dog(Animal):\n",
    "    num_legs = 4\n",
    "    color = ''\n",
    "    \n",
    "    def __init__(self, my_name, my_color = ''):\n",
    "        self.name = my_name\n",
    "        self.color = my_color\n",
    "    \n",
    "    def bark(self, times = 1):\n",
    "        for i in range(times):\n",
    "            print(\"My name is {}. wal wal~\".format(self.name))\n",
    "\n",
    "    def eat(self, times = 1):\n",
    "        for i in range(times):\n",
    "            print(\"Dog({}) is eating. yam yam~\".format(self.name))"
   ]
  },
  {
   "cell_type": "code",
   "execution_count": 42,
   "metadata": {
    "collapsed": true
   },
   "outputs": [],
   "source": [
    "r = Dog('ronny')"
   ]
  },
  {
   "cell_type": "code",
   "execution_count": 43,
   "metadata": {},
   "outputs": [
    {
     "data": {
      "text/plain": [
       "'ronny'"
      ]
     },
     "execution_count": 43,
     "metadata": {},
     "output_type": "execute_result"
    }
   ],
   "source": [
    "r.name"
   ]
  },
  {
   "cell_type": "markdown",
   "metadata": {},
   "source": [
    "> - 위에서 Dog class의 eat method가 Animal class의 eat method를 overriding 하고 있음, \n",
    "> - Overriding 됐음에도 Base class의 method를 직접 call하고 싶다면, 형태로 사용 가능\n",
    "```Python\n",
    "BaseClassName.methodname(self, arguments)\n",
    "```"
   ]
  },
  {
   "cell_type": "code",
   "execution_count": 45,
   "metadata": {
    "scrolled": true
   },
   "outputs": [
    {
     "name": "stdout",
     "output_type": "stream",
     "text": [
      "Dog(ronny) is eating. yam yam~\n"
     ]
    }
   ],
   "source": [
    "r.eat()"
   ]
  },
  {
   "cell_type": "code",
   "execution_count": 46,
   "metadata": {},
   "outputs": [
    {
     "name": "stdout",
     "output_type": "stream",
     "text": [
      "Animal(ronny) is eating. yam yam~\n"
     ]
    }
   ],
   "source": [
    "Animal.eat(r)"
   ]
  },
  {
   "cell_type": "markdown",
   "metadata": {},
   "source": [
    "> - 클레스 상속 관계를 체크하기 위해 issubclass() 함수를 사용할 수 있다. 예를들어 issubclass(Dog, Animal)는 Dog class가 Animal class의 subclass인지를 체크한다.\n",
    "```Python\n",
    "issubclass(childClass, parentClass)\n",
    "```"
   ]
  },
  {
   "cell_type": "code",
   "execution_count": 47,
   "metadata": {},
   "outputs": [
    {
     "data": {
      "text/plain": [
       "False"
      ]
     },
     "execution_count": 47,
     "metadata": {},
     "output_type": "execute_result"
    }
   ],
   "source": [
    "issubclass(Animal, Dog)"
   ]
  },
  {
   "cell_type": "code",
   "execution_count": 48,
   "metadata": {},
   "outputs": [
    {
     "data": {
      "text/plain": [
       "True"
      ]
     },
     "execution_count": 48,
     "metadata": {},
     "output_type": "execute_result"
    }
   ],
   "source": [
    "issubclass(Dog, Animal)"
   ]
  },
  {
   "cell_type": "markdown",
   "metadata": {},
   "source": [
    "##### Multiple Inheritance\n",
    "> - 기존의 설계도를 참고해 새로운 설계도를 만들 때, 단지 하나가 아니라 여러 개의 기존 설계도를 참고할 수도 있을 것이다."
   ]
  },
  {
   "cell_type": "code",
   "execution_count": 49,
   "metadata": {
    "collapsed": true
   },
   "outputs": [],
   "source": [
    "class BaseClass1:\n",
    "    name = 'BaseClass1'\n",
    "    def f_sleep(self):\n",
    "        print('Called from BaseClass1, name is {}'.format(self.name))"
   ]
  },
  {
   "cell_type": "code",
   "execution_count": 50,
   "metadata": {
    "collapsed": true
   },
   "outputs": [],
   "source": [
    "class BaseClass2:\n",
    "    name = 'BaseClass2'\n",
    "    def f_eat(self):\n",
    "        print('Called from BaseClass2, name is {}'.format(self.name))"
   ]
  },
  {
   "cell_type": "code",
   "execution_count": 51,
   "metadata": {
    "collapsed": true
   },
   "outputs": [],
   "source": [
    "class BaseClass1_2(BaseClass1, BaseClass2):\n",
    "    name = 'BaseClass1&2'\n",
    "    def f_drink(self):\n",
    "        print('Called from BaseClass1_2, name is {}'.format(self.name))"
   ]
  },
  {
   "cell_type": "code",
   "execution_count": 52,
   "metadata": {
    "collapsed": true
   },
   "outputs": [],
   "source": [
    "class BaseClass3():\n",
    "    name = 'BaseClass3'\n",
    "    def f_eat(self):\n",
    "        print('Called from BaseClass3, name is {}'.format(self.name))"
   ]
  },
  {
   "cell_type": "code",
   "execution_count": 53,
   "metadata": {
    "collapsed": true
   },
   "outputs": [],
   "source": [
    "class DerivedClass(BaseClass1_2, BaseClass3):\n",
    "    name = 'DerivedClass'\n",
    "    def f_sleep(self):\n",
    "        print('Called from DerivedClass, name is {}'.format(self.name))"
   ]
  },
  {
   "cell_type": "code",
   "execution_count": 54,
   "metadata": {
    "collapsed": true
   },
   "outputs": [],
   "source": [
    "j = DerivedClass()"
   ]
  },
  {
   "cell_type": "markdown",
   "metadata": {},
   "source": [
    "![Local image](./images/python_tutorial/muliple_inheritance_name_search_path.png \"Tooltip for local image\")"
   ]
  },
  {
   "cell_type": "markdown",
   "metadata": {},
   "source": [
    "> - variable이나 method가 호출되면, interpreter는 우선 derived class의 namespace에서 해당 name(variable or method)가 있는지 확인한다. 만약 없다면 상위 class의 namespace에서 찾는다. 만약 다 계층 상속 관계라면 찾을 때까지 상속 관계를 따라 부모 class의 namespace에서 찾는다. 그래도 못 찾는다면 그때 'AttributeError' exception을 발생\n",
    "\n",
    "\n",
    "> - (old-style class의) multiple inheritance에서 name search는 **depth-first, left-to-right**으로 진행된다.\n",
    "> - 위 그림에서 1, 2, 3, 4, 5 순서로 진행된다.\n",
    "> - 예를들어 eat method는 BaseClass2와 BaseClass3에 정의되어 있지만, BaseClass2에 정의된 eat이 호출된다.\n",
    "\n",
    "\n",
    "> - new-style class에서의 method resolution은 동적으로 결정됨.\n",
    "[https://docs.python.org/2/glossary.html#term-new-style-class], [https://www.python.org/download/releases/2.3/mro/] 참고"
   ]
  },
  {
   "cell_type": "code",
   "execution_count": 55,
   "metadata": {},
   "outputs": [
    {
     "name": "stdout",
     "output_type": "stream",
     "text": [
      "Called from BaseClass2, name is DerivedClass\n"
     ]
    }
   ],
   "source": [
    "j.f_eat()"
   ]
  },
  {
   "cell_type": "markdown",
   "metadata": {},
   "source": [
    "\n"
   ]
  },
  {
   "cell_type": "markdown",
   "metadata": {},
   "source": [
    "###### Private Variables and Class-local References\n",
    "> - 상속관계 혹은 실수로 override 하지 말아야 할, 혹은 할당하지 않아야할 변수명에 값을 할당하는 것을 막기 위하여 약간의 트릭(mangling)을 쓰기도 한다.\n",
    "\n",
    "> - 아래와 같이 class definition 내에서 \\__로 시작하는 변수에 보호할 함수나 변수를 재 할당해 사용한다.\n",
    "> - 만약 이런 처리?를 하지 않았다면 Mapping class \\__init__ 함수는 error를 발생\n",
    "\n",
    "\n",
    "> - 단지 트릭 혹은 약속일 뿐, 언어적 private은 아니다. "
   ]
  },
  {
   "cell_type": "code",
   "execution_count": 56,
   "metadata": {
    "collapsed": true
   },
   "outputs": [],
   "source": [
    "class Mapping:\n",
    "    def __init__(self, iterable):\n",
    "        self.items_list = []\n",
    "        self.__update(iterable)\n",
    "\n",
    "    def update(self, iterable):\n",
    "        for item in iterable:\n",
    "            self.items_list.append(item)\n",
    "\n",
    "    __update = update   # private copy of original update() method\n",
    "\n",
    "class MappingSubclass(Mapping):\n",
    "\n",
    "    def update(self, keys, values):\n",
    "        # provides new signature for update()\n",
    "        # but does not break __init__()\n",
    "        for item in zip(keys, values):\n",
    "            self.items_list.append(item)"
   ]
  },
  {
   "cell_type": "markdown",
   "metadata": {},
   "source": [
    "###### Class as struct\n",
    "> - data type의 묶음을 정의하기 위해 빈 class를 이용할 수 있다."
   ]
  },
  {
   "cell_type": "code",
   "execution_count": 57,
   "metadata": {
    "collapsed": true
   },
   "outputs": [],
   "source": [
    "class Employee:\n",
    "    pass\n",
    "\n",
    "john = Employee()  # Create an empty employee record\n",
    "\n",
    "# Fill the fields of the record\n",
    "john.name = 'John Doe'\n",
    "john.dept = 'computer lab'\n",
    "john.salary = 1000"
   ]
  },
  {
   "cell_type": "code",
   "execution_count": 58,
   "metadata": {},
   "outputs": [
    {
     "data": {
      "text/plain": [
       "'computer lab'"
      ]
     },
     "execution_count": 58,
     "metadata": {},
     "output_type": "execute_result"
    }
   ],
   "source": [
    "john.dept"
   ]
  },
  {
   "cell_type": "markdown",
   "metadata": {},
   "source": [
    "## Standard Library"
   ]
  },
  {
   "cell_type": "markdown",
   "metadata": {},
   "source": [
    ".. 다음 기회에.."
   ]
  },
  {
   "cell_type": "markdown",
   "metadata": {},
   "source": [
    "---"
   ]
  },
  {
   "cell_type": "markdown",
   "metadata": {},
   "source": [
    "## Extra things"
   ]
  },
  {
   "cell_type": "markdown",
   "metadata": {},
   "source": [
    "###### Passed by value or  by reference? neither. In Python, arguments are passed by assignment ( = pass reference by value )\n",
    "\n",
    "\n",
    "> - Python의 모든 할당은 passed by reference이다. 하지만 reference는 passed by value로 전달된다.\n",
    "> - Python의 모든 변수는 실질적으로 object의 memory address를 담고 있고, object의 nick name 처럼 사용된다."
   ]
  },
  {
   "cell_type": "code",
   "execution_count": 59,
   "metadata": {},
   "outputs": [
    {
     "data": {
      "text/plain": [
       "1479272912"
      ]
     },
     "execution_count": 59,
     "metadata": {},
     "output_type": "execute_result"
    }
   ],
   "source": [
    "a = 1\n",
    "id(a)"
   ]
  },
  {
   "cell_type": "code",
   "execution_count": 60,
   "metadata": {},
   "outputs": [
    {
     "data": {
      "text/plain": [
       "1479272944"
      ]
     },
     "execution_count": 60,
     "metadata": {},
     "output_type": "execute_result"
    }
   ],
   "source": [
    "a = 2\n",
    "id(a)"
   ]
  },
  {
   "cell_type": "code",
   "execution_count": 61,
   "metadata": {
    "collapsed": true
   },
   "outputs": [],
   "source": [
    "a = 1 # a라는 변수가 1을 담은 메모리 공간의 address를 갖게됨\n",
    "a = 2"
   ]
  },
  {
   "cell_type": "code",
   "execution_count": 62,
   "metadata": {},
   "outputs": [
    {
     "name": "stdout",
     "output_type": "stream",
     "text": [
      "1479272944, 2\n"
     ]
    }
   ],
   "source": [
    "print('%s, %s' %(id(a), a)) # a가 가리키는 instance의 주소를 살펴보자."
   ]
  },
  {
   "cell_type": "code",
   "execution_count": 63,
   "metadata": {
    "collapsed": true
   },
   "outputs": [],
   "source": [
    "a = 2 # a에 2를 할당하면 앞서 메모리 공간의 값이 2로 바뀌는 것일까? 아님.."
   ]
  },
  {
   "cell_type": "code",
   "execution_count": 64,
   "metadata": {},
   "outputs": [
    {
     "name": "stdout",
     "output_type": "stream",
     "text": [
      "1479272944, 2\n"
     ]
    }
   ],
   "source": [
    "print('%s, %s' %(id(a), a)) # a는 immutable type이므로 새로운 메모리 공간에 2가 저장되고, 그 주소값을 a가 갖게 된다."
   ]
  },
  {
   "cell_type": "markdown",
   "metadata": {},
   "source": [
    "###### 함수에서의  pass reference by value"
   ]
  },
  {
   "cell_type": "code",
   "execution_count": 65,
   "metadata": {
    "collapsed": true
   },
   "outputs": [],
   "source": [
    "def test_func(n):\n",
    "    print(id(n))\n",
    "    t = n + 1\n",
    "    print(id(t))\n",
    "    return(t)"
   ]
  },
  {
   "cell_type": "code",
   "execution_count": 66,
   "metadata": {},
   "outputs": [
    {
     "name": "stdout",
     "output_type": "stream",
     "text": [
      "1479276080\n"
     ]
    }
   ],
   "source": [
    "n = 100\n",
    "print(id(n))"
   ]
  },
  {
   "cell_type": "code",
   "execution_count": 67,
   "metadata": {},
   "outputs": [
    {
     "name": "stdout",
     "output_type": "stream",
     "text": [
      "1479276080\n",
      "1479276112\n"
     ]
    }
   ],
   "source": [
    "m = test_func(n)"
   ]
  },
  {
   "cell_type": "code",
   "execution_count": 68,
   "metadata": {},
   "outputs": [
    {
     "name": "stdout",
     "output_type": "stream",
     "text": [
      "1479276112\n"
     ]
    }
   ],
   "source": [
    "print(id(m))"
   ]
  }
 ],
 "metadata": {
  "anaconda-cloud": {},
  "kernelspec": {
   "display_name": "Python 3",
   "language": "python",
   "name": "python3"
  },
  "language_info": {
   "codemirror_mode": {
    "name": "ipython",
    "version": 3
   },
   "file_extension": ".py",
   "mimetype": "text/x-python",
   "name": "python",
   "nbconvert_exporter": "python",
   "pygments_lexer": "ipython3",
   "version": "3.6.1"
  }
 },
 "nbformat": 4,
 "nbformat_minor": 1
}
