{
 "cells": [
  {
   "cell_type": "code",
   "execution_count": 299,
   "metadata": {
    "collapsed": false,
    "scrolled": true
   },
   "outputs": [
    {
     "name": "stdout",
     "output_type": "stream",
     "text": [
      "Once deleted, variables cannot be recovered. Proceed (y/[n])? y\n"
     ]
    }
   ],
   "source": [
    "%reset"
   ]
  },
  {
   "cell_type": "code",
   "execution_count": 300,
   "metadata": {
    "collapsed": false,
    "scrolled": true
   },
   "outputs": [],
   "source": [
    "from _winreg import *\n",
    "\n",
    "ODBC32_PATH = r'SOFTWARE\\WOW6432Node\\ODBC\\ODBC.INI\\\\'\n",
    "ODBC64_PATH = r'SOFTWARE\\ODBC\\ODBC.INI\\\\'\n",
    "DS_POSTFIX = r'ODBC Data Sources'"
   ]
  },
  {
   "cell_type": "code",
   "execution_count": 301,
   "metadata": {
    "collapsed": true
   },
   "outputs": [],
   "source": [
    "def get_odbc_names(bitInt=64):\n",
    "    \"\"\"\n",
    "    지정한 비트에 대당하는 ODBC 이름들을 list로 반환함\n",
    "    비트 지정을 하지 않을 경우 64가 기본값\n",
    "    \n",
    "    사용예:\n",
    "    get_odbc_names(64)\n",
    "    get_odbc_names(32)\n",
    "    get_odbc_names()\n",
    "    \"\"\"\n",
    "    odbc_names = []\n",
    "    \n",
    "    if(bitInt == 32):\n",
    "        ODBC_PATH = ODBC32_PATH\n",
    "    else:\n",
    "        ODBC_PATH = ODBC64_PATH\n",
    "    \n",
    "    aReg = ConnectRegistry(None,HKEY_LOCAL_MACHINE)\n",
    "    try:\n",
    "        aKey = OpenKey(aReg, ODBC_PATH + DS_POSTFIX)\n",
    "        for i in range(1024):\n",
    "            try:\n",
    "                val_name, val_data, val_type = EnumValue(aKey,i)\n",
    "                odbc_names.append(val_name)\n",
    "            except EnvironmentError:\n",
    "                break\n",
    "        aKey.Close()\n",
    "        return(odbc_names)\n",
    "    except WindowsError:\n",
    "        print('Can not open key: %s' %s(ODBC_PATH + DS_POSTFIX))"
   ]
  },
  {
   "cell_type": "code",
   "execution_count": 302,
   "metadata": {
    "collapsed": true
   },
   "outputs": [],
   "source": [
    "def get_odbc_values(name, bitInt=64):\n",
    "    \"\"\"\n",
    "    ODBC 이름과 비트를 지정하면 \n",
    "    해당하는 ODBC의 속성들을 dictionary형태로 반환함\n",
    "    \n",
    "    사용예:\n",
    "    get_odbc_values('my64OdbcName', 64)\n",
    "    get_odbc_values('my64OdbcName')\n",
    "    get_odbc_values('my32OdbcName', 32)\n",
    "    \"\"\"\n",
    "    odbc_name_values = dict()\n",
    "    \n",
    "    aReg = ConnectRegistry(None,HKEY_LOCAL_MACHINE)\n",
    "    \n",
    "    if(bitInt == 32):\n",
    "        ODBC_PATH = ODBC32_PATH\n",
    "    else:\n",
    "        ODBC_PATH = ODBC64_PATH\n",
    "        \n",
    "    try:\n",
    "        aKey = OpenKey(aReg, ODBC_PATH + name)\n",
    "        for i in range(1024):\n",
    "            try:\n",
    "                val_name, val_data, val_type = EnumValue(aKey,i)\n",
    "                odbc_name_values.update({val_name:val_data})\n",
    "                #odbc_name_values.append(EnumValue(aKey,i))\n",
    "            except EnvironmentError:\n",
    "                break\n",
    "        aKey.Close()\n",
    "        return(odbc_name_values)\n",
    "    except WindowsError:\n",
    "        print('Can not open key: %s' %(ODBC_PATH + name))"
   ]
  },
  {
   "cell_type": "code",
   "execution_count": 303,
   "metadata": {
    "collapsed": true
   },
   "outputs": [],
   "source": [
    "def get_odbc_info(bitInt=64):\n",
    "    \"\"\"\n",
    "    비트를 지정하면 해당하는 ODBC의 이름과 속성을 list of dictionary형태로 반환함\n",
    "    ODBC의 이름은 $OdbcName에 해당함\n",
    "    \n",
    "    사용예:\n",
    "    get_odbc_dict()\n",
    "    get_odbc_dict(64)\n",
    "    get_odbc_dict(32)\n",
    "    \"\"\"\n",
    "    odbc_names = get_odbc_names(bitInt)\n",
    "    odbc_info = []\n",
    "    for n in odbc_names:\n",
    "        values_dict = get_odbc_values(n,bitInt)\n",
    "        values_dict.update({'$OdbcName':n})\n",
    "        #values_dict.update({'Bit':bitInt})\n",
    "        odbc_info.append(values_dict)\n",
    "    return(odbc_info)"
   ]
  },
  {
   "cell_type": "code",
   "execution_count": 304,
   "metadata": {
    "collapsed": false,
    "scrolled": true
   },
   "outputs": [
    {
     "data": {
      "text/plain": [
       "['test64', 'test64_1']"
      ]
     },
     "execution_count": 304,
     "metadata": {},
     "output_type": "execute_result"
    }
   ],
   "source": [
    "get_odbc_names(64)"
   ]
  },
  {
   "cell_type": "code",
   "execution_count": 305,
   "metadata": {
    "collapsed": false,
    "scrolled": false
   },
   "outputs": [
    {
     "data": {
      "text/plain": [
       "{'Driver': u'C:\\\\WINDOWS\\\\system32\\\\SQLSRV32.dll',\n",
       " 'LastUser': u'dongwan.kim',\n",
       " 'Server': u'localhost',\n",
       " 'Trusted_Connection': u'Yes'}"
      ]
     },
     "execution_count": 305,
     "metadata": {},
     "output_type": "execute_result"
    }
   ],
   "source": [
    "get_odbc_values('test64', 64)"
   ]
  },
  {
   "cell_type": "code",
   "execution_count": 306,
   "metadata": {
    "collapsed": false
   },
   "outputs": [
    {
     "data": {
      "text/plain": [
       "['test32']"
      ]
     },
     "execution_count": 306,
     "metadata": {},
     "output_type": "execute_result"
    }
   ],
   "source": [
    "get_odbc_names(32)"
   ]
  },
  {
   "cell_type": "code",
   "execution_count": 307,
   "metadata": {
    "collapsed": false,
    "scrolled": false
   },
   "outputs": [
    {
     "data": {
      "text/plain": [
       "{'Driver': u'C:\\\\WINDOWS\\\\system32\\\\SQLSRV32.dll',\n",
       " 'LastUser': u'dongwan.kim',\n",
       " 'Server': u'locahost',\n",
       " 'Trusted_Connection': u'Yes'}"
      ]
     },
     "execution_count": 307,
     "metadata": {},
     "output_type": "execute_result"
    }
   ],
   "source": [
    "get_odbc_values('test32', 32)"
   ]
  },
  {
   "cell_type": "code",
   "execution_count": 308,
   "metadata": {
    "collapsed": false,
    "scrolled": false
   },
   "outputs": [
    {
     "data": {
      "text/plain": [
       "[{'$OdbcName': 'test64',\n",
       "  'Driver': u'C:\\\\WINDOWS\\\\system32\\\\SQLSRV32.dll',\n",
       "  'LastUser': u'dongwan.kim',\n",
       "  'Server': u'localhost',\n",
       "  'Trusted_Connection': u'Yes'},\n",
       " {'$OdbcName': 'test64_1',\n",
       "  'Description': u'desc',\n",
       "  'Driver': u'C:\\\\WINDOWS\\\\system32\\\\SQLSRV32.dll',\n",
       "  'LastUser': u'dongwan.kim',\n",
       "  'Server': u'locahost',\n",
       "  'Trusted_Connection': u'Yes'}]"
      ]
     },
     "execution_count": 308,
     "metadata": {},
     "output_type": "execute_result"
    }
   ],
   "source": [
    "get_odbc_info(64)"
   ]
  },
  {
   "cell_type": "code",
   "execution_count": 309,
   "metadata": {
    "collapsed": false,
    "scrolled": false
   },
   "outputs": [
    {
     "data": {
      "text/plain": [
       "[{'$OdbcName': 'test32',\n",
       "  'Driver': u'C:\\\\WINDOWS\\\\system32\\\\SQLSRV32.dll',\n",
       "  'LastUser': u'dongwan.kim',\n",
       "  'Server': u'locahost',\n",
       "  'Trusted_Connection': u'Yes'}]"
      ]
     },
     "execution_count": 309,
     "metadata": {},
     "output_type": "execute_result"
    }
   ],
   "source": [
    "get_odbc_info(32)"
   ]
  },
  {
   "cell_type": "code",
   "execution_count": 313,
   "metadata": {
    "collapsed": false
   },
   "outputs": [],
   "source": [
    "odbc64 = get_odbc_info(64)\n",
    "odbc32 = get_odbc_info(32)\n",
    "odbc = odbc64.extend(odbc32)"
   ]
  },
  {
   "cell_type": "code",
   "execution_count": 314,
   "metadata": {
    "collapsed": false
   },
   "outputs": [],
   "source": [
    "import pandas as pd\n",
    "df_odbc = pd.DataFrame(odbc64)"
   ]
  },
  {
   "cell_type": "code",
   "execution_count": 315,
   "metadata": {
    "collapsed": false,
    "scrolled": true
   },
   "outputs": [
    {
     "data": {
      "text/html": [
       "<div>\n",
       "<table border=\"1\" class=\"dataframe\">\n",
       "  <thead>\n",
       "    <tr style=\"text-align: right;\">\n",
       "      <th></th>\n",
       "      <th>$OdbcName</th>\n",
       "      <th>Description</th>\n",
       "      <th>Driver</th>\n",
       "      <th>LastUser</th>\n",
       "      <th>Server</th>\n",
       "      <th>Trusted_Connection</th>\n",
       "    </tr>\n",
       "  </thead>\n",
       "  <tbody>\n",
       "    <tr>\n",
       "      <th>0</th>\n",
       "      <td>test64</td>\n",
       "      <td>NaN</td>\n",
       "      <td>C:\\WINDOWS\\system32\\SQLSRV32.dll</td>\n",
       "      <td>dongwan.kim</td>\n",
       "      <td>localhost</td>\n",
       "      <td>Yes</td>\n",
       "    </tr>\n",
       "    <tr>\n",
       "      <th>1</th>\n",
       "      <td>test64_1</td>\n",
       "      <td>desc</td>\n",
       "      <td>C:\\WINDOWS\\system32\\SQLSRV32.dll</td>\n",
       "      <td>dongwan.kim</td>\n",
       "      <td>locahost</td>\n",
       "      <td>Yes</td>\n",
       "    </tr>\n",
       "    <tr>\n",
       "      <th>2</th>\n",
       "      <td>test32</td>\n",
       "      <td>NaN</td>\n",
       "      <td>C:\\WINDOWS\\system32\\SQLSRV32.dll</td>\n",
       "      <td>dongwan.kim</td>\n",
       "      <td>locahost</td>\n",
       "      <td>Yes</td>\n",
       "    </tr>\n",
       "  </tbody>\n",
       "</table>\n",
       "</div>"
      ],
      "text/plain": [
       "  $OdbcName Description                            Driver     LastUser  \\\n",
       "0    test64         NaN  C:\\WINDOWS\\system32\\SQLSRV32.dll  dongwan.kim   \n",
       "1  test64_1        desc  C:\\WINDOWS\\system32\\SQLSRV32.dll  dongwan.kim   \n",
       "2    test32         NaN  C:\\WINDOWS\\system32\\SQLSRV32.dll  dongwan.kim   \n",
       "\n",
       "      Server Trusted_Connection  \n",
       "0  localhost                Yes  \n",
       "1   locahost                Yes  \n",
       "2   locahost                Yes  "
      ]
     },
     "execution_count": 315,
     "metadata": {},
     "output_type": "execute_result"
    }
   ],
   "source": [
    "df_odbc"
   ]
  },
  {
   "cell_type": "code",
   "execution_count": null,
   "metadata": {
    "collapsed": true
   },
   "outputs": [],
   "source": []
  }
 ],
 "metadata": {
  "kernelspec": {
   "display_name": "Python 2",
   "language": "python",
   "name": "python2"
  },
  "language_info": {
   "codemirror_mode": {
    "name": "ipython",
    "version": 2
   },
   "file_extension": ".py",
   "mimetype": "text/x-python",
   "name": "python",
   "nbconvert_exporter": "python",
   "pygments_lexer": "ipython2",
   "version": "2.7.11"
  }
 },
 "nbformat": 4,
 "nbformat_minor": 0
}
