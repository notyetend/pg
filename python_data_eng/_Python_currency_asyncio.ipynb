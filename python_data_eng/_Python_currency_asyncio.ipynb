{
 "cells": [
  {
   "cell_type": "code",
   "execution_count": 1,
   "metadata": {},
   "outputs": [],
   "source": [
    "import asyncio\n",
    "\n",
    "import sys\n",
    "import itertools\n",
    "\n",
    "write = sys.stdout.write\n",
    "flush = sys.stdout.flush\n",
    "\n",
    "i = 0\n",
    "msg = 'test'\n",
    "for char in itertools.cycle('|/-\\\\'):\n",
    "    i += 1\n",
    "    \n",
    "    status = char + ' ' + msg\n",
    "    write(status)\n",
    "    flush()\n",
    "    write('\\x08' * len(status))\n",
    "    \n",
    "    if i > 10:\n",
    "        break"
   ]
  },
  {
   "cell_type": "code",
   "execution_count": null,
   "metadata": {},
   "outputs": [],
   "source": []
  }
 ],
 "metadata": {
  "kernelspec": {
   "display_name": "Python 3",
   "language": "python",
   "name": "python3"
  },
  "language_info": {
   "codemirror_mode": {
    "name": "ipython",
    "version": 3
   },
   "file_extension": ".py",
   "mimetype": "text/x-python",
   "name": "python",
   "nbconvert_exporter": "python",
   "pygments_lexer": "ipython3",
   "version": "3.6.6"
  }
 },
 "nbformat": 4,
 "nbformat_minor": 2
}
