{
 "cells": [
  {
   "cell_type": "markdown",
   "metadata": {},
   "source": [
    "### hostname tricks"
   ]
  },
  {
   "cell_type": "code",
   "execution_count": 1,
   "metadata": {},
   "outputs": [
    {
     "data": {
      "text/plain": [
       "'dongwankim-P33.nexon.corp'"
      ]
     },
     "execution_count": 1,
     "metadata": {},
     "output_type": "execute_result"
    }
   ],
   "source": [
    "import socket\n",
    "\n",
    "socket.gethostbyaddr(socket.gethostname())[0]"
   ]
  },
  {
   "cell_type": "markdown",
   "metadata": {},
   "source": [
    "### Listing files in directory"
   ]
  },
  {
   "cell_type": "code",
   "execution_count": 3,
   "metadata": {},
   "outputs": [
    {
     "name": "stdout",
     "output_type": "stream",
     "text": [
      "D:my_second_module.py\n",
      "D:tensorflow_code_snippet.ipynb\n",
      "D:tensorflow_code_snippet2.ipynb\n",
      "D:test - Python - File Manipulation.ipynb\n",
      "D:_f test.ipynb\n",
      "D:.ipynb_checkpoints\\2016-05-17_Python_Tutorial-checkpoint.ipynb\n",
      "D:.ipynb_checkpoints\\2016-05-18_winreg-checkpoint.ipynb\n",
      "D:.ipynb_checkpoints\\2016-05-27_Python_Tutorial-checkpoint.ipynb\n",
      "D:.ipynb_checkpoints\\tensorflow_code_snippet-checkpoint.ipynb\n",
      "D:.ipynb_checkpoints\\tensorflow_code_snippet2-checkpoint.ipynb\n",
      "D:data\\data.txt\n",
      "D:file\\test_file1.csv\n",
      "D:images\\datetime_format_strings.PNG\n",
      "D:images\\hangul-proclamation-day-2015-6256395615731712-res.png\n",
      "D:images\\python_tutorial\\150px-Guido_van_Rossum.jpg\n",
      "D:images\\python_tutorial\\hangul-proclamation-day-2015-6256395615731712-res.png\n",
      "D:images\\python_tutorial\\muliple_inheritance_name_search_path.PNG\n",
      "D:images\\python_tutorial\\Multilevel_Inheritance.jpg\n",
      "D:images\\python_tutorial\\python_data_structures.PNG\n",
      "D:sound\\__init__.py\n",
      "D:sound\\__init__.pyc\n",
      "D:sound\\effects\\echo.py\n",
      "D:sound\\effects\\echo.pyc\n",
      "D:sound\\effects\\__init__.py\n",
      "D:sound\\effects\\__init__.pyc\n",
      "D:sound\\filters\\__init__.py\n",
      "D:sound\\formats\\waveread.py\n",
      "D:sound\\formats\\__init__.py\n",
      "D:Test\\bd.gif\n",
      "D:Test\\br.gif\n",
      "D:Test\\cd.gif\n",
      "D:Test\\cn.gif\n",
      "D:Test\\de.gif\n",
      "D:Test\\.ipynb_checkpoints\\Ha young-ho's python-checkpoint.ipynb\n",
      "D:Test\\.ipynb_checkpoints\\Untitled-checkpoint.ipynb\n",
      "D:Test\\lab_spark_001\\2015_08_13_lab3_text_analysis_and_entity_resolution_student.ipynb\n",
      "D:Test\\lab_spark_001\\lab2_apache_log_student_Answer_CS_20150806.ipynb\n",
      "D:Test\\lab_spark_001\\.ipynb_checkpoints\\2015_08_13_lab3_text_analysis_and_entity_resolution_student-checkpoint.ipynb\n",
      "D:Test\\lab_spark_001\\.ipynb_checkpoints\\lab2_apache_log_student_Answer_CS_20150806-checkpoint.ipynb\n",
      "D:Test\\lab_spark_001\\original\\lab0_student.ipynb\n",
      "D:Test\\lab_spark_001\\original\\lab1_word_count_student.ipynb\n",
      "D:Test\\lab_spark_001\\original\\lab2_apache_log_student.ipynb\n",
      "D:Test\\lab_spark_001\\original\\lab3_text_analysis_and_entity_resolution_student.ipynb\n",
      "D:Test\\lab_spark_001\\original\\lab4_machine_learning_student.ipynb\n",
      "D:__pycache__\\fibo.cpython-34.pyc\n",
      "D:__pycache__\\my_second_module.cpython-36.pyc\n"
     ]
    }
   ],
   "source": [
    "import os\n",
    "\n",
    "base_path = r'D:'\n",
    "\n",
    "# traverse root directory, and list directories as dirs and files as files\n",
    "for root, dirs, files in os.walk(base_path):\n",
    "    path = root.split(os.sep)\n",
    "    for j, file in enumerate(files):\n",
    "        print(os.path.join(root, file))\n",
    "        \n",
    "        if j > 3:\n",
    "            break"
   ]
  },
  {
   "cell_type": "markdown",
   "metadata": {},
   "source": [
    "### **Pause for seconds**"
   ]
  },
  {
   "cell_type": "code",
   "execution_count": 4,
   "metadata": {},
   "outputs": [
    {
     "name": "stdout",
     "output_type": "stream",
     "text": [
      "What's up!\n"
     ]
    }
   ],
   "source": [
    "import time\n",
    "\n",
    "time.sleep(3)\n",
    "print(\"What's up!\")"
   ]
  },
  {
   "cell_type": "markdown",
   "metadata": {},
   "source": [
    "### **Timing the codes.**"
   ]
  },
  {
   "cell_type": "code",
   "execution_count": 8,
   "metadata": {},
   "outputs": [
    {
     "name": "stdout",
     "output_type": "stream",
     "text": [
      "Execution time :  3 seconds\n",
      "Execution time :  0.05 minutes\n"
     ]
    }
   ],
   "source": [
    "import datetime\n",
    "import time\n",
    "\n",
    "a = datetime.datetime.now()\n",
    "\n",
    "time.sleep(3)\n",
    "\n",
    "b = datetime.datetime.now()\n",
    "\n",
    "c = b - a\n",
    "\n",
    "print(\"Execution time : \", c.seconds, \"seconds\")\n",
    "print(\"Execution time : \", c.seconds/60, \"minutes\")"
   ]
  },
  {
   "cell_type": "code",
   "execution_count": 16,
   "metadata": {},
   "outputs": [
    {
     "name": "stdout",
     "output_type": "stream",
     "text": [
      "Wall time: 0 ns\n",
      "Wall time: 5 s\n"
     ]
    }
   ],
   "source": [
    "%%time\n",
    "\n",
    "time.sleep(3)\n",
    "time.sleep(2)\n",
    "\n",
    "%time"
   ]
  },
  {
   "cell_type": "markdown",
   "metadata": {},
   "source": [
    "### Print without new line"
   ]
  },
  {
   "cell_type": "code",
   "execution_count": 7,
   "metadata": {},
   "outputs": [
    {
     "name": "stdout",
     "output_type": "stream",
     "text": [
      "0\n",
      "1\n",
      "2\n",
      "3\n",
      "4\n",
      "01234"
     ]
    }
   ],
   "source": [
    "for i in range(5):\n",
    "    print(i)\n",
    "    \n",
    "for i in range(5):\n",
    "    print(i, end='')\n"
   ]
  }
 ],
 "metadata": {
  "anaconda-cloud": {},
  "kernelspec": {
   "display_name": "Python 3",
   "language": "python",
   "name": "python3"
  },
  "language_info": {
   "codemirror_mode": {
    "name": "ipython",
    "version": 3
   },
   "file_extension": ".py",
   "mimetype": "text/x-python",
   "name": "python",
   "nbconvert_exporter": "python",
   "pygments_lexer": "ipython3",
   "version": "3.6.8"
  }
 },
 "nbformat": 4,
 "nbformat_minor": 1
}
