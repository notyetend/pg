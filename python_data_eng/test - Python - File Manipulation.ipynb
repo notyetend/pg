{
 "cells": [
  {
   "cell_type": "code",
   "execution_count": 10,
   "metadata": {
    "collapsed": false
   },
   "outputs": [
    {
     "data": {
      "text/plain": [
       "'D:\\\\_PlayGround\\\\Github\\\\pg\\\\dev_python_data_eng'"
      ]
     },
     "execution_count": 10,
     "metadata": {},
     "output_type": "execute_result"
    }
   ],
   "source": [
    "os.getcwd()"
   ]
  },
  {
   "cell_type": "code",
   "execution_count": 11,
   "metadata": {
    "collapsed": false
   },
   "outputs": [
    {
     "name": "stdout",
     "output_type": "stream",
     "text": [
      "{'c': '100', 'a': 'a', 'b': '1'}\n",
      "{'c': '200', 'a': 'b', 'b': '2'}\n",
      "{'c': '300', 'a': 'c', 'b': '3'}\n"
     ]
    }
   ],
   "source": [
    "from csv import DictReader\n",
    "\n",
    "file_path = './file/test_file1.csv'\n",
    "f = open(file_path)\n",
    "for t, row in enumerate(DictReader(f, fieldnames=['a', 'b', 'c'], delimiter=',')):\n",
    "    print(row)\n",
    "\n",
    "f.close()"
   ]
  },
  {
   "cell_type": "code",
   "execution_count": null,
   "metadata": {
    "collapsed": true
   },
   "outputs": [],
   "source": []
  }
 ],
 "metadata": {
  "anaconda-cloud": {},
  "kernelspec": {
   "display_name": "Python [Root]",
   "language": "python",
   "name": "Python [Root]"
  },
  "language_info": {
   "codemirror_mode": {
    "name": "ipython",
    "version": 3
   },
   "file_extension": ".py",
   "mimetype": "text/x-python",
   "name": "python",
   "nbconvert_exporter": "python",
   "pygments_lexer": "ipython3",
   "version": "3.5.2"
  }
 },
 "nbformat": 4,
 "nbformat_minor": 0
}
