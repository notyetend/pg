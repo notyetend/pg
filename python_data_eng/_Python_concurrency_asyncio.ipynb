{
 "cells": [
  {
   "cell_type": "markdown",
   "metadata": {},
   "source": [
    "###### Simple multithreading"
   ]
  },
  {
   "cell_type": "code",
   "execution_count": 63,
   "metadata": {},
   "outputs": [],
   "source": [
    "from time import sleep\n",
    "from concurrent import futures\n",
    "from random import randint"
   ]
  },
  {
   "cell_type": "code",
   "execution_count": 64,
   "metadata": {},
   "outputs": [],
   "source": [
    "dat = [randint(1, 9) for x in range(10)]"
   ]
  },
  {
   "cell_type": "code",
   "execution_count": 65,
   "metadata": {},
   "outputs": [],
   "source": [
    "def task(time_to_sleep):\n",
    "    sleep(time_to_sleep)\n",
    "    print('sleepped for', time_to_sleep)\n",
    "    return time_to_sleep"
   ]
  },
  {
   "cell_type": "code",
   "execution_count": 66,
   "metadata": {},
   "outputs": [
    {
     "name": "stdout",
     "output_type": "stream",
     "text": [
      "sleepped forsleepped forsleepped forsleepped for 2 2\n",
      " 2\n",
      "2\n",
      "\n",
      "2\n",
      "2\n",
      " 2\n",
      "2\n",
      "sleepped for 4\n",
      "4\n",
      "sleepped forsleepped for 6 6\n",
      "\n",
      "6\n",
      "6\n",
      "sleepped forsleepped for 7 7\n",
      "\n",
      "7\n",
      "7\n",
      "sleepped for 8\n",
      "8\n"
     ]
    }
   ],
   "source": [
    "with futures.ThreadPoolExecutor(max_workers=10) as executor:\n",
    "    to_do = []\n",
    "    for d in dat:\n",
    "        to_do.append(executor.submit(task, d))\n",
    "    \n",
    "    for x in futures.as_completed(to_do):\n",
    "        print(x.result())"
   ]
  },
  {
   "cell_type": "markdown",
   "metadata": {},
   "source": [
    "###### With timeout"
   ]
  },
  {
   "cell_type": "markdown",
   "metadata": {},
   "source": [
    "- https://www.reddit.com/r/Python/comments/3de2lz/force_thread_to_timeout_with_threadpoolexecutor/\n",
    "- https://stackoverflow.com/questions/6509261/how-to-use-concurrent-futures-with-timeouts\n",
    "- https://codereview.stackexchange.com/questions/142828/python-executer-that-kills-processes-after-a-timeout"
   ]
  },
  {
   "cell_type": "code",
   "execution_count": 14,
   "metadata": {},
   "outputs": [
    {
     "name": "stdout",
     "output_type": "stream",
     "text": [
      "2019-01-29 08:35:44.803560 started for [12, 10, 8, 4, 8, 8, 6, 3, 19, 15]\n",
      "2019-01-29 08:35:44.808566 submition done\n",
      "2019-01-29 08:35:44.808566 before as_complted\n",
      "2019-01-29 08:35:45.8055592019-01-29 08:35:45.8165632019-01-29 08:35:45.8275782019-01-29 08:35:45.838563 task called with 2019-01-29 08:35:45.850562  task called with 8\n",
      "2019-01-29 08:35:45.860566task called with 4\n",
      "122019-01-29 08:35:45.868558 task called with 8 task called with 3\n",
      "2019-01-29 08:35:45.876562\n",
      " task called with task called with  8\n",
      "2019-01-29 08:35:45.885561 task called with 62019-01-29 08:35:45.894578\n",
      "\n",
      "19\n",
      " task called with 10\n",
      " task called with 15\n",
      "2019-01-29 08:35:48.877559 awake after 3\n",
      "2019-01-29 08:35:48.877559 return 3\n",
      "2019-01-29 08:35:49.869617 awake after 4\n",
      "2019-01-29 08:35:49.869617 return 4\n",
      "2019-01-29 08:35:51.902612 awake after 6\n",
      "2019-01-29 08:35:51.902612 return 6\n",
      "2019-01-29 08:35:53.861559 awake after 8\n",
      "2019-01-29 08:35:53.861559 return 8\n",
      "2019-01-29 08:35:53.885594 awake after 8\n",
      "2019-01-29 08:35:53.885594 return 8\n",
      "2019-01-29 08:35:53.886576 awake after 8\n",
      "2019-01-29 08:35:53.886576 return 8\n",
      "2019-01-29 08:35:54.809558 in except\n",
      "4 (of 10) futures unfinished\n",
      "2019-01-29 08:35:55.903595 awake after 10\n",
      "2019-01-29 08:35:57.903630 awake after 12\n",
      "2019-01-29 08:36:00.903614 awake after 15\n",
      "2019-01-29 08:36:04.902553 awake after 19\n"
     ]
    }
   ],
   "source": [
    "from time import sleep\n",
    "from concurrent import futures\n",
    "from random import randint\n",
    "from datetime import datetime\n",
    "\n",
    "dat = [randint(1, 20) for x in range(10)]\n",
    "\n",
    "def task(time_to_sleep):\n",
    "    sleep(1)\n",
    "    print(datetime.now(), 'task called with', time_to_sleep)\n",
    "    sleep(time_to_sleep)\n",
    "    print(datetime.now(), 'awake after', time_to_sleep)\n",
    "    return time_to_sleep\n",
    "\n",
    "print(datetime.now(), 'started for', dat)\n",
    "with futures.ThreadPoolExecutor(max_workers=100) as executor:\n",
    "    to_do = {}\n",
    "    result = []\n",
    "    \n",
    "    for d in dat:\n",
    "        to_do[executor.submit(task, d)] = d\n",
    "\n",
    "    print(datetime.now(), 'submition done')\n",
    "    \n",
    "    try:\n",
    "        print(datetime.now(), 'before as_complted')\n",
    "        for x in futures.as_completed(to_do, timeout=10):\n",
    "            print(datetime.now(), 'return', x.result())\n",
    "            result.append(x.result())\n",
    "    except futures.TimeoutError as e:\n",
    "        print(datetime.now(), 'in except')\n",
    "        print(e)\n",
    "    "
   ]
  },
  {
   "cell_type": "markdown",
   "metadata": {},
   "source": [
    "###### timeout with Pebble"
   ]
  },
  {
   "cell_type": "markdown",
   "metadata": {},
   "source": [
    "- multiprocess examples below do not work in the notebook"
   ]
  },
  {
   "cell_type": "code",
   "execution_count": 40,
   "metadata": {},
   "outputs": [
    {
     "data": {
      "text/plain": [
       "3"
      ]
     },
     "execution_count": 40,
     "metadata": {},
     "output_type": "execute_result"
    }
   ],
   "source": [
    "from pebble import concurrent\n",
    "\n",
    "@concurrent.thread\n",
    "def function(foo, bar=0):\n",
    "    return foo + bar\n",
    "\n",
    "future = function(1, bar=2)\n",
    "\n",
    "result = future.result()  # blocks until results are ready\n",
    "\n",
    "result"
   ]
  },
  {
   "cell_type": "code",
   "execution_count": 7,
   "metadata": {},
   "outputs": [
    {
     "name": "stdout",
     "output_type": "stream",
     "text": [
      "2019-01-29 10:03:44.494673 started for [1, 4, 3, 5, 5, 3, 7, 8, 9, 3]\n"
     ]
    }
   ],
   "source": [
    "from concurrent.futures import TimeoutError\n",
    "from pebble import ProcessPool, ProcessExpired\n",
    "import time\n",
    "from random import randint\n",
    "from datetime import datetime\n",
    "\n",
    "dat = [randint(1, 10) for x in range(10)]\n",
    "\n",
    "\n",
    "def task(time_to_sleep):\n",
    "    time.sleep(1)\n",
    "    print(datetime.now(), 'task called with', time_to_sleep)\n",
    "    time.sleep(time_to_sleep)\n",
    "    print(datetime.now(), 'awake after', time_to_sleep)\n",
    "    return time_to_sleep\n",
    "\n",
    "\n",
    "if __name__ == '__main__':\n",
    "    print(datetime.now(), 'started for', dat)\n",
    "    with ProcessPool() as pool:\n",
    "        future = pool.map(task, dat, timeout=3)\n",
    "        iterator = future.result()\n",
    "\n",
    "        while True:\n",
    "            try:\n",
    "                result = next(iterator)\n",
    "                print(result)\n",
    "            except StopIteration:\n",
    "                break\n",
    "            except TimeoutError as error:\n",
    "                print(\"function took longer than %d seconds\" % error.args[1])\n",
    "            except ProcessExpired as error:\n",
    "                print(\"%s. Exit code: %d\" % (error, error.exitcode))\n",
    "            except Exception as error:\n",
    "                print(\"function raised %s\" % error)\n",
    "                print(error.traceback)  # Python's traceback of remote process\n"
   ]
  },
  {
   "cell_type": "code",
   "execution_count": 5,
   "metadata": {},
   "outputs": [
    {
     "data": {
      "text/plain": [
       "[4, 6, 7, 7, 4, 4, 9, 4, 8, 8]"
      ]
     },
     "execution_count": 5,
     "metadata": {},
     "output_type": "execute_result"
    }
   ],
   "source": [
    "from concurrent.futures import TimeoutError\n",
    "from pebble import ProcessPool, ProcessExpired\n",
    "import time\n",
    "from random import randint\n",
    "from datetime import datetime\n",
    "\n",
    "dat = [randint(1, 10) for x in range(10)]\n",
    "\n",
    "\n",
    "def task(time_to_sleep):\n",
    "    time.sleep(1)\n",
    "    print(datetime.now(), 'task called with', time_to_sleep)\n",
    "    time.sleep(time_to_sleep)\n",
    "    print(datetime.now(), 'awake after', time_to_sleep)\n",
    "    return time_to_sleep\n",
    "\n",
    "\n",
    "if __name__ == '__main__':\n",
    "    print(datetime.now(), 'started for', dat)\n",
    "    to_do = []\n",
    "    with ProcessPool() as pool:\n",
    "        for d in dat:\n",
    "            future = pool.schedule(task, [d], timeout=5)\n",
    "            to_do.append(future)\n",
    "\n",
    "        for td in to_do:\n",
    "            try:\n",
    "                r = td.result()\n",
    "                print(r)\n",
    "            except TimeoutError as error:\n",
    "                print(\"function took longer than %d seconds\" % error.args[1])\n",
    "            except ProcessExpired as error:\n",
    "                print(\"%s. Exit code: %d\" % (error, error.exitcode))\n",
    "            except Exception as error:\n",
    "                print(\"function raised %s\" % error)\n",
    "                print(error.traceback)  # Python's traceback of remote process\n",
    "\n"
   ]
  },
  {
   "cell_type": "code",
   "execution_count": null,
   "metadata": {},
   "outputs": [],
   "source": [
    "from concurrent.futures import TimeoutError\n",
    "from pebble import ProcessPool, ProcessExpired\n",
    "import time\n",
    "from random import randint\n",
    "from datetime import datetime\n",
    "import multiprocessing\n",
    "\n",
    "\n",
    "dat = [randint(1, 10) for x in range(10)]\n",
    "\n",
    "\n",
    "def task(time_to_sleep):\n",
    "    print(datetime.now(), 'task called with', time_to_sleep)\n",
    "    time.sleep(time_to_sleep)\n",
    "    print(datetime.now(), 'awake after', time_to_sleep)\n",
    "    return time_to_sleep\n",
    "\n",
    "\n",
    "num_cpu = multiprocessing.cpu_count()\n",
    "if __name__ == '__main__':\n",
    "    print(datetime.now(), 'started for', dat)\n",
    "    to_do = {}\n",
    "    with ProcessPool() as pool:\n",
    "        print(datetime.now(), 'submitting')\n",
    "        for d in dat:\n",
    "            future = pool.schedule(task, [d], timeout=5)\n",
    "            to_do[future] = d\n",
    "\n",
    "        print(datetime.now(), 'joining')\n",
    "        for td, val in to_do.items():\n",
    "            try:\n",
    "                r = td.result()\n",
    "                print(r)\n",
    "            except TimeoutError as error:\n",
    "                print(\"function took longer than %d seconds\" % error.args[1], val)\n",
    "            except ProcessExpired as error:\n",
    "                print(\"%s. Exit code: %d\" % (error, error.exitcode), val)\n",
    "            except Exception as error:\n",
    "                print(\"function raised %s\" % error, val)\n",
    "                print(error.traceback)  # Python's traceback of remote process\n",
    "\n",
    "\n"
   ]
  },
  {
   "cell_type": "code",
   "execution_count": null,
   "metadata": {},
   "outputs": [],
   "source": []
  },
  {
   "cell_type": "code",
   "execution_count": null,
   "metadata": {},
   "outputs": [],
   "source": []
  },
  {
   "cell_type": "markdown",
   "metadata": {},
   "source": [
    "###### asyncio"
   ]
  },
  {
   "cell_type": "code",
   "execution_count": 1,
   "metadata": {},
   "outputs": [],
   "source": [
    "import asyncio\n",
    "\n",
    "import sys\n",
    "import itertools\n",
    "\n",
    "write = sys.stdout.write\n",
    "flush = sys.stdout.flush\n",
    "\n",
    "i = 0\n",
    "msg = 'test'\n",
    "for char in itertools.cycle('|/-\\\\'):\n",
    "    i += 1\n",
    "    \n",
    "    status = char + ' ' + msg\n",
    "    write(status)\n",
    "    flush()\n",
    "    write('\\x08' * len(status))\n",
    "    \n",
    "    if i > 10:\n",
    "        break"
   ]
  },
  {
   "cell_type": "code",
   "execution_count": null,
   "metadata": {},
   "outputs": [],
   "source": []
  }
 ],
 "metadata": {
  "kernelspec": {
   "display_name": "Python 3",
   "language": "python",
   "name": "python3"
  }
 },
 "nbformat": 4,
 "nbformat_minor": 2
}
