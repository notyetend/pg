{
 "cells": [
  {
   "cell_type": "markdown",
   "metadata": {},
   "source": [
    "###### Simple multithreading"
   ]
  },
  {
   "cell_type": "code",
   "execution_count": 63,
   "metadata": {},
   "outputs": [],
   "source": [
    "from time import sleep\n",
    "from concurrent import futures\n",
    "from random import randint"
   ]
  },
  {
   "cell_type": "code",
   "execution_count": 64,
   "metadata": {},
   "outputs": [],
   "source": [
    "dat = [randint(1, 9) for x in range(10)]"
   ]
  },
  {
   "cell_type": "code",
   "execution_count": 65,
   "metadata": {},
   "outputs": [],
   "source": [
    "def task(time_to_sleep):\n",
    "    sleep(time_to_sleep)\n",
    "    print('sleepped for', time_to_sleep)\n",
    "    return time_to_sleep"
   ]
  },
  {
   "cell_type": "code",
   "execution_count": 66,
   "metadata": {},
   "outputs": [
    {
     "name": "stdout",
     "output_type": "stream",
     "text": [
      "sleepped forsleepped forsleepped forsleepped for 2 2\n",
      " 2\n",
      "2\n",
      "\n",
      "2\n",
      "2\n",
      " 2\n",
      "2\n",
      "sleepped for 4\n",
      "4\n",
      "sleepped forsleepped for 6 6\n",
      "\n",
      "6\n",
      "6\n",
      "sleepped forsleepped for 7 7\n",
      "\n",
      "7\n",
      "7\n",
      "sleepped for 8\n",
      "8\n"
     ]
    }
   ],
   "source": [
    "with futures.ThreadPoolExecutor(max_workers=10) as executor:\n",
    "    to_do = []\n",
    "    for d in dat:\n",
    "        to_do.append(executor.submit(task, d))\n",
    "    \n",
    "    for x in futures.as_completed(to_do):\n",
    "        print(x.result())"
   ]
  },
  {
   "cell_type": "markdown",
   "metadata": {},
   "source": [
    "###### With timeout"
   ]
  },
  {
   "cell_type": "markdown",
   "metadata": {},
   "source": [
    "- https://www.reddit.com/r/Python/comments/3de2lz/force_thread_to_timeout_with_threadpoolexecutor/\n",
    "- https://stackoverflow.com/questions/6509261/how-to-use-concurrent-futures-with-timeouts\n",
    "- https://codereview.stackexchange.com/questions/142828/python-executer-that-kills-processes-after-a-timeout"
   ]
  },
  {
   "cell_type": "code",
   "execution_count": 35,
   "metadata": {},
   "outputs": [
    {
     "name": "stdout",
     "output_type": "stream",
     "text": [
      "2019-01-24 17:05:25.363106 started\n",
      "submitted 19\n",
      "submitted 4\n",
      "submitted 3\n",
      "submitted 4\n",
      "submitted 19\n",
      "submitted 9\n",
      "submitted 10\n",
      "submitted 3\n",
      "submitted 13\n",
      "submitted 10\n",
      "2019-01-24 17:05:26.371101 before as_complted\n",
      "3\n",
      "3\n",
      "4\n",
      "4\n",
      "2019-01-24 17:05:31.379192 in except\n",
      "6 (of 10) futures unfinished\n"
     ]
    }
   ],
   "source": [
    "from time import sleep\n",
    "from concurrent import futures\n",
    "from random import randint\n",
    "from datetime import datetime\n",
    "\n",
    "dat = [randint(1, 20) for x in range(10)]\n",
    "\n",
    "def task(time_to_sleep):\n",
    "    sleep(time_to_sleep)\n",
    "    return time_to_sleep\n",
    "\n",
    "print(datetime.now(), 'started')\n",
    "with futures.ThreadPoolExecutor(max_workers=10) as executor:\n",
    "    to_do = {}\n",
    "    result = []\n",
    "    \n",
    "    for d in dat:\n",
    "        to_do[executor.submit(task, d)] = d\n",
    "        sleep(0.1)\n",
    "        print('submitted', d)\n",
    "    \n",
    "    try:\n",
    "        print(datetime.now(), 'before as_complted')\n",
    "        for x in futures.as_completed(to_do, timeout=5):\n",
    "            print(x.result())\n",
    "            result.append(x.result())\n",
    "    except futures.TimeoutError as e:\n",
    "        print(datetime.now(), 'in except')\n",
    "        print(e)\n",
    "    "
   ]
  },
  {
   "cell_type": "code",
   "execution_count": 30,
   "metadata": {},
   "outputs": [
    {
     "data": {
      "text/plain": [
       "[1, 2, 5]"
      ]
     },
     "execution_count": 30,
     "metadata": {},
     "output_type": "execute_result"
    }
   ],
   "source": [
    "result"
   ]
  },
  {
   "cell_type": "markdown",
   "metadata": {},
   "source": []
  },
  {
   "cell_type": "code",
   "execution_count": 26,
   "metadata": {},
   "outputs": [
    {
     "name": "stdout",
     "output_type": "stream",
     "text": [
      "sleepped for 1\n",
      "sleepped for 2\n",
      "sleepped for 5\n",
      "sleepped for 8\n",
      "sleepped for 10\n",
      "sleepped for 13\n",
      "sleepped for 14\n",
      "sleepped forsleepped forsleepped for 20\n",
      " 20 20\n",
      "\n"
     ]
    }
   ],
   "source": [
    "with futures.ThreadPoolExecutor(max_workers=10) as executor:\n",
    "    to_do = []\n",
    "    result = []\n",
    "    \n",
    "    executor.map(task, dat, timeout=1)\n",
    "    "
   ]
  },
  {
   "cell_type": "code",
   "execution_count": null,
   "metadata": {},
   "outputs": [],
   "source": []
  },
  {
   "cell_type": "code",
   "execution_count": 1,
   "metadata": {},
   "outputs": [],
   "source": [
    "import asyncio\n",
    "\n",
    "import sys\n",
    "import itertools\n",
    "\n",
    "write = sys.stdout.write\n",
    "flush = sys.stdout.flush\n",
    "\n",
    "i = 0\n",
    "msg = 'test'\n",
    "for char in itertools.cycle('|/-\\\\'):\n",
    "    i += 1\n",
    "    \n",
    "    status = char + ' ' + msg\n",
    "    write(status)\n",
    "    flush()\n",
    "    write('\\x08' * len(status))\n",
    "    \n",
    "    if i > 10:\n",
    "        break"
   ]
  },
  {
   "cell_type": "code",
   "execution_count": null,
   "metadata": {},
   "outputs": [],
   "source": []
  }
 ],
 "metadata": {
  "kernelspec": {
   "display_name": "Python 3",
   "language": "python",
   "name": "python3"
  },
  "language_info": {
   "codemirror_mode": {
    "name": "ipython",
    "version": 3
   },
   "file_extension": ".py",
   "mimetype": "text/x-python",
   "name": "python",
   "nbconvert_exporter": "python",
   "pygments_lexer": "ipython3",
   "version": "3.6.6"
  }
 },
 "nbformat": 4,
 "nbformat_minor": 2
}
