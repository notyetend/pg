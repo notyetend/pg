{
 "cells": [
  {
   "cell_type": "markdown",
   "metadata": {},
   "source": [
    "**References**\n",
    "\n",
    ">- [https://en.wikibooks.org/wiki/Python_Programming/Data_Types#Built-in_Data_types]\n",
    "- [https://docs.python.org/3/library/stdtypes.html#binary-sequence-types-bytes-bytearray-memoryview]\n",
    "- Python for Data Analysis"
   ]
  },
  {
   "cell_type": "code",
   "execution_count": 2,
   "metadata": {
    "collapsed": true
   },
   "outputs": [],
   "source": [
    "import numpy as np"
   ]
  },
  {
   "cell_type": "markdown",
   "metadata": {},
   "source": [
    "---"
   ]
  },
  {
   "cell_type": "markdown",
   "metadata": {},
   "source": [
    "# Built-in data types"
   ]
  },
  {
   "cell_type": "markdown",
   "metadata": {},
   "source": [
    "#Python Built-in Data types\n",
    "> - boolean\n",
    "- Numeric types\n",
    " - int\n",
    " - long\n",
    " - float\n",
    " - complex\n",
    "- Sequences\n",
    " - str\n",
    " - byte\n",
    " - list\n",
    " - tuple\n",
    "- Mappings\n",
    " - dict"
   ]
  },
  {
   "cell_type": "markdown",
   "metadata": {},
   "source": [
    "### Bool"
   ]
  },
  {
   "cell_type": "code",
   "execution_count": 21,
   "metadata": {},
   "outputs": [
    {
     "name": "stdout",
     "output_type": "stream",
     "text": [
      "<class 'bool'> <class 'bool'>\n"
     ]
    }
   ],
   "source": [
    "t = True\n",
    "f = False\n",
    "print(type(t), type(f))"
   ]
  },
  {
   "cell_type": "markdown",
   "metadata": {},
   "source": [
    "---"
   ]
  },
  {
   "cell_type": "markdown",
   "metadata": {},
   "source": [
    "### Numeric Types\n",
    "> int, long, float, complex"
   ]
  },
  {
   "cell_type": "markdown",
   "metadata": {},
   "source": [
    "##### int"
   ]
  },
  {
   "cell_type": "code",
   "execution_count": 26,
   "metadata": {},
   "outputs": [
    {
     "data": {
      "text/plain": [
       "int"
      ]
     },
     "execution_count": 26,
     "metadata": {},
     "output_type": "execute_result"
    }
   ],
   "source": [
    "#int\n",
    "i = 1\n",
    "type(i)"
   ]
  },
  {
   "cell_type": "markdown",
   "metadata": {},
   "source": [
    "##### long\n",
    ">Python 2.x에만 존재하며, length limit이 없는 integer이다."
   ]
  },
  {
   "cell_type": "code",
   "execution_count": 34,
   "metadata": {},
   "outputs": [
    {
     "data": {
      "text/plain": [
       "int"
      ]
     },
     "execution_count": 34,
     "metadata": {},
     "output_type": "execute_result"
    }
   ],
   "source": [
    "#long\n",
    "l = 11\n",
    "type(l)"
   ]
  },
  {
   "cell_type": "markdown",
   "metadata": {},
   "source": [
    "##### float"
   ]
  },
  {
   "cell_type": "code",
   "execution_count": 35,
   "metadata": {},
   "outputs": [
    {
     "data": {
      "text/plain": [
       "float"
      ]
     },
     "execution_count": 35,
     "metadata": {},
     "output_type": "execute_result"
    }
   ],
   "source": [
    "f = 1.1\n",
    "type(f)"
   ]
  },
  {
   "cell_type": "markdown",
   "metadata": {},
   "source": [
    "##### complex"
   ]
  },
  {
   "cell_type": "code",
   "execution_count": 42,
   "metadata": {},
   "outputs": [
    {
     "name": "stdout",
     "output_type": "stream",
     "text": [
      "(1+1j)\n"
     ]
    },
    {
     "data": {
      "text/plain": [
       "complex"
      ]
     },
     "execution_count": 42,
     "metadata": {},
     "output_type": "execute_result"
    }
   ],
   "source": [
    "c = complex(1,1)\n",
    "print(c)\n",
    "type(c)"
   ]
  },
  {
   "cell_type": "markdown",
   "metadata": {},
   "source": [
    "---"
   ]
  },
  {
   "cell_type": "markdown",
   "metadata": {},
   "source": [
    "### Sequence\n",
    "> str, byte, bytearray, list, typle"
   ]
  },
  {
   "cell_type": "markdown",
   "metadata": {},
   "source": [
    "##### str"
   ]
  },
  {
   "cell_type": "code",
   "execution_count": 68,
   "metadata": {},
   "outputs": [
    {
     "name": "stdout",
     "output_type": "stream",
     "text": [
      "<class 'str'> <class 'str'>\n"
     ]
    }
   ],
   "source": [
    "s1 = 'hello'\n",
    "s2 = \"world\"\n",
    "print(type(s1), type(s2))"
   ]
  },
  {
   "cell_type": "markdown",
   "metadata": {},
   "source": [
    "##### byte\n",
    "> 0-255까지의 integer들의 sequence로서, Python 3.x에서 사용 가능"
   ]
  },
  {
   "cell_type": "code",
   "execution_count": 47,
   "metadata": {},
   "outputs": [
    {
     "data": {
      "text/plain": [
       "bytes"
      ]
     },
     "execution_count": 47,
     "metadata": {},
     "output_type": "execute_result"
    }
   ],
   "source": [
    "b = b'hello'\n",
    "type(b)"
   ]
  },
  {
   "cell_type": "markdown",
   "metadata": {},
   "source": [
    "##### bytearray"
   ]
  },
  {
   "cell_type": "code",
   "execution_count": 49,
   "metadata": {},
   "outputs": [
    {
     "data": {
      "text/plain": [
       "bytearray"
      ]
     },
     "execution_count": 49,
     "metadata": {},
     "output_type": "execute_result"
    }
   ],
   "source": [
    "ba = bytearray(b'hello')\n",
    "type(ba)"
   ]
  },
  {
   "cell_type": "markdown",
   "metadata": {},
   "source": [
    "##### list\n",
    "> mutable sequences, surrounded with brackets [...]"
   ]
  },
  {
   "cell_type": "code",
   "execution_count": 126,
   "metadata": {},
   "outputs": [
    {
     "name": "stdout",
     "output_type": "stream",
     "text": [
      "l1: [] <class 'list'>\n",
      "l2: ['a', 'b'] <class 'list'>\n",
      "l3: [0, 1, 2, 3, 4] <class 'list'>\n",
      "l4: [1, 2, 3] <class 'list'>\n",
      "<class 'list'>\n"
     ]
    }
   ],
   "source": [
    "l1 = []\n",
    "print(\"l1:\", l1, type(l1))\n",
    "\n",
    "l2 = ['a', 'b']\n",
    "print(\"l2:\", l2, type(l2))\n",
    "\n",
    "l3 = [x for x in range(5)]\n",
    "print(\"l3:\", l3, type(l3))\n",
    "\n",
    "l4 = list((1,2,3))\n",
    "print(\"l4:\", l4, type(l4))\n",
    "\n",
    "l5 = [1, 'a']\n",
    "print(type(l5))"
   ]
  },
  {
   "cell_type": "code",
   "execution_count": 4,
   "metadata": {},
   "outputs": [
    {
     "data": {
      "text/plain": [
       "[1, 2, 10, 11, 12, 13, 14]"
      ]
     },
     "execution_count": 4,
     "metadata": {},
     "output_type": "execute_result"
    }
   ],
   "source": [
    "# Merging two lists, just use plus operator\n",
    "\n",
    "l1 = [1,2]; l1\n",
    "l2 = list(range(10,15)); l2\n",
    "l1 + l2"
   ]
  },
  {
   "cell_type": "markdown",
   "metadata": {},
   "source": [
    "typle\n",
    "> immutable sequences, surrounded with parentheses (...)"
   ]
  },
  {
   "cell_type": "code",
   "execution_count": 83,
   "metadata": {},
   "outputs": [
    {
     "name": "stdout",
     "output_type": "stream",
     "text": [
      "(1, 'a', 'cd', 4) <class 'tuple'>\n",
      "(1, 'a', 'cd', 4) <class 'tuple'>\n",
      "('a',) <class 'tuple'>\n",
      "a <class 'str'>\n",
      "('b',) <class 'tuple'>\n"
     ]
    }
   ],
   "source": [
    "t1 = (1, 'a', 'cd', 4)\n",
    "print(t1, type(t1))\n",
    "\n",
    "t2 = 1, 'a', 'cd', 4\n",
    "print(t2, type(t2))\n",
    "\n",
    "t3 = 'a', \n",
    "print(t3, type(t3))\n",
    "\n",
    "#cf\n",
    "s3 = 'a' \n",
    "print(s3, type(s3))\n",
    "\n",
    "t4 = tuple('b')\n",
    "print(t4, type(t4))"
   ]
  },
  {
   "cell_type": "markdown",
   "metadata": {},
   "source": [
    "---"
   ]
  },
  {
   "cell_type": "markdown",
   "metadata": {},
   "source": [
    "### Set\n",
    "> set, frozen set"
   ]
  },
  {
   "cell_type": "markdown",
   "metadata": {},
   "source": [
    "##### set\n",
    "> unordered collection of distict hashable objects, mutable so this has no hash value and cannot be used as either a dictionary key or as an element of another set."
   ]
  },
  {
   "cell_type": "code",
   "execution_count": 114,
   "metadata": {},
   "outputs": [
    {
     "name": "stdout",
     "output_type": "stream",
     "text": [
      "s1: {1, 2, 3} <class 'set'>\n"
     ]
    }
   ],
   "source": [
    "s1 = set([1,2,3,3,3])\n",
    "print(\"s1:\", s1, type(s1))"
   ]
  },
  {
   "cell_type": "markdown",
   "metadata": {},
   "source": [
    "##### frozen set\n",
    ">immutable and hashable set, so it's contents cannot be altered after it is created, it can therefore be used as a dictionary key or as an element of another set"
   ]
  },
  {
   "cell_type": "code",
   "execution_count": 113,
   "metadata": {},
   "outputs": [
    {
     "name": "stdout",
     "output_type": "stream",
     "text": [
      "f1: frozenset({1, 2, 3}) <class 'frozenset'>\n"
     ]
    }
   ],
   "source": [
    "f1 = frozenset([1,2,3,3,3])\n",
    "print(\"f1:\", f1, type(f1))"
   ]
  },
  {
   "cell_type": "markdown",
   "metadata": {},
   "source": [
    "---"
   ]
  },
  {
   "cell_type": "markdown",
   "metadata": {},
   "source": [
    "### Mappings"
   ]
  },
  {
   "cell_type": "markdown",
   "metadata": {},
   "source": [
    "##### dict\n",
    "> key:value pairs"
   ]
  },
  {
   "cell_type": "code",
   "execution_count": 123,
   "metadata": {},
   "outputs": [
    {
     "name": "stdout",
     "output_type": "stream",
     "text": [
      "d1: {'two': 2, 'one': 1, 'three': 3} <class 'dict'>\n",
      "d2: {'two': 2, 'one': 1, 'three': 3} <class 'dict'>\n",
      "d3: {1: 'one', 2: 'two', 3: 'thuuu'} <class 'dict'>\n"
     ]
    }
   ],
   "source": [
    "d1 = dict(one=1, two=2, three=3)\n",
    "print(\"d1:\", d1, type(d1))\n",
    "\n",
    "d2 = {'one':1, 'two':2, 'three':3}\n",
    "print(\"d2:\", d2, type(d2))\n",
    "\n",
    "d3 = {1:'one', 2:'two', 3:'three', 3:'three', 3:'thuuu'}\n",
    "print(\"d3:\", d3, type(d3))"
   ]
  },
  {
   "cell_type": "markdown",
   "metadata": {},
   "source": [
    "---"
   ]
  },
  {
   "cell_type": "markdown",
   "metadata": {},
   "source": [
    "### Null object"
   ]
  },
  {
   "cell_type": "markdown",
   "metadata": {},
   "source": [
    "None\n",
    "> null pointer라기보다는 None이라는 상태를 나타내는 object이다."
   ]
  },
  {
   "cell_type": "code",
   "execution_count": 60,
   "metadata": {},
   "outputs": [
    {
     "name": "stdout",
     "output_type": "stream",
     "text": [
      "<class 'NoneType'>\n",
      "n is None\n"
     ]
    }
   ],
   "source": [
    "n = None\n",
    "print(type(n))\n",
    "if n is None:\n",
    "    print('n is None')\n",
    "else:\n",
    "    print('n is not None')"
   ]
  },
  {
   "cell_type": "markdown",
   "metadata": {},
   "source": [
    "---\n",
    "\n",
    "---\n",
    "\n",
    "---\n",
    "\n",
    "###Mutable vs Immutable Objects\n",
    "- Immutable : int, float, long, complex, bytes, tuple, frozen set\n",
    "- Muable    : byte array, list, set, dict"
   ]
  },
  {
   "cell_type": "markdown",
   "metadata": {},
   "source": [
    "> - Immutable : It's impossible to alter it's element without recreating object.  \n",
    "> - Mutable : Possible to alter it's element."
   ]
  }
 ],
 "metadata": {
  "anaconda-cloud": {},
  "kernelspec": {
   "display_name": "Python 3",
   "language": "python",
   "name": "python3"
  },
  "language_info": {
   "codemirror_mode": {
    "name": "ipython",
    "version": 3
   },
   "file_extension": ".py",
   "mimetype": "text/x-python",
   "name": "python",
   "nbconvert_exporter": "python",
   "pygments_lexer": "ipython3",
   "version": "3.6.6"
  }
 },
 "nbformat": 4,
 "nbformat_minor": 1
}