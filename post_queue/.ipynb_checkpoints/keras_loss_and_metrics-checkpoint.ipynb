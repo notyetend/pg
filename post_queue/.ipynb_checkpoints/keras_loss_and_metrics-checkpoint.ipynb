{
 "cells": [
  {
   "cell_type": "code",
   "execution_count": 4,
   "metadata": {},
   "outputs": [],
   "source": [
    "import numpy as np\n",
    "from tensorflow.python.keras import backend as K\n",
    "from tensorflow.python.keras import metrics"
   ]
  },
  {
   "cell_type": "code",
   "execution_count": 10,
   "metadata": {},
   "outputs": [],
   "source": [
    "all_metrics = [\n",
    "    metrics.binary_accuracy,\n",
    "    metrics.categorical_accuracy,\n",
    "    metrics.mean_squared_error,\n",
    "    metrics.mean_absolute_error,\n",
    "    metrics.mean_absolute_percentage_error,\n",
    "    metrics.mean_squared_logarithmic_error,\n",
    "    metrics.squared_hinge,\n",
    "    metrics.hinge,\n",
    "    metrics.categorical_crossentropy,\n",
    "    metrics.binary_crossentropy,\n",
    "    metrics.poisson,\n",
    "    metrics.cosine_proximity,\n",
    "    # metrics.matthews_correlation,\n",
    "]\n",
    "\n",
    "all_sparse_metrics = [\n",
    "    metrics.sparse_categorical_accuracy,\n",
    "    metrics.sparse_categorical_crossentropy,\n",
    "]"
   ]
  },
  {
   "cell_type": "markdown",
   "metadata": {},
   "source": [
    "###### Test data"
   ]
  },
  {
   "cell_type": "code",
   "execution_count": 70,
   "metadata": {},
   "outputs": [],
   "source": [
    "n_classes = 3\n",
    "n_samples = 5\n",
    "random_seed = 0\n",
    "np.random.seed(random_seed)\n",
    "\n",
    "\n",
    "y_actual = K.variable(np.eye(n_classes)[np.random.choice(n_classes, size=n_samples)])\n",
    "y_pred = K.variable(np.random.random((n_samples, n_classes)))\n",
    "\n",
    "_y_actual = K.eval(y_actual)\n",
    "_y_pred = K.eval(y_pred)"
   ]
  },
  {
   "cell_type": "code",
   "execution_count": 71,
   "metadata": {},
   "outputs": [
    {
     "name": "stdout",
     "output_type": "stream",
     "text": [
      "y_actual: [[1. 0. 0.]\n",
      " [0. 1. 0.]\n",
      " [1. 0. 0.]\n",
      " [0. 1. 0.]\n",
      " [0. 1. 0.]] \n",
      "shape: (5, 3)\n"
     ]
    }
   ],
   "source": [
    "print('y_actual:', _y_actual, '\\nshape:', _y_actual.shape)"
   ]
  },
  {
   "cell_type": "code",
   "execution_count": 72,
   "metadata": {},
   "outputs": [
    {
     "name": "stdout",
     "output_type": "stream",
     "text": [
      "y_pred: [[0.3843817  0.2975346  0.05671298]\n",
      " [0.2726563  0.47766513 0.8121687 ]\n",
      " [0.47997716 0.3927848  0.83607876]\n",
      " [0.33739617 0.6481719  0.36824155]\n",
      " [0.95715517 0.14035077 0.87008727]] \n",
      "shape: (5, 3)\n"
     ]
    }
   ],
   "source": [
    "print('y_pred:', _y_pred, '\\nshape:', _y_pred.shape)"
   ]
  },
  {
   "cell_type": "markdown",
   "metadata": {},
   "source": [
    "###### binary cross entropy"
   ]
  },
  {
   "cell_type": "markdown",
   "metadata": {},
   "source": [
    "$$-\\frac{1}{N} \\sum_{i=1}^N \\big[ y_i \\log(\\hat{y}_i) + (1-y_i) \\log (1-\\hat{y}_i) \\big]$$"
   ]
  },
  {
   "cell_type": "code",
   "execution_count": 79,
   "metadata": {},
   "outputs": [
    {
     "data": {
      "text/plain": [
       "array([0.45588765, 0.90980417, 1.0137527 , 0.4348085 , 2.3848913 ],\n",
       "      dtype=float32)"
      ]
     },
     "execution_count": 79,
     "metadata": {},
     "output_type": "execute_result"
    }
   ],
   "source": [
    "output = metrics.binary_crossentropy(\n",
    "    y_true=y_actual, \n",
    "    y_pred=y_pred)\n",
    "\n",
    "K.eval(output)"
   ]
  },
  {
   "cell_type": "code",
   "execution_count": 77,
   "metadata": {},
   "outputs": [
    {
     "data": {
      "text/plain": [
       "0.4558876716532443"
      ]
     },
     "execution_count": 77,
     "metadata": {},
     "output_type": "execute_result"
    }
   ],
   "source": [
    "((1 * np.log(0.3843817) + (1-1) * np.log(1-0.3843817)) + \n",
    "(0 * np.log(0.2975346) + (1-0) * np.log(1-0.2975346)) +\n",
    "(0 * np.log(0.05671298) + (1-0) * np.log(1-0.05671298))) / 3 * -1"
   ]
  },
  {
   "cell_type": "markdown",
   "metadata": {},
   "source": [
    "###### binary accuracy"
   ]
  },
  {
   "cell_type": "code",
   "execution_count": 82,
   "metadata": {},
   "outputs": [
    {
     "data": {
      "text/plain": [
       "array([0.6666667 , 0.33333334, 0.33333334, 1.        , 0.        ],\n",
       "      dtype=float32)"
      ]
     },
     "execution_count": 82,
     "metadata": {},
     "output_type": "execute_result"
    }
   ],
   "source": [
    "thredhold=0.5\n",
    "\n",
    "output = metrics.binary_accuracy(\n",
    "    y_true=y_actual, \n",
    "    y_pred=y_pred,\n",
    "    threshold=thredhold)\n",
    "\n",
    "K.eval(output)"
   ]
  },
  {
   "cell_type": "code",
   "execution_count": 86,
   "metadata": {},
   "outputs": [
    {
     "data": {
      "text/plain": [
       "0.6666666666666666"
      ]
     },
     "execution_count": 86,
     "metadata": {},
     "output_type": "execute_result"
    }
   ],
   "source": [
    "((1 == (0.3843817 > thredhold)) + \n",
    "(0 == (0.2975346 > thredhold)) + \n",
    "(0 == (0.05671298 > thredhold))) / 3"
   ]
  },
  {
   "cell_type": "code",
   "execution_count": null,
   "metadata": {},
   "outputs": [],
   "source": []
  }
 ],
 "metadata": {
  "kernelspec": {
   "display_name": "Python 3",
   "language": "python",
   "name": "python3"
  },
  "language_info": {
   "codemirror_mode": {
    "name": "ipython",
    "version": 3
   },
   "file_extension": ".py",
   "mimetype": "text/x-python",
   "name": "python",
   "nbconvert_exporter": "python",
   "pygments_lexer": "ipython3",
   "version": "3.6.6"
  }
 },
 "nbformat": 4,
 "nbformat_minor": 2
}
