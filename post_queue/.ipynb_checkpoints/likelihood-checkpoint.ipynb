{
 "cells": [
  {
   "cell_type": "markdown",
   "metadata": {},
   "source": [
    "확률(probability)는 어떤 무작위 시행에서 특정 결과가 나올 가능성을 의미한다. 예를들어 동전을 면져서 앞면이 나올 가능성을 0과 1 사이의 숫자로 표현할 때 확률을 사용한다. \n",
    "\n",
    "반면 우도(likelihood)는 어떤 관측 데이터가 있을때 현재 가정하고 있는 파라미터의 개연성을 의미한다. 예를들어 한쪽 면이 튀어나온 동전을 던져서 앞면이 나올 확률 $\\theta$가 1/3이라 생각할때, 10번 동전을 던져서 앞면과 뒷면이 각각 2번 8번 나왔다고 하자. 이때 우리가 생각했던 앞면이 나올 확률 $\\theta=1/3$에 대한 개연성(likelihood)은 아래와 같이 10번의 시행에 대한 결합 확률 분포로 표현된다. (10번 던져 나온 결과 데이터를 $\\mathbf{x}$라 하자.)"
   ]
  },
  {
   "cell_type": "markdown",
   "metadata": {},
   "source": [
    "$$\\mathcal{L}(\\theta=1/3 \\mid \\mathbf{x}) = P\\big(\\mathbf{x} \\mid \\theta=1/3 \\big) = \\big( 1/3 \\big)^2 \\cdot (1- 1/3)^8$$"
   ]
  },
  {
   "cell_type": "markdown",
   "metadata": {},
   "source": [
    "그런데 많은 경우 계산의 보다 용이하게 하고 언더플로우 문제를 제거하기 위해 그냥 likelihood보다는 아래와 같이 log-likelihood를 사용해 개연성을 표현한다."
   ]
  },
  {
   "cell_type": "markdown",
   "metadata": {},
   "source": [
    "$$\\log \\mathcal{L}(\\theta=1/3 \\mid \\mathbf{x}) = \\log P\\big(\\mathbf{x} \\mid \\theta=1/3 \\big) = 2 \\log \\big( 1/3 \\big) + 8 \\log (1- 1/3) \\approx -5.441$$"
   ]
  },
  {
   "cell_type": "markdown",
   "metadata": {},
   "source": [
    "우리는 최초 이 동전을 던져 앞면이 나올 확률 $\\theta$가 1/3이라 생각했었다. 하지만 실제 10번 던져보니 2번 앞면이 나왔으므로 $\\theta$가 $1/5=(2/10)$이라고 하는게 우리가 얻은 데이터를 더 잘 설명하지 않을까? 실제로 $\\theta$를 $1/5$로 바꾸고 log-likelihood를 구해보면 아래와 같이 앞서 구한 값 보다 커진다."
   ]
  },
  {
   "cell_type": "markdown",
   "metadata": {},
   "source": [
    "$$\\log P\\big(\\mathbf{x} \\mid \\theta=1/5 \\big) = 2 \\log \\big( 1/5 \\big) + 8 \\log (1- 1/5) \\approx -5.004$$"
   ]
  },
  {
   "cell_type": "markdown",
   "metadata": {},
   "source": []
  }
 ],
 "metadata": {
  "kernelspec": {
   "display_name": "Python 3",
   "language": "python",
   "name": "python3"
  },
  "language_info": {
   "codemirror_mode": {
    "name": "ipython",
    "version": 3
   },
   "file_extension": ".py",
   "mimetype": "text/x-python",
   "name": "python",
   "nbconvert_exporter": "python",
   "pygments_lexer": "ipython3",
   "version": "3.6.6"
  }
 },
 "nbformat": 4,
 "nbformat_minor": 2
}
