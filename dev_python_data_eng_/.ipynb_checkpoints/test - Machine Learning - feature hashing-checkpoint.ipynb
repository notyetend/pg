{
 "cells": [
  {
   "cell_type": "markdown",
   "metadata": {},
   "source": [
    "# Feature hashing"
   ]
  },
  {
   "cell_type": "code",
   "execution_count": 48,
   "metadata": {
    "collapsed": false
   },
   "outputs": [
    {
     "name": "stdout",
     "output_type": "stream",
     "text": [
      "{'f3': '3', 'f1': '5', 'f2': '2'}\n",
      "3 - f3\n",
      "<class 'int'>\n",
      "5 - f1\n",
      "<class 'int'>\n",
      "2 - f2\n",
      "<class 'int'>\n"
     ]
    },
    {
     "data": {
      "text/plain": [
       "3"
      ]
     },
     "execution_count": 48,
     "metadata": {},
     "output_type": "execute_result"
    }
   ],
   "source": [
    "import numpy as np\n",
    "\n",
    "def hashing_vectorizer(dic, N):\n",
    "    print(dic)\n",
    "    \n",
    "    \n",
    "dic = {'f1':'5', 'f2':'2', 'f3':'3'}\n",
    "\n",
    "hashing_vectorizer(dic, 3)\n",
    "\n",
    "ts = [1.,2.,3.,4.]\n",
    "ts\n",
    "\n",
    "for key, value in dic.items():\n",
    "    print(value, '-', key)\n",
    "    print(type(1 + int(key[1:])))\n",
    "    \n",
    "int('1e88c74f'+'3', 16) % 16"
   ]
  },
  {
   "cell_type": "code",
   "execution_count": 49,
   "metadata": {
    "collapsed": false
   },
   "outputs": [
    {
     "data": {
      "text/plain": [
       "32"
      ]
     },
     "execution_count": 49,
     "metadata": {},
     "output_type": "execute_result"
    }
   ],
   "source": [
    "int('2'+'0', 16)\n"
   ]
  },
  {
   "cell_type": "code",
   "execution_count": 53,
   "metadata": {
    "collapsed": true
   },
   "outputs": [],
   "source": [
    "# B. Apply hash trick of the original csv row\n",
    "# for simplicity, we treat both integer and categorical features as categorical\n",
    "# INPUT:\n",
    "#     csv_row: a csv dictionary, ex: {'Lable': '1', 'I1': '357', 'I2': '', ...}\n",
    "#     D: the max index that we can hash to\n",
    "# OUTPUT:\n",
    "#     x: a list of indices that its value is 1\n",
    "def get_x(csv_row, D):\n",
    "    x = [0]  # 0 is the index of the bias term\n",
    "    for key, value in csv_row.items():\n",
    "        index = int(value + key[1:], 16) % D  # weakest hash ever ;)\n",
    "        x.append(index)\n",
    "        print(value, '--', key)\n",
    "    return x  # x contains indices of features that have a value of 1"
   ]
  },
  {
   "cell_type": "code",
   "execution_count": 58,
   "metadata": {
    "collapsed": false
   },
   "outputs": [
    {
     "name": "stdout",
     "output_type": "stream",
     "text": [
      "3 -- f3\n",
      "5 -- f1\n",
      "2 -- f2\n"
     ]
    },
    {
     "data": {
      "text/plain": [
       "[0, 3, 1, 2]"
      ]
     },
     "execution_count": 58,
     "metadata": {},
     "output_type": "execute_result"
    }
   ],
   "source": [
    "get_x(dic, 2**3)"
   ]
  },
  {
   "cell_type": "code",
   "execution_count": 76,
   "metadata": {
    "collapsed": false
   },
   "outputs": [
    {
     "data": {
      "text/plain": [
       "[0.0, 0.0, 0.0, 0.0, 0.0, 0.0, 0.0, 0.0]"
      ]
     },
     "execution_count": 76,
     "metadata": {},
     "output_type": "execute_result"
    }
   ],
   "source": [
    "D = 2**3\n",
    "w = [0.] * D\n",
    "\n",
    "w"
   ]
  },
  {
   "cell_type": "code",
   "execution_count": 73,
   "metadata": {
    "collapsed": false
   },
   "outputs": [
    {
     "name": "stdout",
     "output_type": "stream",
     "text": [
      "dict_items([('C12', '37c9c164'), ('C21', '07b5194c'), ('I3', '5'), ('C24', 'c5c50484'), ('C2', '80e26c9b'), ('C6', '7e0ccccf'), ('C19', '21ddcdc9'), ('C17', 'e5ba7672'), ('I8', '2'), ('C18', 'f54016b9'), ('I6', '4'), ('C26', '9727dd16'), ('I7', '15'), ('C9', 'a73ee510'), ('I1', '1'), ('I11', '2'), ('C25', 'e8b83407'), ('C11', 'b2cb9c98'), ('C14', '1adce6ef'), ('I13', '2'), ('C8', '1f89b562'), ('I12', ''), ('C20', 'b1252a9d'), ('C1', '68fd1e64'), ('I4', '0'), ('C22', ''), ('C7', 'de7995b8'), ('C13', '2824a5f6'), ('C23', '3a171ecb'), ('C16', '891b62e7'), ('C5', '25c83c98'), ('C10', 'a8cd5504'), ('I5', '1382'), ('I2', '1'), ('I9', '181'), ('C4', '7b4723c4'), ('C15', '8ba8b39a'), ('C3', 'fb936136'), ('I10', '1'), ('Label', '0')])\n",
      "--------------\n",
      "dict_items([('C12', '623049e6'), ('C21', '60f6221e'), ('I3', '44'), ('C24', '43f13e8b'), ('C2', 'f0cf0024'), ('C6', 'fe6b92e5'), ('C19', '21ddcdc9'), ('C17', '07c540c4'), ('I8', '2'), ('C18', 'b04e4670'), ('I6', '8'), ('C26', '731c3655'), ('I7', '2'), ('C9', 'a73ee510'), ('I1', '2'), ('I11', '1'), ('C25', 'e8b83407'), ('C11', '4f1b46f3'), ('C14', 'b28479f6'), ('I13', '4'), ('C8', '0b153874'), ('I12', ''), ('C20', '5840adea'), ('C1', '68fd1e64'), ('I4', '1'), ('C22', ''), ('C7', '922afcc0'), ('C13', 'd7020589'), ('C23', '3a171ecb'), ('C16', 'c92f3b61'), ('C5', '25c83c98'), ('C10', '2b53e5fb'), ('I5', '102'), ('I2', '0'), ('I9', '4'), ('C4', '41274cd7'), ('C15', 'e6c5b5cd'), ('C3', '6f67f7e5'), ('I10', '1'), ('Label', '0')])\n",
      "i: 2\n"
     ]
    }
   ],
   "source": [
    "from csv import DictReader\n",
    "\n",
    "f = open('../thesis/data/dac_sample.txt')\n",
    "#f = open(r'C:\\Users\\Bar\\Downloads\\dac.tar\\train.txt')\n",
    "i = 0\n",
    "fn = ['Label'] + [ 'I' + str(i) for i in list(range(1,14))] + [ 'C' + str(i) for i in list(range(1,27))]\n",
    "for t, row in enumerate(DictReader(f, fieldnames=fn, delimiter='\\t')):\n",
    "    i += 1\n",
    "    print(row.items())\n",
    "    if i==2:\n",
    "        print('i:',i)\n",
    "        break\n",
    "    print('--------------')\n",
    "f.close()\n"
   ]
  },
  {
   "cell_type": "code",
   "execution_count": 69,
   "metadata": {
    "collapsed": false
   },
   "outputs": [
    {
     "data": {
      "text/plain": [
       "['Label',\n",
       " 'I1',\n",
       " 'I2',\n",
       " 'I3',\n",
       " 'I4',\n",
       " 'I5',\n",
       " 'I6',\n",
       " 'I7',\n",
       " 'I8',\n",
       " 'I9',\n",
       " 'I10',\n",
       " 'I11',\n",
       " 'I12',\n",
       " 'I13',\n",
       " 'C1',\n",
       " 'C2',\n",
       " 'C3',\n",
       " 'C4',\n",
       " 'C5',\n",
       " 'C6',\n",
       " 'C7',\n",
       " 'C8',\n",
       " 'C9',\n",
       " 'C10',\n",
       " 'C11',\n",
       " 'C12',\n",
       " 'C13',\n",
       " 'C14',\n",
       " 'C15',\n",
       " 'C16',\n",
       " 'C17',\n",
       " 'C18',\n",
       " 'C19',\n",
       " 'C20',\n",
       " 'C21',\n",
       " 'C22',\n",
       " 'C23',\n",
       " 'C24',\n",
       " 'C25',\n",
       " 'C26']"
      ]
     },
     "execution_count": 69,
     "metadata": {},
     "output_type": "execute_result"
    }
   ],
   "source": [
    "num = list(range(1,14))\n",
    "[ 'I' + str(i) for i in num ]\n",
    "list(range(1,14)) + list(range(1,27))\n",
    "['Label'] + [ 'I' + str(i) for i in list(range(1,14))] + [ 'C' + str(i) for i in list(range(1,27))]\n"
   ]
  }
 ],
 "metadata": {
  "kernelspec": {
   "display_name": "Python 3",
   "language": "python",
   "name": "python3"
  },
  "language_info": {
   "codemirror_mode": {
    "name": "ipython",
    "version": 3
   },
   "file_extension": ".py",
   "mimetype": "text/x-python",
   "name": "python",
   "nbconvert_exporter": "python",
   "pygments_lexer": "ipython3",
   "version": "3.4.3"
  }
 },
 "nbformat": 4,
 "nbformat_minor": 0
}
