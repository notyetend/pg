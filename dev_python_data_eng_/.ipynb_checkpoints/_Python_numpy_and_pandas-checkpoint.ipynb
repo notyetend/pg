{
 "cells": [
  {
   "cell_type": "markdown",
   "metadata": {},
   "source": [
    "### numpy - pad\n",
    "\n",
    "- https://docs.scipy.org/doc/numpy-1.12.0/reference/generated/numpy.pad.html\n",
    "- CNN에서 padding할 때 사용\n",
    "\n",
    "- Parameters\n",
    " - array: padding할 array\n",
    " - pad_width: 각 axis마다 (좌측에 몇개, 우측에 몇개) padding할지를 지정한다. \n",
    " - mode: 'constant' 만 써봄. \n",
    "\n",
    "- axis 순서는 가장 바깥쪽부터 list에 element를 append하는 것 처럼 순차적으로 padding 한다."
   ]
  },
  {
   "cell_type": "code",
   "execution_count": 22,
   "metadata": {},
   "outputs": [
    {
     "data": {
      "text/plain": [
       "array([1, 1, 1])"
      ]
     },
     "execution_count": 22,
     "metadata": {},
     "output_type": "execute_result"
    }
   ],
   "source": [
    "ts2 = np.array([1, 1, 1])\n",
    "ts2"
   ]
  },
  {
   "cell_type": "code",
   "execution_count": 23,
   "metadata": {},
   "outputs": [
    {
     "data": {
      "text/plain": [
       "array([2, 2, 1, 1, 1, 3, 3, 3])"
      ]
     },
     "execution_count": 23,
     "metadata": {},
     "output_type": "execute_result"
    }
   ],
   "source": [
    "np.pad(ts2, (2, 3), 'constant', constant_values=(2, 3))"
   ]
  },
  {
   "cell_type": "markdown",
   "metadata": {},
   "source": [
    "> 아래 코드에서는 0번째 axis의 좌측에 6을 1개 우측에 7을 2개, 1번째 axis의 좌측에 8을 4개 우측에 9를 5개 padding 하고 있다."
   ]
  },
  {
   "cell_type": "code",
   "execution_count": 20,
   "metadata": {},
   "outputs": [
    {
     "data": {
      "text/plain": [
       "array([[1, 1, 1, 1],\n",
       "       [2, 2, 2, 2]])"
      ]
     },
     "execution_count": 20,
     "metadata": {},
     "output_type": "execute_result"
    }
   ],
   "source": [
    "ts1 = np.array([[1, 1, 1, 1], [2, 2, 2, 2]]); ts1"
   ]
  },
  {
   "cell_type": "code",
   "execution_count": 21,
   "metadata": {},
   "outputs": [
    {
     "data": {
      "text/plain": [
       "array([[8, 8, 8, 8, 6, 6, 6, 6, 9, 9, 9, 9, 9],\n",
       "       [8, 8, 8, 8, 1, 1, 1, 1, 9, 9, 9, 9, 9],\n",
       "       [8, 8, 8, 8, 2, 2, 2, 2, 9, 9, 9, 9, 9],\n",
       "       [8, 8, 8, 8, 7, 7, 7, 7, 9, 9, 9, 9, 9],\n",
       "       [8, 8, 8, 8, 7, 7, 7, 7, 9, 9, 9, 9, 9]])"
      ]
     },
     "execution_count": 21,
     "metadata": {},
     "output_type": "execute_result"
    }
   ],
   "source": [
    "np.pad(ts1, ((1, 2), (4,5)), 'constant', constant_values = ((6, 7), (8, 9)))"
   ]
  },
  {
   "cell_type": "markdown",
   "metadata": {},
   "source": [
    "### numpy -  Matrix multiplication and product with other\n",
    "- multiplication과 product는 다르다.\n",
    "- multiplication은 곱셈연산자나 np.multiply를 사용해야한다.\n",
    "- product는 np.dot을 사용한다."
   ]
  },
  {
   "cell_type": "code",
   "execution_count": 44,
   "metadata": {},
   "outputs": [
    {
     "name": "stdout",
     "output_type": "stream",
     "text": [
      "X.shape:(2, 3), Y.shape:(2, 3), Z.shape:(3, 2)\n"
     ]
    }
   ],
   "source": [
    "X = np.array([[1, 1, 1], [2, 2, 2]])  # (2, 3)\n",
    "Y = np.array([[0.1, 0.1, 0.1], [0.01, 0.01, 0.01]])  # (2, 3)\n",
    "Z = np.array([[0.1, 0.1], [0.2, 0.2], [0.3, 0.3]])  # (3, 2)\n",
    "print('X.shape:{}, Y.shape:{}, Z.shape:{}'.format(X.shape, Y.shape, Z.shape))"
   ]
  },
  {
   "cell_type": "code",
   "execution_count": 45,
   "metadata": {},
   "outputs": [
    {
     "data": {
      "text/plain": [
       "array([[ 0.1 ,  0.1 ,  0.1 ],\n",
       "       [ 0.02,  0.02,  0.02]])"
      ]
     },
     "execution_count": 45,
     "metadata": {},
     "output_type": "execute_result"
    }
   ],
   "source": [
    "X*Y"
   ]
  },
  {
   "cell_type": "code",
   "execution_count": 46,
   "metadata": {},
   "outputs": [
    {
     "data": {
      "text/plain": [
       "array([[ 0.1 ,  0.1 ,  0.1 ],\n",
       "       [ 0.02,  0.02,  0.02]])"
      ]
     },
     "execution_count": 46,
     "metadata": {},
     "output_type": "execute_result"
    }
   ],
   "source": [
    "np.multiply(X, Y)"
   ]
  },
  {
   "cell_type": "code",
   "execution_count": 47,
   "metadata": {},
   "outputs": [
    {
     "ename": "ValueError",
     "evalue": "operands could not be broadcast together with shapes (2,3) (3,2) ",
     "output_type": "error",
     "traceback": [
      "\u001b[1;31m---------------------------------------------------------------------------\u001b[0m",
      "\u001b[1;31mValueError\u001b[0m                                Traceback (most recent call last)",
      "\u001b[1;32m<ipython-input-47-4f510a219ba3>\u001b[0m in \u001b[0;36m<module>\u001b[1;34m()\u001b[0m\n\u001b[0;32m      1\u001b[0m \u001b[1;31m# error because of shape miss match\u001b[0m\u001b[1;33m\u001b[0m\u001b[1;33m\u001b[0m\u001b[0m\n\u001b[1;32m----> 2\u001b[1;33m \u001b[0mnp\u001b[0m\u001b[1;33m.\u001b[0m\u001b[0mmultiply\u001b[0m\u001b[1;33m(\u001b[0m\u001b[0mX\u001b[0m\u001b[1;33m,\u001b[0m \u001b[0mZ\u001b[0m\u001b[1;33m)\u001b[0m\u001b[1;33m\u001b[0m\u001b[0m\n\u001b[0m",
      "\u001b[1;31mValueError\u001b[0m: operands could not be broadcast together with shapes (2,3) (3,2) "
     ]
    }
   ],
   "source": [
    "# error because of shape miss match\n",
    "np.multiply(X, Z)"
   ]
  },
  {
   "cell_type": "code",
   "execution_count": 48,
   "metadata": {},
   "outputs": [
    {
     "data": {
      "text/plain": [
       "array([[ 0.6,  0.6],\n",
       "       [ 1.2,  1.2]])"
      ]
     },
     "execution_count": 48,
     "metadata": {},
     "output_type": "execute_result"
    }
   ],
   "source": [
    "np.dot(X, Z)"
   ]
  },
  {
   "cell_type": "code",
   "execution_count": 49,
   "metadata": {},
   "outputs": [
    {
     "ename": "ValueError",
     "evalue": "shapes (2,3) and (2,3) not aligned: 3 (dim 1) != 2 (dim 0)",
     "output_type": "error",
     "traceback": [
      "\u001b[1;31m---------------------------------------------------------------------------\u001b[0m",
      "\u001b[1;31mValueError\u001b[0m                                Traceback (most recent call last)",
      "\u001b[1;32m<ipython-input-49-d4626bc22e1e>\u001b[0m in \u001b[0;36m<module>\u001b[1;34m()\u001b[0m\n\u001b[0;32m      1\u001b[0m \u001b[1;31m# error because of shape miss match\u001b[0m\u001b[1;33m\u001b[0m\u001b[1;33m\u001b[0m\u001b[0m\n\u001b[1;32m----> 2\u001b[1;33m \u001b[0mnp\u001b[0m\u001b[1;33m.\u001b[0m\u001b[0mdot\u001b[0m\u001b[1;33m(\u001b[0m\u001b[0mX\u001b[0m\u001b[1;33m,\u001b[0m \u001b[0mY\u001b[0m\u001b[1;33m)\u001b[0m\u001b[1;33m\u001b[0m\u001b[0m\n\u001b[0m",
      "\u001b[1;31mValueError\u001b[0m: shapes (2,3) and (2,3) not aligned: 3 (dim 1) != 2 (dim 0)"
     ]
    }
   ],
   "source": [
    "# error because of shape miss match\n",
    "np.dot(X, Y)"
   ]
  },
  {
   "cell_type": "markdown",
   "metadata": {},
   "source": [
    "### numpy - Matrix sum itself"
   ]
  },
  {
   "cell_type": "code",
   "execution_count": 50,
   "metadata": {
    "collapsed": true
   },
   "outputs": [],
   "source": [
    "X = np.array([[1, 1, 1], [2, 2, 2]])  # (2, 3)"
   ]
  },
  {
   "cell_type": "code",
   "execution_count": 56,
   "metadata": {},
   "outputs": [
    {
     "name": "stdout",
     "output_type": "stream",
     "text": [
      "[[3 3 3]] (1, 3)\n"
     ]
    }
   ],
   "source": [
    "s1 = np.sum(X, axis=0, keepdims=True)  # (1, 3)\n",
    "print(s1, s1.shape)"
   ]
  },
  {
   "cell_type": "code",
   "execution_count": 58,
   "metadata": {},
   "outputs": [
    {
     "name": "stdout",
     "output_type": "stream",
     "text": [
      "[3 3 3] (3,)\n"
     ]
    }
   ],
   "source": [
    "s2 = np.sum(X, axis=0, keepdims=False)  # (3, )\n",
    "print(s2, s2.shape)"
   ]
  },
  {
   "cell_type": "code",
   "execution_count": 65,
   "metadata": {},
   "outputs": [
    {
     "data": {
      "text/plain": [
       "9"
      ]
     },
     "execution_count": 65,
     "metadata": {},
     "output_type": "execute_result"
    }
   ],
   "source": [
    "# if don't specify axis, then will sum all of the elements\n",
    "np.sum(X)"
   ]
  },
  {
   "cell_type": "markdown",
   "metadata": {},
   "source": [
    "### numpy - Matrix sum with other"
   ]
  },
  {
   "cell_type": "code",
   "execution_count": 61,
   "metadata": {
    "collapsed": true
   },
   "outputs": [],
   "source": [
    "X = np.array([[1, 1, 1], [2, 2, 2]])  # (2, 3)\n",
    "Y = np.array([[0.1, 0.1, 0.1], [0.01, 0.01, 0.01]])  # (2, 3)\n",
    "K = np.array([1])"
   ]
  },
  {
   "cell_type": "code",
   "execution_count": 62,
   "metadata": {},
   "outputs": [
    {
     "data": {
      "text/plain": [
       "array([[ 1.1 ,  1.1 ,  1.1 ],\n",
       "       [ 2.01,  2.01,  2.01]])"
      ]
     },
     "execution_count": 62,
     "metadata": {},
     "output_type": "execute_result"
    }
   ],
   "source": [
    "X + Y"
   ]
  },
  {
   "cell_type": "code",
   "execution_count": 63,
   "metadata": {},
   "outputs": [
    {
     "data": {
      "text/plain": [
       "array([[2, 2, 2],\n",
       "       [3, 3, 3]])"
      ]
     },
     "execution_count": 63,
     "metadata": {},
     "output_type": "execute_result"
    }
   ],
   "source": [
    "X + K"
   ]
  },
  {
   "cell_type": "markdown",
   "metadata": {},
   "source": [
    "### numpy - zeros\n",
    "- https://docs.scipy.org/doc/numpy-1.13.0/reference/generated/numpy.zeros.html\n",
    "\n",
    "- Parameters\n",
    " - shape : 결과의 shape\n",
    " - dtype : 결과 element의 data-type\n",
    " - order : ?"
   ]
  },
  {
   "cell_type": "code",
   "execution_count": 2,
   "metadata": {},
   "outputs": [
    {
     "data": {
      "text/plain": [
       "array([ 0.,  0.,  0.,  0.,  0.])"
      ]
     },
     "execution_count": 2,
     "metadata": {},
     "output_type": "execute_result"
    }
   ],
   "source": [
    "np.zeros(5)"
   ]
  },
  {
   "cell_type": "code",
   "execution_count": 3,
   "metadata": {},
   "outputs": [
    {
     "data": {
      "text/plain": [
       "array([[ 0.,  0.,  0.],\n",
       "       [ 0.,  0.,  0.]])"
      ]
     },
     "execution_count": 3,
     "metadata": {},
     "output_type": "execute_result"
    }
   ],
   "source": [
    "np.zeros((2, 3))"
   ]
  },
  {
   "cell_type": "markdown",
   "metadata": {},
   "source": [
    "."
   ]
  },
  {
   "cell_type": "markdown",
   "metadata": {},
   "source": [
    "### numpy - max, mean"
   ]
  },
  {
   "cell_type": "code",
   "execution_count": 22,
   "metadata": {},
   "outputs": [
    {
     "data": {
      "text/plain": [
       "(2, 3, 4)"
      ]
     },
     "execution_count": 22,
     "metadata": {},
     "output_type": "execute_result"
    }
   ],
   "source": [
    "X = np.ones((2, 3, 4)); X.shape"
   ]
  },
  {
   "cell_type": "code",
   "execution_count": 29,
   "metadata": {},
   "outputs": [
    {
     "data": {
      "text/plain": [
       "array([ 1.,  1.])"
      ]
     },
     "execution_count": 29,
     "metadata": {},
     "output_type": "execute_result"
    }
   ],
   "source": [
    "Y = np.max(X, axis=(1, 2)); Y"
   ]
  },
  {
   "cell_type": "code",
   "execution_count": 30,
   "metadata": {},
   "outputs": [
    {
     "data": {
      "text/plain": [
       "(2,)"
      ]
     },
     "execution_count": 30,
     "metadata": {},
     "output_type": "execute_result"
    }
   ],
   "source": [
    "Y.shape"
   ]
  },
  {
   "cell_type": "markdown",
   "metadata": {
    "collapsed": true
   },
   "source": [
    "### nd array reshape"
   ]
  },
  {
   "cell_type": "markdown",
   "metadata": {},
   "source": [
    "요약하면...    \n",
    "\n",
    "- 아래와 같은 변수 생성을 지양\n",
    "```Python\n",
    "a = np.random.randn(5)\n",
    "```\n",
    "\n",
    "- 열벡터를 생성할 때에는 아래와 같은 방식을 사용\n",
    "```Python\n",
    "a = np.random.randn(5, 1)\n",
    "```\n",
    "\n",
    "- 행벡터를 생성할 때에는 아래와 같은 방식을 사용\n",
    "```Python\n",
    "a = np.random.randn(1, 5)\n",
    "```\n",
    "\n",
    "- 혹은 변수 생성후 shape 변경(reshape은 CPU 비용이 저렴함)\n",
    "```Python\n",
    "a = np.random.randn(5).reshape((1, 5))\n",
    "```\n",
    "\n",
    "- assertion을 삽입하여 에러를 감지\n",
    "```Python\n",
    "assert(a.shape == (5,1))\n",
    "```"
   ]
  },
  {
   "cell_type": "markdown",
   "metadata": {},
   "source": [
    "> - reshape(1, -1) 은 행렬을 행-벡터로 변환\n",
    "> - reshape(-1, 1) 은 행렬을 열-벡터로 변환\n",
    "> - ravel()은 행렬을 rank1 배열로 변환"
   ]
  },
  {
   "cell_type": "markdown",
   "metadata": {},
   "source": [
    "###### rank1 array로 변환하는 다른 방법은 해당 dimensition의 shape을 0으로 지정하는 것이다."
   ]
  },
  {
   "cell_type": "code",
   "execution_count": 17,
   "metadata": {},
   "outputs": [],
   "source": [
    "import numpy as np\n",
    "\n",
    "a = np.random.randn(5, 1)"
   ]
  },
  {
   "cell_type": "code",
   "execution_count": 18,
   "metadata": {},
   "outputs": [
    {
     "data": {
      "text/plain": [
       "(5, 1)"
      ]
     },
     "execution_count": 18,
     "metadata": {},
     "output_type": "execute_result"
    }
   ],
   "source": [
    "a.shape"
   ]
  },
  {
   "cell_type": "code",
   "execution_count": 19,
   "metadata": {},
   "outputs": [
    {
     "data": {
      "text/plain": [
       "array([ 1.58662643,  1.0121656 , -0.62154303, -0.02604057, -0.16028451])"
      ]
     },
     "execution_count": 19,
     "metadata": {},
     "output_type": "execute_result"
    }
   ],
   "source": [
    "b = a[:, 0]\n",
    "b"
   ]
  },
  {
   "cell_type": "code",
   "execution_count": 20,
   "metadata": {},
   "outputs": [
    {
     "data": {
      "text/plain": [
       "(5,)"
      ]
     },
     "execution_count": 20,
     "metadata": {},
     "output_type": "execute_result"
    }
   ],
   "source": [
    "b.shape"
   ]
  },
  {
   "cell_type": "markdown",
   "metadata": {},
   "source": [
    "###### numpy.tile(A, reps)\n",
    "- A를 reps만큼 각 dimension별로 복제한다.\n",
    " - A와 reps의 dimension을 큰 쪽으로 맞추는데, 한쪽이 적을 경우 앞에 1을 padding한다. 예를들어 A가 1차원이고 shape이 (3,)일때 reps가 (4, 5)로서 2차원이라면 A는 (1, 3)으로 차원 확장된 후 reps만큼 복제되어 결과의 shape은 (4, 15)가 된다. 또한 만약 reps가 ( 4, 1, 7)로서 3차원이라면 A는 (1, 1, 3)으로 차원확장된 후 reps만큼 복제되어 결과의 shape은 (4, 1, 21)이 된다.\n",
    " - 예를들어 A가 4차원이고 shape이 (2, 3, 4, 5)일때 reps가 (2, 2)라면 reps가 (1, 1, 2, 2)로 확장된 후  결과의 shape은 (2, 3, 8, 10)이 된다."
   ]
  },
  {
   "cell_type": "code",
   "execution_count": 21,
   "metadata": {},
   "outputs": [
    {
     "name": "stdout",
     "output_type": "stream",
     "text": [
      "[1 2 3] (3,)\n"
     ]
    }
   ],
   "source": [
    "a = np.array([1, 2, 3])\n",
    "print(a, a.shape)"
   ]
  },
  {
   "cell_type": "code",
   "execution_count": 23,
   "metadata": {},
   "outputs": [
    {
     "name": "stdout",
     "output_type": "stream",
     "text": [
      "[[1 2 3 1 2 3 1 2 3 1 2 3 1 2 3]\n",
      " [1 2 3 1 2 3 1 2 3 1 2 3 1 2 3]\n",
      " [1 2 3 1 2 3 1 2 3 1 2 3 1 2 3]\n",
      " [1 2 3 1 2 3 1 2 3 1 2 3 1 2 3]] (4, 15)\n"
     ]
    }
   ],
   "source": [
    "b = np.tile(a, reps=(4, 5))\n",
    "print(b, b.shape)"
   ]
  },
  {
   "cell_type": "code",
   "execution_count": 24,
   "metadata": {},
   "outputs": [
    {
     "name": "stdout",
     "output_type": "stream",
     "text": [
      "[[[1 2 3 1 2 3 1 2 3 1 2 3 1 2 3 1 2 3 1 2 3]]\n",
      "\n",
      " [[1 2 3 1 2 3 1 2 3 1 2 3 1 2 3 1 2 3 1 2 3]]\n",
      "\n",
      " [[1 2 3 1 2 3 1 2 3 1 2 3 1 2 3 1 2 3 1 2 3]]\n",
      "\n",
      " [[1 2 3 1 2 3 1 2 3 1 2 3 1 2 3 1 2 3 1 2 3]]] (4, 1, 21)\n"
     ]
    }
   ],
   "source": [
    "c = np.tile(a, reps=(4, 1, 7))\n",
    "print(c, c.shape)"
   ]
  },
  {
   "cell_type": "code",
   "execution_count": 27,
   "metadata": {
    "scrolled": true
   },
   "outputs": [
    {
     "name": "stdout",
     "output_type": "stream",
     "text": [
      "(2, 3, 4, 5)\n"
     ]
    }
   ],
   "source": [
    "i = np.zeros((2, 3, 4, 5))\n",
    "print(i.shape)"
   ]
  },
  {
   "cell_type": "code",
   "execution_count": 28,
   "metadata": {},
   "outputs": [
    {
     "name": "stdout",
     "output_type": "stream",
     "text": [
      "(2, 3, 8, 10)\n"
     ]
    }
   ],
   "source": [
    "j = np.tile(i, reps=(2, 2))\n",
    "print(j.shape)"
   ]
  }
 ],
 "metadata": {
  "kernelspec": {
   "display_name": "Python 3",
   "language": "python",
   "name": "python3"
  },
  "language_info": {
   "codemirror_mode": {
    "name": "ipython",
    "version": 3
   },
   "file_extension": ".py",
   "mimetype": "text/x-python",
   "name": "python",
   "nbconvert_exporter": "python",
   "pygments_lexer": "ipython3",
   "version": "3.6.4"
  }
 },
 "nbformat": 4,
 "nbformat_minor": 2
}
