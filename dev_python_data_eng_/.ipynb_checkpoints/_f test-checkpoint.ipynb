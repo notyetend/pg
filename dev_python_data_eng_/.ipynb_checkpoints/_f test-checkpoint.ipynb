{
 "cells": [
  {
   "cell_type": "markdown",
   "metadata": {},
   "source": [
    "## Item 1: Know which Version of Python You're Using"
   ]
  },
  {
   "cell_type": "markdown",
   "metadata": {},
   "source": [
    "우선 아주 간단한 팁으로 시작합니다. 사용하고 있는 Python 버전을 확인하라는 것인데요. \n"
   ]
  },
  {
   "cell_type": "code",
   "execution_count": null,
   "metadata": {
    "collapsed": true
   },
   "outputs": [],
   "source": [
    "import sys\n",
    "print(sys.version_info)"
   ]
  },
  {
   "cell_type": "code",
   "execution_count": null,
   "metadata": {
    "collapsed": true
   },
   "outputs": [],
   "source": [
    "print(sys.version)"
   ]
  },
  {
   "cell_type": "markdown",
   "metadata": {},
   "source": [
    "위와 같은 명령으로 사용중인 Python 버전을 확인할 수 있습니다.   \n",
    "또한 가능한 Python3를 사용하라는 충고가 있습니다."
   ]
  },
  {
   "cell_type": "markdown",
   "metadata": {},
   "source": [
    "## Item 2: Follow the PEP 8 Style Guide"
   ]
  },
  {
   "cell_type": "markdown",
   "metadata": {},
   "source": [
    "PEP(Python Enhancement Proposal)에는 파이썬에 대한 개선 제안, 구조에 대한 디자인 등 다양한 문서가 포함되어 있는데요. 그중에서도 8번 문서(<a href=\"https://www.python.org/dev/peps/pep-0008/\">PEP8</a>)에는 코딩 스타일 가이드를 담고 있습니다. \n"
   ]
  },
  {
   "cell_type": "markdown",
   "metadata": {},
   "source": [
    "."
   ]
  },
  {
   "cell_type": "markdown",
   "metadata": {},
   "source": [
    "## Item 14 : Prefer Exceptions to Returning None"
   ]
  },
  {
   "cell_type": "markdown",
   "metadata": {},
   "source": [
    "함수 구현할 때 어떤 특이상태를 표현하기 위해 None을 return하도록 만들곤 한다.      \n",
    "그런데 이런 방식은 return 값에 대한 상태체크시 (잘 인지하지 못하는) 에러를 유발하곤 한다.     \n",
    "예를들어 아래 코드는 0으로 나누는 경우를 체크하려 하지만 분자가 0인 경우에도 'Invalid inputs'를 출력한다.      \n",
    "(if 문과 관련하여 아래 ※ if if if... (Item 14)를 참고)"
   ]
  },
  {
   "cell_type": "code",
   "execution_count": 57,
   "metadata": {
    "collapsed": true
   },
   "outputs": [],
   "source": [
    "def divide(a, b):\n",
    "    try:\n",
    "        return a / b\n",
    "    except ZeroDivisionError:\n",
    "        return None"
   ]
  },
  {
   "cell_type": "code",
   "execution_count": 58,
   "metadata": {},
   "outputs": [
    {
     "name": "stdout",
     "output_type": "stream",
     "text": [
      "Invalid inputs\n"
     ]
    }
   ],
   "source": [
    "x, y = 0, 5\n",
    "result = divide(x, y)\n",
    "if not result:\n",
    "    print('Invalid inputs')\n",
    "else:\n",
    "    print(result)"
   ]
  },
  {
   "cell_type": "code",
   "execution_count": 59,
   "metadata": {},
   "outputs": [
    {
     "name": "stdout",
     "output_type": "stream",
     "text": [
      "Invalid inputs\n"
     ]
    }
   ],
   "source": [
    "x, y = 1, 0\n",
    "result = divide(x, y)\n",
    "if result is None:\n",
    "    print('Invalid inputs')\n",
    "else:\n",
    "    print(result)"
   ]
  },
  {
   "cell_type": "markdown",
   "metadata": {},
   "source": [
    "이에 대한 첫번째 대안으로 이상 상태가 발생했는지 아닌지를 표현하는 flag를 원래 반환하려는 값과 함께 tuple로 반환하는 것이다."
   ]
  },
  {
   "cell_type": "code",
   "execution_count": 60,
   "metadata": {
    "collapsed": true
   },
   "outputs": [],
   "source": [
    "def divide(a, b):\n",
    "    try:\n",
    "        return True, a / b\n",
    "    except ZeroDivisionError:\n",
    "        return False, None"
   ]
  },
  {
   "cell_type": "code",
   "execution_count": 61,
   "metadata": {},
   "outputs": [
    {
     "name": "stdout",
     "output_type": "stream",
     "text": [
      "Invalid inputs\n"
     ]
    }
   ],
   "source": [
    "x, y = 1, 0\n",
    "success, result = divide(x, y)\n",
    "if not success:\n",
    "    print('Invalid inputs')\n",
    "else:\n",
    "    print(result)"
   ]
  },
  {
   "cell_type": "code",
   "execution_count": 62,
   "metadata": {},
   "outputs": [
    {
     "name": "stdout",
     "output_type": "stream",
     "text": [
      "0.0\n"
     ]
    }
   ],
   "source": [
    "x, y = 0, 5\n",
    "success, result = divide(x, y)\n",
    "if not success:\n",
    "    print('Invalid inputs')\n",
    "else:\n",
    "    print(result)"
   ]
  },
  {
   "cell_type": "markdown",
   "metadata": {},
   "source": [
    "(보다 나은) 두번째 대안으로 함수에서 에러가 발생하면 그냥 에러를 raise해서 호출한쪽에서 에러를 처리하게 하는 것이다. "
   ]
  },
  {
   "cell_type": "code",
   "execution_count": 63,
   "metadata": {
    "collapsed": true
   },
   "outputs": [],
   "source": [
    "def divide(a, b):\n",
    "    try:\n",
    "        return a / b\n",
    "    except ZeroDivisionError as e:\n",
    "        raise ValueError('Invalid inputs') from e"
   ]
  },
  {
   "cell_type": "code",
   "execution_count": 65,
   "metadata": {},
   "outputs": [
    {
     "name": "stdout",
     "output_type": "stream",
     "text": [
      "Invalid inputs\n"
     ]
    }
   ],
   "source": [
    "x, y = 1, 0\n",
    "try:\n",
    "    result = divide(x, y)\n",
    "except ValueError:\n",
    "    print('Invalid inputs')\n",
    "else:\n",
    "    print('Result is %.1f' %result)"
   ]
  },
  {
   "cell_type": "code",
   "execution_count": 66,
   "metadata": {},
   "outputs": [
    {
     "name": "stdout",
     "output_type": "stream",
     "text": [
      "Result is 0.0\n"
     ]
    }
   ],
   "source": [
    "x, y = 0, 5\n",
    "try:\n",
    "    result = divide(x, y)\n",
    "except ValueError:\n",
    "    print('Invalid inputs')\n",
    "else:\n",
    "    print('Result is %.1f' %result)"
   ]
  },
  {
   "cell_type": "markdown",
   "metadata": {},
   "source": [
    "## Item 15 : Know How Closures Interact with Variable Scope"
   ]
  },
  {
   "cell_type": "markdown",
   "metadata": {},
   "source": [
    "주어진 숫자들을 정렬하되, 특별한 그룹에 속하는 숫자들은 그렇지 않은 숫자들보다 우선하도록 정렬하는 함수를 만들고 싶다.\n",
    "예를들어 정렬할 숫자로 8, 3, 1, 2, 5, 4, 7, 6가 주어지고, 특별한 그룹으로 2, 3, 5, 7가 주어지는 경우 아래와 같은 결과를 얻고 싶다.    \n",
    "2, 3, 5, 7, 1, 4, 6, 8   \n",
    "이런 함수를 아래와 같이 작성해볼 수 있다."
   ]
  },
  {
   "cell_type": "code",
   "execution_count": 78,
   "metadata": {
    "collapsed": true
   },
   "outputs": [],
   "source": [
    "def sort_priority(values, group):\n",
    "    def helper(x):\n",
    "        if x in group:\n",
    "            return (0, x)\n",
    "        return (1, x)\n",
    "    values.sort(key=helper)"
   ]
  },
  {
   "cell_type": "code",
   "execution_count": 79,
   "metadata": {},
   "outputs": [
    {
     "name": "stdout",
     "output_type": "stream",
     "text": [
      "[2, 3, 5, 7, 1, 4, 6, 8]\n"
     ]
    }
   ],
   "source": [
    "numbers = [8, 3, 1, 2, 5, 4, 7, 6]\n",
    "group = {2, 3, 5, 7}\n",
    "sort_priority(numbers, group)\n",
    "print(numbers)"
   ]
  },
  {
   "cell_type": "markdown",
   "metadata": {},
   "source": [
    "위 함수 정의에서 살펴볼 것은 아래 3가지이다.\n",
    "- 위 helper 함수는 closure이다. (helper 함수는 local scope 밖의 변수인 group에 접근)\n",
    "- Python에서 함수는 first class object이다. (함수를 인자로 전달하거나, 함수의 결과로 반환하거나, 변수에 할당할 수 있다.)\n",
    "- tuple간의 대소 비교는 0번째 원소부터 순차적으로 진행된다. (아래 코드 참고)"
   ]
  },
  {
   "cell_type": "code",
   "execution_count": 80,
   "metadata": {
    "scrolled": true
   },
   "outputs": [
    {
     "name": "stdout",
     "output_type": "stream",
     "text": [
      "False\n",
      "False\n"
     ]
    }
   ],
   "source": [
    "# tuple의 비교 연산은 0번째 원소부터 진행됨\n",
    "print((1, 2, 3) > (1, 2, 4))\n",
    "print((1, 2, 3) > (2, 2, 3))"
   ]
  },
  {
   "cell_type": "markdown",
   "metadata": {},
   "source": [
    "숫자들을 전달한 후 group에 속하는 숫자들이 등장 했는지 확인하기 위해 아래와 같이 found 함수를 추가해볼 수 있다."
   ]
  },
  {
   "cell_type": "code",
   "execution_count": 81,
   "metadata": {
    "collapsed": true
   },
   "outputs": [],
   "source": [
    "def sort_priority2(values, group):\n",
    "    found = False\n",
    "    def helper(x):\n",
    "        if x in group:\n",
    "            found = True\n",
    "            return (0, x)\n",
    "        return (1, x)\n",
    "    values.sort(key=helper)\n",
    "    return found"
   ]
  },
  {
   "cell_type": "code",
   "execution_count": 82,
   "metadata": {},
   "outputs": [
    {
     "name": "stdout",
     "output_type": "stream",
     "text": [
      "[2, 3, 5, 7, 1, 4, 6, 8] , False\n"
     ]
    }
   ],
   "source": [
    "numbers = [8, 3, 1, 2, 5, 4, 7, 6]\n",
    "group = {2, 3, 5, 7}\n",
    "is_found = sort_priority2(numbers, group)\n",
    "print(numbers, ',', is_found)"
   ]
  },
  {
   "cell_type": "markdown",
   "metadata": {},
   "source": [
    "그런데 분명 numbers의 숫자들 중 group에 속하는 값이 있음에도 False가 출력되고 있다. 이는 변수를 읽을 때와 쓸 때 scope을 판단하는 기준이 달라서 종종 범하게 되는 문제이다.\n",
    "\n",
    "변수를 읽을 때에는 1. 현재 함수의 scope, 2. 함수 밖의 scope, 3. 해당 코드가 포함된 모듈, 4. built-in scope 을 차례로 찾는다.    \n",
    "반면 변수를 쓸 때에는 현재 scope에 선언된 변수가 있다면 그것에 기록할 것이고, 만약 없다면 현재 scope에 새로운 변수를 선언고 기록한다. 즉 변수를 쓸 때에는 현재 scope밖을 살피지 않는다. 또한 주의할 점은 변수를 읽는 것과 쓰는 것이 한 scope안에 함께 있다면 그 변수는 local 변수로 간주되며, 이때 만약 변수를 읽는 것이 먼저 등장한다면 (변수 할당 전에 변수 값에 접근하므로) 에러가 발생한다.\n",
    "\n",
    "위 문제를 해결하려면 어떻게 해야할까?\n",
    "\n",
    "해결책은 두가지인데 우선 첫번째는 Python3에서 추가된 nonlocal 키워드를 사용하는 것이다.      \n",
    "즉 local scope에서 해당 변수는 local 변수가 아니다라는 것을 명시하는 것으로서,       \n",
    "enclosing scope(local scope 바로 밖)에 선언된 해당 변수를 찾아 사용하게 된다."
   ]
  },
  {
   "cell_type": "code",
   "execution_count": 83,
   "metadata": {
    "collapsed": true
   },
   "outputs": [],
   "source": [
    "def sort_priority3(values, group):\n",
    "    found = False\n",
    "    def helper(x):\n",
    "        nonlocal found\n",
    "        if x in group:\n",
    "            found = True\n",
    "            return (0, x)\n",
    "        return (1, x)\n",
    "    values.sort(key=helper)\n",
    "    return found"
   ]
  },
  {
   "cell_type": "code",
   "execution_count": 84,
   "metadata": {},
   "outputs": [
    {
     "name": "stdout",
     "output_type": "stream",
     "text": [
      "[2, 3, 5, 7, 1, 4, 6, 8] , True\n"
     ]
    }
   ],
   "source": [
    "numbers = [8, 3, 1, 2, 5, 4, 7, 6]\n",
    "group = {2, 3, 5, 7}\n",
    "is_found = sort_priority3(numbers, group)\n",
    "print(numbers, ',', is_found)"
   ]
  },
  {
   "cell_type": "markdown",
   "metadata": {},
   "source": [
    "두번째 해결책은 scope 밖에 있는 변수를 list, dictionary, set혹은 직접 정의한 class와 같은 mutable type을 사용하고, 이 변수의 멤버 함수를 이용하여 값을 읽거나 쓰는 것이다. (found[0] = True는 사실 found.`__setitem__`(True) 로 동작한다.) "
   ]
  },
  {
   "cell_type": "code",
   "execution_count": 85,
   "metadata": {
    "collapsed": true
   },
   "outputs": [],
   "source": [
    "def sort_priority4(values, group):\n",
    "    found = [None]\n",
    "    def helper(x):\n",
    "        if x in group:\n",
    "            found[0] = True\n",
    "            return (0, x)\n",
    "        return (1, x)\n",
    "    values.sort(key=helper)\n",
    "    return found[0]"
   ]
  },
  {
   "cell_type": "code",
   "execution_count": 86,
   "metadata": {},
   "outputs": [
    {
     "name": "stdout",
     "output_type": "stream",
     "text": [
      "[2, 3, 5, 7, 1, 4, 6, 8] , True\n"
     ]
    }
   ],
   "source": [
    "numbers = [8, 3, 1, 2, 5, 4, 7, 6]\n",
    "group = {2, 3, 5, 7}\n",
    "is_found = sort_priority4(numbers, group)\n",
    "print(numbers, ',', is_found)"
   ]
  },
  {
   "cell_type": "markdown",
   "metadata": {},
   "source": [
    "그런데 그런데 그런데...\n",
    "\n",
    "아주 단순한 경우가 아니면 가능한한 nonlocal를 사용하지 않는 것을 추천한다. 구조가 복잡해지면 어떤 변수를 참고하고 있는 것인지 찾기가 어려워지기 때문이다. 부득이 복잡한 구조에서 nonlocal 과 같은 변수 사용이 필요하다면 아래와 같이 inner function을 class로, nonlocal 변수를 클래스의 멤버 변수로 바꾸면 가독성을 높일 수 있다."
   ]
  },
  {
   "cell_type": "code",
   "execution_count": 87,
   "metadata": {
    "collapsed": true
   },
   "outputs": [],
   "source": [
    "class Sorter(object):\n",
    "    def __init__(self, group):\n",
    "        self.group = group\n",
    "        self.found = False\n",
    "    \n",
    "    def __call__(self, x):\n",
    "        if x in self.group:\n",
    "            self.found = True\n",
    "            return (0, x)\n",
    "        return (1, x)"
   ]
  },
  {
   "cell_type": "code",
   "execution_count": 88,
   "metadata": {},
   "outputs": [
    {
     "name": "stdout",
     "output_type": "stream",
     "text": [
      "[2, 3, 5, 7, 1, 4, 6, 8] , True\n"
     ]
    }
   ],
   "source": [
    "numbers = [8, 3, 1, 2, 5, 4, 7, 6]\n",
    "group = {2, 3, 5, 7}\n",
    "sorter = Sorter(group)\n",
    "numbers.sort(key=sorter)\n",
    "print(numbers, ',', sorter.found)"
   ]
  },
  {
   "cell_type": "markdown",
   "metadata": {},
   "source": [
    "---"
   ]
  },
  {
   "cell_type": "markdown",
   "metadata": {},
   "source": [
    "## if if if ..."
   ]
  },
  {
   "cell_type": "markdown",
   "metadata": {},
   "source": [
    "아래와 같이 x값을 테스트 하는 함수가 있고"
   ]
  },
  {
   "cell_type": "code",
   "execution_count": null,
   "metadata": {
    "collapsed": true
   },
   "outputs": [],
   "source": [
    "def test_if(x):\n",
    "    if x:\n",
    "        print('O', end='')\n",
    "    else:\n",
    "        print('X', end='')\n",
    "    \n",
    "    if x is True:\n",
    "        print('O', end='')\n",
    "    else:\n",
    "        print('X', end='')\n",
    "        \n",
    "    if x == True:\n",
    "        print('O', end='')\n",
    "    else:\n",
    "        print('X', end='')"
   ]
  },
  {
   "cell_type": "markdown",
   "metadata": {},
   "source": [
    "x가 ﻿2, 1, 0, -1, -2, None, '', True 인 각각의 경우 출력값은?"
   ]
  },
  {
   "cell_type": "code",
   "execution_count": 22,
   "metadata": {},
   "outputs": [
    {
     "name": "stdout",
     "output_type": "stream",
     "text": [
      "OXX"
     ]
    }
   ],
   "source": [
    "test_if(2)"
   ]
  },
  {
   "cell_type": "code",
   "execution_count": 23,
   "metadata": {},
   "outputs": [
    {
     "name": "stdout",
     "output_type": "stream",
     "text": [
      "OXO"
     ]
    }
   ],
   "source": [
    "test_if(1)"
   ]
  },
  {
   "cell_type": "code",
   "execution_count": 24,
   "metadata": {},
   "outputs": [
    {
     "name": "stdout",
     "output_type": "stream",
     "text": [
      "XXX"
     ]
    }
   ],
   "source": [
    "test_if(0)"
   ]
  },
  {
   "cell_type": "code",
   "execution_count": 25,
   "metadata": {},
   "outputs": [
    {
     "name": "stdout",
     "output_type": "stream",
     "text": [
      "OXX"
     ]
    }
   ],
   "source": [
    "test_if(-1)"
   ]
  },
  {
   "cell_type": "code",
   "execution_count": 26,
   "metadata": {},
   "outputs": [
    {
     "name": "stdout",
     "output_type": "stream",
     "text": [
      "OXX"
     ]
    }
   ],
   "source": [
    "test_if(-2)"
   ]
  },
  {
   "cell_type": "code",
   "execution_count": 27,
   "metadata": {},
   "outputs": [
    {
     "name": "stdout",
     "output_type": "stream",
     "text": [
      "XXX"
     ]
    }
   ],
   "source": [
    "test_if(None)"
   ]
  },
  {
   "cell_type": "code",
   "execution_count": 28,
   "metadata": {},
   "outputs": [
    {
     "name": "stdout",
     "output_type": "stream",
     "text": [
      "XXX"
     ]
    }
   ],
   "source": [
    "test_if('')"
   ]
  },
  {
   "cell_type": "code",
   "execution_count": 29,
   "metadata": {},
   "outputs": [
    {
     "name": "stdout",
     "output_type": "stream",
     "text": [
      "OOO"
     ]
    }
   ],
   "source": [
    "test_if(True)"
   ]
  },
  {
   "cell_type": "markdown",
   "metadata": {},
   "source": [
    "- `if x:`는 x가 0, None, ''이 아니면 True.    \n",
    "- `if x is True`는 x가 True일때만 True.    \n",
    "- `if x == True`는 x가 1이나 True이면 True."
   ]
  },
  {
   "cell_type": "markdown",
   "metadata": {},
   "source": [
    "## Metaclass"
   ]
  },
  {
   "cell_type": "markdown",
   "metadata": {},
   "source": [
    "."
   ]
  },
  {
   "cell_type": "markdown",
   "metadata": {},
   "source": [
    "## Decorator"
   ]
  },
  {
   "cell_type": "markdown",
   "metadata": {},
   "source": [
    "Decorator는 어떤 함수를 입력으로 받아 이 함수에 전/후 처리를 더하거나 전혀 새로운 함수를 반환하는 '호출 가능한 어떤 것'(callable)을 말한다. 이 callable은 함수(decorator 함수) 형태로 정의되고, 대상 함수 정의앞에 @{decorator 함수}를 명시하는 형태로 사용된다.\n",
    "\n",
    "아래 코드에서 decorator 함수의 이름은 deco이고, 대상함수명은 'target'이며 이 함수 정의 앞에 '@deco'를 명시하고 있다. 즉 target 함수는 deco 함수의 인자로 입력되고 inner라는 새로운 함수로 바뀌고 있다."
   ]
  },
  {
   "cell_type": "code",
   "execution_count": 35,
   "metadata": {},
   "outputs": [
    {
     "name": "stdout",
     "output_type": "stream",
     "text": [
      "Decorating func: <function target at 0x000001C90812A840>\n"
     ]
    }
   ],
   "source": [
    "def deco(func):\n",
    "    print('Decorating func:', func)\n",
    "    \n",
    "    def inner():\n",
    "        print('Inner function')\n",
    "        \n",
    "    return inner\n",
    "\n",
    "@deco\n",
    "def target():\n",
    "    print('Running target()')\n",
    "\n",
    "decorated_target = target"
   ]
  },
  {
   "cell_type": "code",
   "execution_count": 38,
   "metadata": {
    "scrolled": false
   },
   "outputs": [
    {
     "name": "stdout",
     "output_type": "stream",
     "text": [
      "Inner function\n"
     ]
    }
   ],
   "source": [
    "decorated_target()"
   ]
  },
  {
   "cell_type": "markdown",
   "metadata": {},
   "source": [
    "사실 위 코드는 아래 코드와 같으며, 함수를 decorator 함수로 양념/포장/데코하는 것이다."
   ]
  },
  {
   "cell_type": "code",
   "execution_count": 39,
   "metadata": {},
   "outputs": [
    {
     "name": "stdout",
     "output_type": "stream",
     "text": [
      "Decorating func: <function target at 0x000001C9080FABF8>\n"
     ]
    }
   ],
   "source": [
    "def deco(func):\n",
    "    print('Decorating func:', func)\n",
    "    \n",
    "    def inner():\n",
    "        print('Inner function')\n",
    "        \n",
    "    return inner\n",
    "\n",
    "def target():\n",
    "    print('Running target()')\n",
    "\n",
    "decorated_target = deco(target)"
   ]
  },
  {
   "cell_type": "code",
   "execution_count": 40,
   "metadata": {},
   "outputs": [
    {
     "name": "stdout",
     "output_type": "stream",
     "text": [
      "Inner function\n"
     ]
    }
   ],
   "source": [
    "decorated_target()"
   ]
  },
  {
   "cell_type": "markdown",
   "metadata": {},
   "source": [
    "위와 같이 명시적으로 함수를 인자로 하는 함수를 호출하는 것과 Decorator의 다른점은 decorator를 사용할 경우 decorator 함수 내부에서의 처리는 타겟 하수가 정의된 시점(import 시점, loading 시점)이라는 것이다. 물론 대상 함수(위 예에서는 target함수)가 실행되는 시점은 그 함수가 호출되는 시점(runtime)이다.\n",
    "\n",
    "실제 구현에서는 decorator 함수와 대상 함수가 다른 모듈에서 정의되는 경우가 많으며, 입력받은 함수와 전혀 다른 함수를 반환하는 경우가 대부분이다. 물론 입력 받은 함수와 동일한 함수를 반환하는 경우도 있으나 이런 것은 보통 웹 프레임웍에서 URL 패턴을 등록하는 것과 같이 특정 목적의 함수들을 관리하려 할 때 사용된다."
   ]
  },
  {
   "cell_type": "markdown",
   "metadata": {},
   "source": [
    "## Closures"
   ]
  },
  {
   "cell_type": "markdown",
   "metadata": {},
   "source": [
    "Closure는 자신이 정의하지 않은 nonglobal 변수를 포함하는 함수를 말한다. (a closure is a function that retains the bindings of the free variables that exist when the function is defined, so that they can be used later when the function is invoked and the defining scope is no longer available... / Fluent Python, p201)\n",
    "\n",
    "예를들어 아래 'printer'는 inner_printer에서 정의하지 않은 (outer_printer의 local)변수 x를 포함하고 있으며, 호출시에는 y값만 인자로 전달한다. \n",
    "\n",
    "변수 x는 outer_printer의 scope에 존재하므로 'return inner_printer' 이후 이 scope은 존재하지 않고 x도 사라지는 것처럼 보이지만, 이 변수는 inner_printer에서 **사용**(읽기)되면서 이 함수 정의에 포함되어 전달된다.\n",
    "\n",
    "주의할점은 **사용**이 읽기가 아니라 쓰기일 경우 그 의미가 크게 달라지는데.. 이 부분은 나중에 설명하기로 한다."
   ]
  },
  {
   "cell_type": "code",
   "execution_count": 114,
   "metadata": {
    "collapsed": true
   },
   "outputs": [],
   "source": [
    "def outer_printer(x):\n",
    "    def inner_printer(y):\n",
    "        print('closure variable:', x)\n",
    "        print('local variable  :', y)\n",
    "        \n",
    "    return inner_printer"
   ]
  },
  {
   "cell_type": "code",
   "execution_count": 115,
   "metadata": {
    "collapsed": true
   },
   "outputs": [],
   "source": [
    "printer = outer_printer(x=100)"
   ]
  },
  {
   "cell_type": "code",
   "execution_count": 116,
   "metadata": {},
   "outputs": [
    {
     "name": "stdout",
     "output_type": "stream",
     "text": [
      "closure variable: 100\n",
      "local variable  : 200\n"
     ]
    }
   ],
   "source": [
    "printer(y=200)"
   ]
  },
  {
   "cell_type": "markdown",
   "metadata": {},
   "source": [
    "closure는 함수의 `__closure__`변수를 통해 접근할 수 있다."
   ]
  },
  {
   "cell_type": "code",
   "execution_count": 117,
   "metadata": {
    "scrolled": false
   },
   "outputs": [
    {
     "name": "stdout",
     "output_type": "stream",
     "text": [
      "(<cell at 0x000001C90810BB28: int object at 0x0000000056B9F630>,)\n",
      "100\n"
     ]
    }
   ],
   "source": [
    "print(printer.__closure__)\n",
    "print(printer.__closure__[0].cell_contents)"
   ]
  },
  {
   "cell_type": "markdown",
   "metadata": {},
   "source": [
    "또한 `__code__.co_freevars`를 통해 closure 변수의 이름을 확인할 수 있다."
   ]
  },
  {
   "cell_type": "code",
   "execution_count": 118,
   "metadata": {},
   "outputs": [
    {
     "data": {
      "text/plain": [
       "('x',)"
      ]
     },
     "execution_count": 118,
     "metadata": {},
     "output_type": "execute_result"
    }
   ],
   "source": [
    "printer.__code__.co_freevars"
   ]
  },
  {
   "cell_type": "markdown",
   "metadata": {},
   "source": [
    "참고로 함수의 local 변수는 아래와 같이 `__code__.co_varnames`로 확인할 수 있다."
   ]
  },
  {
   "cell_type": "code",
   "execution_count": 121,
   "metadata": {},
   "outputs": [
    {
     "data": {
      "text/plain": [
       "('y',)"
      ]
     },
     "execution_count": 121,
     "metadata": {},
     "output_type": "execute_result"
    }
   ],
   "source": [
    "printer.__code__.co_varnames"
   ]
  },
  {
   "cell_type": "markdown",
   "metadata": {},
   "source": [
    "참고로2 앞서 예제 코드는 아래와 같이 구현할수도 있다."
   ]
  },
  {
   "cell_type": "code",
   "execution_count": 125,
   "metadata": {
    "collapsed": true
   },
   "outputs": [],
   "source": [
    "class OuterPrinter:\n",
    "    def __init__(self, x):\n",
    "        self.x = x\n",
    "        \n",
    "    def __call__(self, y):\n",
    "        print('closure variable:', self.x)\n",
    "        print('local variable  :', y)"
   ]
  },
  {
   "cell_type": "code",
   "execution_count": 126,
   "metadata": {
    "collapsed": true
   },
   "outputs": [],
   "source": [
    "printer = OuterPrinter(x=100)"
   ]
  },
  {
   "cell_type": "code",
   "execution_count": 127,
   "metadata": {},
   "outputs": [
    {
     "name": "stdout",
     "output_type": "stream",
     "text": [
      "closure variable: 100\n",
      "local variable  : 200\n"
     ]
    }
   ],
   "source": [
    "printer(200)"
   ]
  },
  {
   "cell_type": "markdown",
   "metadata": {},
   "source": [
    "참고 페이지 : https://www.programiz.com/python-programming/closure"
   ]
  },
  {
   "cell_type": "markdown",
   "metadata": {},
   "source": [
    "## Variable Scope rule"
   ]
  },
  {
   "cell_type": "markdown",
   "metadata": {},
   "source": [
    "아래 함수 f1에서 선언된 지역변수 a는 성공적으로 그 값이 출력된다. 그리고 변수 b는 선언되어 있지 않으므로 에러가 발생된다."
   ]
  },
  {
   "cell_type": "code",
   "execution_count": 1,
   "metadata": {},
   "outputs": [
    {
     "name": "stdout",
     "output_type": "stream",
     "text": [
      "3\n"
     ]
    },
    {
     "ename": "NameError",
     "evalue": "name 'b' is not defined",
     "output_type": "error",
     "traceback": [
      "\u001b[1;31m---------------------------------------------------------------------------\u001b[0m",
      "\u001b[1;31mNameError\u001b[0m                                 Traceback (most recent call last)",
      "\u001b[1;32m<ipython-input-1-009ad9378744>\u001b[0m in \u001b[0;36m<module>\u001b[1;34m()\u001b[0m\n\u001b[0;32m      3\u001b[0m     \u001b[0mprint\u001b[0m\u001b[1;33m(\u001b[0m\u001b[0mb\u001b[0m\u001b[1;33m)\u001b[0m\u001b[1;33m\u001b[0m\u001b[0m\n\u001b[0;32m      4\u001b[0m \u001b[1;33m\u001b[0m\u001b[0m\n\u001b[1;32m----> 5\u001b[1;33m \u001b[0mf1\u001b[0m\u001b[1;33m(\u001b[0m\u001b[1;36m3\u001b[0m\u001b[1;33m)\u001b[0m\u001b[1;33m\u001b[0m\u001b[0m\n\u001b[0m",
      "\u001b[1;32m<ipython-input-1-009ad9378744>\u001b[0m in \u001b[0;36mf1\u001b[1;34m(a)\u001b[0m\n\u001b[0;32m      1\u001b[0m \u001b[1;32mdef\u001b[0m \u001b[0mf1\u001b[0m\u001b[1;33m(\u001b[0m\u001b[0ma\u001b[0m\u001b[1;33m)\u001b[0m\u001b[1;33m:\u001b[0m\u001b[1;33m\u001b[0m\u001b[0m\n\u001b[0;32m      2\u001b[0m     \u001b[0mprint\u001b[0m\u001b[1;33m(\u001b[0m\u001b[0ma\u001b[0m\u001b[1;33m)\u001b[0m\u001b[1;33m\u001b[0m\u001b[0m\n\u001b[1;32m----> 3\u001b[1;33m     \u001b[0mprint\u001b[0m\u001b[1;33m(\u001b[0m\u001b[0mb\u001b[0m\u001b[1;33m)\u001b[0m\u001b[1;33m\u001b[0m\u001b[0m\n\u001b[0m\u001b[0;32m      4\u001b[0m \u001b[1;33m\u001b[0m\u001b[0m\n\u001b[0;32m      5\u001b[0m \u001b[0mf1\u001b[0m\u001b[1;33m(\u001b[0m\u001b[1;36m3\u001b[0m\u001b[1;33m)\u001b[0m\u001b[1;33m\u001b[0m\u001b[0m\n",
      "\u001b[1;31mNameError\u001b[0m: name 'b' is not defined"
     ]
    }
   ],
   "source": [
    "def f1(a):\n",
    "    print(a)\n",
    "    print(b)\n",
    "\n",
    "f1(3)"
   ]
  },
  {
   "cell_type": "markdown",
   "metadata": {},
   "source": [
    "아래와 같이 함수 f1 밖에서 (전역변수) b를 선언하고, 다시 실행하면 b가 정상적으로 출력된다.\n",
    "\n",
    "즉 변수를 읽을 때에는 우선 현재 **함수의 범위(scope)**를 찾고 없으면 차례로 **함수 밖의 범위**, **해당 코드가 포함된 모듈(=global scope)**, **built-in 범위**에서 해당 이름의 변수를 찾는다."
   ]
  },
  {
   "cell_type": "code",
   "execution_count": 2,
   "metadata": {},
   "outputs": [
    {
     "name": "stdout",
     "output_type": "stream",
     "text": [
      "3\n",
      "6\n"
     ]
    }
   ],
   "source": [
    "b = 6\n",
    "f1(3)"
   ]
  },
  {
   "cell_type": "markdown",
   "metadata": {},
   "source": [
    "---"
   ]
  },
  {
   "cell_type": "markdown",
   "metadata": {},
   "source": [
    "그런데 아래 코드를 보면    \n",
    "함수 f1에서는 변수 b를 읽으려 하고    \n",
    "함수 f2에서는 변수 b에 값을 할당하려 하고 있다.\n",
    "\n",
    "3이 출력된 것으로 보아 (지역)변수 a를 읽는데에는 문제가 없었으나, 변수 b를 print하려 할 때 문제가 발생한다.     \n",
    "왜 에러가 발생한 걸까?\n",
    "\n",
    "그 이유는 함수 f2가 컴파일될 때 함수내 변수들의 성격을 미리 정의하는데, 변수 b는 'b = 9'와 같이 할당이 일어나기 때문에 **지역 변수**로 결정된다. 이후 실행과정에서 'print(b)'에서 변수 b값을 읽어와야 하는데, 지역변수 b는 아직 값이 할당되지 않았기 때문에 에러가 발생한다.\n",
    "\n",
    "물론 할당하는 것 조차 함수 밖의 범위들을 찾아보고 같은 이름의 변수가 있다면 그 변수값을 수정하도록 할 수 있으나 알수 없는 범위의 변수가 수정되는 것을 막기 위한 Python의 설계적 선택이라 할 수 있다.(javascript에서는 지역변수가 없을 경우 외부 범위의 변수를 수정한다.)\n",
    "\n",
    "즉 변수 할당에서는 함수 내 범위의 변수에만 적용된다."
   ]
  },
  {
   "cell_type": "code",
   "execution_count": 21,
   "metadata": {
    "collapsed": true
   },
   "outputs": [],
   "source": [
    "b = 6\n",
    "def f2(a):\n",
    "    print(a)\n",
    "    print(b)\n",
    "    b = 9"
   ]
  },
  {
   "cell_type": "code",
   "execution_count": 22,
   "metadata": {},
   "outputs": [
    {
     "name": "stdout",
     "output_type": "stream",
     "text": [
      "3\n"
     ]
    },
    {
     "ename": "UnboundLocalError",
     "evalue": "local variable 'b' referenced before assignment",
     "output_type": "error",
     "traceback": [
      "\u001b[1;31m---------------------------------------------------------------------------\u001b[0m",
      "\u001b[1;31mUnboundLocalError\u001b[0m                         Traceback (most recent call last)",
      "\u001b[1;32m<ipython-input-22-495132a335c0>\u001b[0m in \u001b[0;36m<module>\u001b[1;34m()\u001b[0m\n\u001b[1;32m----> 1\u001b[1;33m \u001b[0mf2\u001b[0m\u001b[1;33m(\u001b[0m\u001b[1;36m3\u001b[0m\u001b[1;33m)\u001b[0m\u001b[1;33m\u001b[0m\u001b[0m\n\u001b[0m",
      "\u001b[1;32m<ipython-input-21-0da5823e4f3b>\u001b[0m in \u001b[0;36mf2\u001b[1;34m(a)\u001b[0m\n\u001b[0;32m      2\u001b[0m \u001b[1;32mdef\u001b[0m \u001b[0mf2\u001b[0m\u001b[1;33m(\u001b[0m\u001b[0ma\u001b[0m\u001b[1;33m)\u001b[0m\u001b[1;33m:\u001b[0m\u001b[1;33m\u001b[0m\u001b[0m\n\u001b[0;32m      3\u001b[0m     \u001b[0mprint\u001b[0m\u001b[1;33m(\u001b[0m\u001b[0ma\u001b[0m\u001b[1;33m)\u001b[0m\u001b[1;33m\u001b[0m\u001b[0m\n\u001b[1;32m----> 4\u001b[1;33m     \u001b[0mprint\u001b[0m\u001b[1;33m(\u001b[0m\u001b[0mb\u001b[0m\u001b[1;33m)\u001b[0m\u001b[1;33m\u001b[0m\u001b[0m\n\u001b[0m\u001b[0;32m      5\u001b[0m     \u001b[0mb\u001b[0m \u001b[1;33m=\u001b[0m \u001b[1;36m9\u001b[0m\u001b[1;33m\u001b[0m\u001b[0m\n",
      "\u001b[1;31mUnboundLocalError\u001b[0m: local variable 'b' referenced before assignment"
     ]
    }
   ],
   "source": [
    "f2(3)"
   ]
  },
  {
   "cell_type": "markdown",
   "metadata": {},
   "source": [
    "물론 종종 변수 밖의 변수값을 수정할 필요가 있을 수 있다. 이때 사용하는 것이 global 키워드이다.   \n",
    "(혹은 global 키워드 없이 list같은 mutable 변수를 이용하는 방법도 있다.)"
   ]
  },
  {
   "cell_type": "code",
   "execution_count": 18,
   "metadata": {
    "collapsed": true
   },
   "outputs": [],
   "source": [
    "b = 6\n",
    "def f3(a):\n",
    "    global b\n",
    "    print(a)\n",
    "    print(b)\n",
    "    b = 9"
   ]
  },
  {
   "cell_type": "code",
   "execution_count": 19,
   "metadata": {},
   "outputs": [
    {
     "name": "stdout",
     "output_type": "stream",
     "text": [
      "3\n",
      "6\n"
     ]
    }
   ],
   "source": [
    "f3(3)"
   ]
  },
  {
   "cell_type": "code",
   "execution_count": 20,
   "metadata": {},
   "outputs": [
    {
     "data": {
      "text/plain": [
       "9"
      ]
     },
     "execution_count": 20,
     "metadata": {},
     "output_type": "execute_result"
    }
   ],
   "source": [
    "b"
   ]
  },
  {
   "cell_type": "markdown",
   "metadata": {},
   "source": [
    "## Item 16: Consider Generators Instead of Returning Lists"
   ]
  },
  {
   "cell_type": "markdown",
   "metadata": {},
   "source": [
    "어떤 목록을 반환하는 함수를 만들 때 list를 반환하기보다는 generator를 사용하는 방법이 더 좋을 수 있다.     \n",
    "예를들어 어떤 문장에서 단어가 시작되는 index들 알고자 한다고 해보자.    \n",
    "우선 간단하게는 아래와 같이 index들을 list 형태로 반환하는 형식으로 구현할 수 있다.   "
   ]
  },
  {
   "cell_type": "code",
   "execution_count": 28,
   "metadata": {
    "collapsed": true
   },
   "outputs": [],
   "source": [
    "def index_words(text):\n",
    "    result = []\n",
    "    if text:\n",
    "        result.append(0)\n",
    "    for index, letter in enumerate(text):\n",
    "        if letter == ' ':\n",
    "            result.append(index + 1)\n",
    "    return result"
   ]
  },
  {
   "cell_type": "code",
   "execution_count": 31,
   "metadata": {},
   "outputs": [
    {
     "name": "stdout",
     "output_type": "stream",
     "text": [
      "[0, 5, 11, 15, 21, 27]\n"
     ]
    }
   ],
   "source": [
    "result = index_words('Four score and seven years ago')\n",
    "print(result)"
   ]
  },
  {
   "cell_type": "markdown",
   "metadata": {},
   "source": [
    "그런데 위와 같은 방식의 함수 구현은 몇가지 문제점을 갖고 있다."
   ]
  },
  {
   "cell_type": "markdown",
   "metadata": {},
   "source": [
    "첫번째 문제는 코드 가독성이 떨어지고 지저분하다는 것이다. 빈칸이 보이면 index+1을 전달하는 것이 핵심인데, 위 코드에서는 result list에 append하는 등의 작업이 더 부각되어 보인다.     \n",
    "이런 방식의 구현보다는 아래와 같이 generator를 사용하는 권장한다. (generator는 yield를 이용해 결과를 반환하는 함수를 의미함)"
   ]
  },
  {
   "cell_type": "code",
   "execution_count": 32,
   "metadata": {
    "collapsed": true
   },
   "outputs": [],
   "source": [
    "def index_words_iter(text):\n",
    "    if text:\n",
    "        yield 0\n",
    "    for index, letter in enumerate(text):\n",
    "        if letter == ' ':\n",
    "            yield index + 1"
   ]
  },
  {
   "cell_type": "code",
   "execution_count": 33,
   "metadata": {},
   "outputs": [
    {
     "name": "stdout",
     "output_type": "stream",
     "text": [
      "[0, 5, 11, 15, 21, 27]\n"
     ]
    }
   ],
   "source": [
    "result = index_words('Four score and seven years ago')\n",
    "print(result)"
   ]
  },
  {
   "cell_type": "markdown",
   "metadata": {},
   "source": [
    "두번재 문제는 list 반환으로 구현할 경우 반환할 list의 크기에 따라 out of memory가 발생할 수 있다는 점이다.    \n",
    "반면 generator를 사용할 경우 한번 반환(yield)하는 값의 크기만큼의 메모리로 충분하다.    \n",
    "예를들어 파일을 읽어 단어가 시작되는 index들을 알고자 한다면 아래와 같이 generator를 이용해 구현할 수 있다."
   ]
  },
  {
   "cell_type": "code",
   "execution_count": 1,
   "metadata": {
    "collapsed": true
   },
   "outputs": [],
   "source": [
    "import os"
   ]
  },
  {
   "cell_type": "code",
   "execution_count": 2,
   "metadata": {},
   "outputs": [
    {
     "data": {
      "text/plain": [
       "'D:\\\\_PlayGround\\\\Github\\\\pg\\\\dev_python_data_eng'"
      ]
     },
     "execution_count": 2,
     "metadata": {},
     "output_type": "execute_result"
    }
   ],
   "source": [
    "os.getcwd()"
   ]
  },
  {
   "cell_type": "code",
   "execution_count": 36,
   "metadata": {
    "collapsed": true
   },
   "outputs": [],
   "source": [
    "def index_file(handle):\n",
    "    offset = 0\n",
    "    for line in handle:\n",
    "        if line:\n",
    "            yield offset  # Starting index of line\n",
    "        for letter in line:\n",
    "            offset += 1\n",
    "            if letter == ' ':\n",
    "                yield offset"
   ]
  },
  {
   "cell_type": "code",
   "execution_count": 37,
   "metadata": {},
   "outputs": [
    {
     "name": "stdout",
     "output_type": "stream",
     "text": [
      "[0, 4, 5, 15, 27, 30, 34, 43, 44, 45]\n"
     ]
    }
   ],
   "source": [
    "from itertools import islice\n",
    "\n",
    "file_path = './data/data.txt'\n",
    "with open(file_path, 'r') as f:\n",
    "    it = index_file(f)\n",
    "    results = islice(it, 0, 10)\n",
    "    print(list(results))"
   ]
  },
  {
   "cell_type": "markdown",
   "metadata": {
    "collapsed": true
   },
   "source": [
    "## Iterables, Iterators, and Generators"
   ]
  },
  {
   "cell_type": "markdown",
   "metadata": {},
   "source": [
    "- Iterator, Iterable, Generator를 비유하여 설명하면 Iterator는 사서, Iterable은 책꽃이, Generator는 작가라고 할 수 있다."
   ]
  },
  {
   "cell_type": "markdown",
   "metadata": {},
   "source": [
    "---"
   ]
  },
  {
   "cell_type": "markdown",
   "metadata": {},
   "source": [
    "- 간단한 예로 아래 list_fibo는 Sequence type 중 하나인 list 개체로서 피보나치 수 몇개를 담고 있는 iterable이다."
   ]
  },
  {
   "cell_type": "code",
   "execution_count": 37,
   "metadata": {
    "collapsed": true
   },
   "outputs": [],
   "source": [
    "list_fibo = [0, 1, 1, 2, 3, 5, 8, 13, 21, 34]"
   ]
  },
  {
   "cell_type": "markdown",
   "metadata": {},
   "source": [
    "- 아래 it_fibo는 iterator로서 list_fibo의 원소들을 차례대로 접근할 수 있도록 해 준다."
   ]
  },
  {
   "cell_type": "code",
   "execution_count": 38,
   "metadata": {
    "collapsed": true
   },
   "outputs": [],
   "source": [
    "it_fibo = iter(list_fibo)"
   ]
  },
  {
   "cell_type": "markdown",
   "metadata": {},
   "source": [
    "- 아래 gen_fibo 함수는 generator로서, 호출하면 generator object(iterator)를 반환한다. 아래 변수 g는 iterator이다."
   ]
  },
  {
   "cell_type": "code",
   "execution_count": 39,
   "metadata": {
    "collapsed": true
   },
   "outputs": [],
   "source": [
    "def gen_fibo(length=None):\n",
    "    cnt = 1\n",
    "    x, y = 0, 1\n",
    "    while length is None or cnt <= length:\n",
    "        yield x\n",
    "        x, y = y, x + y\n",
    "        cnt += 1"
   ]
  },
  {
   "cell_type": "code",
   "execution_count": 40,
   "metadata": {
    "collapsed": true
   },
   "outputs": [],
   "source": [
    "g = gen_fibo(3)"
   ]
  },
  {
   "cell_type": "markdown",
   "metadata": {},
   "source": [
    "- iterator를 입력으로 next 함수를 호출하면 iterator가 가리키고 있는 데이터에 순차적으로 접근할 수 있다.\n",
    "- iterator가 소진되어 더 이상 내어줄 데이터가 없으면 'StopIteration' 에러가 발생한다."
   ]
  },
  {
   "cell_type": "code",
   "execution_count": 41,
   "metadata": {},
   "outputs": [
    {
     "data": {
      "text/plain": [
       "0"
      ]
     },
     "execution_count": 41,
     "metadata": {},
     "output_type": "execute_result"
    }
   ],
   "source": [
    "next(g)"
   ]
  },
  {
   "cell_type": "code",
   "execution_count": 42,
   "metadata": {},
   "outputs": [
    {
     "data": {
      "text/plain": [
       "1"
      ]
     },
     "execution_count": 42,
     "metadata": {},
     "output_type": "execute_result"
    }
   ],
   "source": [
    "next(g)"
   ]
  },
  {
   "cell_type": "code",
   "execution_count": 43,
   "metadata": {},
   "outputs": [
    {
     "data": {
      "text/plain": [
       "1"
      ]
     },
     "execution_count": 43,
     "metadata": {},
     "output_type": "execute_result"
    }
   ],
   "source": [
    "next(g)"
   ]
  },
  {
   "cell_type": "code",
   "execution_count": 44,
   "metadata": {},
   "outputs": [
    {
     "ename": "StopIteration",
     "evalue": "",
     "output_type": "error",
     "traceback": [
      "\u001b[1;31m---------------------------------------------------------------------------\u001b[0m",
      "\u001b[1;31mStopIteration\u001b[0m                             Traceback (most recent call last)",
      "\u001b[1;32m<ipython-input-44-5f315c5de15b>\u001b[0m in \u001b[0;36m<module>\u001b[1;34m()\u001b[0m\n\u001b[1;32m----> 1\u001b[1;33m \u001b[0mnext\u001b[0m\u001b[1;33m(\u001b[0m\u001b[0mg\u001b[0m\u001b[1;33m)\u001b[0m\u001b[1;33m\u001b[0m\u001b[0m\n\u001b[0m",
      "\u001b[1;31mStopIteration\u001b[0m: "
     ]
    }
   ],
   "source": [
    "next(g)"
   ]
  },
  {
   "cell_type": "markdown",
   "metadata": {},
   "source": [
    "###### Iterable"
   ]
  },
  {
   "cell_type": "markdown",
   "metadata": {},
   "source": [
    "- iterator를 반환하는 `__iter__()` 함수가 구현되어 있다면 iterable이다."
   ]
  },
  {
   "cell_type": "markdown",
   "metadata": {},
   "source": [
    "- 어떤 개체x가 iterable인지 확인하는 가장 좋은 방법은 iter(x)를 호출해보는 것이다. 만약 x가 iterable이라면 iterator가 반환될 것이고 그렇지 않다면 TypeError(C object is not iterable)가 발생할 것이다. (물론 isinstance(x, abc.Iterable)을 사용해도 되지만 이럴 경우 `__init__`는 없고 `__getitem__`만 구현된 경우 iterable이 아니라고 판단한다.)"
   ]
  },
  {
   "cell_type": "markdown",
   "metadata": {},
   "source": [
    "- (파이썬의) 모든 Collection type과 Sqeuence type은 Iterable이다.\n",
    " - built-in Collection type은 set, dict이 있다.(Collection 모듈에도 몇개가 있다.)\n",
    " - built-in Sequence type은 list, tuple, range, str, bytes 등이 있다."
   ]
  },
  {
   "cell_type": "markdown",
   "metadata": {},
   "source": [
    "- `__getitem__`이 구현되어 있다면 sequence로 취급받는다. 즉 `__getitem__`이 구현되어 iterable이다.(다만 index 0부터 접근 가능해야함)"
   ]
  },
  {
   "cell_type": "markdown",
   "metadata": {},
   "source": [
    "- iter() 함수는 우선 그 개체에 `__init__`함수가 있는지 확인한다. (구현되어 있다면 `__init__`함수를 호출하여 iterator를 반환한다.). 만약 `__init__`함수가 없다면 `__getitem__`함수가 있는지 확인하고, `__getitem__`함수가 있다면 이를 이용해 iterator를 생성한다.(이때 index 0부터 접근한다. 따라서  `__getitem__`함수만으로 iterator로서 동작하려면 index 0부터 데이터 접근/생성이 가능하도록 구현해야 한다.)"
   ]
  },
  {
   "cell_type": "markdown",
   "metadata": {},
   "source": [
    "- Iterator은 `__iter__`함수가 있으므로 Iterable이지만, Iterable은 `__next__`함수가 없으므로 Iterator가 아니다."
   ]
  },
  {
   "cell_type": "markdown",
   "metadata": {},
   "source": [
    "###### Iterator"
   ]
  },
  {
   "cell_type": "markdown",
   "metadata": {},
   "source": [
    "- 다음 값을 반환하는 인자 없는 `__next__()` 함수와      \n",
    "개체 자신을 반환하는 `__iter__()` 함수가 구현된 개체는 iterator이다."
   ]
  },
  {
   "cell_type": "markdown",
   "metadata": {},
   "source": [
    "- 어떤 개체x가 iterator인지 확인하는 가장 좋은 방법은 isinstance(x, abc.Iterator)를 호출하는 것이다. (이걸 호출하면 `__next__()`함수와 `__iter__` 함수가 구현되어 있는지 확인한다.)"
   ]
  },
  {
   "cell_type": "markdown",
   "metadata": {},
   "source": [
    "- (파이썬의) 모든 Generator는 Iterator이다."
   ]
  },
  {
   "cell_type": "markdown",
   "metadata": {},
   "source": [
    "- 일반적으로 파이썬 커뮤니티에서는 Generator와 Iterator를 같은 것으로 취급한다."
   ]
  },
  {
   "cell_type": "markdown",
   "metadata": {},
   "source": [
    "###### Generator"
   ]
  },
  {
   "cell_type": "markdown",
   "metadata": {},
   "source": [
    "- 함수 안에 yield 키워드가 포함되어 있다면 generator이다."
   ]
  },
  {
   "cell_type": "markdown",
   "metadata": {},
   "source": [
    "- generator는 iterator이다."
   ]
  },
  {
   "cell_type": "markdown",
   "metadata": {},
   "source": [
    "- GoF의 책에서는 iterator를 collection이나 sequence와 같이 어딘가에 존재하는 데이터에 대한 '손잡이'라고 말하지만, generator는 (저장되어 있지 않던) 데이터를 생성할수도 있는 iterator라 할 수 있다."
   ]
  },
  {
   "cell_type": "markdown",
   "metadata": {},
   "source": [
    "---"
   ]
  },
  {
   "cell_type": "markdown",
   "metadata": {
    "collapsed": true
   },
   "source": [
    "어떤 문장을 주면 문장에 포함된 단어들에 순차적으로 접근할 수 있도록 하는 클래스를 만들고 이를 점차 개선해 보도록 하자."
   ]
  },
  {
   "cell_type": "markdown",
   "metadata": {},
   "source": [
    "###### Example 14-1. Sentence Take #1 : A Sequence of Words"
   ]
  },
  {
   "cell_type": "markdown",
   "metadata": {},
   "source": [
    "아래와 같이 `__getitem__`함수를 통해 self.words에 순차적으로 접근하도록 구현해볼 수 있다."
   ]
  },
  {
   "cell_type": "code",
   "execution_count": 212,
   "metadata": {
    "collapsed": true
   },
   "outputs": [],
   "source": [
    "import re\n",
    "import reprlib\n",
    "RE_WORD = re.compile('\\w+')\n",
    "\n",
    "class Sentence:\n",
    "    def __init__(self, text):\n",
    "        self.text = text\n",
    "        self.words = RE_WORD.findall(text)\n",
    "\n",
    "    def __getitem__(self, index):\n",
    "        return self.words[index]\n",
    "\n",
    "    def __len__(self):\n",
    "        return len(self.words)\n",
    "\n",
    "    def __repr__(self):\n",
    "        return 'Sentence(%s)' % reprlib.repr(self.text)"
   ]
  },
  {
   "cell_type": "markdown",
   "metadata": {},
   "source": [
    "Sentence 개체 s를 하나 생성한다."
   ]
  },
  {
   "cell_type": "code",
   "execution_count": 213,
   "metadata": {
    "collapsed": true
   },
   "outputs": [],
   "source": [
    "s = Sentence('\"The time has come,\" the Walrus said,')"
   ]
  },
  {
   "cell_type": "code",
   "execution_count": 214,
   "metadata": {},
   "outputs": [
    {
     "data": {
      "text/plain": [
       "Sentence('\"The time ha... Walrus said,')"
      ]
     },
     "execution_count": 214,
     "metadata": {},
     "output_type": "execute_result"
    }
   ],
   "source": [
    "s"
   ]
  },
  {
   "cell_type": "markdown",
   "metadata": {},
   "source": [
    "`__getitem__`함수가 있으므로 Sentence는 sequence로서 index로 각 데이터 원소에 접근할 수 있다."
   ]
  },
  {
   "cell_type": "code",
   "execution_count": 215,
   "metadata": {},
   "outputs": [
    {
     "data": {
      "text/plain": [
       "'has'"
      ]
     },
     "execution_count": 215,
     "metadata": {},
     "output_type": "execute_result"
    }
   ],
   "source": [
    "s[2]"
   ]
  },
  {
   "cell_type": "markdown",
   "metadata": {},
   "source": [
    "sequence는 범위를 벗어나는 index값으로 접근하는 경우 IndexError를 발생시킨다."
   ]
  },
  {
   "cell_type": "code",
   "execution_count": 216,
   "metadata": {},
   "outputs": [
    {
     "ename": "IndexError",
     "evalue": "list index out of range",
     "output_type": "error",
     "traceback": [
      "\u001b[1;31m---------------------------------------------------------------------------\u001b[0m",
      "\u001b[1;31mIndexError\u001b[0m                                Traceback (most recent call last)",
      "\u001b[1;32m<ipython-input-216-4868bd16d438>\u001b[0m in \u001b[0;36m<module>\u001b[1;34m()\u001b[0m\n\u001b[1;32m----> 1\u001b[1;33m \u001b[0ms\u001b[0m\u001b[1;33m[\u001b[0m\u001b[1;36m100\u001b[0m\u001b[1;33m]\u001b[0m\u001b[1;33m\u001b[0m\u001b[0m\n\u001b[0m",
      "\u001b[1;32m<ipython-input-212-524b681f7be6>\u001b[0m in \u001b[0;36m__getitem__\u001b[1;34m(self, index)\u001b[0m\n\u001b[0;32m      9\u001b[0m \u001b[1;33m\u001b[0m\u001b[0m\n\u001b[0;32m     10\u001b[0m     \u001b[1;32mdef\u001b[0m \u001b[0m__getitem__\u001b[0m\u001b[1;33m(\u001b[0m\u001b[0mself\u001b[0m\u001b[1;33m,\u001b[0m \u001b[0mindex\u001b[0m\u001b[1;33m)\u001b[0m\u001b[1;33m:\u001b[0m\u001b[1;33m\u001b[0m\u001b[0m\n\u001b[1;32m---> 11\u001b[1;33m         \u001b[1;32mreturn\u001b[0m \u001b[0mself\u001b[0m\u001b[1;33m.\u001b[0m\u001b[0mwords\u001b[0m\u001b[1;33m[\u001b[0m\u001b[0mindex\u001b[0m\u001b[1;33m]\u001b[0m\u001b[1;33m\u001b[0m\u001b[0m\n\u001b[0m\u001b[0;32m     12\u001b[0m \u001b[1;33m\u001b[0m\u001b[0m\n\u001b[0;32m     13\u001b[0m     \u001b[1;32mdef\u001b[0m \u001b[0m__len__\u001b[0m\u001b[1;33m(\u001b[0m\u001b[0mself\u001b[0m\u001b[1;33m)\u001b[0m\u001b[1;33m:\u001b[0m\u001b[1;33m\u001b[0m\u001b[0m\n",
      "\u001b[1;31mIndexError\u001b[0m: list index out of range"
     ]
    }
   ],
   "source": [
    "s[100]"
   ]
  },
  {
   "cell_type": "markdown",
   "metadata": {},
   "source": [
    "또한 `__getitem__`함수가 있으므로 iterator로 동작한다.     \n",
    "만약 iterator가 아니라면 iter(s)를 호출하면 TypeError(C object is not iterable)가 발생할 것이다."
   ]
  },
  {
   "cell_type": "code",
   "execution_count": 145,
   "metadata": {
    "collapsed": true
   },
   "outputs": [],
   "source": [
    "it = iter(s)"
   ]
  },
  {
   "cell_type": "markdown",
   "metadata": {},
   "source": [
    "아래 테스트를 통해 it이 iterator임을 확인 할 수 있다."
   ]
  },
  {
   "cell_type": "code",
   "execution_count": 146,
   "metadata": {},
   "outputs": [
    {
     "data": {
      "text/plain": [
       "True"
      ]
     },
     "execution_count": 146,
     "metadata": {},
     "output_type": "execute_result"
    }
   ],
   "source": [
    "from collections.abc import Iterable, Iterator\n",
    "\n",
    "isinstance(it, Iterator)"
   ]
  },
  {
   "cell_type": "markdown",
   "metadata": {},
   "source": [
    "만약 파이썬에 for문이 없었다면 아래 (첫번째 코드)for 문을 (두번째 코드)while 문으로 구현했을지도 모른다.      \n",
    "\n",
    "\n",
    "즉 for문 내부적으로 in 이하의 어떤 개체를 인자로 iter()함수를 호출해  iterator를 획득하고    \n",
    "이 iterator를 이용해 데이터에 접근하고, iterator가 소진되면 발생하는 StopIteration에러를 처리한다."
   ]
  },
  {
   "cell_type": "code",
   "execution_count": 152,
   "metadata": {},
   "outputs": [
    {
     "name": "stdout",
     "output_type": "stream",
     "text": [
      "The\n",
      "time\n",
      "has\n",
      "come\n",
      "the\n",
      "Walrus\n",
      "said\n"
     ]
    }
   ],
   "source": [
    "for word in s:\n",
    "    print(word)"
   ]
  },
  {
   "cell_type": "code",
   "execution_count": 94,
   "metadata": {},
   "outputs": [
    {
     "name": "stdout",
     "output_type": "stream",
     "text": [
      "The\n",
      "time\n",
      "has\n",
      "come\n",
      "the\n",
      "Walrus\n",
      "said\n"
     ]
    }
   ],
   "source": [
    "it = iter(s)\n",
    "while True:\n",
    "    try:\n",
    "        print(next(it))\n",
    "    except StopIteration:\n",
    "        del it\n",
    "        break"
   ]
  },
  {
   "cell_type": "markdown",
   "metadata": {},
   "source": [
    "###### Example 14-4. Sentence Take #2 : A Classic Iterator"
   ]
  },
  {
   "cell_type": "markdown",
   "metadata": {},
   "source": [
    "다음으로 GoF 책의 Iterator 디자인 패턴을 그대로 반영하여 Sentence 클래스를 만들어보자. 물론 이는 전혀 파이썬스럽지 않은 구현이지만, 리팩토링을 통해 점차 개선해 갈 것이다."
   ]
  },
  {
   "cell_type": "markdown",
   "metadata": {},
   "source": [
    "아래와 같이 Sentence 클래스에는 iterator를 반환하는 `__iter__()`함수가 있으므로 iterable이다.    \n",
    "또한 SentenceIterator 클래스는 다음 데이터를 반환하는 `__next__()`함수가 있고, 자기 자신을 반환하는 `__iter__()`함수가 있으므로 iterator이다."
   ]
  },
  {
   "cell_type": "code",
   "execution_count": 102,
   "metadata": {
    "collapsed": true
   },
   "outputs": [],
   "source": [
    "import re\n",
    "import reprlib\n",
    "RE_WORD = re.compile('\\w+')\n",
    "\n",
    "class Sentence:\n",
    "    def __init__(self, text):\n",
    "        self.text = text\n",
    "        self.words = RE_WORD.findall(text)\n",
    "\n",
    "    def __repr__(self):\n",
    "        return 'Sentence(%s)' % reprlib.repr(self.text)\n",
    "\n",
    "    def __iter__(self):\n",
    "        return SentenceIterator(self.words)\n",
    "\n",
    "\n",
    "class SentenceIterator:\n",
    "    def __init__(self, words):\n",
    "        self.words = words\n",
    "        self.index = 0\n",
    "    \n",
    "    def __next__(self):\n",
    "        try:\n",
    "            word = self.words[self.index]\n",
    "        except IndexError:\n",
    "            raise StopIteration()\n",
    "        self.index += 1\n",
    "        return word\n",
    "\n",
    "    def __iter__(self):\n",
    "        return self"
   ]
  },
  {
   "cell_type": "code",
   "execution_count": 133,
   "metadata": {
    "collapsed": true
   },
   "outputs": [],
   "source": [
    "s = Sentence('\"The time has come,\" the Walrus said,')  # s : iterable instance"
   ]
  },
  {
   "cell_type": "markdown",
   "metadata": {},
   "source": [
    "iter(s)가 TypeError를 발생시키지 않으므로 s는 iterable임을 알 수 있다."
   ]
  },
  {
   "cell_type": "code",
   "execution_count": 136,
   "metadata": {
    "collapsed": true
   },
   "outputs": [],
   "source": [
    "it = iter(s)  # it : iterator"
   ]
  },
  {
   "cell_type": "markdown",
   "metadata": {},
   "source": [
    "아래 테스트를 통해 it이 iterator임을 확인 할 수 있다."
   ]
  },
  {
   "cell_type": "code",
   "execution_count": 137,
   "metadata": {},
   "outputs": [
    {
     "data": {
      "text/plain": [
       "True"
      ]
     },
     "execution_count": 137,
     "metadata": {},
     "output_type": "execute_result"
    }
   ],
   "source": [
    "from collections.abc import Iterable, Iterator\n",
    "\n",
    "isinstance(it, Iterator)"
   ]
  },
  {
   "cell_type": "markdown",
   "metadata": {},
   "source": [
    "'Sentence 클래스에 `__next__()`함수를 추가하여 그 자체로서 Iterator로서 동작하도록 하면 더 간단하지 않은가?'라고 생각할수도 있다. 하지만 하나의 데이터 원본을 서로 독립적인 iterator로 접근할 수 있도록 하려면 Iterable(Sentence)과 Iterator(SentenceIterator)를 분리하는 것이 좋다.\n",
    "\n",
    "따라서 iterable에는 `__iter__()`함수를 구현하되 `__next__()`함수는 포함시키면 안 되고      \n",
    "iterator에는 자기 자신을 반환하는 `__iter__()`함수와 다음 원소를 반환하는 `__next__()`함수를 구현해야 한다."
   ]
  },
  {
   "cell_type": "markdown",
   "metadata": {},
   "source": [
    "###### Example 14-5. Sentence Take #3 : A Generator Function"
   ]
  },
  {
   "cell_type": "markdown",
   "metadata": {},
   "source": [
    "generator 함수를 이용해 파이썬스러운 방식으로 **Take #2**를 개선해볼 수 있다."
   ]
  },
  {
   "cell_type": "markdown",
   "metadata": {},
   "source": [
    "아래 `__iter__()` 함수는 yield  키워드를 포함하므로 generator 함수로서 호출시 'generator 개체'(iterator)를 반환한다."
   ]
  },
  {
   "cell_type": "code",
   "execution_count": 204,
   "metadata": {
    "collapsed": true
   },
   "outputs": [],
   "source": [
    "import re\n",
    "import reprlib\n",
    "RE_WORD = re.compile('\\w+')\n",
    "\n",
    "class Sentence:\n",
    "    def __init__(self, text):\n",
    "        self.text = text\n",
    "        self.words = RE_WORD.findall(text)\n",
    "\n",
    "    def __repr__(self):\n",
    "        return 'Sentence(%s)' % reprlib.repr(self.text)\n",
    "    \n",
    "    def __iter__(self):\n",
    "        for word in self.words:\n",
    "            yield word\n",
    "        return"
   ]
  },
  {
   "cell_type": "code",
   "execution_count": 164,
   "metadata": {
    "collapsed": true
   },
   "outputs": [],
   "source": [
    "s = Sentence('\"The time has come,\" the Walrus said,')  # s : iterable instance"
   ]
  },
  {
   "cell_type": "code",
   "execution_count": 165,
   "metadata": {
    "collapsed": true
   },
   "outputs": [],
   "source": [
    "it = iter(s)  # it : iterator, generator object"
   ]
  },
  {
   "cell_type": "code",
   "execution_count": 166,
   "metadata": {},
   "outputs": [
    {
     "data": {
      "text/plain": [
       "<generator object Sentence.__iter__ at 0x00000157252FD048>"
      ]
     },
     "execution_count": 166,
     "metadata": {},
     "output_type": "execute_result"
    }
   ],
   "source": [
    "it"
   ]
  },
  {
   "cell_type": "code",
   "execution_count": 167,
   "metadata": {},
   "outputs": [
    {
     "data": {
      "text/plain": [
       "['The', 'time', 'has', 'come', 'the', 'Walrus', 'said']"
      ]
     },
     "execution_count": 167,
     "metadata": {},
     "output_type": "execute_result"
    }
   ],
   "source": [
    "list(it)"
   ]
  },
  {
   "cell_type": "markdown",
   "metadata": {},
   "source": [
    "###### Example 14-7. Sentence Take #4 : A Lazy Implementation"
   ]
  },
  {
   "cell_type": "markdown",
   "metadata": {},
   "source": [
    "그런데 **Take #3**까지의 구현에서는 입력 데이터 text를 이용해 self.words를 한꺼번에 생성한다. 만약 입력되는 text의 크기가 매우 크다면 문제가 발생할 수 있다. RE_WORD.findall 함수로 단어들을 담은 list를 한꺼번에 생성하는 대신 RE_WORD.finditer 함수를 이용해 요청할 때마다 한 단어식 반환하도록 할 수 있다. (전자의 방식을 eager하다고, 후자의 방식을 lazy하다고 표현한다.)"
   ]
  },
  {
   "cell_type": "code",
   "execution_count": 168,
   "metadata": {
    "collapsed": true
   },
   "outputs": [],
   "source": [
    "import re\n",
    "import reprlib\n",
    "RE_WORD = re.compile('\\w+')\n",
    "\n",
    "class Sentence:\n",
    "    def __init__(self, text):\n",
    "        self.text = text\n",
    "        \n",
    "    def __repr__(self):\n",
    "        return 'Sentence(%s)' % reprlib.repr(self.text)\n",
    "    \n",
    "    def __iter__(self):\n",
    "        for match in RE_WORD.finditer(self.text):\n",
    "            yield match.group()"
   ]
  },
  {
   "cell_type": "markdown",
   "metadata": {},
   "source": [
    "###### Example 14-9. Sentence Take #5 : A Generator Expression"
   ]
  },
  {
   "cell_type": "markdown",
   "metadata": {},
   "source": [
    "generator expression을 이용해 **Take #4**를 좀 더 간략하게 만들어볼 수 있다. generator expression은 list comprehension의 lazy한 버전이라 생각할 수 있으며, list comprehension이 list를 반환한다면 generator expression은 generator를 반환한다."
   ]
  },
  {
   "cell_type": "code",
   "execution_count": 207,
   "metadata": {},
   "outputs": [
    {
     "data": {
      "text/plain": [
       "[10, 11, 12, 13, 14]"
      ]
     },
     "execution_count": 207,
     "metadata": {},
     "output_type": "execute_result"
    }
   ],
   "source": [
    "x1 = [x + 10 for x in range(5)]  # list comprehension\n",
    "x1  # x1 : list"
   ]
  },
  {
   "cell_type": "code",
   "execution_count": 208,
   "metadata": {},
   "outputs": [
    {
     "data": {
      "text/plain": [
       "<generator object <genexpr> at 0x00000157253B1EB8>"
      ]
     },
     "execution_count": 208,
     "metadata": {},
     "output_type": "execute_result"
    }
   ],
   "source": [
    "x2 = (x + 10 for x in range(5))  # generator expression\n",
    "x2  # x2 : generator object(iterator)"
   ]
  },
  {
   "cell_type": "code",
   "execution_count": 209,
   "metadata": {},
   "outputs": [
    {
     "data": {
      "text/plain": [
       "[10, 11, 12, 13, 14]"
      ]
     },
     "execution_count": 209,
     "metadata": {},
     "output_type": "execute_result"
    }
   ],
   "source": [
    "list(x2)"
   ]
  },
  {
   "cell_type": "markdown",
   "metadata": {},
   "source": [
    "아래와 같이 **Take #4** `__iter__`함수의 for문을 generator expression으로 바꿀 수 있으며,    \n",
    "`__iter__`함수는 더 이상 generator가 아니지만, 호출 결과 generator object(iterator)를 반환한다."
   ]
  },
  {
   "cell_type": "code",
   "execution_count": 210,
   "metadata": {
    "collapsed": true
   },
   "outputs": [],
   "source": [
    "import re\n",
    "import reprlib\n",
    "RE_WORD = re.compile('\\w+')\n",
    "\n",
    "class Sentence:\n",
    "    def __init__(self, text):\n",
    "        self.text = text\n",
    "\n",
    "    def __repr__(self):\n",
    "        return 'Sentence(%s)' % reprlib.repr(self.text)\n",
    "    \n",
    "    def __iter__(self):\n",
    "        return (match.group() for match in RE_WORD.finditer(self.text))"
   ]
  },
  {
   "cell_type": "markdown",
   "metadata": {},
   "source": [
    "다만 list comprehension과 마찬가지로 generator expression 또한 남용할 경우 코드 가독성이 떨어지므로, 대략 2줄 이상 길어지는 generator expression는 generator 함수로 구현하는 것이 좋다.\n"
   ]
  },
  {
   "cell_type": "markdown",
   "metadata": {},
   "source": [
    "# Coroutines"
   ]
  },
  {
   "cell_type": "markdown",
   "metadata": {},
   "source": [
    "### [1]. yield"
   ]
  },
  {
   "cell_type": "markdown",
   "metadata": {},
   "source": [
    "yield는 Python 2.5에 포함된 키워드로서, Python 3.3에서 yield from, Python 3.5에서 await/async 이 차례로 추가되었다.\n",
    "\n",
    "generator는 그 정의안에 yield 키워드를 포함하는 함수로서 호출 결과는 generator object이면서 iterator이다.    \n",
    "이 iterator는 yield 키워드 오른쪽의 값을 넘겨준다.\n",
    "\n",
    "예를들어 아래 코드에서 simple_generator는 generator로서 그 정의에 yield 키워드가 포함되어 있고, 변수 start를 넘겨주도록 정의되어 있다.   \n",
    "또한 'simple_generator(5)'의 호출 결과는 generator object이고 변수 start의 값을 iteration한다."
   ]
  },
  {
   "cell_type": "code",
   "execution_count": 22,
   "metadata": {
    "collapsed": true
   },
   "outputs": [],
   "source": [
    "def simple_generator(end=10):\n",
    "    start = 0\n",
    "    while start < end:\n",
    "        print('before yield, start:', start)\n",
    "        yield start\n",
    "        print(' after yield, start:', start)\n",
    "        start += 1"
   ]
  },
  {
   "cell_type": "code",
   "execution_count": 23,
   "metadata": {},
   "outputs": [
    {
     "name": "stdout",
     "output_type": "stream",
     "text": [
      "<generator object simple_generator at 0x00000230861F80F8>\n"
     ]
    }
   ],
   "source": [
    "my_gene = simple_generator(5)\n",
    "print(my_gene)"
   ]
  },
  {
   "cell_type": "code",
   "execution_count": 24,
   "metadata": {},
   "outputs": [
    {
     "name": "stdout",
     "output_type": "stream",
     "text": [
      "before yield, start: 0\n"
     ]
    },
    {
     "data": {
      "text/plain": [
       "0"
      ]
     },
     "execution_count": 24,
     "metadata": {},
     "output_type": "execute_result"
    }
   ],
   "source": [
    "next(my_gene)"
   ]
  },
  {
   "cell_type": "code",
   "execution_count": 25,
   "metadata": {},
   "outputs": [
    {
     "name": "stdout",
     "output_type": "stream",
     "text": [
      " after yield, start: 0\n",
      "before yield, start: 1\n",
      " after yield, start: 1\n",
      "before yield, start: 2\n",
      " after yield, start: 2\n",
      "before yield, start: 3\n",
      " after yield, start: 3\n",
      "before yield, start: 4\n",
      " after yield, start: 4\n",
      "[1, 2, 3, 4]\n"
     ]
    }
   ],
   "source": [
    "print(list(my_gene))"
   ]
  },
  {
   "cell_type": "markdown",
   "metadata": {},
   "source": [
    "coroutine function은 yield를 포함하는 함수로서 그 호출 결과가 generator object라는 점은 generator와 동일하지만   \n",
    "coroutine function에서는 yield 키워드가 'datum = yield '와 같이 어떤 표현 오른쪽에 위치한다.      \n",
    "(이렇게 generator object를 앞으로 coroutine object라 부를 것이다..)  "
   ]
  },
  {
   "cell_type": "markdown",
   "metadata": {},
   "source": [
    "my_coro이란 이름의 coroutine object를 생성했다.    \n",
    "이를 사용하는 방식은 coroutine object에 .send(datum) 함수를 호출하는 것인데,     \n",
    "이렇게 하면 datum값을 coroutine object로 전달하는 동시에 제어권을 'coroutine object를 호출하는 쪽'에서 'coroutine object'로 넘긴다."
   ]
  },
  {
   "cell_type": "code",
   "execution_count": 114,
   "metadata": {},
   "outputs": [
    {
     "data": {
      "text/plain": [
       "<generator object simple_coroutine at 0x00000230862BCD58>"
      ]
     },
     "execution_count": 114,
     "metadata": {},
     "output_type": "execute_result"
    }
   ],
   "source": [
    "def simple_coroutine():\n",
    "    i = 1\n",
    "    while True:\n",
    "        print(' Inside of the coro object - before yield')\n",
    "        x = yield\n",
    "        print(' Inside of the coro object - after yield, x:', x, ' called {} times'.format(i))\n",
    "        i += 1\n",
    "\n",
    "my_coro = simple_coroutine()\n",
    "my_coro"
   ]
  },
  {
   "cell_type": "code",
   "execution_count": 115,
   "metadata": {},
   "outputs": [
    {
     "name": "stdout",
     "output_type": "stream",
     "text": [
      "Outside of the coro object\n",
      " Inside of the coro object - before yield\n",
      " Inside of the coro object - after yield, x: 1  called 1 times\n",
      " Inside of the coro object - before yield\n"
     ]
    }
   ],
   "source": [
    "my_coro = simple_coroutine()\n",
    "my_coro\n",
    "\n",
    "print('Outside of the coro object')\n",
    "next(my_coro)\n",
    "my_coro.send(1)"
   ]
  },
  {
   "cell_type": "markdown",
   "metadata": {},
   "source": [
    "coroutine object를 생성한 후 바로 .send(...)를 호출하면 아래와 같이 TypeError가 발생하는데,          \n",
    "이는 coroutine object를 생성한 직후에는 실행흐름이 yield 키워드까지 진행되지 않아 값을 받을 준비를 하고 있지 않기 때문이다.          \n",
    "따라서 coroutine object를 생성한 후 처음 send를 호출하기 전에 next('coroutine object')를 호출하여 yield 키워드가 값을 받을 준비를 하고 있도록 해야 한다.      \n",
    "next를 한번 호출하거나 None을 send하는 방식으로 ('coroutine object'.send(None)) 이런 사전 준비를 할 수 있으며 이를 \"priming\"이라 한다."
   ]
  },
  {
   "cell_type": "code",
   "execution_count": 116,
   "metadata": {},
   "outputs": [
    {
     "name": "stdout",
     "output_type": "stream",
     "text": [
      "Outside of the coro object\n"
     ]
    },
    {
     "ename": "TypeError",
     "evalue": "can't send non-None value to a just-started generator",
     "output_type": "error",
     "traceback": [
      "\u001b[1;31m---------------------------------------------------------------------------\u001b[0m",
      "\u001b[1;31mTypeError\u001b[0m                                 Traceback (most recent call last)",
      "\u001b[1;32m<ipython-input-116-bf0f079d5c8a>\u001b[0m in \u001b[0;36m<module>\u001b[1;34m()\u001b[0m\n\u001b[0;32m      2\u001b[0m \u001b[1;33m\u001b[0m\u001b[0m\n\u001b[0;32m      3\u001b[0m \u001b[0mprint\u001b[0m\u001b[1;33m(\u001b[0m\u001b[1;34m'Outside of the coro object'\u001b[0m\u001b[1;33m)\u001b[0m\u001b[1;33m\u001b[0m\u001b[0m\n\u001b[1;32m----> 4\u001b[1;33m \u001b[0mmy_coro\u001b[0m\u001b[1;33m.\u001b[0m\u001b[0msend\u001b[0m\u001b[1;33m(\u001b[0m\u001b[1;36m1\u001b[0m\u001b[1;33m)\u001b[0m\u001b[1;33m\u001b[0m\u001b[0m\n\u001b[0m",
      "\u001b[1;31mTypeError\u001b[0m: can't send non-None value to a just-started generator"
     ]
    }
   ],
   "source": [
    "my_coro = simple_coroutine()\n",
    "\n",
    "print('Outside of the coro object')\n",
    "my_coro.send(1)"
   ]
  },
  {
   "cell_type": "code",
   "execution_count": 117,
   "metadata": {},
   "outputs": [
    {
     "name": "stdout",
     "output_type": "stream",
     "text": [
      " Inside of the coro object - before yield\n",
      "Outside of the coro object\n",
      " Inside of the coro object - after yield, x: 1  called 1 times\n",
      " Inside of the coro object - before yield\n"
     ]
    }
   ],
   "source": [
    "my_coro = simple_coroutine()\n",
    "\n",
    "next(my_coro)\n",
    "print('Outside of the coro object')\n",
    "my_coro.send(1)"
   ]
  },
  {
   "cell_type": "code",
   "execution_count": 118,
   "metadata": {},
   "outputs": [
    {
     "name": "stdout",
     "output_type": "stream",
     "text": [
      " Inside of the coro object - before yield\n",
      "Outside of the coro object\n",
      " Inside of the coro object - after yield, x: 1  called 1 times\n",
      " Inside of the coro object - before yield\n"
     ]
    }
   ],
   "source": [
    "my_coro = simple_coroutine()\n",
    "\n",
    "my_coro.send(None)\n",
    "print('Outside of the coro object')\n",
    "my_coro.send(1)"
   ]
  },
  {
   "cell_type": "markdown",
   "metadata": {},
   "source": [
    "'coroutine object'.send(datum) 과 같이 'coroutine object를 호출하는 쪽'에서 'coroutine object'로 값을 넘겨줄 수 있을 뿐만 아니라       \n",
    "'coroutine object'에서 'coroutine object를 호출하는 쪽'으로 넘겨받을 값을 yield 키워드 오른쪽에 지정할수도 있다.    \n",
    "yield 키워드 오른쪽에 값을 지정하지 않을 경우 암묵적으로 None이 반환된다.\n",
    "\n",
    "아래 코드의 실행 과정은 다음과 같다.\n",
    "1. (6)  : coroutine object를 생성, coroutine object의 실행은 (1)까지 진행된다.\n",
    "2. (7)  : priming, (3)에서 yield를 만나 `i*100`을 caller()에 넘겨주고 caller()가 send를 하출하기를 기다린다.\n",
    "3. (8)  : send, 1을 send했고 (3)에서 yield 키워드는 이 값을 받아 x에 할당하고, (4), (5), (2)가 차례대로 실행되고 `i*100`을 caller()에 넘겨주고 caller()가 send를 호출하기를 기다린다.\n",
    "4. (9)  : coroutine object가 전달해준 `i*100` 확인\n",
    "5. (10) : send, 2를 send했고 (3)에서 yield 키워드는 이 값을 받아 x에 할당하고, (4), (5), (2)가 차례대로 실행되고 `i*100`을 caller()에 넘겨주고 caller()가 send를 호출하기를 기다린다.\n",
    "6. (11)  : coroutine object가 전달해준 `i*100` 확인"
   ]
  },
  {
   "cell_type": "code",
   "execution_count": 119,
   "metadata": {},
   "outputs": [
    {
     "name": "stdout",
     "output_type": "stream",
     "text": [
      " Inside of the coro object - before yield\n",
      " Inside of the coro object - after yield, x: 1  called 1 times\n",
      " Inside of the coro object - before yield\n",
      "200\n",
      " Inside of the coro object - after yield, x: 2  called 2 times\n",
      " Inside of the coro object - before yield\n",
      "300\n"
     ]
    }
   ],
   "source": [
    "def simple_coroutine():  # (1)\n",
    "    i = 1\n",
    "    while True:\n",
    "        print(' Inside of the coro object - before yield')  # (2)\n",
    "        x = yield i*100  # (3)\n",
    "        print(' Inside of the coro object - after yield, x:', x, ' called {} times'.format(i))  # (4)\n",
    "        i += 1  # (5)\n",
    "\n",
    "def caller():\n",
    "    my_coro = simple_coroutine()  # (6)\n",
    "\n",
    "    next(my_coro)  # (7)\n",
    "    reply = my_coro.send(1) # (8)\n",
    "    print(reply)  # (9)\n",
    "\n",
    "    reply = my_coro.send(2)  # (10)\n",
    "    print(reply)  # (11)\n",
    "    \n",
    "caller()"
   ]
  },
  {
   "cell_type": "markdown",
   "metadata": {},
   "source": [
    "물론 coroutine function에서도 yield 오른쪽에 변수를 두고 이 값을 넘겨받을 수 있으나 생략가능하며 그 경우 None을 넘겨준다. \n",
    "\n",
    "이처럼 coroutine object에 데이터를 주고받는 기능이 있긴 하지만,   \n",
    "실제 coroutine function은 coroutine object를 호출하는 쪽과 coroutine object사이에 제어권을 주고 받도록 해 주는 방식으로 멀티테스킹을 구현하는데 사용된다."
   ]
  },
  {
   "cell_type": "markdown",
   "metadata": {},
   "source": [
    "아래와 같이 yield 다음에 변수가 없을 때 None이 반환됨을 확인할 수 있다."
   ]
  },
  {
   "cell_type": "code",
   "execution_count": 8,
   "metadata": {},
   "outputs": [
    {
     "name": "stdout",
     "output_type": "stream",
     "text": [
      "before yield\n",
      "True\n",
      " after yield, x: None\n"
     ]
    },
    {
     "ename": "StopIteration",
     "evalue": "",
     "output_type": "error",
     "traceback": [
      "\u001b[1;31m---------------------------------------------------------------------------\u001b[0m",
      "\u001b[1;31mStopIteration\u001b[0m                             Traceback (most recent call last)",
      "\u001b[1;32m<ipython-input-8-2944358ed4a1>\u001b[0m in \u001b[0;36m<module>\u001b[1;34m()\u001b[0m\n\u001b[0;32m      9\u001b[0m \u001b[0mfirst_yielded_value\u001b[0m \u001b[1;33m=\u001b[0m \u001b[0mnext\u001b[0m\u001b[1;33m(\u001b[0m\u001b[0mmy_coro\u001b[0m\u001b[1;33m)\u001b[0m  \u001b[1;31m# priming\u001b[0m\u001b[1;33m\u001b[0m\u001b[0m\n\u001b[0;32m     10\u001b[0m \u001b[0mprint\u001b[0m\u001b[1;33m(\u001b[0m\u001b[0mfirst_yielded_value\u001b[0m \u001b[1;32mis\u001b[0m \u001b[1;32mNone\u001b[0m\u001b[1;33m)\u001b[0m\u001b[1;33m\u001b[0m\u001b[0m\n\u001b[1;32m---> 11\u001b[1;33m \u001b[0mprint\u001b[0m\u001b[1;33m(\u001b[0m\u001b[0mnext\u001b[0m\u001b[1;33m(\u001b[0m\u001b[0mmy_coro\u001b[0m\u001b[1;33m)\u001b[0m\u001b[1;33m)\u001b[0m\u001b[1;33m\u001b[0m\u001b[0m\n\u001b[0m",
      "\u001b[1;31mStopIteration\u001b[0m: "
     ]
    }
   ],
   "source": [
    "def simple_coroutine():\n",
    "    print('before yield')\n",
    "    x = yield\n",
    "    print(' after yield, x:', x)\n",
    "''\n",
    "my_coro = simple_coroutine()\n",
    "my_coro\n",
    "\n",
    "first_yielded_value = next(my_coro)  # priming\n",
    "print(first_yielded_value is None)\n",
    "print(next(my_coro))"
   ]
  },
  {
   "cell_type": "markdown",
   "metadata": {},
   "source": [
    "아래와 같이 coroutine object에서 값을 반환 받는 예를 살펴보자. 이동평균 계산을 끝내려면 코루틴 개체에 None을 보내면 되는데, 그 반환 값은 StopIteration exception의 value를 통해 전달된다. 이는 대단히 어색한? 방식이라 할 수 있다. 누군가가 대신 StopIteration을 catch해 주고 value 값만 반환해준다면 좋을텐데, 이런 바램?이 반영된 것이 PEP380으로 소개된 **yield from** 이다. 사실 for-loop도 in 뒤에 주어진 iterable의 종료될때 발생하는 StopIteration을 내부적으로 catch해 주며 'yield from'도 비슷한 편의성을 제공한다고 할 수 있다."
   ]
  },
  {
   "cell_type": "code",
   "execution_count": 21,
   "metadata": {},
   "outputs": [
    {
     "name": "stdout",
     "output_type": "stream",
     "text": [
      "Result(count=3, average=15.5)\n"
     ]
    }
   ],
   "source": [
    "from collections import namedtuple\n",
    "\n",
    "Result = namedtuple('Result', 'count average')\n",
    "\n",
    "def averager():\n",
    "    total = 0.0\n",
    "    count = 0\n",
    "    average = None\n",
    "    while True:\n",
    "        term = yield\n",
    "        if term is None:\n",
    "            break\n",
    "        total += term\n",
    "        count += 1\n",
    "        average = total/count\n",
    "    return Result(count, average)\n",
    "\n",
    "\n",
    "coro_avg = averager()\n",
    "next(coro_avg)\n",
    "coro_avg.send(10)\n",
    "coro_avg.send(30)\n",
    "coro_avg.send(6.5)\n",
    "\n",
    "try:\n",
    "    coro_avg.send(None)\n",
    "except StopIteration as exc:\n",
    "    result = exc.value\n",
    "    \n",
    "print(result)"
   ]
  },
  {
   "cell_type": "markdown",
   "metadata": {},
   "source": [
    "### [2]. yield from"
   ]
  },
  {
   "cell_type": "markdown",
   "metadata": {},
   "source": [
    "- Python 3.3에서 추가된 'yield from'는 타 언어의 await과 같은 기능을 하는 것이다.(Python 3.5에서 await, async 키워드가 추가됨)\n",
    "\n",
    "- 아래 코드에서 알 수 있는 것처럼 grouper 함수는 main 함수와 average 함수 사이에 데이터/컨트롤을 주고받는 채널 역할을 한다. \n",
    "\n",
    "- PEP380에 따르면 main 함수를 'caller'   \n",
    ", grouper 함수를 delegating generator   \n",
    ", averager 함수를 subgenerator라 부른다.\n",
    "\n",
    "- 이때 delegating generator는 'yield from'을 포함하는 함수이며   \n",
    ", subgenerator는 delegating generator의 'yield from' 키워드 다음에 등장하는 함수이며   \n",
    ", caller는 delegating generator를 호출하는 함수이다. \n",
    "\n",
    "- 아래 코드에서 특이한 점은 'yield from' 뒤에 등장하는 iterator는 자동으로 priming되지만 'yield from'을 포함하는 함수(delegating generator)는 priming을 해줘야만 한다.\n",
    "- 또한 'IMPORTANT!!!'라는 주석이 달린 라인(`group.send(None)`)이 없을 경우 averager함수는 break로 빠져나가지 못하게 되고 결과값을 받을 수 없게 된다. 혹은 이 라인이 `for key, values in data.items():` 범위 바로 밖에 위치한다면 `data`의 모든 값에 대한 평균을 구하게 된다."
   ]
  },
  {
   "attachments": {
    "1.PNG": {
     "image/png": "[encoded data removed]"
    }
   },
   "cell_type": "markdown",
   "metadata": {},
   "source": [
    "![1.PNG](attachment:1.PNG)"
   ]
  },
  {
   "cell_type": "code",
   "execution_count": 26,
   "metadata": {},
   "outputs": [
    {
     "name": "stdout",
     "output_type": "stream",
     "text": [
      "{'girls;kg': Result(count=10, average=42.040000000000006), 'girls;m': Result(count=10, average=1.4279999999999997), 'boys;kg': Result(count=9, average=40.422222222222224), 'boys;m': Result(count=9, average=1.3888888888888888)}\n"
     ]
    }
   ],
   "source": [
    "from collections import namedtuple\n",
    "\n",
    "Result = namedtuple('Result', 'count average')\n",
    "\n",
    "# subgenerator\n",
    "def averager():\n",
    "    total = 0.0\n",
    "    count = 0\n",
    "    average = None\n",
    "    while True:\n",
    "        term = yield\n",
    "        if term is None:\n",
    "            break\n",
    "        total += term\n",
    "        count += 1\n",
    "        average = total / count\n",
    "    return Result(count, average)\n",
    "\n",
    "# delegating generator\n",
    "def grouper(results, key):\n",
    "    while True:\n",
    "        results[key] = yield from averager()\n",
    "\n",
    "# caller\n",
    "def main(data):\n",
    "    results = {}\n",
    "    for key, values in data.items():\n",
    "        group = grouper(results, key)\n",
    "        next(group)\n",
    "        for value in values:\n",
    "            group.send(value)\n",
    "        group.send(None)  # IMPORTANT!!!\n",
    "        \n",
    "    print(results)\n",
    "\n",
    "data = {\n",
    "    'girls;kg':[40.9, 38.5, 44.3, 42.2, 45.2, 41.7, 44.5, 38.0, 40.6, 44.5],\n",
    "    'girls;m':[1.6, 1.51, 1.4, 1.3, 1.41, 1.39, 1.33, 1.46, 1.45, 1.43],\n",
    "    'boys;kg':[39.0, 40.8, 43.2, 40.8, 43.1, 38.6, 41.4, 40.6, 36.3],\n",
    "    'boys;m':[1.38, 1.5, 1.32, 1.25, 1.37, 1.48, 1.25, 1.49, 1.46],\n",
    "}\n",
    "\n",
    "main(data)"
   ]
  },
  {
   "cell_type": "markdown",
   "metadata": {
    "collapsed": true
   },
   "source": [
    "### [3]. async/await"
   ]
  },
  {
   "cell_type": "markdown",
   "metadata": {},
   "source": [
    "async/await 키워드는 PEP492로 제안되어 Python 3.5에 추가되었다. 사실 앞으로 설명할 'async' 키워드를 이용해 생성한 coroutine function은 앞서 설명했던 'yield from'을 이용한 coroutine과 기능/목적이 많이 다르다. 이 둘을 구분하기 위해 'yield from'을 이용한 coroutine function은 'generator-based coroutine function'이라 부르겠다."
   ]
  },
  {
   "cell_type": "code",
   "execution_count": 1,
   "metadata": {},
   "outputs": [
    {
     "name": "stdout",
     "output_type": "stream",
     "text": [
      "<generator object as_completed.<locals>._wait_for_one at 0x000002C836D3BEB8>\n",
      "Result(key='girls;kg', count=10, average=42.040000000000006)\n",
      "<generator object as_completed.<locals>._wait_for_one at 0x000002C836D3BF10>\n",
      "Result(key='boys;kg', count=9, average=40.422222222222224)\n",
      "<generator object as_completed.<locals>._wait_for_one at 0x000002C836D3BEB8>\n",
      "Result(key='girls;m', count=10, average=1.4279999999999997)\n",
      "<generator object as_completed.<locals>._wait_for_one at 0x000002C836D3BF10>\n",
      "Result(key='boys;m', count=9, average=1.3888888888888888)\n"
     ]
    }
   ],
   "source": [
    "from collections import namedtuple\n",
    "import asyncio\n",
    "\n",
    "Result = namedtuple('Result', 'key count average')\n",
    "\n",
    "\n",
    "async def averager(key, values):\n",
    "    count = len(values)\n",
    "    average = sum(values) / count\n",
    "    await asyncio.sleep(3.0)\n",
    "    return Result(key, count, average)\n",
    "\n",
    "data = {\n",
    "    'girls;kg':[40.9, 38.5, 44.3, 42.2, 45.2, 41.7, 44.5, 38.0, 40.6, 44.5],\n",
    "    'girls;m':[1.6, 1.51, 1.4, 1.3, 1.41, 1.39, 1.33, 1.46, 1.45, 1.43],\n",
    "    'boys;kg':[39.0, 40.8, 43.2, 40.8, 43.1, 38.6, 41.4, 40.6, 36.3],\n",
    "    'boys;m':[1.38, 1.5, 1.32, 1.25, 1.37, 1.48, 1.25, 1.49, 1.46],\n",
    "}\n",
    "\n",
    "async def main():\n",
    "    results = {}\n",
    "    tasks = []\n",
    "    for key, values in data.items():\n",
    "        task = asyncio.ensure_future(averager(key, values))\n",
    "        tasks.append(task)\n",
    "        \n",
    "    for f in asyncio.as_completed(tasks):\n",
    "        print(f)\n",
    "        x = await f\n",
    "        print(x)\n",
    "\n",
    "loop = asyncio.get_event_loop()\n",
    "loop.run_until_complete(main())\n",
    "loop.close()\n"
   ]
  },
  {
   "cell_type": "markdown",
   "metadata": {},
   "source": [
    "@@@ 이어서 '비동기 처리를 쓰는 코드는 다음과 같은 식으로 구성한다.'"
   ]
  },
  {
   "cell_type": "markdown",
   "metadata": {},
   "source": [
    "###### asyncio and more\n",
    "\n",
    "> 참고 자료\n",
    " - 18.5.3. Tasks and coroutines, https://docs.python.org/3/library/asyncio-task.html\n",
    " - 파이썬의 새로운 병렬처리 API – Concurrent.futures, https://soooprmx.com/archives/5669\n",
    " - 단일 스레드 기반의 Nonblocking 비동기 코루틴 완전 정복, https://soooprmx.com/archives/6882\n",
    " - PEP380, https://www.python.org/dev/peps/pep-0380/\n",
    " - PEP492, https://www.python.org/dev/peps/pep-0492/"
   ]
  },
  {
   "cell_type": "markdown",
   "metadata": {},
   "source": [
    "- Future <- Task??\n",
    "\n",
    "\n",
    "- asyncio.ensure_future: Task \n",
    "- asyncio.as_completed: Future instance들로 구성된 iterator를 받아 ..?\n",
    "- asyncio.sleep\n",
    "- asyncio.get_event_loop\n",
    "\n",
    "\n",
    "- AbstractEventLoop.run_until_complete\n",
    "- AbstractEventLoop.close"
   ]
  },
  {
   "cell_type": "code",
   "execution_count": 1,
   "metadata": {},
   "outputs": [
    {
     "name": "stdout",
     "output_type": "stream",
     "text": [
      "<generator object as_completed.<locals>._wait_for_one at 0x0000016F5F747FC0> <class 'generator'>\n",
      "<generator object as_completed.<locals>._wait_for_one at 0x0000016F5F75E048> <class 'generator'>\n",
      "<generator object as_completed.<locals>._wait_for_one at 0x0000016F5F747FC0> <class 'generator'>\n",
      "<generator object as_completed.<locals>._wait_for_one at 0x0000016F5F75E048> <class 'generator'>\n",
      "<generator object as_completed.<locals>._wait_for_one at 0x0000016F5F747FC0> <class 'generator'>\n",
      "hello will be displayed in 2 seconds\n",
      "world will be displayed in 4 seconds\n",
      "apple will be displayed in 2 seconds\n",
      "banana will be displayed in 4 seconds\n",
      "cherry will be displayed in 3 seconds\n"
     ]
    }
   ],
   "source": [
    "import asyncio\n",
    "import random\n",
    "\n",
    "\n",
    "async def lazy_greet(msg, delay=1):\n",
    "    print(msg, \"will be displayed in\", delay, \"seconds\")\n",
    "    await asyncio.sleep(delay)\n",
    "    return msg.upper()\n",
    "\n",
    "\n",
    "async def main():\n",
    "    messages = ['hello', 'world', 'apple', 'banana', 'cherry']\n",
    "    fts = [asyncio.ensure_future(lazy_greet(m, random.randrange(1, 5)))\n",
    "           for m in messages]\n",
    "    for f in asyncio.as_completed(fts):\n",
    "        # x = await f\n",
    "        print(f, type(f))\n",
    "\n",
    "\n",
    "loop = asyncio.get_event_loop()\n",
    "loop.run_until_complete(main())\n",
    "loop.close()"
   ]
  },
  {
   "cell_type": "code",
   "execution_count": 1,
   "metadata": {
    "collapsed": true
   },
   "outputs": [],
   "source": [
    "import asyncio\n",
    "\n",
    "async def slow_operation(future):\n",
    "    print(0)\n",
    "    await asyncio.sleep(5)\n",
    "    print(1)\n",
    "    future.set_result('Future is done!')\n",
    "    print(2)\n",
    "    \n",
    "\n",
    "loop = asyncio.get_event_loop()"
   ]
  },
  {
   "cell_type": "code",
   "execution_count": 2,
   "metadata": {},
   "outputs": [
    {
     "data": {
      "text/plain": [
       "<Future pending>"
      ]
     },
     "execution_count": 2,
     "metadata": {},
     "output_type": "execute_result"
    }
   ],
   "source": [
    "future = asyncio.Future(); future"
   ]
  },
  {
   "cell_type": "code",
   "execution_count": 3,
   "metadata": {},
   "outputs": [
    {
     "data": {
      "text/plain": [
       "<Task pending coro=<slow_operation() running at <ipython-input-1-6dce289e0880>:3>>"
      ]
     },
     "execution_count": 3,
     "metadata": {},
     "output_type": "execute_result"
    }
   ],
   "source": [
    "asyncio.ensure_future(slow_operation(future))"
   ]
  },
  {
   "cell_type": "code",
   "execution_count": 4,
   "metadata": {},
   "outputs": [
    {
     "name": "stdout",
     "output_type": "stream",
     "text": [
      "0\n",
      "1\n",
      "2\n"
     ]
    },
    {
     "data": {
      "text/plain": [
       "'Future is done!'"
      ]
     },
     "execution_count": 4,
     "metadata": {},
     "output_type": "execute_result"
    }
   ],
   "source": [
    "loop.run_until_complete(future)"
   ]
  },
  {
   "cell_type": "code",
   "execution_count": 5,
   "metadata": {},
   "outputs": [
    {
     "name": "stdout",
     "output_type": "stream",
     "text": [
      "Future is done!\n"
     ]
    }
   ],
   "source": [
    "print(future.result())"
   ]
  },
  {
   "cell_type": "code",
   "execution_count": 1,
   "metadata": {},
   "outputs": [
    {
     "data": {
      "text/plain": [
       "<Task pending coro=<slow_operation() running at <ipython-input-1-cb5450d36ccb>:3>>"
      ]
     },
     "execution_count": 1,
     "metadata": {},
     "output_type": "execute_result"
    }
   ],
   "source": [
    "loop.close()"
   ]
  },
  {
   "cell_type": "code",
   "execution_count": null,
   "metadata": {
    "collapsed": true
   },
   "outputs": [],
   "source": []
  },
  {
   "cell_type": "code",
   "execution_count": null,
   "metadata": {
    "collapsed": true
   },
   "outputs": [],
   "source": []
  },
  {
   "cell_type": "code",
   "execution_count": null,
   "metadata": {
    "collapsed": true
   },
   "outputs": [],
   "source": []
  },
  {
   "cell_type": "code",
   "execution_count": null,
   "metadata": {
    "collapsed": true
   },
   "outputs": [],
   "source": []
  },
  {
   "cell_type": "markdown",
   "metadata": {},
   "source": [
    "# Concurrency with Futures (c16)"
   ]
  },
  {
   "cell_type": "markdown",
   "metadata": {},
   "source": [
    "###### Sequential download example"
   ]
  },
  {
   "cell_type": "code",
   "execution_count": 3,
   "metadata": {},
   "outputs": [
    {
     "name": "stdout",
     "output_type": "stream",
     "text": [
      "BD BR CD CN DE EG ET FR ID IN IR JP MX NG PH PK RU TR US VN \n",
      "20 flags downloaded in 2.27s\n"
     ]
    }
   ],
   "source": [
    "import os\n",
    "import time\n",
    "import sys\n",
    "\n",
    "import requests\n",
    "\n",
    "POP20_CC = ('CN IN US ID BR PK NG BD RU JP '\n",
    "           'MX PH VN ET EG DE IR TR CD FR').split()\n",
    "\n",
    "BASE_URL = 'http://flupy.org/data/flags'\n",
    "\n",
    "DEST_DIR = 'Test/'\n",
    "\n",
    "def save_flag(img, filename):\n",
    "    \"\"\"\n",
    "    Save image as file\n",
    "    \n",
    "    :param img: byte sequence of image\n",
    "    :param filename: target file name, dir path is given as BASE_URL\n",
    "    \"\"\"\n",
    "    path = os.path.join(DEST_DIR, filename)\n",
    "    with open(path, 'wb') as fp:\n",
    "        fp.write(img)\n",
    "        \n",
    "def get_flag(cc):\n",
    "    \"\"\"\n",
    "    Give country code, build URL and download image as byte sequence.\n",
    "    \n",
    "    :param cc: country code\n",
    "    \"\"\"\n",
    "    url = '{}/{cc}/{cc}.gif'.format(BASE_URL, cc=cc.lower())\n",
    "    resp = requests.get(url)\n",
    "    return resp.content\n",
    "\n",
    "def show(text):\n",
    "    \"\"\"\n",
    "    Display country code in one line\n",
    "    \"\"\"\n",
    "    print(text, end=' ')\n",
    "    sys.stdout.flush()\n",
    "\n",
    "def download_many(cc_list):\n",
    "    \"\"\"\n",
    "    Given list of country code, download and save flag image of each country.\n",
    "    \"\"\"\n",
    "    for cc in sorted(cc_list):\n",
    "        image = get_flag(cc)\n",
    "        show(cc)\n",
    "        save_flag(image, cc.lower() + '.gif')\n",
    "        \n",
    "    return len(cc_list)\n",
    "\n",
    "def main(download_many):\n",
    "    t0 = time.time()\n",
    "    count = download_many(POP20_CC)\n",
    "    elapsed = time.time() - t0\n",
    "    msg = '\\n{} flags downloaded in {:.2f}s'\n",
    "    print(msg.format(count, elapsed))\n",
    "    \n",
    "if __name__ == '__main__':\n",
    "    main(download_many)"
   ]
  },
  {
   "cell_type": "markdown",
   "metadata": {},
   "source": [
    "###### Threaded version - using ThreadPoolExecutor.map"
   ]
  },
  {
   "cell_type": "code",
   "execution_count": 4,
   "metadata": {},
   "outputs": [
    {
     "name": "stdout",
     "output_type": "stream",
     "text": [
      "BR BDEGDEIDCNFRMXPK RUNGINTRCDETIRJPVNUSPH                  \n",
      "20 flags downloaded in 0.23s\n"
     ]
    }
   ],
   "source": [
    "# example 17-3\n",
    "\n",
    "from concurrent import futures\n",
    "\n",
    "MAX_WORKERS = 20\n",
    "\n",
    "\n",
    "def download_one(cc):\n",
    "    image = get_flag(cc)\n",
    "    show(cc)\n",
    "    save_flag(image, cc.lower() + '.gif')\n",
    "\n",
    "    return cc\n",
    "\n",
    "\n",
    "def download_many(cc_list):\n",
    "    workers = min(MAX_WORKERS, len(cc_list))\n",
    "    with futures.ThreadPoolExecutor(workers) as executor:\n",
    "        res = executor.map(download_one, sorted(cc_list))\n",
    "        \n",
    "    return len(list(res))\n",
    "\n",
    "\n",
    "if __name__ == '__main__':\n",
    "    main(download_many)"
   ]
  },
  {
   "cell_type": "markdown",
   "metadata": {},
   "source": [
    "###### Threaded version - using ThreadPoolExecutor.submit and futures.as_completed"
   ]
  },
  {
   "cell_type": "code",
   "execution_count": 7,
   "metadata": {
    "collapsed": true
   },
   "outputs": [],
   "source": [
    "def download_many(cc_list):\n",
    "    cc_list = cc_list[:5]\n",
    "    with futures.ThreadPoolExecutor(max_workers=3) as executor:\n",
    "        to_do = []\n",
    "        for cc in sorted(cc_list):\n",
    "            future = executor.submit(download_one, cc)\n",
    "            to_do.append(future)\n",
    "            msg = 'Scheduled for {}: {}'\n",
    "            print(msg.format(cc, future))\n",
    "            \n",
    "        results = []\n",
    "        for future in futures.as_completed(to_do):\n",
    "            res = future.result()\n",
    "            msg = '{} result: {!r}'\n",
    "            print(msg.format(future, res))\n",
    "            results.append(res)\n",
    "            \n",
    "    return len(results)"
   ]
  },
  {
   "cell_type": "code",
   "execution_count": 9,
   "metadata": {},
   "outputs": [
    {
     "name": "stdout",
     "output_type": "stream",
     "text": [
      "Scheduled for BR: <Future at 0x2b97e20ba58 state=running>\n",
      "Scheduled for CN: <Future at 0x2b97e20bf98 state=running>\n",
      "Scheduled for ID: <Future at 0x2b97e20b6d8 state=running>\n",
      "Scheduled for IN: <Future at 0x2b97cb24da0 state=pending>\n",
      "Scheduled for US: <Future at 0x2b97e1cbf28 state=pending>\n",
      "ID BRCN<Future at 0x2b97e20b6d8 state=finished returned str> result: 'ID'  \n",
      "<Future at 0x2b97e20ba58 state=finished returned str> result: 'BR'\n",
      "<Future at 0x2b97e20bf98 state=finished returned str> result: 'CN'\n",
      "IN <Future at 0x2b97cb24da0 state=finished returned str> result: 'IN'\n",
      "US <Future at 0x2b97e1cbf28 state=finished returned str> result: 'US'\n",
      "\n",
      "5 flags downloaded in 1.01s\n"
     ]
    }
   ],
   "source": [
    "if __name__ == '__main__':\n",
    "    main(download_many)"
   ]
  },
  {
   "cell_type": "markdown",
   "metadata": {},
   "source": [
    "###### more example about ThreadPoolExecutor.map"
   ]
  },
  {
   "cell_type": "code",
   "execution_count": 11,
   "metadata": {},
   "outputs": [
    {
     "name": "stdout",
     "output_type": "stream",
     "text": [
      "[18:24:24] Script starting.\n"
     ]
    },
    {
     "ename": "TypeError",
     "evalue": "__init__() got an unexpected keyword argument 'max_worker'",
     "output_type": "error",
     "traceback": [
      "\u001b[1;31m---------------------------------------------------------------------------\u001b[0m",
      "\u001b[1;31mTypeError\u001b[0m                                 Traceback (most recent call last)",
      "\u001b[1;32m<ipython-input-11-5c3813005b18>\u001b[0m in \u001b[0;36m<module>\u001b[1;34m()\u001b[0m\n\u001b[0;32m     24\u001b[0m         \u001b[0mdisplay\u001b[0m\u001b[1;33m(\u001b[0m\u001b[1;34m'result {}: {}'\u001b[0m\u001b[1;33m.\u001b[0m\u001b[0mformat\u001b[0m\u001b[1;33m(\u001b[0m\u001b[0mi\u001b[0m\u001b[1;33m,\u001b[0m \u001b[0mresult\u001b[0m\u001b[1;33m)\u001b[0m\u001b[1;33m)\u001b[0m\u001b[1;33m\u001b[0m\u001b[0m\n\u001b[0;32m     25\u001b[0m \u001b[1;33m\u001b[0m\u001b[0m\n\u001b[1;32m---> 26\u001b[1;33m \u001b[0mmain\u001b[0m\u001b[1;33m(\u001b[0m\u001b[1;33m)\u001b[0m\u001b[1;33m\u001b[0m\u001b[0m\n\u001b[0m",
      "\u001b[1;32m<ipython-input-11-5c3813005b18>\u001b[0m in \u001b[0;36mmain\u001b[1;34m()\u001b[0m\n\u001b[0;32m     17\u001b[0m \u001b[1;32mdef\u001b[0m \u001b[0mmain\u001b[0m\u001b[1;33m(\u001b[0m\u001b[1;33m)\u001b[0m\u001b[1;33m:\u001b[0m\u001b[1;33m\u001b[0m\u001b[0m\n\u001b[0;32m     18\u001b[0m     \u001b[0mdisplay\u001b[0m\u001b[1;33m(\u001b[0m\u001b[1;34m'Script starting.'\u001b[0m\u001b[1;33m)\u001b[0m\u001b[1;33m\u001b[0m\u001b[0m\n\u001b[1;32m---> 19\u001b[1;33m     \u001b[0mexecutor\u001b[0m \u001b[1;33m=\u001b[0m \u001b[0mfutures\u001b[0m\u001b[1;33m.\u001b[0m\u001b[0mThreadPoolExecutor\u001b[0m\u001b[1;33m(\u001b[0m\u001b[0mmax_worker\u001b[0m\u001b[1;33m=\u001b[0m\u001b[1;36m3\u001b[0m\u001b[1;33m)\u001b[0m\u001b[1;33m\u001b[0m\u001b[0m\n\u001b[0m\u001b[0;32m     20\u001b[0m     \u001b[0mresults\u001b[0m \u001b[1;33m=\u001b[0m \u001b[0mexecutor\u001b[0m\u001b[1;33m.\u001b[0m\u001b[0mmap\u001b[0m\u001b[1;33m(\u001b[0m\u001b[0mloiter\u001b[0m\u001b[1;33m,\u001b[0m \u001b[0mrange\u001b[0m\u001b[1;33m(\u001b[0m\u001b[1;36m5\u001b[0m\u001b[1;33m)\u001b[0m\u001b[1;33m)\u001b[0m\u001b[1;33m\u001b[0m\u001b[0m\n\u001b[0;32m     21\u001b[0m     \u001b[0mdisplay\u001b[0m\u001b[1;33m(\u001b[0m\u001b[1;34m'results:'\u001b[0m\u001b[1;33m,\u001b[0m \u001b[0mresults\u001b[0m\u001b[1;33m)\u001b[0m\u001b[1;33m\u001b[0m\u001b[0m\n",
      "\u001b[1;31mTypeError\u001b[0m: __init__() got an unexpected keyword argument 'max_worker'"
     ]
    }
   ],
   "source": [
    "from time import sleep, strftime\n",
    "from concurrent import futures\n",
    "\n",
    "\n",
    "def display(*args):\n",
    "    print(strftime('[%H:%M:%S]'), end=' ')\n",
    "    print(*args)\n",
    "    \n",
    "def loiter(n):\n",
    "    msg = '{}loiter({}): doing nothing for {}s...'\n",
    "    display(msg.format('\\t'*n, n, n))\n",
    "    sleep(n)\n",
    "    msg = '{}loiter({}): done.'\n",
    "    display(msg.format('\\t'*n, n))\n",
    "    return n * 10\n",
    "\n",
    "def main():\n",
    "    display('Script starting.')\n",
    "    executor = futures.ThreadPoolExecutor(max_workers=3)\n",
    "    results = executor.map(loiter, range(5))\n",
    "    display('results:', results)\n",
    "    display('Waiting for individual results:')\n",
    "    for i, result in enumerate(results):\n",
    "        display('result {}: {}'.format(i, result))\n",
    "        \n",
    "main()"
   ]
  },
  {
   "cell_type": "code",
   "execution_count": null,
   "metadata": {
    "collapsed": true
   },
   "outputs": [],
   "source": []
  },
  {
   "cell_type": "code",
   "execution_count": null,
   "metadata": {
    "collapsed": true
   },
   "outputs": [],
   "source": []
  },
  {
   "cell_type": "code",
   "execution_count": null,
   "metadata": {
    "collapsed": true
   },
   "outputs": [],
   "source": []
  },
  {
   "cell_type": "markdown",
   "metadata": {},
   "source": []
  }
 ],
 "metadata": {
  "kernelspec": {
   "display_name": "Python 3",
   "language": "python",
   "name": "python3"
  },
  "language_info": {
   "codemirror_mode": {
    "name": "ipython",
    "version": 3
   },
   "file_extension": ".py",
   "mimetype": "text/x-python",
   "name": "python",
   "nbconvert_exporter": "python",
   "pygments_lexer": "ipython3",
   "version": "3.6.1"
  }
 },
 "nbformat": 4,
 "nbformat_minor": 2
}
