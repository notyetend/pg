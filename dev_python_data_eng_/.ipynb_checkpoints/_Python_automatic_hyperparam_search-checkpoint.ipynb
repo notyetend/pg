{
 "cells": [
  {
   "cell_type": "code",
   "execution_count": 2,
   "metadata": {},
   "outputs": [],
   "source": [
    "import hyperopt"
   ]
  },
  {
   "cell_type": "code",
   "execution_count": 70,
   "metadata": {
    "scrolled": true
   },
   "outputs": [
    {
     "name": "stdout",
     "output_type": "stream",
     "text": [
      "('case 2', 0.668850150819731, 0.8982346732957658)\n",
      "('case 2', 0.9880827811109384, 0.5028829339950397)\n",
      "('case 2', 0.3193012224591961, 2.345166919248841)\n",
      "('case 1', 2.4981029155418115, 0.2522689584262518)\n",
      "('case 1', 1.4396985791944952, 1.2097216513941582)\n",
      "('case 1', 3.7662116820689717, 0.35744854713737517)\n",
      "('case 1', 2.81495424887352, 0.8913297963469131)\n",
      "('case 1', 1.3743343430391028, 1.8097946940912104)\n",
      "('case 1', 1.634833445307076, 5.3650457530330655)\n",
      "('case 2', 1.0779615538946472, 0.42123309534554865)\n",
      "{'a': 1, 'c2': 0.3193012224591961, 'c4': 2.345166919248841}\n",
      "('case 2', 0.3193012224591961, 2.345166919248841)\n"
     ]
    }
   ],
   "source": [
    "# define an objective function\n",
    "def objective(args):\n",
    "    print(args)\n",
    "    case, val, val2 = args\n",
    "    if case == 'case 1':\n",
    "        return val\n",
    "    else:\n",
    "        return val ** 2\n",
    "\n",
    "# define a search space\n",
    "space = hyperopt.hp.choice('a',\n",
    "    [\n",
    "        ('case 1', 1 + hyperopt.hp.lognormal('c1', 0, 1), hyperopt.hp.lognormal('c3', 0, 1)),\n",
    "        ('case 2', hyperopt.hp.lognormal('c2', 0, 1), hyperopt.hp.lognormal('c4', 0, 1))\n",
    "    ])\n",
    "\n",
    "# minimize the objective over the space\n",
    "from hyperopt import fmin, tpe\n",
    "best = fmin(objective, space, algo=tpe.suggest, max_evals=10)\n",
    "\n",
    "print(best)\n",
    "# -> {'a': 1, 'c2': 0.01420615366247227}\n",
    "print(hyperopt.space_eval(space, best))\n",
    "# -> ('case 2', 0.01420615366247227}"
   ]
  },
  {
   "cell_type": "code",
   "execution_count": 57,
   "metadata": {},
   "outputs": [
    {
     "data": {
      "text/plain": [
       "('case 2', 3.665852601854615)"
      ]
     },
     "execution_count": 57,
     "metadata": {},
     "output_type": "execute_result"
    }
   ],
   "source": [
    "hyperopt.pyll.stochastic.sample(space)"
   ]
  },
  {
   "cell_type": "code",
   "execution_count": 71,
   "metadata": {},
   "outputs": [
    {
     "name": "stdout",
     "output_type": "stream",
     "text": [
      "Help on function hp_choice in module hyperopt.pyll_utils:\n",
      "\n",
      "hp_choice(label, options)\n",
      "\n"
     ]
    }
   ],
   "source": [
    "help(hyperopt.hp.choice)"
   ]
  },
  {
   "cell_type": "code",
   "execution_count": 77,
   "metadata": {},
   "outputs": [
    {
     "name": "stderr",
     "output_type": "stream",
     "text": [
      "C:\\ProgramData\\Anaconda3\\lib\\site-packages\\numpy\\lib\\function_base.py:1128: RuntimeWarning: Mean of empty slice.\n",
      "  avg = a.mean(axis)\n",
      "C:\\ProgramData\\Anaconda3\\lib\\site-packages\\numpy\\core\\_methods.py:80: RuntimeWarning: invalid value encountered in double_scalars\n",
      "  ret = ret.dtype.type(ret / rcount)\n"
     ]
    },
    {
     "data": {
      "text/plain": [
       "nan"
      ]
     },
     "execution_count": 77,
     "metadata": {},
     "output_type": "execute_result"
    }
   ],
   "source": [
    "import numpy as np\n",
    "np.average([])"
   ]
  },
  {
   "cell_type": "code",
   "execution_count": null,
   "metadata": {},
   "outputs": [],
   "source": []
  }
 ],
 "metadata": {
  "kernelspec": {
   "display_name": "Python 3",
   "language": "python",
   "name": "python3"
  },
  "language_info": {
   "codemirror_mode": {
    "name": "ipython",
    "version": 3
   },
   "file_extension": ".py",
   "mimetype": "text/x-python",
   "name": "python",
   "nbconvert_exporter": "python",
   "pygments_lexer": "ipython3",
   "version": "3.6.4"
  }
 },
 "nbformat": 4,
 "nbformat_minor": 2
}
