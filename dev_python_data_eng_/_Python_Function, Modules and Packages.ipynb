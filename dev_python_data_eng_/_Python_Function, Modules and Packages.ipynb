{
 "cells": [
  {
   "cell_type": "markdown",
   "metadata": {},
   "source": [
    "> 이 문서의 내용은 'Python Tutorial Release 3.4.2'를 참고하여 작성되었음.\n",
    "\n",
    "> Formating : header #2\n",
    "\n",
    "\n"
   ]
  },
  {
   "cell_type": "markdown",
   "metadata": {},
   "source": [
    "# Package(Folder) > Module(File) > Function or Class"
   ]
  },
  {
   "cell_type": "markdown",
   "metadata": {},
   "source": [
    "## About function argument"
   ]
  },
  {
   "cell_type": "markdown",
   "metadata": {},
   "source": [
    "**args and kwargs?**\n",
    "\n",
    "We call input values or parameters for function as \"arguments\". When we call functio, we can simply pass '<u>value of argment</u>' or '<u>keyword argument</u>'."
   ]
  },
  {
   "cell_type": "code",
   "execution_count": 231,
   "metadata": {
    "collapsed": false
   },
   "outputs": [
    {
     "name": "stdout",
     "output_type": "stream",
     "text": [
      "3\n",
      "3\n"
     ]
    }
   ],
   "source": [
    "def simple_function(a, b):\n",
    "    return a+b\n",
    "\n",
    "#Calling function with just 'value of argument'\n",
    "print(simple_function(1,2))\n",
    "\n",
    "#Calling function with 'keyword argument'\n",
    "print(simple_function(a=1,b=2))"
   ]
  },
  {
   "cell_type": "markdown",
   "metadata": {},
   "source": [
    "**Arbitrary Argument**\n",
    "\n",
    "argument의 수나 이름을 확정하지 않고 function call을 할 때, 임의로 argument들을 넘길수도 있다. \n",
    "\n",
    ">*args : keyword-only with list or tuple\n",
    "\n",
    ">**args : keyword and value pair with dictionaries\n",
    "\n",
    "argument를 넘길 때, *연산자는 list나 tuple을 unpack하고, **연산자는 dictionary를 unpack해서 넘겨준다."
   ]
  },
  {
   "cell_type": "code",
   "execution_count": 232,
   "metadata": {
    "collapsed": false
   },
   "outputs": [
    {
     "name": "stdout",
     "output_type": "stream",
     "text": [
      "normal arguments\n",
      " a: 1\n",
      " b: 2\n",
      "args: ('apple', 'tree')\n",
      " looping for args: apple\n",
      " looping for args: tree\n",
      "kwargs: {'hello': 'world', 'hi': 'there'}\n",
      " looping for kwargs: hello : world\n",
      " looping for kwargs: hi : there\n",
      "\n",
      "normal arguments\n",
      " a: 1\n",
      " b: 2\n",
      "args: ('apple', 'tree')\n",
      " looping for args: apple\n",
      " looping for args: tree\n",
      "kwargs: {'hello': 'world', 'hi': 'there'}\n",
      " looping for kwargs: hello : world\n",
      " looping for kwargs: hi : there\n",
      "\n"
     ]
    }
   ],
   "source": [
    "def arb_function(a, b, *args, **kwargs):\n",
    "    print(\"normal arguments\")\n",
    "    print(\" a:\", a)\n",
    "    print(\" b:\", b)\n",
    "    print(\"args:\", args)\n",
    "    for i in args:\n",
    "        print(\" looping for args:\", i)\n",
    "        \n",
    "    print(\"kwargs:\", kwargs)\n",
    "    keys = sorted(kwargs.keys())\n",
    "    for j in keys:\n",
    "        print(\" looping for kwargs:\", j, \":\", kwargs[j])\n",
    "    print()\n",
    "\n",
    "    \n",
    "ar = 'apple', 'tree'\n",
    "kw = {\"hello\":\"world\", \"hi\":\"there\"}\n",
    "\n",
    "arb_function(1, 2, *ar, **kw)\n",
    "\n",
    "#Same as above function call\n",
    "arb_function(1, 2, 'apple', 'tree', hello=\"world\", hi=\"there\")"
   ]
  },
  {
   "cell_type": "markdown",
   "metadata": {},
   "source": [
    "Lambda Expression을 사용할 수도 있다. lambda expression은 single expression을 inline으로 사용할 수 있도록 해 준다. 예를들어 어떤 함수가 argument로 n을 받았을 때, \n",
    "\n",
    "```Python\n",
    "lambda n: n+1\n",
    "```\n",
    "\n",
    "위와 같이 사용하면 lambda n이라는 표현은 n+1로 정의된다.\n",
    "\n",
    "아래 예에서는 dictionary의 sort함수 인자로 key=???을 넘겨줘야 한다. 이때 lambda pair를 pair[1]로 정의함으로써, dictionary의 key-value pair에서 value를 지칭하게 된다. 즉 값을 기준으로 정렬하겠다는 것이다.\n"
   ]
  },
  {
   "cell_type": "code",
   "execution_count": 233,
   "metadata": {
    "collapsed": false
   },
   "outputs": [
    {
     "data": {
      "text/plain": [
       "[(4, 'four'), (1, 'one'), (3, 'three'), (2, 'two')]"
      ]
     },
     "execution_count": 233,
     "metadata": {},
     "output_type": "execute_result"
    }
   ],
   "source": [
    "pairs = [(1, 'one'), (2, 'two'), (3, 'three'), (4, 'four')]\n",
    "pairs.sort(key=lambda pair:pair[1])\n",
    "pairs"
   ]
  },
  {
   "cell_type": "markdown",
   "metadata": {},
   "source": [
    "## Modules\n",
    "\n",
    "A module can contain executable statements as wells as function definitions.\n",
    "\n",
    "We can think 'module' as a .py file"
   ]
  },
  {
   "cell_type": "markdown",
   "metadata": {},
   "source": [
    "아래와 같은 py file을 하나 만들어 보자."
   ]
  },
  {
   "cell_type": "code",
   "execution_count": 234,
   "metadata": {
    "collapsed": false
   },
   "outputs": [
    {
     "name": "stdout",
     "output_type": "stream",
     "text": [
      "\n",
      "def fib(n): # write Fibonacci series up to n\n",
      "    a, b = 0, 1\n",
      "    while b < n:\n",
      "        print(b, end=' ')\n",
      "        a, b = b, a+b\n",
      "    print()\n",
      "    \n",
      "if __name__ == \"__main__\":\n",
      "    import sys\n",
      "    print(\"This is inside of main\")\n",
      "    fib(int(sys.argv[1]))\n",
      "\n"
     ]
    }
   ],
   "source": [
    "!!del 'fibo.py'\n",
    "f = open('fibo.py', 'w+')\n",
    "\n",
    "f.write(\n",
    "'''\n",
    "def fib(n): # write Fibonacci series up to n\n",
    "    a, b = 0, 1\n",
    "    while b < n:\n",
    "        print(b, end=' ')\n",
    "        a, b = b, a+b\n",
    "    print()\n",
    "    \n",
    "if __name__ == \"__main__\":\n",
    "    import sys\n",
    "    print(\"This is inside of main\")\n",
    "    fib(int(sys.argv[1]))\n",
    "\n",
    "'''\n",
    ")\n",
    "f.close()\n",
    "\n",
    "f = open('fibo.py', 'r')\n",
    "for line in f:\n",
    "    print(line, end='')\n",
    "f.close()\n"
   ]
  },
  {
   "cell_type": "markdown",
   "metadata": {},
   "source": [
    "As defined above, there is function 'fib' in the 'test.py' file. So we can call this function likes below\n",
    "\n",
    "```Python\n",
    "import fibo as f\n",
    "f.fib(5)\n",
    "```\n"
   ]
  },
  {
   "cell_type": "code",
   "execution_count": 240,
   "metadata": {
    "collapsed": false
   },
   "outputs": [
    {
     "name": "stdout",
     "output_type": "stream",
     "text": [
      "1 1 2 3 \n"
     ]
    }
   ],
   "source": [
    "import fibo\n",
    "fibo.fib(5)"
   ]
  },
  {
   "cell_type": "markdown",
   "metadata": {},
   "source": [
    "After you create a module script file(.py), you can execute module as script.\n",
    "\n",
    "```Python\n",
    "python fibo.py\n",
    "```\n",
    "\n",
    "This will execute fibo.py file, but with the $__name__$set to $__main__$.\n",
    "\n",
    "아래 테스트 코드에서 %pwd는 IPython의 working directory를 가져오고, os.getcwd()는 os의 working directory를 가져온다. 앞서 파일은 IPython의 working directory에 저정 했으므로, python명령을 날릴 os working directory가 그곳을 가리키는지 확인한다."
   ]
  },
  {
   "cell_type": "code",
   "execution_count": 241,
   "metadata": {
    "collapsed": false
   },
   "outputs": [
    {
     "name": "stdout",
     "output_type": "stream",
     "text": [
      "E:\\PlayGround\\Jupyter\\notebook\\Python and Jupyter basic\n",
      "E:\\PlayGround\\Jupyter\\notebook\\Python and Jupyter basic\n"
     ]
    },
    {
     "data": {
      "text/plain": [
       "['This is inside of main', '1 1 2 3 ']"
      ]
     },
     "execution_count": 241,
     "metadata": {},
     "output_type": "execute_result"
    }
   ],
   "source": [
    "curr_path = %pwd\n",
    "print(curr_path)\n",
    "\n",
    "import os\n",
    "print(os.getcwd())\n",
    "\n",
    "!!python fibo.py 5"
   ]
  },
  {
   "cell_type": "markdown",
   "metadata": {},
   "source": [
    "If you want to reflect changes, you have to reload the module with [imp.reload(*moduleName*)] command."
   ]
  },
  {
   "cell_type": "code",
   "execution_count": 242,
   "metadata": {
    "collapsed": false
   },
   "outputs": [
    {
     "data": {
      "text/plain": [
       "<module 'fibo' from 'E:\\\\PlayGround\\\\Jupyter\\\\notebook\\\\Python and Jupyter basic\\\\fibo.py'>"
      ]
     },
     "execution_count": 242,
     "metadata": {},
     "output_type": "execute_result"
    }
   ],
   "source": [
    "import imp\n",
    "imp.reload(fibo)"
   ]
  },
  {
   "cell_type": "markdown",
   "metadata": {},
   "source": [
    "**Module Search Path**\n",
    "\n",
    "The interpreter first searches for a <u>built-in module</u> with that name. If not found, it then searches for a <u>file name</u>d spam.py *<u>in a list of directories given by the variable sys.path</u>*.\n",
    "\n",
    "sys.path is initialized from these locations."
   ]
  },
  {
   "cell_type": "code",
   "execution_count": 243,
   "metadata": {
    "collapsed": false
   },
   "outputs": [
    {
     "data": {
      "text/plain": [
       "['',\n",
       " 'C:\\\\Anaconda3',\n",
       " 'C:\\\\Anaconda3\\\\python34.zip',\n",
       " 'C:\\\\Anaconda3\\\\DLLs',\n",
       " 'C:\\\\Anaconda3\\\\lib',\n",
       " 'C:\\\\Anaconda3\\\\Library\\\\bin',\n",
       " 'C:\\\\Anaconda3\\\\lib\\\\site-packages',\n",
       " 'C:\\\\Anaconda3\\\\lib\\\\site-packages\\\\Sphinx-1.3.1-py3.4.egg',\n",
       " 'C:\\\\Anaconda3\\\\lib\\\\site-packages\\\\cryptography-0.9.1-py3.4-win-amd64.egg',\n",
       " 'C:\\\\Anaconda3\\\\lib\\\\site-packages\\\\win32',\n",
       " 'C:\\\\Anaconda3\\\\lib\\\\site-packages\\\\win32\\\\lib',\n",
       " 'C:\\\\Anaconda3\\\\lib\\\\site-packages\\\\Pythonwin',\n",
       " 'C:\\\\Anaconda3\\\\lib\\\\site-packages\\\\setuptools-18.4-py3.4.egg',\n",
       " 'C:\\\\Anaconda3\\\\lib\\\\site-packages\\\\IPython\\\\extensions']"
      ]
     },
     "execution_count": 243,
     "metadata": {},
     "output_type": "execute_result"
    }
   ],
   "source": [
    "import sys\n",
    "sys.path"
   ]
  },
  {
   "cell_type": "markdown",
   "metadata": {},
   "source": [
    "## Packages\n",
    "\n",
    "Packages are a way of structuring Python's module namespace by using \"dotted module names\".\n",
    "\n",
    "The __init__.py files are required to make Python treat the directories as containing packages; this is done to\n",
    "prevent directories with a common name, such as string, from unintentionally hiding valid modules that occur\n",
    "later on the module search path."
   ]
  },
  {
   "cell_type": "code",
   "execution_count": 246,
   "metadata": {
    "collapsed": false
   },
   "outputs": [
    {
     "name": "stdout",
     "output_type": "stream",
     "text": [
      "1 1 2 3 \n",
      "1 1 2 3 \n",
      "1 1 2 3 \n"
     ]
    }
   ],
   "source": [
    "import mypackage1.mymodule1 as fb1 #fibo2 is package\n",
    "\n",
    "from mypackage1.mymodule1 import myfunction1 as fb2 #fib is function\n",
    "\n",
    "from mypackage1 import mymodule1 as fb3#fibo2 is package\n",
    "\n",
    "fb1.myfunction1(5)\n",
    "fb2(5)\n",
    "fb3.myfunction1(5)\n",
    "\n"
   ]
  },
  {
   "cell_type": "markdown",
   "metadata": {},
   "source": [
    "**from package import item** item은 package의 submodule, subpackage이거나 function, class 또는 variable도 가능하다.\n",
    "\n",
    "반면 **import item1.item2.item3...**에서 item의 마지막 item은 반드시 module이어야만 한다. class나 function은 안 된다.\n",
    "따라서 아래의 import는 error가 발생한다."
   ]
  },
  {
   "cell_type": "code",
   "execution_count": 248,
   "metadata": {
    "collapsed": false
   },
   "outputs": [
    {
     "ename": "ImportError",
     "evalue": "No module named 'mypackage1.mymodule1.myfunction1'; 'mypackage1.mymodule1' is not a package",
     "output_type": "error",
     "traceback": [
      "\u001b[1;31m---------------------------------------------------------------------------\u001b[0m",
      "\u001b[1;31mAttributeError\u001b[0m                            Traceback (most recent call last)",
      "\u001b[1;32mC:\\Anaconda3\\lib\\importlib\\_bootstrap.py\u001b[0m in \u001b[0;36m_find_and_load_unlocked\u001b[1;34m(name, import_)\u001b[0m\n",
      "\u001b[1;31mAttributeError\u001b[0m: 'module' object has no attribute '__path__'",
      "\nDuring handling of the above exception, another exception occurred:\n",
      "\u001b[1;31mImportError\u001b[0m                               Traceback (most recent call last)",
      "\u001b[1;32m<ipython-input-248-d8b010fddf9d>\u001b[0m in \u001b[0;36m<module>\u001b[1;34m()\u001b[0m\n\u001b[1;32m----> 1\u001b[1;33m \u001b[1;32mimport\u001b[0m \u001b[0mmypackage1\u001b[0m\u001b[1;33m.\u001b[0m\u001b[0mmymodule1\u001b[0m\u001b[1;33m.\u001b[0m\u001b[0mmyfunction1\u001b[0m \u001b[1;32mas\u001b[0m \u001b[0mfb\u001b[0m\u001b[1;33m\u001b[0m\u001b[0m\n\u001b[0m",
      "\u001b[1;31mImportError\u001b[0m: No module named 'mypackage1.mymodule1.myfunction1'; 'mypackage1.mymodule1' is not a package"
     ]
    }
   ],
   "source": [
    "import mypackage1.mymodule1.myfunction1 as fb"
   ]
  },
  {
   "cell_type": "markdown",
   "metadata": {},
   "source": [
    "**Importing * from a package**\n",
    "\n",
    "```Python\n",
    "from mymodule import *\n",
    "```\n",
    "위와 같이 입력할 경우 mymodule이하의 모든 submodule을 import할 것 처럼 보인다. 그러나 실제로는 mymodule경로의 `__init__.py`파일 `__all__`에 정의된 것들을 모두 불러오게 된다. 따라서 package저자가 `__all__`에 정의한 것에 전적으로 의존하게 된다.\n",
    "\n",
    "예를들어 \n",
    "```Python\n",
    "from mymodule import *\n",
    "```\n",
    "위와 같이 입력 했고 `__all__ = [\"apple\", \"tree\"]`와 같이 `__init__.py`에 정의되어 있다면, <span style=\"color:blue;\">mymodule.apple</span>과 <span style=\"color:blue;\">mymodule.tree</span>를 import하려 할 것이다.\n",
    "\n",
    "\n",
    "\n",
    "The wild card form of import — from module import * — is only allowed at the module level. Attempting to use it in class or function definitions will raise a SyntaxError.\n"
   ]
  },
  {
   "cell_type": "code",
   "execution_count": 34,
   "metadata": {
    "collapsed": false
   },
   "outputs": [
    {
     "name": "stdout",
     "output_type": "stream",
     "text": [
      "Once deleted, variables cannot be recovered. Proceed (y/[n])? y\n"
     ]
    },
    {
     "ename": "NameError",
     "evalue": "name 'mypackage1' is not defined",
     "output_type": "error",
     "traceback": [
      "\u001b[1;31m---------------------------------------------------------------------------\u001b[0m",
      "\u001b[1;31mNameError\u001b[0m                                 Traceback (most recent call last)",
      "\u001b[1;32m<ipython-input-34-ee6e1fcc0c61>\u001b[0m in \u001b[0;36m<module>\u001b[1;34m()\u001b[0m\n\u001b[0;32m      2\u001b[0m \u001b[1;33m\u001b[0m\u001b[0m\n\u001b[0;32m      3\u001b[0m \u001b[1;32mfrom\u001b[0m \u001b[0mmypackage1\u001b[0m \u001b[1;32mimport\u001b[0m \u001b[1;33m*\u001b[0m\u001b[1;33m\u001b[0m\u001b[0m\n\u001b[1;32m----> 4\u001b[1;33m \u001b[0mmypackage1\u001b[0m\u001b[1;33m.\u001b[0m\u001b[0mmypackage1_1\u001b[0m\u001b[1;33m.\u001b[0m\u001b[0mmymodule1_1\u001b[0m\u001b[1;33m.\u001b[0m\u001b[0mmyfunction1_1\u001b[0m\u001b[1;33m(\u001b[0m\u001b[1;36m5\u001b[0m\u001b[1;33m)\u001b[0m\u001b[1;33m\u001b[0m\u001b[0m\n\u001b[0m",
      "\u001b[1;31mNameError\u001b[0m: name 'mypackage1' is not defined"
     ]
    }
   ],
   "source": [
    "%reset\n",
    "\n",
    "from mypackage1 import *\n",
    "mypackage1.mypackage1_1.mymodule1_1.myfunction1_1(5)"
   ]
  },
  {
   "cell_type": "markdown",
   "metadata": {},
   "source": [
    "위에서 에러가 나는 이유는 import * 했을 때, mypackage1은 name space에 들어오지 않기 때문이다.    \n",
    "대신 mypackage1_1.mymodule1_1.myfunction1_1(5) 이렇게만 실행하면 괜찮을 것이다."
   ]
  },
  {
   "cell_type": "code",
   "execution_count": 32,
   "metadata": {
    "collapsed": false
   },
   "outputs": [
    {
     "name": "stdout",
     "output_type": "stream",
     "text": [
      "mymodule1\t mypackage1_1\t \n"
     ]
    }
   ],
   "source": [
    "%who"
   ]
  },
  {
   "cell_type": "code",
   "execution_count": 18,
   "metadata": {
    "collapsed": false
   },
   "outputs": [
    {
     "name": "stdout",
     "output_type": "stream",
     "text": [
      "Once deleted, variables cannot be recovered. Proceed (y/[n])? y\n"
     ]
    },
    {
     "ename": "NameError",
     "evalue": "name 'mypackage1' is not defined",
     "output_type": "error",
     "traceback": [
      "\u001b[1;31m---------------------------------------------------------------------------\u001b[0m",
      "\u001b[1;31mNameError\u001b[0m                                 Traceback (most recent call last)",
      "\u001b[1;32m<ipython-input-18-4803aea17409>\u001b[0m in \u001b[0;36m<module>\u001b[1;34m()\u001b[0m\n\u001b[0;32m      1\u001b[0m \u001b[0mget_ipython\u001b[0m\u001b[1;33m(\u001b[0m\u001b[1;33m)\u001b[0m\u001b[1;33m.\u001b[0m\u001b[0mmagic\u001b[0m\u001b[1;33m(\u001b[0m\u001b[1;34m'reset'\u001b[0m\u001b[1;33m)\u001b[0m\u001b[1;33m\u001b[0m\u001b[0m\n\u001b[0;32m      2\u001b[0m \u001b[1;32mfrom\u001b[0m \u001b[0mmypackage1\u001b[0m \u001b[1;32mimport\u001b[0m \u001b[1;33m*\u001b[0m\u001b[1;33m\u001b[0m\u001b[0m\n\u001b[1;32m----> 3\u001b[1;33m \u001b[0mmypackage1\u001b[0m\u001b[1;33m.\u001b[0m\u001b[0mmymodule1\u001b[0m\u001b[1;33m.\u001b[0m\u001b[0mmyfunction1\u001b[0m\u001b[1;33m(\u001b[0m\u001b[1;36m5\u001b[0m\u001b[1;33m)\u001b[0m\u001b[1;33m\u001b[0m\u001b[0m\n\u001b[0m",
      "\u001b[1;31mNameError\u001b[0m: name 'mypackage1' is not defined"
     ]
    }
   ],
   "source": [
    "%reset\n",
    "from mypackage1 import *\n",
    "mypackage1.mymodule1.myfunction1(5)"
   ]
  },
  {
   "cell_type": "code",
   "execution_count": 8,
   "metadata": {
    "collapsed": false
   },
   "outputs": [
    {
     "name": "stdout",
     "output_type": "stream",
     "text": [
      "Once deleted, variables cannot be recovered. Proceed (y/[n])? y\n",
      "1 1 2 3 \n"
     ]
    }
   ],
   "source": [
    "%reset\n",
    "from mypackage1.mymodule1 import * #importing module\n",
    "myfunction1(5)          #calling function"
   ]
  },
  {
   "cell_type": "code",
   "execution_count": 10,
   "metadata": {
    "collapsed": false,
    "scrolled": true
   },
   "outputs": [
    {
     "name": "stdout",
     "output_type": "stream",
     "text": [
      "Once deleted, variables cannot be recovered. Proceed (y/[n])? y\n",
      "1 1 2 3 \n"
     ]
    }
   ],
   "source": [
    "%reset\n",
    "import mypackage1 as my #importing Package\n",
    "my.mymodule1.myfunction1(5)     #calling package.module.function"
   ]
  },
  {
   "cell_type": "code",
   "execution_count": 12,
   "metadata": {
    "collapsed": false
   },
   "outputs": [
    {
     "name": "stdout",
     "output_type": "stream",
     "text": [
      "Once deleted, variables cannot be recovered. Proceed (y/[n])? y\n",
      "1 1 2 3 \n"
     ]
    }
   ],
   "source": [
    "%reset\n",
    "import mypackage1.mymodule1 as my #importing module\n",
    "my.myfunction1(5) #calling module.function"
   ]
  },
  {
   "cell_type": "code",
   "execution_count": 13,
   "metadata": {
    "collapsed": false
   },
   "outputs": [
    {
     "name": "stdout",
     "output_type": "stream",
     "text": [
      "Once deleted, variables cannot be recovered. Proceed (y/[n])? y\n",
      "1 1 2 3 \n"
     ]
    }
   ],
   "source": [
    "%reset\n",
    "from mypackage1 import mymodule1 as my #importing module\n",
    "my.myfunction1(5)  #calling module.function"
   ]
  },
  {
   "cell_type": "code",
   "execution_count": 19,
   "metadata": {
    "collapsed": false
   },
   "outputs": [
    {
     "name": "stdout",
     "output_type": "stream",
     "text": [
      "Once deleted, variables cannot be recovered. Proceed (y/[n])? y\n",
      "1 1 2 3 \n"
     ]
    }
   ],
   "source": [
    "%reset\n",
    "from mypackage1 import * #importing all sub modules under package\n",
    "mymodule1.myfunction1(5) #calling module.function"
   ]
  },
  {
   "cell_type": "code",
   "execution_count": 20,
   "metadata": {
    "collapsed": false
   },
   "outputs": [
    {
     "name": "stdout",
     "output_type": "stream",
     "text": [
      "Once deleted, variables cannot be recovered. Proceed (y/[n])? y\n",
      "1 1 2 3 \n"
     ]
    }
   ],
   "source": [
    "%reset\n",
    "import mypackage1.mypackage1_1.mymodule1_1 as fb #importing module\n",
    "fb.myfunction1_1(5) #importing module.function"
   ]
  },
  {
   "cell_type": "code",
   "execution_count": 21,
   "metadata": {
    "collapsed": false
   },
   "outputs": [
    {
     "name": "stdout",
     "output_type": "stream",
     "text": [
      "Once deleted, variables cannot be recovered. Proceed (y/[n])? y\n",
      "1 1 2 3 \n"
     ]
    }
   ],
   "source": [
    "%reset\n",
    "from mypackage1.mypackage1_1 import mymodule1_1 as fb #importing module\n",
    "fb.myfunction1_1(5)"
   ]
  },
  {
   "cell_type": "code",
   "execution_count": 24,
   "metadata": {
    "collapsed": false
   },
   "outputs": [
    {
     "name": "stdout",
     "output_type": "stream",
     "text": [
      "Once deleted, variables cannot be recovered. Proceed (y/[n])? y\n",
      "1 1 2 3 \n"
     ]
    }
   ],
   "source": [
    "%reset\n",
    "from mypackage1.mypackage1_1 import *\n",
    "mymodule1_1.myfunction1_1(5)"
   ]
  },
  {
   "cell_type": "code",
   "execution_count": 25,
   "metadata": {
    "collapsed": false
   },
   "outputs": [
    {
     "name": "stdout",
     "output_type": "stream",
     "text": [
      "Once deleted, variables cannot be recovered. Proceed (y/[n])? y\n",
      "1 1 2 3 5 8 \n"
     ]
    }
   ],
   "source": [
    "%reset\n",
    "import mypackage1\n",
    "mypackage1.mypackage1_1.mymodule1_1.myfunction1_1(10)"
   ]
  },
  {
   "cell_type": "code",
   "execution_count": 40,
   "metadata": {
    "collapsed": false
   },
   "outputs": [
    {
     "ename": "SyntaxError",
     "evalue": "invalid syntax (<ipython-input-40-ba45c7706c5f>, line 2)",
     "output_type": "error",
     "traceback": [
      "\u001b[1;36m  File \u001b[1;32m\"<ipython-input-40-ba45c7706c5f>\"\u001b[1;36m, line \u001b[1;32m2\u001b[0m\n\u001b[1;33m    import ..\u001b[0m\n\u001b[1;37m           ^\u001b[0m\n\u001b[1;31mSyntaxError\u001b[0m\u001b[1;31m:\u001b[0m invalid syntax\n"
     ]
    }
   ],
   "source": [
    "%who\n",
    "\n",
    "import mypackage1\n",
    "from . import mypackage1_1"
   ]
  },
  {
   "cell_type": "code",
   "execution_count": 38,
   "metadata": {
    "collapsed": false
   },
   "outputs": [
    {
     "name": "stdout",
     "output_type": "stream",
     "text": [
      "mymodule1\t mypackage1\t mypackage1_1\t \n"
     ]
    }
   ],
   "source": [
    "who"
   ]
  },
  {
   "cell_type": "markdown",
   "metadata": {},
   "source": [
    "## Blabla"
   ]
  },
  {
   "cell_type": "markdown",
   "metadata": {},
   "source": [
    "## Blabla"
   ]
  },
  {
   "cell_type": "markdown",
   "metadata": {},
   "source": [
    "## Blabla"
   ]
  },
  {
   "cell_type": "markdown",
   "metadata": {},
   "source": [
    "## Blabla"
   ]
  },
  {
   "cell_type": "markdown",
   "metadata": {},
   "source": [
    "## Blabla"
   ]
  },
  {
   "cell_type": "markdown",
   "metadata": {},
   "source": [
    "## Blabla"
   ]
  },
  {
   "cell_type": "markdown",
   "metadata": {},
   "source": [
    "## Blabla"
   ]
  },
  {
   "cell_type": "markdown",
   "metadata": {},
   "source": [
    "## Blabla"
   ]
  },
  {
   "cell_type": "markdown",
   "metadata": {},
   "source": [
    "## Blabla"
   ]
  }
 ],
 "metadata": {
  "kernelspec": {
   "display_name": "Python 3",
   "language": "python",
   "name": "python3"
  },
  "language_info": {
   "codemirror_mode": {
    "name": "ipython",
    "version": 3
   },
   "file_extension": ".py",
   "mimetype": "text/x-python",
   "name": "python",
   "nbconvert_exporter": "python",
   "pygments_lexer": "ipython3",
   "version": "3.4.3"
  }
 },
 "nbformat": 4,
 "nbformat_minor": 0
}
