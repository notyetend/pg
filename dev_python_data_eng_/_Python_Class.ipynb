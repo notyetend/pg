{
 "cells": [
  {
   "cell_type": "markdown",
   "metadata": {},
   "source": [
    "> Reference\n",
    "> - [http://spartanideas.msu.edu/2014/05/12/a-beginners-guide-to-pythons-namespaces-scope-resolution-and-the-legb-rule/]\n",
    "> - 'Classes section' of the [Python tutorial 3.4]"
   ]
  },
  {
   "cell_type": "markdown",
   "metadata": {},
   "source": [
    "### Names and Objects"
   ]
  },
  {
   "cell_type": "markdown",
   "metadata": {},
   "source": [
    "**<u>objects</u>** have individuality, and multiple **<u>names</u>** (in multiple scopes) can be bound to the same object.  \n",
    "\n",
    "**<u>attribute</u>** is a property of the object. It's a name following a dot -- for example, in the expression z.real, *zeal* is an attribute of the object z. "
   ]
  },
  {
   "cell_type": "markdown",
   "metadata": {},
   "source": [
    "### Namespace"
   ]
  },
  {
   "cell_type": "markdown",
   "metadata": {},
   "source": [
    "**namespaces** are just containers for a <u>name-to-object mapping</u> allows us to access an object by a name that we'v assigned to it. E.g., if we make a simple string assignment via \n",
    "\n",
    "```Python\n",
    "a_string = \"Hello world\"\n",
    "```\n",
    "we created a reference to the \"Hello world\" string object, and henceforth we can access via its variable name a_string. Actually most namespaces are currently implemented as Python dictionaries, e.g., \n",
    "\n",
    "```Python\n",
    "a_namespace = {'name_a':object_1, 'name_b':object_2, ...}\n",
    "```\n",
    "\n",
    "Now, the tricky part is that we have multiple independent namespaces in Python, and names can be reused for different namespaces (only the objects are unique), for example\n",
    "\n",
    "```Python\n",
    "a_namespace = {'name_a':object_1, 'name_b':object_2, ...}\n",
    "b_namespace = {'name_a':object_3, 'name_b':object_4, ...}\n",
    "```\n",
    "\n",
    "For example, every time we call a for-loop or define a function, it will create its own namespace. Namespaces also have diffenent levels of hierarchy (the so-called **scope**), which we will dicuss in more detail in the next section.\n",
    "\n",
    "And in a sence the set of arributes of an object also form a namespace.\n"
   ]
  },
  {
   "cell_type": "markdown",
   "metadata": {},
   "source": [
    "### Scope"
   ]
  },
  {
   "cell_type": "markdown",
   "metadata": {},
   "source": [
    "A **scope** is a textual region of a Python program where a namespace is directly accessible. \"Directly accessible\" here means that an unqualified reference to a name attempts to find the name in the namespace. "
   ]
  },
  {
   "cell_type": "markdown",
   "metadata": {},
   "source": [
    "So the **scope** defines on which hierarchy level Python searches for a particular \"variable name\" for its associated object. Now, the next question is: \"In which order does Python search the different levels of namespaces before it finds the name-to-object' mapping?\"   \n",
    "To answer is: It uses the LEGB-rule, which stand for\n",
    "\n",
    "<u>Local -> Enclosed -> Global -> Built-in</u>\n",
    "\n",
    "where the arrow should denote the direction of the namespace-hierachy search order.\n",
    "\n",
    "- <u>Local</u> can be inside a function or class method, for example. *변수를 찾기 시작하는 지점의 범위*.\n",
    "- <u>Enclosed</u> can be its enclosing function, e.g., if a function is wrapped inside another function. *함수내 선언된 변수*\n",
    "- <u>Global</u> refers to the uppermost level of the executing script itself, and *최초 해당 script가 시작된 범위*.\n",
    "- <u>Built-in</u> are special names that Python reserves for itself. *Python interpreter가 시작될때 별도로 생성된 범위*.\n",
    "\n",
    "So, if a particular name-to-object mapping cannot be found in the <u>local namespace</u>, the namespaces of the <u>enclosed scope</u> are being searched next. If the search in the enclosed scope is unsuccessful, too, Python moves on to the <u>global namespace</u>, and eventually, it will search the <u>built-in</u> namespaces (side note: if a name cannot found in any of the namespaces, a NameError will be raised)."
   ]
  },
  {
   "cell_type": "code",
   "execution_count": 31,
   "metadata": {
    "collapsed": false
   },
   "outputs": [
    {
     "name": "stdout",
     "output_type": "stream",
     "text": [
      "called my len() function\n",
      "Input variable is of length 13\n"
     ]
    }
   ],
   "source": [
    "a_var = 'global variable'\n",
    "\n",
    "def len(in_var):\n",
    "    print('called my len() function')\n",
    "    l = 0\n",
    "    for i in in_var:\n",
    "        l += 1\n",
    "    return l\n",
    "\n",
    "def a_func(in_var):\n",
    "    len_in_var = len(in_var)\n",
    "    print('Input variable is of length', len_in_var)\n",
    "    \n",
    "a_func('Hello, World!')\n",
    "\n"
   ]
  },
  {
   "cell_type": "markdown",
   "metadata": {},
   "source": [
    "**Warning: For-loop variables \"leaking\" into the global namespace**"
   ]
  },
  {
   "cell_type": "markdown",
   "metadata": {},
   "source": [
    "for-loop의 임시 변수라고 생각할 수 있는, 지시 변수가 global로 선언되고 사용된다.\n",
    "\n",
    "In contrast to some other programming languages, for-loops will use the scope they exist in and leave their defined loop-variable behind.\n",
    "\n",
    "즉 아래 for-loop에서 a가 global scope에 6인체로 남게 된다."
   ]
  },
  {
   "cell_type": "code",
   "execution_count": 35,
   "metadata": {
    "collapsed": false
   },
   "outputs": [
    {
     "name": "stdout",
     "output_type": "stream",
     "text": [
      "4 in for-loop\n",
      "6 in global\n"
     ]
    }
   ],
   "source": [
    "for a in range(7):\n",
    "    if a == 4:\n",
    "        print(a, 'in for-loop')\n",
    "print(a, 'in global')"
   ]
  },
  {
   "cell_type": "markdown",
   "metadata": {},
   "source": [
    "As u see below, variable 'a' is in global when it is used in the for-loop."
   ]
  },
  {
   "cell_type": "code",
   "execution_count": 34,
   "metadata": {
    "collapsed": false
   },
   "outputs": [
    {
     "name": "stdout",
     "output_type": "stream",
     "text": [
      "4 in for-loop\n",
      "a is in global? True\n",
      "6 in global\n"
     ]
    }
   ],
   "source": [
    "for a in range(7):\n",
    "    if a == 4:\n",
    "        print(a, 'in for-loop')\n",
    "        print('a is in global?', 'a' in globals())\n",
    "\n",
    "print(a, 'in global')"
   ]
  },
  {
   "cell_type": "markdown",
   "metadata": {},
   "source": [
    "Python 3.x에서는 for-loop를 closure내에 사용함으로써 피할 수 있다.\n",
    "\n",
    "그러나 똑같은 code를 Python 2.x에서 실행하면 i값으로 4를 출력할 것이다."
   ]
  },
  {
   "cell_type": "code",
   "execution_count": 38,
   "metadata": {
    "collapsed": false
   },
   "outputs": [
    {
     "name": "stdout",
     "output_type": "stream",
     "text": [
      "[0, 1, 2, 3, 4]\n",
      "1 : i in global\n"
     ]
    }
   ],
   "source": [
    "i = 1\n",
    "print([i for i in range(5)])\n",
    "print(i, ': i in global')"
   ]
  },
  {
   "cell_type": "markdown",
   "metadata": {},
   "source": [
    "# Classes"
   ]
  },
  {
   "cell_type": "markdown",
   "metadata": {},
   "source": [
    "Objects"
   ]
  },
  {
   "cell_type": "markdown",
   "metadata": {},
   "source": [
    "namespace"
   ]
  },
  {
   "cell_type": "markdown",
   "metadata": {},
   "source": [
    "scope"
   ]
  },
  {
   "cell_type": "markdown",
   "metadata": {},
   "source": []
  }
 ],
 "metadata": {
  "kernelspec": {
   "display_name": "Python 3",
   "language": "python",
   "name": "python3"
  },
  "language_info": {
   "codemirror_mode": {
    "name": "ipython",
    "version": 3
   },
   "file_extension": ".py",
   "mimetype": "text/x-python",
   "name": "python",
   "nbconvert_exporter": "python",
   "pygments_lexer": "ipython3",
   "version": "3.4.3"
  }
 },
 "nbformat": 4,
 "nbformat_minor": 0
}
