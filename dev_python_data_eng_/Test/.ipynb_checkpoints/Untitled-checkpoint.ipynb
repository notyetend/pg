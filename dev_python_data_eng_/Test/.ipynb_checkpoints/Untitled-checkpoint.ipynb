{
 "cells": [
  {
   "cell_type": "code",
   "execution_count": 48,
   "metadata": {
    "collapsed": true
   },
   "outputs": [],
   "source": [
    "sim1_1_sgd = ({'accuracy': 0.71599999999999997\n",
    "               , 'precision': 0.37966101694915255\n",
    "               , 'fp': 183, 'recall': 0.5258215962441315, 'tp': 112, 'tn': 604, 'f1_score': 0.44094488188976377\n",
    "               , 'tot': 1000, 'fn': 101}, 0.5703298035967919, 0.30817508697509766 )\n",
    "sim1_1_adf = ({'accuracy': 0.70199999999999996, 'precision': 0.34317343173431736, 'fp': 178, 'recall': 0.43661971830985913\n",
    "               , 'tp': 93, 'tn': 609, 'f1_score': 0.38429752066115702\n",
    "               , 'tot': 1000, 'fn': 120}, 0.5703053673521401, 0.4612619876861572)\n",
    "\n",
    "sim1_2_sgd = ({'recall': 0.57378472222222221, 'tot': 10000, 'f1_score': 0.47571068729758903, 'tn': 5764, 'fp': 1932\n",
    "               , 'precision': 0.40626920712968656, 'fn': 982\n",
    "               , 'accuracy': 0.70860000000000001, 'tp': 1322}, 0.5672998573037459, 2.310324192047119 )\n",
    "sim1_2_adf = ({'recall': 0.55208333333333337, 'tot': 10000, 'f1_score': 0.47864534336782688, 'tn': 5957\n",
    "               , 'fp': 1739, 'precision': 0.42245101295250748, 'fn': 1032\n",
    "               , 'accuracy': 0.72289999999999999, 'tp': 1272}, 0.5526848301193127, 3.1087799072265625 )\n",
    "\n",
    "\n",
    "sim1_3_sgd = ({'f1_score': 0.5469408130791551, 'precision': 0.46035872790777066, 'fn': 8493, 'fp': 20549\n",
    "               , 'tp': 17530, 'tn': 53428, 'tot': 100000\n",
    "               , 'recall': 0.67363486146870077, 'accuracy': 0.70957999999999999}, 0.5642465684711354, 22.601940870285034 )\n",
    "sim1_3_adf = ({'f1_score': 0.54393064459903906, 'precision': 0.44909400340374411, 'fn': 8079, 'fp': 22012, 'tp': 17944\n",
    "               , 'tn': 51965, 'tot': 100000, 'recall': 0.68954386504246246\n",
    "               , 'accuracy': 0.69908999999999999}, 0.5746658922608376, 30.980741024017334)\n",
    "\n",
    "\n",
    "sim1_5_sgd = ({'fp': 2125802, 'tot': 10000000, 'accuracy': 0.7124528, 'precision': 0.46005714377152446\n",
    "               , 'fn': 749670, 'f1_score': 0.55748639359363938, 'tp': 1811285, 'tn': 5313243\n",
    "               , 'recall': 0.7072693585010279}, 0.5599016879010087, 2148.9990730285645 )\n",
    "sim1_5_adf = ({'fp': 2123647, 'tot': 10000000, 'accuracy': 0.71301800000000004\n",
    "               , 'precision': 0.46078829909083036, 'fn': 746173, 'f1_score': 0.55844738516757886\n",
    "               , 'tp': 1814782, 'tn': 5315398\n",
    "               , 'recall': 0.70863486472819714}, 0.5585999682067023, 2756.5304708480835 )\n",
    "\n",
    "\n",
    "sim1_4_sgd = ({'precision': 0.44975906616271116, 'f1_score': 0.54259324692267963, 'fn': 78495\n",
    "               , 'fp': 207596, 'tot': 1000000, 'tp': 169686, 'accuracy': 0.71390900000000002\n",
    "               , 'tn': 544223, 'recall': 0.68371873753429957}, 0.5596582211712917, 226.40464687347412 )\n",
    "sim1_4_adf = ({'precision': 0.45150424782262333, 'f1_score': 0.54285140336357285\n",
    "               , 'fn': 79285, 'fp': 205178, 'tot': 1000000, 'tp': 168896, 'accuracy': 0.71553699999999998\n",
    "               , 'tn': 546641, 'recall': 0.68053557685721311}, 0.5571698148722777, 292.78665804862976 )\n"
   ]
  },
  {
   "cell_type": "code",
   "execution_count": 49,
   "metadata": {
    "collapsed": false
   },
   "outputs": [
    {
     "data": {
      "text/plain": [
       "'101'"
      ]
     },
     "execution_count": 49,
     "metadata": {},
     "output_type": "execute_result"
    }
   ],
   "source": [
    "str(sim1_1_sgd[0].get('fn'))"
   ]
  },
  {
   "cell_type": "code",
   "execution_count": 50,
   "metadata": {
    "collapsed": false
   },
   "outputs": [],
   "source": [
    "names = ['tp', 'fp', 'fn', 'tn', 'accuracy', 'precision', 'recall', 'f1_score']\n",
    "names = ['accuracy', 'precision', 'recall', 'f1_score']"
   ]
  },
  {
   "cell_type": "code",
   "execution_count": 53,
   "metadata": {
    "collapsed": false
   },
   "outputs": [],
   "source": [
    "def get_latex_str(sim):\n",
    "    import numpy as np\n",
    "    st = ''\n",
    "    for s in names:\n",
    "        k = str(np.round(sim[0].get(s), 3))\n",
    "        st += (' & ' + k)\n",
    "    st += (' & ' + str(np.round(sim[1],3)) + ' & ' + str(np.round(sim[2],3)))\n",
    "    return(st)"
   ]
  },
  {
   "cell_type": "code",
   "execution_count": 64,
   "metadata": {
    "collapsed": false
   },
   "outputs": [
    {
     "data": {
      "text/plain": [
       "' & 0.71 & 0.46 & 0.674 & 0.547 & 0.564 & 22.602'"
      ]
     },
     "execution_count": 64,
     "metadata": {},
     "output_type": "execute_result"
    }
   ],
   "source": [
    "get_latex_str(sim1_3_sgd)"
   ]
  },
  {
   "cell_type": "code",
   "execution_count": 63,
   "metadata": {
    "collapsed": false
   },
   "outputs": [
    {
     "data": {
      "text/plain": [
       "' & 0.702 & 0.343 & 0.437 & 0.384 & 0.57 & 0.461'"
      ]
     },
     "execution_count": 63,
     "metadata": {},
     "output_type": "execute_result"
    }
   ],
   "source": [
    "get_latex_str(sim1_1_adf)"
   ]
  },
  {
   "cell_type": "code",
   "execution_count": 68,
   "metadata": {
    "collapsed": false
   },
   "outputs": [
    {
     "data": {
      "text/plain": [
       "0.437"
      ]
     },
     "execution_count": 68,
     "metadata": {},
     "output_type": "execute_result"
    }
   ],
   "source": [
    "np.round(38.859 / 89, 3)\n"
   ]
  },
  {
   "cell_type": "code",
   "execution_count": 71,
   "metadata": {
    "collapsed": false
   },
   "outputs": [
    {
     "data": {
      "text/plain": [
       "1.449685534591195"
      ]
     },
     "execution_count": 71,
     "metadata": {},
     "output_type": "execute_result"
    }
   ],
   "source": [
    "0.461 / 0.318"
   ]
  },
  {
   "cell_type": "code",
   "execution_count": 72,
   "metadata": {
    "collapsed": false
   },
   "outputs": [
    {
     "data": {
      "text/plain": [
       "1.3707194053623573"
      ]
     },
     "execution_count": 72,
     "metadata": {},
     "output_type": "execute_result"
    }
   ],
   "source": [
    "30.981 / 22.602"
   ]
  },
  {
   "cell_type": "code",
   "execution_count": 70,
   "metadata": {
    "collapsed": false
   },
   "outputs": [
    {
     "data": {
      "text/plain": [
       "1.2827041799461054"
      ]
     },
     "execution_count": 70,
     "metadata": {},
     "output_type": "execute_result"
    }
   ],
   "source": [
    "2756.530 / 2148.999"
   ]
  },
  {
   "cell_type": "code",
   "execution_count": null,
   "metadata": {
    "collapsed": true
   },
   "outputs": [],
   "source": []
  }
 ],
 "metadata": {
  "kernelspec": {
   "display_name": "Python 2",
   "language": "python",
   "name": "python2"
  },
  "language_info": {
   "codemirror_mode": {
    "name": "ipython",
    "version": 2
   },
   "file_extension": ".py",
   "mimetype": "text/x-python",
   "name": "python",
   "nbconvert_exporter": "python",
   "pygments_lexer": "ipython2",
   "version": "2.7.11"
  }
 },
 "nbformat": 4,
 "nbformat_minor": 0
}
