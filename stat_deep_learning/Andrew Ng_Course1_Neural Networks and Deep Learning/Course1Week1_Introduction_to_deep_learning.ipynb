{
 "cells": [
  {
   "cell_type": "markdown",
   "metadata": {},
   "source": [
    "> 몇주전(2017년 8월초)에 반가운 뉴스를 듣게 되는데요. Andrew Ng 교수가 Coursera에 Deep Learning 강의를 열겠다는 소식이었습니다. Specialization 형식으로 크게 5개 강의로 나눠서 Deep Learning 기초부터 Sequence Model까지 진행한다고 하네요. 구현은 요즘 트렌드에 맞게 Python을 이용한다고 합니다. \n",
    "\n",
    "> 오래전에 그의 Machine Learning 강의를 듣고 매우 만족했었고 개인적으로도 Deep Learning에 관심을 갖고 있는지라 이번 강의를 수강하면서 매주 내용을 정리해 올릴 예정입니다. 대략 20주 정도 걸릴것 같네요. 그럼 시작해볼까요? \n",
    "\n",
    "> 2018-08-15. dwk\n",
    "\n",
    "---"
   ]
  },
  {
   "cell_type": "markdown",
   "metadata": {},
   "source": [
    "###### Coursera  | Andrew Ng's Deep Learning Class | Course1. Neural Networks and Deep Learning | Week1. Introduction_to_Deep_Learning"
   ]
  },
  {
   "cell_type": "markdown",
   "metadata": {},
   "source": [
    "# [1]. Welcome to the Deep Learning Specialization"
   ]
  },
  {
   "cell_type": "markdown",
   "metadata": {},
   "source": [
    "### [1-1] Welcome"
   ]
  },
  {
   "cell_type": "markdown",
   "metadata": {},
   "source": [
    "딥러닝(deep learning)은 최근 웹 검색이나 광고등의 분야에 큰 영향을 주고 있다. 또한 헬스케어 분야에서는 영상처리를 이용한 검사결과 판독, 교육 분야에서는 개인화된 교육 컨텐츠 제공, 농업에서의 혁신, 자동운전 자동차(self-driving car) 등 기존에 없던 비즈니스나 상품을 만들어내고 있다. \n",
    "\n",
    "(중략) \n",
    "\n",
    "첫번째 코스인 'Neural Networks and Deep Learning'에서는 기본적인 신경망(neural network)을 구성하고 학습시키는 법을 배울 것이며, 예제로는 고양이 그림을 구분하는 모형을 만들어 볼 것이다.\n",
    "\n",
    "두번째 코스인 'Improving Deep Neural Networks: Hyperparameter tuning, Regularization and Optimization'에서는 딥러닝을 다룰 때 실용적인 방법론들에 대해 배울것인데, 실제 모형의 성능을 향상시키기 위한 방법들 모형변수(Hyperparameter) 튜닝이나 정규화(regularization), 과적합(overfitting, high variance)/부적합(underfitting, high bias)에 대한 대처, 모멘텀이나 RMSProp과 같은 최적화(optimization) 방법 등을 다룰 것이다.\n",
    "\n",
    "세번째 코스인 'Structuring your Machine Learning project'에서는 전체적인 머신러닝 시스템을 어떻게 구성할 것인에 다룰 것인데, 딥러닝이 나오면서 (기존의 머신러닝과 다르게) 시스템을 구성하는 전략 또한 많이 바뀌게 되었다. 예를들어 훈련데이터(training data)/예비 교차검증 데이터(holdout cross-validation data, development data)/테스트 데이터(test data)를 나누는 방법 또한 딥러닝 시대에는 이전과 달라졌다. 이 코스에서 다룰 내용은 사실 다른 강좌나 보통 다루지 않지만 대단히 실용적인 것들이다.\n",
    "\n",
    "네번재 코스인 'Convolutional Neural Networks'에서는 CNN이라 불리는 합성곱신경망에 대해 알아볼 것이다.\n",
    "\n",
    "다섯번째 코스인 'Natural Language Processing: Building sequence models'에서는 시퀀스 모델을 자연어 처리나 음성인식, 음악생성 등 문제에 적용하는 방법을 배울 것이며, RNN(Recurrent Neural Networks)/LSTM(Long-Short Team Memory) 등을 다룰 것이다.\n"
   ]
  },
  {
   "cell_type": "markdown",
   "metadata": {},
   "source": [
    "# [2]. Introduction to Deep Learning"
   ]
  },
  {
   "cell_type": "markdown",
   "metadata": {},
   "source": [
    "### [2-1]. What is a neural network?"
   ]
  },
  {
   "cell_type": "markdown",
   "metadata": {},
   "source": [
    "딥러닝(deep learning)은 (때때로 매우 깊은/레이어가 많은) 신경망(neural networks)를 학습시키는 것을 칭하는 말이다. 그렇다면 신경망은 무엇일까?\n",
    "\n",
    "집의 크기를 근거로 집값을 예측하는 문제를 생각해보자. 가령 6채 집의 크기와 가격 데이터가 있다고 할 때 이 데이터를 이용해 집값을 예측하는 모형을 만들어보자. 아래 그림과 같이 빨간 엑스점들을 따라 직선을 그을 수 있고 어느 정도 크기 이하의 집의 가격은 0이라고 가정하는 신경망 모형을 만들어볼 수 있다.\n",
    "\n",
    "집의 크기($x$)값을 입력으로 받아 어떤 함수(neuron)를 지나 집의 가격($y$)를 출력하는 간단한 신경망을 생각해볼 수 있고, 이때 '어떤 함수'로 특정값 이하 입력에는 0을 특정값 이상에는 그 값을 그대로 출력하는 함수인 ReLU(Rectified Linear Unit)를 사용할 수 있을 것이다. (앞으로 이 ReLU 함수를 자주 보게 될 것이다.)"
   ]
  },
  {
   "cell_type": "markdown",
   "metadata": {},
   "source": [
    "![Local image](./images/C1W1L02_01.PNG)"
   ]
  },
  {
   "cell_type": "markdown",
   "metadata": {},
   "source": [
    "앞서의 신경망은 뉴런(neuron, 동그라미)이 하나만 사용된 아주 간단한 형태이고, 뉴런이 다수 여러 레이어로 구성된 보다 복잡한 형태의 신경망을 생각해볼 수도 있다. \n",
    "\n",
    "예를들어 '집의 크기(size)' 뿐만 아니라 '방의 수(# bedrooms)'도 근거 자료가 될 수 있고 이 두가지가 '수용 가능한 가족의 크기(family size)'를 결정하고, '주소(zip code)'는 '도보접근성(walkability)'을 결정하며, '주소'와 '동네의 부유함(wealth)'은 '학교의 질(school quality)'을 결정할 것이다. 결국 '수용 가능한 가족의 크기', '도보접근성', '학교의 질'이 '집의 가격'을 결정하는 아래와 같은 신경망 모형을 생각해볼 수 있다.\n",
    "\n",
    "사실 아래 신경망 모형에서 '수용 가능한 가족의 크기', '도보접근성', '학교의 질'은 누군가가 직접 결정하는 부분은 아니고 네트워크 내에서 스스로 학습되는 것이라는 점이 신경망 모형의 장점이라 할 수 있다."
   ]
  },
  {
   "cell_type": "markdown",
   "metadata": {},
   "source": [
    "![Local image](./images/C1W1L02_02.PNG)"
   ]
  },
  {
   "cell_type": "markdown",
   "metadata": {},
   "source": [
    "위 모형을 좀더 정식화하여 아래와 같은 신경망 모형으로 나타낼 수 있다."
   ]
  },
  {
   "cell_type": "markdown",
   "metadata": {},
   "source": [
    "![Local image](./images/C1W1L02_03.PNG)"
   ]
  },
  {
   "cell_type": "markdown",
   "metadata": {},
   "source": [
    "### [2-2]. Supervised Learning with Neural Networks"
   ]
  },
  {
   "cell_type": "markdown",
   "metadata": {},
   "source": [
    "다양한 분야에서 지도학습 형태의 신경망을 이용하는데, 분야에 따라 신경망의 형태가 조금식 달라진다. $y$가 실수 혹은 범주인 경우 일반적인 신경망을 사용하고, 이미지 인식에는 CNN을, 음성인식과 기계번역에는 RNN을, 자동 운전에는 하이브리드 형태의 신경망을 일반적으로 사용한다."
   ]
  },
  {
   "cell_type": "markdown",
   "metadata": {},
   "source": [
    "![Local image](./images/C1W1L03_01.PNG)"
   ]
  },
  {
   "cell_type": "markdown",
   "metadata": {},
   "source": [
    "아래 그림에 몇가지 신경망의 예로 '일반적인 신경망', '합성곱 신경망', '순환신경망'이 제시됨"
   ]
  },
  {
   "cell_type": "markdown",
   "metadata": {},
   "source": [
    "![Local image](./images/C1W1L03_02.PNG)"
   ]
  },
  {
   "cell_type": "markdown",
   "metadata": {},
   "source": [
    "구조화된 데이터(structured data)는 각 변수의 값이 숫자나 범주로 정리된 데이터를 말하며, 비구조화된 데이터(unstructured data)는 음성이나 이미지와 같이 어떤 변수의 값들로 정의하는 것이 단순하지 않은 형태의 데이터를 말한다."
   ]
  },
  {
   "cell_type": "markdown",
   "metadata": {},
   "source": [
    "![Local image](./images/C1W1L03_03.PNG)"
   ]
  },
  {
   "cell_type": "markdown",
   "metadata": {},
   "source": [
    "### [2-3]. Why is Deep Learning taking off?"
   ]
  },
  {
   "cell_type": "markdown",
   "metadata": {},
   "source": [
    "사실 딥러닝/신경망의 근간을 이루는 아이디어는 상당히 오래전에 등장했었다. 그런데 이것이 최근 흥하는 이유가 뭘까?\n",
    "\n",
    "아래와 같이 다양한 방법론들에 대하여 데이터의 양과 모형의 성능과의 관계를 그려볼 수 있다. 기존에 데이터의 양이 크지 않을 때에는 SVM, 로지스틱 회귀모형과 같은 전통적인 방법(traditional learning algorithms) 충분히 좋은 (예측) 성능을 보여줬었다. 하지만 가용할 수 있는 데이터의 양이 증가하면서 일정이상 데이터가 증가하면 더 이상 모형의 성능의 향상을 기대할 수 없게 된다. 그런데 신경망 모형의 경우 모형의 점점 커지만(small -> medium -> large NN) 데이터가 커질 수록 모형의 성능이 더 좋아지게 된다. "
   ]
  },
  {
   "cell_type": "markdown",
   "metadata": {},
   "source": [
    "![Local image](./images/C1W1L04_01.PNG)"
   ]
  },
  {
   "cell_type": "markdown",
   "metadata": {},
   "source": [
    "더불어 이렇게 많은 데이터와 복잡한 신경망을 처리할 수 있는 컴퓨팅 파워가 좋아지고, 혁신적인 처리 알고리즘(예를들어 ReLU함수를 활성 함수로 사용하는 등)들이 개발되면서 대규모 신경망을 활용하는 것이 가능하게 되었다. 이런 이유 때문에 딥러닝/신경망의 장점이 부각되고 널리 사용되게 된 것이다.\n",
    "\n",
    "또한 컴퓨팅 파워가 좋아지면서 어떤 아이디어(idea)를 구현(code)하고 실험(experiment)하고 그 결과를 다시 아이디어에 반영하는 순환이 빨리질 수 있었고, 방법론/알고리즘의 발전 속도도  또한 빨라지게 되었다."
   ]
  },
  {
   "cell_type": "markdown",
   "metadata": {},
   "source": [
    "![Local image](./images/C1W1L04_02.PNG)"
   ]
  },
  {
   "cell_type": "markdown",
   "metadata": {},
   "source": [
    "### [2-4]. About this Course"
   ]
  },
  {
   "cell_type": "markdown",
   "metadata": {},
   "source": [
    "(초반에 설명한 내용이므로 생략)"
   ]
  },
  {
   "cell_type": "markdown",
   "metadata": {},
   "source": [
    "![Local image](./images/C1W1L05_01.PNG)"
   ]
  },
  {
   "cell_type": "markdown",
   "metadata": {},
   "source": [
    "'Course1. Neural Networks and Deep Learning'에서 배울 내용은 아래와 같다."
   ]
  },
  {
   "cell_type": "markdown",
   "metadata": {},
   "source": [
    "![Local image](./images/C1W1L05_02.PNG)"
   ]
  },
  {
   "cell_type": "markdown",
   "metadata": {},
   "source": [
    "이제 본격적으로 시작해 볼까요?    \n",
    "2주차에서 봅시다."
   ]
  }
 ],
 "metadata": {
  "kernelspec": {
   "display_name": "Python 3",
   "language": "python",
   "name": "python3"
  },
  "language_info": {
   "codemirror_mode": {
    "name": "ipython",
    "version": 3
   },
   "file_extension": ".py",
   "mimetype": "text/x-python",
   "name": "python",
   "nbconvert_exporter": "python",
   "pygments_lexer": "ipython3",
   "version": "3.6.1"
  }
 },
 "nbformat": 4,
 "nbformat_minor": 2
}
