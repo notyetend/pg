{
 "cells": [
  {
   "cell_type": "markdown",
   "metadata": {},
   "source": [
    "> 몇주전(2017년 8월초)에 반가운 뉴스를 듣게 되는데요. Andrew Ng 교수가 Coursera에 Deep Learning 강의를 열겠다는 소식이었습니다. Specialization 형식으로 크게 5개 강의로 나눠서 Deep Learning 기초부터 Sequence Model까지 진행한다고 하네요. 구현은 요즘 트렌드에 맞게 Python을 이용한다고 합니다. \n",
    "\n",
    "> 오래전에 그의 Machine Learning 강의를 듣고 매우 만족했었고 개인적으로도 Deep Learning에 관심을 갖고 있는지라 이번 강의를 수강하면서 매주 내용을 정리해 올릴 예정입니다. 대략 20주 정도 걸릴것 같네요. 그럼 시작해볼까요? \n",
    "\n",
    "> 2018-08-15. dwk\n",
    "\n",
    "---"
   ]
  },
  {
   "cell_type": "markdown",
   "metadata": {},
   "source": [
    "###### Coursera  | Andrew Ng's Deep Learning Class | Course1. Neural Networks and Deep Learning | Week1. Introduction_to_Deep_Learning"
   ]
  },
  {
   "cell_type": "markdown",
   "metadata": {},
   "source": [
    "# [1]. Welcome to the Deep Learning Specialization"
   ]
  },
  {
   "cell_type": "markdown",
   "metadata": {},
   "source": [
    "### [1-1] Welcome"
   ]
  },
  {
   "cell_type": "markdown",
   "metadata": {},
   "source": [
    "딥러닝(deep learning)은 최근 웹 검색이나 광고등의 분야에 큰 영향을 주고 있다. 또한 헬스케어 분야에서는 영상처리를 이용한 검사결과 판독, 교육 분야에서는 개인화된 교육 컨텐츠 제공, 농업에서의 혁신, 자동운전 자동차(self-driving car) 등 기존에 없던 비즈니스나 상품을 만들어내고 있다. \n",
    "\n",
    "(중략) \n",
    "\n",
    "첫번째 코스인 'Neural Networks and Deep Learning'에서는 기본적인 신경망(neural network)을 구성하고 학습시키는 법을 배울 것이며, 예제로는 고양이 그림을 구분하는 모형을 만들어 볼 것이다.\n",
    "\n",
    "두번째 코스인 'Improving Deep Neural Networks: Hyperparameter tuning, Regularization and Optimization'에서는 딥러닝을 다룰 때 실용적인 방법론들에 대해 배울것인데, 실제 모형의 성능을 향상시키기 위한 방법들 모형변수(Hyperparameter) 튜닝이나 정규화(regularization), 과적합(overfitting, high variance)/부적합(underfitting, high bias)에 대한 대처, 모멘텀이나 RMSProp과 같은 최적화(optimization) 방법 등을 다룰 것이다.\n",
    "\n",
    "세번째 코스인 'Structuring your Machine Learning project'에서는 전체적인 머신러닝 시스템을 어떻게 구성할 것인에 다룰 것인데, 딥러닝이 나오면서 (기존의 머신러닝과 다르게) 시스템을 구성하는 전략 또한 많이 바뀌게 되었다. 예를들어 훈련데이터(training data)/예비 교차검증 데이터(holdout cross-validation data, development data)/테스트 데이터(test data)를 나누는 방법 또한 딥러닝 시대에는 이전과 달라졌다. 이 코스에서 다룰 내용은 사실 다른 강좌나 보통 다루지 않지만 대단히 실용적인 것들이다.\n",
    "\n",
    "네번재 코스인 'Convolutional Neural Networks'에서는 CNN이라 불리는 합성곱신경망에 대해 알아볼 것이다.\n",
    "\n",
    "다섯번째 코스인 'Natural Language Processing: Building sequence models'에서는 시퀀스 모델을 자연어 처리나 음성인식, 음악생성 등 문제에 적용하는 방법을 배울 것이며, RNN(Recurrent Neural Networks)/LSTM(Long-Short Team Memory) 등을 다룰 것이다.\n"
   ]
  },
  {
   "cell_type": "markdown",
   "metadata": {},
   "source": [
    "# [2]. Introduction to Deep Learning"
   ]
  },
  {
   "cell_type": "markdown",
   "metadata": {},
   "source": [
    "### [2-1]. What is a neural network?"
   ]
  },
  {
   "cell_type": "markdown",
   "metadata": {},
   "source": [
    "![Local image](./images/C1W1L02_01.PNG)"
   ]
  },
  {
   "cell_type": "markdown",
   "metadata": {},
   "source": [
    "![Local image](./images/C1W1L02_02.PNG)"
   ]
  },
  {
   "cell_type": "markdown",
   "metadata": {},
   "source": [
    "![Local image](./images/C1W1L02_03.PNG)"
   ]
  },
  {
   "cell_type": "markdown",
   "metadata": {},
   "source": [
    "### [2-2]. Supervised Learning with Neural Networks"
   ]
  },
  {
   "cell_type": "markdown",
   "metadata": {},
   "source": [
    "![Local image](./images/C1W1L03_01.PNG)"
   ]
  },
  {
   "cell_type": "markdown",
   "metadata": {},
   "source": [
    "![Local image](./images/C1W1L03_02.PNG)"
   ]
  },
  {
   "cell_type": "markdown",
   "metadata": {},
   "source": [
    "![Local image](./images/C1W1L03_03.PNG)"
   ]
  },
  {
   "cell_type": "markdown",
   "metadata": {},
   "source": [
    "### [2-3]. Why is Deep Learning taking off?"
   ]
  },
  {
   "cell_type": "markdown",
   "metadata": {},
   "source": [
    "![Local image](./images/C1W1L04_01.PNG)"
   ]
  },
  {
   "cell_type": "markdown",
   "metadata": {},
   "source": [
    "![Local image](./images/C1W1L04_02.PNG)"
   ]
  },
  {
   "cell_type": "markdown",
   "metadata": {},
   "source": [
    "### [2-4]. About this Course"
   ]
  },
  {
   "cell_type": "markdown",
   "metadata": {},
   "source": [
    "![Local image](./images/C1W1L05_01.PNG)"
   ]
  },
  {
   "cell_type": "markdown",
   "metadata": {},
   "source": [
    "![Local image](./images/C1W1L05_02.PNG)"
   ]
  },
  {
   "cell_type": "markdown",
   "metadata": {},
   "source": [
    "."
   ]
  }
 ],
 "metadata": {
  "kernelspec": {
   "display_name": "Python 3",
   "language": "python",
   "name": "python3"
  },
  "language_info": {
   "codemirror_mode": {
    "name": "ipython",
    "version": 3
   },
   "file_extension": ".py",
   "mimetype": "text/x-python",
   "name": "python",
   "nbconvert_exporter": "python",
   "pygments_lexer": "ipython3",
   "version": "3.6.1"
  }
 },
 "nbformat": 4,
 "nbformat_minor": 2
}
