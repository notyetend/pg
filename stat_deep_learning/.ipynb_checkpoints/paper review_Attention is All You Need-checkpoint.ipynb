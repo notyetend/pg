{
 "cells": [
  {
   "cell_type": "markdown",
   "metadata": {},
   "source": [
    "참고자료\n",
    "- paper: arXiv:1706.03762v5\n",
    "- video: \n",
    " - Łukasz Kaiser: https://www.youtube.com/watch?v=rBCqOTEfxvg\n",
    " - Yannic Kilcher: https://www.youtube.com/watch?v=iDulhoQ2pro\n",
    "- slide: \n",
    " - Lukas Kaiser's Presentation\n",
    " - Google Research Blog\n",
    "- repo:\n",
    " - https://github.com/tensorflow/tensor2tensor\n",
    "- blogs:\n",
    " - http://jalammar.github.io/illustrated-transformer/\n",
    " - http://nlp.seas.harvard.edu/2018/04/03/attention.html\n",
    "\n",
    "- other papers related\n",
    " - Neural Machine Translation by Jointly Learning to Align and Translate\n",
    " - Generating Sequences with Recurrent Neural Networks"
   ]
  },
  {
   "cell_type": "markdown",
   "metadata": {},
   "source": []
  },
  {
   "cell_type": "markdown",
   "metadata": {},
   "source": []
  },
  {
   "cell_type": "markdown",
   "metadata": {},
   "source": []
  },
  {
   "cell_type": "markdown",
   "metadata": {},
   "source": []
  },
  {
   "cell_type": "markdown",
   "metadata": {},
   "source": []
  }
 ],
 "metadata": {
  "kernelspec": {
   "display_name": "Python 3",
   "language": "python",
   "name": "python3"
  },
  "language_info": {
   "codemirror_mode": {
    "name": "ipython",
    "version": 3
   },
   "file_extension": ".py",
   "mimetype": "text/x-python",
   "name": "python",
   "nbconvert_exporter": "python",
   "pygments_lexer": "ipython3",
   "version": "3.6.6"
  }
 },
 "nbformat": 4,
 "nbformat_minor": 2
}
