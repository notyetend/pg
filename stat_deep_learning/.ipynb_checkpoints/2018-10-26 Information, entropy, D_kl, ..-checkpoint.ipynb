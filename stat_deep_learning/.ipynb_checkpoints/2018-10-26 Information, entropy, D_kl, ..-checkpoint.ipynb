{
 "cells": [
  {
   "cell_type": "markdown",
   "metadata": {},
   "source": [
    "###### Information"
   ]
  },
  {
   "cell_type": "markdown",
   "metadata": {},
   "source": [
    "$$\\begin{align}\n",
    "\\mathbb{I}(X=x_k) & \\triangleq - \\log p(X=x_k) \\\\\n",
    "& = - \\log p_k\n",
    "\\end{align}$$"
   ]
  },
  {
   "cell_type": "markdown",
   "metadata": {},
   "source": [
    "###### Entropy"
   ]
  },
  {
   "cell_type": "markdown",
   "metadata": {},
   "source": [
    "$$\\begin{align}\n",
    "\\mathbb{H}(X) &\\triangleq \\mathbb{E} \\big[ \\mathbb{I}(X=x_k) \\big] \\\\\n",
    "& = -\\sum_{k=1}^K p(X=x_k) \\log p(X=x_k) \\\\\n",
    "& = -\\sum_{k=1}^K p_k \\log p_k \\\\\n",
    "\\end{align}$$"
   ]
  },
  {
   "cell_type": "markdown",
   "metadata": {},
   "source": [
    "###### Cross Entropy"
   ]
  },
  {
   "cell_type": "markdown",
   "metadata": {},
   "source": [
    "negative log likelihood, mean squared error(for normal dist), maximum likelihood estimate?"
   ]
  },
  {
   "cell_type": "markdown",
   "metadata": {},
   "source": [
    "- https://datascience.stackexchange.com/questions/9302/the-cross-entropy-error-function-in-neural-networks?newreg=68e217d2659e4391914bf7ee19217138"
   ]
  },
  {
   "cell_type": "markdown",
   "metadata": {},
   "source": [
    "- $p$: hypothetical distribution for $X$\n",
    "- $q$: empirical distribution for $X$, optained with samples ($x_1, \\cdots, x_K$)"
   ]
  },
  {
   "cell_type": "markdown",
   "metadata": {},
   "source": [
    "$P[data \\mid model]$"
   ]
  },
  {
   "cell_type": "markdown",
   "metadata": {},
   "source": [
    "$$\\begin{align}\n",
    "\\mathbb{H}(q, p) &\\triangleq \\mathbb{E} \\big[ \\mathbb{I}(X=k) \\big] \\\\\n",
    "& = -\\sum_{k=1}^K p(X=k) \\log p(X=k)\n",
    "\\end{align}$$"
   ]
  },
  {
   "cell_type": "markdown",
   "metadata": {},
   "source": [
    "###### KL Divergence"
   ]
  },
  {
   "cell_type": "markdown",
   "metadata": {},
   "source": [
    "###### NLL"
   ]
  },
  {
   "cell_type": "code",
   "execution_count": null,
   "metadata": {},
   "outputs": [],
   "source": []
  }
 ],
 "metadata": {
  "kernelspec": {
   "display_name": "Python 3",
   "language": "python",
   "name": "python3"
  },
  "language_info": {
   "codemirror_mode": {
    "name": "ipython",
    "version": 3
   },
   "file_extension": ".py",
   "mimetype": "text/x-python",
   "name": "python",
   "nbconvert_exporter": "python",
   "pygments_lexer": "ipython3",
   "version": "3.6.6"
  }
 },
 "nbformat": 4,
 "nbformat_minor": 2
}
