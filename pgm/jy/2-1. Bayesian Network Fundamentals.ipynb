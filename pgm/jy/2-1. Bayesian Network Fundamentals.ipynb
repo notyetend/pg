{
 "cells": [
  {
   "cell_type": "markdown",
   "metadata": {},
   "source": [
    "# Semantics and Factorization"
   ]
  },
  {
   "cell_type": "markdown",
   "metadata": {},
   "source": [
    "### 1. Student example\n",
    "\n",
    "- Represent $P(D,I,G,S,L)$ which has following variables\n",
    "    - $\\textbf{G}$rade\n",
    "    - Course $\\textbf{D}$ifficulty\n",
    "    - Student $\\textbf{I}$ntelligence\n",
    "    - Student $\\textbf{S}$AT\n",
    "    - Reference $\\textbf{L}$etter\n",
    "    \n",
    "- the value of Grade can be 1, 2, or 3 and other variables are binary "
   ]
  },
  {
   "cell_type": "markdown",
   "metadata": {},
   "source": [
    "### 2. Chain Rule for Bayesian Networks\n",
    "\n",
    "- $P(D,I,G,S,L)=P(D)P(I)P(G \\mid I,D)P(S \\mid I)P(L \\mid G)$ <br>\n",
    "$\\rightarrow$ Distribution defined as a product of factors!\n",
    "\n",
    "<img src=\"img/1.png\", width=600>"
   ]
  },
  {
   "cell_type": "markdown",
   "metadata": {
    "collapsed": true
   },
   "source": [
    "### 3. Bayesian Network\n",
    "- A Bayesian network is:\n",
    "    - A directed $\\textbf{acyclic}$ graph$\\textbf{(DAG)}$ G whose nodes represent the random variables $X_1$,...,$X_n$\n",
    "    - For each node $X_i$ a CPD $P(X_i\\mid Par_G(X_i))$\n",
    "    - The BN represents a joint distribution via the chain rule for Bayesian networks <br>\n",
    "    $$P(X_1,...,X_n) = \\prod_i P(X_i \\mid Par_G(X_i))$$"
   ]
  },
  {
   "cell_type": "markdown",
   "metadata": {},
   "source": [
    "### 4. BN is legal distribution\n",
    "- $P \\geq 0 \\qquad \\because  P \\, is\\, product\\, of\\, CPD,\\, CPD \\geq0$ <br> $\\,$\n",
    "- $\\sum P = 1$  <br> $\\,$ <br> $\\,$\n",
    "$\\begin{equation}\n",
    "\\begin{split}\n",
    "\\ pf) \\, \\sum_{D,I,G,S,L} P(D,I,G,S,L) & = \\sum_{D,I,G,S,L} P(D)P(I)P(G \\mid I,D)P(S \\mid I)P(L \\mid G) \\\\\n",
    " & = \\sum_{D,I,G,S} P(D)P(I)P(G \\mid I,D)P(S \\mid I) \\sum_L P(L \\mid G) \\\\\n",
    " & = \\sum_{D,I,G,S} P(D)P(I)P(G \\mid I,D)P(S \\mid I) \\qquad\\because \\sum_L P(L \\mid G) = 1 \\\\\n",
    " & = \\sum_{D,I,G} P(D)P(I)P(G \\mid I,D) \\sum_S P(S \\mid I) \\\\\n",
    " & = \\sum_{D,I} P(D)P(I) \\sum_G P(G \\mid I,D) \\\\\n",
    " & = \\sum_D P(D) \\sum_I P(I) \\\\\n",
    " & = 1\\cdot 1\n",
    "\\end{split}\n",
    "\\end{equation}$\n",
    "\n"
   ]
  },
  {
   "cell_type": "markdown",
   "metadata": {
    "collapsed": true
   },
   "source": [
    "### 5. P Factorizes over G\n",
    "- Let G be a graph over $X_1,...,X_n$\n",
    "- P factorizes over G if <br>\n",
    "$$P(X_1,...,X_n) = \\prod_i P(X_i \\mid Par_G(X_i))$$"
   ]
  },
  {
   "cell_type": "markdown",
   "metadata": {
    "collapsed": true
   },
   "source": [
    "### 6. Genetic Inheritance example\n",
    "<img src=\"img/2.png\", width=1000>"
   ]
  },
  {
   "cell_type": "markdown",
   "metadata": {},
   "source": [
    "# Reasoning Pattern\n",
    "<img src=\"img/3.png\", width=500>\n",
    "<img src=\"img/4.png\", width=500>\n",
    "<img src=\"img/5.png\", width=500>\n",
    "<img src=\"img/6.png\", width=500>\n",
    "- Is there any relation bet D and I?\n",
    "<img src=\"img/7.png\", width=500>\n",
    "- Explain away\n",
    "    - Conditioned on $Y=1$, the fact that $X_1=1$ gives a complete explanation for $Y=1$. <br>\n",
    "    Thus, $P(X_2=0 \\mid Y=1,X_1=1)=P(X_2=1 \\mid Y=1,X_1=1)=0.5$, because the value of $X_2$ do not give an information anymore."
   ]
  },
  {
   "cell_type": "markdown",
   "metadata": {},
   "source": [
    "# Flow of Probabilistic influence"
   ]
  },
  {
   "cell_type": "markdown",
   "metadata": {},
   "source": [
    "### 1. When can $X$ influence $Y$?\n",
    "= condition on X changes beliefs about Y\n",
    "- $X \\rightarrow Y$  (O)\n",
    "- $X \\leftarrow Y$  (O)\n",
    "- $X \\rightarrow W \\rightarrow Y$  (O)\n",
    "- $X \\leftarrow W \\leftarrow Y$  (O)\n",
    "- $X \\leftarrow W \\rightarrow Y$  (O)\n",
    "- $X \\rightarrow W \\leftarrow Y$  (X) : v-structure\n",
    "\n",
    "#### Active Trails\n",
    "- A trail $X_1\\,-\\,...\\,-\\,X_K$ is active if: <br>\n",
    "it has no v-structure $X_{i-1} \\rightarrow X_i \\leftarrow X_{i+1}$"
   ]
  },
  {
   "cell_type": "markdown",
   "metadata": {},
   "source": [
    "### 2. When can $X$ influence $Y$ Given evidence of $Z$?\n",
    "- $X \\rightarrow Y$  (O)\n",
    "- $X \\leftarrow Y$  (O)\n",
    "- $if\\  W \\notin Z$\n",
    "    - $X \\rightarrow W \\rightarrow Y$  (O)\n",
    "    - $X \\leftarrow W \\leftarrow Y$  (O)\n",
    "    - $X \\leftarrow W \\rightarrow Y$  (O)\n",
    "    - $X \\rightarrow W \\leftarrow Y$  (X if $W$ and all of its descendants not in $Z$)\n",
    "- $if\\  W \\in Z$\n",
    "    - $X \\rightarrow W \\rightarrow Y$  (X)\n",
    "    - $X \\leftarrow W \\leftarrow Y$  (X)\n",
    "    - $X \\leftarrow W \\rightarrow Y$  (X)\n",
    "    - $X \\rightarrow W \\leftarrow Y$  (O either $W$ and all of its descendants in $Z$)\n",
    "    \n",
    "#### Actvie Trails\n",
    "- A trail $X_1\\,-\\,...\\,-\\,X_K$ is active given $Z$ if:\n",
    "    - Activate v-structures : for any v-structure $X_{i-1} \\rightarrow X_i \\leftarrow X_{i+1}$ we have that $X_i$ or one of its descendants $\\in Z$\n",
    "    - Open non v-structures : no other $X_i$ is in $z$"
   ]
  }
 ],
 "metadata": {
  "anaconda-cloud": {},
  "celltoolbar": "Raw Cell Format",
  "kernelspec": {
   "display_name": "Python [default]",
   "language": "python",
   "name": "python3"
  },
  "language_info": {
   "codemirror_mode": {
    "name": "ipython",
    "version": 3
   },
   "file_extension": ".py",
   "mimetype": "text/x-python",
   "name": "python",
   "nbconvert_exporter": "python",
   "pygments_lexer": "ipython3",
   "version": "3.5.2"
  }
 },
 "nbformat": 4,
 "nbformat_minor": 1
}
