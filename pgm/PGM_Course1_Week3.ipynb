{
 "cells": [
  {
   "cell_type": "markdown",
   "metadata": {},
   "source": [
    "# 3.1. Markov Network Fundamentals"
   ]
  },
  {
   "cell_type": "markdown",
   "metadata": {},
   "source": [
    "### Pairwise Markov Networks"
   ]
  },
  {
   "cell_type": "markdown",
   "metadata": {},
   "source": [
    "크게 두 종류의 graphical model이 있는데 Directed graph와 undirected graph라 할 수 있고 undirected graph를 Markov network이고 markov random field라고도 한다. 우선 Markov network의 간단한 형태인 pairwise Markov network에 대해서 알아보자."
   ]
  },
  {
   "cell_type": "markdown",
   "metadata": {},
   "source": [
    "간단한 예로 4명의 학생이 있고 두 학생이 pair로 공부를 한다고 해 보자. 그런데 Alice와 Charles는 사이가 좋지 않고 Bob과 Debbie는 좋지 않게 헤어진 커플이라서 같이 공부하지 않는다고 해 보자. 그래서 가능한 study pair는 아래 graph의 edge와 같은 것이 가능한다. \n",
    "\n",
    "그런데 학생들이 학습하고자 하는 자료가 쉽지 않아 내용을 잘못 이해하는 경우가 있어, 이 모형에서의 random variable은 학생들이 학습 자료에 대한 오해(misconception)을 갖고 있으냐 그렇지 않느냐이다. "
   ]
  },
  {
   "cell_type": "markdown",
   "metadata": {},
   "source": [
    "두 학생이 공부하게 되면 서로 영향을 주고 받게 되는데, 만약 Alice가 오해를 갖고 있느냐 혹은 그렇지 않느냐가 Bob의 오해에 영향을 주며, 마찬가지로 Bob이 오해를 갖고 있느냐 그렇지 않느냐가 Alice의 오해에도 영향을 주게 된다. 이런 상호 작용의 관계를 위와 같은 undirected edge로 나타낸다. "
   ]
  },
  {
   "cell_type": "markdown",
   "metadata": {},
   "source": [
    "<img  src=\"./_images/241_1.PNG\"/>"
   ]
  },
  {
   "cell_type": "markdown",
   "metadata": {},
   "source": [
    "각 node는 1(오해가 있음)과 0(오해가 없음)을 갖는 binary random variable인데, 이런 형태의 network의 확률 분포를 어떻게 나타낼 수 있을까?\n",
    "\n",
    "아래와 같이 각 edge에 대해 하나의 factor를 생각해볼 수 있다. facot값이 0과 1사이의 범위에 들지 않으므로 general factor라 할 수 있고, scope의 각 값에 대한 factor 값은 local happiness(다른 모든 edge가 없다고 가정했을 때 연결된 두 node의 모든 경우에 대한 factor 값들)를 나타내며 그 값이 클수록 개연성이 크다고 할 수 있다. 이런 factor를 infinity functions, compatibility functions 혹은 soft constraints라 한다.\n",
    "\n",
    "$\\phi_1[A,B]$에서는 $\\{a^0, b^0\\}$의 개연성이 다른 경우보다 큼을 알 수 있고 이는 Alice와 Bob이 모두 오해를 갖지 않을 가능성이 크다는 것을 나타낸다. 또한 $\\phi_2[B,C]$에서는 $\\{b^0, c^0\\}$의 개연성과 $\\{b^1, c^1\\}$의 개연성이 100으로 같고 이는 Bob과 Charles이 모두 오해를 갖거나 그렇지 않을 개연성이 크며, 즉 둘의 의견(오해)이 갖을 개연성이 크다는 것을 나타낸다."
   ]
  },
  {
   "cell_type": "markdown",
   "metadata": {},
   "source": [
    "<img  src=\"./_images/241_2.PNG\"/>"
   ]
  },
  {
   "cell_type": "markdown",
   "metadata": {},
   "source": [
    "각 node pair(edge)에 대한 개연성을 알게 되었고, 전체 network에 대한 joint probability distribution을 어떻게 찾을 수 있을까?\n",
    "\n",
    "모든 factor를 product하여 (un-normalized)joint probability distribution를 구할 수 있다. (각 factor 값이 0과 1 사이에 있지 않으므로 factor product는 probability distribution이 아니다. 따라서 $P$가 아니라 $\\tilde{P}$라 표기 했음에 주의)\n",
    "\n",
    "그리고 이를 normalizing constant $Z$(전체 un-normalized measure들을 합한 값)로 나눠주면 proabability distribution을 얻게 된다.\n"
   ]
  },
  {
   "cell_type": "markdown",
   "metadata": {},
   "source": [
    "<img  src=\"./_images/241_3.PNG\"/>"
   ]
  },
  {
   "cell_type": "markdown",
   "metadata": {},
   "source": [
    "그렇다면 $\\phi_1(A,B)$는 어떤 확률분포라고 할 수 있을까?(un-normalized 이므로 같지는 않고 비례 관계)\n",
    "\n",
    "> None of the above"
   ]
  },
  {
   "cell_type": "markdown",
   "metadata": {},
   "source": [
    "<img  src=\"./_images/241_3_q.PNG\"/>"
   ]
  },
  {
   "cell_type": "markdown",
   "metadata": {},
   "source": [
    "하단 좌측 테이블에 $P(A,B)$가 주어져 있는데 이것을 $\\phi_1(A,B)$와 비교해보면 둘 사이에 큰 연관성을 찾기 어렵다. 이것은 $P(A,B)$를 결정함에 있어서 $A \\cdots D$, $B \\cdots C$, $D \\cdots C$과 같은 다른 연결이 영향을 주기 때문이다. 이 때문에 $P(A,B)$를 통해 $\\phi_1(A,B)$를 직접 추론하는 것 혹은 그 반대의 추론이 어렵다."
   ]
  },
  {
   "cell_type": "markdown",
   "metadata": {},
   "source": [
    "<img  src=\"./_images/241_4.PNG\"/>"
   ]
  },
  {
   "cell_type": "markdown",
   "metadata": {},
   "source": [
    "$n$개의 node $X_1, \\dots , X_n$으로 구성된 undirected graph가 있을 때, graph내 모든 factor가 single variable(node) 혹은 variable pair(edge)로만 구성된 경우 이런 Markov network를 **pairwise Markov network**라 한다. (아래 정의)    "
   ]
  },
  {
   "cell_type": "markdown",
   "metadata": {},
   "source": [
    "<img  src=\"./_images/241_5.PNG\"/>"
   ]
  },
  {
   "cell_type": "markdown",
   "metadata": {},
   "source": [
    "아래와 같이 grid형태의 graph가 바로 pairwise Markov network이다."
   ]
  },
  {
   "cell_type": "markdown",
   "metadata": {},
   "source": [
    "<img  src=\"./_images/241_6.PNG\"/>"
   ]
  },
  {
   "cell_type": "markdown",
   "metadata": {},
   "source": [
    "<img  src=\"./_images/241_7.PNG\"/>"
   ]
  },
  {
   "cell_type": "markdown",
   "metadata": {},
   "source": [
    "<img  src=\"./_images/241_8.PNG\"/>"
   ]
  },
  {
   "cell_type": "markdown",
   "metadata": {},
   "source": [
    "."
   ]
  },
  {
   "cell_type": "markdown",
   "metadata": {},
   "source": [
    "---"
   ]
  },
  {
   "cell_type": "markdown",
   "metadata": {},
   "source": [
    "### General Gibbs Distribution"
   ]
  },
  {
   "cell_type": "markdown",
   "metadata": {},
   "source": [
    "pairwise Markov network를 정의하"
   ]
  },
  {
   "cell_type": "markdown",
   "metadata": {},
   "source": [
    "<img  src=\"./_images/242_1.PNG\"/>"
   ]
  },
  {
   "cell_type": "markdown",
   "metadata": {},
   "source": [
    "<img  src=\"./_images/242_1_1.PNG\"/>"
   ]
  },
  {
   "cell_type": "markdown",
   "metadata": {},
   "source": [
    "<img  src=\"./_images/242_2.PNG\"/>"
   ]
  },
  {
   "cell_type": "markdown",
   "metadata": {},
   "source": [
    "<img  src=\"./_images/242_3.PNG\"/>"
   ]
  },
  {
   "cell_type": "markdown",
   "metadata": {},
   "source": [
    "."
   ]
  },
  {
   "cell_type": "markdown",
   "metadata": {},
   "source": [
    "<img  src=\"./_images/242_4.PNG\"/>"
   ]
  },
  {
   "cell_type": "markdown",
   "metadata": {},
   "source": [
    "<img  src=\"./_images/242_5.PNG\"/>"
   ]
  },
  {
   "cell_type": "markdown",
   "metadata": {},
   "source": [
    "<img  src=\"./_images/242_6.PNG\"/>"
   ]
  },
  {
   "cell_type": "markdown",
   "metadata": {},
   "source": [
    "<img  src=\"./_images/242_7.PNG\"/>"
   ]
  },
  {
   "cell_type": "markdown",
   "metadata": {},
   "source": [
    "---"
   ]
  },
  {
   "cell_type": "markdown",
   "metadata": {},
   "source": [
    "### Conditional Random Fields"
   ]
  },
  {
   "cell_type": "markdown",
   "metadata": {},
   "source": [
    "###### Motivation"
   ]
  },
  {
   "cell_type": "markdown",
   "metadata": {},
   "source": [
    "<img  src=\"./_images/243_1.PNG\"/>"
   ]
  },
  {
   "cell_type": "markdown",
   "metadata": {},
   "source": [
    "###### CRF Representation"
   ]
  },
  {
   "cell_type": "markdown",
   "metadata": {},
   "source": [
    "<img  src=\"./_images/243_2.PNG\"/>"
   ]
  },
  {
   "cell_type": "markdown",
   "metadata": {},
   "source": [
    "###### CRFs and Logistic Model"
   ]
  },
  {
   "cell_type": "markdown",
   "metadata": {},
   "source": [
    "<img  src=\"./_images/243_3.PNG\"/>"
   ]
  },
  {
   "cell_type": "markdown",
   "metadata": {},
   "source": [
    "###### CRFs for Language"
   ]
  },
  {
   "cell_type": "markdown",
   "metadata": {},
   "source": [
    "<img  src=\"./_images/243_4.PNG\"/>"
   ]
  },
  {
   "cell_type": "markdown",
   "metadata": {},
   "source": [
    "###### More CRFs for Language"
   ]
  },
  {
   "cell_type": "markdown",
   "metadata": {},
   "source": [
    "<img  src=\"./_images/243_5.PNG\"/>"
   ]
  },
  {
   "cell_type": "markdown",
   "metadata": {},
   "source": [
    "."
   ]
  },
  {
   "cell_type": "markdown",
   "metadata": {},
   "source": [
    "# 3.2. Independencies in Markov Networks and Bayesian Networks"
   ]
  },
  {
   "cell_type": "markdown",
   "metadata": {},
   "source": [
    "### Independencies in Markov Networks"
   ]
  },
  {
   "cell_type": "markdown",
   "metadata": {},
   "source": [
    "###### Separation in MNs"
   ]
  },
  {
   "cell_type": "markdown",
   "metadata": {},
   "source": [
    "<img  src=\"./_images/244_1.PNG\"/>"
   ]
  },
  {
   "cell_type": "markdown",
   "metadata": {},
   "source": [
    "###### Factorization -> Independence: MNs"
   ]
  },
  {
   "cell_type": "markdown",
   "metadata": {},
   "source": [
    "<img  src=\"./_images/244_2.PNG\"/>"
   ]
  },
  {
   "cell_type": "markdown",
   "metadata": {},
   "source": [
    "###### Factorization -> Independence: MNs"
   ]
  },
  {
   "cell_type": "markdown",
   "metadata": {},
   "source": [
    "<img  src=\"./_images/244_3.PNG\"/>"
   ]
  },
  {
   "cell_type": "markdown",
   "metadata": {},
   "source": [
    "<img  src=\"./_images/244_4.PNG\"/>"
   ]
  },
  {
   "cell_type": "markdown",
   "metadata": {},
   "source": [
    "."
   ]
  },
  {
   "cell_type": "markdown",
   "metadata": {},
   "source": [
    "### I-maps and perfect maps"
   ]
  },
  {
   "cell_type": "markdown",
   "metadata": {},
   "source": [
    "<img  src=\"./_images/245_1.PNG\"/>"
   ]
  },
  {
   "cell_type": "markdown",
   "metadata": {},
   "source": [
    "<img  src=\"./_images/245_2.PNG\"/>"
   ]
  },
  {
   "cell_type": "markdown",
   "metadata": {},
   "source": [
    "<img  src=\"./_images/245_3.PNG\"/>"
   ]
  },
  {
   "cell_type": "markdown",
   "metadata": {},
   "source": [
    "<img  src=\"./_images/245_4.PNG\"/>"
   ]
  },
  {
   "cell_type": "markdown",
   "metadata": {},
   "source": [
    "<img  src=\"./_images/245_5.PNG\"/>"
   ]
  },
  {
   "cell_type": "markdown",
   "metadata": {},
   "source": [
    "<img  src=\"./_images/245_6.PNG\"/>"
   ]
  },
  {
   "cell_type": "markdown",
   "metadata": {},
   "source": [
    "<img  src=\"./_images/245_7.PNG\"/>"
   ]
  },
  {
   "cell_type": "markdown",
   "metadata": {},
   "source": [
    "<img  src=\"./_images/245_8.PNG\"/>"
   ]
  },
  {
   "cell_type": "markdown",
   "metadata": {},
   "source": [
    "<img  src=\"./_images/245_9.PNG\"/>"
   ]
  },
  {
   "cell_type": "markdown",
   "metadata": {},
   "source": [
    "."
   ]
  },
  {
   "cell_type": "markdown",
   "metadata": {},
   "source": [
    "# 3.3. Local Structure in Markov Networks"
   ]
  },
  {
   "cell_type": "markdown",
   "metadata": {},
   "source": [
    "### Log-Linear Models"
   ]
  },
  {
   "cell_type": "markdown",
   "metadata": {},
   "source": [
    "factor product를 이용해 어떤 분포 $\\tilde{P}$를 표현할 수 있었다. 그런데 각 factor 값을 log-space로 옮김으로써 보다 간결하게 분포를 표현할 수 있다.\n",
    "\n",
    "이를 위해 factor $\\phi(\\mathbf{D})$를 $-\\mathrm{ln}\\phi(\\mathbf{D})$로 바꾸는데 아래 예와 같이 $30$은 $-ln(30) = -3.4$로 바뀌게 된다."
   ]
  },
  {
   "cell_type": "markdown",
   "metadata": {},
   "source": [
    "<img  src=\"./_images/246_0_1.PNG\"/>"
   ]
  },
  {
   "cell_type": "markdown",
   "metadata": {},
   "source": [
    "<img  src=\"./_images/246_0_2.PNG\"/>"
   ]
  },
  {
   "cell_type": "markdown",
   "metadata": {},
   "source": [
    "이럴 경우 분포 $\\tilde{P}$는 아래와 같이 바뀌게 된다.\n",
    "\n",
    "$$P(X_1, \\dots, X_n) \\propto \\mathrm{exp} \\left[ -\\sum_{i=1}^m \\epsilon_i(\\mathbf{D}_i)\\right]$$"
   ]
  },
  {
   "cell_type": "markdown",
   "metadata": {},
   "source": [
    "또한 여기에 feature $f_i$라는 것을 도입하는데,    \n",
    "feature는 그 값이 음이라는 제약조건이 없는 factor와 같다.       \n",
    "즉 $Val(\\mathbf{D})$를 $\\mathbb{R}$로 대응시키는 함수라고 할 수 있다.\n",
    "\n",
    "앞서의 factor $\\phi_i(\\mathbf{D}_i)$를 $w_i ~ f_i (\\mathbf{D}_i)$로 표현한다면   $\\tilde{P}$는 아래와 같다."
   ]
  },
  {
   "cell_type": "markdown",
   "metadata": {},
   "source": [
    "<img  src=\"./_images/246_1.PNG\"/>"
   ]
  },
  {
   "cell_type": "markdown",
   "metadata": {},
   "source": [
    "여러가지 형태의 feature function을 생각해볼 수 있는데        \n",
    "아래와 같이 조건을 만족할 경우 그 값이 1 이고 그렇지 않을 경우 값이 0인 indicator feature $\\mathcal{I}\\{condition\\}$또한 그중 하나이다."
   ]
  },
  {
   "cell_type": "markdown",
   "metadata": {},
   "source": [
    "<img  src=\"./_images/246_2.PNG\"/>"
   ]
  },
  {
   "cell_type": "markdown",
   "metadata": {},
   "source": [
    "###### Named entity recognition task"
   ]
  },
  {
   "cell_type": "markdown",
   "metadata": {},
   "source": [
    "text 분석에 log-linear model을 적용해볼 수 있다.      \n",
    "아래 모형의 윗줄은 각 word에 대한 label이고 다래열은 실제 문장의 word를 나타낸다.\n",
    "- B-PER: Begin person name\n",
    "- I-PER: Within person name\n",
    "- B-LOC: Begin location name\n",
    "- I-LOC: Within location name\n",
    "- OTH: Not an entity"
   ]
  },
  {
   "cell_type": "markdown",
   "metadata": {},
   "source": [
    "<img  src=\"./_images/246_3.PNG\"/>"
   ]
  },
  {
   "cell_type": "markdown",
   "metadata": {},
   "source": [
    "###### Ising Model"
   ]
  },
  {
   "cell_type": "markdown",
   "metadata": {},
   "source": [
    "통계물리학에서 원자들간의 상호 작용이 이루어지는 시스템의 에너지를 포현하는 모형으로 아래와 같은 Ising model을 사용한다. \n",
    "\n",
    "각 원자의 회전 방향 $x_i$는 -1 혹은 1이며 feature 는 단순히 두 인접한 원자의 회전 방향과 weight $w$의 곱으로 표현되며, bias term $u_i ~ x_i$가 포함된다. \n",
    "\n",
    "만약 이 모형에 온도를 나타내는 변수 $T$를 포함시키면, 온도가 높아졌을 때 $\\frac{w_i}{T}$의 값은 작아지고 이는 인접한 원자간의 상호작용이 작아짐을 표현하게 된다. 반대로 온도가 낮아지면 원자간의 상호작용이 커지는 것을 표현한다."
   ]
  },
  {
   "cell_type": "markdown",
   "metadata": {},
   "source": [
    "<img  src=\"./_images/246_4.PNG\"/>"
   ]
  },
  {
   "cell_type": "markdown",
   "metadata": {},
   "source": [
    "###### Metric MRFs"
   ]
  },
  {
   "cell_type": "markdown",
   "metadata": {},
   "source": [
    "각 변수 X_i에 label $\\mathcal{V} = \\{v_1, \\dots , v_K\\}$ 중 하나의 label을 할당하고자 한다. 그런데 한가지 제약조건으로 가능하다면 변수들이 유사한 label을 갖게 하고 싶다.\n",
    "\n",
    "변수들이 유사한가 그렇지 않은가를 표현하기 위해 각 변수간의 거리를 표현하는 metric인 $\\mu ~:~ \\mathcal{V} \\times \\mathcal{V} \\to \\mathbb{R}^{+}$을 사용하는데, 이 metric은 Reflexivity, Symmetry, Triangle inequality의 특성을 갖는다. \n"
   ]
  },
  {
   "cell_type": "markdown",
   "metadata": {},
   "source": [
    "<img  src=\"./_images/246_5.PNG\"/>"
   ]
  },
  {
   "cell_type": "markdown",
   "metadata": {},
   "source": [
    "이런 거리에 대한 제약조건을 포함하여 전체 graph의 energy를 아래와 같이 표현할 수 있다.\n",
    "\n",
    "$$E(x_1, \\dots , x_n) = \\sum_{i} \\epsilon_i(x_i) + \\sum_{(i,j) \\in \\epsilon} \\epsilon_{i,j}(x_i, x_j)$$\n",
    "\n",
    "위 식에서 첫번째 항은 각 node의 preferences(-energy)를 표현하며 두번째 항은 거리에 대한 제약조건을 표현한다."
   ]
  },
  {
   "cell_type": "markdown",
   "metadata": {},
   "source": [
    "<img  src=\"./_images/246_6.PNG\"/>"
   ]
  },
  {
   "cell_type": "markdown",
   "metadata": {},
   "source": [
    "거리에 대한 제약조건을 표현하는 방식은 여러가지가 있는데      \n",
    "우선 아주 간단하게 두 변수의 label이 같은 경우 거리를 0, 그렇지 않을 경우 1을 할당하는 방법을 생각할 수 있다. 이는 아래 우측의 행렬로 표현된다."
   ]
  },
  {
   "cell_type": "markdown",
   "metadata": {},
   "source": [
    "또는 두 변수 label의 거리를 직접 사용하는 방법과    \n",
    "거리가 일정 이상일 경우 동일한 값을 사용하는 truncated linear form을 사용할 수도 있다."
   ]
  },
  {
   "cell_type": "markdown",
   "metadata": {},
   "source": [
    "<img  src=\"./_images/246_7.PNG\"/>"
   ]
  },
  {
   "cell_type": "markdown",
   "metadata": {},
   "source": [
    "Image segmentation에서 아래와 같이 인접한 superpixel간에는 동일한 class를 갖도록 penalty를 사용할 수 있다."
   ]
  },
  {
   "cell_type": "markdown",
   "metadata": {},
   "source": [
    "<img  src=\"./_images/246_8.PNG\"/>"
   ]
  },
  {
   "cell_type": "markdown",
   "metadata": {},
   "source": [
    "metric MRF를 이용해 noise가 포함된 image에서 noise를 제거해볼 수 있는데     \n",
    "truncated norm을 이용할 경우 더 나은 denosing 효과를 얻을 수 있다."
   ]
  },
  {
   "cell_type": "markdown",
   "metadata": {},
   "source": [
    "<img  src=\"./_images/246_9.PNG\"/>"
   ]
  },
  {
   "cell_type": "markdown",
   "metadata": {},
   "source": [
    "### Shared Features in Log-Linear Models"
   ]
  },
  {
   "cell_type": "markdown",
   "metadata": {},
   "source": [
    "그래프 내에 어떤 구조나 파라미터는 반복적으로 사용할 수 있는데     \n",
    "Log-Linear model에서 feature와 weight을 반복적으로 사용하는 경우를 살펴보자."
   ]
  },
  {
   "cell_type": "markdown",
   "metadata": {},
   "source": [
    "우선 앞서 살펴봤던 Ising Model에서 각 원자간 상호작용의 강도는 $w_{ij}$로 표현되는데, 전체 그래프에 동일한 weight $w$와 동일한 feature $f(x_i, x_j)$를 사용할 수 있다."
   ]
  },
  {
   "cell_type": "markdown",
   "metadata": {},
   "source": [
    "<img  src=\"./_images/247_1.PNG\"/>"
   ]
  },
  {
   "cell_type": "markdown",
   "metadata": {},
   "source": [
    "마찬가지로 named entity recognition에서도 동일한 weight과 feature를 반복적으로 사용할 수 있다."
   ]
  },
  {
   "cell_type": "markdown",
   "metadata": {},
   "source": [
    "<img  src=\"./_images/247_2.PNG\"/>"
   ]
  },
  {
   "cell_type": "markdown",
   "metadata": {},
   "source": [
    "<img  src=\"./_images/247_3.PNG\"/>"
   ]
  },
  {
   "cell_type": "markdown",
   "metadata": {},
   "source": [
    "어떤 scope 집합 $Scopes[f_k]$내의 각 scope $D_k$에 동일한 feature $f_k$와 동일한 weight $w_k$를 사용한다면 energy function은 아래와 같은 형태가 될 것이다."
   ]
  },
  {
   "cell_type": "markdown",
   "metadata": {},
   "source": [
    "<img  src=\"./_images/247_4.PNG\"/>"
   ]
  },
  {
   "cell_type": "markdown",
   "metadata": {},
   "source": [
    "<img  src=\"./_images/247_5.PNG\"/>"
   ]
  }
 ],
 "metadata": {
  "anaconda-cloud": {},
  "kernelspec": {
   "display_name": "Python [default]",
   "language": "python",
   "name": "python3"
  },
  "language_info": {
   "codemirror_mode": {
    "name": "ipython",
    "version": 3
   },
   "file_extension": ".py",
   "mimetype": "text/x-python",
   "name": "python",
   "nbconvert_exporter": "python",
   "pygments_lexer": "ipython3",
   "version": "3.5.2"
  }
 },
 "nbformat": 4,
 "nbformat_minor": 1
}
