{
 "cells": [
  {
   "cell_type": "markdown",
   "metadata": {},
   "source": [
    "# 1vs1"
   ]
  },
  {
   "cell_type": "markdown",
   "metadata": {},
   "source": [
    "모든 message와 variable belief는 $N(0, 0)$으로 초기화 하고 시작한다.  Prior factor에서 Skill variable로 내려오는 message만 플레이어들의 스킬 분포 초기값 혹은 이전 값이 할당된다."
   ]
  },
  {
   "cell_type": "code",
   "execution_count": 111,
   "metadata": {
    "collapsed": false,
    "scrolled": true
   },
   "outputs": [
    {
     "name": "stdout",
     "output_type": "stream",
     "text": [
      "beta:4.166666666666667, gamma:0.08333333333333334, draw_prob:0.1, epsilon:0.7404665874521482\n",
      "p1:N(25,10), p2:N(35,15)\n"
     ]
    }
   ],
   "source": [
    "import trueskill as ts\n",
    "import matplotlib.pyplot as plt\n",
    "import numpy as np\n",
    "import math\n",
    "from scipy.stats import norm\n",
    "pdf = norm.pdf\n",
    "cdf = norm.cdf\n",
    "icdf = norm.ppf  # inverse CDF\n",
    "\n",
    "def DrawMargin(p, beta, total_players=2):\n",
    "    \"\"\" Compute the draw margin (epsilon) given the draw probability. \"\"\"\n",
    "    return icdf((p + 1.0) / 2) * math.sqrt(total_players) * beta\n",
    "\n",
    "init_mu = 25\n",
    "init_sigma = init_mu / 3\n",
    "init_beta = init_sigma / 2\n",
    "init_gamma = init_sigma / 100\n",
    "init_draw_probability = 0.1\n",
    "init_epsilon = DrawMargin(0.1, init_beta); init_epsilon\n",
    "\n",
    "p1_mu = init_mu\n",
    "p1_sigma = 10\n",
    "p2_mu = init_mu + 10\n",
    "p2_sigma = 15\n",
    "\n",
    "env = ts.TrueSkill(mu=init_mu, sigma=init_sigma, beta=init_beta, tau=init_gamma, draw_probability=init_draw_probability, backend='scipy')\n",
    "print('beta:{}, gamma:{}, draw_prob:{}, epsilon:{}'.format(init_beta, init_gamma, init_draw_probability, init_epsilon))\n",
    "print('p1:N({},{}), p2:N({},{})'.format(p1_mu, p1_sigma, p2_mu, p2_sigma))"
   ]
  },
  {
   "cell_type": "code",
   "execution_count": 112,
   "metadata": {
    "collapsed": false
   },
   "outputs": [
    {
     "data": {
      "text/plain": [
       "0.2703677370942563"
      ]
     },
     "execution_count": 112,
     "metadata": {},
     "output_type": "execute_result"
    }
   ],
   "source": [
    "p1_ = env.Rating(p1_mu, p1_sigma)\n",
    "p2_ = env.Rating(p2_mu, p2_sigma)\n",
    "env.quality(rating_groups=[[p1_], [p2_]])"
   ]
  },
  {
   "cell_type": "code",
   "execution_count": 113,
   "metadata": {
    "collapsed": false
   },
   "outputs": [
    {
     "data": {
      "text/plain": [
       "[(trueskill.Rating(mu=31.274, sigma=8.909),),\n",
       " (trueskill.Rating(mu=20.884, sigma=10.980),)]"
      ]
     },
     "execution_count": 113,
     "metadata": {},
     "output_type": "execute_result"
    }
   ],
   "source": [
    "env.rate([[p1_], [p2_]])"
   ]
  },
  {
   "cell_type": "code",
   "execution_count": 114,
   "metadata": {
    "collapsed": true
   },
   "outputs": [],
   "source": [
    "import math\n",
    "inf = float('inf')\n",
    "\n",
    "class Gaussian(object):\n",
    "    \"\"\"A model for the normal distribution.\"\"\"\n",
    "\n",
    "    #: Precision, the inverse of the variance.\n",
    "    pi = 0\n",
    "    #: Precision adjusted mean, the precision multiplied by the mean.\n",
    "    tau = 0\n",
    "\n",
    "    def __init__(self, mu=None, sigma=None, pi=0, tau=0, var=None):\n",
    "        if mu is not None:\n",
    "            if var is not None:\n",
    "                pi = 1.0 / var\n",
    "                tau = pi * mu\n",
    "            elif sigma is None:\n",
    "                raise TypeError('sigma argument is needed')\n",
    "            elif sigma == 0:\n",
    "                raise ValueError('sigma**2 should be greater than 0')\n",
    "            else:\n",
    "                pi = sigma ** -2\n",
    "                tau = pi * mu\n",
    "        self.pi = pi\n",
    "        self.tau = tau\n",
    "\n",
    "    @property\n",
    "    def mu(self):\n",
    "        \"\"\"A property which returns the mean.\"\"\"\n",
    "        return self.pi and self.tau / self.pi\n",
    "\n",
    "    @property\n",
    "    def sigma(self):\n",
    "        \"\"\"A property which returns the the square root of the variance.\"\"\"\n",
    "        return math.sqrt(1 / self.pi) if self.pi else inf\n",
    "\n",
    "    def __mul__(self, other):\n",
    "        return Gaussian(pi=self.pi + other.pi, tau=self.tau + other.tau)\n",
    "\n",
    "    def __div__(self, other):\n",
    "        return Gaussian(pi=self.pi - other.pi, tau=self.tau - other.tau)\n",
    "\n",
    "    __truediv__ = __div__\n",
    "    \n",
    "    def __repr__(self):\n",
    "        return 'N(mu=%.3f, sigma=%.3f)' % (self.mu, self.sigma)\n",
    "\n",
    "    def _repr_latex_(self):\n",
    "        latex = r'\\mathcal{ N }( %.3f, %.3f^2 )' % (self.mu, self.sigma)\n",
    "        return '$%s$' % latex"
   ]
  },
  {
   "cell_type": "markdown",
   "metadata": {},
   "source": [
    "### Factor - Prior - f1"
   ]
  },
  {
   "cell_type": "markdown",
   "metadata": {},
   "source": [
    "$N(s; \\mu, \\sigma^2 + \\gamma^2)$"
   ]
  },
  {
   "cell_type": "code",
   "execution_count": 115,
   "metadata": {
    "collapsed": false,
    "scrolled": true
   },
   "outputs": [
    {
     "data": {
      "text/latex": [
       "$\\mathcal{ N }( 25.000, 10.000^2 )$"
      ],
      "text/plain": [
       "N(mu=25.000, sigma=10.000)"
      ]
     },
     "execution_count": 115,
     "metadata": {},
     "output_type": "execute_result"
    }
   ],
   "source": [
    "f11 = Gaussian(mu=p1_mu, var=(p1_sigma**2 + init_gamma**2)); f11"
   ]
  },
  {
   "cell_type": "code",
   "execution_count": 116,
   "metadata": {
    "collapsed": false,
    "scrolled": true
   },
   "outputs": [
    {
     "data": {
      "text/latex": [
       "$\\mathcal{ N }( 35.000, 15.000^2 )$"
      ],
      "text/plain": [
       "N(mu=35.000, sigma=15.000)"
      ]
     },
     "execution_count": 116,
     "metadata": {},
     "output_type": "execute_result"
    }
   ],
   "source": [
    "f12 = Gaussian(mu=p2_mu, var=p2_sigma**2 + init_gamma**2); f12"
   ]
  },
  {
   "cell_type": "markdown",
   "metadata": {},
   "source": [
    "### Message - from Prior to Skill - m1, m2"
   ]
  },
  {
   "cell_type": "code",
   "execution_count": 117,
   "metadata": {
    "collapsed": false
   },
   "outputs": [
    {
     "data": {
      "text/latex": [
       "$\\mathcal{ N }( 25.000, 10.000^2 )$"
      ],
      "text/plain": [
       "N(mu=25.000, sigma=10.000)"
      ]
     },
     "execution_count": 117,
     "metadata": {},
     "output_type": "execute_result"
    }
   ],
   "source": [
    "m1 = f11; m1"
   ]
  },
  {
   "cell_type": "code",
   "execution_count": 118,
   "metadata": {
    "collapsed": false
   },
   "outputs": [
    {
     "data": {
      "text/latex": [
       "$\\mathcal{ N }( 35.000, 15.000^2 )$"
      ],
      "text/plain": [
       "N(mu=35.000, sigma=15.000)"
      ]
     },
     "execution_count": 118,
     "metadata": {},
     "output_type": "execute_result"
    }
   ],
   "source": [
    "m2 = f12; m2"
   ]
  },
  {
   "cell_type": "markdown",
   "metadata": {},
   "source": [
    "### Variable - Skill - s1, s2"
   ]
  },
  {
   "cell_type": "markdown",
   "metadata": {},
   "source": [
    "사실 $p(s_1) = m_{1} \\cdot m_{3}$인데 $m_3$의 초기값이 $N(0, \\inf) = X(0, 0)$이므로, $p(p_1) = m_{5}$ 이다."
   ]
  },
  {
   "cell_type": "code",
   "execution_count": 119,
   "metadata": {
    "collapsed": false
   },
   "outputs": [
    {
     "data": {
      "text/latex": [
       "$\\mathcal{ N }( 25.000, 10.000^2 )$"
      ],
      "text/plain": [
       "N(mu=25.000, sigma=10.000)"
      ]
     },
     "execution_count": 119,
     "metadata": {},
     "output_type": "execute_result"
    }
   ],
   "source": [
    "s1 = m1; s1"
   ]
  },
  {
   "cell_type": "code",
   "execution_count": 120,
   "metadata": {
    "collapsed": false
   },
   "outputs": [
    {
     "data": {
      "text/latex": [
       "$\\mathcal{ N }( 35.000, 15.000^2 )$"
      ],
      "text/plain": [
       "N(mu=35.000, sigma=15.000)"
      ]
     },
     "execution_count": 120,
     "metadata": {},
     "output_type": "execute_result"
    }
   ],
   "source": [
    "s2 = m2; s2"
   ]
  },
  {
   "cell_type": "markdown",
   "metadata": {},
   "source": [
    "### Message - from Skill to Likelihood - m3, m4"
   ]
  },
  {
   "cell_type": "code",
   "execution_count": 121,
   "metadata": {
    "collapsed": false,
    "scrolled": true
   },
   "outputs": [
    {
     "data": {
      "text/latex": [
       "$\\mathcal{ N }( 25.000, 10.000^2 )$"
      ],
      "text/plain": [
       "N(mu=25.000, sigma=10.000)"
      ]
     },
     "execution_count": 121,
     "metadata": {},
     "output_type": "execute_result"
    }
   ],
   "source": [
    "m3 = m1; m3"
   ]
  },
  {
   "cell_type": "code",
   "execution_count": 122,
   "metadata": {
    "collapsed": false
   },
   "outputs": [
    {
     "data": {
      "text/latex": [
       "$\\mathcal{ N }( 35.000, 15.000^2 )$"
      ],
      "text/plain": [
       "N(mu=35.000, sigma=15.000)"
      ]
     },
     "execution_count": 122,
     "metadata": {},
     "output_type": "execute_result"
    }
   ],
   "source": [
    "m4 = m2; m4"
   ]
  },
  {
   "cell_type": "markdown",
   "metadata": {},
   "source": [
    "### Factor - Likelihood - f2"
   ]
  },
  {
   "cell_type": "markdown",
   "metadata": {},
   "source": [
    "$N(p;s, \\beta^2)$"
   ]
  },
  {
   "cell_type": "markdown",
   "metadata": {},
   "source": [
    "### Message - from Likelihood to Performance m5, m6"
   ]
  },
  {
   "cell_type": "markdown",
   "metadata": {},
   "source": [
    "Table1의 두번째 규칙에 따라 $m_5$과 $m_6$를 결정한다. 해당 공식의 $y$가 $s$에 해당하고 $x$가 $p$에 해당한다.\n",
    "- $\\pi_{f \\rightarrow p}^{new} \\leftarrow a \\cdot (\\pi_s - \\pi_{f \\rightarrow s})$\n",
    "- $\\tau_{f \\rightarrow p}^{new} \\leftarrow a \\cdot (\\tau_s - \\tau_{f \\rightarrow s})$\n",
    "- $a := (1 + c^2(\\pi_s - \\pi_{f \\rightarrow s}))^{-1}$\n",
    "\n",
    "\n",
    "$c$값은 공통 분산 $\\beta$이고, $m_{f \\rightarrow s}$는 $N(0, \\inf)$로 초기화되었음\n",
    "- $c = \\beta$\n",
    "- $\\pi_{f \\rightarrow s} = 0$\n",
    "- $\\tau_{f \\rightarrow s} = 0$\n"
   ]
  },
  {
   "cell_type": "code",
   "execution_count": 123,
   "metadata": {
    "collapsed": false
   },
   "outputs": [],
   "source": [
    "def get_a(pi_y, pi_fy, c):\n",
    "    return 1.0 / (1.0 + c**2 * (pi_y - pi_fy) )"
   ]
  },
  {
   "cell_type": "code",
   "execution_count": 124,
   "metadata": {
    "collapsed": false
   },
   "outputs": [
    {
     "data": {
      "text/plain": [
       "0.852079758594166"
      ]
     },
     "execution_count": 124,
     "metadata": {},
     "output_type": "execute_result"
    }
   ],
   "source": [
    "a1 = get_a(s1.pi, 0, init_beta); a1"
   ]
  },
  {
   "cell_type": "code",
   "execution_count": 125,
   "metadata": {
    "collapsed": false
   },
   "outputs": [
    {
     "data": {
      "text/plain": [
       "0.9283688146471447"
      ]
     },
     "execution_count": 125,
     "metadata": {},
     "output_type": "execute_result"
    }
   ],
   "source": [
    "a2 = get_a(s2.pi, 0, init_beta); a2"
   ]
  },
  {
   "cell_type": "code",
   "execution_count": 126,
   "metadata": {
    "collapsed": false
   },
   "outputs": [
    {
     "data": {
      "text/latex": [
       "$\\mathcal{ N }( 25.000, 10.834^2 )$"
      ],
      "text/plain": [
       "N(mu=25.000, sigma=10.834)"
      ]
     },
     "execution_count": 126,
     "metadata": {},
     "output_type": "execute_result"
    }
   ],
   "source": [
    "m5 = Gaussian(pi=a1*(s1.pi-0), tau=a1*(s1.tau-0)); m5"
   ]
  },
  {
   "cell_type": "code",
   "execution_count": 127,
   "metadata": {
    "collapsed": false
   },
   "outputs": [
    {
     "data": {
      "text/latex": [
       "$\\mathcal{ N }( 35.000, 15.568^2 )$"
      ],
      "text/plain": [
       "N(mu=35.000, sigma=15.568)"
      ]
     },
     "execution_count": 127,
     "metadata": {},
     "output_type": "execute_result"
    }
   ],
   "source": [
    "m6 = Gaussian(pi=a2*(s2.pi-0), tau=a2*(s2.tau-0)); m6"
   ]
  },
  {
   "cell_type": "markdown",
   "metadata": {},
   "source": [
    "### Variable - Performance - p1, p2"
   ]
  },
  {
   "cell_type": "markdown",
   "metadata": {},
   "source": [
    "사실 $p(p_1) = m_{5} \\cdot m_{7}$인데 $m_7$의 초기값이 $N(0, \\inf) = X(0, 0)$이므로, $p(p_1) = m_{5}$ 이다."
   ]
  },
  {
   "cell_type": "code",
   "execution_count": 128,
   "metadata": {
    "collapsed": false
   },
   "outputs": [
    {
     "data": {
      "text/latex": [
       "$\\mathcal{ N }( 25.000, 10.834^2 )$"
      ],
      "text/plain": [
       "N(mu=25.000, sigma=10.834)"
      ]
     },
     "execution_count": 128,
     "metadata": {},
     "output_type": "execute_result"
    }
   ],
   "source": [
    "p1 = m5; p1"
   ]
  },
  {
   "cell_type": "code",
   "execution_count": 129,
   "metadata": {
    "collapsed": false
   },
   "outputs": [
    {
     "data": {
      "text/latex": [
       "$\\mathcal{ N }( 35.000, 15.568^2 )$"
      ],
      "text/plain": [
       "N(mu=35.000, sigma=15.568)"
      ]
     },
     "execution_count": 129,
     "metadata": {},
     "output_type": "execute_result"
    }
   ],
   "source": [
    "p2 = m6; p2"
   ]
  },
  {
   "cell_type": "markdown",
   "metadata": {},
   "source": [
    "### Message - from Performance to SumFactor - m7, m8"
   ]
  },
  {
   "cell_type": "code",
   "execution_count": 130,
   "metadata": {
    "collapsed": false
   },
   "outputs": [
    {
     "data": {
      "text/latex": [
       "$\\mathcal{ N }( 25.000, 10.834^2 )$"
      ],
      "text/plain": [
       "N(mu=25.000, sigma=10.834)"
      ]
     },
     "execution_count": 130,
     "metadata": {},
     "output_type": "execute_result"
    }
   ],
   "source": [
    "m7 = p1; m7"
   ]
  },
  {
   "cell_type": "code",
   "execution_count": 131,
   "metadata": {
    "collapsed": false
   },
   "outputs": [
    {
     "data": {
      "text/latex": [
       "$\\mathcal{ N }( 35.000, 15.568^2 )$"
      ],
      "text/plain": [
       "N(mu=35.000, sigma=15.568)"
      ]
     },
     "execution_count": 131,
     "metadata": {},
     "output_type": "execute_result"
    }
   ],
   "source": [
    "m8 = p2; m8"
   ]
  },
  {
   "cell_type": "markdown",
   "metadata": {},
   "source": [
    "### Factor - Sum - f3"
   ]
  },
  {
   "cell_type": "markdown",
   "metadata": {},
   "source": [
    "Table1의 3번째 규칙에 따라 계산된다. $y_1, \\cdots, y_n$은 특정 팀에 속하는 플레이어들의 퍼포먼스 $p_1, \\cdots, p_n$이며 $x$는 Team performance $t$에 해당한다. 또한 $a_j$는 partial play를 표현하는 각 플레이어의 가중치이다. 1vs1이므로 1인팀이고 팀원의 가중치 $a_1=1$로 둔다. 결국 팀원이 1명이면 SumFactor를 거치면서 변하는 것은 없다.\n",
    "\n",
    "$\\pi_{f \\rightarrow t}^{new} \\leftarrow \\left( \\frac{1}{\\pi_{p_1} - \\pi_{f \\rightarrow p_1}} \\right)^{-1} = \\pi_{p_1} - \\pi_{f \\rightarrow p_1} = \\pi_{p_1} ~ (\\because ~ \\pi_{f \\rightarrow p_1} = 0)$\n",
    "\n",
    "$\\tau_{f \\rightarrow t} \\leftarrow \\pi_{f \\rightarrow t}^{new} \\cdot \\left( \\frac{\\tau_{p_1} - \\tau_{f \\rightarrow p_1}}{\\pi_{p_1} - \\pi_{f \\rightarrow p_1}} \\right) = \\pi_{f \\rightarrow t}^{new} \\cdot \\frac{\\tau_{p_1}}{\\pi_{p_1}} = \\tau_{p_1}$"
   ]
  },
  {
   "cell_type": "markdown",
   "metadata": {},
   "source": [
    "### Message - from Sum factor to Team performance variable $t$ - m9, m10"
   ]
  },
  {
   "cell_type": "code",
   "execution_count": 132,
   "metadata": {
    "collapsed": false
   },
   "outputs": [
    {
     "data": {
      "text/latex": [
       "$\\mathcal{ N }( 25.000, 10.834^2 )$"
      ],
      "text/plain": [
       "N(mu=25.000, sigma=10.834)"
      ]
     },
     "execution_count": 132,
     "metadata": {},
     "output_type": "execute_result"
    }
   ],
   "source": [
    "m9 = m7; m9"
   ]
  },
  {
   "cell_type": "code",
   "execution_count": 133,
   "metadata": {
    "collapsed": false
   },
   "outputs": [
    {
     "data": {
      "text/latex": [
       "$\\mathcal{ N }( 35.000, 15.568^2 )$"
      ],
      "text/plain": [
       "N(mu=35.000, sigma=15.568)"
      ]
     },
     "execution_count": 133,
     "metadata": {},
     "output_type": "execute_result"
    }
   ],
   "source": [
    "m10 = m8; m10"
   ]
  },
  {
   "cell_type": "markdown",
   "metadata": {},
   "source": [
    "### Factor - Diff factor - f4"
   ]
  },
  {
   "cell_type": "markdown",
   "metadata": {},
   "source": [
    "Sum factor와 마찬가지로 Table1의 3번째 규칙에 따라 계산된다. 다만 합이 아니라 첫번째 팀과 두번째 팀 퍼포먼스의 차를 구해야 하므로 가중치로 [1, -1]을 사용한다. (각 팀은 경기 순위로 정렬되어 있다고 가정한다.)"
   ]
  },
  {
   "cell_type": "markdown",
   "metadata": {},
   "source": [
    "$\\pi_{f \\rightarrow d}^{new} \\leftarrow \\left( \\frac{1}{\\pi_{t_1} - \\pi_{f \\rightarrow t_1}} + \\frac{1}{\\pi_{t_2} - \\pi_{f \\rightarrow t_2}} \\right)^{-1} = \\left( \\frac{1}{\\pi_{t_1}} + \\frac{1}{\\pi_{t_2}} \\right)^{-1}$\n",
    "\n",
    "$\\tau_{f \\rightarrow d}^{new} \\leftarrow \\pi_{f \\rightarrow d}^{new} \\cdot \\left( \\frac{\\tau_{t_1} - \\tau_{f \\rightarrow t_1}}{\\pi_{t_1} - \\pi_{f \\rightarrow t_1}} - \\frac{\\tau_{t_2} - \\tau_{f \\rightarrow t_2}}{\\pi_{t_2} - \\pi_{f \\rightarrow t_2}} \\right) = \\pi_{f \\rightarrow d}^{new} \\cdot \\left( \\frac{\\tau_{t_1}}{\\pi_{t_1}} - \\frac{\\tau_{t_2}}{\\pi_{t_2}} \\right)$"
   ]
  },
  {
   "cell_type": "code",
   "execution_count": 134,
   "metadata": {
    "collapsed": true
   },
   "outputs": [],
   "source": [
    "t1 = m9\n",
    "t2 = m10"
   ]
  },
  {
   "cell_type": "code",
   "execution_count": 135,
   "metadata": {
    "collapsed": false
   },
   "outputs": [
    {
     "data": {
      "text/plain": [
       "18.966710603346886"
      ]
     },
     "execution_count": 135,
     "metadata": {},
     "output_type": "execute_result"
    }
   ],
   "source": [
    "math.sqrt(m9.sigma **2 + m10.sigma **2)"
   ]
  },
  {
   "cell_type": "markdown",
   "metadata": {},
   "source": [
    "### Message - from Diff factor to Diff variable - m13"
   ]
  },
  {
   "cell_type": "code",
   "execution_count": 136,
   "metadata": {
    "collapsed": false
   },
   "outputs": [
    {
     "data": {
      "text/latex": [
       "$\\mathcal{ N }( -10.000, 18.967^2 )$"
      ],
      "text/plain": [
       "N(mu=-10.000, sigma=18.967)"
      ]
     },
     "execution_count": 136,
     "metadata": {},
     "output_type": "execute_result"
    }
   ],
   "source": [
    "pi_new_f_d = 1.0 / (1.0 / m9.pi + 1.0 / m10.pi)\n",
    "tau_new_f = pi_new_f_d * (m9.tau / m9.pi - m10.tau / m10.pi)\n",
    "pi_new_f_d\n",
    "m13 = Gaussian(pi=pi_new_f_d, tau=tau_new_f); m13"
   ]
  },
  {
   "cell_type": "code",
   "execution_count": 137,
   "metadata": {
    "collapsed": false
   },
   "outputs": [
    {
     "name": "stdout",
     "output_type": "stream",
     "text": [
      "0.0027798154511408817 -0.027798154511408806\n"
     ]
    }
   ],
   "source": [
    "print(m13.pi, m13.tau)"
   ]
  },
  {
   "cell_type": "markdown",
   "metadata": {},
   "source": [
    "### Variable - Team performance difference - d"
   ]
  },
  {
   "cell_type": "code",
   "execution_count": 138,
   "metadata": {
    "collapsed": false
   },
   "outputs": [
    {
     "data": {
      "text/latex": [
       "$\\mathcal{ N }( -10.000, 18.967^2 )$"
      ],
      "text/plain": [
       "N(mu=-10.000, sigma=18.967)"
      ]
     },
     "execution_count": 138,
     "metadata": {},
     "output_type": "execute_result"
    }
   ],
   "source": [
    "d = m13; d"
   ]
  },
  {
   "cell_type": "markdown",
   "metadata": {},
   "source": [
    "### Message - Team performance difference to MatchResult factor - m14"
   ]
  },
  {
   "cell_type": "code",
   "execution_count": 139,
   "metadata": {
    "collapsed": false
   },
   "outputs": [
    {
     "data": {
      "text/latex": [
       "$\\mathcal{ N }( -10.000, 18.967^2 )$"
      ],
      "text/plain": [
       "N(mu=-10.000, sigma=18.967)"
      ]
     },
     "execution_count": 139,
     "metadata": {},
     "output_type": "execute_result"
    }
   ],
   "source": [
    "m14 = m13; m14"
   ]
  },
  {
   "cell_type": "markdown",
   "metadata": {},
   "source": [
    "### Match Quality"
   ]
  },
  {
   "cell_type": "code",
   "execution_count": 140,
   "metadata": {
    "collapsed": false
   },
   "outputs": [
    {
     "name": "stdout",
     "output_type": "stream",
     "text": [
      "beta:4.166666666666667, gamma:0.08333333333333334, draw_prob:0.1, epsilon:0.7404665874521482\n",
      "p1:N(25,10), p2:N(35,15)\n",
      "match quality: 0.26136878173419026\n"
     ]
    },
    {
     "data": {
      "text/plain": [
       "[(trueskill.Rating(mu=31.274, sigma=8.909),),\n",
       " (trueskill.Rating(mu=20.884, sigma=10.980),)]"
      ]
     },
     "execution_count": 140,
     "metadata": {},
     "output_type": "execute_result"
    }
   ],
   "source": [
    "import trueskill as ts\n",
    "\n",
    "def DrawMargin(p, beta, total_players=2):\n",
    "    \"\"\" Compute the draw margin (epsilon) given the draw probability. \"\"\"\n",
    "    return icdf((p + 1.0) / 2) * math.sqrt(total_players) * beta\n",
    "\n",
    "init_mu = 25\n",
    "init_sigma = init_mu / 3\n",
    "init_beta = init_sigma / 2\n",
    "init_gamma = init_sigma / 100\n",
    "init_draw_probability = 0.1\n",
    "init_epsilon = DrawMargin(0.1, init_beta); init_epsilon\n",
    "\n",
    "p1_mu = init_mu\n",
    "p1_sigma = 10\n",
    "p2_mu = init_mu + 10\n",
    "p2_sigma = 15\n",
    "\n",
    "env = ts.TrueSkill(mu=init_mu, sigma=init_sigma, beta=init_beta, tau=init_gamma, draw_probability=init_draw_probability, backend='scipy')\n",
    "print('beta:{}, gamma:{}, draw_prob:{}, epsilon:{}'.format(init_beta, init_gamma, init_draw_probability, init_epsilon))\n",
    "print('p1:N({},{}), p2:N({},{})'.format(p1_mu, p1_sigma, p2_mu, p2_sigma))\n",
    "\n",
    "p1_ = env.Rating(p1_mu, p1_sigma)\n",
    "p2_ = env.Rating(p2_mu, p2_sigma)\n",
    "print('match quality:', env.quality(rating_groups=[[p1], [p2]]))\n",
    "\n",
    "env.rate([[p1_], [p2_]])"
   ]
  },
  {
   "cell_type": "code",
   "execution_count": null,
   "metadata": {
    "collapsed": false
   },
   "outputs": [],
   "source": []
  },
  {
   "cell_type": "code",
   "execution_count": 141,
   "metadata": {
    "collapsed": true
   },
   "outputs": [],
   "source": [
    "import math\n",
    "def get_match_quality_w_skill(g1, g2, beta):\n",
    "    part1 = math.sqrt(2 * math.pow(beta, 2) / (2 * math.pow(beta, 2) + math.pow(g1.sigma, 2) + math.pow(g2.sigma, 2)))\n",
    "    part2 = math.exp(-1.0 / 2 * math.pow(g1.mu - g2.mu, 2) / (2 * math.pow(beta, 2) + math.pow(g1.sigma, 2) + math.pow(g2.sigma, 2)))\n",
    "    return part1 * part2"
   ]
  },
  {
   "cell_type": "code",
   "execution_count": 142,
   "metadata": {
    "collapsed": false
   },
   "outputs": [],
   "source": [
    "import math\n",
    "def get_match_quality_w_diff(d, beta):\n",
    "    part1 = math.sqrt(2 * math.pow(beta, 2) / math.pow(d.sigma, 2))\n",
    "    part2 = math.exp(-1.0 / 2 * math.pow(d.mu, 2) / math.pow(d.sigma, 2))\n",
    "    return part1 * part2"
   ]
  },
  {
   "cell_type": "code",
   "execution_count": 143,
   "metadata": {
    "collapsed": false
   },
   "outputs": [
    {
     "data": {
      "text/plain": [
       "0.27036396867888823"
      ]
     },
     "execution_count": 143,
     "metadata": {},
     "output_type": "execute_result"
    }
   ],
   "source": [
    "get_match_quality_w_skill(m1, m2, init_beta)"
   ]
  },
  {
   "cell_type": "code",
   "execution_count": 144,
   "metadata": {
    "collapsed": false,
    "scrolled": false
   },
   "outputs": [
    {
     "data": {
      "text/plain": [
       "0.27036396867888823"
      ]
     },
     "execution_count": 144,
     "metadata": {},
     "output_type": "execute_result"
    }
   ],
   "source": [
    "get_match_quality_w_diff(m14, init_beta)"
   ]
  },
  {
   "cell_type": "markdown",
   "metadata": {},
   "source": [
    "### Win probability for team A wins team B"
   ]
  },
  {
   "cell_type": "markdown",
   "metadata": {},
   "source": [
    "- https://github.com/sublee/trueskill/issues/1\n",
    "- Team $a$가 $p$명으로 구성되어 있고 팀원의 스킬이 $N(s_{a1};\\mu_{a1}, \\sigma_{a1}),~N(s_{a2};\\mu_{a2}, \\sigma_{a2}), \\cdots, N(s_{ap};\\mu_{ap}, \\sigma_{ap})$이고         \n",
    "Team $b$가 $q$명으로 구성되어 있고 팀원의 스킬이 $N(s_{b1};\\mu_{b1}, \\sigma_{b1}),~N(s_{b2};\\mu_{b2}, \\sigma_{b2}), \\cdots, N(s_{bq};\\mu_{bq}, \\sigma_{bq})$일 때        \n",
    "Team $a$가 Team $b$를 이길 확률은 아래와 같다.\n",
    "$$P(p_a > p_b |~ \\mathbf{s}_a, \\mathbf{s}_b) = \\Phi \\left(\\frac{\\sum_i^p \\mu_{ai} - \\sum_j^q \\mu_{bj} - \\epsilon}{\\sqrt{\\beta^2(p+q) + \\gamma^2(p+q) + \\sum_i^p \\sigma_{ai}^2 + \\sum_j^q \\sigma_{bj}^2}} \\right)$$"
   ]
  },
  {
   "cell_type": "code",
   "execution_count": 145,
   "metadata": {
    "collapsed": true
   },
   "outputs": [],
   "source": [
    "import trueskill as ts\n",
    "import math\n",
    "from scipy.stats import norm\n",
    "pdf = norm.pdf\n",
    "cdf = norm.cdf\n",
    "icdf = norm.ppf  # inverse CDF\n",
    "\n",
    "def win_probability(team_a_ratings, team_b_ratings, beta=8.33, epsilon=0):\n",
    "    \"\"\"\n",
    "    \n",
    "    :param a: Rating list for team a \n",
    "    :param b: Rating list for team b\n",
    "    :param beta: skill chain length\n",
    "    :param epsilon: draw margin\n",
    "    :return: win probability for team a\n",
    "    \"\"\"\n",
    "    delta_mu = sum([x.mu for x in team_a_ratings]) - sum([x.mu for x in team_b_ratings]) - epsilon\n",
    "    sum_sigma = sum([x.sigma ** 2 for x in team_a_ratings]) + sum([x.sigma ** 2 for x in team_b_ratings])\n",
    "    num_team_members = len(team_a_ratings) + len(team_a_ratings)\n",
    "    denom = math.sqrt(beta * beta * num_team_members + sum_sigma)\n",
    "    return cdf(delta_mu / denom)"
   ]
  },
  {
   "cell_type": "code",
   "execution_count": 146,
   "metadata": {
    "collapsed": false,
    "scrolled": true
   },
   "outputs": [
    {
     "data": {
      "text/plain": [
       "0.29901008917530997"
      ]
     },
     "execution_count": 146,
     "metadata": {},
     "output_type": "execute_result"
    }
   ],
   "source": [
    "import trueskill as ts\n",
    "\n",
    "def DrawMargin(p, beta, total_players=2):\n",
    "    \"\"\" Compute the draw margin (epsilon) given the draw probability. \"\"\"\n",
    "    return icdf((p + 1.0) / 2) * math.sqrt(total_players) * beta\n",
    "\n",
    "init_mu = 25\n",
    "init_sigma = init_mu / 3\n",
    "init_beta = init_sigma / 2\n",
    "init_gamma = init_sigma / 100\n",
    "init_draw_probability = 0.1\n",
    "init_epsilon = DrawMargin(0.1, init_beta); init_epsilon\n",
    "\n",
    "p1_mu = init_mu\n",
    "p1_sigma = 10\n",
    "p2_mu = init_mu + 10\n",
    "p2_sigma = 15\n",
    "\n",
    "p1_ = env.Rating(p1_mu, p1_sigma)\n",
    "p2_ = env.Rating(p2_mu, p2_sigma)\n",
    "\n",
    "win_probability([p1_], [p2_], init_beta)"
   ]
  },
  {
   "cell_type": "code",
   "execution_count": 147,
   "metadata": {
    "collapsed": false
   },
   "outputs": [
    {
     "data": {
      "text/latex": [
       "$\\mathcal{ N }( -10.000, 18.967^2 )$"
      ],
      "text/plain": [
       "N(mu=-10.000, sigma=18.967)"
      ]
     },
     "execution_count": 147,
     "metadata": {},
     "output_type": "execute_result"
    }
   ],
   "source": [
    "m14  # diff message"
   ]
  },
  {
   "cell_type": "code",
   "execution_count": 148,
   "metadata": {
    "collapsed": false,
    "scrolled": false
   },
   "outputs": [
    {
     "data": {
      "text/plain": [
       "0.2856017680960603"
      ]
     },
     "execution_count": 148,
     "metadata": {},
     "output_type": "execute_result"
    }
   ],
   "source": [
    "draw_margin = init_epsilon\n",
    "1 - cdf((draw_margin - m14.mu) / m14.sigma)"
   ]
  },
  {
   "cell_type": "markdown",
   "metadata": {},
   "source": [
    "### 팀1이 이겼을 때"
   ]
  },
  {
   "cell_type": "code",
   "execution_count": 149,
   "metadata": {
    "collapsed": false
   },
   "outputs": [
    {
     "data": {
      "image/png": "[encoded data removed]",
      "text/plain": [
       "<matplotlib.figure.Figure at 0x18e456ac898>"
      ]
     },
     "metadata": {},
     "output_type": "display_data"
    }
   ],
   "source": [
    "import matplotlib.pyplot as plt\n",
    "import numpy as np\n",
    "from scipy.stats import norm\n",
    "pdf = norm.pdf\n",
    "cdf = norm.cdf\n",
    "icdf = norm.ppf  # inverse CDF\n",
    "\n",
    "%matplotlib inline\n",
    "plt.rcParams[\"figure.figsize\"] = (11,3)\n",
    "\n",
    "mu = m14.mu\n",
    "sigma = m14.sigma\n",
    "draw_margin = init_epsilon\n",
    "\n",
    "plt.fill_between(x=np.arange(mu - 4*sigma, 0 - draw_margin, 0.01), \n",
    "                 y1= pdf(x=np.arange(mu - 4*sigma,0 - draw_margin,0.01), loc=mu, scale=sigma) ,\n",
    "                 facecolor='white',\n",
    "                 alpha=0.35)\n",
    "\n",
    "plt.fill_between(x=np.arange(-1. * draw_margin, draw_margin, 0.01),\n",
    "                 y1= pdf(x=np.arange(-1. * draw_margin, draw_margin,0.01), loc=mu, scale=sigma) ,\n",
    "                 facecolor='blue',\n",
    "                 alpha=0.35)\n",
    "\n",
    "plt.fill_between(x=np.arange(draw_margin, mu + 4*sigma, 0.01),\n",
    "                 y1= pdf(x=np.arange(draw_margin, mu + 4*sigma, 0.01), loc=mu, scale=sigma) ,\n",
    "                 facecolor='green',\n",
    "                 alpha=0.35)\n",
    "\n",
    "plt.show()"
   ]
  },
  {
   "cell_type": "markdown",
   "metadata": {},
   "source": [
    "### Factor - MatchResult - f5"
   ]
  },
  {
   "cell_type": "markdown",
   "metadata": {},
   "source": [
    "팀1이 이기면 $\\mathbb{I}(\\mu_d > \\epsilon)$, 팀2가 이기면 $\\mathbb{I}(\\mu_d < -\\epsilon)$, 무승부이면 $\\mathbb{I}(|\\mu_d| < \\epsilon)$"
   ]
  },
  {
   "cell_type": "code",
   "execution_count": 150,
   "metadata": {
    "collapsed": false
   },
   "outputs": [
    {
     "data": {
      "image/png": "[encoded data removed]",
      "text/plain": [
       "<matplotlib.figure.Figure at 0x18e4579a7b8>"
      ]
     },
     "metadata": {},
     "output_type": "display_data"
    }
   ],
   "source": [
    "x1 = np.arange(mu - 4*sigma, draw_margin, 0.01)\n",
    "x2 = np.arange(draw_margin, mu + 4*sigma, 0.01)\n",
    "plt.ylim(0, 1.5)\n",
    "plt.fill_between(x=x1, \n",
    "                 y1 = [0]*len(x1),\n",
    "                 facecolor='white',\n",
    "                 alpha=0.35)\n",
    "plt.fill_between(x=x2, \n",
    "                 y1 = [1]*len(x2),\n",
    "                 facecolor='green',\n",
    "                 alpha=0.35)\n",
    "plt.show()"
   ]
  },
  {
   "cell_type": "markdown",
   "metadata": {
    "collapsed": true
   },
   "source": [
    "### Message - from MatchResult factor to Diff variable  - m15"
   ]
  },
  {
   "cell_type": "markdown",
   "metadata": {},
   "source": [
    "$m_{13}$은 팀1이 이겨서 $\\mathbb{I}(\\mu_d > \\epsilon)$이어야 하나, 현재 모형에서는 모든 메시지를 Gaussian으로 가정/근사하여 사용하고 있으므로, 우선 $m_{13}$을 $N(0, \\inf)$로 가정하고 $p(d^{new})$를 구한 후 $m_{13}$를 다시 구할 것이다. 이를 위해 $p(d^{new})$는 바로 Truncated gaussian을 Gaussian으로 근사한 분포를 사용할 것이다."
   ]
  },
  {
   "cell_type": "code",
   "execution_count": 151,
   "metadata": {
    "collapsed": false
   },
   "outputs": [
    {
     "data": {
      "text/latex": [
       "$\\mathcal{ N }( 0.000, inf^2 )$"
      ],
      "text/plain": [
       "N(mu=0.000, sigma=inf)"
      ]
     },
     "execution_count": 151,
     "metadata": {},
     "output_type": "execute_result"
    }
   ],
   "source": [
    "m15 = Gaussian(pi=0, tau=0); m15"
   ]
  },
  {
   "cell_type": "markdown",
   "metadata": {},
   "source": [
    "### Variable - Team performance diff - d"
   ]
  },
  {
   "cell_type": "markdown",
   "metadata": {},
   "source": [
    "Truncated gaussian을 Gaussian으로 근사"
   ]
  },
  {
   "cell_type": "code",
   "execution_count": 152,
   "metadata": {
    "collapsed": true
   },
   "outputs": [],
   "source": [
    "from scipy.stats.distributions import norm as scipy_norm\n",
    "norm = scipy_norm()\n",
    "pdf = norm.pdf\n",
    "cdf = norm.cdf\n",
    "icdf = norm.ppf  # inverse CDF\n",
    "\n",
    "def Vwin(t, e):\n",
    "    return pdf(t - e) / cdf(t - e)\n",
    "\n",
    "def Wwin(t, e):\n",
    "    return Vwin(t, e) * (Vwin(t, e) + t - e)\n",
    "\n",
    "def Vdraw(t, e):\n",
    "    return (pdf(-e - t) - pdf(e - t)) / (cdf(e - t) - cdf(-e - t))\n",
    "\n",
    "def Wdraw(t, e):\n",
    "    return Vdraw(t, e) ** 2 + ((e - t) * pdf(e - t) + (e + t) * pdf(e + t)) / (cdf(e - t) - cdf(-e - t))"
   ]
  },
  {
   "cell_type": "markdown",
   "metadata": {},
   "source": [
    "$c:= \\pi_{d} - \\pi_{f \\rightarrow d}$, $k:=\\tau_d - \\tau_{f \\rightarrow d}$ (원 논문의 $d$를 $k$로 바꿈)\n",
    "\n",
    "\n",
    "$\\pi_d^{new} \\leftarrow \\frac{c}{1-W_f \\left(k~/\\sqrt{c}, \\epsilon \\sqrt{c}\\right)}$\n",
    "\n",
    "\n",
    "$\\tau_d^{new} \\leftarrow \\frac{k+\\sqrt{c} \\cdot V_f \\left(k ~/ \\sqrt{c}, \\epsilon \\sqrt{c}\\right)}{W_f\\left(k ~/ \\sqrt{c}, \\epsilon \\sqrt{c}\\right)}$\n"
   ]
  },
  {
   "cell_type": "markdown",
   "metadata": {},
   "source": [
    "Gaussian으로 근사한 $p(d)$는 $X(\\pi_d^{new}, \\tau_d^{new})$이고, Truncated Gaussian의 1, 2차 적률을 통해 위와 같이 구할 수 있다. 한쪽팀(팀1)이 이긴 경우 이므로 $V$, $W$함수는 각각 $V_{\\mathbb{I}(\\cdot > \\epsilon)}$과 $W_{\\mathbb{I}(\\cdot > \\epsilon)}$를 사용하며 그 값은 아래와 같다."
   ]
  },
  {
   "cell_type": "code",
   "execution_count": 153,
   "metadata": {
    "collapsed": false
   },
   "outputs": [
    {
     "name": "stdout",
     "output_type": "stream",
     "text": [
      "d:N(mu=-10.000, sigma=18.967), m15:N(mu=0.000, sigma=inf), draw_margin:0.7404665874521482\n"
     ]
    }
   ],
   "source": [
    "print('d:{}, m15:{}, draw_margin:{}'.format(d, m15, draw_margin))"
   ]
  },
  {
   "cell_type": "code",
   "execution_count": 154,
   "metadata": {
    "collapsed": false
   },
   "outputs": [
    {
     "data": {
      "text/plain": [
       "0.0027798154511408817"
      ]
     },
     "execution_count": 154,
     "metadata": {},
     "output_type": "execute_result"
    }
   ],
   "source": [
    "c = d.pi - m15.pi; c"
   ]
  },
  {
   "cell_type": "code",
   "execution_count": 155,
   "metadata": {
    "collapsed": false
   },
   "outputs": [
    {
     "data": {
      "text/plain": [
       "-0.027798154511408806"
      ]
     },
     "execution_count": 155,
     "metadata": {},
     "output_type": "execute_result"
    }
   ],
   "source": [
    "k = d.tau - m15.tau; k"
   ]
  },
  {
   "cell_type": "code",
   "execution_count": 156,
   "metadata": {
    "collapsed": false
   },
   "outputs": [
    {
     "data": {
      "text/plain": [
       "(-0.5272395519250125, 0.039040327178371387)"
      ]
     },
     "execution_count": 156,
     "metadata": {},
     "output_type": "execute_result"
    }
   ],
   "source": [
    "args = (k/math.sqrt(c), draw_margin * math.sqrt(c)); args"
   ]
  },
  {
   "cell_type": "code",
   "execution_count": 157,
   "metadata": {
    "collapsed": false
   },
   "outputs": [
    {
     "data": {
      "text/plain": [
       "1.1899149973573446"
      ]
     },
     "execution_count": 157,
     "metadata": {},
     "output_type": "execute_result"
    }
   ],
   "source": [
    "V = Vwin(*args); V"
   ]
  },
  {
   "cell_type": "code",
   "execution_count": 158,
   "metadata": {
    "collapsed": false
   },
   "outputs": [
    {
     "data": {
      "text/plain": [
       "0.74207278008910904"
      ]
     },
     "execution_count": 158,
     "metadata": {},
     "output_type": "execute_result"
    }
   ],
   "source": [
    "W = Wwin(*args); W"
   ]
  },
  {
   "cell_type": "code",
   "execution_count": 159,
   "metadata": {
    "collapsed": false
   },
   "outputs": [
    {
     "data": {
      "text/latex": [
       "$\\mathcal{ N }( 12.569, 9.633^2 )$"
      ],
      "text/plain": [
       "N(mu=12.569, sigma=9.633)"
      ]
     },
     "execution_count": 159,
     "metadata": {},
     "output_type": "execute_result"
    }
   ],
   "source": [
    "d_new1 = Gaussian(pi=c/(1-W), tau=(k+math.sqrt(c)*V)/(1-W)); d_new1"
   ]
  },
  {
   "cell_type": "markdown",
   "metadata": {},
   "source": [
    "### Message - from MatchResult to diff variable - m15 (update 1)"
   ]
  },
  {
   "cell_type": "markdown",
   "metadata": {},
   "source": [
    "$m_{15}^{new1} = p(d^{new}) \\times \\frac{1}{m_{d \\rightarrow f}} = p(d^{new}) \\times \\frac{m_{f \\rightarrow d}^{old}}{p(d^{old})}$"
   ]
  },
  {
   "cell_type": "code",
   "execution_count": 160,
   "metadata": {
    "collapsed": false
   },
   "outputs": [
    {
     "data": {
      "text/latex": [
       "$\\mathcal{ N }( -10.000, 18.967^2 )$"
      ],
      "text/plain": [
       "N(mu=-10.000, sigma=18.967)"
      ]
     },
     "execution_count": 160,
     "metadata": {},
     "output_type": "execute_result"
    }
   ],
   "source": [
    "d  # old variable - p(d^old)"
   ]
  },
  {
   "cell_type": "code",
   "execution_count": 161,
   "metadata": {
    "collapsed": false
   },
   "outputs": [
    {
     "data": {
      "text/latex": [
       "$\\mathcal{ N }( 0.000, inf^2 )$"
      ],
      "text/plain": [
       "N(mu=0.000, sigma=inf)"
      ]
     },
     "execution_count": 161,
     "metadata": {},
     "output_type": "execute_result"
    }
   ],
   "source": [
    "m15 # old message - m_f->d^old"
   ]
  },
  {
   "cell_type": "code",
   "execution_count": 162,
   "metadata": {
    "collapsed": false
   },
   "outputs": [
    {
     "data": {
      "text/latex": [
       "$\\mathcal{ N }( 12.569, 9.633^2 )$"
      ],
      "text/plain": [
       "N(mu=12.569, sigma=9.633)"
      ]
     },
     "execution_count": 162,
     "metadata": {},
     "output_type": "execute_result"
    }
   ],
   "source": [
    "d_new1 # new variable - p(d^new)"
   ]
  },
  {
   "cell_type": "code",
   "execution_count": 163,
   "metadata": {
    "collapsed": false,
    "scrolled": true
   },
   "outputs": [
    {
     "data": {
      "text/latex": [
       "$\\mathcal{ N }( 20.413, 11.182^2 )$"
      ],
      "text/plain": [
       "N(mu=20.413, sigma=11.182)"
      ]
     },
     "execution_count": 163,
     "metadata": {},
     "output_type": "execute_result"
    }
   ],
   "source": [
    "m15_new1 = d_new1 * m15 / d; m15_new1 # new message"
   ]
  },
  {
   "cell_type": "markdown",
   "metadata": {},
   "source": [
    "### Message - from diff variable to diff factor - m16"
   ]
  },
  {
   "cell_type": "code",
   "execution_count": 164,
   "metadata": {
    "collapsed": false
   },
   "outputs": [
    {
     "data": {
      "text/latex": [
       "$\\mathcal{ N }( 20.413, 11.182^2 )$"
      ],
      "text/plain": [
       "N(mu=20.413, sigma=11.182)"
      ]
     },
     "execution_count": 164,
     "metadata": {},
     "output_type": "execute_result"
    }
   ],
   "source": [
    "m16 = m15_new1; m16"
   ]
  },
  {
   "cell_type": "markdown",
   "metadata": {},
   "source": [
    "### Message - from diff factor to Team1 performance variable - m17"
   ]
  },
  {
   "cell_type": "markdown",
   "metadata": {
    "collapsed": true
   },
   "source": [
    "$d = t_1 - t_2$ 이므로 $t_1 = d + t_2$이고, $\\mathbf{a} = (1, 1)^{T}$ 이다.\n"
   ]
  },
  {
   "cell_type": "markdown",
   "metadata": {
    "collapsed": true
   },
   "source": [
    "$m_{f \\rightarrow d} = m_{13}$, $m_{f \\rightarrow t_2} = m_{18} \\sim N(0, \\inf)$"
   ]
  },
  {
   "cell_type": "markdown",
   "metadata": {
    "collapsed": true
   },
   "source": [
    "$\\pi_{f \\rightarrow t_1}^{new} \\leftarrow \\left( \\frac{1}{\\pi_{d} - \\pi_{f \\rightarrow d}} + \\frac{1}{\\pi_{t_2} - \\pi_{f \\rightarrow t_2}} \\right)^{-1}$\n",
    "\n",
    "$\\tau_{f \\rightarrow t_1}^{new} \\leftarrow \\pi_{f \\rightarrow t_1}^{new} \\cdot \\left( \\frac{\\tau_{d} - \\tau_{f \\rightarrow d}}{\\pi_{d} - \\pi_{f \\rightarrow d}} + \\frac{\\tau_{t_2} - \\tau_{f \\rightarrow t_2}}{\\pi_{t_2} - \\pi_{f \\rightarrow t_2}} \\right)$"
   ]
  },
  {
   "cell_type": "code",
   "execution_count": 165,
   "metadata": {
    "collapsed": false
   },
   "outputs": [],
   "source": [
    "m18 = Gaussian(pi=0, tau=0)\n",
    "pi_new_f_t1 = 1.0 / (1.0 / (d_new1.pi - m13.pi) + 1.0 / (t2.pi - m18.pi))\n",
    "tau_new_f_t1 = pi_new_f_t1 * ((d_new1.tau - m13.tau)/(d_new1.pi - m13.pi) + (t2.tau - m18.tau)/(t2.pi - m18.pi))"
   ]
  },
  {
   "cell_type": "code",
   "execution_count": 166,
   "metadata": {
    "collapsed": false
   },
   "outputs": [
    {
     "data": {
      "text/plain": [
       "0.0027217997940824743"
      ]
     },
     "execution_count": 166,
     "metadata": {},
     "output_type": "execute_result"
    }
   ],
   "source": [
    "pi_new_f_t1"
   ]
  },
  {
   "cell_type": "code",
   "execution_count": 167,
   "metadata": {
    "collapsed": false
   },
   "outputs": [
    {
     "data": {
      "text/plain": [
       "0.15082350989006352"
      ]
     },
     "execution_count": 167,
     "metadata": {},
     "output_type": "execute_result"
    }
   ],
   "source": [
    "tau_new_f_t1"
   ]
  },
  {
   "cell_type": "code",
   "execution_count": 168,
   "metadata": {
    "collapsed": false
   },
   "outputs": [
    {
     "data": {
      "text/latex": [
       "$\\mathcal{ N }( 55.413, 19.168^2 )$"
      ],
      "text/plain": [
       "N(mu=55.413, sigma=19.168)"
      ]
     },
     "execution_count": 168,
     "metadata": {},
     "output_type": "execute_result"
    }
   ],
   "source": [
    "m17 = Gaussian(pi=pi_new_f_t1, tau=tau_new_f_t1); m17\n",
    "# m18을 계산할 때 사용됨"
   ]
  },
  {
   "cell_type": "markdown",
   "metadata": {},
   "source": [
    "### Variable - Team1 performance - t1_new1"
   ]
  },
  {
   "cell_type": "markdown",
   "metadata": {},
   "source": [
    "$p(t_1) = m_{f_{31} \\rightarrow t_1} \\cdot m_{f_{41} \\rightarrow t_1} = m_{9} \\cdot m_{17}$"
   ]
  },
  {
   "cell_type": "code",
   "execution_count": 169,
   "metadata": {
    "collapsed": false
   },
   "outputs": [
    {
     "data": {
      "text/latex": [
       "$\\mathcal{ N }( 25.000, 10.834^2 )$"
      ],
      "text/plain": [
       "N(mu=25.000, sigma=10.834)"
      ]
     },
     "execution_count": 169,
     "metadata": {},
     "output_type": "execute_result"
    }
   ],
   "source": [
    "m9"
   ]
  },
  {
   "cell_type": "code",
   "execution_count": 170,
   "metadata": {
    "collapsed": false
   },
   "outputs": [
    {
     "data": {
      "text/latex": [
       "$\\mathcal{ N }( 55.413, 19.168^2 )$"
      ],
      "text/plain": [
       "N(mu=55.413, sigma=19.168)"
      ]
     },
     "execution_count": 170,
     "metadata": {},
     "output_type": "execute_result"
    }
   ],
   "source": [
    "m17"
   ]
  },
  {
   "cell_type": "code",
   "execution_count": 171,
   "metadata": {
    "collapsed": false,
    "scrolled": true
   },
   "outputs": [
    {
     "data": {
      "text/latex": [
       "$\\mathcal{ N }( 32.363, 9.431^2 )$"
      ],
      "text/plain": [
       "N(mu=32.363, sigma=9.431)"
      ]
     },
     "execution_count": 171,
     "metadata": {},
     "output_type": "execute_result"
    }
   ],
   "source": [
    "t1_new1 = m9 * m17; t1_new1"
   ]
  },
  {
   "cell_type": "markdown",
   "metadata": {},
   "source": [
    "### Message - from diff factor to Team2 performance variable - m18"
   ]
  },
  {
   "cell_type": "markdown",
   "metadata": {
    "collapsed": true
   },
   "source": [
    "$d = t_1 - t_2$ 이므로 $t_2 = -d + t_1$이고, $\\mathbf{a} = (-1, 1)^{T}$ 이다.\n"
   ]
  },
  {
   "cell_type": "markdown",
   "metadata": {
    "collapsed": true
   },
   "source": [
    "$m_{f \\rightarrow d} = m_{13}$, $m_{f \\rightarrow t_1} = m_{17}$"
   ]
  },
  {
   "cell_type": "markdown",
   "metadata": {
    "collapsed": true
   },
   "source": [
    "$\\pi_{f \\rightarrow t_2}^{new} \\leftarrow \\left( \\frac{1}{\\pi_{d} - \\pi_{f \\rightarrow d}} + \\frac{1}{\\pi_{t_1} - \\pi_{f \\rightarrow t_1}} \\right)^{-1}$\n",
    "\n",
    "$\\tau_{f \\rightarrow t_2}^{new} \\leftarrow \\pi_{f \\rightarrow t_2}^{new} \\cdot \\left( -\\frac{\\tau_{d} - \\tau_{f \\rightarrow d}}{\\pi_{d} - \\pi_{f \\rightarrow d}} + \\frac{\\tau_{t_1} - \\tau_{f \\rightarrow t_1}}{\\pi_{t_1} - \\pi_{f \\rightarrow t_1}} \\right)$"
   ]
  },
  {
   "cell_type": "code",
   "execution_count": 172,
   "metadata": {
    "collapsed": false
   },
   "outputs": [],
   "source": [
    "pi_new_f_t2 = 1.0 / (1.0 / (d_new1.pi - m13.pi) + 1.0 / (t1_new1.pi - m17.pi))\n",
    "tau_new_f_t2 = pi_new_f_t2 * (-1. * (d_new1.tau - m13.tau)/(d_new1.pi - m13.pi) + (t1_new1.tau - m17.tau)/(t1_new1.pi - m17.pi))"
   ]
  },
  {
   "cell_type": "code",
   "execution_count": 173,
   "metadata": {
    "collapsed": false
   },
   "outputs": [
    {
     "data": {
      "text/plain": [
       "0.0041253452887686903"
      ]
     },
     "execution_count": 173,
     "metadata": {},
     "output_type": "execute_result"
    }
   ],
   "source": [
    "pi_new_f_t2"
   ]
  },
  {
   "cell_type": "code",
   "execution_count": 174,
   "metadata": {
    "collapsed": false
   },
   "outputs": [
    {
     "data": {
      "text/plain": [
       "0.018922325440991473"
      ]
     },
     "execution_count": 174,
     "metadata": {},
     "output_type": "execute_result"
    }
   ],
   "source": [
    "tau_new_f_t2"
   ]
  },
  {
   "cell_type": "code",
   "execution_count": 175,
   "metadata": {
    "collapsed": false
   },
   "outputs": [
    {
     "data": {
      "text/latex": [
       "$\\mathcal{ N }( 4.587, 15.569^2 )$"
      ],
      "text/plain": [
       "N(mu=4.587, sigma=15.569)"
      ]
     },
     "execution_count": 175,
     "metadata": {},
     "output_type": "execute_result"
    }
   ],
   "source": [
    "m18 = Gaussian(pi=pi_new_f_t2, tau=tau_new_f_t2); m18"
   ]
  },
  {
   "cell_type": "markdown",
   "metadata": {},
   "source": [
    "### Variable - Team2 performance - t2_new1"
   ]
  },
  {
   "cell_type": "markdown",
   "metadata": {},
   "source": [
    "$p(t_2) = m_{f_{32} \\rightarrow t_2} \\cdot m_{f_{42} \\rightarrow t_2} = m_{10} \\cdot m_{18}$"
   ]
  },
  {
   "cell_type": "code",
   "execution_count": 176,
   "metadata": {
    "collapsed": false
   },
   "outputs": [
    {
     "data": {
      "text/latex": [
       "$\\mathcal{ N }( 35.000, 15.568^2 )$"
      ],
      "text/plain": [
       "N(mu=35.000, sigma=15.568)"
      ]
     },
     "execution_count": 176,
     "metadata": {},
     "output_type": "execute_result"
    }
   ],
   "source": [
    "m10"
   ]
  },
  {
   "cell_type": "code",
   "execution_count": 177,
   "metadata": {
    "collapsed": false
   },
   "outputs": [
    {
     "data": {
      "text/latex": [
       "$\\mathcal{ N }( 4.587, 15.569^2 )$"
      ],
      "text/plain": [
       "N(mu=4.587, sigma=15.569)"
      ]
     },
     "execution_count": 177,
     "metadata": {},
     "output_type": "execute_result"
    }
   ],
   "source": [
    "m18"
   ]
  },
  {
   "cell_type": "code",
   "execution_count": 178,
   "metadata": {
    "collapsed": false,
    "scrolled": true
   },
   "outputs": [
    {
     "data": {
      "text/latex": [
       "$\\mathcal{ N }( 19.795, 11.009^2 )$"
      ],
      "text/plain": [
       "N(mu=19.795, sigma=11.009)"
      ]
     },
     "execution_count": 178,
     "metadata": {},
     "output_type": "execute_result"
    }
   ],
   "source": [
    "t2_new1 = m10 * m18; t2_new1"
   ]
  },
  {
   "cell_type": "markdown",
   "metadata": {
    "collapsed": true
   },
   "source": [
    "### Message - from Team1 performance to Diff factor - m11_new1"
   ]
  },
  {
   "cell_type": "code",
   "execution_count": 179,
   "metadata": {
    "collapsed": false
   },
   "outputs": [
    {
     "data": {
      "text/latex": [
       "$\\mathcal{ N }( 32.363, 9.431^2 )$"
      ],
      "text/plain": [
       "N(mu=32.363, sigma=9.431)"
      ]
     },
     "execution_count": 179,
     "metadata": {},
     "output_type": "execute_result"
    }
   ],
   "source": [
    "m11_new1 = t1_new1; m11_new1"
   ]
  },
  {
   "cell_type": "markdown",
   "metadata": {
    "collapsed": true
   },
   "source": [
    "### Message - from Team2 performance to Diff factor - m12_new1"
   ]
  },
  {
   "cell_type": "code",
   "execution_count": 180,
   "metadata": {
    "collapsed": false,
    "scrolled": true
   },
   "outputs": [
    {
     "data": {
      "text/latex": [
       "$\\mathcal{ N }( 19.795, 11.009^2 )$"
      ],
      "text/plain": [
       "N(mu=19.795, sigma=11.009)"
      ]
     },
     "execution_count": 180,
     "metadata": {},
     "output_type": "execute_result"
    }
   ],
   "source": [
    "m12_new1 = t2_new1; m12_new1"
   ]
  },
  {
   "cell_type": "markdown",
   "metadata": {},
   "source": [
    "### Message - from Diff factor to Diff variable - m13_new1"
   ]
  },
  {
   "cell_type": "markdown",
   "metadata": {},
   "source": [
    "$\\pi_{f \\rightarrow d}^{new} \\leftarrow \\left( \\frac{1}{\\pi_{t_1} - \\pi_{f \\rightarrow t_1}} + \\frac{1}{\\pi_{t_2} - \\pi_{f \\rightarrow t_2}} \\right)^{-1}$\n",
    "\n",
    "$\\tau_{f \\rightarrow d}^{new} \\leftarrow \\pi_{f \\rightarrow d}^{new} \\cdot \\left( \\frac{\\tau_{t_1} - \\tau_{f \\rightarrow t_1}}{\\pi_{t_1} - \\pi_{f \\rightarrow t_1}} - \\frac{\\tau_{t_2} - \\tau_{f \\rightarrow t_2}}{\\pi_{t_2} - \\pi_{f \\rightarrow t_2}} \\right)$"
   ]
  },
  {
   "cell_type": "code",
   "execution_count": 181,
   "metadata": {
    "collapsed": false,
    "scrolled": true
   },
   "outputs": [
    {
     "data": {
      "text/plain": [
       "0.0027798154511408817"
      ]
     },
     "execution_count": 181,
     "metadata": {},
     "output_type": "execute_result"
    }
   ],
   "source": [
    "m13_new1_pi = 1.0 / ((1.0 / (t1_new1.pi - m17.pi)) + (1.0 / (t2_new1.pi - m18.pi))); m13_new1_pi"
   ]
  },
  {
   "cell_type": "code",
   "execution_count": 182,
   "metadata": {
    "collapsed": false
   },
   "outputs": [
    {
     "data": {
      "text/plain": [
       "-0.027798154511408799"
      ]
     },
     "execution_count": 182,
     "metadata": {},
     "output_type": "execute_result"
    }
   ],
   "source": [
    "m13_new_tau = m13_new1_pi * (((t1_new1.tau - m17.tau)/(t1_new1.pi - m17.pi)) - \\\n",
    "                             ((t2_new1.tau - m18.tau)/(t2_new1.pi - m18.pi)));m13_new_tau"
   ]
  },
  {
   "cell_type": "code",
   "execution_count": 183,
   "metadata": {
    "collapsed": false
   },
   "outputs": [
    {
     "data": {
      "text/latex": [
       "$\\mathcal{ N }( -10.000, 18.967^2 )$"
      ],
      "text/plain": [
       "N(mu=-10.000, sigma=18.967)"
      ]
     },
     "execution_count": 183,
     "metadata": {},
     "output_type": "execute_result"
    }
   ],
   "source": [
    "m13_new1 = Gaussian(pi=m13_new1_pi, tau=m13_new_tau); m13_new1"
   ]
  },
  {
   "cell_type": "markdown",
   "metadata": {},
   "source": [
    "### Variable - Diff variable - d_new2"
   ]
  },
  {
   "cell_type": "markdown",
   "metadata": {},
   "source": [
    "$$\\begin{align}\n",
    "P(d)^{new2} &= m^{new}_{f \\rightarrow d} \\times m_{d \\rightarrow f}^{}  \\\\\n",
    "&= m^{new}_{f \\rightarrow d} \\times \\frac{p(d)^{old}}{m^{old}_{f \\rightarrow d}}\\\\\n",
    "\\end{align}$$"
   ]
  },
  {
   "cell_type": "code",
   "execution_count": 184,
   "metadata": {
    "collapsed": false,
    "scrolled": true
   },
   "outputs": [
    {
     "data": {
      "text/latex": [
       "$\\mathcal{ N }( 12.569, 9.633^2 )$"
      ],
      "text/plain": [
       "N(mu=12.569, sigma=9.633)"
      ]
     },
     "execution_count": 184,
     "metadata": {},
     "output_type": "execute_result"
    }
   ],
   "source": [
    "d_new1 # old variable"
   ]
  },
  {
   "cell_type": "code",
   "execution_count": 185,
   "metadata": {
    "collapsed": false
   },
   "outputs": [
    {
     "data": {
      "text/latex": [
       "$\\mathcal{ N }( 20.413, 11.182^2 )$"
      ],
      "text/plain": [
       "N(mu=20.413, sigma=11.182)"
      ]
     },
     "execution_count": 185,
     "metadata": {},
     "output_type": "execute_result"
    }
   ],
   "source": [
    "m15_new1 # new message"
   ]
  },
  {
   "cell_type": "code",
   "execution_count": 186,
   "metadata": {
    "collapsed": false
   },
   "outputs": [
    {
     "data": {
      "text/latex": [
       "$\\mathcal{ N }( -10.000, 18.967^2 )$"
      ],
      "text/plain": [
       "N(mu=-10.000, sigma=18.967)"
      ]
     },
     "execution_count": 186,
     "metadata": {},
     "output_type": "execute_result"
    }
   ],
   "source": [
    "m13 # old message"
   ]
  },
  {
   "cell_type": "code",
   "execution_count": 187,
   "metadata": {
    "collapsed": false
   },
   "outputs": [
    {
     "data": {
      "text/latex": [
       "$\\mathcal{ N }( 12.569, 9.633^2 )$"
      ],
      "text/plain": [
       "N(mu=12.569, sigma=9.633)"
      ]
     },
     "execution_count": 187,
     "metadata": {},
     "output_type": "execute_result"
    }
   ],
   "source": [
    "d_new2 = m13_new1 * d_new1 / m13; d_new2"
   ]
  },
  {
   "cell_type": "code",
   "execution_count": null,
   "metadata": {
    "collapsed": true
   },
   "outputs": [],
   "source": []
  },
  {
   "cell_type": "code",
   "execution_count": 188,
   "metadata": {
    "collapsed": false
   },
   "outputs": [
    {
     "data": {
      "text/latex": [
       "$\\mathcal{ N }( 20.413, 11.182^2 )$"
      ],
      "text/plain": [
       "N(mu=20.413, sigma=11.182)"
      ]
     },
     "execution_count": 188,
     "metadata": {},
     "output_type": "execute_result"
    }
   ],
   "source": [
    "d_new1 / m13"
   ]
  },
  {
   "cell_type": "code",
   "execution_count": 189,
   "metadata": {
    "collapsed": false
   },
   "outputs": [
    {
     "data": {
      "text/latex": [
       "$\\mathcal{ N }( 20.413, 11.182^2 )$"
      ],
      "text/plain": [
       "N(mu=20.413, sigma=11.182)"
      ]
     },
     "execution_count": 189,
     "metadata": {},
     "output_type": "execute_result"
    }
   ],
   "source": [
    "m16"
   ]
  },
  {
   "cell_type": "markdown",
   "metadata": {},
   "source": [
    "### Message - from Diff factor to Team1 performance variable - m17_new1"
   ]
  },
  {
   "cell_type": "markdown",
   "metadata": {
    "collapsed": true
   },
   "source": [
    "$d = t_1 - t_2$ 이므로 $t_1 = d + t_2$이고, $\\mathbf{a} = (1, 1)^{T}$ 이다.\n"
   ]
  },
  {
   "cell_type": "markdown",
   "metadata": {
    "collapsed": true
   },
   "source": [
    "$m_{f \\rightarrow d} = m_{13}$, $m_{f \\rightarrow t_2} = m_{18}$"
   ]
  },
  {
   "cell_type": "markdown",
   "metadata": {
    "collapsed": true
   },
   "source": [
    "$\\pi_{f \\rightarrow t_1}^{new} \\leftarrow \\left( \\frac{1}{\\pi_{d} - \\pi_{f \\rightarrow d}} + \\frac{1}{\\pi_{t_2} - \\pi_{f \\rightarrow t_2}} \\right)^{-1}$\n",
    "\n",
    "$\\tau_{f \\rightarrow t_1}^{new} \\leftarrow \\pi_{f \\rightarrow t_1}^{new} \\cdot \\left( \\frac{\\tau_{d} - \\tau_{f \\rightarrow d}}{\\pi_{d} - \\pi_{f \\rightarrow d}} + \\frac{\\tau_{t_2} - \\tau_{f \\rightarrow t_2}}{\\pi_{t_2} - \\pi_{f \\rightarrow t_2}} \\right)$"
   ]
  },
  {
   "cell_type": "code",
   "execution_count": 190,
   "metadata": {
    "collapsed": false
   },
   "outputs": [
    {
     "data": {
      "text/latex": [
       "$\\mathcal{ N }( 4.587, 15.569^2 )$"
      ],
      "text/plain": [
       "N(mu=4.587, sigma=15.569)"
      ]
     },
     "execution_count": 190,
     "metadata": {},
     "output_type": "execute_result"
    }
   ],
   "source": [
    "m18"
   ]
  },
  {
   "cell_type": "code",
   "execution_count": 191,
   "metadata": {
    "collapsed": false
   },
   "outputs": [
    {
     "data": {
      "text/latex": [
       "$\\mathcal{ N }( 12.569, 9.633^2 )$"
      ],
      "text/plain": [
       "N(mu=12.569, sigma=9.633)"
      ]
     },
     "execution_count": 191,
     "metadata": {},
     "output_type": "execute_result"
    }
   ],
   "source": [
    "d_new2"
   ]
  },
  {
   "cell_type": "code",
   "execution_count": 192,
   "metadata": {
    "collapsed": false
   },
   "outputs": [
    {
     "data": {
      "text/latex": [
       "$\\mathcal{ N }( -10.000, 18.967^2 )$"
      ],
      "text/plain": [
       "N(mu=-10.000, sigma=18.967)"
      ]
     },
     "execution_count": 192,
     "metadata": {},
     "output_type": "execute_result"
    }
   ],
   "source": [
    "m13_new1"
   ]
  },
  {
   "cell_type": "code",
   "execution_count": 193,
   "metadata": {
    "collapsed": false
   },
   "outputs": [
    {
     "data": {
      "text/latex": [
       "$\\mathcal{ N }( 19.795, 11.009^2 )$"
      ],
      "text/plain": [
       "N(mu=19.795, sigma=11.009)"
      ]
     },
     "execution_count": 193,
     "metadata": {},
     "output_type": "execute_result"
    }
   ],
   "source": [
    "t2_new1"
   ]
  },
  {
   "cell_type": "code",
   "execution_count": 194,
   "metadata": {
    "collapsed": false
   },
   "outputs": [],
   "source": [
    "pi_new1_f_t1 = 1.0 / (1.0 / (d_new2.pi - m13_new1.pi) + 1.0 / (t2_new1.pi - m18.pi))\n",
    "tau_new1_f_t1 = pi_new1_f_t1 * ((d_new2.tau - m13_new1.tau)/(d_new2.pi - m13_new1.pi) + (t2_new1.tau - m18.tau)/(t2_new1.pi - m18.pi))"
   ]
  },
  {
   "cell_type": "code",
   "execution_count": 195,
   "metadata": {
    "collapsed": false
   },
   "outputs": [
    {
     "data": {
      "text/plain": [
       "0.0027217997940824743"
      ]
     },
     "execution_count": 195,
     "metadata": {},
     "output_type": "execute_result"
    }
   ],
   "source": [
    "pi_new1_f_t1"
   ]
  },
  {
   "cell_type": "code",
   "execution_count": 196,
   "metadata": {
    "collapsed": false
   },
   "outputs": [
    {
     "data": {
      "text/plain": [
       "0.15082350989006352"
      ]
     },
     "execution_count": 196,
     "metadata": {},
     "output_type": "execute_result"
    }
   ],
   "source": [
    "tau_new1_f_t1"
   ]
  },
  {
   "cell_type": "code",
   "execution_count": 197,
   "metadata": {
    "collapsed": false
   },
   "outputs": [
    {
     "data": {
      "text/latex": [
       "$\\mathcal{ N }( 55.413, 19.168^2 )$"
      ],
      "text/plain": [
       "N(mu=55.413, sigma=19.168)"
      ]
     },
     "execution_count": 197,
     "metadata": {},
     "output_type": "execute_result"
    }
   ],
   "source": [
    "m17_new1 = Gaussian(pi=pi_new1_f_t1, tau=tau_new1_f_t1); m17_new1\n",
    "# m18을 계산할 때 사용됨"
   ]
  },
  {
   "cell_type": "markdown",
   "metadata": {},
   "source": [
    "### Variable - Team1 performance - t1_new2"
   ]
  },
  {
   "cell_type": "markdown",
   "metadata": {},
   "source": [
    "$p(t_1) = m_{f_{31} \\rightarrow t_1} \\cdot m_{f_{41} \\rightarrow t_1} = m_{9} \\cdot m_{17}$"
   ]
  },
  {
   "cell_type": "code",
   "execution_count": 198,
   "metadata": {
    "collapsed": false
   },
   "outputs": [
    {
     "data": {
      "text/latex": [
       "$\\mathcal{ N }( 25.000, 10.834^2 )$"
      ],
      "text/plain": [
       "N(mu=25.000, sigma=10.834)"
      ]
     },
     "execution_count": 198,
     "metadata": {},
     "output_type": "execute_result"
    }
   ],
   "source": [
    "m9"
   ]
  },
  {
   "cell_type": "code",
   "execution_count": 199,
   "metadata": {
    "collapsed": false
   },
   "outputs": [
    {
     "data": {
      "text/latex": [
       "$\\mathcal{ N }( 55.413, 19.168^2 )$"
      ],
      "text/plain": [
       "N(mu=55.413, sigma=19.168)"
      ]
     },
     "execution_count": 199,
     "metadata": {},
     "output_type": "execute_result"
    }
   ],
   "source": [
    "m17_new1"
   ]
  },
  {
   "cell_type": "code",
   "execution_count": 200,
   "metadata": {
    "collapsed": false,
    "scrolled": true
   },
   "outputs": [
    {
     "data": {
      "text/latex": [
       "$\\mathcal{ N }( 32.363, 9.431^2 )$"
      ],
      "text/plain": [
       "N(mu=32.363, sigma=9.431)"
      ]
     },
     "execution_count": 200,
     "metadata": {},
     "output_type": "execute_result"
    }
   ],
   "source": [
    "t1_new2 = m9 * m17_new1; t1_new2"
   ]
  },
  {
   "cell_type": "markdown",
   "metadata": {},
   "source": [
    "### Message - from diff factor to Team2 performance variable - m18_new1"
   ]
  },
  {
   "cell_type": "markdown",
   "metadata": {
    "collapsed": true
   },
   "source": [
    "$d = t_1 - t_2$ 이므로 $t_2 = -d + t_1$이고, $\\mathbf{a} = (-1, 1)^{T}$ 이다.\n"
   ]
  },
  {
   "cell_type": "markdown",
   "metadata": {
    "collapsed": true
   },
   "source": [
    "$m_{f \\rightarrow d} = m_{13}$, $m_{f \\rightarrow t_1} = m_{17}$"
   ]
  },
  {
   "cell_type": "markdown",
   "metadata": {
    "collapsed": true
   },
   "source": [
    "$\\pi_{f \\rightarrow t_2}^{new} \\leftarrow \\left( \\frac{1}{\\pi_{d} - \\pi_{f \\rightarrow d}} + \\frac{1}{\\pi_{t_1} - \\pi_{f \\rightarrow t_1}} \\right)^{-1}$\n",
    "\n",
    "$\\tau_{f \\rightarrow t_2}^{new} \\leftarrow \\pi_{f \\rightarrow t_2}^{new} \\cdot \\left( -\\frac{\\tau_{d} - \\tau_{f \\rightarrow d}}{\\pi_{d} - \\pi_{f \\rightarrow d}} + \\frac{\\tau_{t_1} - \\tau_{f \\rightarrow t_1}}{\\pi_{t_1} - \\pi_{f \\rightarrow t_1}} \\right)$"
   ]
  },
  {
   "cell_type": "code",
   "execution_count": 201,
   "metadata": {
    "collapsed": false
   },
   "outputs": [],
   "source": [
    "pi_new1_f_t2 = 1.0 / (1.0 / (d_new2.pi - m13_new1.pi) + 1.0 / (t1_new2.pi - m17_new1.pi))\n",
    "tau_new1_f_t2 = pi_new1_f_t2 * (-1. * (d_new2.tau - m13_new1.tau)/(d_new2.pi - m13_new1.pi) + (t1_new2.tau - m17_new1.tau)/(t1_new2.pi - m17_new1.pi))"
   ]
  },
  {
   "cell_type": "code",
   "execution_count": 202,
   "metadata": {
    "collapsed": false
   },
   "outputs": [
    {
     "data": {
      "text/plain": [
       "0.0041253452887686903"
      ]
     },
     "execution_count": 202,
     "metadata": {},
     "output_type": "execute_result"
    }
   ],
   "source": [
    "pi_new1_f_t2"
   ]
  },
  {
   "cell_type": "code",
   "execution_count": 203,
   "metadata": {
    "collapsed": false
   },
   "outputs": [
    {
     "data": {
      "text/plain": [
       "0.018922325440991473"
      ]
     },
     "execution_count": 203,
     "metadata": {},
     "output_type": "execute_result"
    }
   ],
   "source": [
    "tau_new1_f_t2"
   ]
  },
  {
   "cell_type": "code",
   "execution_count": 204,
   "metadata": {
    "collapsed": false
   },
   "outputs": [
    {
     "data": {
      "text/latex": [
       "$\\mathcal{ N }( 4.587, 15.569^2 )$"
      ],
      "text/plain": [
       "N(mu=4.587, sigma=15.569)"
      ]
     },
     "execution_count": 204,
     "metadata": {},
     "output_type": "execute_result"
    }
   ],
   "source": [
    "m18_new1 = Gaussian(pi=pi_new_f_t2, tau=tau_new_f_t2); m18"
   ]
  },
  {
   "cell_type": "markdown",
   "metadata": {},
   "source": [
    "### Variable - Team1 performance - t2_new2"
   ]
  },
  {
   "cell_type": "markdown",
   "metadata": {},
   "source": [
    "$p(t_2) = m_{f_{32} \\rightarrow t_2} \\cdot m_{f_{42} \\rightarrow t_2} = m_{10} \\cdot m_{18}$"
   ]
  },
  {
   "cell_type": "code",
   "execution_count": 205,
   "metadata": {
    "collapsed": false
   },
   "outputs": [
    {
     "data": {
      "text/latex": [
       "$\\mathcal{ N }( 35.000, 15.568^2 )$"
      ],
      "text/plain": [
       "N(mu=35.000, sigma=15.568)"
      ]
     },
     "execution_count": 205,
     "metadata": {},
     "output_type": "execute_result"
    }
   ],
   "source": [
    "m10"
   ]
  },
  {
   "cell_type": "code",
   "execution_count": 206,
   "metadata": {
    "collapsed": false
   },
   "outputs": [
    {
     "data": {
      "text/latex": [
       "$\\mathcal{ N }( 4.587, 15.569^2 )$"
      ],
      "text/plain": [
       "N(mu=4.587, sigma=15.569)"
      ]
     },
     "execution_count": 206,
     "metadata": {},
     "output_type": "execute_result"
    }
   ],
   "source": [
    "m18_new1"
   ]
  },
  {
   "cell_type": "code",
   "execution_count": 207,
   "metadata": {
    "collapsed": false,
    "scrolled": true
   },
   "outputs": [
    {
     "data": {
      "text/latex": [
       "$\\mathcal{ N }( 19.795, 11.009^2 )$"
      ],
      "text/plain": [
       "N(mu=19.795, sigma=11.009)"
      ]
     },
     "execution_count": 207,
     "metadata": {},
     "output_type": "execute_result"
    }
   ],
   "source": [
    "t2_new2 = m10 * m18_new1; t2_new2"
   ]
  },
  {
   "cell_type": "markdown",
   "metadata": {},
   "source": [
    "-------"
   ]
  },
  {
   "cell_type": "markdown",
   "metadata": {},
   "source": [
    "결국 d1 -> [m_15 -> m16 -> m17 -> t1 -> m11 -> m18 -> t2 -> m12 -> m13 -> d1] -> [m17 -> t1 -> m11 -> m18 -> t2 -> m12 -> m13 -> d1]\n",
    "-> [m17 -> t1 -> m11 -> m18 -> t2 -> m12 -> m13 -> d1] -> [m17 -> t1 -> m11 -> m18 -> t2 -> m12 -> m13 -> d1]\n",
    "-> [m17 -> t1 -> m11 -> m18 -> t2 -> m12 -> m13 -> d1] -> ...\n",
    "이런 반복이 몇번 더 진행된다. 그런데 반복해도 message들이 거의 변하지 않는다."
   ]
  },
  {
   "cell_type": "markdown",
   "metadata": {},
   "source": [
    "---------"
   ]
  },
  {
   "cell_type": "code",
   "execution_count": null,
   "metadata": {
    "collapsed": true
   },
   "outputs": [],
   "source": []
  },
  {
   "cell_type": "code",
   "execution_count": null,
   "metadata": {
    "collapsed": true
   },
   "outputs": [],
   "source": []
  },
  {
   "cell_type": "code",
   "execution_count": null,
   "metadata": {
    "collapsed": true
   },
   "outputs": [],
   "source": []
  },
  {
   "cell_type": "code",
   "execution_count": null,
   "metadata": {
    "collapsed": true
   },
   "outputs": [],
   "source": []
  },
  {
   "cell_type": "code",
   "execution_count": null,
   "metadata": {
    "collapsed": true
   },
   "outputs": [],
   "source": []
  },
  {
   "cell_type": "code",
   "execution_count": null,
   "metadata": {
    "collapsed": true
   },
   "outputs": [],
   "source": []
  },
  {
   "cell_type": "markdown",
   "metadata": {},
   "source": [
    "### Message - from Team1 performance variable to Sum factor - m19_new"
   ]
  },
  {
   "cell_type": "code",
   "execution_count": 208,
   "metadata": {
    "collapsed": false
   },
   "outputs": [
    {
     "data": {
      "text/latex": [
       "$\\mathcal{ N }( 55.413, 19.168^2 )$"
      ],
      "text/plain": [
       "N(mu=55.413, sigma=19.168)"
      ]
     },
     "execution_count": 208,
     "metadata": {},
     "output_type": "execute_result"
    }
   ],
   "source": [
    "m17_new1"
   ]
  },
  {
   "cell_type": "code",
   "execution_count": 209,
   "metadata": {
    "collapsed": false
   },
   "outputs": [
    {
     "data": {
      "text/latex": [
       "$\\mathcal{ N }( 4.587, 15.569^2 )$"
      ],
      "text/plain": [
       "N(mu=4.587, sigma=15.569)"
      ]
     },
     "execution_count": 209,
     "metadata": {},
     "output_type": "execute_result"
    }
   ],
   "source": [
    "m18_new1"
   ]
  },
  {
   "cell_type": "code",
   "execution_count": 210,
   "metadata": {
    "collapsed": false
   },
   "outputs": [
    {
     "data": {
      "text/latex": [
       "$\\mathcal{ N }( 25.000, 10.834^2 )$"
      ],
      "text/plain": [
       "N(mu=25.000, sigma=10.834)"
      ]
     },
     "execution_count": 210,
     "metadata": {},
     "output_type": "execute_result"
    }
   ],
   "source": [
    "p1"
   ]
  },
  {
   "cell_type": "markdown",
   "metadata": {},
   "source": [
    "### Message - from Team2 performance variable to Sum factor - m20_new"
   ]
  },
  {
   "cell_type": "code",
   "execution_count": 211,
   "metadata": {
    "collapsed": false
   },
   "outputs": [
    {
     "data": {
      "text/latex": [
       "$\\mathcal{ N }( 4.587, 15.569^2 )$"
      ],
      "text/plain": [
       "N(mu=4.587, sigma=15.569)"
      ]
     },
     "execution_count": 211,
     "metadata": {},
     "output_type": "execute_result"
    }
   ],
   "source": [
    "m20_new = m18_new1; m20_new"
   ]
  },
  {
   "cell_type": "code",
   "execution_count": 212,
   "metadata": {
    "collapsed": false
   },
   "outputs": [
    {
     "data": {
      "text/latex": [
       "$\\mathcal{ N }( 25.000, 10.834^2 )$"
      ],
      "text/plain": [
       "N(mu=25.000, sigma=10.834)"
      ]
     },
     "execution_count": 212,
     "metadata": {},
     "output_type": "execute_result"
    }
   ],
   "source": [
    "p1"
   ]
  },
  {
   "cell_type": "code",
   "execution_count": 213,
   "metadata": {
    "collapsed": false
   },
   "outputs": [
    {
     "data": {
      "text/latex": [
       "$\\mathcal{ N }( 25.000, 10.834^2 )$"
      ],
      "text/plain": [
       "N(mu=25.000, sigma=10.834)"
      ]
     },
     "execution_count": 213,
     "metadata": {},
     "output_type": "execute_result"
    }
   ],
   "source": [
    "m9"
   ]
  },
  {
   "cell_type": "code",
   "execution_count": 214,
   "metadata": {
    "collapsed": false
   },
   "outputs": [
    {
     "data": {
      "text/latex": [
       "$\\mathcal{ N }( 32.363, 9.431^2 )$"
      ],
      "text/plain": [
       "N(mu=32.363, sigma=9.431)"
      ]
     },
     "execution_count": 214,
     "metadata": {},
     "output_type": "execute_result"
    }
   ],
   "source": [
    "t1_new1"
   ]
  },
  {
   "cell_type": "code",
   "execution_count": 215,
   "metadata": {
    "collapsed": false
   },
   "outputs": [
    {
     "data": {
      "text/latex": [
       "$\\mathcal{ N }( 19.795, 11.009^2 )$"
      ],
      "text/plain": [
       "N(mu=19.795, sigma=11.009)"
      ]
     },
     "execution_count": 215,
     "metadata": {},
     "output_type": "execute_result"
    }
   ],
   "source": [
    "t2_new1"
   ]
  },
  {
   "cell_type": "code",
   "execution_count": null,
   "metadata": {
    "collapsed": true
   },
   "outputs": [],
   "source": []
  },
  {
   "cell_type": "markdown",
   "metadata": {},
   "source": [
    "### Message - from Performance to Likelihood  m5, m6"
   ]
  },
  {
   "cell_type": "markdown",
   "metadata": {},
   "source": [
    "Table1의 두번째 규칙에 따라 $m_5$과 $m_6$를 결정한다. 해당 공식의 $y$가 $s$에 해당하고 $x$가 $p$에 해당한다.\n",
    "- $\\pi_{f \\rightarrow p}^{new} \\leftarrow a \\cdot (\\pi_s - \\pi_{f \\rightarrow s})$\n",
    "- $\\tau_{f \\rightarrow p}^{new} \\leftarrow a \\cdot (\\tau_s - \\tau_{f \\rightarrow s})$\n",
    "- $a := (1 + c^2(\\pi_s - \\pi_{f \\rightarrow s}))^{-1}$\n",
    "\n",
    "\n",
    "$c$값은 공통 분산 $\\beta$이고, $m_{f \\rightarrow s}$는 $N(0, \\inf)$로 초기화되었음\n",
    "- $c = \\beta$\n",
    "- $\\pi_{f \\rightarrow s} = 0$\n",
    "- $\\tau_{f \\rightarrow s} = 0$\n"
   ]
  },
  {
   "cell_type": "code",
   "execution_count": 216,
   "metadata": {
    "collapsed": false
   },
   "outputs": [],
   "source": [
    "def get_a(pi_y, pi_fy, c):\n",
    "    return 1.0 / (1.0 + c**2 * (pi_y - pi_fy) )"
   ]
  },
  {
   "cell_type": "code",
   "execution_count": 217,
   "metadata": {
    "collapsed": false
   },
   "outputs": [
    {
     "data": {
      "text/plain": [
       "0.852079758594166"
      ]
     },
     "execution_count": 217,
     "metadata": {},
     "output_type": "execute_result"
    }
   ],
   "source": [
    "a1 = get_a(s1.pi, 0, init_beta); a1"
   ]
  },
  {
   "cell_type": "code",
   "execution_count": 218,
   "metadata": {
    "collapsed": false
   },
   "outputs": [
    {
     "data": {
      "text/plain": [
       "0.9283688146471447"
      ]
     },
     "execution_count": 218,
     "metadata": {},
     "output_type": "execute_result"
    }
   ],
   "source": [
    "a2 = get_a(s2.pi, 0, init_beta); a2"
   ]
  },
  {
   "cell_type": "code",
   "execution_count": 219,
   "metadata": {
    "collapsed": false
   },
   "outputs": [
    {
     "data": {
      "text/latex": [
       "$\\mathcal{ N }( 25.000, 10.834^2 )$"
      ],
      "text/plain": [
       "N(mu=25.000, sigma=10.834)"
      ]
     },
     "execution_count": 219,
     "metadata": {},
     "output_type": "execute_result"
    }
   ],
   "source": [
    "m5 = Gaussian(pi=a1*(s1.pi-0), tau=a1*(s1.tau-0)); m5"
   ]
  },
  {
   "cell_type": "code",
   "execution_count": 127,
   "metadata": {
    "collapsed": false
   },
   "outputs": [
    {
     "data": {
      "text/latex": [
       "$\\mathcal{ N }( 35.000, 15.568^2 )$"
      ],
      "text/plain": [
       "N(mu=35.000, sigma=15.568)"
      ]
     },
     "execution_count": 127,
     "metadata": {},
     "output_type": "execute_result"
    }
   ],
   "source": [
    "m6 = Gaussian(pi=a2*(s2.pi-0), tau=a2*(s2.tau-0)); m6"
   ]
  }
 ],
 "metadata": {
  "anaconda-cloud": {},
  "kernelspec": {
   "display_name": "Python [Root]",
   "language": "python",
   "name": "Python [Root]"
  },
  "language_info": {
   "codemirror_mode": {
    "name": "ipython",
    "version": 3
   },
   "file_extension": ".py",
   "mimetype": "text/x-python",
   "name": "python",
   "nbconvert_exporter": "python",
   "pygments_lexer": "ipython3",
   "version": "3.5.2"
  }
 },
 "nbformat": 4,
 "nbformat_minor": 0
}
