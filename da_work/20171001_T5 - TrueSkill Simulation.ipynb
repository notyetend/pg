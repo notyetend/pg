{
 "cells": [
  {
   "cell_type": "markdown",
   "metadata": {},
   "source": [
    "# Testing"
   ]
  },
  {
   "cell_type": "markdown",
   "metadata": {},
   "source": [
    "### Environment Setting"
   ]
  },
  {
   "cell_type": "code",
   "execution_count": 1,
   "metadata": {
    "collapsed": true
   },
   "outputs": [],
   "source": [
    "init_mu = 25\n",
    "init_sigma = init_mu / 3\n",
    "init_beta = init_sigma / 2  # skill chain length\n",
    "init_tau = init_sigma / 100  # dynamic factor"
   ]
  },
  {
   "cell_type": "markdown",
   "metadata": {},
   "source": [
    "### Loading Data"
   ]
  },
  {
   "cell_type": "code",
   "execution_count": 2,
   "metadata": {
    "collapsed": true
   },
   "outputs": [],
   "source": [
    "def print_file_head(file_path, col_names, rows=100):\n",
    "    f = open(file_path, encoding='utf8')\n",
    "    for t, row in enumerate(DictReader(f, fieldnames=col_names, delimiter=',')):\n",
    "        print(row)\n",
    "\n",
    "        if t > rows - 2:\n",
    "            break\n",
    "    f.close()"
   ]
  },
  {
   "cell_type": "code",
   "execution_count": 8,
   "metadata": {
    "scrolled": false
   },
   "outputs": [
    {
     "name": "stdout",
     "output_type": "stream",
     "text": [
      "{'win_team_num': '5', 'lose_team_num': '3', 'tddate': '\\ufeff2017-06-15', 'num_team_users': '8', 'min_reg_date': '2017-06-15 11:11:46.000', 'rk_match': '1', 'game_srl': 'ec2-52-78-245-65.ap-northeast-2.compute.amazonaws.com_4_5941ebb5', 'uuid': '26', 'rk_team_members': '6', 'win': '0'}\n",
      "{'win_team_num': '5', 'lose_team_num': '3', 'tddate': '2017-06-15', 'num_team_users': '8', 'min_reg_date': '2017-06-15 11:11:46.000', 'rk_match': '1', 'game_srl': 'ec2-52-78-245-65.ap-northeast-2.compute.amazonaws.com_4_5941ebb5', 'uuid': '29', 'rk_team_members': '7', 'win': '1'}\n"
     ]
    }
   ],
   "source": [
    "from csv import DictReader\n",
    "\n",
    "user_file_path = r'C:\\Users\\dongwan.kim\\Desktop\\da_work\\T5\\20170628_T5_MatchData\\20170628_T5_char_ids1.csv'\n",
    "user_file_header = ['uuid', 'name', 'reg_date']\n",
    "\n",
    "match_file_path = r'C:\\Users\\dongwan.kim\\Desktop\\da_work\\T5\\20170628_T5_MatchData\\20170628_T5_MatchData1_3.csv'\n",
    "match_file_header = ['tddate', 'uuid', 'game_srl', 'win', 'min_reg_date', 'rk_team_members', 'rk_match', 'num_team_users', 'win_team_num', 'lose_team_num']\n",
    "\n",
    "match_quality_out_file_path = r'C:\\Users\\dongwan.kim\\Desktop\\da_work\\T5\\20170628_T5_MatchData\\match_quality_out_file_10only.csv'\n",
    "\n",
    "# print_file_head(match_file_path, user_file_header, 10)\n",
    "print_file_head(match_file_path, match_file_header, 2)"
   ]
  },
  {
   "cell_type": "markdown",
   "metadata": {},
   "source": [
    "### TrueSkill Simulation"
   ]
  },
  {
   "cell_type": "code",
   "execution_count": 9,
   "metadata": {
    "collapsed": true
   },
   "outputs": [],
   "source": [
    "def update_rate_and_get_match_quality(match_composition):\n",
    "    # print('team:', match_composition)\n",
    "    \n",
    "    win_team_ratings = {}\n",
    "    for member in match_composition['win_team_members']:\n",
    "        users_mu_sigma = user_ratings[member]  # ur is tuple composed of (mu, sigma) representing use's rating\n",
    "        users_rating = env.Rating(mu=users_mu_sigma[0], sigma=users_mu_sigma[1])\n",
    "        win_team_ratings[member] = users_rating\n",
    "    \n",
    "    lose_team_ratings = {}\n",
    "    for member in match_composition['lose_team_members']:\n",
    "        users_mu_sigma = user_ratings[member]  # ur is tuple composed of (mu, sigma) representing use's rating\n",
    "        users_rating = env.Rating(mu=users_mu_sigma[0], sigma=users_mu_sigma[1])\n",
    "        lose_team_ratings[member] = users_rating\n",
    "\n",
    "    match_quality = env.quality(rating_groups=[win_team_ratings, lose_team_ratings])  # calculating match quality before the match\n",
    "    # print('match:', match_composition['game_srl'], 'quality:', match_quality)\n",
    "    \n",
    "    new_rate = env.rate([win_team_ratings, lose_team_ratings])  # calculating new rates after the match\n",
    "    \n",
    "    # updating rate for winers\n",
    "    for key, value in new_rate[0].items():\n",
    "        # print('key:', key, 'value:', value)\n",
    "        user_ratings[key] = (value.mu, value.sigma)  # update rate for each user\n",
    "    \n",
    "    # updating rate for loses\n",
    "    for key, value in new_rate[1].items():\n",
    "        # print('key:', key, 'value:', value)\n",
    "        user_ratings[key] = (value.mu, value.sigma)  # update rate for each user\n",
    "            \n",
    "    return (match_composition['game_srl'], str(match_quality))"
   ]
  },
  {
   "cell_type": "code",
   "execution_count": 11,
   "metadata": {
    "collapsed": true
   },
   "outputs": [],
   "source": [
    "import trueskill as ts\n",
    "\n",
    "# init user ratings\n",
    "user_ratings = {}\n",
    "f = open(user_file_path, encoding='utf8')\n",
    "for t, row in enumerate(DictReader(f, fieldnames=user_file_header, delimiter=',')):\n",
    "    user_ratings[row['uuid']] = (init_mu, init_sigma)\n",
    "f.close()\n",
    "\n",
    "rk_team_last = None\n",
    "match_composition = {}\n",
    "match_composition['win_team_members'] = []\n",
    "match_composition['lose_team_members'] = []\n",
    "match_composition['rk_match'] = None\n",
    "match_composition['game_srl'] = None\n",
    "\n",
    "env = ts.TrueSkill(mu=init_mu, sigma=init_sigma, beta=init_beta, tau=init_tau, draw_probability=0, backend='mpmath')\n",
    "r_file = open(match_file_path, encoding='utf8')\n",
    "w_file = open(match_quality_out_file_path, encoding='utf8', mode='w')\n",
    "for t, row in enumerate(DictReader(r_file, fieldnames=match_file_header, delimiter=',')):\n",
    "    if row['num_team_users'] == '10' and row['win_team_num'] == row['lose_team_num'] and int(row['win_team_num']) > 0 and int(row['lose_team_num']) > 0:  # nop fair matches\n",
    "        \n",
    "        if rk_team_last == row['rk_match'] or rk_team_last is None:\n",
    "            match_composition['rk_match'] = row['rk_match']\n",
    "            match_composition['game_srl'] = row['game_srl']\n",
    "            if row['win'] == '1':\n",
    "                # work for win team\n",
    "                match_composition['win_team_members'].append(row['uuid'])\n",
    "                \n",
    "            else:\n",
    "                # work for lose team\n",
    "                match_composition['lose_team_members'].append(row['uuid'])\n",
    "            rk_team_last = row['rk_match']\n",
    "        else:\n",
    "                       \n",
    "            # work for each match with match_composition\n",
    "            try:\n",
    "                mq = update_rate_and_get_match_quality(match_composition)\n",
    "            except:\n",
    "                print(match_composition)\n",
    "                \n",
    "            w_file.write(','.join(mq) + '\\n')\n",
    "            \n",
    "            \n",
    "            # initialize for the next \n",
    "            match_composition = {}\n",
    "            match_composition['win_team_members'] = []\n",
    "            match_composition['lose_team_members'] = []\n",
    "\n",
    "            rk_team_last = row['rk_match']\n",
    "            if row['win'] == '1':\n",
    "                # work for win team\n",
    "                match_composition['win_team_members'].append(row['uuid'])\n",
    "            else:\n",
    "                # work for lose team\n",
    "                match_composition['lose_team_members'].append(row['uuid'])\n",
    "    \n",
    "    #if int(row['rk_match']) > 6000:\n",
    "    #    break\n",
    "r_file.close()\n",
    "w_file.close()"
   ]
  }
 ],
 "metadata": {
  "anaconda-cloud": {},
  "kernelspec": {
   "display_name": "Python 3",
   "language": "python",
   "name": "python3"
  },
  "language_info": {
   "codemirror_mode": {
    "name": "ipython",
    "version": 3
   },
   "file_extension": ".py",
   "mimetype": "text/x-python",
   "name": "python",
   "nbconvert_exporter": "python",
   "pygments_lexer": "ipython3",
   "version": "3.6.1"
  }
 },
 "nbformat": 4,
 "nbformat_minor": 1
}
