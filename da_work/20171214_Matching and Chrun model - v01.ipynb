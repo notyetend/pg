{
 "cells": [
  {
   "cell_type": "markdown",
   "metadata": {},
   "source": [
    "###### Setting work path"
   ]
  },
  {
   "cell_type": "code",
   "execution_count": null,
   "metadata": {},
   "outputs": [],
   "source": [
    "import os\n",
    "os.getcwd()\n",
    "os.chdir(u'C:/Users/dongwan.kim/Desktop/da_work/4000_게임과 로그/T5')\n",
    "os.getcwd()"
   ]
  },
  {
   "cell_type": "markdown",
   "metadata": {},
   "source": [
    "###### Data preperation"
   ]
  },
  {
   "cell_type": "code",
   "execution_count": null,
   "metadata": {
    "scrolled": true
   },
   "outputs": [],
   "source": [
    "import numpy as np\n",
    "import pandas as pd\n",
    "from sklearn.model_selection import train_test_split\n",
    "from sklearn.preprocessing import StandardScaler\n",
    "from sklearn.metrics import recall_score, roc_curve\n",
    "\n",
    "df = pd.read_csv('20171212_T5_data003_Mobile_T5__log_stat_tracking.csv')\n",
    "y = df.iloc[:, 0].values\n",
    "X = df.drop(df.columns[0], axis=1).values\n",
    "X_train, X_test, y_train, y_test = train_test_split(X, y, test_size=0.3, random_state=0)\n",
    "\n",
    "stdsc = StandardScaler()\n",
    "X_train_std = stdsc.fit_transform(X_train)\n",
    "X_test_std = stdsc.transform(X_test)\n",
    "\n",
    "class_labels = ['stay', 'churn']"
   ]
  },
  {
   "cell_type": "markdown",
   "metadata": {},
   "source": [
    "###### How to handle imbalance of class\n",
    "\n",
    "- https://beckernick.github.io/oversampling-modeling/"
   ]
  },
  {
   "cell_type": "code",
   "execution_count": null,
   "metadata": {
    "scrolled": true
   },
   "outputs": [],
   "source": [
    "df.iloc[:, 0].value_counts()"
   ]
  },
  {
   "cell_type": "markdown",
   "metadata": {},
   "source": [
    "###### applying SMOTE"
   ]
  },
  {
   "cell_type": "code",
   "execution_count": null,
   "metadata": {},
   "outputs": [],
   "source": [
    "from imblearn.over_sampling import SMOTE\n",
    "\n",
    "sm = SMOTE(random_state=0, ratio=1.0)\n",
    "X_train_sm, y_train_sm = sm.fit_sample(X_train_std, y_train)"
   ]
  },
  {
   "cell_type": "markdown",
   "metadata": {},
   "source": [
    "So data sets we have.\n",
    "- (X_train, y_train), (X_test, y_test)\n",
    "- (X_train_std, y_train), (X_test, y_test)\n",
    "- (X_train_sm, y_train_sm), (X_test, y_test)"
   ]
  },
  {
   "cell_type": "code",
   "execution_count": null,
   "metadata": {},
   "outputs": [],
   "source": [
    "print('Before applying SMOTE - 0:', len([y for y in y_train if y==0]), '1:', sum(y_train))\n",
    "print('After applying SMOTE  - 0:', len([y for y in y_train_sm if y==0]), '1:', sum(y_train_sm))"
   ]
  },
  {
   "cell_type": "markdown",
   "metadata": {},
   "source": [
    "###### Performance matrics"
   ]
  },
  {
   "cell_type": "code",
   "execution_count": null,
   "metadata": {
    "collapsed": true
   },
   "outputs": [],
   "source": [
    "from sklearn.metrics import confusion_matrix, recall_score, roc_curve, classification_report\n",
    "import matplotlib.pyplot as plt\n",
    "import itertools\n",
    "% matplotlib inline\n",
    "\n",
    "\n",
    "class PerfMatrics():\n",
    "    def __init__(self, y_actual, X, model, class_labels=None):\n",
    "        self.y_actual = y_actual\n",
    "        self.model = model\n",
    "        self.X = X\n",
    "        \n",
    "        self.y_predict = self.model.predict(X)\n",
    "        self.y_predict_proba = self.model.predict_proba(X)[:, 1]\n",
    "        \n",
    "        self.class_labels = class_labels\n",
    "        self.conf_matrix = confusion_matrix(self.y_actual, self.y_predict)\n",
    "        self.tn, self.fp, self.fn, self.tp = self.conf_matrix.ravel()\n",
    "\n",
    "    def print_all_matrics(self):\n",
    "        self._print_accuracy()\n",
    "        self._print_recall()\n",
    "        self._print_classification_report(self.y_actual, self.y_predict, self.class_labels)\n",
    "\n",
    "        plt.rcParams[\"figure.figsize\"] = (11,5)\n",
    "        \n",
    "        plt.subplot(1,2,1)\n",
    "        self._plot_confusion_matrix(self.conf_matrix, self.class_labels)\n",
    "\n",
    "        if self.y_predict_proba is not None:\n",
    "            plt.subplot(1,2,2)\n",
    "            self._plot_roc_curve()\n",
    "\n",
    "    def _plot_confusion_matrix(self, cm, classes,\n",
    "                               normalize=False,\n",
    "                               title='Confusion matrix',\n",
    "                               cmap=plt.cm.Blues):\n",
    "        \"\"\"\n",
    "        This function prints and plots the confusion matrix.\n",
    "        Normalization can be applied by setting `normalize=True`.\n",
    "        \"\"\"\n",
    "        print('---------Confusion matrix---------')\n",
    "\n",
    "        if normalize:\n",
    "            cm = cm.astype('float') / cm.sum(axis=1)[:, np.newaxis]\n",
    "            print(\"Normalized confusion matrix\")\n",
    "        else:\n",
    "            print('Confusion matrix, without normalization')\n",
    "\n",
    "        print(cm)\n",
    "\n",
    "        plt.imshow(cm, interpolation='nearest', cmap=cmap)\n",
    "        plt.title(title)\n",
    "        plt.colorbar()\n",
    "        tick_marks = np.arange(len(classes))\n",
    "        plt.xticks(tick_marks, classes, rotation=45)\n",
    "        plt.yticks(tick_marks, classes)\n",
    "\n",
    "        fmt = '.2f' if normalize else 'd'\n",
    "        thresh = cm.max() / 2.\n",
    "        for i, j in itertools.product(range(cm.shape[0]), range(cm.shape[1])):\n",
    "            plt.text(j, i, format(cm[i, j], fmt),\n",
    "                     horizontalalignment=\"center\",\n",
    "                     color=\"white\" if cm[i, j] > thresh else \"black\")\n",
    "\n",
    "        plt.tight_layout()\n",
    "        plt.ylabel('True label')\n",
    "        plt.xlabel('Predicted label')\n",
    "        print('')\n",
    "\n",
    "    def _print_classification_report(self, y_actual, y_predict, class_labels=None):\n",
    "        print('---------Classification report---------')\n",
    "        print(classification_report(y_actual, y_predict, target_names=class_labels))\n",
    "        print('')\n",
    "\n",
    "    def _print_accuracy(self):\n",
    "        print('---------Accuracy---------')\n",
    "        accuracy = (self.tp + self.tn) / (self.tn + self.fp + self.fn + self.tp)\n",
    "        print(accuracy)\n",
    "        print('')\n",
    "\n",
    "    def _print_recall(self):\n",
    "        print('---------Recall---------')\n",
    "        recall = recall_score(self.y_actual, self.y_predict)\n",
    "        print(recall)\n",
    "        print('')\n",
    "\n",
    "    def _plot_roc_curve(self):\n",
    "        print('---------ROC Curve---------')\n",
    "        fpr, tpr, thresholds = roc_curve(self.y_actual, self.y_predict_proba, pos_label=1)\n",
    "        plt.plot(fpr, tpr)\n",
    "        plt.ylabel('TPR')\n",
    "        plt.xlabel('FPR')\n",
    "        \n",
    "        print('')"
   ]
  },
  {
   "cell_type": "markdown",
   "metadata": {},
   "source": [
    "###### Logistic regression"
   ]
  },
  {
   "cell_type": "code",
   "execution_count": null,
   "metadata": {},
   "outputs": [],
   "source": [
    "from sklearn.linear_model import LogisticRegression\n",
    "\n",
    "lr = LogisticRegression(penalty='l1', C=0.1)\n",
    "lr.fit(X_train_std, y_train)\n",
    "\n",
    "print('Training accuracy:', lr.score(X_train_std, y_train))\n",
    "print('Test accuracy:', lr.score(X_test_std, y_test))"
   ]
  },
  {
   "cell_type": "markdown",
   "metadata": {},
   "source": [
    "Performance matrics for train data with normal LR"
   ]
  },
  {
   "cell_type": "code",
   "execution_count": null,
   "metadata": {},
   "outputs": [],
   "source": [
    "y_train"
   ]
  },
  {
   "cell_type": "code",
   "execution_count": null,
   "metadata": {},
   "outputs": [],
   "source": [
    "lr.predict_proba(X_train_std)[:, 1]"
   ]
  },
  {
   "cell_type": "code",
   "execution_count": null,
   "metadata": {
    "scrolled": false
   },
   "outputs": [],
   "source": [
    "pm_tra_lr = PerfMatrics(y_actual=y_train,\n",
    "                        X=X_train_std,\n",
    "                        model=lr,\n",
    "                        class_labels=class_labels)\n",
    "\n",
    "pm_tra_lr.print_all_matrics()"
   ]
  },
  {
   "cell_type": "markdown",
   "metadata": {},
   "source": [
    "Performance matrics for test data with normal LR"
   ]
  },
  {
   "cell_type": "code",
   "execution_count": null,
   "metadata": {},
   "outputs": [],
   "source": [
    "pm_tst_lr = PerfMatrics(y_actual=y_test,\n",
    "                        X=X_test_std,\n",
    "                        model=lr,\n",
    "                        class_labels=class_labels)\n",
    "\n",
    "pm_tst_lr.print_all_matrics()"
   ]
  },
  {
   "cell_type": "markdown",
   "metadata": {},
   "source": [
    "Imbalanced or not?"
   ]
  },
  {
   "cell_type": "code",
   "execution_count": null,
   "metadata": {},
   "outputs": [],
   "source": [
    "print('total y balance:', sum(y) / len(y))\n",
    "print('training set y balance:', sum(y_train) / len(y_train))\n",
    "print('test set y balance:', sum(y_test) / len(y_test))"
   ]
  },
  {
   "cell_type": "code",
   "execution_count": null,
   "metadata": {},
   "outputs": [],
   "source": [
    "print('LR, Training accuracy:', lr.score(X_train_std, y_train))\n",
    "print('LR, Test accuracy:', lr.score(X_test_std, y_test))"
   ]
  },
  {
   "cell_type": "markdown",
   "metadata": {},
   "source": [
    "###### Logistic Regression with SMOTE"
   ]
  },
  {
   "cell_type": "code",
   "execution_count": null,
   "metadata": {},
   "outputs": [],
   "source": [
    "lr_sm = LogisticRegression(penalty='l1', C=0.1)\n",
    "lr_sm.fit(X_train_sm, y_train_sm)"
   ]
  },
  {
   "cell_type": "markdown",
   "metadata": {},
   "source": [
    "Performance matrics for train data with LR & SMOTE"
   ]
  },
  {
   "cell_type": "code",
   "execution_count": null,
   "metadata": {},
   "outputs": [],
   "source": [
    "pm_tra_lr_sm = PerfMatrics(y_actual=y_train,\n",
    "                        X=X_train_std,\n",
    "                        model=lr_sm,\n",
    "                        class_labels=class_labels)\n",
    "\n",
    "pm_tra_lr_sm.print_all_matrics()"
   ]
  },
  {
   "cell_type": "markdown",
   "metadata": {},
   "source": [
    "Performance matrics for test data with LR & SMOTE"
   ]
  },
  {
   "cell_type": "code",
   "execution_count": null,
   "metadata": {},
   "outputs": [],
   "source": [
    "pm_tst_lr_sm = PerfMatrics(y_actual=y_test,\n",
    "                        X=X_test_std,\n",
    "                        model=lr_sm,\n",
    "                        class_labels=class_labels)\n",
    "\n",
    "pm_tst_lr_sm.print_all_matrics()"
   ]
  },
  {
   "cell_type": "markdown",
   "metadata": {},
   "source": [
    "###### Random Forest\n",
    "\n",
    "- How to rune hyper-parameters of RF model?\n",
    "  - https://stackoverflow.com/questions/36107820/how-to-tune-parameters-in-random-forest-using-scikit-learn\n",
    "  - https://www.fabienplisson.com/random-forest-and-grid-search/"
   ]
  },
  {
   "cell_type": "code",
   "execution_count": null,
   "metadata": {},
   "outputs": [],
   "source": [
    "from sklearn.ensemble import RandomForestClassifier\n",
    "\n",
    "rf = RandomForestClassifier(n_estimators=50, random_state=12)\n",
    "rf.fit(X_train_std, y_train)\n",
    "print('RF, Test accuracy:', rf.score(X_test_std, y_test))\n",
    "print('RF, Test recall:', recall_score(y_test, rf.predict(X_test_std)))"
   ]
  },
  {
   "cell_type": "code",
   "execution_count": null,
   "metadata": {},
   "outputs": [],
   "source": [
    "pm_tst_rf = PerfMatrics(y_actual=y_test,\n",
    "                        X=X_test_std,\n",
    "                        model=rf,\n",
    "                        class_labels=class_labels)\n",
    "\n",
    "pm_tst_rf.print_all_matrics()"
   ]
  },
  {
   "cell_type": "markdown",
   "metadata": {},
   "source": [
    "###### RF with SMOTE"
   ]
  },
  {
   "cell_type": "code",
   "execution_count": null,
   "metadata": {},
   "outputs": [],
   "source": [
    "rf_sm = RandomForestClassifier(n_estimators=50, random_state=12)\n",
    "rf_sm.fit(X_train_sm, y_train_sm)\n",
    "print('RF, Test accuracy with SMOTE:', rf_sm.score(X_test_std, y_test))\n",
    "print('RF, Test recall with SMOTE:', recall_score(y_test, rf_sm.predict(X_test_std)))"
   ]
  },
  {
   "cell_type": "code",
   "execution_count": null,
   "metadata": {},
   "outputs": [],
   "source": [
    "pm_tst_rf_sm = PerfMatrics(y_actual=y_test,\n",
    "                        X=X_test_std,\n",
    "                        model=rf_sm,\n",
    "                        class_labels=class_labels)\n",
    "\n",
    "pm_tst_rf_sm.print_all_matrics()"
   ]
  },
  {
   "cell_type": "markdown",
   "metadata": {},
   "source": [
    "###### SVM"
   ]
  },
  {
   "cell_type": "code",
   "execution_count": null,
   "metadata": {},
   "outputs": [],
   "source": [
    "1/0"
   ]
  },
  {
   "cell_type": "code",
   "execution_count": null,
   "metadata": {
    "collapsed": true
   },
   "outputs": [],
   "source": [
    "from sklearn import svm\n",
    "help(svm.SVC)"
   ]
  },
  {
   "cell_type": "code",
   "execution_count": null,
   "metadata": {
    "collapsed": true
   },
   "outputs": [],
   "source": [
    "len(X_train_sm)"
   ]
  },
  {
   "cell_type": "code",
   "execution_count": null,
   "metadata": {},
   "outputs": [],
   "source": [
    "from sklearn import svm\n",
    "sv = svm.SVC(kernel='linear', C=1.0, random_state=0, cache_size=7000)\n",
    "sv.fit(X_train_sm, y_train_sm)"
   ]
  },
  {
   "cell_type": "code",
   "execution_count": null,
   "metadata": {
    "collapsed": true
   },
   "outputs": [],
   "source": [
    "pm_tst_svm_sm = PerfMatrics(y_actual=y_test,\n",
    "                        X=X_test_std,\n",
    "                        model=sv_sm,\n",
    "                        class_labels=class_labels)\n",
    "\n",
    "pm_tst_svm_sm.print_all_matrics()"
   ]
  },
  {
   "cell_type": "code",
   "execution_count": null,
   "metadata": {
    "collapsed": true
   },
   "outputs": [],
   "source": []
  },
  {
   "cell_type": "code",
   "execution_count": null,
   "metadata": {
    "collapsed": true
   },
   "outputs": [],
   "source": []
  }
 ],
 "metadata": {
  "kernelspec": {
   "display_name": "Python 3",
   "language": "python",
   "name": "python3"
  },
  "language_info": {
   "codemirror_mode": {
    "name": "ipython",
    "version": 3
   },
   "file_extension": ".py",
   "mimetype": "text/x-python",
   "name": "python",
   "nbconvert_exporter": "python",
   "pygments_lexer": "ipython3",
   "version": "3.6.1"
  }
 },
 "nbformat": 4,
 "nbformat_minor": 2
}
